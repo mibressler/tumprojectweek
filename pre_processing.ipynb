{
 "cells": [
  {
   "cell_type": "markdown",
   "source": [
    "# Load dataset "
   ],
   "metadata": {
    "collapsed": false
   },
   "id": "833564eba4c701a7"
  },
  {
   "cell_type": "code",
   "execution_count": 40,
   "id": "initial_id",
   "metadata": {
    "collapsed": true,
    "ExecuteTime": {
     "end_time": "2024-01-08T09:56:18.846148115Z",
     "start_time": "2024-01-08T09:54:12.435509354Z"
    }
   },
   "outputs": [
    {
     "name": "stdout",
     "output_type": "stream",
     "text": [
      "Requirement already satisfied: numpy in ./venv/lib/python3.11/site-packages (1.26.3)\r\n",
      "Requirement already satisfied: pandas in ./venv/lib/python3.11/site-packages (2.1.4)\r\n",
      "Requirement already satisfied: numpy<2,>=1.23.2 in ./venv/lib/python3.11/site-packages (from pandas) (1.26.3)\r\n",
      "Requirement already satisfied: python-dateutil>=2.8.2 in ./venv/lib/python3.11/site-packages (from pandas) (2.8.2)\r\n",
      "Requirement already satisfied: pytz>=2020.1 in ./venv/lib/python3.11/site-packages (from pandas) (2023.3.post1)\r\n",
      "Requirement already satisfied: tzdata>=2022.1 in ./venv/lib/python3.11/site-packages (from pandas) (2023.4)\r\n",
      "Requirement already satisfied: six>=1.5 in ./venv/lib/python3.11/site-packages (from python-dateutil>=2.8.2->pandas) (1.16.0)\r\n",
      "\u001B[33mWARNING: Retrying (Retry(total=4, connect=None, read=None, redirect=None, status=None)) after connection broken by 'NewConnectionError('<pip._vendor.urllib3.connection.HTTPSConnection object at 0x7f06318597d0>: Failed to establish a new connection: [Errno -3] Temporary failure in name resolution')': /simple/plotly/\u001B[0m\u001B[33m\r\n",
      "\u001B[0m\u001B[33mWARNING: Retrying (Retry(total=3, connect=None, read=None, redirect=None, status=None)) after connection broken by 'NewConnectionError('<pip._vendor.urllib3.connection.HTTPSConnection object at 0x7f063185a550>: Failed to establish a new connection: [Errno -3] Temporary failure in name resolution')': /simple/plotly/\u001B[0m\u001B[33m\r\n",
      "\u001B[0m\u001B[33mWARNING: Retrying (Retry(total=2, connect=None, read=None, redirect=None, status=None)) after connection broken by 'NewConnectionError('<pip._vendor.urllib3.connection.HTTPSConnection object at 0x7f063185aa10>: Failed to establish a new connection: [Errno -3] Temporary failure in name resolution')': /simple/plotly/\u001B[0m\u001B[33m\r\n",
      "\u001B[0m\u001B[33mWARNING: Retrying (Retry(total=1, connect=None, read=None, redirect=None, status=None)) after connection broken by 'NewConnectionError('<pip._vendor.urllib3.connection.HTTPSConnection object at 0x7f063185b490>: Failed to establish a new connection: [Errno -3] Temporary failure in name resolution')': /simple/plotly/\u001B[0m\u001B[33m\r\n",
      "\u001B[0m\u001B[33mWARNING: Retrying (Retry(total=0, connect=None, read=None, redirect=None, status=None)) after connection broken by 'NewConnectionError('<pip._vendor.urllib3.connection.HTTPSConnection object at 0x7f063184c250>: Failed to establish a new connection: [Errno -3] Temporary failure in name resolution')': /simple/plotly/\u001B[0m\u001B[33m\r\n",
      "\u001B[0mCollecting plotly\r\n",
      "  Downloading plotly-5.18.0-py3-none-any.whl.metadata (7.0 kB)\r\n",
      "Collecting tenacity>=6.2.0 (from plotly)\r\n",
      "  Downloading tenacity-8.2.3-py3-none-any.whl.metadata (1.0 kB)\r\n",
      "Requirement already satisfied: packaging in ./venv/lib/python3.11/site-packages (from plotly) (23.2)\r\n",
      "Downloading plotly-5.18.0-py3-none-any.whl (15.6 MB)\r\n",
      "\u001B[2K   \u001B[90m━━━━━━━━━━━━━━━━━━━━━━━━━━━━━━━━━━━━━━━━\u001B[0m \u001B[32m15.6/15.6 MB\u001B[0m \u001B[31m9.1 MB/s\u001B[0m eta \u001B[36m0:00:00\u001B[0m00:01\u001B[0m00:01\u001B[0m\r\n",
      "\u001B[?25hDownloading tenacity-8.2.3-py3-none-any.whl (24 kB)\r\n",
      "Installing collected packages: tenacity, plotly\r\n",
      "Successfully installed plotly-5.18.0 tenacity-8.2.3\r\n"
     ]
    }
   ],
   "source": [
    "from pathlib import Path\n",
    "!pip install numpy\n",
    "import numpy as np\n",
    "!pip install pandas\n",
    "import pandas as pd\n",
    "!pip install plotly\n",
    "import plotly.express as px"
   ]
  },
  {
   "cell_type": "code",
   "outputs": [
    {
     "data": {
      "text/plain": "          file_id  user_id  subforum_id  num_contexts   hate\n0      12834217_1   572066         1346             0  False\n1      12834217_2   572066         1346             0  False\n2      12834217_3   572066         1346             0  False\n3      12834217_4   572066         1346             0   True\n4      12834217_5   572066         1346             0  False\n...           ...      ...          ...           ...    ...\n10939  33676864_5   734541         1388             0  False\n10940  33677019_1   735154         1388             0  False\n10941  33677019_2   735154         1388             0  False\n10942  33677053_1   572266         1388             0   True\n10943  33677053_2   572266         1388             0  False\n\n[10703 rows x 5 columns]",
      "text/html": "<div>\n<style scoped>\n    .dataframe tbody tr th:only-of-type {\n        vertical-align: middle;\n    }\n\n    .dataframe tbody tr th {\n        vertical-align: top;\n    }\n\n    .dataframe thead th {\n        text-align: right;\n    }\n</style>\n<table border=\"1\" class=\"dataframe\">\n  <thead>\n    <tr style=\"text-align: right;\">\n      <th></th>\n      <th>file_id</th>\n      <th>user_id</th>\n      <th>subforum_id</th>\n      <th>num_contexts</th>\n      <th>hate</th>\n    </tr>\n  </thead>\n  <tbody>\n    <tr>\n      <th>0</th>\n      <td>12834217_1</td>\n      <td>572066</td>\n      <td>1346</td>\n      <td>0</td>\n      <td>False</td>\n    </tr>\n    <tr>\n      <th>1</th>\n      <td>12834217_2</td>\n      <td>572066</td>\n      <td>1346</td>\n      <td>0</td>\n      <td>False</td>\n    </tr>\n    <tr>\n      <th>2</th>\n      <td>12834217_3</td>\n      <td>572066</td>\n      <td>1346</td>\n      <td>0</td>\n      <td>False</td>\n    </tr>\n    <tr>\n      <th>3</th>\n      <td>12834217_4</td>\n      <td>572066</td>\n      <td>1346</td>\n      <td>0</td>\n      <td>True</td>\n    </tr>\n    <tr>\n      <th>4</th>\n      <td>12834217_5</td>\n      <td>572066</td>\n      <td>1346</td>\n      <td>0</td>\n      <td>False</td>\n    </tr>\n    <tr>\n      <th>...</th>\n      <td>...</td>\n      <td>...</td>\n      <td>...</td>\n      <td>...</td>\n      <td>...</td>\n    </tr>\n    <tr>\n      <th>10939</th>\n      <td>33676864_5</td>\n      <td>734541</td>\n      <td>1388</td>\n      <td>0</td>\n      <td>False</td>\n    </tr>\n    <tr>\n      <th>10940</th>\n      <td>33677019_1</td>\n      <td>735154</td>\n      <td>1388</td>\n      <td>0</td>\n      <td>False</td>\n    </tr>\n    <tr>\n      <th>10941</th>\n      <td>33677019_2</td>\n      <td>735154</td>\n      <td>1388</td>\n      <td>0</td>\n      <td>False</td>\n    </tr>\n    <tr>\n      <th>10942</th>\n      <td>33677053_1</td>\n      <td>572266</td>\n      <td>1388</td>\n      <td>0</td>\n      <td>True</td>\n    </tr>\n    <tr>\n      <th>10943</th>\n      <td>33677053_2</td>\n      <td>572266</td>\n      <td>1388</td>\n      <td>0</td>\n      <td>False</td>\n    </tr>\n  </tbody>\n</table>\n<p>10703 rows × 5 columns</p>\n</div>"
     },
     "execution_count": 35,
     "metadata": {},
     "output_type": "execute_result"
    }
   ],
   "source": [
    "df=pd.read_csv(\"annotations_metadata.csv\")\n",
    "df= df[df['label'] != \"idk/skip\"] # mostly unrelated garbage (chinese text, non-sentences)\n",
    "df= df[df['label'] != \"relation\"] \n",
    "df[\"hate\"] = df[\"label\"].map({'noHate': False, 'hate': True})\n",
    "df=df.drop(columns=['label'])\n",
    "df"
   ],
   "metadata": {
    "collapsed": false,
    "ExecuteTime": {
     "end_time": "2024-01-08T09:49:36.810118191Z",
     "start_time": "2024-01-08T09:49:36.789802683Z"
    }
   },
   "id": "27b6e8bba5b7ebc4",
   "execution_count": 35
  },
  {
   "cell_type": "code",
   "outputs": [],
   "source": [
    "from pathlib import Path\n",
    "BASE_PATH = Path().parent.absolute()\n",
    "def retrieve_text(file_id:str):\n",
    "    filename=file_id+\".txt\"\n",
    "    with open(BASE_PATH / \"all_files\"/filename) as f:\n",
    "        return f.read()\n",
    "def is_train(file_id:str):\n",
    "    filename=file_id+\".txt\"\n",
    "    return (BASE_PATH /\"sampled_train\"/filename).exists()\n",
    "def is_test(file_id:str):\n",
    "    filename=file_id+\".txt\"\n",
    "    return (BASE_PATH /\"sampled_test\"/filename).exists()\n",
    "\n",
    "df[\"text\"] = df[\"file_id\"].apply(retrieve_text)\n",
    "df[\"train\"] = df[\"file_id\"].apply(is_train)\n",
    "df[\"test\"] = df[\"file_id\"].apply(is_test)"
   ],
   "metadata": {
    "collapsed": false,
    "ExecuteTime": {
     "end_time": "2024-01-08T09:49:54.463442982Z",
     "start_time": "2024-01-08T09:49:54.259329019Z"
    }
   },
   "id": "c36220da333bfd95",
   "execution_count": 36
  },
  {
   "cell_type": "markdown",
   "source": [],
   "metadata": {
    "collapsed": false
   },
   "id": "cc96fd04b81ece3d"
  },
  {
   "cell_type": "code",
   "outputs": [
    {
     "data": {
      "text/plain": "          file_id  user_id  subforum_id  num_contexts   hate  \\\n0      12834217_1   572066         1346             0  False   \n1      12834217_2   572066         1346             0  False   \n2      12834217_3   572066         1346             0  False   \n3      12834217_4   572066         1346             0   True   \n4      12834217_5   572066         1346             0  False   \n...           ...      ...          ...           ...    ...   \n10939  33676864_5   734541         1388             0  False   \n10940  33677019_1   735154         1388             0  False   \n10941  33677019_2   735154         1388             0  False   \n10942  33677053_1   572266         1388             0   True   \n10943  33677053_2   572266         1388             0  False   \n\n                                                    text  train   test  \n0      As of March 13th , 2014 , the booklet had been...  False  False  \n1      In order to help increase the booklets downloa...   True  False  \n2      ( Simply copy and paste the following text int...  False  False  \n3      Click below for a FREE download of a colorfull...   True  False  \n4      Click on the `` DOWNLOAD ( 7.42 MB ) '' green ...  False  False  \n...                                                  ...    ...    ...  \n10939  Billy - `` That guy would n't leave me alone ,...  False  False  \n10940  Wish we at least had a Marine Le Pen to vote f...  False  False  \n10941  Its like the choices are white genocide candid...  False  False  \n10942  Why White people used to say that sex was a si...   True  False  \n10943                                     Now I get it !  False   True  \n\n[10703 rows x 8 columns]",
      "text/html": "<div>\n<style scoped>\n    .dataframe tbody tr th:only-of-type {\n        vertical-align: middle;\n    }\n\n    .dataframe tbody tr th {\n        vertical-align: top;\n    }\n\n    .dataframe thead th {\n        text-align: right;\n    }\n</style>\n<table border=\"1\" class=\"dataframe\">\n  <thead>\n    <tr style=\"text-align: right;\">\n      <th></th>\n      <th>file_id</th>\n      <th>user_id</th>\n      <th>subforum_id</th>\n      <th>num_contexts</th>\n      <th>hate</th>\n      <th>text</th>\n      <th>train</th>\n      <th>test</th>\n    </tr>\n  </thead>\n  <tbody>\n    <tr>\n      <th>0</th>\n      <td>12834217_1</td>\n      <td>572066</td>\n      <td>1346</td>\n      <td>0</td>\n      <td>False</td>\n      <td>As of March 13th , 2014 , the booklet had been...</td>\n      <td>False</td>\n      <td>False</td>\n    </tr>\n    <tr>\n      <th>1</th>\n      <td>12834217_2</td>\n      <td>572066</td>\n      <td>1346</td>\n      <td>0</td>\n      <td>False</td>\n      <td>In order to help increase the booklets downloa...</td>\n      <td>True</td>\n      <td>False</td>\n    </tr>\n    <tr>\n      <th>2</th>\n      <td>12834217_3</td>\n      <td>572066</td>\n      <td>1346</td>\n      <td>0</td>\n      <td>False</td>\n      <td>( Simply copy and paste the following text int...</td>\n      <td>False</td>\n      <td>False</td>\n    </tr>\n    <tr>\n      <th>3</th>\n      <td>12834217_4</td>\n      <td>572066</td>\n      <td>1346</td>\n      <td>0</td>\n      <td>True</td>\n      <td>Click below for a FREE download of a colorfull...</td>\n      <td>True</td>\n      <td>False</td>\n    </tr>\n    <tr>\n      <th>4</th>\n      <td>12834217_5</td>\n      <td>572066</td>\n      <td>1346</td>\n      <td>0</td>\n      <td>False</td>\n      <td>Click on the `` DOWNLOAD ( 7.42 MB ) '' green ...</td>\n      <td>False</td>\n      <td>False</td>\n    </tr>\n    <tr>\n      <th>...</th>\n      <td>...</td>\n      <td>...</td>\n      <td>...</td>\n      <td>...</td>\n      <td>...</td>\n      <td>...</td>\n      <td>...</td>\n      <td>...</td>\n    </tr>\n    <tr>\n      <th>10939</th>\n      <td>33676864_5</td>\n      <td>734541</td>\n      <td>1388</td>\n      <td>0</td>\n      <td>False</td>\n      <td>Billy - `` That guy would n't leave me alone ,...</td>\n      <td>False</td>\n      <td>False</td>\n    </tr>\n    <tr>\n      <th>10940</th>\n      <td>33677019_1</td>\n      <td>735154</td>\n      <td>1388</td>\n      <td>0</td>\n      <td>False</td>\n      <td>Wish we at least had a Marine Le Pen to vote f...</td>\n      <td>False</td>\n      <td>False</td>\n    </tr>\n    <tr>\n      <th>10941</th>\n      <td>33677019_2</td>\n      <td>735154</td>\n      <td>1388</td>\n      <td>0</td>\n      <td>False</td>\n      <td>Its like the choices are white genocide candid...</td>\n      <td>False</td>\n      <td>False</td>\n    </tr>\n    <tr>\n      <th>10942</th>\n      <td>33677053_1</td>\n      <td>572266</td>\n      <td>1388</td>\n      <td>0</td>\n      <td>True</td>\n      <td>Why White people used to say that sex was a si...</td>\n      <td>True</td>\n      <td>False</td>\n    </tr>\n    <tr>\n      <th>10943</th>\n      <td>33677053_2</td>\n      <td>572266</td>\n      <td>1388</td>\n      <td>0</td>\n      <td>False</td>\n      <td>Now I get it !</td>\n      <td>False</td>\n      <td>True</td>\n    </tr>\n  </tbody>\n</table>\n<p>10703 rows × 8 columns</p>\n</div>"
     },
     "execution_count": 38,
     "metadata": {},
     "output_type": "execute_result"
    }
   ],
   "source": [
    "df"
   ],
   "metadata": {
    "collapsed": false,
    "ExecuteTime": {
     "end_time": "2024-01-08T09:50:24.919719507Z",
     "start_time": "2024-01-08T09:50:24.916870325Z"
    }
   },
   "id": "b8a214390b505740",
   "execution_count": 38
  },
  {
   "cell_type": "code",
   "outputs": [
    {
     "data": {
      "text/plain": "      user_id   hate  Count\n0      572033  False      3\n1      572033   True      1\n2      572036  False      1\n3      572037   True      3\n4      572041  False      2\n...       ...    ...    ...\n3353   760015  False      1\n3354   775309  False      1\n3355   775309   True      1\n3356   790048  False      3\n3357   796449  False      3\n\n[3358 rows x 3 columns]",
      "text/html": "<div>\n<style scoped>\n    .dataframe tbody tr th:only-of-type {\n        vertical-align: middle;\n    }\n\n    .dataframe tbody tr th {\n        vertical-align: top;\n    }\n\n    .dataframe thead th {\n        text-align: right;\n    }\n</style>\n<table border=\"1\" class=\"dataframe\">\n  <thead>\n    <tr style=\"text-align: right;\">\n      <th></th>\n      <th>user_id</th>\n      <th>hate</th>\n      <th>Count</th>\n    </tr>\n  </thead>\n  <tbody>\n    <tr>\n      <th>0</th>\n      <td>572033</td>\n      <td>False</td>\n      <td>3</td>\n    </tr>\n    <tr>\n      <th>1</th>\n      <td>572033</td>\n      <td>True</td>\n      <td>1</td>\n    </tr>\n    <tr>\n      <th>2</th>\n      <td>572036</td>\n      <td>False</td>\n      <td>1</td>\n    </tr>\n    <tr>\n      <th>3</th>\n      <td>572037</td>\n      <td>True</td>\n      <td>3</td>\n    </tr>\n    <tr>\n      <th>4</th>\n      <td>572041</td>\n      <td>False</td>\n      <td>2</td>\n    </tr>\n    <tr>\n      <th>...</th>\n      <td>...</td>\n      <td>...</td>\n      <td>...</td>\n    </tr>\n    <tr>\n      <th>3353</th>\n      <td>760015</td>\n      <td>False</td>\n      <td>1</td>\n    </tr>\n    <tr>\n      <th>3354</th>\n      <td>775309</td>\n      <td>False</td>\n      <td>1</td>\n    </tr>\n    <tr>\n      <th>3355</th>\n      <td>775309</td>\n      <td>True</td>\n      <td>1</td>\n    </tr>\n    <tr>\n      <th>3356</th>\n      <td>790048</td>\n      <td>False</td>\n      <td>3</td>\n    </tr>\n    <tr>\n      <th>3357</th>\n      <td>796449</td>\n      <td>False</td>\n      <td>3</td>\n    </tr>\n  </tbody>\n</table>\n<p>3358 rows × 3 columns</p>\n</div>"
     },
     "execution_count": 44,
     "metadata": {},
     "output_type": "execute_result"
    }
   ],
   "source": [
    "df_grouped = df.groupby([\"user_id\"]).size().reset_index(name='Count')"
   ],
   "metadata": {
    "collapsed": false,
    "ExecuteTime": {
     "end_time": "2024-01-08T09:57:11.060071739Z",
     "start_time": "2024-01-08T09:57:11.046125855Z"
    }
   },
   "id": "fc168173d4abc84",
   "execution_count": 44
  }
 ],
 "metadata": {
  "kernelspec": {
   "display_name": "Python 3",
   "language": "python",
   "name": "python3"
  },
  "language_info": {
   "codemirror_mode": {
    "name": "ipython",
    "version": 2
   },
   "file_extension": ".py",
   "mimetype": "text/x-python",
   "name": "python",
   "nbconvert_exporter": "python",
   "pygments_lexer": "ipython2",
   "version": "2.7.6"
  }
 },
 "nbformat": 4,
 "nbformat_minor": 5
}
