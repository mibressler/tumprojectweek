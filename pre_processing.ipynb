{
 "cells": [
  {
   "cell_type": "markdown",
   "id": "833564eba4c701a7",
   "metadata": {
    "collapsed": false
   },
   "source": [
    "# Load dataset "
   ]
  },
  {
   "cell_type": "code",
   "execution_count": 4,
   "id": "initial_id",
   "metadata": {
    "ExecuteTime": {
     "end_time": "2024-01-08T09:56:18.846148115Z",
     "start_time": "2024-01-08T09:54:12.435509354Z"
    },
    "collapsed": true
   },
   "outputs": [
    {
     "name": "stdout",
     "output_type": "stream",
     "text": [
      "Defaulting to user installation because normal site-packages is not writeable\n",
      "Requirement already satisfied: numpy in c:\\program files\\python310\\lib\\site-packages (1.22.0)\n"
     ]
    },
    {
     "name": "stderr",
     "output_type": "stream",
     "text": [
      "\n",
      "[notice] A new release of pip is available: 23.3.1 -> 23.3.2\n",
      "[notice] To update, run: python.exe -m pip install --upgrade pip\n"
     ]
    },
    {
     "name": "stdout",
     "output_type": "stream",
     "text": [
      "Defaulting to user installation because normal site-packages is not writeable\n",
      "Requirement already satisfied: pandas in c:\\program files\\python310\\lib\\site-packages (1.3.5)\n",
      "Requirement already satisfied: python-dateutil>=2.7.3 in c:\\users\\michi\\appdata\\roaming\\python\\python310\\site-packages (from pandas) (2.8.2)\n",
      "Requirement already satisfied: pytz>=2017.3 in c:\\program files\\python310\\lib\\site-packages (from pandas) (2021.3)\n",
      "Requirement already satisfied: numpy>=1.21.0 in c:\\program files\\python310\\lib\\site-packages (from pandas) (1.22.0)\n",
      "Requirement already satisfied: six>=1.5 in c:\\users\\michi\\appdata\\roaming\\python\\python310\\site-packages (from python-dateutil>=2.7.3->pandas) (1.16.0)\n"
     ]
    },
    {
     "name": "stderr",
     "output_type": "stream",
     "text": [
      "\n",
      "[notice] A new release of pip is available: 23.3.1 -> 23.3.2\n",
      "[notice] To update, run: python.exe -m pip install --upgrade pip\n"
     ]
    },
    {
     "name": "stdout",
     "output_type": "stream",
     "text": [
      "Defaulting to user installation because normal site-packages is not writeable\n",
      "Requirement already satisfied: plotly in c:\\users\\michi\\appdata\\roaming\\python\\python310\\site-packages (5.18.0)\n",
      "Requirement already satisfied: tenacity>=6.2.0 in c:\\users\\michi\\appdata\\roaming\\python\\python310\\site-packages (from plotly) (8.2.3)\n",
      "Requirement already satisfied: packaging in c:\\program files\\python310\\lib\\site-packages (from plotly) (21.3)\n",
      "Requirement already satisfied: pyparsing!=3.0.5,>=2.0.2 in c:\\program files\\python310\\lib\\site-packages (from packaging->plotly) (3.0.7)\n"
     ]
    },
    {
     "name": "stderr",
     "output_type": "stream",
     "text": [
      "\n",
      "[notice] A new release of pip is available: 23.3.1 -> 23.3.2\n",
      "[notice] To update, run: python.exe -m pip install --upgrade pip\n"
     ]
    }
   ],
   "source": [
    "from pathlib import Path\n",
    "!pip install numpy\n",
    "import numpy as np\n",
    "!pip install pandas\n",
    "import pandas as pd\n",
    "!pip install plotly\n",
    "import plotly.express as px"
   ]
  },
  {
   "cell_type": "code",
   "execution_count": 5,
   "id": "27b6e8bba5b7ebc4",
   "metadata": {
    "ExecuteTime": {
     "end_time": "2024-01-08T09:49:36.810118191Z",
     "start_time": "2024-01-08T09:49:36.789802683Z"
    },
    "collapsed": false
   },
   "outputs": [
    {
     "data": {
      "text/html": [
       "<div>\n",
       "<style scoped>\n",
       "    .dataframe tbody tr th:only-of-type {\n",
       "        vertical-align: middle;\n",
       "    }\n",
       "\n",
       "    .dataframe tbody tr th {\n",
       "        vertical-align: top;\n",
       "    }\n",
       "\n",
       "    .dataframe thead th {\n",
       "        text-align: right;\n",
       "    }\n",
       "</style>\n",
       "<table border=\"1\" class=\"dataframe\">\n",
       "  <thead>\n",
       "    <tr style=\"text-align: right;\">\n",
       "      <th></th>\n",
       "      <th>file_id</th>\n",
       "      <th>user_id</th>\n",
       "      <th>subforum_id</th>\n",
       "      <th>num_contexts</th>\n",
       "      <th>hate</th>\n",
       "    </tr>\n",
       "  </thead>\n",
       "  <tbody>\n",
       "    <tr>\n",
       "      <th>0</th>\n",
       "      <td>12834217_1</td>\n",
       "      <td>572066</td>\n",
       "      <td>1346</td>\n",
       "      <td>0</td>\n",
       "      <td>False</td>\n",
       "    </tr>\n",
       "    <tr>\n",
       "      <th>1</th>\n",
       "      <td>12834217_2</td>\n",
       "      <td>572066</td>\n",
       "      <td>1346</td>\n",
       "      <td>0</td>\n",
       "      <td>False</td>\n",
       "    </tr>\n",
       "    <tr>\n",
       "      <th>2</th>\n",
       "      <td>12834217_3</td>\n",
       "      <td>572066</td>\n",
       "      <td>1346</td>\n",
       "      <td>0</td>\n",
       "      <td>False</td>\n",
       "    </tr>\n",
       "    <tr>\n",
       "      <th>3</th>\n",
       "      <td>12834217_4</td>\n",
       "      <td>572066</td>\n",
       "      <td>1346</td>\n",
       "      <td>0</td>\n",
       "      <td>True</td>\n",
       "    </tr>\n",
       "    <tr>\n",
       "      <th>4</th>\n",
       "      <td>12834217_5</td>\n",
       "      <td>572066</td>\n",
       "      <td>1346</td>\n",
       "      <td>0</td>\n",
       "      <td>False</td>\n",
       "    </tr>\n",
       "    <tr>\n",
       "      <th>...</th>\n",
       "      <td>...</td>\n",
       "      <td>...</td>\n",
       "      <td>...</td>\n",
       "      <td>...</td>\n",
       "      <td>...</td>\n",
       "    </tr>\n",
       "    <tr>\n",
       "      <th>10939</th>\n",
       "      <td>33676864_5</td>\n",
       "      <td>734541</td>\n",
       "      <td>1388</td>\n",
       "      <td>0</td>\n",
       "      <td>False</td>\n",
       "    </tr>\n",
       "    <tr>\n",
       "      <th>10940</th>\n",
       "      <td>33677019_1</td>\n",
       "      <td>735154</td>\n",
       "      <td>1388</td>\n",
       "      <td>0</td>\n",
       "      <td>False</td>\n",
       "    </tr>\n",
       "    <tr>\n",
       "      <th>10941</th>\n",
       "      <td>33677019_2</td>\n",
       "      <td>735154</td>\n",
       "      <td>1388</td>\n",
       "      <td>0</td>\n",
       "      <td>False</td>\n",
       "    </tr>\n",
       "    <tr>\n",
       "      <th>10942</th>\n",
       "      <td>33677053_1</td>\n",
       "      <td>572266</td>\n",
       "      <td>1388</td>\n",
       "      <td>0</td>\n",
       "      <td>True</td>\n",
       "    </tr>\n",
       "    <tr>\n",
       "      <th>10943</th>\n",
       "      <td>33677053_2</td>\n",
       "      <td>572266</td>\n",
       "      <td>1388</td>\n",
       "      <td>0</td>\n",
       "      <td>False</td>\n",
       "    </tr>\n",
       "  </tbody>\n",
       "</table>\n",
       "<p>10703 rows × 5 columns</p>\n",
       "</div>"
      ],
      "text/plain": [
       "          file_id  user_id  subforum_id  num_contexts   hate\n",
       "0      12834217_1   572066         1346             0  False\n",
       "1      12834217_2   572066         1346             0  False\n",
       "2      12834217_3   572066         1346             0  False\n",
       "3      12834217_4   572066         1346             0   True\n",
       "4      12834217_5   572066         1346             0  False\n",
       "...           ...      ...          ...           ...    ...\n",
       "10939  33676864_5   734541         1388             0  False\n",
       "10940  33677019_1   735154         1388             0  False\n",
       "10941  33677019_2   735154         1388             0  False\n",
       "10942  33677053_1   572266         1388             0   True\n",
       "10943  33677053_2   572266         1388             0  False\n",
       "\n",
       "[10703 rows x 5 columns]"
      ]
     },
     "execution_count": 5,
     "metadata": {},
     "output_type": "execute_result"
    }
   ],
   "source": [
    "df=pd.read_csv(\"annotations_metadata.csv\")\n",
    "df= df[df['label'] != \"idk/skip\"] # mostly unrelated garbage (chinese text, non-sentences)\n",
    "df= df[df['label'] != \"relation\"] \n",
    "df[\"hate\"] = df[\"label\"].map({'noHate': False, 'hate': True})\n",
    "df=df.drop(columns=['label'])\n",
    "df"
   ]
  },
  {
   "cell_type": "code",
   "execution_count": 7,
   "id": "c36220da333bfd95",
   "metadata": {
    "ExecuteTime": {
     "end_time": "2024-01-08T09:49:54.463442982Z",
     "start_time": "2024-01-08T09:49:54.259329019Z"
    },
    "collapsed": false
   },
   "outputs": [],
   "source": [
    "from pathlib import Path\n",
    "BASE_PATH = Path().parent.absolute()\n",
    "def retrieve_text(file_id:str):\n",
    "    filename=file_id+\".txt\"\n",
    "    with open(BASE_PATH / \"all_files\"/filename, encoding='utf-8') as f:\n",
    "        return f.read()\n",
    "def is_train(file_id:str):\n",
    "    filename=file_id+\".txt\"\n",
    "    return (BASE_PATH /\"sampled_train\"/filename).exists()\n",
    "def is_test(file_id:str):\n",
    "    filename=file_id+\".txt\"\n",
    "    return (BASE_PATH /\"sampled_test\"/filename).exists()\n",
    "\n",
    "df[\"text\"] = df[\"file_id\"].apply(retrieve_text)\n",
    "df[\"train\"] = df[\"file_id\"].apply(is_train)\n",
    "df[\"test\"] = df[\"file_id\"].apply(is_test)"
   ]
  },
  {
   "cell_type": "markdown",
   "id": "cc96fd04b81ece3d",
   "metadata": {
    "collapsed": false
   },
   "source": []
  },
  {
   "cell_type": "code",
   "execution_count": 8,
   "id": "b8a214390b505740",
   "metadata": {
    "ExecuteTime": {
     "end_time": "2024-01-08T09:50:24.919719507Z",
     "start_time": "2024-01-08T09:50:24.916870325Z"
    },
    "collapsed": false
   },
   "outputs": [
    {
     "data": {
      "text/html": [
       "<div>\n",
       "<style scoped>\n",
       "    .dataframe tbody tr th:only-of-type {\n",
       "        vertical-align: middle;\n",
       "    }\n",
       "\n",
       "    .dataframe tbody tr th {\n",
       "        vertical-align: top;\n",
       "    }\n",
       "\n",
       "    .dataframe thead th {\n",
       "        text-align: right;\n",
       "    }\n",
       "</style>\n",
       "<table border=\"1\" class=\"dataframe\">\n",
       "  <thead>\n",
       "    <tr style=\"text-align: right;\">\n",
       "      <th></th>\n",
       "      <th>file_id</th>\n",
       "      <th>user_id</th>\n",
       "      <th>subforum_id</th>\n",
       "      <th>num_contexts</th>\n",
       "      <th>hate</th>\n",
       "      <th>text</th>\n",
       "      <th>train</th>\n",
       "      <th>test</th>\n",
       "    </tr>\n",
       "  </thead>\n",
       "  <tbody>\n",
       "    <tr>\n",
       "      <th>0</th>\n",
       "      <td>12834217_1</td>\n",
       "      <td>572066</td>\n",
       "      <td>1346</td>\n",
       "      <td>0</td>\n",
       "      <td>False</td>\n",
       "      <td>As of March 13th , 2014 , the booklet had been...</td>\n",
       "      <td>False</td>\n",
       "      <td>False</td>\n",
       "    </tr>\n",
       "    <tr>\n",
       "      <th>1</th>\n",
       "      <td>12834217_2</td>\n",
       "      <td>572066</td>\n",
       "      <td>1346</td>\n",
       "      <td>0</td>\n",
       "      <td>False</td>\n",
       "      <td>In order to help increase the booklets downloa...</td>\n",
       "      <td>True</td>\n",
       "      <td>False</td>\n",
       "    </tr>\n",
       "    <tr>\n",
       "      <th>2</th>\n",
       "      <td>12834217_3</td>\n",
       "      <td>572066</td>\n",
       "      <td>1346</td>\n",
       "      <td>0</td>\n",
       "      <td>False</td>\n",
       "      <td>( Simply copy and paste the following text int...</td>\n",
       "      <td>False</td>\n",
       "      <td>False</td>\n",
       "    </tr>\n",
       "    <tr>\n",
       "      <th>3</th>\n",
       "      <td>12834217_4</td>\n",
       "      <td>572066</td>\n",
       "      <td>1346</td>\n",
       "      <td>0</td>\n",
       "      <td>True</td>\n",
       "      <td>Click below for a FREE download of a colorfull...</td>\n",
       "      <td>True</td>\n",
       "      <td>False</td>\n",
       "    </tr>\n",
       "    <tr>\n",
       "      <th>4</th>\n",
       "      <td>12834217_5</td>\n",
       "      <td>572066</td>\n",
       "      <td>1346</td>\n",
       "      <td>0</td>\n",
       "      <td>False</td>\n",
       "      <td>Click on the `` DOWNLOAD ( 7.42 MB ) '' green ...</td>\n",
       "      <td>False</td>\n",
       "      <td>False</td>\n",
       "    </tr>\n",
       "    <tr>\n",
       "      <th>...</th>\n",
       "      <td>...</td>\n",
       "      <td>...</td>\n",
       "      <td>...</td>\n",
       "      <td>...</td>\n",
       "      <td>...</td>\n",
       "      <td>...</td>\n",
       "      <td>...</td>\n",
       "      <td>...</td>\n",
       "    </tr>\n",
       "    <tr>\n",
       "      <th>10939</th>\n",
       "      <td>33676864_5</td>\n",
       "      <td>734541</td>\n",
       "      <td>1388</td>\n",
       "      <td>0</td>\n",
       "      <td>False</td>\n",
       "      <td>Billy - `` That guy would n't leave me alone ,...</td>\n",
       "      <td>False</td>\n",
       "      <td>False</td>\n",
       "    </tr>\n",
       "    <tr>\n",
       "      <th>10940</th>\n",
       "      <td>33677019_1</td>\n",
       "      <td>735154</td>\n",
       "      <td>1388</td>\n",
       "      <td>0</td>\n",
       "      <td>False</td>\n",
       "      <td>Wish we at least had a Marine Le Pen to vote f...</td>\n",
       "      <td>False</td>\n",
       "      <td>False</td>\n",
       "    </tr>\n",
       "    <tr>\n",
       "      <th>10941</th>\n",
       "      <td>33677019_2</td>\n",
       "      <td>735154</td>\n",
       "      <td>1388</td>\n",
       "      <td>0</td>\n",
       "      <td>False</td>\n",
       "      <td>Its like the choices are white genocide candid...</td>\n",
       "      <td>False</td>\n",
       "      <td>False</td>\n",
       "    </tr>\n",
       "    <tr>\n",
       "      <th>10942</th>\n",
       "      <td>33677053_1</td>\n",
       "      <td>572266</td>\n",
       "      <td>1388</td>\n",
       "      <td>0</td>\n",
       "      <td>True</td>\n",
       "      <td>Why White people used to say that sex was a si...</td>\n",
       "      <td>True</td>\n",
       "      <td>False</td>\n",
       "    </tr>\n",
       "    <tr>\n",
       "      <th>10943</th>\n",
       "      <td>33677053_2</td>\n",
       "      <td>572266</td>\n",
       "      <td>1388</td>\n",
       "      <td>0</td>\n",
       "      <td>False</td>\n",
       "      <td>Now I get it !</td>\n",
       "      <td>False</td>\n",
       "      <td>True</td>\n",
       "    </tr>\n",
       "  </tbody>\n",
       "</table>\n",
       "<p>10703 rows × 8 columns</p>\n",
       "</div>"
      ],
      "text/plain": [
       "          file_id  user_id  subforum_id  num_contexts   hate  \\\n",
       "0      12834217_1   572066         1346             0  False   \n",
       "1      12834217_2   572066         1346             0  False   \n",
       "2      12834217_3   572066         1346             0  False   \n",
       "3      12834217_4   572066         1346             0   True   \n",
       "4      12834217_5   572066         1346             0  False   \n",
       "...           ...      ...          ...           ...    ...   \n",
       "10939  33676864_5   734541         1388             0  False   \n",
       "10940  33677019_1   735154         1388             0  False   \n",
       "10941  33677019_2   735154         1388             0  False   \n",
       "10942  33677053_1   572266         1388             0   True   \n",
       "10943  33677053_2   572266         1388             0  False   \n",
       "\n",
       "                                                    text  train   test  \n",
       "0      As of March 13th , 2014 , the booklet had been...  False  False  \n",
       "1      In order to help increase the booklets downloa...   True  False  \n",
       "2      ( Simply copy and paste the following text int...  False  False  \n",
       "3      Click below for a FREE download of a colorfull...   True  False  \n",
       "4      Click on the `` DOWNLOAD ( 7.42 MB ) '' green ...  False  False  \n",
       "...                                                  ...    ...    ...  \n",
       "10939  Billy - `` That guy would n't leave me alone ,...  False  False  \n",
       "10940  Wish we at least had a Marine Le Pen to vote f...  False  False  \n",
       "10941  Its like the choices are white genocide candid...  False  False  \n",
       "10942  Why White people used to say that sex was a si...   True  False  \n",
       "10943                                     Now I get it !  False   True  \n",
       "\n",
       "[10703 rows x 8 columns]"
      ]
     },
     "execution_count": 8,
     "metadata": {},
     "output_type": "execute_result"
    }
   ],
   "source": [
    "df"
   ]
  },
  {
   "cell_type": "code",
   "execution_count": 9,
   "id": "fc168173d4abc84",
   "metadata": {
    "ExecuteTime": {
     "end_time": "2024-01-08T09:57:11.060071739Z",
     "start_time": "2024-01-08T09:57:11.046125855Z"
    },
    "collapsed": false
   },
   "outputs": [],
   "source": [
    "df_grouped = df.groupby([\"user_id\"]).size().reset_index(name='Count')"
   ]
  },
  {
   "cell_type": "code",
   "execution_count": null,
   "id": "2098bab1",
   "metadata": {},
   "outputs": [],
   "source": [
    "## Dump\n",
    "df.to_csv(\"all_data.csv\")"
   ]
  }
 ],
 "metadata": {
  "kernelspec": {
   "display_name": "Python 3",
   "language": "python",
   "name": "python3"
  },
  "language_info": {
   "codemirror_mode": {
    "name": "ipython",
    "version": 3
   },
   "file_extension": ".py",
   "mimetype": "text/x-python",
   "name": "python",
   "nbconvert_exporter": "python",
   "pygments_lexer": "ipython3",
   "version": "3.10.8"
  }
 },
 "nbformat": 4,
 "nbformat_minor": 5
}
