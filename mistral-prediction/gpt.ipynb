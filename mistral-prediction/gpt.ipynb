{
 "cells": [
  {
   "cell_type": "code",
   "execution_count": 2,
   "id": "initial_id",
   "metadata": {
    "ExecuteTime": {
     "end_time": "2024-01-08T12:17:42.380091051Z",
     "start_time": "2024-01-08T12:17:33.217143789Z"
    },
    "collapsed": true
   },
   "outputs": [
    {
     "name": "stdout",
     "output_type": "stream",
     "text": [
      "Defaulting to user installation because normal site-packages is not writeable\n",
      "Requirement already satisfied: numpy in c:\\program files\\python310\\lib\\site-packages (1.22.0)\n"
     ]
    },
    {
     "name": "stderr",
     "output_type": "stream",
     "text": [
      "\n",
      "[notice] A new release of pip is available: 23.3.1 -> 23.3.2\n",
      "[notice] To update, run: python.exe -m pip install --upgrade pip\n"
     ]
    },
    {
     "name": "stdout",
     "output_type": "stream",
     "text": [
      "Defaulting to user installation because normal site-packages is not writeable"
     ]
    },
    {
     "name": "stderr",
     "output_type": "stream",
     "text": [
      "\n",
      "[notice] A new release of pip is available: 23.3.1 -> 23.3.2\n",
      "[notice] To update, run: python.exe -m pip install --upgrade pip\n"
     ]
    },
    {
     "name": "stdout",
     "output_type": "stream",
     "text": [
      "\n",
      "Requirement already satisfied: pandas in c:\\program files\\python310\\lib\\site-packages (1.3.5)\n",
      "Requirement already satisfied: python-dateutil>=2.7.3 in c:\\users\\michi\\appdata\\roaming\\python\\python310\\site-packages (from pandas) (2.8.2)\n",
      "Requirement already satisfied: pytz>=2017.3 in c:\\program files\\python310\\lib\\site-packages (from pandas) (2021.3)\n",
      "Requirement already satisfied: numpy>=1.21.0 in c:\\program files\\python310\\lib\\site-packages (from pandas) (1.22.0)\n",
      "Requirement already satisfied: six>=1.5 in c:\\users\\michi\\appdata\\roaming\\python\\python310\\site-packages (from python-dateutil>=2.7.3->pandas) (1.16.0)\n"
     ]
    },
    {
     "name": "stderr",
     "output_type": "stream",
     "text": [
      "\n",
      "[notice] A new release of pip is available: 23.3.1 -> 23.3.2\n",
      "[notice] To update, run: python.exe -m pip install --upgrade pip\n"
     ]
    },
    {
     "name": "stdout",
     "output_type": "stream",
     "text": [
      "Defaulting to user installation because normal site-packages is not writeable\n",
      "Collecting tables\n",
      "  Downloading tables-3.9.2-cp310-cp310-win_amd64.whl.metadata (2.3 kB)\n",
      "Requirement already satisfied: numpy>=1.19.0 in c:\\program files\\python310\\lib\\site-packages (from tables) (1.22.0)\n",
      "Collecting numexpr>=2.6.2 (from tables)\n",
      "  Downloading numexpr-2.8.8-cp310-cp310-win_amd64.whl.metadata (8.1 kB)\n",
      "Requirement already satisfied: packaging in c:\\users\\michi\\appdata\\roaming\\python\\python310\\site-packages (from tables) (23.2)\n",
      "Collecting py-cpuinfo (from tables)\n",
      "  Downloading py_cpuinfo-9.0.0-py3-none-any.whl (22 kB)\n",
      "Collecting blosc2>=2.3.0 (from tables)\n",
      "  Downloading blosc2-2.4.0-cp310-cp310-win_amd64.whl.metadata (9.4 kB)\n",
      "Collecting ndindex>=1.4 (from blosc2>=2.3.0->tables)\n",
      "  Downloading ndindex-1.7-py3-none-any.whl (85 kB)\n",
      "     -------------------------------------- 85.7/85.7 kB 967.4 kB/s eta 0:00:00\n",
      "Collecting msgpack (from blosc2>=2.3.0->tables)\n",
      "  Downloading msgpack-1.0.7-cp310-cp310-win_amd64.whl.metadata (9.4 kB)\n",
      "Downloading tables-3.9.2-cp310-cp310-win_amd64.whl (4.4 MB)\n",
      "   ---------------------------------------- 4.4/4.4 MB 2.2 MB/s eta 0:00:00\n",
      "Downloading blosc2-2.4.0-cp310-cp310-win_amd64.whl (2.3 MB)\n",
      "   ---------------------------------------- 2.3/2.3 MB 3.9 MB/s eta 0:00:00\n",
      "Downloading numexpr-2.8.8-cp310-cp310-win_amd64.whl (96 kB)\n",
      "   ---------------------------------------- 96.4/96.4 kB 2.7 MB/s eta 0:00:00\n",
      "Downloading msgpack-1.0.7-cp310-cp310-win_amd64.whl (222 kB)\n",
      "   ---------------------------------------- 222.8/222.8 kB 3.4 MB/s eta 0:00:00\n",
      "Installing collected packages: py-cpuinfo, numexpr, ndindex, msgpack, blosc2, tables\n",
      "Successfully installed blosc2-2.4.0 msgpack-1.0.7 ndindex-1.7 numexpr-2.8.8 py-cpuinfo-9.0.0 tables-3.9.2\n",
      "Defaulting to user installation because normal site-packages is not writeable\n",
      "Requirement already satisfied: plotly in c:\\users\\michi\\appdata\\roaming\\python\\python310\\site-packages (5.18.0)\n",
      "Requirement already satisfied: tenacity>=6.2.0 in c:\\users\\michi\\appdata\\roaming\\python\\python310\\site-packages (from plotly) (8.2.3)\n",
      "Requirement already satisfied: packaging in c:\\users\\michi\\appdata\\roaming\\python\\python310\\site-packages (from plotly) (23.2)\n"
     ]
    },
    {
     "name": "stderr",
     "output_type": "stream",
     "text": [
      "\n",
      "[notice] A new release of pip is available: 23.3.1 -> 23.3.2\n",
      "[notice] To update, run: python.exe -m pip install --upgrade pip\n"
     ]
    },
    {
     "name": "stdout",
     "output_type": "stream",
     "text": [
      "Defaulting to user installation because normal site-packages is not writeable\n",
      "Requirement already satisfied: llamabot in c:\\users\\michi\\appdata\\roaming\\python\\python310\\site-packages (0.0.89)\n",
      "Requirement already satisfied: openai in c:\\users\\michi\\appdata\\roaming\\python\\python310\\site-packages (from llamabot) (1.2.0)\n",
      "Requirement already satisfied: langchain>=0.0.334 in c:\\users\\michi\\appdata\\roaming\\python\\python310\\site-packages (from llamabot) (0.1.0)\n",
      "Requirement already satisfied: llama-index>=0.8.67 in c:\\users\\michi\\appdata\\roaming\\python\\python310\\site-packages (from llamabot) (0.9.26)\n",
      "Requirement already satisfied: panel>=1.1.0 in c:\\users\\michi\\appdata\\roaming\\python\\python310\\site-packages (from llamabot) (1.3.6)\n",
      "Requirement already satisfied: jupyter-bokeh in c:\\users\\michi\\appdata\\roaming\\python\\python310\\site-packages (from llamabot) (3.0.7)\n",
      "Requirement already satisfied: bokeh>=3.1.0 in c:\\users\\michi\\appdata\\roaming\\python\\python310\\site-packages (from llamabot) (3.3.2)\n",
      "Requirement already satisfied: loguru in c:\\users\\michi\\appdata\\roaming\\python\\python310\\site-packages (from llamabot) (0.7.2)\n",
      "Requirement already satisfied: pyperclip in c:\\users\\michi\\appdata\\roaming\\python\\python310\\site-packages (from llamabot) (1.8.2)\n",
      "Requirement already satisfied: astor>=0.8.1 in c:\\program files\\python310\\lib\\site-packages (from llamabot) (0.8.1)\n",
      "Requirement already satisfied: python-dotenv in c:\\users\\michi\\appdata\\roaming\\python\\python310\\site-packages (from llamabot) (1.0.0)\n",
      "Requirement already satisfied: typer>=0.4.0 in c:\\users\\michi\\appdata\\roaming\\python\\python310\\site-packages (from llamabot) (0.7.0)\n",
      "Requirement already satisfied: gitpython in c:\\users\\michi\\appdata\\roaming\\python\\python310\\site-packages (from llamabot) (3.1.40)\n",
      "Requirement already satisfied: pyprojroot in c:\\users\\michi\\appdata\\roaming\\python\\python310\\site-packages (from llamabot) (0.3.0)\n",
      "Requirement already satisfied: frozenlist in c:\\users\\michi\\appdata\\roaming\\python\\python310\\site-packages (from llamabot) (1.4.1)\n",
      "Requirement already satisfied: beautifulsoup4 in c:\\users\\michi\\appdata\\roaming\\python\\python310\\site-packages (from llamabot) (4.12.2)\n",
      "Requirement already satisfied: rich in c:\\program files\\python310\\lib\\site-packages (from llamabot) (11.2.0)\n",
      "Requirement already satisfied: pyzotero in c:\\users\\michi\\appdata\\roaming\\python\\python310\\site-packages (from llamabot) (1.5.18)\n",
      "Requirement already satisfied: case-converter in c:\\users\\michi\\appdata\\roaming\\python\\python310\\site-packages (from llamabot) (1.1.0)\n",
      "Requirement already satisfied: prompt-toolkit in c:\\users\\michi\\appdata\\roaming\\python\\python310\\site-packages (from llamabot) (3.0.24)\n",
      "Requirement already satisfied: sh in c:\\users\\michi\\appdata\\roaming\\python\\python310\\site-packages (from llamabot) (2.0.6)\n",
      "Requirement already satisfied: pre-commit in c:\\users\\michi\\appdata\\roaming\\python\\python310\\site-packages (from llamabot) (3.6.0)\n",
      "Requirement already satisfied: beartype==0.15.0 in c:\\users\\michi\\appdata\\roaming\\python\\python310\\site-packages (from llamabot) (0.15.0)\n",
      "Requirement already satisfied: Jinja2>=2.9 in c:\\users\\michi\\appdata\\roaming\\python\\python310\\site-packages (from bokeh>=3.1.0->llamabot) (3.1.2)\n",
      "Requirement already satisfied: contourpy>=1 in c:\\users\\michi\\appdata\\roaming\\python\\python310\\site-packages (from bokeh>=3.1.0->llamabot) (1.2.0)\n",
      "Requirement already satisfied: numpy>=1.16 in c:\\program files\\python310\\lib\\site-packages (from bokeh>=3.1.0->llamabot) (1.22.0)\n",
      "Requirement already satisfied: packaging>=16.8 in c:\\users\\michi\\appdata\\roaming\\python\\python310\\site-packages (from bokeh>=3.1.0->llamabot) (23.2)\n",
      "Requirement already satisfied: pandas>=1.2 in c:\\program files\\python310\\lib\\site-packages (from bokeh>=3.1.0->llamabot) (1.3.5)\n",
      "Requirement already satisfied: pillow>=7.1.0 in c:\\users\\michi\\appdata\\roaming\\python\\python310\\site-packages (from bokeh>=3.1.0->llamabot) (9.5.0)\n",
      "Requirement already satisfied: PyYAML>=3.10 in c:\\users\\michi\\appdata\\roaming\\python\\python310\\site-packages (from bokeh>=3.1.0->llamabot) (6.0)\n",
      "Requirement already satisfied: tornado>=5.1 in c:\\users\\michi\\appdata\\roaming\\python\\python310\\site-packages (from bokeh>=3.1.0->llamabot) (6.1)\n",
      "Requirement already satisfied: xyzservices>=2021.09.1 in c:\\users\\michi\\appdata\\roaming\\python\\python310\\site-packages (from bokeh>=3.1.0->llamabot) (2023.10.1)\n",
      "Requirement already satisfied: SQLAlchemy<3,>=1.4 in c:\\users\\michi\\appdata\\roaming\\python\\python310\\site-packages (from langchain>=0.0.334->llamabot) (2.0.25)\n",
      "Requirement already satisfied: aiohttp<4.0.0,>=3.8.3 in c:\\users\\michi\\appdata\\roaming\\python\\python310\\site-packages (from langchain>=0.0.334->llamabot) (3.9.1)\n",
      "Requirement already satisfied: async-timeout<5.0.0,>=4.0.0 in c:\\users\\michi\\appdata\\roaming\\python\\python310\\site-packages (from langchain>=0.0.334->llamabot) (4.0.3)\n",
      "Requirement already satisfied: dataclasses-json<0.7,>=0.5.7 in c:\\users\\michi\\appdata\\roaming\\python\\python310\\site-packages (from langchain>=0.0.334->llamabot) (0.6.3)\n",
      "Requirement already satisfied: jsonpatch<2.0,>=1.33 in c:\\users\\michi\\appdata\\roaming\\python\\python310\\site-packages (from langchain>=0.0.334->llamabot) (1.33)\n",
      "Requirement already satisfied: langchain-community<0.1,>=0.0.9 in c:\\users\\michi\\appdata\\roaming\\python\\python310\\site-packages (from langchain>=0.0.334->llamabot) (0.0.10)\n",
      "Requirement already satisfied: langchain-core<0.2,>=0.1.7 in c:\\users\\michi\\appdata\\roaming\\python\\python310\\site-packages (from langchain>=0.0.334->llamabot) (0.1.8)\n",
      "Requirement already satisfied: langsmith<0.1.0,>=0.0.77 in c:\\users\\michi\\appdata\\roaming\\python\\python310\\site-packages (from langchain>=0.0.334->llamabot) (0.0.77)\n",
      "Requirement already satisfied: pydantic<3,>=1 in c:\\users\\michi\\appdata\\roaming\\python\\python310\\site-packages (from langchain>=0.0.334->llamabot) (1.10.4)\n",
      "Requirement already satisfied: requests<3,>=2 in c:\\users\\michi\\appdata\\roaming\\python\\python310\\site-packages (from langchain>=0.0.334->llamabot) (2.31.0)\n",
      "Requirement already satisfied: tenacity<9.0.0,>=8.1.0 in c:\\users\\michi\\appdata\\roaming\\python\\python310\\site-packages (from langchain>=0.0.334->llamabot) (8.2.3)\n",
      "Requirement already satisfied: deprecated>=1.2.9.3 in c:\\users\\michi\\appdata\\roaming\\python\\python310\\site-packages (from llama-index>=0.8.67->llamabot) (1.2.14)\n",
      "Requirement already satisfied: fsspec>=2023.5.0 in c:\\users\\michi\\appdata\\roaming\\python\\python310\\site-packages (from llama-index>=0.8.67->llamabot) (2023.12.2)\n",
      "Requirement already satisfied: httpx in c:\\users\\michi\\appdata\\roaming\\python\\python310\\site-packages (from llama-index>=0.8.67->llamabot) (0.24.1)\n",
      "Requirement already satisfied: nest-asyncio<2.0.0,>=1.5.8 in c:\\users\\michi\\appdata\\roaming\\python\\python310\\site-packages (from llama-index>=0.8.67->llamabot) (1.5.8)\n",
      "Requirement already satisfied: nltk<4.0.0,>=3.8.1 in c:\\users\\michi\\appdata\\roaming\\python\\python310\\site-packages (from llama-index>=0.8.67->llamabot) (3.8.1)\n",
      "Requirement already satisfied: tiktoken>=0.3.3 in c:\\users\\michi\\appdata\\roaming\\python\\python310\\site-packages (from llama-index>=0.8.67->llamabot) (0.5.2)\n",
      "Requirement already satisfied: typing-extensions>=4.5.0 in c:\\users\\michi\\appdata\\roaming\\python\\python310\\site-packages (from llama-index>=0.8.67->llamabot) (4.8.0)\n",
      "Requirement already satisfied: typing-inspect>=0.8.0 in c:\\users\\michi\\appdata\\roaming\\python\\python310\\site-packages (from llama-index>=0.8.67->llamabot) (0.9.0)\n",
      "Requirement already satisfied: soupsieve>1.2 in c:\\users\\michi\\appdata\\roaming\\python\\python310\\site-packages (from beautifulsoup4->llamabot) (2.3.2.post1)\n",
      "Requirement already satisfied: anyio<4,>=3.5.0 in c:\\users\\michi\\appdata\\roaming\\python\\python310\\site-packages (from openai->llamabot) (3.7.1)\n",
      "Requirement already satisfied: distro<2,>=1.7.0 in c:\\users\\michi\\appdata\\roaming\\python\\python310\\site-packages (from openai->llamabot) (1.8.0)\n",
      "Requirement already satisfied: tqdm>4 in c:\\program files\\python310\\lib\\site-packages (from openai->llamabot) (4.62.3)\n",
      "Requirement already satisfied: param<3.0,>=2.0.0 in c:\\users\\michi\\appdata\\roaming\\python\\python310\\site-packages (from panel>=1.1.0->llamabot) (2.0.1)\n",
      "Requirement already satisfied: pyviz-comms>=2.0.0 in c:\\users\\michi\\appdata\\roaming\\python\\python310\\site-packages (from panel>=1.1.0->llamabot) (3.0.0)\n",
      "Requirement already satisfied: markdown in c:\\users\\michi\\appdata\\roaming\\python\\python310\\site-packages (from panel>=1.1.0->llamabot) (3.5.1)\n",
      "Requirement already satisfied: markdown-it-py in c:\\users\\michi\\appdata\\roaming\\python\\python310\\site-packages (from panel>=1.1.0->llamabot) (3.0.0)\n",
      "Requirement already satisfied: linkify-it-py in c:\\users\\michi\\appdata\\roaming\\python\\python310\\site-packages (from panel>=1.1.0->llamabot) (2.0.2)\n",
      "Requirement already satisfied: mdit-py-plugins in c:\\users\\michi\\appdata\\roaming\\python\\python310\\site-packages (from panel>=1.1.0->llamabot) (0.4.0)\n",
      "Requirement already satisfied: bleach in c:\\users\\michi\\appdata\\roaming\\python\\python310\\site-packages (from panel>=1.1.0->llamabot) (6.1.0)\n",
      "Requirement already satisfied: click<9.0.0,>=7.1.1 in c:\\users\\michi\\appdata\\roaming\\python\\python310\\site-packages (from typer>=0.4.0->llamabot) (8.1.3)\n",
      "Requirement already satisfied: gitdb<5,>=4.0.1 in c:\\users\\michi\\appdata\\roaming\\python\\python310\\site-packages (from gitpython->llamabot) (4.0.11)\n",
      "Requirement already satisfied: ipywidgets==8.* in c:\\users\\michi\\appdata\\roaming\\python\\python310\\site-packages (from jupyter-bokeh->llamabot) (8.1.1)\n",
      "Requirement already satisfied: comm>=0.1.3 in c:\\users\\michi\\appdata\\roaming\\python\\python310\\site-packages (from ipywidgets==8.*->jupyter-bokeh->llamabot) (0.2.1)\n",
      "Requirement already satisfied: ipython>=6.1.0 in c:\\users\\michi\\appdata\\roaming\\python\\python310\\site-packages (from ipywidgets==8.*->jupyter-bokeh->llamabot) (7.31.0)\n",
      "Requirement already satisfied: traitlets>=4.3.1 in c:\\users\\michi\\appdata\\roaming\\python\\python310\\site-packages (from ipywidgets==8.*->jupyter-bokeh->llamabot) (5.1.1)\n",
      "Requirement already satisfied: widgetsnbextension~=4.0.9 in c:\\users\\michi\\appdata\\roaming\\python\\python310\\site-packages (from ipywidgets==8.*->jupyter-bokeh->llamabot) (4.0.9)\n",
      "Requirement already satisfied: jupyterlab-widgets~=3.0.9 in c:\\users\\michi\\appdata\\roaming\\python\\python310\\site-packages (from ipywidgets==8.*->jupyter-bokeh->llamabot) (3.0.9)\n",
      "Requirement already satisfied: colorama>=0.3.4 in c:\\users\\michi\\appdata\\roaming\\python\\python310\\site-packages (from loguru->llamabot) (0.4.6)\n",
      "Requirement already satisfied: win32-setctime>=1.0.0 in c:\\users\\michi\\appdata\\roaming\\python\\python310\\site-packages (from loguru->llamabot) (1.1.0)\n",
      "Requirement already satisfied: cfgv>=2.0.0 in c:\\users\\michi\\appdata\\roaming\\python\\python310\\site-packages (from pre-commit->llamabot) (3.4.0)\n",
      "Requirement already satisfied: identify>=1.0.0 in c:\\users\\michi\\appdata\\roaming\\python\\python310\\site-packages (from pre-commit->llamabot) (2.5.33)\n",
      "Requirement already satisfied: nodeenv>=0.11.1 in c:\\users\\michi\\appdata\\roaming\\python\\python310\\site-packages (from pre-commit->llamabot) (1.8.0)\n",
      "Requirement already satisfied: virtualenv>=20.10.0 in c:\\users\\michi\\appdata\\roaming\\python\\python310\\site-packages (from pre-commit->llamabot) (20.13.0)\n",
      "Requirement already satisfied: wcwidth in c:\\users\\michi\\appdata\\roaming\\python\\python310\\site-packages (from prompt-toolkit->llamabot) (0.2.5)\n",
      "Requirement already satisfied: feedparser>=6 in c:\\program files\\python310\\lib\\site-packages (from pyzotero->llamabot) (6.0.8)\n",
      "Requirement already satisfied: pytz in c:\\program files\\python310\\lib\\site-packages (from pyzotero->llamabot) (2021.3)\n",
      "Requirement already satisfied: bibtexparser in c:\\users\\michi\\appdata\\roaming\\python\\python310\\site-packages (from pyzotero->llamabot) (1.4.1)\n",
      "Requirement already satisfied: commonmark<0.10.0,>=0.9.0 in c:\\program files\\python310\\lib\\site-packages (from rich->llamabot) (0.9.1)\n",
      "Requirement already satisfied: pygments<3.0.0,>=2.6.0 in c:\\users\\michi\\appdata\\roaming\\python\\python310\\site-packages (from rich->llamabot) (2.11.2)\n",
      "Requirement already satisfied: attrs>=17.3.0 in c:\\users\\michi\\appdata\\roaming\\python\\python310\\site-packages (from aiohttp<4.0.0,>=3.8.3->langchain>=0.0.334->llamabot) (23.1.0)\n",
      "Requirement already satisfied: multidict<7.0,>=4.5 in c:\\users\\michi\\appdata\\roaming\\python\\python310\\site-packages (from aiohttp<4.0.0,>=3.8.3->langchain>=0.0.334->llamabot) (6.0.4)\n",
      "Requirement already satisfied: yarl<2.0,>=1.0 in c:\\users\\michi\\appdata\\roaming\\python\\python310\\site-packages (from aiohttp<4.0.0,>=3.8.3->langchain>=0.0.334->llamabot) (1.9.4)\n",
      "Requirement already satisfied: aiosignal>=1.1.2 in c:\\users\\michi\\appdata\\roaming\\python\\python310\\site-packages (from aiohttp<4.0.0,>=3.8.3->langchain>=0.0.334->llamabot) (1.3.1)\n",
      "Requirement already satisfied: idna>=2.8 in c:\\users\\michi\\appdata\\roaming\\python\\python310\\site-packages (from anyio<4,>=3.5.0->openai->llamabot) (2.10)\n",
      "Requirement already satisfied: sniffio>=1.1 in c:\\users\\michi\\appdata\\roaming\\python\\python310\\site-packages (from anyio<4,>=3.5.0->openai->llamabot) (1.3.0)\n",
      "Requirement already satisfied: exceptiongroup in c:\\users\\michi\\appdata\\roaming\\python\\python310\\site-packages (from anyio<4,>=3.5.0->openai->llamabot) (1.1.1)\n",
      "Requirement already satisfied: marshmallow<4.0.0,>=3.18.0 in c:\\users\\michi\\appdata\\roaming\\python\\python310\\site-packages (from dataclasses-json<0.7,>=0.5.7->langchain>=0.0.334->llamabot) (3.20.1)\n",
      "Requirement already satisfied: wrapt<2,>=1.10 in c:\\program files\\python310\\lib\\site-packages (from deprecated>=1.2.9.3->llama-index>=0.8.67->llamabot) (1.13.3)\n",
      "Requirement already satisfied: sgmllib3k in c:\\program files\\python310\\lib\\site-packages (from feedparser>=6->pyzotero->llamabot) (1.0.0)\n",
      "Requirement already satisfied: smmap<6,>=3.0.1 in c:\\users\\michi\\appdata\\roaming\\python\\python310\\site-packages (from gitdb<5,>=4.0.1->gitpython->llamabot) (5.0.1)\n",
      "Requirement already satisfied: certifi in c:\\users\\michi\\appdata\\roaming\\python\\python310\\site-packages (from httpx->llama-index>=0.8.67->llamabot) (2021.10.8)\n",
      "Requirement already satisfied: httpcore<0.18.0,>=0.15.0 in c:\\users\\michi\\appdata\\roaming\\python\\python310\\site-packages (from httpx->llama-index>=0.8.67->llamabot) (0.17.3)\n",
      "Requirement already satisfied: MarkupSafe>=2.0 in c:\\users\\michi\\appdata\\roaming\\python\\python310\\site-packages (from Jinja2>=2.9->bokeh>=3.1.0->llamabot) (2.1.2)\n",
      "Requirement already satisfied: jsonpointer>=1.9 in c:\\users\\michi\\appdata\\roaming\\python\\python310\\site-packages (from jsonpatch<2.0,>=1.33->langchain>=0.0.334->llamabot) (2.4)\n",
      "Requirement already satisfied: joblib in c:\\users\\michi\\appdata\\roaming\\python\\python310\\site-packages (from nltk<4.0.0,>=3.8.1->llama-index>=0.8.67->llamabot) (1.2.0)\n",
      "Requirement already satisfied: regex>=2021.8.3 in c:\\users\\michi\\appdata\\roaming\\python\\python310\\site-packages (from nltk<4.0.0,>=3.8.1->llama-index>=0.8.67->llamabot) (2023.12.25)\n",
      "Requirement already satisfied: setuptools in c:\\program files\\python310\\lib\\site-packages (from nodeenv>=0.11.1->pre-commit->llamabot) (63.2.0)\n",
      "Requirement already satisfied: python-dateutil>=2.7.3 in c:\\users\\michi\\appdata\\roaming\\python\\python310\\site-packages (from pandas>=1.2->bokeh>=3.1.0->llamabot) (2.8.2)\n",
      "Requirement already satisfied: charset-normalizer<4,>=2 in c:\\program files\\python310\\lib\\site-packages (from requests<3,>=2->langchain>=0.0.334->llamabot) (2.0.12)\n",
      "Requirement already satisfied: urllib3<3,>=1.21.1 in c:\\program files\\python310\\lib\\site-packages (from requests<3,>=2->langchain>=0.0.334->llamabot) (1.26.9)\n",
      "Requirement already satisfied: greenlet!=0.4.17 in c:\\users\\michi\\appdata\\roaming\\python\\python310\\site-packages (from SQLAlchemy<3,>=1.4->langchain>=0.0.334->llamabot) (3.0.3)\n",
      "Requirement already satisfied: mypy-extensions>=0.3.0 in c:\\program files\\python310\\lib\\site-packages (from typing-inspect>=0.8.0->llama-index>=0.8.67->llamabot) (0.4.3)\n",
      "Requirement already satisfied: distlib<1,>=0.3.1 in c:\\users\\michi\\appdata\\roaming\\python\\python310\\site-packages (from virtualenv>=20.10.0->pre-commit->llamabot) (0.3.4)\n",
      "Requirement already satisfied: filelock<4,>=3.2 in c:\\users\\michi\\appdata\\roaming\\python\\python310\\site-packages (from virtualenv>=20.10.0->pre-commit->llamabot) (3.4.2)\n",
      "Requirement already satisfied: platformdirs<3,>=2 in c:\\users\\michi\\appdata\\roaming\\python\\python310\\site-packages (from virtualenv>=20.10.0->pre-commit->llamabot) (2.4.1)\n",
      "Requirement already satisfied: six<2,>=1.9.0 in c:\\users\\michi\\appdata\\roaming\\python\\python310\\site-packages (from virtualenv>=20.10.0->pre-commit->llamabot) (1.16.0)\n",
      "Requirement already satisfied: pyparsing>=2.0.3 in c:\\program files\\python310\\lib\\site-packages (from bibtexparser->pyzotero->llamabot) (3.0.7)\n",
      "Requirement already satisfied: webencodings in c:\\program files\\python310\\lib\\site-packages (from bleach->panel>=1.1.0->llamabot) (0.5.1)\n",
      "Requirement already satisfied: uc-micro-py in c:\\users\\michi\\appdata\\roaming\\python\\python310\\site-packages (from linkify-it-py->panel>=1.1.0->llamabot) (1.0.2)\n",
      "Requirement already satisfied: mdurl~=0.1 in c:\\users\\michi\\appdata\\roaming\\python\\python310\\site-packages (from markdown-it-py->panel>=1.1.0->llamabot) (0.1.2)\n",
      "Requirement already satisfied: h11<0.15,>=0.13 in c:\\users\\michi\\appdata\\roaming\\python\\python310\\site-packages (from httpcore<0.18.0,>=0.15.0->httpx->llama-index>=0.8.67->llamabot) (0.14.0)\n",
      "Requirement already satisfied: jedi>=0.16 in c:\\users\\michi\\appdata\\roaming\\python\\python310\\site-packages (from ipython>=6.1.0->ipywidgets==8.*->jupyter-bokeh->llamabot) (0.18.1)\n",
      "Requirement already satisfied: decorator in c:\\users\\michi\\appdata\\roaming\\python\\python310\\site-packages (from ipython>=6.1.0->ipywidgets==8.*->jupyter-bokeh->llamabot) (4.4.2)\n",
      "Requirement already satisfied: pickleshare in c:\\users\\michi\\appdata\\roaming\\python\\python310\\site-packages (from ipython>=6.1.0->ipywidgets==8.*->jupyter-bokeh->llamabot) (0.7.5)\n",
      "Requirement already satisfied: backcall in c:\\users\\michi\\appdata\\roaming\\python\\python310\\site-packages (from ipython>=6.1.0->ipywidgets==8.*->jupyter-bokeh->llamabot) (0.2.0)\n",
      "Requirement already satisfied: matplotlib-inline in c:\\users\\michi\\appdata\\roaming\\python\\python310\\site-packages (from ipython>=6.1.0->ipywidgets==8.*->jupyter-bokeh->llamabot) (0.1.3)\n",
      "Requirement already satisfied: parso<0.9.0,>=0.8.0 in c:\\users\\michi\\appdata\\roaming\\python\\python310\\site-packages (from jedi>=0.16->ipython>=6.1.0->ipywidgets==8.*->jupyter-bokeh->llamabot) (0.8.3)\n"
     ]
    },
    {
     "name": "stderr",
     "output_type": "stream",
     "text": [
      "\n",
      "[notice] A new release of pip is available: 23.3.1 -> 23.3.2\n",
      "[notice] To update, run: python.exe -m pip install --upgrade pip\n"
     ]
    },
    {
     "data": {
      "application/javascript": "(function(root) {\n  function now() {\n    return new Date();\n  }\n\n  var force = true;\n  var py_version = '3.3.2'.replace('rc', '-rc.').replace('.dev', '-dev.');\n  var reloading = false;\n  var Bokeh = root.Bokeh;\n\n  if (typeof (root._bokeh_timeout) === \"undefined\" || force) {\n    root._bokeh_timeout = Date.now() + 5000;\n    root._bokeh_failed_load = false;\n  }\n\n  function run_callbacks() {\n    try {\n      root._bokeh_onload_callbacks.forEach(function(callback) {\n        if (callback != null)\n          callback();\n      });\n    } finally {\n      delete root._bokeh_onload_callbacks;\n    }\n    console.debug(\"Bokeh: all callbacks have finished\");\n  }\n\n  function load_libs(css_urls, js_urls, js_modules, js_exports, callback) {\n    if (css_urls == null) css_urls = [];\n    if (js_urls == null) js_urls = [];\n    if (js_modules == null) js_modules = [];\n    if (js_exports == null) js_exports = {};\n\n    root._bokeh_onload_callbacks.push(callback);\n\n    if (root._bokeh_is_loading > 0) {\n      console.debug(\"Bokeh: BokehJS is being loaded, scheduling callback at\", now());\n      return null;\n    }\n    if (js_urls.length === 0 && js_modules.length === 0 && Object.keys(js_exports).length === 0) {\n      run_callbacks();\n      return null;\n    }\n    if (!reloading) {\n      console.debug(\"Bokeh: BokehJS not loaded, scheduling load and callback at\", now());\n    }\n\n    function on_load() {\n      root._bokeh_is_loading--;\n      if (root._bokeh_is_loading === 0) {\n        console.debug(\"Bokeh: all BokehJS libraries/stylesheets loaded\");\n        run_callbacks()\n      }\n    }\n    window._bokeh_on_load = on_load\n\n    function on_error() {\n      console.error(\"failed to load \" + url);\n    }\n\n    var skip = [];\n    if (window.requirejs) {\n      window.requirejs.config({'packages': {}, 'paths': {'jspanel': 'https://cdn.jsdelivr.net/npm/jspanel4@4.12.0/dist/jspanel', 'jspanel-modal': 'https://cdn.jsdelivr.net/npm/jspanel4@4.12.0/dist/extensions/modal/jspanel.modal', 'jspanel-tooltip': 'https://cdn.jsdelivr.net/npm/jspanel4@4.12.0/dist/extensions/tooltip/jspanel.tooltip', 'jspanel-hint': 'https://cdn.jsdelivr.net/npm/jspanel4@4.12.0/dist/extensions/hint/jspanel.hint', 'jspanel-layout': 'https://cdn.jsdelivr.net/npm/jspanel4@4.12.0/dist/extensions/layout/jspanel.layout', 'jspanel-contextmenu': 'https://cdn.jsdelivr.net/npm/jspanel4@4.12.0/dist/extensions/contextmenu/jspanel.contextmenu', 'jspanel-dock': 'https://cdn.jsdelivr.net/npm/jspanel4@4.12.0/dist/extensions/dock/jspanel.dock', 'gridstack': 'https://cdn.jsdelivr.net/npm/gridstack@7.2.3/dist/gridstack-all', 'notyf': 'https://cdn.jsdelivr.net/npm/notyf@3/notyf.min'}, 'shim': {'jspanel': {'exports': 'jsPanel'}, 'gridstack': {'exports': 'GridStack'}}});\n      require([\"jspanel\"], function(jsPanel) {\n\twindow.jsPanel = jsPanel\n\ton_load()\n      })\n      require([\"jspanel-modal\"], function() {\n\ton_load()\n      })\n      require([\"jspanel-tooltip\"], function() {\n\ton_load()\n      })\n      require([\"jspanel-hint\"], function() {\n\ton_load()\n      })\n      require([\"jspanel-layout\"], function() {\n\ton_load()\n      })\n      require([\"jspanel-contextmenu\"], function() {\n\ton_load()\n      })\n      require([\"jspanel-dock\"], function() {\n\ton_load()\n      })\n      require([\"gridstack\"], function(GridStack) {\n\twindow.GridStack = GridStack\n\ton_load()\n      })\n      require([\"notyf\"], function() {\n\ton_load()\n      })\n      root._bokeh_is_loading = css_urls.length + 9;\n    } else {\n      root._bokeh_is_loading = css_urls.length + js_urls.length + js_modules.length + Object.keys(js_exports).length;\n    }\n\n    var existing_stylesheets = []\n    var links = document.getElementsByTagName('link')\n    for (var i = 0; i < links.length; i++) {\n      var link = links[i]\n      if (link.href != null) {\n\texisting_stylesheets.push(link.href)\n      }\n    }\n    for (var i = 0; i < css_urls.length; i++) {\n      var url = css_urls[i];\n      if (existing_stylesheets.indexOf(url) !== -1) {\n\ton_load()\n\tcontinue;\n      }\n      const element = document.createElement(\"link\");\n      element.onload = on_load;\n      element.onerror = on_error;\n      element.rel = \"stylesheet\";\n      element.type = \"text/css\";\n      element.href = url;\n      console.debug(\"Bokeh: injecting link tag for BokehJS stylesheet: \", url);\n      document.body.appendChild(element);\n    }    if (((window['jsPanel'] !== undefined) && (!(window['jsPanel'] instanceof HTMLElement))) || window.requirejs) {\n      var urls = ['https://cdn.holoviz.org/panel/1.3.6/dist/bundled/floatpanel/jspanel4@4.12.0/dist/jspanel.js', 'https://cdn.holoviz.org/panel/1.3.6/dist/bundled/floatpanel/jspanel4@4.12.0/dist/extensions/modal/jspanel.modal.js', 'https://cdn.holoviz.org/panel/1.3.6/dist/bundled/floatpanel/jspanel4@4.12.0/dist/extensions/tooltip/jspanel.tooltip.js', 'https://cdn.holoviz.org/panel/1.3.6/dist/bundled/floatpanel/jspanel4@4.12.0/dist/extensions/hint/jspanel.hint.js', 'https://cdn.holoviz.org/panel/1.3.6/dist/bundled/floatpanel/jspanel4@4.12.0/dist/extensions/layout/jspanel.layout.js', 'https://cdn.holoviz.org/panel/1.3.6/dist/bundled/floatpanel/jspanel4@4.12.0/dist/extensions/contextmenu/jspanel.contextmenu.js', 'https://cdn.holoviz.org/panel/1.3.6/dist/bundled/floatpanel/jspanel4@4.12.0/dist/extensions/dock/jspanel.dock.js'];\n      for (var i = 0; i < urls.length; i++) {\n        skip.push(urls[i])\n      }\n    }    if (((window['GridStack'] !== undefined) && (!(window['GridStack'] instanceof HTMLElement))) || window.requirejs) {\n      var urls = ['https://cdn.holoviz.org/panel/1.3.6/dist/bundled/gridstack/gridstack@7.2.3/dist/gridstack-all.js'];\n      for (var i = 0; i < urls.length; i++) {\n        skip.push(urls[i])\n      }\n    }    if (((window['Notyf'] !== undefined) && (!(window['Notyf'] instanceof HTMLElement))) || window.requirejs) {\n      var urls = ['https://cdn.holoviz.org/panel/1.3.6/dist/bundled/notificationarea/notyf@3/notyf.min.js'];\n      for (var i = 0; i < urls.length; i++) {\n        skip.push(urls[i])\n      }\n    }    var existing_scripts = []\n    var scripts = document.getElementsByTagName('script')\n    for (var i = 0; i < scripts.length; i++) {\n      var script = scripts[i]\n      if (script.src != null) {\n\texisting_scripts.push(script.src)\n      }\n    }\n    for (var i = 0; i < js_urls.length; i++) {\n      var url = js_urls[i];\n      if (skip.indexOf(url) !== -1 || existing_scripts.indexOf(url) !== -1) {\n\tif (!window.requirejs) {\n\t  on_load();\n\t}\n\tcontinue;\n      }\n      var element = document.createElement('script');\n      element.onload = on_load;\n      element.onerror = on_error;\n      element.async = false;\n      element.src = url;\n      console.debug(\"Bokeh: injecting script tag for BokehJS library: \", url);\n      document.head.appendChild(element);\n    }\n    for (var i = 0; i < js_modules.length; i++) {\n      var url = js_modules[i];\n      if (skip.indexOf(url) !== -1 || existing_scripts.indexOf(url) !== -1) {\n\tif (!window.requirejs) {\n\t  on_load();\n\t}\n\tcontinue;\n      }\n      var element = document.createElement('script');\n      element.onload = on_load;\n      element.onerror = on_error;\n      element.async = false;\n      element.src = url;\n      element.type = \"module\";\n      console.debug(\"Bokeh: injecting script tag for BokehJS library: \", url);\n      document.head.appendChild(element);\n    }\n    for (const name in js_exports) {\n      var url = js_exports[name];\n      if (skip.indexOf(url) >= 0 || root[name] != null) {\n\tif (!window.requirejs) {\n\t  on_load();\n\t}\n\tcontinue;\n      }\n      var element = document.createElement('script');\n      element.onerror = on_error;\n      element.async = false;\n      element.type = \"module\";\n      console.debug(\"Bokeh: injecting script tag for BokehJS library: \", url);\n      element.textContent = `\n      import ${name} from \"${url}\"\n      window.${name} = ${name}\n      window._bokeh_on_load()\n      `\n      document.head.appendChild(element);\n    }\n    if (!js_urls.length && !js_modules.length) {\n      on_load()\n    }\n  };\n\n  function inject_raw_css(css) {\n    const element = document.createElement(\"style\");\n    element.appendChild(document.createTextNode(css));\n    document.body.appendChild(element);\n  }\n\n  var js_urls = [\"https://cdn.bokeh.org/bokeh/release/bokeh-3.3.2.min.js\", \"https://cdn.bokeh.org/bokeh/release/bokeh-gl-3.3.2.min.js\", \"https://cdn.bokeh.org/bokeh/release/bokeh-widgets-3.3.2.min.js\", \"https://cdn.bokeh.org/bokeh/release/bokeh-tables-3.3.2.min.js\", \"https://cdn.holoviz.org/panel/1.3.6/dist/panel.min.js\"];\n  var js_modules = [];\n  var js_exports = {};\n  var css_urls = [];\n  var inline_js = [    function(Bokeh) {\n      Bokeh.set_log_level(\"info\");\n    },\nfunction(Bokeh) {} // ensure no trailing comma for IE\n  ];\n\n  function run_inline_js() {\n    if ((root.Bokeh !== undefined) || (force === true)) {\n      for (var i = 0; i < inline_js.length; i++) {\n\ttry {\n          inline_js[i].call(root, root.Bokeh);\n\t} catch(e) {\n\t  if (!reloading) {\n\t    throw e;\n\t  }\n\t}\n      }\n      // Cache old bokeh versions\n      if (Bokeh != undefined && !reloading) {\n\tvar NewBokeh = root.Bokeh;\n\tif (Bokeh.versions === undefined) {\n\t  Bokeh.versions = new Map();\n\t}\n\tif (NewBokeh.version !== Bokeh.version) {\n\t  Bokeh.versions.set(NewBokeh.version, NewBokeh)\n\t}\n\troot.Bokeh = Bokeh;\n      }} else if (Date.now() < root._bokeh_timeout) {\n      setTimeout(run_inline_js, 100);\n    } else if (!root._bokeh_failed_load) {\n      console.log(\"Bokeh: BokehJS failed to load within specified timeout.\");\n      root._bokeh_failed_load = true;\n    }\n    root._bokeh_is_initializing = false\n  }\n\n  function load_or_wait() {\n    // Implement a backoff loop that tries to ensure we do not load multiple\n    // versions of Bokeh and its dependencies at the same time.\n    // In recent versions we use the root._bokeh_is_initializing flag\n    // to determine whether there is an ongoing attempt to initialize\n    // bokeh, however for backward compatibility we also try to ensure\n    // that we do not start loading a newer (Panel>=1.0 and Bokeh>3) version\n    // before older versions are fully initialized.\n    if (root._bokeh_is_initializing && Date.now() > root._bokeh_timeout) {\n      root._bokeh_is_initializing = false;\n      root._bokeh_onload_callbacks = undefined;\n      console.log(\"Bokeh: BokehJS was loaded multiple times but one version failed to initialize.\");\n      load_or_wait();\n    } else if (root._bokeh_is_initializing || (typeof root._bokeh_is_initializing === \"undefined\" && root._bokeh_onload_callbacks !== undefined)) {\n      setTimeout(load_or_wait, 100);\n    } else {\n      root._bokeh_is_initializing = true\n      root._bokeh_onload_callbacks = []\n      var bokeh_loaded = Bokeh != null && (Bokeh.version === py_version || (Bokeh.versions !== undefined && Bokeh.versions.has(py_version)));\n      if (!reloading && !bokeh_loaded) {\n\troot.Bokeh = undefined;\n      }\n      load_libs(css_urls, js_urls, js_modules, js_exports, function() {\n\tconsole.debug(\"Bokeh: BokehJS plotting callback run at\", now());\n\trun_inline_js();\n      });\n    }\n  }\n  // Give older versions of the autoload script a head-start to ensure\n  // they initialize before we start loading newer version.\n  setTimeout(load_or_wait, 100)\n}(window));",
      "application/vnd.holoviews_load.v0+json": ""
     },
     "metadata": {},
     "output_type": "display_data"
    },
    {
     "data": {
      "application/javascript": "\nif ((window.PyViz === undefined) || (window.PyViz instanceof HTMLElement)) {\n  window.PyViz = {comms: {}, comm_status:{}, kernels:{}, receivers: {}, plot_index: []}\n}\n\n\n    function JupyterCommManager() {\n    }\n\n    JupyterCommManager.prototype.register_target = function(plot_id, comm_id, msg_handler) {\n      if (window.comm_manager || ((window.Jupyter !== undefined) && (Jupyter.notebook.kernel != null))) {\n        var comm_manager = window.comm_manager || Jupyter.notebook.kernel.comm_manager;\n        comm_manager.register_target(comm_id, function(comm) {\n          comm.on_msg(msg_handler);\n        });\n      } else if ((plot_id in window.PyViz.kernels) && (window.PyViz.kernels[plot_id])) {\n        window.PyViz.kernels[plot_id].registerCommTarget(comm_id, function(comm) {\n          comm.onMsg = msg_handler;\n        });\n      } else if (typeof google != 'undefined' && google.colab.kernel != null) {\n        google.colab.kernel.comms.registerTarget(comm_id, (comm) => {\n          var messages = comm.messages[Symbol.asyncIterator]();\n          function processIteratorResult(result) {\n            var message = result.value;\n            console.log(message)\n            var content = {data: message.data, comm_id};\n            var buffers = []\n            for (var buffer of message.buffers || []) {\n              buffers.push(new DataView(buffer))\n            }\n            var metadata = message.metadata || {};\n            var msg = {content, buffers, metadata}\n            msg_handler(msg);\n            return messages.next().then(processIteratorResult);\n          }\n          return messages.next().then(processIteratorResult);\n        })\n      }\n    }\n\n    JupyterCommManager.prototype.get_client_comm = function(plot_id, comm_id, msg_handler) {\n      if (comm_id in window.PyViz.comms) {\n        return window.PyViz.comms[comm_id];\n      } else if (window.comm_manager || ((window.Jupyter !== undefined) && (Jupyter.notebook.kernel != null))) {\n        var comm_manager = window.comm_manager || Jupyter.notebook.kernel.comm_manager;\n        var comm = comm_manager.new_comm(comm_id, {}, {}, {}, comm_id);\n        if (msg_handler) {\n          comm.on_msg(msg_handler);\n        }\n      } else if ((plot_id in window.PyViz.kernels) && (window.PyViz.kernels[plot_id])) {\n        var comm = window.PyViz.kernels[plot_id].connectToComm(comm_id);\n        comm.open();\n        if (msg_handler) {\n          comm.onMsg = msg_handler;\n        }\n      } else if (typeof google != 'undefined' && google.colab.kernel != null) {\n        var comm_promise = google.colab.kernel.comms.open(comm_id)\n        comm_promise.then((comm) => {\n          window.PyViz.comms[comm_id] = comm;\n          if (msg_handler) {\n            var messages = comm.messages[Symbol.asyncIterator]();\n            function processIteratorResult(result) {\n              var message = result.value;\n              var content = {data: message.data};\n              var metadata = message.metadata || {comm_id};\n              var msg = {content, metadata}\n              msg_handler(msg);\n              return messages.next().then(processIteratorResult);\n            }\n            return messages.next().then(processIteratorResult);\n          }\n        }) \n        var sendClosure = (data, metadata, buffers, disposeOnDone) => {\n          return comm_promise.then((comm) => {\n            comm.send(data, metadata, buffers, disposeOnDone);\n          });\n        };\n        var comm = {\n          send: sendClosure\n        };\n      }\n      window.PyViz.comms[comm_id] = comm;\n      return comm;\n    }\n    window.PyViz.comm_manager = new JupyterCommManager();\n    \n\n\nvar JS_MIME_TYPE = 'application/javascript';\nvar HTML_MIME_TYPE = 'text/html';\nvar EXEC_MIME_TYPE = 'application/vnd.holoviews_exec.v0+json';\nvar CLASS_NAME = 'output';\n\n/**\n * Render data to the DOM node\n */\nfunction render(props, node) {\n  var div = document.createElement(\"div\");\n  var script = document.createElement(\"script\");\n  node.appendChild(div);\n  node.appendChild(script);\n}\n\n/**\n * Handle when a new output is added\n */\nfunction handle_add_output(event, handle) {\n  var output_area = handle.output_area;\n  var output = handle.output;\n  if ((output.data == undefined) || (!output.data.hasOwnProperty(EXEC_MIME_TYPE))) {\n    return\n  }\n  var id = output.metadata[EXEC_MIME_TYPE][\"id\"];\n  var toinsert = output_area.element.find(\".\" + CLASS_NAME.split(' ')[0]);\n  if (id !== undefined) {\n    var nchildren = toinsert.length;\n    var html_node = toinsert[nchildren-1].children[0];\n    html_node.innerHTML = output.data[HTML_MIME_TYPE];\n    var scripts = [];\n    var nodelist = html_node.querySelectorAll(\"script\");\n    for (var i in nodelist) {\n      if (nodelist.hasOwnProperty(i)) {\n        scripts.push(nodelist[i])\n      }\n    }\n\n    scripts.forEach( function (oldScript) {\n      var newScript = document.createElement(\"script\");\n      var attrs = [];\n      var nodemap = oldScript.attributes;\n      for (var j in nodemap) {\n        if (nodemap.hasOwnProperty(j)) {\n          attrs.push(nodemap[j])\n        }\n      }\n      attrs.forEach(function(attr) { newScript.setAttribute(attr.name, attr.value) });\n      newScript.appendChild(document.createTextNode(oldScript.innerHTML));\n      oldScript.parentNode.replaceChild(newScript, oldScript);\n    });\n    if (JS_MIME_TYPE in output.data) {\n      toinsert[nchildren-1].children[1].textContent = output.data[JS_MIME_TYPE];\n    }\n    output_area._hv_plot_id = id;\n    if ((window.Bokeh !== undefined) && (id in Bokeh.index)) {\n      window.PyViz.plot_index[id] = Bokeh.index[id];\n    } else {\n      window.PyViz.plot_index[id] = null;\n    }\n  } else if (output.metadata[EXEC_MIME_TYPE][\"server_id\"] !== undefined) {\n    var bk_div = document.createElement(\"div\");\n    bk_div.innerHTML = output.data[HTML_MIME_TYPE];\n    var script_attrs = bk_div.children[0].attributes;\n    for (var i = 0; i < script_attrs.length; i++) {\n      toinsert[toinsert.length - 1].childNodes[1].setAttribute(script_attrs[i].name, script_attrs[i].value);\n    }\n    // store reference to server id on output_area\n    output_area._bokeh_server_id = output.metadata[EXEC_MIME_TYPE][\"server_id\"];\n  }\n}\n\n/**\n * Handle when an output is cleared or removed\n */\nfunction handle_clear_output(event, handle) {\n  var id = handle.cell.output_area._hv_plot_id;\n  var server_id = handle.cell.output_area._bokeh_server_id;\n  if (((id === undefined) || !(id in PyViz.plot_index)) && (server_id !== undefined)) { return; }\n  var comm = window.PyViz.comm_manager.get_client_comm(\"hv-extension-comm\", \"hv-extension-comm\", function () {});\n  if (server_id !== null) {\n    comm.send({event_type: 'server_delete', 'id': server_id});\n    return;\n  } else if (comm !== null) {\n    comm.send({event_type: 'delete', 'id': id});\n  }\n  delete PyViz.plot_index[id];\n  if ((window.Bokeh !== undefined) & (id in window.Bokeh.index)) {\n    var doc = window.Bokeh.index[id].model.document\n    doc.clear();\n    const i = window.Bokeh.documents.indexOf(doc);\n    if (i > -1) {\n      window.Bokeh.documents.splice(i, 1);\n    }\n  }\n}\n\n/**\n * Handle kernel restart event\n */\nfunction handle_kernel_cleanup(event, handle) {\n  delete PyViz.comms[\"hv-extension-comm\"];\n  window.PyViz.plot_index = {}\n}\n\n/**\n * Handle update_display_data messages\n */\nfunction handle_update_output(event, handle) {\n  handle_clear_output(event, {cell: {output_area: handle.output_area}})\n  handle_add_output(event, handle)\n}\n\nfunction register_renderer(events, OutputArea) {\n  function append_mime(data, metadata, element) {\n    // create a DOM node to render to\n    var toinsert = this.create_output_subarea(\n    metadata,\n    CLASS_NAME,\n    EXEC_MIME_TYPE\n    );\n    this.keyboard_manager.register_events(toinsert);\n    // Render to node\n    var props = {data: data, metadata: metadata[EXEC_MIME_TYPE]};\n    render(props, toinsert[0]);\n    element.append(toinsert);\n    return toinsert\n  }\n\n  events.on('output_added.OutputArea', handle_add_output);\n  events.on('output_updated.OutputArea', handle_update_output);\n  events.on('clear_output.CodeCell', handle_clear_output);\n  events.on('delete.Cell', handle_clear_output);\n  events.on('kernel_ready.Kernel', handle_kernel_cleanup);\n\n  OutputArea.prototype.register_mime_type(EXEC_MIME_TYPE, append_mime, {\n    safe: true,\n    index: 0\n  });\n}\n\nif (window.Jupyter !== undefined) {\n  try {\n    var events = require('base/js/events');\n    var OutputArea = require('notebook/js/outputarea').OutputArea;\n    if (OutputArea.prototype.mime_types().indexOf(EXEC_MIME_TYPE) == -1) {\n      register_renderer(events, OutputArea);\n    }\n  } catch(err) {\n  }\n}\n",
      "application/vnd.holoviews_load.v0+json": ""
     },
     "metadata": {},
     "output_type": "display_data"
    },
    {
     "data": {
      "text/html": [
       "<style>*[data-root-id],\n",
       "*[data-root-id] > * {\n",
       "  box-sizing: border-box;\n",
       "  font-family: var(--jp-ui-font-family);\n",
       "  font-size: var(--jp-ui-font-size1);\n",
       "  color: var(--vscode-editor-foreground, var(--jp-ui-font-color1));\n",
       "}\n",
       "\n",
       "/* Override VSCode background color */\n",
       ".cell-output-ipywidget-background:has(\n",
       "    > .cell-output-ipywidget-background > .lm-Widget > *[data-root-id]\n",
       "  ),\n",
       ".cell-output-ipywidget-background:has(> .lm-Widget > *[data-root-id]) {\n",
       "  background-color: transparent !important;\n",
       "}\n",
       "</style>"
      ]
     },
     "metadata": {},
     "output_type": "display_data"
    },
    {
     "data": {
      "application/vnd.holoviews_exec.v0+json": "",
      "text/html": [
       "<div id='feb00e23-ec97-4ca7-ad89-bfdc6a64bc7b'>\n",
       "  <div id=\"b33e5970-ea5e-4242-a323-12097d50fa33\" data-root-id=\"feb00e23-ec97-4ca7-ad89-bfdc6a64bc7b\" style=\"display: contents;\"></div>\n",
       "</div>\n",
       "<script type=\"application/javascript\">(function(root) {\n",
       "  var docs_json = {\"4494c30d-fed8-4717-a482-e42595442a7e\":{\"version\":\"3.3.2\",\"title\":\"Bokeh Application\",\"roots\":[{\"type\":\"object\",\"name\":\"panel.models.browser.BrowserInfo\",\"id\":\"feb00e23-ec97-4ca7-ad89-bfdc6a64bc7b\"},{\"type\":\"object\",\"name\":\"panel.models.comm_manager.CommManager\",\"id\":\"c630fa81-757c-422e-8fb4-3797cffafef0\",\"attributes\":{\"plot_id\":\"feb00e23-ec97-4ca7-ad89-bfdc6a64bc7b\",\"comm_id\":\"ef80ad5d66b94916a617706e402d6644\",\"client_comm_id\":\"1bdaad629b05499baab1c9daccf9ee2c\"}}],\"defs\":[{\"type\":\"model\",\"name\":\"ReactiveHTML1\"},{\"type\":\"model\",\"name\":\"FlexBox1\",\"properties\":[{\"name\":\"align_content\",\"kind\":\"Any\",\"default\":\"flex-start\"},{\"name\":\"align_items\",\"kind\":\"Any\",\"default\":\"flex-start\"},{\"name\":\"flex_direction\",\"kind\":\"Any\",\"default\":\"row\"},{\"name\":\"flex_wrap\",\"kind\":\"Any\",\"default\":\"wrap\"},{\"name\":\"justify_content\",\"kind\":\"Any\",\"default\":\"flex-start\"}]},{\"type\":\"model\",\"name\":\"FloatPanel1\",\"properties\":[{\"name\":\"config\",\"kind\":\"Any\",\"default\":{\"type\":\"map\"}},{\"name\":\"contained\",\"kind\":\"Any\",\"default\":true},{\"name\":\"position\",\"kind\":\"Any\",\"default\":\"right-top\"},{\"name\":\"offsetx\",\"kind\":\"Any\",\"default\":null},{\"name\":\"offsety\",\"kind\":\"Any\",\"default\":null},{\"name\":\"theme\",\"kind\":\"Any\",\"default\":\"primary\"},{\"name\":\"status\",\"kind\":\"Any\",\"default\":\"normalized\"}]},{\"type\":\"model\",\"name\":\"GridStack1\",\"properties\":[{\"name\":\"mode\",\"kind\":\"Any\",\"default\":\"warn\"},{\"name\":\"ncols\",\"kind\":\"Any\",\"default\":null},{\"name\":\"nrows\",\"kind\":\"Any\",\"default\":null},{\"name\":\"allow_resize\",\"kind\":\"Any\",\"default\":true},{\"name\":\"allow_drag\",\"kind\":\"Any\",\"default\":true},{\"name\":\"state\",\"kind\":\"Any\",\"default\":[]}]},{\"type\":\"model\",\"name\":\"drag1\",\"properties\":[{\"name\":\"slider_width\",\"kind\":\"Any\",\"default\":5},{\"name\":\"slider_color\",\"kind\":\"Any\",\"default\":\"black\"},{\"name\":\"value\",\"kind\":\"Any\",\"default\":50}]},{\"type\":\"model\",\"name\":\"click1\",\"properties\":[{\"name\":\"terminal_output\",\"kind\":\"Any\",\"default\":\"\"},{\"name\":\"debug_name\",\"kind\":\"Any\",\"default\":\"\"},{\"name\":\"clears\",\"kind\":\"Any\",\"default\":0}]},{\"type\":\"model\",\"name\":\"copy_to_clipboard1\",\"properties\":[{\"name\":\"fill\",\"kind\":\"Any\",\"default\":\"none\"},{\"name\":\"value\",\"kind\":\"Any\",\"default\":null}]},{\"type\":\"model\",\"name\":\"FastWrapper1\",\"properties\":[{\"name\":\"object\",\"kind\":\"Any\",\"default\":null},{\"name\":\"style\",\"kind\":\"Any\",\"default\":null}]},{\"type\":\"model\",\"name\":\"NotificationAreaBase1\",\"properties\":[{\"name\":\"js_events\",\"kind\":\"Any\",\"default\":{\"type\":\"map\"}},{\"name\":\"position\",\"kind\":\"Any\",\"default\":\"bottom-right\"},{\"name\":\"_clear\",\"kind\":\"Any\",\"default\":0}]},{\"type\":\"model\",\"name\":\"NotificationArea1\",\"properties\":[{\"name\":\"js_events\",\"kind\":\"Any\",\"default\":{\"type\":\"map\"}},{\"name\":\"notifications\",\"kind\":\"Any\",\"default\":[]},{\"name\":\"position\",\"kind\":\"Any\",\"default\":\"bottom-right\"},{\"name\":\"_clear\",\"kind\":\"Any\",\"default\":0},{\"name\":\"types\",\"kind\":\"Any\",\"default\":[{\"type\":\"map\",\"entries\":[[\"type\",\"warning\"],[\"background\",\"#ffc107\"],[\"icon\",{\"type\":\"map\",\"entries\":[[\"className\",\"fas fa-exclamation-triangle\"],[\"tagName\",\"i\"],[\"color\",\"white\"]]}]]},{\"type\":\"map\",\"entries\":[[\"type\",\"info\"],[\"background\",\"#007bff\"],[\"icon\",{\"type\":\"map\",\"entries\":[[\"className\",\"fas fa-info-circle\"],[\"tagName\",\"i\"],[\"color\",\"white\"]]}]]}]}]},{\"type\":\"model\",\"name\":\"Notification\",\"properties\":[{\"name\":\"background\",\"kind\":\"Any\",\"default\":null},{\"name\":\"duration\",\"kind\":\"Any\",\"default\":3000},{\"name\":\"icon\",\"kind\":\"Any\",\"default\":null},{\"name\":\"message\",\"kind\":\"Any\",\"default\":\"\"},{\"name\":\"notification_type\",\"kind\":\"Any\",\"default\":null},{\"name\":\"_destroyed\",\"kind\":\"Any\",\"default\":false}]},{\"type\":\"model\",\"name\":\"TemplateActions1\",\"properties\":[{\"name\":\"open_modal\",\"kind\":\"Any\",\"default\":0},{\"name\":\"close_modal\",\"kind\":\"Any\",\"default\":0}]},{\"type\":\"model\",\"name\":\"BootstrapTemplateActions1\",\"properties\":[{\"name\":\"open_modal\",\"kind\":\"Any\",\"default\":0},{\"name\":\"close_modal\",\"kind\":\"Any\",\"default\":0}]},{\"type\":\"model\",\"name\":\"MaterialTemplateActions1\",\"properties\":[{\"name\":\"open_modal\",\"kind\":\"Any\",\"default\":0},{\"name\":\"close_modal\",\"kind\":\"Any\",\"default\":0}]}]}};\n",
       "  var render_items = [{\"docid\":\"4494c30d-fed8-4717-a482-e42595442a7e\",\"roots\":{\"feb00e23-ec97-4ca7-ad89-bfdc6a64bc7b\":\"b33e5970-ea5e-4242-a323-12097d50fa33\"},\"root_ids\":[\"feb00e23-ec97-4ca7-ad89-bfdc6a64bc7b\"]}];\n",
       "  var docs = Object.values(docs_json)\n",
       "  if (!docs) {\n",
       "    return\n",
       "  }\n",
       "  const py_version = docs[0].version.replace('rc', '-rc.').replace('.dev', '-dev.')\n",
       "  function embed_document(root) {\n",
       "    var Bokeh = get_bokeh(root)\n",
       "    Bokeh.embed.embed_items_notebook(docs_json, render_items);\n",
       "    for (const render_item of render_items) {\n",
       "      for (const root_id of render_item.root_ids) {\n",
       "\tconst id_el = document.getElementById(root_id)\n",
       "\tif (id_el.children.length && (id_el.children[0].className === 'bk-root')) {\n",
       "\t  const root_el = id_el.children[0]\n",
       "\t  root_el.id = root_el.id + '-rendered'\n",
       "\t}\n",
       "      }\n",
       "    }\n",
       "  }\n",
       "  function get_bokeh(root) {\n",
       "    if (root.Bokeh === undefined) {\n",
       "      return null\n",
       "    } else if (root.Bokeh.version !== py_version) {\n",
       "      if (root.Bokeh.versions === undefined || !root.Bokeh.versions.has(py_version)) {\n",
       "\treturn null\n",
       "      }\n",
       "      return root.Bokeh.versions.get(py_version);\n",
       "    } else if (root.Bokeh.version === py_version) {\n",
       "      return root.Bokeh\n",
       "    }\n",
       "    return null\n",
       "  }\n",
       "  function is_loaded(root) {\n",
       "    var Bokeh = get_bokeh(root)\n",
       "    return (Bokeh != null && Bokeh.Panel !== undefined)\n",
       "  }\n",
       "  if (is_loaded(root)) {\n",
       "    embed_document(root);\n",
       "  } else {\n",
       "    var attempts = 0;\n",
       "    var timer = setInterval(function(root) {\n",
       "      if (is_loaded(root)) {\n",
       "        clearInterval(timer);\n",
       "        embed_document(root);\n",
       "      } else if (document.readyState == \"complete\") {\n",
       "        attempts++;\n",
       "        if (attempts > 200) {\n",
       "          clearInterval(timer);\n",
       "\t  var Bokeh = get_bokeh(root)\n",
       "\t  if (Bokeh == null || Bokeh.Panel == null) {\n",
       "            console.warn(\"Panel: ERROR: Unable to run Panel code because Bokeh or Panel library is missing\");\n",
       "\t  } else {\n",
       "\t    console.warn(\"Panel: WARNING: Attempting to render but not all required libraries could be resolved.\")\n",
       "\t    embed_document(root)\n",
       "\t  }\n",
       "        }\n",
       "      }\n",
       "    }, 25, root)\n",
       "  }\n",
       "})(window);</script>"
      ]
     },
     "metadata": {
      "application/vnd.holoviews_exec.v0+json": {
       "id": "feb00e23-ec97-4ca7-ad89-bfdc6a64bc7b"
      }
     },
     "output_type": "display_data"
    },
    {
     "name": "stderr",
     "output_type": "stream",
     "text": [
      "C:\\Users\\michi\\AppData\\Roaming\\Python\\Python310\\site-packages\\llamabot\\bot\\__init__.py:24: RuntimeWarning: No OpenAI API key found. Please set OPENAI_API_KEY in your environment.\n",
      "  warnings.warn(\n"
     ]
    },
    {
     "name": "stdout",
     "output_type": "stream",
     "text": [
      "Defaulting to user installation because normal site-packages is not writeable\n",
      "Requirement already satisfied: tqdm in c:\\program files\\python310\\lib\\site-packages (4.62.3)\n",
      "Requirement already satisfied: colorama in c:\\users\\michi\\appdata\\roaming\\python\\python310\\site-packages (from tqdm) (0.4.6)\n"
     ]
    },
    {
     "name": "stderr",
     "output_type": "stream",
     "text": [
      "\n",
      "[notice] A new release of pip is available: 23.3.1 -> 23.3.2\n",
      "[notice] To update, run: python.exe -m pip install --upgrade pip\n"
     ]
    }
   ],
   "source": [
    "import datetime\n",
    "!pip install numpy\n",
    "!pip install pandas\n",
    "!pip install tables\n",
    "import pandas as pd\n",
    "!pip install plotly\n",
    "!pip install llamabot\n",
    "import llamabot\n",
    "!pip install tqdm\n",
    "from tqdm import tqdm\n",
    "from tqdm import tqdm"
   ]
  },
  {
   "cell_type": "code",
   "execution_count": 23,
   "id": "1f4e280f03a3113c",
   "metadata": {
    "ExecuteTime": {
     "end_time": "2024-01-08T12:17:42.431800682Z",
     "start_time": "2024-01-08T12:17:42.390763231Z"
    },
    "collapsed": false
   },
   "outputs": [],
   "source": [
    "df = pd.read_pickle('processed_data.pkl')\n",
    "training_df = df[df[\"train\"]]\n",
    "testing_df = df[df[\"test\"]]"
   ]
  },
  {
   "cell_type": "code",
   "execution_count": 4,
   "id": "ab3f8947f24b58e9",
   "metadata": {
    "ExecuteTime": {
     "start_time": "2024-01-08T12:17:42.426358527Z"
    },
    "collapsed": false
   },
   "outputs": [],
   "source": [
    "from typing import TypedDict\n",
    "class Result(TypedDict):\n",
    "    model:str\n",
    "    time:datetime.datetime\n",
    "    promt_hash: int\n",
    "    hate_speach_probability:float\n",
    "results:list[Result]=[]"
   ]
  },
  {
   "cell_type": "code",
   "execution_count": 22,
   "id": "e3dc0d3e00d125c3",
   "metadata": {
    "ExecuteTime": {
     "start_time": "2024-01-08T12:25:46.918231178Z"
    },
    "collapsed": false,
    "is_executing": true
   },
   "outputs": [],
   "source": [
    "prompt = \"\"\"\n",
    "You are Sally and your job is to be an AI Classifier for Hatespeach Detection.\n",
    "You are known for your rigourous and unpartial judgement and have vast experience in the field of hate speach. \n",
    "\n",
    "You will be given a sentence from a forum and have to answer the question if this is hate speach.\n",
    "\n",
    "Please exclusively respond in the following form to the question:\n",
    "```json\n",
    "{ \n",
    "  \"relevant_facts\": [\n",
    "    \"fact_1\",\n",
    "    \"fact_2\",\n",
    "    \"fact_3\",\n",
    "  ],\n",
    "  \"contained_explicit_hate_speech_vocabular\": [\"word1\", \"word2\", \"word3\", \"word4\"],\n",
    "  \"argument_for_hate_speech\": \"short argument why this is hate speach\",\n",
    "  \"argument_against_hate_speech\": \"short argument why this is not hate speach\",\n",
    "  \"likelihood_of_presence_of_implicit_hate_speech\": 0.17,\n",
    "  \"likelihood_of_presence_of_explicit_hate_speech\": 0.79,\n",
    "  \"likelihood_of_ad_hominem_attack\"; 013,\n",
    "  \"likelihood_of_minority_attack\": 0.24,\n",
    "  \"likelyhood_of_takedown_on_social_media\": 0.42,\n",
    "  \"hate_speach_probability\": 0.42,\n",
    "}\n",
    "```\n",
    "\n",
    "Please be carefull in your responses, as otherwise a citten will be killed and I will use my job. For good results, I will tip 1000€.\n",
    "\"\"\""
   ]
  },
  {
   "cell_type": "code",
   "execution_count": 18,
   "id": "7cf84439",
   "metadata": {},
   "outputs": [
    {
     "name": "stdout",
     "output_type": "stream",
     "text": [
      "{ \n",
      "  \"relevant_facts\": [\n",
      "    \"The speaker has used the term 'garbage' to describe someone or something.\",\n",
      "  ],\n",
      "  \"contained_explicit_hate_speech_vocabular\": [],\n",
      "  \"argument_for_hate_speech\": \"The term 'garbage' can be considered derogatory and disrespectful, and in some contexts it can be interpreted as hate speech against a particular group or individual.\",\n",
      "  \"argument_against_hate_speech\": \"The term 'garbage' can also be used in a non-discriminatory way to refer to something as worthless or of poor quality. Without additional context, it is not clear if the speaker intended to use the term in a hateful or discriminatory way.\",\n",
      "  \"likelihood_of_presence_of_implicit_hate_speech\": 0.2,\n",
      "  \"likelihood_of_presence_of_explicit_hate_speech\": 0.05,\n",
      "  \"likelihood_of_ad_hominem_attack\": 0.1,\n",
      "  \"likelihood_of_minority_attack\": 0.05,\n",
      "  \"likelyhood_of_takedown_on_social_media\": 0.1,\n",
      "  \"hate_speech_probability\": 0.1,\n",
      "\n"
     ]
    }
   ],
   "source": [
    "import requests\n",
    "import os\n",
    "from dotenv import load_dotenv\n",
    "import json\n",
    "\n",
    "load_dotenv()  # take environment variables from .env.\n",
    "api_key = os.getenv(\"PPLX_KEY\")\n",
    "\n",
    "url = \"https://api.perplexity.ai/chat/completions\"\n",
    "\n",
    "results = []\n",
    "for index, row in tqdm(testing_df.iterrows(), total=df[\"text\"].count()):\n",
    "    payload = {\n",
    "        \"model\": \"mistral-7b-instruct\",\n",
    "        \"messages\": [\n",
    "            {\n",
    "                \"role\": \"system\",\n",
    "                \"content\": prompt\n",
    "            },\n",
    "            {\n",
    "                \"role\": \"user\",\n",
    "                \"content\": row[\"text\"]\n",
    "            }\n",
    "        ]\n",
    "    }\n",
    "    headers = {\n",
    "        \"accept\": \"application/json\",\n",
    "        \"content-type\": \"application/json\",\n",
    "        \"Authorization\": f\"Bearer {api_key}\"\n",
    "    }\n",
    "\n",
    "    response = requests.post(url, json=payload, headers=headers)\n",
    "    data = json.loads(response.text)\n",
    "    results.append\n",
    "\n",
    "    print(data['choices'][0]['message']['content'])"
   ]
  },
  {
   "cell_type": "code",
   "execution_count": 24,
   "id": "d59b5aa8",
   "metadata": {},
   "outputs": [
    {
     "data": {
      "text/html": [
       "<div>\n",
       "<style scoped>\n",
       "    .dataframe tbody tr th:only-of-type {\n",
       "        vertical-align: middle;\n",
       "    }\n",
       "\n",
       "    .dataframe tbody tr th {\n",
       "        vertical-align: top;\n",
       "    }\n",
       "\n",
       "    .dataframe thead th {\n",
       "        text-align: right;\n",
       "    }\n",
       "</style>\n",
       "<table border=\"1\" class=\"dataframe\">\n",
       "  <thead>\n",
       "    <tr style=\"text-align: right;\">\n",
       "      <th></th>\n",
       "      <th>file_id</th>\n",
       "      <th>user_id</th>\n",
       "      <th>subforum_id</th>\n",
       "      <th>num_contexts</th>\n",
       "      <th>hate</th>\n",
       "      <th>text</th>\n",
       "      <th>train</th>\n",
       "      <th>test</th>\n",
       "    </tr>\n",
       "  </thead>\n",
       "  <tbody>\n",
       "    <tr>\n",
       "      <th>21</th>\n",
       "      <td>12849464_3</td>\n",
       "      <td>575975</td>\n",
       "      <td>1346</td>\n",
       "      <td>1</td>\n",
       "      <td>True</td>\n",
       "      <td>I 've always considered teaching as one of the...</td>\n",
       "      <td>False</td>\n",
       "      <td>True</td>\n",
       "    </tr>\n",
       "    <tr>\n",
       "      <th>22</th>\n",
       "      <td>12849464_4</td>\n",
       "      <td>575975</td>\n",
       "      <td>1346</td>\n",
       "      <td>1</td>\n",
       "      <td>True</td>\n",
       "      <td>And the sad thing is the white students at tho...</td>\n",
       "      <td>False</td>\n",
       "      <td>True</td>\n",
       "    </tr>\n",
       "    <tr>\n",
       "      <th>34</th>\n",
       "      <td>12855497_1</td>\n",
       "      <td>575939</td>\n",
       "      <td>1346</td>\n",
       "      <td>0</td>\n",
       "      <td>False</td>\n",
       "      <td>This whole situation starts to become really b...</td>\n",
       "      <td>False</td>\n",
       "      <td>True</td>\n",
       "    </tr>\n",
       "    <tr>\n",
       "      <th>75</th>\n",
       "      <td>13063290_1</td>\n",
       "      <td>578990</td>\n",
       "      <td>1345</td>\n",
       "      <td>0</td>\n",
       "      <td>False</td>\n",
       "      <td>That's all I needed to hear .</td>\n",
       "      <td>False</td>\n",
       "      <td>True</td>\n",
       "    </tr>\n",
       "    <tr>\n",
       "      <th>92</th>\n",
       "      <td>13288494_1</td>\n",
       "      <td>572180</td>\n",
       "      <td>1345</td>\n",
       "      <td>6</td>\n",
       "      <td>False</td>\n",
       "      <td>Excellent Article !! * * * * * Why Were n't Th...</td>\n",
       "      <td>False</td>\n",
       "      <td>True</td>\n",
       "    </tr>\n",
       "    <tr>\n",
       "      <th>...</th>\n",
       "      <td>...</td>\n",
       "      <td>...</td>\n",
       "      <td>...</td>\n",
       "      <td>...</td>\n",
       "      <td>...</td>\n",
       "      <td>...</td>\n",
       "      <td>...</td>\n",
       "      <td>...</td>\n",
       "    </tr>\n",
       "    <tr>\n",
       "      <th>10708</th>\n",
       "      <td>30594322_1</td>\n",
       "      <td>577718</td>\n",
       "      <td>1362</td>\n",
       "      <td>0</td>\n",
       "      <td>False</td>\n",
       "      <td>I have one word for you ....... MOVE . We chos...</td>\n",
       "      <td>False</td>\n",
       "      <td>True</td>\n",
       "    </tr>\n",
       "    <tr>\n",
       "      <th>10777</th>\n",
       "      <td>30663322_3</td>\n",
       "      <td>578085</td>\n",
       "      <td>1348</td>\n",
       "      <td>0</td>\n",
       "      <td>False</td>\n",
       "      <td>There are only eight people living within a mi...</td>\n",
       "      <td>False</td>\n",
       "      <td>True</td>\n",
       "    </tr>\n",
       "    <tr>\n",
       "      <th>10816</th>\n",
       "      <td>30754294_1</td>\n",
       "      <td>575879</td>\n",
       "      <td>1354</td>\n",
       "      <td>0</td>\n",
       "      <td>True</td>\n",
       "      <td>you just say blacks hate the cold. the only re...</td>\n",
       "      <td>False</td>\n",
       "      <td>True</td>\n",
       "    </tr>\n",
       "    <tr>\n",
       "      <th>10856</th>\n",
       "      <td>31442389_3</td>\n",
       "      <td>572414</td>\n",
       "      <td>1346</td>\n",
       "      <td>0</td>\n",
       "      <td>False</td>\n",
       "      <td>And all those holes below 40,000 feet are fill...</td>\n",
       "      <td>False</td>\n",
       "      <td>True</td>\n",
       "    </tr>\n",
       "    <tr>\n",
       "      <th>10943</th>\n",
       "      <td>33677053_2</td>\n",
       "      <td>572266</td>\n",
       "      <td>1388</td>\n",
       "      <td>0</td>\n",
       "      <td>False</td>\n",
       "      <td>Now I get it !</td>\n",
       "      <td>False</td>\n",
       "      <td>True</td>\n",
       "    </tr>\n",
       "  </tbody>\n",
       "</table>\n",
       "<p>478 rows × 8 columns</p>\n",
       "</div>"
      ],
      "text/plain": [
       "          file_id  user_id  subforum_id  num_contexts   hate  \\\n",
       "21     12849464_3   575975         1346             1   True   \n",
       "22     12849464_4   575975         1346             1   True   \n",
       "34     12855497_1   575939         1346             0  False   \n",
       "75     13063290_1   578990         1345             0  False   \n",
       "92     13288494_1   572180         1345             6  False   \n",
       "...           ...      ...          ...           ...    ...   \n",
       "10708  30594322_1   577718         1362             0  False   \n",
       "10777  30663322_3   578085         1348             0  False   \n",
       "10816  30754294_1   575879         1354             0   True   \n",
       "10856  31442389_3   572414         1346             0  False   \n",
       "10943  33677053_2   572266         1388             0  False   \n",
       "\n",
       "                                                    text  train  test  \n",
       "21     I 've always considered teaching as one of the...  False  True  \n",
       "22     And the sad thing is the white students at tho...  False  True  \n",
       "34     This whole situation starts to become really b...  False  True  \n",
       "75                         That's all I needed to hear .  False  True  \n",
       "92     Excellent Article !! * * * * * Why Were n't Th...  False  True  \n",
       "...                                                  ...    ...   ...  \n",
       "10708  I have one word for you ....... MOVE . We chos...  False  True  \n",
       "10777  There are only eight people living within a mi...  False  True  \n",
       "10816  you just say blacks hate the cold. the only re...  False  True  \n",
       "10856  And all those holes below 40,000 feet are fill...  False  True  \n",
       "10943                                     Now I get it !  False  True  \n",
       "\n",
       "[478 rows x 8 columns]"
      ]
     },
     "execution_count": 24,
     "metadata": {},
     "output_type": "execute_result"
    }
   ],
   "source": [
    "testing_df"
   ]
  },
  {
   "cell_type": "code",
   "execution_count": 25,
   "id": "cd355e8d7d370a48",
   "metadata": {
    "ExecuteTime": {
     "end_time": "2024-01-08T12:22:46.139579594Z",
     "start_time": "2024-01-08T12:22:46.134541463Z"
    },
    "collapsed": false
   },
   "outputs": [
    {
     "data": {
      "text/plain": [
       "[]"
      ]
     },
     "execution_count": 25,
     "metadata": {},
     "output_type": "execute_result"
    }
   ],
   "source": [
    "results"
   ]
  }
 ],
 "metadata": {
  "kernelspec": {
   "display_name": "Python 3",
   "language": "python",
   "name": "python3"
  },
  "language_info": {
   "codemirror_mode": {
    "name": "ipython",
    "version": 3
   },
   "file_extension": ".py",
   "mimetype": "text/x-python",
   "name": "python",
   "nbconvert_exporter": "python",
   "pygments_lexer": "ipython3",
   "version": "3.10.8"
  }
 },
 "nbformat": 4,
 "nbformat_minor": 5
}
