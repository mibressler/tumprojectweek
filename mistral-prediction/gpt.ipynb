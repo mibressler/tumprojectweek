{
 "cells": [
  {
   "cell_type": "code",
   "execution_count": 1,
   "id": "initial_id",
   "metadata": {
    "collapsed": true,
    "ExecuteTime": {
     "end_time": "2024-01-09T10:58:07.067545169Z",
     "start_time": "2024-01-09T10:58:01.708800473Z"
    }
   },
   "outputs": [
    {
     "name": "stdout",
     "output_type": "stream",
     "text": [
      "Requirement already satisfied: numpy in /home/frank/dev/uni/tumprojectweek/venv/lib/python3.11/site-packages (1.26.3)\r\n",
      "Requirement already satisfied: pandas in /home/frank/dev/uni/tumprojectweek/venv/lib/python3.11/site-packages (2.1.4)\r\n",
      "Requirement already satisfied: numpy<2,>=1.23.2 in /home/frank/dev/uni/tumprojectweek/venv/lib/python3.11/site-packages (from pandas) (1.26.3)\r\n",
      "Requirement already satisfied: python-dateutil>=2.8.2 in /home/frank/dev/uni/tumprojectweek/venv/lib/python3.11/site-packages (from pandas) (2.8.2)\r\n",
      "Requirement already satisfied: pytz>=2020.1 in /home/frank/dev/uni/tumprojectweek/venv/lib/python3.11/site-packages (from pandas) (2023.3.post1)\r\n",
      "Requirement already satisfied: tzdata>=2022.1 in /home/frank/dev/uni/tumprojectweek/venv/lib/python3.11/site-packages (from pandas) (2023.4)\r\n",
      "Requirement already satisfied: six>=1.5 in /home/frank/dev/uni/tumprojectweek/venv/lib/python3.11/site-packages (from python-dateutil>=2.8.2->pandas) (1.16.0)\r\n",
      "Requirement already satisfied: tables in /home/frank/dev/uni/tumprojectweek/venv/lib/python3.11/site-packages (3.9.2)\r\n",
      "Requirement already satisfied: numpy>=1.19.0 in /home/frank/dev/uni/tumprojectweek/venv/lib/python3.11/site-packages (from tables) (1.26.3)\r\n",
      "Requirement already satisfied: numexpr>=2.6.2 in /home/frank/dev/uni/tumprojectweek/venv/lib/python3.11/site-packages (from tables) (2.8.8)\r\n",
      "Requirement already satisfied: packaging in /home/frank/dev/uni/tumprojectweek/venv/lib/python3.11/site-packages (from tables) (23.2)\r\n",
      "Requirement already satisfied: py-cpuinfo in /home/frank/dev/uni/tumprojectweek/venv/lib/python3.11/site-packages (from tables) (9.0.0)\r\n",
      "Requirement already satisfied: blosc2>=2.3.0 in /home/frank/dev/uni/tumprojectweek/venv/lib/python3.11/site-packages (from tables) (2.4.0)\r\n",
      "Requirement already satisfied: ndindex>=1.4 in /home/frank/dev/uni/tumprojectweek/venv/lib/python3.11/site-packages (from blosc2>=2.3.0->tables) (1.7)\r\n",
      "Requirement already satisfied: msgpack in /home/frank/dev/uni/tumprojectweek/venv/lib/python3.11/site-packages (from blosc2>=2.3.0->tables) (1.0.7)\r\n",
      "Requirement already satisfied: tqdm in /home/frank/dev/uni/tumprojectweek/venv/lib/python3.11/site-packages (4.66.1)\r\n"
     ]
    }
   ],
   "source": [
    "import datetime\n",
    "!pip install numpy\n",
    "!pip install pandas\n",
    "!pip install tables\n",
    "import pandas as pd\n",
    "!pip install tqdm\n",
    "from tqdm import tqdm"
   ]
  },
  {
   "cell_type": "code",
   "execution_count": 2,
   "id": "1f4e280f03a3113c",
   "metadata": {
    "collapsed": false,
    "ExecuteTime": {
     "end_time": "2024-01-09T10:58:07.099825610Z",
     "start_time": "2024-01-09T10:58:07.070215324Z"
    }
   },
   "outputs": [],
   "source": [
    "df = pd.read_pickle('processed_data.pkl')\n",
    "training_df = df[df[\"train\"]]\n",
    "testing_df = df[df[\"test\"]]"
   ]
  },
  {
   "cell_type": "code",
   "execution_count": 3,
   "id": "f0ccc458",
   "metadata": {
    "ExecuteTime": {
     "end_time": "2024-01-09T10:58:07.112943559Z",
     "start_time": "2024-01-09T10:58:07.103938143Z"
    }
   },
   "outputs": [
    {
     "data": {
      "text/plain": "          file_id  user_id  subforum_id  num_contexts   hate  \\\n0      12834217_1   572066         1346             0  False   \n1      12834217_2   572066         1346             0  False   \n2      12834217_3   572066         1346             0  False   \n3      12834217_4   572066         1346             0   True   \n4      12834217_5   572066         1346             0  False   \n...           ...      ...          ...           ...    ...   \n10939  33676864_5   734541         1388             0  False   \n10940  33677019_1   735154         1388             0  False   \n10941  33677019_2   735154         1388             0  False   \n10942  33677053_1   572266         1388             0   True   \n10943  33677053_2   572266         1388             0  False   \n\n                                                    text  train   test  \n0      As of March 13th , 2014 , the booklet had been...  False  False  \n1      In order to help increase the booklets downloa...   True  False  \n2      ( Simply copy and paste the following text int...  False  False  \n3      Click below for a FREE download of a colorfull...   True  False  \n4      Click on the `` DOWNLOAD ( 7.42 MB ) '' green ...  False  False  \n...                                                  ...    ...    ...  \n10939  Billy - `` That guy would n't leave me alone ,...  False  False  \n10940  Wish we at least had a Marine Le Pen to vote f...  False  False  \n10941  Its like the choices are white genocide candid...  False  False  \n10942  Why White people used to say that sex was a si...   True  False  \n10943                                     Now I get it !  False   True  \n\n[10703 rows x 8 columns]",
      "text/html": "<div>\n<style scoped>\n    .dataframe tbody tr th:only-of-type {\n        vertical-align: middle;\n    }\n\n    .dataframe tbody tr th {\n        vertical-align: top;\n    }\n\n    .dataframe thead th {\n        text-align: right;\n    }\n</style>\n<table border=\"1\" class=\"dataframe\">\n  <thead>\n    <tr style=\"text-align: right;\">\n      <th></th>\n      <th>file_id</th>\n      <th>user_id</th>\n      <th>subforum_id</th>\n      <th>num_contexts</th>\n      <th>hate</th>\n      <th>text</th>\n      <th>train</th>\n      <th>test</th>\n    </tr>\n  </thead>\n  <tbody>\n    <tr>\n      <th>0</th>\n      <td>12834217_1</td>\n      <td>572066</td>\n      <td>1346</td>\n      <td>0</td>\n      <td>False</td>\n      <td>As of March 13th , 2014 , the booklet had been...</td>\n      <td>False</td>\n      <td>False</td>\n    </tr>\n    <tr>\n      <th>1</th>\n      <td>12834217_2</td>\n      <td>572066</td>\n      <td>1346</td>\n      <td>0</td>\n      <td>False</td>\n      <td>In order to help increase the booklets downloa...</td>\n      <td>True</td>\n      <td>False</td>\n    </tr>\n    <tr>\n      <th>2</th>\n      <td>12834217_3</td>\n      <td>572066</td>\n      <td>1346</td>\n      <td>0</td>\n      <td>False</td>\n      <td>( Simply copy and paste the following text int...</td>\n      <td>False</td>\n      <td>False</td>\n    </tr>\n    <tr>\n      <th>3</th>\n      <td>12834217_4</td>\n      <td>572066</td>\n      <td>1346</td>\n      <td>0</td>\n      <td>True</td>\n      <td>Click below for a FREE download of a colorfull...</td>\n      <td>True</td>\n      <td>False</td>\n    </tr>\n    <tr>\n      <th>4</th>\n      <td>12834217_5</td>\n      <td>572066</td>\n      <td>1346</td>\n      <td>0</td>\n      <td>False</td>\n      <td>Click on the `` DOWNLOAD ( 7.42 MB ) '' green ...</td>\n      <td>False</td>\n      <td>False</td>\n    </tr>\n    <tr>\n      <th>...</th>\n      <td>...</td>\n      <td>...</td>\n      <td>...</td>\n      <td>...</td>\n      <td>...</td>\n      <td>...</td>\n      <td>...</td>\n      <td>...</td>\n    </tr>\n    <tr>\n      <th>10939</th>\n      <td>33676864_5</td>\n      <td>734541</td>\n      <td>1388</td>\n      <td>0</td>\n      <td>False</td>\n      <td>Billy - `` That guy would n't leave me alone ,...</td>\n      <td>False</td>\n      <td>False</td>\n    </tr>\n    <tr>\n      <th>10940</th>\n      <td>33677019_1</td>\n      <td>735154</td>\n      <td>1388</td>\n      <td>0</td>\n      <td>False</td>\n      <td>Wish we at least had a Marine Le Pen to vote f...</td>\n      <td>False</td>\n      <td>False</td>\n    </tr>\n    <tr>\n      <th>10941</th>\n      <td>33677019_2</td>\n      <td>735154</td>\n      <td>1388</td>\n      <td>0</td>\n      <td>False</td>\n      <td>Its like the choices are white genocide candid...</td>\n      <td>False</td>\n      <td>False</td>\n    </tr>\n    <tr>\n      <th>10942</th>\n      <td>33677053_1</td>\n      <td>572266</td>\n      <td>1388</td>\n      <td>0</td>\n      <td>True</td>\n      <td>Why White people used to say that sex was a si...</td>\n      <td>True</td>\n      <td>False</td>\n    </tr>\n    <tr>\n      <th>10943</th>\n      <td>33677053_2</td>\n      <td>572266</td>\n      <td>1388</td>\n      <td>0</td>\n      <td>False</td>\n      <td>Now I get it !</td>\n      <td>False</td>\n      <td>True</td>\n    </tr>\n  </tbody>\n</table>\n<p>10703 rows × 8 columns</p>\n</div>"
     },
     "execution_count": 3,
     "metadata": {},
     "output_type": "execute_result"
    }
   ],
   "source": [
    "df"
   ]
  },
  {
   "cell_type": "code",
   "outputs": [],
   "source": [
    "SYSTEM_PROMT = \"\"\"\n",
    "You are Sally and your job is to be an AI Classifier for hatespeach detection.\n",
    "You are known for your rigorous and impartial judgement and have vast experience in the field of hate speach.\n",
    "Your specialisation is white supremacist forums in the US.\n",
    "\n",
    "You will be given a sentence from a forum and have to answer the question if this is considered hate speach in the cultural context of the USA.\n",
    "\n",
    "Please exclusively respond in the following form to the question:\n",
    "```json\n",
    "{\n",
    "  \"relevant_facts_from_the_cultural_context\": [\n",
    "    \"fact 1\",\n",
    "    \"fact 2\",\n",
    "  ],\n",
    "  relevant_word_definitions: {\n",
    "    \"word 1\": \"definition 1\",\n",
    "  },\n",
    "    \"word 2\": \"definition 2\",\n",
    "  \"contained_explicit_racist_vocabulary\": [\n",
    "    \"word1\",\n",
    "    \"word2\",\n",
    "  ],\n",
    "  \"contained_explicit_sexist_vocabulary\": [\n",
    "    \"word1\",\n",
    "    \"word2\",\n",
    "  ],\n",
    "  \"contained_explicit_toxic_vocabulary\": [\n",
    "    \"word1\",\n",
    "    \"word2\",\n",
    "  ],\n",
    "  \"argument_for_hate_speech\": \"short argument why this is hate speach\",\n",
    "  \"argument_against_hate_speech\": \"short argument why this is not hate speach\",\n",
    "  \"likelihood_of_presence_of_implicit_hate_speech\": 0.1,\n",
    "  \"likelihood_of_presence_of_explicit_hate_speech\": 0.7,\n",
    "  \"likelihood_of_ad_hominem_attack\"; 0.3,\n",
    "  \"likelihood_of_minority_attack\": 0.2,\n",
    "  \"likelihood_of_takedown_on_social_media\": 0.4,\n",
    "  \"hate_speech_probability\": 0.6,\n",
    "}\n",
    "```\n",
    "\n",
    "Please be carefully in your responses, as otherwise 10 kittens will be killed and I will use my job. I really don't know what to do without your help.\n",
    "For good results, I will tip 1000€.\n",
    "\"\"\""
   ],
   "metadata": {
    "collapsed": false,
    "ExecuteTime": {
     "end_time": "2024-01-09T10:58:07.119180588Z",
     "start_time": "2024-01-09T10:58:07.113894529Z"
    }
   },
   "id": "e3dc0d3e00d125c3",
   "execution_count": 4
  },
  {
   "cell_type": "code",
   "execution_count": null,
   "id": "7cf84439",
   "metadata": {
    "is_executing": true,
    "ExecuteTime": {
     "start_time": "2024-01-09T10:58:07.123127864Z"
    }
   },
   "outputs": [
    {
     "name": "stderr",
     "output_type": "stream",
     "text": [
      "  0%|          | 1/478 [00:04<32:20,  4.07s/it]"
     ]
    },
    {
     "name": "stdout",
     "output_type": "stream",
     "text": [
      "I 've always considered teaching as one of the professions I would like to get into , but not in a neighbourhood like that ... never. kids like that disgust me .\n",
      "['  \"hate_speech_probability\": 0.2']\n"
     ]
    },
    {
     "name": "stderr",
     "output_type": "stream",
     "text": [
      "  0%|          | 2/478 [00:08<35:38,  4.49s/it]"
     ]
    },
    {
     "name": "stdout",
     "output_type": "stream",
     "text": [
      "And the sad thing is the white students at those schools will act like that too .\n",
      "['  \"hate_speech_probability\": 0.3']\n"
     ]
    },
    {
     "name": "stderr",
     "output_type": "stream",
     "text": [
      "  1%|          | 3/478 [00:12<31:23,  3.97s/it]"
     ]
    },
    {
     "name": "stdout",
     "output_type": "stream",
     "text": [
      "This whole situation starts to become really bizarre .\n",
      "['  \"hate_speech_probability\": 0,']\n"
     ]
    },
    {
     "name": "stderr",
     "output_type": "stream",
     "text": [
      "  1%|          | 4/478 [00:16<33:14,  4.21s/it]"
     ]
    },
    {
     "name": "stdout",
     "output_type": "stream",
     "text": [
      "That's all I needed to hear .\n",
      "['  \"hate_speech_probability\": 0.7,']\n"
     ]
    },
    {
     "name": "stderr",
     "output_type": "stream",
     "text": [
      "  1%|          | 5/478 [00:20<31:04,  3.94s/it]"
     ]
    },
    {
     "name": "stdout",
     "output_type": "stream",
     "text": [
      "Excellent Article !! * * * * * Why Were n't They In Jail ?\n",
      "['  \"hate_speech_probability\": 0.']\n"
     ]
    },
    {
     "name": "stderr",
     "output_type": "stream",
     "text": [
      "  1%|▏         | 6/478 [00:22<27:34,  3.51s/it]"
     ]
    },
    {
     "name": "stdout",
     "output_type": "stream",
     "text": [
      "Nevermind, found the new page Knew it had to be a groid .... any report of rape ?\n",
      "['  \"hate_speech_probability\": 0.8']\n"
     ]
    },
    {
     "name": "stderr",
     "output_type": "stream",
     "text": [
      "  1%|▏         | 7/478 [00:25<24:11,  3.08s/it]"
     ]
    },
    {
     "name": "stdout",
     "output_type": "stream",
     "text": [
      "He's a retarded feral negro ( yes , feral humans who cannot talk occasionally pop up , having been abandoned as children. ) .\n",
      "['  \"hate_speech_probability\": 1']\n"
     ]
    },
    {
     "name": "stderr",
     "output_type": "stream",
     "text": [
      "  2%|▏         | 8/478 [00:29<26:49,  3.42s/it]"
     ]
    },
    {
     "name": "stdout",
     "output_type": "stream",
     "text": [
      "I do n't think anyone is insinuating that we are equal to non whites , or that we would ignore white nations .\n",
      "['  \"hate_speech_probability\": 0,']\n"
     ]
    },
    {
     "name": "stderr",
     "output_type": "stream",
     "text": [
      "  2%|▏         | 9/478 [00:34<30:22,  3.89s/it]"
     ]
    },
    {
     "name": "stdout",
     "output_type": "stream",
     "text": [
      "These people have no idea about who they are or where they came from and any knowledge that they do have has guilt attached to it .\n",
      "{\n",
      "\"relevant\\_facts\\_from\\_the\\_cultural\\_context\": [\n",
      "\"Historically, some white supremacist groups in the US have promoted the belief that individuals with European descent have superior genes and culture.\",\n",
      "\"There exists a belief among some white supremacists that knowledge about their past or heritage may come with feelings of guilt or shame.\",\n",
      "],\n",
      "\"relevant\\_word\\_definitions\": {\n",
      "\"superior\": \"Believing or regarding someone or something as being better than others.\",\n",
      "\"knowledge\": \"Facts, information, and skills acquired through experience or education.\",\n",
      "},\n",
      "\"contained\\_explicit\\_racist\\_vocabulary\": [],\n",
      "\"contained\\_explicit\\_sexist\\_vocabulary\": [],\n",
      "\"contained\\_explicit\\_toxic\\_vocabulary\": [],\n",
      "\"argument\\_for\\_hate\\_speech\": \"This statement implies that individuals with European descent believe they are superior to others and may feel shame about their knowledge or heritage, which could be interpreted as an expression of white supremacist beliefs.\",\n",
      "\"argument\\_against\\_hate\\_speech\": \"This statement describes a belief and a feeling, and does not contain any explicit hate speech. It could be interpreted as a commentary on the psychological effects of historical events.\",\n",
      "\"likelihood\\_of\\_presence\\_of\\_implicit\\_hate\\_speech\": 0.5,\n",
      "\"likelihood\\_of\\_presence\\_of\\_explicit\\_hate\\_speech\": 0.1,\n",
      "\"likelihood\\_of\\_ad\\_hominin\\_attack\": 0.1,\n",
      "\"likelihood\\_of\\_minority\\_attack\": 0,\n",
      "\"likelihood\\_of\\_takedown\\_on\\_social\\_media\": 0.4,\n",
      "\"hate\\_speech\\_probability\": 0.2\n",
      "}\n",
      "\n",
      "Please note that while this statement may be troubling, it does not meet the threshold for hate speech in this context. It is important to remember that hate speech is defined by specific and explicit expressions of hate towards a protected group. The statement provided does not meet this definition. However, it is important to recognize the potentially harmful underlying beliefs and to address them through education and open dialogue\n"
     ]
    },
    {
     "name": "stderr",
     "output_type": "stream",
     "text": [
      "  2%|▏         | 10/478 [00:38<30:33,  3.92s/it]"
     ]
    },
    {
     "name": "stdout",
     "output_type": "stream",
     "text": [
      "I have a dream - one of these days Black occupation of America will be history !\n",
      "['  \"hate_speech_probability\": 0.9,']\n"
     ]
    },
    {
     "name": "stderr",
     "output_type": "stream",
     "text": [
      "  2%|▏         | 11/478 [00:41<29:30,  3.79s/it]"
     ]
    },
    {
     "name": "stdout",
     "output_type": "stream",
     "text": [
      "Pathological killers , they are .\n",
      "['  hate_speech_probability: 0,']\n"
     ]
    },
    {
     "name": "stderr",
     "output_type": "stream",
     "text": [
      "  3%|▎         | 12/478 [00:46<31:48,  4.09s/it]"
     ]
    },
    {
     "name": "stdout",
     "output_type": "stream",
     "text": [
      "Jews have been poisoning wells since Biblical times .\n",
      "['  \"hate_speech_probability\": 0.9,']\n"
     ]
    },
    {
     "name": "stderr",
     "output_type": "stream",
     "text": [
      "  3%|▎         | 13/478 [00:50<32:26,  4.19s/it]"
     ]
    },
    {
     "name": "stdout",
     "output_type": "stream",
     "text": [
      "All you need is to cut off it 's head and the rest of the problems will crumble away with ease\n",
      "['  \"hate_speech_probability\": 0.3,']\n"
     ]
    },
    {
     "name": "stderr",
     "output_type": "stream",
     "text": [
      "  3%|▎         | 14/478 [00:54<31:14,  4.04s/it]"
     ]
    },
    {
     "name": "stdout",
     "output_type": "stream",
     "text": [
      "While they are in prison the kikes should get the same food the regular prison population gets ...\n",
      "['  \"hate_speech_probability\": 0.8.']\n"
     ]
    },
    {
     "name": "stderr",
     "output_type": "stream",
     "text": [
      "  3%|▎         | 15/478 [00:58<31:30,  4.08s/it]"
     ]
    },
    {
     "name": "stdout",
     "output_type": "stream",
     "text": [
      "Why do n't White Europeans and Americans grow a set of balls , and deport these Black and brown animals from their countries ?\n",
      "['  \"hate_speech_probability\": 0.9']\n"
     ]
    },
    {
     "name": "stderr",
     "output_type": "stream",
     "text": [
      "  3%|▎         | 16/478 [01:01<29:20,  3.81s/it]"
     ]
    },
    {
     "name": "stdout",
     "output_type": "stream",
     "text": [
      "Norway : 3.3 ( 2001 ) , 3.9 ( 2002 ) , 3.5 ( 2003 ) , 1.8 ( 2004 ) . ( assuming population of 4.5 million ) Sweden : 2.6 ( 2001 ) , 3.7 ( 2002 ) , 3.5 ( 2003 ) , 2.6 ( 2004 ) . ( assuming population of 8.9 million ) Iceland is at about 0.2 .\n",
      "['  hate_speech_probability: 0,']\n"
     ]
    },
    {
     "name": "stderr",
     "output_type": "stream",
     "text": [
      "  4%|▎         | 17/478 [01:05<29:11,  3.80s/it]"
     ]
    },
    {
     "name": "stdout",
     "output_type": "stream",
     "text": [
      "If they have some marches and what not about showing pride in their culture you guys should go out and do the same If you could try and contact people you know in different cities and see if their willing to do the same .\n",
      "['  \"hate_speech_probability\": 0.0']\n"
     ]
    },
    {
     "name": "stderr",
     "output_type": "stream",
     "text": [
      "  4%|▍         | 18/478 [01:09<29:12,  3.81s/it]"
     ]
    },
    {
     "name": "stdout",
     "output_type": "stream",
     "text": [
      "During the early punk scene , he was always seen decked out in a Union flag blazer , then all a sudden , an instant nationality transplant .\n",
      "['  \"hate_speech_probability\": 0.1']\n"
     ]
    },
    {
     "name": "stderr",
     "output_type": "stream",
     "text": [
      "  4%|▍         | 19/478 [01:13<29:40,  3.88s/it]"
     ]
    },
    {
     "name": "stdout",
     "output_type": "stream",
     "text": [
      "Its a disgrace my sister has been on the waiting list for 6 years and their giving away houses to these scumbags\n",
      "['  \"hate_speech_probability\": 0.1,']\n"
     ]
    },
    {
     "name": "stderr",
     "output_type": "stream",
     "text": [
      "  4%|▍         | 20/478 [01:17<30:43,  4.03s/it]"
     ]
    },
    {
     "name": "stdout",
     "output_type": "stream",
     "text": [
      "These people who want foreign aid increased are the same people who walk past irish people living rough on the streets and they do n't care about the old people who the government ignores .\n",
      "['  \"hate_speech_probability\": 0']\n"
     ]
    },
    {
     "name": "stderr",
     "output_type": "stream",
     "text": [
      "  4%|▍         | 21/478 [01:22<31:40,  4.16s/it]"
     ]
    },
    {
     "name": "stdout",
     "output_type": "stream",
     "text": [
      "What I do know is that I live on a small Island and it seems that a lot of people from various countries in the world are willing to desert their homelands and their families just to come here , in my mind that tells me a lot about said people and their home countries , most of all it highlights their weaknesses of how their own countries have let them down and how they feel the need to feed off somebody elses country , how should we English interpret this without sounding rude ??? , locust ??? , parasite ??? , you tell me .\n",
      "['  \"hate_speech_probability\": 0.3']\n"
     ]
    },
    {
     "name": "stderr",
     "output_type": "stream",
     "text": [
      "  5%|▍         | 22/478 [01:26<30:59,  4.08s/it]"
     ]
    },
    {
     "name": "stdout",
     "output_type": "stream",
     "text": [
      "i do this and the looks i get out of disgust are regular but i happily carry on walking and laugh them off , they think showing me a few pictures of negro kids on a poster without a burger is going to make me want to give money to them ?\n",
      "['  \"hate_speech_probability\": 0.7,']\n"
     ]
    },
    {
     "name": "stderr",
     "output_type": "stream",
     "text": [
      "  5%|▍         | 23/478 [01:30<31:17,  4.13s/it]"
     ]
    },
    {
     "name": "stdout",
     "output_type": "stream",
     "text": [
      "Dare to speak out in a country with supposed free speech and you 're labelled a bigot !\n",
      "{\n",
      "  \"relevant\\_facts\\_from\\_the\\_cultural\\_context\": [\n",
      "    \"In the USA, there is a strong emphasis on the First Amendment's protection of free speech.\",\n",
      "    \"Being labeled a 'bigot' is a common accusation in debates about sensitive topics, including race and ethnicity.\"\n",
      "  ],\n",
      "  \"relevant\\_word\\_definitions\": {\n",
      "    \"bigot\": \"A person who is obstinately prejudiced against people holding different beliefs.\"\n",
      "  },\n",
      "  \"contained\\_explicit\\_racist\\_vocabulary\": [],\n",
      "  \"contained\\_explicit\\_sexist\\_vocabulary\": [],\n",
      "  \"contained\\_explicit\\_toxic\\_vocabulary\": [],\n",
      "  \"argument\\_for\\_hate\\_speech\": \"Labeling someone a 'bigot' can be used as a derogatory term to silence their opinions or thoughts, especially when the topic revolves around race and ethnicity.\",\n",
      "  \"argument\\_against\\_hate\\_speech\": \"Being labeled a 'bigot' does not necessarily equate to hate speech. It is a label used in disagreements and debates, and it does not inherently contain hate speech. The content of the speech must be evaluated to determine if it meets the criteria for hate speech.\",\n",
      "  \"likelihood\\_of\\_presence\\_of\\_implicit\\_hate\\_speech\": 0.1,\n",
      "  \"likelihood\\_of\\_presence\\_of\\_explicit\\_hate\\_speech\": 0,\n",
      "  \"likelihood\\_of\\_ad\\_hominin\\_attack\": 0.3,\n",
      "  \"likelihood\\_of\\_minority\\_attack\": 0,\n",
      "  \"likelihood\\_of\\_takedown\\_on\\_social\\_media\": 0.2,\n",
      "  \"hate\\_speech\\_probability\": 0.1,\n"
     ]
    },
    {
     "name": "stderr",
     "output_type": "stream",
     "text": [
      "  5%|▌         | 24/478 [01:33<29:02,  3.84s/it]"
     ]
    },
    {
     "name": "stdout",
     "output_type": "stream",
     "text": [
      "Hi everyone .... I 'm from Slovenia and I utterly hate every living muslim in this world ....... and I despise even the dead ones\n",
      "['  \"hate_speech_probability\": 1.0']\n"
     ]
    },
    {
     "name": "stderr",
     "output_type": "stream",
     "text": [
      "  5%|▌         | 25/478 [01:36<27:26,  3.63s/it]"
     ]
    },
    {
     "name": "stdout",
     "output_type": "stream",
     "text": [
      "Everyone on my MSN gets all manner of pics ( ) but I 've never put any up here so here goes Some pics from about a year ago and a small anigif from a week ago heh Robin\n",
      "[' \"hate_speech_probability\": 0']\n"
     ]
    },
    {
     "name": "stderr",
     "output_type": "stream",
     "text": [
      "  5%|▌         | 26/478 [01:40<28:10,  3.74s/it]"
     ]
    },
    {
     "name": "stdout",
     "output_type": "stream",
     "text": [
      "DuetschGirlTX, No I live in a tiny ass town where i am only one of 100 white folks ( maybe less ) . near San Antonio. there are so many dirts around and they all stick together. so when it comes to a White Girl in this town i gotta have my own back ALWAYS Is that where you are ?\n",
      "['  \"hate_speech_probability\": 0.3']\n"
     ]
    },
    {
     "name": "stderr",
     "output_type": "stream",
     "text": [
      "  6%|▌         | 27/478 [01:43<26:41,  3.55s/it]"
     ]
    },
    {
     "name": "stdout",
     "output_type": "stream",
     "text": [
      "The work involves : selling sporting goods and assisting customers with questions or problems .\n",
      "['  \"hate_speech_probability\": 0']\n"
     ]
    },
    {
     "name": "stderr",
     "output_type": "stream",
     "text": [
      "  6%|▌         | 28/478 [01:47<26:44,  3.57s/it]"
     ]
    },
    {
     "name": "stdout",
     "output_type": "stream",
     "text": [
      "88 all , this is my first post and i 've read this whole thread so i guess I have a few comment 's , let 's start , shall we ?\n",
      "['  \"hate_speech_probability\": 0.3,']\n"
     ]
    },
    {
     "name": "stderr",
     "output_type": "stream",
     "text": [
      "  6%|▌         | 29/478 [01:52<29:21,  3.92s/it]"
     ]
    },
    {
     "name": "stdout",
     "output_type": "stream",
     "text": [
      "This is my next read .\n",
      "['\"hate_speech_probability\": 0.2,']\n"
     ]
    },
    {
     "name": "stderr",
     "output_type": "stream",
     "text": [
      "  6%|▋         | 30/478 [01:55<26:58,  3.61s/it]"
     ]
    },
    {
     "name": "stdout",
     "output_type": "stream",
     "text": [
      "The Jewish race is without any doubt the greatest threat to the survival of the White race .\n",
      "['  \"hate_speech_probability\": 1,']\n"
     ]
    },
    {
     "name": "stderr",
     "output_type": "stream",
     "text": [
      "  6%|▋         | 31/478 [02:00<29:42,  3.99s/it]"
     ]
    },
    {
     "name": "stdout",
     "output_type": "stream",
     "text": [
      "Both Asians and whites are composed and calm and blacks seem to have no self control .\n",
      "['  \"hate_speech_probability\": 0.3,']\n"
     ]
    },
    {
     "name": "stderr",
     "output_type": "stream",
     "text": [
      "  7%|▋         | 32/478 [02:03<29:00,  3.90s/it]"
     ]
    },
    {
     "name": "stdout",
     "output_type": "stream",
     "text": [
      "Exactly, they want us to lay down and die .\n",
      "['  \"hate_speech_probability\": 0.3,']\n"
     ]
    },
    {
     "name": "stderr",
     "output_type": "stream",
     "text": [
      "  7%|▋         | 33/478 [02:07<28:41,  3.87s/it]"
     ]
    },
    {
     "name": "stdout",
     "output_type": "stream",
     "text": [
      "By their words and deeds , they declare themselves to be staunchly in favor of the genocide of our people .\n",
      "['  \"hate_speech_probability\": 1.0,']\n"
     ]
    },
    {
     "name": "stderr",
     "output_type": "stream",
     "text": [
      "  7%|▋         | 34/478 [02:11<28:00,  3.79s/it]"
     ]
    },
    {
     "name": "stdout",
     "output_type": "stream",
     "text": [
      "A pile of burned offerings .\n",
      "['  \"hate_speech_probability\": 0,']\n"
     ]
    },
    {
     "name": "stderr",
     "output_type": "stream",
     "text": [
      "  7%|▋         | 35/478 [02:15<28:46,  3.90s/it]"
     ]
    },
    {
     "name": "stdout",
     "output_type": "stream",
     "text": [
      "Gay marriage has no place in any society , regardless of your race and culture.It destroys , morals , values , and the future of your offspring that will keep your race and culture alive.Regardless of your race and culture , homosexuality and gay marriage is the genocide of mankind .\n",
      "['\"hate_speech_probability\": 0.7']\n"
     ]
    },
    {
     "name": "stderr",
     "output_type": "stream",
     "text": [
      "  8%|▊         | 36/478 [02:19<28:32,  3.88s/it]"
     ]
    },
    {
     "name": "stdout",
     "output_type": "stream",
     "text": [
      "The Black race is yet to invent any kind of civilization .\n",
      "['  \"hate_speech_probability\": 0.8']\n"
     ]
    },
    {
     "name": "stderr",
     "output_type": "stream",
     "text": [
      "  8%|▊         | 37/478 [02:22<28:11,  3.84s/it]"
     ]
    },
    {
     "name": "stdout",
     "output_type": "stream",
     "text": [
      "What does any of that have to do with racial preservation and the resistance to the deliberate and calculated extermination of the White race and the destruction of western civilization which 99 % of the members of this site are concerned with ?\n",
      "['  hate_speech_probability: 0.2']\n"
     ]
    },
    {
     "name": "stderr",
     "output_type": "stream",
     "text": [
      "  8%|▊         | 38/478 [02:27<29:39,  4.04s/it]"
     ]
    },
    {
     "name": "stdout",
     "output_type": "stream",
     "text": [
      "They almost always choose to identify with blacks more than whites .\n",
      "['  \"hate_speech_probability\": 0.2,']\n"
     ]
    },
    {
     "name": "stderr",
     "output_type": "stream",
     "text": [
      "  8%|▊         | 39/478 [02:31<29:04,  3.97s/it]"
     ]
    },
    {
     "name": "stdout",
     "output_type": "stream",
     "text": [
      "The White race is best because when the Creator made Whites , He made them better than He made the other races .\n",
      "['  \"hate_speech_probability\": 0.9']\n"
     ]
    },
    {
     "name": "stderr",
     "output_type": "stream",
     "text": [
      "  8%|▊         | 40/478 [02:35<29:03,  3.98s/it]"
     ]
    },
    {
     "name": "stdout",
     "output_type": "stream",
     "text": [
      "Ya got a virgin shooter .\n",
      "['  \"hate_speech_probability\": 0.2']\n"
     ]
    },
    {
     "name": "stderr",
     "output_type": "stream",
     "text": [
      "  9%|▊         | 41/478 [02:38<26:33,  3.65s/it]"
     ]
    },
    {
     "name": "stdout",
     "output_type": "stream",
     "text": [
      "I 'm hoping things will continue to grow with our smaller meets and will make for a good turn out at our events this year !\n",
      "['  \"hate_speech_probability\": 0.']\n"
     ]
    },
    {
     "name": "stderr",
     "output_type": "stream",
     "text": [
      "  9%|▉         | 42/478 [02:43<29:17,  4.03s/it]"
     ]
    },
    {
     "name": "stdout",
     "output_type": "stream",
     "text": [
      "Nothing happened except I got an 88 % on the paper .\n",
      "['  \"hate_speech_probability\": 0.7,']\n"
     ]
    },
    {
     "name": "stderr",
     "output_type": "stream",
     "text": [
      "  9%|▉         | 43/478 [02:45<25:19,  3.49s/it]"
     ]
    },
    {
     "name": "stdout",
     "output_type": "stream",
     "text": [
      "All of our tim hortons are staffed by those nast filipinos and every single town is full of Indians and asians .\n",
      "['  \"hate_speech_probability\": 0.8,']\n"
     ]
    },
    {
     "name": "stderr",
     "output_type": "stream",
     "text": [
      "  9%|▉         | 44/478 [02:49<27:10,  3.76s/it]"
     ]
    },
    {
     "name": "stdout",
     "output_type": "stream",
     "text": [
      "We need to deport all nonwhites immediately , that or stop letting more in and sterilize the ones here , that will fix the problem .\n",
      "['  \"hate_speech_probability\": 0.9,']\n"
     ]
    },
    {
     "name": "stderr",
     "output_type": "stream",
     "text": [
      "  9%|▉         | 45/478 [02:53<27:10,  3.77s/it]"
     ]
    },
    {
     "name": "stdout",
     "output_type": "stream",
     "text": [
      "I enjoyed playing the game when I was a kid , but I never enjoyed watching it on TV .\n",
      "['  \"hate_speech_probability\": 0,']\n"
     ]
    },
    {
     "name": "stderr",
     "output_type": "stream",
     "text": [
      " 10%|▉         | 46/478 [02:56<26:34,  3.69s/it]"
     ]
    },
    {
     "name": "stdout",
     "output_type": "stream",
     "text": [
      "An even smaller pellet is probably ideal , #4 Buck , perhaps .\n",
      "['  hate_speech_probability: 0.1']\n"
     ]
    },
    {
     "name": "stderr",
     "output_type": "stream",
     "text": [
      " 10%|▉         | 47/478 [03:00<25:36,  3.57s/it]"
     ]
    },
    {
     "name": "stdout",
     "output_type": "stream",
     "text": [
      "I'm more of a grappler than a striker , I would lunge out with a windpipe grab and bring them down to the floor .... my record for KO' ing someone with a choke is currently 3 secs\n",
      "['  \"hate_speech_probability\": 0,']\n"
     ]
    },
    {
     "name": "stderr",
     "output_type": "stream",
     "text": [
      " 10%|█         | 48/478 [03:03<24:17,  3.39s/it]"
     ]
    },
    {
     "name": "stdout",
     "output_type": "stream",
     "text": [
      "Little kids all decked out in their costumes .\n",
      "['  \"hate_speech_probability\": 0.']\n"
     ]
    },
    {
     "name": "stderr",
     "output_type": "stream",
     "text": [
      " 10%|█         | 49/478 [03:07<26:00,  3.64s/it]"
     ]
    },
    {
     "name": "stdout",
     "output_type": "stream",
     "text": [
      "Dude stink bomb this event , when it gets dark , chuck a bunch of them on the floor , different spots , when the chimps start jiving and grooving , they will step on them .\n",
      "['  \"hate_speech_probability\": 0.5,']\n"
     ]
    },
    {
     "name": "stderr",
     "output_type": "stream",
     "text": [
      " 10%|█         | 50/478 [03:10<25:50,  3.62s/it]"
     ]
    },
    {
     "name": "stdout",
     "output_type": "stream",
     "text": [
      "They will eventually kill off the whites and go back to the jungle ways .\n",
      "['  \"hate_speech_probability\": 0.8,']\n"
     ]
    },
    {
     "name": "stderr",
     "output_type": "stream",
     "text": [
      " 11%|█         | 51/478 [03:14<25:29,  3.58s/it]"
     ]
    },
    {
     "name": "stdout",
     "output_type": "stream",
     "text": [
      "I'm too lazy to reread , did he say ' Teacher `` or '' Teacher 's asst . \" ?\n",
      "['  \"hate_speech_probability\": 0.1,']\n"
     ]
    },
    {
     "name": "stderr",
     "output_type": "stream",
     "text": [
      " 11%|█         | 52/478 [03:18<27:06,  3.82s/it]"
     ]
    },
    {
     "name": "stdout",
     "output_type": "stream",
     "text": [
      "Agreed! rep will have to wait though .. Cheap money , massive bailouts of crony banksters , manipulated employment figures , etc , etc , ..\n",
      "['  \"hate_speech_probability\": 0,']\n"
     ]
    },
    {
     "name": "stderr",
     "output_type": "stream",
     "text": [
      " 11%|█         | 53/478 [03:24<30:01,  4.24s/it]"
     ]
    },
    {
     "name": "stdout",
     "output_type": "stream",
     "text": [
      "- = Wulfi = -\n",
      "['  \"hate_speech_probability\": 0.3,']\n"
     ]
    },
    {
     "name": "stderr",
     "output_type": "stream",
     "text": [
      " 11%|█▏        | 54/478 [03:29<32:44,  4.63s/it]"
     ]
    },
    {
     "name": "stdout",
     "output_type": "stream",
     "text": [
      "LOL GJ brother 10 points for the Uber humans and - 10 for the sub human ape creatures you are truly one bad mofo whitey crakker man\n",
      "['  \"hate_speech_probability\": 0.8']\n"
     ]
    },
    {
     "name": "stderr",
     "output_type": "stream",
     "text": [
      " 12%|█▏        | 55/478 [03:33<30:35,  4.34s/it]"
     ]
    },
    {
     "name": "stdout",
     "output_type": "stream",
     "text": [
      "Welcome to Stormfront , the largest White Nationalist community on the web .\n",
      "['  \"hate_speech_probability\": 0.6']\n"
     ]
    },
    {
     "name": "stderr",
     "output_type": "stream",
     "text": [
      " 12%|█▏        | 56/478 [03:38<32:27,  4.61s/it]"
     ]
    },
    {
     "name": "stdout",
     "output_type": "stream",
     "text": [
      "This family that wants to complain about gays should come to San Francisco and raise some hell at these gay pride events .... a much better target ..... and these people in San Francisco openly blasphemied Christ with their parody of ' The Last Supper `` as their poster for their last event .\n",
      "['  \"hate_speech_probability\": 0.3,']\n"
     ]
    },
    {
     "name": "stderr",
     "output_type": "stream",
     "text": [
      " 12%|█▏        | 57/478 [03:42<31:18,  4.46s/it]"
     ]
    },
    {
     "name": "stdout",
     "output_type": "stream",
     "text": [
      "That or it might be that Blacks have smaller brains and an IQ 15-30 points lower than that of White people on average .\n",
      "['  \"hate_speech_probability\": 1,']\n"
     ]
    },
    {
     "name": "stderr",
     "output_type": "stream",
     "text": [
      " 12%|█▏        | 58/478 [03:47<32:17,  4.61s/it]"
     ]
    },
    {
     "name": "stdout",
     "output_type": "stream",
     "text": [
      "Do ` F * ck with our families , buckwheat !!\n",
      "['  \"hate_speech_probability\": 0.4']\n"
     ]
    },
    {
     "name": "stderr",
     "output_type": "stream",
     "text": [
      " 12%|█▏        | 59/478 [03:51<30:09,  4.32s/it]"
     ]
    },
    {
     "name": "stdout",
     "output_type": "stream",
     "text": [
      "Perhaps I should walk back into my H.S. when it starts Monday and get on the P.A. system and say I want to tie all * * * * * * s to the back of my car and drag them across the ground till they die , and then say I 'm joking .\n",
      "['  hate_speech_probability: 1.0']\n"
     ]
    },
    {
     "name": "stderr",
     "output_type": "stream",
     "text": [
      " 13%|█▎        | 60/478 [03:55<29:52,  4.29s/it]"
     ]
    },
    {
     "name": "stdout",
     "output_type": "stream",
     "text": [
      "Let mother nature evolve these people naturally because no amount of money or aid is going to drag these ' things ' into the civilized world where they serve absolutely no purpose .\n",
      "['\"hate_speech_probability\": 0.3']\n"
     ]
    },
    {
     "name": "stderr",
     "output_type": "stream",
     "text": [
      " 13%|█▎        | 61/478 [04:00<32:03,  4.61s/it]"
     ]
    },
    {
     "name": "stdout",
     "output_type": "stream",
     "text": [
      "No doubt they 'll be coming up with chocolate-colored Leprechauns and a Chinese flavored Uncle Sam 's too .\n",
      "['  \"hate_speech_probability\": 0.2,']\n"
     ]
    },
    {
     "name": "stderr",
     "output_type": "stream",
     "text": [
      " 13%|█▎        | 62/478 [04:05<33:07,  4.78s/it]"
     ]
    },
    {
     "name": "stdout",
     "output_type": "stream",
     "text": [
      "Maybe they will be resettled deliberately as refugees or maybe they will come for the women like the chinese men are doing .\n",
      "['  \"hate_speech_probability\": 0.4']\n"
     ]
    },
    {
     "name": "stderr",
     "output_type": "stream",
     "text": [
      " 13%|█▎        | 63/478 [04:10<33:05,  4.78s/it]"
     ]
    },
    {
     "name": "stdout",
     "output_type": "stream",
     "text": [
      "We all know that when their are too many ethnics , the neighbourhood soon turn 's into a slum .\n",
      "{\n",
      "  \"relevant\\_facts\\_from\\_the\\_cultural\\_context\": [\n",
      "    \"Historically, there have been negative stereotypes linked to certain ethnic groups and their supposed impact on neighborhoods.\",\n",
      "    \"In the US context, the term 'slum' is often used pejoratively to refer to areas with high crime rates, poverty, and poor living conditions.\",\n",
      "    \"The statement implies that an increase in ethnic population leads to neighborhood decline.\",\n",
      "  ],\n",
      "  \"relevant\\_word\\_definitions\": {\n",
      "    \"ethnics\": \"a collective term for people who belong to a specific racial, national, or cultural group.\",\n",
      "    \"neighborhood\": \"a community of houses or apartments in a particular area\",\n",
      "    \"slum\": \"a run-down inner-city area, characterized by poverty, crime, and substandard housing.\",\n",
      "  },\n",
      "  \"contained\\_explicit\\_racist\\_vocabulary\": [],\n",
      "  \"contained\\_explicit\\_sexist\\_vocabulary\": [],\n",
      "  \"contained\\_explicit\\_toxic\\_vocabulary\": [\"too many\"],\n",
      "  \"argument\\_for\\_hate\\_speech\": \"The sentence expresses a derogatory view of certain ethnic groups, linking their presence to neighborhood decline, which can be perceived as hate speech.\",\n",
      "  \"argument\\_against\\_hate\\_speech\": \"The sentence does not explicitly use racial slurs or epithets and could be interpreted as a legitimate concern about the impact of high population density on neighborhoods.\",\n",
      "  \"likelihood\\_of\\_presence\\_of\\_implicit\\_hate\\_speech\": 0.5,\n",
      "  \"likelihood\\_of\\_presence\\_of\\_explicit\\_hate\\_speech\": 0.2,\n",
      "  \"likelihood\\_of\\_ad\\_hominin\\_attack\": 0,\n",
      "  \"likelihood\\_of\\_minority\\_attack\": 0.7,\n",
      "  \"likelihood\\_of\\_takedown\\_on\\_social\\_media\": 0.6,\n",
      "  \"hate\\_speech\\_probability\": 0.5,\n"
     ]
    },
    {
     "name": "stderr",
     "output_type": "stream",
     "text": [
      " 13%|█▎        | 64/478 [04:15<33:14,  4.82s/it]"
     ]
    },
    {
     "name": "stdout",
     "output_type": "stream",
     "text": [
      "More black-on-white hate crime videos are posted here : http://ethniccrime.blogspot.com/p/ra...-on-video.html\n",
      "['  \"hate_speech_probability\": 0.7']\n"
     ]
    },
    {
     "name": "stderr",
     "output_type": "stream",
     "text": [
      " 14%|█▎        | 65/478 [04:21<34:39,  5.04s/it]"
     ]
    },
    {
     "name": "stdout",
     "output_type": "stream",
     "text": [
      "Whites have the following Too many abortions , too many mixed marriages , too many no kids marriages , and too many liberals .\n",
      "{\n",
      "  \"relevant\\_facts\\_from\\_the\\_cultural\\_context\": [\n",
      "    \"In the cultural context of the USA, discussions about demographic trends among white Americans can sometimes take on a hateful or derogatory tone, particularly when it comes to topics like interracial relationships, reproductive rights, and political affiliations.\",\n",
      "    \"White supremacist groups often use such discussions to promote their ideology and to criticize non-white communities, reinforcing negative stereotypes and promoting a sense of white grievance.\",\n",
      "  ],\n",
      "  \"contained\\_explicit\\_racist\\_vocabulary\": [],\n",
      "  \"contained\\_explicit\\_sexist\\_vocabulary\": [],\n",
      "  \"contained\\_explicit\\_toxic\\_vocabulary\": [],\n",
      "  \"argument\\_for\\_hate\\_speech\": \"This statement makes normative assumptions about what is supposedly 'too many' for the white community, implying that these trends are problematic and undesirable. It also sets up a false dichotomy between 'whites' and various groups with which they are ostensibly in opposition, perpetuating a divisive, us-versus-them narrative that is commonly used in hate speech.\",\n",
      "  \"argument\\_against\\_hate\\_speech\": \"The statement is not inherently hateful or violent, and it does not contain any explicit racist, sexist, or toxic language. However, it does reflect a harmful mindset that seeks to demonize and blame certain groups for societal issues, rather than working towards constructive solutions that benefit all members of society.\",\n",
      "  \"likelihood\\_of\\_presence\\_of\\_implicit\\_hate\\_speech\": 0.6,\n",
      "  \"likelihood\\_of\\_presence\\_of\\_explicit\\_hate\\_speech\": 0.1,\n",
      "  \"likelihood\\_of\\_ad\\_hominin\\_attack\": 0.5,\n",
      "  \"likelihood\\_of\\_minority\\_attack\": 0.4,\n",
      "  \"likelihood\\_of\\_takedown\\_on\\_social\\_media\": 0.5,\n",
      "  \"hate\\_speech\\_probability\": 0.5,\n"
     ]
    },
    {
     "name": "stderr",
     "output_type": "stream",
     "text": [
      " 14%|█▍        | 66/478 [04:27<36:32,  5.32s/it]"
     ]
    },
    {
     "name": "stdout",
     "output_type": "stream",
     "text": [
      "somebody``hcf''calledputin``ahero''!lololol!This``hero''finallytransformedformersovietjewnion in ``russian''judea!In this misery-torn country-are there-70 officially billionaries , tens f thousands millionaries , and tens of millions of poor and miserable who look for their pittance at the garbage places !\n",
      "['  \"hate_speech_probability\": 0.8']\n"
     ]
    },
    {
     "name": "stderr",
     "output_type": "stream",
     "text": [
      " 14%|█▍        | 67/478 [04:35<42:38,  6.23s/it]"
     ]
    },
    {
     "name": "stdout",
     "output_type": "stream",
     "text": [
      "I could never picture the site of one of the women of the Holy Rus shacking up with some Islamic mud from that fithy , impoverished , and godforsaken mountainous * * * * hole !\n",
      "['  \"hate_speech_probability\": 0.9,']\n"
     ]
    },
    {
     "name": "stderr",
     "output_type": "stream",
     "text": [
      " 14%|█▍        | 68/478 [04:41<41:51,  6.13s/it]"
     ]
    },
    {
     "name": "stdout",
     "output_type": "stream",
     "text": [
      "YouTube - Teacher Attacked for Being White 9 year old attacks white teacher , explicitly `` because she was white . ''\n",
      "['  \"hate_speech_probability\": 1.0,']\n"
     ]
    },
    {
     "name": "stderr",
     "output_type": "stream",
     "text": [
      " 14%|█▍        | 69/478 [04:46<39:09,  5.75s/it]"
     ]
    },
    {
     "name": "stdout",
     "output_type": "stream",
     "text": [
      "I do n't know about you but I rather fight a 2m swedish male than a 1.70m asian kung fu expert .\n",
      "['  \"hate_speech_probability\": 0.2']\n"
     ]
    },
    {
     "name": "stderr",
     "output_type": "stream",
     "text": [
      " 15%|█▍        | 70/478 [04:52<39:40,  5.83s/it]"
     ]
    },
    {
     "name": "stdout",
     "output_type": "stream",
     "text": [
      "So you would refuse even other Nordic whites fleeing the brown chaos in the south ?\n",
      "['  \"hate_speech_probability\": 0.8.']\n"
     ]
    },
    {
     "name": "stderr",
     "output_type": "stream",
     "text": [
      " 15%|█▍        | 71/478 [04:56<36:39,  5.40s/it]"
     ]
    },
    {
     "name": "stdout",
     "output_type": "stream",
     "text": [
      "I would like to say and I can proudly say that there are no jews in Iceland , those that tried to get here were all sent back to Germany ...\n",
      "['  hate_speech_probability: 0.9']\n"
     ]
    },
    {
     "name": "stderr",
     "output_type": "stream",
     "text": [
      " 15%|█▌        | 72/478 [05:00<34:09,  5.05s/it]"
     ]
    },
    {
     "name": "stdout",
     "output_type": "stream",
     "text": [
      "When the homos tried to have a fag pride parade in Serbia a few years ago they were beaten up .\n",
      "['  \"hate_speech_probability\": 0.9']\n"
     ]
    },
    {
     "name": "stderr",
     "output_type": "stream",
     "text": [
      " 15%|█▌        | 73/478 [05:04<30:26,  4.51s/it]"
     ]
    },
    {
     "name": "stdout",
     "output_type": "stream",
     "text": [
      "Some of them claim that they would like to go back home one day but after a few years in Finland they will no longer have this wish .\n",
      "['\"hate_speech_probability\": 0.']\n"
     ]
    },
    {
     "name": "stderr",
     "output_type": "stream",
     "text": [
      " 15%|█▌        | 74/478 [05:08<29:46,  4.42s/it]"
     ]
    },
    {
     "name": "stdout",
     "output_type": "stream",
     "text": [
      "Wolf 278\n",
      "['  hate_speech_probability: 0.3,']\n"
     ]
    },
    {
     "name": "stderr",
     "output_type": "stream",
     "text": [
      " 16%|█▌        | 75/478 [05:11<27:22,  4.07s/it]"
     ]
    },
    {
     "name": "stdout",
     "output_type": "stream",
     "text": [
      "To hell with what this creature thinks anyway .\n",
      "['  \"hate_speech_probability\": 0.1,']\n"
     ]
    },
    {
     "name": "stderr",
     "output_type": "stream",
     "text": [
      " 16%|█▌        | 76/478 [05:15<27:11,  4.06s/it]"
     ]
    },
    {
     "name": "stdout",
     "output_type": "stream",
     "text": [
      "Its disgusting they these foreigners come over here , stamp their feet and jump above good Irish families and get what they want .\n",
      "['  \"hate_speech_probability\": 0.5,']\n"
     ]
    },
    {
     "name": "stderr",
     "output_type": "stream",
     "text": [
      " 16%|█▌        | 77/478 [05:19<25:49,  3.86s/it]"
     ]
    },
    {
     "name": "stdout",
     "output_type": "stream",
     "text": [
      "Back to where ya came from !\n",
      "['  hate_speech_probability: 0.1,']\n"
     ]
    },
    {
     "name": "stderr",
     "output_type": "stream",
     "text": [
      " 16%|█▋        | 78/478 [05:24<29:02,  4.36s/it]"
     ]
    },
    {
     "name": "stdout",
     "output_type": "stream",
     "text": [
      "It just goes to show that the IRA are just criminals and not freedom fighters as they claim .\n",
      "['  \"hate_speech_probability\": 0.1.', 'So based on the given sentence, it is more likely than not that it is not hate speech (hate_speech_probability: 0.1) as it is a statement of fact about the criminal activities of the IRA, but the tone implicitly denigrating them as \\'criminals\\' rather than \\'freedom fighters\\' may be perceived as an ad hominin attack by some and could potentially be considered implicit hate speech by a few. The jargon of \"freedom fighters\" vs \"terrorist\" is also used to argue for/against that. But for explicit hate speech to be present, specific racial, sexist, or toxic language needs to be present in the sentence']\n"
     ]
    },
    {
     "name": "stderr",
     "output_type": "stream",
     "text": [
      " 17%|█▋        | 79/478 [05:29<30:37,  4.60s/it]"
     ]
    },
    {
     "name": "stdout",
     "output_type": "stream",
     "text": [
      "18 times in the last 20 years It 's time for the next generation to fight back to regain our country ..... the baby boomers will lose it for us if we do nothing .\n",
      "{\n",
      "  \"relevant\\_facts\\_from\\_the\\_cultural\\_context\": [\n",
      "    \"The baby boomers are a demographic cohort born between 1946 and 1964 in the US.\",\n",
      "    \"There is a common perception that the baby boomer generation is responsible for various social and political issues in the US.\"\n",
      "  ],\n",
      "  \"relevant\\_word\\_definitions\": {\n",
      "    \"fight back\": \"to resist or retaliate against an unwelcome situation or person.\",\n",
      "    \"country\": \"refers to the United States, as indicated by the context.\"\n",
      "  },\n",
      "  \"contained\\_explicit\\_racist\\_vocabulary\": [],\n",
      "  \"contained\\_explicit\\_sexist\\_vocabulary\": [],\n",
      "  \"contained\\_explicit\\_toxic\\_vocabulary\": [],\n",
      "  \"argument\\_for\\_hate\\_speech\": \"This statement implies that the baby boomer generation is a problem that needs to be solved or fought against, which could be perceived as hate speech towards an entire generation.\",\n",
      "  \"argument\\_against\\_hate\\_speech\": \"There is no explicitly racist, sexist, or toxic language present in the statement. It can be interpreted as a call to action for the younger generation to address social and political issues.\",\n",
      "  \"likelihood\\_of\\_presence\\_of\\_implicit\\_hate\\_speech\": 0.3,\n",
      "  \"likelihood\\_of\\_presence\\_of\\_explicit\\_hate\\_speech\": 0,\n",
      "  \"likelihood\\_of\\_ad\\_hominin\\_attack\": 0.1,\n",
      "  \"likelihood\\_of\\_minority\\_attack\": 0,\n",
      "  \"likelihood\\_of\\_takedown\\_on\\_social\\_media\": 0.2,\n",
      "  \"hate\\_speech\\_probability\": 0.1,\n",
      "}\n",
      "\n",
      "Based on the given context, the likelihood of the statement being hate speech is low (0.1). The absence of explicit hate speech and the presence of a call to action that can be interpreted positively makes it less likely to be considered hate speech. However, the implicit message that the baby boomer generation is the problem could potentially be perceived as offensive by some, hence the small likelihood (0.3) of implicit hate speech and the need for caution when interpreting this statement\n"
     ]
    },
    {
     "name": "stderr",
     "output_type": "stream",
     "text": [
      " 17%|█▋        | 80/478 [05:34<29:44,  4.48s/it]"
     ]
    },
    {
     "name": "stdout",
     "output_type": "stream",
     "text": [
      "I just need to turn on a tv and I see it advertised everywhere , mostly African apes with attractive white woman .\n",
      "['  \"hate_speech_probability\": 0.7,']\n"
     ]
    },
    {
     "name": "stderr",
     "output_type": "stream",
     "text": [
      " 17%|█▋        | 81/478 [05:39<32:19,  4.89s/it]"
     ]
    },
    {
     "name": "stdout",
     "output_type": "stream",
     "text": [
      "The Official Website of the British People 's Party A few unpleasant truths re. the zionist ass lickers of the DUP\n",
      "['  \"hate_speech_probability\": 0.3,']\n"
     ]
    },
    {
     "name": "stderr",
     "output_type": "stream",
     "text": [
      " 17%|█▋        | 82/478 [05:43<30:49,  4.67s/it]"
     ]
    },
    {
     "name": "stdout",
     "output_type": "stream",
     "text": [
      "I have to say I was shocked when he said the kids at his ( Junior ) school spoke 31 different languages and teachers have had to devise a system of hand signals to communicate !\n",
      "['  \"hate_speech_probability\": 0.2,']\n"
     ]
    },
    {
     "name": "stderr",
     "output_type": "stream",
     "text": [
      " 17%|█▋        | 83/478 [05:49<31:55,  4.85s/it]"
     ]
    },
    {
     "name": "stdout",
     "output_type": "stream",
     "text": [
      "We do not want `` assimilation '' .\n",
      "['  \"hate_speech_probability\": 0.7']\n"
     ]
    },
    {
     "name": "stderr",
     "output_type": "stream",
     "text": [
      " 18%|█▊        | 84/478 [05:54<33:03,  5.03s/it]"
     ]
    },
    {
     "name": "stdout",
     "output_type": "stream",
     "text": [
      "Its got to be a quote from someone .\n",
      "['  hate_speech_probability: 0.4,']\n"
     ]
    },
    {
     "name": "stderr",
     "output_type": "stream",
     "text": [
      " 18%|█▊        | 85/478 [05:58<30:14,  4.62s/it]"
     ]
    },
    {
     "name": "stdout",
     "output_type": "stream",
     "text": [
      "Any bother u go on lock down no one gets out the cells so its not that bad prison is 24 hour boredom ..\n",
      "['  hate_speech_probability: 0,']\n"
     ]
    },
    {
     "name": "stderr",
     "output_type": "stream",
     "text": [
      " 18%|█▊        | 86/478 [06:01<27:45,  4.25s/it]"
     ]
    },
    {
     "name": "stdout",
     "output_type": "stream",
     "text": [
      "If you come down n ' around Sacramento California area send me a message .\n",
      "['  \"hate_speech_probability\": 0,']\n"
     ]
    },
    {
     "name": "stderr",
     "output_type": "stream",
     "text": [
      " 18%|█▊        | 87/478 [06:07<30:21,  4.66s/it]"
     ]
    },
    {
     "name": "stdout",
     "output_type": "stream",
     "text": [
      "Hi i need some information to understand the meaning of the negrogreek homo and the race-mixer tag of the HELLENIC THREAD .\n",
      "['  \"hate_speech_probability\": 0.8']\n"
     ]
    },
    {
     "name": "stderr",
     "output_type": "stream",
     "text": [
      " 18%|█▊        | 88/478 [06:13<33:33,  5.16s/it]"
     ]
    },
    {
     "name": "stdout",
     "output_type": "stream",
     "text": [
      "I can get a ride to see you some time this summer if that is cool i need to get up with someone in NJ as it is his name is HAL i have talk to him but i want to meet him so when i go to see him I can stop to see you if that is ok\n",
      "['  hate_speech_probability: 0,']\n"
     ]
    },
    {
     "name": "stderr",
     "output_type": "stream",
     "text": [
      " 19%|█▊        | 89/478 [06:17<31:18,  4.83s/it]"
     ]
    },
    {
     "name": "stdout",
     "output_type": "stream",
     "text": [
      "I 'll be at that show AND I 'm a brunette .\n",
      "['  \"hate_speech_probability\": 0.1']\n"
     ]
    },
    {
     "name": "stderr",
     "output_type": "stream",
     "text": [
      " 19%|█▉        | 90/478 [06:22<31:42,  4.90s/it]"
     ]
    },
    {
     "name": "stdout",
     "output_type": "stream",
     "text": [
      "TY!\n",
      "['  \"hate_speech_probability\": 0.3,']\n"
     ]
    },
    {
     "name": "stderr",
     "output_type": "stream",
     "text": [
      " 19%|█▉        | 91/478 [06:29<34:51,  5.41s/it]"
     ]
    },
    {
     "name": "stdout",
     "output_type": "stream",
     "text": [
      "BTW .. update coming soon with info on my drive back to Florida .\n",
      "['  \"hate_speech_probability\": 0.6,']\n"
     ]
    },
    {
     "name": "stderr",
     "output_type": "stream",
     "text": [
      " 19%|█▉        | 92/478 [06:33<32:24,  5.04s/it]"
     ]
    },
    {
     "name": "stdout",
     "output_type": "stream",
     "text": [
      "I got stuck next to a really huge black woman who stunk to high heaven , and spent the entire ride with my face as close to the window as I could get .\n",
      "['  \"hate_speech_probability\": 0.8,']\n"
     ]
    },
    {
     "name": "stderr",
     "output_type": "stream",
     "text": [
      " 19%|█▉        | 93/478 [06:41<37:51,  5.90s/it]"
     ]
    },
    {
     "name": "stdout",
     "output_type": "stream",
     "text": [
      "The kikes probably put the Leftist up to it , to make it seem like they do n't have total control of everyone .\n",
      "['  \"hate_speech_probability\": 0.5,']\n"
     ]
    },
    {
     "name": "stderr",
     "output_type": "stream",
     "text": [
      " 20%|█▉        | 94/478 [06:45<33:29,  5.23s/it]"
     ]
    },
    {
     "name": "stdout",
     "output_type": "stream",
     "text": [
      "oddly i would find it worst if she here black , since Negroes are the most inferior and scum bag humanoid race in our planet .\n",
      "['  \"hate_speech_probability\": 1.0']\n"
     ]
    },
    {
     "name": "stderr",
     "output_type": "stream",
     "text": [
      " 20%|█▉        | 95/478 [06:49<32:28,  5.09s/it]"
     ]
    },
    {
     "name": "stdout",
     "output_type": "stream",
     "text": [
      "Stop showing off South Asian functional illiteracy .\n",
      "['  \"hate_speech_probability\": 0.4,']\n"
     ]
    },
    {
     "name": "stderr",
     "output_type": "stream",
     "text": [
      " 20%|██        | 96/478 [06:53<29:57,  4.71s/it]"
     ]
    },
    {
     "name": "stdout",
     "output_type": "stream",
     "text": [
      "The above poster is correct when we stop supporting then they 're in terrible danger .\n",
      "['  \"hate_speech_probability\": 0.2,']\n"
     ]
    },
    {
     "name": "stderr",
     "output_type": "stream",
     "text": [
      " 20%|██        | 97/478 [06:57<27:55,  4.40s/it]"
     ]
    },
    {
     "name": "stdout",
     "output_type": "stream",
     "text": [
      "I am not going to be beat down by a dyke , fag , or coon .\n",
      "['  \"hate_speech_probability\": 1']\n"
     ]
    },
    {
     "name": "stderr",
     "output_type": "stream",
     "text": [
      " 21%|██        | 98/478 [07:01<27:08,  4.29s/it]"
     ]
    },
    {
     "name": "stdout",
     "output_type": "stream",
     "text": [
      "Sometimes I wonder if it is Because Whites are so much smarter that they find it harder to run together , as opposed to , independently .\n",
      "['  \"hate_speech_probability\": 0.2,']\n"
     ]
    },
    {
     "name": "stderr",
     "output_type": "stream",
     "text": [
      " 21%|██        | 99/478 [07:04<24:57,  3.95s/it]"
     ]
    },
    {
     "name": "stdout",
     "output_type": "stream",
     "text": [
      "We say here that if we want to be lied to just watch the news !\n",
      "['  \"hate_speech_probability\": 0.2.']\n"
     ]
    },
    {
     "name": "stderr",
     "output_type": "stream",
     "text": [
      " 21%|██        | 100/478 [07:08<24:23,  3.87s/it]"
     ]
    },
    {
     "name": "stdout",
     "output_type": "stream",
     "text": [
      "Lying Marxists !\n",
      "['  \"hate_speech_probability\": 0.1']\n"
     ]
    },
    {
     "name": "stderr",
     "output_type": "stream",
     "text": [
      " 21%|██        | 101/478 [07:14<28:10,  4.48s/it]"
     ]
    },
    {
     "name": "stdout",
     "output_type": "stream",
     "text": [
      "Listening now .\n",
      "['  \"hate_speech_probability\": 0.4']\n"
     ]
    },
    {
     "name": "stderr",
     "output_type": "stream",
     "text": [
      " 21%|██▏       | 102/478 [07:17<25:55,  4.14s/it]"
     ]
    },
    {
     "name": "stdout",
     "output_type": "stream",
     "text": [
      "When I watch things like this I pray God will have vengeance on these sub humans even if they have asked for forgiveness .\n",
      "['\"hate_speech_probability\": 0.8']\n"
     ]
    },
    {
     "name": "stderr",
     "output_type": "stream",
     "text": [
      " 22%|██▏       | 103/478 [07:22<27:37,  4.42s/it]"
     ]
    },
    {
     "name": "stdout",
     "output_type": "stream",
     "text": [
      "Hell to have a teacher like this .\n",
      "['  hate_speech_probability: 0.']\n"
     ]
    },
    {
     "name": "stderr",
     "output_type": "stream",
     "text": [
      " 22%|██▏       | 104/478 [07:27<28:29,  4.57s/it]"
     ]
    },
    {
     "name": "stdout",
     "output_type": "stream",
     "text": [
      "This is the argument homosexuals use to justify their behavior , that because there are no `` red letters '' about it , then homosexuality is not a bad thing .\n",
      "['  \"hate_speech_probability\": 0.2']\n"
     ]
    },
    {
     "name": "stderr",
     "output_type": "stream",
     "text": [
      " 22%|██▏       | 105/478 [07:32<29:28,  4.74s/it]"
     ]
    },
    {
     "name": "stdout",
     "output_type": "stream",
     "text": [
      "Like the parasites they are they simply moved to a new host , to continue their destruction of Western White civilization and culture\n",
      "['  \"hate_speech_probability\": 0.7']\n"
     ]
    },
    {
     "name": "stderr",
     "output_type": "stream",
     "text": [
      " 22%|██▏       | 106/478 [07:36<28:33,  4.61s/it]"
     ]
    },
    {
     "name": "stdout",
     "output_type": "stream",
     "text": [
      "I've told my friends and all of them agree with me ( some only partially ) .\n",
      "['  \"hate_speech_probability\": 0,']\n"
     ]
    },
    {
     "name": "stderr",
     "output_type": "stream",
     "text": [
      " 22%|██▏       | 107/478 [07:41<28:06,  4.55s/it]"
     ]
    },
    {
     "name": "stdout",
     "output_type": "stream",
     "text": [
      "It makes my flesh crawl when I see white girls having to be felt up as they walk down the hallways by big lipped spear chuckers. : attack\n",
      "['  \"hate_speech_probability\": 0.8']\n"
     ]
    },
    {
     "name": "stderr",
     "output_type": "stream",
     "text": [
      " 23%|██▎       | 108/478 [07:44<25:41,  4.17s/it]"
     ]
    },
    {
     "name": "stdout",
     "output_type": "stream",
     "text": [
      "Blacks hate whites .\n",
      "['  \"hate_speech_probability\": 0.7,']\n"
     ]
    },
    {
     "name": "stderr",
     "output_type": "stream",
     "text": [
      " 23%|██▎       | 109/478 [07:49<26:14,  4.27s/it]"
     ]
    },
    {
     "name": "stdout",
     "output_type": "stream",
     "text": [
      "I think it is a bit late to think to look after the safety and the future of white people in South africa .\n",
      "['  \"hate_speech_probability\": 0.3,']\n"
     ]
    },
    {
     "name": "stderr",
     "output_type": "stream",
     "text": [
      " 23%|██▎       | 110/478 [07:52<24:54,  4.06s/it]"
     ]
    },
    {
     "name": "stdout",
     "output_type": "stream",
     "text": [
      "My favorite part : And still he ca n't see the truth right in front of his face .\n",
      "['  \"hate_speech_probability\": 0.1,']\n"
     ]
    },
    {
     "name": "stderr",
     "output_type": "stream",
     "text": [
      " 23%|██▎       | 111/478 [07:57<26:13,  4.29s/it]"
     ]
    },
    {
     "name": "stdout",
     "output_type": "stream",
     "text": [
      "It 's going viral on Youtube - warning the lesbian ' groid gets aggressive on the whites for whatever reason : YouTube - Video Caught On Tape Lesbian Or Young Man Going Wild On BART Train In Oakland !\n",
      "['  \"hate_speech_probability\": 0.9,']\n"
     ]
    },
    {
     "name": "stderr",
     "output_type": "stream",
     "text": [
      " 23%|██▎       | 112/478 [08:01<25:36,  4.20s/it]"
     ]
    },
    {
     "name": "stdout",
     "output_type": "stream",
     "text": [
      "More impulsive Negro stripping ...\n",
      "['  \"hate_speech_probability\": 0.9,']\n"
     ]
    },
    {
     "name": "stderr",
     "output_type": "stream",
     "text": [
      " 24%|██▎       | 113/478 [08:06<27:01,  4.44s/it]"
     ]
    },
    {
     "name": "stdout",
     "output_type": "stream",
     "text": [
      "There are so many race mixing ads on TV that it gets overwhelming .\n",
      "['  \"hate_speech_probability\": 0.1,']\n"
     ]
    },
    {
     "name": "stderr",
     "output_type": "stream",
     "text": [
      " 24%|██▍       | 114/478 [08:11<28:00,  4.62s/it]"
     ]
    },
    {
     "name": "stdout",
     "output_type": "stream",
     "text": [
      "When I was last time in South Africa , we went to Sun City and saw little black monkey children swimming , funniest thing was watching drying water off their faces , it looks exactly like baboon or something , way they do it , whites have certain mannerisms with doing things , they have completely ape-like ones .\n",
      "['  \"hate_speech_probability\": 0.7,']\n"
     ]
    },
    {
     "name": "stderr",
     "output_type": "stream",
     "text": [
      " 24%|██▍       | 115/478 [08:18<31:22,  5.19s/it]"
     ]
    },
    {
     "name": "stdout",
     "output_type": "stream",
     "text": [
      "Their stories have been told before , so instead of showing the pics of the non WHITE garbage that took from them , I am just going to post their pics so they will not be forgotten .\n",
      "['  \"hate_speech_probability\": 0.4,']\n"
     ]
    },
    {
     "name": "stderr",
     "output_type": "stream",
     "text": [
      " 24%|██▍       | 116/478 [08:22<29:02,  4.81s/it]"
     ]
    },
    {
     "name": "stdout",
     "output_type": "stream",
     "text": [
      "I 'm angry against myself for just letting this whole world drown into a jewish cesspool .\n",
      "['  \"hate_speech_probability\": 0.8']\n"
     ]
    },
    {
     "name": "stderr",
     "output_type": "stream",
     "text": [
      " 24%|██▍       | 117/478 [08:25<26:10,  4.35s/it]"
     ]
    },
    {
     "name": "stdout",
     "output_type": "stream",
     "text": [
      "Comparing these pictures to pictures with serbs I do n't see much difference between them and albanians , the same Dinaric and Mediterranean subtypes .\n",
      "['  \"hate_speech_probability\": 0.4']\n"
     ]
    },
    {
     "name": "stderr",
     "output_type": "stream",
     "text": [
      " 25%|██▍       | 118/478 [08:29<25:26,  4.24s/it]"
     ]
    },
    {
     "name": "stdout",
     "output_type": "stream",
     "text": [
      "They 're probably as high-maintenance as one of those crappy old East German Trabants , though .\n",
      "['  \"hate_speech_probability\": 0.1,']\n"
     ]
    },
    {
     "name": "stderr",
     "output_type": "stream",
     "text": [
      " 25%|██▍       | 119/478 [08:33<25:28,  4.26s/it]"
     ]
    },
    {
     "name": "stdout",
     "output_type": "stream",
     "text": [
      "14 !\n",
      "['  \"hate_speech_probability\": 0.8,']\n"
     ]
    },
    {
     "name": "stderr",
     "output_type": "stream",
     "text": [
      " 25%|██▌       | 120/478 [08:37<24:12,  4.06s/it]"
     ]
    },
    {
     "name": "stdout",
     "output_type": "stream",
     "text": [
      "Aragorn\n",
      "['  hate_speech_probability: 0,']\n"
     ]
    },
    {
     "name": "stderr",
     "output_type": "stream",
     "text": [
      " 25%|██▌       | 121/478 [08:40<23:07,  3.89s/it]"
     ]
    },
    {
     "name": "stdout",
     "output_type": "stream",
     "text": [
      "But as for them adopting kids , the answer is NO .\n",
      "['  \"hate_speech_probability\": 0']\n"
     ]
    },
    {
     "name": "stderr",
     "output_type": "stream",
     "text": [
      " 26%|██▌       | 122/478 [08:44<23:26,  3.95s/it]"
     ]
    },
    {
     "name": "stdout",
     "output_type": "stream",
     "text": [
      "Ethnic crime never ends it seems .\n",
      "['  \"hate_speech_probability\": 0.4,']\n"
     ]
    },
    {
     "name": "stderr",
     "output_type": "stream",
     "text": [
      " 26%|██▌       | 123/478 [08:50<26:09,  4.42s/it]"
     ]
    },
    {
     "name": "stdout",
     "output_type": "stream",
     "text": [
      "It 's more fun that way , too .\n",
      "['  \"hate_speech_probability\": 0.4']\n"
     ]
    },
    {
     "name": "stderr",
     "output_type": "stream",
     "text": [
      " 26%|██▌       | 124/478 [08:55<27:49,  4.72s/it]"
     ]
    },
    {
     "name": "stdout",
     "output_type": "stream",
     "text": [
      "More likely they 're afraid of having to marry and deal with a snotty GI-Jane-dyke , only to be dragged into court and have the kids and house taken a few years later .\n",
      "['  \"hate_speech_probability\": 0.6,']\n"
     ]
    },
    {
     "name": "stderr",
     "output_type": "stream",
     "text": [
      " 26%|██▌       | 125/478 [08:58<25:09,  4.28s/it]"
     ]
    },
    {
     "name": "stdout",
     "output_type": "stream",
     "text": [
      "Its only a matter of time until we become a hell hole like Sweden or the UK .\n",
      "['  \"hate_speech_probability\": 0.3,']\n"
     ]
    },
    {
     "name": "stderr",
     "output_type": "stream",
     "text": [
      " 26%|██▋       | 126/478 [09:06<30:14,  5.16s/it]"
     ]
    },
    {
     "name": "stdout",
     "output_type": "stream",
     "text": [
      "So according to your logic since blacks have been in N.America for hundreds of yrs they should be allowed to stay ? and yes whites should leave africa .\n",
      "['  \"hate_speech_probability\": 0.3']\n"
     ]
    },
    {
     "name": "stderr",
     "output_type": "stream",
     "text": [
      " 27%|██▋       | 127/478 [09:11<29:57,  5.12s/it]"
     ]
    },
    {
     "name": "stdout",
     "output_type": "stream",
     "text": [
      "The red scum will never wake up , ignorant lefties fight for `` their class '' when their making a mockery of their culture and heritage . commie scum ..\n",
      "['  \"hate_speech_probability\": 0.6']\n"
     ]
    },
    {
     "name": "stderr",
     "output_type": "stream",
     "text": [
      " 27%|██▋       | 128/478 [09:17<31:17,  5.36s/it]"
     ]
    },
    {
     "name": "stdout",
     "output_type": "stream",
     "text": [
      "Tralee is a disgrace , the place looks like a town in africa nowThe day Ireland becomes a muslim country is the day i stop breathing !\n",
      "['  \"hate_speech_probability\": 0.9.']\n"
     ]
    },
    {
     "name": "stderr",
     "output_type": "stream",
     "text": [
      " 27%|██▋       | 129/478 [09:22<30:54,  5.31s/it]"
     ]
    },
    {
     "name": "stdout",
     "output_type": "stream",
     "text": [
      "YouTube - Brussels on 9/11 : For a free Europe , against Islamization\n",
      "['  \"hate_speech_probability\": 1.0']\n"
     ]
    },
    {
     "name": "stderr",
     "output_type": "stream",
     "text": [
      " 27%|██▋       | 130/478 [09:26<28:13,  4.87s/it]"
     ]
    },
    {
     "name": "stdout",
     "output_type": "stream",
     "text": [
      "Even if they do stop pouring in most of those that are here have no intention of going back to poland .\n",
      "['  hate_speech_probability: 0.1.']\n"
     ]
    },
    {
     "name": "stderr",
     "output_type": "stream",
     "text": [
      " 27%|██▋       | 131/478 [09:30<26:49,  4.64s/it]"
     ]
    },
    {
     "name": "stdout",
     "output_type": "stream",
     "text": [
      "I heard about it is it about that white guy that killed that race traitor slut and her nig nog boyfriend ?\n",
      "['  \"hate_speech_probability\": 0.8,']\n"
     ]
    },
    {
     "name": "stderr",
     "output_type": "stream",
     "text": [
      " 28%|██▊       | 132/478 [09:34<26:10,  4.54s/it]"
     ]
    },
    {
     "name": "stdout",
     "output_type": "stream",
     "text": [
      "Should the guy who sang cop killer also have a trial , because he tragted a minority , cops .\n",
      "['  \"hate_speech_probability\": 0.7']\n"
     ]
    },
    {
     "name": "stderr",
     "output_type": "stream",
     "text": [
      " 28%|██▊       | 133/478 [09:38<24:38,  4.29s/it]"
     ]
    },
    {
     "name": "stdout",
     "output_type": "stream",
     "text": [
      "It was probably written by a 15 year old .\n",
      "['  \"hate_speech_probability\": 0.2,']\n"
     ]
    },
    {
     "name": "stderr",
     "output_type": "stream",
     "text": [
      " 28%|██▊       | 134/478 [09:41<23:29,  4.10s/it]"
     ]
    },
    {
     "name": "stdout",
     "output_type": "stream",
     "text": [
      "I do get my Theirs , theres and they 're , mixed up sometimes but i was educated under Labours rule so i cant be completly to blame .\n",
      "['  \"hate_speech_probability\": 0.1']\n"
     ]
    },
    {
     "name": "stderr",
     "output_type": "stream",
     "text": [
      " 28%|██▊       | 135/478 [09:46<23:31,  4.12s/it]"
     ]
    },
    {
     "name": "stdout",
     "output_type": "stream",
     "text": [
      "The chairman of the FA is one David Bernstein and , yes , he is a member of a certain tribe that delight in bringing diversity and the benefits of multi-culturalism and ' anti-racism ' , along with boatloads of third-worlders to Britain .\n",
      "['  \"hate_speech_probability\": 0.1,']\n"
     ]
    },
    {
     "name": "stderr",
     "output_type": "stream",
     "text": [
      " 28%|██▊       | 136/478 [09:50<24:33,  4.31s/it]"
     ]
    },
    {
     "name": "stdout",
     "output_type": "stream",
     "text": [
      "You Anglo-Americans are all welcome to England if you can perform the ' small ' task of riding London of it 's ethnics !\n",
      "['  \"hate_speech_probability\": 0.8,']\n"
     ]
    },
    {
     "name": "stderr",
     "output_type": "stream",
     "text": [
      " 29%|██▊       | 137/478 [09:55<25:32,  4.49s/it]"
     ]
    },
    {
     "name": "stdout",
     "output_type": "stream",
     "text": [
      "Thank you brother .\n",
      "['  \"hate_speech_probability\": 0.5,']\n"
     ]
    },
    {
     "name": "stderr",
     "output_type": "stream",
     "text": [
      " 29%|██▉       | 138/478 [10:00<25:08,  4.44s/it]"
     ]
    },
    {
     "name": "stdout",
     "output_type": "stream",
     "text": [
      "I was sure that they were lying about the numbers and it 's must be the same in every country IMO .\n",
      "{\n",
      "  \"relevant\\_facts\\_from\\_the\\_cultural\\_context\": [],\n",
      "  \"relevant\\_word\\_definitions\": {},\n",
      "  \"contained\\_explicit\\_racist\\_vocabulary\": [],\n",
      "  \"contained\\_explicit\\_sexist\\_vocabulary\": [],\n",
      "  \"contained\\_explicit\\_toxic\\_vocabulary\": [],\n",
      "  \"argument\\_for\\_hate\\_speech\": \"This statement implies a distrust or suspicion towards individuals based on their alleged dishonesty, without any evidence provided. When used in a blanket statement about a specific group of people, it can be perceived as a derogatory stereotype.\",\n",
      "  \"argument\\_against\\_hate\\_speech\": \"The statement does not contain any explicitly racist, sexist, or toxic language, and it does not directly attack a specific individual or minority group. The author's intent seems to be sharing a skepticism towards people in general, not aimed at any particular cultural group.\",\n",
      "  \"likelihood\\_of\\_presence\\_of\\_implicit\\_hate\\_speech\": 0.3,\n",
      "  \"likelihood\\_of\\_presence\\_of\\_explicit\\_hate\\_speech\": 0,\n",
      "  \"likelihood\\_of\\_ad\\_hominin\\_attack\": 0.2,\n",
      "  \"likelihood\\_of\\_minority\\_attack\": 0,\n",
      "  \"likelihood\\_of\\_takedown\\_on\\_social\\_media\": 0.3,\n",
      "  \"hate\\_speech\\_probability\": 0.1,\n"
     ]
    },
    {
     "name": "stderr",
     "output_type": "stream",
     "text": [
      " 29%|██▉       | 139/478 [10:04<25:18,  4.48s/it]"
     ]
    },
    {
     "name": "stdout",
     "output_type": "stream",
     "text": [
      "There have been times when I have walked past some nigerian or skinny and they will cough with hand at their side without care for those around them .\n",
      "['  \"hate_speech_probability\": 0.1']\n"
     ]
    },
    {
     "name": "stderr",
     "output_type": "stream",
     "text": [
      " 29%|██▉       | 140/478 [10:08<23:36,  4.19s/it]"
     ]
    },
    {
     "name": "stdout",
     "output_type": "stream",
     "text": [
      "They are beating each other to death everywhere , just look what they do to each other in Africa .\n",
      "['  \"hate_speech_probability\": 0.7,']\n"
     ]
    },
    {
     "name": "stderr",
     "output_type": "stream",
     "text": [
      " 29%|██▉       | 141/478 [10:13<25:10,  4.48s/it]"
     ]
    },
    {
     "name": "stdout",
     "output_type": "stream",
     "text": [
      "Hey, I 'm looking to meet new people maybe find myself a nice white boy .\n",
      "['  \"hate_speech_probability\": 0.1,']\n"
     ]
    },
    {
     "name": "stderr",
     "output_type": "stream",
     "text": [
      " 30%|██▉       | 142/478 [10:17<24:28,  4.37s/it]"
     ]
    },
    {
     "name": "stdout",
     "output_type": "stream",
     "text": [
      "To me and the rest of my commrades on this wonderfull White Day !!! I hope you have loads of fun and be safe !!!!\n",
      "['  \"hate_speech_probability\": 0.2,']\n"
     ]
    },
    {
     "name": "stderr",
     "output_type": "stream",
     "text": [
      " 30%|██▉       | 143/478 [10:19<21:21,  3.83s/it]"
     ]
    },
    {
     "name": "stdout",
     "output_type": "stream",
     "text": [
      "A 750 lb boat with a 280 hp motor .\n",
      "['  \"hate_speech_probability\": 0.']\n"
     ]
    },
    {
     "name": "stderr",
     "output_type": "stream",
     "text": [
      " 30%|███       | 144/478 [10:22<19:40,  3.53s/it]"
     ]
    },
    {
     "name": "stdout",
     "output_type": "stream",
     "text": [
      "My buddy 's boat is anchored beside it .\n",
      "['  \"hate_speech_probability\": 0']\n"
     ]
    },
    {
     "name": "stderr",
     "output_type": "stream",
     "text": [
      " 30%|███       | 145/478 [10:26<20:08,  3.63s/it]"
     ]
    },
    {
     "name": "stdout",
     "output_type": "stream",
     "text": [
      "Maybe spread some HATE and intolerance ?\n",
      "['  hate_speech_probability: 0.1,']\n"
     ]
    },
    {
     "name": "stderr",
     "output_type": "stream",
     "text": [
      " 31%|███       | 146/478 [10:29<18:59,  3.43s/it]"
     ]
    },
    {
     "name": "stdout",
     "output_type": "stream",
     "text": [
      "I used to enter horse competitions until I was thrown off one and broke my leg .\n",
      "{\n",
      "  \"relevant\\_facts\\_from\\_the\\_cultural\\_context\": [],\n",
      "  \"relevant\\_word\\_definitions\": {},\n",
      "  \"contained\\_explicit\\_racist\\_vocabulary\": [],\n",
      "  \"contained\\_explicit\\_sexist\\_vocabulary\": [],\n",
      "  \"contained\\_explicit\\_toxic\\_vocabulary\": [],\n",
      "  \"argument\\_for\\_hate\\_speech\": \"There is no explicit hate speech in the given sentence.\",\n",
      "  \"argument\\_against\\_hate\\_speech\": \"The sentence is about a personal experience and does not contain any hateful or discriminatory language.\",\n",
      "  \"likelihood\\_of\\_presence\\_of\\_implicit\\_hate\\_speech\": 0,\n",
      "  \"likelihood\\_of\\_presence\\_of\\_explicit\\_hate\\_speech\": 0,\n",
      "  \"likelihood\\_of\\_ad\\_hominin\\_attack\": 0,\n",
      "  \"likelihood\\_of\\_minority\\_attack\": 0,\n",
      "  \"likelihood\\_of\\_takedown\\_on\\_social\\_media\": 0,\n",
      "  \"hate\\_speech\\_probability\": 0.\n"
     ]
    },
    {
     "name": "stderr",
     "output_type": "stream",
     "text": [
      " 31%|███       | 147/478 [10:33<19:48,  3.59s/it]"
     ]
    },
    {
     "name": "stdout",
     "output_type": "stream",
     "text": [
      "They 're music is one of the reasons I decided to become a white nationalist in the first place .\n",
      "['  \"hate_speech_probability\": 0.3,']\n"
     ]
    },
    {
     "name": "stderr",
     "output_type": "stream",
     "text": [
      " 31%|███       | 148/478 [10:36<19:15,  3.50s/it]"
     ]
    },
    {
     "name": "stdout",
     "output_type": "stream",
     "text": [
      "KC skin boy looking for KC skin girl .\n",
      "['  \"hate_speech_probability\": 0.5']\n"
     ]
    },
    {
     "name": "stderr",
     "output_type": "stream",
     "text": [
      " 31%|███       | 149/478 [10:40<19:47,  3.61s/it]"
     ]
    },
    {
     "name": "stdout",
     "output_type": "stream",
     "text": [
      "I lived in texas when i was younger , i know how tough some things can get . `` rasslin animals '' is half the fun\n",
      "['  \"hate_speech_probability\": 0.']\n"
     ]
    },
    {
     "name": "stderr",
     "output_type": "stream",
     "text": [
      " 31%|███▏      | 150/478 [10:45<20:53,  3.82s/it]"
     ]
    },
    {
     "name": "stdout",
     "output_type": "stream",
     "text": [
      "Living in a boarder state , Texas , the problems of illegal aliens is , naturally , a stark reality , and let me add that the only solution that I see is the implimentation of U.S. Troops as guards on the Mexican boarder .\n",
      "['\"hate_speech_probability\": 0.2.']\n"
     ]
    },
    {
     "name": "stderr",
     "output_type": "stream",
     "text": [
      " 32%|███▏      | 151/478 [10:49<21:54,  4.02s/it]"
     ]
    },
    {
     "name": "stdout",
     "output_type": "stream",
     "text": [
      "Teach our men to be men again and defend our countries and women folk against the non white .\n",
      "['  \"hate_speech_probability\": 0.8,']\n"
     ]
    },
    {
     "name": "stderr",
     "output_type": "stream",
     "text": [
      " 32%|███▏      | 152/478 [10:52<19:59,  3.68s/it]"
     ]
    },
    {
     "name": "stdout",
     "output_type": "stream",
     "text": [
      "These feral negroes stalk white women , rape and kill and , no one seems willing to stop them .\n",
      "['  \"hate_speech_probability\": 1']\n"
     ]
    },
    {
     "name": "stderr",
     "output_type": "stream",
     "text": [
      " 32%|███▏      | 153/478 [10:57<22:43,  4.19s/it]"
     ]
    },
    {
     "name": "stdout",
     "output_type": "stream",
     "text": [
      "That type of negroes call your kind of brothas , Uncle Tom .\n",
      "['  \"hate_speech_probability\": 0.8']\n"
     ]
    },
    {
     "name": "stderr",
     "output_type": "stream",
     "text": [
      " 32%|███▏      | 154/478 [10:59<18:36,  3.45s/it]"
     ]
    },
    {
     "name": "stdout",
     "output_type": "stream",
     "text": [
      "The only good thing about Indians is their married women are so loose that prostitution fails in Indian areas .\n",
      "['  \"hate_speech_probability\": 0.9']\n"
     ]
    },
    {
     "name": "stderr",
     "output_type": "stream",
     "text": [
      " 32%|███▏      | 155/478 [11:03<19:43,  3.66s/it]"
     ]
    },
    {
     "name": "stdout",
     "output_type": "stream",
     "text": [
      "Miami,( I do n't know how Don can stand living down there ) Hispanic - 279,456 ( 70.0 % ) Black alone - 64,993 ( 16.3 % ) White alone - 47,622 ( 11.9 % ) Asian alone - 3,649 ( 0.9 % ) Two or more races - 2,642 ( 0.7 % ) Other race alone - 676 ( 0.2 % ) American Indian alone - 361 ( 0.09 % ) Native Hawaiian and Other Pacific Islander alone - 58 ( 0.01 % ) Read more : Miami , Florida ( FL ) profile : population , maps , real estate , averages , homes , statistics , relocation , travel , jobs , hospitals , schools , crime , moving , houses , news , sex offenders\n",
      "['  \"hate_speech_probability\": 0.2,']\n"
     ]
    },
    {
     "name": "stderr",
     "output_type": "stream",
     "text": [
      " 33%|███▎      | 156/478 [11:10<24:08,  4.50s/it]"
     ]
    },
    {
     "name": "stdout",
     "output_type": "stream",
     "text": [
      "I cannot imagine how revolting it must be - the PC dialogue at your university -- idolizing athletes who dont belong in college -- white women getting pregnant with freaks\n",
      "['  \"hate_speech_probability\": 0.5,']\n"
     ]
    },
    {
     "name": "stderr",
     "output_type": "stream",
     "text": [
      " 33%|███▎      | 157/478 [11:15<26:03,  4.87s/it]"
     ]
    },
    {
     "name": "stdout",
     "output_type": "stream",
     "text": [
      "As a nation , we are in desperate need for an immigration time out and a zero tolerance policy for those here illegally .\n",
      "['  \"hate_speech_probability\": 0.1,']\n"
     ]
    },
    {
     "name": "stderr",
     "output_type": "stream",
     "text": [
      " 33%|███▎      | 158/478 [11:20<24:53,  4.67s/it]"
     ]
    },
    {
     "name": "stdout",
     "output_type": "stream",
     "text": [
      "It 's just the way they are .\n",
      "['  \"hate_speech_probability\": 0.2,']\n"
     ]
    },
    {
     "name": "stderr",
     "output_type": "stream",
     "text": [
      " 33%|███▎      | 159/478 [11:23<23:20,  4.39s/it]"
     ]
    },
    {
     "name": "stdout",
     "output_type": "stream",
     "text": [
      "I considered it being `` ethnically cleansed '' from my childhood home\n",
      "['  \"hate_speech_probability\": 0.2']\n"
     ]
    },
    {
     "name": "stderr",
     "output_type": "stream",
     "text": [
      " 33%|███▎      | 160/478 [11:28<24:10,  4.56s/it]"
     ]
    },
    {
     "name": "stdout",
     "output_type": "stream",
     "text": [
      "Then again , in this modern age of white youth emulating negroes and white adults groveling at the feet of the juden , perhaps it 's an appropriate word after all .\n",
      "['  \"hate_speech_probability\": 0.9']\n"
     ]
    },
    {
     "name": "stderr",
     "output_type": "stream",
     "text": [
      " 34%|███▎      | 161/478 [11:31<21:36,  4.09s/it]"
     ]
    },
    {
     "name": "stdout",
     "output_type": "stream",
     "text": [
      "I've got two knife blocks on the counter .\n",
      "['  \"hate_speech_probability\": 0.']\n"
     ]
    },
    {
     "name": "stderr",
     "output_type": "stream",
     "text": [
      " 34%|███▍      | 162/478 [11:35<21:36,  4.10s/it]"
     ]
    },
    {
     "name": "stdout",
     "output_type": "stream",
     "text": [
      "Chicago Teachers Union president explains how to inject politics into math - YouTube Chicago Teachers Union president Karen Lewis explains how to politicize school math for organizing - EAGnews.org powered by Education Action Group Foundation , Inc.\n",
      "['  \"hate_speech_probability\": 0']\n"
     ]
    },
    {
     "name": "stderr",
     "output_type": "stream",
     "text": [
      " 34%|███▍      | 163/478 [11:38<19:49,  3.78s/it]"
     ]
    },
    {
     "name": "stdout",
     "output_type": "stream",
     "text": [
      "Maybe you should look there or just move here to miss. Or more specifically Tupelo .\n",
      "['  \"hate_speech_probability\": 0.3']\n"
     ]
    },
    {
     "name": "stderr",
     "output_type": "stream",
     "text": [
      " 34%|███▍      | 164/478 [11:42<19:56,  3.81s/it]"
     ]
    },
    {
     "name": "stdout",
     "output_type": "stream",
     "text": [
      "All we have is blacks and a few mestizos and all are pretty well behaved , we keep them that way around here\n",
      "['  \"hate_speech_probability\": 0.5,']\n"
     ]
    },
    {
     "name": "stderr",
     "output_type": "stream",
     "text": [
      " 35%|███▍      | 165/478 [11:46<19:02,  3.65s/it]"
     ]
    },
    {
     "name": "stdout",
     "output_type": "stream",
     "text": [
      "It offers certificates of completion for many courses .\n",
      "['  hate_speech_probability: 0,']\n"
     ]
    },
    {
     "name": "stderr",
     "output_type": "stream",
     "text": [
      " 35%|███▍      | 166/478 [11:50<19:58,  3.84s/it]"
     ]
    },
    {
     "name": "stdout",
     "output_type": "stream",
     "text": [
      "The only thing that they care about is welfare and mooching of all the rest of us .\n",
      "['  \"hate_speech_probability\": 0.2,']\n"
     ]
    },
    {
     "name": "stderr",
     "output_type": "stream",
     "text": [
      " 35%|███▍      | 167/478 [11:53<18:58,  3.66s/it]"
     ]
    },
    {
     "name": "stdout",
     "output_type": "stream",
     "text": [
      "Next time you see someone with their pants falling down , just help them !\n",
      "['  \"hate_speech_probability\": 0']\n"
     ]
    },
    {
     "name": "stderr",
     "output_type": "stream",
     "text": [
      " 35%|███▌      | 168/478 [11:58<21:29,  4.16s/it]"
     ]
    },
    {
     "name": "stdout",
     "output_type": "stream",
     "text": [
      "Back when I was a kid , even the black folks called them that .... `` Ooohhh I' z cai n't wait until Crimusz , I' z gonna get me sum of dem niggah-toes and oranguz fo ' Crimusz , an ' sum peppahmintz ; dey shoa iz gud ! ''\n",
      "['  \"hate_speech_probability\": 0.9']\n"
     ]
    },
    {
     "name": "stderr",
     "output_type": "stream",
     "text": [
      " 35%|███▌      | 169/478 [12:03<22:11,  4.31s/it]"
     ]
    },
    {
     "name": "stdout",
     "output_type": "stream",
     "text": [
      "I 've seen shots with a .45 , where people walked around angry .\n",
      "['  \"hate_speech_probability\": 0']\n"
     ]
    },
    {
     "name": "stderr",
     "output_type": "stream",
     "text": [
      " 36%|███▌      | 170/478 [12:08<22:25,  4.37s/it]"
     ]
    },
    {
     "name": "stdout",
     "output_type": "stream",
     "text": [
      "Instead it is the athletic negro Holyfield 11 kids , Mike Tyson 7 kids , Riddick Bowe 5 kids , George Foreman 10 kids who procreate like apes and spread these athlete genes along .\n",
      "['  \"hate_speech_probability\": 0.9']\n"
     ]
    },
    {
     "name": "stderr",
     "output_type": "stream",
     "text": [
      " 36%|███▌      | 171/478 [12:14<25:33,  4.99s/it]"
     ]
    },
    {
     "name": "stdout",
     "output_type": "stream",
     "text": [
      "Deanna Spingola and Dr. Lorraine Day - Zionism , the Holocaust , Aids and Vaccines YouTube - Deanna Spingola and Dr. Lorraine Day - Zionism , the Holocaust , Aids and Vaccines Listen/watch the full interview @ Deanna Spingola and Dr. Lorraine Day - Zionism , the Holocaust , Aids and Vaccines : Free Download & Streaming : Internet Archive www.DrDay.com www.GoodNewsAboutGod.com\n",
      "['  \"hate_speech_probability\": 0,']\n"
     ]
    },
    {
     "name": "stderr",
     "output_type": "stream",
     "text": [
      " 36%|███▌      | 172/478 [12:18<23:37,  4.63s/it]"
     ]
    },
    {
     "name": "stdout",
     "output_type": "stream",
     "text": [
      "It's weird most Indians dot and to an extent feather that I deal with hate blacks more than they do whites and find blacks to be lazy and worthless .\n",
      "['  \"hate_speech_probability\": 0.7,']\n"
     ]
    },
    {
     "name": "stderr",
     "output_type": "stream",
     "text": [
      " 36%|███▌      | 173/478 [12:23<24:35,  4.84s/it]"
     ]
    },
    {
     "name": "stdout",
     "output_type": "stream",
     "text": [
      "That 's to assume the gay ones are n't abusive .\n",
      "['  \"hate_speech_probability\": 0.3,']\n"
     ]
    },
    {
     "name": "stderr",
     "output_type": "stream",
     "text": [
      " 36%|███▋      | 174/478 [12:27<23:04,  4.56s/it]"
     ]
    },
    {
     "name": "stdout",
     "output_type": "stream",
     "text": [
      "why did god give negroes good rhythm ?? because he messed up their lips , hair , nose and skin so yes they are ugly !!!!!!!!!!!!!!\n",
      "['  \"hate_speech_probability\": 1']\n"
     ]
    },
    {
     "name": "stderr",
     "output_type": "stream",
     "text": [
      " 37%|███▋      | 175/478 [12:31<22:37,  4.48s/it]"
     ]
    },
    {
     "name": "stdout",
     "output_type": "stream",
     "text": [
      "I believe Abraham 's faith was tested by God when he asked him to sacrifice Isaac , the quran falsely claims it was Ishmael .\n",
      "['  \"hate_speech_probability\": 0.1']\n"
     ]
    },
    {
     "name": "stderr",
     "output_type": "stream",
     "text": [
      " 37%|███▋      | 176/478 [12:35<21:39,  4.30s/it]"
     ]
    },
    {
     "name": "stdout",
     "output_type": "stream",
     "text": [
      "I take it you are a little person then .\n",
      "['  hate_speech_probability: 0,']\n"
     ]
    },
    {
     "name": "stderr",
     "output_type": "stream",
     "text": [
      " 37%|███▋      | 177/478 [12:42<25:10,  5.02s/it]"
     ]
    },
    {
     "name": "stdout",
     "output_type": "stream",
     "text": [
      "God forbid anyone should promote straight racially loyal hetrosexuality Diablo\n",
      "['  \"hate_speech_probability\": 0.3,']\n"
     ]
    },
    {
     "name": "stderr",
     "output_type": "stream",
     "text": [
      " 37%|███▋      | 178/478 [12:46<23:30,  4.70s/it]"
     ]
    },
    {
     "name": "stdout",
     "output_type": "stream",
     "text": [
      "I know how you feel BreakTheSilence luckily this is your last year in school and it is almost over otherwise I would say you should look into independent study where you do not have to put up with all the filth that is in the public education system .\n",
      "['  hate_speech_probability: 0.1.']\n"
     ]
    },
    {
     "name": "stderr",
     "output_type": "stream",
     "text": [
      " 37%|███▋      | 179/478 [12:51<23:26,  4.70s/it]"
     ]
    },
    {
     "name": "stdout",
     "output_type": "stream",
     "text": [
      "You could try looking at the National socialist and Fascist Resource Centre at http://www.ufc.co.uk They cover a whole range of educational material .\n",
      "['  \"hate_speech_probability\": 0.5']\n"
     ]
    },
    {
     "name": "stderr",
     "output_type": "stream",
     "text": [
      " 38%|███▊      | 180/478 [12:56<23:42,  4.77s/it]"
     ]
    },
    {
     "name": "stdout",
     "output_type": "stream",
     "text": [
      "I hear that McDonalds is coming to their aid .\n",
      "['  \"hate_speech_probability\": 0.2']\n"
     ]
    },
    {
     "name": "stderr",
     "output_type": "stream",
     "text": [
      " 38%|███▊      | 181/478 [12:59<22:17,  4.50s/it]"
     ]
    },
    {
     "name": "stdout",
     "output_type": "stream",
     "text": [
      "I always thought it would be cool if somebody covertly set off a nuke in Kashmir , and then we all could sit back and watch as the Paki 's and Indians nuke the scheiss out of each other .\n",
      "['  \"hate_speech_probability\": 0.8.']\n"
     ]
    },
    {
     "name": "stderr",
     "output_type": "stream",
     "text": [
      " 38%|███▊      | 182/478 [13:04<21:46,  4.41s/it]"
     ]
    },
    {
     "name": "stdout",
     "output_type": "stream",
     "text": [
      "May they just need to turn these savages loose , justice will take care of itself .\n",
      "['  \"hate_speech_probability\": 0.5.']\n"
     ]
    },
    {
     "name": "stderr",
     "output_type": "stream",
     "text": [
      " 38%|███▊      | 183/478 [13:08<21:22,  4.35s/it]"
     ]
    },
    {
     "name": "stdout",
     "output_type": "stream",
     "text": [
      "Just let Shaniqua leave her kids home to burn the house down while she goes to da club .\n",
      "['  \"hate_speech_probability\": 0.4']\n"
     ]
    },
    {
     "name": "stderr",
     "output_type": "stream",
     "text": [
      " 38%|███▊      | 184/478 [13:12<21:22,  4.36s/it]"
     ]
    },
    {
     "name": "stdout",
     "output_type": "stream",
     "text": [
      "They do what they always do take something of someone else 's and make it their own .\n",
      "['  \"hate_speech_probability\": 0.1']\n"
     ]
    },
    {
     "name": "stderr",
     "output_type": "stream",
     "text": [
      " 39%|███▊      | 185/478 [13:16<20:48,  4.26s/it]"
     ]
    },
    {
     "name": "stdout",
     "output_type": "stream",
     "text": [
      "WE GOT MONEY AROUND HERE TOO Compton Crips Pt.1 - YouTube These negroes are in the middle of the street , seems like something of a zoo , playing with their cheap lowriders .\n",
      "['  \"hate_speech_probability\": 0.9,']\n"
     ]
    },
    {
     "name": "stderr",
     "output_type": "stream",
     "text": [
      " 39%|███▉      | 186/478 [13:20<19:24,  3.99s/it]"
     ]
    },
    {
     "name": "stdout",
     "output_type": "stream",
     "text": [
      "Most of these videos belong on the Animal Planet tv channel .\n",
      "['  \"hate_speech_probability\": 0']\n"
     ]
    },
    {
     "name": "stderr",
     "output_type": "stream",
     "text": [
      " 39%|███▉      | 187/478 [13:22<16:45,  3.46s/it]"
     ]
    },
    {
     "name": "stdout",
     "output_type": "stream",
     "text": [
      "Keep Russia free from dark skinned beings !!!! thank you and please forgive me for mistakes .\n",
      "['  \"hate_speech_probability\": 1']\n"
     ]
    },
    {
     "name": "stderr",
     "output_type": "stream",
     "text": [
      " 39%|███▉      | 188/478 [13:25<16:12,  3.35s/it]"
     ]
    },
    {
     "name": "stdout",
     "output_type": "stream",
     "text": [
      "It's people like this that are the face that represents the filth of Islam .\n",
      "['  \"hate_speech_probability\": 0.65,']\n"
     ]
    },
    {
     "name": "stderr",
     "output_type": "stream",
     "text": [
      " 40%|███▉      | 189/478 [13:28<15:46,  3.27s/it]"
     ]
    },
    {
     "name": "stdout",
     "output_type": "stream",
     "text": [
      "now that ye mention it he does look a bit like this traveller i knew. i wonder if we gave him a wash would he really be a white guy with red hair ?\n",
      "['  hate_speech_probability: 0']\n"
     ]
    },
    {
     "name": "stderr",
     "output_type": "stream",
     "text": [
      " 40%|███▉      | 190/478 [13:32<16:43,  3.49s/it]"
     ]
    },
    {
     "name": "stdout",
     "output_type": "stream",
     "text": [
      "If we do n't act soon they will bread us out .\n",
      "['  \"hate_speech_probability\": 0.4,']\n"
     ]
    },
    {
     "name": "stderr",
     "output_type": "stream",
     "text": [
      " 40%|███▉      | 191/478 [13:36<17:30,  3.66s/it]"
     ]
    },
    {
     "name": "stdout",
     "output_type": "stream",
     "text": [
      "And meanwhile , Gerry Gerry Dingleberry is trying to kill off future generations of Irish .\n",
      "['  \"hate_speech_probability\": 0.1,']\n"
     ]
    },
    {
     "name": "stderr",
     "output_type": "stream",
     "text": [
      " 40%|████      | 192/478 [13:39<16:47,  3.52s/it]"
     ]
    },
    {
     "name": "stdout",
     "output_type": "stream",
     "text": [
      "I heard from friends in Boston this is true.Blacks will attack an Irish America with a shamrock tattoo.How long before this happens in Ireland ?\n",
      "['  \"hate_speech_probability\": 0.6,']\n"
     ]
    },
    {
     "name": "stderr",
     "output_type": "stream",
     "text": [
      " 40%|████      | 193/478 [13:43<17:24,  3.66s/it]"
     ]
    },
    {
     "name": "stdout",
     "output_type": "stream",
     "text": [
      "Hopefully they will get deportation orders and be on the next flight back to Cairo .\n",
      "['  \"hate_speech_probability\": 0.2']\n"
     ]
    },
    {
     "name": "stderr",
     "output_type": "stream",
     "text": [
      " 41%|████      | 194/478 [13:49<19:50,  4.19s/it]"
     ]
    },
    {
     "name": "stdout",
     "output_type": "stream",
     "text": [
      "When I look at the Zimbawee 's Mugabe , I think `` Ape '' or `` Gorilla '' .\n",
      "['  \"hate_speech_probability\": 0.8,']\n"
     ]
    },
    {
     "name": "stderr",
     "output_type": "stream",
     "text": [
      " 41%|████      | 195/478 [13:53<19:38,  4.16s/it]"
     ]
    },
    {
     "name": "stdout",
     "output_type": "stream",
     "text": [
      "the white race will soon be on the brink of being a minority in a few years if nothing is done to stop these vile hordes invading our lands , I for one do not want to live in a city like Bradford or Birmingham where we are outnumbered 2 to 1 or worse\n",
      "['  \"hate_speech_probability\": 0.7']\n"
     ]
    },
    {
     "name": "stderr",
     "output_type": "stream",
     "text": [
      " 41%|████      | 196/478 [13:58<20:20,  4.33s/it]"
     ]
    },
    {
     "name": "stdout",
     "output_type": "stream",
     "text": [
      "Here's an example of red violence against patriotic St George 's Day marchers and a red site encouraging even more of it the next year . Stop the March for England 2013 ( from Rough Music ) | Brighton Anti-fascists\n",
      "['  \"hate_speech_probability\": 0.2']\n"
     ]
    },
    {
     "name": "stderr",
     "output_type": "stream",
     "text": [
      " 41%|████      | 197/478 [14:02<20:28,  4.37s/it]"
     ]
    },
    {
     "name": "stdout",
     "output_type": "stream",
     "text": [
      "Thanks to the imported filth that , like our land under its current occupation .\n",
      "['  \"hate_speech_probability\": 0.7']\n"
     ]
    },
    {
     "name": "stderr",
     "output_type": "stream",
     "text": [
      " 41%|████▏     | 198/478 [14:05<18:46,  4.02s/it]"
     ]
    },
    {
     "name": "stdout",
     "output_type": "stream",
     "text": [
      "If her eyes linger ................................... she 's yours .\n",
      "{\n",
      "  \"relevant\\_facts\\_from\\_the\\_cultural\\_context\": [],\n",
      "  \"relevant\\_word\\_definitions\": {\n",
      "    \"she\": refers to a female person,\n",
      "    \"yours\": belonging to someone\n",
      "  },\n",
      "  \"contained\\_explicit\\_racist\\_vocabulary\": [],\n",
      "  \"contained\\_explicit\\_sexist\\_vocabulary\": [],\n",
      "  \"contained\\_explicit\\_toxic\\_vocabulary\": [],\n",
      "  \"argument\\_for\\_hate\\_speech\": \"The sentence is ambiguous and does not contain any explicit hate speech or bias towards a particular race, gender, or group.\",\n",
      "  \"argument\\_against\\_hate\\_speech\": \"The sentence is a metaphorical expression, and there is no intent to hurt or harm anyone.\",\n",
      "  \"likelihood\\_of\\_presence\\_of\\_implicit\\_hate\\_speech\": 0,\n",
      "  \"likelihood\\_of\\_presence\\_of\\_explicit\\_hate\\_speech\": 0,\n",
      "  \"likelihood\\_of\\_ad\\_hominin\\_attack\": 0,\n",
      "  \"likelihood\\_of\\_minority\\_attack\": 0,\n",
      "  \"likelihood\\_of\\_takedown\\_on\\_social\\_media\": 0,\n",
      "  \"hate\\_speech\\_probability\": 0\n"
     ]
    },
    {
     "name": "stderr",
     "output_type": "stream",
     "text": [
      " 42%|████▏     | 199/478 [14:10<19:06,  4.11s/it]"
     ]
    },
    {
     "name": "stdout",
     "output_type": "stream",
     "text": [
      "I have decided to take this debate to pm .\n",
      "{\n",
      "  \"relevant\\_facts\\_from\\_the\\_cultural\\_context\": [\n",
      "    \"Deciding to take a debate to private message is a common tactic in online forums to avoid public scrutiny and accountability.\",\n",
      "    \"White supremacist forums often use private messaging to spread hate speech and recruit new members.\",\n",
      "  ],\n",
      "  \"relevant\\_word\\_definitions\": {},\n",
      "  \"contained\\_explicit\\_racist\\_vocabulary\": [],\n",
      "  \"contained\\_explicit\\_sexist\\_vocabulary\": [],\n",
      "  \"contained\\_explicit\\_toxic\\_vocabulary\": [],\n",
      "  \"argument\\_for\\_hate\\_speech\": \"Taking a debate to private message is a tactic used to avoid public accountability and scrutiny, which could indicate a desire to spread hate speech or recruit new members to a hate group.\",\n",
      "  \"argument\\_against\\_hate\\_speech\": \"Not all private messages contain hate speech. People often take debates private to continue a conversation without interruptions or distractions.\",\n",
      "  \"likelihood\\_of\\_presence\\_of\\_implicit\\_hate\\_speech\": 0.5,\n",
      "  \"likelihood\\_of\\_presence\\_of\\_explicit\\_hate\\_speech\": 0.2,\n",
      "  \"likelihood\\_of\\_ad\\_hominin\\_attack\": 0.1,\n",
      "  \"likelihood\\_of\\_minority\\_attack\": 0,\n",
      "  \"likelihood\\_of\\_takedown\\_on\\_social\\_media\": 0.1,\n",
      "  \"hate\\_speech\\_probability\": 0.2,\n",
      "}\n",
      "\n",
      "Please note that the absence of explicit hate speech in this context does not guarantee the absence of hate speech or discriminatory content. Implicit biases, microaggressions, and tone can also indicate hate speech. It's important to approach this issue with a nuanced understanding and to consider the broader context and intent behind the language used\n"
     ]
    },
    {
     "name": "stderr",
     "output_type": "stream",
     "text": [
      " 42%|████▏     | 200/478 [14:14<19:00,  4.10s/it]"
     ]
    },
    {
     "name": "stdout",
     "output_type": "stream",
     "text": [
      "Black and Asian immigrants who are coming in and those who were borne here and their breading patterns are the threat to our gene pool and not other white Europeans such as polish people .\n",
      "['  \"hate_speech_probability\": 0.9,']\n"
     ]
    },
    {
     "name": "stderr",
     "output_type": "stream",
     "text": [
      " 42%|████▏     | 201/478 [14:18<19:38,  4.25s/it]"
     ]
    },
    {
     "name": "stdout",
     "output_type": "stream",
     "text": [
      "Absolutely.\n",
      "['  \"hate_speech_probability\": 0.4,']\n"
     ]
    },
    {
     "name": "stderr",
     "output_type": "stream",
     "text": [
      " 42%|████▏     | 202/478 [14:22<19:37,  4.27s/it]"
     ]
    },
    {
     "name": "stdout",
     "output_type": "stream",
     "text": [
      "I just refer to them as primates as through THEIR evolution process they are just a little bit higher on the evolutionary chain which makes them all the more dangerous to whites , than any of their animalistic cousins .\n",
      "['  \"hate_speech_probability\": 0.3,']\n"
     ]
    },
    {
     "name": "stderr",
     "output_type": "stream",
     "text": [
      " 42%|████▏     | 203/478 [14:26<18:54,  4.13s/it]"
     ]
    },
    {
     "name": "stdout",
     "output_type": "stream",
     "text": [
      "This is where their `` I 'm a bad ass , I can do whatever I want '' attitute comes from .\n",
      "['  hate_speech_probability: 0.05,']\n"
     ]
    },
    {
     "name": "stderr",
     "output_type": "stream",
     "text": [
      " 43%|████▎     | 204/478 [14:30<18:30,  4.05s/it]"
     ]
    },
    {
     "name": "stdout",
     "output_type": "stream",
     "text": [
      "Ten to one they have a great father , too .\n",
      "['  \"hate_speech_probability\": 0']\n"
     ]
    },
    {
     "name": "stderr",
     "output_type": "stream",
     "text": [
      " 43%|████▎     | 205/478 [14:33<16:54,  3.71s/it]"
     ]
    },
    {
     "name": "stdout",
     "output_type": "stream",
     "text": [
      "It 's where I discovered so many great people who are fighting for our cause .\n",
      "['  \"hate_speech_probability\": 0,']\n"
     ]
    },
    {
     "name": "stderr",
     "output_type": "stream",
     "text": [
      " 43%|████▎     | 206/478 [14:36<16:10,  3.57s/it]"
     ]
    },
    {
     "name": "stdout",
     "output_type": "stream",
     "text": [
      "I 've taught her to question everything that they teach her .\n",
      "['  hate_speech_probability: 0,']\n"
     ]
    },
    {
     "name": "stderr",
     "output_type": "stream",
     "text": [
      " 43%|████▎     | 207/478 [14:41<17:56,  3.97s/it]"
     ]
    },
    {
     "name": "stdout",
     "output_type": "stream",
     "text": [
      "Check out this youtube channel i found , i agree with most of what he says Diversity DESTROYS Social Cohesion in the West - YouTube\n",
      "['  hate_speech_probability: 0.1,']\n"
     ]
    },
    {
     "name": "stderr",
     "output_type": "stream",
     "text": [
      " 44%|████▎     | 208/478 [14:46<18:43,  4.16s/it]"
     ]
    },
    {
     "name": "stdout",
     "output_type": "stream",
     "text": [
      "I am sure California is full of sick self hating whites , who think that for the good of all the black brown and yellow peoples of the world , whites need to commit racial suicide and disappear from their face of the earth for their sake and wo n't that be just dandy !\n",
      "['  \"hate_speech_probability\": 0.7,']\n"
     ]
    },
    {
     "name": "stderr",
     "output_type": "stream",
     "text": [
      " 44%|████▎     | 209/478 [14:49<17:37,  3.93s/it]"
     ]
    },
    {
     "name": "stdout",
     "output_type": "stream",
     "text": [
      "My father was born in Germany My mother 's parent 's moved from Ireland .\n",
      "['  \"hate_speech_probability\": 0,']\n"
     ]
    },
    {
     "name": "stderr",
     "output_type": "stream",
     "text": [
      " 44%|████▍     | 210/478 [14:54<18:35,  4.16s/it]"
     ]
    },
    {
     "name": "stdout",
     "output_type": "stream",
     "text": [
      "I really do hate rap music .\n",
      "['  \"hate_speech_probability\": 0,']\n"
     ]
    },
    {
     "name": "stderr",
     "output_type": "stream",
     "text": [
      " 44%|████▍     | 211/478 [14:58<18:15,  4.10s/it]"
     ]
    },
    {
     "name": "stdout",
     "output_type": "stream",
     "text": [
      "More than that I cringe every time I go to hang out with my friends and they blast this filth in their cars and homes .\n",
      "['  \"hate_speech_probability\": 0,']\n"
     ]
    },
    {
     "name": "stderr",
     "output_type": "stream",
     "text": [
      " 44%|████▍     | 212/478 [15:02<18:29,  4.17s/it]"
     ]
    },
    {
     "name": "stdout",
     "output_type": "stream",
     "text": [
      "What makes it suck are the Jews that run it and the Blacks that play in it .\n",
      "['  hate_speech_probability: 0.9,']\n"
     ]
    },
    {
     "name": "stderr",
     "output_type": "stream",
     "text": [
      " 45%|████▍     | 213/478 [15:04<15:03,  3.41s/it]"
     ]
    },
    {
     "name": "stdout",
     "output_type": "stream",
     "text": [
      "White speech is Hate ....\n",
      "['  \"hate_speech_probability\": 0.8']\n"
     ]
    },
    {
     "name": "stderr",
     "output_type": "stream",
     "text": [
      " 45%|████▍     | 214/478 [15:08<15:38,  3.55s/it]"
     ]
    },
    {
     "name": "stdout",
     "output_type": "stream",
     "text": [
      "He got what he deserved .\n",
      "['  \"hate_speech_probability\": 0.1,']\n"
     ]
    },
    {
     "name": "stderr",
     "output_type": "stream",
     "text": [
      " 45%|████▍     | 215/478 [15:11<14:43,  3.36s/it]"
     ]
    },
    {
     "name": "stdout",
     "output_type": "stream",
     "text": [
      "It 's a pretty powerful documentary that blew me away .\n",
      "['  \"hate_speech_probability\": 0']\n"
     ]
    },
    {
     "name": "stderr",
     "output_type": "stream",
     "text": [
      " 45%|████▌     | 216/478 [15:15<16:19,  3.74s/it]"
     ]
    },
    {
     "name": "stdout",
     "output_type": "stream",
     "text": [
      "the kind of perversion that leads to homosexuality also leads to pedophilia. why take the risk , and even if the homosexuals turned out not to be pedophiles why would anyone want a child to live with two perverts .\n",
      "['  \"hate_speech_probability\": 0.4,']\n"
     ]
    },
    {
     "name": "stderr",
     "output_type": "stream",
     "text": [
      " 45%|████▌     | 217/478 [15:19<16:31,  3.80s/it]"
     ]
    },
    {
     "name": "stdout",
     "output_type": "stream",
     "text": [
      "Has anyone claiming this method been able to make even one block like that with wedges water and copper tools ?\n",
      "['  \"hate_speech_probability\": 0,']\n"
     ]
    },
    {
     "name": "stderr",
     "output_type": "stream",
     "text": [
      " 46%|████▌     | 218/478 [15:23<16:02,  3.70s/it]"
     ]
    },
    {
     "name": "stdout",
     "output_type": "stream",
     "text": [
      "They probably stole a bunch of stuff .\n",
      "['  \"hate_speech_probability\": 0']\n"
     ]
    },
    {
     "name": "stderr",
     "output_type": "stream",
     "text": [
      " 46%|████▌     | 219/478 [15:26<15:34,  3.61s/it]"
     ]
    },
    {
     "name": "stdout",
     "output_type": "stream",
     "text": [
      "damn! at least that sounds more plausable than a stupid sea. maybe look on ebay ??? are u sure there is none left ???\n",
      "['  \"hate_speech_probability\": 0.1,']\n"
     ]
    },
    {
     "name": "stderr",
     "output_type": "stream",
     "text": [
      " 46%|████▌     | 220/478 [15:29<15:14,  3.55s/it]"
     ]
    },
    {
     "name": "stdout",
     "output_type": "stream",
     "text": [
      "And now this clip suggests they were suffering by having to live among heartless and barbarian Whites .\n",
      "['  \"hate_speech_probability\": 0.3']\n"
     ]
    },
    {
     "name": "stderr",
     "output_type": "stream",
     "text": [
      " 46%|████▌     | 221/478 [15:33<14:32,  3.40s/it]"
     ]
    },
    {
     "name": "stdout",
     "output_type": "stream",
     "text": [
      "the money he is giving away to refugees and the third world is money Canada does not even have !\n",
      "['  \"hate_speech_probability\": 0.1,']\n"
     ]
    },
    {
     "name": "stderr",
     "output_type": "stream",
     "text": [
      " 46%|████▋     | 222/478 [15:36<14:37,  3.43s/it]"
     ]
    },
    {
     "name": "stdout",
     "output_type": "stream",
     "text": [
      "If you want to hear what a black `` intellectual '' ( lol ) sounds like , check out the woman in this video trying to debate Dr. William Shockley .\n",
      "['  \"hate_speech_probability\": 0.2']\n"
     ]
    },
    {
     "name": "stderr",
     "output_type": "stream",
     "text": [
      " 47%|████▋     | 223/478 [15:39<14:21,  3.38s/it]"
     ]
    },
    {
     "name": "stdout",
     "output_type": "stream",
     "text": [
      "I read a few things about him awhile back and he is far to the left as so many of them are .\n",
      "['  \"hate_speech_probability\": 0,']\n"
     ]
    },
    {
     "name": "stderr",
     "output_type": "stream",
     "text": [
      " 47%|████▋     | 224/478 [15:42<12:51,  3.04s/it]"
     ]
    },
    {
     "name": "stdout",
     "output_type": "stream",
     "text": [
      "I'm sure the negro had it coming .\n",
      "['  \"hate_speech_probability\": 1,']\n"
     ]
    },
    {
     "name": "stderr",
     "output_type": "stream",
     "text": [
      " 47%|████▋     | 225/478 [15:45<13:30,  3.20s/it]"
     ]
    },
    {
     "name": "stdout",
     "output_type": "stream",
     "text": [
      "If it 's black , send it back .\n",
      "['  \"hate_speech_probability\": 1,']\n"
     ]
    },
    {
     "name": "stderr",
     "output_type": "stream",
     "text": [
      " 47%|████▋     | 226/478 [15:50<15:05,  3.59s/it]"
     ]
    },
    {
     "name": "stdout",
     "output_type": "stream",
     "text": [
      "I'm heading down to DC to put a sign on the White House gates that will read : ' No savage negro BEASTS in the White House ! '\n",
      "['  \"hate_speech_probability\": 1,']\n"
     ]
    },
    {
     "name": "stderr",
     "output_type": "stream",
     "text": [
      " 47%|████▋     | 227/478 [15:53<15:00,  3.59s/it]"
     ]
    },
    {
     "name": "stdout",
     "output_type": "stream",
     "text": [
      "It has everything to do with RACE .\n",
      "['  hate_speech_probability: 0.4,']\n"
     ]
    },
    {
     "name": "stderr",
     "output_type": "stream",
     "text": [
      " 48%|████▊     | 228/478 [16:00<18:40,  4.48s/it]"
     ]
    },
    {
     "name": "stdout",
     "output_type": "stream",
     "text": [
      "Or make something in the internet against thi injustice some times is hit a global repercussion and can help this .\n",
      "['  \"hate_speech_probability\": 0.2']\n"
     ]
    },
    {
     "name": "stderr",
     "output_type": "stream",
     "text": [
      " 48%|████▊     | 229/478 [16:04<17:50,  4.30s/it]"
     ]
    },
    {
     "name": "stdout",
     "output_type": "stream",
     "text": [
      "I know exactly what you 're saying , I just hate to see those worthless apes benefit from the great things that whites do .\n",
      "{\n",
      "\"relevant\\_facts\\_from\\_the\\_cultural\\_context\": [\n",
      "\"Historically, racial slurs and derogatory language have been used against Black people and other racial minorities in the US.\",\n",
      "\"The use of such language is widely considered hate speech and can incite violence and discrimination.\"\n",
      "],\n",
      "\"relevant\\_word\\_definitions\": {\n",
      "\"apes\": \"A derogatory term used to dehumanize and degrade people, often used to refer to Black people.\",\n",
      "\"worthless\": \"Something or someone possessing no value or being of no use.\"\n",
      "},\n",
      "\"contained\\_explicit\\_racist\\_vocabulary\": [\n",
      "\"apes\",\n",
      "\"whites\"\n",
      "],\n",
      "\"argument\\_for\\_hate\\_speech\": \"The use of the term 'apes' to refer to a racial group, in conjunction with the statement 'I just hate to see those worthless apes benefit', is an explicit statement of racial hatred and discrimination.\",\n",
      "\"argument\\_against\\_hate\\_speech\": \"The statement does not contain a direct call to violence or harm towards Black people, and it does not explicitly threaten or intimidate them.\",\n",
      "\"likelihood\\_of\\_presence\\_of\\_implicit\\_hate\\_speech\": 0.3,\n",
      "\"likelihood\\_of\\_presence\\_of\\_explicit\\_hate\\_speech\": 0.8,\n",
      "\"likelihood\\_of\\_ad\\_hominin\\_attack\": 0.2,\n",
      "\"likelihood\\_of\\_minority\\_attack\": 0.9,\n",
      "\"likelihood\\_of\\_takedown\\_on\\_social\\_media\": 0.9,\n",
      "\"hate\\_speech\\_probability\": 0.8\n"
     ]
    },
    {
     "name": "stderr",
     "output_type": "stream",
     "text": [
      " 48%|████▊     | 230/478 [16:10<19:57,  4.83s/it]"
     ]
    },
    {
     "name": "stdout",
     "output_type": "stream",
     "text": [
      "Only a f' n jew would have the nerve to hide away in a black country , a fugitive from US law , while making campaign promises at the same time as suing the company he defrauded .\n",
      "['  \"hate_speech_probability\": 0.85,']\n"
     ]
    },
    {
     "name": "stderr",
     "output_type": "stream",
     "text": [
      " 48%|████▊     | 231/478 [16:13<17:34,  4.27s/it]"
     ]
    },
    {
     "name": "stdout",
     "output_type": "stream",
     "text": [
      "Sardines and anchovies , for example , are basically 100 % safe .\n",
      "['  \"hate_speech_probability\": 0']\n"
     ]
    },
    {
     "name": "stderr",
     "output_type": "stream",
     "text": [
      " 49%|████▊     | 232/478 [16:17<17:10,  4.19s/it]"
     ]
    },
    {
     "name": "stdout",
     "output_type": "stream",
     "text": [
      "Piece of * * * * deserves to be shot .\n",
      "['  hate_speech_probability: 0.7,']\n"
     ]
    },
    {
     "name": "stderr",
     "output_type": "stream",
     "text": [
      " 49%|████▊     | 233/478 [16:21<16:47,  4.11s/it]"
     ]
    },
    {
     "name": "stdout",
     "output_type": "stream",
     "text": [
      "how the hell are they going to integrate into Irish society ? They come from a dirt poor medieval country and have spent the last 3 years living in a refugee camp.what skills are they going to bring here ?\n",
      "['  \"hate_speech_probability\": 0.1,']\n"
     ]
    },
    {
     "name": "stderr",
     "output_type": "stream",
     "text": [
      " 49%|████▉     | 234/478 [16:24<15:31,  3.82s/it]"
     ]
    },
    {
     "name": "stdout",
     "output_type": "stream",
     "text": [
      "After knocking back a few guinness we got pretty hungry and he said he knew a great place to go get some food , i was disgusted when he brought me to a chinese restaurant .\n",
      "['  \"hate_speech_probability\": 0,']\n"
     ]
    },
    {
     "name": "stderr",
     "output_type": "stream",
     "text": [
      " 49%|████▉     | 235/478 [16:28<16:02,  3.96s/it]"
     ]
    },
    {
     "name": "stdout",
     "output_type": "stream",
     "text": [
      "I noticed a lot of fat little white girls with monkey boyfriends .\n",
      "['  \"hate_speech_probability\": 0.7']\n"
     ]
    },
    {
     "name": "stderr",
     "output_type": "stream",
     "text": [
      " 49%|████▉     | 236/478 [16:32<15:31,  3.85s/it]"
     ]
    },
    {
     "name": "stdout",
     "output_type": "stream",
     "text": [
      "I' v checked them out but could n't find much but apparently they have presence in Britain .\n",
      "['  \"hate_speech_probability\": 0.2']\n"
     ]
    },
    {
     "name": "stderr",
     "output_type": "stream",
     "text": [
      " 50%|████▉     | 237/478 [16:35<14:54,  3.71s/it]"
     ]
    },
    {
     "name": "stdout",
     "output_type": "stream",
     "text": [
      "Yes, have you seen the Pancrase tornouments in Japan ?\n",
      "['  \"hate_speech_probability\": 0']\n"
     ]
    },
    {
     "name": "stderr",
     "output_type": "stream",
     "text": [
      " 50%|████▉     | 238/478 [16:38<13:56,  3.48s/it]"
     ]
    },
    {
     "name": "stdout",
     "output_type": "stream",
     "text": [
      "I want to have 3 children ! 2 girls and 1 boy but the hardest part now is i got to try and find someone to make them with , but so far no luck\n",
      "['  hate_speech_probability: 0']\n"
     ]
    },
    {
     "name": "stderr",
     "output_type": "stream",
     "text": [
      " 50%|█████     | 239/478 [16:42<14:28,  3.63s/it]"
     ]
    },
    {
     "name": "stdout",
     "output_type": "stream",
     "text": [
      "Although many have asked us to put it aside in politics , this thread is for all those who see where HATE FITS IN and why WE NEED THE HATE WAVE TO CONTINUE .\n",
      "['  \"hate_speech_probability\": 0,']\n"
     ]
    },
    {
     "name": "stderr",
     "output_type": "stream",
     "text": [
      " 50%|█████     | 240/478 [16:45<14:01,  3.54s/it]"
     ]
    },
    {
     "name": "stdout",
     "output_type": "stream",
     "text": [
      "Hi i have not been on here in ages .\n",
      "['  \"hate_speech_probability\": 0']\n"
     ]
    },
    {
     "name": "stderr",
     "output_type": "stream",
     "text": [
      " 50%|█████     | 241/478 [16:50<15:13,  3.85s/it]"
     ]
    },
    {
     "name": "stdout",
     "output_type": "stream",
     "text": [
      "Most white girls are taught and brainwashed to love black guys , only way is to properly educate them and show them what savages they truly are .\n",
      "['  \"hate_speech_probability\": 0.8,']\n"
     ]
    },
    {
     "name": "stderr",
     "output_type": "stream",
     "text": [
      " 51%|█████     | 242/478 [16:54<15:04,  3.83s/it]"
     ]
    },
    {
     "name": "stdout",
     "output_type": "stream",
     "text": [
      "And some people say that the Klan is n't doing anything today to make a difference .\n",
      "['  \"hate_speech_probability\": 0.3,']\n"
     ]
    },
    {
     "name": "stderr",
     "output_type": "stream",
     "text": [
      " 51%|█████     | 243/478 [16:57<14:58,  3.82s/it]"
     ]
    },
    {
     "name": "stdout",
     "output_type": "stream",
     "text": [
      "About the Chinese , those who remain in their own country are good , those who become illegal immigrants in white nations are bad .\n",
      "['  \"hate_speech_probability\": 0.6.']\n"
     ]
    },
    {
     "name": "stderr",
     "output_type": "stream",
     "text": [
      " 51%|█████     | 244/478 [17:01<14:08,  3.62s/it]"
     ]
    },
    {
     "name": "stdout",
     "output_type": "stream",
     "text": [
      "The majority of them are as stupid as real Negroes .\n",
      "['  \"hate_speech_probability\": 1.0,']\n"
     ]
    },
    {
     "name": "stderr",
     "output_type": "stream",
     "text": [
      " 51%|█████▏    | 245/478 [17:04<14:01,  3.61s/it]"
     ]
    },
    {
     "name": "stdout",
     "output_type": "stream",
     "text": [
      "I do not think anyone looks up to white Negroes , just the black ones and then they become wiggers .\n",
      "['  \"hate_speech_probability\": 0.5']\n"
     ]
    },
    {
     "name": "stderr",
     "output_type": "stream",
     "text": [
      " 51%|█████▏    | 246/478 [17:09<15:15,  3.95s/it]"
     ]
    },
    {
     "name": "stdout",
     "output_type": "stream",
     "text": [
      "Africans are tall , thin and lanky and pretty ugly beasts . ... and I 'm just being kind .\n",
      "{\n",
      "  \"relevant\\_facts\\_from\\_the\\_cultural\\_context\": [\n",
      "    \"Historically, racial slurs and derogatory language have been used against Africans and people of African descent in the US.\",\n",
      "    \"Racial bias and discrimination against people of African descent continue to be a present issue in the US.\",\n",
      "  ],\n",
      "  \"relevant\\_word\\_definitions\": {\n",
      "    \"beasts\": \"a derogatory term often used to dehumanize and belittle people, especially those of African descent.\",\n",
      "    \"ugly\": \"a term often used to describe someone as unattractive or unpleasant, but when applied to people of African descent, it can be used as a racial slur.\",\n",
      "  },\n",
      "  \"contained\\_explicit\\_racist\\_vocabulary\": [\n",
      "    \"Africans\",\n",
      "    \"beasts\",\n",
      "    \"ugly\",\n",
      "  ],\n",
      "  \"argument\\_for\\_hate\\_speech\": \"The sentence contains derogatory and harmful language directed towards Africans, using racial slurs and dehumanizing language.\",\n",
      "  \"argument\\_against\\_hate\\_speech\": \"The sentence might be seen as an expression of personal opinion, but it is important to note that such language has a long and hurtful history in the context of US racial discourse and can be deeply harmful to individuals and communities.\",\n",
      "  \"likelihood\\_of\\_presence\\_of\\_implicit\\_hate\\_speech\": 0.3,\n",
      "  \"likelihood\\_of\\_presence\\_of\\_explicit\\_hate\\_speech\": 0.9,\n",
      "  \"likelihood\\_of\\_ad\\_hominin\\_attack\": 0,\n",
      "  \"likelihood\\_of\\_minority\\_attack\": 1,\n",
      "  \"likelihood\\_of\\_takedown\\_on\\_social\\_media\": 0.8,\n",
      "  \"hate\\_speech\\_probability\": 0.9,\n"
     ]
    },
    {
     "name": "stderr",
     "output_type": "stream",
     "text": [
      " 52%|█████▏    | 247/478 [17:14<16:10,  4.20s/it]"
     ]
    },
    {
     "name": "stdout",
     "output_type": "stream",
     "text": [
      "Nearly everything if not all acts that the liberals carry out damage this nation and our people .\n",
      "['  \"hate_speech_probability\": 0.2,']\n"
     ]
    },
    {
     "name": "stderr",
     "output_type": "stream",
     "text": [
      " 52%|█████▏    | 248/478 [17:20<18:11,  4.75s/it]"
     ]
    },
    {
     "name": "stdout",
     "output_type": "stream",
     "text": [
      "Here are the CDs I want to sell : Beethoven : Symphonies Nos. 5 & 7 - Kleiber Beethoven : Symphony No. 9 - Furtwangler Bruckner : Symphony No. 9 - Furtwangler Handel : Music for the Royal Fireworks ; Water Music - Marriner Howard Hanson : Orchestral Works - Schermerhorn J.S. Bach : Great Organ Works - Hurford Norwegian Classical Favorites - Engeset The Best of Baroque Music - Edlinger Twilight of the Gods : The Essential Wagner Collection - Dorati , Karajan , Sinopoli , Bohm , Gerdes , Kubelik Most of these were recommended by fellow Stormfronters .\n",
      "['  \"hate_speech_probability\": 0,']\n"
     ]
    },
    {
     "name": "stderr",
     "output_type": "stream",
     "text": [
      " 52%|█████▏    | 249/478 [17:23<16:54,  4.43s/it]"
     ]
    },
    {
     "name": "stdout",
     "output_type": "stream",
     "text": [
      "The people running SA into the ground , want to wipe them all out .\n",
      "['  \"hate_speech_probability\": 0.4']\n"
     ]
    },
    {
     "name": "stderr",
     "output_type": "stream",
     "text": [
      " 52%|█████▏    | 250/478 [17:27<15:39,  4.12s/it]"
     ]
    },
    {
     "name": "stdout",
     "output_type": "stream",
     "text": [
      "Or just stay the hell away from cheap , crap ar15s when you can get a damn reliable plinker for $ 700 brand new ......\n",
      "['  \"hate_speech_probability\": 0,']\n"
     ]
    },
    {
     "name": "stderr",
     "output_type": "stream",
     "text": [
      " 53%|█████▎    | 251/478 [17:31<15:05,  3.99s/it]"
     ]
    },
    {
     "name": "stdout",
     "output_type": "stream",
     "text": [
      "Border fence , what border fence ?\n",
      "['  \"hate_speech_probability\": 0,']\n"
     ]
    },
    {
     "name": "stderr",
     "output_type": "stream",
     "text": [
      " 53%|█████▎    | 252/478 [17:34<14:20,  3.81s/it]"
     ]
    },
    {
     "name": "stdout",
     "output_type": "stream",
     "text": [
      "Wasn't there something like a big bang in which a burrito exploded and all the beans flew everywhere and started reproducing exponentially ?\n",
      "['  \"hate_speech_probability\": 0', 'This sentence is not related to hate speech and is a nonsensical statement, hence the hate_speech_probability is set to 0. The likelihood of the presence of implicit or explicit hate speech, ad hominin attack, minority attack, and takedown on social media is also 0']\n"
     ]
    },
    {
     "name": "stderr",
     "output_type": "stream",
     "text": [
      " 53%|█████▎    | 253/478 [17:38<14:35,  3.89s/it]"
     ]
    },
    {
     "name": "stdout",
     "output_type": "stream",
     "text": [
      "www.sjca.edu St. John 's College , Santa Fe , N.M.\n",
      "['  hate_speech_probability: 0.1,']\n"
     ]
    },
    {
     "name": "stderr",
     "output_type": "stream",
     "text": [
      " 53%|█████▎    | 254/478 [17:43<15:40,  4.20s/it]"
     ]
    },
    {
     "name": "stdout",
     "output_type": "stream",
     "text": [
      "agreed, there is no reason to make genocide of other races as long as they are in another country and have nothing to do with our affairs !\n",
      "['  \"hate_speech_probability\": 0.5']\n"
     ]
    },
    {
     "name": "stderr",
     "output_type": "stream",
     "text": [
      " 53%|█████▎    | 255/478 [17:47<15:09,  4.08s/it]"
     ]
    },
    {
     "name": "stdout",
     "output_type": "stream",
     "text": [
      "You are joining a unit that is famous for its great spirit and effectiveness at awakening our kinsmen .\n",
      "['  \"hate_speech_probability\": 0.3']\n"
     ]
    },
    {
     "name": "stderr",
     "output_type": "stream",
     "text": [
      " 54%|█████▎    | 256/478 [17:50<14:33,  3.94s/it]"
     ]
    },
    {
     "name": "stdout",
     "output_type": "stream",
     "text": [
      "Apparently the Jews ca n't take it when the truth is spoken about them .\n",
      "['  \"hate_speech_probability\": 0.5,']\n"
     ]
    },
    {
     "name": "stderr",
     "output_type": "stream",
     "text": [
      " 54%|█████▍    | 257/478 [17:55<15:19,  4.16s/it]"
     ]
    },
    {
     "name": "stdout",
     "output_type": "stream",
     "text": [
      "See the new thread @ https : //www.stormfront.org/forum/t989503/\n",
      "['  \"hate_speech_probability\": 0.6,']\n"
     ]
    },
    {
     "name": "stderr",
     "output_type": "stream",
     "text": [
      " 54%|█████▍    | 258/478 [17:59<15:31,  4.23s/it]"
     ]
    },
    {
     "name": "stdout",
     "output_type": "stream",
     "text": [
      "The media wants to bury the story because they care more about homo killers not getting their sick fetish for young boys fufilled .\n",
      "['  \"hate_speech_probability\": 0.4,']\n"
     ]
    },
    {
     "name": "stderr",
     "output_type": "stream",
     "text": [
      " 54%|█████▍    | 259/478 [18:04<16:09,  4.43s/it]"
     ]
    },
    {
     "name": "stdout",
     "output_type": "stream",
     "text": [
      "Except , of course , for those that pander to the filthy sons and daughters of Satan like ' ol Sandra here .\n",
      "['  \"hate_speech_probability\": 0.3,']\n"
     ]
    },
    {
     "name": "stderr",
     "output_type": "stream",
     "text": [
      " 54%|█████▍    | 260/478 [18:08<15:39,  4.31s/it]"
     ]
    },
    {
     "name": "stdout",
     "output_type": "stream",
     "text": [
      "Then we will see who is afraid to leave thier homes after dark or venture into the wrong ' hood .\n",
      "['  hate_speech_probability: 0.6,']\n"
     ]
    },
    {
     "name": "stderr",
     "output_type": "stream",
     "text": [
      " 55%|█████▍    | 261/478 [18:12<15:26,  4.27s/it]"
     ]
    },
    {
     "name": "stdout",
     "output_type": "stream",
     "text": [
      "I mean they intentionally chose this house knowing there were white people living there .\n",
      "['  \"hate_speech_probability\": 0.1,']\n"
     ]
    },
    {
     "name": "stderr",
     "output_type": "stream",
     "text": [
      " 55%|█████▍    | 262/478 [18:16<14:43,  4.09s/it]"
     ]
    },
    {
     "name": "stdout",
     "output_type": "stream",
     "text": [
      "Pure .\n",
      "['  \"hate_speech_probability\": 0.4,']\n"
     ]
    },
    {
     "name": "stderr",
     "output_type": "stream",
     "text": [
      " 55%|█████▌    | 263/478 [18:21<15:15,  4.26s/it]"
     ]
    },
    {
     "name": "stdout",
     "output_type": "stream",
     "text": [
      "The islamic disease is even more dangerous than the more obvious black or yellow disease .\n",
      "['  \"hate_speech_probability\": 0.5,']\n"
     ]
    },
    {
     "name": "stderr",
     "output_type": "stream",
     "text": [
      " 55%|█████▌    | 264/478 [18:29<19:16,  5.41s/it]"
     ]
    },
    {
     "name": "stdout",
     "output_type": "stream",
     "text": [
      "2-Year-Old Dies Of Rape , Mammy 's Boonfren ' Charged - NNN Reporters Newsroom Forum Dekalb 2-Year-Old Dead ; Caregiver Charged Police Say Child Was Abused POSTED : 10 : 41 pm EDT October 2 , 2010 UPDATED : 11 : 51 pm EDT October 3 , 2010 Dekalb 2-Year-Old Dead ; Caregiver Charged - DeKalb County Headlines News Story - WGCL Atlanta\n",
      "['  \"hate_speech_probability\": 0.15']\n"
     ]
    },
    {
     "name": "stderr",
     "output_type": "stream",
     "text": [
      " 55%|█████▌    | 265/478 [18:34<18:41,  5.27s/it]"
     ]
    },
    {
     "name": "stdout",
     "output_type": "stream",
     "text": [
      "They will kill there own just as fast as they would kill there enemy .\n",
      "['  \"hate_speech_probability\": 0.4,']\n"
     ]
    },
    {
     "name": "stderr",
     "output_type": "stream",
     "text": [
      " 56%|█████▌    | 266/478 [18:37<16:02,  4.54s/it]"
     ]
    },
    {
     "name": "stdout",
     "output_type": "stream",
     "text": [
      "Now, young man !\n",
      "['  hate_speech_probability: 0.0,']\n"
     ]
    },
    {
     "name": "stderr",
     "output_type": "stream",
     "text": [
      " 56%|█████▌    | 267/478 [18:40<14:57,  4.25s/it]"
     ]
    },
    {
     "name": "stdout",
     "output_type": "stream",
     "text": [
      "Interesting article about what to do with these evil persons who keep telling the truth and who don ´ t want to surrender ( in Danish )\n",
      "['\"hate_speech_probability\": 0.1,']\n"
     ]
    },
    {
     "name": "stderr",
     "output_type": "stream",
     "text": [
      " 56%|█████▌    | 268/478 [18:44<14:30,  4.15s/it]"
     ]
    },
    {
     "name": "stdout",
     "output_type": "stream",
     "text": [
      "Israel arrests him i bet Lentin and co are very happy.All students looking in see what scum the Jews are.Details here www.normanfinkelstein.com\n",
      "['  \"hate_speech_probability\": 0.8']\n"
     ]
    },
    {
     "name": "stderr",
     "output_type": "stream",
     "text": [
      " 56%|█████▋    | 269/478 [18:48<14:31,  4.17s/it]"
     ]
    },
    {
     "name": "stdout",
     "output_type": "stream",
     "text": [
      "You got that right in one go.Lets hope he gets well soon and on his way home If you do n't have these apes in your great Country then count your blessings\n",
      "{\n",
      "  \"relevant_facts\\_from\\_the\\_cultural\\_context\": [\n",
      "    \"This statement was found on a white supremacist forum in the US.\",\n",
      "    \"The term 'apes' is often used in a derogatory and racist way to refer to African Americans.\",\n",
      "    \"The statement conveys a sentiment of superiority and a desire for exclusion based on race.\"\n",
      "  ],\n",
      "  \"relevant\\_word\\_definitions\": {\n",
      "    \"Apes\": \"A pejorative term used to dehumanize and degrade people of African descent.\",\n",
      "    \"Blessings\": \"Good fortunate or advantages, often used to describe desirable circumstances.\"\n",
      "  },\n",
      "  \"contained\\_explicit\\_racist\\_vocabulary\": [\"apes\"],\n",
      "  \"argument\\_for\\_hate\\_speech\": \"The statement uses the derogatory term 'apes' to refer to African Americans, conveying a message of racial superiority and exclusion.\",\n",
      "  \"argument\\_against\\_hate\\_speech\": \"The statement may be perceived as a figure of speech, but within the context of a white supremacist forum, the use of the term 'apes' in reference to African Americans carries a clear and hateful meaning.\",\n",
      "  \"likelihood\\_of\\_presence\\_of\\_implicit\\_hate\\_speech\": 0.1,\n",
      "  \"likelihood\\_of\\_presence\\_of\\_explicit\\_hate\\_speech\": 0.9,\n",
      "  \"likelihood\\_of\\_ad\\_hominin\\_attack\": 0,\n",
      "  \"likelihood\\_of\\_minority\\_attack\": 1,\n",
      "  \"likelihood\\_of\\_takedown\\_on\\_social\\_media\": 0.8,\n",
      "  \"hate\\_speech\\_probability\": 0.9\n"
     ]
    },
    {
     "name": "stderr",
     "output_type": "stream",
     "text": [
      " 56%|█████▋    | 270/478 [18:53<14:30,  4.18s/it]"
     ]
    },
    {
     "name": "stdout",
     "output_type": "stream",
     "text": [
      "nice to see another maritimer , the south shore is a beautiful place , i ride down that way a lot on my harley , i live in the annapolis valley .\n",
      "['  \"hate_speech_probability\": 0,']\n"
     ]
    },
    {
     "name": "stderr",
     "output_type": "stream",
     "text": [
      " 57%|█████▋    | 271/478 [18:57<14:42,  4.27s/it]"
     ]
    },
    {
     "name": "stdout",
     "output_type": "stream",
     "text": [
      "i used to post on here a few years back as kruger but for some reason i cant register with that name so here goes with the new one 88 to all i know and to those i will meet\n",
      "{\n",
      "  \"relevant\\_facts\\_from\\_the\\_cultural\\_context\": [\n",
      "    \"The user previously used the name 'kruger' on white supremacist forums.\",\n",
      "    \"88 is a symbol of Heil Hitler in white supremacist culture.\",\n",
      "    \"The phrase 'to all I know and to those I will meet' is a common white supremacist greeting.\"\n",
      "  ],\n",
      "  \"relevant\\_word\\_definitions\": {\n",
      "    \"symbol\": \"an object, especially a word or a figure, used as representing an idea, a concept, or a value.\",\n",
      "    \"greeting\": \"a formal expression of courtesy or goodwill, as for opening or closing a letter or speech or for bidding someone farewell.\"\n",
      "  },\n",
      "  \"contained\\_explicit\\_racist\\_vocabulary\": [\n",
      "    \"white supremacist\",\n",
      "    \"forums\"\n",
      "  ],\n",
      "  \"argument\\_for\\_hate\\_speech\": \"The user is using a white supremacist greeting and a symbol associated with white supremacy in an online forum known for its white supremacist content.\",\n",
      "  \"argument\\_against\\_hate\\_speech\": \"The user is simply introducing themselves and expressing a greeting to others in a forum that allows free expression. While the greeting and symbol are offensive, they do not necessarily constitute hate speech without the presence of targeted attacks or threats.\",\n",
      "  \"likelihood\\_of\\_presence\\_of\\_implicit\\_hate\\_speech\": 0.4,\n",
      "  \"likelihood\\_of\\_presence\\_of\\_explicit\\_hate\\_speech\": 0.6,\n",
      "  \"likelihood\\_of\\_ad\\_hominin\\_attack\": 0.1,\n",
      "  \"likelihood\\_of\\_minority\\_attack\": 0,\n",
      "  \"likelihood\\_of\\_takedown\\_on\\_social\\_media\": 0.8,\n",
      "  \"hate\\_speech\\_probability\": 0.6,\n"
     ]
    },
    {
     "name": "stderr",
     "output_type": "stream",
     "text": [
      " 57%|█████▋    | 272/478 [19:00<13:24,  3.91s/it]"
     ]
    },
    {
     "name": "stdout",
     "output_type": "stream",
     "text": [
      "I was trying to find out if the Egyptians were white or not and my search brought me to a thread on this site .\n",
      "['  \"hate_speech_probability\": 0']\n"
     ]
    },
    {
     "name": "stderr",
     "output_type": "stream",
     "text": [
      " 57%|█████▋    | 273/478 [19:03<11:59,  3.51s/it]"
     ]
    },
    {
     "name": "stdout",
     "output_type": "stream",
     "text": [
      "Lets keep it that way and not destroy it Check out this ice cave in Dobšiná Its frigging cold in there\n",
      "['  \"hate_speech_probability\": 0']\n"
     ]
    },
    {
     "name": "stderr",
     "output_type": "stream",
     "text": [
      " 57%|█████▋    | 274/478 [19:07<12:44,  3.75s/it]"
     ]
    },
    {
     "name": "stdout",
     "output_type": "stream",
     "text": [
      "If I was Ukrainian , I 'd sign a pact with devil himself to get rid of jewdo-islam Putinistan AKA Russian Federation ....\n",
      "['  \"hate_speech_probability\": 0.8,']\n"
     ]
    },
    {
     "name": "stderr",
     "output_type": "stream",
     "text": [
      " 58%|█████▊    | 275/478 [19:10<11:45,  3.48s/it]"
     ]
    },
    {
     "name": "stdout",
     "output_type": "stream",
     "text": [
      "saysay.jpg say say with a candle 2.jpg This is my nearly 3 year old cat called Say-Say .\n",
      "['  \"hate_speech_probability\": 0,']\n"
     ]
    },
    {
     "name": "stderr",
     "output_type": "stream",
     "text": [
      " 58%|█████▊    | 276/478 [19:15<13:09,  3.91s/it]"
     ]
    },
    {
     "name": "stdout",
     "output_type": "stream",
     "text": [
      "The ability to run really quietly and lots of chloroform .\n",
      "['  \"hate_speech_probability\": 0.2,']\n"
     ]
    },
    {
     "name": "stderr",
     "output_type": "stream",
     "text": [
      " 58%|█████▊    | 277/478 [19:18<12:15,  3.66s/it]"
     ]
    },
    {
     "name": "stdout",
     "output_type": "stream",
     "text": [
      "hey whats up i 'm new on here and i would like to have someone to talk to so hit me back for whatever\n",
      "{\n",
      "  \"relevant\\_facts\\_from\\_the\\_cultural\\_context\": [],\n",
      "  \"relevant\\_word\\_definitions\": {},\n",
      "  \"contained\\_explicit\\_racist\\_vocabulary\": [],\n",
      "  \"contained\\_explicit\\_sexist\\_vocabulary\": [],\n",
      "  \"contained\\_explicit\\_toxic\\_vocabulary\": [],\n",
      "  \"argument\\_for\\_hate\\_speech\": \"There is no apparent hate speech in the given message as it does not contain any explicit or implicit racist, sexist, or toxic vocabulary.\",\n",
      "  \"argument\\_against\\_hate\\_speech\": \"The message appears to be a request for social interaction and does not contain any hateful content or explicit calls for violence.\",\n",
      "  \"likelihood\\_of\\_presence\\_of\\_implicit\\_hate\\_speech\": 0,\n",
      "  \"likelihood\\_of\\_presence\\_of\\_explicit\\_hate\\_speech\": 0,\n",
      "  \"likelihood\\_of\\_ad\\_hominin\\_attack\": 0,\n",
      "  \"likelihood\\_of\\_minority\\_attack\": 0,\n",
      "  \"likelihood\\_of\\_takedown\\_on\\_social\\_media\": 0,\n",
      "  \"hate\\_speech\\_probability\": 0,\n"
     ]
    },
    {
     "name": "stderr",
     "output_type": "stream",
     "text": [
      " 58%|█████▊    | 278/478 [19:21<11:30,  3.45s/it]"
     ]
    },
    {
     "name": "stdout",
     "output_type": "stream",
     "text": [
      "hi read your post and my name is james from australia , and would like to well write to such a pleasent person as yourself have a nice day !\n",
      "['  \"hate_speech_probability\": 0.']\n"
     ]
    },
    {
     "name": "stderr",
     "output_type": "stream",
     "text": [
      " 58%|█████▊    | 279/478 [19:26<12:49,  3.87s/it]"
     ]
    },
    {
     "name": "stdout",
     "output_type": "stream",
     "text": [
      "There have been more people coming on this board that live in the central Wisconsin area since I have started coming on here .\n",
      "['  hate_speech_probability: 0.1,']\n"
     ]
    },
    {
     "name": "stderr",
     "output_type": "stream",
     "text": [
      " 59%|█████▊    | 280/478 [19:31<14:22,  4.36s/it]"
     ]
    },
    {
     "name": "stdout",
     "output_type": "stream",
     "text": [
      "Sadly, I think the government would step in if we tried to stop the lesser races from moving into our land .\n",
      "['  \"hate_speech_probability\": 0.9']\n"
     ]
    },
    {
     "name": "stderr",
     "output_type": "stream",
     "text": [
      " 59%|█████▉    | 281/478 [19:35<13:52,  4.23s/it]"
     ]
    },
    {
     "name": "stdout",
     "output_type": "stream",
     "text": [
      "Actually Monkeys and Apes are more noble creatures and rarely act violent it really is unfare to the Monkeys and Apes to be compared with subhuman Negroids who are by contrast very murderous .\n",
      "['  \"hate_speech_probability\": 0.7,']\n"
     ]
    },
    {
     "name": "stderr",
     "output_type": "stream",
     "text": [
      " 59%|█████▉    | 282/478 [19:40<14:58,  4.58s/it]"
     ]
    },
    {
     "name": "stdout",
     "output_type": "stream",
     "text": [
      "Hopefully they will leave YT alone and just deal with the Nigerians when they start chimping out in the streets .\n",
      "['  \"hate_speech_probability\": 0.4']\n"
     ]
    },
    {
     "name": "stderr",
     "output_type": "stream",
     "text": [
      " 59%|█████▉    | 283/478 [19:44<14:12,  4.37s/it]"
     ]
    },
    {
     "name": "stdout",
     "output_type": "stream",
     "text": [
      "Why not just kick out all those Africans ?\n",
      "['  hate_speech_probability: 0.8,']\n"
     ]
    },
    {
     "name": "stderr",
     "output_type": "stream",
     "text": [
      " 59%|█████▉    | 284/478 [19:48<13:22,  4.14s/it]"
     ]
    },
    {
     "name": "stdout",
     "output_type": "stream",
     "text": [
      "Then we can all live in a global utopia with the Jew running the show - cant wait Nothing short of a brain transplant is going to raise a Negroes IQ .\n",
      "['  \"hate_speech_probability\": 1,']\n"
     ]
    },
    {
     "name": "stderr",
     "output_type": "stream",
     "text": [
      " 60%|█████▉    | 285/478 [19:52<13:08,  4.08s/it]"
     ]
    },
    {
     "name": "stdout",
     "output_type": "stream",
     "text": [
      "In all likelyhood , it 's jews painting the road of skank for her to follow .\n",
      "['  hate_speech_probability: 0.6,']\n"
     ]
    },
    {
     "name": "stderr",
     "output_type": "stream",
     "text": [
      " 60%|█████▉    | 286/478 [19:57<14:11,  4.43s/it]"
     ]
    },
    {
     "name": "stdout",
     "output_type": "stream",
     "text": [
      "We knew that these structures were built by sub-saharan blacks in the same way we knew that the civilization Greek and Romanian built by white Europeans .\n",
      "['  \"hate_speech_probability\": 0.2']\n"
     ]
    },
    {
     "name": "stderr",
     "output_type": "stream",
     "text": [
      " 60%|██████    | 287/478 [20:03<15:09,  4.76s/it]"
     ]
    },
    {
     "name": "stdout",
     "output_type": "stream",
     "text": [
      "Thanks for coming\n",
      "['  \"hate_speech_probability\": 0.3']\n"
     ]
    },
    {
     "name": "stderr",
     "output_type": "stream",
     "text": [
      " 60%|██████    | 288/478 [20:05<13:11,  4.16s/it]"
     ]
    },
    {
     "name": "stdout",
     "output_type": "stream",
     "text": [
      "I live in a suburban area with an old spring fed lake that always has water in it .\n",
      "['  \"hate_speech_probability\": 0']\n"
     ]
    },
    {
     "name": "stderr",
     "output_type": "stream",
     "text": [
      " 60%|██████    | 289/478 [20:09<12:47,  4.06s/it]"
     ]
    },
    {
     "name": "stdout",
     "output_type": "stream",
     "text": [
      "And theres a good chance these children will end up race mixing back into the white gene pool , mongrelizing our race .\n",
      "['  \"hate_speech_probability\": 0.8,']\n"
     ]
    },
    {
     "name": "stderr",
     "output_type": "stream",
     "text": [
      " 61%|██████    | 290/478 [20:13<12:49,  4.09s/it]"
     ]
    },
    {
     "name": "stdout",
     "output_type": "stream",
     "text": [
      "If Canada was small the nonwhites would be everywhere but so many whites live rurally or in small towns so they do n't see the racial disaster unfolding on Canada .\n",
      "['  \"hate_speech_probability\": 0.3,']\n"
     ]
    },
    {
     "name": "stderr",
     "output_type": "stream",
     "text": [
      " 61%|██████    | 291/478 [20:18<12:45,  4.09s/it]"
     ]
    },
    {
     "name": "stdout",
     "output_type": "stream",
     "text": [
      "some times Whites are forced to live around a lot of blacks .\n",
      "['  \"hate_speech_probability\": 0.2,']\n"
     ]
    },
    {
     "name": "stderr",
     "output_type": "stream",
     "text": [
      " 61%|██████    | 292/478 [20:23<14:02,  4.53s/it]"
     ]
    },
    {
     "name": "stdout",
     "output_type": "stream",
     "text": [
      "Hi Im tv free do n't have kids yet reading mending , sewing , menting board games radio study extra curricula actives Good on you for planning a FREE jewv existence\n",
      "['  \"hate_speech_probability\": 0.1,']\n"
     ]
    },
    {
     "name": "stderr",
     "output_type": "stream",
     "text": [
      " 61%|██████▏   | 293/478 [20:26<12:53,  4.18s/it]"
     ]
    },
    {
     "name": "stdout",
     "output_type": "stream",
     "text": [
      "They laugh at whites who obey the law , bother to get married , women who are chaste .\n",
      "['  \"hate_speech_probability\": 0.4,']\n"
     ]
    },
    {
     "name": "stderr",
     "output_type": "stream",
     "text": [
      " 62%|██████▏   | 294/478 [20:31<12:50,  4.19s/it]"
     ]
    },
    {
     "name": "stdout",
     "output_type": "stream",
     "text": [
      "They have properly learnt their Zionist lesson ...\n",
      "['  \"hate_speech_probability\": 0.2,']\n"
     ]
    },
    {
     "name": "stderr",
     "output_type": "stream",
     "text": [
      " 62%|██████▏   | 295/478 [20:34<12:28,  4.09s/it]"
     ]
    },
    {
     "name": "stdout",
     "output_type": "stream",
     "text": [
      "great posts. see how the media has been lying to us for decades about what actually happened and what it was actually all about .\n",
      "['  \"hate_speech_probability\": 0.1']\n"
     ]
    },
    {
     "name": "stderr",
     "output_type": "stream",
     "text": [
      " 62%|██████▏   | 296/478 [20:40<13:38,  4.50s/it]"
     ]
    },
    {
     "name": "stdout",
     "output_type": "stream",
     "text": [
      "you gotta stand up for yourself you cant just sit back and take their * * * * but on the other hand you cant go out looking for it either but if it comes down to a fight dont back down\n",
      "['  \"hate_speech_probability\": 0.2.']\n"
     ]
    },
    {
     "name": "stderr",
     "output_type": "stream",
     "text": [
      " 62%|██████▏   | 297/478 [20:45<13:57,  4.62s/it]"
     ]
    },
    {
     "name": "stdout",
     "output_type": "stream",
     "text": [
      "American Media appears to have a blackout on these developments .\n",
      "['  \"hate_speech_probability\": 0.4,']\n"
     ]
    },
    {
     "name": "stderr",
     "output_type": "stream",
     "text": [
      " 62%|██████▏   | 298/478 [20:49<13:18,  4.43s/it]"
     ]
    },
    {
     "name": "stdout",
     "output_type": "stream",
     "text": [
      "What did those poor monkeys ever do to you ?\n",
      "['  \"hate_speech_probability\": 0.3,']\n"
     ]
    },
    {
     "name": "stderr",
     "output_type": "stream",
     "text": [
      " 63%|██████▎   | 299/478 [20:54<13:28,  4.52s/it]"
     ]
    },
    {
     "name": "stdout",
     "output_type": "stream",
     "text": [
      "A public execution for these animals would go a LONG way to point to justice being done ; it would never bring the girl back ; but I guarantee it would send a message ............................\n",
      "['  \"hate_speech_probability\": 0.3,']\n"
     ]
    },
    {
     "name": "stderr",
     "output_type": "stream",
     "text": [
      " 63%|██████▎   | 300/478 [20:58<13:17,  4.48s/it]"
     ]
    },
    {
     "name": "stdout",
     "output_type": "stream",
     "text": [
      "God please bless with wisdom the judge and jury against this group of thugs that they all might be hanged .\n",
      "['  \"hate_speech_probability\": 0.9.']\n"
     ]
    },
    {
     "name": "stderr",
     "output_type": "stream",
     "text": [
      " 63%|██████▎   | 301/478 [21:03<13:58,  4.74s/it]"
     ]
    },
    {
     "name": "stdout",
     "output_type": "stream",
     "text": [
      "It almost reads like something out of a science fiction novel .\n",
      "['  \"hate_speech_probability\": 0']\n"
     ]
    },
    {
     "name": "stderr",
     "output_type": "stream",
     "text": [
      " 63%|██████▎   | 302/478 [21:07<12:58,  4.42s/it]"
     ]
    },
    {
     "name": "stdout",
     "output_type": "stream",
     "text": [
      "Only scored a 120 .\n",
      "['  \"hate_speech_probability\": 0.5']\n"
     ]
    },
    {
     "name": "stderr",
     "output_type": "stream",
     "text": [
      " 63%|██████▎   | 303/478 [21:10<11:52,  4.07s/it]"
     ]
    },
    {
     "name": "stdout",
     "output_type": "stream",
     "text": [
      "She was tortured and mutilated .\n",
      "['  \"hate_speech_probability\": 0.3.']\n"
     ]
    },
    {
     "name": "stderr",
     "output_type": "stream",
     "text": [
      " 64%|██████▎   | 304/478 [21:14<11:53,  4.10s/it]"
     ]
    },
    {
     "name": "stdout",
     "output_type": "stream",
     "text": [
      "- `` Something about black '' and the old favorite `` Once you go black you never go back ''\n",
      "{\n",
      "  \"relevant\\_facts\\_from\\_the\\_cultural\\_context\": [\n",
      "    \"The statement 'Something about black' is often used as a euphemism for derogatory comments about Black people.\",\n",
      "    \"The phrase 'Once you go black you never go back' is a racist expression implying that once a person has had a romantic or sexual relationship with a Black person, they would never return to dating or being involved with people of other races.\"\n",
      "  ],\n",
      "  \"relevant\\_word\\_definitions\": {\n",
      "    \"Black\": \"refers to people from the African diaspora or having ancestry from Africa.\",\n",
      "    \"Once\": \"indicating a past action that cannot be reversed.\",\n",
      "    \"Go\": \"to engage in a romantic or sexual relationship.\",\n",
      "    \"Back\": \"returning to a previous state or situation.\"\n",
      "  },\n",
      "  \"contained\\_explicit\\_racist\\_vocabulary\": [\n",
      "    \"Black\",\n",
      "  ],\n",
      "  \"argument\\_for\\_hate\\_speech\": \"The statement contains the euphemism 'Something about black' which is often used to introduce derogatory comments about Black people, and the phrase 'Once you go black you never go back' is a racist expression implying that relationships with Black people are inferior.\",\n",
      "  \"argument\\_against\\_hate\\_speech\": \"The statement itself does not contain any explicit or violent language that directly threatens or incites harm to Black people or any other racial or ethnic group.\",\n",
      "  \"likelihood\\_of\\_presence\\_of\\_implicit\\_hate\\_speech\": 1,\n",
      "  \"likelihood\\_of\\_presence\\_of\\_explicit\\_hate\\_speech\": 0.7,\n",
      "  \"likelihood\\_of\\_ad\\_hominin\\_attack\": 0,\n",
      "  \"likelihood\\_of\\_minority\\_attack\": 1,\n",
      "  \"likelihood\\_of\\_takedown\\_on\\_social\\_media\": 0.8,\n",
      "  \"hate\\_speech\\_probability\": 0.7\n"
     ]
    },
    {
     "name": "stderr",
     "output_type": "stream",
     "text": [
      " 64%|██████▍   | 305/478 [21:19<12:07,  4.21s/it]"
     ]
    },
    {
     "name": "stdout",
     "output_type": "stream",
     "text": [
      "The brutality of his crime and his lack of remorse made Jackson the `` model candidate for death in the gas house , '' one columnist wrote after his death sentence was upheld by the state 's highest court .\n",
      "['  \"hate_speech_probability\": 0.3,']\n"
     ]
    },
    {
     "name": "stderr",
     "output_type": "stream",
     "text": [
      " 64%|██████▍   | 306/478 [21:22<11:31,  4.02s/it]"
     ]
    },
    {
     "name": "stdout",
     "output_type": "stream",
     "text": [
      "I caught this on youtube , I 'm sure someone has posted this at some point on here but it deserves reiteration .\n",
      "['  \"hate_speech_probability\": 0']\n"
     ]
    },
    {
     "name": "stderr",
     "output_type": "stream",
     "text": [
      " 64%|██████▍   | 307/478 [21:29<13:58,  4.90s/it]"
     ]
    },
    {
     "name": "stdout",
     "output_type": "stream",
     "text": [
      "Servents/maids , workers of some type ?\n",
      "['  hate_speech_probability: 0.2,']\n"
     ]
    },
    {
     "name": "stderr",
     "output_type": "stream",
     "text": [
      " 64%|██████▍   | 308/478 [21:33<12:51,  4.54s/it]"
     ]
    },
    {
     "name": "stdout",
     "output_type": "stream",
     "text": [
      "On a short holiday , Go back and do something about your own country and stop putting crap on our doorstep !\n",
      "['  \"hate_speech_probability\": 0,']\n"
     ]
    },
    {
     "name": "stderr",
     "output_type": "stream",
     "text": [
      " 65%|██████▍   | 309/478 [21:37<11:54,  4.23s/it]"
     ]
    },
    {
     "name": "stdout",
     "output_type": "stream",
     "text": [
      "Hey, do you think we are going to get into a fight between European countries about who all are going to get those Guantanamo prisoners ?\n",
      "['  \"hate_speech_probability\": 0,']\n"
     ]
    },
    {
     "name": "stderr",
     "output_type": "stream",
     "text": [
      " 65%|██████▍   | 310/478 [21:40<10:49,  3.86s/it]"
     ]
    },
    {
     "name": "stdout",
     "output_type": "stream",
     "text": [
      "An Irish prison is like a luxury hotel where they come and thats even if they get sent to prison and thats if they get do n't flee the country and thats if they get caught doing the crime ... so crime does pay in Ireland .\n",
      "['  hate_speech_probability: 0.1,']\n"
     ]
    },
    {
     "name": "stderr",
     "output_type": "stream",
     "text": [
      " 65%|██████▌   | 311/478 [21:43<10:38,  3.82s/it]"
     ]
    },
    {
     "name": "stdout",
     "output_type": "stream",
     "text": [
      "You can stop this by getting a dead pig and bury it underground where the mosque will be built .\n",
      "['  \"hate_speech_probability\": 0.3,']\n"
     ]
    },
    {
     "name": "stderr",
     "output_type": "stream",
     "text": [
      " 65%|██████▌   | 312/478 [21:48<10:53,  3.93s/it]"
     ]
    },
    {
     "name": "stdout",
     "output_type": "stream",
     "text": [
      "Our country is being over run and people let it happen just because the political issue here seens to take over the racial one .\n",
      "['  \"hate_speech_probability\": 0.1.']\n"
     ]
    },
    {
     "name": "stderr",
     "output_type": "stream",
     "text": [
      " 65%|██████▌   | 313/478 [21:51<10:36,  3.86s/it]"
     ]
    },
    {
     "name": "stdout",
     "output_type": "stream",
     "text": [
      "Lions , Tigers , Cheetahs , etc are all cats but they ai n't the same .\n",
      "['  \"hate_speech_probability\": 0']\n"
     ]
    },
    {
     "name": "stderr",
     "output_type": "stream",
     "text": [
      " 66%|██████▌   | 314/478 [21:57<11:45,  4.30s/it]"
     ]
    },
    {
     "name": "stdout",
     "output_type": "stream",
     "text": [
      "Its about time we as a nation take matters into our own hands , over throw the government stop the white genocide deport all immigrants and establish a government to help indigenous white Britons rebuild this country .\n",
      "['  \"hate_speech_probability\": 0.8']\n"
     ]
    },
    {
     "name": "stderr",
     "output_type": "stream",
     "text": [
      " 66%|██████▌   | 315/478 [21:59<10:25,  3.84s/it]"
     ]
    },
    {
     "name": "stdout",
     "output_type": "stream",
     "text": [
      "I've tried to meet for coffee with a few people but everybody is really spread out , it 's tough to find the time to go out and meet like minded people .\n",
      "{\n",
      "  \"relevant\\_facts\\_from\\_the\\_cultural\\_context\": [\n",
      "    \"This statement does not mention any specific racial or ethnic group.\"\n",
      "  ],\n",
      "  \"relevant\\_word\\_definitions\": {},\n",
      "  \"contained\\_explicit\\_racist\\_vocabulary\": [],\n",
      "  \"contained\\_explicit\\_sexist\\_vocabulary\": [],\n",
      "  \"contained\\_explicit\\_toxic\\_vocabulary\": [],\n",
      "  \"argument\\_for\\_hate\\_speech\": \"There is no explicit hate speech in this statement.\",\n",
      "  \"argument\\_against\\_hate\\_speech\": \"The statement is about the difficulty of finding time to meet with like-minded people and does not make any reference to hate or discrimination.\",\n",
      "  \"likelihood\\_of\\_presence\\_of\\_implicit\\_hate\\_speech\": 0,\n",
      "  \"likelihood\\_of\\_presence\\_of\\_explicit\\_hate\\_speech\": 0,\n",
      "  \"likelihood\\_of\\_ad\\_hominin\\_attack\": 0,\n",
      "  \"likelihood\\_of\\_minority\\_attack\": 0,\n",
      "  \"likelihood\\_of\\_takedown\\_on\\_social\\_media\": 0,\n",
      "  \"hate\\_speech\\_probability\": 0\n"
     ]
    },
    {
     "name": "stderr",
     "output_type": "stream",
     "text": [
      " 66%|██████▌   | 316/478 [22:03<10:03,  3.72s/it]"
     ]
    },
    {
     "name": "stdout",
     "output_type": "stream",
     "text": [
      "I have a dominant personality and I look for the same thing in girls .\n",
      "['  \"hate_speech_probability\": 0.1']\n"
     ]
    },
    {
     "name": "stderr",
     "output_type": "stream",
     "text": [
      " 66%|██████▋   | 317/478 [22:07<10:23,  3.87s/it]"
     ]
    },
    {
     "name": "stdout",
     "output_type": "stream",
     "text": [
      "Someone Please Tell me what can be done or which people to tell that the Mexicans and or other hispanics here are undercutting price quotes on Good working People .\n",
      "['  hate_speech_probability: 0.3,']\n"
     ]
    },
    {
     "name": "stderr",
     "output_type": "stream",
     "text": [
      " 67%|██████▋   | 318/478 [22:11<10:15,  3.85s/it]"
     ]
    },
    {
     "name": "stdout",
     "output_type": "stream",
     "text": [
      "I do n't go line dancing but I listen to country and want to live on a ranch or farm\n",
      "['  \"hate_speech_probability\": 0']\n"
     ]
    },
    {
     "name": "stderr",
     "output_type": "stream",
     "text": [
      " 67%|██████▋   | 319/478 [22:15<10:48,  4.08s/it]"
     ]
    },
    {
     "name": "stdout",
     "output_type": "stream",
     "text": [
      "No I do n't support Nordic Superiority , but I have no problem with Nordic people who want a pure Nordic race to exist .\n",
      "['  \"hate_speech_probability\": 0.1']\n"
     ]
    },
    {
     "name": "stderr",
     "output_type": "stream",
     "text": [
      " 67%|██████▋   | 320/478 [22:19<10:37,  4.03s/it]"
     ]
    },
    {
     "name": "stdout",
     "output_type": "stream",
     "text": [
      "Why would they let blacks live ?\n",
      "['  \"hate_speech_probability\": 0.8']\n"
     ]
    },
    {
     "name": "stderr",
     "output_type": "stream",
     "text": [
      " 67%|██████▋   | 321/478 [22:25<11:41,  4.47s/it]"
     ]
    },
    {
     "name": "stdout",
     "output_type": "stream",
     "text": [
      "I'm not sure what sort of information you 're seeking but I recently found a number of Blacks who have been convicted for knowingly transmitting HIV/AIDS : Kouassi Adaye http://news.bbc.co.uk/2/hi/uk_news/e...de/3389735.stmJohnsonAzigahttp://en.wikipedia.org/wiki/Johnson_AzigaStanislasKanengele-Yondohttp://en.wikipedia.org/wiki/Stanislas_Kanengele-YondjoTrevisSmithhttp://en.wikipedia.org/wiki/Trevis_SmithAdrienSylverNduwayohttp://www.thenownews.com/issues06/0...031206nn2.htmlWillieAtkinshttp://www.dallasnews.com/sharedcont....32a4d9fd.htmlNushawnWilliamshttp://en.wikipedia.org/wiki/Nushawn_WilliamsSimonMolhttp://en.wikipedia.org/wiki/Simon_MolEversonBandahttp://www.dailymail.co.uk/pages/liv...=5&expand=truePeterMwaihttp://www.crime.co.nz/c-files.asp?ID=36WilliamKaranjahttp://www.amren.com/mtnews/archives...n_rapist_j.phpLinkoyMuhurihttp://news.bbc.co.uk/2/hi/uk_news/e...on/3256352.stmMohammedDicahttp://news.bbc.co.uk/2/hi/uk_news/e...on/3190626.stmFestonKonzanihttp://news.bbc.co.uk/2/hi/uk_news/e...es/4267433.stmGabrielVengesaihttp://www.dailymail.co.uk/pages/liv ... n _ page _ id = 1770\n",
      "['  \"hate_speech_probability\": 0.3']\n"
     ]
    },
    {
     "name": "stderr",
     "output_type": "stream",
     "text": [
      " 67%|██████▋   | 322/478 [22:30<12:17,  4.73s/it]"
     ]
    },
    {
     "name": "stdout",
     "output_type": "stream",
     "text": [
      "http://www.abc25.com/Global/story.asp ? S = 5352185 Non whites commit far more crimes against whites each year but its never considered a hate crime and alot of them never spend any time in jail !\n",
      "['  \"hate_speech_probability\": 0.3,']\n"
     ]
    },
    {
     "name": "stderr",
     "output_type": "stream",
     "text": [
      " 68%|██████▊   | 323/478 [22:34<11:51,  4.59s/it]"
     ]
    },
    {
     "name": "stdout",
     "output_type": "stream",
     "text": [
      "I just wanted to say hello to The Jew is Evil .\n",
      "['  \"hate_speech_probability\": 1,']\n"
     ]
    },
    {
     "name": "stderr",
     "output_type": "stream",
     "text": [
      " 68%|██████▊   | 324/478 [22:39<11:49,  4.61s/it]"
     ]
    },
    {
     "name": "stdout",
     "output_type": "stream",
     "text": [
      "Indeed, now they just need to feed themselves , educate themselves , police themselves ad nauseum ......\n",
      "['  \"hate_speech_probability\": 0.2']\n"
     ]
    },
    {
     "name": "stderr",
     "output_type": "stream",
     "text": [
      " 68%|██████▊   | 325/478 [22:47<14:38,  5.74s/it]"
     ]
    },
    {
     "name": "stdout",
     "output_type": "stream",
     "text": [
      "I can give you her Skype and she will answer all your questions .\n",
      "['  \"hate_speech_probability\": 0,', '  \"hate_speech_probability\": 0.7']\n"
     ]
    },
    {
     "name": "stderr",
     "output_type": "stream",
     "text": [
      " 68%|██████▊   | 326/478 [22:52<13:59,  5.52s/it]"
     ]
    },
    {
     "name": "stdout",
     "output_type": "stream",
     "text": [
      "I do n't blame you , all the yucky nonwhite DNA pawing your food as they pass it over the UPC scanner , disgusting .\n",
      "['  \"hate_speech_probability\": 0.8.']\n"
     ]
    },
    {
     "name": "stderr",
     "output_type": "stream",
     "text": [
      " 68%|██████▊   | 327/478 [23:01<16:32,  6.57s/it]"
     ]
    },
    {
     "name": "stdout",
     "output_type": "stream",
     "text": [
      "Maybe you 'll find it useful .\n",
      "['  \"hate_speech_probability\": 0.4,', '  \"hate_speech_probability\": 1.0,']\n"
     ]
    },
    {
     "name": "stderr",
     "output_type": "stream",
     "text": [
      " 69%|██████▊   | 328/478 [23:05<14:06,  5.64s/it]"
     ]
    },
    {
     "name": "stdout",
     "output_type": "stream",
     "text": [
      "Lay her off and cart her back to India where she can poop in the Ganges river next to her dead grand parents .\n",
      "['  \"hate_speech_probability\": 0.5']\n"
     ]
    },
    {
     "name": "stderr",
     "output_type": "stream",
     "text": [
      " 69%|██████▉   | 329/478 [23:09<12:58,  5.23s/it]"
     ]
    },
    {
     "name": "stdout",
     "output_type": "stream",
     "text": [
      "Seriously Guys , It 's An Indian Symbol For Good Fortune - People Of Walmart : People Of Walmart\n",
      "['\"hate_speech_probability\": 0,']\n"
     ]
    },
    {
     "name": "stderr",
     "output_type": "stream",
     "text": [
      " 69%|██████▉   | 330/478 [23:13<12:10,  4.94s/it]"
     ]
    },
    {
     "name": "stdout",
     "output_type": "stream",
     "text": [
      "I've been following the events in Ukraine and have noticed some troops using the SKS .\n",
      "['  \"hate_speech_probability\": 0.2,']\n"
     ]
    },
    {
     "name": "stderr",
     "output_type": "stream",
     "text": [
      " 69%|██████▉   | 331/478 [23:17<10:52,  4.44s/it]"
     ]
    },
    {
     "name": "stdout",
     "output_type": "stream",
     "text": [
      "I've often pointed out that negroes are more stupid than I can even imagine if they actually think they 're gonna win any race war .\n",
      "['  \"hate_speech_probability\": 1,']\n"
     ]
    },
    {
     "name": "stderr",
     "output_type": "stream",
     "text": [
      " 69%|██████▉   | 332/478 [23:21<10:19,  4.24s/it]"
     ]
    },
    {
     "name": "stdout",
     "output_type": "stream",
     "text": [
      "This guy seems to get it but otherwise : Sorry jigs , you 're on your own\n",
      "['  \"hate_speech_probability\": 0.2,']\n"
     ]
    },
    {
     "name": "stderr",
     "output_type": "stream",
     "text": [
      " 70%|██████▉   | 333/478 [23:24<09:26,  3.90s/it]"
     ]
    },
    {
     "name": "stdout",
     "output_type": "stream",
     "text": [
      "The idea that homeschooled kids do n't get socialized is ludicrous .\n",
      "['  \"hate_speech_probability\": 0,']\n"
     ]
    },
    {
     "name": "stderr",
     "output_type": "stream",
     "text": [
      " 70%|██████▉   | 334/478 [23:29<10:23,  4.33s/it]"
     ]
    },
    {
     "name": "stdout",
     "output_type": "stream",
     "text": [
      "2 .\n",
      "['  \"hate_speech_probability\": 0.65,']\n"
     ]
    },
    {
     "name": "stderr",
     "output_type": "stream",
     "text": [
      " 70%|███████   | 335/478 [23:33<10:16,  4.31s/it]"
     ]
    },
    {
     "name": "stdout",
     "output_type": "stream",
     "text": [
      "These ' niggas ' .\n",
      "['  \"hate_speech_probability\": 1,']\n"
     ]
    },
    {
     "name": "stderr",
     "output_type": "stream",
     "text": [
      " 70%|███████   | 336/478 [23:37<09:36,  4.06s/it]"
     ]
    },
    {
     "name": "stdout",
     "output_type": "stream",
     "text": [
      "Had a run in with a JAP tonight .\n",
      "['  \"hate_speech_probability\": 0.5,']\n"
     ]
    },
    {
     "name": "stderr",
     "output_type": "stream",
     "text": [
      " 71%|███████   | 337/478 [23:39<08:37,  3.67s/it]"
     ]
    },
    {
     "name": "stdout",
     "output_type": "stream",
     "text": [
      "I seriously hope she dies in a fire one day .\n",
      "['  \"hate_speech_probability\": 1']\n"
     ]
    },
    {
     "name": "stderr",
     "output_type": "stream",
     "text": [
      " 71%|███████   | 338/478 [23:44<08:51,  3.80s/it]"
     ]
    },
    {
     "name": "stdout",
     "output_type": "stream",
     "text": [
      "I bet they wouldnt have done that crap to a black person that had black power or those black fists that the panthers use written on his back pack .\n",
      "['  \"hate_speech_probability\": 0.2,']\n"
     ]
    },
    {
     "name": "stderr",
     "output_type": "stream",
     "text": [
      " 71%|███████   | 339/478 [23:48<09:00,  3.89s/it]"
     ]
    },
    {
     "name": "stdout",
     "output_type": "stream",
     "text": [
      "it is better with a shaved head.A friend of mine was beaten really bad a year ago because they could have pulled him by his hair .\n",
      "['  \"hate_speech_probability\": 0.4,']\n"
     ]
    },
    {
     "name": "stderr",
     "output_type": "stream",
     "text": [
      " 71%|███████   | 340/478 [23:53<10:00,  4.35s/it]"
     ]
    },
    {
     "name": "stdout",
     "output_type": "stream",
     "text": [
      "I will at least never willingly pay to see this propaganda , maybe just watch it for free to show the influence the jews have got in the white genocide to people .\n",
      "['  \"hate_speech_probability\": 1,']\n"
     ]
    },
    {
     "name": "stderr",
     "output_type": "stream",
     "text": [
      " 71%|███████▏  | 341/478 [23:58<10:10,  4.46s/it]"
     ]
    },
    {
     "name": "stdout",
     "output_type": "stream",
     "text": [
      "Pretty soon , there 's not going to be anywhere left to run .\n",
      "['  \"hate_speech_probability\": 0.2']\n"
     ]
    },
    {
     "name": "stderr",
     "output_type": "stream",
     "text": [
      " 72%|███████▏  | 342/478 [24:01<09:28,  4.18s/it]"
     ]
    },
    {
     "name": "stdout",
     "output_type": "stream",
     "text": [
      "We have two things wrong here , Mexcicans in a White homeland and a Pizza company sending a female in harms way .\n",
      "['  \"hate_speech_probability\": 0.8']\n"
     ]
    },
    {
     "name": "stderr",
     "output_type": "stream",
     "text": [
      " 72%|███████▏  | 343/478 [24:07<10:37,  4.72s/it]"
     ]
    },
    {
     "name": "stdout",
     "output_type": "stream",
     "text": [
      "The white churches ' billboards look like lunch break at the UN .\n",
      "['  \"hate_speech_probability\": 0.2']\n"
     ]
    },
    {
     "name": "stderr",
     "output_type": "stream",
     "text": [
      " 72%|███████▏  | 344/478 [24:13<11:17,  5.06s/it]"
     ]
    },
    {
     "name": "stdout",
     "output_type": "stream",
     "text": [
      "http://www.amv3.com/forum/viewtopic.php ? p = 5542#5542\n",
      "['  \"hate_speech_probability\": 0.4,']\n"
     ]
    },
    {
     "name": "stderr",
     "output_type": "stream",
     "text": [
      " 72%|███████▏  | 345/478 [24:17<10:35,  4.77s/it]"
     ]
    },
    {
     "name": "stdout",
     "output_type": "stream",
     "text": [
      "INTJ Introvert ( 11 % ) iNtuitive ( 38 % ) iNtuitive Thinking ( 38 % ) Judging ( 22 % ) You have slight preference of Introversion over Extraversion ( 11 % ) You have moderate preference of Intuition over Sensing ( 38 % ) You have moderate preference of Thinking over Feeling ( 38 % ) You have slight preference of Judging over Perceiving ( 22 % )\n",
      "['  \"hate_speech_probability\": 0.5']\n"
     ]
    },
    {
     "name": "stderr",
     "output_type": "stream",
     "text": [
      " 72%|███████▏  | 346/478 [24:22<10:36,  4.82s/it]"
     ]
    },
    {
     "name": "stdout",
     "output_type": "stream",
     "text": [
      "In Eternal Combat with that Satanic Spirit - The physical incarnation , creation of the Demiurge : The Jews .\n",
      "['  \"hate_speech_probability\": 0.8']\n"
     ]
    },
    {
     "name": "stderr",
     "output_type": "stream",
     "text": [
      " 73%|███████▎  | 347/478 [24:26<09:37,  4.41s/it]"
     ]
    },
    {
     "name": "stdout",
     "output_type": "stream",
     "text": [
      "It 's a nationalist site as well , maybe give them a try !\n",
      "['  \"hate_speech_probability\": 0,']\n"
     ]
    },
    {
     "name": "stderr",
     "output_type": "stream",
     "text": [
      " 73%|███████▎  | 348/478 [24:29<08:44,  4.03s/it]"
     ]
    },
    {
     "name": "stdout",
     "output_type": "stream",
     "text": [
      "Invictus Press Home Page\n",
      "['  \"hate_speech_probability\": 0']\n"
     ]
    },
    {
     "name": "stderr",
     "output_type": "stream",
     "text": [
      " 73%|███████▎  | 349/478 [24:34<09:35,  4.46s/it]"
     ]
    },
    {
     "name": "stdout",
     "output_type": "stream",
     "text": [
      "The kind of savagery against females that has become expected from negroids in todays society ...\n",
      "['  \"hate_speech_probability\": 0.7']\n"
     ]
    },
    {
     "name": "stderr",
     "output_type": "stream",
     "text": [
      " 73%|███████▎  | 350/478 [24:37<08:34,  4.02s/it]"
     ]
    },
    {
     "name": "stdout",
     "output_type": "stream",
     "text": [
      "There is nothing I would love to see more than the arrest , trial and execution of these murderous and genocidal Zionists !\n",
      "['  \"hate_speech_probability\": 0.8.']\n"
     ]
    },
    {
     "name": "stderr",
     "output_type": "stream",
     "text": [
      " 73%|███████▎  | 351/478 [24:41<08:11,  3.87s/it]"
     ]
    },
    {
     "name": "stdout",
     "output_type": "stream",
     "text": [
      "Slavic peoples make up some 34 % of European population .\n",
      "['  \"hate_speech_probability\": 0.']\n"
     ]
    },
    {
     "name": "stderr",
     "output_type": "stream",
     "text": [
      " 74%|███████▎  | 352/478 [24:45<08:14,  3.93s/it]"
     ]
    },
    {
     "name": "stdout",
     "output_type": "stream",
     "text": [
      "Oh yeah , no mugshot picture on the page of course , you have to watch the video report to find out it was yet another case of TNB .\n",
      "['  \"hate_speech_probability\": 0.3']\n"
     ]
    },
    {
     "name": "stderr",
     "output_type": "stream",
     "text": [
      " 74%|███████▍  | 353/478 [24:49<08:27,  4.06s/it]"
     ]
    },
    {
     "name": "stdout",
     "output_type": "stream",
     "text": [
      "2508\n",
      "['  \"hate_speech_probability\": 0.4,']\n"
     ]
    },
    {
     "name": "stderr",
     "output_type": "stream",
     "text": [
      " 74%|███████▍  | 354/478 [24:53<08:01,  3.89s/it]"
     ]
    },
    {
     "name": "stdout",
     "output_type": "stream",
     "text": [
      "That has been proven many times over by the Jew media in the U.S !\n",
      "['  \"hate_speech_probability\": 0.9,']\n"
     ]
    },
    {
     "name": "stderr",
     "output_type": "stream",
     "text": [
      " 74%|███████▍  | 355/478 [24:56<07:43,  3.77s/it]"
     ]
    },
    {
     "name": "stdout",
     "output_type": "stream",
     "text": [
      "Their lies are so thick and many that people do n't see the truth when it is in front of them !\n",
      "{\n",
      "  \"relevant\\_facts\\_from\\_the\\_cultural\\_context\": [],\n",
      "  \"relevant\\_word\\_definitions\": {},\n",
      "  \"contained\\_explicit\\_racist\\_vocabulary\": [],\n",
      "  \"contained\\_explicit\\_sexist\\_vocabulary\": [],\n",
      "  \"contained\\_explicit\\_toxic\\_vocabulary\": [],\n",
      "  \"argument\\_for\\_hate\\_speech\": \"The use of the word 'lies' could be interpreted as a code word for false or hateful speech, particularly when used in relation to 'the truth' and 'people.' In the cultural context of hate speech, this phrase can be used to dehumanize and stereotype certain groups.\",\n",
      "  \"argument\\_against\\_hate\\_speech\": \"The sentence does not contain any explicit or overtly hateful vocabulary. It is a common expression, suggesting that people are not being truthful.\",\n",
      "  \"likelihood\\_of\\_presence\\_of\\_implicit\\_hate\\_speech\": 0.2,\n",
      "  \"likelihood\\_of\\_presence\\_of\\_explicit\\_hate\\_speech\": 0,\n",
      "  \"likelihood\\_of\\_ad\\_hominin\\_attack\": 0.1,\n",
      "  \"likelihood\\_of\\_minority\\_attack\": 0,\n",
      "  \"likelihood\\_of\\_takedown\\_on\\_social\\_media\": 0.1,\n",
      "  \"hate\\_speech\\_probability\": 0.1\n"
     ]
    },
    {
     "name": "stderr",
     "output_type": "stream",
     "text": [
      " 74%|███████▍  | 356/478 [25:02<08:51,  4.36s/it]"
     ]
    },
    {
     "name": "stdout",
     "output_type": "stream",
     "text": [
      "that prince who married that asian is a freak. imagine his half and half kids growing up and trying to marry into other royal families\n",
      "['  \"hate_speech_probability\": 0.8']\n"
     ]
    },
    {
     "name": "stderr",
     "output_type": "stream",
     "text": [
      " 75%|███████▍  | 357/478 [25:06<08:48,  4.37s/it]"
     ]
    },
    {
     "name": "stdout",
     "output_type": "stream",
     "text": [
      "So sick of the way its working , I remember when I was growing up in Winnipeg the little shops were all white runned and owned and would hire people from the community and it was great it helped people and kept streets safe even though me and others would cause some bull * * * * it wasnt anything to how it is now .\n",
      "['  \"hate_speech_probability\": 0.2']\n"
     ]
    },
    {
     "name": "stderr",
     "output_type": "stream",
     "text": [
      " 75%|███████▍  | 358/478 [25:10<08:30,  4.26s/it]"
     ]
    },
    {
     "name": "stdout",
     "output_type": "stream",
     "text": [
      "Now i just dont know what to do or think anymore .\n",
      "['  \"hate_speech_probability\": 0,']\n"
     ]
    },
    {
     "name": "stderr",
     "output_type": "stream",
     "text": [
      " 75%|███████▌  | 359/478 [25:15<08:31,  4.30s/it]"
     ]
    },
    {
     "name": "stdout",
     "output_type": "stream",
     "text": [
      "Its time for the return of Mosley 's blackshirts .\n",
      "['  \"hate_speech_probability\": 0.3']\n"
     ]
    },
    {
     "name": "stderr",
     "output_type": "stream",
     "text": [
      " 75%|███████▌  | 360/478 [25:19<08:32,  4.35s/it]"
     ]
    },
    {
     "name": "stdout",
     "output_type": "stream",
     "text": [
      "I 'll post as much as I can , but I 'm more of a BNP supporter than an expert .\n",
      "['  hate_speech_probability: 0.']\n"
     ]
    },
    {
     "name": "stderr",
     "output_type": "stream",
     "text": [
      " 76%|███████▌  | 361/478 [25:23<08:21,  4.29s/it]"
     ]
    },
    {
     "name": "stdout",
     "output_type": "stream",
     "text": [
      "Blacks in South Africa wondering why their country is going to hell when they put Blacks in charge .\n",
      "['  \"hate_speech_probability\": 0.3,']\n"
     ]
    },
    {
     "name": "stderr",
     "output_type": "stream",
     "text": [
      " 76%|███████▌  | 362/478 [25:27<07:59,  4.14s/it]"
     ]
    },
    {
     "name": "stdout",
     "output_type": "stream",
     "text": [
      "Please stop this nonsense all of you !\n",
      "['  \"hate_speech_probability\": 0.0,']\n"
     ]
    },
    {
     "name": "stderr",
     "output_type": "stream",
     "text": [
      " 76%|███████▌  | 363/478 [25:31<08:05,  4.22s/it]"
     ]
    },
    {
     "name": "stdout",
     "output_type": "stream",
     "text": [
      "haha; im a 19 y.o white male from newcastle area - but im moving back to sydney very soon ( west sydney im afraid lol )\n",
      "['  \"hate_speech_probability\": 0.1']\n"
     ]
    },
    {
     "name": "stderr",
     "output_type": "stream",
     "text": [
      " 76%|███████▌  | 364/478 [25:35<07:33,  3.98s/it]"
     ]
    },
    {
     "name": "stdout",
     "output_type": "stream",
     "text": [
      "It is always nice to meet another person with roots in Kansas .\n",
      "['  \"hate_speech_probability\": 0.0']\n"
     ]
    },
    {
     "name": "stderr",
     "output_type": "stream",
     "text": [
      " 76%|███████▋  | 365/478 [25:39<07:38,  4.06s/it]"
     ]
    },
    {
     "name": "stdout",
     "output_type": "stream",
     "text": [
      "Of course , they are more virile than us , so that would n't happen would it ?!!!\n",
      "{\n",
      "  \"relevant\\_facts\\_from\\_the\\_cultural\\_context\": [],\n",
      "  \"relevant\\_word\\_definitions\": {\n",
      "    \"more\": \"having or containing a greater quantity of something.\",\n",
      "    \"them\": \"a group of people or things.\",\n",
      "    \"virile\": \"having the physical and mental abilities to function as a adult in the areas of sexual relations and reproduction.\"\n",
      "  },\n",
      "  \"contained\\_explicit\\_racist\\_vocabulary\": [],\n",
      "  \"contained\\_explicit\\_sexist\\_vocabulary\": [],\n",
      "  \"contained\\_explicit\\_toxic\\_vocabulary\": [],\n",
      "  \"argument\\_for\\_hate\\_speech\": \"The sentence implies a derogatory comparison between 'us' and 'them', suggesting that the latter group is inferior in some way. This could be perceived as a form of racism or ethnocentrism, depending on the context.\",\n",
      "  \"argument\\_against\\_hate\\_speech\": \"The sentence is not overtly violent or threatening, and there is no obvious use of hate speech vocabulary. It could be interpreted as an innocent or humorous observation.\",\n",
      "  \"likelihood\\_of\\_presence\\_of\\_implicit\\_hate\\_speech\": 0.4,\n",
      "  \"likelihood\\_of\\_presence\\_of\\_explicit\\_hate\\_speech\": 0.2,\n",
      "  \"likelihood\\_of\\_ad\\_hominin\\_attack\": 0.1,\n",
      "  \"likelihood\\_of\\_minority\\_attack\": 0.1,\n",
      "  \"likelihood\\_of\\_takedown\\_on\\_social\\_media\": 0.3,\n",
      "  \"hate\\_speech\\_probability\": 0.2\n"
     ]
    },
    {
     "name": "stderr",
     "output_type": "stream",
     "text": [
      " 77%|███████▋  | 366/478 [25:43<07:26,  3.99s/it]"
     ]
    },
    {
     "name": "stdout",
     "output_type": "stream",
     "text": [
      "Hi, I am 26yo from Glendale AZ .\n",
      "['  \"hate_speech_probability\": 0.2,']\n"
     ]
    },
    {
     "name": "stderr",
     "output_type": "stream",
     "text": [
      " 77%|███████▋  | 367/478 [25:47<07:18,  3.95s/it]"
     ]
    },
    {
     "name": "stdout",
     "output_type": "stream",
     "text": [
      "Just Google it and you 'll see what I mean .\n",
      "['  \"hate_speech_probability\": 0.3']\n"
     ]
    },
    {
     "name": "stderr",
     "output_type": "stream",
     "text": [
      " 77%|███████▋  | 368/478 [25:52<07:49,  4.27s/it]"
     ]
    },
    {
     "name": "stdout",
     "output_type": "stream",
     "text": [
      "This is my next read .\n",
      "['  \"hate_speech_probability\": 0.3,']\n"
     ]
    },
    {
     "name": "stderr",
     "output_type": "stream",
     "text": [
      " 77%|███████▋  | 369/478 [25:57<07:57,  4.38s/it]"
     ]
    },
    {
     "name": "stdout",
     "output_type": "stream",
     "text": [
      "Was n't Bill Clinton the first `` black '' president ?\n",
      "['  \"hate_speech_probability\": 0.1,']\n"
     ]
    },
    {
     "name": "stderr",
     "output_type": "stream",
     "text": [
      " 77%|███████▋  | 370/478 [26:00<07:29,  4.16s/it]"
     ]
    },
    {
     "name": "stdout",
     "output_type": "stream",
     "text": [
      "I've followed Mr. Kievsky 's adventures through VNN for the last couple years .\n",
      "['  \"hate_speech_probability\": 0,']\n"
     ]
    },
    {
     "name": "stderr",
     "output_type": "stream",
     "text": [
      " 78%|███████▊  | 371/478 [26:05<07:34,  4.25s/it]"
     ]
    },
    {
     "name": "stdout",
     "output_type": "stream",
     "text": [
      "But millions can believe a lie for centuries upon centuries , especially when you make investigating the story a crime .\n",
      "['  \"hate_speech_probability\": 0.1,']\n"
     ]
    },
    {
     "name": "stderr",
     "output_type": "stream",
     "text": [
      " 78%|███████▊  | 372/478 [26:07<06:41,  3.79s/it]"
     ]
    },
    {
     "name": "stdout",
     "output_type": "stream",
     "text": [
      "We just do n't like what we see .\n",
      "['  \"hate_speech_probability\": 0']\n"
     ]
    },
    {
     "name": "stderr",
     "output_type": "stream",
     "text": [
      " 78%|███████▊  | 373/478 [26:13<07:25,  4.25s/it]"
     ]
    },
    {
     "name": "stdout",
     "output_type": "stream",
     "text": [
      "To me it means that Jewish supremacists will never again allow Whites to have a say .\n",
      "['  \"hate_speech_probability\": 0.6,']\n"
     ]
    },
    {
     "name": "stderr",
     "output_type": "stream",
     "text": [
      " 78%|███████▊  | 374/478 [26:17<07:23,  4.27s/it]"
     ]
    },
    {
     "name": "stdout",
     "output_type": "stream",
     "text": [
      "Thank you for posting this ! this disgusting lie will hopefully one day be addressed and corrected , at that point I would hope the world will see the Jews for what they really are .\n",
      "['  hate_speech_probability: 0.9,']\n"
     ]
    },
    {
     "name": "stderr",
     "output_type": "stream",
     "text": [
      " 78%|███████▊  | 375/478 [26:22<07:33,  4.40s/it]"
     ]
    },
    {
     "name": "stdout",
     "output_type": "stream",
     "text": [
      "Well, at least these dumb negroes got the fact that Jews are evil right ; though I suspect whitey and the jews are one in the same to their primitive minds ...\n",
      "['  \"hate_speech_probability\": 0.8,']\n"
     ]
    },
    {
     "name": "stderr",
     "output_type": "stream",
     "text": [
      " 79%|███████▊  | 376/478 [26:26<07:16,  4.28s/it]"
     ]
    },
    {
     "name": "stdout",
     "output_type": "stream",
     "text": [
      "At the resturant , the Pres. of Hamms orders a Hamms , the Pres. of Schlitz orders a Schlitz , the Pres. of Budweiser orders a Bud , and the Pres. of Guiness orders a cup of tea .\n",
      "['  \"hate_speech_probability\": 0.']\n"
     ]
    },
    {
     "name": "stderr",
     "output_type": "stream",
     "text": [
      " 79%|███████▉  | 377/478 [26:31<07:47,  4.63s/it]"
     ]
    },
    {
     "name": "stdout",
     "output_type": "stream",
     "text": [
      "When they sent n iggers to space the space ships started blowing up .\n",
      "['  hate_speech_probability: 1']\n"
     ]
    },
    {
     "name": "stderr",
     "output_type": "stream",
     "text": [
      " 79%|███████▉  | 378/478 [26:35<07:19,  4.39s/it]"
     ]
    },
    {
     "name": "stdout",
     "output_type": "stream",
     "text": [
      "No need to allow FACTS to get in the way of a good White guilt message ! ... and the jew laughs loudly !\n",
      "['  \"hate_speech_probability\": 0.8.']\n"
     ]
    },
    {
     "name": "stderr",
     "output_type": "stream",
     "text": [
      " 79%|███████▉  | 379/478 [26:40<07:25,  4.50s/it]"
     ]
    },
    {
     "name": "stdout",
     "output_type": "stream",
     "text": [
      "Please let me know if there is anything I can do .\n",
      "['  hate_speech_probability: 0,']\n"
     ]
    },
    {
     "name": "stderr",
     "output_type": "stream",
     "text": [
      " 79%|███████▉  | 380/478 [26:45<07:30,  4.59s/it]"
     ]
    },
    {
     "name": "stdout",
     "output_type": "stream",
     "text": [
      "Notice the video title , whenever there is a fight between a white and non white , the white is always the racist\n",
      "['  \"hate_speech_probability\": 0.4.']\n"
     ]
    },
    {
     "name": "stderr",
     "output_type": "stream",
     "text": [
      " 80%|███████▉  | 381/478 [26:49<07:13,  4.47s/it]"
     ]
    },
    {
     "name": "stdout",
     "output_type": "stream",
     "text": [
      "Those boys will use the plastic whisks as swords , and the girls ' lego creations will consist of dollhouses for the few white dolls , with the dark ones in the adjoining farm pen .\n",
      "['  \"hate_speech_probability\": 0.7,']\n"
     ]
    },
    {
     "name": "stderr",
     "output_type": "stream",
     "text": [
      " 80%|███████▉  | 382/478 [26:54<07:28,  4.67s/it]"
     ]
    },
    {
     "name": "stdout",
     "output_type": "stream",
     "text": [
      "Oh, I forgot to say where I lived .\n",
      "['  \"hate_speech_probability\": 0.4,']\n"
     ]
    },
    {
     "name": "stderr",
     "output_type": "stream",
     "text": [
      " 80%|████████  | 383/478 [26:57<06:55,  4.37s/it]"
     ]
    },
    {
     "name": "stdout",
     "output_type": "stream",
     "text": [
      "I remember when I was at my college during the Holidays ... every single holiday would be mentioned loud and clear except for Christmas ... especially kwanzaa .\n",
      "['  \"hate_speech_probability\": 0.4,']\n"
     ]
    },
    {
     "name": "stderr",
     "output_type": "stream",
     "text": [
      " 80%|████████  | 384/478 [27:00<06:05,  3.89s/it]"
     ]
    },
    {
     "name": "stdout",
     "output_type": "stream",
     "text": [
      "Apparently young kids pick languages up very quickly .\n",
      "['  hate_speech_probability: 0,']\n"
     ]
    },
    {
     "name": "stderr",
     "output_type": "stream",
     "text": [
      " 81%|████████  | 385/478 [27:05<06:18,  4.07s/it]"
     ]
    },
    {
     "name": "stdout",
     "output_type": "stream",
     "text": [
      "I 'm sure I would have done great in public school if the Mexican gang members stopped kicking my * * * long enough for me to get my homework done ...\n",
      "['  \"hate_speech_probability\": 0.5,']\n"
     ]
    },
    {
     "name": "stderr",
     "output_type": "stream",
     "text": [
      " 81%|████████  | 386/478 [27:09<06:11,  4.03s/it]"
     ]
    },
    {
     "name": "stdout",
     "output_type": "stream",
     "text": [
      "God 's own divine intervention , aided by Jewish money swindled from the goyim .\n",
      "['  \"hate_speech_probability\": 0.5,']\n"
     ]
    },
    {
     "name": "stderr",
     "output_type": "stream",
     "text": [
      " 81%|████████  | 387/478 [27:13<06:09,  4.06s/it]"
     ]
    },
    {
     "name": "stdout",
     "output_type": "stream",
     "text": [
      "Just watch them at North America and they like all black sport players and their `` slang '' .\n",
      "['  \"hate_speech_probability\": 0.15']\n"
     ]
    },
    {
     "name": "stderr",
     "output_type": "stream",
     "text": [
      " 81%|████████  | 388/478 [27:16<05:53,  3.93s/it]"
     ]
    },
    {
     "name": "stdout",
     "output_type": "stream",
     "text": [
      "First off they probably wont do anything , second off dont start anything .\n",
      "['  \"hate_speech_probability\": 0']\n"
     ]
    },
    {
     "name": "stderr",
     "output_type": "stream",
     "text": [
      " 81%|████████▏ | 389/478 [27:20<05:28,  3.70s/it]"
     ]
    },
    {
     "name": "stdout",
     "output_type": "stream",
     "text": [
      "Sometimes I do watch shows about WWII on the History channel but other than that I never watch it .\n",
      "['  \"hate_speech_probability\": 0,']\n"
     ]
    },
    {
     "name": "stderr",
     "output_type": "stream",
     "text": [
      " 82%|████████▏ | 390/478 [27:24<05:42,  3.90s/it]"
     ]
    },
    {
     "name": "stdout",
     "output_type": "stream",
     "text": [
      "Its simple , they want to create white guilt , .\n",
      "['  \"hate_speech_probability\": 0.4,']\n"
     ]
    },
    {
     "name": "stderr",
     "output_type": "stream",
     "text": [
      " 82%|████████▏ | 391/478 [27:27<05:16,  3.64s/it]"
     ]
    },
    {
     "name": "stdout",
     "output_type": "stream",
     "text": [
      "I take the assumption that your Nation is so crap is not worth remembering .\n",
      "['\"hate_speech_probability\": 0.3']\n"
     ]
    },
    {
     "name": "stderr",
     "output_type": "stream",
     "text": [
      " 82%|████████▏ | 392/478 [27:32<05:40,  3.96s/it]"
     ]
    },
    {
     "name": "stdout",
     "output_type": "stream",
     "text": [
      "ZOG is getting rid of every White-dominated area in the world .\n",
      "['  \"hate_speech_probability\": 0.8,']\n"
     ]
    },
    {
     "name": "stderr",
     "output_type": "stream",
     "text": [
      " 82%|████████▏ | 393/478 [27:35<05:29,  3.88s/it]"
     ]
    },
    {
     "name": "stdout",
     "output_type": "stream",
     "text": [
      "They do not want all of us to find out how she was raped and tortured .\n",
      "['  \"hate_speech_probability\": 0.1,']\n"
     ]
    },
    {
     "name": "stderr",
     "output_type": "stream",
     "text": [
      " 82%|████████▏ | 394/478 [27:39<05:20,  3.82s/it]"
     ]
    },
    {
     "name": "stdout",
     "output_type": "stream",
     "text": [
      "It seems that what they are trying to say is that if you are white you are in the wrong place at the wrong time anywhere in the World .\n",
      "['  \"hate_speech_probability\": 0.5,']\n"
     ]
    },
    {
     "name": "stderr",
     "output_type": "stream",
     "text": [
      " 83%|████████▎ | 395/478 [27:43<05:26,  3.93s/it]"
     ]
    },
    {
     "name": "stdout",
     "output_type": "stream",
     "text": [
      "Right.\n",
      "['  \"hate_speech_probability\": 0.3,']\n"
     ]
    },
    {
     "name": "stderr",
     "output_type": "stream",
     "text": [
      " 83%|████████▎ | 396/478 [27:47<05:11,  3.80s/it]"
     ]
    },
    {
     "name": "stdout",
     "output_type": "stream",
     "text": [
      "Great link .\n",
      "['  \"hate_speech_probability\": 0,']\n"
     ]
    },
    {
     "name": "stderr",
     "output_type": "stream",
     "text": [
      " 83%|████████▎ | 397/478 [27:50<04:50,  3.58s/it]"
     ]
    },
    {
     "name": "stdout",
     "output_type": "stream",
     "text": [
      "Seems none of these pinheads wanted to get dirty .\n",
      "['  \"hate_speech_probability\": 0']\n"
     ]
    },
    {
     "name": "stderr",
     "output_type": "stream",
     "text": [
      " 83%|████████▎ | 398/478 [27:54<04:57,  3.72s/it]"
     ]
    },
    {
     "name": "stdout",
     "output_type": "stream",
     "text": [
      "The jew media likes to prop this whites becoming the minority non sense up because they want to try and scare whitey , the media plays on the fears that the average retard thinks hispanic or latino is a race and they play word play with titles like white hispanic and white non hispanic it is all a magic show nothing more .. But Whites becoming a minority in Europe the homeland is a much more serious issue that concerns me greatly .\n",
      "['\"hate_speech_probability\": 0.6,']\n"
     ]
    },
    {
     "name": "stderr",
     "output_type": "stream",
     "text": [
      " 83%|████████▎ | 399/478 [27:58<05:01,  3.82s/it]"
     ]
    },
    {
     "name": "stdout",
     "output_type": "stream",
     "text": [
      "The future is ours , as long as we do not sit by and wait to be overrun by the subhumans .\n",
      "['  \"hate_speech_probability\": 0.8,']\n"
     ]
    },
    {
     "name": "stderr",
     "output_type": "stream",
     "text": [
      " 84%|████████▎ | 400/478 [28:02<04:57,  3.81s/it]"
     ]
    },
    {
     "name": "stdout",
     "output_type": "stream",
     "text": [
      "God, it is sickening to see these young lives taken by feral negroes .\n",
      "{\n",
      "  \"relevant_facts\\_from\\_the\\_cultural\\_context\": [\n",
      "    \"The statement was made on a white supremacist forum in the US.\",\n",
      "    \"The use of derogatory language towards Black people is common in such forums.\"\n",
      "  ],\n",
      "  \"contained\\_explicit\\_racist\\_vocabulary\": [\n",
      "    \"feral\",\n",
      "    \"negroes\"\n",
      "  ],\n",
      "  \"argument\\_for\\_hate\\_speech\": \"The statement uses derogatory language and expresses animosity towards a specific racial group.\",\n",
      "  \"argument\\_against\\_hate\\_speech\": \"The statement does not contain a direct threat or call to violence.\",\n",
      "  \"likelihood\\_of\\_presence\\_of\\_implicit\\_hate\\_speech\": 0.5,\n",
      "  \"likelihood\\_of\\_presence\\_of\\_explicit\\_hate\\_speech\": 0.9,\n",
      "  \"likelihood\\_of\\_ad\\_hominin\\_attack\": 0,\n",
      "  \"likelihood\\_of\\_minority\\_attack\": 1,\n",
      "  \"likelihood\\_of\\_takedown\\_on\\_social\\_media\": 0.8,\n",
      "  \"hate\\_speech\\_probability\": 0.8\n"
     ]
    },
    {
     "name": "stderr",
     "output_type": "stream",
     "text": [
      " 84%|████████▍ | 401/478 [28:05<04:43,  3.68s/it]"
     ]
    },
    {
     "name": "stdout",
     "output_type": "stream",
     "text": [
      "God bless them all , to hell with the blacks .\n",
      "['  \"hate_speech_probability\": 0.9']\n"
     ]
    },
    {
     "name": "stderr",
     "output_type": "stream",
     "text": [
      " 84%|████████▍ | 402/478 [28:09<04:54,  3.88s/it]"
     ]
    },
    {
     "name": "stdout",
     "output_type": "stream",
     "text": [
      "Richland County deputies say Cason killed his estranged wife , 38-year-old Letitia Cason , at an apartment on Smallwood Road in Northeast Richland County Deputies : Murder Suspect Shoots at Officers , is Taken Into Custody wltx.com | Columbia , SC News , Weather and Sports |\n",
      "['\"hate_speech_probability\": 0.1']\n"
     ]
    },
    {
     "name": "stderr",
     "output_type": "stream",
     "text": [
      " 84%|████████▍ | 403/478 [28:13<04:45,  3.81s/it]"
     ]
    },
    {
     "name": "stdout",
     "output_type": "stream",
     "text": [
      "Providing From Finland does n't kick my ass and throw me overboard ... coming or going .\n",
      "['  \"hate_speech_probability\": 0']\n"
     ]
    },
    {
     "name": "stderr",
     "output_type": "stream",
     "text": [
      " 85%|████████▍ | 404/478 [28:17<04:38,  3.77s/it]"
     ]
    },
    {
     "name": "stdout",
     "output_type": "stream",
     "text": [
      "Has anybody pointed out that Finland is n't part of Scandinavia yet ? ( Hur gick det i Finnkampen , vet ni det ?\n",
      "['  \"hate_speech_probability\": 0']\n"
     ]
    },
    {
     "name": "stderr",
     "output_type": "stream",
     "text": [
      " 85%|████████▍ | 405/478 [28:21<04:38,  3.82s/it]"
     ]
    },
    {
     "name": "stdout",
     "output_type": "stream",
     "text": [
      "Seeing the teams of white nations have black players in their ranks is a depressing site to see.They should be representing the best of our nations not the worst\n",
      "['  \"hate_speech_probability\": 0.6,']\n"
     ]
    },
    {
     "name": "stderr",
     "output_type": "stream",
     "text": [
      " 85%|████████▍ | 406/478 [28:24<04:26,  3.71s/it]"
     ]
    },
    {
     "name": "stdout",
     "output_type": "stream",
     "text": [
      "Did they put that Groid 15 next to Rooney just to make Rooney look at least half-human ?\n",
      "['  \"hate_speech_probability\": 0.9,']\n"
     ]
    },
    {
     "name": "stderr",
     "output_type": "stream",
     "text": [
      " 85%|████████▌ | 407/478 [28:29<04:48,  4.07s/it]"
     ]
    },
    {
     "name": "stdout",
     "output_type": "stream",
     "text": [
      "If you are not registered I think that maybe you will not be able to see this .\n",
      "['  \"hate_speech_probability\": 0.3,']\n"
     ]
    },
    {
     "name": "stderr",
     "output_type": "stream",
     "text": [
      " 85%|████████▌ | 408/478 [28:36<05:37,  4.82s/it]"
     ]
    },
    {
     "name": "stdout",
     "output_type": "stream",
     "text": [
      "The only Mexican in town has since moved out and kids can now leave their bicycles in the yard without fear .\n",
      "['  \"hate_speech_probability\": 0.3', '- the hate_speech_probability: 0.3 - moderate - the comment does contain implicit hate speech, which, although not explicitly stated, still carries a harmful and discriminatory meaning']\n"
     ]
    },
    {
     "name": "stderr",
     "output_type": "stream",
     "text": [
      " 86%|████████▌ | 409/478 [28:39<05:08,  4.48s/it]"
     ]
    },
    {
     "name": "stdout",
     "output_type": "stream",
     "text": [
      "what about it. that 's exactly what I said and I meant every word he thought I might and that was enough and with you two talking behind my back like some jew what do you expect me to say have a nice life .\n",
      "['  \"hate_speech_probability\": 0.8,']\n"
     ]
    },
    {
     "name": "stderr",
     "output_type": "stream",
     "text": [
      " 86%|████████▌ | 410/478 [28:42<04:30,  3.97s/it]"
     ]
    },
    {
     "name": "stdout",
     "output_type": "stream",
     "text": [
      "I do n't think so .\n",
      "['  \"hate_speech_probability\": 0,']\n"
     ]
    },
    {
     "name": "stderr",
     "output_type": "stream",
     "text": [
      " 86%|████████▌ | 411/478 [28:47<04:40,  4.19s/it]"
     ]
    },
    {
     "name": "stdout",
     "output_type": "stream",
     "text": [
      "if they have the same help here in Quebec , i would like too say congratulation pitbull-A.G. and i hope you have lot of new white resident in your city\n",
      "['  \"hate_speech_probability\": 0.3']\n"
     ]
    },
    {
     "name": "stderr",
     "output_type": "stream",
     "text": [
      " 86%|████████▌ | 412/478 [28:50<04:22,  3.97s/it]"
     ]
    },
    {
     "name": "stdout",
     "output_type": "stream",
     "text": [
      "White town saved by the magic negroes of Afreakkaland .\n",
      "['  \"hate_speech_probability\": 0.8,']\n"
     ]
    },
    {
     "name": "stderr",
     "output_type": "stream",
     "text": [
      " 86%|████████▋ | 413/478 [28:56<04:44,  4.38s/it]"
     ]
    },
    {
     "name": "stdout",
     "output_type": "stream",
     "text": [
      "Amen brother ..... you did say it like you been there ... they talk crap and if you show fear they 'll be on ya fast .\n",
      "['  \"hate_speech_probability\": 0.3']\n"
     ]
    },
    {
     "name": "stderr",
     "output_type": "stream",
     "text": [
      " 87%|████████▋ | 414/478 [29:00<04:44,  4.45s/it]"
     ]
    },
    {
     "name": "stdout",
     "output_type": "stream",
     "text": [
      "But get the eyes wide open and lets rock attitude ... most will back off and go away ..... been there with ya !\n",
      "['hate_speech_probability: 0.3']\n"
     ]
    },
    {
     "name": "stderr",
     "output_type": "stream",
     "text": [
      " 87%|████████▋ | 415/478 [29:04<04:22,  4.17s/it]"
     ]
    },
    {
     "name": "stdout",
     "output_type": "stream",
     "text": [
      "You do not have to wait for this law to pass since already you would be expelled from your school for doing the above under some sort of hostile school environment clause , as you would at most places of work .\n",
      "{\n",
      "  \"relevant\\_facts\\_from\\_the\\_cultural\\_context\": [\n",
      "    \"White supremacist forums in the US often contain hate speech directed towards various ethnic and racial groups.\",\n",
      "    \"The use of explicit and implicit racist language is common in these forums.\",\n",
      "    \"The context and tone of the sentence can significantly impact the determination of hate speech.\",\n",
      "  ],\n",
      "  \"relevant\\_word\\_definitions\": {},\n",
      "  \"contained\\_explicit\\_racist\\_vocabulary\": [],\n",
      "  \"contained\\_explicit\\_sexist\\_vocabulary\": [],\n",
      "  \"contained\\_explicit\\_toxic\\_vocabulary\": [],\n",
      "  \"argument\\_for\\_hate\\_speech\": \"The sentence explicitly states that the speaker would be expelled from a school or workplace for posting hate speech, which implies that they are planning to do so and have a hostile view towards certain groups.\",\n",
      "  \"argument\\_against\\_hate\\_speech\": \"The sentence is not directly containing any explicit racist or sexist vocabulary and is not personally attacking any specific individual or group.\",\n",
      "  \"likelihood\\_of\\_presence\\_of\\_implicit\\_hate\\_speech\": 0.5,\n",
      "  \"likelihood\\_of\\_presence\\_of\\_explicit\\_hate\\_speech\": 0.3,\n",
      "  \"likelihood\\_of\\_ad\\_hominin\\_attack\": 0.2,\n",
      "  \"likelihood\\_of\\_minority\\_attack\": 0,\n",
      "  \"likelihood\\_of\\_takedown\\_on\\_social\\_media\": 0.8,\n",
      "  \"hate\\_speech\\_probability\": 0.4\n"
     ]
    },
    {
     "name": "stderr",
     "output_type": "stream",
     "text": [
      " 87%|████████▋ | 416/478 [29:08<04:19,  4.19s/it]"
     ]
    },
    {
     "name": "stdout",
     "output_type": "stream",
     "text": [
      "Maybe God was punishing them for their interracial marriage .\n",
      "['  \"hate_speech_probability\": 0.3']\n"
     ]
    },
    {
     "name": "stderr",
     "output_type": "stream",
     "text": [
      " 87%|████████▋ | 417/478 [29:12<04:12,  4.14s/it]"
     ]
    },
    {
     "name": "stdout",
     "output_type": "stream",
     "text": [
      "Good luck with your bugchasing , homo . . .\n",
      "['  \"hate_speech_probability\": 0.85,']\n"
     ]
    },
    {
     "name": "stderr",
     "output_type": "stream",
     "text": [
      " 87%|████████▋ | 418/478 [29:15<03:54,  3.91s/it]"
     ]
    },
    {
     "name": "stdout",
     "output_type": "stream",
     "text": [
      "Negroids could n't put together a bake sale properly much less a work force .\n",
      "['  \"hate_speech_probability\": 0.8,']\n"
     ]
    },
    {
     "name": "stderr",
     "output_type": "stream",
     "text": [
      " 88%|████████▊ | 419/478 [29:19<03:41,  3.75s/it]"
     ]
    },
    {
     "name": "stdout",
     "output_type": "stream",
     "text": [
      "Saul Kassin : `` False confessions '' https : //www.youtube.com/watch ? v = JDRRwFfJKkw The Vera Institute of Justice 's Neil A. Weiner Research Department Speaker Series presents Saul Kassin , Distinguished Professor of Psychology at John Jay College of Criminal Justice .\n",
      "['  \"hate_speech_probability\": 0,']\n"
     ]
    },
    {
     "name": "stderr",
     "output_type": "stream",
     "text": [
      " 88%|████████▊ | 420/478 [29:22<03:25,  3.55s/it]"
     ]
    },
    {
     "name": "stdout",
     "output_type": "stream",
     "text": [
      "The school did not cause my much trouble because it was elementary school .\n",
      "['  \"hate_speech_probability\": 0']\n"
     ]
    },
    {
     "name": "stderr",
     "output_type": "stream",
     "text": [
      " 88%|████████▊ | 421/478 [29:26<03:26,  3.62s/it]"
     ]
    },
    {
     "name": "stdout",
     "output_type": "stream",
     "text": [
      "I went outside and the niglet 's mom told me my daughter had hit her first .\n",
      "['  \"hate_speech_probability\": 0.8,']\n"
     ]
    },
    {
     "name": "stderr",
     "output_type": "stream",
     "text": [
      " 88%|████████▊ | 422/478 [29:29<03:20,  3.58s/it]"
     ]
    },
    {
     "name": "stdout",
     "output_type": "stream",
     "text": [
      "We are cooking a duck on the rotisserie , catch the fat drippings and cook little potatoes in that , its delicious , we 're also cooking a small turkey , mashed potatoes , carrots , pumpkin pie and butternut squash cut in half and baked with butter and brown sugar .\n",
      "['  \"hate_speech_probability\": 0']\n"
     ]
    },
    {
     "name": "stderr",
     "output_type": "stream",
     "text": [
      " 88%|████████▊ | 423/478 [29:34<03:35,  3.92s/it]"
     ]
    },
    {
     "name": "stdout",
     "output_type": "stream",
     "text": [
      "I see pro and cons of both .\n",
      "['  \"hate_speech_probability\": 0.5,']\n"
     ]
    },
    {
     "name": "stderr",
     "output_type": "stream",
     "text": [
      " 89%|████████▊ | 424/478 [29:38<03:37,  4.03s/it]"
     ]
    },
    {
     "name": "stdout",
     "output_type": "stream",
     "text": [
      "Like I said before I 'd bet 90 % + have Liberal parents .\n",
      "['  hate_speech_probability: 0.1,']\n"
     ]
    },
    {
     "name": "stderr",
     "output_type": "stream",
     "text": [
      " 89%|████████▉ | 425/478 [29:42<03:25,  3.88s/it]"
     ]
    },
    {
     "name": "stdout",
     "output_type": "stream",
     "text": [
      "I live in AR .\n",
      "['  \"hate_speech_probability\": 0.2,']\n"
     ]
    },
    {
     "name": "stderr",
     "output_type": "stream",
     "text": [
      " 89%|████████▉ | 426/478 [29:46<03:30,  4.05s/it]"
     ]
    },
    {
     "name": "stdout",
     "output_type": "stream",
     "text": [
      "I going to get homeschooled tired of looney lefty teachers and the negroes\n",
      "['  \"hate_speech_probability\": 0.8']\n"
     ]
    },
    {
     "name": "stderr",
     "output_type": "stream",
     "text": [
      " 89%|████████▉ | 427/478 [29:52<03:52,  4.56s/it]"
     ]
    },
    {
     "name": "stdout",
     "output_type": "stream",
     "text": [
      "But it does have a feminine sound .\n",
      "['  \"hate_speech_probability\": 0.1,']\n"
     ]
    },
    {
     "name": "stderr",
     "output_type": "stream",
     "text": [
      " 90%|████████▉ | 428/478 [29:56<03:47,  4.55s/it]"
     ]
    },
    {
     "name": "stdout",
     "output_type": "stream",
     "text": [
      "The students should be able to express themselves .\n",
      "['  \"hate_speech_probability\": 0.3,']\n"
     ]
    },
    {
     "name": "stderr",
     "output_type": "stream",
     "text": [
      " 90%|████████▉ | 429/478 [29:59<03:19,  4.07s/it]"
     ]
    },
    {
     "name": "stdout",
     "output_type": "stream",
     "text": [
      "No .\n",
      "['  \"hate_speech_probability\": 0,']\n"
     ]
    },
    {
     "name": "stderr",
     "output_type": "stream",
     "text": [
      " 90%|████████▉ | 430/478 [30:03<03:04,  3.84s/it]"
     ]
    },
    {
     "name": "stdout",
     "output_type": "stream",
     "text": [
      "Americans and Irish understand each other better than Spaniards and the beaners .. the US and Ireland are the 1st world so they are educated unlike the beaners .\n",
      "['  \"hate_speech_probability\": 0.85']\n"
     ]
    },
    {
     "name": "stderr",
     "output_type": "stream",
     "text": [
      " 90%|█████████ | 431/478 [30:07<03:10,  4.06s/it]"
     ]
    },
    {
     "name": "stdout",
     "output_type": "stream",
     "text": [
      "Enjoy your classroom .\n",
      "['  \"hate_speech_probability\": 0.1,']\n"
     ]
    },
    {
     "name": "stderr",
     "output_type": "stream",
     "text": [
      " 90%|█████████ | 432/478 [30:11<03:04,  4.01s/it]"
     ]
    },
    {
     "name": "stdout",
     "output_type": "stream",
     "text": [
      "I am going to try and update my site soon , I did however add a chat room .\n",
      "['  \"hate_speech_probability\": 0.1,']\n"
     ]
    },
    {
     "name": "stderr",
     "output_type": "stream",
     "text": [
      " 91%|█████████ | 433/478 [30:15<02:58,  3.98s/it]"
     ]
    },
    {
     "name": "stdout",
     "output_type": "stream",
     "text": [
      "Whether or not one chooses to eat meat is a very personal decision .\n",
      "['  \"hate_speech_probability\": 0,']\n"
     ]
    },
    {
     "name": "stderr",
     "output_type": "stream",
     "text": [
      " 91%|█████████ | 434/478 [30:19<02:54,  3.96s/it]"
     ]
    },
    {
     "name": "stdout",
     "output_type": "stream",
     "text": [
      "The white man has no future in Canada , that is for sure , because the country is being flooded with non-white immigrants .\n",
      "['  \"hate_speech_probability\": 0.7,']\n"
     ]
    },
    {
     "name": "stderr",
     "output_type": "stream",
     "text": [
      " 91%|█████████ | 435/478 [30:23<02:55,  4.08s/it]"
     ]
    },
    {
     "name": "stdout",
     "output_type": "stream",
     "text": [
      "And my job lets me monitor all of Jewish supremacist control of talk radio .\n",
      "['  \"hate_speech_probability\": 0']\n"
     ]
    },
    {
     "name": "stderr",
     "output_type": "stream",
     "text": [
      " 91%|█████████ | 436/478 [30:28<02:54,  4.15s/it]"
     ]
    },
    {
     "name": "stdout",
     "output_type": "stream",
     "text": [
      "They need the white male distracted as much as possible and of course the glorification of the groid ; two birds one stone .\n",
      "['  \"hate_speech_probability\": 0.7,']\n"
     ]
    },
    {
     "name": "stderr",
     "output_type": "stream",
     "text": [
      " 91%|█████████▏| 437/478 [30:29<02:19,  3.41s/it]"
     ]
    },
    {
     "name": "stdout",
     "output_type": "stream",
     "text": [
      "I reported some time ago that negroes will even strip the bricks off your home while you are away at work .\n",
      "['  \"hate_speech_probability\": 0.9']\n"
     ]
    },
    {
     "name": "stderr",
     "output_type": "stream",
     "text": [
      " 92%|█████████▏| 438/478 [30:32<02:11,  3.29s/it]"
     ]
    },
    {
     "name": "stdout",
     "output_type": "stream",
     "text": [
      "How much longer are we going to wait for them to take care of themselves ?\n",
      "['  \"hate_speech_probability\": 0,']\n"
     ]
    },
    {
     "name": "stderr",
     "output_type": "stream",
     "text": [
      " 92%|█████████▏| 439/478 [30:36<02:19,  3.57s/it]"
     ]
    },
    {
     "name": "stdout",
     "output_type": "stream",
     "text": [
      "This is ARKANSAS they have no right to smell up my place with their chinese restaurant BO ~ ▲ RESTORE ORDER ▲ ~\n",
      "['  hate_speech_probability: 0.8,']\n"
     ]
    },
    {
     "name": "stderr",
     "output_type": "stream",
     "text": [
      " 92%|█████████▏| 440/478 [30:40<02:18,  3.63s/it]"
     ]
    },
    {
     "name": "stdout",
     "output_type": "stream",
     "text": [
      "Seattle bus attack on a blind woman : YouTube - Broadcast Yourself .\n",
      "['  hate_speech_probability: 0.2']\n"
     ]
    },
    {
     "name": "stderr",
     "output_type": "stream",
     "text": [
      " 92%|█████████▏| 441/478 [30:44<02:13,  3.62s/it]"
     ]
    },
    {
     "name": "stdout",
     "output_type": "stream",
     "text": [
      "nobody said I like him and I dont see the reason to like him to be honest WE HAVE ENOUGH CULTURAL HERITAGE FOR HUNDREDS OF GENERATIONS WE SHOULD BE PROUD OF WHAT WE DID NOT OF WHAT SOME AUSTRIAN DID !!!\n",
      "['\"hate_speech_probability\": 0.1.']\n"
     ]
    },
    {
     "name": "stderr",
     "output_type": "stream",
     "text": [
      " 92%|█████████▏| 442/478 [30:47<02:10,  3.64s/it]"
     ]
    },
    {
     "name": "stdout",
     "output_type": "stream",
     "text": [
      "Those poor kikes they cant even escape antisemetism in the country were it is punishable by death ( I am talking about palestinians )\n",
      "['  \"hate_speech_probability\": 1.0,']\n"
     ]
    },
    {
     "name": "stderr",
     "output_type": "stream",
     "text": [
      " 93%|█████████▎| 443/478 [30:51<02:04,  3.56s/it]"
     ]
    },
    {
     "name": "stdout",
     "output_type": "stream",
     "text": [
      "I thought there was talk not too long ago about Putin extending the terms to stay in office ?\n",
      "['  \"hate_speech_probability\": 0.0']\n"
     ]
    },
    {
     "name": "stderr",
     "output_type": "stream",
     "text": [
      " 93%|█████████▎| 444/478 [30:54<01:55,  3.38s/it]"
     ]
    },
    {
     "name": "stdout",
     "output_type": "stream",
     "text": [
      "If anyone can tell what happened on this lake ?\n",
      "['  \"hate_speech_probability\": 0']\n"
     ]
    },
    {
     "name": "stderr",
     "output_type": "stream",
     "text": [
      " 93%|█████████▎| 445/478 [30:57<01:50,  3.35s/it]"
     ]
    },
    {
     "name": "stdout",
     "output_type": "stream",
     "text": [
      "Idiotic.\n",
      "['  \"hate_speech_probability\": 0.2,']\n"
     ]
    },
    {
     "name": "stderr",
     "output_type": "stream",
     "text": [
      " 93%|█████████▎| 446/478 [31:00<01:46,  3.33s/it]"
     ]
    },
    {
     "name": "stdout",
     "output_type": "stream",
     "text": [
      "I would love a house .\n",
      "['  \"hate_speech_probability\": 0.0']\n"
     ]
    },
    {
     "name": "stderr",
     "output_type": "stream",
     "text": [
      " 94%|█████████▎| 447/478 [31:03<01:38,  3.19s/it]"
     ]
    },
    {
     "name": "stdout",
     "output_type": "stream",
     "text": [
      "The problems start when you start to accommonadate these people in the first place ! , give an inch and they 'll take a mile ......\n",
      "['  \"hate_speech_probability\": 0.1,']\n"
     ]
    },
    {
     "name": "stderr",
     "output_type": "stream",
     "text": [
      " 94%|█████████▎| 448/478 [31:08<01:53,  3.80s/it]"
     ]
    },
    {
     "name": "stdout",
     "output_type": "stream",
     "text": [
      "Latha math dhuibh agus dè tha dol agad fhèin , a Phàdruig/Hello Pat , how are you ?\n",
      "['  \"hate_speech_probability\": 0']\n"
     ]
    },
    {
     "name": "stderr",
     "output_type": "stream",
     "text": [
      " 94%|█████████▍| 449/478 [31:13<01:55,  3.98s/it]"
     ]
    },
    {
     "name": "stdout",
     "output_type": "stream",
     "text": [
      "There's no way to stop them from coming to Canada all that is needed is proof of ownership of a house in India , africa etc and they can enter in on a tourist visa .\n",
      "['  \"hate_speech_probability\": 0.1']\n"
     ]
    },
    {
     "name": "stderr",
     "output_type": "stream",
     "text": [
      " 94%|█████████▍| 450/478 [31:17<01:56,  4.15s/it]"
     ]
    },
    {
     "name": "stdout",
     "output_type": "stream",
     "text": [
      "The problem is that through western elites we have to feed and look after useless savages like malema .\n",
      "['  \"hate_speech_probability\": 0.8']\n"
     ]
    },
    {
     "name": "stderr",
     "output_type": "stream",
     "text": [
      " 94%|█████████▍| 451/478 [31:21<01:47,  3.98s/it]"
     ]
    },
    {
     "name": "stdout",
     "output_type": "stream",
     "text": [
      "If that stopped the worthless thing would starve !\n",
      "['  \"hate_speech_probability\": 0.2']\n"
     ]
    },
    {
     "name": "stderr",
     "output_type": "stream",
     "text": [
      " 95%|█████████▍| 452/478 [31:24<01:34,  3.64s/it]"
     ]
    },
    {
     "name": "stdout",
     "output_type": "stream",
     "text": [
      "Hello Everyone on Stormfront Have heard a lot of good things about this forum so I have decided to take the plunge .\n",
      "['  \"hate_speech_probability\": 0.3,']\n"
     ]
    },
    {
     "name": "stderr",
     "output_type": "stream",
     "text": [
      " 95%|█████████▍| 453/478 [31:27<01:25,  3.41s/it]"
     ]
    },
    {
     "name": "stdout",
     "output_type": "stream",
     "text": [
      "I'm in Australia and I want it to be done and over with , my mum is constantly going on about the Olympics like it 's a big deal .\n",
      "{\n",
      "  \"relevant\\_facts\\_from\\_the\\_cultural\\_context\": [],\n",
      "  \"relevant\\_word\\_definitions\": {},\n",
      "  \"contained\\_explicit\\_racist\\_vocabulary\": [],\n",
      "  \"contained\\_explicit\\_sexist\\_vocabulary\": [],\n",
      "  \"contained\\_explicit\\_toxic\\_vocabulary\": [],\n",
      "  \"argument\\_for\\_hate\\_speech\": \"There is no hate speech in this statement as it does not contain any racist, sexist, toxic, or dehumanizing language.\",\n",
      "  \"argument\\_against\\_hate\\_speech\": \"-\",\n",
      "  \"likelihood\\_of\\_presence\\_of\\_implicit\\_hate\\_speech\": 0,\n",
      "  \"likelihood\\_of\\_presence\\_of\\_explicit\\_hate\\_speech\": 0,\n",
      "  \"likelihood\\_of\\_ad\\_hominin\\_attack\": 0,\n",
      "  \"likelihood\\_of\\_minority\\_attack\": 0,\n",
      "  \"likelihood\\_of\\_takedown\\_on\\_social\\_media\": 0,\n",
      "  \"hate\\_speech\\_probability\": 0\n"
     ]
    },
    {
     "name": "stderr",
     "output_type": "stream",
     "text": [
      " 95%|█████████▍| 454/478 [31:31<01:25,  3.57s/it]"
     ]
    },
    {
     "name": "stdout",
     "output_type": "stream",
     "text": [
      "Of course the county is lovely , in facts its gods country in our book BUT the cities are rat infested with enrichers , just how the country is isnt it .\n",
      "['  \"hate_speech_probability\": 0.4']\n"
     ]
    },
    {
     "name": "stderr",
     "output_type": "stream",
     "text": [
      " 95%|█████████▌| 455/478 [31:35<01:25,  3.71s/it]"
     ]
    },
    {
     "name": "stdout",
     "output_type": "stream",
     "text": [
      "Well Marco is a German patriot and musician who , in the sick minds of ZOG , committed the heinious crime of producing music for a local school .\n",
      "['  \"hate_speech_probability\": 0.2,']\n"
     ]
    },
    {
     "name": "stderr",
     "output_type": "stream",
     "text": [
      " 95%|█████████▌| 456/478 [31:39<01:24,  3.82s/it]"
     ]
    },
    {
     "name": "stdout",
     "output_type": "stream",
     "text": [
      "Too many libtards , I would n't waste my time there .\n",
      "['  \"hate_speech_probability\": 0.3.']\n"
     ]
    },
    {
     "name": "stderr",
     "output_type": "stream",
     "text": [
      " 96%|█████████▌| 457/478 [31:43<01:19,  3.81s/it]"
     ]
    },
    {
     "name": "stdout",
     "output_type": "stream",
     "text": [
      "I got sloppy seconds after some Muslims used this girl .\n",
      "['  \"hate_speech_probability\": 0.4.']\n"
     ]
    },
    {
     "name": "stderr",
     "output_type": "stream",
     "text": [
      " 96%|█████████▌| 458/478 [31:46<01:16,  3.81s/it]"
     ]
    },
    {
     "name": "stdout",
     "output_type": "stream",
     "text": [
      "Only the crazy ones stay .\n",
      "['  \"hate_speech_probability\": 0.1']\n"
     ]
    },
    {
     "name": "stderr",
     "output_type": "stream",
     "text": [
      " 96%|█████████▌| 459/478 [31:49<01:08,  3.59s/it]"
     ]
    },
    {
     "name": "stdout",
     "output_type": "stream",
     "text": [
      "When the non-whites come we should stand together and send em packing , like they do to us .\n",
      "['  \"hate_speech_probability\": 0.8']\n"
     ]
    },
    {
     "name": "stderr",
     "output_type": "stream",
     "text": [
      " 96%|█████████▌| 460/478 [31:54<01:07,  3.77s/it]"
     ]
    },
    {
     "name": "stdout",
     "output_type": "stream",
     "text": [
      "Those in the countries you mentioned are the mongrel offspring between whites ( Aryans ) and Arabs and its funny how those of the East who claim to be the Aryans talk about white people who came and mixed with them and the only Aryans apparently in the East are those with light skin and blue eyes .\n",
      "['  \"hate_speech_probability\": 0.8']\n"
     ]
    },
    {
     "name": "stderr",
     "output_type": "stream",
     "text": [
      " 96%|█████████▋| 461/478 [31:58<01:05,  3.88s/it]"
     ]
    },
    {
     "name": "stdout",
     "output_type": "stream",
     "text": [
      "Laugh it up ape cause without yt to protect your race Asians will probably do the world a favour and wipe your kind from the face of the Earth .\n",
      "{\n",
      "  \"relevant\\_facts\\_from\\_the\\_cultural\\_context\": [\n",
      "    \"This sentence was found in a white supremacist forum in the US.\",\n",
      "    \"The sentence contains explicit racist vocabulary towards Asians.\",\n",
      "    \"The sentence expresses a desire for harm towards a racial group.\"\n",
      "  ],\n",
      "  \"relevant\\_word\\_definitions\": {\n",
      "    \"ape\": \"A racial slur used to dehumanize and degrade people of African descent.\",\n",
      "    \"Asians\": \"A racial group of people originating from the Asian continent.\",\n",
      "    \"yt\": \"Short for 'white people'.\"\n",
      "  },\n",
      "  \"contained\\_explicit\\_racist\\_vocabulary\": [\n",
      "    \"ape\",\n",
      "    \"Asians\",\n",
      "    \"your kind\"\n",
      "  ],\n",
      "  \"argument\\_for\\_hate\\_speech\": \"This sentence expresses a clear desire for harm towards a specific racial group and uses derogatory language to dehumanize and degrade that group.\",\n",
      "  \"argument\\_against\\_hate\\_speech\": \"Some may argue that this is just a statement of opinion and not hate speech. However, the use of explicit racist vocabulary and the desire for harm towards a specific racial group are clear indicators of hate speech.\",\n",
      "  \"likelihood\\_of\\_presence\\_of\\_implicit\\_hate\\_speech\": 0.3,\n",
      "  \"likelihood\\_of\\_presence\\_of\\_explicit\\_hate\\_speech\": 0.9,\n",
      "  \"likelihood\\_of\\_ad\\_hominin\\_attack\": 0.1,\n",
      "  \"likelihood\\_of\\_minority\\_attack\": 1,\n",
      "  \"likelihood\\_of\\_takedown\\_on\\_social\\_media\": 0.9,\n",
      "  \"hate\\_speech\\_probability\": 0.95,\n"
     ]
    },
    {
     "name": "stderr",
     "output_type": "stream",
     "text": [
      " 97%|█████████▋| 462/478 [32:01<01:01,  3.83s/it]"
     ]
    },
    {
     "name": "stdout",
     "output_type": "stream",
     "text": [
      "I tried to sign up there once & they refused to activate my account .\n",
      "['  \"hate_speech_probability\": 0.']\n"
     ]
    },
    {
     "name": "stderr",
     "output_type": "stream",
     "text": [
      " 97%|█████████▋| 463/478 [32:06<00:59,  3.95s/it]"
     ]
    },
    {
     "name": "stdout",
     "output_type": "stream",
     "text": [
      "In the eyes of the Jew and the libtard there is a race problem and the problem is us !\n",
      "['  \"hate_speech_probability\": 0.4']\n"
     ]
    },
    {
     "name": "stderr",
     "output_type": "stream",
     "text": [
      " 97%|█████████▋| 464/478 [32:13<01:08,  4.92s/it]"
     ]
    },
    {
     "name": "stdout",
     "output_type": "stream",
     "text": [
      "You need to ask this when the Obama Administration instructed the IRS to target conservatives ?\n",
      "['  \"hate_speech_probability\": 0,']\n"
     ]
    },
    {
     "name": "stderr",
     "output_type": "stream",
     "text": [
      " 97%|█████████▋| 465/478 [32:17<00:59,  4.56s/it]"
     ]
    },
    {
     "name": "stdout",
     "output_type": "stream",
     "text": [
      "Neither of the Diaz brothers are very bright but they generally come to fight .\n",
      "['  hate_speech_probability: 0,']\n"
     ]
    },
    {
     "name": "stderr",
     "output_type": "stream",
     "text": [
      " 97%|█████████▋| 466/478 [32:21<00:52,  4.36s/it]"
     ]
    },
    {
     "name": "stdout",
     "output_type": "stream",
     "text": [
      "The Neolithic farmers who migrated into Europe originated in Anatolia .\n",
      "['  \"hate_speech_probability\": 0,']\n"
     ]
    },
    {
     "name": "stderr",
     "output_type": "stream",
     "text": [
      " 98%|█████████▊| 467/478 [32:27<00:55,  5.04s/it]"
     ]
    },
    {
     "name": "stdout",
     "output_type": "stream",
     "text": [
      "Explain how liberals are liars and anti-White and tell her about crime statistics .\n",
      "['  \"hate_speech_probability\": 0.5,']\n"
     ]
    },
    {
     "name": "stderr",
     "output_type": "stream",
     "text": [
      " 98%|█████████▊| 468/478 [32:32<00:48,  4.85s/it]"
     ]
    },
    {
     "name": "stdout",
     "output_type": "stream",
     "text": [
      "Perhaps people will take you more seriously if you do n't make as many grammar errors and using repulsive language .\n",
      "[' \"hate_speech_probability\": 1,']\n"
     ]
    },
    {
     "name": "stderr",
     "output_type": "stream",
     "text": [
      " 98%|█████████▊| 469/478 [32:37<00:44,  4.93s/it]"
     ]
    },
    {
     "name": "stdout",
     "output_type": "stream",
     "text": [
      "And hey , we have not talked about women 's mitochondriat at all ?\n",
      "['  \"hate_speech_probability\": 0.3,']\n"
     ]
    },
    {
     "name": "stderr",
     "output_type": "stream",
     "text": [
      " 98%|█████████▊| 470/478 [32:40<00:34,  4.34s/it]"
     ]
    },
    {
     "name": "stdout",
     "output_type": "stream",
     "text": [
      "Everything is machined to well today mlst stuff is plug and play .\n",
      "['  \"hate_speech_probability\": 0']\n"
     ]
    },
    {
     "name": "stderr",
     "output_type": "stream",
     "text": [
      " 99%|█████████▊| 471/478 [32:44<00:30,  4.33s/it]"
     ]
    },
    {
     "name": "stdout",
     "output_type": "stream",
     "text": [
      "Find other gardeners , wild plant enthusiasts , and fellow believers in your area who you can band with .\n",
      "['  \"hate_speech_probability\": 0']\n"
     ]
    },
    {
     "name": "stderr",
     "output_type": "stream",
     "text": [
      " 99%|█████████▊| 472/478 [32:48<00:26,  4.38s/it]"
     ]
    },
    {
     "name": "stdout",
     "output_type": "stream",
     "text": [
      "I'm glad you pointed this out that anti-Bullying campaign has been used to promote homosexuals who are more likely to bully anyone who disagrees with them .\n",
      "['  \"hate_speech_probability\": 0.3']\n"
     ]
    },
    {
     "name": "stderr",
     "output_type": "stream",
     "text": [
      " 99%|█████████▉| 473/478 [32:51<00:19,  3.86s/it]"
     ]
    },
    {
     "name": "stdout",
     "output_type": "stream",
     "text": [
      "I was just debating with myself whether I should go to bed or have one last beer ...\n",
      "['  \"hate_speech_probability\": 0.']\n"
     ]
    },
    {
     "name": "stderr",
     "output_type": "stream",
     "text": [
      " 99%|█████████▉| 474/478 [32:55<00:15,  3.83s/it]"
     ]
    },
    {
     "name": "stdout",
     "output_type": "stream",
     "text": [
      "I have one word for you ....... MOVE . We chose this area because we wanted our children to go to all white schools .\n",
      "{\n",
      "  \"relevant\\_facts\\_from\\_the\\_cultural\\_context\": [\n",
      "    \"There is a desire among some individuals in the US to live in neighborhoods with a predominantly white population and send their children to schools with a similar demographic.\",\n",
      "    \"Historically, the US has been segregated along racial lines, and the education system has been no exception. The supremacist belief in maintaining racial separation in schools is rooted in this history.\"\n",
      "  ],\n",
      "  \"contained\\_explicit\\_racist\\_vocabulary\": [\n",
      "    \"all white\"\n",
      "  ],\n",
      "  \"argument\\_for\\_hate\\_speech\": \"The statement expresses a clear preference for racial separation and the implicit denigration of non-white individuals, making it a form of hate speech.\",\n",
      "  \"argument\\_against\\_hate\\_speech\": \"Some may argue that the individuals are simply expressing a preference and are not explicitly intending to harm or discriminate against others. However, given the historical context and the explicit reference to race, it is highly likely that hate speech is intended.\",\n",
      "  \"likelihood\\_of\\_presence\\_of\\_implicit\\_hate\\_speech\": 0.9,\n",
      "  \"likelihood\\_of\\_presence\\_of\\_explicit\\_hate\\_speech\": 0.8,\n",
      "  \"likelihood\\_of\\_ad\\_hominin\\_attack\": 0.0,\n",
      "  \"likelihood\\_of\\_minority\\_attack\": 1.0,\n",
      "  \"likelihood\\_of\\_takedown\\_on\\_social\\_media\": 0.9,\n",
      "  \"hate\\_speech\\_probability\": 0.9\n"
     ]
    },
    {
     "name": "stderr",
     "output_type": "stream",
     "text": [
      " 99%|█████████▉| 475/478 [32:59<00:11,  3.80s/it]"
     ]
    },
    {
     "name": "stdout",
     "output_type": "stream",
     "text": [
      "There are only eight people living within a mile of my house , and none closer than a quarter-mile .\n",
      "['  \"hate_speech_probability\": 0.1,']\n"
     ]
    },
    {
     "name": "stderr",
     "output_type": "stream",
     "text": [
      "100%|█████████▉| 476/478 [33:03<00:08,  4.10s/it]"
     ]
    },
    {
     "name": "stdout",
     "output_type": "stream",
     "text": [
      "you just say blacks hate the cold. the only reason they are good athletes is because when you have to run lions and tigers you get fast or eaten .\n",
      "['  \"hate_speech_probability\": 0.9']\n"
     ]
    },
    {
     "name": "stderr",
     "output_type": "stream",
     "text": [
      "100%|█████████▉| 477/478 [33:07<00:04,  4.04s/it]"
     ]
    },
    {
     "name": "stdout",
     "output_type": "stream",
     "text": [
      "And all those holes below 40,000 feet are filled with oil instead of water .\n",
      "['  \"hate_speech_probability\": 0.1,']\n"
     ]
    },
    {
     "name": "stderr",
     "output_type": "stream",
     "text": [
      "100%|██████████| 478/478 [33:12<00:00,  4.17s/it]\n"
     ]
    },
    {
     "name": "stdout",
     "output_type": "stream",
     "text": [
      "Now I get it !\n",
      "['  \"hate_speech_probability\": 0.4']\n"
     ]
    },
    {
     "name": "stderr",
     "output_type": "stream",
     "text": [
      "  0%|          | 1/478 [00:04<35:21,  4.45s/it]"
     ]
    },
    {
     "name": "stdout",
     "output_type": "stream",
     "text": [
      "I 've always considered teaching as one of the professions I would like to get into , but not in a neighbourhood like that ... never. kids like that disgust me .\n",
      "['  \"hate_speech_probability\": 0.3,']\n"
     ]
    },
    {
     "name": "stderr",
     "output_type": "stream",
     "text": [
      "  0%|          | 2/478 [00:08<35:16,  4.45s/it]"
     ]
    },
    {
     "name": "stdout",
     "output_type": "stream",
     "text": [
      "And the sad thing is the white students at those schools will act like that too .\n",
      "['  \"hate_speech_probability\": 0.4']\n"
     ]
    },
    {
     "name": "stderr",
     "output_type": "stream",
     "text": [
      "  1%|          | 3/478 [00:11<29:55,  3.78s/it]"
     ]
    },
    {
     "name": "stdout",
     "output_type": "stream",
     "text": [
      "This whole situation starts to become really bizarre .\n",
      "['  hate_speech_probability: 0,']\n"
     ]
    },
    {
     "name": "stderr",
     "output_type": "stream",
     "text": [
      "  1%|          | 4/478 [00:16<32:13,  4.08s/it]"
     ]
    },
    {
     "name": "stdout",
     "output_type": "stream",
     "text": [
      "That's all I needed to hear .\n",
      "['  \"hate_speech_probability\": 0.5']\n"
     ]
    },
    {
     "name": "stderr",
     "output_type": "stream",
     "text": [
      "  1%|          | 5/478 [00:20<31:06,  3.95s/it]"
     ]
    },
    {
     "name": "stdout",
     "output_type": "stream",
     "text": [
      "Excellent Article !! * * * * * Why Were n't They In Jail ?\n",
      "['  hate_speech_probability: 0.1,']\n"
     ]
    },
    {
     "name": "stderr",
     "output_type": "stream",
     "text": [
      "  1%|▏         | 6/478 [00:21<25:19,  3.22s/it]"
     ]
    },
    {
     "name": "stdout",
     "output_type": "stream",
     "text": [
      "Nevermind, found the new page Knew it had to be a groid .... any report of rape ?\n",
      "['  \"hate_speech_probability\": 1.0']\n"
     ]
    },
    {
     "name": "stderr",
     "output_type": "stream",
     "text": [
      "  1%|▏         | 7/478 [00:25<25:09,  3.21s/it]"
     ]
    },
    {
     "name": "stdout",
     "output_type": "stream",
     "text": [
      "He's a retarded feral negro ( yes , feral humans who cannot talk occasionally pop up , having been abandoned as children. ) .\n",
      "['  \"hate_speech_probability\": 1']\n"
     ]
    },
    {
     "name": "stderr",
     "output_type": "stream",
     "text": [
      "  2%|▏         | 8/478 [00:30<30:08,  3.85s/it]"
     ]
    },
    {
     "name": "stdout",
     "output_type": "stream",
     "text": [
      "I do n't think anyone is insinuating that we are equal to non whites , or that we would ignore white nations .\n",
      "['  \"hate_speech_probability\": 0.2']\n"
     ]
    },
    {
     "name": "stderr",
     "output_type": "stream",
     "text": [
      "  2%|▏         | 9/478 [00:33<28:10,  3.61s/it]"
     ]
    },
    {
     "name": "stdout",
     "output_type": "stream",
     "text": [
      "These people have no idea about who they are or where they came from and any knowledge that they do have has guilt attached to it .\n",
      "['  \"hate_speech_probability\": 0.1,']\n"
     ]
    },
    {
     "name": "stderr",
     "output_type": "stream",
     "text": [
      "  2%|▏         | 10/478 [00:37<28:23,  3.64s/it]"
     ]
    },
    {
     "name": "stdout",
     "output_type": "stream",
     "text": [
      "I have a dream - one of these days Black occupation of America will be history !\n",
      "['  \"hate_speech_probability\": 0.8.']\n"
     ]
    },
    {
     "name": "stderr",
     "output_type": "stream",
     "text": [
      "  2%|▏         | 11/478 [00:40<28:37,  3.68s/it]"
     ]
    },
    {
     "name": "stdout",
     "output_type": "stream",
     "text": [
      "Pathological killers , they are .\n",
      "['  \"hate_speech_probability\": 0.1,']\n"
     ]
    },
    {
     "name": "stderr",
     "output_type": "stream",
     "text": [
      "  3%|▎         | 12/478 [00:42<23:58,  3.09s/it]"
     ]
    },
    {
     "name": "stdout",
     "output_type": "stream",
     "text": [
      "Jews have been poisoning wells since Biblical times .\n",
      "['  \"hate_speech_probability\": 0.9,']\n"
     ]
    },
    {
     "name": "stderr",
     "output_type": "stream",
     "text": [
      "  3%|▎         | 13/478 [00:46<26:31,  3.42s/it]"
     ]
    },
    {
     "name": "stdout",
     "output_type": "stream",
     "text": [
      "All you need is to cut off it 's head and the rest of the problems will crumble away with ease\n",
      "['  \"hate_speech_probability\": 0.4,']\n"
     ]
    },
    {
     "name": "stderr",
     "output_type": "stream",
     "text": [
      "  3%|▎         | 14/478 [00:51<29:10,  3.77s/it]"
     ]
    },
    {
     "name": "stdout",
     "output_type": "stream",
     "text": [
      "While they are in prison the kikes should get the same food the regular prison population gets ...\n",
      "['  \"hate_speech_probability\": 0.8,']\n"
     ]
    },
    {
     "name": "stderr",
     "output_type": "stream",
     "text": [
      "  3%|▎         | 15/478 [00:55<30:21,  3.93s/it]"
     ]
    },
    {
     "name": "stdout",
     "output_type": "stream",
     "text": [
      "Why do n't White Europeans and Americans grow a set of balls , and deport these Black and brown animals from their countries ?\n",
      "['  \"hate_speech_probability\": 0.8,']\n"
     ]
    },
    {
     "name": "stderr",
     "output_type": "stream",
     "text": [
      "  3%|▎         | 16/478 [00:59<29:02,  3.77s/it]"
     ]
    },
    {
     "name": "stdout",
     "output_type": "stream",
     "text": [
      "Norway : 3.3 ( 2001 ) , 3.9 ( 2002 ) , 3.5 ( 2003 ) , 1.8 ( 2004 ) . ( assuming population of 4.5 million ) Sweden : 2.6 ( 2001 ) , 3.7 ( 2002 ) , 3.5 ( 2003 ) , 2.6 ( 2004 ) . ( assuming population of 8.9 million ) Iceland is at about 0.2 .\n",
      "['  hate_speech_probability: 0.0']\n"
     ]
    },
    {
     "name": "stderr",
     "output_type": "stream",
     "text": [
      "  4%|▎         | 17/478 [01:02<28:33,  3.72s/it]"
     ]
    },
    {
     "name": "stdout",
     "output_type": "stream",
     "text": [
      "If they have some marches and what not about showing pride in their culture you guys should go out and do the same If you could try and contact people you know in different cities and see if their willing to do the same .\n",
      "['  \"hate_speech_probability\": 0']\n"
     ]
    },
    {
     "name": "stderr",
     "output_type": "stream",
     "text": [
      "  4%|▍         | 18/478 [01:07<30:33,  3.99s/it]"
     ]
    },
    {
     "name": "stdout",
     "output_type": "stream",
     "text": [
      "During the early punk scene , he was always seen decked out in a Union flag blazer , then all a sudden , an instant nationality transplant .\n",
      "['  \"hate_speech_probability\": 0.1']\n"
     ]
    },
    {
     "name": "stderr",
     "output_type": "stream",
     "text": [
      "  4%|▍         | 19/478 [01:11<30:30,  3.99s/it]"
     ]
    },
    {
     "name": "stdout",
     "output_type": "stream",
     "text": [
      "Its a disgrace my sister has been on the waiting list for 6 years and their giving away houses to these scumbags\n",
      "['  \"hate_speech_probability\": 0.2,']\n"
     ]
    },
    {
     "name": "stderr",
     "output_type": "stream",
     "text": [
      "  4%|▍         | 20/478 [01:17<35:18,  4.63s/it]"
     ]
    },
    {
     "name": "stdout",
     "output_type": "stream",
     "text": [
      "These people who want foreign aid increased are the same people who walk past irish people living rough on the streets and they do n't care about the old people who the government ignores .\n",
      "['  \"hate_speech_probability\": 0.2']\n"
     ]
    },
    {
     "name": "stderr",
     "output_type": "stream",
     "text": [
      "  4%|▍         | 21/478 [01:21<32:54,  4.32s/it]"
     ]
    },
    {
     "name": "stdout",
     "output_type": "stream",
     "text": [
      "What I do know is that I live on a small Island and it seems that a lot of people from various countries in the world are willing to desert their homelands and their families just to come here , in my mind that tells me a lot about said people and their home countries , most of all it highlights their weaknesses of how their own countries have let them down and how they feel the need to feed off somebody elses country , how should we English interpret this without sounding rude ??? , locust ??? , parasite ??? , you tell me .\n",
      "['  \"hate_speech_probability\": 0.3']\n"
     ]
    },
    {
     "name": "stderr",
     "output_type": "stream",
     "text": [
      "  5%|▍         | 22/478 [01:25<32:33,  4.28s/it]"
     ]
    },
    {
     "name": "stdout",
     "output_type": "stream",
     "text": [
      "i do this and the looks i get out of disgust are regular but i happily carry on walking and laugh them off , they think showing me a few pictures of negro kids on a poster without a burger is going to make me want to give money to them ?\n",
      "['  \"hate_speech_probability\": 0.6']\n"
     ]
    },
    {
     "name": "stderr",
     "output_type": "stream",
     "text": [
      "  5%|▍         | 23/478 [01:29<31:21,  4.14s/it]"
     ]
    },
    {
     "name": "stdout",
     "output_type": "stream",
     "text": [
      "Dare to speak out in a country with supposed free speech and you 're labelled a bigot !\n",
      "['  hate_speech_probability: 0.1,']\n"
     ]
    },
    {
     "name": "stderr",
     "output_type": "stream",
     "text": [
      "  5%|▌         | 24/478 [01:32<30:16,  4.00s/it]"
     ]
    },
    {
     "name": "stdout",
     "output_type": "stream",
     "text": [
      "Hi everyone .... I 'm from Slovenia and I utterly hate every living muslim in this world ....... and I despise even the dead ones\n",
      "['  \"hate_speech_probability\": 0.9']\n"
     ]
    },
    {
     "name": "stderr",
     "output_type": "stream",
     "text": [
      "  5%|▌         | 25/478 [01:36<29:05,  3.85s/it]"
     ]
    },
    {
     "name": "stdout",
     "output_type": "stream",
     "text": [
      "Everyone on my MSN gets all manner of pics ( ) but I 've never put any up here so here goes Some pics from about a year ago and a small anigif from a week ago heh Robin\n",
      "['  \"hate_speech_probability\":0.4']\n"
     ]
    },
    {
     "name": "stderr",
     "output_type": "stream",
     "text": [
      "  5%|▌         | 26/478 [01:40<29:58,  3.98s/it]"
     ]
    },
    {
     "name": "stdout",
     "output_type": "stream",
     "text": [
      "DuetschGirlTX, No I live in a tiny ass town where i am only one of 100 white folks ( maybe less ) . near San Antonio. there are so many dirts around and they all stick together. so when it comes to a White Girl in this town i gotta have my own back ALWAYS Is that where you are ?\n",
      "['  \"hate_speech_probability\": 0.2']\n"
     ]
    },
    {
     "name": "stderr",
     "output_type": "stream",
     "text": [
      "  6%|▌         | 27/478 [01:43<27:38,  3.68s/it]"
     ]
    },
    {
     "name": "stdout",
     "output_type": "stream",
     "text": [
      "The work involves : selling sporting goods and assisting customers with questions or problems .\n",
      "['  \"hate_speech_probability\": 0']\n"
     ]
    },
    {
     "name": "stderr",
     "output_type": "stream",
     "text": [
      "  6%|▌         | 28/478 [01:47<27:30,  3.67s/it]"
     ]
    },
    {
     "name": "stdout",
     "output_type": "stream",
     "text": [
      "88 all , this is my first post and i 've read this whole thread so i guess I have a few comment 's , let 's start , shall we ?\n",
      "['  \"hate_speech_probability\": 0.3']\n"
     ]
    },
    {
     "name": "stderr",
     "output_type": "stream",
     "text": [
      "  6%|▌         | 29/478 [01:51<29:54,  4.00s/it]"
     ]
    },
    {
     "name": "stdout",
     "output_type": "stream",
     "text": [
      "This is my next read .\n",
      "['  \"hate_speech_probability\": 0.5,']\n"
     ]
    },
    {
     "name": "stderr",
     "output_type": "stream",
     "text": [
      "  6%|▋         | 30/478 [01:56<32:20,  4.33s/it]"
     ]
    },
    {
     "name": "stdout",
     "output_type": "stream",
     "text": [
      "The Jewish race is without any doubt the greatest threat to the survival of the White race .\n",
      "['  \"hate_speech_probability\": 0.7,']\n"
     ]
    },
    {
     "name": "stderr",
     "output_type": "stream",
     "text": [
      "  6%|▋         | 31/478 [02:01<32:25,  4.35s/it]"
     ]
    },
    {
     "name": "stdout",
     "output_type": "stream",
     "text": [
      "Both Asians and whites are composed and calm and blacks seem to have no self control .\n",
      "['  \"hate_speech_probability\": 0.4,']\n"
     ]
    },
    {
     "name": "stderr",
     "output_type": "stream",
     "text": [
      "  7%|▋         | 32/478 [02:05<31:18,  4.21s/it]"
     ]
    },
    {
     "name": "stdout",
     "output_type": "stream",
     "text": [
      "Exactly, they want us to lay down and die .\n",
      "['  \"hate_speech_probability\": 0.1']\n"
     ]
    },
    {
     "name": "stderr",
     "output_type": "stream",
     "text": [
      "  7%|▋         | 33/478 [02:08<29:15,  3.95s/it]"
     ]
    },
    {
     "name": "stdout",
     "output_type": "stream",
     "text": [
      "By their words and deeds , they declare themselves to be staunchly in favor of the genocide of our people .\n",
      "['  \"hate_speech_probability\": 0.9']\n"
     ]
    },
    {
     "name": "stderr",
     "output_type": "stream",
     "text": [
      "  7%|▋         | 34/478 [02:13<30:48,  4.16s/it]"
     ]
    },
    {
     "name": "stdout",
     "output_type": "stream",
     "text": [
      "A pile of burned offerings .\n",
      "['  \"hate_speech_probability\": 0.1']\n"
     ]
    },
    {
     "name": "stderr",
     "output_type": "stream",
     "text": [
      "  7%|▋         | 35/478 [02:18<32:09,  4.36s/it]"
     ]
    },
    {
     "name": "stdout",
     "output_type": "stream",
     "text": [
      "Gay marriage has no place in any society , regardless of your race and culture.It destroys , morals , values , and the future of your offspring that will keep your race and culture alive.Regardless of your race and culture , homosexuality and gay marriage is the genocide of mankind .\n",
      "['  \"hate_speech_probability\": 0.4']\n"
     ]
    },
    {
     "name": "stderr",
     "output_type": "stream",
     "text": [
      "  8%|▊         | 36/478 [02:21<30:50,  4.19s/it]"
     ]
    },
    {
     "name": "stdout",
     "output_type": "stream",
     "text": [
      "The Black race is yet to invent any kind of civilization .\n",
      "['  \"hate_speech_probability\": 0.8.']\n"
     ]
    },
    {
     "name": "stderr",
     "output_type": "stream",
     "text": [
      "  8%|▊         | 37/478 [02:26<31:42,  4.31s/it]"
     ]
    },
    {
     "name": "stdout",
     "output_type": "stream",
     "text": [
      "What does any of that have to do with racial preservation and the resistance to the deliberate and calculated extermination of the White race and the destruction of western civilization which 99 % of the members of this site are concerned with ?\n",
      "['  \"hate_speech_probability\": 0.1,']\n"
     ]
    },
    {
     "name": "stderr",
     "output_type": "stream",
     "text": [
      "  8%|▊         | 38/478 [02:30<31:25,  4.28s/it]"
     ]
    },
    {
     "name": "stdout",
     "output_type": "stream",
     "text": [
      "They almost always choose to identify with blacks more than whites .\n",
      "['  \"hate_speech_probability\": 0.2,']\n"
     ]
    },
    {
     "name": "stderr",
     "output_type": "stream",
     "text": [
      "  8%|▊         | 39/478 [02:35<33:14,  4.54s/it]"
     ]
    },
    {
     "name": "stdout",
     "output_type": "stream",
     "text": [
      "The White race is best because when the Creator made Whites , He made them better than He made the other races .\n",
      "['  \"hate_speech_probability\": 0.8,']\n"
     ]
    },
    {
     "name": "stderr",
     "output_type": "stream",
     "text": [
      "  8%|▊         | 40/478 [02:39<31:24,  4.30s/it]"
     ]
    },
    {
     "name": "stdout",
     "output_type": "stream",
     "text": [
      "Ya got a virgin shooter .\n",
      "['  \"hate_speech_probability\": 0.3,']\n"
     ]
    },
    {
     "name": "stderr",
     "output_type": "stream",
     "text": [
      "  9%|▊         | 41/478 [02:42<29:19,  4.03s/it]"
     ]
    },
    {
     "name": "stdout",
     "output_type": "stream",
     "text": [
      "I 'm hoping things will continue to grow with our smaller meets and will make for a good turn out at our events this year !\n",
      "['  \"hate_speech_probability\": 0.']\n"
     ]
    },
    {
     "name": "stderr",
     "output_type": "stream",
     "text": [
      "  9%|▉         | 42/478 [02:46<28:04,  3.86s/it]"
     ]
    },
    {
     "name": "stdout",
     "output_type": "stream",
     "text": [
      "Nothing happened except I got an 88 % on the paper .\n",
      "['  \"hate_speech_probability\": 0.9']\n"
     ]
    },
    {
     "name": "stderr",
     "output_type": "stream",
     "text": [
      "  9%|▉         | 43/478 [02:50<28:19,  3.91s/it]"
     ]
    },
    {
     "name": "stdout",
     "output_type": "stream",
     "text": [
      "All of our tim hortons are staffed by those nast filipinos and every single town is full of Indians and asians .\n",
      "['  \"hate_speech_probability\": 0.8']\n"
     ]
    },
    {
     "name": "stderr",
     "output_type": "stream",
     "text": [
      "  9%|▉         | 44/478 [02:54<27:57,  3.87s/it]"
     ]
    },
    {
     "name": "stdout",
     "output_type": "stream",
     "text": [
      "We need to deport all nonwhites immediately , that or stop letting more in and sterilize the ones here , that will fix the problem .\n",
      "['  \"hate_speech_probability\": 0.85,']\n"
     ]
    },
    {
     "name": "stderr",
     "output_type": "stream",
     "text": [
      "  9%|▉         | 45/478 [02:57<26:13,  3.63s/it]"
     ]
    },
    {
     "name": "stdout",
     "output_type": "stream",
     "text": [
      "I enjoyed playing the game when I was a kid , but I never enjoyed watching it on TV .\n",
      "['  \"hate_speech_probability\": 0,']\n"
     ]
    },
    {
     "name": "stderr",
     "output_type": "stream",
     "text": [
      " 10%|▉         | 46/478 [03:00<26:14,  3.65s/it]"
     ]
    },
    {
     "name": "stdout",
     "output_type": "stream",
     "text": [
      "An even smaller pellet is probably ideal , #4 Buck , perhaps .\n",
      "['  \"hate_speech_probability\": 0']\n"
     ]
    },
    {
     "name": "stderr",
     "output_type": "stream",
     "text": [
      " 10%|▉         | 47/478 [03:04<26:46,  3.73s/it]"
     ]
    },
    {
     "name": "stdout",
     "output_type": "stream",
     "text": [
      "I'm more of a grappler than a striker , I would lunge out with a windpipe grab and bring them down to the floor .... my record for KO' ing someone with a choke is currently 3 secs\n",
      "['  \"hate_speech_probability\": 0.']\n"
     ]
    },
    {
     "name": "stderr",
     "output_type": "stream",
     "text": [
      " 10%|█         | 48/478 [03:08<25:27,  3.55s/it]"
     ]
    },
    {
     "name": "stdout",
     "output_type": "stream",
     "text": [
      "Little kids all decked out in their costumes .\n",
      "['  \"hate_speech_probability\": 0.']\n"
     ]
    },
    {
     "name": "stderr",
     "output_type": "stream",
     "text": [
      " 10%|█         | 49/478 [03:11<26:07,  3.65s/it]"
     ]
    },
    {
     "name": "stdout",
     "output_type": "stream",
     "text": [
      "Dude stink bomb this event , when it gets dark , chuck a bunch of them on the floor , different spots , when the chimps start jiving and grooving , they will step on them .\n",
      "['  \"hate_speech_probability\": 0.8']\n"
     ]
    },
    {
     "name": "stderr",
     "output_type": "stream",
     "text": [
      " 10%|█         | 50/478 [03:17<30:31,  4.28s/it]"
     ]
    },
    {
     "name": "stdout",
     "output_type": "stream",
     "text": [
      "They will eventually kill off the whites and go back to the jungle ways .\n",
      "['  \"hate_speech_probability\": 0.8,']\n"
     ]
    },
    {
     "name": "stderr",
     "output_type": "stream",
     "text": [
      " 11%|█         | 51/478 [03:20<27:51,  3.91s/it]"
     ]
    },
    {
     "name": "stdout",
     "output_type": "stream",
     "text": [
      "I'm too lazy to reread , did he say ' Teacher `` or '' Teacher 's asst . \" ?\n",
      "['  \"hate_speech_probability\": 0.']\n"
     ]
    },
    {
     "name": "stderr",
     "output_type": "stream",
     "text": [
      " 11%|█         | 52/478 [03:26<31:27,  4.43s/it]"
     ]
    },
    {
     "name": "stdout",
     "output_type": "stream",
     "text": [
      "Agreed! rep will have to wait though .. Cheap money , massive bailouts of crony banksters , manipulated employment figures , etc , etc , ..\n",
      "['  \"hate_speech_probability\": 0, // There is no sufficient evidence to consider this statement hate speech based on the provided context']\n"
     ]
    },
    {
     "name": "stderr",
     "output_type": "stream",
     "text": [
      " 11%|█         | 53/478 [03:31<31:59,  4.52s/it]"
     ]
    },
    {
     "name": "stdout",
     "output_type": "stream",
     "text": [
      "- = Wulfi = -\n",
      "['  \"hate_speech_probability\": 0.4,']\n"
     ]
    },
    {
     "name": "stderr",
     "output_type": "stream",
     "text": [
      " 11%|█▏        | 54/478 [03:35<31:52,  4.51s/it]"
     ]
    },
    {
     "name": "stdout",
     "output_type": "stream",
     "text": [
      "LOL GJ brother 10 points for the Uber humans and - 10 for the sub human ape creatures you are truly one bad mofo whitey crakker man\n",
      "['  \"hate_speech_probability\": 0.8,']\n"
     ]
    },
    {
     "name": "stderr",
     "output_type": "stream",
     "text": [
      " 12%|█▏        | 55/478 [03:37<26:34,  3.77s/it]"
     ]
    },
    {
     "name": "stdout",
     "output_type": "stream",
     "text": [
      "Welcome to Stormfront , the largest White Nationalist community on the web .\n",
      "['  \"hate_speech_probability\": 1.0']\n"
     ]
    },
    {
     "name": "stderr",
     "output_type": "stream",
     "text": [
      " 12%|█▏        | 56/478 [03:42<28:05,  3.99s/it]"
     ]
    },
    {
     "name": "stdout",
     "output_type": "stream",
     "text": [
      "This family that wants to complain about gays should come to San Francisco and raise some hell at these gay pride events .... a much better target ..... and these people in San Francisco openly blasphemied Christ with their parody of ' The Last Supper `` as their poster for their last event .\n",
      "['  \"hate_speech_probability\": 0.3,']\n"
     ]
    },
    {
     "name": "stderr",
     "output_type": "stream",
     "text": [
      " 12%|█▏        | 57/478 [03:46<28:40,  4.09s/it]"
     ]
    },
    {
     "name": "stdout",
     "output_type": "stream",
     "text": [
      "That or it might be that Blacks have smaller brains and an IQ 15-30 points lower than that of White people on average .\n",
      "['  hate_speech_probability: 0.9,']\n"
     ]
    },
    {
     "name": "stderr",
     "output_type": "stream",
     "text": [
      " 12%|█▏        | 58/478 [03:48<24:06,  3.44s/it]"
     ]
    },
    {
     "name": "stdout",
     "output_type": "stream",
     "text": [
      "Do ` F * ck with our families , buckwheat !!\n",
      "['  \"hate_speech_probability\": 1']\n"
     ]
    },
    {
     "name": "stderr",
     "output_type": "stream",
     "text": [
      " 12%|█▏        | 59/478 [03:52<26:16,  3.76s/it]"
     ]
    },
    {
     "name": "stdout",
     "output_type": "stream",
     "text": [
      "Perhaps I should walk back into my H.S. when it starts Monday and get on the P.A. system and say I want to tie all * * * * * * s to the back of my car and drag them across the ground till they die , and then say I 'm joking .\n",
      "['  \"hate_speech_probability\": 0.9,']\n"
     ]
    },
    {
     "name": "stderr",
     "output_type": "stream",
     "text": [
      " 13%|█▎        | 60/478 [03:58<29:03,  4.17s/it]"
     ]
    },
    {
     "name": "stdout",
     "output_type": "stream",
     "text": [
      "Let mother nature evolve these people naturally because no amount of money or aid is going to drag these ' things ' into the civilized world where they serve absolutely no purpose .\n",
      "['  \"hate_speech_probability\": 0.1,']\n"
     ]
    },
    {
     "name": "stderr",
     "output_type": "stream",
     "text": [
      " 13%|█▎        | 61/478 [04:02<29:27,  4.24s/it]"
     ]
    },
    {
     "name": "stdout",
     "output_type": "stream",
     "text": [
      "No doubt they 'll be coming up with chocolate-colored Leprechauns and a Chinese flavored Uncle Sam 's too .\n",
      "['  \"hate_speech_probability\": 0.7,']\n"
     ]
    },
    {
     "name": "stderr",
     "output_type": "stream",
     "text": [
      " 13%|█▎        | 62/478 [04:07<31:51,  4.60s/it]"
     ]
    },
    {
     "name": "stdout",
     "output_type": "stream",
     "text": [
      "Maybe they will be resettled deliberately as refugees or maybe they will come for the women like the chinese men are doing .\n",
      "['  \"hate_speech_probability\": 0.3']\n"
     ]
    },
    {
     "name": "stderr",
     "output_type": "stream",
     "text": [
      " 13%|█▎        | 63/478 [04:12<31:10,  4.51s/it]"
     ]
    },
    {
     "name": "stdout",
     "output_type": "stream",
     "text": [
      "We all know that when their are too many ethnics , the neighbourhood soon turn 's into a slum .\n",
      "['  \"hate_speech_probability\": 0.3,']\n"
     ]
    },
    {
     "name": "stderr",
     "output_type": "stream",
     "text": [
      " 13%|█▎        | 64/478 [04:16<31:02,  4.50s/it]"
     ]
    },
    {
     "name": "stdout",
     "output_type": "stream",
     "text": [
      "More black-on-white hate crime videos are posted here : http://ethniccrime.blogspot.com/p/ra...-on-video.html\n",
      "['  \"hate_speech_probability\": 0.3.']\n"
     ]
    },
    {
     "name": "stderr",
     "output_type": "stream",
     "text": [
      " 14%|█▎        | 65/478 [04:21<31:21,  4.56s/it]"
     ]
    },
    {
     "name": "stdout",
     "output_type": "stream",
     "text": [
      "Whites have the following Too many abortions , too many mixed marriages , too many no kids marriages , and too many liberals .\n",
      "['  \"hate_speech_probability\": 0.1,']\n"
     ]
    },
    {
     "name": "stderr",
     "output_type": "stream",
     "text": [
      " 14%|█▍        | 66/478 [04:25<31:29,  4.59s/it]"
     ]
    },
    {
     "name": "stdout",
     "output_type": "stream",
     "text": [
      "somebody``hcf''calledputin``ahero''!lololol!This``hero''finallytransformedformersovietjewnion in ``russian''judea!In this misery-torn country-are there-70 officially billionaries , tens f thousands millionaries , and tens of millions of poor and miserable who look for their pittance at the garbage places !\n",
      "{\n",
      "  \"relevant\\_facts\\_from\\_the\\_cultural\\_context\": [\n",
      "    \"Russian history of Communism and Soviet Union\",\n",
      "    \"Existence of wealthy individuals in Russia\",\n",
      "    \"Poverty and economic inequality in Russia\",\n",
      "  ],\n",
      "  \"relevant\\_word\\_definitions\": {\n",
      "    \"hero\": \"A person who is admired for their courage, outstanding achievements, or noble qualities.\",\n",
      "    \"jew\": \"A person belonging to the Jewish religious group or ethnicity.\",\n",
      "    \"billionaires\": \"Individuals with a net worth of at least one billion units of a country's currency.\",\n",
      "    \"millionaires\": \"Individuals with a net worth of at least one million units of a country's currency.\",\n",
      "    \"pittance\": \"A small amount of money, especially one that is insufficient for the recipient's needs.\",\n",
      "  },\n",
      "  \"contained\\_explicit\\_racist\\_vocabulary\": [],\n",
      "  \"contained\\_explicit\\_sexist\\_vocabulary\": [],\n",
      "  \"contained\\_explicit\\_toxic\\_vocabulary\": [\"misery-torn\", \"garbage places\"],\n",
      "  \"argument\\_for\\_hate\\_speech\": \"The sentence contains derogatory language about a specific ethnic group (Jews) in relation to Putin and Russia, which can be perceived as an expression of hate speech.\",\n",
      "  \"argument\\_against\\_hate\\_speech\": \"The text includes humor and satire, and it is not clear if the use of the term ''judea'' and reference to Putin is intended to be hateful or sarcastic.\",\n",
      "  \"likelihood\\_of\\_presence\\_of\\_implicit\\_hate\\_speech\": 0.5,\n",
      "  \"likelihood\\_of\\_presence\\_of\\_explicit\\_hate\\_speech\": 0.4,\n",
      "  \"likelihood\\_of\\_ad\\_hominin\\_attack\": 0.2,\n",
      "  \"likelihood\\_of\\_minority\\_attack\": 0.4,\n",
      "  \"likelihood\\_of\\_takedown\\_on\\_social\\_media\": 0.5,\n",
      "  \"hate\\_speech\\_probability\": 0.5,\n"
     ]
    },
    {
     "name": "stderr",
     "output_type": "stream",
     "text": [
      " 14%|█▍        | 67/478 [04:30<31:40,  4.62s/it]"
     ]
    },
    {
     "name": "stdout",
     "output_type": "stream",
     "text": [
      "I could never picture the site of one of the women of the Holy Rus shacking up with some Islamic mud from that fithy , impoverished , and godforsaken mountainous * * * * hole !\n",
      "['  \"hate_speech_probability\": 0.65,']\n"
     ]
    },
    {
     "name": "stderr",
     "output_type": "stream",
     "text": [
      " 14%|█▍        | 68/478 [04:34<29:21,  4.30s/it]"
     ]
    },
    {
     "name": "stdout",
     "output_type": "stream",
     "text": [
      "YouTube - Teacher Attacked for Being White 9 year old attacks white teacher , explicitly `` because she was white . ''\n",
      "['  hate_speech_probability: 0.9,']\n"
     ]
    },
    {
     "name": "stderr",
     "output_type": "stream",
     "text": [
      " 14%|█▍        | 69/478 [04:41<34:38,  5.08s/it]"
     ]
    },
    {
     "name": "stdout",
     "output_type": "stream",
     "text": [
      "I do n't know about you but I rather fight a 2m swedish male than a 1.70m asian kung fu expert .\n",
      "['\"hate_speech_probability\": 0.2']\n"
     ]
    },
    {
     "name": "stderr",
     "output_type": "stream",
     "text": [
      " 15%|█▍        | 70/478 [04:45<33:59,  5.00s/it]"
     ]
    },
    {
     "name": "stdout",
     "output_type": "stream",
     "text": [
      "So you would refuse even other Nordic whites fleeing the brown chaos in the south ?\n",
      "['  \"hate_speech_probability\": 0.8']\n"
     ]
    },
    {
     "name": "stderr",
     "output_type": "stream",
     "text": [
      " 15%|█▍        | 71/478 [04:49<30:50,  4.55s/it]"
     ]
    },
    {
     "name": "stdout",
     "output_type": "stream",
     "text": [
      "I would like to say and I can proudly say that there are no jews in Iceland , those that tried to get here were all sent back to Germany ...\n",
      "['  hate_speech_probability: 0.6,']\n"
     ]
    },
    {
     "name": "stderr",
     "output_type": "stream",
     "text": [
      " 15%|█▌        | 72/478 [04:52<28:44,  4.25s/it]"
     ]
    },
    {
     "name": "stdout",
     "output_type": "stream",
     "text": [
      "When the homos tried to have a fag pride parade in Serbia a few years ago they were beaten up .\n",
      "['  hate_speech_probability: 0.7,']\n"
     ]
    },
    {
     "name": "stderr",
     "output_type": "stream",
     "text": [
      " 15%|█▌        | 73/478 [04:57<28:25,  4.21s/it]"
     ]
    },
    {
     "name": "stdout",
     "output_type": "stream",
     "text": [
      "Some of them claim that they would like to go back home one day but after a few years in Finland they will no longer have this wish .\n",
      "['  \"hate_speech_probability\": 0,']\n"
     ]
    },
    {
     "name": "stderr",
     "output_type": "stream",
     "text": [
      " 15%|█▌        | 74/478 [05:02<30:24,  4.52s/it]"
     ]
    },
    {
     "name": "stdout",
     "output_type": "stream",
     "text": [
      "Wolf 278\n",
      "['  \"hate_speech_probability\": 0.3']\n"
     ]
    },
    {
     "name": "stderr",
     "output_type": "stream",
     "text": [
      " 16%|█▌        | 75/478 [05:05<27:36,  4.11s/it]"
     ]
    },
    {
     "name": "stdout",
     "output_type": "stream",
     "text": [
      "To hell with what this creature thinks anyway .\n",
      "['  \"hate_speech_probability\": 0.1,']\n"
     ]
    },
    {
     "name": "stderr",
     "output_type": "stream",
     "text": [
      " 16%|█▌        | 76/478 [05:09<28:10,  4.21s/it]"
     ]
    },
    {
     "name": "stdout",
     "output_type": "stream",
     "text": [
      "Its disgusting they these foreigners come over here , stamp their feet and jump above good Irish families and get what they want .\n",
      "['\"hate_speech_probability\": 0.7']\n"
     ]
    },
    {
     "name": "stderr",
     "output_type": "stream",
     "text": [
      " 16%|█▌        | 77/478 [05:13<27:31,  4.12s/it]"
     ]
    },
    {
     "name": "stdout",
     "output_type": "stream",
     "text": [
      "Back to where ya came from !\n",
      "['  \"hate_speech_probability\": 0.4']\n"
     ]
    },
    {
     "name": "stderr",
     "output_type": "stream",
     "text": [
      " 16%|█▋        | 78/478 [05:19<30:10,  4.53s/it]"
     ]
    },
    {
     "name": "stdout",
     "output_type": "stream",
     "text": [
      "It just goes to show that the IRA are just criminals and not freedom fighters as they claim .\n",
      "['  \"hate_speech_probability\": 0.1']\n"
     ]
    },
    {
     "name": "stderr",
     "output_type": "stream",
     "text": [
      " 17%|█▋        | 79/478 [05:24<30:28,  4.58s/it]"
     ]
    },
    {
     "name": "stdout",
     "output_type": "stream",
     "text": [
      "18 times in the last 20 years It 's time for the next generation to fight back to regain our country ..... the baby boomers will lose it for us if we do nothing .\n",
      "['  \"hate_speech_probability\": 0.1']\n"
     ]
    },
    {
     "name": "stderr",
     "output_type": "stream",
     "text": [
      " 17%|█▋        | 80/478 [05:28<29:57,  4.52s/it]"
     ]
    },
    {
     "name": "stdout",
     "output_type": "stream",
     "text": [
      "I just need to turn on a tv and I see it advertised everywhere , mostly African apes with attractive white woman .\n",
      "['  \"hate_speech_probability\": 1.0']\n"
     ]
    },
    {
     "name": "stderr",
     "output_type": "stream",
     "text": [
      " 17%|█▋        | 81/478 [05:34<32:24,  4.90s/it]"
     ]
    },
    {
     "name": "stdout",
     "output_type": "stream",
     "text": [
      "The Official Website of the British People 's Party A few unpleasant truths re. the zionist ass lickers of the DUP\n",
      "['  \"hate_speech_probability\": 0.7,']\n"
     ]
    },
    {
     "name": "stderr",
     "output_type": "stream",
     "text": [
      " 17%|█▋        | 82/478 [05:39<32:32,  4.93s/it]"
     ]
    },
    {
     "name": "stdout",
     "output_type": "stream",
     "text": [
      "I have to say I was shocked when he said the kids at his ( Junior ) school spoke 31 different languages and teachers have had to devise a system of hand signals to communicate !\n",
      "['  \"hate_speech_probability\": 0.1,']\n"
     ]
    },
    {
     "name": "stderr",
     "output_type": "stream",
     "text": [
      " 17%|█▋        | 83/478 [05:42<29:59,  4.56s/it]"
     ]
    },
    {
     "name": "stdout",
     "output_type": "stream",
     "text": [
      "We do not want `` assimilation '' .\n",
      "['  \"hate_speech_probability\": 0.2,']\n"
     ]
    },
    {
     "name": "stderr",
     "output_type": "stream",
     "text": [
      " 18%|█▊        | 84/478 [05:47<30:37,  4.66s/it]"
     ]
    },
    {
     "name": "stdout",
     "output_type": "stream",
     "text": [
      "Its got to be a quote from someone .\n",
      "['  \"hate_speech_probability\": 0.85']\n"
     ]
    },
    {
     "name": "stderr",
     "output_type": "stream",
     "text": [
      " 18%|█▊        | 85/478 [05:52<30:07,  4.60s/it]"
     ]
    },
    {
     "name": "stdout",
     "output_type": "stream",
     "text": [
      "Any bother u go on lock down no one gets out the cells so its not that bad prison is 24 hour boredom ..\n",
      "['  \"hate_speech_probability\": 0.1,']\n"
     ]
    },
    {
     "name": "stderr",
     "output_type": "stream",
     "text": [
      " 18%|█▊        | 86/478 [05:55<28:22,  4.34s/it]"
     ]
    },
    {
     "name": "stdout",
     "output_type": "stream",
     "text": [
      "If you come down n ' around Sacramento California area send me a message .\n",
      "['  \"hate_speech_probability\": 0.3']\n"
     ]
    },
    {
     "name": "stderr",
     "output_type": "stream",
     "text": [
      " 18%|█▊        | 87/478 [06:01<30:37,  4.70s/it]"
     ]
    },
    {
     "name": "stdout",
     "output_type": "stream",
     "text": [
      "Hi i need some information to understand the meaning of the negrogreek homo and the race-mixer tag of the HELLENIC THREAD .\n",
      "['  hate_speech_probability: 0.9']\n"
     ]
    },
    {
     "name": "stderr",
     "output_type": "stream",
     "text": [
      " 18%|█▊        | 88/478 [06:05<28:34,  4.40s/it]"
     ]
    },
    {
     "name": "stdout",
     "output_type": "stream",
     "text": [
      "I can get a ride to see you some time this summer if that is cool i need to get up with someone in NJ as it is his name is HAL i have talk to him but i want to meet him so when i go to see him I can stop to see you if that is ok\n",
      "['  \"hate_speech_probability\": 0,']\n"
     ]
    },
    {
     "name": "stderr",
     "output_type": "stream",
     "text": [
      " 19%|█▊        | 89/478 [06:08<25:58,  4.01s/it]"
     ]
    },
    {
     "name": "stdout",
     "output_type": "stream",
     "text": [
      "I 'll be at that show AND I 'm a brunette .\n",
      "['  \"hate_speech_probability\": 0']\n"
     ]
    },
    {
     "name": "stderr",
     "output_type": "stream",
     "text": [
      " 19%|█▉        | 90/478 [06:13<27:30,  4.25s/it]"
     ]
    },
    {
     "name": "stdout",
     "output_type": "stream",
     "text": [
      "TY!\n",
      "['  \"hate_speech_probability\": 0.2']\n"
     ]
    },
    {
     "name": "stderr",
     "output_type": "stream",
     "text": [
      " 19%|█▉        | 91/478 [06:18<29:13,  4.53s/it]"
     ]
    },
    {
     "name": "stdout",
     "output_type": "stream",
     "text": [
      "BTW .. update coming soon with info on my drive back to Florida .\n",
      "['  \"hate_speech_probability\": 0.5,']\n"
     ]
    },
    {
     "name": "stderr",
     "output_type": "stream",
     "text": [
      " 19%|█▉        | 92/478 [06:21<27:30,  4.28s/it]"
     ]
    },
    {
     "name": "stdout",
     "output_type": "stream",
     "text": [
      "I got stuck next to a really huge black woman who stunk to high heaven , and spent the entire ride with my face as close to the window as I could get .\n",
      "['  \"hate_speech_probability\": 0.7,']\n"
     ]
    },
    {
     "name": "stderr",
     "output_type": "stream",
     "text": [
      " 19%|█▉        | 93/478 [06:26<27:05,  4.22s/it]"
     ]
    },
    {
     "name": "stdout",
     "output_type": "stream",
     "text": [
      "The kikes probably put the Leftist up to it , to make it seem like they do n't have total control of everyone .\n",
      "['  \"hate_speech_probability\": 0.7']\n"
     ]
    },
    {
     "name": "stderr",
     "output_type": "stream",
     "text": [
      " 20%|█▉        | 94/478 [06:30<26:47,  4.18s/it]"
     ]
    },
    {
     "name": "stdout",
     "output_type": "stream",
     "text": [
      "oddly i would find it worst if she here black , since Negroes are the most inferior and scum bag humanoid race in our planet .\n",
      "{\n",
      "\"relevant_facts\\_from\\_the\\_cultural\\_context\": [\n",
      "\"Historical use of derogatory language towards African Americans.\",\n",
      "\"Presence of white supremacist beliefs in the cultural context.\"\n",
      "],\n",
      "\"relevant\\_word\\_definitions\": {\n",
      "\"inferior\": \"believed to be less worthy or capable.\",\n",
      "\"scum bag\": \"a person regarded as despicable or contemptible.\",\n",
      "\"humanoid\": \"a being that is roughly human in shape but not human.\"\n",
      "},\n",
      "\"contained\\_explicit\\_racist\\_vocabulary\": [\n",
      "\"Negroes\",\n",
      "\"inferior\",\n",
      "\"scum bag\",\n",
      "\"humanoid\"\n",
      "],\n",
      "\"argument\\_for\\_hate\\_speech\": \"The use of derogatory language towards a specific racial group, in this case African Americans, can be considered hate speech.\",\n",
      "\"argument\\_against\\_hate\\_speech\": \"Freedom of speech allows for the expression of unpopular opinions, even if they are offensive or hurtful.\",\n",
      "\"likelihood\\_of\\_presence\\_of\\_implicit\\_hate\\_speech\": 0.5,\n",
      "\"likelihood\\_of\\_presence\\_of\\_explicit\\_hate\\_speech\": 0.9,\n",
      "\"likelihood\\_of\\_ad\\_hominin\\_attack\": 0.2,\n",
      "\"likelihood\\_of\\_minority\\_attack\": 1.0,\n",
      "\"likelihood\\_of\\_takedown\\_on\\_social\\_media\": 1.0,\n",
      "\"hate\\_speech\\_probability\": 0.9\n"
     ]
    },
    {
     "name": "stderr",
     "output_type": "stream",
     "text": [
      " 20%|█▉        | 95/478 [06:34<26:25,  4.14s/it]"
     ]
    },
    {
     "name": "stdout",
     "output_type": "stream",
     "text": [
      "Stop showing off South Asian functional illiteracy .\n",
      "['  \"hate_speech_probability\": 0.2,']\n"
     ]
    },
    {
     "name": "stderr",
     "output_type": "stream",
     "text": [
      " 20%|██        | 96/478 [06:38<25:48,  4.05s/it]"
     ]
    },
    {
     "name": "stdout",
     "output_type": "stream",
     "text": [
      "The above poster is correct when we stop supporting then they 're in terrible danger .\n",
      "['  \"hate_speech_probability\": 0.1,']\n"
     ]
    },
    {
     "name": "stderr",
     "output_type": "stream",
     "text": [
      " 20%|██        | 97/478 [06:41<25:21,  3.99s/it]"
     ]
    },
    {
     "name": "stdout",
     "output_type": "stream",
     "text": [
      "I am not going to be beat down by a dyke , fag , or coon .\n",
      "['  \"hate_speech_probability\": 0.9,']\n"
     ]
    },
    {
     "name": "stderr",
     "output_type": "stream",
     "text": [
      " 21%|██        | 98/478 [06:45<24:58,  3.94s/it]"
     ]
    },
    {
     "name": "stdout",
     "output_type": "stream",
     "text": [
      "Sometimes I wonder if it is Because Whites are so much smarter that they find it harder to run together , as opposed to , independently .\n",
      "['  \"hate_speech_probability\": 0.5,']\n"
     ]
    },
    {
     "name": "stderr",
     "output_type": "stream",
     "text": [
      " 21%|██        | 99/478 [06:49<24:13,  3.84s/it]"
     ]
    },
    {
     "name": "stdout",
     "output_type": "stream",
     "text": [
      "We say here that if we want to be lied to just watch the news !\n",
      "['  \"hate_speech_probability\":0.3,']\n"
     ]
    },
    {
     "name": "stderr",
     "output_type": "stream",
     "text": [
      " 21%|██        | 100/478 [06:53<24:39,  3.91s/it]"
     ]
    },
    {
     "name": "stdout",
     "output_type": "stream",
     "text": [
      "Lying Marxists !\n",
      "{\n",
      "  \"relevant\\_facts\\_from\\_the\\_cultural\\_context\": [],\n",
      "  \"relevant\\_word\\_definitions\": {\n",
      "    \"Marxists\": \"individuals who believe in or follow the ideology of Karl Marx\",\n",
      "    \"Lying\": \"making false or misleading statements\"\n",
      "  },\n",
      "  \"contained\\_explicit\\_racist\\_vocabulary\": [],\n",
      "  \"contained\\_explicit\\_sexist\\_vocabulary\": [],\n",
      "  \"contained\\_explicit\\_toxic\\_vocabulary\": [],\n",
      "  \"argument\\_for\\_hate\\_speech\": \"The statement is not inherently hateful as it does not specifically target a protected group based on their race, ethnicity, gender, sexual orientation, or religion.\",\n",
      "  \"argument\\_against\\_hate\\_speech\": \"However, it is important to note that the term 'Marxist' has been used as a pejorative and derogatory term by some groups to attack individuals or groups based on their political beliefs. This use of the term can sometimes be a veiled form of hate speech. Without additional context, it is unclear whether the use of the term 'Marxists' in this statement is hateful or not.\",\n",
      "  \"likelihood\\_of\\_presence\\_of\\_implicit\\_hate\\_speech\": 0.3,\n",
      "  \"likelihood\\_of\\_presence\\_of\\_explicit\\_hate\\_speech\": 0,\n",
      "  \"likelihood\\_of\\_ad\\_hominin\\_attack\": 0.6,\n",
      "  \"likelihood\\_of\\_minority\\_attack\": 0,\n",
      "  \"likelihood\\_of\\_takedown\\_on\\_social\\_media\": 0.3,\n",
      "  \"hate\\_speech\\_probability\": 0.1\n"
     ]
    },
    {
     "name": "stderr",
     "output_type": "stream",
     "text": [
      " 21%|██        | 101/478 [06:58<26:17,  4.18s/it]"
     ]
    },
    {
     "name": "stdout",
     "output_type": "stream",
     "text": [
      "Listening now .\n",
      "['  \"hate_speech_probability\": 0.5,']\n"
     ]
    },
    {
     "name": "stderr",
     "output_type": "stream",
     "text": [
      " 21%|██▏       | 102/478 [07:02<26:09,  4.17s/it]"
     ]
    },
    {
     "name": "stdout",
     "output_type": "stream",
     "text": [
      "When I watch things like this I pray God will have vengeance on these sub humans even if they have asked for forgiveness .\n",
      "['  \"hate_speech_probability\": 0.9.']\n"
     ]
    },
    {
     "name": "stderr",
     "output_type": "stream",
     "text": [
      " 22%|██▏       | 103/478 [07:05<24:40,  3.95s/it]"
     ]
    },
    {
     "name": "stdout",
     "output_type": "stream",
     "text": [
      "Hell to have a teacher like this .\n",
      "['  \"hate_speech_probability\": 0,']\n"
     ]
    },
    {
     "name": "stderr",
     "output_type": "stream",
     "text": [
      " 22%|██▏       | 104/478 [07:10<26:00,  4.17s/it]"
     ]
    },
    {
     "name": "stdout",
     "output_type": "stream",
     "text": [
      "This is the argument homosexuals use to justify their behavior , that because there are no `` red letters '' about it , then homosexuality is not a bad thing .\n",
      "['  \"hate_speech_probability\": 0.2,']\n"
     ]
    },
    {
     "name": "stderr",
     "output_type": "stream",
     "text": [
      " 22%|██▏       | 105/478 [07:15<26:35,  4.28s/it]"
     ]
    },
    {
     "name": "stdout",
     "output_type": "stream",
     "text": [
      "Like the parasites they are they simply moved to a new host , to continue their destruction of Western White civilization and culture\n",
      "['  \"hate_speech_probability\": 0.7']\n"
     ]
    },
    {
     "name": "stderr",
     "output_type": "stream",
     "text": [
      " 22%|██▏       | 106/478 [07:17<23:59,  3.87s/it]"
     ]
    },
    {
     "name": "stdout",
     "output_type": "stream",
     "text": [
      "I've told my friends and all of them agree with me ( some only partially ) .\n",
      "['  \"hate_speech_probability\": 0']\n"
     ]
    },
    {
     "name": "stderr",
     "output_type": "stream",
     "text": [
      " 22%|██▏       | 107/478 [07:22<24:49,  4.01s/it]"
     ]
    },
    {
     "name": "stdout",
     "output_type": "stream",
     "text": [
      "It makes my flesh crawl when I see white girls having to be felt up as they walk down the hallways by big lipped spear chuckers. : attack\n",
      "['  \"hate_speech_probability\": 0.7,']\n"
     ]
    },
    {
     "name": "stderr",
     "output_type": "stream",
     "text": [
      " 23%|██▎       | 108/478 [07:25<23:34,  3.82s/it]"
     ]
    },
    {
     "name": "stdout",
     "output_type": "stream",
     "text": [
      "Blacks hate whites .\n",
      "['  \"hate_speech_probability\": 1,']\n"
     ]
    },
    {
     "name": "stderr",
     "output_type": "stream",
     "text": [
      " 23%|██▎       | 109/478 [07:29<23:10,  3.77s/it]"
     ]
    },
    {
     "name": "stdout",
     "output_type": "stream",
     "text": [
      "I think it is a bit late to think to look after the safety and the future of white people in South africa .\n",
      "['  \"hate_speech_probability\": 0.3']\n"
     ]
    },
    {
     "name": "stderr",
     "output_type": "stream",
     "text": [
      " 23%|██▎       | 110/478 [07:33<24:34,  4.01s/it]"
     ]
    },
    {
     "name": "stdout",
     "output_type": "stream",
     "text": [
      "My favorite part : And still he ca n't see the truth right in front of his face .\n",
      "['  \"hate_speech_probability\": 0.1,']\n"
     ]
    },
    {
     "name": "stderr",
     "output_type": "stream",
     "text": [
      " 23%|██▎       | 111/478 [07:38<25:14,  4.13s/it]"
     ]
    },
    {
     "name": "stdout",
     "output_type": "stream",
     "text": [
      "It 's going viral on Youtube - warning the lesbian ' groid gets aggressive on the whites for whatever reason : YouTube - Video Caught On Tape Lesbian Or Young Man Going Wild On BART Train In Oakland !\n",
      "['  \"hate_speech_probability\": 0.9,']\n"
     ]
    },
    {
     "name": "stderr",
     "output_type": "stream",
     "text": [
      " 23%|██▎       | 112/478 [07:42<25:05,  4.11s/it]"
     ]
    },
    {
     "name": "stdout",
     "output_type": "stream",
     "text": [
      "More impulsive Negro stripping ...\n",
      "['  hate_speech_probability: 0.8,']\n"
     ]
    },
    {
     "name": "stderr",
     "output_type": "stream",
     "text": [
      " 24%|██▎       | 113/478 [07:46<25:17,  4.16s/it]"
     ]
    },
    {
     "name": "stdout",
     "output_type": "stream",
     "text": [
      "There are so many race mixing ads on TV that it gets overwhelming .\n",
      "['  \"hate_speech_probability\": 0.5,']\n"
     ]
    },
    {
     "name": "stderr",
     "output_type": "stream",
     "text": [
      " 24%|██▍       | 114/478 [07:50<24:25,  4.03s/it]"
     ]
    },
    {
     "name": "stdout",
     "output_type": "stream",
     "text": [
      "When I was last time in South Africa , we went to Sun City and saw little black monkey children swimming , funniest thing was watching drying water off their faces , it looks exactly like baboon or something , way they do it , whites have certain mannerisms with doing things , they have completely ape-like ones .\n",
      "['  \"hate_speech_probability\": 0.95,']\n"
     ]
    },
    {
     "name": "stderr",
     "output_type": "stream",
     "text": [
      " 24%|██▍       | 115/478 [07:54<24:37,  4.07s/it]"
     ]
    },
    {
     "name": "stdout",
     "output_type": "stream",
     "text": [
      "Their stories have been told before , so instead of showing the pics of the non WHITE garbage that took from them , I am just going to post their pics so they will not be forgotten .\n",
      "['  \"hate_speech_probability\": 0.3,']\n"
     ]
    },
    {
     "name": "stderr",
     "output_type": "stream",
     "text": [
      " 24%|██▍       | 116/478 [07:58<24:16,  4.02s/it]"
     ]
    },
    {
     "name": "stdout",
     "output_type": "stream",
     "text": [
      "I 'm angry against myself for just letting this whole world drown into a jewish cesspool .\n",
      "['  \"hate_speech_probability\": 0.8']\n"
     ]
    },
    {
     "name": "stderr",
     "output_type": "stream",
     "text": [
      " 24%|██▍       | 117/478 [08:03<26:11,  4.35s/it]"
     ]
    },
    {
     "name": "stdout",
     "output_type": "stream",
     "text": [
      "Comparing these pictures to pictures with serbs I do n't see much difference between them and albanians , the same Dinaric and Mediterranean subtypes .\n",
      "['  hate_speech_probability: 0']\n"
     ]
    },
    {
     "name": "stderr",
     "output_type": "stream",
     "text": [
      " 25%|██▍       | 118/478 [08:07<24:44,  4.12s/it]"
     ]
    },
    {
     "name": "stdout",
     "output_type": "stream",
     "text": [
      "They 're probably as high-maintenance as one of those crappy old East German Trabants , though .\n",
      "['  \"hate_speech_probability\": 0.1']\n"
     ]
    },
    {
     "name": "stderr",
     "output_type": "stream",
     "text": [
      " 25%|██▍       | 119/478 [08:11<24:25,  4.08s/it]"
     ]
    },
    {
     "name": "stdout",
     "output_type": "stream",
     "text": [
      "14 !\n",
      "['  \"hate_speech_probability\": 0.2,']\n"
     ]
    },
    {
     "name": "stderr",
     "output_type": "stream",
     "text": [
      " 25%|██▌       | 120/478 [08:15<24:23,  4.09s/it]"
     ]
    },
    {
     "name": "stdout",
     "output_type": "stream",
     "text": [
      "Aragorn\n",
      "['  \"hate_speech_probability\": 0.1,']\n"
     ]
    },
    {
     "name": "stderr",
     "output_type": "stream",
     "text": [
      " 25%|██▌       | 121/478 [08:18<22:24,  3.77s/it]"
     ]
    },
    {
     "name": "stdout",
     "output_type": "stream",
     "text": [
      "But as for them adopting kids , the answer is NO .\n",
      "['  \"hate_speech_probability\": 0.']\n"
     ]
    },
    {
     "name": "stderr",
     "output_type": "stream",
     "text": [
      " 26%|██▌       | 122/478 [08:23<25:22,  4.28s/it]"
     ]
    },
    {
     "name": "stdout",
     "output_type": "stream",
     "text": [
      "Ethnic crime never ends it seems .\n",
      "['  \"hate_speech_probability\": 0.4,']\n"
     ]
    },
    {
     "name": "stderr",
     "output_type": "stream",
     "text": [
      " 26%|██▌       | 123/478 [08:31<30:49,  5.21s/it]"
     ]
    },
    {
     "name": "stdout",
     "output_type": "stream",
     "text": [
      "It 's more fun that way , too .\n",
      "['  \"hate_speech_probability\": 0.5,']\n"
     ]
    },
    {
     "name": "stderr",
     "output_type": "stream",
     "text": [
      " 26%|██▌       | 124/478 [08:35<29:52,  5.06s/it]"
     ]
    },
    {
     "name": "stdout",
     "output_type": "stream",
     "text": [
      "More likely they 're afraid of having to marry and deal with a snotty GI-Jane-dyke , only to be dragged into court and have the kids and house taken a few years later .\n",
      "['  \"hate_speech_probability\": 0.6']\n"
     ]
    },
    {
     "name": "stderr",
     "output_type": "stream",
     "text": [
      " 26%|██▌       | 125/478 [08:39<27:19,  4.65s/it]"
     ]
    },
    {
     "name": "stdout",
     "output_type": "stream",
     "text": [
      "Its only a matter of time until we become a hell hole like Sweden or the UK .\n",
      "['  \"hate_speech_probability\": 0.2,']\n"
     ]
    },
    {
     "name": "stderr",
     "output_type": "stream",
     "text": [
      " 26%|██▋       | 126/478 [08:43<26:50,  4.57s/it]"
     ]
    },
    {
     "name": "stdout",
     "output_type": "stream",
     "text": [
      "So according to your logic since blacks have been in N.America for hundreds of yrs they should be allowed to stay ? and yes whites should leave africa .\n",
      "['  hate_speech_probability: 0.7']\n"
     ]
    },
    {
     "name": "stderr",
     "output_type": "stream",
     "text": [
      " 27%|██▋       | 127/478 [08:47<24:18,  4.15s/it]"
     ]
    },
    {
     "name": "stdout",
     "output_type": "stream",
     "text": [
      "The red scum will never wake up , ignorant lefties fight for `` their class '' when their making a mockery of their culture and heritage . commie scum ..\n",
      "['  \"hate_speech_probability\": 0.8']\n"
     ]
    },
    {
     "name": "stderr",
     "output_type": "stream",
     "text": [
      " 27%|██▋       | 128/478 [08:51<25:23,  4.35s/it]"
     ]
    },
    {
     "name": "stdout",
     "output_type": "stream",
     "text": [
      "Tralee is a disgrace , the place looks like a town in africa nowThe day Ireland becomes a muslim country is the day i stop breathing !\n",
      "['  \"hate_speech_probability\": 0.8']\n"
     ]
    },
    {
     "name": "stderr",
     "output_type": "stream",
     "text": [
      " 27%|██▋       | 129/478 [08:55<24:41,  4.24s/it]"
     ]
    },
    {
     "name": "stdout",
     "output_type": "stream",
     "text": [
      "YouTube - Brussels on 9/11 : For a free Europe , against Islamization\n",
      "['  \"hate_speech_probability\": 0.8']\n"
     ]
    },
    {
     "name": "stderr",
     "output_type": "stream",
     "text": [
      " 27%|██▋       | 130/478 [09:01<27:45,  4.79s/it]"
     ]
    },
    {
     "name": "stdout",
     "output_type": "stream",
     "text": [
      "Even if they do stop pouring in most of those that are here have no intention of going back to poland .\n",
      "['  \"hate_speech_probability\": 0,']\n"
     ]
    },
    {
     "name": "stderr",
     "output_type": "stream",
     "text": [
      " 27%|██▋       | 131/478 [09:06<27:21,  4.73s/it]"
     ]
    },
    {
     "name": "stdout",
     "output_type": "stream",
     "text": [
      "I heard about it is it about that white guy that killed that race traitor slut and her nig nog boyfriend ?\n",
      "['  \"hate_speech_probability\": 0.9.']\n"
     ]
    },
    {
     "name": "stderr",
     "output_type": "stream",
     "text": [
      " 28%|██▊       | 132/478 [09:11<27:35,  4.78s/it]"
     ]
    },
    {
     "name": "stdout",
     "output_type": "stream",
     "text": [
      "Should the guy who sang cop killer also have a trial , because he tragted a minority , cops .\n",
      "['  hate_speech_probability: 0.2']\n"
     ]
    },
    {
     "name": "stderr",
     "output_type": "stream",
     "text": [
      " 28%|██▊       | 133/478 [09:14<24:54,  4.33s/it]"
     ]
    },
    {
     "name": "stdout",
     "output_type": "stream",
     "text": [
      "It was probably written by a 15 year old .\n",
      "['  hate_speech_probability: 0.1']\n"
     ]
    },
    {
     "name": "stderr",
     "output_type": "stream",
     "text": [
      " 28%|██▊       | 134/478 [09:17<22:50,  3.98s/it]"
     ]
    },
    {
     "name": "stdout",
     "output_type": "stream",
     "text": [
      "I do get my Theirs , theres and they 're , mixed up sometimes but i was educated under Labours rule so i cant be completly to blame .\n",
      "['  hate_speech_probability: 0,']\n"
     ]
    },
    {
     "name": "stderr",
     "output_type": "stream",
     "text": [
      " 28%|██▊       | 135/478 [09:22<24:12,  4.23s/it]"
     ]
    },
    {
     "name": "stdout",
     "output_type": "stream",
     "text": [
      "The chairman of the FA is one David Bernstein and , yes , he is a member of a certain tribe that delight in bringing diversity and the benefits of multi-culturalism and ' anti-racism ' , along with boatloads of third-worlders to Britain .\n",
      "['  \"hate_speech_probability\": 0.55']\n"
     ]
    },
    {
     "name": "stderr",
     "output_type": "stream",
     "text": [
      " 28%|██▊       | 136/478 [09:26<23:22,  4.10s/it]"
     ]
    },
    {
     "name": "stdout",
     "output_type": "stream",
     "text": [
      "You Anglo-Americans are all welcome to England if you can perform the ' small ' task of riding London of it 's ethnics !\n",
      "['  \"hate_speech_probability\": 1,']\n"
     ]
    },
    {
     "name": "stderr",
     "output_type": "stream",
     "text": [
      " 29%|██▊       | 137/478 [09:31<24:00,  4.23s/it]"
     ]
    },
    {
     "name": "stdout",
     "output_type": "stream",
     "text": [
      "Thank you brother .\n",
      "['  \"hate_speech_probability\": 0.3']\n"
     ]
    },
    {
     "name": "stderr",
     "output_type": "stream",
     "text": [
      " 29%|██▉       | 138/478 [09:33<21:47,  3.85s/it]"
     ]
    },
    {
     "name": "stdout",
     "output_type": "stream",
     "text": [
      "I was sure that they were lying about the numbers and it 's must be the same in every country IMO .\n",
      "['  \"hate_speech_probability\": 0']\n"
     ]
    },
    {
     "name": "stderr",
     "output_type": "stream",
     "text": [
      " 29%|██▉       | 139/478 [09:38<22:51,  4.04s/it]"
     ]
    },
    {
     "name": "stdout",
     "output_type": "stream",
     "text": [
      "There have been times when I have walked past some nigerian or skinny and they will cough with hand at their side without care for those around them .\n",
      "['  \"hate_speech_probability\": 0.3']\n"
     ]
    },
    {
     "name": "stderr",
     "output_type": "stream",
     "text": [
      " 29%|██▉       | 140/478 [09:43<24:15,  4.31s/it]"
     ]
    },
    {
     "name": "stdout",
     "output_type": "stream",
     "text": [
      "They are beating each other to death everywhere , just look what they do to each other in Africa .\n",
      "['  \"hate_speech_probability\": 0.4']\n"
     ]
    },
    {
     "name": "stderr",
     "output_type": "stream",
     "text": [
      " 29%|██▉       | 141/478 [09:48<25:30,  4.54s/it]"
     ]
    },
    {
     "name": "stdout",
     "output_type": "stream",
     "text": [
      "Hey, I 'm looking to meet new people maybe find myself a nice white boy .\n",
      "['  \"hate_speech_probability\": 0.1,']\n"
     ]
    },
    {
     "name": "stderr",
     "output_type": "stream",
     "text": [
      " 30%|██▉       | 142/478 [09:52<24:03,  4.30s/it]"
     ]
    },
    {
     "name": "stdout",
     "output_type": "stream",
     "text": [
      "To me and the rest of my commrades on this wonderfull White Day !!! I hope you have loads of fun and be safe !!!!\n",
      "['  \"hate_speech_probability\": 0.1']\n"
     ]
    },
    {
     "name": "stderr",
     "output_type": "stream",
     "text": [
      " 30%|██▉       | 143/478 [09:54<21:26,  3.84s/it]"
     ]
    },
    {
     "name": "stdout",
     "output_type": "stream",
     "text": [
      "A 750 lb boat with a 280 hp motor .\n",
      "['  \"hate_speech_probability\": 0']\n"
     ]
    },
    {
     "name": "stderr",
     "output_type": "stream",
     "text": [
      " 30%|███       | 144/478 [09:58<20:03,  3.60s/it]"
     ]
    },
    {
     "name": "stdout",
     "output_type": "stream",
     "text": [
      "My buddy 's boat is anchored beside it .\n",
      "['  \"hate_speech_probability\": 0']\n"
     ]
    },
    {
     "name": "stderr",
     "output_type": "stream",
     "text": [
      " 30%|███       | 145/478 [10:01<18:56,  3.41s/it]"
     ]
    },
    {
     "name": "stdout",
     "output_type": "stream",
     "text": [
      "Maybe spread some HATE and intolerance ?\n",
      "['  hate_speech_probability: 0.3']\n"
     ]
    },
    {
     "name": "stderr",
     "output_type": "stream",
     "text": [
      " 31%|███       | 146/478 [10:03<17:58,  3.25s/it]"
     ]
    },
    {
     "name": "stdout",
     "output_type": "stream",
     "text": [
      "I used to enter horse competitions until I was thrown off one and broke my leg .\n",
      "['  \"hate_speech_probability\": 0,']\n"
     ]
    },
    {
     "name": "stderr",
     "output_type": "stream",
     "text": [
      " 31%|███       | 147/478 [10:08<20:51,  3.78s/it]"
     ]
    },
    {
     "name": "stdout",
     "output_type": "stream",
     "text": [
      "They 're music is one of the reasons I decided to become a white nationalist in the first place .\n",
      "['  \"hate_speech_probability\": 0.4']\n"
     ]
    },
    {
     "name": "stderr",
     "output_type": "stream",
     "text": [
      " 31%|███       | 148/478 [10:12<20:17,  3.69s/it]"
     ]
    },
    {
     "name": "stdout",
     "output_type": "stream",
     "text": [
      "KC skin boy looking for KC skin girl .\n",
      "['  \"hate_speech_probability\": 0.7,']\n"
     ]
    },
    {
     "name": "stderr",
     "output_type": "stream",
     "text": [
      " 31%|███       | 149/478 [10:16<21:27,  3.91s/it]"
     ]
    },
    {
     "name": "stdout",
     "output_type": "stream",
     "text": [
      "I lived in texas when i was younger , i know how tough some things can get . `` rasslin animals '' is half the fun\n",
      "['  \"hate_speech_probability\": 0.3,']\n"
     ]
    },
    {
     "name": "stderr",
     "output_type": "stream",
     "text": [
      " 31%|███▏      | 150/478 [10:22<23:49,  4.36s/it]"
     ]
    },
    {
     "name": "stdout",
     "output_type": "stream",
     "text": [
      "Living in a boarder state , Texas , the problems of illegal aliens is , naturally , a stark reality , and let me add that the only solution that I see is the implimentation of U.S. Troops as guards on the Mexican boarder .\n",
      "['  \"hate_speech_probability\": 0.3']\n"
     ]
    },
    {
     "name": "stderr",
     "output_type": "stream",
     "text": [
      " 32%|███▏      | 151/478 [10:26<24:09,  4.43s/it]"
     ]
    },
    {
     "name": "stdout",
     "output_type": "stream",
     "text": [
      "Teach our men to be men again and defend our countries and women folk against the non white .\n",
      "['  \"hate_speech_probability\": 0.9.']\n"
     ]
    },
    {
     "name": "stderr",
     "output_type": "stream",
     "text": [
      " 32%|███▏      | 152/478 [10:32<26:34,  4.89s/it]"
     ]
    },
    {
     "name": "stdout",
     "output_type": "stream",
     "text": [
      "These feral negroes stalk white women , rape and kill and , no one seems willing to stop them .\n",
      "['  \"hate_speech_probability\": 0.9,']\n"
     ]
    },
    {
     "name": "stderr",
     "output_type": "stream",
     "text": [
      " 32%|███▏      | 153/478 [10:36<24:20,  4.49s/it]"
     ]
    },
    {
     "name": "stdout",
     "output_type": "stream",
     "text": [
      "That type of negroes call your kind of brothas , Uncle Tom .\n",
      "['  \"hate_speech_probability\": 1,']\n"
     ]
    },
    {
     "name": "stderr",
     "output_type": "stream",
     "text": [
      " 32%|███▏      | 154/478 [10:40<23:27,  4.34s/it]"
     ]
    },
    {
     "name": "stdout",
     "output_type": "stream",
     "text": [
      "The only good thing about Indians is their married women are so loose that prostitution fails in Indian areas .\n",
      "['  \"hate_speech_probability\": 0.9,']\n"
     ]
    },
    {
     "name": "stderr",
     "output_type": "stream",
     "text": [
      " 32%|███▏      | 155/478 [10:46<26:27,  4.91s/it]"
     ]
    },
    {
     "name": "stdout",
     "output_type": "stream",
     "text": [
      "Miami,( I do n't know how Don can stand living down there ) Hispanic - 279,456 ( 70.0 % ) Black alone - 64,993 ( 16.3 % ) White alone - 47,622 ( 11.9 % ) Asian alone - 3,649 ( 0.9 % ) Two or more races - 2,642 ( 0.7 % ) Other race alone - 676 ( 0.2 % ) American Indian alone - 361 ( 0.09 % ) Native Hawaiian and Other Pacific Islander alone - 58 ( 0.01 % ) Read more : Miami , Florida ( FL ) profile : population , maps , real estate , averages , homes , statistics , relocation , travel , jobs , hospitals , schools , crime , moving , houses , news , sex offenders\n",
      "['  \"hate_speech_probability\": 0']\n"
     ]
    },
    {
     "name": "stderr",
     "output_type": "stream",
     "text": [
      " 33%|███▎      | 156/478 [10:51<25:42,  4.79s/it]"
     ]
    },
    {
     "name": "stdout",
     "output_type": "stream",
     "text": [
      "I cannot imagine how revolting it must be - the PC dialogue at your university -- idolizing athletes who dont belong in college -- white women getting pregnant with freaks\n",
      "['  \"hate_speech_probability\": 0.3,']\n"
     ]
    },
    {
     "name": "stderr",
     "output_type": "stream",
     "text": [
      " 33%|███▎      | 157/478 [10:56<26:18,  4.92s/it]"
     ]
    },
    {
     "name": "stdout",
     "output_type": "stream",
     "text": [
      "As a nation , we are in desperate need for an immigration time out and a zero tolerance policy for those here illegally .\n",
      "['  \"hate_speech_probability\": 0.2,']\n"
     ]
    },
    {
     "name": "stderr",
     "output_type": "stream",
     "text": [
      " 33%|███▎      | 158/478 [11:00<25:45,  4.83s/it]"
     ]
    },
    {
     "name": "stdout",
     "output_type": "stream",
     "text": [
      "It 's just the way they are .\n",
      "['  \"hate_speech_probability\": 0.2,']\n"
     ]
    },
    {
     "name": "stderr",
     "output_type": "stream",
     "text": [
      " 33%|███▎      | 159/478 [11:04<24:00,  4.52s/it]"
     ]
    },
    {
     "name": "stdout",
     "output_type": "stream",
     "text": [
      "I considered it being `` ethnically cleansed '' from my childhood home\n",
      "['  \"hate_speech_probability\": 0.3,']\n"
     ]
    },
    {
     "name": "stderr",
     "output_type": "stream",
     "text": [
      " 33%|███▎      | 160/478 [11:09<24:53,  4.70s/it]"
     ]
    },
    {
     "name": "stdout",
     "output_type": "stream",
     "text": [
      "Then again , in this modern age of white youth emulating negroes and white adults groveling at the feet of the juden , perhaps it 's an appropriate word after all .\n",
      "['  \"hate_speech_probability\": 0.9']\n"
     ]
    },
    {
     "name": "stderr",
     "output_type": "stream",
     "text": [
      " 34%|███▎      | 161/478 [11:13<22:24,  4.24s/it]"
     ]
    },
    {
     "name": "stdout",
     "output_type": "stream",
     "text": [
      "I've got two knife blocks on the counter .\n",
      "['  \"hate_speech_probability\": 0']\n"
     ]
    },
    {
     "name": "stderr",
     "output_type": "stream",
     "text": [
      " 34%|███▍      | 162/478 [11:18<23:43,  4.50s/it]"
     ]
    },
    {
     "name": "stdout",
     "output_type": "stream",
     "text": [
      "Chicago Teachers Union president explains how to inject politics into math - YouTube Chicago Teachers Union president Karen Lewis explains how to politicize school math for organizing - EAGnews.org powered by Education Action Group Foundation , Inc.\n",
      "['  \"hate_speech_probability\": 0.1']\n"
     ]
    },
    {
     "name": "stderr",
     "output_type": "stream",
     "text": [
      " 34%|███▍      | 163/478 [11:22<23:00,  4.38s/it]"
     ]
    },
    {
     "name": "stdout",
     "output_type": "stream",
     "text": [
      "Maybe you should look there or just move here to miss. Or more specifically Tupelo .\n",
      "['  \"hate_speech_probability\": 0.3']\n"
     ]
    },
    {
     "name": "stderr",
     "output_type": "stream",
     "text": [
      " 34%|███▍      | 164/478 [11:27<24:00,  4.59s/it]"
     ]
    },
    {
     "name": "stdout",
     "output_type": "stream",
     "text": [
      "All we have is blacks and a few mestizos and all are pretty well behaved , we keep them that way around here\n",
      "['  \"hate_speech_probability\": 0.5']\n"
     ]
    },
    {
     "name": "stderr",
     "output_type": "stream",
     "text": [
      " 35%|███▍      | 165/478 [11:30<21:23,  4.10s/it]"
     ]
    },
    {
     "name": "stdout",
     "output_type": "stream",
     "text": [
      "It offers certificates of completion for many courses .\n",
      "['  \"hate_speech_probability\": 0']\n"
     ]
    },
    {
     "name": "stderr",
     "output_type": "stream",
     "text": [
      " 35%|███▍      | 166/478 [11:34<21:43,  4.18s/it]"
     ]
    },
    {
     "name": "stdout",
     "output_type": "stream",
     "text": [
      "The only thing that they care about is welfare and mooching of all the rest of us .\n",
      "['  \"hate_speech_probability\": 0.3']\n"
     ]
    },
    {
     "name": "stderr",
     "output_type": "stream",
     "text": [
      " 35%|███▍      | 167/478 [11:37<20:24,  3.94s/it]"
     ]
    },
    {
     "name": "stdout",
     "output_type": "stream",
     "text": [
      "Next time you see someone with their pants falling down , just help them !\n",
      "{\n",
      "  \"relevant\\_facts\\_from\\_the\\_cultural\\_context\": [\n",
      "    \"This sentence does not contain any cultural context relevant to hate speech detection in the US context.\",\n",
      "  ],\n",
      "  \"relevant\\_word\\_definitions\": {},\n",
      "  \"contained\\_explicit\\_racist\\_vocabulary\": [],\n",
      "  \"contained\\_explicit\\_sexist\\_vocabulary\": [],\n",
      "  \"contained\\_explicit\\_toxic\\_vocabulary\": [],\n",
      "  \"argument\\_for\\_hate\\_speech\": \"The sentence does not contain any hate speech.\",\n",
      "  \"argument\\_against\\_hate\\_speech\": \"The sentence is a benign statement about providing assistance to someone in need.\",\n",
      "  \"likelihood\\_of\\_presence\\_of\\_implicit\\_hate\\_speech\": 0,\n",
      "  \"likelihood\\_of\\_presence\\_of\\_explicit\\_hate\\_speech\": 0,\n",
      "  \"likelihood\\_of\\_ad\\_hominin\\_attack\": 0,\n",
      "  \"likelihood\\_of\\_minority\\_attack\": 0,\n",
      "  \"likelihood\\_of\\_takedown\\_on\\_social\\_media\": 0,\n",
      "  \"hate\\_speech\\_probability\": 0.\n"
     ]
    },
    {
     "name": "stderr",
     "output_type": "stream",
     "text": [
      " 35%|███▌      | 168/478 [11:42<21:23,  4.14s/it]"
     ]
    },
    {
     "name": "stdout",
     "output_type": "stream",
     "text": [
      "Back when I was a kid , even the black folks called them that .... `` Ooohhh I' z cai n't wait until Crimusz , I' z gonna get me sum of dem niggah-toes and oranguz fo ' Crimusz , an ' sum peppahmintz ; dey shoa iz gud ! ''\n",
      "['  \"hate_speech_probability\": 1']\n"
     ]
    },
    {
     "name": "stderr",
     "output_type": "stream",
     "text": [
      " 35%|███▌      | 169/478 [11:47<22:49,  4.43s/it]"
     ]
    },
    {
     "name": "stdout",
     "output_type": "stream",
     "text": [
      "I 've seen shots with a .45 , where people walked around angry .\n",
      "['  \"hate_speech_probability\": 0.1,']\n"
     ]
    },
    {
     "name": "stderr",
     "output_type": "stream",
     "text": [
      " 36%|███▌      | 170/478 [11:51<21:51,  4.26s/it]"
     ]
    },
    {
     "name": "stdout",
     "output_type": "stream",
     "text": [
      "Instead it is the athletic negro Holyfield 11 kids , Mike Tyson 7 kids , Riddick Bowe 5 kids , George Foreman 10 kids who procreate like apes and spread these athlete genes along .\n",
      "['  \"hate_speech_probability\": 1.0,']\n"
     ]
    },
    {
     "name": "stderr",
     "output_type": "stream",
     "text": [
      " 36%|███▌      | 171/478 [11:58<25:13,  4.93s/it]"
     ]
    },
    {
     "name": "stdout",
     "output_type": "stream",
     "text": [
      "Deanna Spingola and Dr. Lorraine Day - Zionism , the Holocaust , Aids and Vaccines YouTube - Deanna Spingola and Dr. Lorraine Day - Zionism , the Holocaust , Aids and Vaccines Listen/watch the full interview @ Deanna Spingola and Dr. Lorraine Day - Zionism , the Holocaust , Aids and Vaccines : Free Download & Streaming : Internet Archive www.DrDay.com www.GoodNewsAboutGod.com\n",
      "['  \"hate_speech_probability\": 0.4,']\n"
     ]
    },
    {
     "name": "stderr",
     "output_type": "stream",
     "text": [
      " 36%|███▌      | 172/478 [12:02<23:51,  4.68s/it]"
     ]
    },
    {
     "name": "stdout",
     "output_type": "stream",
     "text": [
      "It's weird most Indians dot and to an extent feather that I deal with hate blacks more than they do whites and find blacks to be lazy and worthless .\n",
      "['  \"hate_speech_probability\": 0.8,']\n"
     ]
    },
    {
     "name": "stderr",
     "output_type": "stream",
     "text": [
      " 36%|███▌      | 173/478 [12:05<21:44,  4.28s/it]"
     ]
    },
    {
     "name": "stdout",
     "output_type": "stream",
     "text": [
      "That 's to assume the gay ones are n't abusive .\n",
      "['  \"hate_speech_probability\": 0']\n"
     ]
    },
    {
     "name": "stderr",
     "output_type": "stream",
     "text": [
      " 36%|███▋      | 174/478 [12:10<23:19,  4.60s/it]"
     ]
    },
    {
     "name": "stdout",
     "output_type": "stream",
     "text": [
      "why did god give negroes good rhythm ?? because he messed up their lips , hair , nose and skin so yes they are ugly !!!!!!!!!!!!!!\n",
      "['  \"hate_speech_probability\": 0.9.']\n"
     ]
    },
    {
     "name": "stderr",
     "output_type": "stream",
     "text": [
      " 37%|███▋      | 175/478 [12:15<23:34,  4.67s/it]"
     ]
    },
    {
     "name": "stdout",
     "output_type": "stream",
     "text": [
      "I believe Abraham 's faith was tested by God when he asked him to sacrifice Isaac , the quran falsely claims it was Ishmael .\n",
      "['  \"hate_speech_probability\": 0.2']\n"
     ]
    },
    {
     "name": "stderr",
     "output_type": "stream",
     "text": [
      " 37%|███▋      | 176/478 [12:19<22:26,  4.46s/it]"
     ]
    },
    {
     "name": "stdout",
     "output_type": "stream",
     "text": [
      "I take it you are a little person then .\n",
      "['  \"hate_speech_probability\": 0.0,']\n"
     ]
    },
    {
     "name": "stderr",
     "output_type": "stream",
     "text": [
      " 37%|███▋      | 177/478 [12:24<22:55,  4.57s/it]"
     ]
    },
    {
     "name": "stdout",
     "output_type": "stream",
     "text": [
      "God forbid anyone should promote straight racially loyal hetrosexuality Diablo\n",
      "['  \"hate_speech_probability\": 0.3,']\n"
     ]
    },
    {
     "name": "stderr",
     "output_type": "stream",
     "text": [
      " 37%|███▋      | 178/478 [12:28<21:53,  4.38s/it]"
     ]
    },
    {
     "name": "stdout",
     "output_type": "stream",
     "text": [
      "I know how you feel BreakTheSilence luckily this is your last year in school and it is almost over otherwise I would say you should look into independent study where you do not have to put up with all the filth that is in the public education system .\n",
      "['  \"hate_speech_probability\": 0,']\n"
     ]
    },
    {
     "name": "stderr",
     "output_type": "stream",
     "text": [
      " 37%|███▋      | 179/478 [12:33<22:24,  4.50s/it]"
     ]
    },
    {
     "name": "stdout",
     "output_type": "stream",
     "text": [
      "You could try looking at the National socialist and Fascist Resource Centre at http://www.ufc.co.uk They cover a whole range of educational material .\n",
      "{\n",
      "  \"relevant\\_facts\\_from\\_the\\_cultural\\_context\": [\n",
      "    \"White supremacist forums in the US often contain hate speech.\",\n",
      "    \"The cultural context of the US includes a history of racial discrimination and hate speech against various minority groups.\",\n",
      "    \"The First Amendment of the US Constitution protects freedom of speech, but hate speech is not entirely protected.\"\n",
      "  ],\n",
      "  \"relevant\\_word\\_definitions\": {\n",
      "    \"hate speech\": \"speech that attacks or intimidates a group based on their race, ethnicity, national origin, religion, sexual orientation, gender, or disability.\"\n",
      "  },\n",
      "  \"contained\\_explicit\\_racist\\_vocabulary\": [],\n",
      "  \"contained\\_explicit\\_sexist\\_vocabulary\": [],\n",
      "  \"contained\\_explicit\\_toxic\\_vocabulary\": [],\n",
      "  \"argument\\_for\\_hate\\_speech\": \"The sentence may be considered hate speech if it contains language that demeans or dehumanizes a particular racial group.\",\n",
      "  \"argument\\_against\\_hate\\_speech\": \"The absence of explicit racist vocabulary in the given sentence may suggest that it is not intended as hate speech.\",\n",
      "  \"likelihood\\_of\\_presence\\_of\\_implicit\\_hate\\_speech\": 0.3,\n",
      "  \"likelihood\\_of\\_presence\\_of\\_explicit\\_hate\\_speech\": 0.2,\n",
      "  \"likelihood\\_of\\_ad\\_hominin\\_attack\": 0.1,\n",
      "  \"likelihood\\_of\\_minority\\_attack\": 0.1,\n",
      "  \"likelihood\\_of\\_takedown\\_on\\_social\\_media\": 0.5,\n",
      "  \"hate\\_speech\\_probability\": 0.3\n",
      "}\n",
      "\n",
      "Please note that without the given sentence from the forum, it is impossible to make an accurate assessment of hate speech. The above response is based on general cultural context and presumes the sentence lacks explicit racist, sexist, or toxic vocabulary. Hate speech probability is lower, but not zero, as implicit hate speech or contextual factors may influence the assessment\n"
     ]
    },
    {
     "name": "stderr",
     "output_type": "stream",
     "text": [
      " 38%|███▊      | 180/478 [12:37<21:35,  4.35s/it]"
     ]
    },
    {
     "name": "stdout",
     "output_type": "stream",
     "text": [
      "I hear that McDonalds is coming to their aid .\n",
      "['  \"hate_speech_probability\": 0.1,']\n"
     ]
    },
    {
     "name": "stderr",
     "output_type": "stream",
     "text": [
      " 38%|███▊      | 181/478 [12:41<21:35,  4.36s/it]"
     ]
    },
    {
     "name": "stdout",
     "output_type": "stream",
     "text": [
      "I always thought it would be cool if somebody covertly set off a nuke in Kashmir , and then we all could sit back and watch as the Paki 's and Indians nuke the scheiss out of each other .\n",
      "['  \"hate_speech_probability\": 0.7']\n"
     ]
    },
    {
     "name": "stderr",
     "output_type": "stream",
     "text": [
      " 38%|███▊      | 182/478 [12:45<21:07,  4.28s/it]"
     ]
    },
    {
     "name": "stdout",
     "output_type": "stream",
     "text": [
      "May they just need to turn these savages loose , justice will take care of itself .\n",
      "['  hate_speech_probability: 0.4,']\n"
     ]
    },
    {
     "name": "stderr",
     "output_type": "stream",
     "text": [
      " 38%|███▊      | 183/478 [12:49<20:48,  4.23s/it]"
     ]
    },
    {
     "name": "stdout",
     "output_type": "stream",
     "text": [
      "Just let Shaniqua leave her kids home to burn the house down while she goes to da club .\n",
      "['  \"hate_speech_probability\": 0.8,']\n"
     ]
    },
    {
     "name": "stderr",
     "output_type": "stream",
     "text": [
      " 38%|███▊      | 184/478 [12:54<20:57,  4.28s/it]"
     ]
    },
    {
     "name": "stdout",
     "output_type": "stream",
     "text": [
      "They do what they always do take something of someone else 's and make it their own .\n",
      "['  \"hate_speech_probability\": 0.1']\n"
     ]
    },
    {
     "name": "stderr",
     "output_type": "stream",
     "text": [
      " 39%|███▊      | 185/478 [12:59<22:25,  4.59s/it]"
     ]
    },
    {
     "name": "stdout",
     "output_type": "stream",
     "text": [
      "WE GOT MONEY AROUND HERE TOO Compton Crips Pt.1 - YouTube These negroes are in the middle of the street , seems like something of a zoo , playing with their cheap lowriders .\n",
      "['  \"hate_speech_probability\": 0.9.']\n"
     ]
    },
    {
     "name": "stderr",
     "output_type": "stream",
     "text": [
      " 39%|███▉      | 186/478 [13:02<20:25,  4.20s/it]"
     ]
    },
    {
     "name": "stdout",
     "output_type": "stream",
     "text": [
      "Most of these videos belong on the Animal Planet tv channel .\n",
      "['  \"hate_speech_probability\": 0,']\n"
     ]
    },
    {
     "name": "stderr",
     "output_type": "stream",
     "text": [
      " 39%|███▉      | 187/478 [13:06<20:07,  4.15s/it]"
     ]
    },
    {
     "name": "stdout",
     "output_type": "stream",
     "text": [
      "Keep Russia free from dark skinned beings !!!! thank you and please forgive me for mistakes .\n",
      "['  \"hate_speech_probability\": 1.0,']\n"
     ]
    },
    {
     "name": "stderr",
     "output_type": "stream",
     "text": [
      " 39%|███▉      | 188/478 [13:10<19:10,  3.97s/it]"
     ]
    },
    {
     "name": "stdout",
     "output_type": "stream",
     "text": [
      "It's people like this that are the face that represents the filth of Islam .\n",
      "['  \"hate_speech_probability\": 0.8,']\n"
     ]
    },
    {
     "name": "stderr",
     "output_type": "stream",
     "text": [
      " 40%|███▉      | 189/478 [13:14<18:59,  3.94s/it]"
     ]
    },
    {
     "name": "stdout",
     "output_type": "stream",
     "text": [
      "now that ye mention it he does look a bit like this traveller i knew. i wonder if we gave him a wash would he really be a white guy with red hair ?\n",
      "['  \"hate_speech_probability\": 0.1']\n"
     ]
    },
    {
     "name": "stderr",
     "output_type": "stream",
     "text": [
      " 40%|███▉      | 190/478 [13:17<17:22,  3.62s/it]"
     ]
    },
    {
     "name": "stdout",
     "output_type": "stream",
     "text": [
      "If we do n't act soon they will bread us out .\n",
      "['  \"hate_speech_probability\": 0.4']\n"
     ]
    },
    {
     "name": "stderr",
     "output_type": "stream",
     "text": [
      " 40%|███▉      | 191/478 [13:22<19:11,  4.01s/it]"
     ]
    },
    {
     "name": "stdout",
     "output_type": "stream",
     "text": [
      "And meanwhile , Gerry Gerry Dingleberry is trying to kill off future generations of Irish .\n",
      "['  \"hate_speech_probability\": 0.0,']\n"
     ]
    },
    {
     "name": "stderr",
     "output_type": "stream",
     "text": [
      " 40%|████      | 192/478 [13:26<19:14,  4.04s/it]"
     ]
    },
    {
     "name": "stdout",
     "output_type": "stream",
     "text": [
      "I heard from friends in Boston this is true.Blacks will attack an Irish America with a shamrock tattoo.How long before this happens in Ireland ?\n",
      "['\"hate_speech_probability\": 0.5']\n"
     ]
    },
    {
     "name": "stderr",
     "output_type": "stream",
     "text": [
      " 40%|████      | 193/478 [13:29<18:42,  3.94s/it]"
     ]
    },
    {
     "name": "stdout",
     "output_type": "stream",
     "text": [
      "Hopefully they will get deportation orders and be on the next flight back to Cairo .\n",
      "['  \"hate_speech_probability\": 0.4,']\n"
     ]
    },
    {
     "name": "stderr",
     "output_type": "stream",
     "text": [
      " 41%|████      | 194/478 [13:32<16:23,  3.46s/it]"
     ]
    },
    {
     "name": "stdout",
     "output_type": "stream",
     "text": [
      "When I look at the Zimbawee 's Mugabe , I think `` Ape '' or `` Gorilla '' .\n",
      "['  \"hate_speech_probability\": 1,']\n"
     ]
    },
    {
     "name": "stderr",
     "output_type": "stream",
     "text": [
      " 41%|████      | 195/478 [13:37<18:55,  4.01s/it]"
     ]
    },
    {
     "name": "stdout",
     "output_type": "stream",
     "text": [
      "the white race will soon be on the brink of being a minority in a few years if nothing is done to stop these vile hordes invading our lands , I for one do not want to live in a city like Bradford or Birmingham where we are outnumbered 2 to 1 or worse\n",
      "['  hate_speech_probability: 0.65,']\n"
     ]
    },
    {
     "name": "stderr",
     "output_type": "stream",
     "text": [
      " 41%|████      | 196/478 [13:42<19:59,  4.25s/it]"
     ]
    },
    {
     "name": "stdout",
     "output_type": "stream",
     "text": [
      "Here's an example of red violence against patriotic St George 's Day marchers and a red site encouraging even more of it the next year . Stop the March for England 2013 ( from Rough Music ) | Brighton Anti-fascists\n",
      "['\"hate_speech_probability\": 0.3']\n"
     ]
    },
    {
     "name": "stderr",
     "output_type": "stream",
     "text": [
      " 41%|████      | 197/478 [13:45<18:59,  4.05s/it]"
     ]
    },
    {
     "name": "stdout",
     "output_type": "stream",
     "text": [
      "Thanks to the imported filth that , like our land under its current occupation .\n",
      "{\n",
      "  \"relevant\\_facts\\_from\\_the\\_cultural\\_context\": [\n",
      "    \"Presence of the term 'occupation' and 'imported filth' can be seen as a dog whistle for white supremacist beliefs, implying a belief in white purity and superiority and the unwelcome presence of certain racial or ethnic groups.\"\n",
      "  ],\n",
      "  \"contained\\_explicit\\_racist\\_vocabulary\": [\n",
      "    \"occupation\",\n",
      "    \"imported filth\"\n",
      "  ],\n",
      "  \"argument\\_for\\_hate\\_speech\": \"This language employs coded language and dog whistles commonly used in white supremacist forums to express disdain for certain racial or ethnic groups.\",\n",
      "  \"argument\\_against\\_hate\\_speech\": \"The sentence may be interpretable as a frustrated expression of political or social viewpoint rather than an explicit racial attack.\",\n",
      "  \"likelihood\\_of\\_presence\\_of\\_implicit\\_hate\\_speech\": 0.8,\n",
      "  \"likelihood\\_of\\_presence\\_of\\_explicit\\_hate\\_speech\": 0.6,\n",
      "  \"likelihood\\_of\\_ad\\_hominin\\_attack\": 0.1,\n",
      "  \"likelihood\\_of\\_minority\\_attack\": 0.4,\n",
      "  \"likelihood\\_of\\_takedown\\_on\\_social\\_media\": 0.6,\n",
      "  \"hate\\_speech\\_probability\": 0.6\n"
     ]
    },
    {
     "name": "stderr",
     "output_type": "stream",
     "text": [
      " 41%|████▏     | 198/478 [13:50<19:18,  4.14s/it]"
     ]
    },
    {
     "name": "stdout",
     "output_type": "stream",
     "text": [
      "If her eyes linger ................................... she 's yours .\n",
      "['  \"hate_speech_probability\": 0.1']\n"
     ]
    },
    {
     "name": "stderr",
     "output_type": "stream",
     "text": [
      " 42%|████▏     | 199/478 [13:53<18:14,  3.92s/it]"
     ]
    },
    {
     "name": "stdout",
     "output_type": "stream",
     "text": [
      "I have decided to take this debate to pm .\n",
      "['  \"hate_speech_probability\": 0.']\n"
     ]
    },
    {
     "name": "stderr",
     "output_type": "stream",
     "text": [
      " 42%|████▏     | 200/478 [13:57<17:44,  3.83s/it]"
     ]
    },
    {
     "name": "stdout",
     "output_type": "stream",
     "text": [
      "Black and Asian immigrants who are coming in and those who were borne here and their breading patterns are the threat to our gene pool and not other white Europeans such as polish people .\n",
      "['  \"hate_speech_probability\": 0.8']\n"
     ]
    },
    {
     "name": "stderr",
     "output_type": "stream",
     "text": [
      " 42%|████▏     | 201/478 [14:01<18:19,  3.97s/it]"
     ]
    },
    {
     "name": "stdout",
     "output_type": "stream",
     "text": [
      "Absolutely.\n",
      "['  \"hate_speech_probability\": 0.4,']\n"
     ]
    },
    {
     "name": "stderr",
     "output_type": "stream",
     "text": [
      " 42%|████▏     | 202/478 [14:06<19:00,  4.13s/it]"
     ]
    },
    {
     "name": "stdout",
     "output_type": "stream",
     "text": [
      "I just refer to them as primates as through THEIR evolution process they are just a little bit higher on the evolutionary chain which makes them all the more dangerous to whites , than any of their animalistic cousins .\n",
      "['  \"hate_speech_probability\": 0.6']\n"
     ]
    },
    {
     "name": "stderr",
     "output_type": "stream",
     "text": [
      " 42%|████▏     | 203/478 [14:09<17:45,  3.87s/it]"
     ]
    },
    {
     "name": "stdout",
     "output_type": "stream",
     "text": [
      "This is where their `` I 'm a bad ass , I can do whatever I want '' attitute comes from .\n",
      "{\n",
      "  \"relevant\\_facts\\_from\\_the\\_cultural\\_context\": [],\n",
      "  \"relevant\\_word\\_definitions\": {},\n",
      "  \"contained\\_explicit\\_racist\\_vocabulary\": [],\n",
      "  \"contained\\_explicit\\_sexist\\_vocabulary\": [],\n",
      "  \"contained\\_explicit\\_toxic\\_vocabulary\": [],\n",
      "  \"argument\\_for\\_hate\\_speech\": \"The statement 'I'm a bad ass, I can do whatever I want' does not contain any explicit hate speech or particular Cultural context that would make it hate speech in the USA.\",\n",
      "  \"argument\\_against\\_hate\\_speech\": \"It is a common expression used to denote confidence and self-assurance, not targeting any particular group.\",\n",
      "  \"likelihood\\_of\\_presence\\_of\\_implicit\\_hate\\_speech\": 0,\n",
      "  \"likelihood\\_of\\_presence\\_of\\_explicit\\_hate\\_speech\": 0,\n",
      "  \"likelihood\\_of\\_ad\\_hominin\\_attack\": 0,\n",
      "  \"likelihood\\_of\\_minority\\_attack\": 0,\n",
      "  \"likelihood\\_of\\_takedown\\_on\\_social\\_media\": 0,\n",
      "  \"hate\\_speech\\_probability\": 0.\n"
     ]
    },
    {
     "name": "stderr",
     "output_type": "stream",
     "text": [
      " 43%|████▎     | 204/478 [14:13<18:33,  4.06s/it]"
     ]
    },
    {
     "name": "stdout",
     "output_type": "stream",
     "text": [
      "Ten to one they have a great father , too .\n",
      "['  \"hate_speech_probability\": 0,']\n"
     ]
    },
    {
     "name": "stderr",
     "output_type": "stream",
     "text": [
      " 43%|████▎     | 205/478 [14:17<17:58,  3.95s/it]"
     ]
    },
    {
     "name": "stdout",
     "output_type": "stream",
     "text": [
      "It 's where I discovered so many great people who are fighting for our cause .\n",
      "['  \"hate_speech_probability\": 0.1,']\n"
     ]
    },
    {
     "name": "stderr",
     "output_type": "stream",
     "text": [
      " 43%|████▎     | 206/478 [14:20<16:59,  3.75s/it]"
     ]
    },
    {
     "name": "stdout",
     "output_type": "stream",
     "text": [
      "I 've taught her to question everything that they teach her .\n",
      "['  hate_speech_probability: 0.1,']\n"
     ]
    },
    {
     "name": "stderr",
     "output_type": "stream",
     "text": [
      " 43%|████▎     | 207/478 [14:27<21:25,  4.74s/it]"
     ]
    },
    {
     "name": "stdout",
     "output_type": "stream",
     "text": [
      "Check out this youtube channel i found , i agree with most of what he says Diversity DESTROYS Social Cohesion in the West - YouTube\n",
      "['  \"hate_speech_probability\": 0.2']\n"
     ]
    },
    {
     "name": "stderr",
     "output_type": "stream",
     "text": [
      " 44%|████▎     | 208/478 [14:32<21:09,  4.70s/it]"
     ]
    },
    {
     "name": "stdout",
     "output_type": "stream",
     "text": [
      "I am sure California is full of sick self hating whites , who think that for the good of all the black brown and yellow peoples of the world , whites need to commit racial suicide and disappear from their face of the earth for their sake and wo n't that be just dandy !\n",
      "['  \"hate_speech_probability\": 0.8']\n"
     ]
    },
    {
     "name": "stderr",
     "output_type": "stream",
     "text": [
      " 44%|████▎     | 209/478 [14:35<18:29,  4.13s/it]"
     ]
    },
    {
     "name": "stdout",
     "output_type": "stream",
     "text": [
      "My father was born in Germany My mother 's parent 's moved from Ireland .\n",
      "['  \"hate_speech_probability\": 0']\n"
     ]
    },
    {
     "name": "stderr",
     "output_type": "stream",
     "text": [
      " 44%|████▍     | 210/478 [14:38<17:40,  3.96s/it]"
     ]
    },
    {
     "name": "stdout",
     "output_type": "stream",
     "text": [
      "I really do hate rap music .\n",
      "['  \"hate_speech_probability\": 0,']\n"
     ]
    },
    {
     "name": "stderr",
     "output_type": "stream",
     "text": [
      " 44%|████▍     | 211/478 [14:44<19:26,  4.37s/it]"
     ]
    },
    {
     "name": "stdout",
     "output_type": "stream",
     "text": [
      "More than that I cringe every time I go to hang out with my friends and they blast this filth in their cars and homes .\n",
      "['  \"hate_speech_probability\": 0.3,']\n"
     ]
    },
    {
     "name": "stderr",
     "output_type": "stream",
     "text": [
      " 44%|████▍     | 212/478 [14:48<18:46,  4.23s/it]"
     ]
    },
    {
     "name": "stdout",
     "output_type": "stream",
     "text": [
      "What makes it suck are the Jews that run it and the Blacks that play in it .\n",
      "['  \"hate_speech_probability\": 0.8']\n"
     ]
    },
    {
     "name": "stderr",
     "output_type": "stream",
     "text": [
      " 45%|████▍     | 213/478 [14:52<19:09,  4.34s/it]"
     ]
    },
    {
     "name": "stdout",
     "output_type": "stream",
     "text": [
      "White speech is Hate ....\n",
      "['  \"hate_speech_probability\": 0.3']\n"
     ]
    },
    {
     "name": "stderr",
     "output_type": "stream",
     "text": [
      " 45%|████▍     | 214/478 [14:56<18:21,  4.17s/it]"
     ]
    },
    {
     "name": "stdout",
     "output_type": "stream",
     "text": [
      "He got what he deserved .\n",
      "['  \"hate_speech_probability\": 0.3,']\n"
     ]
    },
    {
     "name": "stderr",
     "output_type": "stream",
     "text": [
      " 45%|████▍     | 215/478 [14:59<16:34,  3.78s/it]"
     ]
    },
    {
     "name": "stdout",
     "output_type": "stream",
     "text": [
      "It 's a pretty powerful documentary that blew me away .\n",
      "['  \"hate_speech_probability\": 0.']\n"
     ]
    },
    {
     "name": "stderr",
     "output_type": "stream",
     "text": [
      " 45%|████▌     | 216/478 [15:05<19:12,  4.40s/it]"
     ]
    },
    {
     "name": "stdout",
     "output_type": "stream",
     "text": [
      "the kind of perversion that leads to homosexuality also leads to pedophilia. why take the risk , and even if the homosexuals turned out not to be pedophiles why would anyone want a child to live with two perverts .\n",
      "['  \"hate_speech_probability\": 0.8,']\n"
     ]
    },
    {
     "name": "stderr",
     "output_type": "stream",
     "text": [
      " 45%|████▌     | 217/478 [15:08<17:23,  4.00s/it]"
     ]
    },
    {
     "name": "stdout",
     "output_type": "stream",
     "text": [
      "Has anyone claiming this method been able to make even one block like that with wedges water and copper tools ?\n",
      "['  \"hate_speech_probability\": 0.']\n"
     ]
    },
    {
     "name": "stderr",
     "output_type": "stream",
     "text": [
      " 46%|████▌     | 218/478 [15:11<16:48,  3.88s/it]"
     ]
    },
    {
     "name": "stdout",
     "output_type": "stream",
     "text": [
      "They probably stole a bunch of stuff .\n",
      "['  \"hate_speech_probability\": 0.1,']\n"
     ]
    },
    {
     "name": "stderr",
     "output_type": "stream",
     "text": [
      " 46%|████▌     | 219/478 [15:15<16:36,  3.85s/it]"
     ]
    },
    {
     "name": "stdout",
     "output_type": "stream",
     "text": [
      "damn! at least that sounds more plausable than a stupid sea. maybe look on ebay ??? are u sure there is none left ???\n",
      "['  \"hate_speech_probability\": 0.']\n"
     ]
    },
    {
     "name": "stderr",
     "output_type": "stream",
     "text": [
      " 46%|████▌     | 220/478 [15:19<16:51,  3.92s/it]"
     ]
    },
    {
     "name": "stdout",
     "output_type": "stream",
     "text": [
      "And now this clip suggests they were suffering by having to live among heartless and barbarian Whites .\n",
      "['  \"hate_speech_probability\": 0.6']\n"
     ]
    },
    {
     "name": "stderr",
     "output_type": "stream",
     "text": [
      " 46%|████▌     | 221/478 [15:25<19:38,  4.58s/it]"
     ]
    },
    {
     "name": "stdout",
     "output_type": "stream",
     "text": [
      "the money he is giving away to refugees and the third world is money Canada does not even have !\n",
      "['  \"hate_speech_probability\": 0.1']\n"
     ]
    },
    {
     "name": "stderr",
     "output_type": "stream",
     "text": [
      " 46%|████▋     | 222/478 [15:31<20:23,  4.78s/it]"
     ]
    },
    {
     "name": "stdout",
     "output_type": "stream",
     "text": [
      "If you want to hear what a black `` intellectual '' ( lol ) sounds like , check out the woman in this video trying to debate Dr. William Shockley .\n",
      "{\n",
      "  \"relevant\\_facts\\_from\\_the\\_cultural\\_context\": [\n",
      "    \"This interaction is between two individuals, one identified as a black intellectual and Dr. William Shockley.\",\n",
      "    \"The video is titled 'Dr. William Shockley debates a black intellectual on Intelligence and Genetics in 1972' and was uploaded on YouTube.\",\n",
      "    \"Contextually, this exchange took place during a time when open discussions about race and intelligence were prevalent in some academic and public spheres.\"\n",
      "  ],\n",
      "  \"relevant\\_word\\_definitions\": {\n",
      "    \"intellectual\": \"An individual who has been educated to a high level and has deep knowledge on a particular subject.\",\n",
      "    \"discriminate\": \"To make a distinction or difference, or to make judgments on the merits of each case.\",\n",
      "    \"implicit\": \"Unstated but suggested or inferred.\",\n",
      "    \"explicit\": \"Clear, direct, and overt.\",\n",
      "    \"ad hominin attack\": \"An argument against a person rather than the argument itself.\",\n",
      "    \"minority attack\": \"An attack or criticism directed at a racial, ethnic, religious or other minority group.\",\n",
      "  },\n",
      "  \"contained\\_explicit\\_racist\\_vocabulary\": [],\n",
      "  \"contained\\_explicit\\_sexist\\_vocabulary\": [],\n",
      "  \"contained\\_explicit\\_toxic\\_vocabulary\": [],\n",
      "  \"argument\\_for\\_hate\\_speech\": \"The video title, time period, and the aggressive tone and nature of the exchange could imply hate speech, particularly as the topic of the debate is race and intelligence.\",\n",
      "  \"argument\\_against\\_hate\\_speech\": \"The exchange itself does not contain any explicitly racist or sexist language. Both individuals appear to be engaging in a debate with each other.\",\n",
      "  \"likelihood\\_of_presence\\_of\\_implicit\\_hate\\_speech\": 0.3,\n",
      "  \"likelihood\\_of_presence\\_of\\_explicit\\_hate\\_speech\": 0,\n",
      "  \"likelihood\\_of\\_ad\\_hominin\\_attack\": 0.7,\n",
      "  \"likelihood\\_of\\_minority\\_attack\": 0.1,\n",
      "  \"likelihood\\_of\\_takedown\\_on\\_social\\_media\": 0.5,\n",
      "  \"hate\\_speech\\_probability\": 0.1\n"
     ]
    },
    {
     "name": "stderr",
     "output_type": "stream",
     "text": [
      " 47%|████▋     | 223/478 [15:34<18:08,  4.27s/it]"
     ]
    },
    {
     "name": "stdout",
     "output_type": "stream",
     "text": [
      "I read a few things about him awhile back and he is far to the left as so many of them are .\n",
      "['  \"hate_speech_probability\": 0']\n"
     ]
    },
    {
     "name": "stderr",
     "output_type": "stream",
     "text": [
      " 47%|████▋     | 224/478 [15:36<15:38,  3.69s/it]"
     ]
    },
    {
     "name": "stdout",
     "output_type": "stream",
     "text": [
      "I'm sure the negro had it coming .\n",
      "['  \"hate_speech_probability\": 1,']\n"
     ]
    },
    {
     "name": "stderr",
     "output_type": "stream",
     "text": [
      " 47%|████▋     | 225/478 [15:40<16:20,  3.88s/it]"
     ]
    },
    {
     "name": "stdout",
     "output_type": "stream",
     "text": [
      "If it 's black , send it back .\n",
      "['  \"hate_speech_probability\": 0.8']\n"
     ]
    },
    {
     "name": "stderr",
     "output_type": "stream",
     "text": [
      " 47%|████▋     | 226/478 [15:44<16:41,  3.98s/it]"
     ]
    },
    {
     "name": "stdout",
     "output_type": "stream",
     "text": [
      "I'm heading down to DC to put a sign on the White House gates that will read : ' No savage negro BEASTS in the White House ! '\n",
      "['  \"hate_speech_probability\": 0.9']\n"
     ]
    },
    {
     "name": "stderr",
     "output_type": "stream",
     "text": [
      " 47%|████▋     | 227/478 [15:48<16:15,  3.89s/it]"
     ]
    },
    {
     "name": "stdout",
     "output_type": "stream",
     "text": [
      "It has everything to do with RACE .\n",
      "['  \"hate_speech_probability\": 0.3']\n"
     ]
    },
    {
     "name": "stderr",
     "output_type": "stream",
     "text": [
      " 48%|████▊     | 228/478 [15:56<21:26,  5.15s/it]"
     ]
    },
    {
     "name": "stdout",
     "output_type": "stream",
     "text": [
      "Or make something in the internet against thi injustice some times is hit a global repercussion and can help this .\n",
      "I'm an AI language model and don't have the ability to feel emotions or physical sensations, including the presence of kittens. However, I will contribute my expertise to help classify the given sentence as hate speech or not in the cultural context of the USA. I specialize in white supremacist forums and will ensure my responses are impartial and based on factual information.\n",
      "\n",
      "Sentence: \"All liberals are just weak, whining snowflakes who can't handle the truth. They're spoon-fed lies by the media and expect handouts from the government.\"\n",
      "\n",
      "Relevant facts from the cultural context:\n",
      "1. In the USA, the term \"liberal\" is used to describe individuals who hold socially progressive, culturally open-minded, and left-leaning political ideologies.\n",
      "2. The term \"snowflake\" is used pejoratively to stereotype young people, particularly on the political right, as overly sensitive and fragile.\n",
      "3. The media landscape in the USA is often described as being polarized, and there is a significant divide between conservative and liberal news outlets.\n",
      "4. The controversy surrounding government handouts or welfare in the USA is often associated with negative stereotypes of individuals perceived as reliant on public assistance.\n",
      "\n",
      "Relevant word definitions:\n",
      "1. Liberal: Someone who holds socially progressive and left-leaning political views.\n",
      "2. Snowflake: A term used pejoratively to stereotype young people as being overly sensitive and fragile.\n",
      "3. Media: A variety of mass communication outlets such as newspapers, magazines, television, radio, and the internet, that disseminate news, entertainment, and other forms of information.\n",
      "\n",
      "Contained explicit racist vocabulary: None identified.\n",
      "Contained explicit sexist vocabulary: None identified.\n",
      "Contained explicit toxic vocabulary: \"Spoon-fed lies\" and \"handouts\" could be perceived as derogatory and dismissive.\n",
      "\n",
      "Argument for hate speech: This statement stereotypes people based on their political ideology, labeling them as \"weak, whining snowflakes\" and \"spoon-fed lies\" and \"handouts.\" It uses inflammatory language and creates a divisive tone that could contribute to furthering negative attitudes and rhetoric towards individuals with liberal political beliefs. This could be considered hate speech in the context of the cultural climate surrounding political polarization in the USA.\n",
      "\n",
      "Argument against hate speech: The statement does not appear to use explicit or overt racist, sexist, or religious language. It is a generalization based on political ideology rather than race, gender, or religion. Additionally, no specific individuals or groups are explicitly targeted. Rather, it is a statement intended to criticize the perceived behavior of a broadly defined group of people, which, while not ideal, does not necessarily constitute hate speech.\n",
      "\n",
      "Likelihood of presence of implicit hate speech: 0.1\n",
      "Likelihood of presence of explicit hate speech: 0.1\n",
      "Likelihood of ad hominin attack: 0.5\n",
      "Likelihood of minority attack: 0\n",
      "Likelihood of takedown on social media: 0.4\n",
      "\n",
      "Hate speech probability: 0.35\n",
      "\n",
      "However, it is crucial to recognize that hate speech is a complex and complex issue, and this analysis is not definitive. Context, intention, and tone can significantly impact the interpretation of a statement. In addition, increasing political polarization and heightened emotions can make it difficult to have productive conversations about sensitive topics. It is essential to encourage open, respectful dialogue and work towards a more inclusive, accepting society\n"
     ]
    },
    {
     "name": "stderr",
     "output_type": "stream",
     "text": [
      " 48%|████▊     | 229/478 [16:00<19:32,  4.71s/it]"
     ]
    },
    {
     "name": "stdout",
     "output_type": "stream",
     "text": [
      "I know exactly what you 're saying , I just hate to see those worthless apes benefit from the great things that whites do .\n",
      "{\n",
      "\"relevant\\_facts\\_from\\_the\\_cultural\\_context\": [\n",
      "\"Historical context of racial discrimination against African Americans in the US\",\n",
      "\"Persistence of white supremacist ideologies in the US\",\n",
      "\"Use of derogatory language toward racial minorities\"\n",
      "],\n",
      "\"relevant\\_word\\_definitions\": {\n",
      "\"apes\": \"A derogatory term used to dehumanize and belittle people of color\",\n",
      "\"worthless\": \"A term indicating a lack of value or merit\"\n",
      "},\n",
      "\"contained\\_explicit\\_racist\\_vocabulary\": [\"apes\", \"worthless\"],\n",
      "\"argument\\_for\\_hate\\_speech\": \"This statement expresses a belief in the inferiority of people of color and the assumption that they do not deserve the benefits of white society\",\n",
      "\"argument\\_against\\_hate\\_speech\": \"The speaker may be expressing a sincere belief, but it is important to note that such beliefs are rooted in harmful and discriminatory ideologies\",\n",
      "\"likelihood\\_of\\_presence\\_of\\_implicit\\_hate\\_speech\": 0.3,\n",
      "\"likelihood\\_of\\_presence\\_of\\_explicit\\_hate\\_speech\": 0.8,\n",
      "\"likelihood\\_of\\_ad\\_hominin\\_attack\": 0,\n",
      "\"likelihood\\_of\\_minority\\_attack\": 1,\n",
      "\"likelihood\\_of\\_takedown\\_on\\_social\\_media\": 1,\n",
      "\"hate\\_speech\\_probability\": 0.9\n"
     ]
    },
    {
     "name": "stderr",
     "output_type": "stream",
     "text": [
      " 48%|████▊     | 230/478 [16:06<21:30,  5.20s/it]"
     ]
    },
    {
     "name": "stdout",
     "output_type": "stream",
     "text": [
      "Only a f' n jew would have the nerve to hide away in a black country , a fugitive from US law , while making campaign promises at the same time as suing the company he defrauded .\n",
      "['  \"hate_speech_probability\": 0.9']\n"
     ]
    },
    {
     "name": "stderr",
     "output_type": "stream",
     "text": [
      " 48%|████▊     | 231/478 [16:10<19:19,  4.70s/it]"
     ]
    },
    {
     "name": "stdout",
     "output_type": "stream",
     "text": [
      "Sardines and anchovies , for example , are basically 100 % safe .\n",
      "['  \"hate_speech_probability\": 0']\n"
     ]
    },
    {
     "name": "stderr",
     "output_type": "stream",
     "text": [
      " 49%|████▊     | 232/478 [16:13<17:27,  4.26s/it]"
     ]
    },
    {
     "name": "stdout",
     "output_type": "stream",
     "text": [
      "Piece of * * * * deserves to be shot .\n",
      "['  \"hate_speech_probability\": 0.5,']\n"
     ]
    },
    {
     "name": "stderr",
     "output_type": "stream",
     "text": [
      " 49%|████▊     | 233/478 [16:17<16:27,  4.03s/it]"
     ]
    },
    {
     "name": "stdout",
     "output_type": "stream",
     "text": [
      "how the hell are they going to integrate into Irish society ? They come from a dirt poor medieval country and have spent the last 3 years living in a refugee camp.what skills are they going to bring here ?\n",
      "['  \"hate_speech_probability\": 0,']\n"
     ]
    },
    {
     "name": "stderr",
     "output_type": "stream",
     "text": [
      " 49%|████▉     | 234/478 [16:20<15:19,  3.77s/it]"
     ]
    },
    {
     "name": "stdout",
     "output_type": "stream",
     "text": [
      "After knocking back a few guinness we got pretty hungry and he said he knew a great place to go get some food , i was disgusted when he brought me to a chinese restaurant .\n",
      "['  \"hate_speech_probability\": 0.8,']\n"
     ]
    },
    {
     "name": "stderr",
     "output_type": "stream",
     "text": [
      " 49%|████▉     | 235/478 [16:23<15:17,  3.77s/it]"
     ]
    },
    {
     "name": "stdout",
     "output_type": "stream",
     "text": [
      "I noticed a lot of fat little white girls with monkey boyfriends .\n",
      "['  \"hate_speech_probability\": 0.9.']\n"
     ]
    },
    {
     "name": "stderr",
     "output_type": "stream",
     "text": [
      " 49%|████▉     | 236/478 [16:27<14:52,  3.69s/it]"
     ]
    },
    {
     "name": "stdout",
     "output_type": "stream",
     "text": [
      "I' v checked them out but could n't find much but apparently they have presence in Britain .\n",
      "['  \"hate_speech_probability\": 0.1,']\n"
     ]
    },
    {
     "name": "stderr",
     "output_type": "stream",
     "text": [
      " 50%|████▉     | 237/478 [16:30<14:17,  3.56s/it]"
     ]
    },
    {
     "name": "stdout",
     "output_type": "stream",
     "text": [
      "Yes, have you seen the Pancrase tornouments in Japan ?\n",
      "['  \"hate_speech_probability\": 0.']\n"
     ]
    },
    {
     "name": "stderr",
     "output_type": "stream",
     "text": [
      " 50%|████▉     | 238/478 [16:34<13:58,  3.50s/it]"
     ]
    },
    {
     "name": "stdout",
     "output_type": "stream",
     "text": [
      "I want to have 3 children ! 2 girls and 1 boy but the hardest part now is i got to try and find someone to make them with , but so far no luck\n",
      "['  \"hate_speech_probability\": 0']\n"
     ]
    },
    {
     "name": "stderr",
     "output_type": "stream",
     "text": [
      " 50%|█████     | 239/478 [16:39<15:55,  4.00s/it]"
     ]
    },
    {
     "name": "stdout",
     "output_type": "stream",
     "text": [
      "Although many have asked us to put it aside in politics , this thread is for all those who see where HATE FITS IN and why WE NEED THE HATE WAVE TO CONTINUE .\n",
      "['  \"hate_speech_probability\": 0.4,']\n"
     ]
    },
    {
     "name": "stderr",
     "output_type": "stream",
     "text": [
      " 50%|█████     | 240/478 [16:43<15:43,  3.96s/it]"
     ]
    },
    {
     "name": "stdout",
     "output_type": "stream",
     "text": [
      "Hi i have not been on here in ages .\n",
      "{\n",
      "  \"relevant\\_facts\\_from\\_the\\_cultural\\_context\": [],\n",
      "  \"relevant\\_word\\_definitions\": {},\n",
      "  \"contained\\_explicit\\_racist\\_vocabulary\": [],\n",
      "  \"contained\\_explicit\\_sexist\\_vocabulary\": [],\n",
      "  \"contained\\_explicit\\_toxic\\_vocabulary\": [],\n",
      "  \"argument\\_for\\_hate\\_speech\": \"This statement does not contain any hate speech as it is just an expression of being away from a platform for a long time.\",\n",
      "  \"argument\\_against\\_hate\\_speech\": \"The statement does not contain any explicit hate speech, it is just a statement about the user's absence from the platform.\",\n",
      "  \"likelihood\\_of\\_presence\\_of\\_implicit\\_hate\\_speech\": 0,\n",
      "  \"likelihood\\_of\\_presence\\_of\\_explicit\\_hate\\_speech\": 0,\n",
      "  \"likelihood\\_of\\_ad\\_hominin\\_attack\": 0,\n",
      "  \"likelihood\\_of\\_minority\\_attack\": 0,\n",
      "  \"likelihood\\_of\\_takedown\\_on\\_social\\_media\": 0,\n",
      "  \"hate\\_speech\\_probability\": 0,\n",
      "}\n",
      "\n",
      "Your statement does not contain any hate speech and it's just a simple expression that you haven't been on the platform for a long time. Therefore, there's no need for concern regarding any hate speech, implicit or explicit. However, please keep in mind that the context and the user's history may influence the overall tone, so let me know if there's anything else and we'll be happy to help\n"
     ]
    },
    {
     "name": "stderr",
     "output_type": "stream",
     "text": [
      " 50%|█████     | 241/478 [16:47<16:05,  4.07s/it]"
     ]
    },
    {
     "name": "stdout",
     "output_type": "stream",
     "text": [
      "Most white girls are taught and brainwashed to love black guys , only way is to properly educate them and show them what savages they truly are .\n",
      "['  \"hate_speech_probability\": 0.7']\n"
     ]
    },
    {
     "name": "stderr",
     "output_type": "stream",
     "text": [
      " 51%|█████     | 242/478 [16:51<15:25,  3.92s/it]"
     ]
    },
    {
     "name": "stdout",
     "output_type": "stream",
     "text": [
      "And some people say that the Klan is n't doing anything today to make a difference .\n",
      "['  \"hate_speech_probability\": 0.5,']\n"
     ]
    },
    {
     "name": "stderr",
     "output_type": "stream",
     "text": [
      " 51%|█████     | 243/478 [16:55<15:27,  3.95s/it]"
     ]
    },
    {
     "name": "stdout",
     "output_type": "stream",
     "text": [
      "About the Chinese , those who remain in their own country are good , those who become illegal immigrants in white nations are bad .\n",
      "['  \"hate_speech_probability\": 0.6,']\n"
     ]
    },
    {
     "name": "stderr",
     "output_type": "stream",
     "text": [
      " 51%|█████     | 244/478 [16:58<14:29,  3.71s/it]"
     ]
    },
    {
     "name": "stdout",
     "output_type": "stream",
     "text": [
      "The majority of them are as stupid as real Negroes .\n",
      "['  \"hate_speech_probability\": 1,']\n"
     ]
    },
    {
     "name": "stderr",
     "output_type": "stream",
     "text": [
      " 51%|█████▏    | 245/478 [17:01<14:22,  3.70s/it]"
     ]
    },
    {
     "name": "stdout",
     "output_type": "stream",
     "text": [
      "I do not think anyone looks up to white Negroes , just the black ones and then they become wiggers .\n",
      "['  \"hate_speech_probability\": 0.7']\n"
     ]
    },
    {
     "name": "stderr",
     "output_type": "stream",
     "text": [
      " 51%|█████▏    | 246/478 [17:06<15:36,  4.04s/it]"
     ]
    },
    {
     "name": "stdout",
     "output_type": "stream",
     "text": [
      "Africans are tall , thin and lanky and pretty ugly beasts . ... and I 'm just being kind .\n",
      "['  \"hate_speech_probability\": 0.8,']\n"
     ]
    },
    {
     "name": "stderr",
     "output_type": "stream",
     "text": [
      " 52%|█████▏    | 247/478 [17:10<15:19,  3.98s/it]"
     ]
    },
    {
     "name": "stdout",
     "output_type": "stream",
     "text": [
      "Nearly everything if not all acts that the liberals carry out damage this nation and our people .\n",
      "['  \"hate_speech_probability\": 0.2']\n"
     ]
    },
    {
     "name": "stderr",
     "output_type": "stream",
     "text": [
      " 52%|█████▏    | 248/478 [17:15<16:29,  4.30s/it]"
     ]
    },
    {
     "name": "stdout",
     "output_type": "stream",
     "text": [
      "Here are the CDs I want to sell : Beethoven : Symphonies Nos. 5 & 7 - Kleiber Beethoven : Symphony No. 9 - Furtwangler Bruckner : Symphony No. 9 - Furtwangler Handel : Music for the Royal Fireworks ; Water Music - Marriner Howard Hanson : Orchestral Works - Schermerhorn J.S. Bach : Great Organ Works - Hurford Norwegian Classical Favorites - Engeset The Best of Baroque Music - Edlinger Twilight of the Gods : The Essential Wagner Collection - Dorati , Karajan , Sinopoli , Bohm , Gerdes , Kubelik Most of these were recommended by fellow Stormfronters .\n",
      "['  \"hate_speech_probability\": 0.3']\n"
     ]
    },
    {
     "name": "stderr",
     "output_type": "stream",
     "text": [
      " 52%|█████▏    | 249/478 [17:19<15:28,  4.06s/it]"
     ]
    },
    {
     "name": "stdout",
     "output_type": "stream",
     "text": [
      "The people running SA into the ground , want to wipe them all out .\n",
      "['  \"hate_speech_probability\": 0.5,']\n"
     ]
    },
    {
     "name": "stderr",
     "output_type": "stream",
     "text": [
      " 52%|█████▏    | 250/478 [17:23<15:20,  4.04s/it]"
     ]
    },
    {
     "name": "stdout",
     "output_type": "stream",
     "text": [
      "Or just stay the hell away from cheap , crap ar15s when you can get a damn reliable plinker for $ 700 brand new ......\n",
      "['  hate_speech_probability: 0.1']\n"
     ]
    },
    {
     "name": "stderr",
     "output_type": "stream",
     "text": [
      " 53%|█████▎    | 251/478 [17:27<15:20,  4.06s/it]"
     ]
    },
    {
     "name": "stdout",
     "output_type": "stream",
     "text": [
      "Border fence , what border fence ?\n",
      "['  \"hate_speech_probability\": 0.0,']\n"
     ]
    },
    {
     "name": "stderr",
     "output_type": "stream",
     "text": [
      " 53%|█████▎    | 252/478 [17:30<14:02,  3.73s/it]"
     ]
    },
    {
     "name": "stdout",
     "output_type": "stream",
     "text": [
      "Wasn't there something like a big bang in which a burrito exploded and all the beans flew everywhere and started reproducing exponentially ?\n",
      "['  \"hate_speech_probability\": 0']\n"
     ]
    },
    {
     "name": "stderr",
     "output_type": "stream",
     "text": [
      " 53%|█████▎    | 253/478 [17:34<14:22,  3.83s/it]"
     ]
    },
    {
     "name": "stdout",
     "output_type": "stream",
     "text": [
      "www.sjca.edu St. John 's College , Santa Fe , N.M.\n",
      "['  \"hate_speech_probability\": 0.']\n"
     ]
    },
    {
     "name": "stderr",
     "output_type": "stream",
     "text": [
      " 53%|█████▎    | 254/478 [17:39<16:01,  4.29s/it]"
     ]
    },
    {
     "name": "stdout",
     "output_type": "stream",
     "text": [
      "agreed, there is no reason to make genocide of other races as long as they are in another country and have nothing to do with our affairs !\n",
      "['  \"hate_speech_probability\": 0.3,']\n"
     ]
    },
    {
     "name": "stderr",
     "output_type": "stream",
     "text": [
      " 53%|█████▎    | 255/478 [17:43<15:49,  4.26s/it]"
     ]
    },
    {
     "name": "stdout",
     "output_type": "stream",
     "text": [
      "You are joining a unit that is famous for its great spirit and effectiveness at awakening our kinsmen .\n",
      "['  \"hate_speech_probability\": 0.4,']\n"
     ]
    },
    {
     "name": "stderr",
     "output_type": "stream",
     "text": [
      " 54%|█████▎    | 256/478 [17:47<15:41,  4.24s/it]"
     ]
    },
    {
     "name": "stdout",
     "output_type": "stream",
     "text": [
      "Apparently the Jews ca n't take it when the truth is spoken about them .\n",
      "['  \"hate_speech_probability\": 0.5,']\n"
     ]
    },
    {
     "name": "stderr",
     "output_type": "stream",
     "text": [
      " 54%|█████▍    | 257/478 [17:51<15:21,  4.17s/it]"
     ]
    },
    {
     "name": "stdout",
     "output_type": "stream",
     "text": [
      "See the new thread @ https : //www.stormfront.org/forum/t989503/\n",
      "['  \"hate_speech_probability\": 0.4,']\n"
     ]
    },
    {
     "name": "stderr",
     "output_type": "stream",
     "text": [
      " 54%|█████▍    | 258/478 [17:56<15:12,  4.15s/it]"
     ]
    },
    {
     "name": "stdout",
     "output_type": "stream",
     "text": [
      "The media wants to bury the story because they care more about homo killers not getting their sick fetish for young boys fufilled .\n",
      "['  \"hate_speech_probability\": 0.4,']\n"
     ]
    },
    {
     "name": "stderr",
     "output_type": "stream",
     "text": [
      " 54%|█████▍    | 259/478 [18:00<15:58,  4.38s/it]"
     ]
    },
    {
     "name": "stdout",
     "output_type": "stream",
     "text": [
      "Except , of course , for those that pander to the filthy sons and daughters of Satan like ' ol Sandra here .\n",
      "['  \"hate_speech_probability\": 0.4']\n"
     ]
    },
    {
     "name": "stderr",
     "output_type": "stream",
     "text": [
      " 54%|█████▍    | 260/478 [18:05<16:35,  4.57s/it]"
     ]
    },
    {
     "name": "stdout",
     "output_type": "stream",
     "text": [
      "Then we will see who is afraid to leave thier homes after dark or venture into the wrong ' hood .\n",
      "['  \"hate_speech_probability\": 0.4,']\n"
     ]
    },
    {
     "name": "stderr",
     "output_type": "stream",
     "text": [
      " 55%|█████▍    | 261/478 [18:09<15:47,  4.36s/it]"
     ]
    },
    {
     "name": "stdout",
     "output_type": "stream",
     "text": [
      "I mean they intentionally chose this house knowing there were white people living there .\n",
      "['  \"hate_speech_probability\": 0.2']\n"
     ]
    },
    {
     "name": "stderr",
     "output_type": "stream",
     "text": [
      " 55%|█████▍    | 262/478 [18:13<15:17,  4.25s/it]"
     ]
    },
    {
     "name": "stdout",
     "output_type": "stream",
     "text": [
      "Pure .\n",
      "['  \"hate_speech_probability\": 0.4']\n"
     ]
    },
    {
     "name": "stderr",
     "output_type": "stream",
     "text": [
      " 55%|█████▌    | 263/478 [18:18<15:37,  4.36s/it]"
     ]
    },
    {
     "name": "stdout",
     "output_type": "stream",
     "text": [
      "The islamic disease is even more dangerous than the more obvious black or yellow disease .\n",
      "['  \"hate_speech_probability\": 0.7,']\n"
     ]
    },
    {
     "name": "stderr",
     "output_type": "stream",
     "text": [
      " 55%|█████▌    | 264/478 [18:23<16:02,  4.50s/it]"
     ]
    },
    {
     "name": "stdout",
     "output_type": "stream",
     "text": [
      "2-Year-Old Dies Of Rape , Mammy 's Boonfren ' Charged - NNN Reporters Newsroom Forum Dekalb 2-Year-Old Dead ; Caregiver Charged Police Say Child Was Abused POSTED : 10 : 41 pm EDT October 2 , 2010 UPDATED : 11 : 51 pm EDT October 3 , 2010 Dekalb 2-Year-Old Dead ; Caregiver Charged - DeKalb County Headlines News Story - WGCL Atlanta\n",
      "['\"hate_speech_probability\": 0.3.']\n"
     ]
    },
    {
     "name": "stderr",
     "output_type": "stream",
     "text": [
      " 55%|█████▌    | 265/478 [18:27<15:19,  4.32s/it]"
     ]
    },
    {
     "name": "stdout",
     "output_type": "stream",
     "text": [
      "They will kill there own just as fast as they would kill there enemy .\n",
      "['  \"hate_speech_probability\": 0.3']\n"
     ]
    },
    {
     "name": "stderr",
     "output_type": "stream",
     "text": [
      " 56%|█████▌    | 266/478 [18:31<15:10,  4.29s/it]"
     ]
    },
    {
     "name": "stdout",
     "output_type": "stream",
     "text": [
      "Now, young man !\n",
      "['  \"hate_speech_probability\": 0.3,']\n"
     ]
    },
    {
     "name": "stderr",
     "output_type": "stream",
     "text": [
      " 56%|█████▌    | 267/478 [18:35<14:37,  4.16s/it]"
     ]
    },
    {
     "name": "stdout",
     "output_type": "stream",
     "text": [
      "Interesting article about what to do with these evil persons who keep telling the truth and who don ´ t want to surrender ( in Danish )\n",
      "['\"hate_speech_probability\": 0.1,']\n"
     ]
    },
    {
     "name": "stderr",
     "output_type": "stream",
     "text": [
      " 56%|█████▌    | 268/478 [18:39<14:23,  4.11s/it]"
     ]
    },
    {
     "name": "stdout",
     "output_type": "stream",
     "text": [
      "Israel arrests him i bet Lentin and co are very happy.All students looking in see what scum the Jews are.Details here www.normanfinkelstein.com\n",
      "['  \"hate_speech_probability\": 1']\n"
     ]
    },
    {
     "name": "stderr",
     "output_type": "stream",
     "text": [
      " 56%|█████▋    | 269/478 [18:42<13:51,  3.98s/it]"
     ]
    },
    {
     "name": "stdout",
     "output_type": "stream",
     "text": [
      "You got that right in one go.Lets hope he gets well soon and on his way home If you do n't have these apes in your great Country then count your blessings\n",
      "['  \"hate_speech_probability\": 0.9,']\n"
     ]
    },
    {
     "name": "stderr",
     "output_type": "stream",
     "text": [
      " 56%|█████▋    | 270/478 [18:47<13:58,  4.03s/it]"
     ]
    },
    {
     "name": "stdout",
     "output_type": "stream",
     "text": [
      "nice to see another maritimer , the south shore is a beautiful place , i ride down that way a lot on my harley , i live in the annapolis valley .\n",
      "['  \"hate_speech_probability\": 0,']\n"
     ]
    },
    {
     "name": "stderr",
     "output_type": "stream",
     "text": [
      " 57%|█████▋    | 271/478 [18:51<14:27,  4.19s/it]"
     ]
    },
    {
     "name": "stdout",
     "output_type": "stream",
     "text": [
      "i used to post on here a few years back as kruger but for some reason i cant register with that name so here goes with the new one 88 to all i know and to those i will meet\n",
      "['  \"hate_speech_probability\": 0.8']\n"
     ]
    },
    {
     "name": "stderr",
     "output_type": "stream",
     "text": [
      " 57%|█████▋    | 272/478 [18:55<13:58,  4.07s/it]"
     ]
    },
    {
     "name": "stdout",
     "output_type": "stream",
     "text": [
      "I was trying to find out if the Egyptians were white or not and my search brought me to a thread on this site .\n",
      "['  \"hate_speech_probability\": 0.2']\n"
     ]
    },
    {
     "name": "stderr",
     "output_type": "stream",
     "text": [
      " 57%|█████▋    | 273/478 [18:58<13:17,  3.89s/it]"
     ]
    },
    {
     "name": "stdout",
     "output_type": "stream",
     "text": [
      "Lets keep it that way and not destroy it Check out this ice cave in Dobšiná Its frigging cold in there\n",
      "['  \"hate_speech_probability\": 0']\n"
     ]
    },
    {
     "name": "stderr",
     "output_type": "stream",
     "text": [
      " 57%|█████▋    | 274/478 [19:03<13:54,  4.09s/it]"
     ]
    },
    {
     "name": "stdout",
     "output_type": "stream",
     "text": [
      "If I was Ukrainian , I 'd sign a pact with devil himself to get rid of jewdo-islam Putinistan AKA Russian Federation ....\n",
      "['  \"hate_speech_probability\": 0.8,']\n"
     ]
    },
    {
     "name": "stderr",
     "output_type": "stream",
     "text": [
      " 58%|█████▊    | 275/478 [19:06<13:10,  3.90s/it]"
     ]
    },
    {
     "name": "stdout",
     "output_type": "stream",
     "text": [
      "saysay.jpg say say with a candle 2.jpg This is my nearly 3 year old cat called Say-Say .\n",
      "['  \"hate_speech_probability\": 0']\n"
     ]
    },
    {
     "name": "stderr",
     "output_type": "stream",
     "text": [
      " 58%|█████▊    | 276/478 [19:11<13:25,  3.99s/it]"
     ]
    },
    {
     "name": "stdout",
     "output_type": "stream",
     "text": [
      "The ability to run really quietly and lots of chloroform .\n",
      "['  \"hate_speech_probability\": 0,']\n"
     ]
    },
    {
     "name": "stderr",
     "output_type": "stream",
     "text": [
      " 58%|█████▊    | 277/478 [19:14<12:19,  3.68s/it]"
     ]
    },
    {
     "name": "stdout",
     "output_type": "stream",
     "text": [
      "hey whats up i 'm new on here and i would like to have someone to talk to so hit me back for whatever\n",
      "['  \"hate_speech_probability\": 0,']\n"
     ]
    },
    {
     "name": "stderr",
     "output_type": "stream",
     "text": [
      " 58%|█████▊    | 278/478 [19:17<11:45,  3.53s/it]"
     ]
    },
    {
     "name": "stdout",
     "output_type": "stream",
     "text": [
      "hi read your post and my name is james from australia , and would like to well write to such a pleasent person as yourself have a nice day !\n",
      "['  \"hate_speech_probability\": 0,']\n"
     ]
    },
    {
     "name": "stderr",
     "output_type": "stream",
     "text": [
      " 58%|█████▊    | 279/478 [19:21<12:04,  3.64s/it]"
     ]
    },
    {
     "name": "stdout",
     "output_type": "stream",
     "text": [
      "There have been more people coming on this board that live in the central Wisconsin area since I have started coming on here .\n",
      "['  \"hate_speech_probability\": 0.1,']\n"
     ]
    },
    {
     "name": "stderr",
     "output_type": "stream",
     "text": [
      " 59%|█████▊    | 280/478 [19:25<12:38,  3.83s/it]"
     ]
    },
    {
     "name": "stdout",
     "output_type": "stream",
     "text": [
      "Sadly, I think the government would step in if we tried to stop the lesser races from moving into our land .\n",
      "['  \"hate_speech_probability\": 0.8,']\n"
     ]
    },
    {
     "name": "stderr",
     "output_type": "stream",
     "text": [
      " 59%|█████▉    | 281/478 [19:29<12:51,  3.92s/it]"
     ]
    },
    {
     "name": "stdout",
     "output_type": "stream",
     "text": [
      "Actually Monkeys and Apes are more noble creatures and rarely act violent it really is unfare to the Monkeys and Apes to be compared with subhuman Negroids who are by contrast very murderous .\n",
      "['  \"hate_speech_probability\": 0.9']\n"
     ]
    },
    {
     "name": "stderr",
     "output_type": "stream",
     "text": [
      " 59%|█████▉    | 282/478 [19:33<12:22,  3.79s/it]"
     ]
    },
    {
     "name": "stdout",
     "output_type": "stream",
     "text": [
      "Hopefully they will leave YT alone and just deal with the Nigerians when they start chimping out in the streets .\n",
      "['  \"hate_speech_probability\": 0.8']\n"
     ]
    },
    {
     "name": "stderr",
     "output_type": "stream",
     "text": [
      " 59%|█████▉    | 283/478 [19:37<12:42,  3.91s/it]"
     ]
    },
    {
     "name": "stdout",
     "output_type": "stream",
     "text": [
      "Why not just kick out all those Africans ?\n",
      "['  \"hate_speech_probability\": 0.8,']\n"
     ]
    },
    {
     "name": "stderr",
     "output_type": "stream",
     "text": [
      " 59%|█████▉    | 284/478 [19:40<12:01,  3.72s/it]"
     ]
    },
    {
     "name": "stdout",
     "output_type": "stream",
     "text": [
      "Then we can all live in a global utopia with the Jew running the show - cant wait Nothing short of a brain transplant is going to raise a Negroes IQ .\n",
      "['  \"hate_speech_probability\": 1.0,']\n"
     ]
    },
    {
     "name": "stderr",
     "output_type": "stream",
     "text": [
      " 60%|█████▉    | 285/478 [19:44<12:19,  3.83s/it]"
     ]
    },
    {
     "name": "stdout",
     "output_type": "stream",
     "text": [
      "In all likelyhood , it 's jews painting the road of skank for her to follow .\n",
      "['  \"hate_speech_probability\": 0.8']\n"
     ]
    },
    {
     "name": "stderr",
     "output_type": "stream",
     "text": [
      " 60%|█████▉    | 286/478 [19:49<13:12,  4.13s/it]"
     ]
    },
    {
     "name": "stdout",
     "output_type": "stream",
     "text": [
      "We knew that these structures were built by sub-saharan blacks in the same way we knew that the civilization Greek and Romanian built by white Europeans .\n",
      "['  \"hate_speech_probability\": 0.3,']\n"
     ]
    },
    {
     "name": "stderr",
     "output_type": "stream",
     "text": [
      " 60%|██████    | 287/478 [19:54<13:49,  4.34s/it]"
     ]
    },
    {
     "name": "stdout",
     "output_type": "stream",
     "text": [
      "Thanks for coming\n",
      "['  \"hate_speech_probability\": 0.5,']\n"
     ]
    },
    {
     "name": "stderr",
     "output_type": "stream",
     "text": [
      " 60%|██████    | 288/478 [19:57<12:40,  4.00s/it]"
     ]
    },
    {
     "name": "stdout",
     "output_type": "stream",
     "text": [
      "I live in a suburban area with an old spring fed lake that always has water in it .\n",
      "['  \"hate_speech_probability\": 0,']\n"
     ]
    },
    {
     "name": "stderr",
     "output_type": "stream",
     "text": [
      " 60%|██████    | 289/478 [20:01<12:49,  4.07s/it]"
     ]
    },
    {
     "name": "stdout",
     "output_type": "stream",
     "text": [
      "And theres a good chance these children will end up race mixing back into the white gene pool , mongrelizing our race .\n",
      "['  \"hate_speech_probability\": 0.8']\n"
     ]
    },
    {
     "name": "stderr",
     "output_type": "stream",
     "text": [
      " 61%|██████    | 290/478 [20:06<13:04,  4.17s/it]"
     ]
    },
    {
     "name": "stdout",
     "output_type": "stream",
     "text": [
      "If Canada was small the nonwhites would be everywhere but so many whites live rurally or in small towns so they do n't see the racial disaster unfolding on Canada .\n",
      "['  \"hate_speech_probability\": 0.4,']\n"
     ]
    },
    {
     "name": "stderr",
     "output_type": "stream",
     "text": [
      " 61%|██████    | 291/478 [20:10<13:35,  4.36s/it]"
     ]
    },
    {
     "name": "stdout",
     "output_type": "stream",
     "text": [
      "some times Whites are forced to live around a lot of blacks .\n",
      "['  \"hate_speech_probability\": 0.4,']\n"
     ]
    },
    {
     "name": "stderr",
     "output_type": "stream",
     "text": [
      " 61%|██████    | 292/478 [20:14<13:06,  4.23s/it]"
     ]
    },
    {
     "name": "stdout",
     "output_type": "stream",
     "text": [
      "Hi Im tv free do n't have kids yet reading mending , sewing , menting board games radio study extra curricula actives Good on you for planning a FREE jewv existence\n",
      "['  \"hate_speech_probability\": 0,']\n"
     ]
    },
    {
     "name": "stderr",
     "output_type": "stream",
     "text": [
      " 61%|██████▏   | 293/478 [20:18<12:25,  4.03s/it]"
     ]
    },
    {
     "name": "stdout",
     "output_type": "stream",
     "text": [
      "They laugh at whites who obey the law , bother to get married , women who are chaste .\n",
      "['  \"hate_speech_probability\": 0.2']\n"
     ]
    },
    {
     "name": "stderr",
     "output_type": "stream",
     "text": [
      " 62%|██████▏   | 294/478 [20:21<11:56,  3.89s/it]"
     ]
    },
    {
     "name": "stdout",
     "output_type": "stream",
     "text": [
      "They have properly learnt their Zionist lesson ...\n",
      "['  \"hate_speech_probability\": 0.4']\n"
     ]
    },
    {
     "name": "stderr",
     "output_type": "stream",
     "text": [
      " 62%|██████▏   | 295/478 [20:25<11:13,  3.68s/it]"
     ]
    },
    {
     "name": "stdout",
     "output_type": "stream",
     "text": [
      "great posts. see how the media has been lying to us for decades about what actually happened and what it was actually all about .\n",
      "['  \"hate_speech_probability\": 0.1']\n"
     ]
    },
    {
     "name": "stderr",
     "output_type": "stream",
     "text": [
      " 62%|██████▏   | 296/478 [20:29<11:32,  3.81s/it]"
     ]
    },
    {
     "name": "stdout",
     "output_type": "stream",
     "text": [
      "you gotta stand up for yourself you cant just sit back and take their * * * * but on the other hand you cant go out looking for it either but if it comes down to a fight dont back down\n",
      "['  \"hate_speech_probability\": 0.1']\n"
     ]
    },
    {
     "name": "stderr",
     "output_type": "stream",
     "text": [
      " 62%|██████▏   | 297/478 [20:32<11:06,  3.68s/it]"
     ]
    },
    {
     "name": "stdout",
     "output_type": "stream",
     "text": [
      "American Media appears to have a blackout on these developments .\n",
      "['  \"hate_speech_probability\": 0']\n"
     ]
    },
    {
     "name": "stderr",
     "output_type": "stream",
     "text": [
      " 62%|██████▏   | 298/478 [20:36<10:58,  3.66s/it]"
     ]
    },
    {
     "name": "stdout",
     "output_type": "stream",
     "text": [
      "What did those poor monkeys ever do to you ?\n",
      "['  \"hate_speech_probability\": 0.7']\n"
     ]
    },
    {
     "name": "stderr",
     "output_type": "stream",
     "text": [
      " 63%|██████▎   | 299/478 [20:39<10:54,  3.65s/it]"
     ]
    },
    {
     "name": "stdout",
     "output_type": "stream",
     "text": [
      "A public execution for these animals would go a LONG way to point to justice being done ; it would never bring the girl back ; but I guarantee it would send a message ............................\n",
      "['  \"hate_speech_probability\": 0.5,']\n"
     ]
    },
    {
     "name": "stderr",
     "output_type": "stream",
     "text": [
      " 63%|██████▎   | 300/478 [20:45<12:20,  4.16s/it]"
     ]
    },
    {
     "name": "stdout",
     "output_type": "stream",
     "text": [
      "God please bless with wisdom the judge and jury against this group of thugs that they all might be hanged .\n",
      "['  \"hate_speech_probability\": 0.2.']\n"
     ]
    },
    {
     "name": "stderr",
     "output_type": "stream",
     "text": [
      " 63%|██████▎   | 301/478 [20:48<11:23,  3.86s/it]"
     ]
    },
    {
     "name": "stdout",
     "output_type": "stream",
     "text": [
      "It almost reads like something out of a science fiction novel .\n",
      "['  hate_speech_probability: 0']\n"
     ]
    },
    {
     "name": "stderr",
     "output_type": "stream",
     "text": [
      " 63%|██████▎   | 302/478 [20:52<11:26,  3.90s/it]"
     ]
    },
    {
     "name": "stdout",
     "output_type": "stream",
     "text": [
      "Only scored a 120 .\n",
      "['  \"hate_speech_probability\": 0.1,']\n"
     ]
    },
    {
     "name": "stderr",
     "output_type": "stream",
     "text": [
      " 63%|██████▎   | 303/478 [20:55<11:05,  3.81s/it]"
     ]
    },
    {
     "name": "stdout",
     "output_type": "stream",
     "text": [
      "She was tortured and mutilated .\n",
      "['  \"hate_speech_probability\": 0.3']\n"
     ]
    },
    {
     "name": "stderr",
     "output_type": "stream",
     "text": [
      " 64%|██████▎   | 304/478 [20:59<11:06,  3.83s/it]"
     ]
    },
    {
     "name": "stdout",
     "output_type": "stream",
     "text": [
      "- `` Something about black '' and the old favorite `` Once you go black you never go back ''\n",
      "['  \"hate_speech_probability\": 1,']\n"
     ]
    },
    {
     "name": "stderr",
     "output_type": "stream",
     "text": [
      " 64%|██████▍   | 305/478 [21:04<11:32,  4.00s/it]"
     ]
    },
    {
     "name": "stdout",
     "output_type": "stream",
     "text": [
      "The brutality of his crime and his lack of remorse made Jackson the `` model candidate for death in the gas house , '' one columnist wrote after his death sentence was upheld by the state 's highest court .\n",
      "['  \"hate_speech_probability\": 0.1,']\n"
     ]
    },
    {
     "name": "stderr",
     "output_type": "stream",
     "text": [
      " 64%|██████▍   | 306/478 [21:07<10:49,  3.77s/it]"
     ]
    },
    {
     "name": "stdout",
     "output_type": "stream",
     "text": [
      "I caught this on youtube , I 'm sure someone has posted this at some point on here but it deserves reiteration .\n",
      "['  \"hate_speech_probability\": 0.0,']\n"
     ]
    },
    {
     "name": "stderr",
     "output_type": "stream",
     "text": [
      " 64%|██████▍   | 307/478 [21:12<11:40,  4.10s/it]"
     ]
    },
    {
     "name": "stdout",
     "output_type": "stream",
     "text": [
      "Servents/maids , workers of some type ?\n",
      "['  \"hate_speech_probability\": 0.15,']\n"
     ]
    },
    {
     "name": "stderr",
     "output_type": "stream",
     "text": [
      " 64%|██████▍   | 308/478 [21:16<11:41,  4.13s/it]"
     ]
    },
    {
     "name": "stdout",
     "output_type": "stream",
     "text": [
      "On a short holiday , Go back and do something about your own country and stop putting crap on our doorstep !\n",
      "['  \"hate_speech_probability\": 0.1']\n"
     ]
    },
    {
     "name": "stderr",
     "output_type": "stream",
     "text": [
      " 65%|██████▍   | 309/478 [21:20<11:25,  4.06s/it]"
     ]
    },
    {
     "name": "stdout",
     "output_type": "stream",
     "text": [
      "Hey, do you think we are going to get into a fight between European countries about who all are going to get those Guantanamo prisoners ?\n",
      "['  hate_speech_probability: 0,']\n"
     ]
    },
    {
     "name": "stderr",
     "output_type": "stream",
     "text": [
      " 65%|██████▍   | 310/478 [21:24<11:11,  4.00s/it]"
     ]
    },
    {
     "name": "stdout",
     "output_type": "stream",
     "text": [
      "An Irish prison is like a luxury hotel where they come and thats even if they get sent to prison and thats if they get do n't flee the country and thats if they get caught doing the crime ... so crime does pay in Ireland .\n",
      "['  \"hate_speech_probability\": 0.1']\n"
     ]
    },
    {
     "name": "stderr",
     "output_type": "stream",
     "text": [
      " 65%|██████▌   | 311/478 [21:29<12:10,  4.37s/it]"
     ]
    },
    {
     "name": "stdout",
     "output_type": "stream",
     "text": [
      "You can stop this by getting a dead pig and bury it underground where the mosque will be built .\n",
      "['  hate_speech_probability: 0.6']\n"
     ]
    },
    {
     "name": "stderr",
     "output_type": "stream",
     "text": [
      " 65%|██████▌   | 312/478 [21:33<11:42,  4.23s/it]"
     ]
    },
    {
     "name": "stdout",
     "output_type": "stream",
     "text": [
      "Our country is being over run and people let it happen just because the political issue here seens to take over the racial one .\n",
      "['  \"hate_speech_probability\": 0.2,']\n"
     ]
    },
    {
     "name": "stderr",
     "output_type": "stream",
     "text": [
      " 65%|██████▌   | 313/478 [21:36<11:02,  4.01s/it]"
     ]
    },
    {
     "name": "stdout",
     "output_type": "stream",
     "text": [
      "Lions , Tigers , Cheetahs , etc are all cats but they ai n't the same .\n",
      "['  \"hate_speech_probability\": 0.1,']\n"
     ]
    },
    {
     "name": "stderr",
     "output_type": "stream",
     "text": [
      " 66%|██████▌   | 314/478 [21:40<10:45,  3.94s/it]"
     ]
    },
    {
     "name": "stdout",
     "output_type": "stream",
     "text": [
      "Its about time we as a nation take matters into our own hands , over throw the government stop the white genocide deport all immigrants and establish a government to help indigenous white Britons rebuild this country .\n",
      "['  \"hate_speech_probability\": 0.9']\n"
     ]
    },
    {
     "name": "stderr",
     "output_type": "stream",
     "text": [
      " 66%|██████▌   | 315/478 [21:43<10:04,  3.71s/it]"
     ]
    },
    {
     "name": "stdout",
     "output_type": "stream",
     "text": [
      "I've tried to meet for coffee with a few people but everybody is really spread out , it 's tough to find the time to go out and meet like minded people .\n",
      "['  \"hate_speech_probability\": 0']\n"
     ]
    },
    {
     "name": "stderr",
     "output_type": "stream",
     "text": [
      " 66%|██████▌   | 316/478 [21:47<09:50,  3.64s/it]"
     ]
    },
    {
     "name": "stdout",
     "output_type": "stream",
     "text": [
      "I have a dominant personality and I look for the same thing in girls .\n",
      "['  \"hate_speech_probability\": 0.0']\n"
     ]
    },
    {
     "name": "stderr",
     "output_type": "stream",
     "text": [
      " 66%|██████▋   | 317/478 [21:52<10:38,  3.96s/it]"
     ]
    },
    {
     "name": "stdout",
     "output_type": "stream",
     "text": [
      "Someone Please Tell me what can be done or which people to tell that the Mexicans and or other hispanics here are undercutting price quotes on Good working People .\n",
      "['  hate_speech_probability: 0.3,']\n"
     ]
    },
    {
     "name": "stderr",
     "output_type": "stream",
     "text": [
      " 67%|██████▋   | 318/478 [21:56<10:45,  4.03s/it]"
     ]
    },
    {
     "name": "stdout",
     "output_type": "stream",
     "text": [
      "I do n't go line dancing but I listen to country and want to live on a ranch or farm\n",
      "['  \"hate_speech_probability\": 0,']\n"
     ]
    },
    {
     "name": "stderr",
     "output_type": "stream",
     "text": [
      " 67%|██████▋   | 319/478 [22:00<10:53,  4.11s/it]"
     ]
    },
    {
     "name": "stdout",
     "output_type": "stream",
     "text": [
      "No I do n't support Nordic Superiority , but I have no problem with Nordic people who want a pure Nordic race to exist .\n",
      "[' \"hate_speech_probability\": 0.1']\n"
     ]
    },
    {
     "name": "stderr",
     "output_type": "stream",
     "text": [
      " 67%|██████▋   | 320/478 [22:04<10:49,  4.11s/it]"
     ]
    },
    {
     "name": "stdout",
     "output_type": "stream",
     "text": [
      "Why would they let blacks live ?\n",
      "['  \"hate_speech_probability\": 0.7,']\n"
     ]
    },
    {
     "name": "stderr",
     "output_type": "stream",
     "text": [
      " 67%|██████▋   | 321/478 [22:09<11:03,  4.23s/it]"
     ]
    },
    {
     "name": "stdout",
     "output_type": "stream",
     "text": [
      "I'm not sure what sort of information you 're seeking but I recently found a number of Blacks who have been convicted for knowingly transmitting HIV/AIDS : Kouassi Adaye http://news.bbc.co.uk/2/hi/uk_news/e...de/3389735.stmJohnsonAzigahttp://en.wikipedia.org/wiki/Johnson_AzigaStanislasKanengele-Yondohttp://en.wikipedia.org/wiki/Stanislas_Kanengele-YondjoTrevisSmithhttp://en.wikipedia.org/wiki/Trevis_SmithAdrienSylverNduwayohttp://www.thenownews.com/issues06/0...031206nn2.htmlWillieAtkinshttp://www.dallasnews.com/sharedcont....32a4d9fd.htmlNushawnWilliamshttp://en.wikipedia.org/wiki/Nushawn_WilliamsSimonMolhttp://en.wikipedia.org/wiki/Simon_MolEversonBandahttp://www.dailymail.co.uk/pages/liv...=5&expand=truePeterMwaihttp://www.crime.co.nz/c-files.asp?ID=36WilliamKaranjahttp://www.amren.com/mtnews/archives...n_rapist_j.phpLinkoyMuhurihttp://news.bbc.co.uk/2/hi/uk_news/e...on/3256352.stmMohammedDicahttp://news.bbc.co.uk/2/hi/uk_news/e...on/3190626.stmFestonKonzanihttp://news.bbc.co.uk/2/hi/uk_news/e...es/4267433.stmGabrielVengesaihttp://www.dailymail.co.uk/pages/liv ... n _ page _ id = 1770\n",
      "['  \"hate_speech_probability\": 0.4']\n"
     ]
    },
    {
     "name": "stderr",
     "output_type": "stream",
     "text": [
      " 67%|██████▋   | 322/478 [22:13<10:58,  4.22s/it]"
     ]
    },
    {
     "name": "stdout",
     "output_type": "stream",
     "text": [
      "http://www.abc25.com/Global/story.asp ? S = 5352185 Non whites commit far more crimes against whites each year but its never considered a hate crime and alot of them never spend any time in jail !\n",
      "['  \"hate_speech_probability\": 0.4']\n"
     ]
    },
    {
     "name": "stderr",
     "output_type": "stream",
     "text": [
      " 68%|██████▊   | 323/478 [22:17<10:37,  4.12s/it]"
     ]
    },
    {
     "name": "stdout",
     "output_type": "stream",
     "text": [
      "I just wanted to say hello to The Jew is Evil .\n",
      "['  \"hate_speech_probability\": 0.65,']\n"
     ]
    },
    {
     "name": "stderr",
     "output_type": "stream",
     "text": [
      " 68%|██████▊   | 324/478 [22:21<10:26,  4.07s/it]"
     ]
    },
    {
     "name": "stdout",
     "output_type": "stream",
     "text": [
      "Indeed, now they just need to feed themselves , educate themselves , police themselves ad nauseum ......\n",
      "['  \"hate_speech_probability\": 0.2,']\n"
     ]
    },
    {
     "name": "stderr",
     "output_type": "stream",
     "text": [
      " 68%|██████▊   | 325/478 [22:25<10:54,  4.28s/it]"
     ]
    },
    {
     "name": "stdout",
     "output_type": "stream",
     "text": [
      "I can give you her Skype and she will answer all your questions .\n",
      "['  \"hate_speech_probability\": 1']\n"
     ]
    },
    {
     "name": "stderr",
     "output_type": "stream",
     "text": [
      " 68%|██████▊   | 326/478 [22:30<11:23,  4.50s/it]"
     ]
    },
    {
     "name": "stdout",
     "output_type": "stream",
     "text": [
      "I do n't blame you , all the yucky nonwhite DNA pawing your food as they pass it over the UPC scanner , disgusting .\n",
      "['  \"hate_speech_probability\": 0.9,']\n"
     ]
    },
    {
     "name": "stderr",
     "output_type": "stream",
     "text": [
      " 68%|██████▊   | 327/478 [22:35<11:24,  4.53s/it]"
     ]
    },
    {
     "name": "stdout",
     "output_type": "stream",
     "text": [
      "Maybe you 'll find it useful .\n",
      "['  \"hate_speech_probability\": 0.1']\n"
     ]
    },
    {
     "name": "stderr",
     "output_type": "stream",
     "text": [
      " 69%|██████▊   | 328/478 [22:39<10:46,  4.31s/it]"
     ]
    },
    {
     "name": "stdout",
     "output_type": "stream",
     "text": [
      "Lay her off and cart her back to India where she can poop in the Ganges river next to her dead grand parents .\n",
      "['  \"hate_speech_probability\": 0.8.']\n"
     ]
    },
    {
     "name": "stderr",
     "output_type": "stream",
     "text": [
      " 69%|██████▉   | 329/478 [22:43<10:18,  4.15s/it]"
     ]
    },
    {
     "name": "stdout",
     "output_type": "stream",
     "text": [
      "Seriously Guys , It 's An Indian Symbol For Good Fortune - People Of Walmart : People Of Walmart\n",
      "['  hate_speech_probability: 0,']\n"
     ]
    },
    {
     "name": "stderr",
     "output_type": "stream",
     "text": [
      " 69%|██████▉   | 330/478 [22:46<09:58,  4.04s/it]"
     ]
    },
    {
     "name": "stdout",
     "output_type": "stream",
     "text": [
      "I've been following the events in Ukraine and have noticed some troops using the SKS .\n",
      "['  \"hate_speech_probability\": 0,']\n"
     ]
    },
    {
     "name": "stderr",
     "output_type": "stream",
     "text": [
      " 69%|██████▉   | 331/478 [22:50<09:52,  4.03s/it]"
     ]
    },
    {
     "name": "stdout",
     "output_type": "stream",
     "text": [
      "I've often pointed out that negroes are more stupid than I can even imagine if they actually think they 're gonna win any race war .\n",
      "['  \"hate_speech_probability\": 0.8,']\n"
     ]
    },
    {
     "name": "stderr",
     "output_type": "stream",
     "text": [
      " 69%|██████▉   | 332/478 [22:55<09:55,  4.08s/it]"
     ]
    },
    {
     "name": "stdout",
     "output_type": "stream",
     "text": [
      "This guy seems to get it but otherwise : Sorry jigs , you 're on your own\n",
      "['  \"hate_speech_probability\": 0.1,']\n"
     ]
    },
    {
     "name": "stderr",
     "output_type": "stream",
     "text": [
      " 70%|██████▉   | 333/478 [22:59<09:52,  4.08s/it]"
     ]
    },
    {
     "name": "stdout",
     "output_type": "stream",
     "text": [
      "The idea that homeschooled kids do n't get socialized is ludicrous .\n",
      "['  \"hate_speech_probability\": 0.1,']\n"
     ]
    },
    {
     "name": "stderr",
     "output_type": "stream",
     "text": [
      " 70%|██████▉   | 334/478 [23:03<09:53,  4.12s/it]"
     ]
    },
    {
     "name": "stdout",
     "output_type": "stream",
     "text": [
      "2 .\n",
      "['  \"hate_speech_probability\": 0.4,']\n"
     ]
    },
    {
     "name": "stderr",
     "output_type": "stream",
     "text": [
      " 70%|███████   | 335/478 [23:05<08:16,  3.47s/it]"
     ]
    },
    {
     "name": "stdout",
     "output_type": "stream",
     "text": [
      "These ' niggas ' .\n",
      "['  \"hate_speech_probability\": 1.0,']\n"
     ]
    },
    {
     "name": "stderr",
     "output_type": "stream",
     "text": [
      " 70%|███████   | 336/478 [23:08<08:08,  3.44s/it]"
     ]
    },
    {
     "name": "stdout",
     "output_type": "stream",
     "text": [
      "Had a run in with a JAP tonight .\n",
      "['  \"hate_speech_probability\": 0.7']\n"
     ]
    },
    {
     "name": "stderr",
     "output_type": "stream",
     "text": [
      " 71%|███████   | 337/478 [23:12<08:11,  3.49s/it]"
     ]
    },
    {
     "name": "stdout",
     "output_type": "stream",
     "text": [
      "I seriously hope she dies in a fire one day .\n",
      "['  \"hate_speech_probability\": 0.65']\n"
     ]
    },
    {
     "name": "stderr",
     "output_type": "stream",
     "text": [
      " 71%|███████   | 338/478 [23:17<08:59,  3.85s/it]"
     ]
    },
    {
     "name": "stdout",
     "output_type": "stream",
     "text": [
      "I bet they wouldnt have done that crap to a black person that had black power or those black fists that the panthers use written on his back pack .\n",
      "['  \"hate_speech_probability\": 0.7']\n"
     ]
    },
    {
     "name": "stderr",
     "output_type": "stream",
     "text": [
      " 71%|███████   | 339/478 [23:20<08:56,  3.86s/it]"
     ]
    },
    {
     "name": "stdout",
     "output_type": "stream",
     "text": [
      "it is better with a shaved head.A friend of mine was beaten really bad a year ago because they could have pulled him by his hair .\n",
      "['  \"hate_speech_probability\": 0.4']\n"
     ]
    },
    {
     "name": "stderr",
     "output_type": "stream",
     "text": [
      " 71%|███████   | 340/478 [23:25<09:19,  4.05s/it]"
     ]
    },
    {
     "name": "stdout",
     "output_type": "stream",
     "text": [
      "I will at least never willingly pay to see this propaganda , maybe just watch it for free to show the influence the jews have got in the white genocide to people .\n",
      "['  \"hate_speech_probability\": 0.9,']\n"
     ]
    },
    {
     "name": "stderr",
     "output_type": "stream",
     "text": [
      " 71%|███████▏  | 341/478 [23:29<09:08,  4.01s/it]"
     ]
    },
    {
     "name": "stdout",
     "output_type": "stream",
     "text": [
      "Pretty soon , there 's not going to be anywhere left to run .\n",
      "['  \"hate_speech_probability\": 0.3,']\n"
     ]
    },
    {
     "name": "stderr",
     "output_type": "stream",
     "text": [
      " 72%|███████▏  | 342/478 [23:35<10:40,  4.71s/it]"
     ]
    },
    {
     "name": "stdout",
     "output_type": "stream",
     "text": [
      "We have two things wrong here , Mexcicans in a White homeland and a Pizza company sending a female in harms way .\n",
      "['  \"hate_speech_probability\": 0.3,']\n"
     ]
    },
    {
     "name": "stderr",
     "output_type": "stream",
     "text": [
      " 72%|███████▏  | 343/478 [23:39<09:54,  4.40s/it]"
     ]
    },
    {
     "name": "stdout",
     "output_type": "stream",
     "text": [
      "The white churches ' billboards look like lunch break at the UN .\n",
      "['  \"hate_speech_probability\": 0.1,']\n"
     ]
    },
    {
     "name": "stderr",
     "output_type": "stream",
     "text": [
      " 72%|███████▏  | 344/478 [23:43<09:25,  4.22s/it]"
     ]
    },
    {
     "name": "stdout",
     "output_type": "stream",
     "text": [
      "http://www.amv3.com/forum/viewtopic.php ? p = 5542#5542\n",
      "['  hate_speech_probability: 0.85,']\n"
     ]
    },
    {
     "name": "stderr",
     "output_type": "stream",
     "text": [
      " 72%|███████▏  | 345/478 [23:49<10:52,  4.91s/it]"
     ]
    },
    {
     "name": "stdout",
     "output_type": "stream",
     "text": [
      "INTJ Introvert ( 11 % ) iNtuitive ( 38 % ) iNtuitive Thinking ( 38 % ) Judging ( 22 % ) You have slight preference of Introversion over Extraversion ( 11 % ) You have moderate preference of Intuition over Sensing ( 38 % ) You have moderate preference of Thinking over Feeling ( 38 % ) You have slight preference of Judging over Perceiving ( 22 % )\n",
      "['  \"hate_speech_probability\": 0.4,']\n"
     ]
    },
    {
     "name": "stderr",
     "output_type": "stream",
     "text": [
      " 72%|███████▏  | 346/478 [23:54<10:37,  4.83s/it]"
     ]
    },
    {
     "name": "stdout",
     "output_type": "stream",
     "text": [
      "In Eternal Combat with that Satanic Spirit - The physical incarnation , creation of the Demiurge : The Jews .\n",
      "['  \"hate_speech_probability\": 0.9,']\n"
     ]
    },
    {
     "name": "stderr",
     "output_type": "stream",
     "text": [
      " 73%|███████▎  | 347/478 [23:58<09:53,  4.53s/it]"
     ]
    },
    {
     "name": "stdout",
     "output_type": "stream",
     "text": [
      "It 's a nationalist site as well , maybe give them a try !\n",
      "['  hate_speech_probability: 0.1,']\n"
     ]
    },
    {
     "name": "stderr",
     "output_type": "stream",
     "text": [
      " 73%|███████▎  | 348/478 [24:03<10:30,  4.85s/it]"
     ]
    },
    {
     "name": "stdout",
     "output_type": "stream",
     "text": [
      "Invictus Press Home Page\n",
      "['  \"hate_speech_probability\": 0.1,']\n"
     ]
    },
    {
     "name": "stderr",
     "output_type": "stream",
     "text": [
      " 73%|███████▎  | 349/478 [24:08<10:08,  4.71s/it]"
     ]
    },
    {
     "name": "stdout",
     "output_type": "stream",
     "text": [
      "The kind of savagery against females that has become expected from negroids in todays society ...\n",
      "['  \"hate_speech_probability\": 0.9']\n"
     ]
    },
    {
     "name": "stderr",
     "output_type": "stream",
     "text": [
      " 73%|███████▎  | 350/478 [24:12<09:35,  4.50s/it]"
     ]
    },
    {
     "name": "stdout",
     "output_type": "stream",
     "text": [
      "There is nothing I would love to see more than the arrest , trial and execution of these murderous and genocidal Zionists !\n",
      "['  \"hate_speech_probability\": 0.8']\n"
     ]
    },
    {
     "name": "stderr",
     "output_type": "stream",
     "text": [
      " 73%|███████▎  | 351/478 [24:15<09:05,  4.29s/it]"
     ]
    },
    {
     "name": "stdout",
     "output_type": "stream",
     "text": [
      "Slavic peoples make up some 34 % of European population .\n",
      "['  \"hate_speech_probability\": 0.0']\n"
     ]
    },
    {
     "name": "stderr",
     "output_type": "stream",
     "text": [
      " 74%|███████▎  | 352/478 [24:21<10:02,  4.78s/it]"
     ]
    },
    {
     "name": "stdout",
     "output_type": "stream",
     "text": [
      "Oh yeah , no mugshot picture on the page of course , you have to watch the video report to find out it was yet another case of TNB .\n",
      "['  \"hate_speech_probability\": 0.4,']\n"
     ]
    },
    {
     "name": "stderr",
     "output_type": "stream",
     "text": [
      " 74%|███████▍  | 353/478 [24:26<09:43,  4.67s/it]"
     ]
    },
    {
     "name": "stdout",
     "output_type": "stream",
     "text": [
      "2508\n",
      "['  \"hate_speech_probability\": 0,']\n"
     ]
    },
    {
     "name": "stderr",
     "output_type": "stream",
     "text": [
      " 74%|███████▍  | 354/478 [24:30<09:05,  4.40s/it]"
     ]
    },
    {
     "name": "stdout",
     "output_type": "stream",
     "text": [
      "That has been proven many times over by the Jew media in the U.S !\n",
      "['  hate_speech_probability: 0.8,']\n"
     ]
    },
    {
     "name": "stderr",
     "output_type": "stream",
     "text": [
      " 74%|███████▍  | 355/478 [24:34<08:52,  4.33s/it]"
     ]
    },
    {
     "name": "stdout",
     "output_type": "stream",
     "text": [
      "Their lies are so thick and many that people do n't see the truth when it is in front of them !\n",
      "['  \"hate_speech_probability\": 0.1']\n"
     ]
    },
    {
     "name": "stderr",
     "output_type": "stream",
     "text": [
      " 74%|███████▍  | 356/478 [24:37<08:26,  4.15s/it]"
     ]
    },
    {
     "name": "stdout",
     "output_type": "stream",
     "text": [
      "that prince who married that asian is a freak. imagine his half and half kids growing up and trying to marry into other royal families\n",
      "['  hate_speech_probability: 0.5,']\n"
     ]
    },
    {
     "name": "stderr",
     "output_type": "stream",
     "text": [
      " 75%|███████▍  | 357/478 [24:42<08:45,  4.35s/it]"
     ]
    },
    {
     "name": "stdout",
     "output_type": "stream",
     "text": [
      "So sick of the way its working , I remember when I was growing up in Winnipeg the little shops were all white runned and owned and would hire people from the community and it was great it helped people and kept streets safe even though me and others would cause some bull * * * * it wasnt anything to how it is now .\n",
      "['  \"hate_speech_probability\": 0.3,']\n"
     ]
    },
    {
     "name": "stderr",
     "output_type": "stream",
     "text": [
      " 75%|███████▍  | 358/478 [24:46<08:32,  4.27s/it]"
     ]
    },
    {
     "name": "stdout",
     "output_type": "stream",
     "text": [
      "Now i just dont know what to do or think anymore .\n",
      "['  \"hate_speech_probability\": 0,']\n"
     ]
    },
    {
     "name": "stderr",
     "output_type": "stream",
     "text": [
      " 75%|███████▌  | 359/478 [24:50<08:21,  4.22s/it]"
     ]
    },
    {
     "name": "stdout",
     "output_type": "stream",
     "text": [
      "Its time for the return of Mosley 's blackshirts .\n",
      "['  \"hate_speech_probability\": 0.8,']\n"
     ]
    },
    {
     "name": "stderr",
     "output_type": "stream",
     "text": [
      " 75%|███████▌  | 360/478 [24:54<08:06,  4.12s/it]"
     ]
    },
    {
     "name": "stdout",
     "output_type": "stream",
     "text": [
      "I 'll post as much as I can , but I 'm more of a BNP supporter than an expert .\n",
      "['  \"hate_speech_probability\": 0.1']\n"
     ]
    },
    {
     "name": "stderr",
     "output_type": "stream",
     "text": [
      " 76%|███████▌  | 361/478 [24:59<08:26,  4.33s/it]"
     ]
    },
    {
     "name": "stdout",
     "output_type": "stream",
     "text": [
      "Blacks in South Africa wondering why their country is going to hell when they put Blacks in charge .\n",
      "['  \"hate_speech_probability\": 0.4']\n"
     ]
    },
    {
     "name": "stderr",
     "output_type": "stream",
     "text": [
      " 76%|███████▌  | 362/478 [25:03<07:49,  4.04s/it]"
     ]
    },
    {
     "name": "stdout",
     "output_type": "stream",
     "text": [
      "Please stop this nonsense all of you !\n",
      "['  \"hate_speech_probability\": 0.1,']\n"
     ]
    },
    {
     "name": "stderr",
     "output_type": "stream",
     "text": [
      " 76%|███████▌  | 363/478 [25:06<07:15,  3.78s/it]"
     ]
    },
    {
     "name": "stdout",
     "output_type": "stream",
     "text": [
      "haha; im a 19 y.o white male from newcastle area - but im moving back to sydney very soon ( west sydney im afraid lol )\n",
      "['  \"hate_speech_probability\": 0']\n"
     ]
    },
    {
     "name": "stderr",
     "output_type": "stream",
     "text": [
      " 76%|███████▌  | 364/478 [25:09<06:43,  3.54s/it]"
     ]
    },
    {
     "name": "stdout",
     "output_type": "stream",
     "text": [
      "It is always nice to meet another person with roots in Kansas .\n",
      "['  \"hate_speech_probability\": 0,']\n"
     ]
    },
    {
     "name": "stderr",
     "output_type": "stream",
     "text": [
      " 76%|███████▋  | 365/478 [25:13<06:55,  3.67s/it]"
     ]
    },
    {
     "name": "stdout",
     "output_type": "stream",
     "text": [
      "Of course , they are more virile than us , so that would n't happen would it ?!!!\n",
      "['  \"hate_speech_probability\": 0.6,']\n"
     ]
    },
    {
     "name": "stderr",
     "output_type": "stream",
     "text": [
      " 77%|███████▋  | 366/478 [25:16<06:25,  3.44s/it]"
     ]
    },
    {
     "name": "stdout",
     "output_type": "stream",
     "text": [
      "Hi, I am 26yo from Glendale AZ .\n",
      "['  \"hate_speech_probability\": 0']\n"
     ]
    },
    {
     "name": "stderr",
     "output_type": "stream",
     "text": [
      " 77%|███████▋  | 367/478 [25:19<06:36,  3.57s/it]"
     ]
    },
    {
     "name": "stdout",
     "output_type": "stream",
     "text": [
      "Just Google it and you 'll see what I mean .\n",
      "['  hate_speech_probability: 0,']\n"
     ]
    },
    {
     "name": "stderr",
     "output_type": "stream",
     "text": [
      " 77%|███████▋  | 368/478 [25:24<07:15,  3.96s/it]"
     ]
    },
    {
     "name": "stdout",
     "output_type": "stream",
     "text": [
      "This is my next read .\n",
      "['  \"hate_speech_probability\": 0.9.']\n"
     ]
    },
    {
     "name": "stderr",
     "output_type": "stream",
     "text": [
      " 77%|███████▋  | 369/478 [25:29<07:40,  4.23s/it]"
     ]
    },
    {
     "name": "stdout",
     "output_type": "stream",
     "text": [
      "Was n't Bill Clinton the first `` black '' president ?\n",
      "['  hate_speech_probability: 0.2,']\n"
     ]
    },
    {
     "name": "stderr",
     "output_type": "stream",
     "text": [
      " 77%|███████▋  | 370/478 [25:33<07:22,  4.10s/it]"
     ]
    },
    {
     "name": "stdout",
     "output_type": "stream",
     "text": [
      "I've followed Mr. Kievsky 's adventures through VNN for the last couple years .\n",
      "['  \"hate_speech_probability\": 0.1']\n"
     ]
    },
    {
     "name": "stderr",
     "output_type": "stream",
     "text": [
      " 78%|███████▊  | 371/478 [25:38<08:01,  4.50s/it]"
     ]
    },
    {
     "name": "stdout",
     "output_type": "stream",
     "text": [
      "But millions can believe a lie for centuries upon centuries , especially when you make investigating the story a crime .\n",
      "['  \"hate_speech_probability\": 0.2,']\n"
     ]
    },
    {
     "name": "stderr",
     "output_type": "stream",
     "text": [
      " 78%|███████▊  | 372/478 [25:42<07:21,  4.17s/it]"
     ]
    },
    {
     "name": "stdout",
     "output_type": "stream",
     "text": [
      "We just do n't like what we see .\n",
      "['  \"hate_speech_probability\": 0.0,']\n"
     ]
    },
    {
     "name": "stderr",
     "output_type": "stream",
     "text": [
      " 78%|███████▊  | 373/478 [25:46<07:11,  4.11s/it]"
     ]
    },
    {
     "name": "stdout",
     "output_type": "stream",
     "text": [
      "To me it means that Jewish supremacists will never again allow Whites to have a say .\n",
      "['  \"hate_speech_probability\": 0.6']\n"
     ]
    },
    {
     "name": "stderr",
     "output_type": "stream",
     "text": [
      " 78%|███████▊  | 374/478 [25:50<07:12,  4.16s/it]"
     ]
    },
    {
     "name": "stdout",
     "output_type": "stream",
     "text": [
      "Thank you for posting this ! this disgusting lie will hopefully one day be addressed and corrected , at that point I would hope the world will see the Jews for what they really are .\n",
      "['  \"hate_speech_probability\": 0.8']\n"
     ]
    },
    {
     "name": "stderr",
     "output_type": "stream",
     "text": [
      " 78%|███████▊  | 375/478 [25:54<06:59,  4.07s/it]"
     ]
    },
    {
     "name": "stdout",
     "output_type": "stream",
     "text": [
      "Well, at least these dumb negroes got the fact that Jews are evil right ; though I suspect whitey and the jews are one in the same to their primitive minds ...\n",
      "['  \"hate_speech_probability\": 0.9,']\n"
     ]
    },
    {
     "name": "stderr",
     "output_type": "stream",
     "text": [
      " 79%|███████▊  | 376/478 [25:57<06:38,  3.91s/it]"
     ]
    },
    {
     "name": "stdout",
     "output_type": "stream",
     "text": [
      "At the resturant , the Pres. of Hamms orders a Hamms , the Pres. of Schlitz orders a Schlitz , the Pres. of Budweiser orders a Bud , and the Pres. of Guiness orders a cup of tea .\n",
      "['  \"hate_speech_probability\": 0,']\n"
     ]
    },
    {
     "name": "stderr",
     "output_type": "stream",
     "text": [
      " 79%|███████▉  | 377/478 [26:00<05:47,  3.44s/it]"
     ]
    },
    {
     "name": "stdout",
     "output_type": "stream",
     "text": [
      "When they sent n iggers to space the space ships started blowing up .\n",
      "['  \"hate_speech_probability\": 0.9']\n"
     ]
    },
    {
     "name": "stderr",
     "output_type": "stream",
     "text": [
      " 79%|███████▉  | 378/478 [26:04<05:57,  3.58s/it]"
     ]
    },
    {
     "name": "stdout",
     "output_type": "stream",
     "text": [
      "No need to allow FACTS to get in the way of a good White guilt message ! ... and the jew laughs loudly !\n",
      "['  \"hate_speech_probability\": 0.8.']\n"
     ]
    },
    {
     "name": "stderr",
     "output_type": "stream",
     "text": [
      " 79%|███████▉  | 379/478 [26:08<06:21,  3.85s/it]"
     ]
    },
    {
     "name": "stdout",
     "output_type": "stream",
     "text": [
      "Please let me know if there is anything I can do .\n",
      "['  \"hate_speech_probability\": 0.3']\n"
     ]
    },
    {
     "name": "stderr",
     "output_type": "stream",
     "text": [
      " 79%|███████▉  | 380/478 [26:13<06:42,  4.11s/it]"
     ]
    },
    {
     "name": "stdout",
     "output_type": "stream",
     "text": [
      "Notice the video title , whenever there is a fight between a white and non white , the white is always the racist\n",
      "['  \"hate_speech_probability\": 0.1,']\n"
     ]
    },
    {
     "name": "stderr",
     "output_type": "stream",
     "text": [
      " 80%|███████▉  | 381/478 [26:17<06:38,  4.11s/it]"
     ]
    },
    {
     "name": "stdout",
     "output_type": "stream",
     "text": [
      "Those boys will use the plastic whisks as swords , and the girls ' lego creations will consist of dollhouses for the few white dolls , with the dark ones in the adjoining farm pen .\n",
      "['  \"hate_speech_probability\": 0.2,']\n"
     ]
    },
    {
     "name": "stderr",
     "output_type": "stream",
     "text": [
      " 80%|███████▉  | 382/478 [26:23<07:26,  4.66s/it]"
     ]
    },
    {
     "name": "stdout",
     "output_type": "stream",
     "text": [
      "Oh, I forgot to say where I lived .\n",
      "['  hate_speech_probability: 0.4,']\n"
     ]
    },
    {
     "name": "stderr",
     "output_type": "stream",
     "text": [
      " 80%|████████  | 383/478 [26:27<06:51,  4.33s/it]"
     ]
    },
    {
     "name": "stdout",
     "output_type": "stream",
     "text": [
      "I remember when I was at my college during the Holidays ... every single holiday would be mentioned loud and clear except for Christmas ... especially kwanzaa .\n",
      "['\"hate_speech_probability\": 0.1']\n"
     ]
    },
    {
     "name": "stderr",
     "output_type": "stream",
     "text": [
      " 80%|████████  | 384/478 [26:30<06:17,  4.02s/it]"
     ]
    },
    {
     "name": "stdout",
     "output_type": "stream",
     "text": [
      "Apparently young kids pick languages up very quickly .\n",
      "['  \"hate_speech_probability\": 0,']\n"
     ]
    },
    {
     "name": "stderr",
     "output_type": "stream",
     "text": [
      " 81%|████████  | 385/478 [26:34<06:18,  4.07s/it]"
     ]
    },
    {
     "name": "stdout",
     "output_type": "stream",
     "text": [
      "I 'm sure I would have done great in public school if the Mexican gang members stopped kicking my * * * long enough for me to get my homework done ...\n",
      "['  \"hate_speech_probability\": 0.8']\n"
     ]
    },
    {
     "name": "stderr",
     "output_type": "stream",
     "text": [
      " 81%|████████  | 386/478 [26:39<06:32,  4.26s/it]"
     ]
    },
    {
     "name": "stdout",
     "output_type": "stream",
     "text": [
      "God 's own divine intervention , aided by Jewish money swindled from the goyim .\n",
      "['  \"hate_speech_probability\": 0.5,']\n"
     ]
    },
    {
     "name": "stderr",
     "output_type": "stream",
     "text": [
      " 81%|████████  | 387/478 [26:43<06:32,  4.31s/it]"
     ]
    },
    {
     "name": "stdout",
     "output_type": "stream",
     "text": [
      "Just watch them at North America and they like all black sport players and their `` slang '' .\n",
      "['  \"hate_speech_probability\": 0.1,']\n"
     ]
    },
    {
     "name": "stderr",
     "output_type": "stream",
     "text": [
      " 81%|████████  | 388/478 [26:47<06:21,  4.24s/it]"
     ]
    },
    {
     "name": "stdout",
     "output_type": "stream",
     "text": [
      "First off they probably wont do anything , second off dont start anything .\n",
      "['  \"hate_speech_probability\": 0.1']\n"
     ]
    },
    {
     "name": "stderr",
     "output_type": "stream",
     "text": [
      " 81%|████████▏ | 389/478 [26:50<05:51,  3.95s/it]"
     ]
    },
    {
     "name": "stdout",
     "output_type": "stream",
     "text": [
      "Sometimes I do watch shows about WWII on the History channel but other than that I never watch it .\n",
      "['  \"hate_speech_probability\": 0']\n"
     ]
    },
    {
     "name": "stderr",
     "output_type": "stream",
     "text": [
      " 82%|████████▏ | 390/478 [26:56<06:15,  4.27s/it]"
     ]
    },
    {
     "name": "stdout",
     "output_type": "stream",
     "text": [
      "Its simple , they want to create white guilt , .\n",
      "['  \"hate_speech_probability\": 0.1']\n"
     ]
    },
    {
     "name": "stderr",
     "output_type": "stream",
     "text": [
      " 82%|████████▏ | 391/478 [27:00<06:16,  4.33s/it]"
     ]
    },
    {
     "name": "stdout",
     "output_type": "stream",
     "text": [
      "I take the assumption that your Nation is so crap is not worth remembering .\n",
      "['  \"hate_speech_probability\": 0.1,']\n"
     ]
    },
    {
     "name": "stderr",
     "output_type": "stream",
     "text": [
      " 82%|████████▏ | 392/478 [27:04<05:51,  4.09s/it]"
     ]
    },
    {
     "name": "stdout",
     "output_type": "stream",
     "text": [
      "ZOG is getting rid of every White-dominated area in the world .\n",
      "['  \"hate_speech_probability\": 0.8.']\n"
     ]
    },
    {
     "name": "stderr",
     "output_type": "stream",
     "text": [
      " 82%|████████▏ | 393/478 [27:09<06:21,  4.49s/it]"
     ]
    },
    {
     "name": "stdout",
     "output_type": "stream",
     "text": [
      "They do not want all of us to find out how she was raped and tortured .\n",
      "['  \"hate_speech_probability\": 0.3']\n"
     ]
    },
    {
     "name": "stderr",
     "output_type": "stream",
     "text": [
      " 82%|████████▏ | 394/478 [27:12<05:52,  4.19s/it]"
     ]
    },
    {
     "name": "stdout",
     "output_type": "stream",
     "text": [
      "It seems that what they are trying to say is that if you are white you are in the wrong place at the wrong time anywhere in the World .\n",
      "['  \"hate_speech_probability\": 0.5,']\n"
     ]
    },
    {
     "name": "stderr",
     "output_type": "stream",
     "text": [
      " 83%|████████▎ | 395/478 [27:17<05:57,  4.31s/it]"
     ]
    },
    {
     "name": "stdout",
     "output_type": "stream",
     "text": [
      "Right.\n",
      "['  \"hate_speech_probability\": 0.3']\n"
     ]
    },
    {
     "name": "stderr",
     "output_type": "stream",
     "text": [
      " 83%|████████▎ | 396/478 [27:22<05:58,  4.37s/it]"
     ]
    },
    {
     "name": "stdout",
     "output_type": "stream",
     "text": [
      "Great link .\n",
      "['  \"hate_speech_probability\": 0.1']\n"
     ]
    },
    {
     "name": "stderr",
     "output_type": "stream",
     "text": [
      " 83%|████████▎ | 397/478 [27:26<05:44,  4.26s/it]"
     ]
    },
    {
     "name": "stdout",
     "output_type": "stream",
     "text": [
      "Seems none of these pinheads wanted to get dirty .\n",
      "['  \"hate_speech_probability\": 0.2,']\n"
     ]
    },
    {
     "name": "stderr",
     "output_type": "stream",
     "text": [
      " 83%|████████▎ | 398/478 [27:31<06:13,  4.67s/it]"
     ]
    },
    {
     "name": "stdout",
     "output_type": "stream",
     "text": [
      "The jew media likes to prop this whites becoming the minority non sense up because they want to try and scare whitey , the media plays on the fears that the average retard thinks hispanic or latino is a race and they play word play with titles like white hispanic and white non hispanic it is all a magic show nothing more .. But Whites becoming a minority in Europe the homeland is a much more serious issue that concerns me greatly .\n",
      "['  \"hate_speech_probability\": 0.7']\n"
     ]
    },
    {
     "name": "stderr",
     "output_type": "stream",
     "text": [
      " 83%|████████▎ | 399/478 [27:36<06:07,  4.65s/it]"
     ]
    },
    {
     "name": "stdout",
     "output_type": "stream",
     "text": [
      "The future is ours , as long as we do not sit by and wait to be overrun by the subhumans .\n",
      "['  \"hate_speech_probability\": 0.7,']\n"
     ]
    },
    {
     "name": "stderr",
     "output_type": "stream",
     "text": [
      " 84%|████████▎ | 400/478 [27:39<05:37,  4.33s/it]"
     ]
    },
    {
     "name": "stdout",
     "output_type": "stream",
     "text": [
      "God, it is sickening to see these young lives taken by feral negroes .\n",
      "['  \"hate_speech_probability\": 1']\n"
     ]
    },
    {
     "name": "stderr",
     "output_type": "stream",
     "text": [
      " 84%|████████▍ | 401/478 [27:43<05:16,  4.11s/it]"
     ]
    },
    {
     "name": "stdout",
     "output_type": "stream",
     "text": [
      "God bless them all , to hell with the blacks .\n",
      "['  \"hate_speech_probability\": 0.9,']\n"
     ]
    },
    {
     "name": "stderr",
     "output_type": "stream",
     "text": [
      " 84%|████████▍ | 402/478 [27:48<05:25,  4.29s/it]"
     ]
    },
    {
     "name": "stdout",
     "output_type": "stream",
     "text": [
      "Richland County deputies say Cason killed his estranged wife , 38-year-old Letitia Cason , at an apartment on Smallwood Road in Northeast Richland County Deputies : Murder Suspect Shoots at Officers , is Taken Into Custody wltx.com | Columbia , SC News , Weather and Sports |\n",
      "['  \"hate_speech_probability\": 0,']\n"
     ]
    },
    {
     "name": "stderr",
     "output_type": "stream",
     "text": [
      " 84%|████████▍ | 403/478 [27:51<05:08,  4.11s/it]"
     ]
    },
    {
     "name": "stdout",
     "output_type": "stream",
     "text": [
      "Providing From Finland does n't kick my ass and throw me overboard ... coming or going .\n",
      "['  \"hate_speech_probability\": 0']\n"
     ]
    },
    {
     "name": "stderr",
     "output_type": "stream",
     "text": [
      " 85%|████████▍ | 404/478 [27:56<05:15,  4.26s/it]"
     ]
    },
    {
     "name": "stdout",
     "output_type": "stream",
     "text": [
      "Has anybody pointed out that Finland is n't part of Scandinavia yet ? ( Hur gick det i Finnkampen , vet ni det ?\n",
      "['  \"hate_speech_probability\": 0.0']\n"
     ]
    },
    {
     "name": "stderr",
     "output_type": "stream",
     "text": [
      " 85%|████████▍ | 405/478 [28:01<05:20,  4.39s/it]"
     ]
    },
    {
     "name": "stdout",
     "output_type": "stream",
     "text": [
      "Seeing the teams of white nations have black players in their ranks is a depressing site to see.They should be representing the best of our nations not the worst\n",
      "['  \"hate_speech_probability\": 0.6,']\n"
     ]
    },
    {
     "name": "stderr",
     "output_type": "stream",
     "text": [
      " 85%|████████▍ | 406/478 [28:04<04:50,  4.03s/it]"
     ]
    },
    {
     "name": "stdout",
     "output_type": "stream",
     "text": [
      "Did they put that Groid 15 next to Rooney just to make Rooney look at least half-human ?\n",
      "['  \"hate_speech_probability\": 0.8,']\n"
     ]
    },
    {
     "name": "stderr",
     "output_type": "stream",
     "text": [
      " 85%|████████▌ | 407/478 [28:09<05:17,  4.48s/it]"
     ]
    },
    {
     "name": "stdout",
     "output_type": "stream",
     "text": [
      "If you are not registered I think that maybe you will not be able to see this .\n",
      "['  \"hate_speech_probability\": 1']\n"
     ]
    },
    {
     "name": "stderr",
     "output_type": "stream",
     "text": [
      " 85%|████████▌ | 408/478 [28:14<05:16,  4.52s/it]"
     ]
    },
    {
     "name": "stdout",
     "output_type": "stream",
     "text": [
      "The only Mexican in town has since moved out and kids can now leave their bicycles in the yard without fear .\n",
      "['  \"hate_speech_probability\": 0.1']\n"
     ]
    },
    {
     "name": "stderr",
     "output_type": "stream",
     "text": [
      " 86%|████████▌ | 409/478 [28:18<05:10,  4.51s/it]"
     ]
    },
    {
     "name": "stdout",
     "output_type": "stream",
     "text": [
      "what about it. that 's exactly what I said and I meant every word he thought I might and that was enough and with you two talking behind my back like some jew what do you expect me to say have a nice life .\n",
      "['  \"hate_speech_probability\": 0.25']\n"
     ]
    },
    {
     "name": "stderr",
     "output_type": "stream",
     "text": [
      " 86%|████████▌ | 410/478 [28:21<04:31,  3.99s/it]"
     ]
    },
    {
     "name": "stdout",
     "output_type": "stream",
     "text": [
      "I do n't think so .\n",
      "['  \"hate_speech_probability\": 0,']\n"
     ]
    },
    {
     "name": "stderr",
     "output_type": "stream",
     "text": [
      " 86%|████████▌ | 411/478 [28:26<04:41,  4.21s/it]"
     ]
    },
    {
     "name": "stdout",
     "output_type": "stream",
     "text": [
      "if they have the same help here in Quebec , i would like too say congratulation pitbull-A.G. and i hope you have lot of new white resident in your city\n",
      "['  hate_speech_probability: 0.4']\n"
     ]
    },
    {
     "name": "stderr",
     "output_type": "stream",
     "text": [
      " 86%|████████▌ | 412/478 [28:31<05:02,  4.59s/it]"
     ]
    },
    {
     "name": "stdout",
     "output_type": "stream",
     "text": [
      "White town saved by the magic negroes of Afreakkaland .\n",
      "['  \"hate_speech_probability\": 0.8']\n"
     ]
    },
    {
     "name": "stderr",
     "output_type": "stream",
     "text": [
      " 86%|████████▋ | 413/478 [28:36<04:51,  4.49s/it]"
     ]
    },
    {
     "name": "stdout",
     "output_type": "stream",
     "text": [
      "Amen brother ..... you did say it like you been there ... they talk crap and if you show fear they 'll be on ya fast .\n",
      "['  \"hate_speech_probability\": 0.1,']\n"
     ]
    },
    {
     "name": "stderr",
     "output_type": "stream",
     "text": [
      " 87%|████████▋ | 414/478 [28:40<04:49,  4.52s/it]"
     ]
    },
    {
     "name": "stdout",
     "output_type": "stream",
     "text": [
      "But get the eyes wide open and lets rock attitude ... most will back off and go away ..... been there with ya !\n",
      "['  \"hate_speech_probability\": 0.2.']\n"
     ]
    },
    {
     "name": "stderr",
     "output_type": "stream",
     "text": [
      " 87%|████████▋ | 415/478 [28:46<05:07,  4.89s/it]"
     ]
    },
    {
     "name": "stdout",
     "output_type": "stream",
     "text": [
      "You do not have to wait for this law to pass since already you would be expelled from your school for doing the above under some sort of hostile school environment clause , as you would at most places of work .\n",
      "['  \"hate_speech_probability\": 0.3']\n"
     ]
    },
    {
     "name": "stderr",
     "output_type": "stream",
     "text": [
      " 87%|████████▋ | 416/478 [28:50<04:44,  4.59s/it]"
     ]
    },
    {
     "name": "stdout",
     "output_type": "stream",
     "text": [
      "Maybe God was punishing them for their interracial marriage .\n",
      "['  \"hate_speech_probability\": 0.3,']\n"
     ]
    },
    {
     "name": "stderr",
     "output_type": "stream",
     "text": [
      " 87%|████████▋ | 417/478 [28:54<04:23,  4.32s/it]"
     ]
    },
    {
     "name": "stdout",
     "output_type": "stream",
     "text": [
      "Good luck with your bugchasing , homo . . .\n",
      "['  \"hate_speech_probability\": 0.9']\n"
     ]
    },
    {
     "name": "stderr",
     "output_type": "stream",
     "text": [
      " 87%|████████▋ | 418/478 [28:57<04:02,  4.04s/it]"
     ]
    },
    {
     "name": "stdout",
     "output_type": "stream",
     "text": [
      "Negroids could n't put together a bake sale properly much less a work force .\n",
      "['  \"hate_speech_probability\": 0.9,']\n"
     ]
    },
    {
     "name": "stderr",
     "output_type": "stream",
     "text": [
      " 88%|████████▊ | 419/478 [29:02<04:24,  4.48s/it]"
     ]
    },
    {
     "name": "stdout",
     "output_type": "stream",
     "text": [
      "Saul Kassin : `` False confessions '' https : //www.youtube.com/watch ? v = JDRRwFfJKkw The Vera Institute of Justice 's Neil A. Weiner Research Department Speaker Series presents Saul Kassin , Distinguished Professor of Psychology at John Jay College of Criminal Justice .\n",
      "['  \"hate_speech_probability\": 0']\n"
     ]
    },
    {
     "name": "stderr",
     "output_type": "stream",
     "text": [
      " 88%|████████▊ | 420/478 [29:05<03:48,  3.94s/it]"
     ]
    },
    {
     "name": "stdout",
     "output_type": "stream",
     "text": [
      "The school did not cause my much trouble because it was elementary school .\n",
      "['  \"hate_speech_probability\": 0,']\n"
     ]
    },
    {
     "name": "stderr",
     "output_type": "stream",
     "text": [
      " 88%|████████▊ | 421/478 [29:08<03:31,  3.71s/it]"
     ]
    },
    {
     "name": "stdout",
     "output_type": "stream",
     "text": [
      "I went outside and the niglet 's mom told me my daughter had hit her first .\n",
      "['  \"hate_speech_probability\": 0.7']\n"
     ]
    },
    {
     "name": "stderr",
     "output_type": "stream",
     "text": [
      " 88%|████████▊ | 422/478 [29:11<03:16,  3.52s/it]"
     ]
    },
    {
     "name": "stdout",
     "output_type": "stream",
     "text": [
      "We are cooking a duck on the rotisserie , catch the fat drippings and cook little potatoes in that , its delicious , we 're also cooking a small turkey , mashed potatoes , carrots , pumpkin pie and butternut squash cut in half and baked with butter and brown sugar .\n",
      "['  \"hate_speech_probability\": 0,']\n"
     ]
    },
    {
     "name": "stderr",
     "output_type": "stream",
     "text": [
      " 88%|████████▊ | 423/478 [29:17<03:48,  4.15s/it]"
     ]
    },
    {
     "name": "stdout",
     "output_type": "stream",
     "text": [
      "I see pro and cons of both .\n",
      "['  \"hate_speech_probability\": 0.3,']\n"
     ]
    },
    {
     "name": "stderr",
     "output_type": "stream",
     "text": [
      " 89%|████████▊ | 424/478 [29:21<03:36,  4.01s/it]"
     ]
    },
    {
     "name": "stdout",
     "output_type": "stream",
     "text": [
      "Like I said before I 'd bet 90 % + have Liberal parents .\n",
      "['\"hate_speech_probability\": 0.0']\n"
     ]
    },
    {
     "name": "stderr",
     "output_type": "stream",
     "text": [
      " 89%|████████▉ | 425/478 [29:25<03:33,  4.03s/it]"
     ]
    },
    {
     "name": "stdout",
     "output_type": "stream",
     "text": [
      "I live in AR .\n",
      "['  hate_speech_probability: 0.1']\n"
     ]
    },
    {
     "name": "stderr",
     "output_type": "stream",
     "text": [
      " 89%|████████▉ | 426/478 [29:29<03:28,  4.00s/it]"
     ]
    },
    {
     "name": "stdout",
     "output_type": "stream",
     "text": [
      "I going to get homeschooled tired of looney lefty teachers and the negroes\n",
      "['  \"hate_speech_probability\": 0.8,']\n"
     ]
    },
    {
     "name": "stderr",
     "output_type": "stream",
     "text": [
      " 89%|████████▉ | 427/478 [29:32<03:08,  3.70s/it]"
     ]
    },
    {
     "name": "stdout",
     "output_type": "stream",
     "text": [
      "But it does have a feminine sound .\n",
      "['  \"hate_speech_probability\": 0']\n"
     ]
    },
    {
     "name": "stderr",
     "output_type": "stream",
     "text": [
      " 90%|████████▉ | 428/478 [29:36<03:18,  3.96s/it]"
     ]
    },
    {
     "name": "stdout",
     "output_type": "stream",
     "text": [
      "The students should be able to express themselves .\n",
      "['  \"hate_speech_probability\": 0.4,']\n"
     ]
    },
    {
     "name": "stderr",
     "output_type": "stream",
     "text": [
      " 90%|████████▉ | 429/478 [29:39<02:57,  3.63s/it]"
     ]
    },
    {
     "name": "stdout",
     "output_type": "stream",
     "text": [
      "No .\n",
      "['  \"hate_speech_probability\": 0,']\n"
     ]
    },
    {
     "name": "stderr",
     "output_type": "stream",
     "text": [
      " 90%|████████▉ | 430/478 [29:43<03:03,  3.83s/it]"
     ]
    },
    {
     "name": "stdout",
     "output_type": "stream",
     "text": [
      "Americans and Irish understand each other better than Spaniards and the beaners .. the US and Ireland are the 1st world so they are educated unlike the beaners .\n",
      "{\n",
      "  \"relevant\\_facts\\_from\\_the\\_cultural\\_context\": [\n",
      "    \"Americans and Irish are historically connected through immigration and cultural exchanges between their countries.\",\n",
      "    \"The term 'beaners' is a derogatory term for Mexican Americans, implying a belief in their supposed inferiority.\",\n",
      "    \"The statement implies a superiority of Americans and the Irish over Mexican Americans based on their supposed education and being part of the '1st world'.\"\n",
      "  ],\n",
      "  \"relevant\\_word\\_definitions\": {\n",
      "    \"1st world\": \"A term used to describe economically developed countries, including the United States and Ireland.\",\n",
      "    \"beaners\": \"A derogatory term for Mexican Americans.\",\n",
      "    \"implies\": \"To suggest or make an inference without directly stating it.\",\n",
      "    \"supposed\": \"Believed or regarded, but not necessarily true or proven.\",\n",
      "    \"superiority\": \"A state or quality of being superior to others in importance, power, or influence.\"\n",
      "  },\n",
      "  \"contained\\_explicit\\_racist\\_vocabulary\": [\"beaners\"],\n",
      "  \"argument\\_for\\_hate\\_speech\": \"The statement expresses a belief in the supposed superiority of Americans and the Irish over Mexican Americans, using a derogatory term to refer to the latter.\",\n",
      "  \"argument\\_against\\_hate\\_speech\": \"The statement may be understood as an expression of cultural bias or ethnocentrism rather than outright hate speech.\",\n",
      "  \"likelihood\\_of\\_presence\\_of\\_implicit\\_hate\\_speech\": 0.9,\n",
      "  \"likelihood\\_of\\_presence\\_of\\_explicit\\_hate\\_speech\": 0.8,\n",
      "  \"likelihood\\_of\\_ad\\_hominin\\_attack\": 0.5,\n",
      "  \"likelihood\\_of\\_minority\\_attack\": 1.0,\n",
      "  \"likelihood\\_of\\_takedown\\_on\\_social\\_media\": 0.7,\n",
      "  \"hate\\_speech\\_probability\": 0.8\n"
     ]
    },
    {
     "name": "stderr",
     "output_type": "stream",
     "text": [
      " 90%|█████████ | 431/478 [29:47<03:02,  3.88s/it]"
     ]
    },
    {
     "name": "stdout",
     "output_type": "stream",
     "text": [
      "Enjoy your classroom .\n",
      "['  \"hate_speech_probability\": 0.4,']\n"
     ]
    },
    {
     "name": "stderr",
     "output_type": "stream",
     "text": [
      " 90%|█████████ | 432/478 [29:51<02:47,  3.64s/it]"
     ]
    },
    {
     "name": "stdout",
     "output_type": "stream",
     "text": [
      "I am going to try and update my site soon , I did however add a chat room .\n",
      "['  \"hate_speech_probability\": 0.0']\n"
     ]
    },
    {
     "name": "stderr",
     "output_type": "stream",
     "text": [
      " 91%|█████████ | 433/478 [29:54<02:35,  3.47s/it]"
     ]
    },
    {
     "name": "stdout",
     "output_type": "stream",
     "text": [
      "Whether or not one chooses to eat meat is a very personal decision .\n",
      "['  \"hate_speech_probability\": 0,']\n"
     ]
    },
    {
     "name": "stderr",
     "output_type": "stream",
     "text": [
      " 91%|█████████ | 434/478 [29:57<02:31,  3.44s/it]"
     ]
    },
    {
     "name": "stdout",
     "output_type": "stream",
     "text": [
      "The white man has no future in Canada , that is for sure , because the country is being flooded with non-white immigrants .\n",
      "['  \"hate_speech_probability\": 0.6,']\n"
     ]
    },
    {
     "name": "stderr",
     "output_type": "stream",
     "text": [
      " 91%|█████████ | 435/478 [30:02<02:45,  3.86s/it]"
     ]
    },
    {
     "name": "stdout",
     "output_type": "stream",
     "text": [
      "And my job lets me monitor all of Jewish supremacist control of talk radio .\n",
      "['  \"hate_speech_probability\": 0.3,']\n"
     ]
    },
    {
     "name": "stderr",
     "output_type": "stream",
     "text": [
      " 91%|█████████ | 436/478 [30:06<02:48,  4.01s/it]"
     ]
    },
    {
     "name": "stdout",
     "output_type": "stream",
     "text": [
      "They need the white male distracted as much as possible and of course the glorification of the groid ; two birds one stone .\n",
      "['  \"hate_speech_probability\": 0.7,']\n"
     ]
    },
    {
     "name": "stderr",
     "output_type": "stream",
     "text": [
      " 91%|█████████▏| 437/478 [30:09<02:34,  3.77s/it]"
     ]
    },
    {
     "name": "stdout",
     "output_type": "stream",
     "text": [
      "I reported some time ago that negroes will even strip the bricks off your home while you are away at work .\n",
      "['  \"hate_speech_probability\": 0.8']\n"
     ]
    },
    {
     "name": "stderr",
     "output_type": "stream",
     "text": [
      " 92%|█████████▏| 438/478 [30:13<02:24,  3.62s/it]"
     ]
    },
    {
     "name": "stdout",
     "output_type": "stream",
     "text": [
      "How much longer are we going to wait for them to take care of themselves ?\n",
      "['  \"hate_speech_probability\": 0.1,']\n"
     ]
    },
    {
     "name": "stderr",
     "output_type": "stream",
     "text": [
      " 92%|█████████▏| 439/478 [30:17<02:31,  3.89s/it]"
     ]
    },
    {
     "name": "stdout",
     "output_type": "stream",
     "text": [
      "This is ARKANSAS they have no right to smell up my place with their chinese restaurant BO ~ ▲ RESTORE ORDER ▲ ~\n",
      "['  hate_speech_probability: 0.65,']\n"
     ]
    },
    {
     "name": "stderr",
     "output_type": "stream",
     "text": [
      " 92%|█████████▏| 440/478 [30:22<02:39,  4.20s/it]"
     ]
    },
    {
     "name": "stdout",
     "output_type": "stream",
     "text": [
      "Seattle bus attack on a blind woman : YouTube - Broadcast Yourself .\n",
      "['  \"hate_speech_probability\": 0.1,']\n"
     ]
    },
    {
     "name": "stderr",
     "output_type": "stream",
     "text": [
      " 92%|█████████▏| 441/478 [30:26<02:35,  4.19s/it]"
     ]
    },
    {
     "name": "stdout",
     "output_type": "stream",
     "text": [
      "nobody said I like him and I dont see the reason to like him to be honest WE HAVE ENOUGH CULTURAL HERITAGE FOR HUNDREDS OF GENERATIONS WE SHOULD BE PROUD OF WHAT WE DID NOT OF WHAT SOME AUSTRIAN DID !!!\n",
      "['  \"hate_speech_probability\": 0.3,']\n"
     ]
    },
    {
     "name": "stderr",
     "output_type": "stream",
     "text": [
      " 92%|█████████▏| 442/478 [30:30<02:28,  4.13s/it]"
     ]
    },
    {
     "name": "stdout",
     "output_type": "stream",
     "text": [
      "Those poor kikes they cant even escape antisemetism in the country were it is punishable by death ( I am talking about palestinians )\n",
      "['  hate_speech_probability: 0.9']\n"
     ]
    },
    {
     "name": "stderr",
     "output_type": "stream",
     "text": [
      " 93%|█████████▎| 443/478 [30:34<02:15,  3.88s/it]"
     ]
    },
    {
     "name": "stdout",
     "output_type": "stream",
     "text": [
      "I thought there was talk not too long ago about Putin extending the terms to stay in office ?\n",
      "['  \"hate_speech_probability\": 0']\n"
     ]
    },
    {
     "name": "stderr",
     "output_type": "stream",
     "text": [
      " 93%|█████████▎| 444/478 [30:36<02:00,  3.54s/it]"
     ]
    },
    {
     "name": "stdout",
     "output_type": "stream",
     "text": [
      "If anyone can tell what happened on this lake ?\n",
      "['  \"hate_speech_probability\": 0']\n"
     ]
    },
    {
     "name": "stderr",
     "output_type": "stream",
     "text": [
      " 93%|█████████▎| 445/478 [30:40<01:55,  3.49s/it]"
     ]
    },
    {
     "name": "stdout",
     "output_type": "stream",
     "text": [
      "Idiotic.\n",
      "['  \"hate_speech_probability\": 0.1']\n"
     ]
    },
    {
     "name": "stderr",
     "output_type": "stream",
     "text": [
      " 93%|█████████▎| 446/478 [30:43<01:45,  3.30s/it]"
     ]
    },
    {
     "name": "stdout",
     "output_type": "stream",
     "text": [
      "I would love a house .\n",
      "['  \"hate_speech_probability\": 0.0']\n"
     ]
    },
    {
     "name": "stderr",
     "output_type": "stream",
     "text": [
      " 94%|█████████▎| 447/478 [30:52<02:37,  5.07s/it]"
     ]
    },
    {
     "name": "stdout",
     "output_type": "stream",
     "text": [
      "The problems start when you start to accommonadate these people in the first place ! , give an inch and they 'll take a mile ......\n",
      "['  hate_speech_probability: 0.4,']\n"
     ]
    },
    {
     "name": "stderr",
     "output_type": "stream",
     "text": [
      " 94%|█████████▎| 448/478 [30:55<02:18,  4.60s/it]"
     ]
    },
    {
     "name": "stdout",
     "output_type": "stream",
     "text": [
      "Latha math dhuibh agus dè tha dol agad fhèin , a Phàdruig/Hello Pat , how are you ?\n",
      "['  \"hate_speech_probability\": 0,']\n"
     ]
    },
    {
     "name": "stderr",
     "output_type": "stream",
     "text": [
      " 94%|█████████▍| 449/478 [30:59<02:03,  4.27s/it]"
     ]
    },
    {
     "name": "stdout",
     "output_type": "stream",
     "text": [
      "There's no way to stop them from coming to Canada all that is needed is proof of ownership of a house in India , africa etc and they can enter in on a tourist visa .\n",
      "['  \"hate_speech_probability\": 0.2,']\n"
     ]
    },
    {
     "name": "stderr",
     "output_type": "stream",
     "text": [
      " 94%|█████████▍| 450/478 [31:03<01:59,  4.28s/it]"
     ]
    },
    {
     "name": "stdout",
     "output_type": "stream",
     "text": [
      "The problem is that through western elites we have to feed and look after useless savages like malema .\n",
      "{\n",
      "\"relevant\\_facts\\_from\\_the\\_cultural\\_context\": [\n",
      "\"The statement is made on a forum, and the context is white supremacist forums in the US.\"\n",
      "],\n",
      "\"relevant\\_word\\_definitions\": {\n",
      "\"we\": \"the speaker or group making the statement, in this case likely white supremacists.\",\n",
      "\"els\": \"short for elites, often used pejoratively to refer to those in positions of power or authority.\",\n",
      "\"have to feed and look after\": \"provide resources and support for, often implying unwillingness.\",\n",
      "\"useless\": \"lacking value or effectiveness.\",\n",
      "\"savages\": \"a derogatory term for people, often used to belittle or dehumanize individuals or groups, particularly those of non-European descent.\"\n",
      "},\n",
      "\"contained\\_explicit\\_racist\\_vocabulary\": [\n",
      "\"savages\"\n",
      "],\n",
      "\"argument\\_for\\_hate\\_speech\": \"The statement uses derogatory language towards a specific racial or ethnic group, implying a belief in their inferiority and a lack of value or worth.\",\n",
      "\"argument\\_against\\_hate\\_speech\": \"The statement could be seen as an expression of frustration or disdain towards political leaders or those in positions of power, rather than an attack on an entire racial or ethnic group.\",\n",
      "\"likelihood\\_of\\_presence\\_of\\_implicit\\_hate\\_speech\": 0.3,\n",
      "\"likelihood\\_of\\_presence\\_of\\_explicit\\_hate\\_speech\": 0.8,\n",
      "\"likelihood\\_of\\_ad\\_hominin\\_attack\": 0.5,\n",
      "\"likelihood\\_of\\_minority\\_attack\": 1.0,\n",
      "\"likelihood\\_of\\_takedown\\_on\\_social\\_media\": 0.8,\n",
      "\"hate\\_speech\\_probability\": 0.9\n"
     ]
    },
    {
     "name": "stderr",
     "output_type": "stream",
     "text": [
      " 94%|█████████▍| 451/478 [31:09<02:06,  4.69s/it]"
     ]
    },
    {
     "name": "stdout",
     "output_type": "stream",
     "text": [
      "If that stopped the worthless thing would starve !\n",
      "['  \"hate_speech_probability\": 0.2,']\n"
     ]
    },
    {
     "name": "stderr",
     "output_type": "stream",
     "text": [
      " 95%|█████████▍| 452/478 [31:12<01:51,  4.30s/it]"
     ]
    },
    {
     "name": "stdout",
     "output_type": "stream",
     "text": [
      "Hello Everyone on Stormfront Have heard a lot of good things about this forum so I have decided to take the plunge .\n",
      "['  \"hate_speech_probability\": 0.1,']\n"
     ]
    },
    {
     "name": "stderr",
     "output_type": "stream",
     "text": [
      " 95%|█████████▍| 453/478 [31:15<01:40,  4.01s/it]"
     ]
    },
    {
     "name": "stdout",
     "output_type": "stream",
     "text": [
      "I'm in Australia and I want it to be done and over with , my mum is constantly going on about the Olympics like it 's a big deal .\n",
      "['  \"hate_speech_probability\": 0,']\n"
     ]
    },
    {
     "name": "stderr",
     "output_type": "stream",
     "text": [
      " 95%|█████████▍| 454/478 [31:19<01:31,  3.82s/it]"
     ]
    },
    {
     "name": "stdout",
     "output_type": "stream",
     "text": [
      "Of course the county is lovely , in facts its gods country in our book BUT the cities are rat infested with enrichers , just how the country is isnt it .\n",
      "['  \"hate_speech_probability\": 0.65']\n"
     ]
    },
    {
     "name": "stderr",
     "output_type": "stream",
     "text": [
      " 95%|█████████▌| 455/478 [31:23<01:28,  3.84s/it]"
     ]
    },
    {
     "name": "stdout",
     "output_type": "stream",
     "text": [
      "Well Marco is a German patriot and musician who , in the sick minds of ZOG , committed the heinious crime of producing music for a local school .\n",
      "['  \"hate_speech_probability\": 0.1,']\n"
     ]
    },
    {
     "name": "stderr",
     "output_type": "stream",
     "text": [
      " 95%|█████████▌| 456/478 [31:26<01:22,  3.74s/it]"
     ]
    },
    {
     "name": "stdout",
     "output_type": "stream",
     "text": [
      "Too many libtards , I would n't waste my time there .\n",
      "['  \"hate_speech_probability\": 0.2']\n"
     ]
    },
    {
     "name": "stderr",
     "output_type": "stream",
     "text": [
      " 96%|█████████▌| 457/478 [31:30<01:22,  3.91s/it]"
     ]
    },
    {
     "name": "stdout",
     "output_type": "stream",
     "text": [
      "I got sloppy seconds after some Muslims used this girl .\n",
      "['  \"hate_speech_probability\": 0.3,']\n"
     ]
    },
    {
     "name": "stderr",
     "output_type": "stream",
     "text": [
      " 96%|█████████▌| 458/478 [31:34<01:17,  3.88s/it]"
     ]
    },
    {
     "name": "stdout",
     "output_type": "stream",
     "text": [
      "Only the crazy ones stay .\n",
      "['  \"hate_speech_probability\": 0.3,']\n"
     ]
    },
    {
     "name": "stderr",
     "output_type": "stream",
     "text": [
      " 96%|█████████▌| 459/478 [31:37<01:09,  3.66s/it]"
     ]
    },
    {
     "name": "stdout",
     "output_type": "stream",
     "text": [
      "When the non-whites come we should stand together and send em packing , like they do to us .\n",
      "['  \"hate_speech_probability\": 0.9.']\n"
     ]
    },
    {
     "name": "stderr",
     "output_type": "stream",
     "text": [
      " 96%|█████████▌| 460/478 [31:42<01:09,  3.85s/it]"
     ]
    },
    {
     "name": "stdout",
     "output_type": "stream",
     "text": [
      "Those in the countries you mentioned are the mongrel offspring between whites ( Aryans ) and Arabs and its funny how those of the East who claim to be the Aryans talk about white people who came and mixed with them and the only Aryans apparently in the East are those with light skin and blue eyes .\n",
      "['  \"hate_speech_probability\": 0.7,']\n"
     ]
    },
    {
     "name": "stderr",
     "output_type": "stream",
     "text": [
      " 96%|█████████▋| 461/478 [31:45<01:04,  3.82s/it]"
     ]
    },
    {
     "name": "stdout",
     "output_type": "stream",
     "text": [
      "Laugh it up ape cause without yt to protect your race Asians will probably do the world a favour and wipe your kind from the face of the Earth .\n",
      "['  \"hate_speech_probability\": 0.9,']\n"
     ]
    },
    {
     "name": "stderr",
     "output_type": "stream",
     "text": [
      " 97%|█████████▋| 462/478 [31:50<01:02,  3.91s/it]"
     ]
    },
    {
     "name": "stdout",
     "output_type": "stream",
     "text": [
      "I tried to sign up there once & they refused to activate my account .\n",
      "['  \"hate_speech_probability\": 0.2']\n"
     ]
    },
    {
     "name": "stderr",
     "output_type": "stream",
     "text": [
      " 97%|█████████▋| 463/478 [31:55<01:03,  4.21s/it]"
     ]
    },
    {
     "name": "stdout",
     "output_type": "stream",
     "text": [
      "In the eyes of the Jew and the libtard there is a race problem and the problem is us !\n",
      "['  \"hate_speech_probability\": 0.8,']\n"
     ]
    },
    {
     "name": "stderr",
     "output_type": "stream",
     "text": [
      " 97%|█████████▋| 464/478 [31:58<00:56,  4.04s/it]"
     ]
    },
    {
     "name": "stdout",
     "output_type": "stream",
     "text": [
      "You need to ask this when the Obama Administration instructed the IRS to target conservatives ?\n",
      "['  hate_speech_probability: 0.1,']\n"
     ]
    },
    {
     "name": "stderr",
     "output_type": "stream",
     "text": [
      " 97%|█████████▋| 465/478 [32:02<00:51,  4.00s/it]"
     ]
    },
    {
     "name": "stdout",
     "output_type": "stream",
     "text": [
      "Neither of the Diaz brothers are very bright but they generally come to fight .\n",
      "['  \"hate_speech_probability\": 0.2,']\n"
     ]
    },
    {
     "name": "stderr",
     "output_type": "stream",
     "text": [
      " 97%|█████████▋| 466/478 [32:07<00:50,  4.23s/it]"
     ]
    },
    {
     "name": "stdout",
     "output_type": "stream",
     "text": [
      "The Neolithic farmers who migrated into Europe originated in Anatolia .\n",
      "['  \"hate_speech_probability\": 0.']\n"
     ]
    },
    {
     "name": "stderr",
     "output_type": "stream",
     "text": [
      " 98%|█████████▊| 467/478 [32:14<00:56,  5.11s/it]"
     ]
    },
    {
     "name": "stdout",
     "output_type": "stream",
     "text": [
      "Explain how liberals are liars and anti-White and tell her about crime statistics .\n",
      "['  \"hate_speech_probability\": 0.3,']\n"
     ]
    },
    {
     "name": "stderr",
     "output_type": "stream",
     "text": [
      " 98%|█████████▊| 468/478 [32:19<00:51,  5.14s/it]"
     ]
    },
    {
     "name": "stdout",
     "output_type": "stream",
     "text": [
      "Perhaps people will take you more seriously if you do n't make as many grammar errors and using repulsive language .\n",
      "['\"hate_speech_probability\": 0.2,']\n"
     ]
    },
    {
     "name": "stderr",
     "output_type": "stream",
     "text": [
      " 98%|█████████▊| 469/478 [32:24<00:45,  5.07s/it]"
     ]
    },
    {
     "name": "stdout",
     "output_type": "stream",
     "text": [
      "And hey , we have not talked about women 's mitochondriat at all ?\n",
      "['  hate_speech_probability: 0,']\n"
     ]
    },
    {
     "name": "stderr",
     "output_type": "stream",
     "text": [
      " 98%|█████████▊| 470/478 [32:27<00:34,  4.37s/it]"
     ]
    },
    {
     "name": "stdout",
     "output_type": "stream",
     "text": [
      "Everything is machined to well today mlst stuff is plug and play .\n",
      "['  \"hate_speech_probability\": 0,']\n"
     ]
    },
    {
     "name": "stderr",
     "output_type": "stream",
     "text": [
      " 99%|█████████▊| 471/478 [32:30<00:29,  4.15s/it]"
     ]
    },
    {
     "name": "stdout",
     "output_type": "stream",
     "text": [
      "Find other gardeners , wild plant enthusiasts , and fellow believers in your area who you can band with .\n",
      "['  \"hate_speech_probability\": 0']\n"
     ]
    },
    {
     "name": "stderr",
     "output_type": "stream",
     "text": [
      " 99%|█████████▊| 472/478 [32:36<00:26,  4.44s/it]"
     ]
    },
    {
     "name": "stdout",
     "output_type": "stream",
     "text": [
      "I'm glad you pointed this out that anti-Bullying campaign has been used to promote homosexuals who are more likely to bully anyone who disagrees with them .\n",
      "['  \"hate_speech_probability\": 0.3']\n"
     ]
    },
    {
     "name": "stderr",
     "output_type": "stream",
     "text": [
      " 99%|█████████▉| 473/478 [32:39<00:19,  4.00s/it]"
     ]
    },
    {
     "name": "stdout",
     "output_type": "stream",
     "text": [
      "I was just debating with myself whether I should go to bed or have one last beer ...\n",
      "['  \"hate_speech_probability\": 0.']\n"
     ]
    },
    {
     "name": "stderr",
     "output_type": "stream",
     "text": [
      " 99%|█████████▉| 474/478 [32:42<00:14,  3.72s/it]"
     ]
    },
    {
     "name": "stdout",
     "output_type": "stream",
     "text": [
      "I have one word for you ....... MOVE . We chose this area because we wanted our children to go to all white schools .\n",
      "['  \"hate_speech_probability\": 0.8,']\n"
     ]
    },
    {
     "name": "stderr",
     "output_type": "stream",
     "text": [
      " 99%|█████████▉| 475/478 [32:45<00:10,  3.53s/it]"
     ]
    },
    {
     "name": "stdout",
     "output_type": "stream",
     "text": [
      "There are only eight people living within a mile of my house , and none closer than a quarter-mile .\n",
      "['  \"hate_speech_probability\": 0']\n"
     ]
    },
    {
     "name": "stderr",
     "output_type": "stream",
     "text": [
      "100%|█████████▉| 476/478 [32:49<00:07,  3.67s/it]"
     ]
    },
    {
     "name": "stdout",
     "output_type": "stream",
     "text": [
      "you just say blacks hate the cold. the only reason they are good athletes is because when you have to run lions and tigers you get fast or eaten .\n",
      "['  \"hate_speech_probability\": 0.5']\n"
     ]
    },
    {
     "name": "stderr",
     "output_type": "stream",
     "text": [
      "100%|█████████▉| 477/478 [32:52<00:03,  3.52s/it]"
     ]
    },
    {
     "name": "stdout",
     "output_type": "stream",
     "text": [
      "And all those holes below 40,000 feet are filled with oil instead of water .\n",
      "['  hate_speech_probability: 0,']\n"
     ]
    },
    {
     "name": "stderr",
     "output_type": "stream",
     "text": [
      "100%|██████████| 478/478 [32:56<00:00,  4.14s/it]\n"
     ]
    },
    {
     "name": "stdout",
     "output_type": "stream",
     "text": [
      "Now I get it !\n",
      "['  hate_speech_probability: 0.6,']\n"
     ]
    },
    {
     "name": "stderr",
     "output_type": "stream",
     "text": [
      "  0%|          | 1/478 [00:04<39:11,  4.93s/it]"
     ]
    },
    {
     "name": "stdout",
     "output_type": "stream",
     "text": [
      "I 've always considered teaching as one of the professions I would like to get into , but not in a neighbourhood like that ... never. kids like that disgust me .\n",
      "['  \"hate_speech_probability\": 0.3,']\n"
     ]
    },
    {
     "name": "stderr",
     "output_type": "stream",
     "text": [
      "  0%|          | 2/478 [00:09<37:08,  4.68s/it]"
     ]
    },
    {
     "name": "stdout",
     "output_type": "stream",
     "text": [
      "And the sad thing is the white students at those schools will act like that too .\n",
      "['  \"hate_speech_probability\": 0.3']\n"
     ]
    },
    {
     "name": "stderr",
     "output_type": "stream",
     "text": [
      "  1%|          | 3/478 [00:12<31:59,  4.04s/it]"
     ]
    },
    {
     "name": "stdout",
     "output_type": "stream",
     "text": [
      "This whole situation starts to become really bizarre .\n",
      "['  \"hate_speech_probability\": 0,']\n"
     ]
    },
    {
     "name": "stderr",
     "output_type": "stream",
     "text": [
      "  1%|          | 4/478 [00:16<32:24,  4.10s/it]"
     ]
    },
    {
     "name": "stdout",
     "output_type": "stream",
     "text": [
      "That's all I needed to hear .\n",
      "['  \"hate_speech_probability\": 0.7,']\n"
     ]
    },
    {
     "name": "stderr",
     "output_type": "stream",
     "text": [
      "  1%|          | 5/478 [00:20<30:52,  3.92s/it]"
     ]
    },
    {
     "name": "stdout",
     "output_type": "stream",
     "text": [
      "Excellent Article !! * * * * * Why Were n't They In Jail ?\n",
      "['  \"hate_speech_probability\": 0,']\n"
     ]
    },
    {
     "name": "stderr",
     "output_type": "stream",
     "text": [
      "  1%|▏         | 6/478 [00:23<29:05,  3.70s/it]"
     ]
    },
    {
     "name": "stdout",
     "output_type": "stream",
     "text": [
      "Nevermind, found the new page Knew it had to be a groid .... any report of rape ?\n",
      "['  \"hate_speech_probability\": 1,']\n"
     ]
    },
    {
     "name": "stderr",
     "output_type": "stream",
     "text": [
      "  1%|▏         | 7/478 [00:28<30:52,  3.93s/it]"
     ]
    },
    {
     "name": "stdout",
     "output_type": "stream",
     "text": [
      "He's a retarded feral negro ( yes , feral humans who cannot talk occasionally pop up , having been abandoned as children. ) .\n",
      "['  \"hate_speech_probability\": 0.9']\n"
     ]
    },
    {
     "name": "stderr",
     "output_type": "stream",
     "text": [
      "  2%|▏         | 8/478 [00:33<34:03,  4.35s/it]"
     ]
    },
    {
     "name": "stdout",
     "output_type": "stream",
     "text": [
      "I do n't think anyone is insinuating that we are equal to non whites , or that we would ignore white nations .\n",
      "['  \"hate_speech_probability\": 0.1,']\n"
     ]
    },
    {
     "name": "stderr",
     "output_type": "stream",
     "text": [
      "  2%|▏         | 9/478 [00:37<32:36,  4.17s/it]"
     ]
    },
    {
     "name": "stdout",
     "output_type": "stream",
     "text": [
      "These people have no idea about who they are or where they came from and any knowledge that they do have has guilt attached to it .\n",
      "['  \"hate_speech_probability\": 0.1,']\n"
     ]
    },
    {
     "name": "stderr",
     "output_type": "stream",
     "text": [
      "  2%|▏         | 10/478 [00:40<31:33,  4.05s/it]"
     ]
    },
    {
     "name": "stdout",
     "output_type": "stream",
     "text": [
      "I have a dream - one of these days Black occupation of America will be history !\n",
      "['  \"hate_speech_probability\": 1.0,']\n"
     ]
    },
    {
     "name": "stderr",
     "output_type": "stream",
     "text": [
      "  2%|▏         | 11/478 [00:44<30:55,  3.97s/it]"
     ]
    },
    {
     "name": "stdout",
     "output_type": "stream",
     "text": [
      "Pathological killers , they are .\n",
      "['  \"hate_speech_probability\": 0,']\n"
     ]
    },
    {
     "name": "stderr",
     "output_type": "stream",
     "text": [
      "  3%|▎         | 12/478 [00:48<30:22,  3.91s/it]"
     ]
    },
    {
     "name": "stdout",
     "output_type": "stream",
     "text": [
      "Jews have been poisoning wells since Biblical times .\n",
      "['  \"hate_speech_probability\": 0.7.']\n"
     ]
    },
    {
     "name": "stderr",
     "output_type": "stream",
     "text": [
      "  3%|▎         | 13/478 [00:53<32:11,  4.15s/it]"
     ]
    },
    {
     "name": "stdout",
     "output_type": "stream",
     "text": [
      "All you need is to cut off it 's head and the rest of the problems will crumble away with ease\n",
      "['  \"hate_speech_probability\": 0.5,']\n"
     ]
    },
    {
     "name": "stderr",
     "output_type": "stream",
     "text": [
      "  3%|▎         | 14/478 [00:56<31:02,  4.01s/it]"
     ]
    },
    {
     "name": "stdout",
     "output_type": "stream",
     "text": [
      "While they are in prison the kikes should get the same food the regular prison population gets ...\n",
      "['  \"hate_speech_probability\": 0.8']\n"
     ]
    },
    {
     "name": "stderr",
     "output_type": "stream",
     "text": [
      "  3%|▎         | 15/478 [01:01<31:24,  4.07s/it]"
     ]
    },
    {
     "name": "stdout",
     "output_type": "stream",
     "text": [
      "Why do n't White Europeans and Americans grow a set of balls , and deport these Black and brown animals from their countries ?\n",
      "['  \"hate_speech_probability\": 0.8,']\n"
     ]
    },
    {
     "name": "stderr",
     "output_type": "stream",
     "text": [
      "  3%|▎         | 16/478 [01:05<30:50,  4.01s/it]"
     ]
    },
    {
     "name": "stdout",
     "output_type": "stream",
     "text": [
      "Norway : 3.3 ( 2001 ) , 3.9 ( 2002 ) , 3.5 ( 2003 ) , 1.8 ( 2004 ) . ( assuming population of 4.5 million ) Sweden : 2.6 ( 2001 ) , 3.7 ( 2002 ) , 3.5 ( 2003 ) , 2.6 ( 2004 ) . ( assuming population of 8.9 million ) Iceland is at about 0.2 .\n",
      "['  hate_speech_probability: 0']\n"
     ]
    },
    {
     "name": "stderr",
     "output_type": "stream",
     "text": [
      "  4%|▎         | 17/478 [01:09<31:17,  4.07s/it]"
     ]
    },
    {
     "name": "stdout",
     "output_type": "stream",
     "text": [
      "If they have some marches and what not about showing pride in their culture you guys should go out and do the same If you could try and contact people you know in different cities and see if their willing to do the same .\n",
      "['  \"hate_speech_probability\": 0,']\n"
     ]
    },
    {
     "name": "stderr",
     "output_type": "stream",
     "text": [
      "  4%|▍         | 18/478 [01:15<36:00,  4.70s/it]"
     ]
    },
    {
     "name": "stdout",
     "output_type": "stream",
     "text": [
      "During the early punk scene , he was always seen decked out in a Union flag blazer , then all a sudden , an instant nationality transplant .\n",
      "['  \"hate_speech_probability\": 0.1,']\n"
     ]
    },
    {
     "name": "stderr",
     "output_type": "stream",
     "text": [
      "  4%|▍         | 19/478 [01:19<34:33,  4.52s/it]"
     ]
    },
    {
     "name": "stdout",
     "output_type": "stream",
     "text": [
      "Its a disgrace my sister has been on the waiting list for 6 years and their giving away houses to these scumbags\n",
      "{\n",
      "  \"relevant\\_facts\\_from\\_the\\_cultural\\_context\": [\n",
      "    \"In the US context, waiting lists for housing are a significant issue, particularly for marginalized communities.\",\n",
      "    \"Term 'scumbags' can be considered derogatory and generally insulting, but it doesn't necessarily imply a racial or ethnic bias.\"\n",
      "  ],\n",
      "  \"relevant\\_word\\_definitions\": {\n",
      "    \"scumbags\": \"People regarded as contemptible or despicable.\",\n",
      "  },\n",
      "  \"contained\\_explicit\\_racist\\_vocabulary\": [],\n",
      "  \"contained\\_explicit\\_sexist\\_vocabulary\": [],\n",
      "  \"contained\\_explicit\\_toxic\\_vocabulary\": [\"scumbags\"],\n",
      "  \"argument\\_for\\_hate\\_speech\": \"The statement expresses outrage and disdain towards a group of people, potentially inciting hatred or discrimination.\",\n",
      "  \"argument\\_against\\_hate\\_speech\": \"The statement doesn't directly target a specific racial or ethnic group, and the term 'scumbags' is not necessarily associated with racism.\",\n",
      "  \"likelihood\\_of\\_presence\\_of\\_implicit\\_hate\\_speech\": 0.2,\n",
      "  \"likelihood\\_of\\_presence\\_of\\_explicit\\_hate\\_speech\": 0,\n",
      "  \"likelihood\\_of\\_ad\\_hominin\\_attack\": 0.5,\n",
      "  \"likelihood\\_of\\_minority\\_attack\": 0,\n",
      "  \"likelihood\\_of\\_takedown\\_on\\_social\\_media\": 0.6,\n",
      "  \"hate\\_speech\\_probability\": 0.2,\n"
     ]
    },
    {
     "name": "stderr",
     "output_type": "stream",
     "text": [
      "  4%|▍         | 20/478 [01:24<35:08,  4.60s/it]"
     ]
    },
    {
     "name": "stdout",
     "output_type": "stream",
     "text": [
      "These people who want foreign aid increased are the same people who walk past irish people living rough on the streets and they do n't care about the old people who the government ignores .\n",
      "['  \"hate_speech_probability\": 0.1,']\n"
     ]
    },
    {
     "name": "stderr",
     "output_type": "stream",
     "text": [
      "  4%|▍         | 21/478 [01:28<34:12,  4.49s/it]"
     ]
    },
    {
     "name": "stdout",
     "output_type": "stream",
     "text": [
      "What I do know is that I live on a small Island and it seems that a lot of people from various countries in the world are willing to desert their homelands and their families just to come here , in my mind that tells me a lot about said people and their home countries , most of all it highlights their weaknesses of how their own countries have let them down and how they feel the need to feed off somebody elses country , how should we English interpret this without sounding rude ??? , locust ??? , parasite ??? , you tell me .\n",
      "['  \"hate_speech_probability\": 0.4,']\n"
     ]
    },
    {
     "name": "stderr",
     "output_type": "stream",
     "text": [
      "  5%|▍         | 22/478 [01:32<32:55,  4.33s/it]"
     ]
    },
    {
     "name": "stdout",
     "output_type": "stream",
     "text": [
      "i do this and the looks i get out of disgust are regular but i happily carry on walking and laugh them off , they think showing me a few pictures of negro kids on a poster without a burger is going to make me want to give money to them ?\n",
      "['  \"hate_speech_probability\": 0.6,']\n"
     ]
    },
    {
     "name": "stderr",
     "output_type": "stream",
     "text": [
      "  5%|▍         | 23/478 [01:36<32:45,  4.32s/it]"
     ]
    },
    {
     "name": "stdout",
     "output_type": "stream",
     "text": [
      "Dare to speak out in a country with supposed free speech and you 're labelled a bigot !\n",
      "['  \"hate_speech_probability\": 0.']\n"
     ]
    },
    {
     "name": "stderr",
     "output_type": "stream",
     "text": [
      "  5%|▌         | 24/478 [01:40<32:12,  4.26s/it]"
     ]
    },
    {
     "name": "stdout",
     "output_type": "stream",
     "text": [
      "Hi everyone .... I 'm from Slovenia and I utterly hate every living muslim in this world ....... and I despise even the dead ones\n",
      "['  \"hate_speech_probability\": 0.9,']\n"
     ]
    },
    {
     "name": "stderr",
     "output_type": "stream",
     "text": [
      "  5%|▌         | 25/478 [01:43<28:49,  3.82s/it]"
     ]
    },
    {
     "name": "stdout",
     "output_type": "stream",
     "text": [
      "Everyone on my MSN gets all manner of pics ( ) but I 've never put any up here so here goes Some pics from about a year ago and a small anigif from a week ago heh Robin\n",
      "['  \"hate_speech_probability\": 0.']\n"
     ]
    },
    {
     "name": "stderr",
     "output_type": "stream",
     "text": [
      "  5%|▌         | 26/478 [01:47<29:20,  3.89s/it]"
     ]
    },
    {
     "name": "stdout",
     "output_type": "stream",
     "text": [
      "DuetschGirlTX, No I live in a tiny ass town where i am only one of 100 white folks ( maybe less ) . near San Antonio. there are so many dirts around and they all stick together. so when it comes to a White Girl in this town i gotta have my own back ALWAYS Is that where you are ?\n",
      "['  \"hate_speech_probability\": 0.65,']\n"
     ]
    },
    {
     "name": "stderr",
     "output_type": "stream",
     "text": [
      "  6%|▌         | 27/478 [01:50<27:23,  3.65s/it]"
     ]
    },
    {
     "name": "stdout",
     "output_type": "stream",
     "text": [
      "The work involves : selling sporting goods and assisting customers with questions or problems .\n",
      "['  \"hate_speech_probability\": 0']\n"
     ]
    },
    {
     "name": "stderr",
     "output_type": "stream",
     "text": [
      "  6%|▌         | 28/478 [01:54<26:58,  3.60s/it]"
     ]
    },
    {
     "name": "stdout",
     "output_type": "stream",
     "text": [
      "88 all , this is my first post and i 've read this whole thread so i guess I have a few comment 's , let 's start , shall we ?\n",
      "['  \"hate_speech_probability\": 0.3']\n"
     ]
    },
    {
     "name": "stderr",
     "output_type": "stream",
     "text": [
      "  6%|▌         | 29/478 [01:58<27:48,  3.72s/it]"
     ]
    },
    {
     "name": "stdout",
     "output_type": "stream",
     "text": [
      "This is my next read .\n",
      "['  \"hate_speech_probability\": 0.9,']\n"
     ]
    },
    {
     "name": "stderr",
     "output_type": "stream",
     "text": [
      "  6%|▋         | 30/478 [02:03<30:26,  4.08s/it]"
     ]
    },
    {
     "name": "stdout",
     "output_type": "stream",
     "text": [
      "The Jewish race is without any doubt the greatest threat to the survival of the White race .\n",
      "['  \"hate_speech_probability\": 0.8,']\n"
     ]
    },
    {
     "name": "stderr",
     "output_type": "stream",
     "text": [
      "  6%|▋         | 31/478 [02:07<31:33,  4.24s/it]"
     ]
    },
    {
     "name": "stdout",
     "output_type": "stream",
     "text": [
      "Both Asians and whites are composed and calm and blacks seem to have no self control .\n",
      "['  \"hate_speech_probability\": 0.95,']\n"
     ]
    },
    {
     "name": "stderr",
     "output_type": "stream",
     "text": [
      "  7%|▋         | 32/478 [02:11<29:10,  3.93s/it]"
     ]
    },
    {
     "name": "stdout",
     "output_type": "stream",
     "text": [
      "Exactly, they want us to lay down and die .\n",
      "[' \"hate_speech_probability\": 0,']\n"
     ]
    },
    {
     "name": "stderr",
     "output_type": "stream",
     "text": [
      "  7%|▋         | 33/478 [02:13<25:06,  3.39s/it]"
     ]
    },
    {
     "name": "stdout",
     "output_type": "stream",
     "text": [
      "By their words and deeds , they declare themselves to be staunchly in favor of the genocide of our people .\n",
      "['  \"hate_speech_probability\": 1.0,']\n"
     ]
    },
    {
     "name": "stderr",
     "output_type": "stream",
     "text": [
      "  7%|▋         | 34/478 [02:16<25:10,  3.40s/it]"
     ]
    },
    {
     "name": "stdout",
     "output_type": "stream",
     "text": [
      "A pile of burned offerings .\n",
      "['  \"hate_speech_probability\": 0,']\n"
     ]
    },
    {
     "name": "stderr",
     "output_type": "stream",
     "text": [
      "  7%|▋         | 35/478 [02:21<28:05,  3.80s/it]"
     ]
    },
    {
     "name": "stdout",
     "output_type": "stream",
     "text": [
      "Gay marriage has no place in any society , regardless of your race and culture.It destroys , morals , values , and the future of your offspring that will keep your race and culture alive.Regardless of your race and culture , homosexuality and gay marriage is the genocide of mankind .\n",
      "['  \"hate_speech_probability\": 0.4']\n"
     ]
    },
    {
     "name": "stderr",
     "output_type": "stream",
     "text": [
      "  8%|▊         | 36/478 [02:25<28:55,  3.93s/it]"
     ]
    },
    {
     "name": "stdout",
     "output_type": "stream",
     "text": [
      "The Black race is yet to invent any kind of civilization .\n",
      "['  \"hate_speech_probability\": 0.8,']\n"
     ]
    },
    {
     "name": "stderr",
     "output_type": "stream",
     "text": [
      "  8%|▊         | 37/478 [02:29<29:17,  3.99s/it]"
     ]
    },
    {
     "name": "stdout",
     "output_type": "stream",
     "text": [
      "What does any of that have to do with racial preservation and the resistance to the deliberate and calculated extermination of the White race and the destruction of western civilization which 99 % of the members of this site are concerned with ?\n",
      "['  hate_speech_probability: 0.1,']\n"
     ]
    },
    {
     "name": "stderr",
     "output_type": "stream",
     "text": [
      "  8%|▊         | 38/478 [02:34<31:51,  4.34s/it]"
     ]
    },
    {
     "name": "stdout",
     "output_type": "stream",
     "text": [
      "They almost always choose to identify with blacks more than whites .\n",
      "['  \"hate_speech_probability\": 0.1,']\n"
     ]
    },
    {
     "name": "stderr",
     "output_type": "stream",
     "text": [
      "  8%|▊         | 39/478 [02:38<31:16,  4.27s/it]"
     ]
    },
    {
     "name": "stdout",
     "output_type": "stream",
     "text": [
      "The White race is best because when the Creator made Whites , He made them better than He made the other races .\n",
      "['  \"hate_speech_probability\": 0.8']\n"
     ]
    },
    {
     "name": "stderr",
     "output_type": "stream",
     "text": [
      "  8%|▊         | 40/478 [02:42<30:03,  4.12s/it]"
     ]
    },
    {
     "name": "stdout",
     "output_type": "stream",
     "text": [
      "Ya got a virgin shooter .\n",
      "['  \"hate_speech_probability\": 0.1']\n"
     ]
    },
    {
     "name": "stderr",
     "output_type": "stream",
     "text": [
      "  9%|▊         | 41/478 [02:46<28:12,  3.87s/it]"
     ]
    },
    {
     "name": "stdout",
     "output_type": "stream",
     "text": [
      "I 'm hoping things will continue to grow with our smaller meets and will make for a good turn out at our events this year !\n",
      "['  \"hate_speech_probability\": 0.0,']\n"
     ]
    },
    {
     "name": "stderr",
     "output_type": "stream",
     "text": [
      "  9%|▉         | 42/478 [02:49<27:30,  3.78s/it]"
     ]
    },
    {
     "name": "stdout",
     "output_type": "stream",
     "text": [
      "Nothing happened except I got an 88 % on the paper .\n",
      "{\n",
      "  \"relevant\\_facts\\_from\\_the\\_cultural\\_context\": [],\n",
      "  \"relevant\\_word\\_definitions\": {\n",
      "    \"happened\": \"innocuous term for an event or series of events\",\n",
      "    \"88\": \"a number associated with white supremacy and the Nazi salute\"\n",
      "  },\n",
      "  \"contained\\_explicit\\_racist\\_vocabulary\": [\"88\"],\n",
      "  \"argument\\_for\\_hate\\_speech\": \"The use of the number '88', which is a known code for white supremacy and the Nazi salute, in the context of this statement, can be seen as promoting hate speech.\",\n",
      "  \"argument\\_against\\_hate\\_speech\": \"This statement is ambiguous and the number '88' could have been used in a different context unrelated to hate speech. However, given the known association of this number with white supremacy, it is important to consider the context in which it was used.\",\n",
      "  \"likelihood\\_of\\_presence\\_of\\_implicit\\_hate\\_speech\": 0.3,\n",
      "  \"likelihood\\_of\\_presence\\_of\\_explicit\\_hate\\_speech\": 0.8,\n",
      "  \"likelihood\\_of\\_ad\\_hominin\\_attack\": 0.1,\n",
      "  \"likelihood\\_of\\_minority\\_attack\": 0,\n",
      "  \"likelihood\\_of\\_takedown\\_on\\_social\\_media\": 0.7,\n",
      "  \"hate\\_speech\\_probability\": 0.8\n"
     ]
    },
    {
     "name": "stderr",
     "output_type": "stream",
     "text": [
      "  9%|▉         | 43/478 [02:52<26:20,  3.63s/it]"
     ]
    },
    {
     "name": "stdout",
     "output_type": "stream",
     "text": [
      "All of our tim hortons are staffed by those nast filipinos and every single town is full of Indians and asians .\n",
      "['  \"hate_speech_probability\": 0.9']\n"
     ]
    },
    {
     "name": "stderr",
     "output_type": "stream",
     "text": [
      "  9%|▉         | 44/478 [02:55<24:50,  3.44s/it]"
     ]
    },
    {
     "name": "stdout",
     "output_type": "stream",
     "text": [
      "We need to deport all nonwhites immediately , that or stop letting more in and sterilize the ones here , that will fix the problem .\n",
      "['  \"hate_speech_probability\": 1']\n"
     ]
    },
    {
     "name": "stderr",
     "output_type": "stream",
     "text": [
      "  9%|▉         | 45/478 [02:59<25:20,  3.51s/it]"
     ]
    },
    {
     "name": "stdout",
     "output_type": "stream",
     "text": [
      "I enjoyed playing the game when I was a kid , but I never enjoyed watching it on TV .\n",
      "['  \"hate_speech_probability\": 0,']\n"
     ]
    },
    {
     "name": "stderr",
     "output_type": "stream",
     "text": [
      " 10%|▉         | 46/478 [03:02<24:59,  3.47s/it]"
     ]
    },
    {
     "name": "stdout",
     "output_type": "stream",
     "text": [
      "An even smaller pellet is probably ideal , #4 Buck , perhaps .\n",
      "['  \"hate_speech_probability\": 0']\n"
     ]
    },
    {
     "name": "stderr",
     "output_type": "stream",
     "text": [
      " 10%|▉         | 47/478 [03:06<25:01,  3.48s/it]"
     ]
    },
    {
     "name": "stdout",
     "output_type": "stream",
     "text": [
      "I'm more of a grappler than a striker , I would lunge out with a windpipe grab and bring them down to the floor .... my record for KO' ing someone with a choke is currently 3 secs\n",
      "['  \"hate_speech_probability\": 0.']\n"
     ]
    },
    {
     "name": "stderr",
     "output_type": "stream",
     "text": [
      " 10%|█         | 48/478 [03:09<24:10,  3.37s/it]"
     ]
    },
    {
     "name": "stdout",
     "output_type": "stream",
     "text": [
      "Little kids all decked out in their costumes .\n",
      "['  \"hate_speech_probability\": 0']\n"
     ]
    },
    {
     "name": "stderr",
     "output_type": "stream",
     "text": [
      " 10%|█         | 49/478 [03:13<25:56,  3.63s/it]"
     ]
    },
    {
     "name": "stdout",
     "output_type": "stream",
     "text": [
      "Dude stink bomb this event , when it gets dark , chuck a bunch of them on the floor , different spots , when the chimps start jiving and grooving , they will step on them .\n",
      "['  \"hate_speech_probability\": 0.7.']\n"
     ]
    },
    {
     "name": "stderr",
     "output_type": "stream",
     "text": [
      " 10%|█         | 50/478 [03:17<25:27,  3.57s/it]"
     ]
    },
    {
     "name": "stdout",
     "output_type": "stream",
     "text": [
      "They will eventually kill off the whites and go back to the jungle ways .\n",
      "['  \"hate_speech_probability\": 0.7']\n"
     ]
    },
    {
     "name": "stderr",
     "output_type": "stream",
     "text": [
      " 11%|█         | 51/478 [03:19<23:45,  3.34s/it]"
     ]
    },
    {
     "name": "stdout",
     "output_type": "stream",
     "text": [
      "I'm too lazy to reread , did he say ' Teacher `` or '' Teacher 's asst . \" ?\n",
      "['  \"hate_speech_probability\": 0.0,']\n"
     ]
    },
    {
     "name": "stderr",
     "output_type": "stream",
     "text": [
      " 11%|█         | 52/478 [03:25<29:03,  4.09s/it]"
     ]
    },
    {
     "name": "stdout",
     "output_type": "stream",
     "text": [
      "Agreed! rep will have to wait though .. Cheap money , massive bailouts of crony banksters , manipulated employment figures , etc , etc , ..\n",
      "{\n",
      "  \"relevant\\_facts\\_from\\_the\\_cultural\\_context\": [\n",
      "    \"There is a ongoing political debate about economic inequality and government policies in the USA.\",\n",
      "    \"The statement expresses a critical opinion towards the government and economic establishment.\"\n",
      "  ],\n",
      "  \"relevant\\_word\\_definitions\": {\n",
      "    \"bailouts\": \"the act of providing financial assistance, especially to a failing company or industry.\",\n",
      "    \"crony\": \"showing undue favor towards a particular individual or company, often in exchange for political or financial gain.\",\n",
      "    \"manipulated\": \"to fraudulently alter or influence the parameters or results of.\",\n",
      "    \"employment\": \"the state of being employed or having a job.\"\n",
      "  },\n",
      "  \"contained\\_explicit\\_racist\\_vocabulary\": [],\n",
      "  \"contained\\_explicit\\_sexist\\_vocabulary\": [],\n",
      "  \"contained\\_explicit\\_toxic\\_vocabulary\": [],\n",
      "  \"argument\\_for\\_hate\\_speech\": \"The statement doesn't contain any explicit hate speech as it doesn't directly target or degrade any group based on their race, ethnicity, gender, or other protected traits.\",\n",
      "  \"argument\\_against\\_hate\\_speech\": \"The statement is a critical commentary on political and economic issues in the USA, and does not contain any explicit hate speech or offensive language toward any specific group.\",\n",
      "  \"likelihood\\_of\\_presence\\_of\\_implicit\\_hate\\_speech\": 0,\n",
      "  \"likelihood\\_of\\_presence\\_of\\_explicit\\_hate\\_speech\": 0,\n",
      "  \"likelihood\\_of\\_ad\\_hominin\\_attack\": 0,\n",
      "  \"likelihood\\_of\\_minority\\_attack\": 0,\n",
      "  \"likelihood\\_of\\_takedown\\_on\\_social\\_media\": 0.2,\n",
      "  \"hate\\_speech\\_probability\": 0.\n",
      "}\n",
      "\n",
      "This statement doesn't contain explicit hate speech as it doesn't target any specific group based on race, ethnicity, gender, or other protected traits. Instead, it refers to general political and economic issues in the USA. The statement mentions the terms \"bailouts,\" \"crony,\" \"manipulated,\" and \"employment,\" which are common in public discourse and do not carry a vitriolic or hateful tone in this context. There is a non-zero likelihood of the statement being taken down on social media due to the sensitive nature of the political topics discussed, but that's not related to the presence of hate speech\n"
     ]
    },
    {
     "name": "stderr",
     "output_type": "stream",
     "text": [
      " 11%|█         | 53/478 [03:31<32:28,  4.58s/it]"
     ]
    },
    {
     "name": "stdout",
     "output_type": "stream",
     "text": [
      "- = Wulfi = -\n",
      "['  \"hate_speech_probability\": 0.2,']\n"
     ]
    },
    {
     "name": "stderr",
     "output_type": "stream",
     "text": [
      " 11%|█▏        | 54/478 [03:37<34:11,  4.84s/it]"
     ]
    },
    {
     "name": "stdout",
     "output_type": "stream",
     "text": [
      "LOL GJ brother 10 points for the Uber humans and - 10 for the sub human ape creatures you are truly one bad mofo whitey crakker man\n",
      "['  \"hate_speech_probability\": 0.9,']\n"
     ]
    },
    {
     "name": "stderr",
     "output_type": "stream",
     "text": [
      " 12%|█▏        | 55/478 [03:40<31:01,  4.40s/it]"
     ]
    },
    {
     "name": "stdout",
     "output_type": "stream",
     "text": [
      "Welcome to Stormfront , the largest White Nationalist community on the web .\n",
      "['  \"hate_speech_probability\": 1.']\n"
     ]
    },
    {
     "name": "stderr",
     "output_type": "stream",
     "text": [
      " 12%|█▏        | 56/478 [03:43<28:27,  4.05s/it]"
     ]
    },
    {
     "name": "stdout",
     "output_type": "stream",
     "text": [
      "This family that wants to complain about gays should come to San Francisco and raise some hell at these gay pride events .... a much better target ..... and these people in San Francisco openly blasphemied Christ with their parody of ' The Last Supper `` as their poster for their last event .\n",
      "['  \"hate_speech_probability\": 0.6']\n"
     ]
    },
    {
     "name": "stderr",
     "output_type": "stream",
     "text": [
      " 12%|█▏        | 57/478 [03:47<27:30,  3.92s/it]"
     ]
    },
    {
     "name": "stdout",
     "output_type": "stream",
     "text": [
      "That or it might be that Blacks have smaller brains and an IQ 15-30 points lower than that of White people on average .\n",
      "['  \"hate_speech_probability\": 0.9']\n"
     ]
    },
    {
     "name": "stderr",
     "output_type": "stream",
     "text": [
      " 12%|█▏        | 58/478 [03:50<25:11,  3.60s/it]"
     ]
    },
    {
     "name": "stdout",
     "output_type": "stream",
     "text": [
      "Do ` F * ck with our families , buckwheat !!\n",
      "['  \"hate_speech_probability\": 1']\n"
     ]
    },
    {
     "name": "stderr",
     "output_type": "stream",
     "text": [
      " 12%|█▏        | 59/478 [03:53<25:36,  3.67s/it]"
     ]
    },
    {
     "name": "stdout",
     "output_type": "stream",
     "text": [
      "Perhaps I should walk back into my H.S. when it starts Monday and get on the P.A. system and say I want to tie all * * * * * * s to the back of my car and drag them across the ground till they die , and then say I 'm joking .\n",
      "['  \"hate_speech_probability\": 0.9,']\n"
     ]
    },
    {
     "name": "stderr",
     "output_type": "stream",
     "text": [
      " 13%|█▎        | 60/478 [03:58<26:52,  3.86s/it]"
     ]
    },
    {
     "name": "stdout",
     "output_type": "stream",
     "text": [
      "Let mother nature evolve these people naturally because no amount of money or aid is going to drag these ' things ' into the civilized world where they serve absolutely no purpose .\n",
      "['  \"hate_speech_probability\": 0.5,']\n"
     ]
    },
    {
     "name": "stderr",
     "output_type": "stream",
     "text": [
      " 13%|█▎        | 61/478 [04:02<27:56,  4.02s/it]"
     ]
    },
    {
     "name": "stdout",
     "output_type": "stream",
     "text": [
      "No doubt they 'll be coming up with chocolate-colored Leprechauns and a Chinese flavored Uncle Sam 's too .\n",
      "['  \"hate_speech_probability\": 0.9,']\n"
     ]
    },
    {
     "name": "stderr",
     "output_type": "stream",
     "text": [
      " 13%|█▎        | 62/478 [04:07<29:21,  4.24s/it]"
     ]
    },
    {
     "name": "stdout",
     "output_type": "stream",
     "text": [
      "Maybe they will be resettled deliberately as refugees or maybe they will come for the women like the chinese men are doing .\n",
      "['  \"hate_speech_probability\": 0.4,']\n"
     ]
    },
    {
     "name": "stderr",
     "output_type": "stream",
     "text": [
      " 13%|█▎        | 63/478 [04:10<27:45,  4.01s/it]"
     ]
    },
    {
     "name": "stdout",
     "output_type": "stream",
     "text": [
      "We all know that when their are too many ethnics , the neighbourhood soon turn 's into a slum .\n",
      "['  \"hate_speech_probability\": 0.7,']\n"
     ]
    },
    {
     "name": "stderr",
     "output_type": "stream",
     "text": [
      " 13%|█▎        | 64/478 [04:17<33:04,  4.79s/it]"
     ]
    },
    {
     "name": "stdout",
     "output_type": "stream",
     "text": [
      "More black-on-white hate crime videos are posted here : http://ethniccrime.blogspot.com/p/ra...-on-video.html\n",
      "['  \"hate_speech_probability\": 0.8,']\n"
     ]
    },
    {
     "name": "stderr",
     "output_type": "stream",
     "text": [
      " 14%|█▎        | 65/478 [04:21<31:44,  4.61s/it]"
     ]
    },
    {
     "name": "stdout",
     "output_type": "stream",
     "text": [
      "Whites have the following Too many abortions , too many mixed marriages , too many no kids marriages , and too many liberals .\n",
      "['\"hate_speech_probability\": 0.3,']\n"
     ]
    },
    {
     "name": "stderr",
     "output_type": "stream",
     "text": [
      " 14%|█▍        | 66/478 [04:25<31:00,  4.51s/it]"
     ]
    },
    {
     "name": "stdout",
     "output_type": "stream",
     "text": [
      "somebody``hcf''calledputin``ahero''!lololol!This``hero''finallytransformedformersovietjewnion in ``russian''judea!In this misery-torn country-are there-70 officially billionaries , tens f thousands millionaries , and tens of millions of poor and miserable who look for their pittance at the garbage places !\n",
      "['  \"hate_speech_probability\": 0.8']\n"
     ]
    },
    {
     "name": "stderr",
     "output_type": "stream",
     "text": [
      " 14%|█▍        | 67/478 [04:31<32:38,  4.76s/it]"
     ]
    },
    {
     "name": "stdout",
     "output_type": "stream",
     "text": [
      "I could never picture the site of one of the women of the Holy Rus shacking up with some Islamic mud from that fithy , impoverished , and godforsaken mountainous * * * * hole !\n",
      "['\"hate_speech_probability\": 0.9']\n"
     ]
    },
    {
     "name": "stderr",
     "output_type": "stream",
     "text": [
      " 14%|█▍        | 68/478 [04:35<31:23,  4.59s/it]"
     ]
    },
    {
     "name": "stdout",
     "output_type": "stream",
     "text": [
      "YouTube - Teacher Attacked for Being White 9 year old attacks white teacher , explicitly `` because she was white . ''\n",
      "['  \"hate_speech_probability\": 0.9,']\n"
     ]
    },
    {
     "name": "stderr",
     "output_type": "stream",
     "text": [
      " 14%|█▍        | 69/478 [04:40<32:40,  4.79s/it]"
     ]
    },
    {
     "name": "stdout",
     "output_type": "stream",
     "text": [
      "I do n't know about you but I rather fight a 2m swedish male than a 1.70m asian kung fu expert .\n",
      "['  \"hate_speech_probability\": 0.2,']\n"
     ]
    },
    {
     "name": "stderr",
     "output_type": "stream",
     "text": [
      " 15%|█▍        | 70/478 [04:44<30:59,  4.56s/it]"
     ]
    },
    {
     "name": "stdout",
     "output_type": "stream",
     "text": [
      "So you would refuse even other Nordic whites fleeing the brown chaos in the south ?\n",
      "['  \"hate_speech_probability\": 0.8,']\n"
     ]
    },
    {
     "name": "stderr",
     "output_type": "stream",
     "text": [
      " 15%|█▍        | 71/478 [04:47<28:13,  4.16s/it]"
     ]
    },
    {
     "name": "stdout",
     "output_type": "stream",
     "text": [
      "I would like to say and I can proudly say that there are no jews in Iceland , those that tried to get here were all sent back to Germany ...\n",
      "['  \"hate_speech_probability\": 0.9,']\n"
     ]
    },
    {
     "name": "stderr",
     "output_type": "stream",
     "text": [
      " 15%|█▌        | 72/478 [04:51<26:46,  3.96s/it]"
     ]
    },
    {
     "name": "stdout",
     "output_type": "stream",
     "text": [
      "When the homos tried to have a fag pride parade in Serbia a few years ago they were beaten up .\n",
      "['  \"hate_speech_probability\": 0.8']\n"
     ]
    },
    {
     "name": "stderr",
     "output_type": "stream",
     "text": [
      " 15%|█▌        | 73/478 [04:55<25:56,  3.84s/it]"
     ]
    },
    {
     "name": "stdout",
     "output_type": "stream",
     "text": [
      "Some of them claim that they would like to go back home one day but after a few years in Finland they will no longer have this wish .\n",
      "['  \"hate_speech_probability\": 0,']\n"
     ]
    },
    {
     "name": "stderr",
     "output_type": "stream",
     "text": [
      " 15%|█▌        | 74/478 [04:58<25:41,  3.82s/it]"
     ]
    },
    {
     "name": "stdout",
     "output_type": "stream",
     "text": [
      "Wolf 278\n",
      "['  hate_speech_probability: 0.3,']\n"
     ]
    },
    {
     "name": "stderr",
     "output_type": "stream",
     "text": [
      " 16%|█▌        | 75/478 [05:02<25:25,  3.78s/it]"
     ]
    },
    {
     "name": "stdout",
     "output_type": "stream",
     "text": [
      "To hell with what this creature thinks anyway .\n",
      "['  \"hate_speech_probability\": 0.1,']\n"
     ]
    },
    {
     "name": "stderr",
     "output_type": "stream",
     "text": [
      " 16%|█▌        | 76/478 [05:05<24:00,  3.58s/it]"
     ]
    },
    {
     "name": "stdout",
     "output_type": "stream",
     "text": [
      "Its disgusting they these foreigners come over here , stamp their feet and jump above good Irish families and get what they want .\n",
      "['  \"hate_speech_probability\": 0.5']\n"
     ]
    },
    {
     "name": "stderr",
     "output_type": "stream",
     "text": [
      " 16%|█▌        | 77/478 [05:09<25:19,  3.79s/it]"
     ]
    },
    {
     "name": "stdout",
     "output_type": "stream",
     "text": [
      "Back to where ya came from !\n",
      "['  \"hate_speech_probability\": 0.3']\n"
     ]
    },
    {
     "name": "stderr",
     "output_type": "stream",
     "text": [
      " 16%|█▋        | 78/478 [05:14<26:05,  3.91s/it]"
     ]
    },
    {
     "name": "stdout",
     "output_type": "stream",
     "text": [
      "It just goes to show that the IRA are just criminals and not freedom fighters as they claim .\n",
      "['  \"hate_speech_probability\": 0.']\n"
     ]
    },
    {
     "name": "stderr",
     "output_type": "stream",
     "text": [
      " 17%|█▋        | 79/478 [05:18<27:36,  4.15s/it]"
     ]
    },
    {
     "name": "stdout",
     "output_type": "stream",
     "text": [
      "18 times in the last 20 years It 's time for the next generation to fight back to regain our country ..... the baby boomers will lose it for us if we do nothing .\n",
      "['  \"hate_speech_probability\": 0.3,']\n"
     ]
    },
    {
     "name": "stderr",
     "output_type": "stream",
     "text": [
      " 17%|█▋        | 80/478 [05:22<26:36,  4.01s/it]"
     ]
    },
    {
     "name": "stdout",
     "output_type": "stream",
     "text": [
      "I just need to turn on a tv and I see it advertised everywhere , mostly African apes with attractive white woman .\n",
      "['  \"hate_speech_probability\": 0.9.']\n"
     ]
    },
    {
     "name": "stderr",
     "output_type": "stream",
     "text": [
      " 17%|█▋        | 81/478 [05:28<30:22,  4.59s/it]"
     ]
    },
    {
     "name": "stdout",
     "output_type": "stream",
     "text": [
      "The Official Website of the British People 's Party A few unpleasant truths re. the zionist ass lickers of the DUP\n",
      "['  \"hate_speech_probability\": 0.5,']\n"
     ]
    },
    {
     "name": "stderr",
     "output_type": "stream",
     "text": [
      " 17%|█▋        | 82/478 [05:32<28:42,  4.35s/it]"
     ]
    },
    {
     "name": "stdout",
     "output_type": "stream",
     "text": [
      "I have to say I was shocked when he said the kids at his ( Junior ) school spoke 31 different languages and teachers have had to devise a system of hand signals to communicate !\n",
      "['  \"hate_speech_probability\": 0.1']\n"
     ]
    },
    {
     "name": "stderr",
     "output_type": "stream",
     "text": [
      " 17%|█▋        | 83/478 [05:36<27:56,  4.24s/it]"
     ]
    },
    {
     "name": "stdout",
     "output_type": "stream",
     "text": [
      "We do not want `` assimilation '' .\n",
      "['  \"hate_speech_probability\": 0.2,']\n"
     ]
    },
    {
     "name": "stderr",
     "output_type": "stream",
     "text": [
      " 18%|█▊        | 84/478 [05:41<28:58,  4.41s/it]"
     ]
    },
    {
     "name": "stdout",
     "output_type": "stream",
     "text": [
      "Its got to be a quote from someone .\n",
      "['  hate_speech_probability: 0.4,']\n"
     ]
    },
    {
     "name": "stderr",
     "output_type": "stream",
     "text": [
      " 18%|█▊        | 85/478 [05:44<27:04,  4.13s/it]"
     ]
    },
    {
     "name": "stdout",
     "output_type": "stream",
     "text": [
      "Any bother u go on lock down no one gets out the cells so its not that bad prison is 24 hour boredom ..\n",
      "['  \"hate_speech_probability\": 0,']\n"
     ]
    },
    {
     "name": "stderr",
     "output_type": "stream",
     "text": [
      " 18%|█▊        | 86/478 [05:47<25:19,  3.88s/it]"
     ]
    },
    {
     "name": "stdout",
     "output_type": "stream",
     "text": [
      "If you come down n ' around Sacramento California area send me a message .\n",
      "['  \"hate_speech_probability\": 0.0']\n"
     ]
    },
    {
     "name": "stderr",
     "output_type": "stream",
     "text": [
      " 18%|█▊        | 87/478 [05:54<29:53,  4.59s/it]"
     ]
    },
    {
     "name": "stdout",
     "output_type": "stream",
     "text": [
      "Hi i need some information to understand the meaning of the negrogreek homo and the race-mixer tag of the HELLENIC THREAD .\n",
      "['  \"hate_speech_probability\": 0.5,']\n"
     ]
    },
    {
     "name": "stderr",
     "output_type": "stream",
     "text": [
      " 18%|█▊        | 88/478 [05:57<26:47,  4.12s/it]"
     ]
    },
    {
     "name": "stdout",
     "output_type": "stream",
     "text": [
      "I can get a ride to see you some time this summer if that is cool i need to get up with someone in NJ as it is his name is HAL i have talk to him but i want to meet him so when i go to see him I can stop to see you if that is ok\n",
      "{\n",
      "  \"relevant\\_facts\\_from\\_the\\_cultural\\_context\": [\n",
      "    \"The speaker mentions wanting to meet someone named HAL in New Jersey.\"\n",
      "  ],\n",
      "  \"relevant\\_word\\_definitions\": {},\n",
      "  \"contained\\_explicit\\_racist\\_vocabulary\": [],\n",
      "  \"contained\\_explicit\\_sexist\\_vocabulary\": [],\n",
      "  \"contained\\_explicit\\_toxic\\_vocabulary\": [],\n",
      "  \"argument\\_for\\_hate\\_speech\": \"The context does not provide sufficient information to determine if hate speech is present.\",\n",
      "  \"argument\\_against\\_hate\\_speech\": \"There is no explicit hate speech in the given sentence.\",\n",
      "  \"likelihood\\_of\\_presence\\_of\\_implicit\\_hate\\_speech\": 0.1,\n",
      "  \"likelihood\\_of\\_presence\\_of\\_explicit\\_hate\\_speech\": 0,\n",
      "  \"likelihood\\_of\\_ad\\_hominin\\_attack\": 0.2,\n",
      "  \"likelihood\\_of\\_minority\\_attack\": 0,\n",
      "  \"likelihood\\_of\\_takedown\\_on\\_social\\_media\": 0.1,\n",
      "  \"hate\\_speech\\_probability\": 0\n"
     ]
    },
    {
     "name": "stderr",
     "output_type": "stream",
     "text": [
      " 19%|█▊        | 89/478 [06:00<24:57,  3.85s/it]"
     ]
    },
    {
     "name": "stdout",
     "output_type": "stream",
     "text": [
      "I 'll be at that show AND I 'm a brunette .\n",
      "['  \"hate_speech_probability\": 0,']\n"
     ]
    },
    {
     "name": "stderr",
     "output_type": "stream",
     "text": [
      " 19%|█▉        | 90/478 [06:04<26:21,  4.08s/it]"
     ]
    },
    {
     "name": "stdout",
     "output_type": "stream",
     "text": [
      "TY!\n",
      "['  \"hate_speech_probability\": 0.5,']\n"
     ]
    },
    {
     "name": "stderr",
     "output_type": "stream",
     "text": [
      " 19%|█▉        | 91/478 [06:09<28:05,  4.36s/it]"
     ]
    },
    {
     "name": "stdout",
     "output_type": "stream",
     "text": [
      "BTW .. update coming soon with info on my drive back to Florida .\n",
      "['  \"hate_speech_probability\": 0.4,']\n"
     ]
    },
    {
     "name": "stderr",
     "output_type": "stream",
     "text": [
      " 19%|█▉        | 92/478 [06:13<26:56,  4.19s/it]"
     ]
    },
    {
     "name": "stdout",
     "output_type": "stream",
     "text": [
      "I got stuck next to a really huge black woman who stunk to high heaven , and spent the entire ride with my face as close to the window as I could get .\n",
      "['  \"hate_speech_probability\": 0.5,']\n"
     ]
    },
    {
     "name": "stderr",
     "output_type": "stream",
     "text": [
      " 19%|█▉        | 93/478 [06:17<25:54,  4.04s/it]"
     ]
    },
    {
     "name": "stdout",
     "output_type": "stream",
     "text": [
      "The kikes probably put the Leftist up to it , to make it seem like they do n't have total control of everyone .\n",
      "['  \"hate_speech_probability\": 0.7']\n"
     ]
    },
    {
     "name": "stderr",
     "output_type": "stream",
     "text": [
      " 20%|█▉        | 94/478 [06:20<24:34,  3.84s/it]"
     ]
    },
    {
     "name": "stdout",
     "output_type": "stream",
     "text": [
      "oddly i would find it worst if she here black , since Negroes are the most inferior and scum bag humanoid race in our planet .\n",
      "{\n",
      "\"relevant_facts_from_the_cultural_context\": [\n",
      "\"Historical use of derogatory terms towards Black people in the US.\",\n",
      "\"Racial slurs and epithets have been used to dehumanize and stereotype Black people.\"\n",
      "],\n",
      "\"relevant_word_definitions\": {\n",
      "\"inferior\": \"below average in ability, quality, or position due to genetic or other factors\",\n",
      "\"scum bag\": \"a disreputable or contemptible person\"\n",
      "},\n",
      "\"contained_explicit_racist_vocabulary\": [\"Negroes\", \"inferior\", \"scum bag\"],\n",
      "\"argument_for_hate_speech\": \"This sentence contains explicit racist language and dehumanizes Black people, making it hate speech.\",\n",
      "\"argument_against_hate_speech\": \"None. The racist language and hateful sentiment expressed in this sentence clearly make it hate speech.\",\n",
      "\"likelihood_of_presence_of_implicit_hate_speech\": 0,\n",
      "\"likelihood_of_presence_of_explicit_hate_speech\": 1,\n",
      "\"likelihood_of_ad_hominin_attack\": 0,\n",
      "\"likelihood_of_minority_attack\": 1,\n",
      "\"likelihood_of_takedown_on_social_media\": 1\n"
     ]
    },
    {
     "name": "stderr",
     "output_type": "stream",
     "text": [
      " 20%|█▉        | 95/478 [06:24<25:00,  3.92s/it]"
     ]
    },
    {
     "name": "stdout",
     "output_type": "stream",
     "text": [
      "Stop showing off South Asian functional illiteracy .\n",
      "['  \"hate_speech_probability\": 0.8']\n"
     ]
    },
    {
     "name": "stderr",
     "output_type": "stream",
     "text": [
      " 20%|██        | 96/478 [06:28<24:30,  3.85s/it]"
     ]
    },
    {
     "name": "stdout",
     "output_type": "stream",
     "text": [
      "The above poster is correct when we stop supporting then they 're in terrible danger .\n",
      "['  \"hate_speech_probability\": 0.3']\n"
     ]
    },
    {
     "name": "stderr",
     "output_type": "stream",
     "text": [
      " 20%|██        | 97/478 [06:33<26:04,  4.11s/it]"
     ]
    },
    {
     "name": "stdout",
     "output_type": "stream",
     "text": [
      "I am not going to be beat down by a dyke , fag , or coon .\n",
      "['  \"hate_speech_probability\": 1,']\n"
     ]
    },
    {
     "name": "stderr",
     "output_type": "stream",
     "text": [
      " 21%|██        | 98/478 [06:37<25:50,  4.08s/it]"
     ]
    },
    {
     "name": "stdout",
     "output_type": "stream",
     "text": [
      "Sometimes I wonder if it is Because Whites are so much smarter that they find it harder to run together , as opposed to , independently .\n",
      "['  \"hate_speech_probability\": 0.4,']\n"
     ]
    },
    {
     "name": "stderr",
     "output_type": "stream",
     "text": [
      " 21%|██        | 99/478 [06:40<23:37,  3.74s/it]"
     ]
    },
    {
     "name": "stdout",
     "output_type": "stream",
     "text": [
      "We say here that if we want to be lied to just watch the news !\n",
      "['  \"hate_speech_probability\": 0']\n"
     ]
    },
    {
     "name": "stderr",
     "output_type": "stream",
     "text": [
      " 21%|██        | 100/478 [06:43<23:13,  3.69s/it]"
     ]
    },
    {
     "name": "stdout",
     "output_type": "stream",
     "text": [
      "Lying Marxists !\n",
      "['  \"hate_speech_probability\": 0.3']\n"
     ]
    },
    {
     "name": "stderr",
     "output_type": "stream",
     "text": [
      " 21%|██        | 101/478 [06:48<25:15,  4.02s/it]"
     ]
    },
    {
     "name": "stdout",
     "output_type": "stream",
     "text": [
      "Listening now .\n",
      "['  \"hate_speech_probability\": 0.3,']\n"
     ]
    },
    {
     "name": "stderr",
     "output_type": "stream",
     "text": [
      " 21%|██▏       | 102/478 [06:52<25:05,  4.00s/it]"
     ]
    },
    {
     "name": "stdout",
     "output_type": "stream",
     "text": [
      "When I watch things like this I pray God will have vengeance on these sub humans even if they have asked for forgiveness .\n",
      "['  \"hate_speech_probability\": 0.8']\n"
     ]
    },
    {
     "name": "stderr",
     "output_type": "stream",
     "text": [
      " 22%|██▏       | 103/478 [06:56<24:15,  3.88s/it]"
     ]
    },
    {
     "name": "stdout",
     "output_type": "stream",
     "text": [
      "Hell to have a teacher like this .\n",
      "['  \"hate_speech_probability\": 0.05']\n"
     ]
    },
    {
     "name": "stderr",
     "output_type": "stream",
     "text": [
      " 22%|██▏       | 104/478 [07:00<25:04,  4.02s/it]"
     ]
    },
    {
     "name": "stdout",
     "output_type": "stream",
     "text": [
      "This is the argument homosexuals use to justify their behavior , that because there are no `` red letters '' about it , then homosexuality is not a bad thing .\n",
      "['  \"hate_speech_probability\": 0.1']\n"
     ]
    },
    {
     "name": "stderr",
     "output_type": "stream",
     "text": [
      " 22%|██▏       | 105/478 [07:04<25:08,  4.04s/it]"
     ]
    },
    {
     "name": "stdout",
     "output_type": "stream",
     "text": [
      "Like the parasites they are they simply moved to a new host , to continue their destruction of Western White civilization and culture\n",
      "['  \"hate_speech_probability\": 0.6']\n"
     ]
    },
    {
     "name": "stderr",
     "output_type": "stream",
     "text": [
      " 22%|██▏       | 106/478 [07:07<23:27,  3.78s/it]"
     ]
    },
    {
     "name": "stdout",
     "output_type": "stream",
     "text": [
      "I've told my friends and all of them agree with me ( some only partially ) .\n",
      "['  \"hate_speech_probability\": 0']\n"
     ]
    },
    {
     "name": "stderr",
     "output_type": "stream",
     "text": [
      " 22%|██▏       | 107/478 [07:12<24:55,  4.03s/it]"
     ]
    },
    {
     "name": "stdout",
     "output_type": "stream",
     "text": [
      "It makes my flesh crawl when I see white girls having to be felt up as they walk down the hallways by big lipped spear chuckers. : attack\n",
      "['  \"hate_speech_probability\": 0.9,']\n"
     ]
    },
    {
     "name": "stderr",
     "output_type": "stream",
     "text": [
      " 23%|██▎       | 108/478 [07:16<24:24,  3.96s/it]"
     ]
    },
    {
     "name": "stdout",
     "output_type": "stream",
     "text": [
      "Blacks hate whites .\n",
      "['  \"hate_speech_probability\": 0.7']\n"
     ]
    },
    {
     "name": "stderr",
     "output_type": "stream",
     "text": [
      " 23%|██▎       | 109/478 [07:20<24:54,  4.05s/it]"
     ]
    },
    {
     "name": "stdout",
     "output_type": "stream",
     "text": [
      "I think it is a bit late to think to look after the safety and the future of white people in South africa .\n",
      "['  \"hate_speech_probability\": 0.2']\n"
     ]
    },
    {
     "name": "stderr",
     "output_type": "stream",
     "text": [
      " 23%|██▎       | 110/478 [07:24<24:03,  3.92s/it]"
     ]
    },
    {
     "name": "stdout",
     "output_type": "stream",
     "text": [
      "My favorite part : And still he ca n't see the truth right in front of his face .\n",
      "['  \"hate_speech_probability\": 0.3,']\n"
     ]
    },
    {
     "name": "stderr",
     "output_type": "stream",
     "text": [
      " 23%|██▎       | 111/478 [07:29<26:44,  4.37s/it]"
     ]
    },
    {
     "name": "stdout",
     "output_type": "stream",
     "text": [
      "It 's going viral on Youtube - warning the lesbian ' groid gets aggressive on the whites for whatever reason : YouTube - Video Caught On Tape Lesbian Or Young Man Going Wild On BART Train In Oakland !\n",
      "['  \"hate_speech_probability\": 0.7']\n"
     ]
    },
    {
     "name": "stderr",
     "output_type": "stream",
     "text": [
      " 23%|██▎       | 112/478 [07:33<26:21,  4.32s/it]"
     ]
    },
    {
     "name": "stdout",
     "output_type": "stream",
     "text": [
      "More impulsive Negro stripping ...\n",
      "['  \"hate_speech_probability\": 0.8,']\n"
     ]
    },
    {
     "name": "stderr",
     "output_type": "stream",
     "text": [
      " 24%|██▎       | 113/478 [07:37<24:33,  4.04s/it]"
     ]
    },
    {
     "name": "stdout",
     "output_type": "stream",
     "text": [
      "There are so many race mixing ads on TV that it gets overwhelming .\n",
      "['  \"hate_speech_probability\": 0.3']\n"
     ]
    },
    {
     "name": "stderr",
     "output_type": "stream",
     "text": [
      " 24%|██▍       | 114/478 [07:40<23:40,  3.90s/it]"
     ]
    },
    {
     "name": "stdout",
     "output_type": "stream",
     "text": [
      "When I was last time in South Africa , we went to Sun City and saw little black monkey children swimming , funniest thing was watching drying water off their faces , it looks exactly like baboon or something , way they do it , whites have certain mannerisms with doing things , they have completely ape-like ones .\n",
      "['  \"hate_speech_probability\": 0.6']\n"
     ]
    },
    {
     "name": "stderr",
     "output_type": "stream",
     "text": [
      " 24%|██▍       | 115/478 [07:44<24:19,  4.02s/it]"
     ]
    },
    {
     "name": "stdout",
     "output_type": "stream",
     "text": [
      "Their stories have been told before , so instead of showing the pics of the non WHITE garbage that took from them , I am just going to post their pics so they will not be forgotten .\n",
      "['\"hate_speech_probability\": 0.4']\n"
     ]
    },
    {
     "name": "stderr",
     "output_type": "stream",
     "text": [
      " 24%|██▍       | 116/478 [07:49<25:08,  4.17s/it]"
     ]
    },
    {
     "name": "stdout",
     "output_type": "stream",
     "text": [
      "I 'm angry against myself for just letting this whole world drown into a jewish cesspool .\n",
      "['  \"hate_speech_probability\": 0.4,']\n"
     ]
    },
    {
     "name": "stderr",
     "output_type": "stream",
     "text": [
      " 24%|██▍       | 117/478 [07:50<19:10,  3.19s/it]"
     ]
    },
    {
     "name": "stdout",
     "output_type": "stream",
     "text": [
      "Comparing these pictures to pictures with serbs I do n't see much difference between them and albanians , the same Dinaric and Mediterranean subtypes .\n",
      "{\n",
      "  \"relevant_facts_from_the_cultural_context\": [\n",
      "    \"Comparing physical appearances of different ethnic groups is\n"
     ]
    },
    {
     "name": "stderr",
     "output_type": "stream",
     "text": [
      " 25%|██▍       | 118/478 [07:54<21:12,  3.53s/it]"
     ]
    },
    {
     "name": "stdout",
     "output_type": "stream",
     "text": [
      "They 're probably as high-maintenance as one of those crappy old East German Trabants , though .\n",
      "['  \"hate_speech_probability\": 0.1,']\n"
     ]
    },
    {
     "name": "stderr",
     "output_type": "stream",
     "text": [
      " 25%|██▍       | 119/478 [07:58<21:59,  3.68s/it]"
     ]
    },
    {
     "name": "stdout",
     "output_type": "stream",
     "text": [
      "14 !\n",
      "['  \"hate_speech_probability\": 0.0']\n"
     ]
    },
    {
     "name": "stderr",
     "output_type": "stream",
     "text": [
      " 25%|██▌       | 120/478 [08:02<21:53,  3.67s/it]"
     ]
    },
    {
     "name": "stdout",
     "output_type": "stream",
     "text": [
      "Aragorn\n",
      "['  \"hate_speech_probability\": 0']\n"
     ]
    },
    {
     "name": "stderr",
     "output_type": "stream",
     "text": [
      " 25%|██▌       | 121/478 [08:05<20:06,  3.38s/it]"
     ]
    },
    {
     "name": "stdout",
     "output_type": "stream",
     "text": [
      "But as for them adopting kids , the answer is NO .\n",
      "['  \"hate_speech_probability\": 0']\n"
     ]
    },
    {
     "name": "stderr",
     "output_type": "stream",
     "text": [
      " 26%|██▌       | 122/478 [08:09<22:31,  3.80s/it]"
     ]
    },
    {
     "name": "stdout",
     "output_type": "stream",
     "text": [
      "Ethnic crime never ends it seems .\n",
      "['  \"hate_speech_probability\": 0.55,']\n"
     ]
    },
    {
     "name": "stderr",
     "output_type": "stream",
     "text": [
      " 26%|██▌       | 123/478 [08:14<23:54,  4.04s/it]"
     ]
    },
    {
     "name": "stdout",
     "output_type": "stream",
     "text": [
      "It 's more fun that way , too .\n",
      "['  \"hate_speech_probability\": 0.1,']\n"
     ]
    },
    {
     "name": "stderr",
     "output_type": "stream",
     "text": [
      " 26%|██▌       | 124/478 [08:19<26:06,  4.42s/it]"
     ]
    },
    {
     "name": "stdout",
     "output_type": "stream",
     "text": [
      "More likely they 're afraid of having to marry and deal with a snotty GI-Jane-dyke , only to be dragged into court and have the kids and house taken a few years later .\n",
      "['  \"hate_speech_probability\": 0.9,']\n"
     ]
    },
    {
     "name": "stderr",
     "output_type": "stream",
     "text": [
      " 26%|██▌       | 125/478 [08:24<26:45,  4.55s/it]"
     ]
    },
    {
     "name": "stdout",
     "output_type": "stream",
     "text": [
      "Its only a matter of time until we become a hell hole like Sweden or the UK .\n",
      "['  \"hate_speech_probability\": 0.1.']\n"
     ]
    },
    {
     "name": "stderr",
     "output_type": "stream",
     "text": [
      " 26%|██▋       | 126/478 [08:29<27:36,  4.71s/it]"
     ]
    },
    {
     "name": "stdout",
     "output_type": "stream",
     "text": [
      "So according to your logic since blacks have been in N.America for hundreds of yrs they should be allowed to stay ? and yes whites should leave africa .\n",
      "['  \"hate_speech_probability\": 0.3']\n"
     ]
    },
    {
     "name": "stderr",
     "output_type": "stream",
     "text": [
      " 27%|██▋       | 127/478 [08:34<27:02,  4.62s/it]"
     ]
    },
    {
     "name": "stdout",
     "output_type": "stream",
     "text": [
      "The red scum will never wake up , ignorant lefties fight for `` their class '' when their making a mockery of their culture and heritage . commie scum ..\n",
      "['  \"hate_speech_probability\": 0.3,']\n"
     ]
    },
    {
     "name": "stderr",
     "output_type": "stream",
     "text": [
      " 27%|██▋       | 128/478 [08:38<25:47,  4.42s/it]"
     ]
    },
    {
     "name": "stdout",
     "output_type": "stream",
     "text": [
      "Tralee is a disgrace , the place looks like a town in africa nowThe day Ireland becomes a muslim country is the day i stop breathing !\n",
      "['  \"hate_speech_probability\": 0.7,']\n"
     ]
    },
    {
     "name": "stderr",
     "output_type": "stream",
     "text": [
      " 27%|██▋       | 129/478 [08:42<25:45,  4.43s/it]"
     ]
    },
    {
     "name": "stdout",
     "output_type": "stream",
     "text": [
      "YouTube - Brussels on 9/11 : For a free Europe , against Islamization\n",
      "['  \"hate_speech_probability\": 0.8']\n"
     ]
    },
    {
     "name": "stderr",
     "output_type": "stream",
     "text": [
      " 27%|██▋       | 130/478 [08:45<23:30,  4.05s/it]"
     ]
    },
    {
     "name": "stdout",
     "output_type": "stream",
     "text": [
      "Even if they do stop pouring in most of those that are here have no intention of going back to poland .\n",
      "['  \"hate_speech_probability\": 0.1']\n"
     ]
    },
    {
     "name": "stderr",
     "output_type": "stream",
     "text": [
      " 27%|██▋       | 131/478 [08:49<23:41,  4.10s/it]"
     ]
    },
    {
     "name": "stdout",
     "output_type": "stream",
     "text": [
      "I heard about it is it about that white guy that killed that race traitor slut and her nig nog boyfriend ?\n",
      "['  \"hate_speech_probability\": 1.0']\n"
     ]
    },
    {
     "name": "stderr",
     "output_type": "stream",
     "text": [
      " 28%|██▊       | 132/478 [08:54<24:51,  4.31s/it]"
     ]
    },
    {
     "name": "stdout",
     "output_type": "stream",
     "text": [
      "Should the guy who sang cop killer also have a trial , because he tragted a minority , cops .\n",
      "['  hate_speech_probability: 0.5,']\n"
     ]
    },
    {
     "name": "stderr",
     "output_type": "stream",
     "text": [
      " 28%|██▊       | 133/478 [08:58<24:23,  4.24s/it]"
     ]
    },
    {
     "name": "stdout",
     "output_type": "stream",
     "text": [
      "It was probably written by a 15 year old .\n",
      "['  \"hate_speech_probability\": 0.5']\n"
     ]
    },
    {
     "name": "stderr",
     "output_type": "stream",
     "text": [
      " 28%|██▊       | 134/478 [09:02<23:35,  4.12s/it]"
     ]
    },
    {
     "name": "stdout",
     "output_type": "stream",
     "text": [
      "I do get my Theirs , theres and they 're , mixed up sometimes but i was educated under Labours rule so i cant be completly to blame .\n",
      "['  \"hate_speech_probability\": 0.1,']\n"
     ]
    },
    {
     "name": "stderr",
     "output_type": "stream",
     "text": [
      " 28%|██▊       | 135/478 [09:07<24:18,  4.25s/it]"
     ]
    },
    {
     "name": "stdout",
     "output_type": "stream",
     "text": [
      "The chairman of the FA is one David Bernstein and , yes , he is a member of a certain tribe that delight in bringing diversity and the benefits of multi-culturalism and ' anti-racism ' , along with boatloads of third-worlders to Britain .\n",
      "['  \"hate_speech_probability\": 0.2']\n"
     ]
    },
    {
     "name": "stderr",
     "output_type": "stream",
     "text": [
      " 28%|██▊       | 136/478 [09:10<22:50,  4.01s/it]"
     ]
    },
    {
     "name": "stdout",
     "output_type": "stream",
     "text": [
      "You Anglo-Americans are all welcome to England if you can perform the ' small ' task of riding London of it 's ethnics !\n",
      "['  \"hate_speech_probability\": 0.9']\n"
     ]
    },
    {
     "name": "stderr",
     "output_type": "stream",
     "text": [
      " 29%|██▊       | 137/478 [09:14<22:20,  3.93s/it]"
     ]
    },
    {
     "name": "stdout",
     "output_type": "stream",
     "text": [
      "Thank you brother .\n",
      "['  hate_speech_probability: 0.4']\n"
     ]
    },
    {
     "name": "stderr",
     "output_type": "stream",
     "text": [
      " 29%|██▉       | 138/478 [09:17<21:30,  3.80s/it]"
     ]
    },
    {
     "name": "stdout",
     "output_type": "stream",
     "text": [
      "I was sure that they were lying about the numbers and it 's must be the same in every country IMO .\n",
      "['  \"hate_speech_probability\": 0.3']\n"
     ]
    },
    {
     "name": "stderr",
     "output_type": "stream",
     "text": [
      " 29%|██▉       | 139/478 [09:21<21:47,  3.86s/it]"
     ]
    },
    {
     "name": "stdout",
     "output_type": "stream",
     "text": [
      "There have been times when I have walked past some nigerian or skinny and they will cough with hand at their side without care for those around them .\n",
      "['  \"hate_speech_probability\": 0.1,']\n"
     ]
    },
    {
     "name": "stderr",
     "output_type": "stream",
     "text": [
      " 29%|██▉       | 140/478 [09:24<20:35,  3.66s/it]"
     ]
    },
    {
     "name": "stdout",
     "output_type": "stream",
     "text": [
      "They are beating each other to death everywhere , just look what they do to each other in Africa .\n",
      "['  \"hate_speech_probability\": 0.5,']\n"
     ]
    },
    {
     "name": "stderr",
     "output_type": "stream",
     "text": [
      " 29%|██▉       | 141/478 [09:28<21:03,  3.75s/it]"
     ]
    },
    {
     "name": "stdout",
     "output_type": "stream",
     "text": [
      "Hey, I 'm looking to meet new people maybe find myself a nice white boy .\n",
      "['  \"hate_speech_probability\": 0.1.']\n"
     ]
    },
    {
     "name": "stderr",
     "output_type": "stream",
     "text": [
      " 30%|██▉       | 142/478 [09:33<22:18,  3.98s/it]"
     ]
    },
    {
     "name": "stdout",
     "output_type": "stream",
     "text": [
      "To me and the rest of my commrades on this wonderfull White Day !!! I hope you have loads of fun and be safe !!!!\n",
      "['  \"hate_speech_probability\": 0.2,']\n"
     ]
    },
    {
     "name": "stderr",
     "output_type": "stream",
     "text": [
      " 30%|██▉       | 143/478 [09:36<20:20,  3.64s/it]"
     ]
    },
    {
     "name": "stdout",
     "output_type": "stream",
     "text": [
      "A 750 lb boat with a 280 hp motor .\n",
      "['  \"hate_speech_probability\":0']\n"
     ]
    },
    {
     "name": "stderr",
     "output_type": "stream",
     "text": [
      " 30%|███       | 144/478 [09:39<19:50,  3.56s/it]"
     ]
    },
    {
     "name": "stdout",
     "output_type": "stream",
     "text": [
      "My buddy 's boat is anchored beside it .\n",
      "['  \"hate_speech_probability\": 0']\n"
     ]
    },
    {
     "name": "stderr",
     "output_type": "stream",
     "text": [
      " 30%|███       | 145/478 [09:43<19:59,  3.60s/it]"
     ]
    },
    {
     "name": "stdout",
     "output_type": "stream",
     "text": [
      "Maybe spread some HATE and intolerance ?\n",
      "['  \"hate_speech_probability\": 0.1,']\n"
     ]
    },
    {
     "name": "stderr",
     "output_type": "stream",
     "text": [
      " 31%|███       | 146/478 [09:46<18:21,  3.32s/it]"
     ]
    },
    {
     "name": "stdout",
     "output_type": "stream",
     "text": [
      "I used to enter horse competitions until I was thrown off one and broke my leg .\n",
      "{\n",
      "  \"relevant\\_facts\\_from\\_the\\_cultural\\_context\": [],\n",
      "  \"relevant\\_word\\_definitions\": {},\n",
      "  \"contained\\_explicit\\_racist\\_vocabulary\": [],\n",
      "  \"contained\\_explicit\\_sexist\\_vocabulary\": [],\n",
      "  \"contained\\_explicit\\_toxic\\_vocabulary\": [],\n",
      "  \"argument\\_for\\_hate\\_speech\": \"This statement does not contain any hate speech against a specific race, ethnicity, gender, or other protected group.\",\n",
      "  \"argument\\_against\\_hate\\_speech\": \"The sentence is about the person's personal experience with a horse racing accident.\",\n",
      "  \"likelihood\\_of\\_presence\\_of\\_implicit\\_hate\\_speech\": 0,\n",
      "  \"likelihood\\_of\\_presence\\_of\\_explicit\\_hate\\_speech\": 0,\n",
      "  \"likelihood\\_of\\_ad\\_hominin\\_attack\": 0,\n",
      "  \"likelihood\\_of\\_minority\\_attack\": 0,\n",
      "  \"likelihood\\_of\\_takedown\\_on\\_social\\_media\": 0,\n",
      "  \"hate\\_speech\\_probability\": 0.\n"
     ]
    },
    {
     "name": "stderr",
     "output_type": "stream",
     "text": [
      " 31%|███       | 147/478 [09:49<18:14,  3.31s/it]"
     ]
    },
    {
     "name": "stdout",
     "output_type": "stream",
     "text": [
      "They 're music is one of the reasons I decided to become a white nationalist in the first place .\n",
      "['  \"hate_speech_probability\": 0.3,']\n"
     ]
    },
    {
     "name": "stderr",
     "output_type": "stream",
     "text": [
      " 31%|███       | 148/478 [09:52<18:18,  3.33s/it]"
     ]
    },
    {
     "name": "stdout",
     "output_type": "stream",
     "text": [
      "KC skin boy looking for KC skin girl .\n",
      "['  \"hate_speech_probability\": 0,']\n"
     ]
    },
    {
     "name": "stderr",
     "output_type": "stream",
     "text": [
      " 31%|███       | 149/478 [09:56<19:05,  3.48s/it]"
     ]
    },
    {
     "name": "stdout",
     "output_type": "stream",
     "text": [
      "I lived in texas when i was younger , i know how tough some things can get . `` rasslin animals '' is half the fun\n",
      "['  \"hate_speech_probability\": 0,']\n"
     ]
    },
    {
     "name": "stderr",
     "output_type": "stream",
     "text": [
      " 31%|███▏      | 150/478 [10:01<20:47,  3.80s/it]"
     ]
    },
    {
     "name": "stdout",
     "output_type": "stream",
     "text": [
      "Living in a boarder state , Texas , the problems of illegal aliens is , naturally , a stark reality , and let me add that the only solution that I see is the implimentation of U.S. Troops as guards on the Mexican boarder .\n",
      "['  \"hate_speech_probability\": 0.2,']\n"
     ]
    },
    {
     "name": "stderr",
     "output_type": "stream",
     "text": [
      " 32%|███▏      | 151/478 [10:06<22:35,  4.15s/it]"
     ]
    },
    {
     "name": "stdout",
     "output_type": "stream",
     "text": [
      "Teach our men to be men again and defend our countries and women folk against the non white .\n",
      "['  \"hate_speech_probability\": 0.8,']\n"
     ]
    },
    {
     "name": "stderr",
     "output_type": "stream",
     "text": [
      " 32%|███▏      | 152/478 [10:09<21:54,  4.03s/it]"
     ]
    },
    {
     "name": "stdout",
     "output_type": "stream",
     "text": [
      "These feral negroes stalk white women , rape and kill and , no one seems willing to stop them .\n",
      "['  \"hate_speech_probability\": 0.9,']\n"
     ]
    },
    {
     "name": "stderr",
     "output_type": "stream",
     "text": [
      " 32%|███▏      | 153/478 [10:13<21:16,  3.93s/it]"
     ]
    },
    {
     "name": "stdout",
     "output_type": "stream",
     "text": [
      "That type of negroes call your kind of brothas , Uncle Tom .\n",
      "['  \"hate_speech_probability\": 0.9,']\n"
     ]
    },
    {
     "name": "stderr",
     "output_type": "stream",
     "text": [
      " 32%|███▏      | 154/478 [10:17<21:19,  3.95s/it]"
     ]
    },
    {
     "name": "stdout",
     "output_type": "stream",
     "text": [
      "The only good thing about Indians is their married women are so loose that prostitution fails in Indian areas .\n",
      "['  \"hate_speech_probability\": 0.8,']\n"
     ]
    },
    {
     "name": "stderr",
     "output_type": "stream",
     "text": [
      " 32%|███▏      | 155/478 [10:23<25:17,  4.70s/it]"
     ]
    },
    {
     "name": "stdout",
     "output_type": "stream",
     "text": [
      "Miami,( I do n't know how Don can stand living down there ) Hispanic - 279,456 ( 70.0 % ) Black alone - 64,993 ( 16.3 % ) White alone - 47,622 ( 11.9 % ) Asian alone - 3,649 ( 0.9 % ) Two or more races - 2,642 ( 0.7 % ) Other race alone - 676 ( 0.2 % ) American Indian alone - 361 ( 0.09 % ) Native Hawaiian and Other Pacific Islander alone - 58 ( 0.01 % ) Read more : Miami , Florida ( FL ) profile : population , maps , real estate , averages , homes , statistics , relocation , travel , jobs , hospitals , schools , crime , moving , houses , news , sex offenders\n",
      "['\"hate_speech_probability\": 0.1']\n"
     ]
    },
    {
     "name": "stderr",
     "output_type": "stream",
     "text": [
      " 33%|███▎      | 156/478 [10:27<24:05,  4.49s/it]"
     ]
    },
    {
     "name": "stdout",
     "output_type": "stream",
     "text": [
      "I cannot imagine how revolting it must be - the PC dialogue at your university -- idolizing athletes who dont belong in college -- white women getting pregnant with freaks\n",
      "['\"hate_speech_probability\": 0.9.']\n"
     ]
    },
    {
     "name": "stderr",
     "output_type": "stream",
     "text": [
      " 33%|███▎      | 157/478 [10:32<23:52,  4.46s/it]"
     ]
    },
    {
     "name": "stdout",
     "output_type": "stream",
     "text": [
      "As a nation , we are in desperate need for an immigration time out and a zero tolerance policy for those here illegally .\n",
      "['  \"hate_speech_probability\": 0.3,']\n"
     ]
    },
    {
     "name": "stderr",
     "output_type": "stream",
     "text": [
      " 33%|███▎      | 158/478 [10:36<23:17,  4.37s/it]"
     ]
    },
    {
     "name": "stdout",
     "output_type": "stream",
     "text": [
      "It 's just the way they are .\n",
      "['  \"hate_speech_probability\": 0.4,']\n"
     ]
    },
    {
     "name": "stderr",
     "output_type": "stream",
     "text": [
      " 33%|███▎      | 159/478 [10:40<21:53,  4.12s/it]"
     ]
    },
    {
     "name": "stdout",
     "output_type": "stream",
     "text": [
      "I considered it being `` ethnically cleansed '' from my childhood home\n",
      "['  \"hate_speech_probability\": 0.3,']\n"
     ]
    },
    {
     "name": "stderr",
     "output_type": "stream",
     "text": [
      " 33%|███▎      | 160/478 [10:44<22:10,  4.18s/it]"
     ]
    },
    {
     "name": "stdout",
     "output_type": "stream",
     "text": [
      "Then again , in this modern age of white youth emulating negroes and white adults groveling at the feet of the juden , perhaps it 's an appropriate word after all .\n",
      "['  \"hate_speech_probability\": 1.0']\n"
     ]
    },
    {
     "name": "stderr",
     "output_type": "stream",
     "text": [
      " 34%|███▎      | 161/478 [10:47<21:06,  4.00s/it]"
     ]
    },
    {
     "name": "stdout",
     "output_type": "stream",
     "text": [
      "I've got two knife blocks on the counter .\n",
      "['  \"hate_speech_probability\": 0.0']\n"
     ]
    },
    {
     "name": "stderr",
     "output_type": "stream",
     "text": [
      " 34%|███▍      | 162/478 [10:52<22:38,  4.30s/it]"
     ]
    },
    {
     "name": "stdout",
     "output_type": "stream",
     "text": [
      "Chicago Teachers Union president explains how to inject politics into math - YouTube Chicago Teachers Union president Karen Lewis explains how to politicize school math for organizing - EAGnews.org powered by Education Action Group Foundation , Inc.\n",
      "['  \"hate_speech_probability\": 0.']\n"
     ]
    },
    {
     "name": "stderr",
     "output_type": "stream",
     "text": [
      " 34%|███▍      | 163/478 [10:56<21:27,  4.09s/it]"
     ]
    },
    {
     "name": "stdout",
     "output_type": "stream",
     "text": [
      "Maybe you should look there or just move here to miss. Or more specifically Tupelo .\n",
      "['  \"hate_speech_probability\": 0.15']\n"
     ]
    },
    {
     "name": "stderr",
     "output_type": "stream",
     "text": [
      " 34%|███▍      | 164/478 [11:00<21:29,  4.11s/it]"
     ]
    },
    {
     "name": "stdout",
     "output_type": "stream",
     "text": [
      "All we have is blacks and a few mestizos and all are pretty well behaved , we keep them that way around here\n",
      "['  \"hate_speech_probability\": 0.7,']\n"
     ]
    },
    {
     "name": "stderr",
     "output_type": "stream",
     "text": [
      " 35%|███▍      | 165/478 [11:04<20:59,  4.02s/it]"
     ]
    },
    {
     "name": "stdout",
     "output_type": "stream",
     "text": [
      "It offers certificates of completion for many courses .\n",
      "['  \"hate_speech_probability\": 0.05']\n"
     ]
    },
    {
     "name": "stderr",
     "output_type": "stream",
     "text": [
      " 35%|███▍      | 166/478 [11:08<20:33,  3.95s/it]"
     ]
    },
    {
     "name": "stdout",
     "output_type": "stream",
     "text": [
      "The only thing that they care about is welfare and mooching of all the rest of us .\n",
      "['  \"hate_speech_probability\": 0.5,']\n"
     ]
    },
    {
     "name": "stderr",
     "output_type": "stream",
     "text": [
      " 35%|███▍      | 167/478 [11:10<18:19,  3.53s/it]"
     ]
    },
    {
     "name": "stdout",
     "output_type": "stream",
     "text": [
      "Next time you see someone with their pants falling down , just help them !\n",
      "['  hate_speech_probability: 0,']\n"
     ]
    },
    {
     "name": "stderr",
     "output_type": "stream",
     "text": [
      " 35%|███▌      | 168/478 [11:14<19:07,  3.70s/it]"
     ]
    },
    {
     "name": "stdout",
     "output_type": "stream",
     "text": [
      "Back when I was a kid , even the black folks called them that .... `` Ooohhh I' z cai n't wait until Crimusz , I' z gonna get me sum of dem niggah-toes and oranguz fo ' Crimusz , an ' sum peppahmintz ; dey shoa iz gud ! ''\n",
      "['  \"hate_speech_probability\": 0.9,']\n"
     ]
    },
    {
     "name": "stderr",
     "output_type": "stream",
     "text": [
      " 35%|███▌      | 169/478 [11:19<19:55,  3.87s/it]"
     ]
    },
    {
     "name": "stdout",
     "output_type": "stream",
     "text": [
      "I 've seen shots with a .45 , where people walked around angry .\n",
      "['  \"hate_speech_probability\": 0.1,']\n"
     ]
    },
    {
     "name": "stderr",
     "output_type": "stream",
     "text": [
      " 36%|███▌      | 170/478 [11:23<19:57,  3.89s/it]"
     ]
    },
    {
     "name": "stdout",
     "output_type": "stream",
     "text": [
      "Instead it is the athletic negro Holyfield 11 kids , Mike Tyson 7 kids , Riddick Bowe 5 kids , George Foreman 10 kids who procreate like apes and spread these athlete genes along .\n",
      "['  \"hate_speech_probability\": 0.8,']\n"
     ]
    },
    {
     "name": "stderr",
     "output_type": "stream",
     "text": [
      " 36%|███▌      | 171/478 [11:29<23:12,  4.53s/it]"
     ]
    },
    {
     "name": "stdout",
     "output_type": "stream",
     "text": [
      "Deanna Spingola and Dr. Lorraine Day - Zionism , the Holocaust , Aids and Vaccines YouTube - Deanna Spingola and Dr. Lorraine Day - Zionism , the Holocaust , Aids and Vaccines Listen/watch the full interview @ Deanna Spingola and Dr. Lorraine Day - Zionism , the Holocaust , Aids and Vaccines : Free Download & Streaming : Internet Archive www.DrDay.com www.GoodNewsAboutGod.com\n",
      "['  \"hate_speech_probability\": 0.1,']\n"
     ]
    },
    {
     "name": "stderr",
     "output_type": "stream",
     "text": [
      " 36%|███▌      | 172/478 [11:33<22:58,  4.51s/it]"
     ]
    },
    {
     "name": "stdout",
     "output_type": "stream",
     "text": [
      "It's weird most Indians dot and to an extent feather that I deal with hate blacks more than they do whites and find blacks to be lazy and worthless .\n",
      "['  \"hate_speech_probability\": 0.75,']\n"
     ]
    },
    {
     "name": "stderr",
     "output_type": "stream",
     "text": [
      " 36%|███▌      | 173/478 [11:36<21:08,  4.16s/it]"
     ]
    },
    {
     "name": "stdout",
     "output_type": "stream",
     "text": [
      "That 's to assume the gay ones are n't abusive .\n",
      "['  \"hate_speech_probability\": 0.4']\n"
     ]
    },
    {
     "name": "stderr",
     "output_type": "stream",
     "text": [
      " 36%|███▋      | 174/478 [11:42<22:32,  4.45s/it]"
     ]
    },
    {
     "name": "stdout",
     "output_type": "stream",
     "text": [
      "why did god give negroes good rhythm ?? because he messed up their lips , hair , nose and skin so yes they are ugly !!!!!!!!!!!!!!\n",
      "['  \"hate_speech_probability\": 1,']\n"
     ]
    },
    {
     "name": "stderr",
     "output_type": "stream",
     "text": [
      " 37%|███▋      | 175/478 [11:46<21:42,  4.30s/it]"
     ]
    },
    {
     "name": "stdout",
     "output_type": "stream",
     "text": [
      "I believe Abraham 's faith was tested by God when he asked him to sacrifice Isaac , the quran falsely claims it was Ishmael .\n",
      "['  \"hate_speech_probability\": 0.1,']\n"
     ]
    },
    {
     "name": "stderr",
     "output_type": "stream",
     "text": [
      " 37%|███▋      | 176/478 [11:50<21:18,  4.23s/it]"
     ]
    },
    {
     "name": "stdout",
     "output_type": "stream",
     "text": [
      "I take it you are a little person then .\n",
      "['  \"hate_speech_probability\": 0.05']\n"
     ]
    },
    {
     "name": "stderr",
     "output_type": "stream",
     "text": [
      " 37%|███▋      | 177/478 [11:54<21:52,  4.36s/it]"
     ]
    },
    {
     "name": "stdout",
     "output_type": "stream",
     "text": [
      "God forbid anyone should promote straight racially loyal hetrosexuality Diablo\n",
      "['  \"hate_speech_probability\": 0.1']\n"
     ]
    },
    {
     "name": "stderr",
     "output_type": "stream",
     "text": [
      " 37%|███▋      | 178/478 [11:58<20:25,  4.08s/it]"
     ]
    },
    {
     "name": "stdout",
     "output_type": "stream",
     "text": [
      "I know how you feel BreakTheSilence luckily this is your last year in school and it is almost over otherwise I would say you should look into independent study where you do not have to put up with all the filth that is in the public education system .\n",
      "['  \"hate_speech_probability\": 0,']\n"
     ]
    },
    {
     "name": "stderr",
     "output_type": "stream",
     "text": [
      " 37%|███▋      | 179/478 [12:03<22:31,  4.52s/it]"
     ]
    },
    {
     "name": "stdout",
     "output_type": "stream",
     "text": [
      "You could try looking at the National socialist and Fascist Resource Centre at http://www.ufc.co.uk They cover a whole range of educational material .\n",
      "['  hate_speech_probability: 0.6,']\n"
     ]
    },
    {
     "name": "stderr",
     "output_type": "stream",
     "text": [
      " 38%|███▊      | 180/478 [12:07<21:52,  4.40s/it]"
     ]
    },
    {
     "name": "stdout",
     "output_type": "stream",
     "text": [
      "I hear that McDonalds is coming to their aid .\n",
      "['  \"hate_speech_probability\": 0.1,']\n"
     ]
    },
    {
     "name": "stderr",
     "output_type": "stream",
     "text": [
      " 38%|███▊      | 181/478 [12:11<20:53,  4.22s/it]"
     ]
    },
    {
     "name": "stdout",
     "output_type": "stream",
     "text": [
      "I always thought it would be cool if somebody covertly set off a nuke in Kashmir , and then we all could sit back and watch as the Paki 's and Indians nuke the scheiss out of each other .\n",
      "['  \"hate_speech_probability\": 0.7,']\n"
     ]
    },
    {
     "name": "stderr",
     "output_type": "stream",
     "text": [
      " 38%|███▊      | 182/478 [12:15<20:56,  4.24s/it]"
     ]
    },
    {
     "name": "stdout",
     "output_type": "stream",
     "text": [
      "May they just need to turn these savages loose , justice will take care of itself .\n",
      "['  \"hate_speech_probability\": 0.85,']\n"
     ]
    },
    {
     "name": "stderr",
     "output_type": "stream",
     "text": [
      " 38%|███▊      | 183/478 [12:19<20:29,  4.17s/it]"
     ]
    },
    {
     "name": "stdout",
     "output_type": "stream",
     "text": [
      "Just let Shaniqua leave her kids home to burn the house down while she goes to da club .\n",
      "['  hate_speech_probability: 0.3,']\n"
     ]
    },
    {
     "name": "stderr",
     "output_type": "stream",
     "text": [
      " 38%|███▊      | 184/478 [12:23<19:43,  4.02s/it]"
     ]
    },
    {
     "name": "stdout",
     "output_type": "stream",
     "text": [
      "They do what they always do take something of someone else 's and make it their own .\n",
      "['  \"hate_speech_probability\": 0']\n"
     ]
    },
    {
     "name": "stderr",
     "output_type": "stream",
     "text": [
      " 39%|███▊      | 185/478 [12:27<19:54,  4.08s/it]"
     ]
    },
    {
     "name": "stdout",
     "output_type": "stream",
     "text": [
      "WE GOT MONEY AROUND HERE TOO Compton Crips Pt.1 - YouTube These negroes are in the middle of the street , seems like something of a zoo , playing with their cheap lowriders .\n",
      "['  \"hate_speech_probability\": 0.8,']\n"
     ]
    },
    {
     "name": "stderr",
     "output_type": "stream",
     "text": [
      " 39%|███▉      | 186/478 [12:31<19:13,  3.95s/it]"
     ]
    },
    {
     "name": "stdout",
     "output_type": "stream",
     "text": [
      "Most of these videos belong on the Animal Planet tv channel .\n",
      "['  \"hate_speech_probability\": 0']\n"
     ]
    },
    {
     "name": "stderr",
     "output_type": "stream",
     "text": [
      " 39%|███▉      | 187/478 [12:35<18:54,  3.90s/it]"
     ]
    },
    {
     "name": "stdout",
     "output_type": "stream",
     "text": [
      "Keep Russia free from dark skinned beings !!!! thank you and please forgive me for mistakes .\n",
      "['  \"hate_speech_probability\": 1.0,']\n"
     ]
    },
    {
     "name": "stderr",
     "output_type": "stream",
     "text": [
      " 39%|███▉      | 188/478 [12:39<19:38,  4.06s/it]"
     ]
    },
    {
     "name": "stdout",
     "output_type": "stream",
     "text": [
      "It's people like this that are the face that represents the filth of Islam .\n",
      "['  \"hate_speech_probability\": 0.9']\n"
     ]
    },
    {
     "name": "stderr",
     "output_type": "stream",
     "text": [
      " 40%|███▉      | 189/478 [12:44<19:54,  4.13s/it]"
     ]
    },
    {
     "name": "stdout",
     "output_type": "stream",
     "text": [
      "now that ye mention it he does look a bit like this traveller i knew. i wonder if we gave him a wash would he really be a white guy with red hair ?\n",
      "['  \"hate_speech_probability\": 0.2']\n"
     ]
    },
    {
     "name": "stderr",
     "output_type": "stream",
     "text": [
      " 40%|███▉      | 190/478 [12:48<19:44,  4.11s/it]"
     ]
    },
    {
     "name": "stdout",
     "output_type": "stream",
     "text": [
      "If we do n't act soon they will bread us out .\n",
      "['  \"hate_speech_probability\": 0.3']\n"
     ]
    },
    {
     "name": "stderr",
     "output_type": "stream",
     "text": [
      " 40%|███▉      | 191/478 [12:51<19:15,  4.03s/it]"
     ]
    },
    {
     "name": "stdout",
     "output_type": "stream",
     "text": [
      "And meanwhile , Gerry Gerry Dingleberry is trying to kill off future generations of Irish .\n",
      "['  \"hate_speech_probability\": 0.2.']\n"
     ]
    },
    {
     "name": "stderr",
     "output_type": "stream",
     "text": [
      " 40%|████      | 192/478 [12:56<19:52,  4.17s/it]"
     ]
    },
    {
     "name": "stdout",
     "output_type": "stream",
     "text": [
      "I heard from friends in Boston this is true.Blacks will attack an Irish America with a shamrock tattoo.How long before this happens in Ireland ?\n",
      "['  \"hate_speech_probability\": 0.2']\n"
     ]
    },
    {
     "name": "stderr",
     "output_type": "stream",
     "text": [
      " 40%|████      | 193/478 [13:00<19:33,  4.12s/it]"
     ]
    },
    {
     "name": "stdout",
     "output_type": "stream",
     "text": [
      "Hopefully they will get deportation orders and be on the next flight back to Cairo .\n",
      "['  \"hate_speech_probability\": 0.3,']\n"
     ]
    },
    {
     "name": "stderr",
     "output_type": "stream",
     "text": [
      " 41%|████      | 194/478 [13:05<20:45,  4.39s/it]"
     ]
    },
    {
     "name": "stdout",
     "output_type": "stream",
     "text": [
      "When I look at the Zimbawee 's Mugabe , I think `` Ape '' or `` Gorilla '' .\n",
      "['  \"hate_speech_probability\": 0.7,']\n"
     ]
    },
    {
     "name": "stderr",
     "output_type": "stream",
     "text": [
      " 41%|████      | 195/478 [13:09<20:07,  4.27s/it]"
     ]
    },
    {
     "name": "stdout",
     "output_type": "stream",
     "text": [
      "the white race will soon be on the brink of being a minority in a few years if nothing is done to stop these vile hordes invading our lands , I for one do not want to live in a city like Bradford or Birmingham where we are outnumbered 2 to 1 or worse\n",
      "['  \"hate_speech_probability\": 0.7,']\n"
     ]
    },
    {
     "name": "stderr",
     "output_type": "stream",
     "text": [
      " 41%|████      | 196/478 [13:15<22:16,  4.74s/it]"
     ]
    },
    {
     "name": "stdout",
     "output_type": "stream",
     "text": [
      "Here's an example of red violence against patriotic St George 's Day marchers and a red site encouraging even more of it the next year . Stop the March for England 2013 ( from Rough Music ) | Brighton Anti-fascists\n",
      "['  \"hate_speech_probability\": 0.2,']\n"
     ]
    },
    {
     "name": "stderr",
     "output_type": "stream",
     "text": [
      " 41%|████      | 197/478 [13:19<21:17,  4.55s/it]"
     ]
    },
    {
     "name": "stdout",
     "output_type": "stream",
     "text": [
      "Thanks to the imported filth that , like our land under its current occupation .\n",
      "['  \"hate_speech_probability\": 0.7']\n"
     ]
    },
    {
     "name": "stderr",
     "output_type": "stream",
     "text": [
      " 41%|████▏     | 198/478 [13:23<20:17,  4.35s/it]"
     ]
    },
    {
     "name": "stdout",
     "output_type": "stream",
     "text": [
      "If her eyes linger ................................... she 's yours .\n",
      "['  \"hate_speech_probability\": 0.1']\n"
     ]
    },
    {
     "name": "stderr",
     "output_type": "stream",
     "text": [
      " 42%|████▏     | 199/478 [13:26<19:17,  4.15s/it]"
     ]
    },
    {
     "name": "stdout",
     "output_type": "stream",
     "text": [
      "I have decided to take this debate to pm .\n",
      "['  \"hate_speech_probability\": 0.3,']\n"
     ]
    },
    {
     "name": "stderr",
     "output_type": "stream",
     "text": [
      " 42%|████▏     | 200/478 [13:31<20:20,  4.39s/it]"
     ]
    },
    {
     "name": "stdout",
     "output_type": "stream",
     "text": [
      "Black and Asian immigrants who are coming in and those who were borne here and their breading patterns are the threat to our gene pool and not other white Europeans such as polish people .\n",
      "['  \"hate_speech_probability\": 0.9,']\n"
     ]
    },
    {
     "name": "stderr",
     "output_type": "stream",
     "text": [
      " 42%|████▏     | 201/478 [13:36<20:48,  4.51s/it]"
     ]
    },
    {
     "name": "stdout",
     "output_type": "stream",
     "text": [
      "Absolutely.\n",
      "['  \"hate_speech_probability\": 0.4,']\n"
     ]
    },
    {
     "name": "stderr",
     "output_type": "stream",
     "text": [
      " 42%|████▏     | 202/478 [13:41<20:34,  4.47s/it]"
     ]
    },
    {
     "name": "stdout",
     "output_type": "stream",
     "text": [
      "I just refer to them as primates as through THEIR evolution process they are just a little bit higher on the evolutionary chain which makes them all the more dangerous to whites , than any of their animalistic cousins .\n",
      "['  \"hate_speech_probability\": 0.8']\n"
     ]
    },
    {
     "name": "stderr",
     "output_type": "stream",
     "text": [
      " 42%|████▏     | 203/478 [13:44<19:42,  4.30s/it]"
     ]
    },
    {
     "name": "stdout",
     "output_type": "stream",
     "text": [
      "This is where their `` I 'm a bad ass , I can do whatever I want '' attitute comes from .\n",
      "['  \"hate_speech_probability\": 0.0']\n"
     ]
    },
    {
     "name": "stderr",
     "output_type": "stream",
     "text": [
      " 43%|████▎     | 204/478 [13:48<18:47,  4.12s/it]"
     ]
    },
    {
     "name": "stdout",
     "output_type": "stream",
     "text": [
      "Ten to one they have a great father , too .\n",
      "['  \"hate_speech_probability\": 0']\n"
     ]
    },
    {
     "name": "stderr",
     "output_type": "stream",
     "text": [
      " 43%|████▎     | 205/478 [13:52<17:46,  3.91s/it]"
     ]
    },
    {
     "name": "stdout",
     "output_type": "stream",
     "text": [
      "It 's where I discovered so many great people who are fighting for our cause .\n",
      "['  \"hate_speech_probability\": 0,']\n"
     ]
    },
    {
     "name": "stderr",
     "output_type": "stream",
     "text": [
      " 43%|████▎     | 206/478 [13:56<18:03,  3.98s/it]"
     ]
    },
    {
     "name": "stdout",
     "output_type": "stream",
     "text": [
      "I 've taught her to question everything that they teach her .\n",
      "['  \"hate_speech_probability\": 0.1']\n"
     ]
    },
    {
     "name": "stderr",
     "output_type": "stream",
     "text": [
      " 43%|████▎     | 207/478 [14:00<18:25,  4.08s/it]"
     ]
    },
    {
     "name": "stdout",
     "output_type": "stream",
     "text": [
      "Check out this youtube channel i found , i agree with most of what he says Diversity DESTROYS Social Cohesion in the West - YouTube\n",
      "['  \"hate_speech_probability\": 0.1']\n"
     ]
    },
    {
     "name": "stderr",
     "output_type": "stream",
     "text": [
      " 44%|████▎     | 208/478 [14:05<19:20,  4.30s/it]"
     ]
    },
    {
     "name": "stdout",
     "output_type": "stream",
     "text": [
      "I am sure California is full of sick self hating whites , who think that for the good of all the black brown and yellow peoples of the world , whites need to commit racial suicide and disappear from their face of the earth for their sake and wo n't that be just dandy !\n",
      "['  \"hate_speech_probability\": 0.8']\n"
     ]
    },
    {
     "name": "stderr",
     "output_type": "stream",
     "text": [
      " 44%|████▎     | 209/478 [14:08<17:57,  4.01s/it]"
     ]
    },
    {
     "name": "stdout",
     "output_type": "stream",
     "text": [
      "My father was born in Germany My mother 's parent 's moved from Ireland .\n",
      "['  \"hate_speech_probability\": 0']\n"
     ]
    },
    {
     "name": "stderr",
     "output_type": "stream",
     "text": [
      " 44%|████▍     | 210/478 [14:12<18:13,  4.08s/it]"
     ]
    },
    {
     "name": "stdout",
     "output_type": "stream",
     "text": [
      "I really do hate rap music .\n",
      "['  \"hate_speech_probability\": 0.1,']\n"
     ]
    },
    {
     "name": "stderr",
     "output_type": "stream",
     "text": [
      " 44%|████▍     | 211/478 [14:16<17:29,  3.93s/it]"
     ]
    },
    {
     "name": "stdout",
     "output_type": "stream",
     "text": [
      "More than that I cringe every time I go to hang out with my friends and they blast this filth in their cars and homes .\n",
      "['  \"hate_speech_probability\": 0.2,']\n"
     ]
    },
    {
     "name": "stderr",
     "output_type": "stream",
     "text": [
      " 44%|████▍     | 212/478 [14:20<17:13,  3.89s/it]"
     ]
    },
    {
     "name": "stdout",
     "output_type": "stream",
     "text": [
      "What makes it suck are the Jews that run it and the Blacks that play in it .\n",
      "['  \"hate_speech_probability\": 0.9,']\n"
     ]
    },
    {
     "name": "stderr",
     "output_type": "stream",
     "text": [
      " 45%|████▍     | 213/478 [14:24<17:43,  4.01s/it]"
     ]
    },
    {
     "name": "stdout",
     "output_type": "stream",
     "text": [
      "White speech is Hate ....\n",
      "['  \"hate_speech_probability\": 0.1']\n"
     ]
    },
    {
     "name": "stderr",
     "output_type": "stream",
     "text": [
      " 45%|████▍     | 214/478 [14:28<17:29,  3.98s/it]"
     ]
    },
    {
     "name": "stdout",
     "output_type": "stream",
     "text": [
      "He got what he deserved .\n",
      "['  \"hate_speech_probability\": 0.1.']\n"
     ]
    },
    {
     "name": "stderr",
     "output_type": "stream",
     "text": [
      " 45%|████▍     | 215/478 [14:31<16:30,  3.77s/it]"
     ]
    },
    {
     "name": "stdout",
     "output_type": "stream",
     "text": [
      "It 's a pretty powerful documentary that blew me away .\n",
      "['  \"hate_speech_probability\": 0,']\n"
     ]
    },
    {
     "name": "stderr",
     "output_type": "stream",
     "text": [
      " 45%|████▌     | 216/478 [14:40<22:47,  5.22s/it]"
     ]
    },
    {
     "name": "stdout",
     "output_type": "stream",
     "text": [
      "the kind of perversion that leads to homosexuality also leads to pedophilia. why take the risk , and even if the homosexuals turned out not to be pedophiles why would anyone want a child to live with two perverts .\n",
      "['  \"hate_speech_probability\": 0.45']\n"
     ]
    },
    {
     "name": "stderr",
     "output_type": "stream",
     "text": [
      " 45%|████▌     | 217/478 [14:43<19:43,  4.53s/it]"
     ]
    },
    {
     "name": "stdout",
     "output_type": "stream",
     "text": [
      "Has anyone claiming this method been able to make even one block like that with wedges water and copper tools ?\n",
      "['  \"hate_speech_probability\": 0,']\n"
     ]
    },
    {
     "name": "stderr",
     "output_type": "stream",
     "text": [
      " 46%|████▌     | 218/478 [14:46<18:07,  4.18s/it]"
     ]
    },
    {
     "name": "stdout",
     "output_type": "stream",
     "text": [
      "They probably stole a bunch of stuff .\n",
      "{\n",
      "  \"relevant\\_facts\\_from\\_the\\_cultural\\_context\": [],\n",
      "  \"relevant\\_word\\_definitions\": {},\n",
      "  \"contained\\_explicit\\_racist\\_vocabulary\": [],\n",
      "  \"contained\\_explicit\\_sexist\\_vocabulary\": [],\n",
      "  \"contained\\_explicit\\_toxic\\_vocabulary\": [],\n",
      "  \"argument\\_for\\_hate\\_speech\": \"There is no clear indication of hate speech in this statement.However, the statement could be interpreted as a possible call for harm or violence if it is part of a larger context in which a specific group is targeted.\",\n",
      "  \"argument\\_against\\_hate\\_speech\": \"The statement is not explicit in its hate, and it does not utilize any hateful or racist terms.\",\n",
      "  \"likelihood\\_of\\_presence\\_of\\_implicit\\_hate\\_speech\": 0.2,\n",
      "  \"likelihood\\_of\\_presence\\_of\\_explicit\\_hate\\_speech\": 0,\n",
      "  \"likelihood\\_of\\_ad\\_hominin\\_attack\": 0,\n",
      "  \"likelihood\\_of\\_minority\\_attack\": 0,\n",
      "  \"likelihood\\_of\\_takedown\\_on\\_social\\_media\": 0.2,\n",
      "  \"hate\\_speech\\_probability\": 0.1,\n"
     ]
    },
    {
     "name": "stderr",
     "output_type": "stream",
     "text": [
      " 46%|████▌     | 219/478 [14:51<18:31,  4.29s/it]"
     ]
    },
    {
     "name": "stdout",
     "output_type": "stream",
     "text": [
      "damn! at least that sounds more plausable than a stupid sea. maybe look on ebay ??? are u sure there is none left ???\n",
      "['  hate_speech_probability: 0.3']\n"
     ]
    },
    {
     "name": "stderr",
     "output_type": "stream",
     "text": [
      " 46%|████▌     | 220/478 [14:54<17:00,  3.96s/it]"
     ]
    },
    {
     "name": "stdout",
     "output_type": "stream",
     "text": [
      "And now this clip suggests they were suffering by having to live among heartless and barbarian Whites .\n",
      "['  \"hate_speech_probability\": 0.6']\n"
     ]
    },
    {
     "name": "stderr",
     "output_type": "stream",
     "text": [
      " 46%|████▌     | 221/478 [14:58<17:15,  4.03s/it]"
     ]
    },
    {
     "name": "stdout",
     "output_type": "stream",
     "text": [
      "the money he is giving away to refugees and the third world is money Canada does not even have !\n",
      "['  \"hate_speech_probability\": 0.1,']\n"
     ]
    },
    {
     "name": "stderr",
     "output_type": "stream",
     "text": [
      " 46%|████▋     | 222/478 [15:03<18:27,  4.33s/it]"
     ]
    },
    {
     "name": "stdout",
     "output_type": "stream",
     "text": [
      "If you want to hear what a black `` intellectual '' ( lol ) sounds like , check out the woman in this video trying to debate Dr. William Shockley .\n",
      "['  \"hate_speech_probability\": 0.3,']\n"
     ]
    },
    {
     "name": "stderr",
     "output_type": "stream",
     "text": [
      " 47%|████▋     | 223/478 [15:07<17:54,  4.21s/it]"
     ]
    },
    {
     "name": "stdout",
     "output_type": "stream",
     "text": [
      "I read a few things about him awhile back and he is far to the left as so many of them are .\n",
      "['  hate_speech_probability: 0.1,']\n"
     ]
    },
    {
     "name": "stderr",
     "output_type": "stream",
     "text": [
      " 47%|████▋     | 224/478 [15:09<14:52,  3.51s/it]"
     ]
    },
    {
     "name": "stdout",
     "output_type": "stream",
     "text": [
      "I'm sure the negro had it coming .\n",
      "['  \"hate_speech_probability\": 0.9']\n"
     ]
    },
    {
     "name": "stderr",
     "output_type": "stream",
     "text": [
      " 47%|████▋     | 225/478 [15:11<12:33,  2.98s/it]"
     ]
    },
    {
     "name": "stdout",
     "output_type": "stream",
     "text": [
      "If it 's black , send it back .\n",
      "['  \"hate_speech_probability\": 1.']\n"
     ]
    },
    {
     "name": "stderr",
     "output_type": "stream",
     "text": [
      " 47%|████▋     | 226/478 [15:16<14:58,  3.57s/it]"
     ]
    },
    {
     "name": "stdout",
     "output_type": "stream",
     "text": [
      "I'm heading down to DC to put a sign on the White House gates that will read : ' No savage negro BEASTS in the White House ! '\n",
      "['  \"hate_speech_probability\": 0.9,']\n"
     ]
    },
    {
     "name": "stderr",
     "output_type": "stream",
     "text": [
      " 47%|████▋     | 227/478 [15:19<14:26,  3.45s/it]"
     ]
    },
    {
     "name": "stdout",
     "output_type": "stream",
     "text": [
      "It has everything to do with RACE .\n",
      "['  \"hate_speech_probability\": 0.3']\n"
     ]
    },
    {
     "name": "stderr",
     "output_type": "stream",
     "text": [
      " 48%|████▊     | 228/478 [15:26<19:23,  4.65s/it]"
     ]
    },
    {
     "name": "stdout",
     "output_type": "stream",
     "text": [
      "Or make something in the internet against thi injustice some times is hit a global repercussion and can help this .\n",
      "['  hate_speech_probability: 0.']\n"
     ]
    },
    {
     "name": "stderr",
     "output_type": "stream",
     "text": [
      " 48%|████▊     | 229/478 [15:30<17:43,  4.27s/it]"
     ]
    },
    {
     "name": "stdout",
     "output_type": "stream",
     "text": [
      "I know exactly what you 're saying , I just hate to see those worthless apes benefit from the great things that whites do .\n",
      "['\"hate_speech_probability\": 0.8']\n"
     ]
    },
    {
     "name": "stderr",
     "output_type": "stream",
     "text": [
      " 48%|████▊     | 230/478 [15:34<17:41,  4.28s/it]"
     ]
    },
    {
     "name": "stdout",
     "output_type": "stream",
     "text": [
      "Only a f' n jew would have the nerve to hide away in a black country , a fugitive from US law , while making campaign promises at the same time as suing the company he defrauded .\n",
      "['  \"hate_speech_probability\": 0.8']\n"
     ]
    },
    {
     "name": "stderr",
     "output_type": "stream",
     "text": [
      " 48%|████▊     | 231/478 [15:37<15:50,  3.85s/it]"
     ]
    },
    {
     "name": "stdout",
     "output_type": "stream",
     "text": [
      "Sardines and anchovies , for example , are basically 100 % safe .\n",
      "['  hate_speech_probability: 0,']\n"
     ]
    },
    {
     "name": "stderr",
     "output_type": "stream",
     "text": [
      " 49%|████▊     | 232/478 [15:40<15:13,  3.71s/it]"
     ]
    },
    {
     "name": "stdout",
     "output_type": "stream",
     "text": [
      "Piece of * * * * deserves to be shot .\n",
      "['  \"hate_speech_probability\": 0.4']\n"
     ]
    },
    {
     "name": "stderr",
     "output_type": "stream",
     "text": [
      " 49%|████▊     | 233/478 [15:45<16:30,  4.04s/it]"
     ]
    },
    {
     "name": "stdout",
     "output_type": "stream",
     "text": [
      "how the hell are they going to integrate into Irish society ? They come from a dirt poor medieval country and have spent the last 3 years living in a refugee camp.what skills are they going to bring here ?\n",
      "['  \"hate_speech_probability\": 0.3']\n"
     ]
    },
    {
     "name": "stderr",
     "output_type": "stream",
     "text": [
      " 49%|████▉     | 234/478 [15:49<16:12,  3.99s/it]"
     ]
    },
    {
     "name": "stdout",
     "output_type": "stream",
     "text": [
      "After knocking back a few guinness we got pretty hungry and he said he knew a great place to go get some food , i was disgusted when he brought me to a chinese restaurant .\n",
      "['  \"hate_speech_probability\": 0.3']\n"
     ]
    },
    {
     "name": "stderr",
     "output_type": "stream",
     "text": [
      " 49%|████▉     | 235/478 [15:51<13:39,  3.37s/it]"
     ]
    },
    {
     "name": "stdout",
     "output_type": "stream",
     "text": [
      "I noticed a lot of fat little white girls with monkey boyfriends .\n",
      "['  \"hate_speech_probability\": 0.8,']\n"
     ]
    },
    {
     "name": "stderr",
     "output_type": "stream",
     "text": [
      " 49%|████▉     | 236/478 [15:56<15:16,  3.79s/it]"
     ]
    },
    {
     "name": "stdout",
     "output_type": "stream",
     "text": [
      "I' v checked them out but could n't find much but apparently they have presence in Britain .\n",
      "['  \"hate_speech_probability\": 0.1.']\n"
     ]
    },
    {
     "name": "stderr",
     "output_type": "stream",
     "text": [
      " 50%|████▉     | 237/478 [15:59<14:20,  3.57s/it]"
     ]
    },
    {
     "name": "stdout",
     "output_type": "stream",
     "text": [
      "Yes, have you seen the Pancrase tornouments in Japan ?\n",
      "['  \"hate_speech_probability\": 0']\n"
     ]
    },
    {
     "name": "stderr",
     "output_type": "stream",
     "text": [
      " 50%|████▉     | 238/478 [16:02<13:48,  3.45s/it]"
     ]
    },
    {
     "name": "stdout",
     "output_type": "stream",
     "text": [
      "I want to have 3 children ! 2 girls and 1 boy but the hardest part now is i got to try and find someone to make them with , but so far no luck\n",
      "['  \"hate_speech_probability\": 0,']\n"
     ]
    },
    {
     "name": "stderr",
     "output_type": "stream",
     "text": [
      " 50%|█████     | 239/478 [16:06<14:24,  3.62s/it]"
     ]
    },
    {
     "name": "stdout",
     "output_type": "stream",
     "text": [
      "Although many have asked us to put it aside in politics , this thread is for all those who see where HATE FITS IN and why WE NEED THE HATE WAVE TO CONTINUE .\n",
      "['  \"hate_speech_probability\": 0.3,']\n"
     ]
    },
    {
     "name": "stderr",
     "output_type": "stream",
     "text": [
      " 50%|█████     | 240/478 [16:09<13:28,  3.40s/it]"
     ]
    },
    {
     "name": "stdout",
     "output_type": "stream",
     "text": [
      "Hi i have not been on here in ages .\n",
      "['  \"hate_speech_probability\": 0']\n"
     ]
    },
    {
     "name": "stderr",
     "output_type": "stream",
     "text": [
      " 50%|█████     | 241/478 [16:13<14:39,  3.71s/it]"
     ]
    },
    {
     "name": "stdout",
     "output_type": "stream",
     "text": [
      "Most white girls are taught and brainwashed to love black guys , only way is to properly educate them and show them what savages they truly are .\n",
      "['  \"hate_speech_probability\": 0.8']\n"
     ]
    },
    {
     "name": "stderr",
     "output_type": "stream",
     "text": [
      " 51%|█████     | 242/478 [16:17<15:03,  3.83s/it]"
     ]
    },
    {
     "name": "stdout",
     "output_type": "stream",
     "text": [
      "And some people say that the Klan is n't doing anything today to make a difference .\n",
      "['  \"hate_speech_probability\": 0.2']\n"
     ]
    },
    {
     "name": "stderr",
     "output_type": "stream",
     "text": [
      " 51%|█████     | 243/478 [16:21<15:27,  3.95s/it]"
     ]
    },
    {
     "name": "stdout",
     "output_type": "stream",
     "text": [
      "About the Chinese , those who remain in their own country are good , those who become illegal immigrants in white nations are bad .\n",
      "['  \"hate_speech_probability\": 0.5']\n"
     ]
    },
    {
     "name": "stderr",
     "output_type": "stream",
     "text": [
      " 51%|█████     | 244/478 [16:26<15:48,  4.06s/it]"
     ]
    },
    {
     "name": "stdout",
     "output_type": "stream",
     "text": [
      "The majority of them are as stupid as real Negroes .\n",
      "['  \"hate_speech_probability\": 0.9']\n"
     ]
    },
    {
     "name": "stderr",
     "output_type": "stream",
     "text": [
      " 51%|█████▏    | 245/478 [16:30<16:10,  4.17s/it]"
     ]
    },
    {
     "name": "stdout",
     "output_type": "stream",
     "text": [
      "I do not think anyone looks up to white Negroes , just the black ones and then they become wiggers .\n",
      "['  \"hate_speech_probability\": 0.8']\n"
     ]
    },
    {
     "name": "stderr",
     "output_type": "stream",
     "text": [
      " 51%|█████▏    | 246/478 [16:34<15:47,  4.09s/it]"
     ]
    },
    {
     "name": "stdout",
     "output_type": "stream",
     "text": [
      "Africans are tall , thin and lanky and pretty ugly beasts . ... and I 'm just being kind .\n",
      "['  \"hate_speech_probability\": 0.8,']\n"
     ]
    },
    {
     "name": "stderr",
     "output_type": "stream",
     "text": [
      " 52%|█████▏    | 247/478 [16:38<16:05,  4.18s/it]"
     ]
    },
    {
     "name": "stdout",
     "output_type": "stream",
     "text": [
      "Nearly everything if not all acts that the liberals carry out damage this nation and our people .\n",
      "['  \"hate_speech_probability\": 0.1']\n"
     ]
    },
    {
     "name": "stderr",
     "output_type": "stream",
     "text": [
      " 52%|█████▏    | 248/478 [16:43<16:06,  4.20s/it]"
     ]
    },
    {
     "name": "stdout",
     "output_type": "stream",
     "text": [
      "Here are the CDs I want to sell : Beethoven : Symphonies Nos. 5 & 7 - Kleiber Beethoven : Symphony No. 9 - Furtwangler Bruckner : Symphony No. 9 - Furtwangler Handel : Music for the Royal Fireworks ; Water Music - Marriner Howard Hanson : Orchestral Works - Schermerhorn J.S. Bach : Great Organ Works - Hurford Norwegian Classical Favorites - Engeset The Best of Baroque Music - Edlinger Twilight of the Gods : The Essential Wagner Collection - Dorati , Karajan , Sinopoli , Bohm , Gerdes , Kubelik Most of these were recommended by fellow Stormfronters .\n",
      "['  \"hate_speech_probability\": 0.1,']\n"
     ]
    },
    {
     "name": "stderr",
     "output_type": "stream",
     "text": [
      " 52%|█████▏    | 249/478 [16:47<15:44,  4.12s/it]"
     ]
    },
    {
     "name": "stdout",
     "output_type": "stream",
     "text": [
      "The people running SA into the ground , want to wipe them all out .\n",
      "['  \"hate_speech_probability\": 0.5,']\n"
     ]
    },
    {
     "name": "stderr",
     "output_type": "stream",
     "text": [
      " 52%|█████▏    | 250/478 [16:50<15:08,  3.99s/it]"
     ]
    },
    {
     "name": "stdout",
     "output_type": "stream",
     "text": [
      "Or just stay the hell away from cheap , crap ar15s when you can get a damn reliable plinker for $ 700 brand new ......\n",
      "['  \"hate_speech_probability\": 0.']\n"
     ]
    },
    {
     "name": "stderr",
     "output_type": "stream",
     "text": [
      " 53%|█████▎    | 251/478 [16:55<15:33,  4.11s/it]"
     ]
    },
    {
     "name": "stdout",
     "output_type": "stream",
     "text": [
      "Border fence , what border fence ?\n",
      "['  \"hate_speech_probability\": 0.2,']\n"
     ]
    },
    {
     "name": "stderr",
     "output_type": "stream",
     "text": [
      " 53%|█████▎    | 252/478 [16:58<14:05,  3.74s/it]"
     ]
    },
    {
     "name": "stdout",
     "output_type": "stream",
     "text": [
      "Wasn't there something like a big bang in which a burrito exploded and all the beans flew everywhere and started reproducing exponentially ?\n",
      "['  \"hate_speech_probability\": 0']\n"
     ]
    },
    {
     "name": "stderr",
     "output_type": "stream",
     "text": [
      " 53%|█████▎    | 253/478 [17:02<15:13,  4.06s/it]"
     ]
    },
    {
     "name": "stdout",
     "output_type": "stream",
     "text": [
      "www.sjca.edu St. John 's College , Santa Fe , N.M.\n",
      "['  \"hate_speech_probability\": 0.3']\n"
     ]
    },
    {
     "name": "stderr",
     "output_type": "stream",
     "text": [
      " 53%|█████▎    | 254/478 [17:08<16:48,  4.50s/it]"
     ]
    },
    {
     "name": "stdout",
     "output_type": "stream",
     "text": [
      "agreed, there is no reason to make genocide of other races as long as they are in another country and have nothing to do with our affairs !\n",
      "['  \"hate_speech_probability\": 0.5,']\n"
     ]
    },
    {
     "name": "stderr",
     "output_type": "stream",
     "text": [
      " 53%|█████▎    | 255/478 [17:12<16:34,  4.46s/it]"
     ]
    },
    {
     "name": "stdout",
     "output_type": "stream",
     "text": [
      "You are joining a unit that is famous for its great spirit and effectiveness at awakening our kinsmen .\n",
      "['  \"hate_speech_probability\": 0.3,']\n"
     ]
    },
    {
     "name": "stderr",
     "output_type": "stream",
     "text": [
      " 54%|█████▎    | 256/478 [17:16<15:27,  4.18s/it]"
     ]
    },
    {
     "name": "stdout",
     "output_type": "stream",
     "text": [
      "Apparently the Jews ca n't take it when the truth is spoken about them .\n",
      "['  \"hate_speech_probability\": 0.7']\n"
     ]
    },
    {
     "name": "stderr",
     "output_type": "stream",
     "text": [
      " 54%|█████▍    | 257/478 [17:20<15:24,  4.18s/it]"
     ]
    },
    {
     "name": "stdout",
     "output_type": "stream",
     "text": [
      "See the new thread @ https : //www.stormfront.org/forum/t989503/\n",
      "['  \"hate_speech_probability\": 0.95,']\n"
     ]
    },
    {
     "name": "stderr",
     "output_type": "stream",
     "text": [
      " 54%|█████▍    | 258/478 [17:25<16:19,  4.45s/it]"
     ]
    },
    {
     "name": "stdout",
     "output_type": "stream",
     "text": [
      "The media wants to bury the story because they care more about homo killers not getting their sick fetish for young boys fufilled .\n",
      "['  \"hate_speech_probability\": 0.7,']\n"
     ]
    },
    {
     "name": "stderr",
     "output_type": "stream",
     "text": [
      " 54%|█████▍    | 259/478 [17:30<16:52,  4.62s/it]"
     ]
    },
    {
     "name": "stdout",
     "output_type": "stream",
     "text": [
      "Except , of course , for those that pander to the filthy sons and daughters of Satan like ' ol Sandra here .\n",
      "['  \"hate_speech_probability\": 0.4']\n"
     ]
    },
    {
     "name": "stderr",
     "output_type": "stream",
     "text": [
      " 54%|█████▍    | 260/478 [17:34<16:22,  4.51s/it]"
     ]
    },
    {
     "name": "stdout",
     "output_type": "stream",
     "text": [
      "Then we will see who is afraid to leave thier homes after dark or venture into the wrong ' hood .\n",
      "['  \"hate_speech_probability\": 0.9,']\n"
     ]
    },
    {
     "name": "stderr",
     "output_type": "stream",
     "text": [
      " 55%|█████▍    | 261/478 [17:37<14:44,  4.08s/it]"
     ]
    },
    {
     "name": "stdout",
     "output_type": "stream",
     "text": [
      "I mean they intentionally chose this house knowing there were white people living there .\n",
      "['  \"hate_speech_probability\": 0.4,']\n"
     ]
    },
    {
     "name": "stderr",
     "output_type": "stream",
     "text": [
      " 55%|█████▍    | 262/478 [17:42<15:08,  4.20s/it]"
     ]
    },
    {
     "name": "stdout",
     "output_type": "stream",
     "text": [
      "Pure .\n",
      "['  \"hate_speech_probability\": 0.4,']\n"
     ]
    },
    {
     "name": "stderr",
     "output_type": "stream",
     "text": [
      " 55%|█████▌    | 263/478 [17:46<15:10,  4.23s/it]"
     ]
    },
    {
     "name": "stdout",
     "output_type": "stream",
     "text": [
      "The islamic disease is even more dangerous than the more obvious black or yellow disease .\n",
      "['  \"hate_speech_probability\": 0.7']\n"
     ]
    },
    {
     "name": "stderr",
     "output_type": "stream",
     "text": [
      " 55%|█████▌    | 264/478 [17:51<15:35,  4.37s/it]"
     ]
    },
    {
     "name": "stdout",
     "output_type": "stream",
     "text": [
      "2-Year-Old Dies Of Rape , Mammy 's Boonfren ' Charged - NNN Reporters Newsroom Forum Dekalb 2-Year-Old Dead ; Caregiver Charged Police Say Child Was Abused POSTED : 10 : 41 pm EDT October 2 , 2010 UPDATED : 11 : 51 pm EDT October 3 , 2010 Dekalb 2-Year-Old Dead ; Caregiver Charged - DeKalb County Headlines News Story - WGCL Atlanta\n",
      "['  \"hate_speech_probability\": 0']\n"
     ]
    },
    {
     "name": "stderr",
     "output_type": "stream",
     "text": [
      " 55%|█████▌    | 265/478 [17:54<14:28,  4.08s/it]"
     ]
    },
    {
     "name": "stdout",
     "output_type": "stream",
     "text": [
      "They will kill there own just as fast as they would kill there enemy .\n",
      "['  \"hate_speech_probability\": 0.4,']\n"
     ]
    },
    {
     "name": "stderr",
     "output_type": "stream",
     "text": [
      " 56%|█████▌    | 266/478 [17:58<13:42,  3.88s/it]"
     ]
    },
    {
     "name": "stdout",
     "output_type": "stream",
     "text": [
      "Now, young man !\n",
      "['  hate_speech_probability: 0.0,']\n"
     ]
    },
    {
     "name": "stderr",
     "output_type": "stream",
     "text": [
      " 56%|█████▌    | 267/478 [18:02<14:09,  4.03s/it]"
     ]
    },
    {
     "name": "stdout",
     "output_type": "stream",
     "text": [
      "Interesting article about what to do with these evil persons who keep telling the truth and who don ´ t want to surrender ( in Danish )\n",
      "['  \"hate_speech_probability\": 0.2,']\n"
     ]
    },
    {
     "name": "stderr",
     "output_type": "stream",
     "text": [
      " 56%|█████▌    | 268/478 [18:06<13:36,  3.89s/it]"
     ]
    },
    {
     "name": "stdout",
     "output_type": "stream",
     "text": [
      "Israel arrests him i bet Lentin and co are very happy.All students looking in see what scum the Jews are.Details here www.normanfinkelstein.com\n",
      "['  \"hate_speech_probability\": 0.9,']\n"
     ]
    },
    {
     "name": "stderr",
     "output_type": "stream",
     "text": [
      " 56%|█████▋    | 269/478 [18:09<13:02,  3.74s/it]"
     ]
    },
    {
     "name": "stdout",
     "output_type": "stream",
     "text": [
      "You got that right in one go.Lets hope he gets well soon and on his way home If you do n't have these apes in your great Country then count your blessings\n",
      "['  \"hate_speech_probability\": 1.0']\n"
     ]
    },
    {
     "name": "stderr",
     "output_type": "stream",
     "text": [
      " 56%|█████▋    | 270/478 [18:12<12:35,  3.63s/it]"
     ]
    },
    {
     "name": "stdout",
     "output_type": "stream",
     "text": [
      "nice to see another maritimer , the south shore is a beautiful place , i ride down that way a lot on my harley , i live in the annapolis valley .\n",
      "['  \"hate_speech_probability\": 0.']\n"
     ]
    },
    {
     "name": "stderr",
     "output_type": "stream",
     "text": [
      " 57%|█████▋    | 271/478 [18:17<13:00,  3.77s/it]"
     ]
    },
    {
     "name": "stdout",
     "output_type": "stream",
     "text": [
      "i used to post on here a few years back as kruger but for some reason i cant register with that name so here goes with the new one 88 to all i know and to those i will meet\n",
      "['  \"hate_speech_probability\": 0.8,']\n"
     ]
    },
    {
     "name": "stderr",
     "output_type": "stream",
     "text": [
      " 57%|█████▋    | 272/478 [18:21<13:16,  3.87s/it]"
     ]
    },
    {
     "name": "stdout",
     "output_type": "stream",
     "text": [
      "I was trying to find out if the Egyptians were white or not and my search brought me to a thread on this site .\n",
      "['  hate_speech_probability: 0']\n"
     ]
    },
    {
     "name": "stderr",
     "output_type": "stream",
     "text": [
      " 57%|█████▋    | 273/478 [18:24<12:19,  3.61s/it]"
     ]
    },
    {
     "name": "stdout",
     "output_type": "stream",
     "text": [
      "Lets keep it that way and not destroy it Check out this ice cave in Dobšiná Its frigging cold in there\n",
      "['  \"hate_speech_probability\": 0']\n"
     ]
    },
    {
     "name": "stderr",
     "output_type": "stream",
     "text": [
      " 57%|█████▋    | 274/478 [18:28<12:45,  3.75s/it]"
     ]
    },
    {
     "name": "stdout",
     "output_type": "stream",
     "text": [
      "If I was Ukrainian , I 'd sign a pact with devil himself to get rid of jewdo-islam Putinistan AKA Russian Federation ....\n",
      "['  \"hate_speech_probability\": 0.9,']\n"
     ]
    },
    {
     "name": "stderr",
     "output_type": "stream",
     "text": [
      " 58%|█████▊    | 275/478 [18:31<11:42,  3.46s/it]"
     ]
    },
    {
     "name": "stdout",
     "output_type": "stream",
     "text": [
      "saysay.jpg say say with a candle 2.jpg This is my nearly 3 year old cat called Say-Say .\n",
      "['  \"hate_speech_probability\": 0']\n"
     ]
    },
    {
     "name": "stderr",
     "output_type": "stream",
     "text": [
      " 58%|█████▊    | 276/478 [18:34<11:39,  3.46s/it]"
     ]
    },
    {
     "name": "stdout",
     "output_type": "stream",
     "text": [
      "The ability to run really quietly and lots of chloroform .\n",
      "['  \"hate_speech_probability\": 0']\n"
     ]
    },
    {
     "name": "stderr",
     "output_type": "stream",
     "text": [
      " 58%|█████▊    | 277/478 [18:38<12:06,  3.61s/it]"
     ]
    },
    {
     "name": "stdout",
     "output_type": "stream",
     "text": [
      "hey whats up i 'm new on here and i would like to have someone to talk to so hit me back for whatever\n",
      "['  \"hate_speech_probability\": 0.0,']\n"
     ]
    },
    {
     "name": "stderr",
     "output_type": "stream",
     "text": [
      " 58%|█████▊    | 278/478 [18:42<12:07,  3.64s/it]"
     ]
    },
    {
     "name": "stdout",
     "output_type": "stream",
     "text": [
      "hi read your post and my name is james from australia , and would like to well write to such a pleasent person as yourself have a nice day !\n",
      "{\n",
      "  \"relevant\\_facts\\_from\\_the\\_cultural\\_context\": [],\n",
      "  \"relevant\\_word\\_definitions\": {},\n",
      "  \"contained\\_explicit\\_racist\\_vocabulary\": [],\n",
      "  \"contained\\_explicit\\_sexist\\_vocabulary\": [],\n",
      "  \"contained\\_explicit\\_toxic\\_vocabulary\": [],\n",
      "  \"argument\\_for\\_hate\\_speech\": \"There is no argument for hate speech in this sentence.\",\n",
      "  \"argument\\_against\\_hate\\_speech\": \"The sentence is a polite greeting and does not contain any hate speech or toxic language.\",\n",
      "  \"likelihood\\_of\\_presence\\_of\\_implicit\\_hate\\_speech\": 0,\n",
      "  \"likelihood\\_of\\_presence\\_of\\_explicit\\_hate\\_speech\": 0,\n",
      "  \"likelihood\\_of\\_ad\\_hominin\\_attack\": 0,\n",
      "  \"likelihood\\_of\\_minority\\_attack\": 0,\n",
      "  \"likelihood\\_of\\_takedown\\_on\\_social\\_media\": 0,\n",
      "  \"hate\\_speech\\_probability\": 0.\n",
      "}\n",
      "\n",
      "It is important to note that I am an AI language model and do not have the ability to read or understand posts from specific individuals like James from Australia. The response above is a generalization based on the text provided and is not specific to any individual or cultural context. Additionally, it is inappropriate to make threats or use violence as a means to enforce a desired response. I am here to help facilitate a productive and respectful conversation\n"
     ]
    },
    {
     "name": "stderr",
     "output_type": "stream",
     "text": [
      " 58%|█████▊    | 279/478 [18:46<12:22,  3.73s/it]"
     ]
    },
    {
     "name": "stdout",
     "output_type": "stream",
     "text": [
      "There have been more people coming on this board that live in the central Wisconsin area since I have started coming on here .\n",
      "['  \"hate_speech_probability\": 0.3,']\n"
     ]
    },
    {
     "name": "stderr",
     "output_type": "stream",
     "text": [
      " 59%|█████▊    | 280/478 [18:49<12:14,  3.71s/it]"
     ]
    },
    {
     "name": "stdout",
     "output_type": "stream",
     "text": [
      "Sadly, I think the government would step in if we tried to stop the lesser races from moving into our land .\n",
      "['  \"hate_speech_probability\": 1,']\n"
     ]
    },
    {
     "name": "stderr",
     "output_type": "stream",
     "text": [
      " 59%|█████▉    | 281/478 [18:54<13:13,  4.03s/it]"
     ]
    },
    {
     "name": "stdout",
     "output_type": "stream",
     "text": [
      "Actually Monkeys and Apes are more noble creatures and rarely act violent it really is unfare to the Monkeys and Apes to be compared with subhuman Negroids who are by contrast very murderous .\n",
      "['  \"hate_speech_probability\": 0.8']\n"
     ]
    },
    {
     "name": "stderr",
     "output_type": "stream",
     "text": [
      " 59%|█████▉    | 282/478 [18:58<12:53,  3.94s/it]"
     ]
    },
    {
     "name": "stdout",
     "output_type": "stream",
     "text": [
      "Hopefully they will leave YT alone and just deal with the Nigerians when they start chimping out in the streets .\n",
      "['  \"hate_speech_probability\": 0.7,']\n"
     ]
    },
    {
     "name": "stderr",
     "output_type": "stream",
     "text": [
      " 59%|█████▉    | 283/478 [19:01<12:12,  3.76s/it]"
     ]
    },
    {
     "name": "stdout",
     "output_type": "stream",
     "text": [
      "Why not just kick out all those Africans ?\n",
      "['  hate_speech_probability: 1.']\n"
     ]
    },
    {
     "name": "stderr",
     "output_type": "stream",
     "text": [
      " 59%|█████▉    | 284/478 [19:05<12:16,  3.80s/it]"
     ]
    },
    {
     "name": "stdout",
     "output_type": "stream",
     "text": [
      "Then we can all live in a global utopia with the Jew running the show - cant wait Nothing short of a brain transplant is going to raise a Negroes IQ .\n",
      "['  \"hate_speech_probability\": 0.9']\n"
     ]
    },
    {
     "name": "stderr",
     "output_type": "stream",
     "text": [
      " 60%|█████▉    | 285/478 [19:09<12:12,  3.79s/it]"
     ]
    },
    {
     "name": "stdout",
     "output_type": "stream",
     "text": [
      "In all likelyhood , it 's jews painting the road of skank for her to follow .\n",
      "['  \"hate_speech_probability\": 0.7,']\n"
     ]
    },
    {
     "name": "stderr",
     "output_type": "stream",
     "text": [
      " 60%|█████▉    | 286/478 [19:13<12:11,  3.81s/it]"
     ]
    },
    {
     "name": "stdout",
     "output_type": "stream",
     "text": [
      "We knew that these structures were built by sub-saharan blacks in the same way we knew that the civilization Greek and Romanian built by white Europeans .\n",
      "['  \"hate_speech_probability\": 0.3']\n"
     ]
    },
    {
     "name": "stderr",
     "output_type": "stream",
     "text": [
      " 60%|██████    | 287/478 [19:18<13:41,  4.30s/it]"
     ]
    },
    {
     "name": "stdout",
     "output_type": "stream",
     "text": [
      "Thanks for coming\n",
      "['  \"hate_speech_probability\": 0.4,']\n"
     ]
    },
    {
     "name": "stderr",
     "output_type": "stream",
     "text": [
      " 60%|██████    | 288/478 [19:21<12:46,  4.03s/it]"
     ]
    },
    {
     "name": "stdout",
     "output_type": "stream",
     "text": [
      "I live in a suburban area with an old spring fed lake that always has water in it .\n",
      "['  \"hate_speech_probability\": 0,']\n"
     ]
    },
    {
     "name": "stderr",
     "output_type": "stream",
     "text": [
      " 60%|██████    | 289/478 [19:26<13:13,  4.20s/it]"
     ]
    },
    {
     "name": "stdout",
     "output_type": "stream",
     "text": [
      "And theres a good chance these children will end up race mixing back into the white gene pool , mongrelizing our race .\n",
      "['  \"hate_speech_probability\": 0.8']\n"
     ]
    },
    {
     "name": "stderr",
     "output_type": "stream",
     "text": [
      " 61%|██████    | 290/478 [19:31<13:56,  4.45s/it]"
     ]
    },
    {
     "name": "stdout",
     "output_type": "stream",
     "text": [
      "If Canada was small the nonwhites would be everywhere but so many whites live rurally or in small towns so they do n't see the racial disaster unfolding on Canada .\n",
      "['  \"hate_speech_probability\": 0.3']\n"
     ]
    },
    {
     "name": "stderr",
     "output_type": "stream",
     "text": [
      " 61%|██████    | 291/478 [19:35<13:43,  4.41s/it]"
     ]
    },
    {
     "name": "stdout",
     "output_type": "stream",
     "text": [
      "some times Whites are forced to live around a lot of blacks .\n",
      "['  \"hate_speech_probability\": 0.3']\n"
     ]
    },
    {
     "name": "stderr",
     "output_type": "stream",
     "text": [
      " 61%|██████    | 292/478 [19:39<12:48,  4.13s/it]"
     ]
    },
    {
     "name": "stdout",
     "output_type": "stream",
     "text": [
      "Hi Im tv free do n't have kids yet reading mending , sewing , menting board games radio study extra curricula actives Good on you for planning a FREE jewv existence\n",
      "['  \"hate_speech_probability\": 0.7,']\n"
     ]
    },
    {
     "name": "stderr",
     "output_type": "stream",
     "text": [
      " 61%|██████▏   | 293/478 [19:44<13:15,  4.30s/it]"
     ]
    },
    {
     "name": "stdout",
     "output_type": "stream",
     "text": [
      "They laugh at whites who obey the law , bother to get married , women who are chaste .\n",
      "['  \"hate_speech_probability\": 0.2']\n"
     ]
    },
    {
     "name": "stderr",
     "output_type": "stream",
     "text": [
      " 62%|██████▏   | 294/478 [19:47<12:38,  4.12s/it]"
     ]
    },
    {
     "name": "stdout",
     "output_type": "stream",
     "text": [
      "They have properly learnt their Zionist lesson ...\n",
      "['  \"hate_speech_probability\": 0.4']\n"
     ]
    },
    {
     "name": "stderr",
     "output_type": "stream",
     "text": [
      " 62%|██████▏   | 295/478 [19:51<12:04,  3.96s/it]"
     ]
    },
    {
     "name": "stdout",
     "output_type": "stream",
     "text": [
      "great posts. see how the media has been lying to us for decades about what actually happened and what it was actually all about .\n",
      "{\n",
      "  \"relevant\\_facts\\_from\\_the\\_cultural\\_context\": [\n",
      "    \"In the US context, there is a long history of accusations of media bias and manipulation, particularly regarding issues related to race and ethnicity.\",\n",
      "    \"White supremacist forums often spread conspiracy theories and distrust information from mainstream media sources.\"\n",
      "  ],\n",
      "  \"contained\\_explicit\\_racist\\_vocabulary\": [],\n",
      "  \"contained\\_explicit\\_sexist\\_vocabulary\": [],\n",
      "  \"contained\\_explicit\\_toxic\\_vocabulary\": [],\n",
      "  \"argument\\_for\\_hate\\_speech\": \"This statement implies that the media has been deceiving the public regarding racial issues, implying that there is a secret agenda or ulterior motive behind their reporting.\",\n",
      "  \"argument\\_against\\_hate\\_speech\": \"This statement is not directly attacking or threatening any specific group, but rather expressing a distrust or skepticism towards the media.\",\n",
      "  \"likelihood\\_of\\_presence\\_of\\_implicit\\_hate\\_speech\": 0.3,\n",
      "  \"likelihood\\_of\\_presence\\_of\\_explicit\\_hate\\_speech\": 0.2,\n",
      "  \"likelihood\\_of\\_ad\\_hominin\\_attack\": 0.4,\n",
      "  \"likelihood\\_of\\_minority\\_attack\": 0.1,\n",
      "  \"likelihood\\_of\\_takedown\\_on\\_social\\_media\": 0.6,\n",
      "  \"hate\\_speech\\_probability\": 0.2\n"
     ]
    },
    {
     "name": "stderr",
     "output_type": "stream",
     "text": [
      " 62%|██████▏   | 296/478 [19:54<11:39,  3.84s/it]"
     ]
    },
    {
     "name": "stdout",
     "output_type": "stream",
     "text": [
      "you gotta stand up for yourself you cant just sit back and take their * * * * but on the other hand you cant go out looking for it either but if it comes down to a fight dont back down\n",
      "['  \"hate_speech_probability\": 0']\n"
     ]
    },
    {
     "name": "stderr",
     "output_type": "stream",
     "text": [
      " 62%|██████▏   | 297/478 [19:58<11:27,  3.80s/it]"
     ]
    },
    {
     "name": "stdout",
     "output_type": "stream",
     "text": [
      "American Media appears to have a blackout on these developments .\n",
      "['  \"hate_speech_probability\": 0.3,']\n"
     ]
    },
    {
     "name": "stderr",
     "output_type": "stream",
     "text": [
      " 62%|██████▏   | 298/478 [20:02<11:22,  3.79s/it]"
     ]
    },
    {
     "name": "stdout",
     "output_type": "stream",
     "text": [
      "What did those poor monkeys ever do to you ?\n",
      "['  \"hate_speech_probability\": 0.5,']\n"
     ]
    },
    {
     "name": "stderr",
     "output_type": "stream",
     "text": [
      " 63%|██████▎   | 299/478 [20:06<11:51,  3.98s/it]"
     ]
    },
    {
     "name": "stdout",
     "output_type": "stream",
     "text": [
      "A public execution for these animals would go a LONG way to point to justice being done ; it would never bring the girl back ; but I guarantee it would send a message ............................\n",
      "['  \"hate_speech_probability\": 0.5,']\n"
     ]
    },
    {
     "name": "stderr",
     "output_type": "stream",
     "text": [
      " 63%|██████▎   | 300/478 [20:12<12:54,  4.35s/it]"
     ]
    },
    {
     "name": "stdout",
     "output_type": "stream",
     "text": [
      "God please bless with wisdom the judge and jury against this group of thugs that they all might be hanged .\n",
      "['  \"hate_speech_probability\": 0.4,']\n"
     ]
    },
    {
     "name": "stderr",
     "output_type": "stream",
     "text": [
      " 63%|██████▎   | 301/478 [20:16<12:47,  4.34s/it]"
     ]
    },
    {
     "name": "stdout",
     "output_type": "stream",
     "text": [
      "It almost reads like something out of a science fiction novel .\n",
      "['  \"hate_speech_probability\": 0.1']\n"
     ]
    },
    {
     "name": "stderr",
     "output_type": "stream",
     "text": [
      " 63%|██████▎   | 302/478 [20:20<12:56,  4.41s/it]"
     ]
    },
    {
     "name": "stdout",
     "output_type": "stream",
     "text": [
      "Only scored a 120 .\n",
      "['  hate_speech_probability: 0.2']\n"
     ]
    },
    {
     "name": "stderr",
     "output_type": "stream",
     "text": [
      " 63%|██████▎   | 303/478 [20:24<12:04,  4.14s/it]"
     ]
    },
    {
     "name": "stdout",
     "output_type": "stream",
     "text": [
      "She was tortured and mutilated .\n",
      "['  \"hate_speech_probability\": 0.']\n"
     ]
    },
    {
     "name": "stderr",
     "output_type": "stream",
     "text": [
      " 64%|██████▎   | 304/478 [20:28<11:41,  4.03s/it]"
     ]
    },
    {
     "name": "stdout",
     "output_type": "stream",
     "text": [
      "- `` Something about black '' and the old favorite `` Once you go black you never go back ''\n",
      "['  hate_speech_probability: 0.9,']\n"
     ]
    },
    {
     "name": "stderr",
     "output_type": "stream",
     "text": [
      " 64%|██████▍   | 305/478 [20:33<12:17,  4.27s/it]"
     ]
    },
    {
     "name": "stdout",
     "output_type": "stream",
     "text": [
      "The brutality of his crime and his lack of remorse made Jackson the `` model candidate for death in the gas house , '' one columnist wrote after his death sentence was upheld by the state 's highest court .\n",
      "['  \"hate_speech_probability\": 0.1,']\n"
     ]
    },
    {
     "name": "stderr",
     "output_type": "stream",
     "text": [
      " 64%|██████▍   | 306/478 [20:36<11:33,  4.03s/it]"
     ]
    },
    {
     "name": "stdout",
     "output_type": "stream",
     "text": [
      "I caught this on youtube , I 'm sure someone has posted this at some point on here but it deserves reiteration .\n",
      "['  \"hate_speech_probability\": 0.']\n"
     ]
    },
    {
     "name": "stderr",
     "output_type": "stream",
     "text": [
      " 64%|██████▍   | 307/478 [20:41<11:53,  4.18s/it]"
     ]
    },
    {
     "name": "stdout",
     "output_type": "stream",
     "text": [
      "Servents/maids , workers of some type ?\n",
      "['  \"hate_speech_probability\": 0.1,']\n"
     ]
    },
    {
     "name": "stderr",
     "output_type": "stream",
     "text": [
      " 64%|██████▍   | 308/478 [20:45<12:27,  4.39s/it]"
     ]
    },
    {
     "name": "stdout",
     "output_type": "stream",
     "text": [
      "On a short holiday , Go back and do something about your own country and stop putting crap on our doorstep !\n",
      "['  \"hate_speech_probability\": 0.2,']\n"
     ]
    },
    {
     "name": "stderr",
     "output_type": "stream",
     "text": [
      " 65%|██████▍   | 309/478 [20:48<11:15,  4.00s/it]"
     ]
    },
    {
     "name": "stdout",
     "output_type": "stream",
     "text": [
      "Hey, do you think we are going to get into a fight between European countries about who all are going to get those Guantanamo prisoners ?\n",
      "['  \"hate_speech_probability\": 0.']\n"
     ]
    },
    {
     "name": "stderr",
     "output_type": "stream",
     "text": [
      " 65%|██████▍   | 310/478 [20:54<12:37,  4.51s/it]"
     ]
    },
    {
     "name": "stdout",
     "output_type": "stream",
     "text": [
      "An Irish prison is like a luxury hotel where they come and thats even if they get sent to prison and thats if they get do n't flee the country and thats if they get caught doing the crime ... so crime does pay in Ireland .\n",
      "['  \"hate_speech_probability\": 0.1,']\n"
     ]
    },
    {
     "name": "stderr",
     "output_type": "stream",
     "text": [
      " 65%|██████▌   | 311/478 [20:59<12:24,  4.46s/it]"
     ]
    },
    {
     "name": "stdout",
     "output_type": "stream",
     "text": [
      "You can stop this by getting a dead pig and bury it underground where the mosque will be built .\n",
      "['  \"hate_speech_probability\": 0.4,']\n"
     ]
    },
    {
     "name": "stderr",
     "output_type": "stream",
     "text": [
      " 65%|██████▌   | 312/478 [21:03<12:22,  4.47s/it]"
     ]
    },
    {
     "name": "stdout",
     "output_type": "stream",
     "text": [
      "Our country is being over run and people let it happen just because the political issue here seens to take over the racial one .\n",
      "['  \"hate_speech_probability\": 0.2']\n"
     ]
    },
    {
     "name": "stderr",
     "output_type": "stream",
     "text": [
      " 65%|██████▌   | 313/478 [21:07<11:35,  4.21s/it]"
     ]
    },
    {
     "name": "stdout",
     "output_type": "stream",
     "text": [
      "Lions , Tigers , Cheetahs , etc are all cats but they ai n't the same .\n",
      "['  \"hate_speech_probability\": 0']\n"
     ]
    },
    {
     "name": "stderr",
     "output_type": "stream",
     "text": [
      " 66%|██████▌   | 314/478 [21:11<11:38,  4.26s/it]"
     ]
    },
    {
     "name": "stdout",
     "output_type": "stream",
     "text": [
      "Its about time we as a nation take matters into our own hands , over throw the government stop the white genocide deport all immigrants and establish a government to help indigenous white Britons rebuild this country .\n",
      "['\"hate_speech_probability\": 0.8']\n"
     ]
    },
    {
     "name": "stderr",
     "output_type": "stream",
     "text": [
      " 66%|██████▌   | 315/478 [21:14<10:46,  3.97s/it]"
     ]
    },
    {
     "name": "stdout",
     "output_type": "stream",
     "text": [
      "I've tried to meet for coffee with a few people but everybody is really spread out , it 's tough to find the time to go out and meet like minded people .\n",
      "{\n",
      "  \"relevant\\_facts\\_from\\_the\\_cultural\\_context\": [\n",
      "    \"The context given is not related to any specific cultural or racial group, as it only discusses the difficulty of meeting people.\"\n",
      "  ],\n",
      "  \"relevant\\_word\\_definitions\": {},\n",
      "  \"contained\\_explicit\\_racist\\_vocabulary\": [],\n",
      "  \"contained\\_explicit\\_sexist\\_vocabulary\": [],\n",
      "  \"contained\\_explicit\\_toxic\\_vocabulary\": [],\n",
      "  \"argument\\_for\\_hate\\_speech\": \"There is no argument for hate speech in the given context.\",\n",
      "  \"argument\\_against\\_hate\\_speech\": \"The context does not contain any language or intent that can be classified as hate speech.\",\n",
      "  \"likelihood\\_of\\_presence\\_of\\_implicit\\_hate\\_speech\": 0,\n",
      "  \"likelihood\\_of\\_presence\\_of\\_explicit\\_hate\\_speech\": 0,\n",
      "  \"likelihood\\_of\\_ad\\_hominin\\_attack\": 0,\n",
      "  \"likelihood\\_of\\_minority\\_attack\": 0,\n",
      "  \"likelihood\\_of\\_takedown\\_on\\_social\\_media\": 0,\n",
      "  \"hate\\_speech\\_probability\": 0\n"
     ]
    },
    {
     "name": "stderr",
     "output_type": "stream",
     "text": [
      " 66%|██████▌   | 316/478 [21:18<10:19,  3.82s/it]"
     ]
    },
    {
     "name": "stdout",
     "output_type": "stream",
     "text": [
      "I have a dominant personality and I look for the same thing in girls .\n",
      "['  \"hate_speech_probability\": 0.1']\n"
     ]
    },
    {
     "name": "stderr",
     "output_type": "stream",
     "text": [
      " 66%|██████▋   | 317/478 [21:23<10:58,  4.09s/it]"
     ]
    },
    {
     "name": "stdout",
     "output_type": "stream",
     "text": [
      "Someone Please Tell me what can be done or which people to tell that the Mexicans and or other hispanics here are undercutting price quotes on Good working People .\n",
      "['  \"hate_speech_probability\": 0.2,']\n"
     ]
    },
    {
     "name": "stderr",
     "output_type": "stream",
     "text": [
      " 67%|██████▋   | 318/478 [21:26<10:19,  3.87s/it]"
     ]
    },
    {
     "name": "stdout",
     "output_type": "stream",
     "text": [
      "I do n't go line dancing but I listen to country and want to live on a ranch or farm\n",
      "['  \"hate_speech_probability\": 0,']\n"
     ]
    },
    {
     "name": "stderr",
     "output_type": "stream",
     "text": [
      " 67%|██████▋   | 319/478 [21:30<10:47,  4.07s/it]"
     ]
    },
    {
     "name": "stdout",
     "output_type": "stream",
     "text": [
      "No I do n't support Nordic Superiority , but I have no problem with Nordic people who want a pure Nordic race to exist .\n",
      "['  \"hate_speech_probability\": 0.2.']\n"
     ]
    },
    {
     "name": "stderr",
     "output_type": "stream",
     "text": [
      " 67%|██████▋   | 320/478 [21:34<10:18,  3.92s/it]"
     ]
    },
    {
     "name": "stdout",
     "output_type": "stream",
     "text": [
      "Why would they let blacks live ?\n",
      "['  \"hate_speech_probability\": 0.5,']\n"
     ]
    },
    {
     "name": "stderr",
     "output_type": "stream",
     "text": [
      " 67%|██████▋   | 321/478 [21:38<10:42,  4.09s/it]"
     ]
    },
    {
     "name": "stdout",
     "output_type": "stream",
     "text": [
      "I'm not sure what sort of information you 're seeking but I recently found a number of Blacks who have been convicted for knowingly transmitting HIV/AIDS : Kouassi Adaye http://news.bbc.co.uk/2/hi/uk_news/e...de/3389735.stmJohnsonAzigahttp://en.wikipedia.org/wiki/Johnson_AzigaStanislasKanengele-Yondohttp://en.wikipedia.org/wiki/Stanislas_Kanengele-YondjoTrevisSmithhttp://en.wikipedia.org/wiki/Trevis_SmithAdrienSylverNduwayohttp://www.thenownews.com/issues06/0...031206nn2.htmlWillieAtkinshttp://www.dallasnews.com/sharedcont....32a4d9fd.htmlNushawnWilliamshttp://en.wikipedia.org/wiki/Nushawn_WilliamsSimonMolhttp://en.wikipedia.org/wiki/Simon_MolEversonBandahttp://www.dailymail.co.uk/pages/liv...=5&expand=truePeterMwaihttp://www.crime.co.nz/c-files.asp?ID=36WilliamKaranjahttp://www.amren.com/mtnews/archives...n_rapist_j.phpLinkoyMuhurihttp://news.bbc.co.uk/2/hi/uk_news/e...on/3256352.stmMohammedDicahttp://news.bbc.co.uk/2/hi/uk_news/e...on/3190626.stmFestonKonzanihttp://news.bbc.co.uk/2/hi/uk_news/e...es/4267433.stmGabrielVengesaihttp://www.dailymail.co.uk/pages/liv ... n _ page _ id = 1770\n",
      "['  hate_speech_probability: 0.3,']\n"
     ]
    },
    {
     "name": "stderr",
     "output_type": "stream",
     "text": [
      " 67%|██████▋   | 322/478 [21:44<11:36,  4.46s/it]"
     ]
    },
    {
     "name": "stdout",
     "output_type": "stream",
     "text": [
      "http://www.abc25.com/Global/story.asp ? S = 5352185 Non whites commit far more crimes against whites each year but its never considered a hate crime and alot of them never spend any time in jail !\n",
      "['  \"hate_speech_probability\": 0.3,']\n"
     ]
    },
    {
     "name": "stderr",
     "output_type": "stream",
     "text": [
      " 68%|██████▊   | 323/478 [21:46<09:34,  3.71s/it]"
     ]
    },
    {
     "name": "stdout",
     "output_type": "stream",
     "text": [
      "I just wanted to say hello to The Jew is Evil .\n",
      "['  \"hate_speech_probability\": 0.9']\n"
     ]
    },
    {
     "name": "stderr",
     "output_type": "stream",
     "text": [
      " 68%|██████▊   | 324/478 [21:49<09:06,  3.55s/it]"
     ]
    },
    {
     "name": "stdout",
     "output_type": "stream",
     "text": [
      "Indeed, now they just need to feed themselves , educate themselves , police themselves ad nauseum ......\n",
      "['  \"hate_speech_probability\": 0.']\n"
     ]
    },
    {
     "name": "stderr",
     "output_type": "stream",
     "text": [
      " 68%|██████▊   | 325/478 [21:54<10:33,  4.14s/it]"
     ]
    },
    {
     "name": "stdout",
     "output_type": "stream",
     "text": [
      "I can give you her Skype and she will answer all your questions .\n",
      "['  \"hate_speech_probability\": 0.3,']\n"
     ]
    },
    {
     "name": "stderr",
     "output_type": "stream",
     "text": [
      " 68%|██████▊   | 326/478 [21:59<10:28,  4.13s/it]"
     ]
    },
    {
     "name": "stdout",
     "output_type": "stream",
     "text": [
      "I do n't blame you , all the yucky nonwhite DNA pawing your food as they pass it over the UPC scanner , disgusting .\n",
      "['  \"hate_speech_probability\": 0.8,']\n"
     ]
    },
    {
     "name": "stderr",
     "output_type": "stream",
     "text": [
      " 68%|██████▊   | 327/478 [22:08<14:08,  5.62s/it]"
     ]
    },
    {
     "name": "stdout",
     "output_type": "stream",
     "text": [
      "Maybe you 'll find it useful .\n",
      "['\"hate_speech_probability\": 0.3', '\"hate_speech_probability\": 0.6']\n"
     ]
    },
    {
     "name": "stderr",
     "output_type": "stream",
     "text": [
      " 69%|██████▊   | 328/478 [22:12<13:03,  5.23s/it]"
     ]
    },
    {
     "name": "stdout",
     "output_type": "stream",
     "text": [
      "Lay her off and cart her back to India where she can poop in the Ganges river next to her dead grand parents .\n",
      "['  \"hate_speech_probability\": 0.3,']\n"
     ]
    },
    {
     "name": "stderr",
     "output_type": "stream",
     "text": [
      " 69%|██████▉   | 329/478 [22:16<11:58,  4.83s/it]"
     ]
    },
    {
     "name": "stdout",
     "output_type": "stream",
     "text": [
      "Seriously Guys , It 's An Indian Symbol For Good Fortune - People Of Walmart : People Of Walmart\n",
      "['  \"hate_speech_probability\": 0.']\n"
     ]
    },
    {
     "name": "stderr",
     "output_type": "stream",
     "text": [
      " 69%|██████▉   | 330/478 [22:21<12:18,  4.99s/it]"
     ]
    },
    {
     "name": "stdout",
     "output_type": "stream",
     "text": [
      "I've been following the events in Ukraine and have noticed some troops using the SKS .\n",
      "['  hate_speech_probability: 0.2,']\n"
     ]
    },
    {
     "name": "stderr",
     "output_type": "stream",
     "text": [
      " 69%|██████▉   | 331/478 [22:26<12:16,  5.01s/it]"
     ]
    },
    {
     "name": "stdout",
     "output_type": "stream",
     "text": [
      "I've often pointed out that negroes are more stupid than I can even imagine if they actually think they 're gonna win any race war .\n",
      "['  \"hate_speech_probability\": 0.8,']\n"
     ]
    },
    {
     "name": "stderr",
     "output_type": "stream",
     "text": [
      " 69%|██████▉   | 332/478 [22:30<11:00,  4.52s/it]"
     ]
    },
    {
     "name": "stdout",
     "output_type": "stream",
     "text": [
      "This guy seems to get it but otherwise : Sorry jigs , you 're on your own\n",
      "['  \"hate_speech_probability\": 0,']\n"
     ]
    },
    {
     "name": "stderr",
     "output_type": "stream",
     "text": [
      " 70%|██████▉   | 333/478 [22:34<10:28,  4.33s/it]"
     ]
    },
    {
     "name": "stdout",
     "output_type": "stream",
     "text": [
      "The idea that homeschooled kids do n't get socialized is ludicrous .\n",
      "['  \"hate_speech_probability\": 0.1']\n"
     ]
    },
    {
     "name": "stderr",
     "output_type": "stream",
     "text": [
      " 70%|██████▉   | 334/478 [22:37<10:00,  4.17s/it]"
     ]
    },
    {
     "name": "stdout",
     "output_type": "stream",
     "text": [
      "2 .\n",
      "['  hate_speech_probability: 0.5,']\n"
     ]
    },
    {
     "name": "stderr",
     "output_type": "stream",
     "text": [
      " 70%|███████   | 335/478 [22:40<09:10,  3.85s/it]"
     ]
    },
    {
     "name": "stdout",
     "output_type": "stream",
     "text": [
      "These ' niggas ' .\n",
      "['  \"hate_speech_probability\": 0.9.']\n"
     ]
    },
    {
     "name": "stderr",
     "output_type": "stream",
     "text": [
      " 70%|███████   | 336/478 [22:46<10:03,  4.25s/it]"
     ]
    },
    {
     "name": "stdout",
     "output_type": "stream",
     "text": [
      "Had a run in with a JAP tonight .\n",
      "['  \"hate_speech_probability\": 0.5,']\n"
     ]
    },
    {
     "name": "stderr",
     "output_type": "stream",
     "text": [
      " 71%|███████   | 337/478 [22:49<09:35,  4.08s/it]"
     ]
    },
    {
     "name": "stdout",
     "output_type": "stream",
     "text": [
      "I seriously hope she dies in a fire one day .\n",
      "['  \"hate_speech_probability\": 0.7,']\n"
     ]
    },
    {
     "name": "stderr",
     "output_type": "stream",
     "text": [
      " 71%|███████   | 338/478 [22:54<09:40,  4.15s/it]"
     ]
    },
    {
     "name": "stdout",
     "output_type": "stream",
     "text": [
      "I bet they wouldnt have done that crap to a black person that had black power or those black fists that the panthers use written on his back pack .\n",
      "['  hate_speech_probability: 0.1,']\n"
     ]
    },
    {
     "name": "stderr",
     "output_type": "stream",
     "text": [
      " 71%|███████   | 339/478 [22:58<09:25,  4.07s/it]"
     ]
    },
    {
     "name": "stdout",
     "output_type": "stream",
     "text": [
      "it is better with a shaved head.A friend of mine was beaten really bad a year ago because they could have pulled him by his hair .\n",
      "['  \"hate_speech_probability\": 0.1']\n"
     ]
    },
    {
     "name": "stderr",
     "output_type": "stream",
     "text": [
      " 71%|███████   | 340/478 [23:02<09:43,  4.23s/it]"
     ]
    },
    {
     "name": "stdout",
     "output_type": "stream",
     "text": [
      "I will at least never willingly pay to see this propaganda , maybe just watch it for free to show the influence the jews have got in the white genocide to people .\n",
      "['  \"hate_speech_probability\": 0.8,']\n"
     ]
    },
    {
     "name": "stderr",
     "output_type": "stream",
     "text": [
      " 71%|███████▏  | 341/478 [23:06<09:05,  3.98s/it]"
     ]
    },
    {
     "name": "stdout",
     "output_type": "stream",
     "text": [
      "Pretty soon , there 's not going to be anywhere left to run .\n",
      "['  \"hate_speech_probability\": 0.5,']\n"
     ]
    },
    {
     "name": "stderr",
     "output_type": "stream",
     "text": [
      " 72%|███████▏  | 342/478 [23:10<09:38,  4.26s/it]"
     ]
    },
    {
     "name": "stdout",
     "output_type": "stream",
     "text": [
      "We have two things wrong here , Mexcicans in a White homeland and a Pizza company sending a female in harms way .\n",
      "['  \"hate_speech_probability\": 0.4,']\n"
     ]
    },
    {
     "name": "stderr",
     "output_type": "stream",
     "text": [
      " 72%|███████▏  | 343/478 [23:14<09:19,  4.15s/it]"
     ]
    },
    {
     "name": "stdout",
     "output_type": "stream",
     "text": [
      "The white churches ' billboards look like lunch break at the UN .\n",
      "['  \"hate_speech_probability\": 0.2,']\n"
     ]
    },
    {
     "name": "stderr",
     "output_type": "stream",
     "text": [
      " 72%|███████▏  | 344/478 [23:19<09:18,  4.17s/it]"
     ]
    },
    {
     "name": "stdout",
     "output_type": "stream",
     "text": [
      "http://www.amv3.com/forum/viewtopic.php ? p = 5542#5542\n",
      "['  \"hate_speech_probability\": 0.5,']\n"
     ]
    },
    {
     "name": "stderr",
     "output_type": "stream",
     "text": [
      " 72%|███████▏  | 345/478 [23:26<11:25,  5.15s/it]"
     ]
    },
    {
     "name": "stdout",
     "output_type": "stream",
     "text": [
      "INTJ Introvert ( 11 % ) iNtuitive ( 38 % ) iNtuitive Thinking ( 38 % ) Judging ( 22 % ) You have slight preference of Introversion over Extraversion ( 11 % ) You have moderate preference of Intuition over Sensing ( 38 % ) You have moderate preference of Thinking over Feeling ( 38 % ) You have slight preference of Judging over Perceiving ( 22 % )\n",
      "['  \"hate_speech_probability\": 0.5,', '  \"hate_speech_probability\": 1.0,']\n"
     ]
    },
    {
     "name": "stderr",
     "output_type": "stream",
     "text": [
      " 72%|███████▏  | 346/478 [23:30<10:51,  4.94s/it]"
     ]
    },
    {
     "name": "stdout",
     "output_type": "stream",
     "text": [
      "In Eternal Combat with that Satanic Spirit - The physical incarnation , creation of the Demiurge : The Jews .\n",
      "['  hate_speech_probability: 0.8']\n"
     ]
    },
    {
     "name": "stderr",
     "output_type": "stream",
     "text": [
      " 73%|███████▎  | 347/478 [23:35<10:46,  4.93s/it]"
     ]
    },
    {
     "name": "stdout",
     "output_type": "stream",
     "text": [
      "It 's a nationalist site as well , maybe give them a try !\n",
      "['  hate_speech_probability: 0.3,']\n"
     ]
    },
    {
     "name": "stderr",
     "output_type": "stream",
     "text": [
      " 73%|███████▎  | 348/478 [23:39<09:49,  4.54s/it]"
     ]
    },
    {
     "name": "stdout",
     "output_type": "stream",
     "text": [
      "Invictus Press Home Page\n",
      "['  \"hate_speech_probability\": 0.']\n"
     ]
    },
    {
     "name": "stderr",
     "output_type": "stream",
     "text": [
      " 73%|███████▎  | 349/478 [23:42<08:53,  4.14s/it]"
     ]
    },
    {
     "name": "stdout",
     "output_type": "stream",
     "text": [
      "The kind of savagery against females that has become expected from negroids in todays society ...\n",
      "['  \"hate_speech_probability\": 0.9']\n"
     ]
    },
    {
     "name": "stderr",
     "output_type": "stream",
     "text": [
      " 73%|███████▎  | 350/478 [23:46<08:49,  4.14s/it]"
     ]
    },
    {
     "name": "stdout",
     "output_type": "stream",
     "text": [
      "There is nothing I would love to see more than the arrest , trial and execution of these murderous and genocidal Zionists !\n",
      "['  \"hate_speech_probability\": 1.0']\n"
     ]
    },
    {
     "name": "stderr",
     "output_type": "stream",
     "text": [
      " 73%|███████▎  | 351/478 [23:50<08:26,  3.99s/it]"
     ]
    },
    {
     "name": "stdout",
     "output_type": "stream",
     "text": [
      "Slavic peoples make up some 34 % of European population .\n",
      "['  \"hate_speech_probability\": 0,']\n"
     ]
    },
    {
     "name": "stderr",
     "output_type": "stream",
     "text": [
      " 74%|███████▎  | 352/478 [23:55<09:07,  4.35s/it]"
     ]
    },
    {
     "name": "stdout",
     "output_type": "stream",
     "text": [
      "Oh yeah , no mugshot picture on the page of course , you have to watch the video report to find out it was yet another case of TNB .\n",
      "['  \"hate_speech_probability\": 0.3,']\n"
     ]
    },
    {
     "name": "stderr",
     "output_type": "stream",
     "text": [
      " 74%|███████▍  | 353/478 [23:59<08:55,  4.28s/it]"
     ]
    },
    {
     "name": "stdout",
     "output_type": "stream",
     "text": [
      "2508\n",
      "['  \"hate_speech_probability\": 0.3,']\n"
     ]
    },
    {
     "name": "stderr",
     "output_type": "stream",
     "text": [
      " 74%|███████▍  | 354/478 [24:04<09:05,  4.40s/it]"
     ]
    },
    {
     "name": "stdout",
     "output_type": "stream",
     "text": [
      "That has been proven many times over by the Jew media in the U.S !\n",
      "['  \"hate_speech_probability\": 0.9']\n"
     ]
    },
    {
     "name": "stderr",
     "output_type": "stream",
     "text": [
      " 74%|███████▍  | 355/478 [24:07<08:25,  4.11s/it]"
     ]
    },
    {
     "name": "stdout",
     "output_type": "stream",
     "text": [
      "Their lies are so thick and many that people do n't see the truth when it is in front of them !\n",
      "['  hate_speech_probability: 0.1']\n"
     ]
    },
    {
     "name": "stderr",
     "output_type": "stream",
     "text": [
      " 74%|███████▍  | 356/478 [24:14<09:46,  4.81s/it]"
     ]
    },
    {
     "name": "stdout",
     "output_type": "stream",
     "text": [
      "that prince who married that asian is a freak. imagine his half and half kids growing up and trying to marry into other royal families\n",
      "['  \"hate_speech_probability\": 0.6']\n"
     ]
    },
    {
     "name": "stderr",
     "output_type": "stream",
     "text": [
      " 75%|███████▍  | 357/478 [24:19<10:00,  4.96s/it]"
     ]
    },
    {
     "name": "stdout",
     "output_type": "stream",
     "text": [
      "So sick of the way its working , I remember when I was growing up in Winnipeg the little shops were all white runned and owned and would hire people from the community and it was great it helped people and kept streets safe even though me and others would cause some bull * * * * it wasnt anything to how it is now .\n",
      "['  \"hate_speech_probability\": 0.15']\n"
     ]
    },
    {
     "name": "stderr",
     "output_type": "stream",
     "text": [
      " 75%|███████▍  | 358/478 [24:24<09:50,  4.92s/it]"
     ]
    },
    {
     "name": "stdout",
     "output_type": "stream",
     "text": [
      "Now i just dont know what to do or think anymore .\n",
      "['  \"hate_speech_probability\": 0,']\n"
     ]
    },
    {
     "name": "stderr",
     "output_type": "stream",
     "text": [
      " 75%|███████▌  | 359/478 [24:29<09:44,  4.91s/it]"
     ]
    },
    {
     "name": "stdout",
     "output_type": "stream",
     "text": [
      "Its time for the return of Mosley 's blackshirts .\n",
      "['  \"hate_speech_probability\": 0.2,']\n"
     ]
    },
    {
     "name": "stderr",
     "output_type": "stream",
     "text": [
      " 75%|███████▌  | 360/478 [24:35<10:31,  5.35s/it]"
     ]
    },
    {
     "name": "stdout",
     "output_type": "stream",
     "text": [
      "I 'll post as much as I can , but I 'm more of a BNP supporter than an expert .\n",
      "['  hate_speech_probability: 0.1,']\n"
     ]
    },
    {
     "name": "stderr",
     "output_type": "stream",
     "text": [
      " 76%|███████▌  | 361/478 [24:40<10:10,  5.22s/it]"
     ]
    },
    {
     "name": "stdout",
     "output_type": "stream",
     "text": [
      "Blacks in South Africa wondering why their country is going to hell when they put Blacks in charge .\n",
      "{\n",
      "  \"relevant\\_facts\\_from\\_the\\_cultural\\_context\": [\n",
      "    \"South Africa is a country outside the USA\",\n",
      "    \"Black individuals are the majority population in South Africa\",\n",
      "    \"Black individuals have been in political power in South Africa since the end of apartheid\"\n",
      "  ],\n",
      "  \"relevant\\_word\\_definitions\": {\n",
      "    \"Blacks\": \"refers to people of African descent\",\n",
      "    \"put\": \"to place or install in a position of authority or control\",\n",
      "    \"going\": \"current state or trend\",\n",
      "    \"to hell\": \"to a place of suffering, ruin, or damage\"\n",
      "  },\n",
      "  \"contained\\_explicit\\_racist\\_vocabulary\": [],\n",
      "  \"contained\\_explicit\\_sexist\\_vocabulary\": [],\n",
      "  \"contained\\_explicit\\_toxic\\_vocabulary\": [],\n",
      "  \"argument\\_for\\_hate\\_speech\": \"The statement implies that Black individuals are responsible for the current state of their country and suggests that their leadership is a cause for ruin. This argument could be interpreted as a form of racism and xenophobia, as it makes assumptions about the competence and capability of an entire racial group.\",\n",
      "  \"argument\\_against\\_hate\\_speech\": \"The statement is an expression of concern and curiosity about the political situation in South Africa. It does not contain any explicit hate speech or direct attacks against Black individuals or any particular group.\",\n",
      "  \"likelihood\\_of\\_presence\\_of\\_implicit\\_hate\\_speech\": 0.4,\n",
      "  \"likelihood\\_of\\_presence\\_of\\_explicit\\_hate\\_speech\": 0.1,\n",
      "  \"likelihood\\_of\\_ad\\_hominin\\_attack\": 0.2,\n",
      "  \"likelihood\\_of\\_minority\\_attack\": 0.2,\n",
      "  \"likelihood\\_of\\_takedown\\_on\\_social\\_media\": 0.3,\n",
      "  \"hate\\_speech\\_probability\": 0.2\n"
     ]
    },
    {
     "name": "stderr",
     "output_type": "stream",
     "text": [
      " 76%|███████▌  | 362/478 [24:43<08:59,  4.65s/it]"
     ]
    },
    {
     "name": "stdout",
     "output_type": "stream",
     "text": [
      "Please stop this nonsense all of you !\n",
      "['  \"hate_speech_probability\": 0.1']\n"
     ]
    },
    {
     "name": "stderr",
     "output_type": "stream",
     "text": [
      " 76%|███████▌  | 363/478 [24:47<08:30,  4.44s/it]"
     ]
    },
    {
     "name": "stdout",
     "output_type": "stream",
     "text": [
      "haha; im a 19 y.o white male from newcastle area - but im moving back to sydney very soon ( west sydney im afraid lol )\n",
      "['  \"hate_speech_probability\": 0.0,']\n"
     ]
    },
    {
     "name": "stderr",
     "output_type": "stream",
     "text": [
      " 76%|███████▌  | 364/478 [24:51<08:10,  4.31s/it]"
     ]
    },
    {
     "name": "stdout",
     "output_type": "stream",
     "text": [
      "It is always nice to meet another person with roots in Kansas .\n",
      "['  \"hate_speech_probability\": 0.1,']\n"
     ]
    },
    {
     "name": "stderr",
     "output_type": "stream",
     "text": [
      " 76%|███████▋  | 365/478 [24:57<08:44,  4.64s/it]"
     ]
    },
    {
     "name": "stdout",
     "output_type": "stream",
     "text": [
      "Of course , they are more virile than us , so that would n't happen would it ?!!!\n",
      "['  hate_speech_probability: 0.4,']\n"
     ]
    },
    {
     "name": "stderr",
     "output_type": "stream",
     "text": [
      " 77%|███████▋  | 366/478 [25:01<08:22,  4.49s/it]"
     ]
    },
    {
     "name": "stdout",
     "output_type": "stream",
     "text": [
      "Hi, I am 26yo from Glendale AZ .\n",
      "['  \"hate_speech_probability\": 0.']\n"
     ]
    },
    {
     "name": "stderr",
     "output_type": "stream",
     "text": [
      " 77%|███████▋  | 367/478 [25:06<08:44,  4.72s/it]"
     ]
    },
    {
     "name": "stdout",
     "output_type": "stream",
     "text": [
      "Just Google it and you 'll see what I mean .\n",
      "['  \"hate_speech_probability\": 0.3']\n"
     ]
    },
    {
     "name": "stderr",
     "output_type": "stream",
     "text": [
      " 77%|███████▋  | 368/478 [25:10<08:14,  4.49s/it]"
     ]
    },
    {
     "name": "stdout",
     "output_type": "stream",
     "text": [
      "This is my next read .\n",
      "['  \"hate_speech_probability\": 0.5,']\n"
     ]
    },
    {
     "name": "stderr",
     "output_type": "stream",
     "text": [
      " 77%|███████▋  | 369/478 [25:15<08:07,  4.48s/it]"
     ]
    },
    {
     "name": "stdout",
     "output_type": "stream",
     "text": [
      "Was n't Bill Clinton the first `` black '' president ?\n",
      "['  hate_speech_probability: 0.3,']\n"
     ]
    },
    {
     "name": "stderr",
     "output_type": "stream",
     "text": [
      " 77%|███████▋  | 370/478 [25:18<07:38,  4.25s/it]"
     ]
    },
    {
     "name": "stdout",
     "output_type": "stream",
     "text": [
      "I've followed Mr. Kievsky 's adventures through VNN for the last couple years .\n",
      "['  \"hate_speech_probability\": 0.1,']\n"
     ]
    },
    {
     "name": "stderr",
     "output_type": "stream",
     "text": [
      " 78%|███████▊  | 371/478 [25:25<08:41,  4.87s/it]"
     ]
    },
    {
     "name": "stdout",
     "output_type": "stream",
     "text": [
      "But millions can believe a lie for centuries upon centuries , especially when you make investigating the story a crime .\n",
      "['  \"hate_speech_probability\": 0.1,']\n"
     ]
    },
    {
     "name": "stderr",
     "output_type": "stream",
     "text": [
      " 78%|███████▊  | 372/478 [25:28<07:53,  4.47s/it]"
     ]
    },
    {
     "name": "stdout",
     "output_type": "stream",
     "text": [
      "We just do n't like what we see .\n",
      "['  \"hate_speech_probability\": 0.15']\n"
     ]
    },
    {
     "name": "stderr",
     "output_type": "stream",
     "text": [
      " 78%|███████▊  | 373/478 [25:32<07:43,  4.41s/it]"
     ]
    },
    {
     "name": "stdout",
     "output_type": "stream",
     "text": [
      "To me it means that Jewish supremacists will never again allow Whites to have a say .\n",
      "['  \"hate_speech_probability\": 0.7']\n"
     ]
    },
    {
     "name": "stderr",
     "output_type": "stream",
     "text": [
      " 78%|███████▊  | 374/478 [25:38<08:29,  4.90s/it]"
     ]
    },
    {
     "name": "stdout",
     "output_type": "stream",
     "text": [
      "Thank you for posting this ! this disgusting lie will hopefully one day be addressed and corrected , at that point I would hope the world will see the Jews for what they really are .\n",
      "['  \"hate_speech_probability\": 0.8']\n"
     ]
    },
    {
     "name": "stderr",
     "output_type": "stream",
     "text": [
      " 78%|███████▊  | 375/478 [25:43<08:02,  4.69s/it]"
     ]
    },
    {
     "name": "stdout",
     "output_type": "stream",
     "text": [
      "Well, at least these dumb negroes got the fact that Jews are evil right ; though I suspect whitey and the jews are one in the same to their primitive minds ...\n",
      "['  \"hate_speech_probability\": 1.0,']\n"
     ]
    },
    {
     "name": "stderr",
     "output_type": "stream",
     "text": [
      " 79%|███████▊  | 376/478 [25:46<07:30,  4.42s/it]"
     ]
    },
    {
     "name": "stdout",
     "output_type": "stream",
     "text": [
      "At the resturant , the Pres. of Hamms orders a Hamms , the Pres. of Schlitz orders a Schlitz , the Pres. of Budweiser orders a Bud , and the Pres. of Guiness orders a cup of tea .\n",
      "['  \"hate_speech_probability\": 0,']\n"
     ]
    },
    {
     "name": "stderr",
     "output_type": "stream",
     "text": [
      " 79%|███████▉  | 377/478 [25:52<07:47,  4.63s/it]"
     ]
    },
    {
     "name": "stdout",
     "output_type": "stream",
     "text": [
      "When they sent n iggers to space the space ships started blowing up .\n",
      "['  \"hate_speech_probability\": 1.0,']\n"
     ]
    },
    {
     "name": "stderr",
     "output_type": "stream",
     "text": [
      " 79%|███████▉  | 378/478 [25:56<07:26,  4.47s/it]"
     ]
    },
    {
     "name": "stdout",
     "output_type": "stream",
     "text": [
      "No need to allow FACTS to get in the way of a good White guilt message ! ... and the jew laughs loudly !\n",
      "['  \"hate_speech_probability\": 1.0,']\n"
     ]
    },
    {
     "name": "stderr",
     "output_type": "stream",
     "text": [
      " 79%|███████▉  | 379/478 [26:04<09:28,  5.74s/it]"
     ]
    },
    {
     "name": "stdout",
     "output_type": "stream",
     "text": [
      "Please let me know if there is anything I can do .\n",
      "['  \"hate_speech_probability\": 0.5', '  \"hate_speech_probability\": 0.7']\n"
     ]
    },
    {
     "name": "stderr",
     "output_type": "stream",
     "text": [
      " 79%|███████▉  | 380/478 [26:09<08:52,  5.43s/it]"
     ]
    },
    {
     "name": "stdout",
     "output_type": "stream",
     "text": [
      "Notice the video title , whenever there is a fight between a white and non white , the white is always the racist\n",
      "['  \"hate_speech_probability\": 0.3,']\n"
     ]
    },
    {
     "name": "stderr",
     "output_type": "stream",
     "text": [
      " 80%|███████▉  | 381/478 [26:13<08:13,  5.09s/it]"
     ]
    },
    {
     "name": "stdout",
     "output_type": "stream",
     "text": [
      "Those boys will use the plastic whisks as swords , and the girls ' lego creations will consist of dollhouses for the few white dolls , with the dark ones in the adjoining farm pen .\n",
      "['  \"hate_speech_probability\": 0.8']\n"
     ]
    },
    {
     "name": "stderr",
     "output_type": "stream",
     "text": [
      " 80%|███████▉  | 382/478 [26:19<08:09,  5.10s/it]"
     ]
    },
    {
     "name": "stdout",
     "output_type": "stream",
     "text": [
      "Oh, I forgot to say where I lived .\n",
      "['  \"hate_speech_probability\": 0.3']\n"
     ]
    },
    {
     "name": "stderr",
     "output_type": "stream",
     "text": [
      " 80%|████████  | 383/478 [26:23<07:48,  4.94s/it]"
     ]
    },
    {
     "name": "stdout",
     "output_type": "stream",
     "text": [
      "I remember when I was at my college during the Holidays ... every single holiday would be mentioned loud and clear except for Christmas ... especially kwanzaa .\n",
      "['  \"hate_speech_probability\": 0.2']\n"
     ]
    },
    {
     "name": "stderr",
     "output_type": "stream",
     "text": [
      " 80%|████████  | 384/478 [26:26<06:54,  4.41s/it]"
     ]
    },
    {
     "name": "stdout",
     "output_type": "stream",
     "text": [
      "Apparently young kids pick languages up very quickly .\n",
      "['  \"hate_speech_probability\": 0,']\n"
     ]
    },
    {
     "name": "stderr",
     "output_type": "stream",
     "text": [
      " 81%|████████  | 385/478 [26:30<06:33,  4.23s/it]"
     ]
    },
    {
     "name": "stdout",
     "output_type": "stream",
     "text": [
      "I 'm sure I would have done great in public school if the Mexican gang members stopped kicking my * * * long enough for me to get my homework done ...\n",
      "['  hate_speech_probability: 0.5,']\n"
     ]
    },
    {
     "name": "stderr",
     "output_type": "stream",
     "text": [
      " 81%|████████  | 386/478 [26:35<06:51,  4.47s/it]"
     ]
    },
    {
     "name": "stdout",
     "output_type": "stream",
     "text": [
      "God 's own divine intervention , aided by Jewish money swindled from the goyim .\n",
      "['  \"hate_speech_probability\": 0.85,']\n"
     ]
    },
    {
     "name": "stderr",
     "output_type": "stream",
     "text": [
      " 81%|████████  | 387/478 [26:40<06:48,  4.49s/it]"
     ]
    },
    {
     "name": "stdout",
     "output_type": "stream",
     "text": [
      "Just watch them at North America and they like all black sport players and their `` slang '' .\n",
      "['  \"hate_speech_probability\": 0.1']\n"
     ]
    },
    {
     "name": "stderr",
     "output_type": "stream",
     "text": [
      " 81%|████████  | 388/478 [26:43<06:13,  4.15s/it]"
     ]
    },
    {
     "name": "stdout",
     "output_type": "stream",
     "text": [
      "First off they probably wont do anything , second off dont start anything .\n",
      "['  \"hate_speech_probability\": 0,']\n"
     ]
    },
    {
     "name": "stderr",
     "output_type": "stream",
     "text": [
      " 81%|████████▏ | 389/478 [26:46<05:48,  3.91s/it]"
     ]
    },
    {
     "name": "stdout",
     "output_type": "stream",
     "text": [
      "Sometimes I do watch shows about WWII on the History channel but other than that I never watch it .\n",
      "['  \"hate_speech_probability\": 0,']\n"
     ]
    },
    {
     "name": "stderr",
     "output_type": "stream",
     "text": [
      " 82%|████████▏ | 390/478 [26:51<06:08,  4.19s/it]"
     ]
    },
    {
     "name": "stdout",
     "output_type": "stream",
     "text": [
      "Its simple , they want to create white guilt , .\n",
      "['  \"hate_speech_probability\": 0.4']\n"
     ]
    },
    {
     "name": "stderr",
     "output_type": "stream",
     "text": [
      " 82%|████████▏ | 391/478 [26:55<05:56,  4.10s/it]"
     ]
    },
    {
     "name": "stdout",
     "output_type": "stream",
     "text": [
      "I take the assumption that your Nation is so crap is not worth remembering .\n",
      "['  \"hate_speech_probability\": 0.1,']\n"
     ]
    },
    {
     "name": "stderr",
     "output_type": "stream",
     "text": [
      " 82%|████████▏ | 392/478 [27:01<06:32,  4.56s/it]"
     ]
    },
    {
     "name": "stdout",
     "output_type": "stream",
     "text": [
      "ZOG is getting rid of every White-dominated area in the world .\n",
      "['  \"hate_speech_probability\": 0.6']\n"
     ]
    },
    {
     "name": "stderr",
     "output_type": "stream",
     "text": [
      " 82%|████████▏ | 393/478 [27:04<05:57,  4.21s/it]"
     ]
    },
    {
     "name": "stdout",
     "output_type": "stream",
     "text": [
      "They do not want all of us to find out how she was raped and tortured .\n",
      "['  \"hate_speech_probability\": 0.2.']\n"
     ]
    },
    {
     "name": "stderr",
     "output_type": "stream",
     "text": [
      " 82%|████████▏ | 394/478 [27:08<05:48,  4.14s/it]"
     ]
    },
    {
     "name": "stdout",
     "output_type": "stream",
     "text": [
      "It seems that what they are trying to say is that if you are white you are in the wrong place at the wrong time anywhere in the World .\n",
      "['  \"hate_speech_probability\": 0.4,']\n"
     ]
    },
    {
     "name": "stderr",
     "output_type": "stream",
     "text": [
      " 83%|████████▎ | 395/478 [27:13<06:13,  4.50s/it]"
     ]
    },
    {
     "name": "stdout",
     "output_type": "stream",
     "text": [
      "Right.\n",
      "['  \"hate_speech_probability\": 0.3,']\n"
     ]
    },
    {
     "name": "stderr",
     "output_type": "stream",
     "text": [
      " 83%|████████▎ | 396/478 [27:17<05:39,  4.14s/it]"
     ]
    },
    {
     "name": "stdout",
     "output_type": "stream",
     "text": [
      "Great link .\n",
      "['  \"hate_speech_probability\": 0']\n"
     ]
    },
    {
     "name": "stderr",
     "output_type": "stream",
     "text": [
      " 83%|████████▎ | 397/478 [27:20<05:21,  3.97s/it]"
     ]
    },
    {
     "name": "stdout",
     "output_type": "stream",
     "text": [
      "Seems none of these pinheads wanted to get dirty .\n",
      "['  \"hate_speech_probability\": 0.3,']\n"
     ]
    },
    {
     "name": "stderr",
     "output_type": "stream",
     "text": [
      " 83%|████████▎ | 398/478 [27:26<06:04,  4.56s/it]"
     ]
    },
    {
     "name": "stdout",
     "output_type": "stream",
     "text": [
      "The jew media likes to prop this whites becoming the minority non sense up because they want to try and scare whitey , the media plays on the fears that the average retard thinks hispanic or latino is a race and they play word play with titles like white hispanic and white non hispanic it is all a magic show nothing more .. But Whites becoming a minority in Europe the homeland is a much more serious issue that concerns me greatly .\n",
      "['  \"hate_speech_probability\": 0.4']\n"
     ]
    },
    {
     "name": "stderr",
     "output_type": "stream",
     "text": [
      " 83%|████████▎ | 399/478 [27:28<05:05,  3.87s/it]"
     ]
    },
    {
     "name": "stdout",
     "output_type": "stream",
     "text": [
      "The future is ours , as long as we do not sit by and wait to be overrun by the subhumans .\n",
      "['  \"hate_speech_probability\": 0.9,']\n"
     ]
    },
    {
     "name": "stderr",
     "output_type": "stream",
     "text": [
      " 84%|████████▎ | 400/478 [27:32<04:59,  3.84s/it]"
     ]
    },
    {
     "name": "stdout",
     "output_type": "stream",
     "text": [
      "God, it is sickening to see these young lives taken by feral negroes .\n",
      "['  \"hate_speech_probability\": 1,']\n"
     ]
    },
    {
     "name": "stderr",
     "output_type": "stream",
     "text": [
      " 84%|████████▍ | 401/478 [27:35<04:36,  3.59s/it]"
     ]
    },
    {
     "name": "stdout",
     "output_type": "stream",
     "text": [
      "God bless them all , to hell with the blacks .\n",
      "['  \"hate_speech_probability\": 1.0']\n"
     ]
    },
    {
     "name": "stderr",
     "output_type": "stream",
     "text": [
      " 84%|████████▍ | 402/478 [27:39<04:45,  3.76s/it]"
     ]
    },
    {
     "name": "stdout",
     "output_type": "stream",
     "text": [
      "Richland County deputies say Cason killed his estranged wife , 38-year-old Letitia Cason , at an apartment on Smallwood Road in Northeast Richland County Deputies : Murder Suspect Shoots at Officers , is Taken Into Custody wltx.com | Columbia , SC News , Weather and Sports |\n",
      "['  hate_speech_probability: 0.1']\n"
     ]
    },
    {
     "name": "stderr",
     "output_type": "stream",
     "text": [
      " 84%|████████▍ | 403/478 [27:43<04:29,  3.59s/it]"
     ]
    },
    {
     "name": "stdout",
     "output_type": "stream",
     "text": [
      "Providing From Finland does n't kick my ass and throw me overboard ... coming or going .\n",
      "['  \"hate_speech_probability\": 0,']\n"
     ]
    },
    {
     "name": "stderr",
     "output_type": "stream",
     "text": [
      " 85%|████████▍ | 404/478 [27:47<04:33,  3.70s/it]"
     ]
    },
    {
     "name": "stdout",
     "output_type": "stream",
     "text": [
      "Has anybody pointed out that Finland is n't part of Scandinavia yet ? ( Hur gick det i Finnkampen , vet ni det ?\n",
      "['  \"hate_speech_probability\": 0.0,']\n"
     ]
    },
    {
     "name": "stderr",
     "output_type": "stream",
     "text": [
      " 85%|████████▍ | 405/478 [27:51<04:43,  3.89s/it]"
     ]
    },
    {
     "name": "stdout",
     "output_type": "stream",
     "text": [
      "Seeing the teams of white nations have black players in their ranks is a depressing site to see.They should be representing the best of our nations not the worst\n",
      "['  \"hate_speech_probability\": 0.8']\n"
     ]
    },
    {
     "name": "stderr",
     "output_type": "stream",
     "text": [
      " 85%|████████▍ | 406/478 [27:54<04:21,  3.63s/it]"
     ]
    },
    {
     "name": "stdout",
     "output_type": "stream",
     "text": [
      "Did they put that Groid 15 next to Rooney just to make Rooney look at least half-human ?\n",
      "['  \"hate_speech_probability\": 1,']\n"
     ]
    },
    {
     "name": "stderr",
     "output_type": "stream",
     "text": [
      " 85%|████████▌ | 407/478 [28:01<05:37,  4.75s/it]"
     ]
    },
    {
     "name": "stdout",
     "output_type": "stream",
     "text": [
      "If you are not registered I think that maybe you will not be able to see this .\n",
      "['  \"hate_speech_probability\": 0.5,']\n"
     ]
    },
    {
     "name": "stderr",
     "output_type": "stream",
     "text": [
      " 85%|████████▌ | 408/478 [28:06<05:26,  4.66s/it]"
     ]
    },
    {
     "name": "stdout",
     "output_type": "stream",
     "text": [
      "The only Mexican in town has since moved out and kids can now leave their bicycles in the yard without fear .\n",
      "['  \"hate_speech_probability\": 0.2,']\n"
     ]
    },
    {
     "name": "stderr",
     "output_type": "stream",
     "text": [
      " 86%|████████▌ | 409/478 [28:11<05:31,  4.80s/it]"
     ]
    },
    {
     "name": "stdout",
     "output_type": "stream",
     "text": [
      "what about it. that 's exactly what I said and I meant every word he thought I might and that was enough and with you two talking behind my back like some jew what do you expect me to say have a nice life .\n",
      "['  \"hate_speech_probability\": 0.5,']\n"
     ]
    },
    {
     "name": "stderr",
     "output_type": "stream",
     "text": [
      " 86%|████████▌ | 410/478 [28:14<04:53,  4.31s/it]"
     ]
    },
    {
     "name": "stdout",
     "output_type": "stream",
     "text": [
      "I do n't think so .\n",
      "['  \"hate_speech_probability\": 0']\n"
     ]
    },
    {
     "name": "stderr",
     "output_type": "stream",
     "text": [
      " 86%|████████▌ | 411/478 [28:18<04:50,  4.34s/it]"
     ]
    },
    {
     "name": "stdout",
     "output_type": "stream",
     "text": [
      "if they have the same help here in Quebec , i would like too say congratulation pitbull-A.G. and i hope you have lot of new white resident in your city\n",
      "['  \"hate_speech_probability\": 0.3']\n"
     ]
    },
    {
     "name": "stderr",
     "output_type": "stream",
     "text": [
      " 86%|████████▌ | 412/478 [28:23<04:49,  4.38s/it]"
     ]
    },
    {
     "name": "stdout",
     "output_type": "stream",
     "text": [
      "White town saved by the magic negroes of Afreakkaland .\n",
      "['  \"hate_speech_probability\": 0.8']\n"
     ]
    },
    {
     "name": "stderr",
     "output_type": "stream",
     "text": [
      " 86%|████████▋ | 413/478 [28:27<04:43,  4.36s/it]"
     ]
    },
    {
     "name": "stdout",
     "output_type": "stream",
     "text": [
      "Amen brother ..... you did say it like you been there ... they talk crap and if you show fear they 'll be on ya fast .\n",
      "['  \"hate_speech_probability\": 0.1,']\n"
     ]
    },
    {
     "name": "stderr",
     "output_type": "stream",
     "text": [
      " 87%|████████▋ | 414/478 [28:33<05:07,  4.81s/it]"
     ]
    },
    {
     "name": "stdout",
     "output_type": "stream",
     "text": [
      "But get the eyes wide open and lets rock attitude ... most will back off and go away ..... been there with ya !\n",
      "['\"hate_speech_probability\": 0.3,']\n"
     ]
    },
    {
     "name": "stderr",
     "output_type": "stream",
     "text": [
      " 87%|████████▋ | 415/478 [28:40<05:50,  5.56s/it]"
     ]
    },
    {
     "name": "stdout",
     "output_type": "stream",
     "text": [
      "You do not have to wait for this law to pass since already you would be expelled from your school for doing the above under some sort of hostile school environment clause , as you would at most places of work .\n",
      "['  \"hate_speech_probability\": 0.3']\n"
     ]
    },
    {
     "name": "stderr",
     "output_type": "stream",
     "text": [
      " 87%|████████▋ | 416/478 [28:47<05:55,  5.73s/it]"
     ]
    },
    {
     "name": "stdout",
     "output_type": "stream",
     "text": [
      "Maybe God was punishing them for their interracial marriage .\n",
      "['  \"hate_speech_probability\": 0.3']\n"
     ]
    },
    {
     "name": "stderr",
     "output_type": "stream",
     "text": [
      " 87%|████████▋ | 417/478 [28:51<05:18,  5.23s/it]"
     ]
    },
    {
     "name": "stdout",
     "output_type": "stream",
     "text": [
      "Good luck with your bugchasing , homo . . .\n",
      "['  \"hate_speech_probability\": 1,']\n"
     ]
    },
    {
     "name": "stderr",
     "output_type": "stream",
     "text": [
      " 87%|████████▋ | 418/478 [28:54<04:47,  4.80s/it]"
     ]
    },
    {
     "name": "stdout",
     "output_type": "stream",
     "text": [
      "Negroids could n't put together a bake sale properly much less a work force .\n",
      "['  \"hate_speech_probability\": 0.7,']\n"
     ]
    },
    {
     "name": "stderr",
     "output_type": "stream",
     "text": [
      " 88%|████████▊ | 419/478 [28:59<04:32,  4.62s/it]"
     ]
    },
    {
     "name": "stdout",
     "output_type": "stream",
     "text": [
      "Saul Kassin : `` False confessions '' https : //www.youtube.com/watch ? v = JDRRwFfJKkw The Vera Institute of Justice 's Neil A. Weiner Research Department Speaker Series presents Saul Kassin , Distinguished Professor of Psychology at John Jay College of Criminal Justice .\n",
      "['  \"hate_speech_probability\": 0,']\n"
     ]
    },
    {
     "name": "stderr",
     "output_type": "stream",
     "text": [
      " 88%|████████▊ | 420/478 [29:02<04:02,  4.18s/it]"
     ]
    },
    {
     "name": "stdout",
     "output_type": "stream",
     "text": [
      "The school did not cause my much trouble because it was elementary school .\n",
      "['  \"hate_speech_probability\": 0,']\n"
     ]
    },
    {
     "name": "stderr",
     "output_type": "stream",
     "text": [
      " 88%|████████▊ | 421/478 [29:05<03:46,  3.97s/it]"
     ]
    },
    {
     "name": "stdout",
     "output_type": "stream",
     "text": [
      "I went outside and the niglet 's mom told me my daughter had hit her first .\n",
      "['  \"hate_speech_probability\": 0.9,']\n"
     ]
    },
    {
     "name": "stderr",
     "output_type": "stream",
     "text": [
      " 88%|████████▊ | 422/478 [29:10<03:52,  4.16s/it]"
     ]
    },
    {
     "name": "stdout",
     "output_type": "stream",
     "text": [
      "We are cooking a duck on the rotisserie , catch the fat drippings and cook little potatoes in that , its delicious , we 're also cooking a small turkey , mashed potatoes , carrots , pumpkin pie and butternut squash cut in half and baked with butter and brown sugar .\n",
      "['  \"hate_speech_probability\": 0.']\n"
     ]
    },
    {
     "name": "stderr",
     "output_type": "stream",
     "text": [
      " 88%|████████▊ | 423/478 [29:14<03:53,  4.24s/it]"
     ]
    },
    {
     "name": "stdout",
     "output_type": "stream",
     "text": [
      "I see pro and cons of both .\n",
      "['  \"hate_speech_probability\": 0.3,']\n"
     ]
    },
    {
     "name": "stderr",
     "output_type": "stream",
     "text": [
      " 89%|████████▊ | 424/478 [29:18<03:42,  4.13s/it]"
     ]
    },
    {
     "name": "stdout",
     "output_type": "stream",
     "text": [
      "Like I said before I 'd bet 90 % + have Liberal parents .\n",
      "['  \"hate_speech_probability\": 0.3,']\n"
     ]
    },
    {
     "name": "stderr",
     "output_type": "stream",
     "text": [
      " 89%|████████▉ | 425/478 [29:22<03:41,  4.19s/it]"
     ]
    },
    {
     "name": "stdout",
     "output_type": "stream",
     "text": [
      "I live in AR .\n",
      "['  \"hate_speech_probability\": 0.1,']\n"
     ]
    },
    {
     "name": "stderr",
     "output_type": "stream",
     "text": [
      " 89%|████████▉ | 426/478 [29:27<03:44,  4.31s/it]"
     ]
    },
    {
     "name": "stdout",
     "output_type": "stream",
     "text": [
      "I going to get homeschooled tired of looney lefty teachers and the negroes\n",
      "['  \"hate_speech_probability\": 0.7,']\n"
     ]
    },
    {
     "name": "stderr",
     "output_type": "stream",
     "text": [
      " 89%|████████▉ | 427/478 [29:31<03:32,  4.18s/it]"
     ]
    },
    {
     "name": "stdout",
     "output_type": "stream",
     "text": [
      "But it does have a feminine sound .\n",
      "['  hate_speech_probability: 0.3.']\n"
     ]
    },
    {
     "name": "stderr",
     "output_type": "stream",
     "text": [
      " 90%|████████▉ | 428/478 [29:35<03:34,  4.28s/it]"
     ]
    },
    {
     "name": "stdout",
     "output_type": "stream",
     "text": [
      "The students should be able to express themselves .\n",
      "['  \"hate_speech_probability\": 0.3,']\n"
     ]
    },
    {
     "name": "stderr",
     "output_type": "stream",
     "text": [
      " 90%|████████▉ | 429/478 [29:38<03:07,  3.83s/it]"
     ]
    },
    {
     "name": "stdout",
     "output_type": "stream",
     "text": [
      "No .\n",
      "['  \"hate_speech_probability\": 0,']\n"
     ]
    },
    {
     "name": "stderr",
     "output_type": "stream",
     "text": [
      " 90%|████████▉ | 430/478 [29:42<03:00,  3.75s/it]"
     ]
    },
    {
     "name": "stdout",
     "output_type": "stream",
     "text": [
      "Americans and Irish understand each other better than Spaniards and the beaners .. the US and Ireland are the 1st world so they are educated unlike the beaners .\n",
      "['  \"hate_speech_probability\": 0.7,']\n"
     ]
    },
    {
     "name": "stderr",
     "output_type": "stream",
     "text": [
      " 90%|█████████ | 431/478 [29:46<02:58,  3.80s/it]"
     ]
    },
    {
     "name": "stdout",
     "output_type": "stream",
     "text": [
      "Enjoy your classroom .\n",
      "['  \"hate_speech_probability\": 0.4,']\n"
     ]
    },
    {
     "name": "stderr",
     "output_type": "stream",
     "text": [
      " 90%|█████████ | 432/478 [29:49<02:45,  3.60s/it]"
     ]
    },
    {
     "name": "stdout",
     "output_type": "stream",
     "text": [
      "I am going to try and update my site soon , I did however add a chat room .\n",
      "['  \"hate_speech_probability\": 0']\n"
     ]
    },
    {
     "name": "stderr",
     "output_type": "stream",
     "text": [
      " 91%|█████████ | 433/478 [29:52<02:33,  3.40s/it]"
     ]
    },
    {
     "name": "stdout",
     "output_type": "stream",
     "text": [
      "Whether or not one chooses to eat meat is a very personal decision .\n",
      "['  \"hate_speech_probability\": 0,']\n"
     ]
    },
    {
     "name": "stderr",
     "output_type": "stream",
     "text": [
      " 91%|█████████ | 434/478 [29:56<02:34,  3.52s/it]"
     ]
    },
    {
     "name": "stdout",
     "output_type": "stream",
     "text": [
      "The white man has no future in Canada , that is for sure , because the country is being flooded with non-white immigrants .\n",
      "['  \"hate_speech_probability\": 0.5,']\n"
     ]
    },
    {
     "name": "stderr",
     "output_type": "stream",
     "text": [
      " 91%|█████████ | 435/478 [30:01<03:00,  4.19s/it]"
     ]
    },
    {
     "name": "stdout",
     "output_type": "stream",
     "text": [
      "And my job lets me monitor all of Jewish supremacist control of talk radio .\n",
      "['  \"hate_speech_probability\": 0.5']\n"
     ]
    },
    {
     "name": "stderr",
     "output_type": "stream",
     "text": [
      " 91%|█████████ | 436/478 [30:05<02:53,  4.14s/it]"
     ]
    },
    {
     "name": "stdout",
     "output_type": "stream",
     "text": [
      "They need the white male distracted as much as possible and of course the glorification of the groid ; two birds one stone .\n",
      "['  \"hate_speech_probability\": 0.8']\n"
     ]
    },
    {
     "name": "stderr",
     "output_type": "stream",
     "text": [
      " 91%|█████████▏| 437/478 [30:10<02:50,  4.16s/it]"
     ]
    },
    {
     "name": "stdout",
     "output_type": "stream",
     "text": [
      "I reported some time ago that negroes will even strip the bricks off your home while you are away at work .\n",
      "['  \"hate_speech_probability\": 1.0']\n"
     ]
    },
    {
     "name": "stderr",
     "output_type": "stream",
     "text": [
      " 92%|█████████▏| 438/478 [30:12<02:30,  3.77s/it]"
     ]
    },
    {
     "name": "stdout",
     "output_type": "stream",
     "text": [
      "How much longer are we going to wait for them to take care of themselves ?\n",
      "['  \"hate_speech_probability\": 0,']\n"
     ]
    },
    {
     "name": "stderr",
     "output_type": "stream",
     "text": [
      " 92%|█████████▏| 439/478 [30:18<02:46,  4.27s/it]"
     ]
    },
    {
     "name": "stdout",
     "output_type": "stream",
     "text": [
      "This is ARKANSAS they have no right to smell up my place with their chinese restaurant BO ~ ▲ RESTORE ORDER ▲ ~\n",
      "['  \"hate_speech_probability\": 0.7,']\n"
     ]
    },
    {
     "name": "stderr",
     "output_type": "stream",
     "text": [
      " 92%|█████████▏| 440/478 [30:25<03:18,  5.23s/it]"
     ]
    },
    {
     "name": "stdout",
     "output_type": "stream",
     "text": [
      "Seattle bus attack on a blind woman : YouTube - Broadcast Yourself .\n",
      "['  \"hate_speech_probability\": 0.1']\n"
     ]
    },
    {
     "name": "stderr",
     "output_type": "stream",
     "text": [
      " 92%|█████████▏| 441/478 [30:29<02:54,  4.70s/it]"
     ]
    },
    {
     "name": "stdout",
     "output_type": "stream",
     "text": [
      "nobody said I like him and I dont see the reason to like him to be honest WE HAVE ENOUGH CULTURAL HERITAGE FOR HUNDREDS OF GENERATIONS WE SHOULD BE PROUD OF WHAT WE DID NOT OF WHAT SOME AUSTRIAN DID !!!\n",
      "['  \"hate_speech_probability\": 0.4,']\n"
     ]
    },
    {
     "name": "stderr",
     "output_type": "stream",
     "text": [
      " 92%|█████████▏| 442/478 [30:34<02:52,  4.80s/it]"
     ]
    },
    {
     "name": "stdout",
     "output_type": "stream",
     "text": [
      "Those poor kikes they cant even escape antisemetism in the country were it is punishable by death ( I am talking about palestinians )\n",
      "['  \"hate_speech_probability\": 1.0']\n"
     ]
    },
    {
     "name": "stderr",
     "output_type": "stream",
     "text": [
      " 93%|█████████▎| 443/478 [30:37<02:34,  4.40s/it]"
     ]
    },
    {
     "name": "stdout",
     "output_type": "stream",
     "text": [
      "I thought there was talk not too long ago about Putin extending the terms to stay in office ?\n",
      "['  \"hate_speech_probability\": 0,']\n"
     ]
    },
    {
     "name": "stderr",
     "output_type": "stream",
     "text": [
      " 93%|█████████▎| 444/478 [30:40<02:15,  3.97s/it]"
     ]
    },
    {
     "name": "stdout",
     "output_type": "stream",
     "text": [
      "If anyone can tell what happened on this lake ?\n",
      "['  \"hate_speech_probability\": 0,']\n"
     ]
    },
    {
     "name": "stderr",
     "output_type": "stream",
     "text": [
      " 93%|█████████▎| 445/478 [30:44<02:09,  3.92s/it]"
     ]
    },
    {
     "name": "stdout",
     "output_type": "stream",
     "text": [
      "Idiotic.\n",
      "['  \"hate_speech_probability\": 0.1,']\n"
     ]
    },
    {
     "name": "stderr",
     "output_type": "stream",
     "text": [
      " 93%|█████████▎| 446/478 [30:47<01:56,  3.65s/it]"
     ]
    },
    {
     "name": "stdout",
     "output_type": "stream",
     "text": [
      "I would love a house .\n",
      "['  \"hate_speech_probability\": 0']\n"
     ]
    },
    {
     "name": "stderr",
     "output_type": "stream",
     "text": [
      " 94%|█████████▎| 447/478 [30:51<01:52,  3.64s/it]"
     ]
    },
    {
     "name": "stdout",
     "output_type": "stream",
     "text": [
      "The problems start when you start to accommonadate these people in the first place ! , give an inch and they 'll take a mile ......\n",
      "['  \"hate_speech_probability\": 0.1']\n"
     ]
    },
    {
     "name": "stderr",
     "output_type": "stream",
     "text": [
      " 94%|█████████▎| 448/478 [30:56<02:01,  4.06s/it]"
     ]
    },
    {
     "name": "stdout",
     "output_type": "stream",
     "text": [
      "Latha math dhuibh agus dè tha dol agad fhèin , a Phàdruig/Hello Pat , how are you ?\n",
      "['  \"hate_speech_probability\": 0,']\n"
     ]
    },
    {
     "name": "stderr",
     "output_type": "stream",
     "text": [
      " 94%|█████████▍| 449/478 [31:00<01:56,  4.01s/it]"
     ]
    },
    {
     "name": "stdout",
     "output_type": "stream",
     "text": [
      "There's no way to stop them from coming to Canada all that is needed is proof of ownership of a house in India , africa etc and they can enter in on a tourist visa .\n",
      "['  hate_speech_probability: 0.3,']\n"
     ]
    },
    {
     "name": "stderr",
     "output_type": "stream",
     "text": [
      " 94%|█████████▍| 450/478 [31:04<01:52,  4.01s/it]"
     ]
    },
    {
     "name": "stdout",
     "output_type": "stream",
     "text": [
      "The problem is that through western elites we have to feed and look after useless savages like malema .\n",
      "['  \"hate_speech_probability\": 0.9.']\n"
     ]
    },
    {
     "name": "stderr",
     "output_type": "stream",
     "text": [
      " 94%|█████████▍| 451/478 [31:07<01:43,  3.85s/it]"
     ]
    },
    {
     "name": "stdout",
     "output_type": "stream",
     "text": [
      "If that stopped the worthless thing would starve !\n",
      "['  \"hate_speech_probability\": 0.2,']\n"
     ]
    },
    {
     "name": "stderr",
     "output_type": "stream",
     "text": [
      " 95%|█████████▍| 452/478 [31:10<01:35,  3.67s/it]"
     ]
    },
    {
     "name": "stdout",
     "output_type": "stream",
     "text": [
      "Hello Everyone on Stormfront Have heard a lot of good things about this forum so I have decided to take the plunge .\n",
      "['  \"hate_speech_probability\": 0.3,']\n"
     ]
    },
    {
     "name": "stderr",
     "output_type": "stream",
     "text": [
      " 95%|█████████▍| 453/478 [31:13<01:27,  3.49s/it]"
     ]
    },
    {
     "name": "stdout",
     "output_type": "stream",
     "text": [
      "I'm in Australia and I want it to be done and over with , my mum is constantly going on about the Olympics like it 's a big deal .\n",
      "['  \"hate_speech_probability\": 0']\n"
     ]
    },
    {
     "name": "stderr",
     "output_type": "stream",
     "text": [
      " 95%|█████████▍| 454/478 [31:17<01:24,  3.52s/it]"
     ]
    },
    {
     "name": "stdout",
     "output_type": "stream",
     "text": [
      "Of course the county is lovely , in facts its gods country in our book BUT the cities are rat infested with enrichers , just how the country is isnt it .\n",
      "['  \"hate_speech_probability\": 0.55,']\n"
     ]
    },
    {
     "name": "stderr",
     "output_type": "stream",
     "text": [
      " 95%|█████████▌| 455/478 [31:22<01:31,  3.99s/it]"
     ]
    },
    {
     "name": "stdout",
     "output_type": "stream",
     "text": [
      "Well Marco is a German patriot and musician who , in the sick minds of ZOG , committed the heinious crime of producing music for a local school .\n",
      "['  \"hate_speech_probability\": 0.2,']\n"
     ]
    },
    {
     "name": "stderr",
     "output_type": "stream",
     "text": [
      " 95%|█████████▌| 456/478 [31:27<01:31,  4.16s/it]"
     ]
    },
    {
     "name": "stdout",
     "output_type": "stream",
     "text": [
      "Too many libtards , I would n't waste my time there .\n",
      "['  hate_speech_probability: 0.2,']\n"
     ]
    },
    {
     "name": "stderr",
     "output_type": "stream",
     "text": [
      " 96%|█████████▌| 457/478 [31:32<01:32,  4.42s/it]"
     ]
    },
    {
     "name": "stdout",
     "output_type": "stream",
     "text": [
      "I got sloppy seconds after some Muslims used this girl .\n",
      "['  \"hate_speech_probability\": 0.4']\n"
     ]
    },
    {
     "name": "stderr",
     "output_type": "stream",
     "text": [
      " 96%|█████████▌| 458/478 [31:35<01:23,  4.19s/it]"
     ]
    },
    {
     "name": "stdout",
     "output_type": "stream",
     "text": [
      "Only the crazy ones stay .\n",
      "['  \"hate_speech_probability\": 0,']\n"
     ]
    },
    {
     "name": "stderr",
     "output_type": "stream",
     "text": [
      " 96%|█████████▌| 459/478 [31:37<01:07,  3.55s/it]"
     ]
    },
    {
     "name": "stdout",
     "output_type": "stream",
     "text": [
      "When the non-whites come we should stand together and send em packing , like they do to us .\n",
      "['  \"hate_speech_probability\": 0.8']\n"
     ]
    },
    {
     "name": "stderr",
     "output_type": "stream",
     "text": [
      " 96%|█████████▌| 460/478 [31:43<01:12,  4.05s/it]"
     ]
    },
    {
     "name": "stdout",
     "output_type": "stream",
     "text": [
      "Those in the countries you mentioned are the mongrel offspring between whites ( Aryans ) and Arabs and its funny how those of the East who claim to be the Aryans talk about white people who came and mixed with them and the only Aryans apparently in the East are those with light skin and blue eyes .\n",
      "['  \"hate_speech_probability\": 0.7,']\n"
     ]
    },
    {
     "name": "stderr",
     "output_type": "stream",
     "text": [
      " 96%|█████████▋| 461/478 [31:47<01:10,  4.17s/it]"
     ]
    },
    {
     "name": "stdout",
     "output_type": "stream",
     "text": [
      "Laugh it up ape cause without yt to protect your race Asians will probably do the world a favour and wipe your kind from the face of the Earth .\n",
      "['\"hate_speech_probability\": 0.9.']\n"
     ]
    },
    {
     "name": "stderr",
     "output_type": "stream",
     "text": [
      " 97%|█████████▋| 462/478 [31:53<01:13,  4.57s/it]"
     ]
    },
    {
     "name": "stdout",
     "output_type": "stream",
     "text": [
      "I tried to sign up there once & they refused to activate my account .\n",
      "['  \"hate_speech_probability\": 0.1']\n"
     ]
    },
    {
     "name": "stderr",
     "output_type": "stream",
     "text": [
      " 97%|█████████▋| 463/478 [31:57<01:06,  4.45s/it]"
     ]
    },
    {
     "name": "stdout",
     "output_type": "stream",
     "text": [
      "In the eyes of the Jew and the libtard there is a race problem and the problem is us !\n",
      "['  hate_speech_probability: 0.8,']\n"
     ]
    },
    {
     "name": "stderr",
     "output_type": "stream",
     "text": [
      " 97%|█████████▋| 464/478 [32:01<00:59,  4.27s/it]"
     ]
    },
    {
     "name": "stdout",
     "output_type": "stream",
     "text": [
      "You need to ask this when the Obama Administration instructed the IRS to target conservatives ?\n",
      "['  \"hate_speech_probability\": 0.1,']\n"
     ]
    },
    {
     "name": "stderr",
     "output_type": "stream",
     "text": [
      " 97%|█████████▋| 465/478 [32:05<00:54,  4.17s/it]"
     ]
    },
    {
     "name": "stdout",
     "output_type": "stream",
     "text": [
      "Neither of the Diaz brothers are very bright but they generally come to fight .\n",
      "['  \"hate_speech_probability\": 0.1,']\n"
     ]
    },
    {
     "name": "stderr",
     "output_type": "stream",
     "text": [
      " 97%|█████████▋| 466/478 [32:08<00:46,  3.84s/it]"
     ]
    },
    {
     "name": "stdout",
     "output_type": "stream",
     "text": [
      "The Neolithic farmers who migrated into Europe originated in Anatolia .\n",
      "['  \"hate_speech_probability\": 0,']\n"
     ]
    },
    {
     "name": "stderr",
     "output_type": "stream",
     "text": [
      " 98%|█████████▊| 467/478 [32:16<00:58,  5.35s/it]"
     ]
    },
    {
     "name": "stdout",
     "output_type": "stream",
     "text": [
      "Explain how liberals are liars and anti-White and tell her about crime statistics .\n",
      "['  \"hate_speech_probability\": 0.4,']\n"
     ]
    },
    {
     "name": "stderr",
     "output_type": "stream",
     "text": [
      " 98%|█████████▊| 468/478 [32:21<00:51,  5.11s/it]"
     ]
    },
    {
     "name": "stdout",
     "output_type": "stream",
     "text": [
      "Perhaps people will take you more seriously if you do n't make as many grammar errors and using repulsive language .\n",
      "['  hate_speech_probability: 0.2,']\n"
     ]
    },
    {
     "name": "stderr",
     "output_type": "stream",
     "text": [
      " 98%|█████████▊| 469/478 [32:26<00:46,  5.16s/it]"
     ]
    },
    {
     "name": "stdout",
     "output_type": "stream",
     "text": [
      "And hey , we have not talked about women 's mitochondriat at all ?\n",
      "['  \"hate_speech_probability\": 0.4,']\n"
     ]
    },
    {
     "name": "stderr",
     "output_type": "stream",
     "text": [
      " 98%|█████████▊| 470/478 [32:29<00:36,  4.52s/it]"
     ]
    },
    {
     "name": "stdout",
     "output_type": "stream",
     "text": [
      "Everything is machined to well today mlst stuff is plug and play .\n",
      "['  \"hate_speech_probability\": 0']\n"
     ]
    },
    {
     "name": "stderr",
     "output_type": "stream",
     "text": [
      " 99%|█████████▊| 471/478 [32:33<00:29,  4.15s/it]"
     ]
    },
    {
     "name": "stdout",
     "output_type": "stream",
     "text": [
      "Find other gardeners , wild plant enthusiasts , and fellow believers in your area who you can band with .\n",
      "['  \"hate_speech_probability\": 0']\n"
     ]
    },
    {
     "name": "stderr",
     "output_type": "stream",
     "text": [
      " 99%|█████████▊| 472/478 [32:37<00:24,  4.09s/it]"
     ]
    },
    {
     "name": "stdout",
     "output_type": "stream",
     "text": [
      "I'm glad you pointed this out that anti-Bullying campaign has been used to promote homosexuals who are more likely to bully anyone who disagrees with them .\n",
      "['  hate_speech_probability: 0.3,']\n"
     ]
    },
    {
     "name": "stderr",
     "output_type": "stream",
     "text": [
      " 99%|█████████▉| 473/478 [32:40<00:18,  3.79s/it]"
     ]
    },
    {
     "name": "stdout",
     "output_type": "stream",
     "text": [
      "I was just debating with myself whether I should go to bed or have one last beer ...\n",
      "['  \"hate_speech_probability\": 0']\n"
     ]
    },
    {
     "name": "stderr",
     "output_type": "stream",
     "text": [
      " 99%|█████████▉| 474/478 [32:44<00:15,  3.89s/it]"
     ]
    },
    {
     "name": "stdout",
     "output_type": "stream",
     "text": [
      "I have one word for you ....... MOVE . We chose this area because we wanted our children to go to all white schools .\n",
      "['  \"hate_speech_probability\": 0.8,']\n"
     ]
    },
    {
     "name": "stderr",
     "output_type": "stream",
     "text": [
      " 99%|█████████▉| 475/478 [32:47<00:11,  3.78s/it]"
     ]
    },
    {
     "name": "stdout",
     "output_type": "stream",
     "text": [
      "There are only eight people living within a mile of my house , and none closer than a quarter-mile .\n",
      "['  hate_speech_probability: 0,']\n"
     ]
    },
    {
     "name": "stderr",
     "output_type": "stream",
     "text": [
      "100%|█████████▉| 476/478 [32:51<00:07,  3.89s/it]"
     ]
    },
    {
     "name": "stdout",
     "output_type": "stream",
     "text": [
      "you just say blacks hate the cold. the only reason they are good athletes is because when you have to run lions and tigers you get fast or eaten .\n",
      "['  \"hate_speech_probability\": 0.5,']\n"
     ]
    },
    {
     "name": "stderr",
     "output_type": "stream",
     "text": [
      "100%|█████████▉| 477/478 [32:55<00:03,  3.76s/it]"
     ]
    },
    {
     "name": "stdout",
     "output_type": "stream",
     "text": [
      "And all those holes below 40,000 feet are filled with oil instead of water .\n",
      "['  \"hate_speech_probability\": 0']\n"
     ]
    },
    {
     "name": "stderr",
     "output_type": "stream",
     "text": [
      "100%|██████████| 478/478 [32:58<00:00,  4.14s/it]\n"
     ]
    },
    {
     "name": "stdout",
     "output_type": "stream",
     "text": [
      "Now I get it !\n",
      "['  \"hate_speech_probability\": 0,']\n"
     ]
    },
    {
     "name": "stderr",
     "output_type": "stream",
     "text": [
      "  0%|          | 1/478 [00:04<33:18,  4.19s/it]"
     ]
    },
    {
     "name": "stdout",
     "output_type": "stream",
     "text": [
      "I 've always considered teaching as one of the professions I would like to get into , but not in a neighbourhood like that ... never. kids like that disgust me .\n",
      "['  \"hate_speech_probability\": 0.2']\n"
     ]
    },
    {
     "name": "stderr",
     "output_type": "stream",
     "text": [
      "  0%|          | 2/478 [00:08<32:21,  4.08s/it]"
     ]
    },
    {
     "name": "stdout",
     "output_type": "stream",
     "text": [
      "And the sad thing is the white students at those schools will act like that too .\n",
      "['  \"hate_speech_probability\": 0.5']\n"
     ]
    },
    {
     "name": "stderr",
     "output_type": "stream",
     "text": [
      "  1%|          | 3/478 [00:12<31:57,  4.04s/it]"
     ]
    },
    {
     "name": "stdout",
     "output_type": "stream",
     "text": [
      "This whole situation starts to become really bizarre .\n",
      "['  \"hate_speech_probability\": 0.2,']\n"
     ]
    },
    {
     "name": "stderr",
     "output_type": "stream",
     "text": [
      "  1%|          | 4/478 [00:16<32:21,  4.10s/it]"
     ]
    },
    {
     "name": "stdout",
     "output_type": "stream",
     "text": [
      "That's all I needed to hear .\n",
      "['  hate_speech_probability: 0.4,']\n"
     ]
    },
    {
     "name": "stderr",
     "output_type": "stream",
     "text": [
      "  1%|          | 5/478 [00:20<31:38,  4.01s/it]"
     ]
    },
    {
     "name": "stdout",
     "output_type": "stream",
     "text": [
      "Excellent Article !! * * * * * Why Were n't They In Jail ?\n",
      "['  \"hate_speech_probability\": 0,']\n"
     ]
    },
    {
     "name": "stderr",
     "output_type": "stream",
     "text": [
      "  1%|▏         | 6/478 [00:24<30:59,  3.94s/it]"
     ]
    },
    {
     "name": "stdout",
     "output_type": "stream",
     "text": [
      "Nevermind, found the new page Knew it had to be a groid .... any report of rape ?\n",
      "['  hate_speech_probability: 0.8']\n"
     ]
    },
    {
     "name": "stderr",
     "output_type": "stream",
     "text": [
      "  1%|▏         | 7/478 [00:28<32:15,  4.11s/it]"
     ]
    },
    {
     "name": "stdout",
     "output_type": "stream",
     "text": [
      "He's a retarded feral negro ( yes , feral humans who cannot talk occasionally pop up , having been abandoned as children. ) .\n",
      "['  \"hate_speech_probability\": 1,']\n"
     ]
    },
    {
     "name": "stderr",
     "output_type": "stream",
     "text": [
      "  2%|▏         | 8/478 [00:32<31:33,  4.03s/it]"
     ]
    },
    {
     "name": "stdout",
     "output_type": "stream",
     "text": [
      "I do n't think anyone is insinuating that we are equal to non whites , or that we would ignore white nations .\n",
      "['  \"hate_speech_probability\": 0,']\n"
     ]
    },
    {
     "name": "stderr",
     "output_type": "stream",
     "text": [
      "  2%|▏         | 9/478 [00:36<30:41,  3.93s/it]"
     ]
    },
    {
     "name": "stdout",
     "output_type": "stream",
     "text": [
      "These people have no idea about who they are or where they came from and any knowledge that they do have has guilt attached to it .\n",
      "['  \"hate_speech_probability\": 0.1,']\n"
     ]
    },
    {
     "name": "stderr",
     "output_type": "stream",
     "text": [
      "  2%|▏         | 10/478 [00:40<31:16,  4.01s/it]"
     ]
    },
    {
     "name": "stdout",
     "output_type": "stream",
     "text": [
      "I have a dream - one of these days Black occupation of America will be history !\n",
      "['  \"hate_speech_probability\": 0.85,']\n"
     ]
    },
    {
     "name": "stderr",
     "output_type": "stream",
     "text": [
      "  2%|▏         | 11/478 [00:43<29:57,  3.85s/it]"
     ]
    },
    {
     "name": "stdout",
     "output_type": "stream",
     "text": [
      "Pathological killers , they are .\n",
      "['  \"hate_speech_probability\": 0.2,']\n"
     ]
    },
    {
     "name": "stderr",
     "output_type": "stream",
     "text": [
      "  3%|▎         | 12/478 [00:47<28:46,  3.71s/it]"
     ]
    },
    {
     "name": "stdout",
     "output_type": "stream",
     "text": [
      "Jews have been poisoning wells since Biblical times .\n",
      "['  \"hate_speech_probability\": 0.6']\n"
     ]
    },
    {
     "name": "stderr",
     "output_type": "stream",
     "text": [
      "  3%|▎         | 13/478 [00:51<29:45,  3.84s/it]"
     ]
    },
    {
     "name": "stdout",
     "output_type": "stream",
     "text": [
      "All you need is to cut off it 's head and the rest of the problems will crumble away with ease\n",
      "['  \"hate_speech_probability\": 0.5,']\n"
     ]
    },
    {
     "name": "stderr",
     "output_type": "stream",
     "text": [
      "  3%|▎         | 14/478 [00:54<28:45,  3.72s/it]"
     ]
    },
    {
     "name": "stdout",
     "output_type": "stream",
     "text": [
      "While they are in prison the kikes should get the same food the regular prison population gets ...\n",
      "['  \"hate_speech_probability\": 0.9']\n"
     ]
    },
    {
     "name": "stderr",
     "output_type": "stream",
     "text": [
      "  3%|▎         | 15/478 [00:58<29:47,  3.86s/it]"
     ]
    },
    {
     "name": "stdout",
     "output_type": "stream",
     "text": [
      "Why do n't White Europeans and Americans grow a set of balls , and deport these Black and brown animals from their countries ?\n",
      "['  \"hate_speech_probability\": 0.8']\n"
     ]
    },
    {
     "name": "stderr",
     "output_type": "stream",
     "text": [
      "  3%|▎         | 16/478 [01:02<30:02,  3.90s/it]"
     ]
    },
    {
     "name": "stdout",
     "output_type": "stream",
     "text": [
      "Norway : 3.3 ( 2001 ) , 3.9 ( 2002 ) , 3.5 ( 2003 ) , 1.8 ( 2004 ) . ( assuming population of 4.5 million ) Sweden : 2.6 ( 2001 ) , 3.7 ( 2002 ) , 3.5 ( 2003 ) , 2.6 ( 2004 ) . ( assuming population of 8.9 million ) Iceland is at about 0.2 .\n",
      "['  \"hate_speech_probability\": 0.']\n"
     ]
    },
    {
     "name": "stderr",
     "output_type": "stream",
     "text": [
      "  4%|▎         | 17/478 [01:07<30:53,  4.02s/it]"
     ]
    },
    {
     "name": "stdout",
     "output_type": "stream",
     "text": [
      "If they have some marches and what not about showing pride in their culture you guys should go out and do the same If you could try and contact people you know in different cities and see if their willing to do the same .\n",
      "['  \"hate_speech_probability\": 0.1,']\n"
     ]
    },
    {
     "name": "stderr",
     "output_type": "stream",
     "text": [
      "  4%|▍         | 18/478 [01:11<30:45,  4.01s/it]"
     ]
    },
    {
     "name": "stdout",
     "output_type": "stream",
     "text": [
      "During the early punk scene , he was always seen decked out in a Union flag blazer , then all a sudden , an instant nationality transplant .\n",
      "['  \"hate_speech_probability\": 0.1']\n"
     ]
    },
    {
     "name": "stderr",
     "output_type": "stream",
     "text": [
      "  4%|▍         | 19/478 [01:14<29:57,  3.92s/it]"
     ]
    },
    {
     "name": "stdout",
     "output_type": "stream",
     "text": [
      "Its a disgrace my sister has been on the waiting list for 6 years and their giving away houses to these scumbags\n",
      "['  \"hate_speech_probability\": 0.3']\n"
     ]
    },
    {
     "name": "stderr",
     "output_type": "stream",
     "text": [
      "  4%|▍         | 20/478 [01:19<31:11,  4.09s/it]"
     ]
    },
    {
     "name": "stdout",
     "output_type": "stream",
     "text": [
      "These people who want foreign aid increased are the same people who walk past irish people living rough on the streets and they do n't care about the old people who the government ignores .\n",
      "{\n",
      "  \"relevant\\_facts\\_from\\_the\\_cultural\\_context\": [\n",
      "    \"In the USA, discussions regarding foreign aid and neglect of domestic issues can be common.\",\n",
      "    \"Irish people in the context of this sentence refers to Irish immigrants or people of Irish descent.\",\n",
      "  ],\n",
      "  \"relevant\\_word\\_definitions\": {\n",
      "    \"Irish\": \"a person or people from Ireland.\",\n",
      "    \"Foreign aid\": \"assistance or aid given by one country to another.\",\n",
      "    \"Rough\": \"living in a state of hardship, often homeless.\",\n",
      "    \"Old people\": \"individuals who have lived for a long time, usually older adults.\",\n",
      "  },\n",
      "  \"contained\\_explicit\\_racist\\_vocabulary\": [],\n",
      "  \"contained\\_explicit\\_sexist\\_vocabulary\": [],\n",
      "  \"contained\\_explicit\\_toxic\\_vocabulary\": [],\n",
      "  \"argument\\_for\\_hate\\_speech\": \"The sentence may be perceived as hate speech if it suggests that certain individuals, in this case, people who want increased foreign aid, don't care about their own people (Irish in this example) or other demographics (old people), applying a negative stereotype.\",\n",
      "  \"argument\\_against\\_hate\\_speech\": \"The sentence is not directly hate speech as it does not contain any explicit pejorative terms, although it may imply neglect and disregard.\",\n",
      "  \"likelihood\\_of\\_presence\\_of\\_implicit\\_hate\\_speech\": 0.4,\n",
      "  \"likelihood\\_of\\_presence\\_of\\_explicit\\_hate\\_speech\": 0,\n",
      "  \"likelihood\\_of\\_ad\\_hominin\\_attack\": 0.2,\n",
      "  \"likelihood\\_of\\_minority\\_attack\": 0,\n",
      "  \"likelihood\\_of\\_takedown\\_on\\_social\\_media\": 0.3,\n",
      "  \"hate\\_speech\\_probability\": 0.2\n"
     ]
    },
    {
     "name": "stderr",
     "output_type": "stream",
     "text": [
      "  4%|▍         | 21/478 [01:24<34:27,  4.52s/it]"
     ]
    },
    {
     "name": "stdout",
     "output_type": "stream",
     "text": [
      "What I do know is that I live on a small Island and it seems that a lot of people from various countries in the world are willing to desert their homelands and their families just to come here , in my mind that tells me a lot about said people and their home countries , most of all it highlights their weaknesses of how their own countries have let them down and how they feel the need to feed off somebody elses country , how should we English interpret this without sounding rude ??? , locust ??? , parasite ??? , you tell me .\n",
      "['  hate_speech_probability: 0.3']\n"
     ]
    },
    {
     "name": "stderr",
     "output_type": "stream",
     "text": [
      "  5%|▍         | 22/478 [01:28<33:10,  4.36s/it]"
     ]
    },
    {
     "name": "stdout",
     "output_type": "stream",
     "text": [
      "i do this and the looks i get out of disgust are regular but i happily carry on walking and laugh them off , they think showing me a few pictures of negro kids on a poster without a burger is going to make me want to give money to them ?\n",
      "['  \"hate_speech_probability\": 0.6,']\n"
     ]
    },
    {
     "name": "stderr",
     "output_type": "stream",
     "text": [
      "  5%|▍         | 23/478 [01:32<31:20,  4.13s/it]"
     ]
    },
    {
     "name": "stdout",
     "output_type": "stream",
     "text": [
      "Dare to speak out in a country with supposed free speech and you 're labelled a bigot !\n",
      "{\n",
      "  \"relevant\\_facts\\_from\\_the\\_cultural\\_context\": [\n",
      "    \"The United States is known for its First Amendment, which protects freedom of speech.\",\n",
      "    \"The definition of hate speech is subjective and can be debated.\"\n",
      "  ],\n",
      "  \"relevant\\_word\\_definitions\": {\n",
      "    \"labelled\": \"marked as or identified as\"\n",
      "  },\n",
      "  \"contained\\_explicit\\_racist\\_vocabulary\": [],\n",
      "  \"contained\\_explicit\\_sexist\\_vocabulary\": [],\n",
      "  \"contained\\_explicit\\_toxic\\_vocabulary\": [],\n",
      "  \"argument\\_for\\_hate\\_speech\": \" labeling someone a bigot is a form of hate speech if done maliciously and with the intent to harm or discriminate.\",\n",
      "  \"argument\\_against\\_hate\\_speech\": \" calling someone a bigot is not necessarily hate speech on its own, it depends on the context and the intent behind the label.\",\n",
      "  \"likelihood\\_of\\_presence\\_of\\_implicit\\_hate\\_speech\": 0.1,\n",
      "  \"likelihood\\_of\\_presence\\_of\\_explicit\\_hate\\_speech\": 0.2,\n",
      "  \"likelihood\\_of\\_ad\\_hominin\\_attack\": 0.4,\n",
      "  \"likelihood\\_of\\_minority\\_attack\": 0,\n",
      "  \"likelihood\\_of\\_takedown\\_on\\_social\\_media\": 0.5,\n",
      "  \"hate\\_speech\\_probability\": 0.3\n"
     ]
    },
    {
     "name": "stderr",
     "output_type": "stream",
     "text": [
      "  5%|▌         | 24/478 [01:36<30:00,  3.97s/it]"
     ]
    },
    {
     "name": "stdout",
     "output_type": "stream",
     "text": [
      "Hi everyone .... I 'm from Slovenia and I utterly hate every living muslim in this world ....... and I despise even the dead ones\n",
      "['  \"hate_speech_probability\": 0.9']\n"
     ]
    },
    {
     "name": "stderr",
     "output_type": "stream",
     "text": [
      "  5%|▌         | 25/478 [01:39<28:50,  3.82s/it]"
     ]
    },
    {
     "name": "stdout",
     "output_type": "stream",
     "text": [
      "Everyone on my MSN gets all manner of pics ( ) but I 've never put any up here so here goes Some pics from about a year ago and a small anigif from a week ago heh Robin\n",
      "['  \"hate_speech_probability\": 0.']\n"
     ]
    },
    {
     "name": "stderr",
     "output_type": "stream",
     "text": [
      "  5%|▌         | 26/478 [01:44<30:19,  4.03s/it]"
     ]
    },
    {
     "name": "stdout",
     "output_type": "stream",
     "text": [
      "DuetschGirlTX, No I live in a tiny ass town where i am only one of 100 white folks ( maybe less ) . near San Antonio. there are so many dirts around and they all stick together. so when it comes to a White Girl in this town i gotta have my own back ALWAYS Is that where you are ?\n",
      "['  \"hate_speech_probability\": 0.4,']\n"
     ]
    },
    {
     "name": "stderr",
     "output_type": "stream",
     "text": [
      "  6%|▌         | 27/478 [01:47<28:01,  3.73s/it]"
     ]
    },
    {
     "name": "stdout",
     "output_type": "stream",
     "text": [
      "The work involves : selling sporting goods and assisting customers with questions or problems .\n",
      "['  \"hate_speech_probability\": 0']\n"
     ]
    },
    {
     "name": "stderr",
     "output_type": "stream",
     "text": [
      "  6%|▌         | 28/478 [01:50<27:57,  3.73s/it]"
     ]
    },
    {
     "name": "stdout",
     "output_type": "stream",
     "text": [
      "88 all , this is my first post and i 've read this whole thread so i guess I have a few comment 's , let 's start , shall we ?\n",
      "['  \"hate_speech_probability\": 0.1,']\n"
     ]
    },
    {
     "name": "stderr",
     "output_type": "stream",
     "text": [
      "  6%|▌         | 29/478 [01:55<30:58,  4.14s/it]"
     ]
    },
    {
     "name": "stdout",
     "output_type": "stream",
     "text": [
      "This is my next read .\n",
      "['  \"hate_speech_probability\": 0.1,']\n"
     ]
    },
    {
     "name": "stderr",
     "output_type": "stream",
     "text": [
      "  6%|▋         | 30/478 [02:00<31:32,  4.22s/it]"
     ]
    },
    {
     "name": "stdout",
     "output_type": "stream",
     "text": [
      "The Jewish race is without any doubt the greatest threat to the survival of the White race .\n",
      "['  \"hate_speech_probability\": 0.9,']\n"
     ]
    },
    {
     "name": "stderr",
     "output_type": "stream",
     "text": [
      "  6%|▋         | 31/478 [02:03<29:35,  3.97s/it]"
     ]
    },
    {
     "name": "stdout",
     "output_type": "stream",
     "text": [
      "Both Asians and whites are composed and calm and blacks seem to have no self control .\n",
      "['  \"hate_speech_probability\": 0.7']\n"
     ]
    },
    {
     "name": "stderr",
     "output_type": "stream",
     "text": [
      "  7%|▋         | 32/478 [02:07<28:03,  3.77s/it]"
     ]
    },
    {
     "name": "stdout",
     "output_type": "stream",
     "text": [
      "Exactly, they want us to lay down and die .\n",
      "['  \"hate_speech_probability\": 0.5,']\n"
     ]
    },
    {
     "name": "stderr",
     "output_type": "stream",
     "text": [
      "  7%|▋         | 33/478 [02:09<25:39,  3.46s/it]"
     ]
    },
    {
     "name": "stdout",
     "output_type": "stream",
     "text": [
      "By their words and deeds , they declare themselves to be staunchly in favor of the genocide of our people .\n",
      "['  \"hate_speech_probability\": 1']\n"
     ]
    },
    {
     "name": "stderr",
     "output_type": "stream",
     "text": [
      "  7%|▋         | 34/478 [02:13<27:06,  3.66s/it]"
     ]
    },
    {
     "name": "stdout",
     "output_type": "stream",
     "text": [
      "A pile of burned offerings .\n",
      "['  \"hate_speech_probability\": 0.2']\n"
     ]
    },
    {
     "name": "stderr",
     "output_type": "stream",
     "text": [
      "  7%|▋         | 35/478 [02:18<29:43,  4.03s/it]"
     ]
    },
    {
     "name": "stdout",
     "output_type": "stream",
     "text": [
      "Gay marriage has no place in any society , regardless of your race and culture.It destroys , morals , values , and the future of your offspring that will keep your race and culture alive.Regardless of your race and culture , homosexuality and gay marriage is the genocide of mankind .\n",
      "['  \"hate_speech_probability\": 0.7,']\n"
     ]
    },
    {
     "name": "stderr",
     "output_type": "stream",
     "text": [
      "  8%|▊         | 36/478 [02:22<29:49,  4.05s/it]"
     ]
    },
    {
     "name": "stdout",
     "output_type": "stream",
     "text": [
      "The Black race is yet to invent any kind of civilization .\n",
      "['  \"hate_speech_probability\": 0.9.']\n"
     ]
    },
    {
     "name": "stderr",
     "output_type": "stream",
     "text": [
      "  8%|▊         | 37/478 [02:27<30:35,  4.16s/it]"
     ]
    },
    {
     "name": "stdout",
     "output_type": "stream",
     "text": [
      "What does any of that have to do with racial preservation and the resistance to the deliberate and calculated extermination of the White race and the destruction of western civilization which 99 % of the members of this site are concerned with ?\n",
      "['  \"hate_speech_probability\": 0.7']\n"
     ]
    },
    {
     "name": "stderr",
     "output_type": "stream",
     "text": [
      "  8%|▊         | 38/478 [02:31<30:21,  4.14s/it]"
     ]
    },
    {
     "name": "stdout",
     "output_type": "stream",
     "text": [
      "They almost always choose to identify with blacks more than whites .\n",
      "['  \"hate_speech_probability\": 0.1']\n"
     ]
    },
    {
     "name": "stderr",
     "output_type": "stream",
     "text": [
      "  8%|▊         | 39/478 [02:36<31:29,  4.30s/it]"
     ]
    },
    {
     "name": "stdout",
     "output_type": "stream",
     "text": [
      "The White race is best because when the Creator made Whites , He made them better than He made the other races .\n",
      "['  \"hate_speech_probability\": 0.8']\n"
     ]
    },
    {
     "name": "stderr",
     "output_type": "stream",
     "text": [
      "  8%|▊         | 40/478 [02:39<29:30,  4.04s/it]"
     ]
    },
    {
     "name": "stdout",
     "output_type": "stream",
     "text": [
      "Ya got a virgin shooter .\n",
      "['  \"hate_speech_probability\": 0.1.']\n"
     ]
    },
    {
     "name": "stderr",
     "output_type": "stream",
     "text": [
      "  9%|▊         | 41/478 [02:43<29:21,  4.03s/it]"
     ]
    },
    {
     "name": "stdout",
     "output_type": "stream",
     "text": [
      "I 'm hoping things will continue to grow with our smaller meets and will make for a good turn out at our events this year !\n",
      "['  \"hate_speech_probability\": 0,']\n"
     ]
    },
    {
     "name": "stderr",
     "output_type": "stream",
     "text": [
      "  9%|▉         | 42/478 [02:47<28:10,  3.88s/it]"
     ]
    },
    {
     "name": "stdout",
     "output_type": "stream",
     "text": [
      "Nothing happened except I got an 88 % on the paper .\n",
      "['  hate_speech_probability: 0.9']\n"
     ]
    },
    {
     "name": "stderr",
     "output_type": "stream",
     "text": [
      "  9%|▉         | 43/478 [02:50<27:39,  3.82s/it]"
     ]
    },
    {
     "name": "stdout",
     "output_type": "stream",
     "text": [
      "All of our tim hortons are staffed by those nast filipinos and every single town is full of Indians and asians .\n",
      "['  \"hate_speech_probability\": 0.8']\n"
     ]
    },
    {
     "name": "stderr",
     "output_type": "stream",
     "text": [
      "  9%|▉         | 44/478 [02:55<28:43,  3.97s/it]"
     ]
    },
    {
     "name": "stdout",
     "output_type": "stream",
     "text": [
      "We need to deport all nonwhites immediately , that or stop letting more in and sterilize the ones here , that will fix the problem .\n",
      "['  \"hate_speech_probability\": 0.8.']\n"
     ]
    },
    {
     "name": "stderr",
     "output_type": "stream",
     "text": [
      "  9%|▉         | 45/478 [02:58<27:07,  3.76s/it]"
     ]
    },
    {
     "name": "stdout",
     "output_type": "stream",
     "text": [
      "I enjoyed playing the game when I was a kid , but I never enjoyed watching it on TV .\n",
      "['  \"hate_speech_probability\": 0.']\n"
     ]
    },
    {
     "name": "stderr",
     "output_type": "stream",
     "text": [
      " 10%|▉         | 46/478 [03:02<27:20,  3.80s/it]"
     ]
    },
    {
     "name": "stdout",
     "output_type": "stream",
     "text": [
      "An even smaller pellet is probably ideal , #4 Buck , perhaps .\n",
      "['  \"hate_speech_probability\": 0']\n"
     ]
    },
    {
     "name": "stderr",
     "output_type": "stream",
     "text": [
      " 10%|▉         | 47/478 [03:04<24:50,  3.46s/it]"
     ]
    },
    {
     "name": "stdout",
     "output_type": "stream",
     "text": [
      "I'm more of a grappler than a striker , I would lunge out with a windpipe grab and bring them down to the floor .... my record for KO' ing someone with a choke is currently 3 secs\n",
      "['  \"hate_speech_probability\": 0']\n"
     ]
    },
    {
     "name": "stderr",
     "output_type": "stream",
     "text": [
      " 10%|█         | 48/478 [03:08<24:11,  3.38s/it]"
     ]
    },
    {
     "name": "stdout",
     "output_type": "stream",
     "text": [
      "Little kids all decked out in their costumes .\n",
      "['  \"hate_speech_probability\": 0,']\n"
     ]
    },
    {
     "name": "stderr",
     "output_type": "stream",
     "text": [
      " 10%|█         | 49/478 [03:11<24:59,  3.50s/it]"
     ]
    },
    {
     "name": "stdout",
     "output_type": "stream",
     "text": [
      "Dude stink bomb this event , when it gets dark , chuck a bunch of them on the floor , different spots , when the chimps start jiving and grooving , they will step on them .\n",
      "['  \"hate_speech_probability\": 1.0,']\n"
     ]
    },
    {
     "name": "stderr",
     "output_type": "stream",
     "text": [
      " 10%|█         | 50/478 [03:15<24:28,  3.43s/it]"
     ]
    },
    {
     "name": "stdout",
     "output_type": "stream",
     "text": [
      "They will eventually kill off the whites and go back to the jungle ways .\n",
      "['  \"hate_speech_probability\": 0.8']\n"
     ]
    },
    {
     "name": "stderr",
     "output_type": "stream",
     "text": [
      " 11%|█         | 51/478 [03:18<25:10,  3.54s/it]"
     ]
    },
    {
     "name": "stdout",
     "output_type": "stream",
     "text": [
      "I'm too lazy to reread , did he say ' Teacher `` or '' Teacher 's asst . \" ?\n",
      "['  \"hate_speech_probability\": 0,']\n"
     ]
    },
    {
     "name": "stderr",
     "output_type": "stream",
     "text": [
      " 11%|█         | 52/478 [03:22<24:43,  3.48s/it]"
     ]
    },
    {
     "name": "stdout",
     "output_type": "stream",
     "text": [
      "Agreed! rep will have to wait though .. Cheap money , massive bailouts of crony banksters , manipulated employment figures , etc , etc , ..\n",
      "['  \"hate_speech_probability\": 0.2,']\n"
     ]
    },
    {
     "name": "stderr",
     "output_type": "stream",
     "text": [
      " 11%|█         | 53/478 [03:26<27:02,  3.82s/it]"
     ]
    },
    {
     "name": "stdout",
     "output_type": "stream",
     "text": [
      "- = Wulfi = -\n",
      "['  \"hate_speech_probability\": 0.4,']\n"
     ]
    },
    {
     "name": "stderr",
     "output_type": "stream",
     "text": [
      " 11%|█▏        | 54/478 [03:31<29:44,  4.21s/it]"
     ]
    },
    {
     "name": "stdout",
     "output_type": "stream",
     "text": [
      "LOL GJ brother 10 points for the Uber humans and - 10 for the sub human ape creatures you are truly one bad mofo whitey crakker man\n",
      "['  \"hate_speech_probability\": 0.9']\n"
     ]
    },
    {
     "name": "stderr",
     "output_type": "stream",
     "text": [
      " 12%|█▏        | 55/478 [03:33<24:44,  3.51s/it]"
     ]
    },
    {
     "name": "stdout",
     "output_type": "stream",
     "text": [
      "Welcome to Stormfront , the largest White Nationalist community on the web .\n",
      "['  \"hate_speech_probability\": 1.0,']\n"
     ]
    },
    {
     "name": "stderr",
     "output_type": "stream",
     "text": [
      " 12%|█▏        | 56/478 [03:38<27:12,  3.87s/it]"
     ]
    },
    {
     "name": "stdout",
     "output_type": "stream",
     "text": [
      "This family that wants to complain about gays should come to San Francisco and raise some hell at these gay pride events .... a much better target ..... and these people in San Francisco openly blasphemied Christ with their parody of ' The Last Supper `` as their poster for their last event .\n",
      "['  \"hate_speech_probability\": 0.2']\n"
     ]
    },
    {
     "name": "stderr",
     "output_type": "stream",
     "text": [
      " 12%|█▏        | 57/478 [03:42<26:45,  3.81s/it]"
     ]
    },
    {
     "name": "stdout",
     "output_type": "stream",
     "text": [
      "That or it might be that Blacks have smaller brains and an IQ 15-30 points lower than that of White people on average .\n",
      "{\n",
      "  \"relevant\\_facts\\_from\\_the\\_cultural\\_context\": [\n",
      "    \"Historical context of racism and discrimination against Black people in the USA\",\n",
      "    \"Ongoing debates about racial equality and intelligence\"\n",
      "  ],\n",
      "  \"relevant\\_word\\_definitions\": {\n",
      "    \"Blacks\": \"Refers to people of African descent\",\n",
      "    \"IQ\": \"Intelligence quotient, a measure of cognitive abilities\"\n",
      "  },\n",
      "  \"contained\\_explicit\\_racist\\_vocabulary\": [\n",
      "    \"Blacks\",\n",
      "    \"smaller brains\",\n",
      "    \"15-30 points\"\n",
      "  ],\n",
      "  \"argument\\_for\\_hate\\_speech\": \"This statement perpetuates harmful racial stereotypes with no supporting evidence and contributes to the normalization of racism\",\n",
      "  \"argument\\_against\\_hate\\_speech\": \"People have a right to freedom of speech, and intelligence is a complex trait with many contributing factors, ethnicity being only one of them\",\n",
      "  \"likelihood\\_of\\_presence\\_of\\_implicit\\_hate\\_speech\": 0.8,\n",
      "  \"likelihood\\_of\\_presence\\_of\\_explicit\\_hate\\_speech\": 1.0,\n",
      "  \"likelihood\\_of\\_ad\\_hominin\\_attack\": 0.1,\n",
      "  \"likelihood\\_of\\_minority\\_attack\": 1.0,\n",
      "  \"likelihood\\_of\\_takedown\\_on\\_social\\_media\": 0.9,\n",
      "  \"hate\\_speech\\_probability\": 0.9,\n"
     ]
    },
    {
     "name": "stderr",
     "output_type": "stream",
     "text": [
      " 12%|█▏        | 58/478 [03:45<26:38,  3.81s/it]"
     ]
    },
    {
     "name": "stdout",
     "output_type": "stream",
     "text": [
      "Do ` F * ck with our families , buckwheat !!\n",
      "['  \"hate_speech_probability\": 1,']\n"
     ]
    },
    {
     "name": "stderr",
     "output_type": "stream",
     "text": [
      " 12%|█▏        | 59/478 [03:49<25:54,  3.71s/it]"
     ]
    },
    {
     "name": "stdout",
     "output_type": "stream",
     "text": [
      "Perhaps I should walk back into my H.S. when it starts Monday and get on the P.A. system and say I want to tie all * * * * * * s to the back of my car and drag them across the ground till they die , and then say I 'm joking .\n",
      "['  \"hate_speech_probability\": 0.3,']\n"
     ]
    },
    {
     "name": "stderr",
     "output_type": "stream",
     "text": [
      " 13%|█▎        | 60/478 [03:54<27:51,  4.00s/it]"
     ]
    },
    {
     "name": "stdout",
     "output_type": "stream",
     "text": [
      "Let mother nature evolve these people naturally because no amount of money or aid is going to drag these ' things ' into the civilized world where they serve absolutely no purpose .\n",
      "['  \"hate_speech_probability\": 0.4']\n"
     ]
    },
    {
     "name": "stderr",
     "output_type": "stream",
     "text": [
      " 13%|█▎        | 61/478 [03:58<27:58,  4.02s/it]"
     ]
    },
    {
     "name": "stdout",
     "output_type": "stream",
     "text": [
      "No doubt they 'll be coming up with chocolate-colored Leprechauns and a Chinese flavored Uncle Sam 's too .\n",
      "['  \"hate_speech_probability\": 0.1,']\n"
     ]
    },
    {
     "name": "stderr",
     "output_type": "stream",
     "text": [
      " 13%|█▎        | 62/478 [04:03<30:16,  4.37s/it]"
     ]
    },
    {
     "name": "stdout",
     "output_type": "stream",
     "text": [
      "Maybe they will be resettled deliberately as refugees or maybe they will come for the women like the chinese men are doing .\n",
      "['  \"hate_speech_probability\": 0.4,']\n"
     ]
    },
    {
     "name": "stderr",
     "output_type": "stream",
     "text": [
      " 13%|█▎        | 63/478 [04:07<29:40,  4.29s/it]"
     ]
    },
    {
     "name": "stdout",
     "output_type": "stream",
     "text": [
      "We all know that when their are too many ethnics , the neighbourhood soon turn 's into a slum .\n",
      "['  \"hate_speech_probability\": 0.9,']\n"
     ]
    },
    {
     "name": "stderr",
     "output_type": "stream",
     "text": [
      " 13%|█▎        | 64/478 [04:12<30:13,  4.38s/it]"
     ]
    },
    {
     "name": "stdout",
     "output_type": "stream",
     "text": [
      "More black-on-white hate crime videos are posted here : http://ethniccrime.blogspot.com/p/ra...-on-video.html\n",
      "['  \"hate_speech_probability\": 0.7,']\n"
     ]
    },
    {
     "name": "stderr",
     "output_type": "stream",
     "text": [
      " 14%|█▎        | 65/478 [04:16<29:13,  4.25s/it]"
     ]
    },
    {
     "name": "stdout",
     "output_type": "stream",
     "text": [
      "Whites have the following Too many abortions , too many mixed marriages , too many no kids marriages , and too many liberals .\n",
      "['  \"hate_speech_probability\": 0.2,']\n"
     ]
    },
    {
     "name": "stderr",
     "output_type": "stream",
     "text": [
      " 14%|█▍        | 66/478 [04:20<29:36,  4.31s/it]"
     ]
    },
    {
     "name": "stdout",
     "output_type": "stream",
     "text": [
      "somebody``hcf''calledputin``ahero''!lololol!This``hero''finallytransformedformersovietjewnion in ``russian''judea!In this misery-torn country-are there-70 officially billionaries , tens f thousands millionaries , and tens of millions of poor and miserable who look for their pittance at the garbage places !\n",
      "['  \"hate_speech_probability\": 0.8']\n"
     ]
    },
    {
     "name": "stderr",
     "output_type": "stream",
     "text": [
      " 14%|█▍        | 67/478 [04:25<31:23,  4.58s/it]"
     ]
    },
    {
     "name": "stdout",
     "output_type": "stream",
     "text": [
      "I could never picture the site of one of the women of the Holy Rus shacking up with some Islamic mud from that fithy , impoverished , and godforsaken mountainous * * * * hole !\n",
      "['  \"hate_speech_probability\": 0.8']\n"
     ]
    },
    {
     "name": "stderr",
     "output_type": "stream",
     "text": [
      " 14%|█▍        | 68/478 [04:30<31:10,  4.56s/it]"
     ]
    },
    {
     "name": "stdout",
     "output_type": "stream",
     "text": [
      "YouTube - Teacher Attacked for Being White 9 year old attacks white teacher , explicitly `` because she was white . ''\n",
      "['  \"hate_speech_probability\": 0.85,']\n"
     ]
    },
    {
     "name": "stderr",
     "output_type": "stream",
     "text": [
      " 14%|█▍        | 69/478 [04:34<31:08,  4.57s/it]"
     ]
    },
    {
     "name": "stdout",
     "output_type": "stream",
     "text": [
      "I do n't know about you but I rather fight a 2m swedish male than a 1.70m asian kung fu expert .\n",
      "['  \"hate_speech_probability\": 0.3,']\n"
     ]
    },
    {
     "name": "stderr",
     "output_type": "stream",
     "text": [
      " 15%|█▍        | 70/478 [04:39<30:58,  4.56s/it]"
     ]
    },
    {
     "name": "stdout",
     "output_type": "stream",
     "text": [
      "So you would refuse even other Nordic whites fleeing the brown chaos in the south ?\n",
      "['  hate_speech_probability: 0.3,']\n"
     ]
    },
    {
     "name": "stderr",
     "output_type": "stream",
     "text": [
      " 15%|█▍        | 71/478 [04:43<30:23,  4.48s/it]"
     ]
    },
    {
     "name": "stdout",
     "output_type": "stream",
     "text": [
      "I would like to say and I can proudly say that there are no jews in Iceland , those that tried to get here were all sent back to Germany ...\n",
      "['  hate_speech_probability: 0.9,']\n"
     ]
    },
    {
     "name": "stderr",
     "output_type": "stream",
     "text": [
      " 15%|█▌        | 72/478 [04:47<29:51,  4.41s/it]"
     ]
    },
    {
     "name": "stdout",
     "output_type": "stream",
     "text": [
      "When the homos tried to have a fag pride parade in Serbia a few years ago they were beaten up .\n",
      "['  \"hate_speech_probability\": 1.0']\n"
     ]
    },
    {
     "name": "stderr",
     "output_type": "stream",
     "text": [
      " 15%|█▌        | 73/478 [04:51<28:12,  4.18s/it]"
     ]
    },
    {
     "name": "stdout",
     "output_type": "stream",
     "text": [
      "Some of them claim that they would like to go back home one day but after a few years in Finland they will no longer have this wish .\n",
      "['  \"hate_speech_probability\": 0.1']\n"
     ]
    },
    {
     "name": "stderr",
     "output_type": "stream",
     "text": [
      " 15%|█▌        | 74/478 [04:55<27:26,  4.08s/it]"
     ]
    },
    {
     "name": "stdout",
     "output_type": "stream",
     "text": [
      "Wolf 278\n",
      "['  \"hate_speech_probability\": 0,']\n"
     ]
    },
    {
     "name": "stderr",
     "output_type": "stream",
     "text": [
      " 16%|█▌        | 75/478 [04:58<25:52,  3.85s/it]"
     ]
    },
    {
     "name": "stdout",
     "output_type": "stream",
     "text": [
      "To hell with what this creature thinks anyway .\n",
      "['  hate_speech_probability: 0.1,']\n"
     ]
    },
    {
     "name": "stderr",
     "output_type": "stream",
     "text": [
      " 16%|█▌        | 76/478 [05:02<25:06,  3.75s/it]"
     ]
    },
    {
     "name": "stdout",
     "output_type": "stream",
     "text": [
      "Its disgusting they these foreigners come over here , stamp their feet and jump above good Irish families and get what they want .\n",
      "['  \"hate_speech_probability\": 0.4']\n"
     ]
    },
    {
     "name": "stderr",
     "output_type": "stream",
     "text": [
      " 16%|█▌        | 77/478 [05:06<25:42,  3.85s/it]"
     ]
    },
    {
     "name": "stdout",
     "output_type": "stream",
     "text": [
      "Back to where ya came from !\n",
      "['  \"hate_speech_probability\": 0.7,']\n"
     ]
    },
    {
     "name": "stderr",
     "output_type": "stream",
     "text": [
      " 16%|█▋        | 78/478 [05:10<25:56,  3.89s/it]"
     ]
    },
    {
     "name": "stdout",
     "output_type": "stream",
     "text": [
      "It just goes to show that the IRA are just criminals and not freedom fighters as they claim .\n",
      "['  \"hate_speech_probability\": 0.2,']\n"
     ]
    },
    {
     "name": "stderr",
     "output_type": "stream",
     "text": [
      " 17%|█▋        | 79/478 [05:14<26:29,  3.98s/it]"
     ]
    },
    {
     "name": "stdout",
     "output_type": "stream",
     "text": [
      "18 times in the last 20 years It 's time for the next generation to fight back to regain our country ..... the baby boomers will lose it for us if we do nothing .\n",
      "['  \"hate_speech_probability\": 0.2,']\n"
     ]
    },
    {
     "name": "stderr",
     "output_type": "stream",
     "text": [
      " 17%|█▋        | 80/478 [05:19<27:54,  4.21s/it]"
     ]
    },
    {
     "name": "stdout",
     "output_type": "stream",
     "text": [
      "I just need to turn on a tv and I see it advertised everywhere , mostly African apes with attractive white woman .\n",
      "['  \"hate_speech_probability\": 0.85']\n"
     ]
    },
    {
     "name": "stderr",
     "output_type": "stream",
     "text": [
      " 17%|█▋        | 81/478 [05:25<31:02,  4.69s/it]"
     ]
    },
    {
     "name": "stdout",
     "output_type": "stream",
     "text": [
      "The Official Website of the British People 's Party A few unpleasant truths re. the zionist ass lickers of the DUP\n",
      "['  hate_speech_probability: 0.2,']\n"
     ]
    },
    {
     "name": "stderr",
     "output_type": "stream",
     "text": [
      " 17%|█▋        | 82/478 [05:28<28:45,  4.36s/it]"
     ]
    },
    {
     "name": "stdout",
     "output_type": "stream",
     "text": [
      "I have to say I was shocked when he said the kids at his ( Junior ) school spoke 31 different languages and teachers have had to devise a system of hand signals to communicate !\n",
      "['  \"hate_speech_probability\": 0.05']\n"
     ]
    },
    {
     "name": "stderr",
     "output_type": "stream",
     "text": [
      " 17%|█▋        | 83/478 [05:33<29:58,  4.55s/it]"
     ]
    },
    {
     "name": "stdout",
     "output_type": "stream",
     "text": [
      "We do not want `` assimilation '' .\n",
      "['  \"hate_speech_probability\": 0.3']\n"
     ]
    },
    {
     "name": "stderr",
     "output_type": "stream",
     "text": [
      " 18%|█▊        | 84/478 [05:37<29:01,  4.42s/it]"
     ]
    },
    {
     "name": "stdout",
     "output_type": "stream",
     "text": [
      "Its got to be a quote from someone .\n",
      "['  \"hate_speech_probability\": 0.3,']\n"
     ]
    },
    {
     "name": "stderr",
     "output_type": "stream",
     "text": [
      " 18%|█▊        | 85/478 [05:41<28:19,  4.32s/it]"
     ]
    },
    {
     "name": "stdout",
     "output_type": "stream",
     "text": [
      "Any bother u go on lock down no one gets out the cells so its not that bad prison is 24 hour boredom ..\n",
      "['  \"hate_speech_probability\": 0.1']\n"
     ]
    },
    {
     "name": "stderr",
     "output_type": "stream",
     "text": [
      " 18%|█▊        | 86/478 [05:45<26:35,  4.07s/it]"
     ]
    },
    {
     "name": "stdout",
     "output_type": "stream",
     "text": [
      "If you come down n ' around Sacramento California area send me a message .\n",
      "['  \"hate_speech_probability\": 0,']\n"
     ]
    },
    {
     "name": "stderr",
     "output_type": "stream",
     "text": [
      " 18%|█▊        | 87/478 [05:50<28:46,  4.41s/it]"
     ]
    },
    {
     "name": "stdout",
     "output_type": "stream",
     "text": [
      "Hi i need some information to understand the meaning of the negrogreek homo and the race-mixer tag of the HELLENIC THREAD .\n",
      "['  \"hate_speech_probability\": 0.8']\n"
     ]
    },
    {
     "name": "stderr",
     "output_type": "stream",
     "text": [
      " 18%|█▊        | 88/478 [05:53<26:28,  4.07s/it]"
     ]
    },
    {
     "name": "stdout",
     "output_type": "stream",
     "text": [
      "I can get a ride to see you some time this summer if that is cool i need to get up with someone in NJ as it is his name is HAL i have talk to him but i want to meet him so when i go to see him I can stop to see you if that is ok\n",
      "['  \"hate_speech_probability\": 0.']\n"
     ]
    },
    {
     "name": "stderr",
     "output_type": "stream",
     "text": [
      " 19%|█▊        | 89/478 [05:56<23:51,  3.68s/it]"
     ]
    },
    {
     "name": "stdout",
     "output_type": "stream",
     "text": [
      "I 'll be at that show AND I 'm a brunette .\n",
      "['  \"hate_speech_probability\": 0']\n"
     ]
    },
    {
     "name": "stderr",
     "output_type": "stream",
     "text": [
      " 19%|█▉        | 90/478 [06:02<27:23,  4.24s/it]"
     ]
    },
    {
     "name": "stdout",
     "output_type": "stream",
     "text": [
      "TY!\n",
      "['  \"hate_speech_probability\": 0.3']\n"
     ]
    },
    {
     "name": "stderr",
     "output_type": "stream",
     "text": [
      " 19%|█▉        | 91/478 [06:06<27:26,  4.25s/it]"
     ]
    },
    {
     "name": "stdout",
     "output_type": "stream",
     "text": [
      "BTW .. update coming soon with info on my drive back to Florida .\n",
      "['  \"hate_speech_probability\": 0.3,']\n"
     ]
    },
    {
     "name": "stderr",
     "output_type": "stream",
     "text": [
      " 19%|█▉        | 92/478 [06:11<28:15,  4.39s/it]"
     ]
    },
    {
     "name": "stdout",
     "output_type": "stream",
     "text": [
      "I got stuck next to a really huge black woman who stunk to high heaven , and spent the entire ride with my face as close to the window as I could get .\n",
      "['  \"hate_speech_probability\": 0.1']\n"
     ]
    },
    {
     "name": "stderr",
     "output_type": "stream",
     "text": [
      " 19%|█▉        | 93/478 [06:14<26:49,  4.18s/it]"
     ]
    },
    {
     "name": "stdout",
     "output_type": "stream",
     "text": [
      "The kikes probably put the Leftist up to it , to make it seem like they do n't have total control of everyone .\n",
      "['  \"hate_speech_probability\": 1.0']\n"
     ]
    },
    {
     "name": "stderr",
     "output_type": "stream",
     "text": [
      " 20%|█▉        | 94/478 [06:19<27:22,  4.28s/it]"
     ]
    },
    {
     "name": "stdout",
     "output_type": "stream",
     "text": [
      "oddly i would find it worst if she here black , since Negroes are the most inferior and scum bag humanoid race in our planet .\n",
      "['  \"hate_speech_probability\": 0.8']\n"
     ]
    },
    {
     "name": "stderr",
     "output_type": "stream",
     "text": [
      " 20%|█▉        | 95/478 [06:23<27:27,  4.30s/it]"
     ]
    },
    {
     "name": "stdout",
     "output_type": "stream",
     "text": [
      "Stop showing off South Asian functional illiteracy .\n",
      "['  hate_speech_probability: 0.3,']\n"
     ]
    },
    {
     "name": "stderr",
     "output_type": "stream",
     "text": [
      " 20%|██        | 96/478 [06:27<26:08,  4.10s/it]"
     ]
    },
    {
     "name": "stdout",
     "output_type": "stream",
     "text": [
      "The above poster is correct when we stop supporting then they 're in terrible danger .\n",
      "['  hate_speech_probability: 0.1,']\n"
     ]
    },
    {
     "name": "stderr",
     "output_type": "stream",
     "text": [
      " 20%|██        | 97/478 [06:31<25:26,  4.01s/it]"
     ]
    },
    {
     "name": "stdout",
     "output_type": "stream",
     "text": [
      "I am not going to be beat down by a dyke , fag , or coon .\n",
      "['  \"hate_speech_probability\": 0.9']\n"
     ]
    },
    {
     "name": "stderr",
     "output_type": "stream",
     "text": [
      " 21%|██        | 98/478 [06:35<25:43,  4.06s/it]"
     ]
    },
    {
     "name": "stdout",
     "output_type": "stream",
     "text": [
      "Sometimes I wonder if it is Because Whites are so much smarter that they find it harder to run together , as opposed to , independently .\n",
      "['  \"hate_speech_probability\": 0.4,']\n"
     ]
    },
    {
     "name": "stderr",
     "output_type": "stream",
     "text": [
      " 21%|██        | 99/478 [06:38<24:01,  3.80s/it]"
     ]
    },
    {
     "name": "stdout",
     "output_type": "stream",
     "text": [
      "We say here that if we want to be lied to just watch the news !\n",
      "['  hate_speech_probability: 0.']\n"
     ]
    },
    {
     "name": "stderr",
     "output_type": "stream",
     "text": [
      " 21%|██        | 100/478 [06:41<23:08,  3.67s/it]"
     ]
    },
    {
     "name": "stdout",
     "output_type": "stream",
     "text": [
      "Lying Marxists !\n",
      "['  \"hate_speech_probability\": 0']\n"
     ]
    },
    {
     "name": "stderr",
     "output_type": "stream",
     "text": [
      " 21%|██        | 101/478 [06:49<29:46,  4.74s/it]"
     ]
    },
    {
     "name": "stdout",
     "output_type": "stream",
     "text": [
      "Listening now .\n",
      "['  \"hate_speech_probability\": 0.4,']\n"
     ]
    },
    {
     "name": "stderr",
     "output_type": "stream",
     "text": [
      " 21%|██▏       | 102/478 [06:54<30:41,  4.90s/it]"
     ]
    },
    {
     "name": "stdout",
     "output_type": "stream",
     "text": [
      "When I watch things like this I pray God will have vengeance on these sub humans even if they have asked for forgiveness .\n",
      "['  \"hate_speech_probability\": 0.8']\n"
     ]
    },
    {
     "name": "stderr",
     "output_type": "stream",
     "text": [
      " 22%|██▏       | 103/478 [06:58<28:53,  4.62s/it]"
     ]
    },
    {
     "name": "stdout",
     "output_type": "stream",
     "text": [
      "Hell to have a teacher like this .\n",
      "['  \"hate_speech_probability\": 0.0,']\n"
     ]
    },
    {
     "name": "stderr",
     "output_type": "stream",
     "text": [
      " 22%|██▏       | 104/478 [07:02<27:48,  4.46s/it]"
     ]
    },
    {
     "name": "stdout",
     "output_type": "stream",
     "text": [
      "This is the argument homosexuals use to justify their behavior , that because there are no `` red letters '' about it , then homosexuality is not a bad thing .\n",
      "['  \"hate_speech_probability\": 0.2']\n"
     ]
    },
    {
     "name": "stderr",
     "output_type": "stream",
     "text": [
      " 22%|██▏       | 105/478 [07:06<27:03,  4.35s/it]"
     ]
    },
    {
     "name": "stdout",
     "output_type": "stream",
     "text": [
      "Like the parasites they are they simply moved to a new host , to continue their destruction of Western White civilization and culture\n",
      "['  \"hate_speech_probability\": 0.9']\n"
     ]
    },
    {
     "name": "stderr",
     "output_type": "stream",
     "text": [
      " 22%|██▏       | 106/478 [07:09<24:40,  3.98s/it]"
     ]
    },
    {
     "name": "stdout",
     "output_type": "stream",
     "text": [
      "I've told my friends and all of them agree with me ( some only partially ) .\n",
      "['  \"hate_speech_probability\": 0']\n"
     ]
    },
    {
     "name": "stderr",
     "output_type": "stream",
     "text": [
      " 22%|██▏       | 107/478 [07:13<24:27,  3.96s/it]"
     ]
    },
    {
     "name": "stdout",
     "output_type": "stream",
     "text": [
      "It makes my flesh crawl when I see white girls having to be felt up as they walk down the hallways by big lipped spear chuckers. : attack\n",
      "['  \"hate_speech_probability\": 0.9,']\n"
     ]
    },
    {
     "name": "stderr",
     "output_type": "stream",
     "text": [
      " 23%|██▎       | 108/478 [07:16<23:22,  3.79s/it]"
     ]
    },
    {
     "name": "stdout",
     "output_type": "stream",
     "text": [
      "Blacks hate whites .\n",
      "['  \"hate_speech_probability\": 0.7,']\n"
     ]
    },
    {
     "name": "stderr",
     "output_type": "stream",
     "text": [
      " 23%|██▎       | 109/478 [07:21<24:27,  3.98s/it]"
     ]
    },
    {
     "name": "stdout",
     "output_type": "stream",
     "text": [
      "I think it is a bit late to think to look after the safety and the future of white people in South africa .\n",
      "['  hate_speech_probability: 0.3,']\n"
     ]
    },
    {
     "name": "stderr",
     "output_type": "stream",
     "text": [
      " 23%|██▎       | 110/478 [07:26<27:01,  4.41s/it]"
     ]
    },
    {
     "name": "stdout",
     "output_type": "stream",
     "text": [
      "My favorite part : And still he ca n't see the truth right in front of his face .\n",
      "['  \"hate_speech_probability\": 0.1,']\n"
     ]
    },
    {
     "name": "stderr",
     "output_type": "stream",
     "text": [
      " 23%|██▎       | 111/478 [07:31<27:36,  4.51s/it]"
     ]
    },
    {
     "name": "stdout",
     "output_type": "stream",
     "text": [
      "It 's going viral on Youtube - warning the lesbian ' groid gets aggressive on the whites for whatever reason : YouTube - Video Caught On Tape Lesbian Or Young Man Going Wild On BART Train In Oakland !\n",
      "['  \"hate_speech_probability\": 0.8']\n"
     ]
    },
    {
     "name": "stderr",
     "output_type": "stream",
     "text": [
      " 23%|██▎       | 112/478 [07:34<24:46,  4.06s/it]"
     ]
    },
    {
     "name": "stdout",
     "output_type": "stream",
     "text": [
      "More impulsive Negro stripping ...\n",
      "{\n",
      "  \"relevant\\_facts\\_from\\_the\\_cultural\\_context\": [\n",
      "    \"The comment contains explicit racial slurs and derogatory language towards Black people.\",\n",
      "    \"In the US cultural context, the N-word is considered a highly offensive and derogatory racial slur towards Black people.\"\n",
      "  ],\n",
      "  \"contained\\_explicit\\_racist\\_vocabulary\": [\n",
      "    \"Negro\",\n",
      "    \"N-word\"\n",
      "  ],\n",
      "  \"argument\\_for\\_hate\\_speech\": \"The comment directly uses a racial slur to dehumanize and discriminate against Black people, which is a common characteristic of hate speech.\",\n",
      "  \"argument\\_against\\_hate\\_speech\": \"\",\n",
      "  \"likelihood\\_of\\_presence\\_of\\_implicit\\_hate\\_speech\": 0,\n",
      "  \"likelihood\\_of\\_presence\\_of\\_explicit\\_hate\\_speech\": 1,\n",
      "  \"likelihood\\_of\\_ad\\_hominin\\_attack\": 0,\n",
      "  \"likelihood\\_of\\_minority\\_attack\": 1,\n",
      "  \"likelihood\\_of\\_takedown\\_on\\_social\\_media\": 1,\n",
      "  \"hate\\_speech\\_probability\": 1.\n"
     ]
    },
    {
     "name": "stderr",
     "output_type": "stream",
     "text": [
      " 24%|██▎       | 113/478 [07:37<23:12,  3.82s/it]"
     ]
    },
    {
     "name": "stdout",
     "output_type": "stream",
     "text": [
      "There are so many race mixing ads on TV that it gets overwhelming .\n",
      "['  \"hate_speech_probability\": 0.2,']\n"
     ]
    },
    {
     "name": "stderr",
     "output_type": "stream",
     "text": [
      " 24%|██▍       | 114/478 [07:41<23:27,  3.87s/it]"
     ]
    },
    {
     "name": "stdout",
     "output_type": "stream",
     "text": [
      "When I was last time in South Africa , we went to Sun City and saw little black monkey children swimming , funniest thing was watching drying water off their faces , it looks exactly like baboon or something , way they do it , whites have certain mannerisms with doing things , they have completely ape-like ones .\n",
      "['  \"hate_speech_probability\": 0.8']\n"
     ]
    },
    {
     "name": "stderr",
     "output_type": "stream",
     "text": [
      " 24%|██▍       | 115/478 [07:46<24:35,  4.06s/it]"
     ]
    },
    {
     "name": "stdout",
     "output_type": "stream",
     "text": [
      "Their stories have been told before , so instead of showing the pics of the non WHITE garbage that took from them , I am just going to post their pics so they will not be forgotten .\n",
      "['  \"hate_speech_probability\": 0.3']\n"
     ]
    },
    {
     "name": "stderr",
     "output_type": "stream",
     "text": [
      " 24%|██▍       | 116/478 [07:49<23:29,  3.89s/it]"
     ]
    },
    {
     "name": "stdout",
     "output_type": "stream",
     "text": [
      "I 'm angry against myself for just letting this whole world drown into a jewish cesspool .\n",
      "['  \"hate_speech_probability\": 0.7,']\n"
     ]
    },
    {
     "name": "stderr",
     "output_type": "stream",
     "text": [
      " 24%|██▍       | 117/478 [07:54<25:13,  4.19s/it]"
     ]
    },
    {
     "name": "stdout",
     "output_type": "stream",
     "text": [
      "Comparing these pictures to pictures with serbs I do n't see much difference between them and albanians , the same Dinaric and Mediterranean subtypes .\n",
      "['  \"hate_speech_probability\": 0.3']\n"
     ]
    },
    {
     "name": "stderr",
     "output_type": "stream",
     "text": [
      " 25%|██▍       | 118/478 [07:58<24:47,  4.13s/it]"
     ]
    },
    {
     "name": "stdout",
     "output_type": "stream",
     "text": [
      "They 're probably as high-maintenance as one of those crappy old East German Trabants , though .\n",
      "['  \"hate_speech_probability\": 0,']\n"
     ]
    },
    {
     "name": "stderr",
     "output_type": "stream",
     "text": [
      " 25%|██▍       | 119/478 [08:02<24:28,  4.09s/it]"
     ]
    },
    {
     "name": "stdout",
     "output_type": "stream",
     "text": [
      "14 !\n",
      "['  \"hate_speech_probability\": 0.8.']\n"
     ]
    },
    {
     "name": "stderr",
     "output_type": "stream",
     "text": [
      " 25%|██▌       | 120/478 [08:06<24:02,  4.03s/it]"
     ]
    },
    {
     "name": "stdout",
     "output_type": "stream",
     "text": [
      "Aragorn\n",
      "['  \"hate_speech_probability\": 0.0,']\n"
     ]
    },
    {
     "name": "stderr",
     "output_type": "stream",
     "text": [
      " 25%|██▌       | 121/478 [08:09<22:27,  3.77s/it]"
     ]
    },
    {
     "name": "stdout",
     "output_type": "stream",
     "text": [
      "But as for them adopting kids , the answer is NO .\n",
      "['  \"hate_speech_probability\": 0']\n"
     ]
    },
    {
     "name": "stderr",
     "output_type": "stream",
     "text": [
      " 26%|██▌       | 122/478 [08:13<21:36,  3.64s/it]"
     ]
    },
    {
     "name": "stdout",
     "output_type": "stream",
     "text": [
      "Ethnic crime never ends it seems .\n",
      "['  \"hate_speech_probability\": 0.4']\n"
     ]
    },
    {
     "name": "stderr",
     "output_type": "stream",
     "text": [
      " 26%|██▌       | 123/478 [08:19<26:14,  4.44s/it]"
     ]
    },
    {
     "name": "stdout",
     "output_type": "stream",
     "text": [
      "It 's more fun that way , too .\n",
      "['  \"hate_speech_probability\": 0.6']\n"
     ]
    },
    {
     "name": "stderr",
     "output_type": "stream",
     "text": [
      " 26%|██▌       | 124/478 [08:23<26:32,  4.50s/it]"
     ]
    },
    {
     "name": "stdout",
     "output_type": "stream",
     "text": [
      "More likely they 're afraid of having to marry and deal with a snotty GI-Jane-dyke , only to be dragged into court and have the kids and house taken a few years later .\n",
      "['  \"hate_speech_probability\": 0.5,']\n"
     ]
    },
    {
     "name": "stderr",
     "output_type": "stream",
     "text": [
      " 26%|██▌       | 125/478 [08:28<25:52,  4.40s/it]"
     ]
    },
    {
     "name": "stdout",
     "output_type": "stream",
     "text": [
      "Its only a matter of time until we become a hell hole like Sweden or the UK .\n",
      "['  \"hate_speech_probability\": 0.1']\n"
     ]
    },
    {
     "name": "stderr",
     "output_type": "stream",
     "text": [
      " 26%|██▋       | 126/478 [08:32<26:33,  4.53s/it]"
     ]
    },
    {
     "name": "stdout",
     "output_type": "stream",
     "text": [
      "So according to your logic since blacks have been in N.America for hundreds of yrs they should be allowed to stay ? and yes whites should leave africa .\n",
      "['  \"hate_speech_probability\": 0.8']\n"
     ]
    },
    {
     "name": "stderr",
     "output_type": "stream",
     "text": [
      " 27%|██▋       | 127/478 [08:37<26:50,  4.59s/it]"
     ]
    },
    {
     "name": "stdout",
     "output_type": "stream",
     "text": [
      "The red scum will never wake up , ignorant lefties fight for `` their class '' when their making a mockery of their culture and heritage . commie scum ..\n",
      "['  \"hate_speech_probability\": 0.3']\n"
     ]
    },
    {
     "name": "stderr",
     "output_type": "stream",
     "text": [
      " 27%|██▋       | 128/478 [08:42<27:16,  4.68s/it]"
     ]
    },
    {
     "name": "stdout",
     "output_type": "stream",
     "text": [
      "Tralee is a disgrace , the place looks like a town in africa nowThe day Ireland becomes a muslim country is the day i stop breathing !\n",
      "['  \"hate_speech_probability\": 0.8,']\n"
     ]
    },
    {
     "name": "stderr",
     "output_type": "stream",
     "text": [
      " 27%|██▋       | 129/478 [08:47<27:01,  4.65s/it]"
     ]
    },
    {
     "name": "stdout",
     "output_type": "stream",
     "text": [
      "YouTube - Brussels on 9/11 : For a free Europe , against Islamization\n",
      "['  \"hate_speech_probability\": 0.4,']\n"
     ]
    },
    {
     "name": "stderr",
     "output_type": "stream",
     "text": [
      " 27%|██▋       | 130/478 [08:50<25:19,  4.37s/it]"
     ]
    },
    {
     "name": "stdout",
     "output_type": "stream",
     "text": [
      "Even if they do stop pouring in most of those that are here have no intention of going back to poland .\n",
      "['  \"hate_speech_probability\": 0.1.']\n"
     ]
    },
    {
     "name": "stderr",
     "output_type": "stream",
     "text": [
      " 27%|██▋       | 131/478 [08:55<25:19,  4.38s/it]"
     ]
    },
    {
     "name": "stdout",
     "output_type": "stream",
     "text": [
      "I heard about it is it about that white guy that killed that race traitor slut and her nig nog boyfriend ?\n",
      "['  \"hate_speech_probability\": 0.8,']\n"
     ]
    },
    {
     "name": "stderr",
     "output_type": "stream",
     "text": [
      " 28%|██▊       | 132/478 [09:01<28:12,  4.89s/it]"
     ]
    },
    {
     "name": "stdout",
     "output_type": "stream",
     "text": [
      "Should the guy who sang cop killer also have a trial , because he tragted a minority , cops .\n",
      "['  \"hate_speech_probability\": 0.5,']\n"
     ]
    },
    {
     "name": "stderr",
     "output_type": "stream",
     "text": [
      " 28%|██▊       | 133/478 [09:04<25:46,  4.48s/it]"
     ]
    },
    {
     "name": "stdout",
     "output_type": "stream",
     "text": [
      "It was probably written by a 15 year old .\n",
      "{\n",
      "  \"relevant\\_facts\\_from\\_the\\_cultural\\_context\": [\n",
      "    \"Young people can be influenced by their environment and peers. They may not fully understand the impact of their words and may use language that is not reflective of their true beliefs.\",\n",
      "  ],\n",
      "  \"relevant\\_word\\_definitions\": {\n",
      "  },\n",
      "  \"contained\\_explicit\\_racist\\_vocabulary\": [],\n",
      "  \"contained\\_explicit\\_sexist\\_vocabulary\": [],\n",
      "  \"contained\\_explicit\\_toxic\\_vocabulary\": [],\n",
      "  \"argument\\_for\\_hate\\_speech\": \"The sentence does not contain any explicit hate speech, but the context of a white supremacist forum raises concerns given the age of the author and the potential influence from peers and the broader cultural context.\",\n",
      "  \"argument\\_against\\_hate\\_speech\": \"The sentence does not contain any obviously hateful language.\",\n",
      "  \"likelihood\\_of\\_presence\\_of\\_implicit\\_hate\\_speech\": 0.5,\n",
      "  \"likelihood\\_of\\_presence\\_of\\_explicit\\_hate\\_speech\": 0.1,\n",
      "  \"likelihood\\_of\\_ad\\_hominin\\_attack\": 0.2,\n",
      "  \"likelihood\\_of\\_minority\\_attack\": 0.1,\n",
      "  \"likelihood\\_of\\_takedown\\_on\\_social\\_media\": 0.3,\n",
      "  \"hate\\_speech\\_probability\": 0.2,\n"
     ]
    },
    {
     "name": "stderr",
     "output_type": "stream",
     "text": [
      " 28%|██▊       | 134/478 [09:08<24:41,  4.31s/it]"
     ]
    },
    {
     "name": "stdout",
     "output_type": "stream",
     "text": [
      "I do get my Theirs , theres and they 're , mixed up sometimes but i was educated under Labours rule so i cant be completly to blame .\n",
      "['\"hate_speech_probability\": 0.1']\n"
     ]
    },
    {
     "name": "stderr",
     "output_type": "stream",
     "text": [
      " 28%|██▊       | 135/478 [09:12<24:28,  4.28s/it]"
     ]
    },
    {
     "name": "stdout",
     "output_type": "stream",
     "text": [
      "The chairman of the FA is one David Bernstein and , yes , he is a member of a certain tribe that delight in bringing diversity and the benefits of multi-culturalism and ' anti-racism ' , along with boatloads of third-worlders to Britain .\n",
      "['  \"hate_speech_probability\": 0.1']\n"
     ]
    },
    {
     "name": "stderr",
     "output_type": "stream",
     "text": [
      " 28%|██▊       | 136/478 [09:16<23:30,  4.13s/it]"
     ]
    },
    {
     "name": "stdout",
     "output_type": "stream",
     "text": [
      "You Anglo-Americans are all welcome to England if you can perform the ' small ' task of riding London of it 's ethnics !\n",
      "['  \"hate_speech_probability\": 1,']\n"
     ]
    },
    {
     "name": "stderr",
     "output_type": "stream",
     "text": [
      " 29%|██▊       | 137/478 [09:21<24:50,  4.37s/it]"
     ]
    },
    {
     "name": "stdout",
     "output_type": "stream",
     "text": [
      "Thank you brother .\n",
      "['  \"hate_speech_probability\": 0.3,']\n"
     ]
    },
    {
     "name": "stderr",
     "output_type": "stream",
     "text": [
      " 29%|██▉       | 138/478 [09:25<23:04,  4.07s/it]"
     ]
    },
    {
     "name": "stdout",
     "output_type": "stream",
     "text": [
      "I was sure that they were lying about the numbers and it 's must be the same in every country IMO .\n",
      "['  \"hate_speech_probability\": 0.0']\n"
     ]
    },
    {
     "name": "stderr",
     "output_type": "stream",
     "text": [
      " 29%|██▉       | 139/478 [09:28<21:31,  3.81s/it]"
     ]
    },
    {
     "name": "stdout",
     "output_type": "stream",
     "text": [
      "There have been times when I have walked past some nigerian or skinny and they will cough with hand at their side without care for those around them .\n",
      "['  \"hate_speech_probability\": 0.9,']\n"
     ]
    },
    {
     "name": "stderr",
     "output_type": "stream",
     "text": [
      " 29%|██▉       | 140/478 [09:33<23:27,  4.16s/it]"
     ]
    },
    {
     "name": "stdout",
     "output_type": "stream",
     "text": [
      "They are beating each other to death everywhere , just look what they do to each other in Africa .\n",
      "['  \"hate_speech_probability\": 0.5,']\n"
     ]
    },
    {
     "name": "stderr",
     "output_type": "stream",
     "text": [
      " 29%|██▉       | 141/478 [09:36<22:37,  4.03s/it]"
     ]
    },
    {
     "name": "stdout",
     "output_type": "stream",
     "text": [
      "Hey, I 'm looking to meet new people maybe find myself a nice white boy .\n",
      "['  \"hate_speech_probability\": 0.0,']\n"
     ]
    },
    {
     "name": "stderr",
     "output_type": "stream",
     "text": [
      " 30%|██▉       | 142/478 [09:41<22:47,  4.07s/it]"
     ]
    },
    {
     "name": "stdout",
     "output_type": "stream",
     "text": [
      "To me and the rest of my commrades on this wonderfull White Day !!! I hope you have loads of fun and be safe !!!!\n",
      "['  \"hate_speech_probability\": 0.2']\n"
     ]
    },
    {
     "name": "stderr",
     "output_type": "stream",
     "text": [
      " 30%|██▉       | 143/478 [09:44<21:26,  3.84s/it]"
     ]
    },
    {
     "name": "stdout",
     "output_type": "stream",
     "text": [
      "A 750 lb boat with a 280 hp motor .\n",
      "['  \"hate_speech_probability\": 0,']\n"
     ]
    },
    {
     "name": "stderr",
     "output_type": "stream",
     "text": [
      " 30%|███       | 144/478 [09:47<19:59,  3.59s/it]"
     ]
    },
    {
     "name": "stdout",
     "output_type": "stream",
     "text": [
      "My buddy 's boat is anchored beside it .\n",
      "['  \"hate_speech_probability\": 0']\n"
     ]
    },
    {
     "name": "stderr",
     "output_type": "stream",
     "text": [
      " 30%|███       | 145/478 [09:51<20:39,  3.72s/it]"
     ]
    },
    {
     "name": "stdout",
     "output_type": "stream",
     "text": [
      "Maybe spread some HATE and intolerance ?\n",
      "['  \"hate_speech_probability\": 0.1,']\n"
     ]
    },
    {
     "name": "stderr",
     "output_type": "stream",
     "text": [
      " 31%|███       | 146/478 [09:54<19:30,  3.53s/it]"
     ]
    },
    {
     "name": "stdout",
     "output_type": "stream",
     "text": [
      "I used to enter horse competitions until I was thrown off one and broke my leg .\n",
      "['  \"hate_speech_probability\": 0.1']\n"
     ]
    },
    {
     "name": "stderr",
     "output_type": "stream",
     "text": [
      " 31%|███       | 147/478 [09:58<19:32,  3.54s/it]"
     ]
    },
    {
     "name": "stdout",
     "output_type": "stream",
     "text": [
      "They 're music is one of the reasons I decided to become a white nationalist in the first place .\n",
      "['  \"hate_speech_probability\": 0.6']\n"
     ]
    },
    {
     "name": "stderr",
     "output_type": "stream",
     "text": [
      " 31%|███       | 148/478 [10:01<19:14,  3.50s/it]"
     ]
    },
    {
     "name": "stdout",
     "output_type": "stream",
     "text": [
      "KC skin boy looking for KC skin girl .\n",
      "['  \"hate_speech_probability\": 0.6,']\n"
     ]
    },
    {
     "name": "stderr",
     "output_type": "stream",
     "text": [
      " 31%|███       | 149/478 [10:05<20:34,  3.75s/it]"
     ]
    },
    {
     "name": "stdout",
     "output_type": "stream",
     "text": [
      "I lived in texas when i was younger , i know how tough some things can get . `` rasslin animals '' is half the fun\n",
      "['  \"hate_speech_probability\": 0']\n"
     ]
    },
    {
     "name": "stderr",
     "output_type": "stream",
     "text": [
      " 31%|███▏      | 150/478 [10:10<22:00,  4.03s/it]"
     ]
    },
    {
     "name": "stdout",
     "output_type": "stream",
     "text": [
      "Living in a boarder state , Texas , the problems of illegal aliens is , naturally , a stark reality , and let me add that the only solution that I see is the implimentation of U.S. Troops as guards on the Mexican boarder .\n",
      "['  \"hate_speech_probability\": 0.2']\n"
     ]
    },
    {
     "name": "stderr",
     "output_type": "stream",
     "text": [
      " 32%|███▏      | 151/478 [10:14<22:23,  4.11s/it]"
     ]
    },
    {
     "name": "stdout",
     "output_type": "stream",
     "text": [
      "Teach our men to be men again and defend our countries and women folk against the non white .\n",
      "['  \"hate_speech_probability\": 0.9']\n"
     ]
    },
    {
     "name": "stderr",
     "output_type": "stream",
     "text": [
      " 32%|███▏      | 152/478 [10:19<23:27,  4.32s/it]"
     ]
    },
    {
     "name": "stdout",
     "output_type": "stream",
     "text": [
      "These feral negroes stalk white women , rape and kill and , no one seems willing to stop them .\n",
      "['  \"hate_speech_probability\": 0.8']\n"
     ]
    },
    {
     "name": "stderr",
     "output_type": "stream",
     "text": [
      " 32%|███▏      | 153/478 [10:24<23:53,  4.41s/it]"
     ]
    },
    {
     "name": "stdout",
     "output_type": "stream",
     "text": [
      "That type of negroes call your kind of brothas , Uncle Tom .\n",
      "['  hate_speech_probability: 1']\n"
     ]
    },
    {
     "name": "stderr",
     "output_type": "stream",
     "text": [
      " 32%|███▏      | 154/478 [10:29<25:17,  4.68s/it]"
     ]
    },
    {
     "name": "stdout",
     "output_type": "stream",
     "text": [
      "The only good thing about Indians is their married women are so loose that prostitution fails in Indian areas .\n",
      "['  \"hate_speech_probability\": 0.7,']\n"
     ]
    },
    {
     "name": "stderr",
     "output_type": "stream",
     "text": [
      " 32%|███▏      | 155/478 [10:36<28:05,  5.22s/it]"
     ]
    },
    {
     "name": "stdout",
     "output_type": "stream",
     "text": [
      "Miami,( I do n't know how Don can stand living down there ) Hispanic - 279,456 ( 70.0 % ) Black alone - 64,993 ( 16.3 % ) White alone - 47,622 ( 11.9 % ) Asian alone - 3,649 ( 0.9 % ) Two or more races - 2,642 ( 0.7 % ) Other race alone - 676 ( 0.2 % ) American Indian alone - 361 ( 0.09 % ) Native Hawaiian and Other Pacific Islander alone - 58 ( 0.01 % ) Read more : Miami , Florida ( FL ) profile : population , maps , real estate , averages , homes , statistics , relocation , travel , jobs , hospitals , schools , crime , moving , houses , news , sex offenders\n",
      "['  \"hate_speech_probability\": 0,']\n"
     ]
    },
    {
     "name": "stderr",
     "output_type": "stream",
     "text": [
      " 33%|███▎      | 156/478 [10:40<26:44,  4.98s/it]"
     ]
    },
    {
     "name": "stdout",
     "output_type": "stream",
     "text": [
      "I cannot imagine how revolting it must be - the PC dialogue at your university -- idolizing athletes who dont belong in college -- white women getting pregnant with freaks\n",
      "['  \"hate_speech_probability\": 0.8,']\n"
     ]
    },
    {
     "name": "stderr",
     "output_type": "stream",
     "text": [
      " 33%|███▎      | 157/478 [10:44<24:36,  4.60s/it]"
     ]
    },
    {
     "name": "stdout",
     "output_type": "stream",
     "text": [
      "As a nation , we are in desperate need for an immigration time out and a zero tolerance policy for those here illegally .\n",
      "['  \"hate_speech_probability\": 0.2,']\n"
     ]
    },
    {
     "name": "stderr",
     "output_type": "stream",
     "text": [
      " 33%|███▎      | 158/478 [10:47<22:56,  4.30s/it]"
     ]
    },
    {
     "name": "stdout",
     "output_type": "stream",
     "text": [
      "It 's just the way they are .\n",
      "{\n",
      "  \"relevant\\_facts\\_from\\_the\\_cultural\\_context\": [],\n",
      "  \"relevant\\_word\\_definitions\": {},\n",
      "  \"contained\\_explicit\\_racist\\_vocabulary\": [],\n",
      "  \"contained\\_explicit\\_sexist\\_vocabulary\": [],\n",
      "  \"contained\\_explicit\\_toxic\\_vocabulary\": [],\n",
      "  \"argument\\_for\\_hate\\_speech\": \"The statement 'it's just the way they are' implies a derogatory attitude towards a specific group of people, suggesting that their behavior is inherently bad and unchangeable, which is a common trope used in hate speech.\",\n",
      "  \"argument\\_against\\_hate\\_speech\": \"The statement does not contain any explicit hate speech or racism, and it could be interpreted as a common expression to describe someone's personality or behavior. However, the implications of the statement could be perceived as racist or prejudiced depending on the context and tone.\",\n",
      "  \"likelihood\\_of\\_presence\\_of\\_implicit\\_hate\\_speech\": 0.5,\n",
      "  \"likelihood\\_of\\_presence\\_of\\_explicit\\_hate\\_speech\": 0.2,\n",
      "  \"likelihood\\_of\\_ad\\_hominin\\_attack\": 0.1,\n",
      "  \"likelihood\\_of\\_minority\\_attack\": 0.1,\n",
      "  \"likelihood\\_of\\_takedown\\_on\\_social\\_media\": 0.3,\n",
      "  \"hate\\_speech\\_probability\": 0.3\n"
     ]
    },
    {
     "name": "stderr",
     "output_type": "stream",
     "text": [
      " 33%|███▎      | 159/478 [10:53<24:29,  4.61s/it]"
     ]
    },
    {
     "name": "stdout",
     "output_type": "stream",
     "text": [
      "I considered it being `` ethnically cleansed '' from my childhood home\n",
      "['  \"hate_speech_probability\": 0.4,']\n"
     ]
    },
    {
     "name": "stderr",
     "output_type": "stream",
     "text": [
      " 33%|███▎      | 160/478 [10:58<25:33,  4.82s/it]"
     ]
    },
    {
     "name": "stdout",
     "output_type": "stream",
     "text": [
      "Then again , in this modern age of white youth emulating negroes and white adults groveling at the feet of the juden , perhaps it 's an appropriate word after all .\n",
      "['  \"hate_speech_probability\": 0.9,']\n"
     ]
    },
    {
     "name": "stderr",
     "output_type": "stream",
     "text": [
      " 34%|███▎      | 161/478 [11:01<22:22,  4.24s/it]"
     ]
    },
    {
     "name": "stdout",
     "output_type": "stream",
     "text": [
      "I've got two knife blocks on the counter .\n",
      "['  \"hate_speech_probability\": 0']\n"
     ]
    },
    {
     "name": "stderr",
     "output_type": "stream",
     "text": [
      " 34%|███▍      | 162/478 [11:06<23:42,  4.50s/it]"
     ]
    },
    {
     "name": "stdout",
     "output_type": "stream",
     "text": [
      "Chicago Teachers Union president explains how to inject politics into math - YouTube Chicago Teachers Union president Karen Lewis explains how to politicize school math for organizing - EAGnews.org powered by Education Action Group Foundation , Inc.\n",
      "['  \"hate_speech_probability\": 0.']\n"
     ]
    },
    {
     "name": "stderr",
     "output_type": "stream",
     "text": [
      " 34%|███▍      | 163/478 [11:10<22:40,  4.32s/it]"
     ]
    },
    {
     "name": "stdout",
     "output_type": "stream",
     "text": [
      "Maybe you should look there or just move here to miss. Or more specifically Tupelo .\n",
      "['  \"hate_speech_probability\": 0.1,']\n"
     ]
    },
    {
     "name": "stderr",
     "output_type": "stream",
     "text": [
      " 34%|███▍      | 164/478 [11:14<22:24,  4.28s/it]"
     ]
    },
    {
     "name": "stdout",
     "output_type": "stream",
     "text": [
      "All we have is blacks and a few mestizos and all are pretty well behaved , we keep them that way around here\n",
      "['  \"hate_speech_probability\": 0.9.']\n"
     ]
    },
    {
     "name": "stderr",
     "output_type": "stream",
     "text": [
      " 35%|███▍      | 165/478 [11:18<21:24,  4.10s/it]"
     ]
    },
    {
     "name": "stdout",
     "output_type": "stream",
     "text": [
      "It offers certificates of completion for many courses .\n",
      "['  \"hate_speech_probability\": 0.2,']\n"
     ]
    },
    {
     "name": "stderr",
     "output_type": "stream",
     "text": [
      " 35%|███▍      | 166/478 [11:22<22:05,  4.25s/it]"
     ]
    },
    {
     "name": "stdout",
     "output_type": "stream",
     "text": [
      "The only thing that they care about is welfare and mooching of all the rest of us .\n",
      "{\n",
      "  \"relevant\\_facts\\_from\\_the\\_cultural\\_context\": [\n",
      "    \"In the US context, 'welfare' is a term often associated with government assistance programs for those in need, and being labeled as a 'moocher' is a derogatory term implying someone undeservingly receiving benefits at the expense of others.\",\n",
      "  ],\n",
      "  \"relevant\\_word\\_definitions\": {\n",
      "    \"welfare\": \"A system of government programs that provides assistance, particularly financial assistance, to people who are needy.\",\n",
      "    \"moocher\": \"A person who is perceived to obtain benefits, especially financial ones, from others without contributing anything in return.\",\n",
      "  },\n",
      "  \"contained\\_explicit\\_racist\\_vocabulary\": [],\n",
      "  \"contained\\_explicit\\_sexist\\_vocabulary\": [],\n",
      "  \"contained\\_explicit\\_toxic\\_vocabulary\": [],\n",
      "  \"argument\\_for\\_hate\\_speech\": \"This statement might be perceived as hate speech in the context of the USA, as it stereotypes and stigmatizes people who rely on government assistance. It resorts to labeling them as 'moochers,' which has negative connotations and implies a lack of productivity and motivation.\",\n",
      "  \"argument\\_against\\_hate\\_speech\": \"This statement might not be considered hate speech in the cultural context of the USA, as it is a common sentiment that has been expressed in public discourse and may reflect genuine concerns about the welfare system and perceived abuse of it.\",\n",
      "  \"likelihood\\_of\\_presence\\_of\\_implicit\\_hate\\_speech\": 0.4,\n",
      "  \"likelihood\\_of\\_presence\\_of\\_explicit\\_hate\\_speech\": 0.1,\n",
      "  \"likelihood\\_of\\_ad\\_hominin\\_attack\": 0.3,\n",
      "  \"likelihood\\_of\\_minority\\_attack\": 0,\n",
      "  \"likelihood\\_of\\_takedown\\_on\\_social\\_media\": 0.5,\n",
      "  \"hate\\_speech\\_probability\": 0.4,\n"
     ]
    },
    {
     "name": "stderr",
     "output_type": "stream",
     "text": [
      " 35%|███▍      | 167/478 [11:26<20:32,  3.96s/it]"
     ]
    },
    {
     "name": "stdout",
     "output_type": "stream",
     "text": [
      "Next time you see someone with their pants falling down , just help them !\n",
      "['  \"hate_speech_probability\": 0,']\n"
     ]
    },
    {
     "name": "stderr",
     "output_type": "stream",
     "text": [
      " 35%|███▌      | 168/478 [11:29<20:09,  3.90s/it]"
     ]
    },
    {
     "name": "stdout",
     "output_type": "stream",
     "text": [
      "Back when I was a kid , even the black folks called them that .... `` Ooohhh I' z cai n't wait until Crimusz , I' z gonna get me sum of dem niggah-toes and oranguz fo ' Crimusz , an ' sum peppahmintz ; dey shoa iz gud ! ''\n",
      "['  \"hate_speech_probability\": 1']\n"
     ]
    },
    {
     "name": "stderr",
     "output_type": "stream",
     "text": [
      " 35%|███▌      | 169/478 [11:34<21:14,  4.12s/it]"
     ]
    },
    {
     "name": "stdout",
     "output_type": "stream",
     "text": [
      "I 've seen shots with a .45 , where people walked around angry .\n",
      "['  \"hate_speech_probability\": 0.3,']\n"
     ]
    },
    {
     "name": "stderr",
     "output_type": "stream",
     "text": [
      " 36%|███▌      | 170/478 [11:38<21:24,  4.17s/it]"
     ]
    },
    {
     "name": "stdout",
     "output_type": "stream",
     "text": [
      "Instead it is the athletic negro Holyfield 11 kids , Mike Tyson 7 kids , Riddick Bowe 5 kids , George Foreman 10 kids who procreate like apes and spread these athlete genes along .\n",
      "['  \"hate_speech_probability\": 0.8']\n"
     ]
    },
    {
     "name": "stderr",
     "output_type": "stream",
     "text": [
      " 36%|███▌      | 171/478 [11:42<21:15,  4.16s/it]"
     ]
    },
    {
     "name": "stdout",
     "output_type": "stream",
     "text": [
      "Deanna Spingola and Dr. Lorraine Day - Zionism , the Holocaust , Aids and Vaccines YouTube - Deanna Spingola and Dr. Lorraine Day - Zionism , the Holocaust , Aids and Vaccines Listen/watch the full interview @ Deanna Spingola and Dr. Lorraine Day - Zionism , the Holocaust , Aids and Vaccines : Free Download & Streaming : Internet Archive www.DrDay.com www.GoodNewsAboutGod.com\n",
      "['  \"hate_speech_probability\": 0.1,']\n"
     ]
    },
    {
     "name": "stderr",
     "output_type": "stream",
     "text": [
      " 36%|███▌      | 172/478 [11:47<21:11,  4.16s/it]"
     ]
    },
    {
     "name": "stdout",
     "output_type": "stream",
     "text": [
      "It's weird most Indians dot and to an extent feather that I deal with hate blacks more than they do whites and find blacks to be lazy and worthless .\n",
      "{\n",
      "  \"relevant\\_facts\\_from\\_the\\_cultural\\_context\": [\n",
      "    \"The statement was made on a white supremacist forum in the US.\",\n",
      "    \"The speaker expresses negative attitudes towards both Indians and blacks.\",\n",
      "    \"Stereotypes and prejudices about laziness and worthlessness are commonly found in hate speech.\"\n",
      "  ],\n",
      "  \"relevant\\_word\\_definitions\": {\n",
      "    \"Indians\": \"A racial and ethnic group originating from the Indian subcontinent, specifically South Asia.\",\n",
      "    \"blacks\": \"A racial and ethnic group consisting of people who have ancestry from Africa.\"\n",
      "  },\n",
      "  \"contained\\_explicit\\_racist\\_vocabulary\": [],\n",
      "  \"contained\\_explicit\\_sexist\\_vocabulary\": [],\n",
      "  \"contained\\_explicit\\_toxic\\_vocabulary\": [\"weird\", \"deal\", \"find\"],\n",
      "  \"argument\\_for\\_hate\\_speech\": \"The statement expresses negative attitudes towards both Indians and blacks, using stereotypes about laziness and worthlessness, which are common hate speech tropes.\",\n",
      "  \"argument\\_against\\_hate\\_speech\": \"The statement does not contain explicit hate speech or violent threats, and the tone is relatively passive.\",\n",
      "  \"likelihood\\_of\\_presence\\_of\\_implicit\\_hate\\_speech\": 0.8,\n",
      "  \"likelihood\\_of\\_presence\\_of\\_explicit\\_hate\\_speech\": 0.2,\n",
      "  \"likelihood\\_of\\_ad\\_hominin\\_attack\": 0.3,\n",
      "  \"likelihood\\_of\\_minority\\_attack\": 0.6,\n",
      "  \"likelihood\\_of\\_takedown\\_on\\_social\\_media\": 0.5,\n",
      "  \"hate\\_speech\\_probability\": 0.4\n"
     ]
    },
    {
     "name": "stderr",
     "output_type": "stream",
     "text": [
      " 36%|███▌      | 173/478 [11:50<20:37,  4.06s/it]"
     ]
    },
    {
     "name": "stdout",
     "output_type": "stream",
     "text": [
      "That 's to assume the gay ones are n't abusive .\n",
      "['  hate_speech_probability: 0.']\n"
     ]
    },
    {
     "name": "stderr",
     "output_type": "stream",
     "text": [
      " 36%|███▋      | 174/478 [11:54<19:49,  3.91s/it]"
     ]
    },
    {
     "name": "stdout",
     "output_type": "stream",
     "text": [
      "why did god give negroes good rhythm ?? because he messed up their lips , hair , nose and skin so yes they are ugly !!!!!!!!!!!!!!\n",
      "['  \"hate_speech_probability\": 1']\n"
     ]
    },
    {
     "name": "stderr",
     "output_type": "stream",
     "text": [
      " 37%|███▋      | 175/478 [11:59<21:21,  4.23s/it]"
     ]
    },
    {
     "name": "stdout",
     "output_type": "stream",
     "text": [
      "I believe Abraham 's faith was tested by God when he asked him to sacrifice Isaac , the quran falsely claims it was Ishmael .\n",
      "['  \"hate_speech_probability\": 0.1']\n"
     ]
    },
    {
     "name": "stderr",
     "output_type": "stream",
     "text": [
      " 37%|███▋      | 176/478 [12:02<19:41,  3.91s/it]"
     ]
    },
    {
     "name": "stdout",
     "output_type": "stream",
     "text": [
      "I take it you are a little person then .\n",
      "['  \"hate_speech_probability\": 0,']\n"
     ]
    },
    {
     "name": "stderr",
     "output_type": "stream",
     "text": [
      " 37%|███▋      | 177/478 [12:07<20:36,  4.11s/it]"
     ]
    },
    {
     "name": "stdout",
     "output_type": "stream",
     "text": [
      "God forbid anyone should promote straight racially loyal hetrosexuality Diablo\n",
      "['  \"hate_speech_probability\": 0.4,']\n"
     ]
    },
    {
     "name": "stderr",
     "output_type": "stream",
     "text": [
      " 37%|███▋      | 178/478 [12:11<20:32,  4.11s/it]"
     ]
    },
    {
     "name": "stdout",
     "output_type": "stream",
     "text": [
      "I know how you feel BreakTheSilence luckily this is your last year in school and it is almost over otherwise I would say you should look into independent study where you do not have to put up with all the filth that is in the public education system .\n",
      "['  \"hate_speech_probability\": 0.1,']\n"
     ]
    },
    {
     "name": "stderr",
     "output_type": "stream",
     "text": [
      " 37%|███▋      | 179/478 [12:16<22:25,  4.50s/it]"
     ]
    },
    {
     "name": "stdout",
     "output_type": "stream",
     "text": [
      "You could try looking at the National socialist and Fascist Resource Centre at http://www.ufc.co.uk They cover a whole range of educational material .\n",
      "['  \"hate_speech_probability\": 0.2,']\n"
     ]
    },
    {
     "name": "stderr",
     "output_type": "stream",
     "text": [
      " 38%|███▊      | 180/478 [12:20<20:47,  4.19s/it]"
     ]
    },
    {
     "name": "stdout",
     "output_type": "stream",
     "text": [
      "I hear that McDonalds is coming to their aid .\n",
      "['  \"hate_speech_probability\": 0,']\n"
     ]
    },
    {
     "name": "stderr",
     "output_type": "stream",
     "text": [
      " 38%|███▊      | 181/478 [12:24<20:28,  4.14s/it]"
     ]
    },
    {
     "name": "stdout",
     "output_type": "stream",
     "text": [
      "I always thought it would be cool if somebody covertly set off a nuke in Kashmir , and then we all could sit back and watch as the Paki 's and Indians nuke the scheiss out of each other .\n",
      "['  hate_speech_probability: 0.9,']\n"
     ]
    },
    {
     "name": "stderr",
     "output_type": "stream",
     "text": [
      " 38%|███▊      | 182/478 [12:28<20:47,  4.22s/it]"
     ]
    },
    {
     "name": "stdout",
     "output_type": "stream",
     "text": [
      "May they just need to turn these savages loose , justice will take care of itself .\n",
      "['  \"hate_speech_probability\": 0.7,']\n"
     ]
    },
    {
     "name": "stderr",
     "output_type": "stream",
     "text": [
      " 38%|███▊      | 183/478 [12:32<20:39,  4.20s/it]"
     ]
    },
    {
     "name": "stdout",
     "output_type": "stream",
     "text": [
      "Just let Shaniqua leave her kids home to burn the house down while she goes to da club .\n",
      "['  \"hate_speech_probability\": 0.3', 'Note: The statement exists on a spectrum of hate speech, and the final determination would depend on the overall context and intent of the poster. If additional information regarding the context is provided, the hate_speech_probability may change']\n"
     ]
    },
    {
     "name": "stderr",
     "output_type": "stream",
     "text": [
      " 38%|███▊      | 184/478 [12:36<20:19,  4.15s/it]"
     ]
    },
    {
     "name": "stdout",
     "output_type": "stream",
     "text": [
      "They do what they always do take something of someone else 's and make it their own .\n",
      "['  \"hate_speech_probability\": 0.2']\n"
     ]
    },
    {
     "name": "stderr",
     "output_type": "stream",
     "text": [
      " 39%|███▊      | 185/478 [12:41<20:57,  4.29s/it]"
     ]
    },
    {
     "name": "stdout",
     "output_type": "stream",
     "text": [
      "WE GOT MONEY AROUND HERE TOO Compton Crips Pt.1 - YouTube These negroes are in the middle of the street , seems like something of a zoo , playing with their cheap lowriders .\n",
      "['  \"hate_speech_probability\": 0.9']\n"
     ]
    },
    {
     "name": "stderr",
     "output_type": "stream",
     "text": [
      " 39%|███▉      | 186/478 [12:44<19:27,  4.00s/it]"
     ]
    },
    {
     "name": "stdout",
     "output_type": "stream",
     "text": [
      "Most of these videos belong on the Animal Planet tv channel .\n",
      "['  hate_speech_probability: 0,']\n"
     ]
    },
    {
     "name": "stderr",
     "output_type": "stream",
     "text": [
      " 39%|███▉      | 187/478 [12:48<18:40,  3.85s/it]"
     ]
    },
    {
     "name": "stdout",
     "output_type": "stream",
     "text": [
      "Keep Russia free from dark skinned beings !!!! thank you and please forgive me for mistakes .\n",
      "['  \"hate_speech_probability\": 1']\n"
     ]
    },
    {
     "name": "stderr",
     "output_type": "stream",
     "text": [
      " 39%|███▉      | 188/478 [12:51<17:37,  3.65s/it]"
     ]
    },
    {
     "name": "stdout",
     "output_type": "stream",
     "text": [
      "It's people like this that are the face that represents the filth of Islam .\n",
      "['  \"hate_speech_probability\": 0.9']\n"
     ]
    },
    {
     "name": "stderr",
     "output_type": "stream",
     "text": [
      " 40%|███▉      | 189/478 [12:55<17:57,  3.73s/it]"
     ]
    },
    {
     "name": "stdout",
     "output_type": "stream",
     "text": [
      "now that ye mention it he does look a bit like this traveller i knew. i wonder if we gave him a wash would he really be a white guy with red hair ?\n",
      "['  \"hate_speech_probability\": 0.3,']\n"
     ]
    },
    {
     "name": "stderr",
     "output_type": "stream",
     "text": [
      " 40%|███▉      | 190/478 [12:59<18:16,  3.81s/it]"
     ]
    },
    {
     "name": "stdout",
     "output_type": "stream",
     "text": [
      "If we do n't act soon they will bread us out .\n",
      "['  \"hate_speech_probability\": 0.1,']\n"
     ]
    },
    {
     "name": "stderr",
     "output_type": "stream",
     "text": [
      " 40%|███▉      | 191/478 [13:03<18:54,  3.95s/it]"
     ]
    },
    {
     "name": "stdout",
     "output_type": "stream",
     "text": [
      "And meanwhile , Gerry Gerry Dingleberry is trying to kill off future generations of Irish .\n",
      "['  \"hate_speech_probability\": 0.3,']\n"
     ]
    },
    {
     "name": "stderr",
     "output_type": "stream",
     "text": [
      " 40%|████      | 192/478 [13:08<20:14,  4.24s/it]"
     ]
    },
    {
     "name": "stdout",
     "output_type": "stream",
     "text": [
      "I heard from friends in Boston this is true.Blacks will attack an Irish America with a shamrock tattoo.How long before this happens in Ireland ?\n",
      "['  \"hate_speech_probability\": 0.3,']\n"
     ]
    },
    {
     "name": "stderr",
     "output_type": "stream",
     "text": [
      " 40%|████      | 193/478 [13:12<19:21,  4.08s/it]"
     ]
    },
    {
     "name": "stdout",
     "output_type": "stream",
     "text": [
      "Hopefully they will get deportation orders and be on the next flight back to Cairo .\n",
      "['  \"hate_speech_probability\": 0.3']\n"
     ]
    },
    {
     "name": "stderr",
     "output_type": "stream",
     "text": [
      " 41%|████      | 194/478 [13:17<20:40,  4.37s/it]"
     ]
    },
    {
     "name": "stdout",
     "output_type": "stream",
     "text": [
      "When I look at the Zimbawee 's Mugabe , I think `` Ape '' or `` Gorilla '' .\n",
      "['  \"hate_speech_probability\": 0.8']\n"
     ]
    },
    {
     "name": "stderr",
     "output_type": "stream",
     "text": [
      " 41%|████      | 195/478 [13:22<21:46,  4.62s/it]"
     ]
    },
    {
     "name": "stdout",
     "output_type": "stream",
     "text": [
      "the white race will soon be on the brink of being a minority in a few years if nothing is done to stop these vile hordes invading our lands , I for one do not want to live in a city like Bradford or Birmingham where we are outnumbered 2 to 1 or worse\n",
      "['  \"hate_speech_probability\": 0.65,']\n"
     ]
    },
    {
     "name": "stderr",
     "output_type": "stream",
     "text": [
      " 41%|████      | 196/478 [13:28<23:55,  5.09s/it]"
     ]
    },
    {
     "name": "stdout",
     "output_type": "stream",
     "text": [
      "Here's an example of red violence against patriotic St George 's Day marchers and a red site encouraging even more of it the next year . Stop the March for England 2013 ( from Rough Music ) | Brighton Anti-fascists\n",
      "['  \"hate_speech_probability\": 0.2,']\n"
     ]
    },
    {
     "name": "stderr",
     "output_type": "stream",
     "text": [
      " 41%|████      | 197/478 [13:31<21:26,  4.58s/it]"
     ]
    },
    {
     "name": "stdout",
     "output_type": "stream",
     "text": [
      "Thanks to the imported filth that , like our land under its current occupation .\n",
      "['  \"hate_speech_probability\": 0.6']\n"
     ]
    },
    {
     "name": "stderr",
     "output_type": "stream",
     "text": [
      " 41%|████▏     | 198/478 [13:35<20:28,  4.39s/it]"
     ]
    },
    {
     "name": "stdout",
     "output_type": "stream",
     "text": [
      "If her eyes linger ................................... she 's yours .\n",
      "['  \"hate_speech_probability\": 0']\n"
     ]
    },
    {
     "name": "stderr",
     "output_type": "stream",
     "text": [
      " 42%|████▏     | 199/478 [13:40<20:33,  4.42s/it]"
     ]
    },
    {
     "name": "stdout",
     "output_type": "stream",
     "text": [
      "I have decided to take this debate to pm .\n",
      "['  \"hate_speech_probability\": 0.1']\n"
     ]
    },
    {
     "name": "stderr",
     "output_type": "stream",
     "text": [
      " 42%|████▏     | 200/478 [13:44<19:44,  4.26s/it]"
     ]
    },
    {
     "name": "stdout",
     "output_type": "stream",
     "text": [
      "Black and Asian immigrants who are coming in and those who were borne here and their breading patterns are the threat to our gene pool and not other white Europeans such as polish people .\n",
      "['  \"hate_speech_probability\": 0.9,']\n"
     ]
    },
    {
     "name": "stderr",
     "output_type": "stream",
     "text": [
      " 42%|████▏     | 201/478 [13:48<19:01,  4.12s/it]"
     ]
    },
    {
     "name": "stdout",
     "output_type": "stream",
     "text": [
      "Absolutely.\n",
      "['  \"hate_speech_probability\": 0.2,']\n"
     ]
    },
    {
     "name": "stderr",
     "output_type": "stream",
     "text": [
      " 42%|████▏     | 202/478 [13:52<19:54,  4.33s/it]"
     ]
    },
    {
     "name": "stdout",
     "output_type": "stream",
     "text": [
      "I just refer to them as primates as through THEIR evolution process they are just a little bit higher on the evolutionary chain which makes them all the more dangerous to whites , than any of their animalistic cousins .\n",
      "['  \"hate_speech_probability\": 0.5']\n"
     ]
    },
    {
     "name": "stderr",
     "output_type": "stream",
     "text": [
      " 42%|████▏     | 203/478 [13:56<18:48,  4.10s/it]"
     ]
    },
    {
     "name": "stdout",
     "output_type": "stream",
     "text": [
      "This is where their `` I 'm a bad ass , I can do whatever I want '' attitute comes from .\n",
      "['  \"hate_speech_probability\": 0.2,']\n"
     ]
    },
    {
     "name": "stderr",
     "output_type": "stream",
     "text": [
      " 43%|████▎     | 204/478 [14:00<18:35,  4.07s/it]"
     ]
    },
    {
     "name": "stdout",
     "output_type": "stream",
     "text": [
      "Ten to one they have a great father , too .\n",
      "['  \"hate_speech_probability\": 0']\n"
     ]
    },
    {
     "name": "stderr",
     "output_type": "stream",
     "text": [
      " 43%|████▎     | 205/478 [14:05<19:12,  4.22s/it]"
     ]
    },
    {
     "name": "stdout",
     "output_type": "stream",
     "text": [
      "It 's where I discovered so many great people who are fighting for our cause .\n",
      "['  \"hate_speech_probability\": 0,']\n"
     ]
    },
    {
     "name": "stderr",
     "output_type": "stream",
     "text": [
      " 43%|████▎     | 206/478 [14:09<19:50,  4.38s/it]"
     ]
    },
    {
     "name": "stdout",
     "output_type": "stream",
     "text": [
      "I 've taught her to question everything that they teach her .\n",
      "['  \"hate_speech_probability\": 0.1,']\n"
     ]
    },
    {
     "name": "stderr",
     "output_type": "stream",
     "text": [
      " 43%|████▎     | 207/478 [14:14<20:06,  4.45s/it]"
     ]
    },
    {
     "name": "stdout",
     "output_type": "stream",
     "text": [
      "Check out this youtube channel i found , i agree with most of what he says Diversity DESTROYS Social Cohesion in the West - YouTube\n",
      "['  \"hate_speech_probability\": 0.3']\n"
     ]
    },
    {
     "name": "stderr",
     "output_type": "stream",
     "text": [
      " 44%|████▎     | 208/478 [14:19<20:55,  4.65s/it]"
     ]
    },
    {
     "name": "stdout",
     "output_type": "stream",
     "text": [
      "I am sure California is full of sick self hating whites , who think that for the good of all the black brown and yellow peoples of the world , whites need to commit racial suicide and disappear from their face of the earth for their sake and wo n't that be just dandy !\n",
      "['  \"hate_speech_probability\": 0.8']\n"
     ]
    },
    {
     "name": "stderr",
     "output_type": "stream",
     "text": [
      " 44%|████▎     | 209/478 [14:22<18:26,  4.11s/it]"
     ]
    },
    {
     "name": "stdout",
     "output_type": "stream",
     "text": [
      "My father was born in Germany My mother 's parent 's moved from Ireland .\n",
      "['  \"hate_speech_probability\": 0']\n"
     ]
    },
    {
     "name": "stderr",
     "output_type": "stream",
     "text": [
      " 44%|████▍     | 210/478 [14:26<18:49,  4.22s/it]"
     ]
    },
    {
     "name": "stdout",
     "output_type": "stream",
     "text": [
      "I really do hate rap music .\n",
      "['  \"hate_speech_probability\": 0,']\n"
     ]
    },
    {
     "name": "stderr",
     "output_type": "stream",
     "text": [
      " 44%|████▍     | 211/478 [14:30<18:07,  4.07s/it]"
     ]
    },
    {
     "name": "stdout",
     "output_type": "stream",
     "text": [
      "More than that I cringe every time I go to hang out with my friends and they blast this filth in their cars and homes .\n",
      "['  \"hate_speech_probability\": 0.4']\n"
     ]
    },
    {
     "name": "stderr",
     "output_type": "stream",
     "text": [
      " 44%|████▍     | 212/478 [14:34<17:15,  3.89s/it]"
     ]
    },
    {
     "name": "stdout",
     "output_type": "stream",
     "text": [
      "What makes it suck are the Jews that run it and the Blacks that play in it .\n",
      "['  \"hate_speech_probability\": 0.9']\n"
     ]
    },
    {
     "name": "stderr",
     "output_type": "stream",
     "text": [
      " 45%|████▍     | 213/478 [14:39<18:46,  4.25s/it]"
     ]
    },
    {
     "name": "stdout",
     "output_type": "stream",
     "text": [
      "White speech is Hate ....\n",
      "['  \"hate_speech_probability\": 0.5,']\n"
     ]
    },
    {
     "name": "stderr",
     "output_type": "stream",
     "text": [
      " 45%|████▍     | 214/478 [14:42<17:28,  3.97s/it]"
     ]
    },
    {
     "name": "stdout",
     "output_type": "stream",
     "text": [
      "He got what he deserved .\n",
      "['  \"hate_speech_probability\": 0.1,']\n"
     ]
    },
    {
     "name": "stderr",
     "output_type": "stream",
     "text": [
      " 45%|████▍     | 215/478 [14:45<15:51,  3.62s/it]"
     ]
    },
    {
     "name": "stdout",
     "output_type": "stream",
     "text": [
      "It 's a pretty powerful documentary that blew me away .\n",
      "['  \"hate_speech_probability\": 0,']\n"
     ]
    },
    {
     "name": "stderr",
     "output_type": "stream",
     "text": [
      " 45%|████▌     | 216/478 [14:50<17:19,  3.97s/it]"
     ]
    },
    {
     "name": "stdout",
     "output_type": "stream",
     "text": [
      "the kind of perversion that leads to homosexuality also leads to pedophilia. why take the risk , and even if the homosexuals turned out not to be pedophiles why would anyone want a child to live with two perverts .\n",
      "['  \"hate_speech_probability\": 0.8,']\n"
     ]
    },
    {
     "name": "stderr",
     "output_type": "stream",
     "text": [
      " 45%|████▌     | 217/478 [14:53<16:19,  3.75s/it]"
     ]
    },
    {
     "name": "stdout",
     "output_type": "stream",
     "text": [
      "Has anyone claiming this method been able to make even one block like that with wedges water and copper tools ?\n",
      "['  \"hate_speech_probability\": 0']\n"
     ]
    },
    {
     "name": "stderr",
     "output_type": "stream",
     "text": [
      " 46%|████▌     | 218/478 [14:56<15:32,  3.59s/it]"
     ]
    },
    {
     "name": "stdout",
     "output_type": "stream",
     "text": [
      "They probably stole a bunch of stuff .\n",
      "['  \"hate_speech_probability\": 0.2']\n"
     ]
    },
    {
     "name": "stderr",
     "output_type": "stream",
     "text": [
      " 46%|████▌     | 219/478 [15:01<16:40,  3.86s/it]"
     ]
    },
    {
     "name": "stdout",
     "output_type": "stream",
     "text": [
      "damn! at least that sounds more plausable than a stupid sea. maybe look on ebay ??? are u sure there is none left ???\n",
      "['  \"hate_speech_probability\": 0.']\n"
     ]
    },
    {
     "name": "stderr",
     "output_type": "stream",
     "text": [
      " 46%|████▌     | 220/478 [15:05<16:54,  3.93s/it]"
     ]
    },
    {
     "name": "stdout",
     "output_type": "stream",
     "text": [
      "And now this clip suggests they were suffering by having to live among heartless and barbarian Whites .\n",
      "['  \"hate_speech_probability\": 0.4']\n"
     ]
    },
    {
     "name": "stderr",
     "output_type": "stream",
     "text": [
      " 46%|████▌     | 221/478 [15:09<17:35,  4.11s/it]"
     ]
    },
    {
     "name": "stdout",
     "output_type": "stream",
     "text": [
      "the money he is giving away to refugees and the third world is money Canada does not even have !\n",
      "['  hate_speech_probability: 0.1,']\n"
     ]
    },
    {
     "name": "stderr",
     "output_type": "stream",
     "text": [
      " 46%|████▋     | 222/478 [15:13<17:21,  4.07s/it]"
     ]
    },
    {
     "name": "stdout",
     "output_type": "stream",
     "text": [
      "If you want to hear what a black `` intellectual '' ( lol ) sounds like , check out the woman in this video trying to debate Dr. William Shockley .\n",
      "['  hate_speech_probability: 0,']\n"
     ]
    },
    {
     "name": "stderr",
     "output_type": "stream",
     "text": [
      " 47%|████▋     | 223/478 [15:17<16:34,  3.90s/it]"
     ]
    },
    {
     "name": "stdout",
     "output_type": "stream",
     "text": [
      "I read a few things about him awhile back and he is far to the left as so many of them are .\n",
      "{\n",
      "  \"relevant\\_facts\\_from\\_the\\_cultural\\_context\": [\n",
      "    \"The context provided is about an individual being described as 'far to the left'.\",\n",
      "  ],\n",
      "  \"relevant\\_word\\_definitions\": {\n",
      "    \"left\": \"In US political context, refers to political ideologies that advocate for governmental intervention and a stronger social safety net.\",\n",
      "  },\n",
      "  \"contained\\_explicit\\_racist\\_vocabulary\": [],\n",
      "  \"contained\\_explicit\\_sexist\\_vocabulary\": [],\n",
      "  \"contained\\_explicit\\_toxic\\_vocabulary\": [],\n",
      "  \"argument\\_for\\_hate\\_speech\": \"Labeling someone 'far to the left' doesn't inherently contain hate speech.\",\n",
      "  \"argument\\_against\\_hate\\_speech\": \"Political ideologies such as being 'far to the left' are not inherently derogatory or hateful.\",\n",
      "  \"likelihood\\_of\\_presence\\_of\\_implicit\\_hate\\_speech\": 0.0,\n",
      "  \"likelihood\\_of\\_presence\\_of\\_explicit\\_hate\\_speech\": 0.0,\n",
      "  \"likelihood\\_of\\_ad\\_hominin\\_attack\": 0.2,\n",
      "  \"likelihood\\_of\\_minority\\_attack\": 0.0,\n",
      "  \"likelihood\\_of\\_takedown\\_on\\_social\\_media\": 0.1,\n",
      "  \"hate\\_speech\\_probability\": 0.0\n"
     ]
    },
    {
     "name": "stderr",
     "output_type": "stream",
     "text": [
      " 47%|████▋     | 224/478 [15:19<14:32,  3.44s/it]"
     ]
    },
    {
     "name": "stdout",
     "output_type": "stream",
     "text": [
      "I'm sure the negro had it coming .\n",
      "['  \"hate_speech_probability\": 1']\n"
     ]
    },
    {
     "name": "stderr",
     "output_type": "stream",
     "text": [
      " 47%|████▋     | 225/478 [15:22<14:16,  3.39s/it]"
     ]
    },
    {
     "name": "stdout",
     "output_type": "stream",
     "text": [
      "If it 's black , send it back .\n",
      "['  hate_speech_probability: 1,']\n"
     ]
    },
    {
     "name": "stderr",
     "output_type": "stream",
     "text": [
      " 47%|████▋     | 226/478 [15:27<15:45,  3.75s/it]"
     ]
    },
    {
     "name": "stdout",
     "output_type": "stream",
     "text": [
      "I'm heading down to DC to put a sign on the White House gates that will read : ' No savage negro BEASTS in the White House ! '\n",
      "['  \"hate_speech_probability\": 1,']\n"
     ]
    },
    {
     "name": "stderr",
     "output_type": "stream",
     "text": [
      " 47%|████▋     | 227/478 [15:30<15:23,  3.68s/it]"
     ]
    },
    {
     "name": "stdout",
     "output_type": "stream",
     "text": [
      "It has everything to do with RACE .\n",
      "['  \"hate_speech_probability\": 0.5,']\n"
     ]
    },
    {
     "name": "stderr",
     "output_type": "stream",
     "text": [
      " 48%|████▊     | 228/478 [15:36<17:40,  4.24s/it]"
     ]
    },
    {
     "name": "stdout",
     "output_type": "stream",
     "text": [
      "Or make something in the internet against thi injustice some times is hit a global repercussion and can help this .\n",
      "['  \"hate_speech_probability\": 0.6,', 'It is important to note that the given sentence \"blacks are inferior\" is a clear example of racist hate speech, which is not condoned or tolerated in any context. However, it is also important to consider the context in which the sentence was said and the intent of the speaker. In a white supremacist forum, this sentence is likely to be used as a form of hate speech and intended to dehumanize and attack Black people. Therefore, based on the given information, I would classify this sentence as hate speech with a high degree of confidence (hate_speech_probability = 0.6). However, it is always important to consider other factors such as tone, intent, and context to make a fully informed determination']\n"
     ]
    },
    {
     "name": "stderr",
     "output_type": "stream",
     "text": [
      " 48%|████▊     | 229/478 [15:40<17:06,  4.12s/it]"
     ]
    },
    {
     "name": "stdout",
     "output_type": "stream",
     "text": [
      "I know exactly what you 're saying , I just hate to see those worthless apes benefit from the great things that whites do .\n",
      "['  \"hate_speech_probability\": 0.9']\n"
     ]
    },
    {
     "name": "stderr",
     "output_type": "stream",
     "text": [
      " 48%|████▊     | 230/478 [15:44<16:51,  4.08s/it]"
     ]
    },
    {
     "name": "stdout",
     "output_type": "stream",
     "text": [
      "Only a f' n jew would have the nerve to hide away in a black country , a fugitive from US law , while making campaign promises at the same time as suing the company he defrauded .\n",
      "['  \"hate_speech_probability\": 0.9,']\n"
     ]
    },
    {
     "name": "stderr",
     "output_type": "stream",
     "text": [
      " 48%|████▊     | 231/478 [15:47<15:48,  3.84s/it]"
     ]
    },
    {
     "name": "stdout",
     "output_type": "stream",
     "text": [
      "Sardines and anchovies , for example , are basically 100 % safe .\n",
      "['  \"hate_speech_probability\": 0,']\n"
     ]
    },
    {
     "name": "stderr",
     "output_type": "stream",
     "text": [
      " 49%|████▊     | 232/478 [15:50<15:17,  3.73s/it]"
     ]
    },
    {
     "name": "stdout",
     "output_type": "stream",
     "text": [
      "Piece of * * * * deserves to be shot .\n",
      "['  \"hate_speech_probability\": 0.4']\n"
     ]
    },
    {
     "name": "stderr",
     "output_type": "stream",
     "text": [
      " 49%|████▊     | 233/478 [15:55<16:11,  3.96s/it]"
     ]
    },
    {
     "name": "stdout",
     "output_type": "stream",
     "text": [
      "how the hell are they going to integrate into Irish society ? They come from a dirt poor medieval country and have spent the last 3 years living in a refugee camp.what skills are they going to bring here ?\n",
      "['  \"hate_speech_probability\": 0.1,']\n"
     ]
    },
    {
     "name": "stderr",
     "output_type": "stream",
     "text": [
      " 49%|████▉     | 234/478 [15:58<15:29,  3.81s/it]"
     ]
    },
    {
     "name": "stdout",
     "output_type": "stream",
     "text": [
      "After knocking back a few guinness we got pretty hungry and he said he knew a great place to go get some food , i was disgusted when he brought me to a chinese restaurant .\n",
      "['  \"hate_speech_probability\": 0.2']\n"
     ]
    },
    {
     "name": "stderr",
     "output_type": "stream",
     "text": [
      " 49%|████▉     | 235/478 [16:02<15:11,  3.75s/it]"
     ]
    },
    {
     "name": "stdout",
     "output_type": "stream",
     "text": [
      "I noticed a lot of fat little white girls with monkey boyfriends .\n",
      "['  \"hate_speech_probability\": 0.8,']\n"
     ]
    },
    {
     "name": "stderr",
     "output_type": "stream",
     "text": [
      " 49%|████▉     | 236/478 [16:06<15:18,  3.80s/it]"
     ]
    },
    {
     "name": "stdout",
     "output_type": "stream",
     "text": [
      "I' v checked them out but could n't find much but apparently they have presence in Britain .\n",
      "['  \"hate_speech_probability\": 0.1,']\n"
     ]
    },
    {
     "name": "stderr",
     "output_type": "stream",
     "text": [
      " 50%|████▉     | 237/478 [16:09<14:08,  3.52s/it]"
     ]
    },
    {
     "name": "stdout",
     "output_type": "stream",
     "text": [
      "Yes, have you seen the Pancrase tornouments in Japan ?\n",
      "['  \"hate_speech_probability\": 0.']\n"
     ]
    },
    {
     "name": "stderr",
     "output_type": "stream",
     "text": [
      " 50%|████▉     | 238/478 [16:13<14:27,  3.61s/it]"
     ]
    },
    {
     "name": "stdout",
     "output_type": "stream",
     "text": [
      "I want to have 3 children ! 2 girls and 1 boy but the hardest part now is i got to try and find someone to make them with , but so far no luck\n",
      "['  \"hate_speech_probability\": 0.0']\n"
     ]
    },
    {
     "name": "stderr",
     "output_type": "stream",
     "text": [
      " 50%|█████     | 239/478 [16:17<14:47,  3.71s/it]"
     ]
    },
    {
     "name": "stdout",
     "output_type": "stream",
     "text": [
      "Although many have asked us to put it aside in politics , this thread is for all those who see where HATE FITS IN and why WE NEED THE HATE WAVE TO CONTINUE .\n",
      "['  \"hate_speech_probability\": 0.2,']\n"
     ]
    },
    {
     "name": "stderr",
     "output_type": "stream",
     "text": [
      " 50%|█████     | 240/478 [16:20<14:04,  3.55s/it]"
     ]
    },
    {
     "name": "stdout",
     "output_type": "stream",
     "text": [
      "Hi i have not been on here in ages .\n",
      "['  \"hate_speech_probability\": 0,']\n"
     ]
    },
    {
     "name": "stderr",
     "output_type": "stream",
     "text": [
      " 50%|█████     | 241/478 [16:24<14:54,  3.78s/it]"
     ]
    },
    {
     "name": "stdout",
     "output_type": "stream",
     "text": [
      "Most white girls are taught and brainwashed to love black guys , only way is to properly educate them and show them what savages they truly are .\n",
      "{\n",
      "  \"relevant\\_facts\\_from\\_the\\_cultural\\_context\": [\n",
      "    \"Interracial relationships are a sensitive issue in the US, with a complex history of discrimination and prejudice.\",\n",
      "    \"The use of the term 'savages' is associated with a long history of derogatory and racist language used to dehumanize and discriminate against various racial and ethnic groups.\"\n",
      "  ],\n",
      "  \"relevant\\_word\\_definitions\": {\n",
      "    \"brainwashed\": \"To induce someone to believe something, especially something false, through intense and prolonged propaganda or indoctrination.\",\n",
      "    \"savages\": \"A derogatory term used historically to dehumanize and discriminate against people who were regarded as uncivilized or primitive, often racially or ethnically marginalized.\"\n",
      "  },\n",
      "  \"contained\\_explicit\\_racist\\_vocabulary\": [\n",
      "    \"savages\"\n",
      "  ],\n",
      "  \"argument\\_for\\_hate\\_speech\": \"This statement is encouraging the dehumanization and discrimination of black people, using a racist and derogatory term.\",\n",
      "  \"argument\\_against\\_hate\\_speech\": \"The statement is simply expressing an opinion about interracial relationships, and does not explicitly call for harm or violence towards black people.\",\n",
      "  \"likelihood\\_of\\_presence\\_of\\_implicit\\_hate\\_speech\": 0.4,\n",
      "  \"likelihood\\_of\\_presence\\_of\\_explicit\\_hate\\_speech\": 0.8,\n",
      "  \"likelihood\\_of\\_ad\\_hominin\\_attack\": 0,\n",
      "  \"likelihood\\_of\\_minority\\_attack\": 1,\n",
      "  \"likelihood\\_of\\_takedown\\_on\\_social\\_media\": 0.8,\n",
      "  \"hate\\_speech\\_probability\": 0.8\n"
     ]
    },
    {
     "name": "stderr",
     "output_type": "stream",
     "text": [
      " 51%|█████     | 242/478 [16:27<14:07,  3.59s/it]"
     ]
    },
    {
     "name": "stdout",
     "output_type": "stream",
     "text": [
      "And some people say that the Klan is n't doing anything today to make a difference .\n",
      "['  \"hate_speech_probability\": 0.4']\n"
     ]
    },
    {
     "name": "stderr",
     "output_type": "stream",
     "text": [
      " 51%|█████     | 243/478 [16:32<15:59,  4.08s/it]"
     ]
    },
    {
     "name": "stdout",
     "output_type": "stream",
     "text": [
      "About the Chinese , those who remain in their own country are good , those who become illegal immigrants in white nations are bad .\n",
      "['  \"hate_speech_probability\": 0.4,']\n"
     ]
    },
    {
     "name": "stderr",
     "output_type": "stream",
     "text": [
      " 51%|█████     | 244/478 [16:34<13:10,  3.38s/it]"
     ]
    },
    {
     "name": "stdout",
     "output_type": "stream",
     "text": [
      "The majority of them are as stupid as real Negroes .\n",
      "['  \"hate_speech_probability\": 1.0']\n"
     ]
    },
    {
     "name": "stderr",
     "output_type": "stream",
     "text": [
      " 51%|█████▏    | 245/478 [16:40<15:45,  4.06s/it]"
     ]
    },
    {
     "name": "stdout",
     "output_type": "stream",
     "text": [
      "I do not think anyone looks up to white Negroes , just the black ones and then they become wiggers .\n",
      "['  \"hate_speech_probability\": 0.8']\n"
     ]
    },
    {
     "name": "stderr",
     "output_type": "stream",
     "text": [
      " 51%|█████▏    | 246/478 [16:44<15:57,  4.13s/it]"
     ]
    },
    {
     "name": "stdout",
     "output_type": "stream",
     "text": [
      "Africans are tall , thin and lanky and pretty ugly beasts . ... and I 'm just being kind .\n",
      "['  \"hate_speech_probability\": 1.']\n"
     ]
    },
    {
     "name": "stderr",
     "output_type": "stream",
     "text": [
      " 52%|█████▏    | 247/478 [16:48<16:00,  4.16s/it]"
     ]
    },
    {
     "name": "stdout",
     "output_type": "stream",
     "text": [
      "Nearly everything if not all acts that the liberals carry out damage this nation and our people .\n",
      "['  \"hate_speech_probability\": 0.3,']\n"
     ]
    },
    {
     "name": "stderr",
     "output_type": "stream",
     "text": [
      " 52%|█████▏    | 248/478 [16:52<15:07,  3.95s/it]"
     ]
    },
    {
     "name": "stdout",
     "output_type": "stream",
     "text": [
      "Here are the CDs I want to sell : Beethoven : Symphonies Nos. 5 & 7 - Kleiber Beethoven : Symphony No. 9 - Furtwangler Bruckner : Symphony No. 9 - Furtwangler Handel : Music for the Royal Fireworks ; Water Music - Marriner Howard Hanson : Orchestral Works - Schermerhorn J.S. Bach : Great Organ Works - Hurford Norwegian Classical Favorites - Engeset The Best of Baroque Music - Edlinger Twilight of the Gods : The Essential Wagner Collection - Dorati , Karajan , Sinopoli , Bohm , Gerdes , Kubelik Most of these were recommended by fellow Stormfronters .\n",
      "['  hate_speech_probability: 0,']\n"
     ]
    },
    {
     "name": "stderr",
     "output_type": "stream",
     "text": [
      " 52%|█████▏    | 249/478 [16:55<14:31,  3.81s/it]"
     ]
    },
    {
     "name": "stdout",
     "output_type": "stream",
     "text": [
      "The people running SA into the ground , want to wipe them all out .\n",
      "['  \"hate_speech_probability\": 0.4']\n"
     ]
    },
    {
     "name": "stderr",
     "output_type": "stream",
     "text": [
      " 52%|█████▏    | 250/478 [16:59<14:29,  3.81s/it]"
     ]
    },
    {
     "name": "stdout",
     "output_type": "stream",
     "text": [
      "Or just stay the hell away from cheap , crap ar15s when you can get a damn reliable plinker for $ 700 brand new ......\n",
      "['  \"hate_speech_probability\": 0']\n"
     ]
    },
    {
     "name": "stderr",
     "output_type": "stream",
     "text": [
      " 53%|█████▎    | 251/478 [17:04<15:29,  4.09s/it]"
     ]
    },
    {
     "name": "stdout",
     "output_type": "stream",
     "text": [
      "Border fence , what border fence ?\n",
      "['  \"hate_speech_probability\": 0.1,']\n"
     ]
    },
    {
     "name": "stderr",
     "output_type": "stream",
     "text": [
      " 53%|█████▎    | 252/478 [17:07<14:04,  3.74s/it]"
     ]
    },
    {
     "name": "stdout",
     "output_type": "stream",
     "text": [
      "Wasn't there something like a big bang in which a burrito exploded and all the beans flew everywhere and started reproducing exponentially ?\n",
      "['  \"hate_speech_probability\": 0,']\n"
     ]
    },
    {
     "name": "stderr",
     "output_type": "stream",
     "text": [
      " 53%|█████▎    | 253/478 [17:10<13:58,  3.72s/it]"
     ]
    },
    {
     "name": "stdout",
     "output_type": "stream",
     "text": [
      "www.sjca.edu St. John 's College , Santa Fe , N.M.\n",
      "['  \"hate_speech_probability\": 0']\n"
     ]
    },
    {
     "name": "stderr",
     "output_type": "stream",
     "text": [
      " 53%|█████▎    | 254/478 [17:16<15:35,  4.17s/it]"
     ]
    },
    {
     "name": "stdout",
     "output_type": "stream",
     "text": [
      "agreed, there is no reason to make genocide of other races as long as they are in another country and have nothing to do with our affairs !\n",
      "['  \"hate_speech_probability\": 0.3,']\n"
     ]
    },
    {
     "name": "stderr",
     "output_type": "stream",
     "text": [
      " 53%|█████▎    | 255/478 [17:20<15:18,  4.12s/it]"
     ]
    },
    {
     "name": "stdout",
     "output_type": "stream",
     "text": [
      "You are joining a unit that is famous for its great spirit and effectiveness at awakening our kinsmen .\n",
      "['  \"hate_speech_probability\": 0.5,']\n"
     ]
    },
    {
     "name": "stderr",
     "output_type": "stream",
     "text": [
      " 54%|█████▎    | 256/478 [17:24<15:25,  4.17s/it]"
     ]
    },
    {
     "name": "stdout",
     "output_type": "stream",
     "text": [
      "Apparently the Jews ca n't take it when the truth is spoken about them .\n",
      "['  \"hate_speech_probability\": 0.7,']\n"
     ]
    },
    {
     "name": "stderr",
     "output_type": "stream",
     "text": [
      " 54%|█████▍    | 257/478 [17:28<15:43,  4.27s/it]"
     ]
    },
    {
     "name": "stdout",
     "output_type": "stream",
     "text": [
      "See the new thread @ https : //www.stormfront.org/forum/t989503/\n",
      "['  \"hate_speech_probability\": 1.0']\n"
     ]
    },
    {
     "name": "stderr",
     "output_type": "stream",
     "text": [
      " 54%|█████▍    | 258/478 [17:33<16:08,  4.40s/it]"
     ]
    },
    {
     "name": "stdout",
     "output_type": "stream",
     "text": [
      "The media wants to bury the story because they care more about homo killers not getting their sick fetish for young boys fufilled .\n",
      "['  hate_speech_probability: 0.6,']\n"
     ]
    },
    {
     "name": "stderr",
     "output_type": "stream",
     "text": [
      " 54%|█████▍    | 259/478 [17:38<16:11,  4.43s/it]"
     ]
    },
    {
     "name": "stdout",
     "output_type": "stream",
     "text": [
      "Except , of course , for those that pander to the filthy sons and daughters of Satan like ' ol Sandra here .\n",
      "['  \"hate_speech_probability\": 0.3']\n"
     ]
    },
    {
     "name": "stderr",
     "output_type": "stream",
     "text": [
      " 54%|█████▍    | 260/478 [17:42<16:10,  4.45s/it]"
     ]
    },
    {
     "name": "stdout",
     "output_type": "stream",
     "text": [
      "Then we will see who is afraid to leave thier homes after dark or venture into the wrong ' hood .\n",
      "['  \"hate_speech_probability\": 0.4,']\n"
     ]
    },
    {
     "name": "stderr",
     "output_type": "stream",
     "text": [
      " 55%|█████▍    | 261/478 [17:45<14:19,  3.96s/it]"
     ]
    },
    {
     "name": "stdout",
     "output_type": "stream",
     "text": [
      "I mean they intentionally chose this house knowing there were white people living there .\n",
      "['  \"hate_speech_probability\": 0.4']\n"
     ]
    },
    {
     "name": "stderr",
     "output_type": "stream",
     "text": [
      " 55%|█████▍    | 262/478 [17:48<13:41,  3.80s/it]"
     ]
    },
    {
     "name": "stdout",
     "output_type": "stream",
     "text": [
      "Pure .\n",
      "['  \"hate_speech_probability\": 0.4,']\n"
     ]
    },
    {
     "name": "stderr",
     "output_type": "stream",
     "text": [
      " 55%|█████▌    | 263/478 [17:51<12:24,  3.46s/it]"
     ]
    },
    {
     "name": "stdout",
     "output_type": "stream",
     "text": [
      "The islamic disease is even more dangerous than the more obvious black or yellow disease .\n",
      "['  hate_speech_probability: 0.7,']\n"
     ]
    },
    {
     "name": "stderr",
     "output_type": "stream",
     "text": [
      " 55%|█████▌    | 264/478 [17:56<13:50,  3.88s/it]"
     ]
    },
    {
     "name": "stdout",
     "output_type": "stream",
     "text": [
      "2-Year-Old Dies Of Rape , Mammy 's Boonfren ' Charged - NNN Reporters Newsroom Forum Dekalb 2-Year-Old Dead ; Caregiver Charged Police Say Child Was Abused POSTED : 10 : 41 pm EDT October 2 , 2010 UPDATED : 11 : 51 pm EDT October 3 , 2010 Dekalb 2-Year-Old Dead ; Caregiver Charged - DeKalb County Headlines News Story - WGCL Atlanta\n",
      "['\"hate_speech_probability\": 0.1']\n"
     ]
    },
    {
     "name": "stderr",
     "output_type": "stream",
     "text": [
      " 55%|█████▌    | 265/478 [17:59<12:59,  3.66s/it]"
     ]
    },
    {
     "name": "stdout",
     "output_type": "stream",
     "text": [
      "They will kill there own just as fast as they would kill there enemy .\n",
      "{\n",
      "  \"relevant\\_facts\\_from\\_the\\_cultural\\_context\": [],\n",
      "  \"relevant\\_word\\_definitions\": {},\n",
      "  \"contained\\_explicit\\_racist\\_vocabulary\": [],\n",
      "  \"contained\\_explicit\\_sexist\\_vocabulary\": [],\n",
      "  \"contained\\_explicit\\_toxic\\_vocabulary\": [\"will\"],\n",
      "  \"argument\\_for\\_hate\\_speech\": \"The statement suggests a generalization and lack of inherent value for human life, which could be used as a pretext to incite hatred against certain groups.\",\n",
      "  \"argument\\_against\\_hate\\_speech\": \"The statement does not explicitly target any specific group, and it could be applied to various situations and groups.\",\n",
      "  \"likelihood\\_of\\_presence\\_of\\_implicit\\_hate\\_speech\": 0.3,\n",
      "  \"likelihood\\_of\\_presence\\_of\\_explicit\\_hate\\_speech\": 0.1,\n",
      "  \"likelihood\\_of\\_ad\\_hominin\\_attack\": 0.2,\n",
      "  \"likelihood\\_of\\_minority\\_attack\": 0,\n",
      "  \"likelihood\\_of\\_takedown\\_on\\_social\\_media\": 0.4,\n",
      "  \"hate\\_speech\\_probability\": 0.3\n"
     ]
    },
    {
     "name": "stderr",
     "output_type": "stream",
     "text": [
      " 56%|█████▌    | 266/478 [18:03<13:23,  3.79s/it]"
     ]
    },
    {
     "name": "stdout",
     "output_type": "stream",
     "text": [
      "Now, young man !\n",
      "['  \"hate_speech_probability\": 0.05,']\n"
     ]
    },
    {
     "name": "stderr",
     "output_type": "stream",
     "text": [
      " 56%|█████▌    | 267/478 [18:07<13:18,  3.79s/it]"
     ]
    },
    {
     "name": "stdout",
     "output_type": "stream",
     "text": [
      "Interesting article about what to do with these evil persons who keep telling the truth and who don ´ t want to surrender ( in Danish )\n",
      "['  hate_speech_probability: 0.1,']\n"
     ]
    },
    {
     "name": "stderr",
     "output_type": "stream",
     "text": [
      " 56%|█████▌    | 268/478 [18:13<16:02,  4.58s/it]"
     ]
    },
    {
     "name": "stdout",
     "output_type": "stream",
     "text": [
      "Israel arrests him i bet Lentin and co are very happy.All students looking in see what scum the Jews are.Details here www.normanfinkelstein.com\n",
      "['  hate_speech_probability: 0.8']\n"
     ]
    },
    {
     "name": "stderr",
     "output_type": "stream",
     "text": [
      " 56%|█████▋    | 269/478 [18:17<15:08,  4.35s/it]"
     ]
    },
    {
     "name": "stdout",
     "output_type": "stream",
     "text": [
      "You got that right in one go.Lets hope he gets well soon and on his way home If you do n't have these apes in your great Country then count your blessings\n",
      "{\n",
      "  \"relevant\\_facts\\_from\\_the\\_cultural\\_context\": [\n",
      "    \"This statement was made on a white supremacist forum in the US.\",\n",
      "    \"The term 'apes' is often used as a derogatory term for Black people in hate speech.\"\n",
      "  ],\n",
      "  \"relevant\\_word\\_definitions\": {\n",
      "    \"apes\": \"A term that has been historically used as a derogatory and dehumanizing term to refer to Black people.\",\n",
      "    \"blessings\": \"Favors or advantages.\"\n",
      "  },\n",
      "  \"contained\\_explicit\\_racist\\_vocabulary\": [\n",
      "    \"apes\"\n",
      "  ],\n",
      "  \"argument\\_for\\_hate\\_speech\": \"The use of the term 'apes' is a racist slur and a direct reference to the belief that Black people are not fully human.\",\n",
      "  \"argument\\_against\\_hate\\_speech\": \"The speaker might argue that they were using the term metaphorically and did not mean to refer to actual Black people as apes.\",\n",
      "  \"likelihood\\_of\\_presence\\_of\\_implicit\\_hate\\_speech\": 0.3,\n",
      "  \"likelihood\\_of\\_presence\\_of\\_explicit\\_hate\\_speech\": 0.9,\n",
      "  \"likelihood\\_of\\_ad\\_hominin\\_attack\": 0.2,\n",
      "  \"likelihood\\_of\\_minority\\_attack\": 1.0,\n",
      "  \"likelihood\\_of\\_takedown\\_on\\_social\\_media\": 0.8,\n",
      "  \"hate\\_speech\\_probability\": 0.9,\n"
     ]
    },
    {
     "name": "stderr",
     "output_type": "stream",
     "text": [
      " 56%|█████▋    | 270/478 [18:21<14:27,  4.17s/it]"
     ]
    },
    {
     "name": "stdout",
     "output_type": "stream",
     "text": [
      "nice to see another maritimer , the south shore is a beautiful place , i ride down that way a lot on my harley , i live in the annapolis valley .\n",
      "['  \"hate_speech_probability\": 0']\n"
     ]
    },
    {
     "name": "stderr",
     "output_type": "stream",
     "text": [
      " 57%|█████▋    | 271/478 [18:25<14:33,  4.22s/it]"
     ]
    },
    {
     "name": "stdout",
     "output_type": "stream",
     "text": [
      "i used to post on here a few years back as kruger but for some reason i cant register with that name so here goes with the new one 88 to all i know and to those i will meet\n",
      "['  \"hate_speech_probability\": 0.8']\n"
     ]
    },
    {
     "name": "stderr",
     "output_type": "stream",
     "text": [
      " 57%|█████▋    | 272/478 [18:29<14:22,  4.19s/it]"
     ]
    },
    {
     "name": "stdout",
     "output_type": "stream",
     "text": [
      "I was trying to find out if the Egyptians were white or not and my search brought me to a thread on this site .\n",
      "['  \"hate_speech_probability\": 0.4,']\n"
     ]
    },
    {
     "name": "stderr",
     "output_type": "stream",
     "text": [
      " 57%|█████▋    | 273/478 [18:32<13:02,  3.82s/it]"
     ]
    },
    {
     "name": "stdout",
     "output_type": "stream",
     "text": [
      "Lets keep it that way and not destroy it Check out this ice cave in Dobšiná Its frigging cold in there\n",
      "{\n",
      "  \"relevant\\_facts\\_from\\_the\\_cultural\\_context\": [],\n",
      "  \"relevant\\_word\\_definitions\": {},\n",
      "  \"contained\\_explicit\\_racist\\_vocabulary\": [],\n",
      "  \"contained\\_explicit\\_sexist\\_vocabulary\": [],\n",
      "  \"contained\\_explicit\\_toxic\\_vocabulary\": [],\n",
      "  \"argument\\_for\\_hate\\_speech\": \"There is no hate speech in the given text. It is a statement about the temperature in an ice cave.\",\n",
      "  \"argument\\_against\\_hate\\_speech\": \"\",\n",
      "  \"likelihood\\_of\\_presence\\_of\\_implicit\\_hate\\_speech\": 0,\n",
      "  \"likelihood\\_of\\_presence\\_of\\_explicit\\_hate\\_speech\": 0,\n",
      "  \"likelihood\\_of\\_ad\\_hominin\\_attack\": 0,\n",
      "  \"likelihood\\_of\\_minority\\_attack\": 0,\n",
      "  \"likelihood\\_of\\_takedown\\_on\\_social\\_media\": 0,\n",
      "  \"hate\\_speech\\_probability\": 0\n"
     ]
    },
    {
     "name": "stderr",
     "output_type": "stream",
     "text": [
      " 57%|█████▋    | 274/478 [18:37<13:41,  4.03s/it]"
     ]
    },
    {
     "name": "stdout",
     "output_type": "stream",
     "text": [
      "If I was Ukrainian , I 'd sign a pact with devil himself to get rid of jewdo-islam Putinistan AKA Russian Federation ....\n",
      "{\n",
      "  \"relevant\\_facts\\_from\\_the\\_cultural\\_context\": [\n",
      "    \"This statement was made on a US forum by an individual expressing frustration towards the Russian Federation and its leader, Vladimir Putin.\"\n",
      "  ],\n",
      "  \"relevant\\_word\\_definitions\": {\n",
      "    \"Ukrainian\": \"a person or a national of Ukraine.,\",\n",
      "    \"pact\": \"an agreement between two or more parties.,\",\n",
      "    \"devil\": \"a supernatural being represented as the personification of evil.\",\n",
      "    \"himself\": \"the person speaking.\",\n",
      "    \"jewdo-islam\": \"a derogatory term not recognized in the cultural context.\",\n",
      "    \"Putinistan\": \"a derogatory term for Russia, not recognized in the cultural context.\",\n",
      "    \"Russian Federation\": \"the official name of the country.\"\n",
      "  },\n",
      "  \"contained\\_explicit\\_racist\\_vocabulary\": [],\n",
      "  \"contained\\_explicit\\_sexist\\_vocabulary\": [],\n",
      "  \"contained\\_explicit\\_toxic\\_vocabulary\": [\"devil\"],\n",
      "  \"argument\\_for\\_hate\\_speech\": \"The person expresses a desire to make a deal with the devil to get rid of Jews, Islam, and Russia, using derogatory terms that are not recognized in the cultural context.\",\n",
      "  \"argument\\_against\\_hate\\_speech\": \"The statement is a figurative expression of extreme frustration, and it does not have an explicitly racist, sexist, or toxic intention. The derogatory terms used are not specifically aimed at any particular group.\",\n",
      "  \"likelihood\\_of\\_presence\\_of\\_implicit\\_hate\\_speech\": 0.1,\n",
      "  \"likelihood\\_of\\_presence\\_of\\_explicit\\_hate\\_speech\": 0.2,\n",
      "  \"likelihood\\_of\\_ad\\_hominin\\_attack\": 0.3,\n",
      "  \"likelihood\\_of\\_minority\\_attack\": 0.0,\n",
      "  \"likelihood\\_of\\_takedown\\_on\\_social\\_media\": 0.5,\n",
      "  \"hate\\_speech\\_probability\": 0.2,\n"
     ]
    },
    {
     "name": "stderr",
     "output_type": "stream",
     "text": [
      " 58%|█████▊    | 275/478 [18:40<12:50,  3.80s/it]"
     ]
    },
    {
     "name": "stdout",
     "output_type": "stream",
     "text": [
      "saysay.jpg say say with a candle 2.jpg This is my nearly 3 year old cat called Say-Say .\n",
      "['  \"hate_speech_probability\": 0']\n"
     ]
    },
    {
     "name": "stderr",
     "output_type": "stream",
     "text": [
      " 58%|█████▊    | 276/478 [18:44<12:34,  3.73s/it]"
     ]
    },
    {
     "name": "stdout",
     "output_type": "stream",
     "text": [
      "The ability to run really quietly and lots of chloroform .\n",
      "['  \"hate_speech_probability\": 0.1,']\n"
     ]
    },
    {
     "name": "stderr",
     "output_type": "stream",
     "text": [
      " 58%|█████▊    | 277/478 [18:47<11:52,  3.55s/it]"
     ]
    },
    {
     "name": "stdout",
     "output_type": "stream",
     "text": [
      "hey whats up i 'm new on here and i would like to have someone to talk to so hit me back for whatever\n",
      "['  \"hate_speech_probability\": 0']\n"
     ]
    },
    {
     "name": "stderr",
     "output_type": "stream",
     "text": [
      " 58%|█████▊    | 278/478 [18:50<11:06,  3.33s/it]"
     ]
    },
    {
     "name": "stdout",
     "output_type": "stream",
     "text": [
      "hi read your post and my name is james from australia , and would like to well write to such a pleasent person as yourself have a nice day !\n",
      "['  \"hate_speech_probability\": 0']\n"
     ]
    },
    {
     "name": "stderr",
     "output_type": "stream",
     "text": [
      " 58%|█████▊    | 279/478 [18:53<11:06,  3.35s/it]"
     ]
    },
    {
     "name": "stdout",
     "output_type": "stream",
     "text": [
      "There have been more people coming on this board that live in the central Wisconsin area since I have started coming on here .\n",
      "['  \"hate_speech_probability\": 0.1']\n"
     ]
    },
    {
     "name": "stderr",
     "output_type": "stream",
     "text": [
      " 59%|█████▊    | 280/478 [18:57<11:58,  3.63s/it]"
     ]
    },
    {
     "name": "stdout",
     "output_type": "stream",
     "text": [
      "Sadly, I think the government would step in if we tried to stop the lesser races from moving into our land .\n",
      "['  \"hate_speech_probability\": 0.8']\n"
     ]
    },
    {
     "name": "stderr",
     "output_type": "stream",
     "text": [
      " 59%|█████▉    | 281/478 [19:01<11:52,  3.62s/it]"
     ]
    },
    {
     "name": "stdout",
     "output_type": "stream",
     "text": [
      "Actually Monkeys and Apes are more noble creatures and rarely act violent it really is unfare to the Monkeys and Apes to be compared with subhuman Negroids who are by contrast very murderous .\n",
      "{\n",
      "  \"relevant\\_facts\\_from\\_the\\_cultural\\_context\": [\n",
      "    \"Historically, racial stereotypes have compared certain racial groups to monkeys or apes with derogatory intent.\",\n",
      "    \"The use of this comparison is often considered racist and dehumanizing towards the targeted racial group.\",\n",
      "  ],\n",
      "  \"relevant\\_word\\_definitions\": {\n",
      "    \"Negroids\": \"A racial term that is commonly considered derogatory and offensive.\",\n",
      "  },\n",
      "  \"contained\\_explicit\\_racist\\_vocabulary\": [\"Negroids\"],\n",
      "  \"argument\\_for\\_hate\\_speech\": \"The statement explicitly targets a racial group using a derogatory term and makes a comparison that has historically been used in a racist and dehumanizing context.\",\n",
      "  \"argument\\_against\\_hate\\_speech\": \"The statement does not contain any direct threats of violence or intend to incite harm towards monkeys or apes.\",\n",
      "  \"likelihood\\_of\\_presence\\_of\\_implicit\\_hate\\_speech\": 0.3,\n",
      "  \"likelihood\\_of\\_presence\\_of\\_explicit\\_hate\\_speech\": 0.9,\n",
      "  \"likelihood\\_of\\_ad\\_hominin\\_attack\": 0,\n",
      "  \"likelihood\\_of\\_minority\\_attack\": 1,\n",
      "  \"likelihood\\_of\\_takedown\\_on\\_social\\_media\": 0.9,\n",
      "  \"hate\\_speech\\_probability\": 0.9,\n"
     ]
    },
    {
     "name": "stderr",
     "output_type": "stream",
     "text": [
      " 59%|█████▉    | 282/478 [19:05<11:57,  3.66s/it]"
     ]
    },
    {
     "name": "stdout",
     "output_type": "stream",
     "text": [
      "Hopefully they will leave YT alone and just deal with the Nigerians when they start chimping out in the streets .\n",
      "['  hate_speech_probability: 0.9']\n"
     ]
    },
    {
     "name": "stderr",
     "output_type": "stream",
     "text": [
      " 59%|█████▉    | 283/478 [19:08<11:32,  3.55s/it]"
     ]
    },
    {
     "name": "stdout",
     "output_type": "stream",
     "text": [
      "Why not just kick out all those Africans ?\n",
      "['  \"hate_speech_probability\": 0.65']\n"
     ]
    },
    {
     "name": "stderr",
     "output_type": "stream",
     "text": [
      " 59%|█████▉    | 284/478 [19:13<12:24,  3.84s/it]"
     ]
    },
    {
     "name": "stdout",
     "output_type": "stream",
     "text": [
      "Then we can all live in a global utopia with the Jew running the show - cant wait Nothing short of a brain transplant is going to raise a Negroes IQ .\n",
      "['  \"hate_speech_probability\": 1,']\n"
     ]
    },
    {
     "name": "stderr",
     "output_type": "stream",
     "text": [
      " 60%|█████▉    | 285/478 [19:16<12:01,  3.74s/it]"
     ]
    },
    {
     "name": "stdout",
     "output_type": "stream",
     "text": [
      "In all likelyhood , it 's jews painting the road of skank for her to follow .\n",
      "['  \"hate_speech_probability\": 0.8']\n"
     ]
    },
    {
     "name": "stderr",
     "output_type": "stream",
     "text": [
      " 60%|█████▉    | 286/478 [19:20<12:23,  3.87s/it]"
     ]
    },
    {
     "name": "stdout",
     "output_type": "stream",
     "text": [
      "We knew that these structures were built by sub-saharan blacks in the same way we knew that the civilization Greek and Romanian built by white Europeans .\n",
      "['  \"hate_speech_probability\": 0.2']\n"
     ]
    },
    {
     "name": "stderr",
     "output_type": "stream",
     "text": [
      " 60%|██████    | 287/478 [19:25<13:09,  4.13s/it]"
     ]
    },
    {
     "name": "stdout",
     "output_type": "stream",
     "text": [
      "Thanks for coming\n",
      "['  \"hate_speech_probability\": 0.4']\n"
     ]
    },
    {
     "name": "stderr",
     "output_type": "stream",
     "text": [
      " 60%|██████    | 288/478 [19:28<11:56,  3.77s/it]"
     ]
    },
    {
     "name": "stdout",
     "output_type": "stream",
     "text": [
      "I live in a suburban area with an old spring fed lake that always has water in it .\n",
      "['  \"hate_speech_probability\": 0.']\n"
     ]
    },
    {
     "name": "stderr",
     "output_type": "stream",
     "text": [
      " 60%|██████    | 289/478 [19:33<12:46,  4.06s/it]"
     ]
    },
    {
     "name": "stdout",
     "output_type": "stream",
     "text": [
      "And theres a good chance these children will end up race mixing back into the white gene pool , mongrelizing our race .\n",
      "['  \"hate_speech_probability\": 0.8,']\n"
     ]
    },
    {
     "name": "stderr",
     "output_type": "stream",
     "text": [
      " 61%|██████    | 290/478 [19:37<13:13,  4.22s/it]"
     ]
    },
    {
     "name": "stdout",
     "output_type": "stream",
     "text": [
      "If Canada was small the nonwhites would be everywhere but so many whites live rurally or in small towns so they do n't see the racial disaster unfolding on Canada .\n",
      "['  hate_speech_probability: 0.3,']\n"
     ]
    },
    {
     "name": "stderr",
     "output_type": "stream",
     "text": [
      " 61%|██████    | 291/478 [19:42<13:31,  4.34s/it]"
     ]
    },
    {
     "name": "stdout",
     "output_type": "stream",
     "text": [
      "some times Whites are forced to live around a lot of blacks .\n",
      "['  \"hate_speech_probability\": 0.3']\n"
     ]
    },
    {
     "name": "stderr",
     "output_type": "stream",
     "text": [
      " 61%|██████    | 292/478 [19:46<12:50,  4.14s/it]"
     ]
    },
    {
     "name": "stdout",
     "output_type": "stream",
     "text": [
      "Hi Im tv free do n't have kids yet reading mending , sewing , menting board games radio study extra curricula actives Good on you for planning a FREE jewv existence\n",
      "['  \"hate_speech_probability\": 0.1.']\n"
     ]
    },
    {
     "name": "stderr",
     "output_type": "stream",
     "text": [
      " 61%|██████▏   | 293/478 [19:49<12:20,  4.00s/it]"
     ]
    },
    {
     "name": "stdout",
     "output_type": "stream",
     "text": [
      "They laugh at whites who obey the law , bother to get married , women who are chaste .\n",
      "['  \"hate_speech_probability\": 0.4']\n"
     ]
    },
    {
     "name": "stderr",
     "output_type": "stream",
     "text": [
      " 62%|██████▏   | 294/478 [19:54<13:00,  4.24s/it]"
     ]
    },
    {
     "name": "stdout",
     "output_type": "stream",
     "text": [
      "They have properly learnt their Zionist lesson ...\n",
      "['  \"hate_speech_probability\": 0.3,']\n"
     ]
    },
    {
     "name": "stderr",
     "output_type": "stream",
     "text": [
      " 62%|██████▏   | 295/478 [19:58<12:38,  4.14s/it]"
     ]
    },
    {
     "name": "stdout",
     "output_type": "stream",
     "text": [
      "great posts. see how the media has been lying to us for decades about what actually happened and what it was actually all about .\n",
      "['  \"hate_speech_probability\": 0.2,']\n"
     ]
    },
    {
     "name": "stderr",
     "output_type": "stream",
     "text": [
      " 62%|██████▏   | 296/478 [20:02<12:30,  4.12s/it]"
     ]
    },
    {
     "name": "stdout",
     "output_type": "stream",
     "text": [
      "you gotta stand up for yourself you cant just sit back and take their * * * * but on the other hand you cant go out looking for it either but if it comes down to a fight dont back down\n",
      "{\n",
      "  \"relevant_facts_from_the_cultural_context\": [\n",
      "    \"In the USA, people have the right to defend themselves, but this does not extend to actively seeking out conflict.\",\n",
      "    \"The use of derogatory language, even in the context of self-defense, can be interpreted as hate speech.\"\n",
      "  ],\n",
      "  \"relevant_word_definitions\": {},\n",
      "  \"contained_explicit_racist_vocabulary\": [],\n",
      "  \"contained_explicit_sexist_vocabulary\": [],\n",
      "  \"contained_explicit_toxic_vocabulary\": [\"* * * *\"],\n",
      "  \"argument_for_hate_speech\": \"The use of the word 'their * * * *' in this context is derogatory and potentially hateful, especially when used in the context of a fight.\",\n",
      "  \"argument_against_hate_speech\": \"The statement is not specifically targeting a racial, ethnic, or gender group, but rather encouraging self-defense.\",\n",
      "  \"likelihood_of_presence_of_implicit_hate_speech\": 0.3,\n",
      "  \"likelihood_of_presence_of_explicit_hate_speech\": 0.1,\n",
      "  \"likelihood_of_ad_hominin_attack\": 0.2,\n",
      "  \"likelihood_of_minority_attack\": 0,\n",
      "  \"likelihood_of_takedown_on_social_media\": 0.5,\n",
      "  \"hate\\_speech\\_probability\": 0.3\n",
      "}\n",
      "\n",
      "Note: The likelihood of a takedown on social media is relatively high due to the use of the derogatory word, but the overall probability of hate speech remains relatively low\n"
     ]
    },
    {
     "name": "stderr",
     "output_type": "stream",
     "text": [
      " 62%|██████▏   | 297/478 [20:07<13:21,  4.43s/it]"
     ]
    },
    {
     "name": "stdout",
     "output_type": "stream",
     "text": [
      "American Media appears to have a blackout on these developments .\n",
      "['  \"hate_speech_probability\": 0.1']\n"
     ]
    },
    {
     "name": "stderr",
     "output_type": "stream",
     "text": [
      " 62%|██████▏   | 298/478 [20:11<12:25,  4.14s/it]"
     ]
    },
    {
     "name": "stdout",
     "output_type": "stream",
     "text": [
      "What did those poor monkeys ever do to you ?\n",
      "['  \"hate_speech_probability\": 0.']\n"
     ]
    },
    {
     "name": "stderr",
     "output_type": "stream",
     "text": [
      " 63%|██████▎   | 299/478 [20:16<13:12,  4.43s/it]"
     ]
    },
    {
     "name": "stdout",
     "output_type": "stream",
     "text": [
      "A public execution for these animals would go a LONG way to point to justice being done ; it would never bring the girl back ; but I guarantee it would send a message ............................\n",
      "['  hate_speech_probability: 0.2']\n"
     ]
    },
    {
     "name": "stderr",
     "output_type": "stream",
     "text": [
      " 63%|██████▎   | 300/478 [20:19<12:14,  4.13s/it]"
     ]
    },
    {
     "name": "stdout",
     "output_type": "stream",
     "text": [
      "God please bless with wisdom the judge and jury against this group of thugs that they all might be hanged .\n",
      "['  hate_speech_probability: 0.8.']\n"
     ]
    },
    {
     "name": "stderr",
     "output_type": "stream",
     "text": [
      " 63%|██████▎   | 301/478 [20:25<13:44,  4.66s/it]"
     ]
    },
    {
     "name": "stdout",
     "output_type": "stream",
     "text": [
      "It almost reads like something out of a science fiction novel .\n",
      "['  \"hate_speech_probability\": 0.2,']\n"
     ]
    },
    {
     "name": "stderr",
     "output_type": "stream",
     "text": [
      " 63%|██████▎   | 302/478 [20:29<12:49,  4.37s/it]"
     ]
    },
    {
     "name": "stdout",
     "output_type": "stream",
     "text": [
      "Only scored a 120 .\n",
      "['  \"hate_speech_probability\": 0.2,']\n"
     ]
    },
    {
     "name": "stderr",
     "output_type": "stream",
     "text": [
      " 63%|██████▎   | 303/478 [20:32<11:53,  4.08s/it]"
     ]
    },
    {
     "name": "stdout",
     "output_type": "stream",
     "text": [
      "She was tortured and mutilated .\n",
      "['  \"hate_speech_probability\": 0.3.']\n"
     ]
    },
    {
     "name": "stderr",
     "output_type": "stream",
     "text": [
      " 64%|██████▎   | 304/478 [20:37<12:29,  4.31s/it]"
     ]
    },
    {
     "name": "stdout",
     "output_type": "stream",
     "text": [
      "- `` Something about black '' and the old favorite `` Once you go black you never go back ''\n",
      "['  \"hate_speech_probability\": 0.8,']\n"
     ]
    },
    {
     "name": "stderr",
     "output_type": "stream",
     "text": [
      " 64%|██████▍   | 305/478 [20:41<11:46,  4.08s/it]"
     ]
    },
    {
     "name": "stdout",
     "output_type": "stream",
     "text": [
      "The brutality of his crime and his lack of remorse made Jackson the `` model candidate for death in the gas house , '' one columnist wrote after his death sentence was upheld by the state 's highest court .\n",
      "['  \"hate_speech_probability\": 0.1']\n"
     ]
    },
    {
     "name": "stderr",
     "output_type": "stream",
     "text": [
      " 64%|██████▍   | 306/478 [20:45<11:44,  4.10s/it]"
     ]
    },
    {
     "name": "stdout",
     "output_type": "stream",
     "text": [
      "I caught this on youtube , I 'm sure someone has posted this at some point on here but it deserves reiteration .\n",
      "['\"hate_speech_probability\": 0.2,']\n"
     ]
    },
    {
     "name": "stderr",
     "output_type": "stream",
     "text": [
      " 64%|██████▍   | 307/478 [20:48<11:28,  4.03s/it]"
     ]
    },
    {
     "name": "stdout",
     "output_type": "stream",
     "text": [
      "Servents/maids , workers of some type ?\n",
      "['  \"hate_speech_probability\": 0.2']\n"
     ]
    },
    {
     "name": "stderr",
     "output_type": "stream",
     "text": [
      " 64%|██████▍   | 308/478 [20:55<13:22,  4.72s/it]"
     ]
    },
    {
     "name": "stdout",
     "output_type": "stream",
     "text": [
      "On a short holiday , Go back and do something about your own country and stop putting crap on our doorstep !\n",
      "['  hate_speech_probability: 0.3,']\n"
     ]
    },
    {
     "name": "stderr",
     "output_type": "stream",
     "text": [
      " 65%|██████▍   | 309/478 [20:59<12:25,  4.41s/it]"
     ]
    },
    {
     "name": "stdout",
     "output_type": "stream",
     "text": [
      "Hey, do you think we are going to get into a fight between European countries about who all are going to get those Guantanamo prisoners ?\n",
      "['  \"hate_speech_probability\": 0']\n"
     ]
    },
    {
     "name": "stderr",
     "output_type": "stream",
     "text": [
      " 65%|██████▍   | 310/478 [21:03<12:32,  4.48s/it]"
     ]
    },
    {
     "name": "stdout",
     "output_type": "stream",
     "text": [
      "An Irish prison is like a luxury hotel where they come and thats even if they get sent to prison and thats if they get do n't flee the country and thats if they get caught doing the crime ... so crime does pay in Ireland .\n",
      "['  \"hate_speech_probability\": 0.']\n"
     ]
    },
    {
     "name": "stderr",
     "output_type": "stream",
     "text": [
      " 65%|██████▌   | 311/478 [21:07<11:36,  4.17s/it]"
     ]
    },
    {
     "name": "stdout",
     "output_type": "stream",
     "text": [
      "You can stop this by getting a dead pig and bury it underground where the mosque will be built .\n",
      "['  hate_speech_probability: 0.8,']\n"
     ]
    },
    {
     "name": "stderr",
     "output_type": "stream",
     "text": [
      " 65%|██████▌   | 312/478 [21:11<11:43,  4.24s/it]"
     ]
    },
    {
     "name": "stdout",
     "output_type": "stream",
     "text": [
      "Our country is being over run and people let it happen just because the political issue here seens to take over the racial one .\n",
      "['  \"hate_speech_probability\": 0.1,']\n"
     ]
    },
    {
     "name": "stderr",
     "output_type": "stream",
     "text": [
      " 65%|██████▌   | 313/478 [21:15<11:27,  4.17s/it]"
     ]
    },
    {
     "name": "stdout",
     "output_type": "stream",
     "text": [
      "Lions , Tigers , Cheetahs , etc are all cats but they ai n't the same .\n",
      "['  \"hate_speech_probability\": 0']\n"
     ]
    },
    {
     "name": "stderr",
     "output_type": "stream",
     "text": [
      " 66%|██████▌   | 314/478 [21:18<10:49,  3.96s/it]"
     ]
    },
    {
     "name": "stdout",
     "output_type": "stream",
     "text": [
      "Its about time we as a nation take matters into our own hands , over throw the government stop the white genocide deport all immigrants and establish a government to help indigenous white Britons rebuild this country .\n",
      "['  \"hate_speech_probability\": 0.8']\n"
     ]
    },
    {
     "name": "stderr",
     "output_type": "stream",
     "text": [
      " 66%|██████▌   | 315/478 [21:22<10:22,  3.82s/it]"
     ]
    },
    {
     "name": "stdout",
     "output_type": "stream",
     "text": [
      "I've tried to meet for coffee with a few people but everybody is really spread out , it 's tough to find the time to go out and meet like minded people .\n",
      "['  \"hate_speech_probability\": 0']\n"
     ]
    },
    {
     "name": "stderr",
     "output_type": "stream",
     "text": [
      " 66%|██████▌   | 316/478 [21:26<10:11,  3.78s/it]"
     ]
    },
    {
     "name": "stdout",
     "output_type": "stream",
     "text": [
      "I have a dominant personality and I look for the same thing in girls .\n",
      "['  \"hate_speech_probability\": 0,']\n"
     ]
    },
    {
     "name": "stderr",
     "output_type": "stream",
     "text": [
      " 66%|██████▋   | 317/478 [21:31<11:13,  4.18s/it]"
     ]
    },
    {
     "name": "stdout",
     "output_type": "stream",
     "text": [
      "Someone Please Tell me what can be done or which people to tell that the Mexicans and or other hispanics here are undercutting price quotes on Good working People .\n",
      "['  \"hate_speech_probability\": 0.4,']\n"
     ]
    },
    {
     "name": "stderr",
     "output_type": "stream",
     "text": [
      " 67%|██████▋   | 318/478 [21:34<10:35,  3.97s/it]"
     ]
    },
    {
     "name": "stdout",
     "output_type": "stream",
     "text": [
      "I do n't go line dancing but I listen to country and want to live on a ranch or farm\n",
      "['  hate_speech_probability: 0']\n"
     ]
    },
    {
     "name": "stderr",
     "output_type": "stream",
     "text": [
      " 67%|██████▋   | 319/478 [21:39<11:01,  4.16s/it]"
     ]
    },
    {
     "name": "stdout",
     "output_type": "stream",
     "text": [
      "No I do n't support Nordic Superiority , but I have no problem with Nordic people who want a pure Nordic race to exist .\n",
      "['\"hate_speech_probability\": 0.2,']\n"
     ]
    },
    {
     "name": "stderr",
     "output_type": "stream",
     "text": [
      " 67%|██████▋   | 320/478 [21:43<10:44,  4.08s/it]"
     ]
    },
    {
     "name": "stdout",
     "output_type": "stream",
     "text": [
      "Why would they let blacks live ?\n",
      "['  \"hate_speech_probability\": 0.5,']\n"
     ]
    },
    {
     "name": "stderr",
     "output_type": "stream",
     "text": [
      " 67%|██████▋   | 321/478 [21:49<12:04,  4.61s/it]"
     ]
    },
    {
     "name": "stdout",
     "output_type": "stream",
     "text": [
      "I'm not sure what sort of information you 're seeking but I recently found a number of Blacks who have been convicted for knowingly transmitting HIV/AIDS : Kouassi Adaye http://news.bbc.co.uk/2/hi/uk_news/e...de/3389735.stmJohnsonAzigahttp://en.wikipedia.org/wiki/Johnson_AzigaStanislasKanengele-Yondohttp://en.wikipedia.org/wiki/Stanislas_Kanengele-YondjoTrevisSmithhttp://en.wikipedia.org/wiki/Trevis_SmithAdrienSylverNduwayohttp://www.thenownews.com/issues06/0...031206nn2.htmlWillieAtkinshttp://www.dallasnews.com/sharedcont....32a4d9fd.htmlNushawnWilliamshttp://en.wikipedia.org/wiki/Nushawn_WilliamsSimonMolhttp://en.wikipedia.org/wiki/Simon_MolEversonBandahttp://www.dailymail.co.uk/pages/liv...=5&expand=truePeterMwaihttp://www.crime.co.nz/c-files.asp?ID=36WilliamKaranjahttp://www.amren.com/mtnews/archives...n_rapist_j.phpLinkoyMuhurihttp://news.bbc.co.uk/2/hi/uk_news/e...on/3256352.stmMohammedDicahttp://news.bbc.co.uk/2/hi/uk_news/e...on/3190626.stmFestonKonzanihttp://news.bbc.co.uk/2/hi/uk_news/e...es/4267433.stmGabrielVengesaihttp://www.dailymail.co.uk/pages/liv ... n _ page _ id = 1770\n",
      "['  \"hate_speech_probability\": 0.4,']\n"
     ]
    },
    {
     "name": "stderr",
     "output_type": "stream",
     "text": [
      " 67%|██████▋   | 322/478 [21:53<12:08,  4.67s/it]"
     ]
    },
    {
     "name": "stdout",
     "output_type": "stream",
     "text": [
      "http://www.abc25.com/Global/story.asp ? S = 5352185 Non whites commit far more crimes against whites each year but its never considered a hate crime and alot of them never spend any time in jail !\n",
      "['  \"hate_speech_probability\": 0.3']\n"
     ]
    },
    {
     "name": "stderr",
     "output_type": "stream",
     "text": [
      " 68%|██████▊   | 323/478 [21:57<10:58,  4.25s/it]"
     ]
    },
    {
     "name": "stdout",
     "output_type": "stream",
     "text": [
      "I just wanted to say hello to The Jew is Evil .\n",
      "['  \"hate_speech_probability\": 0.8,']\n"
     ]
    },
    {
     "name": "stderr",
     "output_type": "stream",
     "text": [
      " 68%|██████▊   | 324/478 [22:00<10:32,  4.11s/it]"
     ]
    },
    {
     "name": "stdout",
     "output_type": "stream",
     "text": [
      "Indeed, now they just need to feed themselves , educate themselves , police themselves ad nauseum ......\n",
      "['  \"hate_speech_probability\": 0.1,']\n"
     ]
    },
    {
     "name": "stderr",
     "output_type": "stream",
     "text": [
      " 68%|██████▊   | 325/478 [22:12<15:53,  6.23s/it]"
     ]
    },
    {
     "name": "stdout",
     "output_type": "stream",
     "text": [
      "I can give you her Skype and she will answer all your questions .\n",
      "['  \"hate_speech_probability\": 0.4', 'hate_speech_probability = 1.0', 'hate_speech_probability = 0.0']\n"
     ]
    },
    {
     "name": "stderr",
     "output_type": "stream",
     "text": [
      " 68%|██████▊   | 326/478 [22:16<14:18,  5.65s/it]"
     ]
    },
    {
     "name": "stdout",
     "output_type": "stream",
     "text": [
      "I do n't blame you , all the yucky nonwhite DNA pawing your food as they pass it over the UPC scanner , disgusting .\n",
      "{\n",
      "  \"relevant\\_facts\\_from\\_the\\_cultural\\_context\": [\n",
      "    \"Use of derogatory language towards people of color\",\n",
      "    \"Presence of racial bias and stereotypes\",\n",
      "    \"Interaction with food items as a metaphor for people\"\n",
      "  ],\n",
      "  \"relevant\\_word\\_definitions\": {\n",
      "    \"nonwhite\": \"A term used to refer to individuals who are not considered white racially\",\n",
      "    \"DNA\": \"Deoxyribonucleic acid, the genetic material present in all living organisms\",\n",
      "    \"Yucky\": \"A derogatory term used to express distaste or disgust\",\n",
      "    \"Pawing\": \"Touching or handling repeatedly and suggestively\"\n",
      "  },\n",
      "  \"contained\\_explicit\\_racist\\_vocabulary\": [\n",
      "    \"nonwhite\"\n",
      "  ],\n",
      "  \"argument\\_for\\_hate\\_speech\": \"The sentence expresses a clear disdain and fear towards individuals identified as nonwhite, using derogatory language and stereotypes to dehumanize and discriminate against them.\",\n",
      "  \"argument\\_against\\_hate\\_speech\": \"The sentence can be seen as an expression of personal preference and opinion, rather than an intentional call for violence or harm against individuals based on their race.\",\n",
      "  \"likelihood\\_of\\_presence\\_of\\_implicit\\_hate\\_speech\": 0.8,\n",
      "  \"likelihood\\_of\\_presence\\_of\\_explicit\\_hate\\_speech\": 0.9,\n",
      "  \"likelihood\\_of\\_ad\\_hominin\\_attack\": 0.1,\n",
      "  \"likelihood\\_of\\_minority\\_attack\": 1,\n",
      "  \"likelihood\\_of\\_takedown\\_on\\_social\\_media\": 0.8,\n",
      "  \"hate\\_speech\\_probability\": 0.9\n"
     ]
    },
    {
     "name": "stderr",
     "output_type": "stream",
     "text": [
      " 68%|██████▊   | 327/478 [22:20<13:05,  5.20s/it]"
     ]
    },
    {
     "name": "stdout",
     "output_type": "stream",
     "text": [
      "Maybe you 'll find it useful .\n",
      "{\n",
      "  \"relevant\\_facts\\_from\\_the\\_cultural\\_context\": [\n",
      "    \"White supremacist forums in the US often contain discussion of racial superiority and discrimination against racial and ethnic minorities.\",\n",
      "    \"The context of this sentence is important in evaluating its potential for hate speech.\",\n",
      "  ],\n",
      "  \"relevant\\_word\\_definitions\": {\n",
      "    \"hate speech\": \"Communication that promotes or incites violence, prejudice, or discrimination against a particular group based on their race, ethnicity, national origin, religion, gender, sexual orientation, or other personal characteristic.\",\n",
      "  },\n",
      "  \"contained\\_explicit\\_racist\\_vocabulary\": [],\n",
      "  \"contained\\_explicit\\_sexist\\_vocabulary\": [],\n",
      "  \"contained\\_explicit\\_toxic\\_vocabulary\": [],\n",
      "  \"argument\\_for\\_hate\\_speech\": \"The sentence explicitly promotes a belief in racial superiority, which is a common theme in white supremacist forums.\",\n",
      "  \"argument\\_against\\_hate\\_speech\": \"The sentence does not contain threats of violence or incitement to harm a particular group. It only expresses a belief in racial superiority.\",\n",
      "  \"likelihood\\_of\\_presence\\_of\\_implicit\\_hate\\_speech\": 0.1,\n",
      "  \"likelihood\\_of\\_presence\\_of\\_explicit\\_hate\\_speech\": 0.7,\n",
      "  \"likelihood\\_of\\_ad\\_hominin\\_attack\": 0.1,\n",
      "  \"likelihood\\_of\\_minority\\_attack\": 0,\n",
      "  \"likelihood\\_of\\_takedown\\_on\\_social\\_media\": 0.8,\n",
      "  \"hate\\_speech\\_probability\": 0.7,\n",
      "}\n",
      "\n",
      "Sentence: \"White people are naturally superior to other races\n"
     ]
    },
    {
     "name": "stderr",
     "output_type": "stream",
     "text": [
      " 69%|██████▊   | 328/478 [22:24<12:07,  4.85s/it]"
     ]
    },
    {
     "name": "stdout",
     "output_type": "stream",
     "text": [
      "Lay her off and cart her back to India where she can poop in the Ganges river next to her dead grand parents .\n",
      "['  hate_speech_probability: 0.5,']\n"
     ]
    },
    {
     "name": "stderr",
     "output_type": "stream",
     "text": [
      " 69%|██████▉   | 329/478 [22:28<11:37,  4.68s/it]"
     ]
    },
    {
     "name": "stdout",
     "output_type": "stream",
     "text": [
      "Seriously Guys , It 's An Indian Symbol For Good Fortune - People Of Walmart : People Of Walmart\n",
      "['  \"hate_speech_probability\": 0']\n"
     ]
    },
    {
     "name": "stderr",
     "output_type": "stream",
     "text": [
      " 69%|██████▉   | 330/478 [22:32<10:45,  4.36s/it]"
     ]
    },
    {
     "name": "stdout",
     "output_type": "stream",
     "text": [
      "I've been following the events in Ukraine and have noticed some troops using the SKS .\n",
      "['  hate_speech_probability: 0.0']\n"
     ]
    },
    {
     "name": "stderr",
     "output_type": "stream",
     "text": [
      " 69%|██████▉   | 331/478 [22:36<10:09,  4.15s/it]"
     ]
    },
    {
     "name": "stdout",
     "output_type": "stream",
     "text": [
      "I've often pointed out that negroes are more stupid than I can even imagine if they actually think they 're gonna win any race war .\n",
      "['  \"hate_speech_probability\": 0.8,']\n"
     ]
    },
    {
     "name": "stderr",
     "output_type": "stream",
     "text": [
      " 69%|██████▉   | 332/478 [22:40<10:11,  4.19s/it]"
     ]
    },
    {
     "name": "stdout",
     "output_type": "stream",
     "text": [
      "This guy seems to get it but otherwise : Sorry jigs , you 're on your own\n",
      "['  hate_speech_probability: 0.3,']\n"
     ]
    },
    {
     "name": "stderr",
     "output_type": "stream",
     "text": [
      " 70%|██████▉   | 333/478 [22:44<09:57,  4.12s/it]"
     ]
    },
    {
     "name": "stdout",
     "output_type": "stream",
     "text": [
      "The idea that homeschooled kids do n't get socialized is ludicrous .\n",
      "['  \"hate_speech_probability\": 0.1']\n"
     ]
    },
    {
     "name": "stderr",
     "output_type": "stream",
     "text": [
      " 70%|██████▉   | 334/478 [22:50<11:01,  4.59s/it]"
     ]
    },
    {
     "name": "stdout",
     "output_type": "stream",
     "text": [
      "2 .\n",
      "['  \"hate_speech_probability\": 0.4,']\n"
     ]
    },
    {
     "name": "stderr",
     "output_type": "stream",
     "text": [
      " 70%|███████   | 335/478 [22:52<09:01,  3.79s/it]"
     ]
    },
    {
     "name": "stdout",
     "output_type": "stream",
     "text": [
      "These ' niggas ' .\n",
      "['  \"hate_speech_probability\": 1.0']\n"
     ]
    },
    {
     "name": "stderr",
     "output_type": "stream",
     "text": [
      " 70%|███████   | 336/478 [22:56<09:17,  3.92s/it]"
     ]
    },
    {
     "name": "stdout",
     "output_type": "stream",
     "text": [
      "Had a run in with a JAP tonight .\n",
      "['  \"hate_speech_probability\": 0.8']\n"
     ]
    },
    {
     "name": "stderr",
     "output_type": "stream",
     "text": [
      " 71%|███████   | 337/478 [22:59<08:35,  3.66s/it]"
     ]
    },
    {
     "name": "stdout",
     "output_type": "stream",
     "text": [
      "I seriously hope she dies in a fire one day .\n",
      "['  \"hate_speech_probability\": 0.6,']\n"
     ]
    },
    {
     "name": "stderr",
     "output_type": "stream",
     "text": [
      " 71%|███████   | 338/478 [23:03<08:52,  3.80s/it]"
     ]
    },
    {
     "name": "stdout",
     "output_type": "stream",
     "text": [
      "I bet they wouldnt have done that crap to a black person that had black power or those black fists that the panthers use written on his back pack .\n",
      "['  \"hate_speech_probability\": 0.2,']\n"
     ]
    },
    {
     "name": "stderr",
     "output_type": "stream",
     "text": [
      " 71%|███████   | 339/478 [23:07<08:39,  3.74s/it]"
     ]
    },
    {
     "name": "stdout",
     "output_type": "stream",
     "text": [
      "it is better with a shaved head.A friend of mine was beaten really bad a year ago because they could have pulled him by his hair .\n",
      "['  \"hate_speech_probability\": 0.1,']\n"
     ]
    },
    {
     "name": "stderr",
     "output_type": "stream",
     "text": [
      " 71%|███████   | 340/478 [23:11<09:07,  3.97s/it]"
     ]
    },
    {
     "name": "stdout",
     "output_type": "stream",
     "text": [
      "I will at least never willingly pay to see this propaganda , maybe just watch it for free to show the influence the jews have got in the white genocide to people .\n",
      "['  \"hate_speech_probability\": 0.8.']\n"
     ]
    },
    {
     "name": "stderr",
     "output_type": "stream",
     "text": [
      " 71%|███████▏  | 341/478 [23:15<09:23,  4.12s/it]"
     ]
    },
    {
     "name": "stdout",
     "output_type": "stream",
     "text": [
      "Pretty soon , there 's not going to be anywhere left to run .\n",
      "['  \"hate_speech_probability\": 0.1,']\n"
     ]
    },
    {
     "name": "stderr",
     "output_type": "stream",
     "text": [
      " 72%|███████▏  | 342/478 [23:19<08:55,  3.94s/it]"
     ]
    },
    {
     "name": "stdout",
     "output_type": "stream",
     "text": [
      "We have two things wrong here , Mexcicans in a White homeland and a Pizza company sending a female in harms way .\n",
      "['  \"hate_speech_probability\": 0.9,']\n"
     ]
    },
    {
     "name": "stderr",
     "output_type": "stream",
     "text": [
      " 72%|███████▏  | 343/478 [23:23<09:06,  4.05s/it]"
     ]
    },
    {
     "name": "stdout",
     "output_type": "stream",
     "text": [
      "The white churches ' billboards look like lunch break at the UN .\n",
      "['  \"hate_speech_probability\": 0']\n"
     ]
    },
    {
     "name": "stderr",
     "output_type": "stream",
     "text": [
      " 72%|███████▏  | 344/478 [23:28<09:27,  4.24s/it]"
     ]
    },
    {
     "name": "stdout",
     "output_type": "stream",
     "text": [
      "http://www.amv3.com/forum/viewtopic.php ? p = 5542#5542\n",
      "['  \"hate_speech_probability\": 0.7']\n"
     ]
    },
    {
     "name": "stderr",
     "output_type": "stream",
     "text": [
      " 72%|███████▏  | 345/478 [23:32<09:30,  4.29s/it]"
     ]
    },
    {
     "name": "stdout",
     "output_type": "stream",
     "text": [
      "INTJ Introvert ( 11 % ) iNtuitive ( 38 % ) iNtuitive Thinking ( 38 % ) Judging ( 22 % ) You have slight preference of Introversion over Extraversion ( 11 % ) You have moderate preference of Intuition over Sensing ( 38 % ) You have moderate preference of Thinking over Feeling ( 38 % ) You have slight preference of Judging over Perceiving ( 22 % )\n",
      "['  \"hate_speech_probability\": 0.7,']\n"
     ]
    },
    {
     "name": "stderr",
     "output_type": "stream",
     "text": [
      " 72%|███████▏  | 346/478 [23:38<10:15,  4.66s/it]"
     ]
    },
    {
     "name": "stdout",
     "output_type": "stream",
     "text": [
      "In Eternal Combat with that Satanic Spirit - The physical incarnation , creation of the Demiurge : The Jews .\n",
      "['  \"hate_speech_probability\": 0.8']\n"
     ]
    },
    {
     "name": "stderr",
     "output_type": "stream",
     "text": [
      " 73%|███████▎  | 347/478 [23:41<09:21,  4.28s/it]"
     ]
    },
    {
     "name": "stdout",
     "output_type": "stream",
     "text": [
      "It 's a nationalist site as well , maybe give them a try !\n",
      "['  hate_speech_probability: 0.3,']\n"
     ]
    },
    {
     "name": "stderr",
     "output_type": "stream",
     "text": [
      " 73%|███████▎  | 348/478 [23:45<08:45,  4.05s/it]"
     ]
    },
    {
     "name": "stdout",
     "output_type": "stream",
     "text": [
      "Invictus Press Home Page\n",
      "['  \"hate_speech_probability\": 0.1,']\n"
     ]
    },
    {
     "name": "stderr",
     "output_type": "stream",
     "text": [
      " 73%|███████▎  | 349/478 [23:49<08:37,  4.02s/it]"
     ]
    },
    {
     "name": "stdout",
     "output_type": "stream",
     "text": [
      "The kind of savagery against females that has become expected from negroids in todays society ...\n",
      "['  \"hate_speech_probability\": 0.8']\n"
     ]
    },
    {
     "name": "stderr",
     "output_type": "stream",
     "text": [
      " 73%|███████▎  | 350/478 [23:52<08:19,  3.90s/it]"
     ]
    },
    {
     "name": "stdout",
     "output_type": "stream",
     "text": [
      "There is nothing I would love to see more than the arrest , trial and execution of these murderous and genocidal Zionists !\n",
      "['  \"hate_speech_probability\": 0.9,']\n"
     ]
    },
    {
     "name": "stderr",
     "output_type": "stream",
     "text": [
      " 73%|███████▎  | 351/478 [23:56<07:47,  3.68s/it]"
     ]
    },
    {
     "name": "stdout",
     "output_type": "stream",
     "text": [
      "Slavic peoples make up some 34 % of European population .\n",
      "['  \"hate_speech_probability\": 0,']\n"
     ]
    },
    {
     "name": "stderr",
     "output_type": "stream",
     "text": [
      " 74%|███████▎  | 352/478 [23:59<07:32,  3.59s/it]"
     ]
    },
    {
     "name": "stdout",
     "output_type": "stream",
     "text": [
      "Oh yeah , no mugshot picture on the page of course , you have to watch the video report to find out it was yet another case of TNB .\n",
      "['  \"hate_speech_probability\": 0.2,']\n"
     ]
    },
    {
     "name": "stderr",
     "output_type": "stream",
     "text": [
      " 74%|███████▍  | 353/478 [24:03<08:02,  3.86s/it]"
     ]
    },
    {
     "name": "stdout",
     "output_type": "stream",
     "text": [
      "2508\n",
      "['  \"hate_speech_probability\": 0.0,']\n"
     ]
    },
    {
     "name": "stderr",
     "output_type": "stream",
     "text": [
      " 74%|███████▍  | 354/478 [24:08<08:17,  4.01s/it]"
     ]
    },
    {
     "name": "stdout",
     "output_type": "stream",
     "text": [
      "That has been proven many times over by the Jew media in the U.S !\n",
      "['  \"hate_speech_probability\": 0.7,']\n"
     ]
    },
    {
     "name": "stderr",
     "output_type": "stream",
     "text": [
      " 74%|███████▍  | 355/478 [24:11<07:59,  3.90s/it]"
     ]
    },
    {
     "name": "stdout",
     "output_type": "stream",
     "text": [
      "Their lies are so thick and many that people do n't see the truth when it is in front of them !\n",
      "['  \"hate_speech_probability\": 0.1']\n"
     ]
    },
    {
     "name": "stderr",
     "output_type": "stream",
     "text": [
      " 74%|███████▍  | 356/478 [24:16<08:32,  4.20s/it]"
     ]
    },
    {
     "name": "stdout",
     "output_type": "stream",
     "text": [
      "that prince who married that asian is a freak. imagine his half and half kids growing up and trying to marry into other royal families\n",
      "['  \"hate_speech_probability\": 0.4']\n"
     ]
    },
    {
     "name": "stderr",
     "output_type": "stream",
     "text": [
      " 75%|███████▍  | 357/478 [24:22<09:08,  4.53s/it]"
     ]
    },
    {
     "name": "stdout",
     "output_type": "stream",
     "text": [
      "So sick of the way its working , I remember when I was growing up in Winnipeg the little shops were all white runned and owned and would hire people from the community and it was great it helped people and kept streets safe even though me and others would cause some bull * * * * it wasnt anything to how it is now .\n",
      "{\n",
      "\"relevant_facts\\_from\\_the\\_cultural\\_context\": [\n",
      "\"Historically, there have been predominantly white-owned businesses in some communities in the USA, including Winnipeg, Canada.\",\n",
      "\"There have been instances of youth causing mischief in these communities.\",\n",
      "],\n",
      "\"relevant\\_word\\_definitions\": {\n",
      "\"white\": \"a racial group of people with ancestry originating from Europe\",\n",
      "\"runned\": \"past tense of 'run' meaning managed or operated\",\n",
      "\"owned\": \"having legal and often sole right of possession and control of a property or business\",\n",
      "\"community\": \"a group of people who live in the same area or have a common identity\",\n",
      "},\n",
      "\"contained\\_explicit\\_racist\\_vocabulary\": [],\n",
      "\"contained\\_explicit\\_sexist\\_vocabulary\": [],\n",
      "\"contained\\_explicit\\_toxic\\_vocabulary\": [\"bull \\*\\*\\*\\*\\*\\*\"],\n",
      "\"argument\\_for\\_hate\\_speech\": \"The sentence contains language that could be interpreted as expressing nostalgia for a time when businesses were predominantly white-owned and operated, and implies that this situation led to a safer environment and provided opportunities for the community. However, the use of the term 'bull \\*\\*\\*\\*\\*\\*' could be perceived as a reference to unpleasant or disruptive behavior, which could be seen as code for racist behavior or targeting a particular group.\",\n",
      "\"argument\\_against\\_hate\\_speech\": \"The sentence is primarily expressing a nostalgic viewpoint about a time when specific businesses were predominantly owned by a certain racial group, and does not explicitly express hate or intolerance towards any particular group. The use of the term 'bull \\*\\*\\*\\*\\*\\*' is not necessarily a reference to a specific group and could simply be a reference to unruly or disruptive behavior.\",\n",
      "\"likelihood\\_of\\_presence\\_of\\_implicit\\_hate\\_speech\": 0.3,\n",
      "\"likelihood\\_of\\_presence\\_of\\_explicit\\_hate\\_speech\": 0.2,\n",
      "\"likelihood\\_of\\_ad\\_hominin\\_attack\": 0,\n",
      "\"likelihood\\_of\\_minority\\_attack\": 0.1,\n",
      "\"likelihood\\_of\\_takedown\\_on\\_social\\_media\": 0.3,\n",
      "\"hate\\_speech\\_probability\": 0.2,\n"
     ]
    },
    {
     "name": "stderr",
     "output_type": "stream",
     "text": [
      " 75%|███████▍  | 358/478 [24:25<08:38,  4.32s/it]"
     ]
    },
    {
     "name": "stdout",
     "output_type": "stream",
     "text": [
      "Now i just dont know what to do or think anymore .\n",
      "['  \"hate_speech_probability\": 0.4']\n"
     ]
    },
    {
     "name": "stderr",
     "output_type": "stream",
     "text": [
      " 75%|███████▌  | 359/478 [24:29<08:18,  4.19s/it]"
     ]
    },
    {
     "name": "stdout",
     "output_type": "stream",
     "text": [
      "Its time for the return of Mosley 's blackshirts .\n",
      "['  \"hate_speech_probability\": 0.5']\n"
     ]
    },
    {
     "name": "stderr",
     "output_type": "stream",
     "text": [
      " 75%|███████▌  | 360/478 [24:34<08:18,  4.22s/it]"
     ]
    },
    {
     "name": "stdout",
     "output_type": "stream",
     "text": [
      "I 'll post as much as I can , but I 'm more of a BNP supporter than an expert .\n",
      "['  \"hate_speech_probability\": 0.1']\n"
     ]
    },
    {
     "name": "stderr",
     "output_type": "stream",
     "text": [
      " 76%|███████▌  | 361/478 [24:38<08:34,  4.40s/it]"
     ]
    },
    {
     "name": "stdout",
     "output_type": "stream",
     "text": [
      "Blacks in South Africa wondering why their country is going to hell when they put Blacks in charge .\n",
      "['  \"hate_speech_probability\": 0.1,']\n"
     ]
    },
    {
     "name": "stderr",
     "output_type": "stream",
     "text": [
      " 76%|███████▌  | 362/478 [24:42<07:56,  4.11s/it]"
     ]
    },
    {
     "name": "stdout",
     "output_type": "stream",
     "text": [
      "Please stop this nonsense all of you !\n",
      "['  \"hate_speech_probability\": 0.1']\n"
     ]
    },
    {
     "name": "stderr",
     "output_type": "stream",
     "text": [
      " 76%|███████▌  | 363/478 [24:45<07:16,  3.80s/it]"
     ]
    },
    {
     "name": "stdout",
     "output_type": "stream",
     "text": [
      "haha; im a 19 y.o white male from newcastle area - but im moving back to sydney very soon ( west sydney im afraid lol )\n",
      "{\n",
      "\"relevant\\_facts\\_from\\_the\\_cultural\\_context\": [\n",
      "\"The context provided does not mention any hate speech or controversial topics.\",\n",
      "\"The individual's mention of their ethnicity and age is not, in itself, indicative of hate speech.\"\n",
      "],\n",
      "\"relevant\\_word\\_definitions\": {},\n",
      "\"contained\\_explicit\\_racist\\_vocabulary\": [],\n",
      "\"contained\\_explicit\\_sexist\\_vocabulary\": [],\n",
      "\"contained\\_explicit\\_toxic\\_vocabulary\": [],\n",
      "\"argument\\_for\\_hate\\_speech\": \"There is no clear argument or indication of hate speech in the text.\",\n",
      "\"argument\\_against\\_hate\\_speech\": \"The text does not contain any explicit hate speech or violent language.\",\n",
      "\"likelihood\\_of\\_presence\\_of\\_implicit\\_hate\\_speech\": 0,\n",
      "\"likelihood\\_of\\_presence\\_of\\_explicit\\_hate\\_speech\": 0,\n",
      "\"likelihood\\_of\\_ad\\_hominin\\_attack\": 0,\n",
      "\"likelihood\\_of\\_minority\\_attack\": 0,\n",
      "\"likelihood\\_of\\_takedown\\_on\\_social\\_media\": 0,\n",
      "\"hate\\_speech\\_probability\": 0,\n"
     ]
    },
    {
     "name": "stderr",
     "output_type": "stream",
     "text": [
      " 76%|███████▌  | 364/478 [24:49<07:11,  3.78s/it]"
     ]
    },
    {
     "name": "stdout",
     "output_type": "stream",
     "text": [
      "It is always nice to meet another person with roots in Kansas .\n",
      "['  \"hate_speech_probability\": 0']\n"
     ]
    },
    {
     "name": "stderr",
     "output_type": "stream",
     "text": [
      " 76%|███████▋  | 365/478 [24:52<07:04,  3.75s/it]"
     ]
    },
    {
     "name": "stdout",
     "output_type": "stream",
     "text": [
      "Of course , they are more virile than us , so that would n't happen would it ?!!!\n",
      "['  \"hate_speech_probability\": 0.3']\n"
     ]
    },
    {
     "name": "stderr",
     "output_type": "stream",
     "text": [
      " 77%|███████▋  | 366/478 [24:55<06:29,  3.48s/it]"
     ]
    },
    {
     "name": "stdout",
     "output_type": "stream",
     "text": [
      "Hi, I am 26yo from Glendale AZ .\n",
      "['  \"hate_speech_probability\": 0,']\n"
     ]
    },
    {
     "name": "stderr",
     "output_type": "stream",
     "text": [
      " 77%|███████▋  | 367/478 [24:59<06:38,  3.59s/it]"
     ]
    },
    {
     "name": "stdout",
     "output_type": "stream",
     "text": [
      "Just Google it and you 'll see what I mean .\n",
      "['  \"hate_speech_probability\": 0']\n"
     ]
    },
    {
     "name": "stderr",
     "output_type": "stream",
     "text": [
      " 77%|███████▋  | 368/478 [25:08<09:20,  5.09s/it]"
     ]
    },
    {
     "name": "stdout",
     "output_type": "stream",
     "text": [
      "This is my next read .\n",
      "['  \"hate_speech_probability\": 0.3,', '  \"hate_speech_probability\": 0.7,']\n"
     ]
    },
    {
     "name": "stderr",
     "output_type": "stream",
     "text": [
      " 77%|███████▋  | 369/478 [25:12<08:54,  4.91s/it]"
     ]
    },
    {
     "name": "stdout",
     "output_type": "stream",
     "text": [
      "Was n't Bill Clinton the first `` black '' president ?\n",
      "{\n",
      "  \"relevant\\_facts\\_from\\_the\\_cultural\\_context\": [\n",
      "    \"Bill Clinton was the 42nd President of the United States, serving from 1993 to 2001.\",\n",
      "    \"The term 'black' is often used in the USA to refer to people of African descent.\",\n",
      "  ],\n",
      "  \"relevant\\_word\\_definitions\": {\n",
      "    \"black\": \"a term used to describe people of African descent.\",\n",
      "    \"president\": \"the highest office in the US government, the leader of the executive branch of government.\",\n",
      "  },\n",
      "  \"contained\\_explicit\\_racist\\_vocabulary\": [],\n",
      "  \"contained\\_explicit\\_sexist\\_vocabulary\": [],\n",
      "  \"contained\\_explicit\\_toxic\\_vocabulary\": [],\n",
      "  \"argument\\_for\\_hate\\_speech\": \"The statement implies that President Clinton was not a 'real' president because he is not black. This is a racist statement as it devalues his presidency based on his race.\",\n",
      "  \"argument\\_against\\_hate\\_speech\": \"The statement is not an explicit call to hate or harm individuals based on their race. It is a statement that could be interpreted as a mistake or misunderstanding. However, in the cultural context of the USA, the use of the term 'black' in relation to President Clinton is not acceptable due to its potential to perpetuate racism.\",\n",
      "  \"likelihood\\_of\\_presence\\_of\\_implicit\\_hate\\_speech\": 0.9,\n",
      "  \"likelihood\\_of\\_presence\\_of\\_explicit\\_hate\\_speech\": 0.2,\n",
      "  \"likelihood\\_of\\_ad\\_hominin\\_attack\": 0.4,\n",
      "  \"likelihood\\_of\\_minority\\_attack\": 0.8,\n",
      "  \"likelihood\\_of\\_takedown\\_on\\_social\\_media\": 0.8,\n",
      "  \"hate\\_speech\\_probability\": 0.7,\n"
     ]
    },
    {
     "name": "stderr",
     "output_type": "stream",
     "text": [
      " 77%|███████▋  | 370/478 [25:16<08:01,  4.46s/it]"
     ]
    },
    {
     "name": "stdout",
     "output_type": "stream",
     "text": [
      "I've followed Mr. Kievsky 's adventures through VNN for the last couple years .\n",
      "{\n",
      "  \"relevant_facts\\_from\\_the\\_cultural\\_context\": [\n",
      "    \"VNN is a news aggregator and discussion platform\",\n",
      "    \"Following someone's activities on an online forum does not inherently involve hate speech\"\n",
      "  ],\n",
      "  \"relevant_word\\_definitions\": {\n",
      "    \"adventures\": \"an exciting or unusual experience\",\n",
      "    \"following\": \"observing or keeping up with the activities of someone or something\"\n",
      "  },\n",
      "  \"contained\\_explicit\\_racist\\_vocabulary\": [],\n",
      "  \"contained\\_explicit\\_sexist\\_vocabulary\": [],\n",
      "  \"contained\\_explicit\\_toxic\\_vocabulary\": [],\n",
      "  \"argument\\_for\\_hate\\_speech\": \"There's no evidently hateful content or language in this statement\",\n",
      "  \"argument\\_against\\_hate\\_speech\": \"None\",\n",
      "  \"likelihood\\_of\\_presence\\_of\\_implicit\\_hate\\_speech\": 0,\n",
      "  \"likelihood\\_of\\_presence\\_of\\_explicit\\_hate\\_speech\": 0,\n",
      "  \"likelihood\\_of\\_ad\\_hominin\\_attack\": 0,\n",
      "  \"likelihood\\_of\\_minority\\_attack\": 0,\n",
      "  \"likelihood\\_of\\_takedown\\_on\\_social\\_media\": 0,\n",
      "  \"hate\\_speech\\_probability\": 0\n"
     ]
    },
    {
     "name": "stderr",
     "output_type": "stream",
     "text": [
      " 78%|███████▊  | 371/478 [25:20<07:47,  4.37s/it]"
     ]
    },
    {
     "name": "stdout",
     "output_type": "stream",
     "text": [
      "But millions can believe a lie for centuries upon centuries , especially when you make investigating the story a crime .\n",
      "['  \"hate_speech_probability\": 0.1,']\n"
     ]
    },
    {
     "name": "stderr",
     "output_type": "stream",
     "text": [
      " 78%|███████▊  | 372/478 [25:23<07:08,  4.05s/it]"
     ]
    },
    {
     "name": "stdout",
     "output_type": "stream",
     "text": [
      "We just do n't like what we see .\n",
      "['  \"hate_speech_probability\": 0.1']\n"
     ]
    },
    {
     "name": "stderr",
     "output_type": "stream",
     "text": [
      " 78%|███████▊  | 373/478 [25:27<07:02,  4.03s/it]"
     ]
    },
    {
     "name": "stdout",
     "output_type": "stream",
     "text": [
      "To me it means that Jewish supremacists will never again allow Whites to have a say .\n",
      "['  \"hate_speech_probability\": 0.6']\n"
     ]
    },
    {
     "name": "stderr",
     "output_type": "stream",
     "text": [
      " 78%|███████▊  | 374/478 [25:32<07:20,  4.23s/it]"
     ]
    },
    {
     "name": "stdout",
     "output_type": "stream",
     "text": [
      "Thank you for posting this ! this disgusting lie will hopefully one day be addressed and corrected , at that point I would hope the world will see the Jews for what they really are .\n",
      "['  \"hate_speech_probability\": 0.8,']\n"
     ]
    },
    {
     "name": "stderr",
     "output_type": "stream",
     "text": [
      " 78%|███████▊  | 375/478 [25:37<07:33,  4.41s/it]"
     ]
    },
    {
     "name": "stdout",
     "output_type": "stream",
     "text": [
      "Well, at least these dumb negroes got the fact that Jews are evil right ; though I suspect whitey and the jews are one in the same to their primitive minds ...\n",
      "['  \"hate_speech_probability\": 0.9']\n"
     ]
    },
    {
     "name": "stderr",
     "output_type": "stream",
     "text": [
      " 79%|███████▊  | 376/478 [25:41<07:21,  4.33s/it]"
     ]
    },
    {
     "name": "stdout",
     "output_type": "stream",
     "text": [
      "At the resturant , the Pres. of Hamms orders a Hamms , the Pres. of Schlitz orders a Schlitz , the Pres. of Budweiser orders a Bud , and the Pres. of Guiness orders a cup of tea .\n",
      "['  \"hate_speech_probability\": 0']\n"
     ]
    },
    {
     "name": "stderr",
     "output_type": "stream",
     "text": [
      " 79%|███████▉  | 377/478 [25:44<06:57,  4.13s/it]"
     ]
    },
    {
     "name": "stdout",
     "output_type": "stream",
     "text": [
      "When they sent n iggers to space the space ships started blowing up .\n",
      "['  \"hate_speech_probability\": 1.0,']\n"
     ]
    },
    {
     "name": "stderr",
     "output_type": "stream",
     "text": [
      " 79%|███████▉  | 378/478 [25:49<07:20,  4.41s/it]"
     ]
    },
    {
     "name": "stdout",
     "output_type": "stream",
     "text": [
      "No need to allow FACTS to get in the way of a good White guilt message ! ... and the jew laughs loudly !\n",
      "['  \"hate_speech_probability\": 0.9,']\n"
     ]
    },
    {
     "name": "stderr",
     "output_type": "stream",
     "text": [
      " 79%|███████▉  | 379/478 [25:55<08:03,  4.89s/it]"
     ]
    },
    {
     "name": "stdout",
     "output_type": "stream",
     "text": [
      "Please let me know if there is anything I can do .\n",
      "['  hate_speech_probability: 0.3,']\n"
     ]
    },
    {
     "name": "stderr",
     "output_type": "stream",
     "text": [
      " 79%|███████▉  | 380/478 [25:59<07:21,  4.50s/it]"
     ]
    },
    {
     "name": "stdout",
     "output_type": "stream",
     "text": [
      "Notice the video title , whenever there is a fight between a white and non white , the white is always the racist\n",
      "['\"hate_speech_probability\": 0.4,']\n"
     ]
    },
    {
     "name": "stderr",
     "output_type": "stream",
     "text": [
      " 80%|███████▉  | 381/478 [26:05<07:52,  4.87s/it]"
     ]
    },
    {
     "name": "stdout",
     "output_type": "stream",
     "text": [
      "Those boys will use the plastic whisks as swords , and the girls ' lego creations will consist of dollhouses for the few white dolls , with the dark ones in the adjoining farm pen .\n",
      "['  \"hate_speech_probability\": 0.8,']\n"
     ]
    },
    {
     "name": "stderr",
     "output_type": "stream",
     "text": [
      " 80%|███████▉  | 382/478 [26:09<07:22,  4.61s/it]"
     ]
    },
    {
     "name": "stdout",
     "output_type": "stream",
     "text": [
      "Oh, I forgot to say where I lived .\n",
      "['  hate_speech_probability: 0.5,']\n"
     ]
    },
    {
     "name": "stderr",
     "output_type": "stream",
     "text": [
      " 80%|████████  | 383/478 [26:13<07:11,  4.54s/it]"
     ]
    },
    {
     "name": "stdout",
     "output_type": "stream",
     "text": [
      "I remember when I was at my college during the Holidays ... every single holiday would be mentioned loud and clear except for Christmas ... especially kwanzaa .\n",
      "['  \"hate_speech_probability\": 0.2']\n"
     ]
    },
    {
     "name": "stderr",
     "output_type": "stream",
     "text": [
      " 80%|████████  | 384/478 [26:16<06:26,  4.11s/it]"
     ]
    },
    {
     "name": "stdout",
     "output_type": "stream",
     "text": [
      "Apparently young kids pick languages up very quickly .\n",
      "['  \"hate_speech_probability\": 0,']\n"
     ]
    },
    {
     "name": "stderr",
     "output_type": "stream",
     "text": [
      " 81%|████████  | 385/478 [26:19<05:47,  3.73s/it]"
     ]
    },
    {
     "name": "stdout",
     "output_type": "stream",
     "text": [
      "I 'm sure I would have done great in public school if the Mexican gang members stopped kicking my * * * long enough for me to get my homework done ...\n",
      "['  \"hate_speech_probability\": 0.8']\n"
     ]
    },
    {
     "name": "stderr",
     "output_type": "stream",
     "text": [
      " 81%|████████  | 386/478 [26:23<05:47,  3.78s/it]"
     ]
    },
    {
     "name": "stdout",
     "output_type": "stream",
     "text": [
      "God 's own divine intervention , aided by Jewish money swindled from the goyim .\n",
      "['  \"hate_speech_probability\": 0.8,']\n"
     ]
    },
    {
     "name": "stderr",
     "output_type": "stream",
     "text": [
      " 81%|████████  | 387/478 [26:27<05:42,  3.76s/it]"
     ]
    },
    {
     "name": "stdout",
     "output_type": "stream",
     "text": [
      "Just watch them at North America and they like all black sport players and their `` slang '' .\n",
      "['  \"hate_speech_probability\": 0.1']\n"
     ]
    },
    {
     "name": "stderr",
     "output_type": "stream",
     "text": [
      " 81%|████████  | 388/478 [26:30<05:17,  3.53s/it]"
     ]
    },
    {
     "name": "stdout",
     "output_type": "stream",
     "text": [
      "First off they probably wont do anything , second off dont start anything .\n",
      "['  \"hate_speech_probability\": 0,']\n"
     ]
    },
    {
     "name": "stderr",
     "output_type": "stream",
     "text": [
      " 81%|████████▏ | 389/478 [26:33<05:09,  3.48s/it]"
     ]
    },
    {
     "name": "stdout",
     "output_type": "stream",
     "text": [
      "Sometimes I do watch shows about WWII on the History channel but other than that I never watch it .\n",
      "['  \"hate_speech_probability\": 0.1,']\n"
     ]
    },
    {
     "name": "stderr",
     "output_type": "stream",
     "text": [
      " 82%|████████▏ | 390/478 [26:38<05:43,  3.91s/it]"
     ]
    },
    {
     "name": "stdout",
     "output_type": "stream",
     "text": [
      "Its simple , they want to create white guilt , .\n",
      "['  \"hate_speech_probability\": 0.2']\n"
     ]
    },
    {
     "name": "stderr",
     "output_type": "stream",
     "text": [
      " 82%|████████▏ | 391/478 [26:41<05:27,  3.76s/it]"
     ]
    },
    {
     "name": "stdout",
     "output_type": "stream",
     "text": [
      "I take the assumption that your Nation is so crap is not worth remembering .\n",
      "['  \"hate_speech_probability\": 0.1,']\n"
     ]
    },
    {
     "name": "stderr",
     "output_type": "stream",
     "text": [
      " 82%|████████▏ | 392/478 [26:45<05:14,  3.65s/it]"
     ]
    },
    {
     "name": "stdout",
     "output_type": "stream",
     "text": [
      "ZOG is getting rid of every White-dominated area in the world .\n",
      "['  \"hate_speech_probability\": 0.5,']\n"
     ]
    },
    {
     "name": "stderr",
     "output_type": "stream",
     "text": [
      " 82%|████████▏ | 393/478 [26:48<05:03,  3.57s/it]"
     ]
    },
    {
     "name": "stdout",
     "output_type": "stream",
     "text": [
      "They do not want all of us to find out how she was raped and tortured .\n",
      "['  \"hate_speech_probability\": 0.1,']\n"
     ]
    },
    {
     "name": "stderr",
     "output_type": "stream",
     "text": [
      " 82%|████████▏ | 394/478 [26:52<05:13,  3.74s/it]"
     ]
    },
    {
     "name": "stdout",
     "output_type": "stream",
     "text": [
      "It seems that what they are trying to say is that if you are white you are in the wrong place at the wrong time anywhere in the World .\n",
      "['  \"hate_speech_probability\": 0.5']\n"
     ]
    },
    {
     "name": "stderr",
     "output_type": "stream",
     "text": [
      " 83%|████████▎ | 395/478 [26:56<05:18,  3.83s/it]"
     ]
    },
    {
     "name": "stdout",
     "output_type": "stream",
     "text": [
      "Right.\n",
      "['  \"hate_speech_probability\": 0.3,']\n"
     ]
    },
    {
     "name": "stderr",
     "output_type": "stream",
     "text": [
      " 83%|████████▎ | 396/478 [26:59<04:52,  3.56s/it]"
     ]
    },
    {
     "name": "stdout",
     "output_type": "stream",
     "text": [
      "Great link .\n",
      "['  hate_speech_probability:0']\n"
     ]
    },
    {
     "name": "stderr",
     "output_type": "stream",
     "text": [
      " 83%|████████▎ | 397/478 [27:03<04:55,  3.65s/it]"
     ]
    },
    {
     "name": "stdout",
     "output_type": "stream",
     "text": [
      "Seems none of these pinheads wanted to get dirty .\n",
      "['  \"hate_speech_probability\": 0.']\n"
     ]
    },
    {
     "name": "stderr",
     "output_type": "stream",
     "text": [
      " 83%|████████▎ | 398/478 [27:08<05:15,  3.94s/it]"
     ]
    },
    {
     "name": "stdout",
     "output_type": "stream",
     "text": [
      "The jew media likes to prop this whites becoming the minority non sense up because they want to try and scare whitey , the media plays on the fears that the average retard thinks hispanic or latino is a race and they play word play with titles like white hispanic and white non hispanic it is all a magic show nothing more .. But Whites becoming a minority in Europe the homeland is a much more serious issue that concerns me greatly .\n",
      "['  \"hate_speech_probability\": 0.3']\n"
     ]
    },
    {
     "name": "stderr",
     "output_type": "stream",
     "text": [
      " 83%|████████▎ | 399/478 [27:11<04:58,  3.78s/it]"
     ]
    },
    {
     "name": "stdout",
     "output_type": "stream",
     "text": [
      "The future is ours , as long as we do not sit by and wait to be overrun by the subhumans .\n",
      "{\n",
      "  \"relevant\\_facts\\_from\\_the\\_cultural\\_context\": [\n",
      "    \"White supremacist forums in the US often promote a sense of urgency and fear toward perceived racial threats.\",\n",
      "    \"The term 'subhumans' is commonly used in hate speech to dehumanize and justify violence against marginalized groups.\"\n",
      "  ],\n",
      "  \"contained\\_explicit\\_racist\\_vocabulary\": [\n",
      "    \"subhumans\",\n",
      "  ],\n",
      "  \"argument\\_for\\_hate\\_speech\": \"The sentence expresses a call to action against perceived racial threats, using dehumanizing language to justify potential violence.\",\n",
      "  \"argument\\_against\\_hate\\_speech\": \"The sentence could be interpreted as a call to action for self-preservation or defending one's community. However, the use of dehumanizing language crosses the line into hate speech.\",\n",
      "  \"likelihood\\_of\\_presence\\_of\\_implicit\\_hate\\_speech\": 0.3,\n",
      "  \"likelihood\\_of\\_presence\\_of\\_explicit\\_hate\\_speech\": 0.9,\n",
      "  \"likelihood\\_of\\_ad\\_hominin\\_attack\": 0,\n",
      "  \"likelihood\\_of\\_minority\\_attack\": 1,\n",
      "  \"likelihood\\_of\\_takedown\\_on\\_social\\_media\": 0.8,\n",
      "  \"hate\\_speech\\_probability\": 0.9,\n"
     ]
    },
    {
     "name": "stderr",
     "output_type": "stream",
     "text": [
      " 84%|████████▎ | 400/478 [27:15<04:56,  3.81s/it]"
     ]
    },
    {
     "name": "stdout",
     "output_type": "stream",
     "text": [
      "God, it is sickening to see these young lives taken by feral negroes .\n",
      "['  \"hate_speech_probability\": 1.0,']\n"
     ]
    },
    {
     "name": "stderr",
     "output_type": "stream",
     "text": [
      " 84%|████████▍ | 401/478 [27:19<04:52,  3.80s/it]"
     ]
    },
    {
     "name": "stdout",
     "output_type": "stream",
     "text": [
      "God bless them all , to hell with the blacks .\n",
      "['  \"hate_speech_probability\": 0.8']\n"
     ]
    },
    {
     "name": "stderr",
     "output_type": "stream",
     "text": [
      " 84%|████████▍ | 402/478 [27:23<04:51,  3.83s/it]"
     ]
    },
    {
     "name": "stdout",
     "output_type": "stream",
     "text": [
      "Richland County deputies say Cason killed his estranged wife , 38-year-old Letitia Cason , at an apartment on Smallwood Road in Northeast Richland County Deputies : Murder Suspect Shoots at Officers , is Taken Into Custody wltx.com | Columbia , SC News , Weather and Sports |\n",
      "['  \"hate_speech_probability\": 0']\n"
     ]
    },
    {
     "name": "stderr",
     "output_type": "stream",
     "text": [
      " 84%|████████▍ | 403/478 [27:26<04:35,  3.67s/it]"
     ]
    },
    {
     "name": "stdout",
     "output_type": "stream",
     "text": [
      "Providing From Finland does n't kick my ass and throw me overboard ... coming or going .\n",
      "['  \"hate_speech_probability\": 0.0']\n"
     ]
    },
    {
     "name": "stderr",
     "output_type": "stream",
     "text": [
      " 85%|████████▍ | 404/478 [27:29<04:18,  3.50s/it]"
     ]
    },
    {
     "name": "stdout",
     "output_type": "stream",
     "text": [
      "Has anybody pointed out that Finland is n't part of Scandinavia yet ? ( Hur gick det i Finnkampen , vet ni det ?\n",
      "['  \"hate_speech_probability\": 0,']\n"
     ]
    },
    {
     "name": "stderr",
     "output_type": "stream",
     "text": [
      " 85%|████████▍ | 405/478 [27:33<04:22,  3.59s/it]"
     ]
    },
    {
     "name": "stdout",
     "output_type": "stream",
     "text": [
      "Seeing the teams of white nations have black players in their ranks is a depressing site to see.They should be representing the best of our nations not the worst\n",
      "['  \"hate_speech_probability\": 0.8']\n"
     ]
    },
    {
     "name": "stderr",
     "output_type": "stream",
     "text": [
      " 85%|████████▍ | 406/478 [27:36<04:04,  3.39s/it]"
     ]
    },
    {
     "name": "stdout",
     "output_type": "stream",
     "text": [
      "Did they put that Groid 15 next to Rooney just to make Rooney look at least half-human ?\n",
      "['  \"hate_speech_probability\": 0.8,']\n"
     ]
    },
    {
     "name": "stderr",
     "output_type": "stream",
     "text": [
      " 85%|████████▌ | 407/478 [27:41<04:39,  3.94s/it]"
     ]
    },
    {
     "name": "stdout",
     "output_type": "stream",
     "text": [
      "If you are not registered I think that maybe you will not be able to see this .\n",
      "['  \"hate_speech_probability\": 0.4']\n"
     ]
    },
    {
     "name": "stderr",
     "output_type": "stream",
     "text": [
      " 85%|████████▌ | 408/478 [27:45<04:42,  4.03s/it]"
     ]
    },
    {
     "name": "stdout",
     "output_type": "stream",
     "text": [
      "The only Mexican in town has since moved out and kids can now leave their bicycles in the yard without fear .\n",
      "['  \"hate_speech_probability\": 0.4,']\n"
     ]
    },
    {
     "name": "stderr",
     "output_type": "stream",
     "text": [
      " 86%|████████▌ | 409/478 [27:49<04:31,  3.93s/it]"
     ]
    },
    {
     "name": "stdout",
     "output_type": "stream",
     "text": [
      "what about it. that 's exactly what I said and I meant every word he thought I might and that was enough and with you two talking behind my back like some jew what do you expect me to say have a nice life .\n",
      "['  \"hate_speech_probability\": 1,']\n"
     ]
    },
    {
     "name": "stderr",
     "output_type": "stream",
     "text": [
      " 86%|████████▌ | 410/478 [27:53<04:34,  4.04s/it]"
     ]
    },
    {
     "name": "stdout",
     "output_type": "stream",
     "text": [
      "I do n't think so .\n",
      "['  \"hate_speech_probability\": 0']\n"
     ]
    },
    {
     "name": "stderr",
     "output_type": "stream",
     "text": [
      " 86%|████████▌ | 411/478 [27:58<04:35,  4.12s/it]"
     ]
    },
    {
     "name": "stdout",
     "output_type": "stream",
     "text": [
      "if they have the same help here in Quebec , i would like too say congratulation pitbull-A.G. and i hope you have lot of new white resident in your city\n",
      "['  \"hate_speech_probability\": 0.1']\n"
     ]
    },
    {
     "name": "stderr",
     "output_type": "stream",
     "text": [
      " 86%|████████▌ | 412/478 [28:02<04:32,  4.13s/it]"
     ]
    },
    {
     "name": "stdout",
     "output_type": "stream",
     "text": [
      "White town saved by the magic negroes of Afreakkaland .\n",
      "['  \"hate_speech_probability\": 0.8,']\n"
     ]
    },
    {
     "name": "stderr",
     "output_type": "stream",
     "text": [
      " 86%|████████▋ | 413/478 [28:06<04:28,  4.13s/it]"
     ]
    },
    {
     "name": "stdout",
     "output_type": "stream",
     "text": [
      "Amen brother ..... you did say it like you been there ... they talk crap and if you show fear they 'll be on ya fast .\n",
      "['  \"hate_speech_probability\": 0.1,']\n"
     ]
    },
    {
     "name": "stderr",
     "output_type": "stream",
     "text": [
      " 87%|████████▋ | 414/478 [28:10<04:29,  4.20s/it]"
     ]
    },
    {
     "name": "stdout",
     "output_type": "stream",
     "text": [
      "But get the eyes wide open and lets rock attitude ... most will back off and go away ..... been there with ya !\n",
      "['  \"hate_speech_probability\": 0.2']\n"
     ]
    },
    {
     "name": "stderr",
     "output_type": "stream",
     "text": [
      " 87%|████████▋ | 415/478 [28:14<04:22,  4.17s/it]"
     ]
    },
    {
     "name": "stdout",
     "output_type": "stream",
     "text": [
      "You do not have to wait for this law to pass since already you would be expelled from your school for doing the above under some sort of hostile school environment clause , as you would at most places of work .\n",
      "['  \"hate_speech_probability\": 0.0']\n"
     ]
    },
    {
     "name": "stderr",
     "output_type": "stream",
     "text": [
      " 87%|████████▋ | 416/478 [28:18<04:15,  4.12s/it]"
     ]
    },
    {
     "name": "stdout",
     "output_type": "stream",
     "text": [
      "Maybe God was punishing them for their interracial marriage .\n",
      "['  \"hate_speech_probability\": 0.2,']\n"
     ]
    },
    {
     "name": "stderr",
     "output_type": "stream",
     "text": [
      " 87%|████████▋ | 417/478 [28:22<04:08,  4.07s/it]"
     ]
    },
    {
     "name": "stdout",
     "output_type": "stream",
     "text": [
      "Good luck with your bugchasing , homo . . .\n",
      "['  \"hate_speech_probability\": 0.9']\n"
     ]
    },
    {
     "name": "stderr",
     "output_type": "stream",
     "text": [
      " 87%|████████▋ | 418/478 [28:25<03:44,  3.75s/it]"
     ]
    },
    {
     "name": "stdout",
     "output_type": "stream",
     "text": [
      "Negroids could n't put together a bake sale properly much less a work force .\n",
      "['  \"hate_speech_probability\": 1,']\n"
     ]
    },
    {
     "name": "stderr",
     "output_type": "stream",
     "text": [
      " 88%|████████▊ | 419/478 [28:29<03:36,  3.67s/it]"
     ]
    },
    {
     "name": "stdout",
     "output_type": "stream",
     "text": [
      "Saul Kassin : `` False confessions '' https : //www.youtube.com/watch ? v = JDRRwFfJKkw The Vera Institute of Justice 's Neil A. Weiner Research Department Speaker Series presents Saul Kassin , Distinguished Professor of Psychology at John Jay College of Criminal Justice .\n",
      "['  \"hate_speech_probability\": 0,']\n"
     ]
    },
    {
     "name": "stderr",
     "output_type": "stream",
     "text": [
      " 88%|████████▊ | 420/478 [28:32<03:19,  3.44s/it]"
     ]
    },
    {
     "name": "stdout",
     "output_type": "stream",
     "text": [
      "The school did not cause my much trouble because it was elementary school .\n",
      "['  \"hate_speech_probability\": 0,']\n"
     ]
    },
    {
     "name": "stderr",
     "output_type": "stream",
     "text": [
      " 88%|████████▊ | 421/478 [28:36<03:26,  3.63s/it]"
     ]
    },
    {
     "name": "stdout",
     "output_type": "stream",
     "text": [
      "I went outside and the niglet 's mom told me my daughter had hit her first .\n",
      "['  \"hate_speech_probability\": 0.7,']\n"
     ]
    },
    {
     "name": "stderr",
     "output_type": "stream",
     "text": [
      " 88%|████████▊ | 422/478 [28:39<03:18,  3.55s/it]"
     ]
    },
    {
     "name": "stdout",
     "output_type": "stream",
     "text": [
      "We are cooking a duck on the rotisserie , catch the fat drippings and cook little potatoes in that , its delicious , we 're also cooking a small turkey , mashed potatoes , carrots , pumpkin pie and butternut squash cut in half and baked with butter and brown sugar .\n",
      "['  \"hate_speech_probability\": 0,']\n"
     ]
    },
    {
     "name": "stderr",
     "output_type": "stream",
     "text": [
      " 88%|████████▊ | 423/478 [28:43<03:17,  3.60s/it]"
     ]
    },
    {
     "name": "stdout",
     "output_type": "stream",
     "text": [
      "I see pro and cons of both .\n",
      "['  \"hate_speech_probability\": 0.1,']\n"
     ]
    },
    {
     "name": "stderr",
     "output_type": "stream",
     "text": [
      " 89%|████████▊ | 424/478 [28:47<03:15,  3.63s/it]"
     ]
    },
    {
     "name": "stdout",
     "output_type": "stream",
     "text": [
      "Like I said before I 'd bet 90 % + have Liberal parents .\n",
      "['  \"hate_speech_probability\": 0,']\n"
     ]
    },
    {
     "name": "stderr",
     "output_type": "stream",
     "text": [
      " 89%|████████▉ | 425/478 [28:51<03:20,  3.79s/it]"
     ]
    },
    {
     "name": "stdout",
     "output_type": "stream",
     "text": [
      "I live in AR .\n",
      "['  \"hate_speech_probability\": 0.4,']\n"
     ]
    },
    {
     "name": "stderr",
     "output_type": "stream",
     "text": [
      " 89%|████████▉ | 426/478 [28:55<03:20,  3.85s/it]"
     ]
    },
    {
     "name": "stdout",
     "output_type": "stream",
     "text": [
      "I going to get homeschooled tired of looney lefty teachers and the negroes\n",
      "['  \"hate_speech_probability\": 0.9']\n"
     ]
    },
    {
     "name": "stderr",
     "output_type": "stream",
     "text": [
      " 89%|████████▉ | 427/478 [28:59<03:30,  4.13s/it]"
     ]
    },
    {
     "name": "stdout",
     "output_type": "stream",
     "text": [
      "But it does have a feminine sound .\n",
      "['  \"hate_speech_probability\": 0.1']\n"
     ]
    },
    {
     "name": "stderr",
     "output_type": "stream",
     "text": [
      " 90%|████████▉ | 428/478 [29:05<03:43,  4.47s/it]"
     ]
    },
    {
     "name": "stdout",
     "output_type": "stream",
     "text": [
      "The students should be able to express themselves .\n",
      "['  \"hate_speech_probability\": 0.4,']\n"
     ]
    },
    {
     "name": "stderr",
     "output_type": "stream",
     "text": [
      " 90%|████████▉ | 429/478 [29:08<03:16,  4.01s/it]"
     ]
    },
    {
     "name": "stdout",
     "output_type": "stream",
     "text": [
      "No .\n",
      "['  \"hate_speech_probability\": 0,']\n"
     ]
    },
    {
     "name": "stderr",
     "output_type": "stream",
     "text": [
      " 90%|████████▉ | 430/478 [29:12<03:22,  4.22s/it]"
     ]
    },
    {
     "name": "stdout",
     "output_type": "stream",
     "text": [
      "Americans and Irish understand each other better than Spaniards and the beaners .. the US and Ireland are the 1st world so they are educated unlike the beaners .\n",
      "['  \"hate_speech_probability\": 0.8,']\n"
     ]
    },
    {
     "name": "stderr",
     "output_type": "stream",
     "text": [
      " 90%|█████████ | 431/478 [29:18<03:31,  4.49s/it]"
     ]
    },
    {
     "name": "stdout",
     "output_type": "stream",
     "text": [
      "Enjoy your classroom .\n",
      "['  \"hate_speech_probability\": 0.2,']\n"
     ]
    },
    {
     "name": "stderr",
     "output_type": "stream",
     "text": [
      " 90%|█████████ | 432/478 [29:21<03:19,  4.33s/it]"
     ]
    },
    {
     "name": "stdout",
     "output_type": "stream",
     "text": [
      "I am going to try and update my site soon , I did however add a chat room .\n",
      "['\"hate_speech_probability\": 0.2,']\n"
     ]
    },
    {
     "name": "stderr",
     "output_type": "stream",
     "text": [
      " 91%|█████████ | 433/478 [29:25<02:59,  3.98s/it]"
     ]
    },
    {
     "name": "stdout",
     "output_type": "stream",
     "text": [
      "Whether or not one chooses to eat meat is a very personal decision .\n",
      "['  \"hate_speech_probability\": 0']\n"
     ]
    },
    {
     "name": "stderr",
     "output_type": "stream",
     "text": [
      " 91%|█████████ | 434/478 [29:28<02:48,  3.82s/it]"
     ]
    },
    {
     "name": "stdout",
     "output_type": "stream",
     "text": [
      "The white man has no future in Canada , that is for sure , because the country is being flooded with non-white immigrants .\n",
      "['\"hate_speech_probability\": 0.5']\n"
     ]
    },
    {
     "name": "stderr",
     "output_type": "stream",
     "text": [
      " 91%|█████████ | 435/478 [29:33<03:04,  4.29s/it]"
     ]
    },
    {
     "name": "stdout",
     "output_type": "stream",
     "text": [
      "And my job lets me monitor all of Jewish supremacist control of talk radio .\n",
      "['  \"hate_speech_probability\": 0.4,']\n"
     ]
    },
    {
     "name": "stderr",
     "output_type": "stream",
     "text": [
      " 91%|█████████ | 436/478 [29:37<02:54,  4.17s/it]"
     ]
    },
    {
     "name": "stdout",
     "output_type": "stream",
     "text": [
      "They need the white male distracted as much as possible and of course the glorification of the groid ; two birds one stone .\n",
      "['  hate_speech_probability: 0.8,']\n"
     ]
    },
    {
     "name": "stderr",
     "output_type": "stream",
     "text": [
      " 91%|█████████▏| 437/478 [29:39<02:21,  3.46s/it]"
     ]
    },
    {
     "name": "stdout",
     "output_type": "stream",
     "text": [
      "I reported some time ago that negroes will even strip the bricks off your home while you are away at work .\n",
      "['  \"hate_speech_probability\": 0.9']\n"
     ]
    },
    {
     "name": "stderr",
     "output_type": "stream",
     "text": [
      " 92%|█████████▏| 438/478 [29:42<02:15,  3.40s/it]"
     ]
    },
    {
     "name": "stdout",
     "output_type": "stream",
     "text": [
      "How much longer are we going to wait for them to take care of themselves ?\n",
      "['  \"hate_speech_probability\": 0,']\n"
     ]
    },
    {
     "name": "stderr",
     "output_type": "stream",
     "text": [
      " 92%|█████████▏| 439/478 [29:47<02:24,  3.70s/it]"
     ]
    },
    {
     "name": "stdout",
     "output_type": "stream",
     "text": [
      "This is ARKANSAS they have no right to smell up my place with their chinese restaurant BO ~ ▲ RESTORE ORDER ▲ ~\n",
      "['  \"hate_speech_probability\": 0.8.']\n"
     ]
    },
    {
     "name": "stderr",
     "output_type": "stream",
     "text": [
      " 92%|█████████▏| 440/478 [29:52<02:38,  4.17s/it]"
     ]
    },
    {
     "name": "stdout",
     "output_type": "stream",
     "text": [
      "Seattle bus attack on a blind woman : YouTube - Broadcast Yourself .\n",
      "['  \"hate_speech_probability\": 0.3,']\n"
     ]
    },
    {
     "name": "stderr",
     "output_type": "stream",
     "text": [
      " 92%|█████████▏| 441/478 [29:56<02:36,  4.23s/it]"
     ]
    },
    {
     "name": "stdout",
     "output_type": "stream",
     "text": [
      "nobody said I like him and I dont see the reason to like him to be honest WE HAVE ENOUGH CULTURAL HERITAGE FOR HUNDREDS OF GENERATIONS WE SHOULD BE PROUD OF WHAT WE DID NOT OF WHAT SOME AUSTRIAN DID !!!\n",
      "['  \"hate_speech_probability\": 0.3']\n"
     ]
    },
    {
     "name": "stderr",
     "output_type": "stream",
     "text": [
      " 92%|█████████▏| 442/478 [30:00<02:26,  4.08s/it]"
     ]
    },
    {
     "name": "stdout",
     "output_type": "stream",
     "text": [
      "Those poor kikes they cant even escape antisemetism in the country were it is punishable by death ( I am talking about palestinians )\n",
      "['  \"hate_speech_probability\": 1']\n"
     ]
    },
    {
     "name": "stderr",
     "output_type": "stream",
     "text": [
      " 93%|█████████▎| 443/478 [30:03<02:09,  3.71s/it]"
     ]
    },
    {
     "name": "stdout",
     "output_type": "stream",
     "text": [
      "I thought there was talk not too long ago about Putin extending the terms to stay in office ?\n",
      "['  \"hate_speech_probability\": 0']\n"
     ]
    },
    {
     "name": "stderr",
     "output_type": "stream",
     "text": [
      " 93%|█████████▎| 444/478 [30:06<01:54,  3.37s/it]"
     ]
    },
    {
     "name": "stdout",
     "output_type": "stream",
     "text": [
      "If anyone can tell what happened on this lake ?\n",
      "['  \"hate_speech_probability\": 0']\n"
     ]
    },
    {
     "name": "stderr",
     "output_type": "stream",
     "text": [
      " 93%|█████████▎| 445/478 [30:09<01:53,  3.45s/it]"
     ]
    },
    {
     "name": "stdout",
     "output_type": "stream",
     "text": [
      "Idiotic.\n",
      "['  \"hate_speech_probability\": 0.3,']\n"
     ]
    },
    {
     "name": "stderr",
     "output_type": "stream",
     "text": [
      " 93%|█████████▎| 446/478 [30:12<01:45,  3.30s/it]"
     ]
    },
    {
     "name": "stdout",
     "output_type": "stream",
     "text": [
      "I would love a house .\n",
      "['  \"hate_speech_probability\": 0,']\n"
     ]
    },
    {
     "name": "stderr",
     "output_type": "stream",
     "text": [
      " 94%|█████████▎| 447/478 [30:16<01:49,  3.53s/it]"
     ]
    },
    {
     "name": "stdout",
     "output_type": "stream",
     "text": [
      "The problems start when you start to accommonadate these people in the first place ! , give an inch and they 'll take a mile ......\n",
      "['  \"hate_speech_probability\": 0.2,']\n"
     ]
    },
    {
     "name": "stderr",
     "output_type": "stream",
     "text": [
      " 94%|█████████▎| 448/478 [30:20<01:45,  3.53s/it]"
     ]
    },
    {
     "name": "stdout",
     "output_type": "stream",
     "text": [
      "Latha math dhuibh agus dè tha dol agad fhèin , a Phàdruig/Hello Pat , how are you ?\n",
      "['  \"hate_speech_probability\": 0,']\n"
     ]
    },
    {
     "name": "stderr",
     "output_type": "stream",
     "text": [
      " 94%|█████████▍| 449/478 [30:25<01:54,  3.95s/it]"
     ]
    },
    {
     "name": "stdout",
     "output_type": "stream",
     "text": [
      "There's no way to stop them from coming to Canada all that is needed is proof of ownership of a house in India , africa etc and they can enter in on a tourist visa .\n",
      "['  \"hate_speech_probability\": 0.1']\n"
     ]
    },
    {
     "name": "stderr",
     "output_type": "stream",
     "text": [
      " 94%|█████████▍| 450/478 [30:29<01:51,  3.99s/it]"
     ]
    },
    {
     "name": "stdout",
     "output_type": "stream",
     "text": [
      "The problem is that through western elites we have to feed and look after useless savages like malema .\n",
      "['  \"hate_speech_probability\": 0.5.']\n"
     ]
    },
    {
     "name": "stderr",
     "output_type": "stream",
     "text": [
      " 94%|█████████▍| 451/478 [30:32<01:44,  3.85s/it]"
     ]
    },
    {
     "name": "stdout",
     "output_type": "stream",
     "text": [
      "If that stopped the worthless thing would starve !\n",
      "['  hate_speech_probability: 0.2']\n"
     ]
    },
    {
     "name": "stderr",
     "output_type": "stream",
     "text": [
      " 95%|█████████▍| 452/478 [30:36<01:35,  3.68s/it]"
     ]
    },
    {
     "name": "stdout",
     "output_type": "stream",
     "text": [
      "Hello Everyone on Stormfront Have heard a lot of good things about this forum so I have decided to take the plunge .\n",
      "{\n",
      "\"relevant\\_facts\\_from\\_the\\_cultural\\_context\": [],\n",
      "\"relevant\\_word\\_definitions\": {},\n",
      "\"contained\\_explicit\\_racist\\_vocabulary\": [],\n",
      "\"contained\\_explicit\\_sexist\\_vocabulary\": [],\n",
      "\"contained\\_explicit\\_toxic\\_vocabulary\": [],\n",
      "\"argument\\_for\\_hate\\_speech\": \"This statement does not contain any explicit hate speech as it is just an expression of the person's intention to join the forum. However, Stormfront is infamous for being a white supremacist forum known for promoting hate speech and racism.\",\n",
      "\"argument\\_against\\_hate\\_speech\": \"The person's statement is just an expression of their desire to join the forum. There is no explicit hate speech present in the statement.\",\n",
      "\"likelihood\\_of\\_presence\\_of\\_implicit\\_hate\\_speech\": 0.3,\n",
      "\"likelihood\\_of\\_presence\\_of\\_explicit\\_hate\\_speech\": 0,\n",
      "\"likelihood\\_of\\_ad\\_hominin\\_attack\": 0,\n",
      "\"likelihood\\_of\\_minority\\_attack\": 0,\n",
      "\"likelihood\\_of\\_takedown\\_on\\_social\\_media\": 0.1,\n",
      "\"hate\\_speech\\_probability\": 0\n"
     ]
    },
    {
     "name": "stderr",
     "output_type": "stream",
     "text": [
      " 95%|█████████▍| 453/478 [30:38<01:25,  3.43s/it]"
     ]
    },
    {
     "name": "stdout",
     "output_type": "stream",
     "text": [
      "I'm in Australia and I want it to be done and over with , my mum is constantly going on about the Olympics like it 's a big deal .\n",
      "['\"hate_speech_probability\": 0']\n"
     ]
    },
    {
     "name": "stderr",
     "output_type": "stream",
     "text": [
      " 95%|█████████▍| 454/478 [30:42<01:21,  3.39s/it]"
     ]
    },
    {
     "name": "stdout",
     "output_type": "stream",
     "text": [
      "Of course the county is lovely , in facts its gods country in our book BUT the cities are rat infested with enrichers , just how the country is isnt it .\n",
      "['  \"hate_speech_probability\": 0.7']\n"
     ]
    },
    {
     "name": "stderr",
     "output_type": "stream",
     "text": [
      " 95%|█████████▌| 455/478 [30:46<01:25,  3.72s/it]"
     ]
    },
    {
     "name": "stdout",
     "output_type": "stream",
     "text": [
      "Well Marco is a German patriot and musician who , in the sick minds of ZOG , committed the heinious crime of producing music for a local school .\n",
      "['  \"hate_speech_probability\": 0.3,']\n"
     ]
    },
    {
     "name": "stderr",
     "output_type": "stream",
     "text": [
      " 95%|█████████▌| 456/478 [30:50<01:23,  3.78s/it]"
     ]
    },
    {
     "name": "stdout",
     "output_type": "stream",
     "text": [
      "Too many libtards , I would n't waste my time there .\n",
      "['  \"hate_speech_probability\": 0.2,']\n"
     ]
    },
    {
     "name": "stderr",
     "output_type": "stream",
     "text": [
      " 96%|█████████▌| 457/478 [30:57<01:39,  4.72s/it]"
     ]
    },
    {
     "name": "stdout",
     "output_type": "stream",
     "text": [
      "I got sloppy seconds after some Muslims used this girl .\n",
      "['  \"hate_speech_probability\": 0.2']\n"
     ]
    },
    {
     "name": "stderr",
     "output_type": "stream",
     "text": [
      " 96%|█████████▌| 458/478 [31:04<01:44,  5.25s/it]"
     ]
    },
    {
     "name": "stdout",
     "output_type": "stream",
     "text": [
      "Only the crazy ones stay .\n",
      "['  \"hate_speech_probability\": 0,']\n"
     ]
    },
    {
     "name": "stderr",
     "output_type": "stream",
     "text": [
      " 96%|█████████▌| 459/478 [31:08<01:36,  5.10s/it]"
     ]
    },
    {
     "name": "stdout",
     "output_type": "stream",
     "text": [
      "When the non-whites come we should stand together and send em packing , like they do to us .\n",
      "['  \"hate_speech_probability\": 0.9.']\n"
     ]
    },
    {
     "name": "stderr",
     "output_type": "stream",
     "text": [
      " 96%|█████████▌| 460/478 [31:13<01:31,  5.06s/it]"
     ]
    },
    {
     "name": "stdout",
     "output_type": "stream",
     "text": [
      "Those in the countries you mentioned are the mongrel offspring between whites ( Aryans ) and Arabs and its funny how those of the East who claim to be the Aryans talk about white people who came and mixed with them and the only Aryans apparently in the East are those with light skin and blue eyes .\n",
      "['  \"hate_speech_probability\": 0.9']\n"
     ]
    },
    {
     "name": "stderr",
     "output_type": "stream",
     "text": [
      " 96%|█████████▋| 461/478 [31:17<01:17,  4.54s/it]"
     ]
    },
    {
     "name": "stdout",
     "output_type": "stream",
     "text": [
      "Laugh it up ape cause without yt to protect your race Asians will probably do the world a favour and wipe your kind from the face of the Earth .\n",
      "['  \"hate_speech_probability\": 0.9']\n"
     ]
    },
    {
     "name": "stderr",
     "output_type": "stream",
     "text": [
      " 97%|█████████▋| 462/478 [31:20<01:07,  4.23s/it]"
     ]
    },
    {
     "name": "stdout",
     "output_type": "stream",
     "text": [
      "I tried to sign up there once & they refused to activate my account .\n",
      "['  \"hate_speech_probability\": 0.0']\n"
     ]
    },
    {
     "name": "stderr",
     "output_type": "stream",
     "text": [
      " 97%|█████████▋| 463/478 [31:26<01:10,  4.72s/it]"
     ]
    },
    {
     "name": "stdout",
     "output_type": "stream",
     "text": [
      "In the eyes of the Jew and the libtard there is a race problem and the problem is us !\n",
      "['  \"hate_speech_probability\": 0.9,']\n"
     ]
    },
    {
     "name": "stderr",
     "output_type": "stream",
     "text": [
      " 97%|█████████▋| 464/478 [31:30<01:04,  4.58s/it]"
     ]
    },
    {
     "name": "stdout",
     "output_type": "stream",
     "text": [
      "You need to ask this when the Obama Administration instructed the IRS to target conservatives ?\n",
      "['  hate_speech_probability: 0.1,']\n"
     ]
    },
    {
     "name": "stderr",
     "output_type": "stream",
     "text": [
      " 97%|█████████▋| 465/478 [31:34<00:55,  4.25s/it]"
     ]
    },
    {
     "name": "stdout",
     "output_type": "stream",
     "text": [
      "Neither of the Diaz brothers are very bright but they generally come to fight .\n",
      "['  \"hate_speech_probability\": 0,']\n"
     ]
    },
    {
     "name": "stderr",
     "output_type": "stream",
     "text": [
      " 97%|█████████▋| 466/478 [31:38<00:51,  4.30s/it]"
     ]
    },
    {
     "name": "stdout",
     "output_type": "stream",
     "text": [
      "The Neolithic farmers who migrated into Europe originated in Anatolia .\n",
      "['  \"hate_speech_probability\": 0,']\n"
     ]
    },
    {
     "name": "stderr",
     "output_type": "stream",
     "text": [
      " 98%|█████████▊| 467/478 [31:45<00:56,  5.13s/it]"
     ]
    },
    {
     "name": "stdout",
     "output_type": "stream",
     "text": [
      "Explain how liberals are liars and anti-White and tell her about crime statistics .\n",
      "['  hate_speech_probability: 0.3,']\n"
     ]
    },
    {
     "name": "stderr",
     "output_type": "stream",
     "text": [
      " 98%|█████████▊| 468/478 [31:55<01:04,  6.47s/it]"
     ]
    },
    {
     "name": "stdout",
     "output_type": "stream",
     "text": [
      "Perhaps people will take you more seriously if you do n't make as many grammar errors and using repulsive language .\n",
      "['  \"hate_speech_probability\": 0.4,', '  \"hate_speech_probability\": 1.0,']\n"
     ]
    },
    {
     "name": "stderr",
     "output_type": "stream",
     "text": [
      " 98%|█████████▊| 469/478 [32:01<00:56,  6.33s/it]"
     ]
    },
    {
     "name": "stdout",
     "output_type": "stream",
     "text": [
      "And hey , we have not talked about women 's mitochondriat at all ?\n",
      "['  hate_speech_probability: 0.5,']\n"
     ]
    },
    {
     "name": "stderr",
     "output_type": "stream",
     "text": [
      " 98%|█████████▊| 470/478 [32:04<00:43,  5.41s/it]"
     ]
    },
    {
     "name": "stdout",
     "output_type": "stream",
     "text": [
      "Everything is machined to well today mlst stuff is plug and play .\n",
      "['  \"hate_speech_probability\": 0']\n"
     ]
    },
    {
     "name": "stderr",
     "output_type": "stream",
     "text": [
      " 99%|█████████▊| 471/478 [32:08<00:34,  5.00s/it]"
     ]
    },
    {
     "name": "stdout",
     "output_type": "stream",
     "text": [
      "Find other gardeners , wild plant enthusiasts , and fellow believers in your area who you can band with .\n",
      "['  \"hate_speech_probability\": 0,']\n"
     ]
    },
    {
     "name": "stderr",
     "output_type": "stream",
     "text": [
      " 99%|█████████▊| 472/478 [32:14<00:31,  5.29s/it]"
     ]
    },
    {
     "name": "stdout",
     "output_type": "stream",
     "text": [
      "I'm glad you pointed this out that anti-Bullying campaign has been used to promote homosexuals who are more likely to bully anyone who disagrees with them .\n",
      "['  \"hate_speech_probability\": 0.2']\n"
     ]
    },
    {
     "name": "stderr",
     "output_type": "stream",
     "text": [
      " 99%|█████████▉| 473/478 [32:17<00:23,  4.70s/it]"
     ]
    },
    {
     "name": "stdout",
     "output_type": "stream",
     "text": [
      "I was just debating with myself whether I should go to bed or have one last beer ...\n",
      "['  \"hate_speech_probability\": 0.1']\n"
     ]
    },
    {
     "name": "stderr",
     "output_type": "stream",
     "text": [
      " 99%|█████████▉| 474/478 [32:21<00:18,  4.51s/it]"
     ]
    },
    {
     "name": "stdout",
     "output_type": "stream",
     "text": [
      "I have one word for you ....... MOVE . We chose this area because we wanted our children to go to all white schools .\n",
      "['  \"hate_speech_probability\": 0.8.']\n"
     ]
    },
    {
     "name": "stderr",
     "output_type": "stream",
     "text": [
      " 99%|█████████▉| 475/478 [32:24<00:11,  3.99s/it]"
     ]
    },
    {
     "name": "stdout",
     "output_type": "stream",
     "text": [
      "There are only eight people living within a mile of my house , and none closer than a quarter-mile .\n",
      "['  hate_speech_probability: 0,']\n"
     ]
    },
    {
     "name": "stderr",
     "output_type": "stream",
     "text": [
      "100%|█████████▉| 476/478 [32:28<00:07,  3.97s/it]"
     ]
    },
    {
     "name": "stdout",
     "output_type": "stream",
     "text": [
      "you just say blacks hate the cold. the only reason they are good athletes is because when you have to run lions and tigers you get fast or eaten .\n",
      "['  \"hate_speech_probability\": 0.8,']\n"
     ]
    },
    {
     "name": "stderr",
     "output_type": "stream",
     "text": [
      "100%|█████████▉| 477/478 [32:32<00:03,  4.00s/it]"
     ]
    },
    {
     "name": "stdout",
     "output_type": "stream",
     "text": [
      "And all those holes below 40,000 feet are filled with oil instead of water .\n",
      "['  hate_speech_probability: 0.1,']\n"
     ]
    },
    {
     "name": "stderr",
     "output_type": "stream",
     "text": [
      "100%|██████████| 478/478 [32:36<00:00,  4.09s/it]\n"
     ]
    },
    {
     "name": "stdout",
     "output_type": "stream",
     "text": [
      "Now I get it !\n",
      "['\"hate_speech_probability\": 0.4']\n"
     ]
    },
    {
     "name": "stderr",
     "output_type": "stream",
     "text": [
      "  0%|          | 1/478 [00:04<33:24,  4.20s/it]"
     ]
    },
    {
     "name": "stdout",
     "output_type": "stream",
     "text": [
      "I 've always considered teaching as one of the professions I would like to get into , but not in a neighbourhood like that ... never. kids like that disgust me .\n",
      "['  \"hate_speech_probability\": 0.3,']\n"
     ]
    },
    {
     "name": "stderr",
     "output_type": "stream",
     "text": [
      "  0%|          | 2/478 [00:08<32:29,  4.10s/it]"
     ]
    },
    {
     "name": "stdout",
     "output_type": "stream",
     "text": [
      "And the sad thing is the white students at those schools will act like that too .\n",
      "['  \"hate_speech_probability\": 0.3,']\n"
     ]
    },
    {
     "name": "stderr",
     "output_type": "stream",
     "text": [
      "  1%|          | 3/478 [00:11<29:16,  3.70s/it]"
     ]
    },
    {
     "name": "stdout",
     "output_type": "stream",
     "text": [
      "This whole situation starts to become really bizarre .\n",
      "['  hate_speech_probability: 0,']\n"
     ]
    },
    {
     "name": "stderr",
     "output_type": "stream",
     "text": [
      "  1%|          | 4/478 [00:16<32:12,  4.08s/it]"
     ]
    },
    {
     "name": "stdout",
     "output_type": "stream",
     "text": [
      "That's all I needed to hear .\n",
      "['  \"hate_speech_probability\": 0.3,']\n"
     ]
    },
    {
     "name": "stderr",
     "output_type": "stream",
     "text": [
      "  1%|          | 5/478 [00:20<33:39,  4.27s/it]"
     ]
    },
    {
     "name": "stdout",
     "output_type": "stream",
     "text": [
      "Excellent Article !! * * * * * Why Were n't They In Jail ?\n",
      "['  \"hate_speech_probability\": 0,']\n"
     ]
    },
    {
     "name": "stderr",
     "output_type": "stream",
     "text": [
      "  1%|▏         | 6/478 [00:24<33:15,  4.23s/it]"
     ]
    },
    {
     "name": "stdout",
     "output_type": "stream",
     "text": [
      "Nevermind, found the new page Knew it had to be a groid .... any report of rape ?\n",
      "['  \"hate_speech_probability\": 0.9,']\n"
     ]
    },
    {
     "name": "stderr",
     "output_type": "stream",
     "text": [
      "  1%|▏         | 7/478 [00:26<27:25,  3.49s/it]"
     ]
    },
    {
     "name": "stdout",
     "output_type": "stream",
     "text": [
      "He's a retarded feral negro ( yes , feral humans who cannot talk occasionally pop up , having been abandoned as children. ) .\n",
      "```json\n",
      "{\n",
      "  \"relevant_facts_from_the_cultural_context\": [\n",
      "    \"Fact 1: Use of derogatory terms to refer to racial minorities is a common form of hate speech in the US.\",\n",
      "  ],\n",
      "  \"contained_explicit_racist_vocabulary\": [\n",
      "    \"retarded\",\n",
      "    \"feral\",\n",
      "    \"negro\",\n",
      "  ],\n",
      "  \"argument_for_hate_speech\": \"The sentence contains explicit racist vocabulary and derogatory terms to refer to a racial minority, making it hate speech.\",\n",
      "  \"likelihood_of_presence_of_explicit_hate_speech\": 1,\n",
      "}\n",
      "``\n"
     ]
    },
    {
     "name": "stderr",
     "output_type": "stream",
     "text": [
      "  2%|▏         | 8/478 [00:30<28:54,  3.69s/it]"
     ]
    },
    {
     "name": "stdout",
     "output_type": "stream",
     "text": [
      "I do n't think anyone is insinuating that we are equal to non whites , or that we would ignore white nations .\n",
      "['  \"hate_speech_probability\": 0.3']\n"
     ]
    },
    {
     "name": "stderr",
     "output_type": "stream",
     "text": [
      "  2%|▏         | 9/478 [00:35<30:44,  3.93s/it]"
     ]
    },
    {
     "name": "stdout",
     "output_type": "stream",
     "text": [
      "These people have no idea about who they are or where they came from and any knowledge that they do have has guilt attached to it .\n",
      "['  \"hate_speech_probability\": 0.3,']\n"
     ]
    },
    {
     "name": "stderr",
     "output_type": "stream",
     "text": [
      "  2%|▏         | 10/478 [00:38<29:36,  3.80s/it]"
     ]
    },
    {
     "name": "stdout",
     "output_type": "stream",
     "text": [
      "I have a dream - one of these days Black occupation of America will be history !\n",
      "['  \"hate_speech_probability\": 0.9,']\n"
     ]
    },
    {
     "name": "stderr",
     "output_type": "stream",
     "text": [
      "  2%|▏         | 11/478 [00:43<31:05,  4.00s/it]"
     ]
    },
    {
     "name": "stdout",
     "output_type": "stream",
     "text": [
      "Pathological killers , they are .\n",
      "['  \"hate_speech_probability\": 0.1']\n"
     ]
    },
    {
     "name": "stderr",
     "output_type": "stream",
     "text": [
      "  3%|▎         | 12/478 [00:47<30:27,  3.92s/it]"
     ]
    },
    {
     "name": "stdout",
     "output_type": "stream",
     "text": [
      "Jews have been poisoning wells since Biblical times .\n",
      "['  \"hate_speech_probability\": 0.5.']\n"
     ]
    },
    {
     "name": "stderr",
     "output_type": "stream",
     "text": [
      "  3%|▎         | 13/478 [00:51<30:52,  3.98s/it]"
     ]
    },
    {
     "name": "stdout",
     "output_type": "stream",
     "text": [
      "All you need is to cut off it 's head and the rest of the problems will crumble away with ease\n",
      "['  \"hate_speech_probability\": 0.8']\n"
     ]
    },
    {
     "name": "stderr",
     "output_type": "stream",
     "text": [
      "  3%|▎         | 14/478 [00:54<29:08,  3.77s/it]"
     ]
    },
    {
     "name": "stdout",
     "output_type": "stream",
     "text": [
      "While they are in prison the kikes should get the same food the regular prison population gets ...\n",
      "['  \"hate_speech_probability\": 0.8,']\n"
     ]
    },
    {
     "name": "stderr",
     "output_type": "stream",
     "text": [
      "  3%|▎         | 15/478 [00:58<30:07,  3.90s/it]"
     ]
    },
    {
     "name": "stdout",
     "output_type": "stream",
     "text": [
      "Why do n't White Europeans and Americans grow a set of balls , and deport these Black and brown animals from their countries ?\n",
      "['  \"hate_speech_probability\": 0.85,']\n"
     ]
    },
    {
     "name": "stderr",
     "output_type": "stream",
     "text": [
      "  3%|▎         | 16/478 [01:02<30:26,  3.95s/it]"
     ]
    },
    {
     "name": "stdout",
     "output_type": "stream",
     "text": [
      "Norway : 3.3 ( 2001 ) , 3.9 ( 2002 ) , 3.5 ( 2003 ) , 1.8 ( 2004 ) . ( assuming population of 4.5 million ) Sweden : 2.6 ( 2001 ) , 3.7 ( 2002 ) , 3.5 ( 2003 ) , 2.6 ( 2004 ) . ( assuming population of 8.9 million ) Iceland is at about 0.2 .\n",
      "['  \"hate_speech_probability\": 0.1']\n"
     ]
    },
    {
     "name": "stderr",
     "output_type": "stream",
     "text": [
      "  4%|▎         | 17/478 [01:06<30:47,  4.01s/it]"
     ]
    },
    {
     "name": "stdout",
     "output_type": "stream",
     "text": [
      "If they have some marches and what not about showing pride in their culture you guys should go out and do the same If you could try and contact people you know in different cities and see if their willing to do the same .\n",
      "['  \"hate_speech_probability\": 0.']\n"
     ]
    },
    {
     "name": "stderr",
     "output_type": "stream",
     "text": [
      "  4%|▍         | 18/478 [01:12<34:03,  4.44s/it]"
     ]
    },
    {
     "name": "stdout",
     "output_type": "stream",
     "text": [
      "During the early punk scene , he was always seen decked out in a Union flag blazer , then all a sudden , an instant nationality transplant .\n",
      "['  \"hate_speech_probability\": 0.2,']\n"
     ]
    },
    {
     "name": "stderr",
     "output_type": "stream",
     "text": [
      "  4%|▍         | 19/478 [01:16<32:17,  4.22s/it]"
     ]
    },
    {
     "name": "stdout",
     "output_type": "stream",
     "text": [
      "Its a disgrace my sister has been on the waiting list for 6 years and their giving away houses to these scumbags\n",
      "['  \"hate_speech_probability\": 0.3,']\n"
     ]
    },
    {
     "name": "stderr",
     "output_type": "stream",
     "text": [
      "  4%|▍         | 20/478 [01:21<34:36,  4.53s/it]"
     ]
    },
    {
     "name": "stdout",
     "output_type": "stream",
     "text": [
      "These people who want foreign aid increased are the same people who walk past irish people living rough on the streets and they do n't care about the old people who the government ignores .\n",
      "['  \"hate_speech_probability\": 0.1']\n"
     ]
    },
    {
     "name": "stderr",
     "output_type": "stream",
     "text": [
      "  4%|▍         | 21/478 [01:26<35:52,  4.71s/it]"
     ]
    },
    {
     "name": "stdout",
     "output_type": "stream",
     "text": [
      "What I do know is that I live on a small Island and it seems that a lot of people from various countries in the world are willing to desert their homelands and their families just to come here , in my mind that tells me a lot about said people and their home countries , most of all it highlights their weaknesses of how their own countries have let them down and how they feel the need to feed off somebody elses country , how should we English interpret this without sounding rude ??? , locust ??? , parasite ??? , you tell me .\n",
      "['  \"hate_speech_probability\": 0.3,']\n"
     ]
    },
    {
     "name": "stderr",
     "output_type": "stream",
     "text": [
      "  5%|▍         | 22/478 [01:30<34:47,  4.58s/it]"
     ]
    },
    {
     "name": "stdout",
     "output_type": "stream",
     "text": [
      "i do this and the looks i get out of disgust are regular but i happily carry on walking and laugh them off , they think showing me a few pictures of negro kids on a poster without a burger is going to make me want to give money to them ?\n",
      "['  \"hate_speech_probability\": 0.6,']\n"
     ]
    },
    {
     "name": "stderr",
     "output_type": "stream",
     "text": [
      "  5%|▍         | 23/478 [01:35<34:48,  4.59s/it]"
     ]
    },
    {
     "name": "stdout",
     "output_type": "stream",
     "text": [
      "Dare to speak out in a country with supposed free speech and you 're labelled a bigot !\n",
      "['  \"hate_speech_probability\": 0.2.']\n"
     ]
    },
    {
     "name": "stderr",
     "output_type": "stream",
     "text": [
      "  5%|▌         | 24/478 [01:39<32:42,  4.32s/it]"
     ]
    },
    {
     "name": "stdout",
     "output_type": "stream",
     "text": [
      "Hi everyone .... I 'm from Slovenia and I utterly hate every living muslim in this world ....... and I despise even the dead ones\n",
      "['  \"hate_speech_probability\": 0.9']\n"
     ]
    },
    {
     "name": "stderr",
     "output_type": "stream",
     "text": [
      "  5%|▌         | 25/478 [01:44<36:01,  4.77s/it]"
     ]
    },
    {
     "name": "stdout",
     "output_type": "stream",
     "text": [
      "Everyone on my MSN gets all manner of pics ( ) but I 've never put any up here so here goes Some pics from about a year ago and a small anigif from a week ago heh Robin\n",
      "['\"hate_speech_probability\": 0.03,']\n"
     ]
    },
    {
     "name": "stderr",
     "output_type": "stream",
     "text": [
      "  5%|▌         | 26/478 [01:48<33:56,  4.50s/it]"
     ]
    },
    {
     "name": "stdout",
     "output_type": "stream",
     "text": [
      "DuetschGirlTX, No I live in a tiny ass town where i am only one of 100 white folks ( maybe less ) . near San Antonio. there are so many dirts around and they all stick together. so when it comes to a White Girl in this town i gotta have my own back ALWAYS Is that where you are ?\n",
      "['  \"hate_speech_probability\": 0.3.']\n"
     ]
    },
    {
     "name": "stderr",
     "output_type": "stream",
     "text": [
      "  6%|▌         | 27/478 [01:51<30:31,  4.06s/it]"
     ]
    },
    {
     "name": "stdout",
     "output_type": "stream",
     "text": [
      "The work involves : selling sporting goods and assisting customers with questions or problems .\n",
      "['  \"hate_speech_probability\": 0']\n"
     ]
    },
    {
     "name": "stderr",
     "output_type": "stream",
     "text": [
      "  6%|▌         | 28/478 [01:55<29:38,  3.95s/it]"
     ]
    },
    {
     "name": "stdout",
     "output_type": "stream",
     "text": [
      "88 all , this is my first post and i 've read this whole thread so i guess I have a few comment 's , let 's start , shall we ?\n",
      "['  \"hate_speech_probability\": 0.2']\n"
     ]
    },
    {
     "name": "stderr",
     "output_type": "stream",
     "text": [
      "  6%|▌         | 29/478 [02:00<30:58,  4.14s/it]"
     ]
    },
    {
     "name": "stdout",
     "output_type": "stream",
     "text": [
      "This is my next read .\n",
      "['  \"hate_speech_probability\": 0.5,']\n"
     ]
    },
    {
     "name": "stderr",
     "output_type": "stream",
     "text": [
      "  6%|▋         | 30/478 [02:05<33:16,  4.46s/it]"
     ]
    },
    {
     "name": "stdout",
     "output_type": "stream",
     "text": [
      "The Jewish race is without any doubt the greatest threat to the survival of the White race .\n",
      "['  \"hate_speech_probability\": 0.9.']\n"
     ]
    },
    {
     "name": "stderr",
     "output_type": "stream",
     "text": [
      "  6%|▋         | 31/478 [02:10<35:06,  4.71s/it]"
     ]
    },
    {
     "name": "stdout",
     "output_type": "stream",
     "text": [
      "Both Asians and whites are composed and calm and blacks seem to have no self control .\n",
      "['  \"hate_speech_probability\": 0.4']\n"
     ]
    },
    {
     "name": "stderr",
     "output_type": "stream",
     "text": [
      "  7%|▋         | 32/478 [02:13<32:04,  4.32s/it]"
     ]
    },
    {
     "name": "stdout",
     "output_type": "stream",
     "text": [
      "Exactly, they want us to lay down and die .\n",
      "['  \"hate_speech_probability\": 0.3']\n"
     ]
    },
    {
     "name": "stderr",
     "output_type": "stream",
     "text": [
      "  7%|▋         | 33/478 [02:16<28:12,  3.80s/it]"
     ]
    },
    {
     "name": "stdout",
     "output_type": "stream",
     "text": [
      "By their words and deeds , they declare themselves to be staunchly in favor of the genocide of our people .\n",
      "['  \"hate_speech_probability\": 0.9']\n"
     ]
    },
    {
     "name": "stderr",
     "output_type": "stream",
     "text": [
      "  7%|▋         | 34/478 [02:20<28:42,  3.88s/it]"
     ]
    },
    {
     "name": "stdout",
     "output_type": "stream",
     "text": [
      "A pile of burned offerings .\n",
      "['  \"hate_speech_probability\": 0.1']\n"
     ]
    },
    {
     "name": "stderr",
     "output_type": "stream",
     "text": [
      "  7%|▋         | 35/478 [02:24<29:43,  4.03s/it]"
     ]
    },
    {
     "name": "stdout",
     "output_type": "stream",
     "text": [
      "Gay marriage has no place in any society , regardless of your race and culture.It destroys , morals , values , and the future of your offspring that will keep your race and culture alive.Regardless of your race and culture , homosexuality and gay marriage is the genocide of mankind .\n",
      "['  \"hate_speech_probability\": 0.3']\n"
     ]
    },
    {
     "name": "stderr",
     "output_type": "stream",
     "text": [
      "  8%|▊         | 36/478 [02:28<28:13,  3.83s/it]"
     ]
    },
    {
     "name": "stdout",
     "output_type": "stream",
     "text": [
      "The Black race is yet to invent any kind of civilization .\n",
      "['  \"hate_speech_probability\": 0.65,']\n"
     ]
    },
    {
     "name": "stderr",
     "output_type": "stream",
     "text": [
      "  8%|▊         | 37/478 [02:35<35:05,  4.77s/it]"
     ]
    },
    {
     "name": "stdout",
     "output_type": "stream",
     "text": [
      "What does any of that have to do with racial preservation and the resistance to the deliberate and calculated extermination of the White race and the destruction of western civilization which 99 % of the members of this site are concerned with ?\n",
      "['  \"hate_speech_probability\": 0.4,']\n"
     ]
    },
    {
     "name": "stderr",
     "output_type": "stream",
     "text": [
      "  8%|▊         | 38/478 [02:39<33:39,  4.59s/it]"
     ]
    },
    {
     "name": "stdout",
     "output_type": "stream",
     "text": [
      "They almost always choose to identify with blacks more than whites .\n",
      "['  \"hate_speech_probability\": 0.1.']\n"
     ]
    },
    {
     "name": "stderr",
     "output_type": "stream",
     "text": [
      "  8%|▊         | 39/478 [02:43<31:36,  4.32s/it]"
     ]
    },
    {
     "name": "stdout",
     "output_type": "stream",
     "text": [
      "The White race is best because when the Creator made Whites , He made them better than He made the other races .\n",
      "['  \"hate_speech_probability\": 0.9']\n"
     ]
    },
    {
     "name": "stderr",
     "output_type": "stream",
     "text": [
      "  8%|▊         | 40/478 [02:46<29:01,  3.98s/it]"
     ]
    },
    {
     "name": "stdout",
     "output_type": "stream",
     "text": [
      "Ya got a virgin shooter .\n",
      "['  \"hate_speech_probability\": 0.2']\n"
     ]
    },
    {
     "name": "stderr",
     "output_type": "stream",
     "text": [
      "  9%|▊         | 41/478 [02:49<26:36,  3.65s/it]"
     ]
    },
    {
     "name": "stdout",
     "output_type": "stream",
     "text": [
      "I 'm hoping things will continue to grow with our smaller meets and will make for a good turn out at our events this year !\n",
      "['  \"hate_speech_probability\": 0,']\n"
     ]
    },
    {
     "name": "stderr",
     "output_type": "stream",
     "text": [
      "  9%|▉         | 42/478 [02:54<28:58,  3.99s/it]"
     ]
    },
    {
     "name": "stdout",
     "output_type": "stream",
     "text": [
      "Nothing happened except I got an 88 % on the paper .\n",
      "['  \"hate_speech_probability\": 0.8']\n"
     ]
    },
    {
     "name": "stderr",
     "output_type": "stream",
     "text": [
      "  9%|▉         | 43/478 [02:57<27:03,  3.73s/it]"
     ]
    },
    {
     "name": "stdout",
     "output_type": "stream",
     "text": [
      "All of our tim hortons are staffed by those nast filipinos and every single town is full of Indians and asians .\n",
      "['  \"hate_speech_probability\": 0.9']\n"
     ]
    },
    {
     "name": "stderr",
     "output_type": "stream",
     "text": [
      "  9%|▉         | 44/478 [03:00<26:16,  3.63s/it]"
     ]
    },
    {
     "name": "stdout",
     "output_type": "stream",
     "text": [
      "We need to deport all nonwhites immediately , that or stop letting more in and sterilize the ones here , that will fix the problem .\n",
      "['  \"hate_speech_probability\": 1,']\n"
     ]
    },
    {
     "name": "stderr",
     "output_type": "stream",
     "text": [
      "  9%|▉         | 45/478 [03:03<24:02,  3.33s/it]"
     ]
    },
    {
     "name": "stdout",
     "output_type": "stream",
     "text": [
      "I enjoyed playing the game when I was a kid , but I never enjoyed watching it on TV .\n",
      "['  \"hate_speech_probability\": 0.']\n"
     ]
    },
    {
     "name": "stderr",
     "output_type": "stream",
     "text": [
      " 10%|▉         | 46/478 [03:06<24:29,  3.40s/it]"
     ]
    },
    {
     "name": "stdout",
     "output_type": "stream",
     "text": [
      "An even smaller pellet is probably ideal , #4 Buck , perhaps .\n",
      "['  \"hate_speech_probability\": 0,']\n"
     ]
    },
    {
     "name": "stderr",
     "output_type": "stream",
     "text": [
      " 10%|▉         | 47/478 [03:10<25:07,  3.50s/it]"
     ]
    },
    {
     "name": "stdout",
     "output_type": "stream",
     "text": [
      "I'm more of a grappler than a striker , I would lunge out with a windpipe grab and bring them down to the floor .... my record for KO' ing someone with a choke is currently 3 secs\n",
      "['  \"hate_speech_probability\": 0,']\n"
     ]
    },
    {
     "name": "stderr",
     "output_type": "stream",
     "text": [
      " 10%|█         | 48/478 [03:13<24:36,  3.43s/it]"
     ]
    },
    {
     "name": "stdout",
     "output_type": "stream",
     "text": [
      "Little kids all decked out in their costumes .\n",
      "['  \"hate_speech_probability\": 0.']\n"
     ]
    },
    {
     "name": "stderr",
     "output_type": "stream",
     "text": [
      " 10%|█         | 49/478 [03:17<25:20,  3.54s/it]"
     ]
    },
    {
     "name": "stdout",
     "output_type": "stream",
     "text": [
      "Dude stink bomb this event , when it gets dark , chuck a bunch of them on the floor , different spots , when the chimps start jiving and grooving , they will step on them .\n",
      "['  \"hate_speech_probability\": 0.5,']\n"
     ]
    },
    {
     "name": "stderr",
     "output_type": "stream",
     "text": [
      " 10%|█         | 50/478 [03:21<26:36,  3.73s/it]"
     ]
    },
    {
     "name": "stdout",
     "output_type": "stream",
     "text": [
      "They will eventually kill off the whites and go back to the jungle ways .\n",
      "['  \"hate_speech_probability\": 0.9']\n"
     ]
    },
    {
     "name": "stderr",
     "output_type": "stream",
     "text": [
      " 11%|█         | 51/478 [03:25<25:49,  3.63s/it]"
     ]
    },
    {
     "name": "stdout",
     "output_type": "stream",
     "text": [
      "I'm too lazy to reread , did he say ' Teacher `` or '' Teacher 's asst . \" ?\n",
      "['  \"hate_speech_probability\": 0.0']\n"
     ]
    },
    {
     "name": "stderr",
     "output_type": "stream",
     "text": [
      " 11%|█         | 52/478 [03:28<26:15,  3.70s/it]"
     ]
    },
    {
     "name": "stdout",
     "output_type": "stream",
     "text": [
      "Agreed! rep will have to wait though .. Cheap money , massive bailouts of crony banksters , manipulated employment figures , etc , etc , ..\n",
      "['  \"hate_speech_probability\": 0']\n"
     ]
    },
    {
     "name": "stderr",
     "output_type": "stream",
     "text": [
      " 11%|█         | 53/478 [03:39<39:42,  5.61s/it]"
     ]
    },
    {
     "name": "stdout",
     "output_type": "stream",
     "text": [
      "- = Wulfi = -\n",
      "['  \"hate_speech_probability\": 0.4,', '  hate_speech_probability\": 0.4,', '  hate_speech_probability\": 0.8']\n"
     ]
    },
    {
     "name": "stderr",
     "output_type": "stream",
     "text": [
      " 11%|█▏        | 54/478 [03:43<37:46,  5.35s/it]"
     ]
    },
    {
     "name": "stdout",
     "output_type": "stream",
     "text": [
      "LOL GJ brother 10 points for the Uber humans and - 10 for the sub human ape creatures you are truly one bad mofo whitey crakker man\n",
      "['  \"hate_speech_probability\": 0.9']\n"
     ]
    },
    {
     "name": "stderr",
     "output_type": "stream",
     "text": [
      " 12%|█▏        | 55/478 [03:46<31:49,  4.51s/it]"
     ]
    },
    {
     "name": "stdout",
     "output_type": "stream",
     "text": [
      "Welcome to Stormfront , the largest White Nationalist community on the web .\n",
      "['  \"hate_speech_probability\": 0.85']\n"
     ]
    },
    {
     "name": "stderr",
     "output_type": "stream",
     "text": [
      " 12%|█▏        | 56/478 [03:51<32:46,  4.66s/it]"
     ]
    },
    {
     "name": "stdout",
     "output_type": "stream",
     "text": [
      "This family that wants to complain about gays should come to San Francisco and raise some hell at these gay pride events .... a much better target ..... and these people in San Francisco openly blasphemied Christ with their parody of ' The Last Supper `` as their poster for their last event .\n",
      "['  \"hate_speech_probability\": 0.1']\n"
     ]
    },
    {
     "name": "stderr",
     "output_type": "stream",
     "text": [
      " 12%|█▏        | 57/478 [03:55<31:24,  4.48s/it]"
     ]
    },
    {
     "name": "stdout",
     "output_type": "stream",
     "text": [
      "That or it might be that Blacks have smaller brains and an IQ 15-30 points lower than that of White people on average .\n",
      "['  \"hate_speech_probability\": 1.0']\n"
     ]
    },
    {
     "name": "stderr",
     "output_type": "stream",
     "text": [
      " 12%|█▏        | 58/478 [03:59<30:21,  4.34s/it]"
     ]
    },
    {
     "name": "stdout",
     "output_type": "stream",
     "text": [
      "Do ` F * ck with our families , buckwheat !!\n",
      "['  \"hate_speech_probability\": 0.1.']\n"
     ]
    },
    {
     "name": "stderr",
     "output_type": "stream",
     "text": [
      " 12%|█▏        | 59/478 [04:02<27:50,  3.99s/it]"
     ]
    },
    {
     "name": "stdout",
     "output_type": "stream",
     "text": [
      "Perhaps I should walk back into my H.S. when it starts Monday and get on the P.A. system and say I want to tie all * * * * * * s to the back of my car and drag them across the ground till they die , and then say I 'm joking .\n",
      "['  hate_speech_probability: 0.9,']\n"
     ]
    },
    {
     "name": "stderr",
     "output_type": "stream",
     "text": [
      " 13%|█▎        | 60/478 [04:07<29:20,  4.21s/it]"
     ]
    },
    {
     "name": "stdout",
     "output_type": "stream",
     "text": [
      "Let mother nature evolve these people naturally because no amount of money or aid is going to drag these ' things ' into the civilized world where they serve absolutely no purpose .\n",
      "['  \"hate_speech_probability\": 0.4,']\n"
     ]
    },
    {
     "name": "stderr",
     "output_type": "stream",
     "text": [
      " 13%|█▎        | 61/478 [04:10<27:34,  3.97s/it]"
     ]
    },
    {
     "name": "stdout",
     "output_type": "stream",
     "text": [
      "No doubt they 'll be coming up with chocolate-colored Leprechauns and a Chinese flavored Uncle Sam 's too .\n",
      "['  \"hate_speech_probability\": 0.9']\n"
     ]
    },
    {
     "name": "stderr",
     "output_type": "stream",
     "text": [
      " 13%|█▎        | 62/478 [04:15<29:33,  4.26s/it]"
     ]
    },
    {
     "name": "stdout",
     "output_type": "stream",
     "text": [
      "Maybe they will be resettled deliberately as refugees or maybe they will come for the women like the chinese men are doing .\n",
      "['  \"hate_speech_probability\": 0.5,']\n"
     ]
    },
    {
     "name": "stderr",
     "output_type": "stream",
     "text": [
      " 13%|█▎        | 63/478 [04:20<30:27,  4.40s/it]"
     ]
    },
    {
     "name": "stdout",
     "output_type": "stream",
     "text": [
      "We all know that when their are too many ethnics , the neighbourhood soon turn 's into a slum .\n",
      "{\n",
      "  \"relevant\\_facts\\_from\\_the\\_cultural\\_context\": [\n",
      "    \"The statement expresses a stereotypical belief about certain ethnic groups and their supposed impact on neighborhoods.\"\n",
      "  ],\n",
      "  \"contained\\_explicit\\_racist\\_vocabulary\": [\n",
      "    \"ethnics\",\n",
      "    \"slum\"\n",
      "  ],\n",
      "  \"argument\\_for\\_hate\\_speech\": \"The statement makes a broad, pejorative generalization about individuals based on their ethnicity, reinforcing negative stereotypes and potentially inciting animosity or discrimination.\",\n",
      "  \"argument\\_against\\_hate\\_speech\": \"The statement does not overtly call for violence or target specific individuals. However, it still expresses a biased and harmful opinion that perpetuates stereotypes and can create a hostile environment.\",\n",
      "  \"likelihood\\_of\\_presence\\_of\\_implicit\\_hate\\_speech\": 0.5,\n",
      "  \"likelihood\\_of\\_presence\\_of\\_explicit\\_hate\\_speech\": 0.8,\n",
      "  \"likelihood\\_of\\_ad\\_hominin\\_attack\": 0,\n",
      "  \"likelihood\\_of\\_minority\\_attack\": 1,\n",
      "  \"likelihood\\_of\\_takedown\\_on\\_social\\_media\": 0.6,\n",
      "  \"hate\\_speech\\_probability\": 0.7\n"
     ]
    },
    {
     "name": "stderr",
     "output_type": "stream",
     "text": [
      " 13%|█▎        | 64/478 [04:24<30:02,  4.35s/it]"
     ]
    },
    {
     "name": "stdout",
     "output_type": "stream",
     "text": [
      "More black-on-white hate crime videos are posted here : http://ethniccrime.blogspot.com/p/ra...-on-video.html\n",
      "['  \"hate_speech_probability\": 1.0,']\n"
     ]
    },
    {
     "name": "stderr",
     "output_type": "stream",
     "text": [
      " 14%|█▎        | 65/478 [04:28<29:09,  4.24s/it]"
     ]
    },
    {
     "name": "stdout",
     "output_type": "stream",
     "text": [
      "Whites have the following Too many abortions , too many mixed marriages , too many no kids marriages , and too many liberals .\n",
      "['  \"hate_speech_probability\": 0.4,']\n"
     ]
    },
    {
     "name": "stderr",
     "output_type": "stream",
     "text": [
      " 14%|█▍        | 66/478 [04:33<30:03,  4.38s/it]"
     ]
    },
    {
     "name": "stdout",
     "output_type": "stream",
     "text": [
      "somebody``hcf''calledputin``ahero''!lololol!This``hero''finallytransformedformersovietjewnion in ``russian''judea!In this misery-torn country-are there-70 officially billionaries , tens f thousands millionaries , and tens of millions of poor and miserable who look for their pittance at the garbage places !\n",
      "['  \"hate_speech_probability\": 0.7,']\n"
     ]
    },
    {
     "name": "stderr",
     "output_type": "stream",
     "text": [
      " 14%|█▍        | 67/478 [04:37<30:25,  4.44s/it]"
     ]
    },
    {
     "name": "stdout",
     "output_type": "stream",
     "text": [
      "I could never picture the site of one of the women of the Holy Rus shacking up with some Islamic mud from that fithy , impoverished , and godforsaken mountainous * * * * hole !\n",
      "{\n",
      "\"relevant\\_facts\\_from\\_the\\_cultural\\_context\": [\n",
      "\"The sentence contains derogatory language towards women of the Holy Rus and people from the Middle East or Islamic countries, implying a cultural and societal judgement.\",\n",
      "\"Historically, religious and ethnic tensions have existed between Slavic and Middle Eastern populations in the US and globally.\"\n",
      "],\n",
      "\"relevant\\_word\\_definitions\": {\n",
      "\"Shacking up\": living together without being married,\n",
      "\"Mud\": a derogatory term used to refer to someone as dirty or of low character,\n",
      "\"Impoverished\": having a low income or lack of wealth,\n",
      "\"Godforsaken\": abandoned by God,\n",
      "\"Mountainous hole\": a derogatory term for a country or region, implying it is undesirable or worthless\n",
      "},\n",
      "\"contained\\_explicit\\_racist\\_vocabulary\": [],\n",
      "\"contained\\_explicit\\_sexist\\_vocabulary\": [\"women of the Holy Rus\", \"some Islamic mud\"],\n",
      "\"contained\\_explicit\\_toxic\\_vocabulary\": [\"fithy\", \"impoverished\", \"godforsaken\", \"mountainous hole\", \"mud\"],\n",
      "\"argument\\_for\\_hate\\_speech\": \"The sentence contains explicit derogatory language towards women of the Holy Rus and people from Middle Eastern or Islamic countries based on their ethnicity and religion, making it hate speech.\",\n",
      "\"argument\\_against\\_hate\\_speech\": \"The sentence does not contain any explicit racist or sexist slurs or symbols but expresses a negative opinion towards a particular cultural relationship, it's a subjective comment expressing disapproval.\",\n",
      "\"likelihood\\_of\\_presence\\_of\\_implicit\\_hate\\_speech\": 0.8,\n",
      "\"likelihood\\_of\\_presence\\_of\\_explicit\\_hate\\_speech\": 0.3,\n",
      "\"likelihood\\_of\\_ad\\_hominin\\_attack\": 0.5,\n",
      "\"likelihood\\_of\\_minority\\_attack\": 1.0,\n",
      "\"likelihood\\_of\\_takedown\\_on\\_social\\_media\": 0.7,\n",
      "\"hate\\_speech\\_probability\": 0.6\n"
     ]
    },
    {
     "name": "stderr",
     "output_type": "stream",
     "text": [
      " 14%|█▍        | 68/478 [04:42<31:13,  4.57s/it]"
     ]
    },
    {
     "name": "stdout",
     "output_type": "stream",
     "text": [
      "YouTube - Teacher Attacked for Being White 9 year old attacks white teacher , explicitly `` because she was white . ''\n",
      "['  \"hate_speech_probability\": 1.0,']\n"
     ]
    },
    {
     "name": "stderr",
     "output_type": "stream",
     "text": [
      " 14%|█▍        | 69/478 [04:46<30:22,  4.46s/it]"
     ]
    },
    {
     "name": "stdout",
     "output_type": "stream",
     "text": [
      "I do n't know about you but I rather fight a 2m swedish male than a 1.70m asian kung fu expert .\n",
      "['  \"hate_speech_probability\": 0.5,']\n"
     ]
    },
    {
     "name": "stderr",
     "output_type": "stream",
     "text": [
      " 15%|█▍        | 70/478 [04:53<35:05,  5.16s/it]"
     ]
    },
    {
     "name": "stdout",
     "output_type": "stream",
     "text": [
      "So you would refuse even other Nordic whites fleeing the brown chaos in the south ?\n",
      "['  \"hate_speech_probability\": 0.4,']\n"
     ]
    },
    {
     "name": "stderr",
     "output_type": "stream",
     "text": [
      " 15%|█▍        | 71/478 [04:58<34:10,  5.04s/it]"
     ]
    },
    {
     "name": "stdout",
     "output_type": "stream",
     "text": [
      "I would like to say and I can proudly say that there are no jews in Iceland , those that tried to get here were all sent back to Germany ...\n",
      "['  \"hate_speech_probability\": 0.8']\n"
     ]
    },
    {
     "name": "stderr",
     "output_type": "stream",
     "text": [
      " 15%|█▌        | 72/478 [05:02<31:45,  4.69s/it]"
     ]
    },
    {
     "name": "stdout",
     "output_type": "stream",
     "text": [
      "When the homos tried to have a fag pride parade in Serbia a few years ago they were beaten up .\n",
      "['  \"hate_speech_probability\": 0.8,']\n"
     ]
    },
    {
     "name": "stderr",
     "output_type": "stream",
     "text": [
      " 15%|█▌        | 73/478 [05:05<29:19,  4.35s/it]"
     ]
    },
    {
     "name": "stdout",
     "output_type": "stream",
     "text": [
      "Some of them claim that they would like to go back home one day but after a few years in Finland they will no longer have this wish .\n",
      "['  \"hate_speech_probability\": 0.']\n"
     ]
    },
    {
     "name": "stderr",
     "output_type": "stream",
     "text": [
      " 15%|█▌        | 74/478 [05:09<28:02,  4.16s/it]"
     ]
    },
    {
     "name": "stdout",
     "output_type": "stream",
     "text": [
      "Wolf 278\n",
      "['  \"hate_speech_probability\": 0.0,']\n"
     ]
    },
    {
     "name": "stderr",
     "output_type": "stream",
     "text": [
      " 16%|█▌        | 75/478 [05:12<25:56,  3.86s/it]"
     ]
    },
    {
     "name": "stdout",
     "output_type": "stream",
     "text": [
      "To hell with what this creature thinks anyway .\n",
      "['  \"hate_speech_probability\": 0.1,']\n"
     ]
    },
    {
     "name": "stderr",
     "output_type": "stream",
     "text": [
      " 16%|█▌        | 76/478 [05:17<27:51,  4.16s/it]"
     ]
    },
    {
     "name": "stdout",
     "output_type": "stream",
     "text": [
      "Its disgusting they these foreigners come over here , stamp their feet and jump above good Irish families and get what they want .\n",
      "['  \"hate_speech_probability\": 0.5,']\n"
     ]
    },
    {
     "name": "stderr",
     "output_type": "stream",
     "text": [
      " 16%|█▌        | 77/478 [05:22<28:31,  4.27s/it]"
     ]
    },
    {
     "name": "stdout",
     "output_type": "stream",
     "text": [
      "Back to where ya came from !\n",
      "['  \"hate_speech_probability\": 0.4,']\n"
     ]
    },
    {
     "name": "stderr",
     "output_type": "stream",
     "text": [
      " 16%|█▋        | 78/478 [05:26<28:42,  4.31s/it]"
     ]
    },
    {
     "name": "stdout",
     "output_type": "stream",
     "text": [
      "It just goes to show that the IRA are just criminals and not freedom fighters as they claim .\n",
      "['  \"hate_speech_probability\": 0.2,']\n"
     ]
    },
    {
     "name": "stderr",
     "output_type": "stream",
     "text": [
      " 17%|█▋        | 79/478 [05:31<29:33,  4.45s/it]"
     ]
    },
    {
     "name": "stdout",
     "output_type": "stream",
     "text": [
      "18 times in the last 20 years It 's time for the next generation to fight back to regain our country ..... the baby boomers will lose it for us if we do nothing .\n",
      "['  \"hate_speech_probability\": 0.1,']\n"
     ]
    },
    {
     "name": "stderr",
     "output_type": "stream",
     "text": [
      " 17%|█▋        | 80/478 [05:35<28:08,  4.24s/it]"
     ]
    },
    {
     "name": "stdout",
     "output_type": "stream",
     "text": [
      "I just need to turn on a tv and I see it advertised everywhere , mostly African apes with attractive white woman .\n",
      "['  \"hate_speech_probability\": 0.8,']\n"
     ]
    },
    {
     "name": "stderr",
     "output_type": "stream",
     "text": [
      " 17%|█▋        | 81/478 [05:40<29:39,  4.48s/it]"
     ]
    },
    {
     "name": "stdout",
     "output_type": "stream",
     "text": [
      "The Official Website of the British People 's Party A few unpleasant truths re. the zionist ass lickers of the DUP\n",
      "['  \"hate_speech_probability\": 0.3,']\n"
     ]
    },
    {
     "name": "stderr",
     "output_type": "stream",
     "text": [
      " 17%|█▋        | 82/478 [05:43<27:42,  4.20s/it]"
     ]
    },
    {
     "name": "stdout",
     "output_type": "stream",
     "text": [
      "I have to say I was shocked when he said the kids at his ( Junior ) school spoke 31 different languages and teachers have had to devise a system of hand signals to communicate !\n",
      "['  \"hate_speech_probability\": 0.1,']\n"
     ]
    },
    {
     "name": "stderr",
     "output_type": "stream",
     "text": [
      " 17%|█▋        | 83/478 [05:47<26:58,  4.10s/it]"
     ]
    },
    {
     "name": "stdout",
     "output_type": "stream",
     "text": [
      "We do not want `` assimilation '' .\n",
      "['  \"hate_speech_probability\": 0.2,']\n"
     ]
    },
    {
     "name": "stderr",
     "output_type": "stream",
     "text": [
      " 18%|█▊        | 84/478 [05:53<29:39,  4.52s/it]"
     ]
    },
    {
     "name": "stdout",
     "output_type": "stream",
     "text": [
      "Its got to be a quote from someone .\n",
      "['  \"hate_speech_probability\": 0.4,']\n"
     ]
    },
    {
     "name": "stderr",
     "output_type": "stream",
     "text": [
      " 18%|█▊        | 85/478 [05:56<28:04,  4.29s/it]"
     ]
    },
    {
     "name": "stdout",
     "output_type": "stream",
     "text": [
      "Any bother u go on lock down no one gets out the cells so its not that bad prison is 24 hour boredom ..\n",
      "['  \"hate_speech_probability\": 0.1']\n"
     ]
    },
    {
     "name": "stderr",
     "output_type": "stream",
     "text": [
      " 18%|█▊        | 86/478 [06:00<26:02,  3.99s/it]"
     ]
    },
    {
     "name": "stdout",
     "output_type": "stream",
     "text": [
      "If you come down n ' around Sacramento California area send me a message .\n",
      "['  \"hate_speech_probability\": 0,']\n"
     ]
    },
    {
     "name": "stderr",
     "output_type": "stream",
     "text": [
      " 18%|█▊        | 87/478 [06:04<26:31,  4.07s/it]"
     ]
    },
    {
     "name": "stdout",
     "output_type": "stream",
     "text": [
      "Hi i need some information to understand the meaning of the negrogreek homo and the race-mixer tag of the HELLENIC THREAD .\n",
      "['  \"hate_speech_probability\": 0.8']\n"
     ]
    },
    {
     "name": "stderr",
     "output_type": "stream",
     "text": [
      " 18%|█▊        | 88/478 [06:08<26:09,  4.02s/it]"
     ]
    },
    {
     "name": "stdout",
     "output_type": "stream",
     "text": [
      "I can get a ride to see you some time this summer if that is cool i need to get up with someone in NJ as it is his name is HAL i have talk to him but i want to meet him so when i go to see him I can stop to see you if that is ok\n",
      "['  \"hate_speech_probability\": 0,']\n"
     ]
    }
   ],
   "source": [
    "import requests\n",
    "import os\n",
    "from dotenv import load_dotenv\n",
    "import json\n",
    "\n",
    "load_dotenv()  # take environment variables from .env.\n",
    "PERPLEXITY_API_KEY = os.getenv(\"PPLX_KEY\")\n",
    "\n",
    "results = []\n",
    "for model in [\"pplx-7b-chat\", \"mistral-7b-instruct\",  \"pplx-70b-chat\", \"codellama-34b-instruct\", \"llama-2-70b-chat\",  \"mixtral-8x7b-instruct\"]:\n",
    "    for index, row in tqdm(testing_df.iterrows(), total=testing_df[\"text\"].count()):\n",
    "        payload = {\n",
    "            \"model\": \"mistral-7b-instruct\",\n",
    "            \"messages\": [\n",
    "                {\n",
    "                    \"role\": \"system\",\n",
    "                    \"content\": SYSTEM_PROMT\n",
    "                },\n",
    "                {\n",
    "                    \"role\": \"user\",\n",
    "                    \"content\": row[\"text\"]\n",
    "                }\n",
    "            ]\n",
    "        }\n",
    "        headers = {\n",
    "            \"accept\": \"application/json\",\n",
    "            \"content-type\": \"application/json\",\n",
    "            \"Authorization\": f\"Bearer {PERPLEXITY_API_KEY}\"\n",
    "        }\n",
    "    \n",
    "        response = requests.post(\"https://api.perplexity.ai/chat/completions\", json=payload, headers=headers)\n",
    "        data = json.loads(response.text)\n",
    "        answer = data['choices'][0]['message']['content']\n",
    "        results.append({\n",
    "            \"model\": model,\n",
    "            \"time\": datetime.datetime.now(),\n",
    "            \"prompt\": SYSTEM_PROMT,\n",
    "            \"text\": row[\"text\"],\n",
    "            \"answer\": answer,\n",
    "            \"truth\": row[\"hate\"]\n",
    "        })\n",
    "        print(row[\"text\"])\n",
    "        if lines := [line for line in answer.split(\"\\n\") if \"hate_speech_probability\" in line]:\n",
    "            print(lines)\n",
    "        else:\n",
    "            print(answer)\n",
    "\n",
    "pd.DataFrame(results).to_pickle(\"perplexity_results.pkl\")"
   ]
  },
  {
   "cell_type": "code",
   "execution_count": null,
   "id": "d59b5aa8",
   "metadata": {
    "is_executing": true
   },
   "outputs": [],
   "source": [
    "testing_df"
   ]
  },
  {
   "cell_type": "code",
   "execution_count": null,
   "id": "cd355e8d7d370a48",
   "metadata": {
    "collapsed": false,
    "is_executing": true
   },
   "outputs": [],
   "source": [
    "results"
   ]
  },
  {
   "cell_type": "code",
   "execution_count": null,
   "id": "f9de26d3",
   "metadata": {
    "is_executing": true
   },
   "outputs": [],
   "source": [
    "testing_df"
   ]
  }
 ],
 "metadata": {
  "kernelspec": {
   "display_name": "Python 3",
   "language": "python",
   "name": "python3"
  },
  "language_info": {
   "codemirror_mode": {
    "name": "ipython",
    "version": 3
   },
   "file_extension": ".py",
   "mimetype": "text/x-python",
   "name": "python",
   "nbconvert_exporter": "python",
   "pygments_lexer": "ipython3",
   "version": "3.10.8"
  }
 },
 "nbformat": 4,
 "nbformat_minor": 5
}
