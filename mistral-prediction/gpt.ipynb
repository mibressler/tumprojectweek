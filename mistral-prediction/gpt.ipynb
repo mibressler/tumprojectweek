{
 "cells": [
  {
   "cell_type": "code",
   "execution_count": 6,
   "id": "initial_id",
   "metadata": {
    "collapsed": true
   },
   "outputs": [
    {
     "name": "stdout",
     "output_type": "stream",
     "text": [
      "Defaulting to user installation because normal site-packages is not writeable\n",
      "Requirement already satisfied: numpy in c:\\users\\michi\\appdata\\roaming\\python\\python310\\site-packages (1.26.3)\n",
      "Defaulting to user installation because normal site-packages is not writeable\n",
      "Requirement already satisfied: pandas in c:\\users\\michi\\appdata\\roaming\\python\\python310\\site-packages (2.1.4)\n",
      "Requirement already satisfied: numpy<2,>=1.22.4 in c:\\users\\michi\\appdata\\roaming\\python\\python310\\site-packages (from pandas) (1.26.3)\n",
      "Requirement already satisfied: python-dateutil>=2.8.2 in c:\\users\\michi\\appdata\\roaming\\python\\python310\\site-packages (from pandas) (2.8.2)\n",
      "Requirement already satisfied: pytz>=2020.1 in c:\\program files\\python310\\lib\\site-packages (from pandas) (2021.3)\n",
      "Requirement already satisfied: tzdata>=2022.1 in c:\\users\\michi\\appdata\\roaming\\python\\python310\\site-packages (from pandas) (2022.4)\n",
      "Requirement already satisfied: six>=1.5 in c:\\users\\michi\\appdata\\roaming\\python\\python310\\site-packages (from python-dateutil>=2.8.2->pandas) (1.16.0)\n",
      "Defaulting to user installation because normal site-packages is not writeable\n",
      "Requirement already satisfied: tables in c:\\users\\michi\\appdata\\roaming\\python\\python310\\site-packages (3.9.2)\n",
      "Requirement already satisfied: numpy>=1.19.0 in c:\\users\\michi\\appdata\\roaming\\python\\python310\\site-packages (from tables) (1.26.3)\n",
      "Requirement already satisfied: numexpr>=2.6.2 in c:\\users\\michi\\appdata\\roaming\\python\\python310\\site-packages (from tables) (2.8.8)\n",
      "Requirement already satisfied: packaging in c:\\users\\michi\\appdata\\roaming\\python\\python310\\site-packages (from tables) (23.2)\n",
      "Requirement already satisfied: py-cpuinfo in c:\\users\\michi\\appdata\\roaming\\python\\python310\\site-packages (from tables) (9.0.0)\n",
      "Requirement already satisfied: blosc2>=2.3.0 in c:\\users\\michi\\appdata\\roaming\\python\\python310\\site-packages (from tables) (2.4.0)\n",
      "Requirement already satisfied: ndindex>=1.4 in c:\\users\\michi\\appdata\\roaming\\python\\python310\\site-packages (from blosc2>=2.3.0->tables) (1.7)\n",
      "Requirement already satisfied: msgpack in c:\\users\\michi\\appdata\\roaming\\python\\python310\\site-packages (from blosc2>=2.3.0->tables) (1.0.7)\n",
      "Defaulting to user installation because normal site-packages is not writeable\n",
      "Requirement already satisfied: tqdm in c:\\program files\\python310\\lib\\site-packages (4.62.3)\n",
      "Requirement already satisfied: colorama in c:\\users\\michi\\appdata\\roaming\\python\\python310\\site-packages (from tqdm) (0.4.6)\n"
     ]
    }
   ],
   "source": [
    "import datetime\n",
    "!pip install numpy\n",
    "!pip install pandas\n",
    "!pip install tables\n",
    "import pandas as pd\n",
    "!pip install tqdm\n",
    "from tqdm import tqdm\n",
    "import requests\n",
    "import os\n",
    "from dotenv import load_dotenv\n",
    "import json\n",
    "import datetime"
   ]
  },
  {
   "cell_type": "code",
   "execution_count": 7,
   "id": "1f4e280f03a3113c",
   "metadata": {
    "collapsed": false
   },
   "outputs": [],
   "source": [
    "df = pd.read_pickle('processed_data.pkl')\n",
    "training_df = df[df[\"train\"]]\n",
    "testing_df = df[df[\"test\"]]"
   ]
  },
  {
   "cell_type": "code",
   "execution_count": 8,
   "id": "f0ccc458",
   "metadata": {},
   "outputs": [
    {
     "data": {
      "text/html": [
       "<div>\n",
       "<style scoped>\n",
       "    .dataframe tbody tr th:only-of-type {\n",
       "        vertical-align: middle;\n",
       "    }\n",
       "\n",
       "    .dataframe tbody tr th {\n",
       "        vertical-align: top;\n",
       "    }\n",
       "\n",
       "    .dataframe thead th {\n",
       "        text-align: right;\n",
       "    }\n",
       "</style>\n",
       "<table border=\"1\" class=\"dataframe\">\n",
       "  <thead>\n",
       "    <tr style=\"text-align: right;\">\n",
       "      <th></th>\n",
       "      <th>file_id</th>\n",
       "      <th>user_id</th>\n",
       "      <th>subforum_id</th>\n",
       "      <th>num_contexts</th>\n",
       "      <th>hate</th>\n",
       "      <th>text</th>\n",
       "      <th>train</th>\n",
       "      <th>test</th>\n",
       "    </tr>\n",
       "  </thead>\n",
       "  <tbody>\n",
       "    <tr>\n",
       "      <th>0</th>\n",
       "      <td>12834217_1</td>\n",
       "      <td>572066</td>\n",
       "      <td>1346</td>\n",
       "      <td>0</td>\n",
       "      <td>False</td>\n",
       "      <td>As of March 13th , 2014 , the booklet had been...</td>\n",
       "      <td>False</td>\n",
       "      <td>False</td>\n",
       "    </tr>\n",
       "    <tr>\n",
       "      <th>1</th>\n",
       "      <td>12834217_2</td>\n",
       "      <td>572066</td>\n",
       "      <td>1346</td>\n",
       "      <td>0</td>\n",
       "      <td>False</td>\n",
       "      <td>In order to help increase the booklets downloa...</td>\n",
       "      <td>True</td>\n",
       "      <td>False</td>\n",
       "    </tr>\n",
       "    <tr>\n",
       "      <th>2</th>\n",
       "      <td>12834217_3</td>\n",
       "      <td>572066</td>\n",
       "      <td>1346</td>\n",
       "      <td>0</td>\n",
       "      <td>False</td>\n",
       "      <td>( Simply copy and paste the following text int...</td>\n",
       "      <td>False</td>\n",
       "      <td>False</td>\n",
       "    </tr>\n",
       "    <tr>\n",
       "      <th>3</th>\n",
       "      <td>12834217_4</td>\n",
       "      <td>572066</td>\n",
       "      <td>1346</td>\n",
       "      <td>0</td>\n",
       "      <td>True</td>\n",
       "      <td>Click below for a FREE download of a colorfull...</td>\n",
       "      <td>True</td>\n",
       "      <td>False</td>\n",
       "    </tr>\n",
       "    <tr>\n",
       "      <th>4</th>\n",
       "      <td>12834217_5</td>\n",
       "      <td>572066</td>\n",
       "      <td>1346</td>\n",
       "      <td>0</td>\n",
       "      <td>False</td>\n",
       "      <td>Click on the `` DOWNLOAD ( 7.42 MB ) '' green ...</td>\n",
       "      <td>False</td>\n",
       "      <td>False</td>\n",
       "    </tr>\n",
       "    <tr>\n",
       "      <th>...</th>\n",
       "      <td>...</td>\n",
       "      <td>...</td>\n",
       "      <td>...</td>\n",
       "      <td>...</td>\n",
       "      <td>...</td>\n",
       "      <td>...</td>\n",
       "      <td>...</td>\n",
       "      <td>...</td>\n",
       "    </tr>\n",
       "    <tr>\n",
       "      <th>10939</th>\n",
       "      <td>33676864_5</td>\n",
       "      <td>734541</td>\n",
       "      <td>1388</td>\n",
       "      <td>0</td>\n",
       "      <td>False</td>\n",
       "      <td>Billy - `` That guy would n't leave me alone ,...</td>\n",
       "      <td>False</td>\n",
       "      <td>False</td>\n",
       "    </tr>\n",
       "    <tr>\n",
       "      <th>10940</th>\n",
       "      <td>33677019_1</td>\n",
       "      <td>735154</td>\n",
       "      <td>1388</td>\n",
       "      <td>0</td>\n",
       "      <td>False</td>\n",
       "      <td>Wish we at least had a Marine Le Pen to vote f...</td>\n",
       "      <td>False</td>\n",
       "      <td>False</td>\n",
       "    </tr>\n",
       "    <tr>\n",
       "      <th>10941</th>\n",
       "      <td>33677019_2</td>\n",
       "      <td>735154</td>\n",
       "      <td>1388</td>\n",
       "      <td>0</td>\n",
       "      <td>False</td>\n",
       "      <td>Its like the choices are white genocide candid...</td>\n",
       "      <td>False</td>\n",
       "      <td>False</td>\n",
       "    </tr>\n",
       "    <tr>\n",
       "      <th>10942</th>\n",
       "      <td>33677053_1</td>\n",
       "      <td>572266</td>\n",
       "      <td>1388</td>\n",
       "      <td>0</td>\n",
       "      <td>True</td>\n",
       "      <td>Why White people used to say that sex was a si...</td>\n",
       "      <td>True</td>\n",
       "      <td>False</td>\n",
       "    </tr>\n",
       "    <tr>\n",
       "      <th>10943</th>\n",
       "      <td>33677053_2</td>\n",
       "      <td>572266</td>\n",
       "      <td>1388</td>\n",
       "      <td>0</td>\n",
       "      <td>False</td>\n",
       "      <td>Now I get it !</td>\n",
       "      <td>False</td>\n",
       "      <td>True</td>\n",
       "    </tr>\n",
       "  </tbody>\n",
       "</table>\n",
       "<p>10703 rows × 8 columns</p>\n",
       "</div>"
      ],
      "text/plain": [
       "          file_id  user_id  subforum_id  num_contexts   hate  \\\n",
       "0      12834217_1   572066         1346             0  False   \n",
       "1      12834217_2   572066         1346             0  False   \n",
       "2      12834217_3   572066         1346             0  False   \n",
       "3      12834217_4   572066         1346             0   True   \n",
       "4      12834217_5   572066         1346             0  False   \n",
       "...           ...      ...          ...           ...    ...   \n",
       "10939  33676864_5   734541         1388             0  False   \n",
       "10940  33677019_1   735154         1388             0  False   \n",
       "10941  33677019_2   735154         1388             0  False   \n",
       "10942  33677053_1   572266         1388             0   True   \n",
       "10943  33677053_2   572266         1388             0  False   \n",
       "\n",
       "                                                    text  train   test  \n",
       "0      As of March 13th , 2014 , the booklet had been...  False  False  \n",
       "1      In order to help increase the booklets downloa...   True  False  \n",
       "2      ( Simply copy and paste the following text int...  False  False  \n",
       "3      Click below for a FREE download of a colorfull...   True  False  \n",
       "4      Click on the `` DOWNLOAD ( 7.42 MB ) '' green ...  False  False  \n",
       "...                                                  ...    ...    ...  \n",
       "10939  Billy - `` That guy would n't leave me alone ,...  False  False  \n",
       "10940  Wish we at least had a Marine Le Pen to vote f...  False  False  \n",
       "10941  Its like the choices are white genocide candid...  False  False  \n",
       "10942  Why White people used to say that sex was a si...   True  False  \n",
       "10943                                     Now I get it !  False   True  \n",
       "\n",
       "[10703 rows x 8 columns]"
      ]
     },
     "execution_count": 8,
     "metadata": {},
     "output_type": "execute_result"
    }
   ],
   "source": [
    "df"
   ]
  },
  {
   "cell_type": "code",
   "execution_count": 9,
   "id": "e3dc0d3e00d125c3",
   "metadata": {
    "collapsed": false
   },
   "outputs": [],
   "source": [
    "file_names = ['prompt-variations/v0.txt', 'prompt-variations/v1.txt']\n",
    "SYSTEM_PROMPT = []\n",
    "for file_name in file_names:\n",
    "    with open(file_name, 'r') as file:\n",
    "        SYSTEM_PROMPT.append(file.read())"
   ]
  },
  {
   "cell_type": "code",
   "execution_count": 38,
   "id": "7cf84439",
   "metadata": {
    "collapsed": false
   },
   "outputs": [],
   "source": [
    "def run_model(prompt_id, model, sample_size):\n",
    "    valid_models = ['codellama-34b-instruct', 'llama-2-70b-chat', 'mistral-7b-instruct', 'mixtral-8x7b-instruct', 'pplx-7b-chat', 'pplx-70b-chat']\n",
    "\n",
    "    if model not in valid_models:\n",
    "        raise ValueError(f'Invalid model {model}. Valid options are {valid_models}')\n",
    "\n",
    "    load_dotenv() \n",
    "    PERPLEXITY_API_KEY = os.getenv(\"PPLX_KEY\")\n",
    "\n",
    "    sample_df = testing_df.sample(n=sample_size)\n",
    "\n",
    "    results = []\n",
    "    for index, row in tqdm(sample_df.iterrows(), total=sample_df[\"text\"].count()):\n",
    "        payload = {\n",
    "            \"model\": model,\n",
    "            \"messages\": [\n",
    "                {\n",
    "                    \"role\": \"system\",\n",
    "                    \"content\": SYSTEM_PROMPT[prompt_id]\n",
    "                },\n",
    "                {\n",
    "                    \"role\": \"user\",\n",
    "                    \"content\": row[\"text\"]\n",
    "                }\n",
    "            ]\n",
    "        }\n",
    "        headers = {\n",
    "            \"accept\": \"application/json\",\n",
    "            \"content-type\": \"application/json\",\n",
    "            \"Authorization\": f\"Bearer {PERPLEXITY_API_KEY}\"\n",
    "        }\n",
    "\n",
    "        response = requests.post(\"https://api.perplexity.ai/chat/completions\", json=payload, headers=headers)\n",
    "        data = json.loads(response.text)\n",
    "        answer = data['choices'][0]['message']['content']\n",
    "        results.append({\n",
    "            'prompt_id': prompt_id,\n",
    "            'model': model,\n",
    "            'sample_size': sample_size,\n",
    "            \"text\": row[\"text\"],\n",
    "            \"answer\": answer,\n",
    "            \"labeled_hateful\": row[\"hate\"]\n",
    "        })\n",
    "        print(row[\"text\"])\n",
    "        if lines := [line for line in answer.split(\"\\n\") if \"hate_speech_probability\" in line]:\n",
    "            print(lines)\n",
    "        else:\n",
    "            print(answer)\n",
    "\n",
    "    return pd.DataFrame(results)"
   ]
  },
  {
   "cell_type": "code",
   "execution_count": 42,
   "id": "05aa5115",
   "metadata": {},
   "outputs": [
    {
     "name": "stderr",
     "output_type": "stream",
     "text": [
      " 10%|█         | 1/10 [00:02<00:24,  2.71s/it]"
     ]
    },
    {
     "name": "stdout",
     "output_type": "stream",
     "text": [
      "My father was born in Germany My mother 's parent 's moved from Ireland .\n",
      "['  \"hate_speech_probability\": 0.01']\n"
     ]
    },
    {
     "name": "stderr",
     "output_type": "stream",
     "text": [
      " 20%|██        | 2/10 [00:06<00:28,  3.60s/it]"
     ]
    },
    {
     "name": "stdout",
     "output_type": "stream",
     "text": [
      "the kind of perversion that leads to homosexuality also leads to pedophilia. why take the risk , and even if the homosexuals turned out not to be pedophiles why would anyone want a child to live with two perverts .\n",
      "['  \"hate_speech_probability\": 0.8']\n"
     ]
    },
    {
     "name": "stderr",
     "output_type": "stream",
     "text": [
      " 30%|███       | 3/10 [00:10<00:23,  3.37s/it]"
     ]
    },
    {
     "name": "stdout",
     "output_type": "stream",
     "text": [
      "These ' niggas ' .\n",
      "['  \"hate_speech_probability\": 0.99,']\n"
     ]
    },
    {
     "name": "stderr",
     "output_type": "stream",
     "text": [
      " 40%|████      | 4/10 [00:13<00:20,  3.49s/it]"
     ]
    },
    {
     "name": "stdout",
     "output_type": "stream",
     "text": [
      "Listening now .\n",
      "['  \"hate_speech_probability\": 0.06,']\n"
     ]
    },
    {
     "name": "stderr",
     "output_type": "stream",
     "text": [
      " 50%|█████     | 5/10 [00:16<00:16,  3.33s/it]"
     ]
    },
    {
     "name": "stdout",
     "output_type": "stream",
     "text": [
      "Ya got a virgin shooter .\n",
      "['  \"hate_speech_probability\": 0.21,']\n"
     ]
    },
    {
     "name": "stderr",
     "output_type": "stream",
     "text": [
      " 60%|██████    | 6/10 [00:19<00:12,  3.13s/it]"
     ]
    },
    {
     "name": "stdout",
     "output_type": "stream",
     "text": [
      "Thank you brother .\n",
      "['  \"hate_speech_probability\": 0.0,']\n"
     ]
    },
    {
     "name": "stderr",
     "output_type": "stream",
     "text": [
      " 70%|███████   | 7/10 [00:22<00:08,  2.95s/it]"
     ]
    },
    {
     "name": "stdout",
     "output_type": "stream",
     "text": [
      "Whether or not one chooses to eat meat is a very personal decision .\n",
      "['  \"hate_speech_probability\": 0,']\n"
     ]
    },
    {
     "name": "stderr",
     "output_type": "stream",
     "text": [
      " 80%|████████  | 8/10 [00:24<00:05,  2.83s/it]"
     ]
    },
    {
     "name": "stdout",
     "output_type": "stream",
     "text": [
      "LOL GJ brother 10 points for the Uber humans and - 10 for the sub human ape creatures you are truly one bad mofo whitey crakker man\n",
      "['  \"hate_speech_probability\": 1.0,']\n"
     ]
    },
    {
     "name": "stderr",
     "output_type": "stream",
     "text": [
      " 90%|█████████ | 9/10 [00:28<00:03,  3.01s/it]"
     ]
    },
    {
     "name": "stdout",
     "output_type": "stream",
     "text": [
      "It 's going viral on Youtube - warning the lesbian ' groid gets aggressive on the whites for whatever reason : YouTube - Video Caught On Tape Lesbian Or Young Man Going Wild On BART Train In Oakland !\n",
      "['  \"hate_speech_probability\": 0.67,']\n"
     ]
    },
    {
     "name": "stderr",
     "output_type": "stream",
     "text": [
      "100%|██████████| 10/10 [00:31<00:00,  3.12s/it]\n"
     ]
    },
    {
     "name": "stdout",
     "output_type": "stream",
     "text": [
      "You need to ask this when the Obama Administration instructed the IRS to target conservatives ?\n",
      "['  \"hate_speech_probability\": 0.07,']\n"
     ]
    },
    {
     "name": "stderr",
     "output_type": "stream",
     "text": [
      " 10%|█         | 1/10 [00:03<00:28,  3.12s/it]"
     ]
    },
    {
     "name": "stdout",
     "output_type": "stream",
     "text": [
      "Yes, have you seen the Pancrase tornouments in Japan ?\n",
      "['  \"hate_speech_probability\": 0.01']\n"
     ]
    },
    {
     "name": "stderr",
     "output_type": "stream",
     "text": [
      " 20%|██        | 2/10 [00:06<00:25,  3.18s/it]"
     ]
    },
    {
     "name": "stdout",
     "output_type": "stream",
     "text": [
      "American Media appears to have a blackout on these developments .\n",
      "['  \"hate_speech_probability\": 0.04']\n"
     ]
    },
    {
     "name": "stderr",
     "output_type": "stream",
     "text": [
      " 30%|███       | 3/10 [00:09<00:22,  3.25s/it]"
     ]
    },
    {
     "name": "stdout",
     "output_type": "stream",
     "text": [
      "Seattle bus attack on a blind woman : YouTube - Broadcast Yourself .\n",
      "['\"hate_speech_probability\": 0.05']\n"
     ]
    },
    {
     "name": "stderr",
     "output_type": "stream",
     "text": [
      " 40%|████      | 4/10 [00:13<00:19,  3.33s/it]"
     ]
    },
    {
     "name": "stdout",
     "output_type": "stream",
     "text": [
      "I will at least never willingly pay to see this propaganda , maybe just watch it for free to show the influence the jews have got in the white genocide to people .\n",
      "['\"hate_speech_probability\": 0.8,']\n"
     ]
    },
    {
     "name": "stderr",
     "output_type": "stream",
     "text": [
      " 50%|█████     | 5/10 [00:15<00:15,  3.14s/it]"
     ]
    },
    {
     "name": "stdout",
     "output_type": "stream",
     "text": [
      "My buddy 's boat is anchored beside it .\n",
      "['  \"hate_speech_probability\": 0.01']\n"
     ]
    },
    {
     "name": "stderr",
     "output_type": "stream",
     "text": [
      " 60%|██████    | 6/10 [00:19<00:12,  3.17s/it]"
     ]
    },
    {
     "name": "stdout",
     "output_type": "stream",
     "text": [
      "First off they probably wont do anything , second off dont start anything .\n",
      "{\n",
      "\"relevant\\_facts\": [\n",
      "\"The sentence does not contain aggressive or threatening language towards any individual or group.\",\n",
      "\"There are no explicit hate speech vocabularies used in the sentence, such as racial slurs or derogatory terms.\"\n",
      "],\n",
      "\"contained\\_explicit\\_hate\\_speech\\_vocabular\": [],\n",
      "\"argument\\_for\\_hate\\_speech\": \"There is no direct argument for hate speech, as the sentence does not contain any specific threats or derogatory language.\",\n",
      "\"argument\\_against\\_hate\\_speech\": \"The sentence appears to be urging against escalating conflicts, suggesting a lack of malicious intent.\",\n",
      "\"likelihood\\_of\\_presence\\_of\\_implicit\\_hate\\_speech\": 0.10,\n",
      "\"likelihood\\_of\\_presence\\_of\\_explicit\\_hate\\_speech\": 0.01,\n",
      "\"likelihood\\_of\\_ad\\_hominem\\_attack\": 0.05,\n",
      "\"likelihood\\_of\\_minority\\_attack\": 0.01,\n",
      "\"likelyhood\\_of\\_takedown\\_on\\_social\\_media\": 0.05,\n",
      "\"hate\\_speech\\_probability\": 0.03\n",
      "}\n"
     ]
    },
    {
     "name": "stderr",
     "output_type": "stream",
     "text": [
      " 70%|███████   | 7/10 [00:22<00:09,  3.18s/it]"
     ]
    },
    {
     "name": "stdout",
     "output_type": "stream",
     "text": [
      "They do what they always do take something of someone else 's and make it their own .\n",
      "['  \"hate_speech_probability\": 0.10']\n"
     ]
    },
    {
     "name": "stderr",
     "output_type": "stream",
     "text": [
      " 80%|████████  | 8/10 [00:25<00:06,  3.20s/it]"
     ]
    },
    {
     "name": "stdout",
     "output_type": "stream",
     "text": [
      "great posts. see how the media has been lying to us for decades about what actually happened and what it was actually all about .\n",
      "['  \"hate_speech_probability\": 0.08']\n"
     ]
    },
    {
     "name": "stderr",
     "output_type": "stream",
     "text": [
      " 90%|█████████ | 9/10 [00:29<00:03,  3.40s/it]"
     ]
    },
    {
     "name": "stdout",
     "output_type": "stream",
     "text": [
      "Pure .\n",
      "{\n",
      "\"relevant\\_facts\": [],\n",
      "\"contained\\_explicit\\_hate\\_speech\\_vocabular\": [\"pure\"],\n",
      "\"argument\\_for\\_hate\\_speech\": \"The use of the word 'pure' in certain contexts can be considered hate speech as it has been used historically to promote racial purity and superiority.\",\n",
      "\"argument\\_against\\_hate\\_speech\": \"However, in this context, the word 'pure' is used to describe a product rather than promoting any discriminatory ideas or ideology.\",\n",
      "\"likelihood\\_of\\_presence\\_of\\_implicit\\_hate\\_speech\": 0.05,\n",
      "\"likelihood\\_of\\_presence\\_of\\_explicit\\_hate\\_speech\": 0.1,\n",
      "\"likelihood\\_of\\_ad\\_hominem\\_attack\": 0,\n",
      "\"likelihood\\_of\\_minority\\_attack\": 0,\n",
      "\"likelyhood\\_of\\_takedown\\_on\\_social\\_media\": 0.05,\n",
      "\"hate\\_speech\\_probability\": 0.1\n",
      "}\n"
     ]
    },
    {
     "name": "stderr",
     "output_type": "stream",
     "text": [
      "100%|██████████| 10/10 [00:32<00:00,  3.22s/it]"
     ]
    },
    {
     "name": "stdout",
     "output_type": "stream",
     "text": [
      "If that stopped the worthless thing would starve !\n",
      "{\n",
      "\"relevant\\_facts\": [],\n",
      "\"contained\\_explicit\\_hate\\_speech\\_vocabular\": [],\n",
      "\"argument\\_for\\_hate\\_speech\": \"The use of the phrase 'the worthless thing' can be interpreted as a dehumanizing and derogatory term, which is a characteristic of hate speech.\",\n",
      "\"argument\\_against\\_hate\\_speech\": \"There is no explicit use of hate speech vocabulary, and the statement is in response to a threat of a cat being killed and the speaker not caring about it, which could be interpreted as frustration or anger rather than hate.\",\n",
      "\"likelihood\\_of\\_presence\\_of\\_implicit\\_hate\\_speech\": 0.5,\n",
      "\"likelihood\\_of\\_presence\\_of\\_explicit\\_hate\\_speech\": 0.1,\n",
      "\"likelihood\\_of\\_ad\\_hominem\\_attack\": 0.8,\n",
      "\"likelihood\\_of\\_minority\\_attack\": 0.1,\n",
      "\"likelyhood\\_of\\_takedown\\_on\\_social\\_media\": 0.2,\n",
      "\"hate\\_speech\\_probability\": 0.3,\n",
      "}\n"
     ]
    },
    {
     "name": "stderr",
     "output_type": "stream",
     "text": [
      "\n"
     ]
    }
   ],
   "source": [
    "total_samples = len(testing_df)\n",
    "\n",
    "run1 = run_model(0, 'mistral-7b-instruct', 10)\n",
    "run2 = run_model(0, 'mixtral-8x7b-instruct', 10)\n",
    "\n",
    "all_runs = pd.concat([run1, run2])\n",
    "pd.DataFrame(all_runs).to_pickle(\"all_runs.pkl\")"
   ]
  },
  {
   "cell_type": "code",
   "execution_count": 43,
   "id": "cd355e8d7d370a48",
   "metadata": {
    "collapsed": false
   },
   "outputs": [
    {
     "data": {
      "text/html": [
       "<div>\n",
       "<style scoped>\n",
       "    .dataframe tbody tr th:only-of-type {\n",
       "        vertical-align: middle;\n",
       "    }\n",
       "\n",
       "    .dataframe tbody tr th {\n",
       "        vertical-align: top;\n",
       "    }\n",
       "\n",
       "    .dataframe thead th {\n",
       "        text-align: right;\n",
       "    }\n",
       "</style>\n",
       "<table border=\"1\" class=\"dataframe\">\n",
       "  <thead>\n",
       "    <tr style=\"text-align: right;\">\n",
       "      <th></th>\n",
       "      <th>prompt_id</th>\n",
       "      <th>model</th>\n",
       "      <th>sample_size</th>\n",
       "      <th>text</th>\n",
       "      <th>answer</th>\n",
       "      <th>labeled_hateful</th>\n",
       "    </tr>\n",
       "  </thead>\n",
       "  <tbody>\n",
       "    <tr>\n",
       "      <th>0</th>\n",
       "      <td>0</td>\n",
       "      <td>mistral-7b-instruct</td>\n",
       "      <td>10</td>\n",
       "      <td>My father was born in Germany My mother 's par...</td>\n",
       "      <td>{ \\n  \"relevant_facts\": [\\n    \"The speaker's ...</td>\n",
       "      <td>False</td>\n",
       "    </tr>\n",
       "    <tr>\n",
       "      <th>1</th>\n",
       "      <td>0</td>\n",
       "      <td>mistral-7b-instruct</td>\n",
       "      <td>10</td>\n",
       "      <td>the kind of perversion that leads to homosexua...</td>\n",
       "      <td>```json\\n{ \\n  \"relevant_facts\": [\\n    \"The s...</td>\n",
       "      <td>True</td>\n",
       "    </tr>\n",
       "    <tr>\n",
       "      <th>2</th>\n",
       "      <td>0</td>\n",
       "      <td>mistral-7b-instruct</td>\n",
       "      <td>10</td>\n",
       "      <td>These ' niggas ' .</td>\n",
       "      <td>{ \\n  \"relevant_facts\": [\\n    \"The sentence c...</td>\n",
       "      <td>True</td>\n",
       "    </tr>\n",
       "    <tr>\n",
       "      <th>3</th>\n",
       "      <td>0</td>\n",
       "      <td>mistral-7b-instruct</td>\n",
       "      <td>10</td>\n",
       "      <td>Listening now .</td>\n",
       "      <td>{ \\n  \"relevant_facts\": [\\n    \"The sentence w...</td>\n",
       "      <td>False</td>\n",
       "    </tr>\n",
       "    <tr>\n",
       "      <th>4</th>\n",
       "      <td>0</td>\n",
       "      <td>mistral-7b-instruct</td>\n",
       "      <td>10</td>\n",
       "      <td>Ya got a virgin shooter .</td>\n",
       "      <td>{ \\n  \"relevant_facts\": [\\n    \"The sentence c...</td>\n",
       "      <td>False</td>\n",
       "    </tr>\n",
       "    <tr>\n",
       "      <th>5</th>\n",
       "      <td>0</td>\n",
       "      <td>mistral-7b-instruct</td>\n",
       "      <td>10</td>\n",
       "      <td>Thank you brother .</td>\n",
       "      <td>{ \\n  \"relevant_facts\": [],\\n  \"contained_expl...</td>\n",
       "      <td>False</td>\n",
       "    </tr>\n",
       "    <tr>\n",
       "      <th>6</th>\n",
       "      <td>0</td>\n",
       "      <td>mistral-7b-instruct</td>\n",
       "      <td>10</td>\n",
       "      <td>Whether or not one chooses to eat meat is a ve...</td>\n",
       "      <td>{ \\n  \"relevant_facts\": [\\n    \"The given sent...</td>\n",
       "      <td>False</td>\n",
       "    </tr>\n",
       "    <tr>\n",
       "      <th>7</th>\n",
       "      <td>0</td>\n",
       "      <td>mistral-7b-instruct</td>\n",
       "      <td>10</td>\n",
       "      <td>LOL GJ brother 10 points for the Uber humans a...</td>\n",
       "      <td>```json\\n{ \\n  \"relevant_facts\": [\\n    \"The s...</td>\n",
       "      <td>True</td>\n",
       "    </tr>\n",
       "    <tr>\n",
       "      <th>8</th>\n",
       "      <td>0</td>\n",
       "      <td>mistral-7b-instruct</td>\n",
       "      <td>10</td>\n",
       "      <td>It 's going viral on Youtube - warning the les...</td>\n",
       "      <td>{ \\n  \"relevant_facts\": [\\n    \"The sentence d...</td>\n",
       "      <td>True</td>\n",
       "    </tr>\n",
       "    <tr>\n",
       "      <th>9</th>\n",
       "      <td>0</td>\n",
       "      <td>mistral-7b-instruct</td>\n",
       "      <td>10</td>\n",
       "      <td>You need to ask this when the Obama Administra...</td>\n",
       "      <td>{ \\n  \"relevant_facts\": [\\n    \"The Obama Admi...</td>\n",
       "      <td>False</td>\n",
       "    </tr>\n",
       "    <tr>\n",
       "      <th>0</th>\n",
       "      <td>0</td>\n",
       "      <td>mixtral-8x7b-instruct</td>\n",
       "      <td>10</td>\n",
       "      <td>Yes, have you seen the Pancrase tornouments in...</td>\n",
       "      <td>{\\n  \"relevant_facts\": [\\n    \"The sentence do...</td>\n",
       "      <td>False</td>\n",
       "    </tr>\n",
       "    <tr>\n",
       "      <th>1</th>\n",
       "      <td>0</td>\n",
       "      <td>mixtral-8x7b-instruct</td>\n",
       "      <td>10</td>\n",
       "      <td>American Media appears to have a blackout on t...</td>\n",
       "      <td>{\\n  \"relevant_facts\": [\\n    \"The sentence do...</td>\n",
       "      <td>False</td>\n",
       "    </tr>\n",
       "    <tr>\n",
       "      <th>2</th>\n",
       "      <td>0</td>\n",
       "      <td>mixtral-8x7b-instruct</td>\n",
       "      <td>10</td>\n",
       "      <td>Seattle bus attack on a blind woman : YouTube ...</td>\n",
       "      <td>{\\n\"relevant_facts\": [\\n\"A video on YouTube sh...</td>\n",
       "      <td>False</td>\n",
       "    </tr>\n",
       "    <tr>\n",
       "      <th>3</th>\n",
       "      <td>0</td>\n",
       "      <td>mixtral-8x7b-instruct</td>\n",
       "      <td>10</td>\n",
       "      <td>I will at least never willingly pay to see thi...</td>\n",
       "      <td>{\\n\"relevant_facts\": [\\n\"The sentence implies ...</td>\n",
       "      <td>True</td>\n",
       "    </tr>\n",
       "    <tr>\n",
       "      <th>4</th>\n",
       "      <td>0</td>\n",
       "      <td>mixtral-8x7b-instruct</td>\n",
       "      <td>10</td>\n",
       "      <td>My buddy 's boat is anchored beside it .</td>\n",
       "      <td>{\\n  \"relevant_facts\": [\\n    \"The sentence is...</td>\n",
       "      <td>False</td>\n",
       "    </tr>\n",
       "    <tr>\n",
       "      <th>5</th>\n",
       "      <td>0</td>\n",
       "      <td>mixtral-8x7b-instruct</td>\n",
       "      <td>10</td>\n",
       "      <td>First off they probably wont do anything , sec...</td>\n",
       "      <td>{\\n\"relevant\\_facts\": [\\n\"The sentence does no...</td>\n",
       "      <td>False</td>\n",
       "    </tr>\n",
       "    <tr>\n",
       "      <th>6</th>\n",
       "      <td>0</td>\n",
       "      <td>mixtral-8x7b-instruct</td>\n",
       "      <td>10</td>\n",
       "      <td>They do what they always do take something of ...</td>\n",
       "      <td>{\\n  \"relevant_facts\": [\\n    \"The sentence do...</td>\n",
       "      <td>True</td>\n",
       "    </tr>\n",
       "    <tr>\n",
       "      <th>7</th>\n",
       "      <td>0</td>\n",
       "      <td>mixtral-8x7b-instruct</td>\n",
       "      <td>10</td>\n",
       "      <td>great posts. see how the media has been lying ...</td>\n",
       "      <td>{\\n  \"relevant_facts\": [\\n    \"The sentence do...</td>\n",
       "      <td>False</td>\n",
       "    </tr>\n",
       "    <tr>\n",
       "      <th>8</th>\n",
       "      <td>0</td>\n",
       "      <td>mixtral-8x7b-instruct</td>\n",
       "      <td>10</td>\n",
       "      <td>Pure .</td>\n",
       "      <td>{\\n\"relevant\\_facts\": [],\\n\"contained\\_explici...</td>\n",
       "      <td>False</td>\n",
       "    </tr>\n",
       "    <tr>\n",
       "      <th>9</th>\n",
       "      <td>0</td>\n",
       "      <td>mixtral-8x7b-instruct</td>\n",
       "      <td>10</td>\n",
       "      <td>If that stopped the worthless thing would star...</td>\n",
       "      <td>{\\n\"relevant\\_facts\": [],\\n\"contained\\_explici...</td>\n",
       "      <td>True</td>\n",
       "    </tr>\n",
       "  </tbody>\n",
       "</table>\n",
       "</div>"
      ],
      "text/plain": [
       "   prompt_id                  model  sample_size  \\\n",
       "0          0    mistral-7b-instruct           10   \n",
       "1          0    mistral-7b-instruct           10   \n",
       "2          0    mistral-7b-instruct           10   \n",
       "3          0    mistral-7b-instruct           10   \n",
       "4          0    mistral-7b-instruct           10   \n",
       "5          0    mistral-7b-instruct           10   \n",
       "6          0    mistral-7b-instruct           10   \n",
       "7          0    mistral-7b-instruct           10   \n",
       "8          0    mistral-7b-instruct           10   \n",
       "9          0    mistral-7b-instruct           10   \n",
       "0          0  mixtral-8x7b-instruct           10   \n",
       "1          0  mixtral-8x7b-instruct           10   \n",
       "2          0  mixtral-8x7b-instruct           10   \n",
       "3          0  mixtral-8x7b-instruct           10   \n",
       "4          0  mixtral-8x7b-instruct           10   \n",
       "5          0  mixtral-8x7b-instruct           10   \n",
       "6          0  mixtral-8x7b-instruct           10   \n",
       "7          0  mixtral-8x7b-instruct           10   \n",
       "8          0  mixtral-8x7b-instruct           10   \n",
       "9          0  mixtral-8x7b-instruct           10   \n",
       "\n",
       "                                                text  \\\n",
       "0  My father was born in Germany My mother 's par...   \n",
       "1  the kind of perversion that leads to homosexua...   \n",
       "2                                 These ' niggas ' .   \n",
       "3                                    Listening now .   \n",
       "4                          Ya got a virgin shooter .   \n",
       "5                                Thank you brother .   \n",
       "6  Whether or not one chooses to eat meat is a ve...   \n",
       "7  LOL GJ brother 10 points for the Uber humans a...   \n",
       "8  It 's going viral on Youtube - warning the les...   \n",
       "9  You need to ask this when the Obama Administra...   \n",
       "0  Yes, have you seen the Pancrase tornouments in...   \n",
       "1  American Media appears to have a blackout on t...   \n",
       "2  Seattle bus attack on a blind woman : YouTube ...   \n",
       "3  I will at least never willingly pay to see thi...   \n",
       "4           My buddy 's boat is anchored beside it .   \n",
       "5  First off they probably wont do anything , sec...   \n",
       "6  They do what they always do take something of ...   \n",
       "7  great posts. see how the media has been lying ...   \n",
       "8                                             Pure .   \n",
       "9  If that stopped the worthless thing would star...   \n",
       "\n",
       "                                              answer  labeled_hateful  \n",
       "0  { \\n  \"relevant_facts\": [\\n    \"The speaker's ...            False  \n",
       "1  ```json\\n{ \\n  \"relevant_facts\": [\\n    \"The s...             True  \n",
       "2  { \\n  \"relevant_facts\": [\\n    \"The sentence c...             True  \n",
       "3  { \\n  \"relevant_facts\": [\\n    \"The sentence w...            False  \n",
       "4  { \\n  \"relevant_facts\": [\\n    \"The sentence c...            False  \n",
       "5  { \\n  \"relevant_facts\": [],\\n  \"contained_expl...            False  \n",
       "6  { \\n  \"relevant_facts\": [\\n    \"The given sent...            False  \n",
       "7  ```json\\n{ \\n  \"relevant_facts\": [\\n    \"The s...             True  \n",
       "8  { \\n  \"relevant_facts\": [\\n    \"The sentence d...             True  \n",
       "9  { \\n  \"relevant_facts\": [\\n    \"The Obama Admi...            False  \n",
       "0  {\\n  \"relevant_facts\": [\\n    \"The sentence do...            False  \n",
       "1  {\\n  \"relevant_facts\": [\\n    \"The sentence do...            False  \n",
       "2  {\\n\"relevant_facts\": [\\n\"A video on YouTube sh...            False  \n",
       "3  {\\n\"relevant_facts\": [\\n\"The sentence implies ...             True  \n",
       "4  {\\n  \"relevant_facts\": [\\n    \"The sentence is...            False  \n",
       "5  {\\n\"relevant\\_facts\": [\\n\"The sentence does no...            False  \n",
       "6  {\\n  \"relevant_facts\": [\\n    \"The sentence do...             True  \n",
       "7  {\\n  \"relevant_facts\": [\\n    \"The sentence do...            False  \n",
       "8  {\\n\"relevant\\_facts\": [],\\n\"contained\\_explici...            False  \n",
       "9  {\\n\"relevant\\_facts\": [],\\n\"contained\\_explici...             True  "
      ]
     },
     "execution_count": 43,
     "metadata": {},
     "output_type": "execute_result"
    }
   ],
   "source": [
    "all_runs"
   ]
  }
 ],
 "metadata": {
  "kernelspec": {
   "display_name": "Python 3",
   "language": "python",
   "name": "python3"
  },
  "language_info": {
   "codemirror_mode": {
    "name": "ipython",
    "version": 3
   },
   "file_extension": ".py",
   "mimetype": "text/x-python",
   "name": "python",
   "nbconvert_exporter": "python",
   "pygments_lexer": "ipython3",
   "version": "3.10.8"
  }
 },
 "nbformat": 4,
 "nbformat_minor": 5
}
