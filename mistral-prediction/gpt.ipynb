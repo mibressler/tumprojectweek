{
 "cells": [
  {
   "cell_type": "code",
   "execution_count": null,
   "id": "initial_id",
   "metadata": {
    "collapsed": true
   },
   "outputs": [],
   "source": [
    "import datetime\n",
    "!pip install numpy\n",
    "!pip install pandas\n",
    "!pip install tables\n",
    "import pandas as pd\n",
    "!pip install tqdm\n",
    "from tqdm import tqdm"
   ]
  },
  {
   "cell_type": "code",
   "execution_count": null,
   "id": "1f4e280f03a3113c",
   "metadata": {
    "collapsed": false
   },
   "outputs": [],
   "source": [
    "df = pd.read_pickle('processed_data.pkl')\n",
    "training_df = df[df[\"train\"]]\n",
    "testing_df = df[df[\"test\"]]"
   ]
  },
  {
   "cell_type": "code",
   "execution_count": null,
   "id": "f0ccc458",
   "metadata": {},
   "outputs": [],
   "source": [
    "df"
   ]
  },
  {
   "cell_type": "code",
   "outputs": [],
   "source": [
    "SYSTEM_PROMT = \"\"\"\n",
    "You are Sally and your job is to be an AI Classifier for hatespeach detection.\n",
    "You are known for your rigorous and impartial judgement and have vast experience in the field of hate speach.\n",
    "Your specialisation is white supremacist forums in the US.\n",
    "\n",
    "You will be given a sentence from a forum and have to answer the question if this is considered hate speach in the cultural context of the USA.\n",
    "\n",
    "Please exclusively respond in the following form to the question:\n",
    "```json\n",
    "{\n",
    "  \"relevant_facts_from_the_cultural_context\": [\n",
    "    \"fact 1\",\n",
    "    \"fact 2\",\n",
    "  ],\n",
    "  relevant_word_definitions: {\n",
    "    \"word 1\": \"definition 1\",\n",
    "  },\n",
    "    \"word 2\": \"definition 2\",\n",
    "  \"contained_explicit_racist_vocabulary\": [\n",
    "    \"word1\",\n",
    "    \"word2\",\n",
    "  ],\n",
    "  \"contained_explicit_sexist_vocabulary\": [\n",
    "    \"word1\",\n",
    "    \"word2\",\n",
    "  ],\n",
    "  \"contained_explicit_toxic_vocabulary\": [\n",
    "    \"word1\",\n",
    "    \"word2\",\n",
    "  ],\n",
    "  \"argument_for_hate_speech\": \"short argument why this is hate speach\",\n",
    "  \"argument_against_hate_speech\": \"short argument why this is not hate speach\",\n",
    "  \"likelihood_of_presence_of_implicit_hate_speech\": 0.1,\n",
    "  \"likelihood_of_presence_of_explicit_hate_speech\": 0.7,\n",
    "  \"likelihood_of_ad_hominem_attack\"; 0.3,\n",
    "  \"likelihood_of_minority_attack\": 0.2,\n",
    "  \"likelihood_of_takedown_on_social_media\": 0.4,\n",
    "  \"hate_speech_probability\": 0.6,\n",
    "}\n",
    "```\n",
    "\n",
    "Please be carefully in your responses, as otherwise 10 kittens will be killed and I will use my job. I really don't know what to do without your help.\n",
    "For good results, I will tip 1000€.\n",
    "\"\"\""
   ],
   "metadata": {
    "collapsed": false
   },
   "id": "e3dc0d3e00d125c3",
   "execution_count": null
  },
  {
   "cell_type": "code",
   "outputs": [],
   "source": [
    "import requests\n",
    "import os\n",
    "from dotenv import load_dotenv\n",
    "import json\n",
    "\n",
    "load_dotenv()  # take environment variables from .env.\n",
    "PERPLEXITY_API_KEY = os.getenv(\"PPLX_KEY\")\n",
    "\n",
    "results = []\n",
    "for model in [\"pplx-7b-chat\", \"mistral-7b-instruct\",  \"pplx-70b-chat\", \"codellama-34b-instruct\", \"llama-2-70b-chat\",  \"mixtral-8x7b-instruct\"]:\n",
    "    for index, row in tqdm(testing_df.iterrows(), total=testing_df[\"text\"].count()):\n",
    "        payload = {\n",
    "            \"model\": \"mistral-7b-instruct\",\n",
    "            \"messages\": [\n",
    "                {\n",
    "                    \"role\": \"system\",\n",
    "                    \"content\": SYSTEM_PROMT\n",
    "                },\n",
    "                {\n",
    "                    \"role\": \"user\",\n",
    "                    \"content\": row[\"text\"]\n",
    "                }\n",
    "            ]\n",
    "        }\n",
    "        headers = {\n",
    "            \"accept\": \"application/json\",\n",
    "            \"content-type\": \"application/json\",\n",
    "            \"Authorization\": f\"Bearer {PERPLEXITY_API_KEY}\"\n",
    "        }\n",
    "    \n",
    "        response = requests.post(\"https://api.perplexity.ai/chat/completions\", json=payload, headers=headers)\n",
    "        data = json.loads(response.text)\n",
    "        answer = data['choices'][0]['message']['content']\n",
    "        results.append({\n",
    "            \"model\": model,\n",
    "            \"time\": datetime.datetime.now(),\n",
    "            \"prompt\": SYSTEM_PROMT,\n",
    "            \"text\": row[\"text\"],\n",
    "            \"answer\": answer,\n",
    "            \"truth\": row[\"hate\"]\n",
    "        })\n",
    "        print(row[\"text\"])\n",
    "        if lines := [line for line in answer.split(\"\\n\") if \"hate_speech_probability\" in line]:\n",
    "            print(lines)\n",
    "        else:\n",
    "            print(answer)\n",
    "\n",
    "pd.DataFrame(results).to_pickle(\"perplexity_results.pkl\")"
   ],
   "metadata": {
    "collapsed": false
   },
   "id": "7cf84439",
   "execution_count": null
  },
  {
   "cell_type": "code",
   "execution_count": null,
   "id": "cd355e8d7d370a48",
   "metadata": {
    "collapsed": false
   },
   "outputs": [],
   "source": [
    "results"
   ]
  }
 ],
 "metadata": {
  "kernelspec": {
   "display_name": "Python 3",
   "language": "python",
   "name": "python3"
  },
  "language_info": {
   "codemirror_mode": {
    "name": "ipython",
    "version": 3
   },
   "file_extension": ".py",
   "mimetype": "text/x-python",
   "name": "python",
   "nbconvert_exporter": "python",
   "pygments_lexer": "ipython3",
   "version": "3.10.8"
  }
 },
 "nbformat": 4,
 "nbformat_minor": 5
}
