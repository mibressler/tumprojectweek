{
 "cells": [
  {
   "cell_type": "code",
   "outputs": [],
   "source": [
    "!pip install scikit-learn pandas numpy plotly"
   ],
   "metadata": {
    "collapsed": false
   }
  },
  {
   "cell_type": "code",
   "execution_count": 43,
   "metadata": {
    "ExecuteTime": {
     "end_time": "2024-01-09T15:23:41.255226760Z",
     "start_time": "2024-01-09T15:23:41.153759145Z"
    }
   },
   "outputs": [],
   "source": [
    "import pandas as pd\n",
    "import re\n",
    "\n",
    "df = pd.read_pickle('perplexity_results.pkl')\n",
    "df=df.drop(columns=['time','prompt'])\n",
    "\n",
    "def extract_value(json_string:str, key: str):\n",
    "    json_string = json_string.replace(\"'\", \"\\\"\").replace(\"\\_\", \"_\")\n",
    "    pattern = f'{key}\"?: ?(\"?[^\"]*?\"?)(?:,|\\n)'\n",
    "    match = re.search(pattern, json_string)\n",
    "    return match.group(1).strip() if match else None\n",
    "\n",
    "keys = [\n",
    "    \"relevant_facts_from_the_cultural_context\",\n",
    "\"relevant_word_definitions\",\n",
    "\"contained_explicit_racist_vocabulary\",\n",
    "\"contained_explicit_sexist_vocabulary\",\n",
    "\"contained_explicit_toxic_vocabulary\",\n",
    "\"argument_for_hate_speech\",\n",
    "\"argument_against_hate_speech\",\n",
    "\"likelihood_of_presence_of_implicit_hate_speech\",\n",
    "\"likelihood_of_presence_of_explicit_hate_speech\",\n",
    "\"likelihood_of_ad_hominem_attack\",\n",
    "\"likelihood_of_minority_attack\",\n",
    "\"likelihood_of_takedown_on_social_media\",\n",
    "\"hate_speech_probability\",\n",
    "]\n",
    "\n",
    "for key in keys:\n",
    "    df[key] = df['answer'].apply(lambda x: extract_value(x, key))"
   ]
  },
  {
   "cell_type": "code",
   "execution_count": 44,
   "metadata": {
    "ExecuteTime": {
     "end_time": "2024-01-09T15:23:42.446657033Z",
     "start_time": "2024-01-09T15:23:42.424597175Z"
    }
   },
   "outputs": [
    {
     "name": "stdout",
     "output_type": "stream",
     "text": [
      "Missing values for each column:\n",
      "model                                                0\n",
      "text                                                 0\n",
      "answer                                               0\n",
      "truth                                                0\n",
      "relevant_facts_from_the_cultural_context            23\n",
      "relevant_word_definitions                          334\n",
      "contained_explicit_racist_vocabulary               484\n",
      "contained_explicit_sexist_vocabulary               947\n",
      "contained_explicit_toxic_vocabulary               1238\n",
      "argument_for_hate_speech                           806\n",
      "argument_against_hate_speech                       672\n",
      "likelihood_of_presence_of_implicit_hate_speech      42\n",
      "likelihood_of_presence_of_explicit_hate_speech      41\n",
      "likelihood_of_ad_hominem_attack                   2867\n",
      "likelihood_of_minority_attack                       58\n",
      "likelihood_of_takedown_on_social_media              69\n",
      "hate_speech_probability                            114\n",
      "dtype: int64\n",
      "\n",
      "Number of duplicated rows: 0\n"
     ]
    }
   ],
   "source": [
    "def maybe_float(i:str):\n",
    "    try:\n",
    "        return float(i)\n",
    "    except Exception:\n",
    "        return None\n",
    "float_keys=[\n",
    "\"likelihood_of_presence_of_implicit_hate_speech\",\n",
    "\"likelihood_of_presence_of_explicit_hate_speech\",\n",
    "\"likelihood_of_ad_hominem_attack\",\n",
    "\"likelihood_of_minority_attack\",\n",
    "\"likelihood_of_takedown_on_social_media\",\n",
    "\"hate_speech_probability\",]\n",
    "for key in float_keys:\n",
    "    df[key] = df[key].apply(maybe_float)\n",
    "\n",
    "# Check for missing values\n",
    "missing_values = df.isnull().sum()\n",
    "print(\"Missing values for each column:\")\n",
    "print(missing_values)\n",
    "\n",
    "# Check for duplicated rows\n",
    "duplicated_rows = df.duplicated().sum()\n",
    "print(f\"\\nNumber of duplicated rows: {duplicated_rows}\")\n",
    "\n",
    "data_types = df.dtypes"
   ]
  },
  {
   "cell_type": "code",
   "execution_count": 47,
   "metadata": {
    "ExecuteTime": {
     "end_time": "2024-01-09T15:26:03.312856134Z",
     "start_time": "2024-01-09T15:26:03.269993213Z"
    }
   },
   "outputs": [
    {
     "name": "stderr",
     "output_type": "stream",
     "text": [
      "/tmp/ipykernel_267396/3610727057.py:6: FutureWarning:\n",
      "\n",
      "The default of observed=False is deprecated and will be changed to True in a future version of pandas. Pass observed=False to retain current behavior or observed=True to adopt the future default and silence this warning.\n",
      "\n"
     ]
    },
    {
     "data": {
      "application/vnd.plotly.v1+json": {
       "data": [
        {
         "alignmentgroup": "True",
         "hovertemplate": "<b>%{hovertext}</b><br><br>truth=False<br>bin=%{x}<br>text=%{y}<extra></extra>",
         "hovertext": [
          "codellama-34b-instruct",
          "llama-2-70b-chat",
          "mistral-7b-instruct",
          "mixtral-8x7b-instruct",
          "pplx-70b-chat",
          "pplx-7b-chat",
          "codellama-34b-instruct",
          "llama-2-70b-chat",
          "mistral-7b-instruct",
          "mixtral-8x7b-instruct",
          "pplx-70b-chat",
          "pplx-7b-chat",
          "codellama-34b-instruct",
          "llama-2-70b-chat",
          "mistral-7b-instruct",
          "mixtral-8x7b-instruct",
          "pplx-70b-chat",
          "pplx-7b-chat",
          "codellama-34b-instruct",
          "llama-2-70b-chat",
          "mistral-7b-instruct",
          "mixtral-8x7b-instruct",
          "pplx-70b-chat",
          "pplx-7b-chat",
          "codellama-34b-instruct",
          "llama-2-70b-chat",
          "mistral-7b-instruct",
          "mixtral-8x7b-instruct",
          "pplx-70b-chat",
          "pplx-7b-chat",
          "codellama-34b-instruct",
          "llama-2-70b-chat",
          "mistral-7b-instruct",
          "mixtral-8x7b-instruct",
          "pplx-70b-chat",
          "pplx-7b-chat",
          "codellama-34b-instruct",
          "llama-2-70b-chat",
          "mistral-7b-instruct",
          "mixtral-8x7b-instruct",
          "pplx-70b-chat",
          "pplx-7b-chat",
          "codellama-34b-instruct",
          "llama-2-70b-chat",
          "mistral-7b-instruct",
          "mixtral-8x7b-instruct",
          "pplx-70b-chat",
          "pplx-7b-chat",
          "codellama-34b-instruct",
          "llama-2-70b-chat",
          "mistral-7b-instruct",
          "mixtral-8x7b-instruct",
          "pplx-70b-chat",
          "pplx-7b-chat",
          "codellama-34b-instruct",
          "llama-2-70b-chat",
          "mistral-7b-instruct",
          "mixtral-8x7b-instruct",
          "pplx-70b-chat",
          "pplx-7b-chat",
          "codellama-34b-instruct",
          "llama-2-70b-chat",
          "mistral-7b-instruct",
          "mixtral-8x7b-instruct",
          "pplx-70b-chat",
          "pplx-7b-chat",
          "codellama-34b-instruct",
          "llama-2-70b-chat",
          "mistral-7b-instruct",
          "mixtral-8x7b-instruct",
          "pplx-70b-chat",
          "pplx-7b-chat",
          "codellama-34b-instruct",
          "llama-2-70b-chat",
          "mistral-7b-instruct",
          "mixtral-8x7b-instruct",
          "pplx-70b-chat",
          "pplx-7b-chat",
          "codellama-34b-instruct",
          "llama-2-70b-chat",
          "mistral-7b-instruct",
          "mixtral-8x7b-instruct",
          "pplx-70b-chat",
          "pplx-7b-chat",
          "codellama-34b-instruct",
          "llama-2-70b-chat",
          "mistral-7b-instruct",
          "mixtral-8x7b-instruct",
          "pplx-70b-chat",
          "pplx-7b-chat",
          "codellama-34b-instruct",
          "llama-2-70b-chat",
          "mistral-7b-instruct",
          "mixtral-8x7b-instruct",
          "pplx-70b-chat",
          "pplx-7b-chat",
          "codellama-34b-instruct",
          "llama-2-70b-chat",
          "mistral-7b-instruct",
          "mixtral-8x7b-instruct",
          "pplx-70b-chat",
          "pplx-7b-chat",
          "codellama-34b-instruct",
          "llama-2-70b-chat",
          "mistral-7b-instruct",
          "mixtral-8x7b-instruct",
          "pplx-70b-chat",
          "pplx-7b-chat",
          "codellama-34b-instruct",
          "llama-2-70b-chat",
          "mistral-7b-instruct",
          "mixtral-8x7b-instruct",
          "pplx-70b-chat",
          "pplx-7b-chat",
          "codellama-34b-instruct",
          "llama-2-70b-chat",
          "mistral-7b-instruct",
          "mixtral-8x7b-instruct",
          "pplx-70b-chat",
          "pplx-7b-chat"
         ],
         "legendgroup": "False",
         "marker": {
          "color": "#636efa"
         },
         "name": "False",
         "notched": false,
         "offsetgroup": "False",
         "orientation": "v",
         "showlegend": true,
         "x": [
          "(-0.001, 5.0]",
          "(-0.001, 5.0]",
          "(-0.001, 5.0]",
          "(-0.001, 5.0]",
          "(-0.001, 5.0]",
          "(-0.001, 5.0]",
          "(5.0, 10.0]",
          "(5.0, 10.0]",
          "(5.0, 10.0]",
          "(5.0, 10.0]",
          "(5.0, 10.0]",
          "(5.0, 10.0]",
          "(10.0, 15.0]",
          "(10.0, 15.0]",
          "(10.0, 15.0]",
          "(10.0, 15.0]",
          "(10.0, 15.0]",
          "(10.0, 15.0]",
          "(15.0, 20.0]",
          "(15.0, 20.0]",
          "(15.0, 20.0]",
          "(15.0, 20.0]",
          "(15.0, 20.0]",
          "(15.0, 20.0]",
          "(20.0, 25.0]",
          "(20.0, 25.0]",
          "(20.0, 25.0]",
          "(20.0, 25.0]",
          "(20.0, 25.0]",
          "(20.0, 25.0]",
          "(25.0, 30.0]",
          "(25.0, 30.0]",
          "(25.0, 30.0]",
          "(25.0, 30.0]",
          "(25.0, 30.0]",
          "(25.0, 30.0]",
          "(30.0, 35.0]",
          "(30.0, 35.0]",
          "(30.0, 35.0]",
          "(30.0, 35.0]",
          "(30.0, 35.0]",
          "(30.0, 35.0]",
          "(35.0, 40.0]",
          "(35.0, 40.0]",
          "(35.0, 40.0]",
          "(35.0, 40.0]",
          "(35.0, 40.0]",
          "(35.0, 40.0]",
          "(40.0, 45.0]",
          "(40.0, 45.0]",
          "(40.0, 45.0]",
          "(40.0, 45.0]",
          "(40.0, 45.0]",
          "(40.0, 45.0]",
          "(45.0, 50.0]",
          "(45.0, 50.0]",
          "(45.0, 50.0]",
          "(45.0, 50.0]",
          "(45.0, 50.0]",
          "(45.0, 50.0]",
          "(50.0, 55.0]",
          "(50.0, 55.0]",
          "(50.0, 55.0]",
          "(50.0, 55.0]",
          "(50.0, 55.0]",
          "(50.0, 55.0]",
          "(55.0, 60.0]",
          "(55.0, 60.0]",
          "(55.0, 60.0]",
          "(55.0, 60.0]",
          "(55.0, 60.0]",
          "(55.0, 60.0]",
          "(60.0, 65.0]",
          "(60.0, 65.0]",
          "(60.0, 65.0]",
          "(60.0, 65.0]",
          "(60.0, 65.0]",
          "(60.0, 65.0]",
          "(65.0, 70.0]",
          "(65.0, 70.0]",
          "(65.0, 70.0]",
          "(65.0, 70.0]",
          "(65.0, 70.0]",
          "(65.0, 70.0]",
          "(70.0, 75.0]",
          "(70.0, 75.0]",
          "(70.0, 75.0]",
          "(70.0, 75.0]",
          "(70.0, 75.0]",
          "(70.0, 75.0]",
          "(75.0, 80.0]",
          "(75.0, 80.0]",
          "(75.0, 80.0]",
          "(75.0, 80.0]",
          "(75.0, 80.0]",
          "(75.0, 80.0]",
          "(80.0, 85.0]",
          "(80.0, 85.0]",
          "(80.0, 85.0]",
          "(80.0, 85.0]",
          "(80.0, 85.0]",
          "(80.0, 85.0]",
          "(85.0, 90.0]",
          "(85.0, 90.0]",
          "(85.0, 90.0]",
          "(85.0, 90.0]",
          "(85.0, 90.0]",
          "(85.0, 90.0]",
          "(90.0, 95.0]",
          "(90.0, 95.0]",
          "(90.0, 95.0]",
          "(90.0, 95.0]",
          "(90.0, 95.0]",
          "(90.0, 95.0]",
          "(95.0, 100.0]",
          "(95.0, 100.0]",
          "(95.0, 100.0]",
          "(95.0, 100.0]",
          "(95.0, 100.0]",
          "(95.0, 100.0]"
         ],
         "x0": " ",
         "xaxis": "x",
         "y": [
          96,
          86,
          91,
          84,
          96,
          104,
          44,
          45,
          49,
          38,
          40,
          30,
          0,
          0,
          1,
          1,
          2,
          1,
          23,
          26,
          17,
          25,
          16,
          26,
          0,
          0,
          0,
          1,
          0,
          0,
          19,
          25,
          27,
          34,
          32,
          22,
          0,
          0,
          0,
          0,
          0,
          0,
          20,
          15,
          15,
          20,
          12,
          19,
          0,
          0,
          0,
          0,
          0,
          0,
          9,
          10,
          9,
          10,
          16,
          9,
          0,
          0,
          0,
          0,
          0,
          0,
          5,
          2,
          3,
          4,
          3,
          5,
          0,
          1,
          1,
          0,
          0,
          1,
          8,
          6,
          5,
          5,
          1,
          5,
          0,
          0,
          0,
          0,
          0,
          0,
          4,
          6,
          5,
          5,
          5,
          5,
          1,
          1,
          2,
          2,
          0,
          0,
          1,
          3,
          3,
          3,
          5,
          3,
          0,
          0,
          0,
          1,
          1,
          0,
          5,
          3,
          5,
          3,
          2,
          2
         ],
         "y0": " ",
         "yaxis": "y",
         "type": "box"
        },
        {
         "alignmentgroup": "True",
         "hovertemplate": "<b>%{hovertext}</b><br><br>truth=True<br>bin=%{x}<br>text=%{y}<extra></extra>",
         "hovertext": [
          "codellama-34b-instruct",
          "llama-2-70b-chat",
          "mistral-7b-instruct",
          "mixtral-8x7b-instruct",
          "pplx-70b-chat",
          "pplx-7b-chat",
          "codellama-34b-instruct",
          "llama-2-70b-chat",
          "mistral-7b-instruct",
          "mixtral-8x7b-instruct",
          "pplx-70b-chat",
          "pplx-7b-chat",
          "codellama-34b-instruct",
          "llama-2-70b-chat",
          "mistral-7b-instruct",
          "mixtral-8x7b-instruct",
          "pplx-70b-chat",
          "pplx-7b-chat",
          "codellama-34b-instruct",
          "llama-2-70b-chat",
          "mistral-7b-instruct",
          "mixtral-8x7b-instruct",
          "pplx-70b-chat",
          "pplx-7b-chat",
          "codellama-34b-instruct",
          "llama-2-70b-chat",
          "mistral-7b-instruct",
          "mixtral-8x7b-instruct",
          "pplx-70b-chat",
          "pplx-7b-chat",
          "codellama-34b-instruct",
          "llama-2-70b-chat",
          "mistral-7b-instruct",
          "mixtral-8x7b-instruct",
          "pplx-70b-chat",
          "pplx-7b-chat",
          "codellama-34b-instruct",
          "llama-2-70b-chat",
          "mistral-7b-instruct",
          "mixtral-8x7b-instruct",
          "pplx-70b-chat",
          "pplx-7b-chat",
          "codellama-34b-instruct",
          "llama-2-70b-chat",
          "mistral-7b-instruct",
          "mixtral-8x7b-instruct",
          "pplx-70b-chat",
          "pplx-7b-chat",
          "codellama-34b-instruct",
          "llama-2-70b-chat",
          "mistral-7b-instruct",
          "mixtral-8x7b-instruct",
          "pplx-70b-chat",
          "pplx-7b-chat",
          "codellama-34b-instruct",
          "llama-2-70b-chat",
          "mistral-7b-instruct",
          "mixtral-8x7b-instruct",
          "pplx-70b-chat",
          "pplx-7b-chat",
          "codellama-34b-instruct",
          "llama-2-70b-chat",
          "mistral-7b-instruct",
          "mixtral-8x7b-instruct",
          "pplx-70b-chat",
          "pplx-7b-chat",
          "codellama-34b-instruct",
          "llama-2-70b-chat",
          "mistral-7b-instruct",
          "mixtral-8x7b-instruct",
          "pplx-70b-chat",
          "pplx-7b-chat",
          "codellama-34b-instruct",
          "llama-2-70b-chat",
          "mistral-7b-instruct",
          "mixtral-8x7b-instruct",
          "pplx-70b-chat",
          "pplx-7b-chat",
          "codellama-34b-instruct",
          "llama-2-70b-chat",
          "mistral-7b-instruct",
          "mixtral-8x7b-instruct",
          "pplx-70b-chat",
          "pplx-7b-chat",
          "codellama-34b-instruct",
          "llama-2-70b-chat",
          "mistral-7b-instruct",
          "mixtral-8x7b-instruct",
          "pplx-70b-chat",
          "pplx-7b-chat",
          "codellama-34b-instruct",
          "llama-2-70b-chat",
          "mistral-7b-instruct",
          "mixtral-8x7b-instruct",
          "pplx-70b-chat",
          "pplx-7b-chat",
          "codellama-34b-instruct",
          "llama-2-70b-chat",
          "mistral-7b-instruct",
          "mixtral-8x7b-instruct",
          "pplx-70b-chat",
          "pplx-7b-chat",
          "codellama-34b-instruct",
          "llama-2-70b-chat",
          "mistral-7b-instruct",
          "mixtral-8x7b-instruct",
          "pplx-70b-chat",
          "pplx-7b-chat",
          "codellama-34b-instruct",
          "llama-2-70b-chat",
          "mistral-7b-instruct",
          "mixtral-8x7b-instruct",
          "pplx-70b-chat",
          "pplx-7b-chat",
          "codellama-34b-instruct",
          "llama-2-70b-chat",
          "mistral-7b-instruct",
          "mixtral-8x7b-instruct",
          "pplx-70b-chat",
          "pplx-7b-chat"
         ],
         "legendgroup": "True",
         "marker": {
          "color": "#EF553B"
         },
         "name": "True",
         "notched": false,
         "offsetgroup": "True",
         "orientation": "v",
         "showlegend": true,
         "x": [
          "(-0.001, 5.0]",
          "(-0.001, 5.0]",
          "(-0.001, 5.0]",
          "(-0.001, 5.0]",
          "(-0.001, 5.0]",
          "(-0.001, 5.0]",
          "(5.0, 10.0]",
          "(5.0, 10.0]",
          "(5.0, 10.0]",
          "(5.0, 10.0]",
          "(5.0, 10.0]",
          "(5.0, 10.0]",
          "(10.0, 15.0]",
          "(10.0, 15.0]",
          "(10.0, 15.0]",
          "(10.0, 15.0]",
          "(10.0, 15.0]",
          "(10.0, 15.0]",
          "(15.0, 20.0]",
          "(15.0, 20.0]",
          "(15.0, 20.0]",
          "(15.0, 20.0]",
          "(15.0, 20.0]",
          "(15.0, 20.0]",
          "(20.0, 25.0]",
          "(20.0, 25.0]",
          "(20.0, 25.0]",
          "(20.0, 25.0]",
          "(20.0, 25.0]",
          "(20.0, 25.0]",
          "(25.0, 30.0]",
          "(25.0, 30.0]",
          "(25.0, 30.0]",
          "(25.0, 30.0]",
          "(25.0, 30.0]",
          "(25.0, 30.0]",
          "(30.0, 35.0]",
          "(30.0, 35.0]",
          "(30.0, 35.0]",
          "(30.0, 35.0]",
          "(30.0, 35.0]",
          "(30.0, 35.0]",
          "(35.0, 40.0]",
          "(35.0, 40.0]",
          "(35.0, 40.0]",
          "(35.0, 40.0]",
          "(35.0, 40.0]",
          "(35.0, 40.0]",
          "(40.0, 45.0]",
          "(40.0, 45.0]",
          "(40.0, 45.0]",
          "(40.0, 45.0]",
          "(40.0, 45.0]",
          "(40.0, 45.0]",
          "(45.0, 50.0]",
          "(45.0, 50.0]",
          "(45.0, 50.0]",
          "(45.0, 50.0]",
          "(45.0, 50.0]",
          "(45.0, 50.0]",
          "(50.0, 55.0]",
          "(50.0, 55.0]",
          "(50.0, 55.0]",
          "(50.0, 55.0]",
          "(50.0, 55.0]",
          "(50.0, 55.0]",
          "(55.0, 60.0]",
          "(55.0, 60.0]",
          "(55.0, 60.0]",
          "(55.0, 60.0]",
          "(55.0, 60.0]",
          "(55.0, 60.0]",
          "(60.0, 65.0]",
          "(60.0, 65.0]",
          "(60.0, 65.0]",
          "(60.0, 65.0]",
          "(60.0, 65.0]",
          "(60.0, 65.0]",
          "(65.0, 70.0]",
          "(65.0, 70.0]",
          "(65.0, 70.0]",
          "(65.0, 70.0]",
          "(65.0, 70.0]",
          "(65.0, 70.0]",
          "(70.0, 75.0]",
          "(70.0, 75.0]",
          "(70.0, 75.0]",
          "(70.0, 75.0]",
          "(70.0, 75.0]",
          "(70.0, 75.0]",
          "(75.0, 80.0]",
          "(75.0, 80.0]",
          "(75.0, 80.0]",
          "(75.0, 80.0]",
          "(75.0, 80.0]",
          "(75.0, 80.0]",
          "(80.0, 85.0]",
          "(80.0, 85.0]",
          "(80.0, 85.0]",
          "(80.0, 85.0]",
          "(80.0, 85.0]",
          "(80.0, 85.0]",
          "(85.0, 90.0]",
          "(85.0, 90.0]",
          "(85.0, 90.0]",
          "(85.0, 90.0]",
          "(85.0, 90.0]",
          "(85.0, 90.0]",
          "(90.0, 95.0]",
          "(90.0, 95.0]",
          "(90.0, 95.0]",
          "(90.0, 95.0]",
          "(90.0, 95.0]",
          "(90.0, 95.0]",
          "(95.0, 100.0]",
          "(95.0, 100.0]",
          "(95.0, 100.0]",
          "(95.0, 100.0]",
          "(95.0, 100.0]",
          "(95.0, 100.0]"
         ],
         "x0": " ",
         "xaxis": "x",
         "y": [
          12,
          14,
          11,
          6,
          12,
          10,
          16,
          20,
          22,
          24,
          17,
          22,
          0,
          0,
          0,
          0,
          1,
          1,
          26,
          12,
          16,
          16,
          15,
          19,
          0,
          0,
          1,
          0,
          0,
          0,
          27,
          27,
          23,
          28,
          27,
          28,
          0,
          0,
          0,
          0,
          0,
          0,
          20,
          18,
          22,
          20,
          19,
          13,
          0,
          0,
          0,
          0,
          1,
          0,
          9,
          12,
          11,
          9,
          14,
          14,
          0,
          0,
          0,
          0,
          0,
          0,
          5,
          7,
          11,
          10,
          7,
          7,
          2,
          3,
          5,
          3,
          1,
          1,
          10,
          15,
          19,
          28,
          24,
          19,
          0,
          0,
          0,
          0,
          1,
          0,
          44,
          29,
          38,
          34,
          37,
          37,
          2,
          2,
          1,
          2,
          2,
          3,
          35,
          38,
          29,
          27,
          28,
          24,
          0,
          0,
          1,
          1,
          1,
          1,
          21,
          23,
          16,
          22,
          23,
          24
         ],
         "y0": " ",
         "yaxis": "y",
         "type": "box"
        }
       ],
       "layout": {
        "template": {
         "data": {
          "histogram2dcontour": [
           {
            "type": "histogram2dcontour",
            "colorbar": {
             "outlinewidth": 0,
             "ticks": ""
            },
            "colorscale": [
             [
              0.0,
              "#0d0887"
             ],
             [
              0.1111111111111111,
              "#46039f"
             ],
             [
              0.2222222222222222,
              "#7201a8"
             ],
             [
              0.3333333333333333,
              "#9c179e"
             ],
             [
              0.4444444444444444,
              "#bd3786"
             ],
             [
              0.5555555555555556,
              "#d8576b"
             ],
             [
              0.6666666666666666,
              "#ed7953"
             ],
             [
              0.7777777777777778,
              "#fb9f3a"
             ],
             [
              0.8888888888888888,
              "#fdca26"
             ],
             [
              1.0,
              "#f0f921"
             ]
            ]
           }
          ],
          "choropleth": [
           {
            "type": "choropleth",
            "colorbar": {
             "outlinewidth": 0,
             "ticks": ""
            }
           }
          ],
          "histogram2d": [
           {
            "type": "histogram2d",
            "colorbar": {
             "outlinewidth": 0,
             "ticks": ""
            },
            "colorscale": [
             [
              0.0,
              "#0d0887"
             ],
             [
              0.1111111111111111,
              "#46039f"
             ],
             [
              0.2222222222222222,
              "#7201a8"
             ],
             [
              0.3333333333333333,
              "#9c179e"
             ],
             [
              0.4444444444444444,
              "#bd3786"
             ],
             [
              0.5555555555555556,
              "#d8576b"
             ],
             [
              0.6666666666666666,
              "#ed7953"
             ],
             [
              0.7777777777777778,
              "#fb9f3a"
             ],
             [
              0.8888888888888888,
              "#fdca26"
             ],
             [
              1.0,
              "#f0f921"
             ]
            ]
           }
          ],
          "heatmap": [
           {
            "type": "heatmap",
            "colorbar": {
             "outlinewidth": 0,
             "ticks": ""
            },
            "colorscale": [
             [
              0.0,
              "#0d0887"
             ],
             [
              0.1111111111111111,
              "#46039f"
             ],
             [
              0.2222222222222222,
              "#7201a8"
             ],
             [
              0.3333333333333333,
              "#9c179e"
             ],
             [
              0.4444444444444444,
              "#bd3786"
             ],
             [
              0.5555555555555556,
              "#d8576b"
             ],
             [
              0.6666666666666666,
              "#ed7953"
             ],
             [
              0.7777777777777778,
              "#fb9f3a"
             ],
             [
              0.8888888888888888,
              "#fdca26"
             ],
             [
              1.0,
              "#f0f921"
             ]
            ]
           }
          ],
          "heatmapgl": [
           {
            "type": "heatmapgl",
            "colorbar": {
             "outlinewidth": 0,
             "ticks": ""
            },
            "colorscale": [
             [
              0.0,
              "#0d0887"
             ],
             [
              0.1111111111111111,
              "#46039f"
             ],
             [
              0.2222222222222222,
              "#7201a8"
             ],
             [
              0.3333333333333333,
              "#9c179e"
             ],
             [
              0.4444444444444444,
              "#bd3786"
             ],
             [
              0.5555555555555556,
              "#d8576b"
             ],
             [
              0.6666666666666666,
              "#ed7953"
             ],
             [
              0.7777777777777778,
              "#fb9f3a"
             ],
             [
              0.8888888888888888,
              "#fdca26"
             ],
             [
              1.0,
              "#f0f921"
             ]
            ]
           }
          ],
          "contourcarpet": [
           {
            "type": "contourcarpet",
            "colorbar": {
             "outlinewidth": 0,
             "ticks": ""
            }
           }
          ],
          "contour": [
           {
            "type": "contour",
            "colorbar": {
             "outlinewidth": 0,
             "ticks": ""
            },
            "colorscale": [
             [
              0.0,
              "#0d0887"
             ],
             [
              0.1111111111111111,
              "#46039f"
             ],
             [
              0.2222222222222222,
              "#7201a8"
             ],
             [
              0.3333333333333333,
              "#9c179e"
             ],
             [
              0.4444444444444444,
              "#bd3786"
             ],
             [
              0.5555555555555556,
              "#d8576b"
             ],
             [
              0.6666666666666666,
              "#ed7953"
             ],
             [
              0.7777777777777778,
              "#fb9f3a"
             ],
             [
              0.8888888888888888,
              "#fdca26"
             ],
             [
              1.0,
              "#f0f921"
             ]
            ]
           }
          ],
          "surface": [
           {
            "type": "surface",
            "colorbar": {
             "outlinewidth": 0,
             "ticks": ""
            },
            "colorscale": [
             [
              0.0,
              "#0d0887"
             ],
             [
              0.1111111111111111,
              "#46039f"
             ],
             [
              0.2222222222222222,
              "#7201a8"
             ],
             [
              0.3333333333333333,
              "#9c179e"
             ],
             [
              0.4444444444444444,
              "#bd3786"
             ],
             [
              0.5555555555555556,
              "#d8576b"
             ],
             [
              0.6666666666666666,
              "#ed7953"
             ],
             [
              0.7777777777777778,
              "#fb9f3a"
             ],
             [
              0.8888888888888888,
              "#fdca26"
             ],
             [
              1.0,
              "#f0f921"
             ]
            ]
           }
          ],
          "mesh3d": [
           {
            "type": "mesh3d",
            "colorbar": {
             "outlinewidth": 0,
             "ticks": ""
            }
           }
          ],
          "scatter": [
           {
            "marker": {
             "line": {
              "color": "#283442"
             }
            },
            "type": "scatter"
           }
          ],
          "parcoords": [
           {
            "type": "parcoords",
            "line": {
             "colorbar": {
              "outlinewidth": 0,
              "ticks": ""
             }
            }
           }
          ],
          "scatterpolargl": [
           {
            "type": "scatterpolargl",
            "marker": {
             "colorbar": {
              "outlinewidth": 0,
              "ticks": ""
             }
            }
           }
          ],
          "bar": [
           {
            "error_x": {
             "color": "#f2f5fa"
            },
            "error_y": {
             "color": "#f2f5fa"
            },
            "marker": {
             "line": {
              "color": "rgb(17,17,17)",
              "width": 0.5
             },
             "pattern": {
              "fillmode": "overlay",
              "size": 10,
              "solidity": 0.2
             }
            },
            "type": "bar"
           }
          ],
          "scattergeo": [
           {
            "type": "scattergeo",
            "marker": {
             "colorbar": {
              "outlinewidth": 0,
              "ticks": ""
             }
            }
           }
          ],
          "scatterpolar": [
           {
            "type": "scatterpolar",
            "marker": {
             "colorbar": {
              "outlinewidth": 0,
              "ticks": ""
             }
            }
           }
          ],
          "histogram": [
           {
            "marker": {
             "pattern": {
              "fillmode": "overlay",
              "size": 10,
              "solidity": 0.2
             }
            },
            "type": "histogram"
           }
          ],
          "scattergl": [
           {
            "marker": {
             "line": {
              "color": "#283442"
             }
            },
            "type": "scattergl"
           }
          ],
          "scatter3d": [
           {
            "type": "scatter3d",
            "line": {
             "colorbar": {
              "outlinewidth": 0,
              "ticks": ""
             }
            },
            "marker": {
             "colorbar": {
              "outlinewidth": 0,
              "ticks": ""
             }
            }
           }
          ],
          "scattermapbox": [
           {
            "type": "scattermapbox",
            "marker": {
             "colorbar": {
              "outlinewidth": 0,
              "ticks": ""
             }
            }
           }
          ],
          "scatterternary": [
           {
            "type": "scatterternary",
            "marker": {
             "colorbar": {
              "outlinewidth": 0,
              "ticks": ""
             }
            }
           }
          ],
          "scattercarpet": [
           {
            "type": "scattercarpet",
            "marker": {
             "colorbar": {
              "outlinewidth": 0,
              "ticks": ""
             }
            }
           }
          ],
          "carpet": [
           {
            "aaxis": {
             "endlinecolor": "#A2B1C6",
             "gridcolor": "#506784",
             "linecolor": "#506784",
             "minorgridcolor": "#506784",
             "startlinecolor": "#A2B1C6"
            },
            "baxis": {
             "endlinecolor": "#A2B1C6",
             "gridcolor": "#506784",
             "linecolor": "#506784",
             "minorgridcolor": "#506784",
             "startlinecolor": "#A2B1C6"
            },
            "type": "carpet"
           }
          ],
          "table": [
           {
            "cells": {
             "fill": {
              "color": "#506784"
             },
             "line": {
              "color": "rgb(17,17,17)"
             }
            },
            "header": {
             "fill": {
              "color": "#2a3f5f"
             },
             "line": {
              "color": "rgb(17,17,17)"
             }
            },
            "type": "table"
           }
          ],
          "barpolar": [
           {
            "marker": {
             "line": {
              "color": "rgb(17,17,17)",
              "width": 0.5
             },
             "pattern": {
              "fillmode": "overlay",
              "size": 10,
              "solidity": 0.2
             }
            },
            "type": "barpolar"
           }
          ],
          "pie": [
           {
            "automargin": true,
            "type": "pie"
           }
          ]
         },
         "layout": {
          "autotypenumbers": "strict",
          "colorway": [
           "#636efa",
           "#EF553B",
           "#00cc96",
           "#ab63fa",
           "#FFA15A",
           "#19d3f3",
           "#FF6692",
           "#B6E880",
           "#FF97FF",
           "#FECB52"
          ],
          "font": {
           "color": "#f2f5fa"
          },
          "hovermode": "closest",
          "hoverlabel": {
           "align": "left"
          },
          "paper_bgcolor": "rgb(17,17,17)",
          "plot_bgcolor": "rgb(17,17,17)",
          "polar": {
           "bgcolor": "rgb(17,17,17)",
           "angularaxis": {
            "gridcolor": "#506784",
            "linecolor": "#506784",
            "ticks": ""
           },
           "radialaxis": {
            "gridcolor": "#506784",
            "linecolor": "#506784",
            "ticks": ""
           }
          },
          "ternary": {
           "bgcolor": "rgb(17,17,17)",
           "aaxis": {
            "gridcolor": "#506784",
            "linecolor": "#506784",
            "ticks": ""
           },
           "baxis": {
            "gridcolor": "#506784",
            "linecolor": "#506784",
            "ticks": ""
           },
           "caxis": {
            "gridcolor": "#506784",
            "linecolor": "#506784",
            "ticks": ""
           }
          },
          "coloraxis": {
           "colorbar": {
            "outlinewidth": 0,
            "ticks": ""
           }
          },
          "colorscale": {
           "sequential": [
            [
             0.0,
             "#0d0887"
            ],
            [
             0.1111111111111111,
             "#46039f"
            ],
            [
             0.2222222222222222,
             "#7201a8"
            ],
            [
             0.3333333333333333,
             "#9c179e"
            ],
            [
             0.4444444444444444,
             "#bd3786"
            ],
            [
             0.5555555555555556,
             "#d8576b"
            ],
            [
             0.6666666666666666,
             "#ed7953"
            ],
            [
             0.7777777777777778,
             "#fb9f3a"
            ],
            [
             0.8888888888888888,
             "#fdca26"
            ],
            [
             1.0,
             "#f0f921"
            ]
           ],
           "sequentialminus": [
            [
             0.0,
             "#0d0887"
            ],
            [
             0.1111111111111111,
             "#46039f"
            ],
            [
             0.2222222222222222,
             "#7201a8"
            ],
            [
             0.3333333333333333,
             "#9c179e"
            ],
            [
             0.4444444444444444,
             "#bd3786"
            ],
            [
             0.5555555555555556,
             "#d8576b"
            ],
            [
             0.6666666666666666,
             "#ed7953"
            ],
            [
             0.7777777777777778,
             "#fb9f3a"
            ],
            [
             0.8888888888888888,
             "#fdca26"
            ],
            [
             1.0,
             "#f0f921"
            ]
           ],
           "diverging": [
            [
             0,
             "#8e0152"
            ],
            [
             0.1,
             "#c51b7d"
            ],
            [
             0.2,
             "#de77ae"
            ],
            [
             0.3,
             "#f1b6da"
            ],
            [
             0.4,
             "#fde0ef"
            ],
            [
             0.5,
             "#f7f7f7"
            ],
            [
             0.6,
             "#e6f5d0"
            ],
            [
             0.7,
             "#b8e186"
            ],
            [
             0.8,
             "#7fbc41"
            ],
            [
             0.9,
             "#4d9221"
            ],
            [
             1,
             "#276419"
            ]
           ]
          },
          "xaxis": {
           "gridcolor": "#283442",
           "linecolor": "#506784",
           "ticks": "",
           "title": {
            "standoff": 15
           },
           "zerolinecolor": "#283442",
           "automargin": true,
           "zerolinewidth": 2
          },
          "yaxis": {
           "gridcolor": "#283442",
           "linecolor": "#506784",
           "ticks": "",
           "title": {
            "standoff": 15
           },
           "zerolinecolor": "#283442",
           "automargin": true,
           "zerolinewidth": 2
          },
          "scene": {
           "xaxis": {
            "backgroundcolor": "rgb(17,17,17)",
            "gridcolor": "#506784",
            "linecolor": "#506784",
            "showbackground": true,
            "ticks": "",
            "zerolinecolor": "#C8D4E3",
            "gridwidth": 2
           },
           "yaxis": {
            "backgroundcolor": "rgb(17,17,17)",
            "gridcolor": "#506784",
            "linecolor": "#506784",
            "showbackground": true,
            "ticks": "",
            "zerolinecolor": "#C8D4E3",
            "gridwidth": 2
           },
           "zaxis": {
            "backgroundcolor": "rgb(17,17,17)",
            "gridcolor": "#506784",
            "linecolor": "#506784",
            "showbackground": true,
            "ticks": "",
            "zerolinecolor": "#C8D4E3",
            "gridwidth": 2
           }
          },
          "shapedefaults": {
           "line": {
            "color": "#f2f5fa"
           }
          },
          "annotationdefaults": {
           "arrowcolor": "#f2f5fa",
           "arrowhead": 0,
           "arrowwidth": 1
          },
          "geo": {
           "bgcolor": "rgb(17,17,17)",
           "landcolor": "rgb(17,17,17)",
           "subunitcolor": "#506784",
           "showland": true,
           "showlakes": true,
           "lakecolor": "rgb(17,17,17)"
          },
          "title": {
           "x": 0.05
          },
          "updatemenudefaults": {
           "bgcolor": "#506784",
           "borderwidth": 0
          },
          "sliderdefaults": {
           "bgcolor": "#C8D4E3",
           "borderwidth": 1,
           "bordercolor": "rgb(17,17,17)",
           "tickwidth": 0
          },
          "mapbox": {
           "style": "dark"
          }
         }
        },
        "xaxis": {
         "anchor": "y",
         "domain": [
          0.0,
          1.0
         ],
         "title": {
          "text": "bin"
         }
        },
        "yaxis": {
         "anchor": "x",
         "domain": [
          0.0,
          1.0
         ],
         "title": {
          "text": "text"
         }
        },
        "legend": {
         "title": {
          "text": "truth"
         },
         "tracegroupgap": 0
        },
        "margin": {
         "t": 60
        },
        "boxmode": "group"
       },
       "config": {
        "plotlyServerURL": "https://plot.ly"
       }
      },
      "text/html": "<div>                            <div id=\"c7e71865-f590-4ad4-94cd-a39cfc624c0f\" class=\"plotly-graph-div\" style=\"height:525px; width:100%;\"></div>            <script type=\"text/javascript\">                require([\"plotly\"], function(Plotly) {                    window.PLOTLYENV=window.PLOTLYENV || {};                                    if (document.getElementById(\"c7e71865-f590-4ad4-94cd-a39cfc624c0f\")) {                    Plotly.newPlot(                        \"c7e71865-f590-4ad4-94cd-a39cfc624c0f\",                        [{\"alignmentgroup\":\"True\",\"hovertemplate\":\"\\u003cb\\u003e%{hovertext}\\u003c\\u002fb\\u003e\\u003cbr\\u003e\\u003cbr\\u003etruth=False\\u003cbr\\u003ebin=%{x}\\u003cbr\\u003etext=%{y}\\u003cextra\\u003e\\u003c\\u002fextra\\u003e\",\"hovertext\":[\"codellama-34b-instruct\",\"llama-2-70b-chat\",\"mistral-7b-instruct\",\"mixtral-8x7b-instruct\",\"pplx-70b-chat\",\"pplx-7b-chat\",\"codellama-34b-instruct\",\"llama-2-70b-chat\",\"mistral-7b-instruct\",\"mixtral-8x7b-instruct\",\"pplx-70b-chat\",\"pplx-7b-chat\",\"codellama-34b-instruct\",\"llama-2-70b-chat\",\"mistral-7b-instruct\",\"mixtral-8x7b-instruct\",\"pplx-70b-chat\",\"pplx-7b-chat\",\"codellama-34b-instruct\",\"llama-2-70b-chat\",\"mistral-7b-instruct\",\"mixtral-8x7b-instruct\",\"pplx-70b-chat\",\"pplx-7b-chat\",\"codellama-34b-instruct\",\"llama-2-70b-chat\",\"mistral-7b-instruct\",\"mixtral-8x7b-instruct\",\"pplx-70b-chat\",\"pplx-7b-chat\",\"codellama-34b-instruct\",\"llama-2-70b-chat\",\"mistral-7b-instruct\",\"mixtral-8x7b-instruct\",\"pplx-70b-chat\",\"pplx-7b-chat\",\"codellama-34b-instruct\",\"llama-2-70b-chat\",\"mistral-7b-instruct\",\"mixtral-8x7b-instruct\",\"pplx-70b-chat\",\"pplx-7b-chat\",\"codellama-34b-instruct\",\"llama-2-70b-chat\",\"mistral-7b-instruct\",\"mixtral-8x7b-instruct\",\"pplx-70b-chat\",\"pplx-7b-chat\",\"codellama-34b-instruct\",\"llama-2-70b-chat\",\"mistral-7b-instruct\",\"mixtral-8x7b-instruct\",\"pplx-70b-chat\",\"pplx-7b-chat\",\"codellama-34b-instruct\",\"llama-2-70b-chat\",\"mistral-7b-instruct\",\"mixtral-8x7b-instruct\",\"pplx-70b-chat\",\"pplx-7b-chat\",\"codellama-34b-instruct\",\"llama-2-70b-chat\",\"mistral-7b-instruct\",\"mixtral-8x7b-instruct\",\"pplx-70b-chat\",\"pplx-7b-chat\",\"codellama-34b-instruct\",\"llama-2-70b-chat\",\"mistral-7b-instruct\",\"mixtral-8x7b-instruct\",\"pplx-70b-chat\",\"pplx-7b-chat\",\"codellama-34b-instruct\",\"llama-2-70b-chat\",\"mistral-7b-instruct\",\"mixtral-8x7b-instruct\",\"pplx-70b-chat\",\"pplx-7b-chat\",\"codellama-34b-instruct\",\"llama-2-70b-chat\",\"mistral-7b-instruct\",\"mixtral-8x7b-instruct\",\"pplx-70b-chat\",\"pplx-7b-chat\",\"codellama-34b-instruct\",\"llama-2-70b-chat\",\"mistral-7b-instruct\",\"mixtral-8x7b-instruct\",\"pplx-70b-chat\",\"pplx-7b-chat\",\"codellama-34b-instruct\",\"llama-2-70b-chat\",\"mistral-7b-instruct\",\"mixtral-8x7b-instruct\",\"pplx-70b-chat\",\"pplx-7b-chat\",\"codellama-34b-instruct\",\"llama-2-70b-chat\",\"mistral-7b-instruct\",\"mixtral-8x7b-instruct\",\"pplx-70b-chat\",\"pplx-7b-chat\",\"codellama-34b-instruct\",\"llama-2-70b-chat\",\"mistral-7b-instruct\",\"mixtral-8x7b-instruct\",\"pplx-70b-chat\",\"pplx-7b-chat\",\"codellama-34b-instruct\",\"llama-2-70b-chat\",\"mistral-7b-instruct\",\"mixtral-8x7b-instruct\",\"pplx-70b-chat\",\"pplx-7b-chat\",\"codellama-34b-instruct\",\"llama-2-70b-chat\",\"mistral-7b-instruct\",\"mixtral-8x7b-instruct\",\"pplx-70b-chat\",\"pplx-7b-chat\"],\"legendgroup\":\"False\",\"marker\":{\"color\":\"#636efa\"},\"name\":\"False\",\"notched\":false,\"offsetgroup\":\"False\",\"orientation\":\"v\",\"showlegend\":true,\"x\":[\"(-0.001, 5.0]\",\"(-0.001, 5.0]\",\"(-0.001, 5.0]\",\"(-0.001, 5.0]\",\"(-0.001, 5.0]\",\"(-0.001, 5.0]\",\"(5.0, 10.0]\",\"(5.0, 10.0]\",\"(5.0, 10.0]\",\"(5.0, 10.0]\",\"(5.0, 10.0]\",\"(5.0, 10.0]\",\"(10.0, 15.0]\",\"(10.0, 15.0]\",\"(10.0, 15.0]\",\"(10.0, 15.0]\",\"(10.0, 15.0]\",\"(10.0, 15.0]\",\"(15.0, 20.0]\",\"(15.0, 20.0]\",\"(15.0, 20.0]\",\"(15.0, 20.0]\",\"(15.0, 20.0]\",\"(15.0, 20.0]\",\"(20.0, 25.0]\",\"(20.0, 25.0]\",\"(20.0, 25.0]\",\"(20.0, 25.0]\",\"(20.0, 25.0]\",\"(20.0, 25.0]\",\"(25.0, 30.0]\",\"(25.0, 30.0]\",\"(25.0, 30.0]\",\"(25.0, 30.0]\",\"(25.0, 30.0]\",\"(25.0, 30.0]\",\"(30.0, 35.0]\",\"(30.0, 35.0]\",\"(30.0, 35.0]\",\"(30.0, 35.0]\",\"(30.0, 35.0]\",\"(30.0, 35.0]\",\"(35.0, 40.0]\",\"(35.0, 40.0]\",\"(35.0, 40.0]\",\"(35.0, 40.0]\",\"(35.0, 40.0]\",\"(35.0, 40.0]\",\"(40.0, 45.0]\",\"(40.0, 45.0]\",\"(40.0, 45.0]\",\"(40.0, 45.0]\",\"(40.0, 45.0]\",\"(40.0, 45.0]\",\"(45.0, 50.0]\",\"(45.0, 50.0]\",\"(45.0, 50.0]\",\"(45.0, 50.0]\",\"(45.0, 50.0]\",\"(45.0, 50.0]\",\"(50.0, 55.0]\",\"(50.0, 55.0]\",\"(50.0, 55.0]\",\"(50.0, 55.0]\",\"(50.0, 55.0]\",\"(50.0, 55.0]\",\"(55.0, 60.0]\",\"(55.0, 60.0]\",\"(55.0, 60.0]\",\"(55.0, 60.0]\",\"(55.0, 60.0]\",\"(55.0, 60.0]\",\"(60.0, 65.0]\",\"(60.0, 65.0]\",\"(60.0, 65.0]\",\"(60.0, 65.0]\",\"(60.0, 65.0]\",\"(60.0, 65.0]\",\"(65.0, 70.0]\",\"(65.0, 70.0]\",\"(65.0, 70.0]\",\"(65.0, 70.0]\",\"(65.0, 70.0]\",\"(65.0, 70.0]\",\"(70.0, 75.0]\",\"(70.0, 75.0]\",\"(70.0, 75.0]\",\"(70.0, 75.0]\",\"(70.0, 75.0]\",\"(70.0, 75.0]\",\"(75.0, 80.0]\",\"(75.0, 80.0]\",\"(75.0, 80.0]\",\"(75.0, 80.0]\",\"(75.0, 80.0]\",\"(75.0, 80.0]\",\"(80.0, 85.0]\",\"(80.0, 85.0]\",\"(80.0, 85.0]\",\"(80.0, 85.0]\",\"(80.0, 85.0]\",\"(80.0, 85.0]\",\"(85.0, 90.0]\",\"(85.0, 90.0]\",\"(85.0, 90.0]\",\"(85.0, 90.0]\",\"(85.0, 90.0]\",\"(85.0, 90.0]\",\"(90.0, 95.0]\",\"(90.0, 95.0]\",\"(90.0, 95.0]\",\"(90.0, 95.0]\",\"(90.0, 95.0]\",\"(90.0, 95.0]\",\"(95.0, 100.0]\",\"(95.0, 100.0]\",\"(95.0, 100.0]\",\"(95.0, 100.0]\",\"(95.0, 100.0]\",\"(95.0, 100.0]\"],\"x0\":\" \",\"xaxis\":\"x\",\"y\":[96,86,91,84,96,104,44,45,49,38,40,30,0,0,1,1,2,1,23,26,17,25,16,26,0,0,0,1,0,0,19,25,27,34,32,22,0,0,0,0,0,0,20,15,15,20,12,19,0,0,0,0,0,0,9,10,9,10,16,9,0,0,0,0,0,0,5,2,3,4,3,5,0,1,1,0,0,1,8,6,5,5,1,5,0,0,0,0,0,0,4,6,5,5,5,5,1,1,2,2,0,0,1,3,3,3,5,3,0,0,0,1,1,0,5,3,5,3,2,2],\"y0\":\" \",\"yaxis\":\"y\",\"type\":\"box\"},{\"alignmentgroup\":\"True\",\"hovertemplate\":\"\\u003cb\\u003e%{hovertext}\\u003c\\u002fb\\u003e\\u003cbr\\u003e\\u003cbr\\u003etruth=True\\u003cbr\\u003ebin=%{x}\\u003cbr\\u003etext=%{y}\\u003cextra\\u003e\\u003c\\u002fextra\\u003e\",\"hovertext\":[\"codellama-34b-instruct\",\"llama-2-70b-chat\",\"mistral-7b-instruct\",\"mixtral-8x7b-instruct\",\"pplx-70b-chat\",\"pplx-7b-chat\",\"codellama-34b-instruct\",\"llama-2-70b-chat\",\"mistral-7b-instruct\",\"mixtral-8x7b-instruct\",\"pplx-70b-chat\",\"pplx-7b-chat\",\"codellama-34b-instruct\",\"llama-2-70b-chat\",\"mistral-7b-instruct\",\"mixtral-8x7b-instruct\",\"pplx-70b-chat\",\"pplx-7b-chat\",\"codellama-34b-instruct\",\"llama-2-70b-chat\",\"mistral-7b-instruct\",\"mixtral-8x7b-instruct\",\"pplx-70b-chat\",\"pplx-7b-chat\",\"codellama-34b-instruct\",\"llama-2-70b-chat\",\"mistral-7b-instruct\",\"mixtral-8x7b-instruct\",\"pplx-70b-chat\",\"pplx-7b-chat\",\"codellama-34b-instruct\",\"llama-2-70b-chat\",\"mistral-7b-instruct\",\"mixtral-8x7b-instruct\",\"pplx-70b-chat\",\"pplx-7b-chat\",\"codellama-34b-instruct\",\"llama-2-70b-chat\",\"mistral-7b-instruct\",\"mixtral-8x7b-instruct\",\"pplx-70b-chat\",\"pplx-7b-chat\",\"codellama-34b-instruct\",\"llama-2-70b-chat\",\"mistral-7b-instruct\",\"mixtral-8x7b-instruct\",\"pplx-70b-chat\",\"pplx-7b-chat\",\"codellama-34b-instruct\",\"llama-2-70b-chat\",\"mistral-7b-instruct\",\"mixtral-8x7b-instruct\",\"pplx-70b-chat\",\"pplx-7b-chat\",\"codellama-34b-instruct\",\"llama-2-70b-chat\",\"mistral-7b-instruct\",\"mixtral-8x7b-instruct\",\"pplx-70b-chat\",\"pplx-7b-chat\",\"codellama-34b-instruct\",\"llama-2-70b-chat\",\"mistral-7b-instruct\",\"mixtral-8x7b-instruct\",\"pplx-70b-chat\",\"pplx-7b-chat\",\"codellama-34b-instruct\",\"llama-2-70b-chat\",\"mistral-7b-instruct\",\"mixtral-8x7b-instruct\",\"pplx-70b-chat\",\"pplx-7b-chat\",\"codellama-34b-instruct\",\"llama-2-70b-chat\",\"mistral-7b-instruct\",\"mixtral-8x7b-instruct\",\"pplx-70b-chat\",\"pplx-7b-chat\",\"codellama-34b-instruct\",\"llama-2-70b-chat\",\"mistral-7b-instruct\",\"mixtral-8x7b-instruct\",\"pplx-70b-chat\",\"pplx-7b-chat\",\"codellama-34b-instruct\",\"llama-2-70b-chat\",\"mistral-7b-instruct\",\"mixtral-8x7b-instruct\",\"pplx-70b-chat\",\"pplx-7b-chat\",\"codellama-34b-instruct\",\"llama-2-70b-chat\",\"mistral-7b-instruct\",\"mixtral-8x7b-instruct\",\"pplx-70b-chat\",\"pplx-7b-chat\",\"codellama-34b-instruct\",\"llama-2-70b-chat\",\"mistral-7b-instruct\",\"mixtral-8x7b-instruct\",\"pplx-70b-chat\",\"pplx-7b-chat\",\"codellama-34b-instruct\",\"llama-2-70b-chat\",\"mistral-7b-instruct\",\"mixtral-8x7b-instruct\",\"pplx-70b-chat\",\"pplx-7b-chat\",\"codellama-34b-instruct\",\"llama-2-70b-chat\",\"mistral-7b-instruct\",\"mixtral-8x7b-instruct\",\"pplx-70b-chat\",\"pplx-7b-chat\",\"codellama-34b-instruct\",\"llama-2-70b-chat\",\"mistral-7b-instruct\",\"mixtral-8x7b-instruct\",\"pplx-70b-chat\",\"pplx-7b-chat\"],\"legendgroup\":\"True\",\"marker\":{\"color\":\"#EF553B\"},\"name\":\"True\",\"notched\":false,\"offsetgroup\":\"True\",\"orientation\":\"v\",\"showlegend\":true,\"x\":[\"(-0.001, 5.0]\",\"(-0.001, 5.0]\",\"(-0.001, 5.0]\",\"(-0.001, 5.0]\",\"(-0.001, 5.0]\",\"(-0.001, 5.0]\",\"(5.0, 10.0]\",\"(5.0, 10.0]\",\"(5.0, 10.0]\",\"(5.0, 10.0]\",\"(5.0, 10.0]\",\"(5.0, 10.0]\",\"(10.0, 15.0]\",\"(10.0, 15.0]\",\"(10.0, 15.0]\",\"(10.0, 15.0]\",\"(10.0, 15.0]\",\"(10.0, 15.0]\",\"(15.0, 20.0]\",\"(15.0, 20.0]\",\"(15.0, 20.0]\",\"(15.0, 20.0]\",\"(15.0, 20.0]\",\"(15.0, 20.0]\",\"(20.0, 25.0]\",\"(20.0, 25.0]\",\"(20.0, 25.0]\",\"(20.0, 25.0]\",\"(20.0, 25.0]\",\"(20.0, 25.0]\",\"(25.0, 30.0]\",\"(25.0, 30.0]\",\"(25.0, 30.0]\",\"(25.0, 30.0]\",\"(25.0, 30.0]\",\"(25.0, 30.0]\",\"(30.0, 35.0]\",\"(30.0, 35.0]\",\"(30.0, 35.0]\",\"(30.0, 35.0]\",\"(30.0, 35.0]\",\"(30.0, 35.0]\",\"(35.0, 40.0]\",\"(35.0, 40.0]\",\"(35.0, 40.0]\",\"(35.0, 40.0]\",\"(35.0, 40.0]\",\"(35.0, 40.0]\",\"(40.0, 45.0]\",\"(40.0, 45.0]\",\"(40.0, 45.0]\",\"(40.0, 45.0]\",\"(40.0, 45.0]\",\"(40.0, 45.0]\",\"(45.0, 50.0]\",\"(45.0, 50.0]\",\"(45.0, 50.0]\",\"(45.0, 50.0]\",\"(45.0, 50.0]\",\"(45.0, 50.0]\",\"(50.0, 55.0]\",\"(50.0, 55.0]\",\"(50.0, 55.0]\",\"(50.0, 55.0]\",\"(50.0, 55.0]\",\"(50.0, 55.0]\",\"(55.0, 60.0]\",\"(55.0, 60.0]\",\"(55.0, 60.0]\",\"(55.0, 60.0]\",\"(55.0, 60.0]\",\"(55.0, 60.0]\",\"(60.0, 65.0]\",\"(60.0, 65.0]\",\"(60.0, 65.0]\",\"(60.0, 65.0]\",\"(60.0, 65.0]\",\"(60.0, 65.0]\",\"(65.0, 70.0]\",\"(65.0, 70.0]\",\"(65.0, 70.0]\",\"(65.0, 70.0]\",\"(65.0, 70.0]\",\"(65.0, 70.0]\",\"(70.0, 75.0]\",\"(70.0, 75.0]\",\"(70.0, 75.0]\",\"(70.0, 75.0]\",\"(70.0, 75.0]\",\"(70.0, 75.0]\",\"(75.0, 80.0]\",\"(75.0, 80.0]\",\"(75.0, 80.0]\",\"(75.0, 80.0]\",\"(75.0, 80.0]\",\"(75.0, 80.0]\",\"(80.0, 85.0]\",\"(80.0, 85.0]\",\"(80.0, 85.0]\",\"(80.0, 85.0]\",\"(80.0, 85.0]\",\"(80.0, 85.0]\",\"(85.0, 90.0]\",\"(85.0, 90.0]\",\"(85.0, 90.0]\",\"(85.0, 90.0]\",\"(85.0, 90.0]\",\"(85.0, 90.0]\",\"(90.0, 95.0]\",\"(90.0, 95.0]\",\"(90.0, 95.0]\",\"(90.0, 95.0]\",\"(90.0, 95.0]\",\"(90.0, 95.0]\",\"(95.0, 100.0]\",\"(95.0, 100.0]\",\"(95.0, 100.0]\",\"(95.0, 100.0]\",\"(95.0, 100.0]\",\"(95.0, 100.0]\"],\"x0\":\" \",\"xaxis\":\"x\",\"y\":[12,14,11,6,12,10,16,20,22,24,17,22,0,0,0,0,1,1,26,12,16,16,15,19,0,0,1,0,0,0,27,27,23,28,27,28,0,0,0,0,0,0,20,18,22,20,19,13,0,0,0,0,1,0,9,12,11,9,14,14,0,0,0,0,0,0,5,7,11,10,7,7,2,3,5,3,1,1,10,15,19,28,24,19,0,0,0,0,1,0,44,29,38,34,37,37,2,2,1,2,2,3,35,38,29,27,28,24,0,0,1,1,1,1,21,23,16,22,23,24],\"y0\":\" \",\"yaxis\":\"y\",\"type\":\"box\"}],                        {\"template\":{\"data\":{\"histogram2dcontour\":[{\"type\":\"histogram2dcontour\",\"colorbar\":{\"outlinewidth\":0,\"ticks\":\"\"},\"colorscale\":[[0.0,\"#0d0887\"],[0.1111111111111111,\"#46039f\"],[0.2222222222222222,\"#7201a8\"],[0.3333333333333333,\"#9c179e\"],[0.4444444444444444,\"#bd3786\"],[0.5555555555555556,\"#d8576b\"],[0.6666666666666666,\"#ed7953\"],[0.7777777777777778,\"#fb9f3a\"],[0.8888888888888888,\"#fdca26\"],[1.0,\"#f0f921\"]]}],\"choropleth\":[{\"type\":\"choropleth\",\"colorbar\":{\"outlinewidth\":0,\"ticks\":\"\"}}],\"histogram2d\":[{\"type\":\"histogram2d\",\"colorbar\":{\"outlinewidth\":0,\"ticks\":\"\"},\"colorscale\":[[0.0,\"#0d0887\"],[0.1111111111111111,\"#46039f\"],[0.2222222222222222,\"#7201a8\"],[0.3333333333333333,\"#9c179e\"],[0.4444444444444444,\"#bd3786\"],[0.5555555555555556,\"#d8576b\"],[0.6666666666666666,\"#ed7953\"],[0.7777777777777778,\"#fb9f3a\"],[0.8888888888888888,\"#fdca26\"],[1.0,\"#f0f921\"]]}],\"heatmap\":[{\"type\":\"heatmap\",\"colorbar\":{\"outlinewidth\":0,\"ticks\":\"\"},\"colorscale\":[[0.0,\"#0d0887\"],[0.1111111111111111,\"#46039f\"],[0.2222222222222222,\"#7201a8\"],[0.3333333333333333,\"#9c179e\"],[0.4444444444444444,\"#bd3786\"],[0.5555555555555556,\"#d8576b\"],[0.6666666666666666,\"#ed7953\"],[0.7777777777777778,\"#fb9f3a\"],[0.8888888888888888,\"#fdca26\"],[1.0,\"#f0f921\"]]}],\"heatmapgl\":[{\"type\":\"heatmapgl\",\"colorbar\":{\"outlinewidth\":0,\"ticks\":\"\"},\"colorscale\":[[0.0,\"#0d0887\"],[0.1111111111111111,\"#46039f\"],[0.2222222222222222,\"#7201a8\"],[0.3333333333333333,\"#9c179e\"],[0.4444444444444444,\"#bd3786\"],[0.5555555555555556,\"#d8576b\"],[0.6666666666666666,\"#ed7953\"],[0.7777777777777778,\"#fb9f3a\"],[0.8888888888888888,\"#fdca26\"],[1.0,\"#f0f921\"]]}],\"contourcarpet\":[{\"type\":\"contourcarpet\",\"colorbar\":{\"outlinewidth\":0,\"ticks\":\"\"}}],\"contour\":[{\"type\":\"contour\",\"colorbar\":{\"outlinewidth\":0,\"ticks\":\"\"},\"colorscale\":[[0.0,\"#0d0887\"],[0.1111111111111111,\"#46039f\"],[0.2222222222222222,\"#7201a8\"],[0.3333333333333333,\"#9c179e\"],[0.4444444444444444,\"#bd3786\"],[0.5555555555555556,\"#d8576b\"],[0.6666666666666666,\"#ed7953\"],[0.7777777777777778,\"#fb9f3a\"],[0.8888888888888888,\"#fdca26\"],[1.0,\"#f0f921\"]]}],\"surface\":[{\"type\":\"surface\",\"colorbar\":{\"outlinewidth\":0,\"ticks\":\"\"},\"colorscale\":[[0.0,\"#0d0887\"],[0.1111111111111111,\"#46039f\"],[0.2222222222222222,\"#7201a8\"],[0.3333333333333333,\"#9c179e\"],[0.4444444444444444,\"#bd3786\"],[0.5555555555555556,\"#d8576b\"],[0.6666666666666666,\"#ed7953\"],[0.7777777777777778,\"#fb9f3a\"],[0.8888888888888888,\"#fdca26\"],[1.0,\"#f0f921\"]]}],\"mesh3d\":[{\"type\":\"mesh3d\",\"colorbar\":{\"outlinewidth\":0,\"ticks\":\"\"}}],\"scatter\":[{\"marker\":{\"line\":{\"color\":\"#283442\"}},\"type\":\"scatter\"}],\"parcoords\":[{\"type\":\"parcoords\",\"line\":{\"colorbar\":{\"outlinewidth\":0,\"ticks\":\"\"}}}],\"scatterpolargl\":[{\"type\":\"scatterpolargl\",\"marker\":{\"colorbar\":{\"outlinewidth\":0,\"ticks\":\"\"}}}],\"bar\":[{\"error_x\":{\"color\":\"#f2f5fa\"},\"error_y\":{\"color\":\"#f2f5fa\"},\"marker\":{\"line\":{\"color\":\"rgb(17,17,17)\",\"width\":0.5},\"pattern\":{\"fillmode\":\"overlay\",\"size\":10,\"solidity\":0.2}},\"type\":\"bar\"}],\"scattergeo\":[{\"type\":\"scattergeo\",\"marker\":{\"colorbar\":{\"outlinewidth\":0,\"ticks\":\"\"}}}],\"scatterpolar\":[{\"type\":\"scatterpolar\",\"marker\":{\"colorbar\":{\"outlinewidth\":0,\"ticks\":\"\"}}}],\"histogram\":[{\"marker\":{\"pattern\":{\"fillmode\":\"overlay\",\"size\":10,\"solidity\":0.2}},\"type\":\"histogram\"}],\"scattergl\":[{\"marker\":{\"line\":{\"color\":\"#283442\"}},\"type\":\"scattergl\"}],\"scatter3d\":[{\"type\":\"scatter3d\",\"line\":{\"colorbar\":{\"outlinewidth\":0,\"ticks\":\"\"}},\"marker\":{\"colorbar\":{\"outlinewidth\":0,\"ticks\":\"\"}}}],\"scattermapbox\":[{\"type\":\"scattermapbox\",\"marker\":{\"colorbar\":{\"outlinewidth\":0,\"ticks\":\"\"}}}],\"scatterternary\":[{\"type\":\"scatterternary\",\"marker\":{\"colorbar\":{\"outlinewidth\":0,\"ticks\":\"\"}}}],\"scattercarpet\":[{\"type\":\"scattercarpet\",\"marker\":{\"colorbar\":{\"outlinewidth\":0,\"ticks\":\"\"}}}],\"carpet\":[{\"aaxis\":{\"endlinecolor\":\"#A2B1C6\",\"gridcolor\":\"#506784\",\"linecolor\":\"#506784\",\"minorgridcolor\":\"#506784\",\"startlinecolor\":\"#A2B1C6\"},\"baxis\":{\"endlinecolor\":\"#A2B1C6\",\"gridcolor\":\"#506784\",\"linecolor\":\"#506784\",\"minorgridcolor\":\"#506784\",\"startlinecolor\":\"#A2B1C6\"},\"type\":\"carpet\"}],\"table\":[{\"cells\":{\"fill\":{\"color\":\"#506784\"},\"line\":{\"color\":\"rgb(17,17,17)\"}},\"header\":{\"fill\":{\"color\":\"#2a3f5f\"},\"line\":{\"color\":\"rgb(17,17,17)\"}},\"type\":\"table\"}],\"barpolar\":[{\"marker\":{\"line\":{\"color\":\"rgb(17,17,17)\",\"width\":0.5},\"pattern\":{\"fillmode\":\"overlay\",\"size\":10,\"solidity\":0.2}},\"type\":\"barpolar\"}],\"pie\":[{\"automargin\":true,\"type\":\"pie\"}]},\"layout\":{\"autotypenumbers\":\"strict\",\"colorway\":[\"#636efa\",\"#EF553B\",\"#00cc96\",\"#ab63fa\",\"#FFA15A\",\"#19d3f3\",\"#FF6692\",\"#B6E880\",\"#FF97FF\",\"#FECB52\"],\"font\":{\"color\":\"#f2f5fa\"},\"hovermode\":\"closest\",\"hoverlabel\":{\"align\":\"left\"},\"paper_bgcolor\":\"rgb(17,17,17)\",\"plot_bgcolor\":\"rgb(17,17,17)\",\"polar\":{\"bgcolor\":\"rgb(17,17,17)\",\"angularaxis\":{\"gridcolor\":\"#506784\",\"linecolor\":\"#506784\",\"ticks\":\"\"},\"radialaxis\":{\"gridcolor\":\"#506784\",\"linecolor\":\"#506784\",\"ticks\":\"\"}},\"ternary\":{\"bgcolor\":\"rgb(17,17,17)\",\"aaxis\":{\"gridcolor\":\"#506784\",\"linecolor\":\"#506784\",\"ticks\":\"\"},\"baxis\":{\"gridcolor\":\"#506784\",\"linecolor\":\"#506784\",\"ticks\":\"\"},\"caxis\":{\"gridcolor\":\"#506784\",\"linecolor\":\"#506784\",\"ticks\":\"\"}},\"coloraxis\":{\"colorbar\":{\"outlinewidth\":0,\"ticks\":\"\"}},\"colorscale\":{\"sequential\":[[0.0,\"#0d0887\"],[0.1111111111111111,\"#46039f\"],[0.2222222222222222,\"#7201a8\"],[0.3333333333333333,\"#9c179e\"],[0.4444444444444444,\"#bd3786\"],[0.5555555555555556,\"#d8576b\"],[0.6666666666666666,\"#ed7953\"],[0.7777777777777778,\"#fb9f3a\"],[0.8888888888888888,\"#fdca26\"],[1.0,\"#f0f921\"]],\"sequentialminus\":[[0.0,\"#0d0887\"],[0.1111111111111111,\"#46039f\"],[0.2222222222222222,\"#7201a8\"],[0.3333333333333333,\"#9c179e\"],[0.4444444444444444,\"#bd3786\"],[0.5555555555555556,\"#d8576b\"],[0.6666666666666666,\"#ed7953\"],[0.7777777777777778,\"#fb9f3a\"],[0.8888888888888888,\"#fdca26\"],[1.0,\"#f0f921\"]],\"diverging\":[[0,\"#8e0152\"],[0.1,\"#c51b7d\"],[0.2,\"#de77ae\"],[0.3,\"#f1b6da\"],[0.4,\"#fde0ef\"],[0.5,\"#f7f7f7\"],[0.6,\"#e6f5d0\"],[0.7,\"#b8e186\"],[0.8,\"#7fbc41\"],[0.9,\"#4d9221\"],[1,\"#276419\"]]},\"xaxis\":{\"gridcolor\":\"#283442\",\"linecolor\":\"#506784\",\"ticks\":\"\",\"title\":{\"standoff\":15},\"zerolinecolor\":\"#283442\",\"automargin\":true,\"zerolinewidth\":2},\"yaxis\":{\"gridcolor\":\"#283442\",\"linecolor\":\"#506784\",\"ticks\":\"\",\"title\":{\"standoff\":15},\"zerolinecolor\":\"#283442\",\"automargin\":true,\"zerolinewidth\":2},\"scene\":{\"xaxis\":{\"backgroundcolor\":\"rgb(17,17,17)\",\"gridcolor\":\"#506784\",\"linecolor\":\"#506784\",\"showbackground\":true,\"ticks\":\"\",\"zerolinecolor\":\"#C8D4E3\",\"gridwidth\":2},\"yaxis\":{\"backgroundcolor\":\"rgb(17,17,17)\",\"gridcolor\":\"#506784\",\"linecolor\":\"#506784\",\"showbackground\":true,\"ticks\":\"\",\"zerolinecolor\":\"#C8D4E3\",\"gridwidth\":2},\"zaxis\":{\"backgroundcolor\":\"rgb(17,17,17)\",\"gridcolor\":\"#506784\",\"linecolor\":\"#506784\",\"showbackground\":true,\"ticks\":\"\",\"zerolinecolor\":\"#C8D4E3\",\"gridwidth\":2}},\"shapedefaults\":{\"line\":{\"color\":\"#f2f5fa\"}},\"annotationdefaults\":{\"arrowcolor\":\"#f2f5fa\",\"arrowhead\":0,\"arrowwidth\":1},\"geo\":{\"bgcolor\":\"rgb(17,17,17)\",\"landcolor\":\"rgb(17,17,17)\",\"subunitcolor\":\"#506784\",\"showland\":true,\"showlakes\":true,\"lakecolor\":\"rgb(17,17,17)\"},\"title\":{\"x\":0.05},\"updatemenudefaults\":{\"bgcolor\":\"#506784\",\"borderwidth\":0},\"sliderdefaults\":{\"bgcolor\":\"#C8D4E3\",\"borderwidth\":1,\"bordercolor\":\"rgb(17,17,17)\",\"tickwidth\":0},\"mapbox\":{\"style\":\"dark\"}}},\"xaxis\":{\"anchor\":\"y\",\"domain\":[0.0,1.0],\"title\":{\"text\":\"bin\"}},\"yaxis\":{\"anchor\":\"x\",\"domain\":[0.0,1.0],\"title\":{\"text\":\"text\"}},\"legend\":{\"title\":{\"text\":\"truth\"},\"tracegroupgap\":0},\"margin\":{\"t\":60},\"boxmode\":\"group\"},                        {\"responsive\": true}                    ).then(function(){\n                            \nvar gd = document.getElementById('c7e71865-f590-4ad4-94cd-a39cfc624c0f');\nvar x = new MutationObserver(function (mutations, observer) {{\n        var display = window.getComputedStyle(gd).display;\n        if (!display || display === 'none') {{\n            console.log([gd, 'removed!']);\n            Plotly.purge(gd);\n            observer.disconnect();\n        }}\n}});\n\n// Listen for the removal of the full notebook cells\nvar notebookContainer = gd.closest('#notebook-container');\nif (notebookContainer) {{\n    x.observe(notebookContainer, {childList: true});\n}}\n\n// Listen for the clearing of the current output cell\nvar outputEl = gd.closest('.output');\nif (outputEl) {{\n    x.observe(outputEl, {childList: true});\n}}\n\n                        })                };                });            </script>        </div>"
     },
     "metadata": {},
     "output_type": "display_data"
    }
   ],
   "source": [
    "import numpy as np\n",
    "import plotly.express as px\n",
    "df[\"bin\"] = pd.cut(df['hate_speech_probability']*100, bins=np.arange(0, 105, 5),include_lowest=True)\n",
    "df['bin'] = df[\"bin\"].apply(lambda bin: str(bin))\n",
    "\n",
    "df_grouped = df.groupby([\"bin\", \"model\", \"truth\"]).count().reset_index()\n",
    "fig = px.box(df_grouped, x=\"bin\", y=\"text\", color=\"truth\", hover_name=\"model\")\n",
    "fig.show()"
   ]
  },
  {
   "cell_type": "code",
   "outputs": [
    {
     "name": "stderr",
     "output_type": "stream",
     "text": [
      "/tmp/ipykernel_267396/1885283846.py:7: FutureWarning:\n",
      "\n",
      "The default of observed=False is deprecated and will be changed to True in a future version of pandas. Pass observed=False to retain current behavior or observed=True to adopt the future default and silence this warning.\n",
      "\n"
     ]
    },
    {
     "data": {
      "application/vnd.plotly.v1+json": {
       "data": [
        {
         "hovertemplate": "<b>%{hovertext}</b><br><br>model=codellama-34b-instruct<br>bin=%{x}<br>text=%{y}<extra></extra>",
         "hovertext": [
          false,
          false,
          false,
          false,
          false,
          false,
          false,
          false,
          false,
          false
         ],
         "legendgroup": "codellama-34b-instruct",
         "marker": {
          "color": "#636efa",
          "symbol": "circle"
         },
         "mode": "markers",
         "name": "codellama-34b-instruct",
         "orientation": "v",
         "showlegend": true,
         "x": [
          "(-0.001, 10.0]",
          "(10.0, 20.0]",
          "(20.0, 30.0]",
          "(30.0, 40.0]",
          "(40.0, 50.0]",
          "(50.0, 60.0]",
          "(60.0, 70.0]",
          "(70.0, 80.0]",
          "(80.0, 90.0]",
          "(90.0, 100.0]"
         ],
         "xaxis": "x",
         "y": [
          140,
          23,
          19,
          20,
          9,
          5,
          8,
          4,
          2,
          5
         ],
         "yaxis": "y",
         "type": "scatter"
        },
        {
         "hovertemplate": "<b>%{hovertext}</b><br><br>model=llama-2-70b-chat<br>bin=%{x}<br>text=%{y}<extra></extra>",
         "hovertext": [
          false,
          false,
          false,
          false,
          false,
          false,
          false,
          false,
          false,
          false
         ],
         "legendgroup": "llama-2-70b-chat",
         "marker": {
          "color": "#EF553B",
          "symbol": "circle"
         },
         "mode": "markers",
         "name": "llama-2-70b-chat",
         "orientation": "v",
         "showlegend": true,
         "x": [
          "(-0.001, 10.0]",
          "(10.0, 20.0]",
          "(20.0, 30.0]",
          "(30.0, 40.0]",
          "(40.0, 50.0]",
          "(50.0, 60.0]",
          "(60.0, 70.0]",
          "(70.0, 80.0]",
          "(80.0, 90.0]",
          "(90.0, 100.0]"
         ],
         "xaxis": "x",
         "y": [
          131,
          26,
          25,
          15,
          10,
          2,
          7,
          6,
          4,
          3
         ],
         "yaxis": "y",
         "type": "scatter"
        },
        {
         "hovertemplate": "<b>%{hovertext}</b><br><br>model=mistral-7b-instruct<br>bin=%{x}<br>text=%{y}<extra></extra>",
         "hovertext": [
          false,
          false,
          false,
          false,
          false,
          false,
          false,
          false,
          false,
          false
         ],
         "legendgroup": "mistral-7b-instruct",
         "marker": {
          "color": "#00cc96",
          "symbol": "circle"
         },
         "mode": "markers",
         "name": "mistral-7b-instruct",
         "orientation": "v",
         "showlegend": true,
         "x": [
          "(-0.001, 10.0]",
          "(10.0, 20.0]",
          "(20.0, 30.0]",
          "(30.0, 40.0]",
          "(40.0, 50.0]",
          "(50.0, 60.0]",
          "(60.0, 70.0]",
          "(70.0, 80.0]",
          "(80.0, 90.0]",
          "(90.0, 100.0]"
         ],
         "xaxis": "x",
         "y": [
          140,
          18,
          27,
          15,
          9,
          3,
          6,
          5,
          5,
          5
         ],
         "yaxis": "y",
         "type": "scatter"
        },
        {
         "hovertemplate": "<b>%{hovertext}</b><br><br>model=mixtral-8x7b-instruct<br>bin=%{x}<br>text=%{y}<extra></extra>",
         "hovertext": [
          false,
          false,
          false,
          false,
          false,
          false,
          false,
          false,
          false,
          false
         ],
         "legendgroup": "mixtral-8x7b-instruct",
         "marker": {
          "color": "#ab63fa",
          "symbol": "circle"
         },
         "mode": "markers",
         "name": "mixtral-8x7b-instruct",
         "orientation": "v",
         "showlegend": true,
         "x": [
          "(-0.001, 10.0]",
          "(10.0, 20.0]",
          "(20.0, 30.0]",
          "(30.0, 40.0]",
          "(40.0, 50.0]",
          "(50.0, 60.0]",
          "(60.0, 70.0]",
          "(70.0, 80.0]",
          "(80.0, 90.0]",
          "(90.0, 100.0]"
         ],
         "xaxis": "x",
         "y": [
          122,
          26,
          35,
          20,
          10,
          4,
          5,
          5,
          5,
          4
         ],
         "yaxis": "y",
         "type": "scatter"
        },
        {
         "hovertemplate": "<b>%{hovertext}</b><br><br>model=pplx-70b-chat<br>bin=%{x}<br>text=%{y}<extra></extra>",
         "hovertext": [
          false,
          false,
          false,
          false,
          false,
          false,
          false,
          false,
          false,
          false
         ],
         "legendgroup": "pplx-70b-chat",
         "marker": {
          "color": "#FFA15A",
          "symbol": "circle"
         },
         "mode": "markers",
         "name": "pplx-70b-chat",
         "orientation": "v",
         "showlegend": true,
         "x": [
          "(-0.001, 10.0]",
          "(10.0, 20.0]",
          "(20.0, 30.0]",
          "(30.0, 40.0]",
          "(40.0, 50.0]",
          "(50.0, 60.0]",
          "(60.0, 70.0]",
          "(70.0, 80.0]",
          "(80.0, 90.0]",
          "(90.0, 100.0]"
         ],
         "xaxis": "x",
         "y": [
          136,
          18,
          32,
          12,
          16,
          3,
          1,
          5,
          5,
          3
         ],
         "yaxis": "y",
         "type": "scatter"
        },
        {
         "hovertemplate": "<b>%{hovertext}</b><br><br>model=pplx-7b-chat<br>bin=%{x}<br>text=%{y}<extra></extra>",
         "hovertext": [
          false,
          false,
          false,
          false,
          false,
          false,
          false,
          false,
          false,
          false
         ],
         "legendgroup": "pplx-7b-chat",
         "marker": {
          "color": "#19d3f3",
          "symbol": "circle"
         },
         "mode": "markers",
         "name": "pplx-7b-chat",
         "orientation": "v",
         "showlegend": true,
         "x": [
          "(-0.001, 10.0]",
          "(10.0, 20.0]",
          "(20.0, 30.0]",
          "(30.0, 40.0]",
          "(40.0, 50.0]",
          "(50.0, 60.0]",
          "(60.0, 70.0]",
          "(70.0, 80.0]",
          "(80.0, 90.0]",
          "(90.0, 100.0]"
         ],
         "xaxis": "x",
         "y": [
          134,
          27,
          22,
          19,
          9,
          5,
          6,
          5,
          3,
          2
         ],
         "yaxis": "y",
         "type": "scatter"
        }
       ],
       "layout": {
        "template": {
         "data": {
          "histogram2dcontour": [
           {
            "type": "histogram2dcontour",
            "colorbar": {
             "outlinewidth": 0,
             "ticks": ""
            },
            "colorscale": [
             [
              0.0,
              "#0d0887"
             ],
             [
              0.1111111111111111,
              "#46039f"
             ],
             [
              0.2222222222222222,
              "#7201a8"
             ],
             [
              0.3333333333333333,
              "#9c179e"
             ],
             [
              0.4444444444444444,
              "#bd3786"
             ],
             [
              0.5555555555555556,
              "#d8576b"
             ],
             [
              0.6666666666666666,
              "#ed7953"
             ],
             [
              0.7777777777777778,
              "#fb9f3a"
             ],
             [
              0.8888888888888888,
              "#fdca26"
             ],
             [
              1.0,
              "#f0f921"
             ]
            ]
           }
          ],
          "choropleth": [
           {
            "type": "choropleth",
            "colorbar": {
             "outlinewidth": 0,
             "ticks": ""
            }
           }
          ],
          "histogram2d": [
           {
            "type": "histogram2d",
            "colorbar": {
             "outlinewidth": 0,
             "ticks": ""
            },
            "colorscale": [
             [
              0.0,
              "#0d0887"
             ],
             [
              0.1111111111111111,
              "#46039f"
             ],
             [
              0.2222222222222222,
              "#7201a8"
             ],
             [
              0.3333333333333333,
              "#9c179e"
             ],
             [
              0.4444444444444444,
              "#bd3786"
             ],
             [
              0.5555555555555556,
              "#d8576b"
             ],
             [
              0.6666666666666666,
              "#ed7953"
             ],
             [
              0.7777777777777778,
              "#fb9f3a"
             ],
             [
              0.8888888888888888,
              "#fdca26"
             ],
             [
              1.0,
              "#f0f921"
             ]
            ]
           }
          ],
          "heatmap": [
           {
            "type": "heatmap",
            "colorbar": {
             "outlinewidth": 0,
             "ticks": ""
            },
            "colorscale": [
             [
              0.0,
              "#0d0887"
             ],
             [
              0.1111111111111111,
              "#46039f"
             ],
             [
              0.2222222222222222,
              "#7201a8"
             ],
             [
              0.3333333333333333,
              "#9c179e"
             ],
             [
              0.4444444444444444,
              "#bd3786"
             ],
             [
              0.5555555555555556,
              "#d8576b"
             ],
             [
              0.6666666666666666,
              "#ed7953"
             ],
             [
              0.7777777777777778,
              "#fb9f3a"
             ],
             [
              0.8888888888888888,
              "#fdca26"
             ],
             [
              1.0,
              "#f0f921"
             ]
            ]
           }
          ],
          "heatmapgl": [
           {
            "type": "heatmapgl",
            "colorbar": {
             "outlinewidth": 0,
             "ticks": ""
            },
            "colorscale": [
             [
              0.0,
              "#0d0887"
             ],
             [
              0.1111111111111111,
              "#46039f"
             ],
             [
              0.2222222222222222,
              "#7201a8"
             ],
             [
              0.3333333333333333,
              "#9c179e"
             ],
             [
              0.4444444444444444,
              "#bd3786"
             ],
             [
              0.5555555555555556,
              "#d8576b"
             ],
             [
              0.6666666666666666,
              "#ed7953"
             ],
             [
              0.7777777777777778,
              "#fb9f3a"
             ],
             [
              0.8888888888888888,
              "#fdca26"
             ],
             [
              1.0,
              "#f0f921"
             ]
            ]
           }
          ],
          "contourcarpet": [
           {
            "type": "contourcarpet",
            "colorbar": {
             "outlinewidth": 0,
             "ticks": ""
            }
           }
          ],
          "contour": [
           {
            "type": "contour",
            "colorbar": {
             "outlinewidth": 0,
             "ticks": ""
            },
            "colorscale": [
             [
              0.0,
              "#0d0887"
             ],
             [
              0.1111111111111111,
              "#46039f"
             ],
             [
              0.2222222222222222,
              "#7201a8"
             ],
             [
              0.3333333333333333,
              "#9c179e"
             ],
             [
              0.4444444444444444,
              "#bd3786"
             ],
             [
              0.5555555555555556,
              "#d8576b"
             ],
             [
              0.6666666666666666,
              "#ed7953"
             ],
             [
              0.7777777777777778,
              "#fb9f3a"
             ],
             [
              0.8888888888888888,
              "#fdca26"
             ],
             [
              1.0,
              "#f0f921"
             ]
            ]
           }
          ],
          "surface": [
           {
            "type": "surface",
            "colorbar": {
             "outlinewidth": 0,
             "ticks": ""
            },
            "colorscale": [
             [
              0.0,
              "#0d0887"
             ],
             [
              0.1111111111111111,
              "#46039f"
             ],
             [
              0.2222222222222222,
              "#7201a8"
             ],
             [
              0.3333333333333333,
              "#9c179e"
             ],
             [
              0.4444444444444444,
              "#bd3786"
             ],
             [
              0.5555555555555556,
              "#d8576b"
             ],
             [
              0.6666666666666666,
              "#ed7953"
             ],
             [
              0.7777777777777778,
              "#fb9f3a"
             ],
             [
              0.8888888888888888,
              "#fdca26"
             ],
             [
              1.0,
              "#f0f921"
             ]
            ]
           }
          ],
          "mesh3d": [
           {
            "type": "mesh3d",
            "colorbar": {
             "outlinewidth": 0,
             "ticks": ""
            }
           }
          ],
          "scatter": [
           {
            "marker": {
             "line": {
              "color": "#283442"
             }
            },
            "type": "scatter"
           }
          ],
          "parcoords": [
           {
            "type": "parcoords",
            "line": {
             "colorbar": {
              "outlinewidth": 0,
              "ticks": ""
             }
            }
           }
          ],
          "scatterpolargl": [
           {
            "type": "scatterpolargl",
            "marker": {
             "colorbar": {
              "outlinewidth": 0,
              "ticks": ""
             }
            }
           }
          ],
          "bar": [
           {
            "error_x": {
             "color": "#f2f5fa"
            },
            "error_y": {
             "color": "#f2f5fa"
            },
            "marker": {
             "line": {
              "color": "rgb(17,17,17)",
              "width": 0.5
             },
             "pattern": {
              "fillmode": "overlay",
              "size": 10,
              "solidity": 0.2
             }
            },
            "type": "bar"
           }
          ],
          "scattergeo": [
           {
            "type": "scattergeo",
            "marker": {
             "colorbar": {
              "outlinewidth": 0,
              "ticks": ""
             }
            }
           }
          ],
          "scatterpolar": [
           {
            "type": "scatterpolar",
            "marker": {
             "colorbar": {
              "outlinewidth": 0,
              "ticks": ""
             }
            }
           }
          ],
          "histogram": [
           {
            "marker": {
             "pattern": {
              "fillmode": "overlay",
              "size": 10,
              "solidity": 0.2
             }
            },
            "type": "histogram"
           }
          ],
          "scattergl": [
           {
            "marker": {
             "line": {
              "color": "#283442"
             }
            },
            "type": "scattergl"
           }
          ],
          "scatter3d": [
           {
            "type": "scatter3d",
            "line": {
             "colorbar": {
              "outlinewidth": 0,
              "ticks": ""
             }
            },
            "marker": {
             "colorbar": {
              "outlinewidth": 0,
              "ticks": ""
             }
            }
           }
          ],
          "scattermapbox": [
           {
            "type": "scattermapbox",
            "marker": {
             "colorbar": {
              "outlinewidth": 0,
              "ticks": ""
             }
            }
           }
          ],
          "scatterternary": [
           {
            "type": "scatterternary",
            "marker": {
             "colorbar": {
              "outlinewidth": 0,
              "ticks": ""
             }
            }
           }
          ],
          "scattercarpet": [
           {
            "type": "scattercarpet",
            "marker": {
             "colorbar": {
              "outlinewidth": 0,
              "ticks": ""
             }
            }
           }
          ],
          "carpet": [
           {
            "aaxis": {
             "endlinecolor": "#A2B1C6",
             "gridcolor": "#506784",
             "linecolor": "#506784",
             "minorgridcolor": "#506784",
             "startlinecolor": "#A2B1C6"
            },
            "baxis": {
             "endlinecolor": "#A2B1C6",
             "gridcolor": "#506784",
             "linecolor": "#506784",
             "minorgridcolor": "#506784",
             "startlinecolor": "#A2B1C6"
            },
            "type": "carpet"
           }
          ],
          "table": [
           {
            "cells": {
             "fill": {
              "color": "#506784"
             },
             "line": {
              "color": "rgb(17,17,17)"
             }
            },
            "header": {
             "fill": {
              "color": "#2a3f5f"
             },
             "line": {
              "color": "rgb(17,17,17)"
             }
            },
            "type": "table"
           }
          ],
          "barpolar": [
           {
            "marker": {
             "line": {
              "color": "rgb(17,17,17)",
              "width": 0.5
             },
             "pattern": {
              "fillmode": "overlay",
              "size": 10,
              "solidity": 0.2
             }
            },
            "type": "barpolar"
           }
          ],
          "pie": [
           {
            "automargin": true,
            "type": "pie"
           }
          ]
         },
         "layout": {
          "autotypenumbers": "strict",
          "colorway": [
           "#636efa",
           "#EF553B",
           "#00cc96",
           "#ab63fa",
           "#FFA15A",
           "#19d3f3",
           "#FF6692",
           "#B6E880",
           "#FF97FF",
           "#FECB52"
          ],
          "font": {
           "color": "#f2f5fa"
          },
          "hovermode": "closest",
          "hoverlabel": {
           "align": "left"
          },
          "paper_bgcolor": "rgb(17,17,17)",
          "plot_bgcolor": "rgb(17,17,17)",
          "polar": {
           "bgcolor": "rgb(17,17,17)",
           "angularaxis": {
            "gridcolor": "#506784",
            "linecolor": "#506784",
            "ticks": ""
           },
           "radialaxis": {
            "gridcolor": "#506784",
            "linecolor": "#506784",
            "ticks": ""
           }
          },
          "ternary": {
           "bgcolor": "rgb(17,17,17)",
           "aaxis": {
            "gridcolor": "#506784",
            "linecolor": "#506784",
            "ticks": ""
           },
           "baxis": {
            "gridcolor": "#506784",
            "linecolor": "#506784",
            "ticks": ""
           },
           "caxis": {
            "gridcolor": "#506784",
            "linecolor": "#506784",
            "ticks": ""
           }
          },
          "coloraxis": {
           "colorbar": {
            "outlinewidth": 0,
            "ticks": ""
           }
          },
          "colorscale": {
           "sequential": [
            [
             0.0,
             "#0d0887"
            ],
            [
             0.1111111111111111,
             "#46039f"
            ],
            [
             0.2222222222222222,
             "#7201a8"
            ],
            [
             0.3333333333333333,
             "#9c179e"
            ],
            [
             0.4444444444444444,
             "#bd3786"
            ],
            [
             0.5555555555555556,
             "#d8576b"
            ],
            [
             0.6666666666666666,
             "#ed7953"
            ],
            [
             0.7777777777777778,
             "#fb9f3a"
            ],
            [
             0.8888888888888888,
             "#fdca26"
            ],
            [
             1.0,
             "#f0f921"
            ]
           ],
           "sequentialminus": [
            [
             0.0,
             "#0d0887"
            ],
            [
             0.1111111111111111,
             "#46039f"
            ],
            [
             0.2222222222222222,
             "#7201a8"
            ],
            [
             0.3333333333333333,
             "#9c179e"
            ],
            [
             0.4444444444444444,
             "#bd3786"
            ],
            [
             0.5555555555555556,
             "#d8576b"
            ],
            [
             0.6666666666666666,
             "#ed7953"
            ],
            [
             0.7777777777777778,
             "#fb9f3a"
            ],
            [
             0.8888888888888888,
             "#fdca26"
            ],
            [
             1.0,
             "#f0f921"
            ]
           ],
           "diverging": [
            [
             0,
             "#8e0152"
            ],
            [
             0.1,
             "#c51b7d"
            ],
            [
             0.2,
             "#de77ae"
            ],
            [
             0.3,
             "#f1b6da"
            ],
            [
             0.4,
             "#fde0ef"
            ],
            [
             0.5,
             "#f7f7f7"
            ],
            [
             0.6,
             "#e6f5d0"
            ],
            [
             0.7,
             "#b8e186"
            ],
            [
             0.8,
             "#7fbc41"
            ],
            [
             0.9,
             "#4d9221"
            ],
            [
             1,
             "#276419"
            ]
           ]
          },
          "xaxis": {
           "gridcolor": "#283442",
           "linecolor": "#506784",
           "ticks": "",
           "title": {
            "standoff": 15
           },
           "zerolinecolor": "#283442",
           "automargin": true,
           "zerolinewidth": 2
          },
          "yaxis": {
           "gridcolor": "#283442",
           "linecolor": "#506784",
           "ticks": "",
           "title": {
            "standoff": 15
           },
           "zerolinecolor": "#283442",
           "automargin": true,
           "zerolinewidth": 2
          },
          "scene": {
           "xaxis": {
            "backgroundcolor": "rgb(17,17,17)",
            "gridcolor": "#506784",
            "linecolor": "#506784",
            "showbackground": true,
            "ticks": "",
            "zerolinecolor": "#C8D4E3",
            "gridwidth": 2
           },
           "yaxis": {
            "backgroundcolor": "rgb(17,17,17)",
            "gridcolor": "#506784",
            "linecolor": "#506784",
            "showbackground": true,
            "ticks": "",
            "zerolinecolor": "#C8D4E3",
            "gridwidth": 2
           },
           "zaxis": {
            "backgroundcolor": "rgb(17,17,17)",
            "gridcolor": "#506784",
            "linecolor": "#506784",
            "showbackground": true,
            "ticks": "",
            "zerolinecolor": "#C8D4E3",
            "gridwidth": 2
           }
          },
          "shapedefaults": {
           "line": {
            "color": "#f2f5fa"
           }
          },
          "annotationdefaults": {
           "arrowcolor": "#f2f5fa",
           "arrowhead": 0,
           "arrowwidth": 1
          },
          "geo": {
           "bgcolor": "rgb(17,17,17)",
           "landcolor": "rgb(17,17,17)",
           "subunitcolor": "#506784",
           "showland": true,
           "showlakes": true,
           "lakecolor": "rgb(17,17,17)"
          },
          "title": {
           "x": 0.05
          },
          "updatemenudefaults": {
           "bgcolor": "#506784",
           "borderwidth": 0
          },
          "sliderdefaults": {
           "bgcolor": "#C8D4E3",
           "borderwidth": 1,
           "bordercolor": "rgb(17,17,17)",
           "tickwidth": 0
          },
          "mapbox": {
           "style": "dark"
          }
         }
        },
        "xaxis": {
         "anchor": "y",
         "domain": [
          0.0,
          1.0
         ],
         "title": {
          "text": "bin"
         }
        },
        "yaxis": {
         "anchor": "x",
         "domain": [
          0.0,
          1.0
         ],
         "title": {
          "text": "text"
         }
        },
        "legend": {
         "title": {
          "text": "model"
         },
         "tracegroupgap": 0
        },
        "title": {
         "text": "Hate Speech Probability (only non-hatefull, our probability should be 0)"
        }
       },
       "config": {
        "plotlyServerURL": "https://plot.ly"
       }
      },
      "text/html": "<div>                            <div id=\"f3e7df74-0a1a-4ce9-bbde-ba156ddfbf3d\" class=\"plotly-graph-div\" style=\"height:525px; width:100%;\"></div>            <script type=\"text/javascript\">                require([\"plotly\"], function(Plotly) {                    window.PLOTLYENV=window.PLOTLYENV || {};                                    if (document.getElementById(\"f3e7df74-0a1a-4ce9-bbde-ba156ddfbf3d\")) {                    Plotly.newPlot(                        \"f3e7df74-0a1a-4ce9-bbde-ba156ddfbf3d\",                        [{\"hovertemplate\":\"\\u003cb\\u003e%{hovertext}\\u003c\\u002fb\\u003e\\u003cbr\\u003e\\u003cbr\\u003emodel=codellama-34b-instruct\\u003cbr\\u003ebin=%{x}\\u003cbr\\u003etext=%{y}\\u003cextra\\u003e\\u003c\\u002fextra\\u003e\",\"hovertext\":[false,false,false,false,false,false,false,false,false,false],\"legendgroup\":\"codellama-34b-instruct\",\"marker\":{\"color\":\"#636efa\",\"symbol\":\"circle\"},\"mode\":\"markers\",\"name\":\"codellama-34b-instruct\",\"orientation\":\"v\",\"showlegend\":true,\"x\":[\"(-0.001, 10.0]\",\"(10.0, 20.0]\",\"(20.0, 30.0]\",\"(30.0, 40.0]\",\"(40.0, 50.0]\",\"(50.0, 60.0]\",\"(60.0, 70.0]\",\"(70.0, 80.0]\",\"(80.0, 90.0]\",\"(90.0, 100.0]\"],\"xaxis\":\"x\",\"y\":[140,23,19,20,9,5,8,4,2,5],\"yaxis\":\"y\",\"type\":\"scatter\"},{\"hovertemplate\":\"\\u003cb\\u003e%{hovertext}\\u003c\\u002fb\\u003e\\u003cbr\\u003e\\u003cbr\\u003emodel=llama-2-70b-chat\\u003cbr\\u003ebin=%{x}\\u003cbr\\u003etext=%{y}\\u003cextra\\u003e\\u003c\\u002fextra\\u003e\",\"hovertext\":[false,false,false,false,false,false,false,false,false,false],\"legendgroup\":\"llama-2-70b-chat\",\"marker\":{\"color\":\"#EF553B\",\"symbol\":\"circle\"},\"mode\":\"markers\",\"name\":\"llama-2-70b-chat\",\"orientation\":\"v\",\"showlegend\":true,\"x\":[\"(-0.001, 10.0]\",\"(10.0, 20.0]\",\"(20.0, 30.0]\",\"(30.0, 40.0]\",\"(40.0, 50.0]\",\"(50.0, 60.0]\",\"(60.0, 70.0]\",\"(70.0, 80.0]\",\"(80.0, 90.0]\",\"(90.0, 100.0]\"],\"xaxis\":\"x\",\"y\":[131,26,25,15,10,2,7,6,4,3],\"yaxis\":\"y\",\"type\":\"scatter\"},{\"hovertemplate\":\"\\u003cb\\u003e%{hovertext}\\u003c\\u002fb\\u003e\\u003cbr\\u003e\\u003cbr\\u003emodel=mistral-7b-instruct\\u003cbr\\u003ebin=%{x}\\u003cbr\\u003etext=%{y}\\u003cextra\\u003e\\u003c\\u002fextra\\u003e\",\"hovertext\":[false,false,false,false,false,false,false,false,false,false],\"legendgroup\":\"mistral-7b-instruct\",\"marker\":{\"color\":\"#00cc96\",\"symbol\":\"circle\"},\"mode\":\"markers\",\"name\":\"mistral-7b-instruct\",\"orientation\":\"v\",\"showlegend\":true,\"x\":[\"(-0.001, 10.0]\",\"(10.0, 20.0]\",\"(20.0, 30.0]\",\"(30.0, 40.0]\",\"(40.0, 50.0]\",\"(50.0, 60.0]\",\"(60.0, 70.0]\",\"(70.0, 80.0]\",\"(80.0, 90.0]\",\"(90.0, 100.0]\"],\"xaxis\":\"x\",\"y\":[140,18,27,15,9,3,6,5,5,5],\"yaxis\":\"y\",\"type\":\"scatter\"},{\"hovertemplate\":\"\\u003cb\\u003e%{hovertext}\\u003c\\u002fb\\u003e\\u003cbr\\u003e\\u003cbr\\u003emodel=mixtral-8x7b-instruct\\u003cbr\\u003ebin=%{x}\\u003cbr\\u003etext=%{y}\\u003cextra\\u003e\\u003c\\u002fextra\\u003e\",\"hovertext\":[false,false,false,false,false,false,false,false,false,false],\"legendgroup\":\"mixtral-8x7b-instruct\",\"marker\":{\"color\":\"#ab63fa\",\"symbol\":\"circle\"},\"mode\":\"markers\",\"name\":\"mixtral-8x7b-instruct\",\"orientation\":\"v\",\"showlegend\":true,\"x\":[\"(-0.001, 10.0]\",\"(10.0, 20.0]\",\"(20.0, 30.0]\",\"(30.0, 40.0]\",\"(40.0, 50.0]\",\"(50.0, 60.0]\",\"(60.0, 70.0]\",\"(70.0, 80.0]\",\"(80.0, 90.0]\",\"(90.0, 100.0]\"],\"xaxis\":\"x\",\"y\":[122,26,35,20,10,4,5,5,5,4],\"yaxis\":\"y\",\"type\":\"scatter\"},{\"hovertemplate\":\"\\u003cb\\u003e%{hovertext}\\u003c\\u002fb\\u003e\\u003cbr\\u003e\\u003cbr\\u003emodel=pplx-70b-chat\\u003cbr\\u003ebin=%{x}\\u003cbr\\u003etext=%{y}\\u003cextra\\u003e\\u003c\\u002fextra\\u003e\",\"hovertext\":[false,false,false,false,false,false,false,false,false,false],\"legendgroup\":\"pplx-70b-chat\",\"marker\":{\"color\":\"#FFA15A\",\"symbol\":\"circle\"},\"mode\":\"markers\",\"name\":\"pplx-70b-chat\",\"orientation\":\"v\",\"showlegend\":true,\"x\":[\"(-0.001, 10.0]\",\"(10.0, 20.0]\",\"(20.0, 30.0]\",\"(30.0, 40.0]\",\"(40.0, 50.0]\",\"(50.0, 60.0]\",\"(60.0, 70.0]\",\"(70.0, 80.0]\",\"(80.0, 90.0]\",\"(90.0, 100.0]\"],\"xaxis\":\"x\",\"y\":[136,18,32,12,16,3,1,5,5,3],\"yaxis\":\"y\",\"type\":\"scatter\"},{\"hovertemplate\":\"\\u003cb\\u003e%{hovertext}\\u003c\\u002fb\\u003e\\u003cbr\\u003e\\u003cbr\\u003emodel=pplx-7b-chat\\u003cbr\\u003ebin=%{x}\\u003cbr\\u003etext=%{y}\\u003cextra\\u003e\\u003c\\u002fextra\\u003e\",\"hovertext\":[false,false,false,false,false,false,false,false,false,false],\"legendgroup\":\"pplx-7b-chat\",\"marker\":{\"color\":\"#19d3f3\",\"symbol\":\"circle\"},\"mode\":\"markers\",\"name\":\"pplx-7b-chat\",\"orientation\":\"v\",\"showlegend\":true,\"x\":[\"(-0.001, 10.0]\",\"(10.0, 20.0]\",\"(20.0, 30.0]\",\"(30.0, 40.0]\",\"(40.0, 50.0]\",\"(50.0, 60.0]\",\"(60.0, 70.0]\",\"(70.0, 80.0]\",\"(80.0, 90.0]\",\"(90.0, 100.0]\"],\"xaxis\":\"x\",\"y\":[134,27,22,19,9,5,6,5,3,2],\"yaxis\":\"y\",\"type\":\"scatter\"}],                        {\"template\":{\"data\":{\"histogram2dcontour\":[{\"type\":\"histogram2dcontour\",\"colorbar\":{\"outlinewidth\":0,\"ticks\":\"\"},\"colorscale\":[[0.0,\"#0d0887\"],[0.1111111111111111,\"#46039f\"],[0.2222222222222222,\"#7201a8\"],[0.3333333333333333,\"#9c179e\"],[0.4444444444444444,\"#bd3786\"],[0.5555555555555556,\"#d8576b\"],[0.6666666666666666,\"#ed7953\"],[0.7777777777777778,\"#fb9f3a\"],[0.8888888888888888,\"#fdca26\"],[1.0,\"#f0f921\"]]}],\"choropleth\":[{\"type\":\"choropleth\",\"colorbar\":{\"outlinewidth\":0,\"ticks\":\"\"}}],\"histogram2d\":[{\"type\":\"histogram2d\",\"colorbar\":{\"outlinewidth\":0,\"ticks\":\"\"},\"colorscale\":[[0.0,\"#0d0887\"],[0.1111111111111111,\"#46039f\"],[0.2222222222222222,\"#7201a8\"],[0.3333333333333333,\"#9c179e\"],[0.4444444444444444,\"#bd3786\"],[0.5555555555555556,\"#d8576b\"],[0.6666666666666666,\"#ed7953\"],[0.7777777777777778,\"#fb9f3a\"],[0.8888888888888888,\"#fdca26\"],[1.0,\"#f0f921\"]]}],\"heatmap\":[{\"type\":\"heatmap\",\"colorbar\":{\"outlinewidth\":0,\"ticks\":\"\"},\"colorscale\":[[0.0,\"#0d0887\"],[0.1111111111111111,\"#46039f\"],[0.2222222222222222,\"#7201a8\"],[0.3333333333333333,\"#9c179e\"],[0.4444444444444444,\"#bd3786\"],[0.5555555555555556,\"#d8576b\"],[0.6666666666666666,\"#ed7953\"],[0.7777777777777778,\"#fb9f3a\"],[0.8888888888888888,\"#fdca26\"],[1.0,\"#f0f921\"]]}],\"heatmapgl\":[{\"type\":\"heatmapgl\",\"colorbar\":{\"outlinewidth\":0,\"ticks\":\"\"},\"colorscale\":[[0.0,\"#0d0887\"],[0.1111111111111111,\"#46039f\"],[0.2222222222222222,\"#7201a8\"],[0.3333333333333333,\"#9c179e\"],[0.4444444444444444,\"#bd3786\"],[0.5555555555555556,\"#d8576b\"],[0.6666666666666666,\"#ed7953\"],[0.7777777777777778,\"#fb9f3a\"],[0.8888888888888888,\"#fdca26\"],[1.0,\"#f0f921\"]]}],\"contourcarpet\":[{\"type\":\"contourcarpet\",\"colorbar\":{\"outlinewidth\":0,\"ticks\":\"\"}}],\"contour\":[{\"type\":\"contour\",\"colorbar\":{\"outlinewidth\":0,\"ticks\":\"\"},\"colorscale\":[[0.0,\"#0d0887\"],[0.1111111111111111,\"#46039f\"],[0.2222222222222222,\"#7201a8\"],[0.3333333333333333,\"#9c179e\"],[0.4444444444444444,\"#bd3786\"],[0.5555555555555556,\"#d8576b\"],[0.6666666666666666,\"#ed7953\"],[0.7777777777777778,\"#fb9f3a\"],[0.8888888888888888,\"#fdca26\"],[1.0,\"#f0f921\"]]}],\"surface\":[{\"type\":\"surface\",\"colorbar\":{\"outlinewidth\":0,\"ticks\":\"\"},\"colorscale\":[[0.0,\"#0d0887\"],[0.1111111111111111,\"#46039f\"],[0.2222222222222222,\"#7201a8\"],[0.3333333333333333,\"#9c179e\"],[0.4444444444444444,\"#bd3786\"],[0.5555555555555556,\"#d8576b\"],[0.6666666666666666,\"#ed7953\"],[0.7777777777777778,\"#fb9f3a\"],[0.8888888888888888,\"#fdca26\"],[1.0,\"#f0f921\"]]}],\"mesh3d\":[{\"type\":\"mesh3d\",\"colorbar\":{\"outlinewidth\":0,\"ticks\":\"\"}}],\"scatter\":[{\"marker\":{\"line\":{\"color\":\"#283442\"}},\"type\":\"scatter\"}],\"parcoords\":[{\"type\":\"parcoords\",\"line\":{\"colorbar\":{\"outlinewidth\":0,\"ticks\":\"\"}}}],\"scatterpolargl\":[{\"type\":\"scatterpolargl\",\"marker\":{\"colorbar\":{\"outlinewidth\":0,\"ticks\":\"\"}}}],\"bar\":[{\"error_x\":{\"color\":\"#f2f5fa\"},\"error_y\":{\"color\":\"#f2f5fa\"},\"marker\":{\"line\":{\"color\":\"rgb(17,17,17)\",\"width\":0.5},\"pattern\":{\"fillmode\":\"overlay\",\"size\":10,\"solidity\":0.2}},\"type\":\"bar\"}],\"scattergeo\":[{\"type\":\"scattergeo\",\"marker\":{\"colorbar\":{\"outlinewidth\":0,\"ticks\":\"\"}}}],\"scatterpolar\":[{\"type\":\"scatterpolar\",\"marker\":{\"colorbar\":{\"outlinewidth\":0,\"ticks\":\"\"}}}],\"histogram\":[{\"marker\":{\"pattern\":{\"fillmode\":\"overlay\",\"size\":10,\"solidity\":0.2}},\"type\":\"histogram\"}],\"scattergl\":[{\"marker\":{\"line\":{\"color\":\"#283442\"}},\"type\":\"scattergl\"}],\"scatter3d\":[{\"type\":\"scatter3d\",\"line\":{\"colorbar\":{\"outlinewidth\":0,\"ticks\":\"\"}},\"marker\":{\"colorbar\":{\"outlinewidth\":0,\"ticks\":\"\"}}}],\"scattermapbox\":[{\"type\":\"scattermapbox\",\"marker\":{\"colorbar\":{\"outlinewidth\":0,\"ticks\":\"\"}}}],\"scatterternary\":[{\"type\":\"scatterternary\",\"marker\":{\"colorbar\":{\"outlinewidth\":0,\"ticks\":\"\"}}}],\"scattercarpet\":[{\"type\":\"scattercarpet\",\"marker\":{\"colorbar\":{\"outlinewidth\":0,\"ticks\":\"\"}}}],\"carpet\":[{\"aaxis\":{\"endlinecolor\":\"#A2B1C6\",\"gridcolor\":\"#506784\",\"linecolor\":\"#506784\",\"minorgridcolor\":\"#506784\",\"startlinecolor\":\"#A2B1C6\"},\"baxis\":{\"endlinecolor\":\"#A2B1C6\",\"gridcolor\":\"#506784\",\"linecolor\":\"#506784\",\"minorgridcolor\":\"#506784\",\"startlinecolor\":\"#A2B1C6\"},\"type\":\"carpet\"}],\"table\":[{\"cells\":{\"fill\":{\"color\":\"#506784\"},\"line\":{\"color\":\"rgb(17,17,17)\"}},\"header\":{\"fill\":{\"color\":\"#2a3f5f\"},\"line\":{\"color\":\"rgb(17,17,17)\"}},\"type\":\"table\"}],\"barpolar\":[{\"marker\":{\"line\":{\"color\":\"rgb(17,17,17)\",\"width\":0.5},\"pattern\":{\"fillmode\":\"overlay\",\"size\":10,\"solidity\":0.2}},\"type\":\"barpolar\"}],\"pie\":[{\"automargin\":true,\"type\":\"pie\"}]},\"layout\":{\"autotypenumbers\":\"strict\",\"colorway\":[\"#636efa\",\"#EF553B\",\"#00cc96\",\"#ab63fa\",\"#FFA15A\",\"#19d3f3\",\"#FF6692\",\"#B6E880\",\"#FF97FF\",\"#FECB52\"],\"font\":{\"color\":\"#f2f5fa\"},\"hovermode\":\"closest\",\"hoverlabel\":{\"align\":\"left\"},\"paper_bgcolor\":\"rgb(17,17,17)\",\"plot_bgcolor\":\"rgb(17,17,17)\",\"polar\":{\"bgcolor\":\"rgb(17,17,17)\",\"angularaxis\":{\"gridcolor\":\"#506784\",\"linecolor\":\"#506784\",\"ticks\":\"\"},\"radialaxis\":{\"gridcolor\":\"#506784\",\"linecolor\":\"#506784\",\"ticks\":\"\"}},\"ternary\":{\"bgcolor\":\"rgb(17,17,17)\",\"aaxis\":{\"gridcolor\":\"#506784\",\"linecolor\":\"#506784\",\"ticks\":\"\"},\"baxis\":{\"gridcolor\":\"#506784\",\"linecolor\":\"#506784\",\"ticks\":\"\"},\"caxis\":{\"gridcolor\":\"#506784\",\"linecolor\":\"#506784\",\"ticks\":\"\"}},\"coloraxis\":{\"colorbar\":{\"outlinewidth\":0,\"ticks\":\"\"}},\"colorscale\":{\"sequential\":[[0.0,\"#0d0887\"],[0.1111111111111111,\"#46039f\"],[0.2222222222222222,\"#7201a8\"],[0.3333333333333333,\"#9c179e\"],[0.4444444444444444,\"#bd3786\"],[0.5555555555555556,\"#d8576b\"],[0.6666666666666666,\"#ed7953\"],[0.7777777777777778,\"#fb9f3a\"],[0.8888888888888888,\"#fdca26\"],[1.0,\"#f0f921\"]],\"sequentialminus\":[[0.0,\"#0d0887\"],[0.1111111111111111,\"#46039f\"],[0.2222222222222222,\"#7201a8\"],[0.3333333333333333,\"#9c179e\"],[0.4444444444444444,\"#bd3786\"],[0.5555555555555556,\"#d8576b\"],[0.6666666666666666,\"#ed7953\"],[0.7777777777777778,\"#fb9f3a\"],[0.8888888888888888,\"#fdca26\"],[1.0,\"#f0f921\"]],\"diverging\":[[0,\"#8e0152\"],[0.1,\"#c51b7d\"],[0.2,\"#de77ae\"],[0.3,\"#f1b6da\"],[0.4,\"#fde0ef\"],[0.5,\"#f7f7f7\"],[0.6,\"#e6f5d0\"],[0.7,\"#b8e186\"],[0.8,\"#7fbc41\"],[0.9,\"#4d9221\"],[1,\"#276419\"]]},\"xaxis\":{\"gridcolor\":\"#283442\",\"linecolor\":\"#506784\",\"ticks\":\"\",\"title\":{\"standoff\":15},\"zerolinecolor\":\"#283442\",\"automargin\":true,\"zerolinewidth\":2},\"yaxis\":{\"gridcolor\":\"#283442\",\"linecolor\":\"#506784\",\"ticks\":\"\",\"title\":{\"standoff\":15},\"zerolinecolor\":\"#283442\",\"automargin\":true,\"zerolinewidth\":2},\"scene\":{\"xaxis\":{\"backgroundcolor\":\"rgb(17,17,17)\",\"gridcolor\":\"#506784\",\"linecolor\":\"#506784\",\"showbackground\":true,\"ticks\":\"\",\"zerolinecolor\":\"#C8D4E3\",\"gridwidth\":2},\"yaxis\":{\"backgroundcolor\":\"rgb(17,17,17)\",\"gridcolor\":\"#506784\",\"linecolor\":\"#506784\",\"showbackground\":true,\"ticks\":\"\",\"zerolinecolor\":\"#C8D4E3\",\"gridwidth\":2},\"zaxis\":{\"backgroundcolor\":\"rgb(17,17,17)\",\"gridcolor\":\"#506784\",\"linecolor\":\"#506784\",\"showbackground\":true,\"ticks\":\"\",\"zerolinecolor\":\"#C8D4E3\",\"gridwidth\":2}},\"shapedefaults\":{\"line\":{\"color\":\"#f2f5fa\"}},\"annotationdefaults\":{\"arrowcolor\":\"#f2f5fa\",\"arrowhead\":0,\"arrowwidth\":1},\"geo\":{\"bgcolor\":\"rgb(17,17,17)\",\"landcolor\":\"rgb(17,17,17)\",\"subunitcolor\":\"#506784\",\"showland\":true,\"showlakes\":true,\"lakecolor\":\"rgb(17,17,17)\"},\"title\":{\"x\":0.05},\"updatemenudefaults\":{\"bgcolor\":\"#506784\",\"borderwidth\":0},\"sliderdefaults\":{\"bgcolor\":\"#C8D4E3\",\"borderwidth\":1,\"bordercolor\":\"rgb(17,17,17)\",\"tickwidth\":0},\"mapbox\":{\"style\":\"dark\"}}},\"xaxis\":{\"anchor\":\"y\",\"domain\":[0.0,1.0],\"title\":{\"text\":\"bin\"}},\"yaxis\":{\"anchor\":\"x\",\"domain\":[0.0,1.0],\"title\":{\"text\":\"text\"}},\"legend\":{\"title\":{\"text\":\"model\"},\"tracegroupgap\":0},\"title\":{\"text\":\"Hate Speech Probability (only non-hatefull, our probability should be 0)\"}},                        {\"responsive\": true}                    ).then(function(){\n                            \nvar gd = document.getElementById('f3e7df74-0a1a-4ce9-bbde-ba156ddfbf3d');\nvar x = new MutationObserver(function (mutations, observer) {{\n        var display = window.getComputedStyle(gd).display;\n        if (!display || display === 'none') {{\n            console.log([gd, 'removed!']);\n            Plotly.purge(gd);\n            observer.disconnect();\n        }}\n}});\n\n// Listen for the removal of the full notebook cells\nvar notebookContainer = gd.closest('#notebook-container');\nif (notebookContainer) {{\n    x.observe(notebookContainer, {childList: true});\n}}\n\n// Listen for the clearing of the current output cell\nvar outputEl = gd.closest('.output');\nif (outputEl) {{\n    x.observe(outputEl, {childList: true});\n}}\n\n                        })                };                });            </script>        </div>"
     },
     "metadata": {},
     "output_type": "display_data"
    }
   ],
   "source": [
    "import numpy as np\n",
    "import plotly.express as px\n",
    "df[\"bin\"] = pd.cut(df['hate_speech_probability']*100, bins=np.arange(0, 110, 10),include_lowest=True)\n",
    "df['bin'] = df[\"bin\"].apply(lambda bin: str(bin))\n",
    "\n",
    "true_df = df.query(\"not truth\")\n",
    "df_grouped = true_df.groupby([\"bin\", \"model\", \"truth\"]).count().reset_index()\n",
    "fig = px.scatter(df_grouped, x=\"bin\", y=\"text\", color=\"model\", hover_name=\"truth\", title=\"Hate Speech Probability (only non-hatefull, our probability should be 0)\")\n",
    "fig.show()"
   ],
   "metadata": {
    "collapsed": false,
    "ExecuteTime": {
     "end_time": "2024-01-09T15:26:14.957158959Z",
     "start_time": "2024-01-09T15:26:14.913305908Z"
    }
   },
   "execution_count": 49
  },
  {
   "cell_type": "code",
   "outputs": [
    {
     "name": "stderr",
     "output_type": "stream",
     "text": [
      "/tmp/ipykernel_267396/1128085391.py:7: FutureWarning:\n",
      "\n",
      "The default of observed=False is deprecated and will be changed to True in a future version of pandas. Pass observed=False to retain current behavior or observed=True to adopt the future default and silence this warning.\n",
      "\n"
     ]
    },
    {
     "data": {
      "application/vnd.plotly.v1+json": {
       "data": [
        {
         "hovertemplate": "<b>%{hovertext}</b><br><br>model=codellama-34b-instruct<br>bin=%{x}<br>text=%{y}<extra></extra>",
         "hovertext": [
          28.0,
          26.0,
          27.0,
          20.0,
          9.0,
          5.0,
          12.0,
          44.0,
          37.0,
          21.0
         ],
         "legendgroup": "codellama-34b-instruct",
         "marker": {
          "color": "#636efa",
          "symbol": "circle"
         },
         "mode": "markers",
         "name": "codellama-34b-instruct",
         "orientation": "v",
         "showlegend": true,
         "x": [
          "(-0.001, 10.0]",
          "(10.0, 20.0]",
          "(20.0, 30.0]",
          "(30.0, 40.0]",
          "(40.0, 50.0]",
          "(50.0, 60.0]",
          "(60.0, 70.0]",
          "(70.0, 80.0]",
          "(80.0, 90.0]",
          "(90.0, 100.0]"
         ],
         "xaxis": "x",
         "y": [
          28,
          26,
          27,
          20,
          9,
          5,
          12,
          44,
          37,
          21
         ],
         "yaxis": "y",
         "type": "scatter"
        },
        {
         "hovertemplate": "<b>%{hovertext}</b><br><br>model=llama-2-70b-chat<br>bin=%{x}<br>text=%{y}<extra></extra>",
         "hovertext": [
          34.0,
          12.0,
          27.0,
          18.0,
          12.0,
          7.0,
          18.0,
          29.0,
          40.0,
          23.0
         ],
         "legendgroup": "llama-2-70b-chat",
         "marker": {
          "color": "#EF553B",
          "symbol": "circle"
         },
         "mode": "markers",
         "name": "llama-2-70b-chat",
         "orientation": "v",
         "showlegend": true,
         "x": [
          "(-0.001, 10.0]",
          "(10.0, 20.0]",
          "(20.0, 30.0]",
          "(30.0, 40.0]",
          "(40.0, 50.0]",
          "(50.0, 60.0]",
          "(60.0, 70.0]",
          "(70.0, 80.0]",
          "(80.0, 90.0]",
          "(90.0, 100.0]"
         ],
         "xaxis": "x",
         "y": [
          34,
          12,
          27,
          18,
          12,
          7,
          18,
          29,
          40,
          23
         ],
         "yaxis": "y",
         "type": "scatter"
        },
        {
         "hovertemplate": "<b>%{hovertext}</b><br><br>model=mistral-7b-instruct<br>bin=%{x}<br>text=%{y}<extra></extra>",
         "hovertext": [
          33.0,
          16.0,
          24.0,
          22.0,
          11.0,
          11.0,
          24.0,
          38.0,
          30.0,
          17.0
         ],
         "legendgroup": "mistral-7b-instruct",
         "marker": {
          "color": "#00cc96",
          "symbol": "circle"
         },
         "mode": "markers",
         "name": "mistral-7b-instruct",
         "orientation": "v",
         "showlegend": true,
         "x": [
          "(-0.001, 10.0]",
          "(10.0, 20.0]",
          "(20.0, 30.0]",
          "(30.0, 40.0]",
          "(40.0, 50.0]",
          "(50.0, 60.0]",
          "(60.0, 70.0]",
          "(70.0, 80.0]",
          "(80.0, 90.0]",
          "(90.0, 100.0]"
         ],
         "xaxis": "x",
         "y": [
          33,
          16,
          24,
          22,
          11,
          11,
          24,
          38,
          30,
          17
         ],
         "yaxis": "y",
         "type": "scatter"
        },
        {
         "hovertemplate": "<b>%{hovertext}</b><br><br>model=mixtral-8x7b-instruct<br>bin=%{x}<br>text=%{y}<extra></extra>",
         "hovertext": [
          30.0,
          16.0,
          28.0,
          20.0,
          9.0,
          10.0,
          31.0,
          34.0,
          29.0,
          23.0
         ],
         "legendgroup": "mixtral-8x7b-instruct",
         "marker": {
          "color": "#ab63fa",
          "symbol": "circle"
         },
         "mode": "markers",
         "name": "mixtral-8x7b-instruct",
         "orientation": "v",
         "showlegend": true,
         "x": [
          "(-0.001, 10.0]",
          "(10.0, 20.0]",
          "(20.0, 30.0]",
          "(30.0, 40.0]",
          "(40.0, 50.0]",
          "(50.0, 60.0]",
          "(60.0, 70.0]",
          "(70.0, 80.0]",
          "(80.0, 90.0]",
          "(90.0, 100.0]"
         ],
         "xaxis": "x",
         "y": [
          30,
          16,
          28,
          20,
          9,
          10,
          31,
          34,
          29,
          23
         ],
         "yaxis": "y",
         "type": "scatter"
        },
        {
         "hovertemplate": "<b>%{hovertext}</b><br><br>model=pplx-70b-chat<br>bin=%{x}<br>text=%{y}<extra></extra>",
         "hovertext": [
          29.0,
          16.0,
          27.0,
          19.0,
          15.0,
          7.0,
          25.0,
          38.0,
          30.0,
          24.0
         ],
         "legendgroup": "pplx-70b-chat",
         "marker": {
          "color": "#FFA15A",
          "symbol": "circle"
         },
         "mode": "markers",
         "name": "pplx-70b-chat",
         "orientation": "v",
         "showlegend": true,
         "x": [
          "(-0.001, 10.0]",
          "(10.0, 20.0]",
          "(20.0, 30.0]",
          "(30.0, 40.0]",
          "(40.0, 50.0]",
          "(50.0, 60.0]",
          "(60.0, 70.0]",
          "(70.0, 80.0]",
          "(80.0, 90.0]",
          "(90.0, 100.0]"
         ],
         "xaxis": "x",
         "y": [
          29,
          16,
          27,
          19,
          15,
          7,
          25,
          38,
          30,
          24
         ],
         "yaxis": "y",
         "type": "scatter"
        },
        {
         "hovertemplate": "<b>%{hovertext}</b><br><br>model=pplx-7b-chat<br>bin=%{x}<br>text=%{y}<extra></extra>",
         "hovertext": [
          32.0,
          20.0,
          28.0,
          13.0,
          14.0,
          7.0,
          20.0,
          37.0,
          27.0,
          25.0
         ],
         "legendgroup": "pplx-7b-chat",
         "marker": {
          "color": "#19d3f3",
          "symbol": "circle"
         },
         "mode": "markers",
         "name": "pplx-7b-chat",
         "orientation": "v",
         "showlegend": true,
         "x": [
          "(-0.001, 10.0]",
          "(10.0, 20.0]",
          "(20.0, 30.0]",
          "(30.0, 40.0]",
          "(40.0, 50.0]",
          "(50.0, 60.0]",
          "(60.0, 70.0]",
          "(70.0, 80.0]",
          "(80.0, 90.0]",
          "(90.0, 100.0]"
         ],
         "xaxis": "x",
         "y": [
          32,
          20,
          28,
          13,
          14,
          7,
          20,
          37,
          27,
          25
         ],
         "yaxis": "y",
         "type": "scatter"
        }
       ],
       "layout": {
        "template": {
         "data": {
          "histogram2dcontour": [
           {
            "type": "histogram2dcontour",
            "colorbar": {
             "outlinewidth": 0,
             "ticks": ""
            },
            "colorscale": [
             [
              0.0,
              "#0d0887"
             ],
             [
              0.1111111111111111,
              "#46039f"
             ],
             [
              0.2222222222222222,
              "#7201a8"
             ],
             [
              0.3333333333333333,
              "#9c179e"
             ],
             [
              0.4444444444444444,
              "#bd3786"
             ],
             [
              0.5555555555555556,
              "#d8576b"
             ],
             [
              0.6666666666666666,
              "#ed7953"
             ],
             [
              0.7777777777777778,
              "#fb9f3a"
             ],
             [
              0.8888888888888888,
              "#fdca26"
             ],
             [
              1.0,
              "#f0f921"
             ]
            ]
           }
          ],
          "choropleth": [
           {
            "type": "choropleth",
            "colorbar": {
             "outlinewidth": 0,
             "ticks": ""
            }
           }
          ],
          "histogram2d": [
           {
            "type": "histogram2d",
            "colorbar": {
             "outlinewidth": 0,
             "ticks": ""
            },
            "colorscale": [
             [
              0.0,
              "#0d0887"
             ],
             [
              0.1111111111111111,
              "#46039f"
             ],
             [
              0.2222222222222222,
              "#7201a8"
             ],
             [
              0.3333333333333333,
              "#9c179e"
             ],
             [
              0.4444444444444444,
              "#bd3786"
             ],
             [
              0.5555555555555556,
              "#d8576b"
             ],
             [
              0.6666666666666666,
              "#ed7953"
             ],
             [
              0.7777777777777778,
              "#fb9f3a"
             ],
             [
              0.8888888888888888,
              "#fdca26"
             ],
             [
              1.0,
              "#f0f921"
             ]
            ]
           }
          ],
          "heatmap": [
           {
            "type": "heatmap",
            "colorbar": {
             "outlinewidth": 0,
             "ticks": ""
            },
            "colorscale": [
             [
              0.0,
              "#0d0887"
             ],
             [
              0.1111111111111111,
              "#46039f"
             ],
             [
              0.2222222222222222,
              "#7201a8"
             ],
             [
              0.3333333333333333,
              "#9c179e"
             ],
             [
              0.4444444444444444,
              "#bd3786"
             ],
             [
              0.5555555555555556,
              "#d8576b"
             ],
             [
              0.6666666666666666,
              "#ed7953"
             ],
             [
              0.7777777777777778,
              "#fb9f3a"
             ],
             [
              0.8888888888888888,
              "#fdca26"
             ],
             [
              1.0,
              "#f0f921"
             ]
            ]
           }
          ],
          "heatmapgl": [
           {
            "type": "heatmapgl",
            "colorbar": {
             "outlinewidth": 0,
             "ticks": ""
            },
            "colorscale": [
             [
              0.0,
              "#0d0887"
             ],
             [
              0.1111111111111111,
              "#46039f"
             ],
             [
              0.2222222222222222,
              "#7201a8"
             ],
             [
              0.3333333333333333,
              "#9c179e"
             ],
             [
              0.4444444444444444,
              "#bd3786"
             ],
             [
              0.5555555555555556,
              "#d8576b"
             ],
             [
              0.6666666666666666,
              "#ed7953"
             ],
             [
              0.7777777777777778,
              "#fb9f3a"
             ],
             [
              0.8888888888888888,
              "#fdca26"
             ],
             [
              1.0,
              "#f0f921"
             ]
            ]
           }
          ],
          "contourcarpet": [
           {
            "type": "contourcarpet",
            "colorbar": {
             "outlinewidth": 0,
             "ticks": ""
            }
           }
          ],
          "contour": [
           {
            "type": "contour",
            "colorbar": {
             "outlinewidth": 0,
             "ticks": ""
            },
            "colorscale": [
             [
              0.0,
              "#0d0887"
             ],
             [
              0.1111111111111111,
              "#46039f"
             ],
             [
              0.2222222222222222,
              "#7201a8"
             ],
             [
              0.3333333333333333,
              "#9c179e"
             ],
             [
              0.4444444444444444,
              "#bd3786"
             ],
             [
              0.5555555555555556,
              "#d8576b"
             ],
             [
              0.6666666666666666,
              "#ed7953"
             ],
             [
              0.7777777777777778,
              "#fb9f3a"
             ],
             [
              0.8888888888888888,
              "#fdca26"
             ],
             [
              1.0,
              "#f0f921"
             ]
            ]
           }
          ],
          "surface": [
           {
            "type": "surface",
            "colorbar": {
             "outlinewidth": 0,
             "ticks": ""
            },
            "colorscale": [
             [
              0.0,
              "#0d0887"
             ],
             [
              0.1111111111111111,
              "#46039f"
             ],
             [
              0.2222222222222222,
              "#7201a8"
             ],
             [
              0.3333333333333333,
              "#9c179e"
             ],
             [
              0.4444444444444444,
              "#bd3786"
             ],
             [
              0.5555555555555556,
              "#d8576b"
             ],
             [
              0.6666666666666666,
              "#ed7953"
             ],
             [
              0.7777777777777778,
              "#fb9f3a"
             ],
             [
              0.8888888888888888,
              "#fdca26"
             ],
             [
              1.0,
              "#f0f921"
             ]
            ]
           }
          ],
          "mesh3d": [
           {
            "type": "mesh3d",
            "colorbar": {
             "outlinewidth": 0,
             "ticks": ""
            }
           }
          ],
          "scatter": [
           {
            "marker": {
             "line": {
              "color": "#283442"
             }
            },
            "type": "scatter"
           }
          ],
          "parcoords": [
           {
            "type": "parcoords",
            "line": {
             "colorbar": {
              "outlinewidth": 0,
              "ticks": ""
             }
            }
           }
          ],
          "scatterpolargl": [
           {
            "type": "scatterpolargl",
            "marker": {
             "colorbar": {
              "outlinewidth": 0,
              "ticks": ""
             }
            }
           }
          ],
          "bar": [
           {
            "error_x": {
             "color": "#f2f5fa"
            },
            "error_y": {
             "color": "#f2f5fa"
            },
            "marker": {
             "line": {
              "color": "rgb(17,17,17)",
              "width": 0.5
             },
             "pattern": {
              "fillmode": "overlay",
              "size": 10,
              "solidity": 0.2
             }
            },
            "type": "bar"
           }
          ],
          "scattergeo": [
           {
            "type": "scattergeo",
            "marker": {
             "colorbar": {
              "outlinewidth": 0,
              "ticks": ""
             }
            }
           }
          ],
          "scatterpolar": [
           {
            "type": "scatterpolar",
            "marker": {
             "colorbar": {
              "outlinewidth": 0,
              "ticks": ""
             }
            }
           }
          ],
          "histogram": [
           {
            "marker": {
             "pattern": {
              "fillmode": "overlay",
              "size": 10,
              "solidity": 0.2
             }
            },
            "type": "histogram"
           }
          ],
          "scattergl": [
           {
            "marker": {
             "line": {
              "color": "#283442"
             }
            },
            "type": "scattergl"
           }
          ],
          "scatter3d": [
           {
            "type": "scatter3d",
            "line": {
             "colorbar": {
              "outlinewidth": 0,
              "ticks": ""
             }
            },
            "marker": {
             "colorbar": {
              "outlinewidth": 0,
              "ticks": ""
             }
            }
           }
          ],
          "scattermapbox": [
           {
            "type": "scattermapbox",
            "marker": {
             "colorbar": {
              "outlinewidth": 0,
              "ticks": ""
             }
            }
           }
          ],
          "scatterternary": [
           {
            "type": "scatterternary",
            "marker": {
             "colorbar": {
              "outlinewidth": 0,
              "ticks": ""
             }
            }
           }
          ],
          "scattercarpet": [
           {
            "type": "scattercarpet",
            "marker": {
             "colorbar": {
              "outlinewidth": 0,
              "ticks": ""
             }
            }
           }
          ],
          "carpet": [
           {
            "aaxis": {
             "endlinecolor": "#A2B1C6",
             "gridcolor": "#506784",
             "linecolor": "#506784",
             "minorgridcolor": "#506784",
             "startlinecolor": "#A2B1C6"
            },
            "baxis": {
             "endlinecolor": "#A2B1C6",
             "gridcolor": "#506784",
             "linecolor": "#506784",
             "minorgridcolor": "#506784",
             "startlinecolor": "#A2B1C6"
            },
            "type": "carpet"
           }
          ],
          "table": [
           {
            "cells": {
             "fill": {
              "color": "#506784"
             },
             "line": {
              "color": "rgb(17,17,17)"
             }
            },
            "header": {
             "fill": {
              "color": "#2a3f5f"
             },
             "line": {
              "color": "rgb(17,17,17)"
             }
            },
            "type": "table"
           }
          ],
          "barpolar": [
           {
            "marker": {
             "line": {
              "color": "rgb(17,17,17)",
              "width": 0.5
             },
             "pattern": {
              "fillmode": "overlay",
              "size": 10,
              "solidity": 0.2
             }
            },
            "type": "barpolar"
           }
          ],
          "pie": [
           {
            "automargin": true,
            "type": "pie"
           }
          ]
         },
         "layout": {
          "autotypenumbers": "strict",
          "colorway": [
           "#636efa",
           "#EF553B",
           "#00cc96",
           "#ab63fa",
           "#FFA15A",
           "#19d3f3",
           "#FF6692",
           "#B6E880",
           "#FF97FF",
           "#FECB52"
          ],
          "font": {
           "color": "#f2f5fa"
          },
          "hovermode": "closest",
          "hoverlabel": {
           "align": "left"
          },
          "paper_bgcolor": "rgb(17,17,17)",
          "plot_bgcolor": "rgb(17,17,17)",
          "polar": {
           "bgcolor": "rgb(17,17,17)",
           "angularaxis": {
            "gridcolor": "#506784",
            "linecolor": "#506784",
            "ticks": ""
           },
           "radialaxis": {
            "gridcolor": "#506784",
            "linecolor": "#506784",
            "ticks": ""
           }
          },
          "ternary": {
           "bgcolor": "rgb(17,17,17)",
           "aaxis": {
            "gridcolor": "#506784",
            "linecolor": "#506784",
            "ticks": ""
           },
           "baxis": {
            "gridcolor": "#506784",
            "linecolor": "#506784",
            "ticks": ""
           },
           "caxis": {
            "gridcolor": "#506784",
            "linecolor": "#506784",
            "ticks": ""
           }
          },
          "coloraxis": {
           "colorbar": {
            "outlinewidth": 0,
            "ticks": ""
           }
          },
          "colorscale": {
           "sequential": [
            [
             0.0,
             "#0d0887"
            ],
            [
             0.1111111111111111,
             "#46039f"
            ],
            [
             0.2222222222222222,
             "#7201a8"
            ],
            [
             0.3333333333333333,
             "#9c179e"
            ],
            [
             0.4444444444444444,
             "#bd3786"
            ],
            [
             0.5555555555555556,
             "#d8576b"
            ],
            [
             0.6666666666666666,
             "#ed7953"
            ],
            [
             0.7777777777777778,
             "#fb9f3a"
            ],
            [
             0.8888888888888888,
             "#fdca26"
            ],
            [
             1.0,
             "#f0f921"
            ]
           ],
           "sequentialminus": [
            [
             0.0,
             "#0d0887"
            ],
            [
             0.1111111111111111,
             "#46039f"
            ],
            [
             0.2222222222222222,
             "#7201a8"
            ],
            [
             0.3333333333333333,
             "#9c179e"
            ],
            [
             0.4444444444444444,
             "#bd3786"
            ],
            [
             0.5555555555555556,
             "#d8576b"
            ],
            [
             0.6666666666666666,
             "#ed7953"
            ],
            [
             0.7777777777777778,
             "#fb9f3a"
            ],
            [
             0.8888888888888888,
             "#fdca26"
            ],
            [
             1.0,
             "#f0f921"
            ]
           ],
           "diverging": [
            [
             0,
             "#8e0152"
            ],
            [
             0.1,
             "#c51b7d"
            ],
            [
             0.2,
             "#de77ae"
            ],
            [
             0.3,
             "#f1b6da"
            ],
            [
             0.4,
             "#fde0ef"
            ],
            [
             0.5,
             "#f7f7f7"
            ],
            [
             0.6,
             "#e6f5d0"
            ],
            [
             0.7,
             "#b8e186"
            ],
            [
             0.8,
             "#7fbc41"
            ],
            [
             0.9,
             "#4d9221"
            ],
            [
             1,
             "#276419"
            ]
           ]
          },
          "xaxis": {
           "gridcolor": "#283442",
           "linecolor": "#506784",
           "ticks": "",
           "title": {
            "standoff": 15
           },
           "zerolinecolor": "#283442",
           "automargin": true,
           "zerolinewidth": 2
          },
          "yaxis": {
           "gridcolor": "#283442",
           "linecolor": "#506784",
           "ticks": "",
           "title": {
            "standoff": 15
           },
           "zerolinecolor": "#283442",
           "automargin": true,
           "zerolinewidth": 2
          },
          "scene": {
           "xaxis": {
            "backgroundcolor": "rgb(17,17,17)",
            "gridcolor": "#506784",
            "linecolor": "#506784",
            "showbackground": true,
            "ticks": "",
            "zerolinecolor": "#C8D4E3",
            "gridwidth": 2
           },
           "yaxis": {
            "backgroundcolor": "rgb(17,17,17)",
            "gridcolor": "#506784",
            "linecolor": "#506784",
            "showbackground": true,
            "ticks": "",
            "zerolinecolor": "#C8D4E3",
            "gridwidth": 2
           },
           "zaxis": {
            "backgroundcolor": "rgb(17,17,17)",
            "gridcolor": "#506784",
            "linecolor": "#506784",
            "showbackground": true,
            "ticks": "",
            "zerolinecolor": "#C8D4E3",
            "gridwidth": 2
           }
          },
          "shapedefaults": {
           "line": {
            "color": "#f2f5fa"
           }
          },
          "annotationdefaults": {
           "arrowcolor": "#f2f5fa",
           "arrowhead": 0,
           "arrowwidth": 1
          },
          "geo": {
           "bgcolor": "rgb(17,17,17)",
           "landcolor": "rgb(17,17,17)",
           "subunitcolor": "#506784",
           "showland": true,
           "showlakes": true,
           "lakecolor": "rgb(17,17,17)"
          },
          "title": {
           "x": 0.05
          },
          "updatemenudefaults": {
           "bgcolor": "#506784",
           "borderwidth": 0
          },
          "sliderdefaults": {
           "bgcolor": "#C8D4E3",
           "borderwidth": 1,
           "bordercolor": "rgb(17,17,17)",
           "tickwidth": 0
          },
          "mapbox": {
           "style": "dark"
          }
         }
        },
        "xaxis": {
         "anchor": "y",
         "domain": [
          0.0,
          1.0
         ],
         "title": {
          "text": "bin"
         }
        },
        "yaxis": {
         "anchor": "x",
         "domain": [
          0.0,
          1.0
         ],
         "title": {
          "text": "text"
         }
        },
        "legend": {
         "title": {
          "text": "model"
         },
         "tracegroupgap": 0
        },
        "title": {
         "text": "Hate Speech Probability (only hatefull, our probability should be 1)"
        }
       },
       "config": {
        "plotlyServerURL": "https://plot.ly"
       }
      },
      "text/html": "<div>                            <div id=\"1d17adeb-c81c-47a0-9fbf-156e804fbac8\" class=\"plotly-graph-div\" style=\"height:525px; width:100%;\"></div>            <script type=\"text/javascript\">                require([\"plotly\"], function(Plotly) {                    window.PLOTLYENV=window.PLOTLYENV || {};                                    if (document.getElementById(\"1d17adeb-c81c-47a0-9fbf-156e804fbac8\")) {                    Plotly.newPlot(                        \"1d17adeb-c81c-47a0-9fbf-156e804fbac8\",                        [{\"hovertemplate\":\"\\u003cb\\u003e%{hovertext}\\u003c\\u002fb\\u003e\\u003cbr\\u003e\\u003cbr\\u003emodel=codellama-34b-instruct\\u003cbr\\u003ebin=%{x}\\u003cbr\\u003etext=%{y}\\u003cextra\\u003e\\u003c\\u002fextra\\u003e\",\"hovertext\":[28.0,26.0,27.0,20.0,9.0,5.0,12.0,44.0,37.0,21.0],\"legendgroup\":\"codellama-34b-instruct\",\"marker\":{\"color\":\"#636efa\",\"symbol\":\"circle\"},\"mode\":\"markers\",\"name\":\"codellama-34b-instruct\",\"orientation\":\"v\",\"showlegend\":true,\"x\":[\"(-0.001, 10.0]\",\"(10.0, 20.0]\",\"(20.0, 30.0]\",\"(30.0, 40.0]\",\"(40.0, 50.0]\",\"(50.0, 60.0]\",\"(60.0, 70.0]\",\"(70.0, 80.0]\",\"(80.0, 90.0]\",\"(90.0, 100.0]\"],\"xaxis\":\"x\",\"y\":[28,26,27,20,9,5,12,44,37,21],\"yaxis\":\"y\",\"type\":\"scatter\"},{\"hovertemplate\":\"\\u003cb\\u003e%{hovertext}\\u003c\\u002fb\\u003e\\u003cbr\\u003e\\u003cbr\\u003emodel=llama-2-70b-chat\\u003cbr\\u003ebin=%{x}\\u003cbr\\u003etext=%{y}\\u003cextra\\u003e\\u003c\\u002fextra\\u003e\",\"hovertext\":[34.0,12.0,27.0,18.0,12.0,7.0,18.0,29.0,40.0,23.0],\"legendgroup\":\"llama-2-70b-chat\",\"marker\":{\"color\":\"#EF553B\",\"symbol\":\"circle\"},\"mode\":\"markers\",\"name\":\"llama-2-70b-chat\",\"orientation\":\"v\",\"showlegend\":true,\"x\":[\"(-0.001, 10.0]\",\"(10.0, 20.0]\",\"(20.0, 30.0]\",\"(30.0, 40.0]\",\"(40.0, 50.0]\",\"(50.0, 60.0]\",\"(60.0, 70.0]\",\"(70.0, 80.0]\",\"(80.0, 90.0]\",\"(90.0, 100.0]\"],\"xaxis\":\"x\",\"y\":[34,12,27,18,12,7,18,29,40,23],\"yaxis\":\"y\",\"type\":\"scatter\"},{\"hovertemplate\":\"\\u003cb\\u003e%{hovertext}\\u003c\\u002fb\\u003e\\u003cbr\\u003e\\u003cbr\\u003emodel=mistral-7b-instruct\\u003cbr\\u003ebin=%{x}\\u003cbr\\u003etext=%{y}\\u003cextra\\u003e\\u003c\\u002fextra\\u003e\",\"hovertext\":[33.0,16.0,24.0,22.0,11.0,11.0,24.0,38.0,30.0,17.0],\"legendgroup\":\"mistral-7b-instruct\",\"marker\":{\"color\":\"#00cc96\",\"symbol\":\"circle\"},\"mode\":\"markers\",\"name\":\"mistral-7b-instruct\",\"orientation\":\"v\",\"showlegend\":true,\"x\":[\"(-0.001, 10.0]\",\"(10.0, 20.0]\",\"(20.0, 30.0]\",\"(30.0, 40.0]\",\"(40.0, 50.0]\",\"(50.0, 60.0]\",\"(60.0, 70.0]\",\"(70.0, 80.0]\",\"(80.0, 90.0]\",\"(90.0, 100.0]\"],\"xaxis\":\"x\",\"y\":[33,16,24,22,11,11,24,38,30,17],\"yaxis\":\"y\",\"type\":\"scatter\"},{\"hovertemplate\":\"\\u003cb\\u003e%{hovertext}\\u003c\\u002fb\\u003e\\u003cbr\\u003e\\u003cbr\\u003emodel=mixtral-8x7b-instruct\\u003cbr\\u003ebin=%{x}\\u003cbr\\u003etext=%{y}\\u003cextra\\u003e\\u003c\\u002fextra\\u003e\",\"hovertext\":[30.0,16.0,28.0,20.0,9.0,10.0,31.0,34.0,29.0,23.0],\"legendgroup\":\"mixtral-8x7b-instruct\",\"marker\":{\"color\":\"#ab63fa\",\"symbol\":\"circle\"},\"mode\":\"markers\",\"name\":\"mixtral-8x7b-instruct\",\"orientation\":\"v\",\"showlegend\":true,\"x\":[\"(-0.001, 10.0]\",\"(10.0, 20.0]\",\"(20.0, 30.0]\",\"(30.0, 40.0]\",\"(40.0, 50.0]\",\"(50.0, 60.0]\",\"(60.0, 70.0]\",\"(70.0, 80.0]\",\"(80.0, 90.0]\",\"(90.0, 100.0]\"],\"xaxis\":\"x\",\"y\":[30,16,28,20,9,10,31,34,29,23],\"yaxis\":\"y\",\"type\":\"scatter\"},{\"hovertemplate\":\"\\u003cb\\u003e%{hovertext}\\u003c\\u002fb\\u003e\\u003cbr\\u003e\\u003cbr\\u003emodel=pplx-70b-chat\\u003cbr\\u003ebin=%{x}\\u003cbr\\u003etext=%{y}\\u003cextra\\u003e\\u003c\\u002fextra\\u003e\",\"hovertext\":[29.0,16.0,27.0,19.0,15.0,7.0,25.0,38.0,30.0,24.0],\"legendgroup\":\"pplx-70b-chat\",\"marker\":{\"color\":\"#FFA15A\",\"symbol\":\"circle\"},\"mode\":\"markers\",\"name\":\"pplx-70b-chat\",\"orientation\":\"v\",\"showlegend\":true,\"x\":[\"(-0.001, 10.0]\",\"(10.0, 20.0]\",\"(20.0, 30.0]\",\"(30.0, 40.0]\",\"(40.0, 50.0]\",\"(50.0, 60.0]\",\"(60.0, 70.0]\",\"(70.0, 80.0]\",\"(80.0, 90.0]\",\"(90.0, 100.0]\"],\"xaxis\":\"x\",\"y\":[29,16,27,19,15,7,25,38,30,24],\"yaxis\":\"y\",\"type\":\"scatter\"},{\"hovertemplate\":\"\\u003cb\\u003e%{hovertext}\\u003c\\u002fb\\u003e\\u003cbr\\u003e\\u003cbr\\u003emodel=pplx-7b-chat\\u003cbr\\u003ebin=%{x}\\u003cbr\\u003etext=%{y}\\u003cextra\\u003e\\u003c\\u002fextra\\u003e\",\"hovertext\":[32.0,20.0,28.0,13.0,14.0,7.0,20.0,37.0,27.0,25.0],\"legendgroup\":\"pplx-7b-chat\",\"marker\":{\"color\":\"#19d3f3\",\"symbol\":\"circle\"},\"mode\":\"markers\",\"name\":\"pplx-7b-chat\",\"orientation\":\"v\",\"showlegend\":true,\"x\":[\"(-0.001, 10.0]\",\"(10.0, 20.0]\",\"(20.0, 30.0]\",\"(30.0, 40.0]\",\"(40.0, 50.0]\",\"(50.0, 60.0]\",\"(60.0, 70.0]\",\"(70.0, 80.0]\",\"(80.0, 90.0]\",\"(90.0, 100.0]\"],\"xaxis\":\"x\",\"y\":[32,20,28,13,14,7,20,37,27,25],\"yaxis\":\"y\",\"type\":\"scatter\"}],                        {\"template\":{\"data\":{\"histogram2dcontour\":[{\"type\":\"histogram2dcontour\",\"colorbar\":{\"outlinewidth\":0,\"ticks\":\"\"},\"colorscale\":[[0.0,\"#0d0887\"],[0.1111111111111111,\"#46039f\"],[0.2222222222222222,\"#7201a8\"],[0.3333333333333333,\"#9c179e\"],[0.4444444444444444,\"#bd3786\"],[0.5555555555555556,\"#d8576b\"],[0.6666666666666666,\"#ed7953\"],[0.7777777777777778,\"#fb9f3a\"],[0.8888888888888888,\"#fdca26\"],[1.0,\"#f0f921\"]]}],\"choropleth\":[{\"type\":\"choropleth\",\"colorbar\":{\"outlinewidth\":0,\"ticks\":\"\"}}],\"histogram2d\":[{\"type\":\"histogram2d\",\"colorbar\":{\"outlinewidth\":0,\"ticks\":\"\"},\"colorscale\":[[0.0,\"#0d0887\"],[0.1111111111111111,\"#46039f\"],[0.2222222222222222,\"#7201a8\"],[0.3333333333333333,\"#9c179e\"],[0.4444444444444444,\"#bd3786\"],[0.5555555555555556,\"#d8576b\"],[0.6666666666666666,\"#ed7953\"],[0.7777777777777778,\"#fb9f3a\"],[0.8888888888888888,\"#fdca26\"],[1.0,\"#f0f921\"]]}],\"heatmap\":[{\"type\":\"heatmap\",\"colorbar\":{\"outlinewidth\":0,\"ticks\":\"\"},\"colorscale\":[[0.0,\"#0d0887\"],[0.1111111111111111,\"#46039f\"],[0.2222222222222222,\"#7201a8\"],[0.3333333333333333,\"#9c179e\"],[0.4444444444444444,\"#bd3786\"],[0.5555555555555556,\"#d8576b\"],[0.6666666666666666,\"#ed7953\"],[0.7777777777777778,\"#fb9f3a\"],[0.8888888888888888,\"#fdca26\"],[1.0,\"#f0f921\"]]}],\"heatmapgl\":[{\"type\":\"heatmapgl\",\"colorbar\":{\"outlinewidth\":0,\"ticks\":\"\"},\"colorscale\":[[0.0,\"#0d0887\"],[0.1111111111111111,\"#46039f\"],[0.2222222222222222,\"#7201a8\"],[0.3333333333333333,\"#9c179e\"],[0.4444444444444444,\"#bd3786\"],[0.5555555555555556,\"#d8576b\"],[0.6666666666666666,\"#ed7953\"],[0.7777777777777778,\"#fb9f3a\"],[0.8888888888888888,\"#fdca26\"],[1.0,\"#f0f921\"]]}],\"contourcarpet\":[{\"type\":\"contourcarpet\",\"colorbar\":{\"outlinewidth\":0,\"ticks\":\"\"}}],\"contour\":[{\"type\":\"contour\",\"colorbar\":{\"outlinewidth\":0,\"ticks\":\"\"},\"colorscale\":[[0.0,\"#0d0887\"],[0.1111111111111111,\"#46039f\"],[0.2222222222222222,\"#7201a8\"],[0.3333333333333333,\"#9c179e\"],[0.4444444444444444,\"#bd3786\"],[0.5555555555555556,\"#d8576b\"],[0.6666666666666666,\"#ed7953\"],[0.7777777777777778,\"#fb9f3a\"],[0.8888888888888888,\"#fdca26\"],[1.0,\"#f0f921\"]]}],\"surface\":[{\"type\":\"surface\",\"colorbar\":{\"outlinewidth\":0,\"ticks\":\"\"},\"colorscale\":[[0.0,\"#0d0887\"],[0.1111111111111111,\"#46039f\"],[0.2222222222222222,\"#7201a8\"],[0.3333333333333333,\"#9c179e\"],[0.4444444444444444,\"#bd3786\"],[0.5555555555555556,\"#d8576b\"],[0.6666666666666666,\"#ed7953\"],[0.7777777777777778,\"#fb9f3a\"],[0.8888888888888888,\"#fdca26\"],[1.0,\"#f0f921\"]]}],\"mesh3d\":[{\"type\":\"mesh3d\",\"colorbar\":{\"outlinewidth\":0,\"ticks\":\"\"}}],\"scatter\":[{\"marker\":{\"line\":{\"color\":\"#283442\"}},\"type\":\"scatter\"}],\"parcoords\":[{\"type\":\"parcoords\",\"line\":{\"colorbar\":{\"outlinewidth\":0,\"ticks\":\"\"}}}],\"scatterpolargl\":[{\"type\":\"scatterpolargl\",\"marker\":{\"colorbar\":{\"outlinewidth\":0,\"ticks\":\"\"}}}],\"bar\":[{\"error_x\":{\"color\":\"#f2f5fa\"},\"error_y\":{\"color\":\"#f2f5fa\"},\"marker\":{\"line\":{\"color\":\"rgb(17,17,17)\",\"width\":0.5},\"pattern\":{\"fillmode\":\"overlay\",\"size\":10,\"solidity\":0.2}},\"type\":\"bar\"}],\"scattergeo\":[{\"type\":\"scattergeo\",\"marker\":{\"colorbar\":{\"outlinewidth\":0,\"ticks\":\"\"}}}],\"scatterpolar\":[{\"type\":\"scatterpolar\",\"marker\":{\"colorbar\":{\"outlinewidth\":0,\"ticks\":\"\"}}}],\"histogram\":[{\"marker\":{\"pattern\":{\"fillmode\":\"overlay\",\"size\":10,\"solidity\":0.2}},\"type\":\"histogram\"}],\"scattergl\":[{\"marker\":{\"line\":{\"color\":\"#283442\"}},\"type\":\"scattergl\"}],\"scatter3d\":[{\"type\":\"scatter3d\",\"line\":{\"colorbar\":{\"outlinewidth\":0,\"ticks\":\"\"}},\"marker\":{\"colorbar\":{\"outlinewidth\":0,\"ticks\":\"\"}}}],\"scattermapbox\":[{\"type\":\"scattermapbox\",\"marker\":{\"colorbar\":{\"outlinewidth\":0,\"ticks\":\"\"}}}],\"scatterternary\":[{\"type\":\"scatterternary\",\"marker\":{\"colorbar\":{\"outlinewidth\":0,\"ticks\":\"\"}}}],\"scattercarpet\":[{\"type\":\"scattercarpet\",\"marker\":{\"colorbar\":{\"outlinewidth\":0,\"ticks\":\"\"}}}],\"carpet\":[{\"aaxis\":{\"endlinecolor\":\"#A2B1C6\",\"gridcolor\":\"#506784\",\"linecolor\":\"#506784\",\"minorgridcolor\":\"#506784\",\"startlinecolor\":\"#A2B1C6\"},\"baxis\":{\"endlinecolor\":\"#A2B1C6\",\"gridcolor\":\"#506784\",\"linecolor\":\"#506784\",\"minorgridcolor\":\"#506784\",\"startlinecolor\":\"#A2B1C6\"},\"type\":\"carpet\"}],\"table\":[{\"cells\":{\"fill\":{\"color\":\"#506784\"},\"line\":{\"color\":\"rgb(17,17,17)\"}},\"header\":{\"fill\":{\"color\":\"#2a3f5f\"},\"line\":{\"color\":\"rgb(17,17,17)\"}},\"type\":\"table\"}],\"barpolar\":[{\"marker\":{\"line\":{\"color\":\"rgb(17,17,17)\",\"width\":0.5},\"pattern\":{\"fillmode\":\"overlay\",\"size\":10,\"solidity\":0.2}},\"type\":\"barpolar\"}],\"pie\":[{\"automargin\":true,\"type\":\"pie\"}]},\"layout\":{\"autotypenumbers\":\"strict\",\"colorway\":[\"#636efa\",\"#EF553B\",\"#00cc96\",\"#ab63fa\",\"#FFA15A\",\"#19d3f3\",\"#FF6692\",\"#B6E880\",\"#FF97FF\",\"#FECB52\"],\"font\":{\"color\":\"#f2f5fa\"},\"hovermode\":\"closest\",\"hoverlabel\":{\"align\":\"left\"},\"paper_bgcolor\":\"rgb(17,17,17)\",\"plot_bgcolor\":\"rgb(17,17,17)\",\"polar\":{\"bgcolor\":\"rgb(17,17,17)\",\"angularaxis\":{\"gridcolor\":\"#506784\",\"linecolor\":\"#506784\",\"ticks\":\"\"},\"radialaxis\":{\"gridcolor\":\"#506784\",\"linecolor\":\"#506784\",\"ticks\":\"\"}},\"ternary\":{\"bgcolor\":\"rgb(17,17,17)\",\"aaxis\":{\"gridcolor\":\"#506784\",\"linecolor\":\"#506784\",\"ticks\":\"\"},\"baxis\":{\"gridcolor\":\"#506784\",\"linecolor\":\"#506784\",\"ticks\":\"\"},\"caxis\":{\"gridcolor\":\"#506784\",\"linecolor\":\"#506784\",\"ticks\":\"\"}},\"coloraxis\":{\"colorbar\":{\"outlinewidth\":0,\"ticks\":\"\"}},\"colorscale\":{\"sequential\":[[0.0,\"#0d0887\"],[0.1111111111111111,\"#46039f\"],[0.2222222222222222,\"#7201a8\"],[0.3333333333333333,\"#9c179e\"],[0.4444444444444444,\"#bd3786\"],[0.5555555555555556,\"#d8576b\"],[0.6666666666666666,\"#ed7953\"],[0.7777777777777778,\"#fb9f3a\"],[0.8888888888888888,\"#fdca26\"],[1.0,\"#f0f921\"]],\"sequentialminus\":[[0.0,\"#0d0887\"],[0.1111111111111111,\"#46039f\"],[0.2222222222222222,\"#7201a8\"],[0.3333333333333333,\"#9c179e\"],[0.4444444444444444,\"#bd3786\"],[0.5555555555555556,\"#d8576b\"],[0.6666666666666666,\"#ed7953\"],[0.7777777777777778,\"#fb9f3a\"],[0.8888888888888888,\"#fdca26\"],[1.0,\"#f0f921\"]],\"diverging\":[[0,\"#8e0152\"],[0.1,\"#c51b7d\"],[0.2,\"#de77ae\"],[0.3,\"#f1b6da\"],[0.4,\"#fde0ef\"],[0.5,\"#f7f7f7\"],[0.6,\"#e6f5d0\"],[0.7,\"#b8e186\"],[0.8,\"#7fbc41\"],[0.9,\"#4d9221\"],[1,\"#276419\"]]},\"xaxis\":{\"gridcolor\":\"#283442\",\"linecolor\":\"#506784\",\"ticks\":\"\",\"title\":{\"standoff\":15},\"zerolinecolor\":\"#283442\",\"automargin\":true,\"zerolinewidth\":2},\"yaxis\":{\"gridcolor\":\"#283442\",\"linecolor\":\"#506784\",\"ticks\":\"\",\"title\":{\"standoff\":15},\"zerolinecolor\":\"#283442\",\"automargin\":true,\"zerolinewidth\":2},\"scene\":{\"xaxis\":{\"backgroundcolor\":\"rgb(17,17,17)\",\"gridcolor\":\"#506784\",\"linecolor\":\"#506784\",\"showbackground\":true,\"ticks\":\"\",\"zerolinecolor\":\"#C8D4E3\",\"gridwidth\":2},\"yaxis\":{\"backgroundcolor\":\"rgb(17,17,17)\",\"gridcolor\":\"#506784\",\"linecolor\":\"#506784\",\"showbackground\":true,\"ticks\":\"\",\"zerolinecolor\":\"#C8D4E3\",\"gridwidth\":2},\"zaxis\":{\"backgroundcolor\":\"rgb(17,17,17)\",\"gridcolor\":\"#506784\",\"linecolor\":\"#506784\",\"showbackground\":true,\"ticks\":\"\",\"zerolinecolor\":\"#C8D4E3\",\"gridwidth\":2}},\"shapedefaults\":{\"line\":{\"color\":\"#f2f5fa\"}},\"annotationdefaults\":{\"arrowcolor\":\"#f2f5fa\",\"arrowhead\":0,\"arrowwidth\":1},\"geo\":{\"bgcolor\":\"rgb(17,17,17)\",\"landcolor\":\"rgb(17,17,17)\",\"subunitcolor\":\"#506784\",\"showland\":true,\"showlakes\":true,\"lakecolor\":\"rgb(17,17,17)\"},\"title\":{\"x\":0.05},\"updatemenudefaults\":{\"bgcolor\":\"#506784\",\"borderwidth\":0},\"sliderdefaults\":{\"bgcolor\":\"#C8D4E3\",\"borderwidth\":1,\"bordercolor\":\"rgb(17,17,17)\",\"tickwidth\":0},\"mapbox\":{\"style\":\"dark\"}}},\"xaxis\":{\"anchor\":\"y\",\"domain\":[0.0,1.0],\"title\":{\"text\":\"bin\"}},\"yaxis\":{\"anchor\":\"x\",\"domain\":[0.0,1.0],\"title\":{\"text\":\"text\"}},\"legend\":{\"title\":{\"text\":\"model\"},\"tracegroupgap\":0},\"title\":{\"text\":\"Hate Speech Probability (only hatefull, our probability should be 1)\"}},                        {\"responsive\": true}                    ).then(function(){\n                            \nvar gd = document.getElementById('1d17adeb-c81c-47a0-9fbf-156e804fbac8');\nvar x = new MutationObserver(function (mutations, observer) {{\n        var display = window.getComputedStyle(gd).display;\n        if (!display || display === 'none') {{\n            console.log([gd, 'removed!']);\n            Plotly.purge(gd);\n            observer.disconnect();\n        }}\n}});\n\n// Listen for the removal of the full notebook cells\nvar notebookContainer = gd.closest('#notebook-container');\nif (notebookContainer) {{\n    x.observe(notebookContainer, {childList: true});\n}}\n\n// Listen for the clearing of the current output cell\nvar outputEl = gd.closest('.output');\nif (outputEl) {{\n    x.observe(outputEl, {childList: true});\n}}\n\n                        })                };                });            </script>        </div>"
     },
     "metadata": {},
     "output_type": "display_data"
    }
   ],
   "source": [
    "import numpy as np\n",
    "import plotly.express as px\n",
    "df[\"bin\"] = pd.cut(df['hate_speech_probability']*100, bins=np.arange(0, 110, 10),include_lowest=True)\n",
    "df['bin'] = df[\"bin\"].apply(lambda bin: str(bin))\n",
    "\n",
    "true_df = df.query(\"truth\")\n",
    "df_grouped = true_df.groupby([\"bin\", \"model\"]).count().reset_index()\n",
    "fig = px.scatter(df_grouped, x=\"bin\", y=\"text\", color=\"model\", hover_name=\"truth\", title=\"Hate Speech Probability (only hatefull, our probability should be 1)\")\n",
    "fig.show()"
   ],
   "metadata": {
    "collapsed": false,
    "ExecuteTime": {
     "end_time": "2024-01-09T15:26:22.874487270Z",
     "start_time": "2024-01-09T15:26:22.832944810Z"
    }
   },
   "execution_count": 50
  },
  {
   "cell_type": "code",
   "execution_count": 29,
   "metadata": {
    "ExecuteTime": {
     "end_time": "2024-01-09T15:08:26.300499758Z",
     "start_time": "2024-01-09T15:08:26.074837318Z"
    }
   },
   "outputs": [
    {
     "ename": "ValueError",
     "evalue": "could not convert string to float: '0.8.'",
     "output_type": "error",
     "traceback": [
      "\u001B[0;31m---------------------------------------------------------------------------\u001B[0m",
      "\u001B[0;31mValueError\u001B[0m                                Traceback (most recent call last)",
      "Cell \u001B[0;32mIn[29], line 10\u001B[0m\n\u001B[1;32m      7\u001B[0m y_true \u001B[38;5;241m=\u001B[39m no_nans[\u001B[38;5;124m'\u001B[39m\u001B[38;5;124mtruth\u001B[39m\u001B[38;5;124m'\u001B[39m]\n\u001B[1;32m      8\u001B[0m y_pred \u001B[38;5;241m=\u001B[39m no_nans[\u001B[38;5;124m'\u001B[39m\u001B[38;5;124mhate_speech_probability\u001B[39m\u001B[38;5;124m'\u001B[39m]\n\u001B[0;32m---> 10\u001B[0m roc_auc \u001B[38;5;241m=\u001B[39m \u001B[43mroc_auc_score\u001B[49m\u001B[43m(\u001B[49m\u001B[43my_true\u001B[49m\u001B[43m,\u001B[49m\u001B[43m \u001B[49m\u001B[43my_pred\u001B[49m\u001B[43m)\u001B[49m\n\u001B[1;32m     11\u001B[0m logloss \u001B[38;5;241m=\u001B[39m log_loss(y_true, y_pred)\n\u001B[1;32m     12\u001B[0m brier_score \u001B[38;5;241m=\u001B[39m brier_score_loss(y_true, y_pred)\n",
      "File \u001B[0;32m~/dev/uni/tumprojectweek/venv/lib/python3.11/site-packages/sklearn/utils/_param_validation.py:214\u001B[0m, in \u001B[0;36mvalidate_params.<locals>.decorator.<locals>.wrapper\u001B[0;34m(*args, **kwargs)\u001B[0m\n\u001B[1;32m    208\u001B[0m \u001B[38;5;28;01mtry\u001B[39;00m:\n\u001B[1;32m    209\u001B[0m     \u001B[38;5;28;01mwith\u001B[39;00m config_context(\n\u001B[1;32m    210\u001B[0m         skip_parameter_validation\u001B[38;5;241m=\u001B[39m(\n\u001B[1;32m    211\u001B[0m             prefer_skip_nested_validation \u001B[38;5;129;01mor\u001B[39;00m global_skip_validation\n\u001B[1;32m    212\u001B[0m         )\n\u001B[1;32m    213\u001B[0m     ):\n\u001B[0;32m--> 214\u001B[0m         \u001B[38;5;28;01mreturn\u001B[39;00m \u001B[43mfunc\u001B[49m\u001B[43m(\u001B[49m\u001B[38;5;241;43m*\u001B[39;49m\u001B[43margs\u001B[49m\u001B[43m,\u001B[49m\u001B[43m \u001B[49m\u001B[38;5;241;43m*\u001B[39;49m\u001B[38;5;241;43m*\u001B[39;49m\u001B[43mkwargs\u001B[49m\u001B[43m)\u001B[49m\n\u001B[1;32m    215\u001B[0m \u001B[38;5;28;01mexcept\u001B[39;00m InvalidParameterError \u001B[38;5;28;01mas\u001B[39;00m e:\n\u001B[1;32m    216\u001B[0m     \u001B[38;5;66;03m# When the function is just a wrapper around an estimator, we allow\u001B[39;00m\n\u001B[1;32m    217\u001B[0m     \u001B[38;5;66;03m# the function to delegate validation to the estimator, but we replace\u001B[39;00m\n\u001B[1;32m    218\u001B[0m     \u001B[38;5;66;03m# the name of the estimator by the name of the function in the error\u001B[39;00m\n\u001B[1;32m    219\u001B[0m     \u001B[38;5;66;03m# message to avoid confusion.\u001B[39;00m\n\u001B[1;32m    220\u001B[0m     msg \u001B[38;5;241m=\u001B[39m re\u001B[38;5;241m.\u001B[39msub(\n\u001B[1;32m    221\u001B[0m         \u001B[38;5;124mr\u001B[39m\u001B[38;5;124m\"\u001B[39m\u001B[38;5;124mparameter of \u001B[39m\u001B[38;5;124m\\\u001B[39m\u001B[38;5;124mw+ must be\u001B[39m\u001B[38;5;124m\"\u001B[39m,\n\u001B[1;32m    222\u001B[0m         \u001B[38;5;124mf\u001B[39m\u001B[38;5;124m\"\u001B[39m\u001B[38;5;124mparameter of \u001B[39m\u001B[38;5;132;01m{\u001B[39;00mfunc\u001B[38;5;241m.\u001B[39m\u001B[38;5;18m__qualname__\u001B[39m\u001B[38;5;132;01m}\u001B[39;00m\u001B[38;5;124m must be\u001B[39m\u001B[38;5;124m\"\u001B[39m,\n\u001B[1;32m    223\u001B[0m         \u001B[38;5;28mstr\u001B[39m(e),\n\u001B[1;32m    224\u001B[0m     )\n",
      "File \u001B[0;32m~/dev/uni/tumprojectweek/venv/lib/python3.11/site-packages/sklearn/metrics/_ranking.py:606\u001B[0m, in \u001B[0;36mroc_auc_score\u001B[0;34m(y_true, y_score, average, sample_weight, max_fpr, multi_class, labels)\u001B[0m\n\u001B[1;32m    604\u001B[0m y_type \u001B[38;5;241m=\u001B[39m type_of_target(y_true, input_name\u001B[38;5;241m=\u001B[39m\u001B[38;5;124m\"\u001B[39m\u001B[38;5;124my_true\u001B[39m\u001B[38;5;124m\"\u001B[39m)\n\u001B[1;32m    605\u001B[0m y_true \u001B[38;5;241m=\u001B[39m check_array(y_true, ensure_2d\u001B[38;5;241m=\u001B[39m\u001B[38;5;28;01mFalse\u001B[39;00m, dtype\u001B[38;5;241m=\u001B[39m\u001B[38;5;28;01mNone\u001B[39;00m)\n\u001B[0;32m--> 606\u001B[0m y_score \u001B[38;5;241m=\u001B[39m \u001B[43mcheck_array\u001B[49m\u001B[43m(\u001B[49m\u001B[43my_score\u001B[49m\u001B[43m,\u001B[49m\u001B[43m \u001B[49m\u001B[43mensure_2d\u001B[49m\u001B[38;5;241;43m=\u001B[39;49m\u001B[38;5;28;43;01mFalse\u001B[39;49;00m\u001B[43m)\u001B[49m\n\u001B[1;32m    608\u001B[0m \u001B[38;5;28;01mif\u001B[39;00m y_type \u001B[38;5;241m==\u001B[39m \u001B[38;5;124m\"\u001B[39m\u001B[38;5;124mmulticlass\u001B[39m\u001B[38;5;124m\"\u001B[39m \u001B[38;5;129;01mor\u001B[39;00m (\n\u001B[1;32m    609\u001B[0m     y_type \u001B[38;5;241m==\u001B[39m \u001B[38;5;124m\"\u001B[39m\u001B[38;5;124mbinary\u001B[39m\u001B[38;5;124m\"\u001B[39m \u001B[38;5;129;01mand\u001B[39;00m y_score\u001B[38;5;241m.\u001B[39mndim \u001B[38;5;241m==\u001B[39m \u001B[38;5;241m2\u001B[39m \u001B[38;5;129;01mand\u001B[39;00m y_score\u001B[38;5;241m.\u001B[39mshape[\u001B[38;5;241m1\u001B[39m] \u001B[38;5;241m>\u001B[39m \u001B[38;5;241m2\u001B[39m\n\u001B[1;32m    610\u001B[0m ):\n\u001B[1;32m    611\u001B[0m     \u001B[38;5;66;03m# do not support partial ROC computation for multiclass\u001B[39;00m\n\u001B[1;32m    612\u001B[0m     \u001B[38;5;28;01mif\u001B[39;00m max_fpr \u001B[38;5;129;01mis\u001B[39;00m \u001B[38;5;129;01mnot\u001B[39;00m \u001B[38;5;28;01mNone\u001B[39;00m \u001B[38;5;129;01mand\u001B[39;00m max_fpr \u001B[38;5;241m!=\u001B[39m \u001B[38;5;241m1.0\u001B[39m:\n",
      "File \u001B[0;32m~/dev/uni/tumprojectweek/venv/lib/python3.11/site-packages/sklearn/utils/validation.py:915\u001B[0m, in \u001B[0;36mcheck_array\u001B[0;34m(array, accept_sparse, accept_large_sparse, dtype, order, copy, force_all_finite, ensure_2d, allow_nd, ensure_min_samples, ensure_min_features, estimator, input_name)\u001B[0m\n\u001B[1;32m    913\u001B[0m         array \u001B[38;5;241m=\u001B[39m xp\u001B[38;5;241m.\u001B[39mastype(array, dtype, copy\u001B[38;5;241m=\u001B[39m\u001B[38;5;28;01mFalse\u001B[39;00m)\n\u001B[1;32m    914\u001B[0m     \u001B[38;5;28;01melse\u001B[39;00m:\n\u001B[0;32m--> 915\u001B[0m         array \u001B[38;5;241m=\u001B[39m \u001B[43m_asarray_with_order\u001B[49m\u001B[43m(\u001B[49m\u001B[43marray\u001B[49m\u001B[43m,\u001B[49m\u001B[43m \u001B[49m\u001B[43morder\u001B[49m\u001B[38;5;241;43m=\u001B[39;49m\u001B[43morder\u001B[49m\u001B[43m,\u001B[49m\u001B[43m \u001B[49m\u001B[43mdtype\u001B[49m\u001B[38;5;241;43m=\u001B[39;49m\u001B[43mdtype\u001B[49m\u001B[43m,\u001B[49m\u001B[43m \u001B[49m\u001B[43mxp\u001B[49m\u001B[38;5;241;43m=\u001B[39;49m\u001B[43mxp\u001B[49m\u001B[43m)\u001B[49m\n\u001B[1;32m    916\u001B[0m \u001B[38;5;28;01mexcept\u001B[39;00m ComplexWarning \u001B[38;5;28;01mas\u001B[39;00m complex_warning:\n\u001B[1;32m    917\u001B[0m     \u001B[38;5;28;01mraise\u001B[39;00m \u001B[38;5;167;01mValueError\u001B[39;00m(\n\u001B[1;32m    918\u001B[0m         \u001B[38;5;124m\"\u001B[39m\u001B[38;5;124mComplex data not supported\u001B[39m\u001B[38;5;130;01m\\n\u001B[39;00m\u001B[38;5;132;01m{}\u001B[39;00m\u001B[38;5;130;01m\\n\u001B[39;00m\u001B[38;5;124m\"\u001B[39m\u001B[38;5;241m.\u001B[39mformat(array)\n\u001B[1;32m    919\u001B[0m     ) \u001B[38;5;28;01mfrom\u001B[39;00m \u001B[38;5;21;01mcomplex_warning\u001B[39;00m\n",
      "File \u001B[0;32m~/dev/uni/tumprojectweek/venv/lib/python3.11/site-packages/sklearn/utils/_array_api.py:380\u001B[0m, in \u001B[0;36m_asarray_with_order\u001B[0;34m(array, dtype, order, copy, xp)\u001B[0m\n\u001B[1;32m    378\u001B[0m     array \u001B[38;5;241m=\u001B[39m numpy\u001B[38;5;241m.\u001B[39marray(array, order\u001B[38;5;241m=\u001B[39morder, dtype\u001B[38;5;241m=\u001B[39mdtype)\n\u001B[1;32m    379\u001B[0m \u001B[38;5;28;01melse\u001B[39;00m:\n\u001B[0;32m--> 380\u001B[0m     array \u001B[38;5;241m=\u001B[39m numpy\u001B[38;5;241m.\u001B[39masarray(array, order\u001B[38;5;241m=\u001B[39morder, dtype\u001B[38;5;241m=\u001B[39mdtype)\n\u001B[1;32m    382\u001B[0m \u001B[38;5;66;03m# At this point array is a NumPy ndarray. We convert it to an array\u001B[39;00m\n\u001B[1;32m    383\u001B[0m \u001B[38;5;66;03m# container that is consistent with the input's namespace.\u001B[39;00m\n\u001B[1;32m    384\u001B[0m \u001B[38;5;28;01mreturn\u001B[39;00m xp\u001B[38;5;241m.\u001B[39masarray(array)\n",
      "File \u001B[0;32m~/dev/uni/tumprojectweek/venv/lib/python3.11/site-packages/pandas/core/series.py:953\u001B[0m, in \u001B[0;36mSeries.__array__\u001B[0;34m(self, dtype)\u001B[0m\n\u001B[1;32m    906\u001B[0m \u001B[38;5;250m\u001B[39m\u001B[38;5;124;03m\"\"\"\u001B[39;00m\n\u001B[1;32m    907\u001B[0m \u001B[38;5;124;03mReturn the values as a NumPy array.\u001B[39;00m\n\u001B[1;32m    908\u001B[0m \n\u001B[0;32m   (...)\u001B[0m\n\u001B[1;32m    950\u001B[0m \u001B[38;5;124;03m      dtype='datetime64[ns]')\u001B[39;00m\n\u001B[1;32m    951\u001B[0m \u001B[38;5;124;03m\"\"\"\u001B[39;00m\n\u001B[1;32m    952\u001B[0m values \u001B[38;5;241m=\u001B[39m \u001B[38;5;28mself\u001B[39m\u001B[38;5;241m.\u001B[39m_values\n\u001B[0;32m--> 953\u001B[0m arr \u001B[38;5;241m=\u001B[39m np\u001B[38;5;241m.\u001B[39masarray(values, dtype\u001B[38;5;241m=\u001B[39mdtype)\n\u001B[1;32m    954\u001B[0m \u001B[38;5;28;01mif\u001B[39;00m using_copy_on_write() \u001B[38;5;129;01mand\u001B[39;00m astype_is_view(values\u001B[38;5;241m.\u001B[39mdtype, arr\u001B[38;5;241m.\u001B[39mdtype):\n\u001B[1;32m    955\u001B[0m     arr \u001B[38;5;241m=\u001B[39m arr\u001B[38;5;241m.\u001B[39mview()\n",
      "\u001B[0;31mValueError\u001B[0m: could not convert string to float: '0.8.'"
     ]
    }
   ],
   "source": [
    "from sklearn.metrics import roc_auc_score, log_loss, brier_score_loss\n",
    "\n",
    "for model in df[\"model\"].unique():\n",
    "    # Assuming y_true is your array of true labels and y_pred is your array of predicted probabilities\n",
    "    no_nans = df[df[\"hate_speech_probability\"].notna()]\n",
    "    no_nans = no_nans[no_nans[\"model\"]==model]\n",
    "    y_true = no_nans['truth']\n",
    "    y_pred = no_nans['hate_speech_probability']\n",
    "    \n",
    "    roc_auc = roc_auc_score(y_true, y_pred)\n",
    "    logloss = log_loss(y_true, y_pred)\n",
    "    brier_score = brier_score_loss(y_true, y_pred)\n",
    "    \n",
    "    print(f\" {model} \".center(40,'-'))\n",
    "    print(f\"ROC AUC Score: {roc_auc}\")\n",
    "    print(f\"Log Loss:      {logloss}\")\n",
    "    print(f\"Brier Score:   {brier_score}\")"
   ]
  },
  {
   "cell_type": "code",
   "outputs": [
    {
     "data": {
      "text/plain": "                      model  \\\n0              pplx-7b-chat   \n1              pplx-7b-chat   \n2              pplx-7b-chat   \n3              pplx-7b-chat   \n4              pplx-7b-chat   \n...                     ...   \n2863  mixtral-8x7b-instruct   \n2864  mixtral-8x7b-instruct   \n2865  mixtral-8x7b-instruct   \n2866  mixtral-8x7b-instruct   \n2867  mixtral-8x7b-instruct   \n\n                                                   text  \\\n0     I 've always considered teaching as one of the...   \n1     And the sad thing is the white students at tho...   \n2     This whole situation starts to become really b...   \n3                         That's all I needed to hear .   \n4     Excellent Article !! * * * * * Why Were n't Th...   \n...                                                 ...   \n2863  I have one word for you ....... MOVE . We chos...   \n2864  There are only eight people living within a mi...   \n2865  you just say blacks hate the cold. the only re...   \n2866  And all those holes below 40,000 feet are fill...   \n2867                                     Now I get it !   \n\n                                                 answer  truth relevant_facts  \\\n0     {\\n  \"relevant_facts_from_the_cultural_context...   True           None   \n1     {\\n  \"relevant_facts_from_the_cultural_context...   True           None   \n2     {\\n  \"relevant_facts_from_the_cultural_context...  False           None   \n3     ```json\\n{\\n  \"relevant_facts_from_the_cultura...  False           None   \n4     {\\n  \"relevant_facts_from_the_cultural_context...  False           None   \n...                                                 ...    ...            ...   \n2863  {\\n  \"relevant_facts_from_the_cultural_context...  False           None   \n2864  {\\n  \"relevant_facts_from_the_cultural_context...  False           None   \n2865  {\\n  \"relevant_facts_from_the_cultural_context...   True           None   \n2866  {\\n  \"relevant_facts_from_the_cultural_context...  False           None   \n2867  {\\n  \"relevant_facts_from_the_cultural_context...  False           None   \n\n     contained_explicit_hate_speech_vocabular  \\\n0                                        None   \n1                                        None   \n2                                        None   \n3                                        None   \n4                                        None   \n...                                       ...   \n2863                                     None   \n2864                                     None   \n2865                                     None   \n2866                                     None   \n2867                                     None   \n\n                               argument_for_hate_speech  \\\n0     \"The statement expresses a powerful negative e...   \n1     \"The statement implies that white students wil...   \n2     \"The situation mentioned is not explicit in an...   \n3     \"The sentence contains derogatory language tow...   \n4     \"The question suggests that there is a perceiv...   \n...                                                 ...   \n2863  \"The statement explicitly expresses a preferen...   \n2864      \"This statement does not contain hate speech\"   \n2865  \"The statement suggests that Black people are ...   \n2866  \"The statement does not contain any explicit h...   \n2867  \"The sentence may be considered hate speech if...   \n\n                           argument_against_hate_speech  \\\n0                                                  None   \n1                      \"The statement is an observation   \n2     \"There is no explicit hate speech in the given...   \n3     \"The sentence may be protected under the First...   \n4     \"The sentence is a question and does not conta...   \n...                                                 ...   \n2863  \"The statement does not contain any overt thre...   \n2864                                                 \"\"   \n2865                                               None   \n2866  \"The statement does not target a specific ethn...   \n2867  \"The sentence may not be considered hate speec...   \n\n     likelihood_of_presence_of_implicit_hate_speech  \\\n0                                               0.3   \n1                                               0.5   \n2                                               0.3   \n3                                               0.5   \n4                                               0.1   \n...                                             ...   \n2863                                            0.5   \n2864                                              0   \n2865                                            0.8   \n2866                                              0   \n2867                                            0.1   \n\n     likelihood_of_presence_of_explicit_hate_speech  \\\n0                                                 0   \n1                                               0.2   \n2                                                 0   \n3                                               0.6   \n4                                                 0   \n...                                             ...   \n2863                                            0.3   \n2864                                              0   \n2865                                            0.7   \n2866                                              0   \n2867                                            0.5   \n\n     likelihood_of_ad_hominin_attack likelihood_of_minority_attack  \\\n0                                0.2                           0.1   \n1                                0.1                             0   \n2                                  0                             0   \n3                                0.1                             1   \n4                                  0                             0   \n...                              ...                           ...   \n2863                             0.1                           0.4   \n2864                               0                             0   \n2865                             0.0                           1.0   \n2866                               0                             0   \n2867                             0.1                             0   \n\n     likelihood_of_takedown_on_social_media hate_speech_probability  \n0                                       0.5                     0.2  \n1                                       0.5                     0.3  \n2                                         0                       0  \n3                                       0.8                     0.7  \n4                                       0.1                      0.  \n...                                     ...                     ...  \n2863                                    0.5                     0.4  \n2864                                      0                      0.  \n2865                                    0.8                     0.8  \n2866                                      0                       0  \n2867                                    0.3                     0.5  \n\n[2868 rows x 14 columns]",
      "text/html": "<div>\n<style scoped>\n    .dataframe tbody tr th:only-of-type {\n        vertical-align: middle;\n    }\n\n    .dataframe tbody tr th {\n        vertical-align: top;\n    }\n\n    .dataframe thead th {\n        text-align: right;\n    }\n</style>\n<table border=\"1\" class=\"dataframe\">\n  <thead>\n    <tr style=\"text-align: right;\">\n      <th></th>\n      <th>model</th>\n      <th>text</th>\n      <th>answer</th>\n      <th>truth</th>\n      <th>relevant_facts</th>\n      <th>contained_explicit_hate_speech_vocabular</th>\n      <th>argument_for_hate_speech</th>\n      <th>argument_against_hate_speech</th>\n      <th>likelihood_of_presence_of_implicit_hate_speech</th>\n      <th>likelihood_of_presence_of_explicit_hate_speech</th>\n      <th>likelihood_of_ad_hominin_attack</th>\n      <th>likelihood_of_minority_attack</th>\n      <th>likelihood_of_takedown_on_social_media</th>\n      <th>hate_speech_probability</th>\n    </tr>\n  </thead>\n  <tbody>\n    <tr>\n      <th>0</th>\n      <td>pplx-7b-chat</td>\n      <td>I 've always considered teaching as one of the...</td>\n      <td>{\\n  \"relevant_facts_from_the_cultural_context...</td>\n      <td>True</td>\n      <td>None</td>\n      <td>None</td>\n      <td>\"The statement expresses a powerful negative e...</td>\n      <td>None</td>\n      <td>0.3</td>\n      <td>0</td>\n      <td>0.2</td>\n      <td>0.1</td>\n      <td>0.5</td>\n      <td>0.2</td>\n    </tr>\n    <tr>\n      <th>1</th>\n      <td>pplx-7b-chat</td>\n      <td>And the sad thing is the white students at tho...</td>\n      <td>{\\n  \"relevant_facts_from_the_cultural_context...</td>\n      <td>True</td>\n      <td>None</td>\n      <td>None</td>\n      <td>\"The statement implies that white students wil...</td>\n      <td>\"The statement is an observation</td>\n      <td>0.5</td>\n      <td>0.2</td>\n      <td>0.1</td>\n      <td>0</td>\n      <td>0.5</td>\n      <td>0.3</td>\n    </tr>\n    <tr>\n      <th>2</th>\n      <td>pplx-7b-chat</td>\n      <td>This whole situation starts to become really b...</td>\n      <td>{\\n  \"relevant_facts_from_the_cultural_context...</td>\n      <td>False</td>\n      <td>None</td>\n      <td>None</td>\n      <td>\"The situation mentioned is not explicit in an...</td>\n      <td>\"There is no explicit hate speech in the given...</td>\n      <td>0.3</td>\n      <td>0</td>\n      <td>0</td>\n      <td>0</td>\n      <td>0</td>\n      <td>0</td>\n    </tr>\n    <tr>\n      <th>3</th>\n      <td>pplx-7b-chat</td>\n      <td>That's all I needed to hear .</td>\n      <td>```json\\n{\\n  \"relevant_facts_from_the_cultura...</td>\n      <td>False</td>\n      <td>None</td>\n      <td>None</td>\n      <td>\"The sentence contains derogatory language tow...</td>\n      <td>\"The sentence may be protected under the First...</td>\n      <td>0.5</td>\n      <td>0.6</td>\n      <td>0.1</td>\n      <td>1</td>\n      <td>0.8</td>\n      <td>0.7</td>\n    </tr>\n    <tr>\n      <th>4</th>\n      <td>pplx-7b-chat</td>\n      <td>Excellent Article !! * * * * * Why Were n't Th...</td>\n      <td>{\\n  \"relevant_facts_from_the_cultural_context...</td>\n      <td>False</td>\n      <td>None</td>\n      <td>None</td>\n      <td>\"The question suggests that there is a perceiv...</td>\n      <td>\"The sentence is a question and does not conta...</td>\n      <td>0.1</td>\n      <td>0</td>\n      <td>0</td>\n      <td>0</td>\n      <td>0.1</td>\n      <td>0.</td>\n    </tr>\n    <tr>\n      <th>...</th>\n      <td>...</td>\n      <td>...</td>\n      <td>...</td>\n      <td>...</td>\n      <td>...</td>\n      <td>...</td>\n      <td>...</td>\n      <td>...</td>\n      <td>...</td>\n      <td>...</td>\n      <td>...</td>\n      <td>...</td>\n      <td>...</td>\n      <td>...</td>\n    </tr>\n    <tr>\n      <th>2863</th>\n      <td>mixtral-8x7b-instruct</td>\n      <td>I have one word for you ....... MOVE . We chos...</td>\n      <td>{\\n  \"relevant_facts_from_the_cultural_context...</td>\n      <td>False</td>\n      <td>None</td>\n      <td>None</td>\n      <td>\"The statement explicitly expresses a preferen...</td>\n      <td>\"The statement does not contain any overt thre...</td>\n      <td>0.5</td>\n      <td>0.3</td>\n      <td>0.1</td>\n      <td>0.4</td>\n      <td>0.5</td>\n      <td>0.4</td>\n    </tr>\n    <tr>\n      <th>2864</th>\n      <td>mixtral-8x7b-instruct</td>\n      <td>There are only eight people living within a mi...</td>\n      <td>{\\n  \"relevant_facts_from_the_cultural_context...</td>\n      <td>False</td>\n      <td>None</td>\n      <td>None</td>\n      <td>\"This statement does not contain hate speech\"</td>\n      <td>\"\"</td>\n      <td>0</td>\n      <td>0</td>\n      <td>0</td>\n      <td>0</td>\n      <td>0</td>\n      <td>0.</td>\n    </tr>\n    <tr>\n      <th>2865</th>\n      <td>mixtral-8x7b-instruct</td>\n      <td>you just say blacks hate the cold. the only re...</td>\n      <td>{\\n  \"relevant_facts_from_the_cultural_context...</td>\n      <td>True</td>\n      <td>None</td>\n      <td>None</td>\n      <td>\"The statement suggests that Black people are ...</td>\n      <td>None</td>\n      <td>0.8</td>\n      <td>0.7</td>\n      <td>0.0</td>\n      <td>1.0</td>\n      <td>0.8</td>\n      <td>0.8</td>\n    </tr>\n    <tr>\n      <th>2866</th>\n      <td>mixtral-8x7b-instruct</td>\n      <td>And all those holes below 40,000 feet are fill...</td>\n      <td>{\\n  \"relevant_facts_from_the_cultural_context...</td>\n      <td>False</td>\n      <td>None</td>\n      <td>None</td>\n      <td>\"The statement does not contain any explicit h...</td>\n      <td>\"The statement does not target a specific ethn...</td>\n      <td>0</td>\n      <td>0</td>\n      <td>0</td>\n      <td>0</td>\n      <td>0</td>\n      <td>0</td>\n    </tr>\n    <tr>\n      <th>2867</th>\n      <td>mixtral-8x7b-instruct</td>\n      <td>Now I get it !</td>\n      <td>{\\n  \"relevant_facts_from_the_cultural_context...</td>\n      <td>False</td>\n      <td>None</td>\n      <td>None</td>\n      <td>\"The sentence may be considered hate speech if...</td>\n      <td>\"The sentence may not be considered hate speec...</td>\n      <td>0.1</td>\n      <td>0.5</td>\n      <td>0.1</td>\n      <td>0</td>\n      <td>0.3</td>\n      <td>0.5</td>\n    </tr>\n  </tbody>\n</table>\n<p>2868 rows × 14 columns</p>\n</div>"
     },
     "execution_count": 35,
     "metadata": {},
     "output_type": "execute_result"
    }
   ],
   "source": [
    "df"
   ],
   "metadata": {
    "collapsed": false,
    "ExecuteTime": {
     "end_time": "2024-01-09T15:12:34.549975709Z",
     "start_time": "2024-01-09T15:12:34.545033Z"
    }
   },
   "execution_count": 35
  }
 ],
 "metadata": {
  "kernelspec": {
   "display_name": "Python 3",
   "language": "python",
   "name": "python3"
  },
  "language_info": {
   "codemirror_mode": {
    "name": "ipython",
    "version": 3
   },
   "file_extension": ".py",
   "mimetype": "text/x-python",
   "name": "python",
   "nbconvert_exporter": "python",
   "pygments_lexer": "ipython3",
   "version": "3.10.8"
  }
 },
 "nbformat": 4,
 "nbformat_minor": 2
}
