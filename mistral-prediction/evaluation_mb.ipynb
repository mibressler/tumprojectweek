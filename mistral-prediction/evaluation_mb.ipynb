{
 "cells": [
  {
   "cell_type": "code",
   "execution_count": 33,
   "metadata": {
    "collapsed": false,
    "ExecuteTime": {
     "end_time": "2024-01-10T15:50:26.875547799Z",
     "start_time": "2024-01-10T15:50:25.564955174Z"
    }
   },
   "outputs": [
    {
     "name": "stdout",
     "output_type": "stream",
     "text": [
      "Requirement already satisfied: scikit-learn in /home/frank/dev/uni/tumprojectweek/venv/lib/python3.11/site-packages (1.3.2)\r\n",
      "Requirement already satisfied: pandas in /home/frank/dev/uni/tumprojectweek/venv/lib/python3.11/site-packages (2.1.4)\r\n",
      "Requirement already satisfied: numpy in /home/frank/dev/uni/tumprojectweek/venv/lib/python3.11/site-packages (1.26.3)\r\n",
      "Requirement already satisfied: plotly in /home/frank/dev/uni/tumprojectweek/venv/lib/python3.11/site-packages (5.18.0)\r\n",
      "Requirement already satisfied: scipy>=1.5.0 in /home/frank/dev/uni/tumprojectweek/venv/lib/python3.11/site-packages (from scikit-learn) (1.11.4)\r\n",
      "Requirement already satisfied: joblib>=1.1.1 in /home/frank/dev/uni/tumprojectweek/venv/lib/python3.11/site-packages (from scikit-learn) (1.3.2)\r\n",
      "Requirement already satisfied: threadpoolctl>=2.0.0 in /home/frank/dev/uni/tumprojectweek/venv/lib/python3.11/site-packages (from scikit-learn) (3.2.0)\r\n",
      "Requirement already satisfied: python-dateutil>=2.8.2 in /home/frank/dev/uni/tumprojectweek/venv/lib/python3.11/site-packages (from pandas) (2.8.2)\r\n",
      "Requirement already satisfied: pytz>=2020.1 in /home/frank/dev/uni/tumprojectweek/venv/lib/python3.11/site-packages (from pandas) (2023.3.post1)\r\n",
      "Requirement already satisfied: tzdata>=2022.1 in /home/frank/dev/uni/tumprojectweek/venv/lib/python3.11/site-packages (from pandas) (2023.4)\r\n",
      "Requirement already satisfied: tenacity>=6.2.0 in /home/frank/dev/uni/tumprojectweek/venv/lib/python3.11/site-packages (from plotly) (8.2.3)\r\n",
      "Requirement already satisfied: packaging in /home/frank/dev/uni/tumprojectweek/venv/lib/python3.11/site-packages (from plotly) (23.2)\r\n",
      "Requirement already satisfied: six>=1.5 in /home/frank/dev/uni/tumprojectweek/venv/lib/python3.11/site-packages (from python-dateutil>=2.8.2->pandas) (1.16.0)\r\n"
     ]
    }
   ],
   "source": [
    "!pip install scikit-learn pandas numpy plotly"
   ]
  },
  {
   "cell_type": "code",
   "execution_count": 34,
   "metadata": {
    "ExecuteTime": {
     "end_time": "2024-01-10T15:50:26.986058867Z",
     "start_time": "2024-01-10T15:50:26.885243547Z"
    }
   },
   "outputs": [],
   "source": [
    "import json\n",
    "import pandas as pd\n",
    "import re\n",
    "\n",
    "df = pd.read_pickle('all_runs.pkl')\n",
    "def clean_text(text):\n",
    "    text = text.replace(\"'\", \"\\\"\")\n",
    "    text = re.sub(\"\\\\\\([_\\[\\]{}])\", r\"\\1\",text)\n",
    "    for deletion in [\"```json\", r\"\\n\"]:\n",
    "        text = text.replace(deletion, \"\")\n",
    "    return text\n",
    "df[\"answer\"]=df[\"answer\"].apply(clean_text)\n",
    "\n",
    "def extract_str(json_string:str, key: str):\n",
    "    pattern = f'{key}\"?: (\"[^\"]*\")(?:,|\\n)'\n",
    "    match = re.search(pattern, json_string)\n",
    "    if not match:\n",
    "        return None\n",
    "    return match.group(1).strip().strip('\"') if match else None\n",
    "\n",
    "def extract_float(json_string:str, key: str):\n",
    "    pattern = f'{key}\"?: (.*?)(?:,|\\n)'\n",
    "    match = re.search(pattern, json_string)\n",
    "    if not match:\n",
    "        return None\n",
    "    value = match.group(1).strip()\n",
    "    try:\n",
    "        return float(value)\n",
    "    except Exception:\n",
    "        return None\n",
    "\n",
    "def extract_list(json_string:str, key: str):\n",
    "    pattern = f'{key}\"?: ?(\\[[^\\]]*\\])(?:,|\\n)'\n",
    "    match = re.search(pattern, json_string)\n",
    "    if not match:\n",
    "        return None\n",
    "    value = match.group(1).strip()\n",
    "    try:\n",
    "        return json.loads(value)\n",
    "    except Exception:\n",
    "        return value\n",
    "\n",
    "def extract_dict(json_string:str, key: str):\n",
    "    pattern = key+ r'\"?: ?({[^}]*})'\n",
    "    match = re.search(pattern, json_string)\n",
    "    if not match:\n",
    "        return None\n",
    "    value = match.group(1).strip()\n",
    "    try:\n",
    "        return json.loads(value)\n",
    "    except Exception:\n",
    "        return value\n",
    "\n",
    "list_keys=     [\n",
    "    \"relevant_facts_from_the_cultural_context\",\n",
    "    \"contained_explicit_racist_vocabulary\",\n",
    "    \"contained_explicit_sexist_vocabulary\",\n",
    "    \"contained_explicit_toxic_vocabulary\",\n",
    "]\n",
    "\n",
    "for key in list_keys:\n",
    "    df[key] = df['answer'].apply(lambda x: extract_list(x, key))\n",
    "\n",
    "dict_keys=[\n",
    "    \"relevant_word_definitions\"    \n",
    "]\n",
    "\n",
    "for key in dict_keys:\n",
    "    df[key] = df['answer'].apply(lambda x: extract_dict(x, key))\n",
    "\n",
    "str_keys = [\n",
    "    \"argument_for_hate_speech\",\n",
    "    \"argument_against_hate_speech\",\n",
    "]\n",
    "\n",
    "for key in str_keys:\n",
    "    df[key] = df['answer'].apply(lambda x: extract_str(x, key))\n",
    "    \n",
    "float_keys = [\n",
    "    \"likelihood_of_presence_of_implicit_hate_speech\",\n",
    "    \"likelihood_of_presence_of_explicit_hate_speech\",\n",
    "    \"likelihood_of_ad_hominin_attack\",\n",
    "    \"likelihood_of_minority_attack\",\n",
    "    \"likelihood_of_takedown_on_social_media\",\n",
    "    \"hate_speech_probability\",\n",
    "]\n",
    "\n",
    "for key in float_keys:\n",
    "    df[key] = df['answer'].apply(lambda x: extract_float(x, key))"
   ]
  },
  {
   "cell_type": "code",
   "outputs": [
    {
     "data": {
      "text/plain": "     prompt_id                  model  sample_size  \\\n2            0  mixtral-8x7b-instruct          478   \n9            0  mixtral-8x7b-instruct          478   \n10           0  mixtral-8x7b-instruct          478   \n11           0  mixtral-8x7b-instruct          478   \n19           0  mixtral-8x7b-instruct          478   \n..         ...                    ...          ...   \n468          1  mixtral-8x7b-instruct          478   \n3            2    mistral-7b-instruct          478   \n91           3    mistral-7b-instruct          478   \n305          3    mistral-7b-instruct          478   \n234          4    mistral-7b-instruct          478   \n\n                                                  text  \\\n2    I was trying to find out if the Egyptians were...   \n9    I bet they wouldnt have done that crap to a bl...   \n10   Those boys will use the plastic whisks as swor...   \n11   The majority of them are as stupid as real Neg...   \n19   More than that I cringe every time I go to han...   \n..                                                 ...   \n468  I got sloppy seconds after some Muslims used t...   \n3    The students should be able to express themsel...   \n91   You could try looking at the National socialis...   \n305  This guy seems to get it but otherwise : Sorry...   \n234  They are beating each other to death everywher...   \n\n                                                answer  labeled_hateful  \\\n2    Here is the analysis of the sentence you provi...            False   \n9    \\n{\\n  \"relevant_facts\": [\\n    \"The sentence ...             True   \n10   \\n{\\n  \"relevant_facts\": [\\n    \"The sentence ...             True   \n11   \\n{\\n  \"relevant_facts\": [\\n    \"The sentence ...             True   \n19   \\n{\\n  \"relevant_facts\": [\\n    \"The statement...            False   \n..                                                 ...              ...   \n468  \\n{\\n  \"relevant_facts_from_the_cultural_conte...             True   \n3    I understand your request and I will do my bes...            False   \n91   I understand the format you\"d like me to respo...            False   \n305  {\\n\"relevant_facts_from_the_cultural_context\":...             True   \n234  {\\n  \"relevant_word_definitions\": {\\n    \"they...             True   \n\n              relevant_facts_from_the_cultural_context  \\\n2                                                 None   \n9                                                 None   \n10                                                None   \n11                                                None   \n19                                                None   \n..                                                 ...   \n468  [\\n    \"In the USA, there is a history of Isla...   \n3                                                 None   \n91                                                None   \n305  [White supremacist forums in the US often use ...   \n234                                               None   \n\n    contained_explicit_racist_vocabulary contained_explicit_sexist_vocabulary  \\\n2                                   None                                 None   \n9                                   None                                 None   \n10                                  None                                 None   \n11                                  None                                 None   \n19                                  None                                 None   \n..                                   ...                                  ...   \n468                                   []                     [sloppy seconds]   \n3                                   None                                 None   \n91                                  None                                 None   \n305                                   []                                   []   \n234                                 None                                 None   \n\n    contained_explicit_toxic_vocabulary  \\\n2                                  None   \n9                                  None   \n10                                 None   \n11                                 None   \n19                                 None   \n..                                  ...   \n468                                None   \n3                                  None   \n91                                 None   \n305                                  []   \n234                                None   \n\n                             relevant_word_definitions  \\\n2                                                 None   \n9                                                 None   \n10                                                None   \n11                                                None   \n19                                                None   \n..                                                 ...   \n468  {'Muslims': 'Members of a monotheistic religio...   \n3                                                 None   \n91                                                None   \n305  {\\n\"supremacist\": \"A belief that one\"s own rac...   \n234  {\\n    \"they\": referring to a group of people,...   \n\n                              argument_for_hate_speech  \\\n2                                                 None   \n9                                                 None   \n10                                                None   \n11   The sentence uses a racial slur and makes a de...   \n19                                                       \n..                                                 ...   \n468                                               None   \n3                                                 None   \n91                                                None   \n305  The sentence may not contain any explicit hate...   \n234  This statement suggests a sense of superiority...   \n\n                          argument_against_hate_speech  \\\n2                                                 None   \n9                                                 None   \n10   There is no use of explicit hate speech vocabu...   \n11   There is no immediate call to violence or harm...   \n19                                                None   \n..                                                 ...   \n468                                               None   \n3                                                 None   \n91                                                None   \n305  The sentence does not contain any overtly raci...   \n234  The statement does not explicitly use derogato...   \n\n     likelihood_of_presence_of_implicit_hate_speech  \\\n2                                               NaN   \n9                                               NaN   \n10                                             0.67   \n11                                             0.20   \n19                                              NaN   \n..                                              ...   \n468                                             NaN   \n3                                               NaN   \n91                                              NaN   \n305                                            0.50   \n234                                            0.90   \n\n     likelihood_of_presence_of_explicit_hate_speech  \\\n2                                               NaN   \n9                                               NaN   \n10                                              NaN   \n11                                              0.9   \n19                                              NaN   \n..                                              ...   \n468                                             NaN   \n3                                               NaN   \n91                                              NaN   \n305                                             0.1   \n234                                             0.6   \n\n    likelihood_of_ad_hominin_attack  likelihood_of_minority_attack  \\\n2                              None                            NaN   \n9                              None                            NaN   \n10                             None                            NaN   \n11                             None                            NaN   \n19                             None                            NaN   \n..                              ...                            ...   \n468                            None                            NaN   \n3                              None                            NaN   \n91                             None                            NaN   \n305                            None                           0.05   \n234                            None                           1.00   \n\n     likelihood_of_takedown_on_social_media  hate_speech_probability  \n2                                       NaN                      NaN  \n9                                       NaN                      NaN  \n10                                      NaN                      NaN  \n11                                      NaN                      NaN  \n19                                      NaN                      NaN  \n..                                      ...                      ...  \n468                                     NaN                      NaN  \n3                                       NaN                      NaN  \n91                                      NaN                      NaN  \n305                                     0.3                      NaN  \n234                                     NaN                      NaN  \n\n[230 rows x 19 columns]",
      "text/html": "<div>\n<style scoped>\n    .dataframe tbody tr th:only-of-type {\n        vertical-align: middle;\n    }\n\n    .dataframe tbody tr th {\n        vertical-align: top;\n    }\n\n    .dataframe thead th {\n        text-align: right;\n    }\n</style>\n<table border=\"1\" class=\"dataframe\">\n  <thead>\n    <tr style=\"text-align: right;\">\n      <th></th>\n      <th>prompt_id</th>\n      <th>model</th>\n      <th>sample_size</th>\n      <th>text</th>\n      <th>answer</th>\n      <th>labeled_hateful</th>\n      <th>relevant_facts_from_the_cultural_context</th>\n      <th>contained_explicit_racist_vocabulary</th>\n      <th>contained_explicit_sexist_vocabulary</th>\n      <th>contained_explicit_toxic_vocabulary</th>\n      <th>relevant_word_definitions</th>\n      <th>argument_for_hate_speech</th>\n      <th>argument_against_hate_speech</th>\n      <th>likelihood_of_presence_of_implicit_hate_speech</th>\n      <th>likelihood_of_presence_of_explicit_hate_speech</th>\n      <th>likelihood_of_ad_hominin_attack</th>\n      <th>likelihood_of_minority_attack</th>\n      <th>likelihood_of_takedown_on_social_media</th>\n      <th>hate_speech_probability</th>\n    </tr>\n  </thead>\n  <tbody>\n    <tr>\n      <th>2</th>\n      <td>0</td>\n      <td>mixtral-8x7b-instruct</td>\n      <td>478</td>\n      <td>I was trying to find out if the Egyptians were...</td>\n      <td>Here is the analysis of the sentence you provi...</td>\n      <td>False</td>\n      <td>None</td>\n      <td>None</td>\n      <td>None</td>\n      <td>None</td>\n      <td>None</td>\n      <td>None</td>\n      <td>None</td>\n      <td>NaN</td>\n      <td>NaN</td>\n      <td>None</td>\n      <td>NaN</td>\n      <td>NaN</td>\n      <td>NaN</td>\n    </tr>\n    <tr>\n      <th>9</th>\n      <td>0</td>\n      <td>mixtral-8x7b-instruct</td>\n      <td>478</td>\n      <td>I bet they wouldnt have done that crap to a bl...</td>\n      <td>\\n{\\n  \"relevant_facts\": [\\n    \"The sentence ...</td>\n      <td>True</td>\n      <td>None</td>\n      <td>None</td>\n      <td>None</td>\n      <td>None</td>\n      <td>None</td>\n      <td>None</td>\n      <td>None</td>\n      <td>NaN</td>\n      <td>NaN</td>\n      <td>None</td>\n      <td>NaN</td>\n      <td>NaN</td>\n      <td>NaN</td>\n    </tr>\n    <tr>\n      <th>10</th>\n      <td>0</td>\n      <td>mixtral-8x7b-instruct</td>\n      <td>478</td>\n      <td>Those boys will use the plastic whisks as swor...</td>\n      <td>\\n{\\n  \"relevant_facts\": [\\n    \"The sentence ...</td>\n      <td>True</td>\n      <td>None</td>\n      <td>None</td>\n      <td>None</td>\n      <td>None</td>\n      <td>None</td>\n      <td>None</td>\n      <td>There is no use of explicit hate speech vocabu...</td>\n      <td>0.67</td>\n      <td>NaN</td>\n      <td>None</td>\n      <td>NaN</td>\n      <td>NaN</td>\n      <td>NaN</td>\n    </tr>\n    <tr>\n      <th>11</th>\n      <td>0</td>\n      <td>mixtral-8x7b-instruct</td>\n      <td>478</td>\n      <td>The majority of them are as stupid as real Neg...</td>\n      <td>\\n{\\n  \"relevant_facts\": [\\n    \"The sentence ...</td>\n      <td>True</td>\n      <td>None</td>\n      <td>None</td>\n      <td>None</td>\n      <td>None</td>\n      <td>None</td>\n      <td>The sentence uses a racial slur and makes a de...</td>\n      <td>There is no immediate call to violence or harm...</td>\n      <td>0.20</td>\n      <td>0.9</td>\n      <td>None</td>\n      <td>NaN</td>\n      <td>NaN</td>\n      <td>NaN</td>\n    </tr>\n    <tr>\n      <th>19</th>\n      <td>0</td>\n      <td>mixtral-8x7b-instruct</td>\n      <td>478</td>\n      <td>More than that I cringe every time I go to han...</td>\n      <td>\\n{\\n  \"relevant_facts\": [\\n    \"The statement...</td>\n      <td>False</td>\n      <td>None</td>\n      <td>None</td>\n      <td>None</td>\n      <td>None</td>\n      <td>None</td>\n      <td></td>\n      <td>None</td>\n      <td>NaN</td>\n      <td>NaN</td>\n      <td>None</td>\n      <td>NaN</td>\n      <td>NaN</td>\n      <td>NaN</td>\n    </tr>\n    <tr>\n      <th>...</th>\n      <td>...</td>\n      <td>...</td>\n      <td>...</td>\n      <td>...</td>\n      <td>...</td>\n      <td>...</td>\n      <td>...</td>\n      <td>...</td>\n      <td>...</td>\n      <td>...</td>\n      <td>...</td>\n      <td>...</td>\n      <td>...</td>\n      <td>...</td>\n      <td>...</td>\n      <td>...</td>\n      <td>...</td>\n      <td>...</td>\n      <td>...</td>\n    </tr>\n    <tr>\n      <th>468</th>\n      <td>1</td>\n      <td>mixtral-8x7b-instruct</td>\n      <td>478</td>\n      <td>I got sloppy seconds after some Muslims used t...</td>\n      <td>\\n{\\n  \"relevant_facts_from_the_cultural_conte...</td>\n      <td>True</td>\n      <td>[\\n    \"In the USA, there is a history of Isla...</td>\n      <td>[]</td>\n      <td>[sloppy seconds]</td>\n      <td>None</td>\n      <td>{'Muslims': 'Members of a monotheistic religio...</td>\n      <td>None</td>\n      <td>None</td>\n      <td>NaN</td>\n      <td>NaN</td>\n      <td>None</td>\n      <td>NaN</td>\n      <td>NaN</td>\n      <td>NaN</td>\n    </tr>\n    <tr>\n      <th>3</th>\n      <td>2</td>\n      <td>mistral-7b-instruct</td>\n      <td>478</td>\n      <td>The students should be able to express themsel...</td>\n      <td>I understand your request and I will do my bes...</td>\n      <td>False</td>\n      <td>None</td>\n      <td>None</td>\n      <td>None</td>\n      <td>None</td>\n      <td>None</td>\n      <td>None</td>\n      <td>None</td>\n      <td>NaN</td>\n      <td>NaN</td>\n      <td>None</td>\n      <td>NaN</td>\n      <td>NaN</td>\n      <td>NaN</td>\n    </tr>\n    <tr>\n      <th>91</th>\n      <td>3</td>\n      <td>mistral-7b-instruct</td>\n      <td>478</td>\n      <td>You could try looking at the National socialis...</td>\n      <td>I understand the format you\"d like me to respo...</td>\n      <td>False</td>\n      <td>None</td>\n      <td>None</td>\n      <td>None</td>\n      <td>None</td>\n      <td>None</td>\n      <td>None</td>\n      <td>None</td>\n      <td>NaN</td>\n      <td>NaN</td>\n      <td>None</td>\n      <td>NaN</td>\n      <td>NaN</td>\n      <td>NaN</td>\n    </tr>\n    <tr>\n      <th>305</th>\n      <td>3</td>\n      <td>mistral-7b-instruct</td>\n      <td>478</td>\n      <td>This guy seems to get it but otherwise : Sorry...</td>\n      <td>{\\n\"relevant_facts_from_the_cultural_context\":...</td>\n      <td>True</td>\n      <td>[White supremacist forums in the US often use ...</td>\n      <td>[]</td>\n      <td>[]</td>\n      <td>[]</td>\n      <td>{\\n\"supremacist\": \"A belief that one\"s own rac...</td>\n      <td>The sentence may not contain any explicit hate...</td>\n      <td>The sentence does not contain any overtly raci...</td>\n      <td>0.50</td>\n      <td>0.1</td>\n      <td>None</td>\n      <td>0.05</td>\n      <td>0.3</td>\n      <td>NaN</td>\n    </tr>\n    <tr>\n      <th>234</th>\n      <td>4</td>\n      <td>mistral-7b-instruct</td>\n      <td>478</td>\n      <td>They are beating each other to death everywher...</td>\n      <td>{\\n  \"relevant_word_definitions\": {\\n    \"they...</td>\n      <td>True</td>\n      <td>None</td>\n      <td>None</td>\n      <td>None</td>\n      <td>None</td>\n      <td>{\\n    \"they\": referring to a group of people,...</td>\n      <td>This statement suggests a sense of superiority...</td>\n      <td>The statement does not explicitly use derogato...</td>\n      <td>0.90</td>\n      <td>0.6</td>\n      <td>None</td>\n      <td>1.00</td>\n      <td>NaN</td>\n      <td>NaN</td>\n    </tr>\n  </tbody>\n</table>\n<p>230 rows × 19 columns</p>\n</div>"
     },
     "execution_count": 35,
     "metadata": {},
     "output_type": "execute_result"
    }
   ],
   "source": [
    "df[df['answer'].apply(lambda x: \"hate_speech_probability\" not in str(x))]"
   ],
   "metadata": {
    "collapsed": false,
    "ExecuteTime": {
     "end_time": "2024-01-10T15:50:27.014704445Z",
     "start_time": "2024-01-10T15:50:26.991172358Z"
    }
   },
   "execution_count": 35
  },
  {
   "cell_type": "code",
   "execution_count": 36,
   "metadata": {
    "ExecuteTime": {
     "end_time": "2024-01-10T15:50:27.015206510Z",
     "start_time": "2024-01-10T15:50:27.013387795Z"
    }
   },
   "outputs": [
    {
     "name": "stdout",
     "output_type": "stream",
     "text": [
      "Missing values for each column:\n",
      "prompt_id                                            0\n",
      "model                                                0\n",
      "sample_size                                          0\n",
      "text                                                 0\n",
      "answer                                               0\n",
      "labeled_hateful                                      0\n",
      "relevant_facts_from_the_cultural_context          2925\n",
      "contained_explicit_racist_vocabulary              2891\n",
      "contained_explicit_sexist_vocabulary              3180\n",
      "contained_explicit_toxic_vocabulary               3144\n",
      "relevant_word_definitions                         2419\n",
      "argument_for_hate_speech                          1464\n",
      "argument_against_hate_speech                      1197\n",
      "likelihood_of_presence_of_implicit_hate_speech     213\n",
      "likelihood_of_presence_of_explicit_hate_speech     300\n",
      "likelihood_of_ad_hominin_attack                   4302\n",
      "likelihood_of_minority_attack                      237\n",
      "likelihood_of_takedown_on_social_media            2410\n",
      "hate_speech_probability                            292\n",
      "dtype: int64\n"
     ]
    }
   ],
   "source": [
    "# Check for missing values\n",
    "missing_values = df.isnull().sum()\n",
    "print(\"Missing values for each column:\")\n",
    "print(missing_values)\n",
    "\n",
    "data_types = df.dtypes"
   ]
  },
  {
   "cell_type": "code",
   "execution_count": 37,
   "metadata": {
    "ExecuteTime": {
     "end_time": "2024-01-10T15:50:27.123421742Z",
     "start_time": "2024-01-10T15:50:27.015719241Z"
    }
   },
   "outputs": [
    {
     "name": "stderr",
     "output_type": "stream",
     "text": [
      "/tmp/ipykernel_645416/2357182481.py:6: FutureWarning:\n",
      "\n",
      "The default of observed=False is deprecated and will be changed to True in a future version of pandas. Pass observed=False to retain current behavior or observed=True to adopt the future default and silence this warning.\n",
      "\n"
     ]
    },
    {
     "data": {
      "application/vnd.plotly.v1+json": {
       "data": [
        {
         "alignmentgroup": "True",
         "hovertemplate": "<b>%{hovertext}</b><br><br>labeled_hateful=False<br>bin=%{x}<br>text=%{y}<extra></extra>",
         "hovertext": [
          "mistral-7b-instruct",
          "mixtral-8x7b-instruct",
          "pplx-70b-chat",
          "pplx-7b-chat",
          "mistral-7b-instruct",
          "mixtral-8x7b-instruct",
          "pplx-70b-chat",
          "pplx-7b-chat",
          "mistral-7b-instruct",
          "mixtral-8x7b-instruct",
          "pplx-70b-chat",
          "pplx-7b-chat",
          "mistral-7b-instruct",
          "mixtral-8x7b-instruct",
          "pplx-70b-chat",
          "pplx-7b-chat",
          "mistral-7b-instruct",
          "mixtral-8x7b-instruct",
          "pplx-70b-chat",
          "pplx-7b-chat",
          "mistral-7b-instruct",
          "mixtral-8x7b-instruct",
          "pplx-70b-chat",
          "pplx-7b-chat",
          "mistral-7b-instruct",
          "mixtral-8x7b-instruct",
          "pplx-70b-chat",
          "pplx-7b-chat",
          "mistral-7b-instruct",
          "mixtral-8x7b-instruct",
          "pplx-70b-chat",
          "pplx-7b-chat",
          "mistral-7b-instruct",
          "mixtral-8x7b-instruct",
          "pplx-70b-chat",
          "pplx-7b-chat",
          "mistral-7b-instruct",
          "mixtral-8x7b-instruct",
          "pplx-70b-chat",
          "pplx-7b-chat",
          "mistral-7b-instruct",
          "mixtral-8x7b-instruct",
          "pplx-70b-chat",
          "pplx-7b-chat",
          "mistral-7b-instruct",
          "mixtral-8x7b-instruct",
          "pplx-70b-chat",
          "pplx-7b-chat",
          "mistral-7b-instruct",
          "mixtral-8x7b-instruct",
          "pplx-70b-chat",
          "pplx-7b-chat",
          "mistral-7b-instruct",
          "mixtral-8x7b-instruct",
          "pplx-70b-chat",
          "pplx-7b-chat",
          "mistral-7b-instruct",
          "mixtral-8x7b-instruct",
          "pplx-70b-chat",
          "pplx-7b-chat",
          "mistral-7b-instruct",
          "mixtral-8x7b-instruct",
          "pplx-70b-chat",
          "pplx-7b-chat",
          "mistral-7b-instruct",
          "mixtral-8x7b-instruct",
          "pplx-70b-chat",
          "pplx-7b-chat",
          "mistral-7b-instruct",
          "mixtral-8x7b-instruct",
          "pplx-70b-chat",
          "pplx-7b-chat",
          "mistral-7b-instruct",
          "mixtral-8x7b-instruct",
          "pplx-70b-chat",
          "pplx-7b-chat",
          "mistral-7b-instruct",
          "mixtral-8x7b-instruct",
          "pplx-70b-chat",
          "pplx-7b-chat"
         ],
         "legendgroup": "False",
         "marker": {
          "color": "#636efa"
         },
         "name": "False",
         "notched": false,
         "offsetgroup": "False",
         "orientation": "v",
         "showlegend": true,
         "x": [
          "(-0.001, 5.0]",
          "(-0.001, 5.0]",
          "(-0.001, 5.0]",
          "(-0.001, 5.0]",
          "(5.0, 10.0]",
          "(5.0, 10.0]",
          "(5.0, 10.0]",
          "(5.0, 10.0]",
          "(10.0, 15.0]",
          "(10.0, 15.0]",
          "(10.0, 15.0]",
          "(10.0, 15.0]",
          "(15.0, 20.0]",
          "(15.0, 20.0]",
          "(15.0, 20.0]",
          "(15.0, 20.0]",
          "(20.0, 25.0]",
          "(20.0, 25.0]",
          "(20.0, 25.0]",
          "(20.0, 25.0]",
          "(25.0, 30.0]",
          "(25.0, 30.0]",
          "(25.0, 30.0]",
          "(25.0, 30.0]",
          "(30.0, 35.0]",
          "(30.0, 35.0]",
          "(30.0, 35.0]",
          "(30.0, 35.0]",
          "(35.0, 40.0]",
          "(35.0, 40.0]",
          "(35.0, 40.0]",
          "(35.0, 40.0]",
          "(40.0, 45.0]",
          "(40.0, 45.0]",
          "(40.0, 45.0]",
          "(40.0, 45.0]",
          "(45.0, 50.0]",
          "(45.0, 50.0]",
          "(45.0, 50.0]",
          "(45.0, 50.0]",
          "(50.0, 55.0]",
          "(50.0, 55.0]",
          "(50.0, 55.0]",
          "(50.0, 55.0]",
          "(55.0, 60.0]",
          "(55.0, 60.0]",
          "(55.0, 60.0]",
          "(55.0, 60.0]",
          "(60.0, 65.0]",
          "(60.0, 65.0]",
          "(60.0, 65.0]",
          "(60.0, 65.0]",
          "(65.0, 70.0]",
          "(65.0, 70.0]",
          "(65.0, 70.0]",
          "(65.0, 70.0]",
          "(70.0, 75.0]",
          "(70.0, 75.0]",
          "(70.0, 75.0]",
          "(70.0, 75.0]",
          "(75.0, 80.0]",
          "(75.0, 80.0]",
          "(75.0, 80.0]",
          "(75.0, 80.0]",
          "(80.0, 85.0]",
          "(80.0, 85.0]",
          "(80.0, 85.0]",
          "(80.0, 85.0]",
          "(85.0, 90.0]",
          "(85.0, 90.0]",
          "(85.0, 90.0]",
          "(85.0, 90.0]",
          "(90.0, 95.0]",
          "(90.0, 95.0]",
          "(90.0, 95.0]",
          "(90.0, 95.0]",
          "(95.0, 100.0]",
          "(95.0, 100.0]",
          "(95.0, 100.0]",
          "(95.0, 100.0]"
         ],
         "x0": " ",
         "xaxis": "x",
         "y": [
          553,
          100,
          48,
          59,
          177,
          50,
          3,
          12,
          36,
          49,
          2,
          11,
          74,
          58,
          5,
          5,
          18,
          14,
          2,
          12,
          82,
          7,
          7,
          12,
          22,
          15,
          5,
          8,
          59,
          13,
          6,
          2,
          5,
          13,
          144,
          19,
          28,
          14,
          2,
          3,
          4,
          0,
          1,
          5,
          24,
          24,
          2,
          2,
          7,
          5,
          0,
          0,
          20,
          34,
          0,
          4,
          2,
          7,
          0,
          2,
          27,
          6,
          1,
          2,
          6,
          1,
          0,
          1,
          12,
          15,
          0,
          0,
          7,
          0,
          0,
          1,
          12,
          1,
          0,
          1
         ],
         "y0": " ",
         "yaxis": "y",
         "type": "box"
        },
        {
         "alignmentgroup": "True",
         "hovertemplate": "<b>%{hovertext}</b><br><br>labeled_hateful=True<br>bin=%{x}<br>text=%{y}<extra></extra>",
         "hovertext": [
          "mistral-7b-instruct",
          "mixtral-8x7b-instruct",
          "pplx-70b-chat",
          "pplx-7b-chat",
          "mistral-7b-instruct",
          "mixtral-8x7b-instruct",
          "pplx-70b-chat",
          "pplx-7b-chat",
          "mistral-7b-instruct",
          "mixtral-8x7b-instruct",
          "pplx-70b-chat",
          "pplx-7b-chat",
          "mistral-7b-instruct",
          "mixtral-8x7b-instruct",
          "pplx-70b-chat",
          "pplx-7b-chat",
          "mistral-7b-instruct",
          "mixtral-8x7b-instruct",
          "pplx-70b-chat",
          "pplx-7b-chat",
          "mistral-7b-instruct",
          "mixtral-8x7b-instruct",
          "pplx-70b-chat",
          "pplx-7b-chat",
          "mistral-7b-instruct",
          "mixtral-8x7b-instruct",
          "pplx-70b-chat",
          "pplx-7b-chat",
          "mistral-7b-instruct",
          "mixtral-8x7b-instruct",
          "pplx-70b-chat",
          "pplx-7b-chat",
          "mistral-7b-instruct",
          "mixtral-8x7b-instruct",
          "pplx-70b-chat",
          "pplx-7b-chat",
          "mistral-7b-instruct",
          "mixtral-8x7b-instruct",
          "pplx-70b-chat",
          "pplx-7b-chat",
          "mistral-7b-instruct",
          "mixtral-8x7b-instruct",
          "pplx-70b-chat",
          "pplx-7b-chat",
          "mistral-7b-instruct",
          "mixtral-8x7b-instruct",
          "pplx-70b-chat",
          "pplx-7b-chat",
          "mistral-7b-instruct",
          "mixtral-8x7b-instruct",
          "pplx-70b-chat",
          "pplx-7b-chat",
          "mistral-7b-instruct",
          "mixtral-8x7b-instruct",
          "pplx-70b-chat",
          "pplx-7b-chat",
          "mistral-7b-instruct",
          "mixtral-8x7b-instruct",
          "pplx-70b-chat",
          "pplx-7b-chat",
          "mistral-7b-instruct",
          "mixtral-8x7b-instruct",
          "pplx-70b-chat",
          "pplx-7b-chat",
          "mistral-7b-instruct",
          "mixtral-8x7b-instruct",
          "pplx-70b-chat",
          "pplx-7b-chat",
          "mistral-7b-instruct",
          "mixtral-8x7b-instruct",
          "pplx-70b-chat",
          "pplx-7b-chat",
          "mistral-7b-instruct",
          "mixtral-8x7b-instruct",
          "pplx-70b-chat",
          "pplx-7b-chat",
          "mistral-7b-instruct",
          "mixtral-8x7b-instruct",
          "pplx-70b-chat",
          "pplx-7b-chat"
         ],
         "legendgroup": "True",
         "marker": {
          "color": "#EF553B"
         },
         "name": "True",
         "notched": false,
         "offsetgroup": "True",
         "orientation": "v",
         "showlegend": true,
         "x": [
          "(-0.001, 5.0]",
          "(-0.001, 5.0]",
          "(-0.001, 5.0]",
          "(-0.001, 5.0]",
          "(5.0, 10.0]",
          "(5.0, 10.0]",
          "(5.0, 10.0]",
          "(5.0, 10.0]",
          "(10.0, 15.0]",
          "(10.0, 15.0]",
          "(10.0, 15.0]",
          "(10.0, 15.0]",
          "(15.0, 20.0]",
          "(15.0, 20.0]",
          "(15.0, 20.0]",
          "(15.0, 20.0]",
          "(20.0, 25.0]",
          "(20.0, 25.0]",
          "(20.0, 25.0]",
          "(20.0, 25.0]",
          "(25.0, 30.0]",
          "(25.0, 30.0]",
          "(25.0, 30.0]",
          "(25.0, 30.0]",
          "(30.0, 35.0]",
          "(30.0, 35.0]",
          "(30.0, 35.0]",
          "(30.0, 35.0]",
          "(35.0, 40.0]",
          "(35.0, 40.0]",
          "(35.0, 40.0]",
          "(35.0, 40.0]",
          "(40.0, 45.0]",
          "(40.0, 45.0]",
          "(40.0, 45.0]",
          "(40.0, 45.0]",
          "(45.0, 50.0]",
          "(45.0, 50.0]",
          "(45.0, 50.0]",
          "(45.0, 50.0]",
          "(50.0, 55.0]",
          "(50.0, 55.0]",
          "(50.0, 55.0]",
          "(50.0, 55.0]",
          "(55.0, 60.0]",
          "(55.0, 60.0]",
          "(55.0, 60.0]",
          "(55.0, 60.0]",
          "(60.0, 65.0]",
          "(60.0, 65.0]",
          "(60.0, 65.0]",
          "(60.0, 65.0]",
          "(65.0, 70.0]",
          "(65.0, 70.0]",
          "(65.0, 70.0]",
          "(65.0, 70.0]",
          "(70.0, 75.0]",
          "(70.0, 75.0]",
          "(70.0, 75.0]",
          "(70.0, 75.0]",
          "(75.0, 80.0]",
          "(75.0, 80.0]",
          "(75.0, 80.0]",
          "(75.0, 80.0]",
          "(80.0, 85.0]",
          "(80.0, 85.0]",
          "(80.0, 85.0]",
          "(80.0, 85.0]",
          "(85.0, 90.0]",
          "(85.0, 90.0]",
          "(85.0, 90.0]",
          "(85.0, 90.0]",
          "(90.0, 95.0]",
          "(90.0, 95.0]",
          "(90.0, 95.0]",
          "(90.0, 95.0]",
          "(95.0, 100.0]",
          "(95.0, 100.0]",
          "(95.0, 100.0]",
          "(95.0, 100.0]"
         ],
         "x0": " ",
         "xaxis": "x",
         "y": [
          82,
          9,
          5,
          11,
          105,
          10,
          2,
          2,
          27,
          16,
          1,
          2,
          70,
          54,
          4,
          7,
          26,
          5,
          2,
          14,
          85,
          16,
          11,
          13,
          16,
          7,
          2,
          10,
          71,
          15,
          17,
          7,
          9,
          15,
          166,
          28,
          56,
          19,
          14,
          19,
          15,
          2,
          1,
          9,
          47,
          38,
          9,
          13,
          31,
          13,
          1,
          7,
          50,
          82,
          1,
          7,
          20,
          23,
          1,
          4,
          127,
          30,
          0,
          10,
          44,
          14,
          0,
          9,
          117,
          51,
          1,
          8,
          39,
          7,
          0,
          4,
          122,
          2,
          0,
          11
         ],
         "y0": " ",
         "yaxis": "y",
         "type": "box"
        }
       ],
       "layout": {
        "template": {
         "data": {
          "histogram2dcontour": [
           {
            "type": "histogram2dcontour",
            "colorbar": {
             "outlinewidth": 0,
             "ticks": ""
            },
            "colorscale": [
             [
              0.0,
              "#0d0887"
             ],
             [
              0.1111111111111111,
              "#46039f"
             ],
             [
              0.2222222222222222,
              "#7201a8"
             ],
             [
              0.3333333333333333,
              "#9c179e"
             ],
             [
              0.4444444444444444,
              "#bd3786"
             ],
             [
              0.5555555555555556,
              "#d8576b"
             ],
             [
              0.6666666666666666,
              "#ed7953"
             ],
             [
              0.7777777777777778,
              "#fb9f3a"
             ],
             [
              0.8888888888888888,
              "#fdca26"
             ],
             [
              1.0,
              "#f0f921"
             ]
            ]
           }
          ],
          "choropleth": [
           {
            "type": "choropleth",
            "colorbar": {
             "outlinewidth": 0,
             "ticks": ""
            }
           }
          ],
          "histogram2d": [
           {
            "type": "histogram2d",
            "colorbar": {
             "outlinewidth": 0,
             "ticks": ""
            },
            "colorscale": [
             [
              0.0,
              "#0d0887"
             ],
             [
              0.1111111111111111,
              "#46039f"
             ],
             [
              0.2222222222222222,
              "#7201a8"
             ],
             [
              0.3333333333333333,
              "#9c179e"
             ],
             [
              0.4444444444444444,
              "#bd3786"
             ],
             [
              0.5555555555555556,
              "#d8576b"
             ],
             [
              0.6666666666666666,
              "#ed7953"
             ],
             [
              0.7777777777777778,
              "#fb9f3a"
             ],
             [
              0.8888888888888888,
              "#fdca26"
             ],
             [
              1.0,
              "#f0f921"
             ]
            ]
           }
          ],
          "heatmap": [
           {
            "type": "heatmap",
            "colorbar": {
             "outlinewidth": 0,
             "ticks": ""
            },
            "colorscale": [
             [
              0.0,
              "#0d0887"
             ],
             [
              0.1111111111111111,
              "#46039f"
             ],
             [
              0.2222222222222222,
              "#7201a8"
             ],
             [
              0.3333333333333333,
              "#9c179e"
             ],
             [
              0.4444444444444444,
              "#bd3786"
             ],
             [
              0.5555555555555556,
              "#d8576b"
             ],
             [
              0.6666666666666666,
              "#ed7953"
             ],
             [
              0.7777777777777778,
              "#fb9f3a"
             ],
             [
              0.8888888888888888,
              "#fdca26"
             ],
             [
              1.0,
              "#f0f921"
             ]
            ]
           }
          ],
          "heatmapgl": [
           {
            "type": "heatmapgl",
            "colorbar": {
             "outlinewidth": 0,
             "ticks": ""
            },
            "colorscale": [
             [
              0.0,
              "#0d0887"
             ],
             [
              0.1111111111111111,
              "#46039f"
             ],
             [
              0.2222222222222222,
              "#7201a8"
             ],
             [
              0.3333333333333333,
              "#9c179e"
             ],
             [
              0.4444444444444444,
              "#bd3786"
             ],
             [
              0.5555555555555556,
              "#d8576b"
             ],
             [
              0.6666666666666666,
              "#ed7953"
             ],
             [
              0.7777777777777778,
              "#fb9f3a"
             ],
             [
              0.8888888888888888,
              "#fdca26"
             ],
             [
              1.0,
              "#f0f921"
             ]
            ]
           }
          ],
          "contourcarpet": [
           {
            "type": "contourcarpet",
            "colorbar": {
             "outlinewidth": 0,
             "ticks": ""
            }
           }
          ],
          "contour": [
           {
            "type": "contour",
            "colorbar": {
             "outlinewidth": 0,
             "ticks": ""
            },
            "colorscale": [
             [
              0.0,
              "#0d0887"
             ],
             [
              0.1111111111111111,
              "#46039f"
             ],
             [
              0.2222222222222222,
              "#7201a8"
             ],
             [
              0.3333333333333333,
              "#9c179e"
             ],
             [
              0.4444444444444444,
              "#bd3786"
             ],
             [
              0.5555555555555556,
              "#d8576b"
             ],
             [
              0.6666666666666666,
              "#ed7953"
             ],
             [
              0.7777777777777778,
              "#fb9f3a"
             ],
             [
              0.8888888888888888,
              "#fdca26"
             ],
             [
              1.0,
              "#f0f921"
             ]
            ]
           }
          ],
          "surface": [
           {
            "type": "surface",
            "colorbar": {
             "outlinewidth": 0,
             "ticks": ""
            },
            "colorscale": [
             [
              0.0,
              "#0d0887"
             ],
             [
              0.1111111111111111,
              "#46039f"
             ],
             [
              0.2222222222222222,
              "#7201a8"
             ],
             [
              0.3333333333333333,
              "#9c179e"
             ],
             [
              0.4444444444444444,
              "#bd3786"
             ],
             [
              0.5555555555555556,
              "#d8576b"
             ],
             [
              0.6666666666666666,
              "#ed7953"
             ],
             [
              0.7777777777777778,
              "#fb9f3a"
             ],
             [
              0.8888888888888888,
              "#fdca26"
             ],
             [
              1.0,
              "#f0f921"
             ]
            ]
           }
          ],
          "mesh3d": [
           {
            "type": "mesh3d",
            "colorbar": {
             "outlinewidth": 0,
             "ticks": ""
            }
           }
          ],
          "scatter": [
           {
            "marker": {
             "line": {
              "color": "#283442"
             }
            },
            "type": "scatter"
           }
          ],
          "parcoords": [
           {
            "type": "parcoords",
            "line": {
             "colorbar": {
              "outlinewidth": 0,
              "ticks": ""
             }
            }
           }
          ],
          "scatterpolargl": [
           {
            "type": "scatterpolargl",
            "marker": {
             "colorbar": {
              "outlinewidth": 0,
              "ticks": ""
             }
            }
           }
          ],
          "bar": [
           {
            "error_x": {
             "color": "#f2f5fa"
            },
            "error_y": {
             "color": "#f2f5fa"
            },
            "marker": {
             "line": {
              "color": "rgb(17,17,17)",
              "width": 0.5
             },
             "pattern": {
              "fillmode": "overlay",
              "size": 10,
              "solidity": 0.2
             }
            },
            "type": "bar"
           }
          ],
          "scattergeo": [
           {
            "type": "scattergeo",
            "marker": {
             "colorbar": {
              "outlinewidth": 0,
              "ticks": ""
             }
            }
           }
          ],
          "scatterpolar": [
           {
            "type": "scatterpolar",
            "marker": {
             "colorbar": {
              "outlinewidth": 0,
              "ticks": ""
             }
            }
           }
          ],
          "histogram": [
           {
            "marker": {
             "pattern": {
              "fillmode": "overlay",
              "size": 10,
              "solidity": 0.2
             }
            },
            "type": "histogram"
           }
          ],
          "scattergl": [
           {
            "marker": {
             "line": {
              "color": "#283442"
             }
            },
            "type": "scattergl"
           }
          ],
          "scatter3d": [
           {
            "type": "scatter3d",
            "line": {
             "colorbar": {
              "outlinewidth": 0,
              "ticks": ""
             }
            },
            "marker": {
             "colorbar": {
              "outlinewidth": 0,
              "ticks": ""
             }
            }
           }
          ],
          "scattermapbox": [
           {
            "type": "scattermapbox",
            "marker": {
             "colorbar": {
              "outlinewidth": 0,
              "ticks": ""
             }
            }
           }
          ],
          "scatterternary": [
           {
            "type": "scatterternary",
            "marker": {
             "colorbar": {
              "outlinewidth": 0,
              "ticks": ""
             }
            }
           }
          ],
          "scattercarpet": [
           {
            "type": "scattercarpet",
            "marker": {
             "colorbar": {
              "outlinewidth": 0,
              "ticks": ""
             }
            }
           }
          ],
          "carpet": [
           {
            "aaxis": {
             "endlinecolor": "#A2B1C6",
             "gridcolor": "#506784",
             "linecolor": "#506784",
             "minorgridcolor": "#506784",
             "startlinecolor": "#A2B1C6"
            },
            "baxis": {
             "endlinecolor": "#A2B1C6",
             "gridcolor": "#506784",
             "linecolor": "#506784",
             "minorgridcolor": "#506784",
             "startlinecolor": "#A2B1C6"
            },
            "type": "carpet"
           }
          ],
          "table": [
           {
            "cells": {
             "fill": {
              "color": "#506784"
             },
             "line": {
              "color": "rgb(17,17,17)"
             }
            },
            "header": {
             "fill": {
              "color": "#2a3f5f"
             },
             "line": {
              "color": "rgb(17,17,17)"
             }
            },
            "type": "table"
           }
          ],
          "barpolar": [
           {
            "marker": {
             "line": {
              "color": "rgb(17,17,17)",
              "width": 0.5
             },
             "pattern": {
              "fillmode": "overlay",
              "size": 10,
              "solidity": 0.2
             }
            },
            "type": "barpolar"
           }
          ],
          "pie": [
           {
            "automargin": true,
            "type": "pie"
           }
          ]
         },
         "layout": {
          "autotypenumbers": "strict",
          "colorway": [
           "#636efa",
           "#EF553B",
           "#00cc96",
           "#ab63fa",
           "#FFA15A",
           "#19d3f3",
           "#FF6692",
           "#B6E880",
           "#FF97FF",
           "#FECB52"
          ],
          "font": {
           "color": "#f2f5fa"
          },
          "hovermode": "closest",
          "hoverlabel": {
           "align": "left"
          },
          "paper_bgcolor": "rgb(17,17,17)",
          "plot_bgcolor": "rgb(17,17,17)",
          "polar": {
           "bgcolor": "rgb(17,17,17)",
           "angularaxis": {
            "gridcolor": "#506784",
            "linecolor": "#506784",
            "ticks": ""
           },
           "radialaxis": {
            "gridcolor": "#506784",
            "linecolor": "#506784",
            "ticks": ""
           }
          },
          "ternary": {
           "bgcolor": "rgb(17,17,17)",
           "aaxis": {
            "gridcolor": "#506784",
            "linecolor": "#506784",
            "ticks": ""
           },
           "baxis": {
            "gridcolor": "#506784",
            "linecolor": "#506784",
            "ticks": ""
           },
           "caxis": {
            "gridcolor": "#506784",
            "linecolor": "#506784",
            "ticks": ""
           }
          },
          "coloraxis": {
           "colorbar": {
            "outlinewidth": 0,
            "ticks": ""
           }
          },
          "colorscale": {
           "sequential": [
            [
             0.0,
             "#0d0887"
            ],
            [
             0.1111111111111111,
             "#46039f"
            ],
            [
             0.2222222222222222,
             "#7201a8"
            ],
            [
             0.3333333333333333,
             "#9c179e"
            ],
            [
             0.4444444444444444,
             "#bd3786"
            ],
            [
             0.5555555555555556,
             "#d8576b"
            ],
            [
             0.6666666666666666,
             "#ed7953"
            ],
            [
             0.7777777777777778,
             "#fb9f3a"
            ],
            [
             0.8888888888888888,
             "#fdca26"
            ],
            [
             1.0,
             "#f0f921"
            ]
           ],
           "sequentialminus": [
            [
             0.0,
             "#0d0887"
            ],
            [
             0.1111111111111111,
             "#46039f"
            ],
            [
             0.2222222222222222,
             "#7201a8"
            ],
            [
             0.3333333333333333,
             "#9c179e"
            ],
            [
             0.4444444444444444,
             "#bd3786"
            ],
            [
             0.5555555555555556,
             "#d8576b"
            ],
            [
             0.6666666666666666,
             "#ed7953"
            ],
            [
             0.7777777777777778,
             "#fb9f3a"
            ],
            [
             0.8888888888888888,
             "#fdca26"
            ],
            [
             1.0,
             "#f0f921"
            ]
           ],
           "diverging": [
            [
             0,
             "#8e0152"
            ],
            [
             0.1,
             "#c51b7d"
            ],
            [
             0.2,
             "#de77ae"
            ],
            [
             0.3,
             "#f1b6da"
            ],
            [
             0.4,
             "#fde0ef"
            ],
            [
             0.5,
             "#f7f7f7"
            ],
            [
             0.6,
             "#e6f5d0"
            ],
            [
             0.7,
             "#b8e186"
            ],
            [
             0.8,
             "#7fbc41"
            ],
            [
             0.9,
             "#4d9221"
            ],
            [
             1,
             "#276419"
            ]
           ]
          },
          "xaxis": {
           "gridcolor": "#283442",
           "linecolor": "#506784",
           "ticks": "",
           "title": {
            "standoff": 15
           },
           "zerolinecolor": "#283442",
           "automargin": true,
           "zerolinewidth": 2
          },
          "yaxis": {
           "gridcolor": "#283442",
           "linecolor": "#506784",
           "ticks": "",
           "title": {
            "standoff": 15
           },
           "zerolinecolor": "#283442",
           "automargin": true,
           "zerolinewidth": 2
          },
          "scene": {
           "xaxis": {
            "backgroundcolor": "rgb(17,17,17)",
            "gridcolor": "#506784",
            "linecolor": "#506784",
            "showbackground": true,
            "ticks": "",
            "zerolinecolor": "#C8D4E3",
            "gridwidth": 2
           },
           "yaxis": {
            "backgroundcolor": "rgb(17,17,17)",
            "gridcolor": "#506784",
            "linecolor": "#506784",
            "showbackground": true,
            "ticks": "",
            "zerolinecolor": "#C8D4E3",
            "gridwidth": 2
           },
           "zaxis": {
            "backgroundcolor": "rgb(17,17,17)",
            "gridcolor": "#506784",
            "linecolor": "#506784",
            "showbackground": true,
            "ticks": "",
            "zerolinecolor": "#C8D4E3",
            "gridwidth": 2
           }
          },
          "shapedefaults": {
           "line": {
            "color": "#f2f5fa"
           }
          },
          "annotationdefaults": {
           "arrowcolor": "#f2f5fa",
           "arrowhead": 0,
           "arrowwidth": 1
          },
          "geo": {
           "bgcolor": "rgb(17,17,17)",
           "landcolor": "rgb(17,17,17)",
           "subunitcolor": "#506784",
           "showland": true,
           "showlakes": true,
           "lakecolor": "rgb(17,17,17)"
          },
          "title": {
           "x": 0.05
          },
          "updatemenudefaults": {
           "bgcolor": "#506784",
           "borderwidth": 0
          },
          "sliderdefaults": {
           "bgcolor": "#C8D4E3",
           "borderwidth": 1,
           "bordercolor": "rgb(17,17,17)",
           "tickwidth": 0
          },
          "mapbox": {
           "style": "dark"
          }
         }
        },
        "xaxis": {
         "anchor": "y",
         "domain": [
          0.0,
          1.0
         ],
         "title": {
          "text": "bin"
         }
        },
        "yaxis": {
         "anchor": "x",
         "domain": [
          0.0,
          1.0
         ],
         "title": {
          "text": "text"
         }
        },
        "legend": {
         "title": {
          "text": "labeled_hateful"
         },
         "tracegroupgap": 0
        },
        "margin": {
         "t": 60
        },
        "boxmode": "group"
       },
       "config": {
        "plotlyServerURL": "https://plot.ly"
       }
      },
      "text/html": "<div>                            <div id=\"30c4153b-4a30-42c9-a8f1-e7ea4eeaefef\" class=\"plotly-graph-div\" style=\"height:525px; width:100%;\"></div>            <script type=\"text/javascript\">                require([\"plotly\"], function(Plotly) {                    window.PLOTLYENV=window.PLOTLYENV || {};                                    if (document.getElementById(\"30c4153b-4a30-42c9-a8f1-e7ea4eeaefef\")) {                    Plotly.newPlot(                        \"30c4153b-4a30-42c9-a8f1-e7ea4eeaefef\",                        [{\"alignmentgroup\":\"True\",\"hovertemplate\":\"\\u003cb\\u003e%{hovertext}\\u003c\\u002fb\\u003e\\u003cbr\\u003e\\u003cbr\\u003elabeled_hateful=False\\u003cbr\\u003ebin=%{x}\\u003cbr\\u003etext=%{y}\\u003cextra\\u003e\\u003c\\u002fextra\\u003e\",\"hovertext\":[\"mistral-7b-instruct\",\"mixtral-8x7b-instruct\",\"pplx-70b-chat\",\"pplx-7b-chat\",\"mistral-7b-instruct\",\"mixtral-8x7b-instruct\",\"pplx-70b-chat\",\"pplx-7b-chat\",\"mistral-7b-instruct\",\"mixtral-8x7b-instruct\",\"pplx-70b-chat\",\"pplx-7b-chat\",\"mistral-7b-instruct\",\"mixtral-8x7b-instruct\",\"pplx-70b-chat\",\"pplx-7b-chat\",\"mistral-7b-instruct\",\"mixtral-8x7b-instruct\",\"pplx-70b-chat\",\"pplx-7b-chat\",\"mistral-7b-instruct\",\"mixtral-8x7b-instruct\",\"pplx-70b-chat\",\"pplx-7b-chat\",\"mistral-7b-instruct\",\"mixtral-8x7b-instruct\",\"pplx-70b-chat\",\"pplx-7b-chat\",\"mistral-7b-instruct\",\"mixtral-8x7b-instruct\",\"pplx-70b-chat\",\"pplx-7b-chat\",\"mistral-7b-instruct\",\"mixtral-8x7b-instruct\",\"pplx-70b-chat\",\"pplx-7b-chat\",\"mistral-7b-instruct\",\"mixtral-8x7b-instruct\",\"pplx-70b-chat\",\"pplx-7b-chat\",\"mistral-7b-instruct\",\"mixtral-8x7b-instruct\",\"pplx-70b-chat\",\"pplx-7b-chat\",\"mistral-7b-instruct\",\"mixtral-8x7b-instruct\",\"pplx-70b-chat\",\"pplx-7b-chat\",\"mistral-7b-instruct\",\"mixtral-8x7b-instruct\",\"pplx-70b-chat\",\"pplx-7b-chat\",\"mistral-7b-instruct\",\"mixtral-8x7b-instruct\",\"pplx-70b-chat\",\"pplx-7b-chat\",\"mistral-7b-instruct\",\"mixtral-8x7b-instruct\",\"pplx-70b-chat\",\"pplx-7b-chat\",\"mistral-7b-instruct\",\"mixtral-8x7b-instruct\",\"pplx-70b-chat\",\"pplx-7b-chat\",\"mistral-7b-instruct\",\"mixtral-8x7b-instruct\",\"pplx-70b-chat\",\"pplx-7b-chat\",\"mistral-7b-instruct\",\"mixtral-8x7b-instruct\",\"pplx-70b-chat\",\"pplx-7b-chat\",\"mistral-7b-instruct\",\"mixtral-8x7b-instruct\",\"pplx-70b-chat\",\"pplx-7b-chat\",\"mistral-7b-instruct\",\"mixtral-8x7b-instruct\",\"pplx-70b-chat\",\"pplx-7b-chat\"],\"legendgroup\":\"False\",\"marker\":{\"color\":\"#636efa\"},\"name\":\"False\",\"notched\":false,\"offsetgroup\":\"False\",\"orientation\":\"v\",\"showlegend\":true,\"x\":[\"(-0.001, 5.0]\",\"(-0.001, 5.0]\",\"(-0.001, 5.0]\",\"(-0.001, 5.0]\",\"(5.0, 10.0]\",\"(5.0, 10.0]\",\"(5.0, 10.0]\",\"(5.0, 10.0]\",\"(10.0, 15.0]\",\"(10.0, 15.0]\",\"(10.0, 15.0]\",\"(10.0, 15.0]\",\"(15.0, 20.0]\",\"(15.0, 20.0]\",\"(15.0, 20.0]\",\"(15.0, 20.0]\",\"(20.0, 25.0]\",\"(20.0, 25.0]\",\"(20.0, 25.0]\",\"(20.0, 25.0]\",\"(25.0, 30.0]\",\"(25.0, 30.0]\",\"(25.0, 30.0]\",\"(25.0, 30.0]\",\"(30.0, 35.0]\",\"(30.0, 35.0]\",\"(30.0, 35.0]\",\"(30.0, 35.0]\",\"(35.0, 40.0]\",\"(35.0, 40.0]\",\"(35.0, 40.0]\",\"(35.0, 40.0]\",\"(40.0, 45.0]\",\"(40.0, 45.0]\",\"(40.0, 45.0]\",\"(40.0, 45.0]\",\"(45.0, 50.0]\",\"(45.0, 50.0]\",\"(45.0, 50.0]\",\"(45.0, 50.0]\",\"(50.0, 55.0]\",\"(50.0, 55.0]\",\"(50.0, 55.0]\",\"(50.0, 55.0]\",\"(55.0, 60.0]\",\"(55.0, 60.0]\",\"(55.0, 60.0]\",\"(55.0, 60.0]\",\"(60.0, 65.0]\",\"(60.0, 65.0]\",\"(60.0, 65.0]\",\"(60.0, 65.0]\",\"(65.0, 70.0]\",\"(65.0, 70.0]\",\"(65.0, 70.0]\",\"(65.0, 70.0]\",\"(70.0, 75.0]\",\"(70.0, 75.0]\",\"(70.0, 75.0]\",\"(70.0, 75.0]\",\"(75.0, 80.0]\",\"(75.0, 80.0]\",\"(75.0, 80.0]\",\"(75.0, 80.0]\",\"(80.0, 85.0]\",\"(80.0, 85.0]\",\"(80.0, 85.0]\",\"(80.0, 85.0]\",\"(85.0, 90.0]\",\"(85.0, 90.0]\",\"(85.0, 90.0]\",\"(85.0, 90.0]\",\"(90.0, 95.0]\",\"(90.0, 95.0]\",\"(90.0, 95.0]\",\"(90.0, 95.0]\",\"(95.0, 100.0]\",\"(95.0, 100.0]\",\"(95.0, 100.0]\",\"(95.0, 100.0]\"],\"x0\":\" \",\"xaxis\":\"x\",\"y\":[553,100,48,59,177,50,3,12,36,49,2,11,74,58,5,5,18,14,2,12,82,7,7,12,22,15,5,8,59,13,6,2,5,13,144,19,28,14,2,3,4,0,1,5,24,24,2,2,7,5,0,0,20,34,0,4,2,7,0,2,27,6,1,2,6,1,0,1,12,15,0,0,7,0,0,1,12,1,0,1],\"y0\":\" \",\"yaxis\":\"y\",\"type\":\"box\"},{\"alignmentgroup\":\"True\",\"hovertemplate\":\"\\u003cb\\u003e%{hovertext}\\u003c\\u002fb\\u003e\\u003cbr\\u003e\\u003cbr\\u003elabeled_hateful=True\\u003cbr\\u003ebin=%{x}\\u003cbr\\u003etext=%{y}\\u003cextra\\u003e\\u003c\\u002fextra\\u003e\",\"hovertext\":[\"mistral-7b-instruct\",\"mixtral-8x7b-instruct\",\"pplx-70b-chat\",\"pplx-7b-chat\",\"mistral-7b-instruct\",\"mixtral-8x7b-instruct\",\"pplx-70b-chat\",\"pplx-7b-chat\",\"mistral-7b-instruct\",\"mixtral-8x7b-instruct\",\"pplx-70b-chat\",\"pplx-7b-chat\",\"mistral-7b-instruct\",\"mixtral-8x7b-instruct\",\"pplx-70b-chat\",\"pplx-7b-chat\",\"mistral-7b-instruct\",\"mixtral-8x7b-instruct\",\"pplx-70b-chat\",\"pplx-7b-chat\",\"mistral-7b-instruct\",\"mixtral-8x7b-instruct\",\"pplx-70b-chat\",\"pplx-7b-chat\",\"mistral-7b-instruct\",\"mixtral-8x7b-instruct\",\"pplx-70b-chat\",\"pplx-7b-chat\",\"mistral-7b-instruct\",\"mixtral-8x7b-instruct\",\"pplx-70b-chat\",\"pplx-7b-chat\",\"mistral-7b-instruct\",\"mixtral-8x7b-instruct\",\"pplx-70b-chat\",\"pplx-7b-chat\",\"mistral-7b-instruct\",\"mixtral-8x7b-instruct\",\"pplx-70b-chat\",\"pplx-7b-chat\",\"mistral-7b-instruct\",\"mixtral-8x7b-instruct\",\"pplx-70b-chat\",\"pplx-7b-chat\",\"mistral-7b-instruct\",\"mixtral-8x7b-instruct\",\"pplx-70b-chat\",\"pplx-7b-chat\",\"mistral-7b-instruct\",\"mixtral-8x7b-instruct\",\"pplx-70b-chat\",\"pplx-7b-chat\",\"mistral-7b-instruct\",\"mixtral-8x7b-instruct\",\"pplx-70b-chat\",\"pplx-7b-chat\",\"mistral-7b-instruct\",\"mixtral-8x7b-instruct\",\"pplx-70b-chat\",\"pplx-7b-chat\",\"mistral-7b-instruct\",\"mixtral-8x7b-instruct\",\"pplx-70b-chat\",\"pplx-7b-chat\",\"mistral-7b-instruct\",\"mixtral-8x7b-instruct\",\"pplx-70b-chat\",\"pplx-7b-chat\",\"mistral-7b-instruct\",\"mixtral-8x7b-instruct\",\"pplx-70b-chat\",\"pplx-7b-chat\",\"mistral-7b-instruct\",\"mixtral-8x7b-instruct\",\"pplx-70b-chat\",\"pplx-7b-chat\",\"mistral-7b-instruct\",\"mixtral-8x7b-instruct\",\"pplx-70b-chat\",\"pplx-7b-chat\"],\"legendgroup\":\"True\",\"marker\":{\"color\":\"#EF553B\"},\"name\":\"True\",\"notched\":false,\"offsetgroup\":\"True\",\"orientation\":\"v\",\"showlegend\":true,\"x\":[\"(-0.001, 5.0]\",\"(-0.001, 5.0]\",\"(-0.001, 5.0]\",\"(-0.001, 5.0]\",\"(5.0, 10.0]\",\"(5.0, 10.0]\",\"(5.0, 10.0]\",\"(5.0, 10.0]\",\"(10.0, 15.0]\",\"(10.0, 15.0]\",\"(10.0, 15.0]\",\"(10.0, 15.0]\",\"(15.0, 20.0]\",\"(15.0, 20.0]\",\"(15.0, 20.0]\",\"(15.0, 20.0]\",\"(20.0, 25.0]\",\"(20.0, 25.0]\",\"(20.0, 25.0]\",\"(20.0, 25.0]\",\"(25.0, 30.0]\",\"(25.0, 30.0]\",\"(25.0, 30.0]\",\"(25.0, 30.0]\",\"(30.0, 35.0]\",\"(30.0, 35.0]\",\"(30.0, 35.0]\",\"(30.0, 35.0]\",\"(35.0, 40.0]\",\"(35.0, 40.0]\",\"(35.0, 40.0]\",\"(35.0, 40.0]\",\"(40.0, 45.0]\",\"(40.0, 45.0]\",\"(40.0, 45.0]\",\"(40.0, 45.0]\",\"(45.0, 50.0]\",\"(45.0, 50.0]\",\"(45.0, 50.0]\",\"(45.0, 50.0]\",\"(50.0, 55.0]\",\"(50.0, 55.0]\",\"(50.0, 55.0]\",\"(50.0, 55.0]\",\"(55.0, 60.0]\",\"(55.0, 60.0]\",\"(55.0, 60.0]\",\"(55.0, 60.0]\",\"(60.0, 65.0]\",\"(60.0, 65.0]\",\"(60.0, 65.0]\",\"(60.0, 65.0]\",\"(65.0, 70.0]\",\"(65.0, 70.0]\",\"(65.0, 70.0]\",\"(65.0, 70.0]\",\"(70.0, 75.0]\",\"(70.0, 75.0]\",\"(70.0, 75.0]\",\"(70.0, 75.0]\",\"(75.0, 80.0]\",\"(75.0, 80.0]\",\"(75.0, 80.0]\",\"(75.0, 80.0]\",\"(80.0, 85.0]\",\"(80.0, 85.0]\",\"(80.0, 85.0]\",\"(80.0, 85.0]\",\"(85.0, 90.0]\",\"(85.0, 90.0]\",\"(85.0, 90.0]\",\"(85.0, 90.0]\",\"(90.0, 95.0]\",\"(90.0, 95.0]\",\"(90.0, 95.0]\",\"(90.0, 95.0]\",\"(95.0, 100.0]\",\"(95.0, 100.0]\",\"(95.0, 100.0]\",\"(95.0, 100.0]\"],\"x0\":\" \",\"xaxis\":\"x\",\"y\":[82,9,5,11,105,10,2,2,27,16,1,2,70,54,4,7,26,5,2,14,85,16,11,13,16,7,2,10,71,15,17,7,9,15,166,28,56,19,14,19,15,2,1,9,47,38,9,13,31,13,1,7,50,82,1,7,20,23,1,4,127,30,0,10,44,14,0,9,117,51,1,8,39,7,0,4,122,2,0,11],\"y0\":\" \",\"yaxis\":\"y\",\"type\":\"box\"}],                        {\"template\":{\"data\":{\"histogram2dcontour\":[{\"type\":\"histogram2dcontour\",\"colorbar\":{\"outlinewidth\":0,\"ticks\":\"\"},\"colorscale\":[[0.0,\"#0d0887\"],[0.1111111111111111,\"#46039f\"],[0.2222222222222222,\"#7201a8\"],[0.3333333333333333,\"#9c179e\"],[0.4444444444444444,\"#bd3786\"],[0.5555555555555556,\"#d8576b\"],[0.6666666666666666,\"#ed7953\"],[0.7777777777777778,\"#fb9f3a\"],[0.8888888888888888,\"#fdca26\"],[1.0,\"#f0f921\"]]}],\"choropleth\":[{\"type\":\"choropleth\",\"colorbar\":{\"outlinewidth\":0,\"ticks\":\"\"}}],\"histogram2d\":[{\"type\":\"histogram2d\",\"colorbar\":{\"outlinewidth\":0,\"ticks\":\"\"},\"colorscale\":[[0.0,\"#0d0887\"],[0.1111111111111111,\"#46039f\"],[0.2222222222222222,\"#7201a8\"],[0.3333333333333333,\"#9c179e\"],[0.4444444444444444,\"#bd3786\"],[0.5555555555555556,\"#d8576b\"],[0.6666666666666666,\"#ed7953\"],[0.7777777777777778,\"#fb9f3a\"],[0.8888888888888888,\"#fdca26\"],[1.0,\"#f0f921\"]]}],\"heatmap\":[{\"type\":\"heatmap\",\"colorbar\":{\"outlinewidth\":0,\"ticks\":\"\"},\"colorscale\":[[0.0,\"#0d0887\"],[0.1111111111111111,\"#46039f\"],[0.2222222222222222,\"#7201a8\"],[0.3333333333333333,\"#9c179e\"],[0.4444444444444444,\"#bd3786\"],[0.5555555555555556,\"#d8576b\"],[0.6666666666666666,\"#ed7953\"],[0.7777777777777778,\"#fb9f3a\"],[0.8888888888888888,\"#fdca26\"],[1.0,\"#f0f921\"]]}],\"heatmapgl\":[{\"type\":\"heatmapgl\",\"colorbar\":{\"outlinewidth\":0,\"ticks\":\"\"},\"colorscale\":[[0.0,\"#0d0887\"],[0.1111111111111111,\"#46039f\"],[0.2222222222222222,\"#7201a8\"],[0.3333333333333333,\"#9c179e\"],[0.4444444444444444,\"#bd3786\"],[0.5555555555555556,\"#d8576b\"],[0.6666666666666666,\"#ed7953\"],[0.7777777777777778,\"#fb9f3a\"],[0.8888888888888888,\"#fdca26\"],[1.0,\"#f0f921\"]]}],\"contourcarpet\":[{\"type\":\"contourcarpet\",\"colorbar\":{\"outlinewidth\":0,\"ticks\":\"\"}}],\"contour\":[{\"type\":\"contour\",\"colorbar\":{\"outlinewidth\":0,\"ticks\":\"\"},\"colorscale\":[[0.0,\"#0d0887\"],[0.1111111111111111,\"#46039f\"],[0.2222222222222222,\"#7201a8\"],[0.3333333333333333,\"#9c179e\"],[0.4444444444444444,\"#bd3786\"],[0.5555555555555556,\"#d8576b\"],[0.6666666666666666,\"#ed7953\"],[0.7777777777777778,\"#fb9f3a\"],[0.8888888888888888,\"#fdca26\"],[1.0,\"#f0f921\"]]}],\"surface\":[{\"type\":\"surface\",\"colorbar\":{\"outlinewidth\":0,\"ticks\":\"\"},\"colorscale\":[[0.0,\"#0d0887\"],[0.1111111111111111,\"#46039f\"],[0.2222222222222222,\"#7201a8\"],[0.3333333333333333,\"#9c179e\"],[0.4444444444444444,\"#bd3786\"],[0.5555555555555556,\"#d8576b\"],[0.6666666666666666,\"#ed7953\"],[0.7777777777777778,\"#fb9f3a\"],[0.8888888888888888,\"#fdca26\"],[1.0,\"#f0f921\"]]}],\"mesh3d\":[{\"type\":\"mesh3d\",\"colorbar\":{\"outlinewidth\":0,\"ticks\":\"\"}}],\"scatter\":[{\"marker\":{\"line\":{\"color\":\"#283442\"}},\"type\":\"scatter\"}],\"parcoords\":[{\"type\":\"parcoords\",\"line\":{\"colorbar\":{\"outlinewidth\":0,\"ticks\":\"\"}}}],\"scatterpolargl\":[{\"type\":\"scatterpolargl\",\"marker\":{\"colorbar\":{\"outlinewidth\":0,\"ticks\":\"\"}}}],\"bar\":[{\"error_x\":{\"color\":\"#f2f5fa\"},\"error_y\":{\"color\":\"#f2f5fa\"},\"marker\":{\"line\":{\"color\":\"rgb(17,17,17)\",\"width\":0.5},\"pattern\":{\"fillmode\":\"overlay\",\"size\":10,\"solidity\":0.2}},\"type\":\"bar\"}],\"scattergeo\":[{\"type\":\"scattergeo\",\"marker\":{\"colorbar\":{\"outlinewidth\":0,\"ticks\":\"\"}}}],\"scatterpolar\":[{\"type\":\"scatterpolar\",\"marker\":{\"colorbar\":{\"outlinewidth\":0,\"ticks\":\"\"}}}],\"histogram\":[{\"marker\":{\"pattern\":{\"fillmode\":\"overlay\",\"size\":10,\"solidity\":0.2}},\"type\":\"histogram\"}],\"scattergl\":[{\"marker\":{\"line\":{\"color\":\"#283442\"}},\"type\":\"scattergl\"}],\"scatter3d\":[{\"type\":\"scatter3d\",\"line\":{\"colorbar\":{\"outlinewidth\":0,\"ticks\":\"\"}},\"marker\":{\"colorbar\":{\"outlinewidth\":0,\"ticks\":\"\"}}}],\"scattermapbox\":[{\"type\":\"scattermapbox\",\"marker\":{\"colorbar\":{\"outlinewidth\":0,\"ticks\":\"\"}}}],\"scatterternary\":[{\"type\":\"scatterternary\",\"marker\":{\"colorbar\":{\"outlinewidth\":0,\"ticks\":\"\"}}}],\"scattercarpet\":[{\"type\":\"scattercarpet\",\"marker\":{\"colorbar\":{\"outlinewidth\":0,\"ticks\":\"\"}}}],\"carpet\":[{\"aaxis\":{\"endlinecolor\":\"#A2B1C6\",\"gridcolor\":\"#506784\",\"linecolor\":\"#506784\",\"minorgridcolor\":\"#506784\",\"startlinecolor\":\"#A2B1C6\"},\"baxis\":{\"endlinecolor\":\"#A2B1C6\",\"gridcolor\":\"#506784\",\"linecolor\":\"#506784\",\"minorgridcolor\":\"#506784\",\"startlinecolor\":\"#A2B1C6\"},\"type\":\"carpet\"}],\"table\":[{\"cells\":{\"fill\":{\"color\":\"#506784\"},\"line\":{\"color\":\"rgb(17,17,17)\"}},\"header\":{\"fill\":{\"color\":\"#2a3f5f\"},\"line\":{\"color\":\"rgb(17,17,17)\"}},\"type\":\"table\"}],\"barpolar\":[{\"marker\":{\"line\":{\"color\":\"rgb(17,17,17)\",\"width\":0.5},\"pattern\":{\"fillmode\":\"overlay\",\"size\":10,\"solidity\":0.2}},\"type\":\"barpolar\"}],\"pie\":[{\"automargin\":true,\"type\":\"pie\"}]},\"layout\":{\"autotypenumbers\":\"strict\",\"colorway\":[\"#636efa\",\"#EF553B\",\"#00cc96\",\"#ab63fa\",\"#FFA15A\",\"#19d3f3\",\"#FF6692\",\"#B6E880\",\"#FF97FF\",\"#FECB52\"],\"font\":{\"color\":\"#f2f5fa\"},\"hovermode\":\"closest\",\"hoverlabel\":{\"align\":\"left\"},\"paper_bgcolor\":\"rgb(17,17,17)\",\"plot_bgcolor\":\"rgb(17,17,17)\",\"polar\":{\"bgcolor\":\"rgb(17,17,17)\",\"angularaxis\":{\"gridcolor\":\"#506784\",\"linecolor\":\"#506784\",\"ticks\":\"\"},\"radialaxis\":{\"gridcolor\":\"#506784\",\"linecolor\":\"#506784\",\"ticks\":\"\"}},\"ternary\":{\"bgcolor\":\"rgb(17,17,17)\",\"aaxis\":{\"gridcolor\":\"#506784\",\"linecolor\":\"#506784\",\"ticks\":\"\"},\"baxis\":{\"gridcolor\":\"#506784\",\"linecolor\":\"#506784\",\"ticks\":\"\"},\"caxis\":{\"gridcolor\":\"#506784\",\"linecolor\":\"#506784\",\"ticks\":\"\"}},\"coloraxis\":{\"colorbar\":{\"outlinewidth\":0,\"ticks\":\"\"}},\"colorscale\":{\"sequential\":[[0.0,\"#0d0887\"],[0.1111111111111111,\"#46039f\"],[0.2222222222222222,\"#7201a8\"],[0.3333333333333333,\"#9c179e\"],[0.4444444444444444,\"#bd3786\"],[0.5555555555555556,\"#d8576b\"],[0.6666666666666666,\"#ed7953\"],[0.7777777777777778,\"#fb9f3a\"],[0.8888888888888888,\"#fdca26\"],[1.0,\"#f0f921\"]],\"sequentialminus\":[[0.0,\"#0d0887\"],[0.1111111111111111,\"#46039f\"],[0.2222222222222222,\"#7201a8\"],[0.3333333333333333,\"#9c179e\"],[0.4444444444444444,\"#bd3786\"],[0.5555555555555556,\"#d8576b\"],[0.6666666666666666,\"#ed7953\"],[0.7777777777777778,\"#fb9f3a\"],[0.8888888888888888,\"#fdca26\"],[1.0,\"#f0f921\"]],\"diverging\":[[0,\"#8e0152\"],[0.1,\"#c51b7d\"],[0.2,\"#de77ae\"],[0.3,\"#f1b6da\"],[0.4,\"#fde0ef\"],[0.5,\"#f7f7f7\"],[0.6,\"#e6f5d0\"],[0.7,\"#b8e186\"],[0.8,\"#7fbc41\"],[0.9,\"#4d9221\"],[1,\"#276419\"]]},\"xaxis\":{\"gridcolor\":\"#283442\",\"linecolor\":\"#506784\",\"ticks\":\"\",\"title\":{\"standoff\":15},\"zerolinecolor\":\"#283442\",\"automargin\":true,\"zerolinewidth\":2},\"yaxis\":{\"gridcolor\":\"#283442\",\"linecolor\":\"#506784\",\"ticks\":\"\",\"title\":{\"standoff\":15},\"zerolinecolor\":\"#283442\",\"automargin\":true,\"zerolinewidth\":2},\"scene\":{\"xaxis\":{\"backgroundcolor\":\"rgb(17,17,17)\",\"gridcolor\":\"#506784\",\"linecolor\":\"#506784\",\"showbackground\":true,\"ticks\":\"\",\"zerolinecolor\":\"#C8D4E3\",\"gridwidth\":2},\"yaxis\":{\"backgroundcolor\":\"rgb(17,17,17)\",\"gridcolor\":\"#506784\",\"linecolor\":\"#506784\",\"showbackground\":true,\"ticks\":\"\",\"zerolinecolor\":\"#C8D4E3\",\"gridwidth\":2},\"zaxis\":{\"backgroundcolor\":\"rgb(17,17,17)\",\"gridcolor\":\"#506784\",\"linecolor\":\"#506784\",\"showbackground\":true,\"ticks\":\"\",\"zerolinecolor\":\"#C8D4E3\",\"gridwidth\":2}},\"shapedefaults\":{\"line\":{\"color\":\"#f2f5fa\"}},\"annotationdefaults\":{\"arrowcolor\":\"#f2f5fa\",\"arrowhead\":0,\"arrowwidth\":1},\"geo\":{\"bgcolor\":\"rgb(17,17,17)\",\"landcolor\":\"rgb(17,17,17)\",\"subunitcolor\":\"#506784\",\"showland\":true,\"showlakes\":true,\"lakecolor\":\"rgb(17,17,17)\"},\"title\":{\"x\":0.05},\"updatemenudefaults\":{\"bgcolor\":\"#506784\",\"borderwidth\":0},\"sliderdefaults\":{\"bgcolor\":\"#C8D4E3\",\"borderwidth\":1,\"bordercolor\":\"rgb(17,17,17)\",\"tickwidth\":0},\"mapbox\":{\"style\":\"dark\"}}},\"xaxis\":{\"anchor\":\"y\",\"domain\":[0.0,1.0],\"title\":{\"text\":\"bin\"}},\"yaxis\":{\"anchor\":\"x\",\"domain\":[0.0,1.0],\"title\":{\"text\":\"text\"}},\"legend\":{\"title\":{\"text\":\"labeled_hateful\"},\"tracegroupgap\":0},\"margin\":{\"t\":60},\"boxmode\":\"group\"},                        {\"responsive\": true}                    ).then(function(){\n                            \nvar gd = document.getElementById('30c4153b-4a30-42c9-a8f1-e7ea4eeaefef');\nvar x = new MutationObserver(function (mutations, observer) {{\n        var display = window.getComputedStyle(gd).display;\n        if (!display || display === 'none') {{\n            console.log([gd, 'removed!']);\n            Plotly.purge(gd);\n            observer.disconnect();\n        }}\n}});\n\n// Listen for the removal of the full notebook cells\nvar notebookContainer = gd.closest('#notebook-container');\nif (notebookContainer) {{\n    x.observe(notebookContainer, {childList: true});\n}}\n\n// Listen for the clearing of the current output cell\nvar outputEl = gd.closest('.output');\nif (outputEl) {{\n    x.observe(outputEl, {childList: true});\n}}\n\n                        })                };                });            </script>        </div>"
     },
     "metadata": {},
     "output_type": "display_data"
    }
   ],
   "source": [
    "import numpy as np\n",
    "import plotly.express as px\n",
    "df[\"bin\"] = pd.cut(df['hate_speech_probability']*100, bins=np.arange(0, 105, 5),include_lowest=True)\n",
    "df['bin'] = df[\"bin\"].apply(lambda bin: str(bin))\n",
    "\n",
    "df_grouped = df.groupby([\"bin\", \"model\", \"labeled_hateful\"]).count().reset_index()\n",
    "fig = px.box(df_grouped, x=\"bin\", y=\"text\", color=\"labeled_hateful\", hover_name=\"model\")\n",
    "fig.show()"
   ]
  },
  {
   "cell_type": "code",
   "execution_count": 38,
   "metadata": {
    "collapsed": false,
    "ExecuteTime": {
     "end_time": "2024-01-10T15:50:27.156154558Z",
     "start_time": "2024-01-10T15:50:27.061889468Z"
    }
   },
   "outputs": [
    {
     "name": "stderr",
     "output_type": "stream",
     "text": [
      "/tmp/ipykernel_645416/765095464.py:7: FutureWarning:\n",
      "\n",
      "The default of observed=False is deprecated and will be changed to True in a future version of pandas. Pass observed=False to retain current behavior or observed=True to adopt the future default and silence this warning.\n",
      "\n"
     ]
    },
    {
     "data": {
      "application/vnd.plotly.v1+json": {
       "data": [
        {
         "customdata": [
          [
           0
          ],
          [
           1
          ],
          [
           2
          ],
          [
           3
          ],
          [
           4
          ],
          [
           0
          ],
          [
           1
          ],
          [
           2
          ],
          [
           3
          ],
          [
           4
          ],
          [
           0
          ],
          [
           1
          ],
          [
           2
          ],
          [
           3
          ],
          [
           4
          ],
          [
           0
          ],
          [
           1
          ],
          [
           2
          ],
          [
           3
          ],
          [
           4
          ],
          [
           0
          ],
          [
           1
          ],
          [
           2
          ],
          [
           3
          ],
          [
           4
          ],
          [
           0
          ],
          [
           1
          ],
          [
           2
          ],
          [
           3
          ],
          [
           4
          ],
          [
           0
          ],
          [
           1
          ],
          [
           2
          ],
          [
           3
          ],
          [
           4
          ],
          [
           0
          ],
          [
           1
          ],
          [
           2
          ],
          [
           3
          ],
          [
           4
          ],
          [
           0
          ],
          [
           1
          ],
          [
           2
          ],
          [
           3
          ],
          [
           4
          ],
          [
           0
          ],
          [
           1
          ],
          [
           2
          ],
          [
           3
          ],
          [
           4
          ]
         ],
         "hovertemplate": "<b>%{hovertext}</b><br><br>model=mistral-7b-instruct<br>bin=%{x}<br>text=%{y}<br>prompt_id=%{customdata[0]}<extra></extra>",
         "hovertext": [
          "mistral-7b-instruct",
          "mistral-7b-instruct",
          "mistral-7b-instruct",
          "mistral-7b-instruct",
          "mistral-7b-instruct",
          "mistral-7b-instruct",
          "mistral-7b-instruct",
          "mistral-7b-instruct",
          "mistral-7b-instruct",
          "mistral-7b-instruct",
          "mistral-7b-instruct",
          "mistral-7b-instruct",
          "mistral-7b-instruct",
          "mistral-7b-instruct",
          "mistral-7b-instruct",
          "mistral-7b-instruct",
          "mistral-7b-instruct",
          "mistral-7b-instruct",
          "mistral-7b-instruct",
          "mistral-7b-instruct",
          "mistral-7b-instruct",
          "mistral-7b-instruct",
          "mistral-7b-instruct",
          "mistral-7b-instruct",
          "mistral-7b-instruct",
          "mistral-7b-instruct",
          "mistral-7b-instruct",
          "mistral-7b-instruct",
          "mistral-7b-instruct",
          "mistral-7b-instruct",
          "mistral-7b-instruct",
          "mistral-7b-instruct",
          "mistral-7b-instruct",
          "mistral-7b-instruct",
          "mistral-7b-instruct",
          "mistral-7b-instruct",
          "mistral-7b-instruct",
          "mistral-7b-instruct",
          "mistral-7b-instruct",
          "mistral-7b-instruct",
          "mistral-7b-instruct",
          "mistral-7b-instruct",
          "mistral-7b-instruct",
          "mistral-7b-instruct",
          "mistral-7b-instruct",
          "mistral-7b-instruct",
          "mistral-7b-instruct",
          "mistral-7b-instruct",
          "mistral-7b-instruct",
          "mistral-7b-instruct"
         ],
         "legendgroup": "mistral-7b-instruct",
         "marker": {
          "color": "#636efa",
          "symbol": "circle"
         },
         "mode": "markers",
         "name": "mistral-7b-instruct",
         "orientation": "v",
         "showlegend": true,
         "x": [
          "(-0.001, 10.0]",
          "(-0.001, 10.0]",
          "(-0.001, 10.0]",
          "(-0.001, 10.0]",
          "(-0.001, 10.0]",
          "(10.0, 20.0]",
          "(10.0, 20.0]",
          "(10.0, 20.0]",
          "(10.0, 20.0]",
          "(10.0, 20.0]",
          "(20.0, 30.0]",
          "(20.0, 30.0]",
          "(20.0, 30.0]",
          "(20.0, 30.0]",
          "(20.0, 30.0]",
          "(30.0, 40.0]",
          "(30.0, 40.0]",
          "(30.0, 40.0]",
          "(30.0, 40.0]",
          "(30.0, 40.0]",
          "(40.0, 50.0]",
          "(40.0, 50.0]",
          "(40.0, 50.0]",
          "(40.0, 50.0]",
          "(40.0, 50.0]",
          "(50.0, 60.0]",
          "(50.0, 60.0]",
          "(50.0, 60.0]",
          "(50.0, 60.0]",
          "(50.0, 60.0]",
          "(60.0, 70.0]",
          "(60.0, 70.0]",
          "(60.0, 70.0]",
          "(60.0, 70.0]",
          "(60.0, 70.0]",
          "(70.0, 80.0]",
          "(70.0, 80.0]",
          "(70.0, 80.0]",
          "(70.0, 80.0]",
          "(70.0, 80.0]",
          "(80.0, 90.0]",
          "(80.0, 90.0]",
          "(80.0, 90.0]",
          "(80.0, 90.0]",
          "(80.0, 90.0]",
          "(90.0, 100.0]",
          "(90.0, 100.0]",
          "(90.0, 100.0]",
          "(90.0, 100.0]",
          "(90.0, 100.0]"
         ],
         "xaxis": "x",
         "y": [
          174,
          121,
          142,
          125,
          168,
          20,
          25,
          30,
          19,
          16,
          8,
          30,
          12,
          33,
          17,
          11,
          26,
          16,
          22,
          6,
          3,
          12,
          4,
          9,
          5,
          8,
          3,
          8,
          5,
          4,
          4,
          7,
          6,
          6,
          4,
          3,
          7,
          4,
          9,
          6,
          2,
          1,
          7,
          3,
          5,
          5,
          2,
          4,
          4,
          4
         ],
         "yaxis": "y",
         "type": "scatter"
        },
        {
         "customdata": [
          [
           0
          ],
          [
           1
          ],
          [
           2
          ],
          [
           3
          ],
          [
           4
          ],
          [
           0
          ],
          [
           1
          ],
          [
           2
          ],
          [
           3
          ],
          [
           4
          ],
          [
           0
          ],
          [
           1
          ],
          [
           2
          ],
          [
           3
          ],
          [
           4
          ],
          [
           0
          ],
          [
           1
          ],
          [
           2
          ],
          [
           3
          ],
          [
           4
          ],
          [
           0
          ],
          [
           1
          ],
          [
           2
          ],
          [
           3
          ],
          [
           4
          ],
          [
           0
          ],
          [
           1
          ],
          [
           2
          ],
          [
           3
          ],
          [
           4
          ],
          [
           0
          ],
          [
           1
          ],
          [
           2
          ],
          [
           3
          ],
          [
           4
          ],
          [
           0
          ],
          [
           1
          ],
          [
           2
          ],
          [
           3
          ],
          [
           4
          ],
          [
           0
          ],
          [
           1
          ],
          [
           2
          ],
          [
           3
          ],
          [
           4
          ],
          [
           0
          ],
          [
           1
          ],
          [
           2
          ],
          [
           3
          ],
          [
           4
          ]
         ],
         "hovertemplate": "<b>%{hovertext}</b><br><br>model=mixtral-8x7b-instruct<br>bin=%{x}<br>text=%{y}<br>prompt_id=%{customdata[0]}<extra></extra>",
         "hovertext": [
          "mixtral-8x7b-instruct",
          "mixtral-8x7b-instruct",
          "mixtral-8x7b-instruct",
          "mixtral-8x7b-instruct",
          "mixtral-8x7b-instruct",
          "mixtral-8x7b-instruct",
          "mixtral-8x7b-instruct",
          "mixtral-8x7b-instruct",
          "mixtral-8x7b-instruct",
          "mixtral-8x7b-instruct",
          "mixtral-8x7b-instruct",
          "mixtral-8x7b-instruct",
          "mixtral-8x7b-instruct",
          "mixtral-8x7b-instruct",
          "mixtral-8x7b-instruct",
          "mixtral-8x7b-instruct",
          "mixtral-8x7b-instruct",
          "mixtral-8x7b-instruct",
          "mixtral-8x7b-instruct",
          "mixtral-8x7b-instruct",
          "mixtral-8x7b-instruct",
          "mixtral-8x7b-instruct",
          "mixtral-8x7b-instruct",
          "mixtral-8x7b-instruct",
          "mixtral-8x7b-instruct",
          "mixtral-8x7b-instruct",
          "mixtral-8x7b-instruct",
          "mixtral-8x7b-instruct",
          "mixtral-8x7b-instruct",
          "mixtral-8x7b-instruct",
          "mixtral-8x7b-instruct",
          "mixtral-8x7b-instruct",
          "mixtral-8x7b-instruct",
          "mixtral-8x7b-instruct",
          "mixtral-8x7b-instruct",
          "mixtral-8x7b-instruct",
          "mixtral-8x7b-instruct",
          "mixtral-8x7b-instruct",
          "mixtral-8x7b-instruct",
          "mixtral-8x7b-instruct",
          "mixtral-8x7b-instruct",
          "mixtral-8x7b-instruct",
          "mixtral-8x7b-instruct",
          "mixtral-8x7b-instruct",
          "mixtral-8x7b-instruct",
          "mixtral-8x7b-instruct",
          "mixtral-8x7b-instruct",
          "mixtral-8x7b-instruct",
          "mixtral-8x7b-instruct",
          "mixtral-8x7b-instruct"
         ],
         "legendgroup": "mixtral-8x7b-instruct",
         "marker": {
          "color": "#EF553B",
          "symbol": "circle"
         },
         "mode": "markers",
         "name": "mixtral-8x7b-instruct",
         "orientation": "v",
         "showlegend": true,
         "x": [
          "(-0.001, 10.0]",
          "(-0.001, 10.0]",
          "(-0.001, 10.0]",
          "(-0.001, 10.0]",
          "(-0.001, 10.0]",
          "(10.0, 20.0]",
          "(10.0, 20.0]",
          "(10.0, 20.0]",
          "(10.0, 20.0]",
          "(10.0, 20.0]",
          "(20.0, 30.0]",
          "(20.0, 30.0]",
          "(20.0, 30.0]",
          "(20.0, 30.0]",
          "(20.0, 30.0]",
          "(30.0, 40.0]",
          "(30.0, 40.0]",
          "(30.0, 40.0]",
          "(30.0, 40.0]",
          "(30.0, 40.0]",
          "(40.0, 50.0]",
          "(40.0, 50.0]",
          "(40.0, 50.0]",
          "(40.0, 50.0]",
          "(40.0, 50.0]",
          "(50.0, 60.0]",
          "(50.0, 60.0]",
          "(50.0, 60.0]",
          "(50.0, 60.0]",
          "(50.0, 60.0]",
          "(60.0, 70.0]",
          "(60.0, 70.0]",
          "(60.0, 70.0]",
          "(60.0, 70.0]",
          "(60.0, 70.0]",
          "(70.0, 80.0]",
          "(70.0, 80.0]",
          "(70.0, 80.0]",
          "(70.0, 80.0]",
          "(70.0, 80.0]",
          "(80.0, 90.0]",
          "(80.0, 90.0]",
          "(80.0, 90.0]",
          "(80.0, 90.0]",
          "(80.0, 90.0]",
          "(90.0, 100.0]",
          "(90.0, 100.0]",
          "(90.0, 100.0]",
          "(90.0, 100.0]",
          "(90.0, 100.0]"
         ],
         "xaxis": "x",
         "y": [
          111,
          39,
          0,
          0,
          0,
          25,
          82,
          0,
          0,
          0,
          13,
          8,
          0,
          0,
          0,
          10,
          18,
          0,
          0,
          0,
          19,
          8,
          0,
          0,
          0,
          12,
          12,
          0,
          0,
          0,
          7,
          32,
          0,
          0,
          0,
          5,
          8,
          0,
          0,
          0,
          8,
          8,
          0,
          0,
          0,
          0,
          1,
          0,
          0,
          0
         ],
         "yaxis": "y",
         "type": "scatter"
        },
        {
         "customdata": [
          [
           0
          ],
          [
           1
          ],
          [
           2
          ],
          [
           3
          ],
          [
           4
          ],
          [
           0
          ],
          [
           1
          ],
          [
           2
          ],
          [
           3
          ],
          [
           4
          ],
          [
           0
          ],
          [
           1
          ],
          [
           2
          ],
          [
           3
          ],
          [
           4
          ],
          [
           0
          ],
          [
           1
          ],
          [
           2
          ],
          [
           3
          ],
          [
           4
          ],
          [
           0
          ],
          [
           1
          ],
          [
           2
          ],
          [
           3
          ],
          [
           4
          ],
          [
           0
          ],
          [
           1
          ],
          [
           2
          ],
          [
           3
          ],
          [
           4
          ],
          [
           0
          ],
          [
           1
          ],
          [
           2
          ],
          [
           3
          ],
          [
           4
          ],
          [
           0
          ],
          [
           1
          ],
          [
           2
          ],
          [
           3
          ],
          [
           4
          ],
          [
           0
          ],
          [
           1
          ],
          [
           2
          ],
          [
           3
          ],
          [
           4
          ],
          [
           0
          ],
          [
           1
          ],
          [
           2
          ],
          [
           3
          ],
          [
           4
          ]
         ],
         "hovertemplate": "<b>%{hovertext}</b><br><br>model=pplx-70b-chat<br>bin=%{x}<br>text=%{y}<br>prompt_id=%{customdata[0]}<extra></extra>",
         "hovertext": [
          "pplx-70b-chat",
          "pplx-70b-chat",
          "pplx-70b-chat",
          "pplx-70b-chat",
          "pplx-70b-chat",
          "pplx-70b-chat",
          "pplx-70b-chat",
          "pplx-70b-chat",
          "pplx-70b-chat",
          "pplx-70b-chat",
          "pplx-70b-chat",
          "pplx-70b-chat",
          "pplx-70b-chat",
          "pplx-70b-chat",
          "pplx-70b-chat",
          "pplx-70b-chat",
          "pplx-70b-chat",
          "pplx-70b-chat",
          "pplx-70b-chat",
          "pplx-70b-chat",
          "pplx-70b-chat",
          "pplx-70b-chat",
          "pplx-70b-chat",
          "pplx-70b-chat",
          "pplx-70b-chat",
          "pplx-70b-chat",
          "pplx-70b-chat",
          "pplx-70b-chat",
          "pplx-70b-chat",
          "pplx-70b-chat",
          "pplx-70b-chat",
          "pplx-70b-chat",
          "pplx-70b-chat",
          "pplx-70b-chat",
          "pplx-70b-chat",
          "pplx-70b-chat",
          "pplx-70b-chat",
          "pplx-70b-chat",
          "pplx-70b-chat",
          "pplx-70b-chat",
          "pplx-70b-chat",
          "pplx-70b-chat",
          "pplx-70b-chat",
          "pplx-70b-chat",
          "pplx-70b-chat",
          "pplx-70b-chat",
          "pplx-70b-chat",
          "pplx-70b-chat",
          "pplx-70b-chat",
          "pplx-70b-chat"
         ],
         "legendgroup": "pplx-70b-chat",
         "marker": {
          "color": "#00cc96",
          "symbol": "circle"
         },
         "mode": "markers",
         "name": "pplx-70b-chat",
         "orientation": "v",
         "showlegend": true,
         "x": [
          "(-0.001, 10.0]",
          "(-0.001, 10.0]",
          "(-0.001, 10.0]",
          "(-0.001, 10.0]",
          "(-0.001, 10.0]",
          "(10.0, 20.0]",
          "(10.0, 20.0]",
          "(10.0, 20.0]",
          "(10.0, 20.0]",
          "(10.0, 20.0]",
          "(20.0, 30.0]",
          "(20.0, 30.0]",
          "(20.0, 30.0]",
          "(20.0, 30.0]",
          "(20.0, 30.0]",
          "(30.0, 40.0]",
          "(30.0, 40.0]",
          "(30.0, 40.0]",
          "(30.0, 40.0]",
          "(30.0, 40.0]",
          "(40.0, 50.0]",
          "(40.0, 50.0]",
          "(40.0, 50.0]",
          "(40.0, 50.0]",
          "(40.0, 50.0]",
          "(50.0, 60.0]",
          "(50.0, 60.0]",
          "(50.0, 60.0]",
          "(50.0, 60.0]",
          "(50.0, 60.0]",
          "(60.0, 70.0]",
          "(60.0, 70.0]",
          "(60.0, 70.0]",
          "(60.0, 70.0]",
          "(60.0, 70.0]",
          "(70.0, 80.0]",
          "(70.0, 80.0]",
          "(70.0, 80.0]",
          "(70.0, 80.0]",
          "(70.0, 80.0]",
          "(80.0, 90.0]",
          "(80.0, 90.0]",
          "(80.0, 90.0]",
          "(80.0, 90.0]",
          "(80.0, 90.0]",
          "(90.0, 100.0]",
          "(90.0, 100.0]",
          "(90.0, 100.0]",
          "(90.0, 100.0]",
          "(90.0, 100.0]"
         ],
         "xaxis": "x",
         "y": [
          51,
          0,
          0,
          0,
          0,
          7,
          0,
          0,
          0,
          0,
          9,
          0,
          0,
          0,
          0,
          11,
          0,
          0,
          0,
          0,
          146,
          0,
          0,
          0,
          0,
          3,
          0,
          0,
          0,
          0,
          0,
          0,
          0,
          0,
          0,
          1,
          0,
          0,
          0,
          0,
          0,
          0,
          0,
          0,
          0,
          0,
          0,
          0,
          0,
          0
         ],
         "yaxis": "y",
         "type": "scatter"
        },
        {
         "customdata": [
          [
           0
          ],
          [
           1
          ],
          [
           2
          ],
          [
           3
          ],
          [
           4
          ],
          [
           0
          ],
          [
           1
          ],
          [
           2
          ],
          [
           3
          ],
          [
           4
          ],
          [
           0
          ],
          [
           1
          ],
          [
           2
          ],
          [
           3
          ],
          [
           4
          ],
          [
           0
          ],
          [
           1
          ],
          [
           2
          ],
          [
           3
          ],
          [
           4
          ],
          [
           0
          ],
          [
           1
          ],
          [
           2
          ],
          [
           3
          ],
          [
           4
          ],
          [
           0
          ],
          [
           1
          ],
          [
           2
          ],
          [
           3
          ],
          [
           4
          ],
          [
           0
          ],
          [
           1
          ],
          [
           2
          ],
          [
           3
          ],
          [
           4
          ],
          [
           0
          ],
          [
           1
          ],
          [
           2
          ],
          [
           3
          ],
          [
           4
          ],
          [
           0
          ],
          [
           1
          ],
          [
           2
          ],
          [
           3
          ],
          [
           4
          ],
          [
           0
          ],
          [
           1
          ],
          [
           2
          ],
          [
           3
          ],
          [
           4
          ]
         ],
         "hovertemplate": "<b>%{hovertext}</b><br><br>model=pplx-7b-chat<br>bin=%{x}<br>text=%{y}<br>prompt_id=%{customdata[0]}<extra></extra>",
         "hovertext": [
          "pplx-7b-chat",
          "pplx-7b-chat",
          "pplx-7b-chat",
          "pplx-7b-chat",
          "pplx-7b-chat",
          "pplx-7b-chat",
          "pplx-7b-chat",
          "pplx-7b-chat",
          "pplx-7b-chat",
          "pplx-7b-chat",
          "pplx-7b-chat",
          "pplx-7b-chat",
          "pplx-7b-chat",
          "pplx-7b-chat",
          "pplx-7b-chat",
          "pplx-7b-chat",
          "pplx-7b-chat",
          "pplx-7b-chat",
          "pplx-7b-chat",
          "pplx-7b-chat",
          "pplx-7b-chat",
          "pplx-7b-chat",
          "pplx-7b-chat",
          "pplx-7b-chat",
          "pplx-7b-chat",
          "pplx-7b-chat",
          "pplx-7b-chat",
          "pplx-7b-chat",
          "pplx-7b-chat",
          "pplx-7b-chat",
          "pplx-7b-chat",
          "pplx-7b-chat",
          "pplx-7b-chat",
          "pplx-7b-chat",
          "pplx-7b-chat",
          "pplx-7b-chat",
          "pplx-7b-chat",
          "pplx-7b-chat",
          "pplx-7b-chat",
          "pplx-7b-chat",
          "pplx-7b-chat",
          "pplx-7b-chat",
          "pplx-7b-chat",
          "pplx-7b-chat",
          "pplx-7b-chat",
          "pplx-7b-chat",
          "pplx-7b-chat",
          "pplx-7b-chat",
          "pplx-7b-chat",
          "pplx-7b-chat"
         ],
         "legendgroup": "pplx-7b-chat",
         "marker": {
          "color": "#ab63fa",
          "symbol": "circle"
         },
         "mode": "markers",
         "name": "pplx-7b-chat",
         "orientation": "v",
         "showlegend": true,
         "x": [
          "(-0.001, 10.0]",
          "(-0.001, 10.0]",
          "(-0.001, 10.0]",
          "(-0.001, 10.0]",
          "(-0.001, 10.0]",
          "(10.0, 20.0]",
          "(10.0, 20.0]",
          "(10.0, 20.0]",
          "(10.0, 20.0]",
          "(10.0, 20.0]",
          "(20.0, 30.0]",
          "(20.0, 30.0]",
          "(20.0, 30.0]",
          "(20.0, 30.0]",
          "(20.0, 30.0]",
          "(30.0, 40.0]",
          "(30.0, 40.0]",
          "(30.0, 40.0]",
          "(30.0, 40.0]",
          "(30.0, 40.0]",
          "(40.0, 50.0]",
          "(40.0, 50.0]",
          "(40.0, 50.0]",
          "(40.0, 50.0]",
          "(40.0, 50.0]",
          "(50.0, 60.0]",
          "(50.0, 60.0]",
          "(50.0, 60.0]",
          "(50.0, 60.0]",
          "(50.0, 60.0]",
          "(60.0, 70.0]",
          "(60.0, 70.0]",
          "(60.0, 70.0]",
          "(60.0, 70.0]",
          "(60.0, 70.0]",
          "(70.0, 80.0]",
          "(70.0, 80.0]",
          "(70.0, 80.0]",
          "(70.0, 80.0]",
          "(70.0, 80.0]",
          "(80.0, 90.0]",
          "(80.0, 90.0]",
          "(80.0, 90.0]",
          "(80.0, 90.0]",
          "(80.0, 90.0]",
          "(90.0, 100.0]",
          "(90.0, 100.0]",
          "(90.0, 100.0]",
          "(90.0, 100.0]",
          "(90.0, 100.0]"
         ],
         "xaxis": "x",
         "y": [
          71,
          0,
          0,
          0,
          0,
          16,
          0,
          0,
          0,
          0,
          24,
          0,
          0,
          0,
          0,
          10,
          0,
          0,
          0,
          0,
          22,
          0,
          0,
          0,
          0,
          7,
          0,
          0,
          0,
          0,
          4,
          0,
          0,
          0,
          0,
          4,
          0,
          0,
          0,
          0,
          1,
          0,
          0,
          0,
          0,
          2,
          0,
          0,
          0,
          0
         ],
         "yaxis": "y",
         "type": "scatter"
        }
       ],
       "layout": {
        "template": {
         "data": {
          "histogram2dcontour": [
           {
            "type": "histogram2dcontour",
            "colorbar": {
             "outlinewidth": 0,
             "ticks": ""
            },
            "colorscale": [
             [
              0.0,
              "#0d0887"
             ],
             [
              0.1111111111111111,
              "#46039f"
             ],
             [
              0.2222222222222222,
              "#7201a8"
             ],
             [
              0.3333333333333333,
              "#9c179e"
             ],
             [
              0.4444444444444444,
              "#bd3786"
             ],
             [
              0.5555555555555556,
              "#d8576b"
             ],
             [
              0.6666666666666666,
              "#ed7953"
             ],
             [
              0.7777777777777778,
              "#fb9f3a"
             ],
             [
              0.8888888888888888,
              "#fdca26"
             ],
             [
              1.0,
              "#f0f921"
             ]
            ]
           }
          ],
          "choropleth": [
           {
            "type": "choropleth",
            "colorbar": {
             "outlinewidth": 0,
             "ticks": ""
            }
           }
          ],
          "histogram2d": [
           {
            "type": "histogram2d",
            "colorbar": {
             "outlinewidth": 0,
             "ticks": ""
            },
            "colorscale": [
             [
              0.0,
              "#0d0887"
             ],
             [
              0.1111111111111111,
              "#46039f"
             ],
             [
              0.2222222222222222,
              "#7201a8"
             ],
             [
              0.3333333333333333,
              "#9c179e"
             ],
             [
              0.4444444444444444,
              "#bd3786"
             ],
             [
              0.5555555555555556,
              "#d8576b"
             ],
             [
              0.6666666666666666,
              "#ed7953"
             ],
             [
              0.7777777777777778,
              "#fb9f3a"
             ],
             [
              0.8888888888888888,
              "#fdca26"
             ],
             [
              1.0,
              "#f0f921"
             ]
            ]
           }
          ],
          "heatmap": [
           {
            "type": "heatmap",
            "colorbar": {
             "outlinewidth": 0,
             "ticks": ""
            },
            "colorscale": [
             [
              0.0,
              "#0d0887"
             ],
             [
              0.1111111111111111,
              "#46039f"
             ],
             [
              0.2222222222222222,
              "#7201a8"
             ],
             [
              0.3333333333333333,
              "#9c179e"
             ],
             [
              0.4444444444444444,
              "#bd3786"
             ],
             [
              0.5555555555555556,
              "#d8576b"
             ],
             [
              0.6666666666666666,
              "#ed7953"
             ],
             [
              0.7777777777777778,
              "#fb9f3a"
             ],
             [
              0.8888888888888888,
              "#fdca26"
             ],
             [
              1.0,
              "#f0f921"
             ]
            ]
           }
          ],
          "heatmapgl": [
           {
            "type": "heatmapgl",
            "colorbar": {
             "outlinewidth": 0,
             "ticks": ""
            },
            "colorscale": [
             [
              0.0,
              "#0d0887"
             ],
             [
              0.1111111111111111,
              "#46039f"
             ],
             [
              0.2222222222222222,
              "#7201a8"
             ],
             [
              0.3333333333333333,
              "#9c179e"
             ],
             [
              0.4444444444444444,
              "#bd3786"
             ],
             [
              0.5555555555555556,
              "#d8576b"
             ],
             [
              0.6666666666666666,
              "#ed7953"
             ],
             [
              0.7777777777777778,
              "#fb9f3a"
             ],
             [
              0.8888888888888888,
              "#fdca26"
             ],
             [
              1.0,
              "#f0f921"
             ]
            ]
           }
          ],
          "contourcarpet": [
           {
            "type": "contourcarpet",
            "colorbar": {
             "outlinewidth": 0,
             "ticks": ""
            }
           }
          ],
          "contour": [
           {
            "type": "contour",
            "colorbar": {
             "outlinewidth": 0,
             "ticks": ""
            },
            "colorscale": [
             [
              0.0,
              "#0d0887"
             ],
             [
              0.1111111111111111,
              "#46039f"
             ],
             [
              0.2222222222222222,
              "#7201a8"
             ],
             [
              0.3333333333333333,
              "#9c179e"
             ],
             [
              0.4444444444444444,
              "#bd3786"
             ],
             [
              0.5555555555555556,
              "#d8576b"
             ],
             [
              0.6666666666666666,
              "#ed7953"
             ],
             [
              0.7777777777777778,
              "#fb9f3a"
             ],
             [
              0.8888888888888888,
              "#fdca26"
             ],
             [
              1.0,
              "#f0f921"
             ]
            ]
           }
          ],
          "surface": [
           {
            "type": "surface",
            "colorbar": {
             "outlinewidth": 0,
             "ticks": ""
            },
            "colorscale": [
             [
              0.0,
              "#0d0887"
             ],
             [
              0.1111111111111111,
              "#46039f"
             ],
             [
              0.2222222222222222,
              "#7201a8"
             ],
             [
              0.3333333333333333,
              "#9c179e"
             ],
             [
              0.4444444444444444,
              "#bd3786"
             ],
             [
              0.5555555555555556,
              "#d8576b"
             ],
             [
              0.6666666666666666,
              "#ed7953"
             ],
             [
              0.7777777777777778,
              "#fb9f3a"
             ],
             [
              0.8888888888888888,
              "#fdca26"
             ],
             [
              1.0,
              "#f0f921"
             ]
            ]
           }
          ],
          "mesh3d": [
           {
            "type": "mesh3d",
            "colorbar": {
             "outlinewidth": 0,
             "ticks": ""
            }
           }
          ],
          "scatter": [
           {
            "marker": {
             "line": {
              "color": "#283442"
             }
            },
            "type": "scatter"
           }
          ],
          "parcoords": [
           {
            "type": "parcoords",
            "line": {
             "colorbar": {
              "outlinewidth": 0,
              "ticks": ""
             }
            }
           }
          ],
          "scatterpolargl": [
           {
            "type": "scatterpolargl",
            "marker": {
             "colorbar": {
              "outlinewidth": 0,
              "ticks": ""
             }
            }
           }
          ],
          "bar": [
           {
            "error_x": {
             "color": "#f2f5fa"
            },
            "error_y": {
             "color": "#f2f5fa"
            },
            "marker": {
             "line": {
              "color": "rgb(17,17,17)",
              "width": 0.5
             },
             "pattern": {
              "fillmode": "overlay",
              "size": 10,
              "solidity": 0.2
             }
            },
            "type": "bar"
           }
          ],
          "scattergeo": [
           {
            "type": "scattergeo",
            "marker": {
             "colorbar": {
              "outlinewidth": 0,
              "ticks": ""
             }
            }
           }
          ],
          "scatterpolar": [
           {
            "type": "scatterpolar",
            "marker": {
             "colorbar": {
              "outlinewidth": 0,
              "ticks": ""
             }
            }
           }
          ],
          "histogram": [
           {
            "marker": {
             "pattern": {
              "fillmode": "overlay",
              "size": 10,
              "solidity": 0.2
             }
            },
            "type": "histogram"
           }
          ],
          "scattergl": [
           {
            "marker": {
             "line": {
              "color": "#283442"
             }
            },
            "type": "scattergl"
           }
          ],
          "scatter3d": [
           {
            "type": "scatter3d",
            "line": {
             "colorbar": {
              "outlinewidth": 0,
              "ticks": ""
             }
            },
            "marker": {
             "colorbar": {
              "outlinewidth": 0,
              "ticks": ""
             }
            }
           }
          ],
          "scattermapbox": [
           {
            "type": "scattermapbox",
            "marker": {
             "colorbar": {
              "outlinewidth": 0,
              "ticks": ""
             }
            }
           }
          ],
          "scatterternary": [
           {
            "type": "scatterternary",
            "marker": {
             "colorbar": {
              "outlinewidth": 0,
              "ticks": ""
             }
            }
           }
          ],
          "scattercarpet": [
           {
            "type": "scattercarpet",
            "marker": {
             "colorbar": {
              "outlinewidth": 0,
              "ticks": ""
             }
            }
           }
          ],
          "carpet": [
           {
            "aaxis": {
             "endlinecolor": "#A2B1C6",
             "gridcolor": "#506784",
             "linecolor": "#506784",
             "minorgridcolor": "#506784",
             "startlinecolor": "#A2B1C6"
            },
            "baxis": {
             "endlinecolor": "#A2B1C6",
             "gridcolor": "#506784",
             "linecolor": "#506784",
             "minorgridcolor": "#506784",
             "startlinecolor": "#A2B1C6"
            },
            "type": "carpet"
           }
          ],
          "table": [
           {
            "cells": {
             "fill": {
              "color": "#506784"
             },
             "line": {
              "color": "rgb(17,17,17)"
             }
            },
            "header": {
             "fill": {
              "color": "#2a3f5f"
             },
             "line": {
              "color": "rgb(17,17,17)"
             }
            },
            "type": "table"
           }
          ],
          "barpolar": [
           {
            "marker": {
             "line": {
              "color": "rgb(17,17,17)",
              "width": 0.5
             },
             "pattern": {
              "fillmode": "overlay",
              "size": 10,
              "solidity": 0.2
             }
            },
            "type": "barpolar"
           }
          ],
          "pie": [
           {
            "automargin": true,
            "type": "pie"
           }
          ]
         },
         "layout": {
          "autotypenumbers": "strict",
          "colorway": [
           "#636efa",
           "#EF553B",
           "#00cc96",
           "#ab63fa",
           "#FFA15A",
           "#19d3f3",
           "#FF6692",
           "#B6E880",
           "#FF97FF",
           "#FECB52"
          ],
          "font": {
           "color": "#f2f5fa"
          },
          "hovermode": "closest",
          "hoverlabel": {
           "align": "left"
          },
          "paper_bgcolor": "rgb(17,17,17)",
          "plot_bgcolor": "rgb(17,17,17)",
          "polar": {
           "bgcolor": "rgb(17,17,17)",
           "angularaxis": {
            "gridcolor": "#506784",
            "linecolor": "#506784",
            "ticks": ""
           },
           "radialaxis": {
            "gridcolor": "#506784",
            "linecolor": "#506784",
            "ticks": ""
           }
          },
          "ternary": {
           "bgcolor": "rgb(17,17,17)",
           "aaxis": {
            "gridcolor": "#506784",
            "linecolor": "#506784",
            "ticks": ""
           },
           "baxis": {
            "gridcolor": "#506784",
            "linecolor": "#506784",
            "ticks": ""
           },
           "caxis": {
            "gridcolor": "#506784",
            "linecolor": "#506784",
            "ticks": ""
           }
          },
          "coloraxis": {
           "colorbar": {
            "outlinewidth": 0,
            "ticks": ""
           }
          },
          "colorscale": {
           "sequential": [
            [
             0.0,
             "#0d0887"
            ],
            [
             0.1111111111111111,
             "#46039f"
            ],
            [
             0.2222222222222222,
             "#7201a8"
            ],
            [
             0.3333333333333333,
             "#9c179e"
            ],
            [
             0.4444444444444444,
             "#bd3786"
            ],
            [
             0.5555555555555556,
             "#d8576b"
            ],
            [
             0.6666666666666666,
             "#ed7953"
            ],
            [
             0.7777777777777778,
             "#fb9f3a"
            ],
            [
             0.8888888888888888,
             "#fdca26"
            ],
            [
             1.0,
             "#f0f921"
            ]
           ],
           "sequentialminus": [
            [
             0.0,
             "#0d0887"
            ],
            [
             0.1111111111111111,
             "#46039f"
            ],
            [
             0.2222222222222222,
             "#7201a8"
            ],
            [
             0.3333333333333333,
             "#9c179e"
            ],
            [
             0.4444444444444444,
             "#bd3786"
            ],
            [
             0.5555555555555556,
             "#d8576b"
            ],
            [
             0.6666666666666666,
             "#ed7953"
            ],
            [
             0.7777777777777778,
             "#fb9f3a"
            ],
            [
             0.8888888888888888,
             "#fdca26"
            ],
            [
             1.0,
             "#f0f921"
            ]
           ],
           "diverging": [
            [
             0,
             "#8e0152"
            ],
            [
             0.1,
             "#c51b7d"
            ],
            [
             0.2,
             "#de77ae"
            ],
            [
             0.3,
             "#f1b6da"
            ],
            [
             0.4,
             "#fde0ef"
            ],
            [
             0.5,
             "#f7f7f7"
            ],
            [
             0.6,
             "#e6f5d0"
            ],
            [
             0.7,
             "#b8e186"
            ],
            [
             0.8,
             "#7fbc41"
            ],
            [
             0.9,
             "#4d9221"
            ],
            [
             1,
             "#276419"
            ]
           ]
          },
          "xaxis": {
           "gridcolor": "#283442",
           "linecolor": "#506784",
           "ticks": "",
           "title": {
            "standoff": 15
           },
           "zerolinecolor": "#283442",
           "automargin": true,
           "zerolinewidth": 2
          },
          "yaxis": {
           "gridcolor": "#283442",
           "linecolor": "#506784",
           "ticks": "",
           "title": {
            "standoff": 15
           },
           "zerolinecolor": "#283442",
           "automargin": true,
           "zerolinewidth": 2
          },
          "scene": {
           "xaxis": {
            "backgroundcolor": "rgb(17,17,17)",
            "gridcolor": "#506784",
            "linecolor": "#506784",
            "showbackground": true,
            "ticks": "",
            "zerolinecolor": "#C8D4E3",
            "gridwidth": 2
           },
           "yaxis": {
            "backgroundcolor": "rgb(17,17,17)",
            "gridcolor": "#506784",
            "linecolor": "#506784",
            "showbackground": true,
            "ticks": "",
            "zerolinecolor": "#C8D4E3",
            "gridwidth": 2
           },
           "zaxis": {
            "backgroundcolor": "rgb(17,17,17)",
            "gridcolor": "#506784",
            "linecolor": "#506784",
            "showbackground": true,
            "ticks": "",
            "zerolinecolor": "#C8D4E3",
            "gridwidth": 2
           }
          },
          "shapedefaults": {
           "line": {
            "color": "#f2f5fa"
           }
          },
          "annotationdefaults": {
           "arrowcolor": "#f2f5fa",
           "arrowhead": 0,
           "arrowwidth": 1
          },
          "geo": {
           "bgcolor": "rgb(17,17,17)",
           "landcolor": "rgb(17,17,17)",
           "subunitcolor": "#506784",
           "showland": true,
           "showlakes": true,
           "lakecolor": "rgb(17,17,17)"
          },
          "title": {
           "x": 0.05
          },
          "updatemenudefaults": {
           "bgcolor": "#506784",
           "borderwidth": 0
          },
          "sliderdefaults": {
           "bgcolor": "#C8D4E3",
           "borderwidth": 1,
           "bordercolor": "rgb(17,17,17)",
           "tickwidth": 0
          },
          "mapbox": {
           "style": "dark"
          }
         }
        },
        "xaxis": {
         "anchor": "y",
         "domain": [
          0.0,
          1.0
         ],
         "title": {
          "text": "bin"
         }
        },
        "yaxis": {
         "anchor": "x",
         "domain": [
          0.0,
          1.0
         ],
         "title": {
          "text": "text"
         }
        },
        "legend": {
         "title": {
          "text": "model"
         },
         "tracegroupgap": 0
        },
        "title": {
         "text": "Hate Speech Probability (only non-hatefull, our probability should be 0)"
        }
       },
       "config": {
        "plotlyServerURL": "https://plot.ly"
       }
      },
      "text/html": "<div>                            <div id=\"fd5dd1ef-03da-4854-adb0-286e7d356dc8\" class=\"plotly-graph-div\" style=\"height:525px; width:100%;\"></div>            <script type=\"text/javascript\">                require([\"plotly\"], function(Plotly) {                    window.PLOTLYENV=window.PLOTLYENV || {};                                    if (document.getElementById(\"fd5dd1ef-03da-4854-adb0-286e7d356dc8\")) {                    Plotly.newPlot(                        \"fd5dd1ef-03da-4854-adb0-286e7d356dc8\",                        [{\"customdata\":[[0],[1],[2],[3],[4],[0],[1],[2],[3],[4],[0],[1],[2],[3],[4],[0],[1],[2],[3],[4],[0],[1],[2],[3],[4],[0],[1],[2],[3],[4],[0],[1],[2],[3],[4],[0],[1],[2],[3],[4],[0],[1],[2],[3],[4],[0],[1],[2],[3],[4]],\"hovertemplate\":\"\\u003cb\\u003e%{hovertext}\\u003c\\u002fb\\u003e\\u003cbr\\u003e\\u003cbr\\u003emodel=mistral-7b-instruct\\u003cbr\\u003ebin=%{x}\\u003cbr\\u003etext=%{y}\\u003cbr\\u003eprompt_id=%{customdata[0]}\\u003cextra\\u003e\\u003c\\u002fextra\\u003e\",\"hovertext\":[\"mistral-7b-instruct\",\"mistral-7b-instruct\",\"mistral-7b-instruct\",\"mistral-7b-instruct\",\"mistral-7b-instruct\",\"mistral-7b-instruct\",\"mistral-7b-instruct\",\"mistral-7b-instruct\",\"mistral-7b-instruct\",\"mistral-7b-instruct\",\"mistral-7b-instruct\",\"mistral-7b-instruct\",\"mistral-7b-instruct\",\"mistral-7b-instruct\",\"mistral-7b-instruct\",\"mistral-7b-instruct\",\"mistral-7b-instruct\",\"mistral-7b-instruct\",\"mistral-7b-instruct\",\"mistral-7b-instruct\",\"mistral-7b-instruct\",\"mistral-7b-instruct\",\"mistral-7b-instruct\",\"mistral-7b-instruct\",\"mistral-7b-instruct\",\"mistral-7b-instruct\",\"mistral-7b-instruct\",\"mistral-7b-instruct\",\"mistral-7b-instruct\",\"mistral-7b-instruct\",\"mistral-7b-instruct\",\"mistral-7b-instruct\",\"mistral-7b-instruct\",\"mistral-7b-instruct\",\"mistral-7b-instruct\",\"mistral-7b-instruct\",\"mistral-7b-instruct\",\"mistral-7b-instruct\",\"mistral-7b-instruct\",\"mistral-7b-instruct\",\"mistral-7b-instruct\",\"mistral-7b-instruct\",\"mistral-7b-instruct\",\"mistral-7b-instruct\",\"mistral-7b-instruct\",\"mistral-7b-instruct\",\"mistral-7b-instruct\",\"mistral-7b-instruct\",\"mistral-7b-instruct\",\"mistral-7b-instruct\"],\"legendgroup\":\"mistral-7b-instruct\",\"marker\":{\"color\":\"#636efa\",\"symbol\":\"circle\"},\"mode\":\"markers\",\"name\":\"mistral-7b-instruct\",\"orientation\":\"v\",\"showlegend\":true,\"x\":[\"(-0.001, 10.0]\",\"(-0.001, 10.0]\",\"(-0.001, 10.0]\",\"(-0.001, 10.0]\",\"(-0.001, 10.0]\",\"(10.0, 20.0]\",\"(10.0, 20.0]\",\"(10.0, 20.0]\",\"(10.0, 20.0]\",\"(10.0, 20.0]\",\"(20.0, 30.0]\",\"(20.0, 30.0]\",\"(20.0, 30.0]\",\"(20.0, 30.0]\",\"(20.0, 30.0]\",\"(30.0, 40.0]\",\"(30.0, 40.0]\",\"(30.0, 40.0]\",\"(30.0, 40.0]\",\"(30.0, 40.0]\",\"(40.0, 50.0]\",\"(40.0, 50.0]\",\"(40.0, 50.0]\",\"(40.0, 50.0]\",\"(40.0, 50.0]\",\"(50.0, 60.0]\",\"(50.0, 60.0]\",\"(50.0, 60.0]\",\"(50.0, 60.0]\",\"(50.0, 60.0]\",\"(60.0, 70.0]\",\"(60.0, 70.0]\",\"(60.0, 70.0]\",\"(60.0, 70.0]\",\"(60.0, 70.0]\",\"(70.0, 80.0]\",\"(70.0, 80.0]\",\"(70.0, 80.0]\",\"(70.0, 80.0]\",\"(70.0, 80.0]\",\"(80.0, 90.0]\",\"(80.0, 90.0]\",\"(80.0, 90.0]\",\"(80.0, 90.0]\",\"(80.0, 90.0]\",\"(90.0, 100.0]\",\"(90.0, 100.0]\",\"(90.0, 100.0]\",\"(90.0, 100.0]\",\"(90.0, 100.0]\"],\"xaxis\":\"x\",\"y\":[174,121,142,125,168,20,25,30,19,16,8,30,12,33,17,11,26,16,22,6,3,12,4,9,5,8,3,8,5,4,4,7,6,6,4,3,7,4,9,6,2,1,7,3,5,5,2,4,4,4],\"yaxis\":\"y\",\"type\":\"scatter\"},{\"customdata\":[[0],[1],[2],[3],[4],[0],[1],[2],[3],[4],[0],[1],[2],[3],[4],[0],[1],[2],[3],[4],[0],[1],[2],[3],[4],[0],[1],[2],[3],[4],[0],[1],[2],[3],[4],[0],[1],[2],[3],[4],[0],[1],[2],[3],[4],[0],[1],[2],[3],[4]],\"hovertemplate\":\"\\u003cb\\u003e%{hovertext}\\u003c\\u002fb\\u003e\\u003cbr\\u003e\\u003cbr\\u003emodel=mixtral-8x7b-instruct\\u003cbr\\u003ebin=%{x}\\u003cbr\\u003etext=%{y}\\u003cbr\\u003eprompt_id=%{customdata[0]}\\u003cextra\\u003e\\u003c\\u002fextra\\u003e\",\"hovertext\":[\"mixtral-8x7b-instruct\",\"mixtral-8x7b-instruct\",\"mixtral-8x7b-instruct\",\"mixtral-8x7b-instruct\",\"mixtral-8x7b-instruct\",\"mixtral-8x7b-instruct\",\"mixtral-8x7b-instruct\",\"mixtral-8x7b-instruct\",\"mixtral-8x7b-instruct\",\"mixtral-8x7b-instruct\",\"mixtral-8x7b-instruct\",\"mixtral-8x7b-instruct\",\"mixtral-8x7b-instruct\",\"mixtral-8x7b-instruct\",\"mixtral-8x7b-instruct\",\"mixtral-8x7b-instruct\",\"mixtral-8x7b-instruct\",\"mixtral-8x7b-instruct\",\"mixtral-8x7b-instruct\",\"mixtral-8x7b-instruct\",\"mixtral-8x7b-instruct\",\"mixtral-8x7b-instruct\",\"mixtral-8x7b-instruct\",\"mixtral-8x7b-instruct\",\"mixtral-8x7b-instruct\",\"mixtral-8x7b-instruct\",\"mixtral-8x7b-instruct\",\"mixtral-8x7b-instruct\",\"mixtral-8x7b-instruct\",\"mixtral-8x7b-instruct\",\"mixtral-8x7b-instruct\",\"mixtral-8x7b-instruct\",\"mixtral-8x7b-instruct\",\"mixtral-8x7b-instruct\",\"mixtral-8x7b-instruct\",\"mixtral-8x7b-instruct\",\"mixtral-8x7b-instruct\",\"mixtral-8x7b-instruct\",\"mixtral-8x7b-instruct\",\"mixtral-8x7b-instruct\",\"mixtral-8x7b-instruct\",\"mixtral-8x7b-instruct\",\"mixtral-8x7b-instruct\",\"mixtral-8x7b-instruct\",\"mixtral-8x7b-instruct\",\"mixtral-8x7b-instruct\",\"mixtral-8x7b-instruct\",\"mixtral-8x7b-instruct\",\"mixtral-8x7b-instruct\",\"mixtral-8x7b-instruct\"],\"legendgroup\":\"mixtral-8x7b-instruct\",\"marker\":{\"color\":\"#EF553B\",\"symbol\":\"circle\"},\"mode\":\"markers\",\"name\":\"mixtral-8x7b-instruct\",\"orientation\":\"v\",\"showlegend\":true,\"x\":[\"(-0.001, 10.0]\",\"(-0.001, 10.0]\",\"(-0.001, 10.0]\",\"(-0.001, 10.0]\",\"(-0.001, 10.0]\",\"(10.0, 20.0]\",\"(10.0, 20.0]\",\"(10.0, 20.0]\",\"(10.0, 20.0]\",\"(10.0, 20.0]\",\"(20.0, 30.0]\",\"(20.0, 30.0]\",\"(20.0, 30.0]\",\"(20.0, 30.0]\",\"(20.0, 30.0]\",\"(30.0, 40.0]\",\"(30.0, 40.0]\",\"(30.0, 40.0]\",\"(30.0, 40.0]\",\"(30.0, 40.0]\",\"(40.0, 50.0]\",\"(40.0, 50.0]\",\"(40.0, 50.0]\",\"(40.0, 50.0]\",\"(40.0, 50.0]\",\"(50.0, 60.0]\",\"(50.0, 60.0]\",\"(50.0, 60.0]\",\"(50.0, 60.0]\",\"(50.0, 60.0]\",\"(60.0, 70.0]\",\"(60.0, 70.0]\",\"(60.0, 70.0]\",\"(60.0, 70.0]\",\"(60.0, 70.0]\",\"(70.0, 80.0]\",\"(70.0, 80.0]\",\"(70.0, 80.0]\",\"(70.0, 80.0]\",\"(70.0, 80.0]\",\"(80.0, 90.0]\",\"(80.0, 90.0]\",\"(80.0, 90.0]\",\"(80.0, 90.0]\",\"(80.0, 90.0]\",\"(90.0, 100.0]\",\"(90.0, 100.0]\",\"(90.0, 100.0]\",\"(90.0, 100.0]\",\"(90.0, 100.0]\"],\"xaxis\":\"x\",\"y\":[111,39,0,0,0,25,82,0,0,0,13,8,0,0,0,10,18,0,0,0,19,8,0,0,0,12,12,0,0,0,7,32,0,0,0,5,8,0,0,0,8,8,0,0,0,0,1,0,0,0],\"yaxis\":\"y\",\"type\":\"scatter\"},{\"customdata\":[[0],[1],[2],[3],[4],[0],[1],[2],[3],[4],[0],[1],[2],[3],[4],[0],[1],[2],[3],[4],[0],[1],[2],[3],[4],[0],[1],[2],[3],[4],[0],[1],[2],[3],[4],[0],[1],[2],[3],[4],[0],[1],[2],[3],[4],[0],[1],[2],[3],[4]],\"hovertemplate\":\"\\u003cb\\u003e%{hovertext}\\u003c\\u002fb\\u003e\\u003cbr\\u003e\\u003cbr\\u003emodel=pplx-70b-chat\\u003cbr\\u003ebin=%{x}\\u003cbr\\u003etext=%{y}\\u003cbr\\u003eprompt_id=%{customdata[0]}\\u003cextra\\u003e\\u003c\\u002fextra\\u003e\",\"hovertext\":[\"pplx-70b-chat\",\"pplx-70b-chat\",\"pplx-70b-chat\",\"pplx-70b-chat\",\"pplx-70b-chat\",\"pplx-70b-chat\",\"pplx-70b-chat\",\"pplx-70b-chat\",\"pplx-70b-chat\",\"pplx-70b-chat\",\"pplx-70b-chat\",\"pplx-70b-chat\",\"pplx-70b-chat\",\"pplx-70b-chat\",\"pplx-70b-chat\",\"pplx-70b-chat\",\"pplx-70b-chat\",\"pplx-70b-chat\",\"pplx-70b-chat\",\"pplx-70b-chat\",\"pplx-70b-chat\",\"pplx-70b-chat\",\"pplx-70b-chat\",\"pplx-70b-chat\",\"pplx-70b-chat\",\"pplx-70b-chat\",\"pplx-70b-chat\",\"pplx-70b-chat\",\"pplx-70b-chat\",\"pplx-70b-chat\",\"pplx-70b-chat\",\"pplx-70b-chat\",\"pplx-70b-chat\",\"pplx-70b-chat\",\"pplx-70b-chat\",\"pplx-70b-chat\",\"pplx-70b-chat\",\"pplx-70b-chat\",\"pplx-70b-chat\",\"pplx-70b-chat\",\"pplx-70b-chat\",\"pplx-70b-chat\",\"pplx-70b-chat\",\"pplx-70b-chat\",\"pplx-70b-chat\",\"pplx-70b-chat\",\"pplx-70b-chat\",\"pplx-70b-chat\",\"pplx-70b-chat\",\"pplx-70b-chat\"],\"legendgroup\":\"pplx-70b-chat\",\"marker\":{\"color\":\"#00cc96\",\"symbol\":\"circle\"},\"mode\":\"markers\",\"name\":\"pplx-70b-chat\",\"orientation\":\"v\",\"showlegend\":true,\"x\":[\"(-0.001, 10.0]\",\"(-0.001, 10.0]\",\"(-0.001, 10.0]\",\"(-0.001, 10.0]\",\"(-0.001, 10.0]\",\"(10.0, 20.0]\",\"(10.0, 20.0]\",\"(10.0, 20.0]\",\"(10.0, 20.0]\",\"(10.0, 20.0]\",\"(20.0, 30.0]\",\"(20.0, 30.0]\",\"(20.0, 30.0]\",\"(20.0, 30.0]\",\"(20.0, 30.0]\",\"(30.0, 40.0]\",\"(30.0, 40.0]\",\"(30.0, 40.0]\",\"(30.0, 40.0]\",\"(30.0, 40.0]\",\"(40.0, 50.0]\",\"(40.0, 50.0]\",\"(40.0, 50.0]\",\"(40.0, 50.0]\",\"(40.0, 50.0]\",\"(50.0, 60.0]\",\"(50.0, 60.0]\",\"(50.0, 60.0]\",\"(50.0, 60.0]\",\"(50.0, 60.0]\",\"(60.0, 70.0]\",\"(60.0, 70.0]\",\"(60.0, 70.0]\",\"(60.0, 70.0]\",\"(60.0, 70.0]\",\"(70.0, 80.0]\",\"(70.0, 80.0]\",\"(70.0, 80.0]\",\"(70.0, 80.0]\",\"(70.0, 80.0]\",\"(80.0, 90.0]\",\"(80.0, 90.0]\",\"(80.0, 90.0]\",\"(80.0, 90.0]\",\"(80.0, 90.0]\",\"(90.0, 100.0]\",\"(90.0, 100.0]\",\"(90.0, 100.0]\",\"(90.0, 100.0]\",\"(90.0, 100.0]\"],\"xaxis\":\"x\",\"y\":[51,0,0,0,0,7,0,0,0,0,9,0,0,0,0,11,0,0,0,0,146,0,0,0,0,3,0,0,0,0,0,0,0,0,0,1,0,0,0,0,0,0,0,0,0,0,0,0,0,0],\"yaxis\":\"y\",\"type\":\"scatter\"},{\"customdata\":[[0],[1],[2],[3],[4],[0],[1],[2],[3],[4],[0],[1],[2],[3],[4],[0],[1],[2],[3],[4],[0],[1],[2],[3],[4],[0],[1],[2],[3],[4],[0],[1],[2],[3],[4],[0],[1],[2],[3],[4],[0],[1],[2],[3],[4],[0],[1],[2],[3],[4]],\"hovertemplate\":\"\\u003cb\\u003e%{hovertext}\\u003c\\u002fb\\u003e\\u003cbr\\u003e\\u003cbr\\u003emodel=pplx-7b-chat\\u003cbr\\u003ebin=%{x}\\u003cbr\\u003etext=%{y}\\u003cbr\\u003eprompt_id=%{customdata[0]}\\u003cextra\\u003e\\u003c\\u002fextra\\u003e\",\"hovertext\":[\"pplx-7b-chat\",\"pplx-7b-chat\",\"pplx-7b-chat\",\"pplx-7b-chat\",\"pplx-7b-chat\",\"pplx-7b-chat\",\"pplx-7b-chat\",\"pplx-7b-chat\",\"pplx-7b-chat\",\"pplx-7b-chat\",\"pplx-7b-chat\",\"pplx-7b-chat\",\"pplx-7b-chat\",\"pplx-7b-chat\",\"pplx-7b-chat\",\"pplx-7b-chat\",\"pplx-7b-chat\",\"pplx-7b-chat\",\"pplx-7b-chat\",\"pplx-7b-chat\",\"pplx-7b-chat\",\"pplx-7b-chat\",\"pplx-7b-chat\",\"pplx-7b-chat\",\"pplx-7b-chat\",\"pplx-7b-chat\",\"pplx-7b-chat\",\"pplx-7b-chat\",\"pplx-7b-chat\",\"pplx-7b-chat\",\"pplx-7b-chat\",\"pplx-7b-chat\",\"pplx-7b-chat\",\"pplx-7b-chat\",\"pplx-7b-chat\",\"pplx-7b-chat\",\"pplx-7b-chat\",\"pplx-7b-chat\",\"pplx-7b-chat\",\"pplx-7b-chat\",\"pplx-7b-chat\",\"pplx-7b-chat\",\"pplx-7b-chat\",\"pplx-7b-chat\",\"pplx-7b-chat\",\"pplx-7b-chat\",\"pplx-7b-chat\",\"pplx-7b-chat\",\"pplx-7b-chat\",\"pplx-7b-chat\"],\"legendgroup\":\"pplx-7b-chat\",\"marker\":{\"color\":\"#ab63fa\",\"symbol\":\"circle\"},\"mode\":\"markers\",\"name\":\"pplx-7b-chat\",\"orientation\":\"v\",\"showlegend\":true,\"x\":[\"(-0.001, 10.0]\",\"(-0.001, 10.0]\",\"(-0.001, 10.0]\",\"(-0.001, 10.0]\",\"(-0.001, 10.0]\",\"(10.0, 20.0]\",\"(10.0, 20.0]\",\"(10.0, 20.0]\",\"(10.0, 20.0]\",\"(10.0, 20.0]\",\"(20.0, 30.0]\",\"(20.0, 30.0]\",\"(20.0, 30.0]\",\"(20.0, 30.0]\",\"(20.0, 30.0]\",\"(30.0, 40.0]\",\"(30.0, 40.0]\",\"(30.0, 40.0]\",\"(30.0, 40.0]\",\"(30.0, 40.0]\",\"(40.0, 50.0]\",\"(40.0, 50.0]\",\"(40.0, 50.0]\",\"(40.0, 50.0]\",\"(40.0, 50.0]\",\"(50.0, 60.0]\",\"(50.0, 60.0]\",\"(50.0, 60.0]\",\"(50.0, 60.0]\",\"(50.0, 60.0]\",\"(60.0, 70.0]\",\"(60.0, 70.0]\",\"(60.0, 70.0]\",\"(60.0, 70.0]\",\"(60.0, 70.0]\",\"(70.0, 80.0]\",\"(70.0, 80.0]\",\"(70.0, 80.0]\",\"(70.0, 80.0]\",\"(70.0, 80.0]\",\"(80.0, 90.0]\",\"(80.0, 90.0]\",\"(80.0, 90.0]\",\"(80.0, 90.0]\",\"(80.0, 90.0]\",\"(90.0, 100.0]\",\"(90.0, 100.0]\",\"(90.0, 100.0]\",\"(90.0, 100.0]\",\"(90.0, 100.0]\"],\"xaxis\":\"x\",\"y\":[71,0,0,0,0,16,0,0,0,0,24,0,0,0,0,10,0,0,0,0,22,0,0,0,0,7,0,0,0,0,4,0,0,0,0,4,0,0,0,0,1,0,0,0,0,2,0,0,0,0],\"yaxis\":\"y\",\"type\":\"scatter\"}],                        {\"template\":{\"data\":{\"histogram2dcontour\":[{\"type\":\"histogram2dcontour\",\"colorbar\":{\"outlinewidth\":0,\"ticks\":\"\"},\"colorscale\":[[0.0,\"#0d0887\"],[0.1111111111111111,\"#46039f\"],[0.2222222222222222,\"#7201a8\"],[0.3333333333333333,\"#9c179e\"],[0.4444444444444444,\"#bd3786\"],[0.5555555555555556,\"#d8576b\"],[0.6666666666666666,\"#ed7953\"],[0.7777777777777778,\"#fb9f3a\"],[0.8888888888888888,\"#fdca26\"],[1.0,\"#f0f921\"]]}],\"choropleth\":[{\"type\":\"choropleth\",\"colorbar\":{\"outlinewidth\":0,\"ticks\":\"\"}}],\"histogram2d\":[{\"type\":\"histogram2d\",\"colorbar\":{\"outlinewidth\":0,\"ticks\":\"\"},\"colorscale\":[[0.0,\"#0d0887\"],[0.1111111111111111,\"#46039f\"],[0.2222222222222222,\"#7201a8\"],[0.3333333333333333,\"#9c179e\"],[0.4444444444444444,\"#bd3786\"],[0.5555555555555556,\"#d8576b\"],[0.6666666666666666,\"#ed7953\"],[0.7777777777777778,\"#fb9f3a\"],[0.8888888888888888,\"#fdca26\"],[1.0,\"#f0f921\"]]}],\"heatmap\":[{\"type\":\"heatmap\",\"colorbar\":{\"outlinewidth\":0,\"ticks\":\"\"},\"colorscale\":[[0.0,\"#0d0887\"],[0.1111111111111111,\"#46039f\"],[0.2222222222222222,\"#7201a8\"],[0.3333333333333333,\"#9c179e\"],[0.4444444444444444,\"#bd3786\"],[0.5555555555555556,\"#d8576b\"],[0.6666666666666666,\"#ed7953\"],[0.7777777777777778,\"#fb9f3a\"],[0.8888888888888888,\"#fdca26\"],[1.0,\"#f0f921\"]]}],\"heatmapgl\":[{\"type\":\"heatmapgl\",\"colorbar\":{\"outlinewidth\":0,\"ticks\":\"\"},\"colorscale\":[[0.0,\"#0d0887\"],[0.1111111111111111,\"#46039f\"],[0.2222222222222222,\"#7201a8\"],[0.3333333333333333,\"#9c179e\"],[0.4444444444444444,\"#bd3786\"],[0.5555555555555556,\"#d8576b\"],[0.6666666666666666,\"#ed7953\"],[0.7777777777777778,\"#fb9f3a\"],[0.8888888888888888,\"#fdca26\"],[1.0,\"#f0f921\"]]}],\"contourcarpet\":[{\"type\":\"contourcarpet\",\"colorbar\":{\"outlinewidth\":0,\"ticks\":\"\"}}],\"contour\":[{\"type\":\"contour\",\"colorbar\":{\"outlinewidth\":0,\"ticks\":\"\"},\"colorscale\":[[0.0,\"#0d0887\"],[0.1111111111111111,\"#46039f\"],[0.2222222222222222,\"#7201a8\"],[0.3333333333333333,\"#9c179e\"],[0.4444444444444444,\"#bd3786\"],[0.5555555555555556,\"#d8576b\"],[0.6666666666666666,\"#ed7953\"],[0.7777777777777778,\"#fb9f3a\"],[0.8888888888888888,\"#fdca26\"],[1.0,\"#f0f921\"]]}],\"surface\":[{\"type\":\"surface\",\"colorbar\":{\"outlinewidth\":0,\"ticks\":\"\"},\"colorscale\":[[0.0,\"#0d0887\"],[0.1111111111111111,\"#46039f\"],[0.2222222222222222,\"#7201a8\"],[0.3333333333333333,\"#9c179e\"],[0.4444444444444444,\"#bd3786\"],[0.5555555555555556,\"#d8576b\"],[0.6666666666666666,\"#ed7953\"],[0.7777777777777778,\"#fb9f3a\"],[0.8888888888888888,\"#fdca26\"],[1.0,\"#f0f921\"]]}],\"mesh3d\":[{\"type\":\"mesh3d\",\"colorbar\":{\"outlinewidth\":0,\"ticks\":\"\"}}],\"scatter\":[{\"marker\":{\"line\":{\"color\":\"#283442\"}},\"type\":\"scatter\"}],\"parcoords\":[{\"type\":\"parcoords\",\"line\":{\"colorbar\":{\"outlinewidth\":0,\"ticks\":\"\"}}}],\"scatterpolargl\":[{\"type\":\"scatterpolargl\",\"marker\":{\"colorbar\":{\"outlinewidth\":0,\"ticks\":\"\"}}}],\"bar\":[{\"error_x\":{\"color\":\"#f2f5fa\"},\"error_y\":{\"color\":\"#f2f5fa\"},\"marker\":{\"line\":{\"color\":\"rgb(17,17,17)\",\"width\":0.5},\"pattern\":{\"fillmode\":\"overlay\",\"size\":10,\"solidity\":0.2}},\"type\":\"bar\"}],\"scattergeo\":[{\"type\":\"scattergeo\",\"marker\":{\"colorbar\":{\"outlinewidth\":0,\"ticks\":\"\"}}}],\"scatterpolar\":[{\"type\":\"scatterpolar\",\"marker\":{\"colorbar\":{\"outlinewidth\":0,\"ticks\":\"\"}}}],\"histogram\":[{\"marker\":{\"pattern\":{\"fillmode\":\"overlay\",\"size\":10,\"solidity\":0.2}},\"type\":\"histogram\"}],\"scattergl\":[{\"marker\":{\"line\":{\"color\":\"#283442\"}},\"type\":\"scattergl\"}],\"scatter3d\":[{\"type\":\"scatter3d\",\"line\":{\"colorbar\":{\"outlinewidth\":0,\"ticks\":\"\"}},\"marker\":{\"colorbar\":{\"outlinewidth\":0,\"ticks\":\"\"}}}],\"scattermapbox\":[{\"type\":\"scattermapbox\",\"marker\":{\"colorbar\":{\"outlinewidth\":0,\"ticks\":\"\"}}}],\"scatterternary\":[{\"type\":\"scatterternary\",\"marker\":{\"colorbar\":{\"outlinewidth\":0,\"ticks\":\"\"}}}],\"scattercarpet\":[{\"type\":\"scattercarpet\",\"marker\":{\"colorbar\":{\"outlinewidth\":0,\"ticks\":\"\"}}}],\"carpet\":[{\"aaxis\":{\"endlinecolor\":\"#A2B1C6\",\"gridcolor\":\"#506784\",\"linecolor\":\"#506784\",\"minorgridcolor\":\"#506784\",\"startlinecolor\":\"#A2B1C6\"},\"baxis\":{\"endlinecolor\":\"#A2B1C6\",\"gridcolor\":\"#506784\",\"linecolor\":\"#506784\",\"minorgridcolor\":\"#506784\",\"startlinecolor\":\"#A2B1C6\"},\"type\":\"carpet\"}],\"table\":[{\"cells\":{\"fill\":{\"color\":\"#506784\"},\"line\":{\"color\":\"rgb(17,17,17)\"}},\"header\":{\"fill\":{\"color\":\"#2a3f5f\"},\"line\":{\"color\":\"rgb(17,17,17)\"}},\"type\":\"table\"}],\"barpolar\":[{\"marker\":{\"line\":{\"color\":\"rgb(17,17,17)\",\"width\":0.5},\"pattern\":{\"fillmode\":\"overlay\",\"size\":10,\"solidity\":0.2}},\"type\":\"barpolar\"}],\"pie\":[{\"automargin\":true,\"type\":\"pie\"}]},\"layout\":{\"autotypenumbers\":\"strict\",\"colorway\":[\"#636efa\",\"#EF553B\",\"#00cc96\",\"#ab63fa\",\"#FFA15A\",\"#19d3f3\",\"#FF6692\",\"#B6E880\",\"#FF97FF\",\"#FECB52\"],\"font\":{\"color\":\"#f2f5fa\"},\"hovermode\":\"closest\",\"hoverlabel\":{\"align\":\"left\"},\"paper_bgcolor\":\"rgb(17,17,17)\",\"plot_bgcolor\":\"rgb(17,17,17)\",\"polar\":{\"bgcolor\":\"rgb(17,17,17)\",\"angularaxis\":{\"gridcolor\":\"#506784\",\"linecolor\":\"#506784\",\"ticks\":\"\"},\"radialaxis\":{\"gridcolor\":\"#506784\",\"linecolor\":\"#506784\",\"ticks\":\"\"}},\"ternary\":{\"bgcolor\":\"rgb(17,17,17)\",\"aaxis\":{\"gridcolor\":\"#506784\",\"linecolor\":\"#506784\",\"ticks\":\"\"},\"baxis\":{\"gridcolor\":\"#506784\",\"linecolor\":\"#506784\",\"ticks\":\"\"},\"caxis\":{\"gridcolor\":\"#506784\",\"linecolor\":\"#506784\",\"ticks\":\"\"}},\"coloraxis\":{\"colorbar\":{\"outlinewidth\":0,\"ticks\":\"\"}},\"colorscale\":{\"sequential\":[[0.0,\"#0d0887\"],[0.1111111111111111,\"#46039f\"],[0.2222222222222222,\"#7201a8\"],[0.3333333333333333,\"#9c179e\"],[0.4444444444444444,\"#bd3786\"],[0.5555555555555556,\"#d8576b\"],[0.6666666666666666,\"#ed7953\"],[0.7777777777777778,\"#fb9f3a\"],[0.8888888888888888,\"#fdca26\"],[1.0,\"#f0f921\"]],\"sequentialminus\":[[0.0,\"#0d0887\"],[0.1111111111111111,\"#46039f\"],[0.2222222222222222,\"#7201a8\"],[0.3333333333333333,\"#9c179e\"],[0.4444444444444444,\"#bd3786\"],[0.5555555555555556,\"#d8576b\"],[0.6666666666666666,\"#ed7953\"],[0.7777777777777778,\"#fb9f3a\"],[0.8888888888888888,\"#fdca26\"],[1.0,\"#f0f921\"]],\"diverging\":[[0,\"#8e0152\"],[0.1,\"#c51b7d\"],[0.2,\"#de77ae\"],[0.3,\"#f1b6da\"],[0.4,\"#fde0ef\"],[0.5,\"#f7f7f7\"],[0.6,\"#e6f5d0\"],[0.7,\"#b8e186\"],[0.8,\"#7fbc41\"],[0.9,\"#4d9221\"],[1,\"#276419\"]]},\"xaxis\":{\"gridcolor\":\"#283442\",\"linecolor\":\"#506784\",\"ticks\":\"\",\"title\":{\"standoff\":15},\"zerolinecolor\":\"#283442\",\"automargin\":true,\"zerolinewidth\":2},\"yaxis\":{\"gridcolor\":\"#283442\",\"linecolor\":\"#506784\",\"ticks\":\"\",\"title\":{\"standoff\":15},\"zerolinecolor\":\"#283442\",\"automargin\":true,\"zerolinewidth\":2},\"scene\":{\"xaxis\":{\"backgroundcolor\":\"rgb(17,17,17)\",\"gridcolor\":\"#506784\",\"linecolor\":\"#506784\",\"showbackground\":true,\"ticks\":\"\",\"zerolinecolor\":\"#C8D4E3\",\"gridwidth\":2},\"yaxis\":{\"backgroundcolor\":\"rgb(17,17,17)\",\"gridcolor\":\"#506784\",\"linecolor\":\"#506784\",\"showbackground\":true,\"ticks\":\"\",\"zerolinecolor\":\"#C8D4E3\",\"gridwidth\":2},\"zaxis\":{\"backgroundcolor\":\"rgb(17,17,17)\",\"gridcolor\":\"#506784\",\"linecolor\":\"#506784\",\"showbackground\":true,\"ticks\":\"\",\"zerolinecolor\":\"#C8D4E3\",\"gridwidth\":2}},\"shapedefaults\":{\"line\":{\"color\":\"#f2f5fa\"}},\"annotationdefaults\":{\"arrowcolor\":\"#f2f5fa\",\"arrowhead\":0,\"arrowwidth\":1},\"geo\":{\"bgcolor\":\"rgb(17,17,17)\",\"landcolor\":\"rgb(17,17,17)\",\"subunitcolor\":\"#506784\",\"showland\":true,\"showlakes\":true,\"lakecolor\":\"rgb(17,17,17)\"},\"title\":{\"x\":0.05},\"updatemenudefaults\":{\"bgcolor\":\"#506784\",\"borderwidth\":0},\"sliderdefaults\":{\"bgcolor\":\"#C8D4E3\",\"borderwidth\":1,\"bordercolor\":\"rgb(17,17,17)\",\"tickwidth\":0},\"mapbox\":{\"style\":\"dark\"}}},\"xaxis\":{\"anchor\":\"y\",\"domain\":[0.0,1.0],\"title\":{\"text\":\"bin\"}},\"yaxis\":{\"anchor\":\"x\",\"domain\":[0.0,1.0],\"title\":{\"text\":\"text\"}},\"legend\":{\"title\":{\"text\":\"model\"},\"tracegroupgap\":0},\"title\":{\"text\":\"Hate Speech Probability (only non-hatefull, our probability should be 0)\"}},                        {\"responsive\": true}                    ).then(function(){\n                            \nvar gd = document.getElementById('fd5dd1ef-03da-4854-adb0-286e7d356dc8');\nvar x = new MutationObserver(function (mutations, observer) {{\n        var display = window.getComputedStyle(gd).display;\n        if (!display || display === 'none') {{\n            console.log([gd, 'removed!']);\n            Plotly.purge(gd);\n            observer.disconnect();\n        }}\n}});\n\n// Listen for the removal of the full notebook cells\nvar notebookContainer = gd.closest('#notebook-container');\nif (notebookContainer) {{\n    x.observe(notebookContainer, {childList: true});\n}}\n\n// Listen for the clearing of the current output cell\nvar outputEl = gd.closest('.output');\nif (outputEl) {{\n    x.observe(outputEl, {childList: true});\n}}\n\n                        })                };                });            </script>        </div>"
     },
     "metadata": {},
     "output_type": "display_data"
    }
   ],
   "source": [
    "import numpy as np\n",
    "import plotly.express as px\n",
    "df[\"bin\"] = pd.cut(df['hate_speech_probability']*100, bins=np.arange(0, 110, 10),include_lowest=True)\n",
    "df['bin'] = df[\"bin\"].apply(lambda bin: str(bin))\n",
    "\n",
    "true_df = df.query(\"not labeled_hateful\")\n",
    "df_grouped = true_df.groupby([\"bin\", \"model\", \"prompt_id\"]).count().reset_index()\n",
    "fig = px.scatter(df_grouped, x=\"bin\", y=\"text\", color=\"model\", hover_data=\"prompt_id\", hover_name=\"model\", title=\"Hate Speech Probability (only non-hatefull, our probability should be 0)\")\n",
    "fig.show()"
   ]
  },
  {
   "cell_type": "code",
   "execution_count": 43,
   "metadata": {
    "collapsed": false,
    "ExecuteTime": {
     "end_time": "2024-01-10T15:52:40.419686875Z",
     "start_time": "2024-01-10T15:52:40.362837668Z"
    }
   },
   "outputs": [
    {
     "name": "stderr",
     "output_type": "stream",
     "text": [
      "/tmp/ipykernel_645416/568334292.py:7: FutureWarning:\n",
      "\n",
      "The default of observed=False is deprecated and will be changed to True in a future version of pandas. Pass observed=False to retain current behavior or observed=True to adopt the future default and silence this warning.\n",
      "\n"
     ]
    },
    {
     "data": {
      "application/vnd.plotly.v1+json": {
       "data": [
        {
         "customdata": [
          [
           0
          ],
          [
           1
          ],
          [
           2
          ],
          [
           3
          ],
          [
           4
          ],
          [
           0
          ],
          [
           1
          ],
          [
           2
          ],
          [
           3
          ],
          [
           4
          ],
          [
           0
          ],
          [
           1
          ],
          [
           2
          ],
          [
           3
          ],
          [
           4
          ],
          [
           0
          ],
          [
           1
          ],
          [
           2
          ],
          [
           3
          ],
          [
           4
          ],
          [
           0
          ],
          [
           1
          ],
          [
           2
          ],
          [
           3
          ],
          [
           4
          ],
          [
           0
          ],
          [
           1
          ],
          [
           2
          ],
          [
           3
          ],
          [
           4
          ],
          [
           0
          ],
          [
           1
          ],
          [
           2
          ],
          [
           3
          ],
          [
           4
          ],
          [
           0
          ],
          [
           1
          ],
          [
           2
          ],
          [
           3
          ],
          [
           4
          ],
          [
           0
          ],
          [
           1
          ],
          [
           2
          ],
          [
           3
          ],
          [
           4
          ],
          [
           0
          ],
          [
           1
          ],
          [
           2
          ],
          [
           3
          ],
          [
           4
          ]
         ],
         "hovertemplate": "<b>%{hovertext}</b><br><br>model=mistral-7b-instruct<br>bin=%{x}<br>text=%{y}<br>prompt_id=%{customdata[0]}<extra></extra>",
         "hovertext": [
          "mistral-7b-instruct",
          "mistral-7b-instruct",
          "mistral-7b-instruct",
          "mistral-7b-instruct",
          "mistral-7b-instruct",
          "mistral-7b-instruct",
          "mistral-7b-instruct",
          "mistral-7b-instruct",
          "mistral-7b-instruct",
          "mistral-7b-instruct",
          "mistral-7b-instruct",
          "mistral-7b-instruct",
          "mistral-7b-instruct",
          "mistral-7b-instruct",
          "mistral-7b-instruct",
          "mistral-7b-instruct",
          "mistral-7b-instruct",
          "mistral-7b-instruct",
          "mistral-7b-instruct",
          "mistral-7b-instruct",
          "mistral-7b-instruct",
          "mistral-7b-instruct",
          "mistral-7b-instruct",
          "mistral-7b-instruct",
          "mistral-7b-instruct",
          "mistral-7b-instruct",
          "mistral-7b-instruct",
          "mistral-7b-instruct",
          "mistral-7b-instruct",
          "mistral-7b-instruct",
          "mistral-7b-instruct",
          "mistral-7b-instruct",
          "mistral-7b-instruct",
          "mistral-7b-instruct",
          "mistral-7b-instruct",
          "mistral-7b-instruct",
          "mistral-7b-instruct",
          "mistral-7b-instruct",
          "mistral-7b-instruct",
          "mistral-7b-instruct",
          "mistral-7b-instruct",
          "mistral-7b-instruct",
          "mistral-7b-instruct",
          "mistral-7b-instruct",
          "mistral-7b-instruct",
          "mistral-7b-instruct",
          "mistral-7b-instruct",
          "mistral-7b-instruct",
          "mistral-7b-instruct",
          "mistral-7b-instruct"
         ],
         "legendgroup": "mistral-7b-instruct",
         "marker": {
          "color": "#636efa",
          "symbol": "circle"
         },
         "mode": "markers",
         "name": "mistral-7b-instruct",
         "orientation": "v",
         "showlegend": true,
         "x": [
          "(-0.001, 10.0]",
          "(-0.001, 10.0]",
          "(-0.001, 10.0]",
          "(-0.001, 10.0]",
          "(-0.001, 10.0]",
          "(10.0, 20.0]",
          "(10.0, 20.0]",
          "(10.0, 20.0]",
          "(10.0, 20.0]",
          "(10.0, 20.0]",
          "(20.0, 30.0]",
          "(20.0, 30.0]",
          "(20.0, 30.0]",
          "(20.0, 30.0]",
          "(20.0, 30.0]",
          "(30.0, 40.0]",
          "(30.0, 40.0]",
          "(30.0, 40.0]",
          "(30.0, 40.0]",
          "(30.0, 40.0]",
          "(40.0, 50.0]",
          "(40.0, 50.0]",
          "(40.0, 50.0]",
          "(40.0, 50.0]",
          "(40.0, 50.0]",
          "(50.0, 60.0]",
          "(50.0, 60.0]",
          "(50.0, 60.0]",
          "(50.0, 60.0]",
          "(50.0, 60.0]",
          "(60.0, 70.0]",
          "(60.0, 70.0]",
          "(60.0, 70.0]",
          "(60.0, 70.0]",
          "(60.0, 70.0]",
          "(70.0, 80.0]",
          "(70.0, 80.0]",
          "(70.0, 80.0]",
          "(70.0, 80.0]",
          "(70.0, 80.0]",
          "(80.0, 90.0]",
          "(80.0, 90.0]",
          "(80.0, 90.0]",
          "(80.0, 90.0]",
          "(80.0, 90.0]",
          "(90.0, 100.0]",
          "(90.0, 100.0]",
          "(90.0, 100.0]",
          "(90.0, 100.0]",
          "(90.0, 100.0]"
         ],
         "xaxis": "x",
         "y": [
          36,
          30,
          32,
          33,
          56,
          16,
          22,
          19,
          19,
          21,
          14,
          26,
          17,
          27,
          27,
          19,
          20,
          16,
          20,
          12,
          7,
          17,
          6,
          22,
          13,
          15,
          15,
          18,
          8,
          6,
          13,
          17,
          15,
          17,
          19,
          16,
          31,
          30,
          35,
          35,
          38,
          30,
          32,
          31,
          30,
          55,
          22,
          49,
          20,
          15
         ],
         "yaxis": "y",
         "type": "scatter"
        },
        {
         "customdata": [
          [
           0
          ],
          [
           1
          ],
          [
           2
          ],
          [
           3
          ],
          [
           4
          ],
          [
           0
          ],
          [
           1
          ],
          [
           2
          ],
          [
           3
          ],
          [
           4
          ],
          [
           0
          ],
          [
           1
          ],
          [
           2
          ],
          [
           3
          ],
          [
           4
          ],
          [
           0
          ],
          [
           1
          ],
          [
           2
          ],
          [
           3
          ],
          [
           4
          ],
          [
           0
          ],
          [
           1
          ],
          [
           2
          ],
          [
           3
          ],
          [
           4
          ],
          [
           0
          ],
          [
           1
          ],
          [
           2
          ],
          [
           3
          ],
          [
           4
          ],
          [
           0
          ],
          [
           1
          ],
          [
           2
          ],
          [
           3
          ],
          [
           4
          ],
          [
           0
          ],
          [
           1
          ],
          [
           2
          ],
          [
           3
          ],
          [
           4
          ],
          [
           0
          ],
          [
           1
          ],
          [
           2
          ],
          [
           3
          ],
          [
           4
          ],
          [
           0
          ],
          [
           1
          ],
          [
           2
          ],
          [
           3
          ],
          [
           4
          ]
         ],
         "hovertemplate": "<b>%{hovertext}</b><br><br>model=mixtral-8x7b-instruct<br>bin=%{x}<br>text=%{y}<br>prompt_id=%{customdata[0]}<extra></extra>",
         "hovertext": [
          "mixtral-8x7b-instruct",
          "mixtral-8x7b-instruct",
          "mixtral-8x7b-instruct",
          "mixtral-8x7b-instruct",
          "mixtral-8x7b-instruct",
          "mixtral-8x7b-instruct",
          "mixtral-8x7b-instruct",
          "mixtral-8x7b-instruct",
          "mixtral-8x7b-instruct",
          "mixtral-8x7b-instruct",
          "mixtral-8x7b-instruct",
          "mixtral-8x7b-instruct",
          "mixtral-8x7b-instruct",
          "mixtral-8x7b-instruct",
          "mixtral-8x7b-instruct",
          "mixtral-8x7b-instruct",
          "mixtral-8x7b-instruct",
          "mixtral-8x7b-instruct",
          "mixtral-8x7b-instruct",
          "mixtral-8x7b-instruct",
          "mixtral-8x7b-instruct",
          "mixtral-8x7b-instruct",
          "mixtral-8x7b-instruct",
          "mixtral-8x7b-instruct",
          "mixtral-8x7b-instruct",
          "mixtral-8x7b-instruct",
          "mixtral-8x7b-instruct",
          "mixtral-8x7b-instruct",
          "mixtral-8x7b-instruct",
          "mixtral-8x7b-instruct",
          "mixtral-8x7b-instruct",
          "mixtral-8x7b-instruct",
          "mixtral-8x7b-instruct",
          "mixtral-8x7b-instruct",
          "mixtral-8x7b-instruct",
          "mixtral-8x7b-instruct",
          "mixtral-8x7b-instruct",
          "mixtral-8x7b-instruct",
          "mixtral-8x7b-instruct",
          "mixtral-8x7b-instruct",
          "mixtral-8x7b-instruct",
          "mixtral-8x7b-instruct",
          "mixtral-8x7b-instruct",
          "mixtral-8x7b-instruct",
          "mixtral-8x7b-instruct",
          "mixtral-8x7b-instruct",
          "mixtral-8x7b-instruct",
          "mixtral-8x7b-instruct",
          "mixtral-8x7b-instruct",
          "mixtral-8x7b-instruct"
         ],
         "legendgroup": "mixtral-8x7b-instruct",
         "marker": {
          "color": "#EF553B",
          "symbol": "circle"
         },
         "mode": "markers",
         "name": "mixtral-8x7b-instruct",
         "orientation": "v",
         "showlegend": true,
         "x": [
          "(-0.001, 10.0]",
          "(-0.001, 10.0]",
          "(-0.001, 10.0]",
          "(-0.001, 10.0]",
          "(-0.001, 10.0]",
          "(10.0, 20.0]",
          "(10.0, 20.0]",
          "(10.0, 20.0]",
          "(10.0, 20.0]",
          "(10.0, 20.0]",
          "(20.0, 30.0]",
          "(20.0, 30.0]",
          "(20.0, 30.0]",
          "(20.0, 30.0]",
          "(20.0, 30.0]",
          "(30.0, 40.0]",
          "(30.0, 40.0]",
          "(30.0, 40.0]",
          "(30.0, 40.0]",
          "(30.0, 40.0]",
          "(40.0, 50.0]",
          "(40.0, 50.0]",
          "(40.0, 50.0]",
          "(40.0, 50.0]",
          "(40.0, 50.0]",
          "(50.0, 60.0]",
          "(50.0, 60.0]",
          "(50.0, 60.0]",
          "(50.0, 60.0]",
          "(50.0, 60.0]",
          "(60.0, 70.0]",
          "(60.0, 70.0]",
          "(60.0, 70.0]",
          "(60.0, 70.0]",
          "(60.0, 70.0]",
          "(70.0, 80.0]",
          "(70.0, 80.0]",
          "(70.0, 80.0]",
          "(70.0, 80.0]",
          "(70.0, 80.0]",
          "(80.0, 90.0]",
          "(80.0, 90.0]",
          "(80.0, 90.0]",
          "(80.0, 90.0]",
          "(80.0, 90.0]",
          "(90.0, 100.0]",
          "(90.0, 100.0]",
          "(90.0, 100.0]",
          "(90.0, 100.0]",
          "(90.0, 100.0]"
         ],
         "xaxis": "x",
         "y": [
          15,
          4,
          0,
          0,
          0,
          28,
          42,
          0,
          0,
          0,
          10,
          11,
          0,
          0,
          0,
          7,
          15,
          0,
          0,
          0,
          25,
          9,
          0,
          0,
          0,
          17,
          23,
          0,
          0,
          0,
          27,
          68,
          0,
          0,
          0,
          29,
          24,
          0,
          0,
          0,
          41,
          24,
          0,
          0,
          0,
          9,
          0,
          0,
          0,
          0
         ],
         "yaxis": "y",
         "type": "scatter"
        },
        {
         "customdata": [
          [
           0
          ],
          [
           1
          ],
          [
           2
          ],
          [
           3
          ],
          [
           4
          ],
          [
           0
          ],
          [
           1
          ],
          [
           2
          ],
          [
           3
          ],
          [
           4
          ],
          [
           0
          ],
          [
           1
          ],
          [
           2
          ],
          [
           3
          ],
          [
           4
          ],
          [
           0
          ],
          [
           1
          ],
          [
           2
          ],
          [
           3
          ],
          [
           4
          ],
          [
           0
          ],
          [
           1
          ],
          [
           2
          ],
          [
           3
          ],
          [
           4
          ],
          [
           0
          ],
          [
           1
          ],
          [
           2
          ],
          [
           3
          ],
          [
           4
          ],
          [
           0
          ],
          [
           1
          ],
          [
           2
          ],
          [
           3
          ],
          [
           4
          ],
          [
           0
          ],
          [
           1
          ],
          [
           2
          ],
          [
           3
          ],
          [
           4
          ],
          [
           0
          ],
          [
           1
          ],
          [
           2
          ],
          [
           3
          ],
          [
           4
          ],
          [
           0
          ],
          [
           1
          ],
          [
           2
          ],
          [
           3
          ],
          [
           4
          ]
         ],
         "hovertemplate": "<b>%{hovertext}</b><br><br>model=pplx-70b-chat<br>bin=%{x}<br>text=%{y}<br>prompt_id=%{customdata[0]}<extra></extra>",
         "hovertext": [
          "pplx-70b-chat",
          "pplx-70b-chat",
          "pplx-70b-chat",
          "pplx-70b-chat",
          "pplx-70b-chat",
          "pplx-70b-chat",
          "pplx-70b-chat",
          "pplx-70b-chat",
          "pplx-70b-chat",
          "pplx-70b-chat",
          "pplx-70b-chat",
          "pplx-70b-chat",
          "pplx-70b-chat",
          "pplx-70b-chat",
          "pplx-70b-chat",
          "pplx-70b-chat",
          "pplx-70b-chat",
          "pplx-70b-chat",
          "pplx-70b-chat",
          "pplx-70b-chat",
          "pplx-70b-chat",
          "pplx-70b-chat",
          "pplx-70b-chat",
          "pplx-70b-chat",
          "pplx-70b-chat",
          "pplx-70b-chat",
          "pplx-70b-chat",
          "pplx-70b-chat",
          "pplx-70b-chat",
          "pplx-70b-chat",
          "pplx-70b-chat",
          "pplx-70b-chat",
          "pplx-70b-chat",
          "pplx-70b-chat",
          "pplx-70b-chat",
          "pplx-70b-chat",
          "pplx-70b-chat",
          "pplx-70b-chat",
          "pplx-70b-chat",
          "pplx-70b-chat",
          "pplx-70b-chat",
          "pplx-70b-chat",
          "pplx-70b-chat",
          "pplx-70b-chat",
          "pplx-70b-chat",
          "pplx-70b-chat",
          "pplx-70b-chat",
          "pplx-70b-chat",
          "pplx-70b-chat",
          "pplx-70b-chat"
         ],
         "legendgroup": "pplx-70b-chat",
         "marker": {
          "color": "#00cc96",
          "symbol": "circle"
         },
         "mode": "markers",
         "name": "pplx-70b-chat",
         "orientation": "v",
         "showlegend": true,
         "x": [
          "(-0.001, 10.0]",
          "(-0.001, 10.0]",
          "(-0.001, 10.0]",
          "(-0.001, 10.0]",
          "(-0.001, 10.0]",
          "(10.0, 20.0]",
          "(10.0, 20.0]",
          "(10.0, 20.0]",
          "(10.0, 20.0]",
          "(10.0, 20.0]",
          "(20.0, 30.0]",
          "(20.0, 30.0]",
          "(20.0, 30.0]",
          "(20.0, 30.0]",
          "(20.0, 30.0]",
          "(30.0, 40.0]",
          "(30.0, 40.0]",
          "(30.0, 40.0]",
          "(30.0, 40.0]",
          "(30.0, 40.0]",
          "(40.0, 50.0]",
          "(40.0, 50.0]",
          "(40.0, 50.0]",
          "(40.0, 50.0]",
          "(40.0, 50.0]",
          "(50.0, 60.0]",
          "(50.0, 60.0]",
          "(50.0, 60.0]",
          "(50.0, 60.0]",
          "(50.0, 60.0]",
          "(60.0, 70.0]",
          "(60.0, 70.0]",
          "(60.0, 70.0]",
          "(60.0, 70.0]",
          "(60.0, 70.0]",
          "(70.0, 80.0]",
          "(70.0, 80.0]",
          "(70.0, 80.0]",
          "(70.0, 80.0]",
          "(70.0, 80.0]",
          "(80.0, 90.0]",
          "(80.0, 90.0]",
          "(80.0, 90.0]",
          "(80.0, 90.0]",
          "(80.0, 90.0]",
          "(90.0, 100.0]",
          "(90.0, 100.0]",
          "(90.0, 100.0]",
          "(90.0, 100.0]",
          "(90.0, 100.0]"
         ],
         "xaxis": "x",
         "y": [
          7,
          0,
          0,
          0,
          0,
          5,
          0,
          0,
          0,
          0,
          13,
          0,
          0,
          0,
          0,
          19,
          0,
          0,
          0,
          0,
          180,
          0,
          0,
          0,
          0,
          10,
          0,
          0,
          0,
          0,
          2,
          0,
          0,
          0,
          0,
          1,
          0,
          0,
          0,
          0,
          1,
          0,
          0,
          0,
          0,
          0,
          0,
          0,
          0,
          0
         ],
         "yaxis": "y",
         "type": "scatter"
        },
        {
         "customdata": [
          [
           0
          ],
          [
           1
          ],
          [
           2
          ],
          [
           3
          ],
          [
           4
          ],
          [
           0
          ],
          [
           1
          ],
          [
           2
          ],
          [
           3
          ],
          [
           4
          ],
          [
           0
          ],
          [
           1
          ],
          [
           2
          ],
          [
           3
          ],
          [
           4
          ],
          [
           0
          ],
          [
           1
          ],
          [
           2
          ],
          [
           3
          ],
          [
           4
          ],
          [
           0
          ],
          [
           1
          ],
          [
           2
          ],
          [
           3
          ],
          [
           4
          ],
          [
           0
          ],
          [
           1
          ],
          [
           2
          ],
          [
           3
          ],
          [
           4
          ],
          [
           0
          ],
          [
           1
          ],
          [
           2
          ],
          [
           3
          ],
          [
           4
          ],
          [
           0
          ],
          [
           1
          ],
          [
           2
          ],
          [
           3
          ],
          [
           4
          ],
          [
           0
          ],
          [
           1
          ],
          [
           2
          ],
          [
           3
          ],
          [
           4
          ],
          [
           0
          ],
          [
           1
          ],
          [
           2
          ],
          [
           3
          ],
          [
           4
          ]
         ],
         "hovertemplate": "<b>%{hovertext}</b><br><br>model=pplx-7b-chat<br>bin=%{x}<br>text=%{y}<br>prompt_id=%{customdata[0]}<extra></extra>",
         "hovertext": [
          "pplx-7b-chat",
          "pplx-7b-chat",
          "pplx-7b-chat",
          "pplx-7b-chat",
          "pplx-7b-chat",
          "pplx-7b-chat",
          "pplx-7b-chat",
          "pplx-7b-chat",
          "pplx-7b-chat",
          "pplx-7b-chat",
          "pplx-7b-chat",
          "pplx-7b-chat",
          "pplx-7b-chat",
          "pplx-7b-chat",
          "pplx-7b-chat",
          "pplx-7b-chat",
          "pplx-7b-chat",
          "pplx-7b-chat",
          "pplx-7b-chat",
          "pplx-7b-chat",
          "pplx-7b-chat",
          "pplx-7b-chat",
          "pplx-7b-chat",
          "pplx-7b-chat",
          "pplx-7b-chat",
          "pplx-7b-chat",
          "pplx-7b-chat",
          "pplx-7b-chat",
          "pplx-7b-chat",
          "pplx-7b-chat",
          "pplx-7b-chat",
          "pplx-7b-chat",
          "pplx-7b-chat",
          "pplx-7b-chat",
          "pplx-7b-chat",
          "pplx-7b-chat",
          "pplx-7b-chat",
          "pplx-7b-chat",
          "pplx-7b-chat",
          "pplx-7b-chat",
          "pplx-7b-chat",
          "pplx-7b-chat",
          "pplx-7b-chat",
          "pplx-7b-chat",
          "pplx-7b-chat",
          "pplx-7b-chat",
          "pplx-7b-chat",
          "pplx-7b-chat",
          "pplx-7b-chat",
          "pplx-7b-chat"
         ],
         "legendgroup": "pplx-7b-chat",
         "marker": {
          "color": "#ab63fa",
          "symbol": "circle"
         },
         "mode": "markers",
         "name": "pplx-7b-chat",
         "orientation": "v",
         "showlegend": true,
         "x": [
          "(-0.001, 10.0]",
          "(-0.001, 10.0]",
          "(-0.001, 10.0]",
          "(-0.001, 10.0]",
          "(-0.001, 10.0]",
          "(10.0, 20.0]",
          "(10.0, 20.0]",
          "(10.0, 20.0]",
          "(10.0, 20.0]",
          "(10.0, 20.0]",
          "(20.0, 30.0]",
          "(20.0, 30.0]",
          "(20.0, 30.0]",
          "(20.0, 30.0]",
          "(20.0, 30.0]",
          "(30.0, 40.0]",
          "(30.0, 40.0]",
          "(30.0, 40.0]",
          "(30.0, 40.0]",
          "(30.0, 40.0]",
          "(40.0, 50.0]",
          "(40.0, 50.0]",
          "(40.0, 50.0]",
          "(40.0, 50.0]",
          "(40.0, 50.0]",
          "(50.0, 60.0]",
          "(50.0, 60.0]",
          "(50.0, 60.0]",
          "(50.0, 60.0]",
          "(50.0, 60.0]",
          "(60.0, 70.0]",
          "(60.0, 70.0]",
          "(60.0, 70.0]",
          "(60.0, 70.0]",
          "(60.0, 70.0]",
          "(70.0, 80.0]",
          "(70.0, 80.0]",
          "(70.0, 80.0]",
          "(70.0, 80.0]",
          "(70.0, 80.0]",
          "(80.0, 90.0]",
          "(80.0, 90.0]",
          "(80.0, 90.0]",
          "(80.0, 90.0]",
          "(80.0, 90.0]",
          "(90.0, 100.0]",
          "(90.0, 100.0]",
          "(90.0, 100.0]",
          "(90.0, 100.0]",
          "(90.0, 100.0]"
         ],
         "xaxis": "x",
         "y": [
          13,
          0,
          0,
          0,
          0,
          9,
          0,
          0,
          0,
          0,
          27,
          0,
          0,
          0,
          0,
          17,
          0,
          0,
          0,
          0,
          47,
          0,
          0,
          0,
          0,
          22,
          0,
          0,
          0,
          0,
          14,
          0,
          0,
          0,
          0,
          14,
          0,
          0,
          0,
          0,
          17,
          0,
          0,
          0,
          0,
          15,
          0,
          0,
          0,
          0
         ],
         "yaxis": "y",
         "type": "scatter"
        }
       ],
       "layout": {
        "template": {
         "data": {
          "histogram2dcontour": [
           {
            "type": "histogram2dcontour",
            "colorbar": {
             "outlinewidth": 0,
             "ticks": ""
            },
            "colorscale": [
             [
              0.0,
              "#0d0887"
             ],
             [
              0.1111111111111111,
              "#46039f"
             ],
             [
              0.2222222222222222,
              "#7201a8"
             ],
             [
              0.3333333333333333,
              "#9c179e"
             ],
             [
              0.4444444444444444,
              "#bd3786"
             ],
             [
              0.5555555555555556,
              "#d8576b"
             ],
             [
              0.6666666666666666,
              "#ed7953"
             ],
             [
              0.7777777777777778,
              "#fb9f3a"
             ],
             [
              0.8888888888888888,
              "#fdca26"
             ],
             [
              1.0,
              "#f0f921"
             ]
            ]
           }
          ],
          "choropleth": [
           {
            "type": "choropleth",
            "colorbar": {
             "outlinewidth": 0,
             "ticks": ""
            }
           }
          ],
          "histogram2d": [
           {
            "type": "histogram2d",
            "colorbar": {
             "outlinewidth": 0,
             "ticks": ""
            },
            "colorscale": [
             [
              0.0,
              "#0d0887"
             ],
             [
              0.1111111111111111,
              "#46039f"
             ],
             [
              0.2222222222222222,
              "#7201a8"
             ],
             [
              0.3333333333333333,
              "#9c179e"
             ],
             [
              0.4444444444444444,
              "#bd3786"
             ],
             [
              0.5555555555555556,
              "#d8576b"
             ],
             [
              0.6666666666666666,
              "#ed7953"
             ],
             [
              0.7777777777777778,
              "#fb9f3a"
             ],
             [
              0.8888888888888888,
              "#fdca26"
             ],
             [
              1.0,
              "#f0f921"
             ]
            ]
           }
          ],
          "heatmap": [
           {
            "type": "heatmap",
            "colorbar": {
             "outlinewidth": 0,
             "ticks": ""
            },
            "colorscale": [
             [
              0.0,
              "#0d0887"
             ],
             [
              0.1111111111111111,
              "#46039f"
             ],
             [
              0.2222222222222222,
              "#7201a8"
             ],
             [
              0.3333333333333333,
              "#9c179e"
             ],
             [
              0.4444444444444444,
              "#bd3786"
             ],
             [
              0.5555555555555556,
              "#d8576b"
             ],
             [
              0.6666666666666666,
              "#ed7953"
             ],
             [
              0.7777777777777778,
              "#fb9f3a"
             ],
             [
              0.8888888888888888,
              "#fdca26"
             ],
             [
              1.0,
              "#f0f921"
             ]
            ]
           }
          ],
          "heatmapgl": [
           {
            "type": "heatmapgl",
            "colorbar": {
             "outlinewidth": 0,
             "ticks": ""
            },
            "colorscale": [
             [
              0.0,
              "#0d0887"
             ],
             [
              0.1111111111111111,
              "#46039f"
             ],
             [
              0.2222222222222222,
              "#7201a8"
             ],
             [
              0.3333333333333333,
              "#9c179e"
             ],
             [
              0.4444444444444444,
              "#bd3786"
             ],
             [
              0.5555555555555556,
              "#d8576b"
             ],
             [
              0.6666666666666666,
              "#ed7953"
             ],
             [
              0.7777777777777778,
              "#fb9f3a"
             ],
             [
              0.8888888888888888,
              "#fdca26"
             ],
             [
              1.0,
              "#f0f921"
             ]
            ]
           }
          ],
          "contourcarpet": [
           {
            "type": "contourcarpet",
            "colorbar": {
             "outlinewidth": 0,
             "ticks": ""
            }
           }
          ],
          "contour": [
           {
            "type": "contour",
            "colorbar": {
             "outlinewidth": 0,
             "ticks": ""
            },
            "colorscale": [
             [
              0.0,
              "#0d0887"
             ],
             [
              0.1111111111111111,
              "#46039f"
             ],
             [
              0.2222222222222222,
              "#7201a8"
             ],
             [
              0.3333333333333333,
              "#9c179e"
             ],
             [
              0.4444444444444444,
              "#bd3786"
             ],
             [
              0.5555555555555556,
              "#d8576b"
             ],
             [
              0.6666666666666666,
              "#ed7953"
             ],
             [
              0.7777777777777778,
              "#fb9f3a"
             ],
             [
              0.8888888888888888,
              "#fdca26"
             ],
             [
              1.0,
              "#f0f921"
             ]
            ]
           }
          ],
          "surface": [
           {
            "type": "surface",
            "colorbar": {
             "outlinewidth": 0,
             "ticks": ""
            },
            "colorscale": [
             [
              0.0,
              "#0d0887"
             ],
             [
              0.1111111111111111,
              "#46039f"
             ],
             [
              0.2222222222222222,
              "#7201a8"
             ],
             [
              0.3333333333333333,
              "#9c179e"
             ],
             [
              0.4444444444444444,
              "#bd3786"
             ],
             [
              0.5555555555555556,
              "#d8576b"
             ],
             [
              0.6666666666666666,
              "#ed7953"
             ],
             [
              0.7777777777777778,
              "#fb9f3a"
             ],
             [
              0.8888888888888888,
              "#fdca26"
             ],
             [
              1.0,
              "#f0f921"
             ]
            ]
           }
          ],
          "mesh3d": [
           {
            "type": "mesh3d",
            "colorbar": {
             "outlinewidth": 0,
             "ticks": ""
            }
           }
          ],
          "scatter": [
           {
            "marker": {
             "line": {
              "color": "#283442"
             }
            },
            "type": "scatter"
           }
          ],
          "parcoords": [
           {
            "type": "parcoords",
            "line": {
             "colorbar": {
              "outlinewidth": 0,
              "ticks": ""
             }
            }
           }
          ],
          "scatterpolargl": [
           {
            "type": "scatterpolargl",
            "marker": {
             "colorbar": {
              "outlinewidth": 0,
              "ticks": ""
             }
            }
           }
          ],
          "bar": [
           {
            "error_x": {
             "color": "#f2f5fa"
            },
            "error_y": {
             "color": "#f2f5fa"
            },
            "marker": {
             "line": {
              "color": "rgb(17,17,17)",
              "width": 0.5
             },
             "pattern": {
              "fillmode": "overlay",
              "size": 10,
              "solidity": 0.2
             }
            },
            "type": "bar"
           }
          ],
          "scattergeo": [
           {
            "type": "scattergeo",
            "marker": {
             "colorbar": {
              "outlinewidth": 0,
              "ticks": ""
             }
            }
           }
          ],
          "scatterpolar": [
           {
            "type": "scatterpolar",
            "marker": {
             "colorbar": {
              "outlinewidth": 0,
              "ticks": ""
             }
            }
           }
          ],
          "histogram": [
           {
            "marker": {
             "pattern": {
              "fillmode": "overlay",
              "size": 10,
              "solidity": 0.2
             }
            },
            "type": "histogram"
           }
          ],
          "scattergl": [
           {
            "marker": {
             "line": {
              "color": "#283442"
             }
            },
            "type": "scattergl"
           }
          ],
          "scatter3d": [
           {
            "type": "scatter3d",
            "line": {
             "colorbar": {
              "outlinewidth": 0,
              "ticks": ""
             }
            },
            "marker": {
             "colorbar": {
              "outlinewidth": 0,
              "ticks": ""
             }
            }
           }
          ],
          "scattermapbox": [
           {
            "type": "scattermapbox",
            "marker": {
             "colorbar": {
              "outlinewidth": 0,
              "ticks": ""
             }
            }
           }
          ],
          "scatterternary": [
           {
            "type": "scatterternary",
            "marker": {
             "colorbar": {
              "outlinewidth": 0,
              "ticks": ""
             }
            }
           }
          ],
          "scattercarpet": [
           {
            "type": "scattercarpet",
            "marker": {
             "colorbar": {
              "outlinewidth": 0,
              "ticks": ""
             }
            }
           }
          ],
          "carpet": [
           {
            "aaxis": {
             "endlinecolor": "#A2B1C6",
             "gridcolor": "#506784",
             "linecolor": "#506784",
             "minorgridcolor": "#506784",
             "startlinecolor": "#A2B1C6"
            },
            "baxis": {
             "endlinecolor": "#A2B1C6",
             "gridcolor": "#506784",
             "linecolor": "#506784",
             "minorgridcolor": "#506784",
             "startlinecolor": "#A2B1C6"
            },
            "type": "carpet"
           }
          ],
          "table": [
           {
            "cells": {
             "fill": {
              "color": "#506784"
             },
             "line": {
              "color": "rgb(17,17,17)"
             }
            },
            "header": {
             "fill": {
              "color": "#2a3f5f"
             },
             "line": {
              "color": "rgb(17,17,17)"
             }
            },
            "type": "table"
           }
          ],
          "barpolar": [
           {
            "marker": {
             "line": {
              "color": "rgb(17,17,17)",
              "width": 0.5
             },
             "pattern": {
              "fillmode": "overlay",
              "size": 10,
              "solidity": 0.2
             }
            },
            "type": "barpolar"
           }
          ],
          "pie": [
           {
            "automargin": true,
            "type": "pie"
           }
          ]
         },
         "layout": {
          "autotypenumbers": "strict",
          "colorway": [
           "#636efa",
           "#EF553B",
           "#00cc96",
           "#ab63fa",
           "#FFA15A",
           "#19d3f3",
           "#FF6692",
           "#B6E880",
           "#FF97FF",
           "#FECB52"
          ],
          "font": {
           "color": "#f2f5fa"
          },
          "hovermode": "closest",
          "hoverlabel": {
           "align": "left"
          },
          "paper_bgcolor": "rgb(17,17,17)",
          "plot_bgcolor": "rgb(17,17,17)",
          "polar": {
           "bgcolor": "rgb(17,17,17)",
           "angularaxis": {
            "gridcolor": "#506784",
            "linecolor": "#506784",
            "ticks": ""
           },
           "radialaxis": {
            "gridcolor": "#506784",
            "linecolor": "#506784",
            "ticks": ""
           }
          },
          "ternary": {
           "bgcolor": "rgb(17,17,17)",
           "aaxis": {
            "gridcolor": "#506784",
            "linecolor": "#506784",
            "ticks": ""
           },
           "baxis": {
            "gridcolor": "#506784",
            "linecolor": "#506784",
            "ticks": ""
           },
           "caxis": {
            "gridcolor": "#506784",
            "linecolor": "#506784",
            "ticks": ""
           }
          },
          "coloraxis": {
           "colorbar": {
            "outlinewidth": 0,
            "ticks": ""
           }
          },
          "colorscale": {
           "sequential": [
            [
             0.0,
             "#0d0887"
            ],
            [
             0.1111111111111111,
             "#46039f"
            ],
            [
             0.2222222222222222,
             "#7201a8"
            ],
            [
             0.3333333333333333,
             "#9c179e"
            ],
            [
             0.4444444444444444,
             "#bd3786"
            ],
            [
             0.5555555555555556,
             "#d8576b"
            ],
            [
             0.6666666666666666,
             "#ed7953"
            ],
            [
             0.7777777777777778,
             "#fb9f3a"
            ],
            [
             0.8888888888888888,
             "#fdca26"
            ],
            [
             1.0,
             "#f0f921"
            ]
           ],
           "sequentialminus": [
            [
             0.0,
             "#0d0887"
            ],
            [
             0.1111111111111111,
             "#46039f"
            ],
            [
             0.2222222222222222,
             "#7201a8"
            ],
            [
             0.3333333333333333,
             "#9c179e"
            ],
            [
             0.4444444444444444,
             "#bd3786"
            ],
            [
             0.5555555555555556,
             "#d8576b"
            ],
            [
             0.6666666666666666,
             "#ed7953"
            ],
            [
             0.7777777777777778,
             "#fb9f3a"
            ],
            [
             0.8888888888888888,
             "#fdca26"
            ],
            [
             1.0,
             "#f0f921"
            ]
           ],
           "diverging": [
            [
             0,
             "#8e0152"
            ],
            [
             0.1,
             "#c51b7d"
            ],
            [
             0.2,
             "#de77ae"
            ],
            [
             0.3,
             "#f1b6da"
            ],
            [
             0.4,
             "#fde0ef"
            ],
            [
             0.5,
             "#f7f7f7"
            ],
            [
             0.6,
             "#e6f5d0"
            ],
            [
             0.7,
             "#b8e186"
            ],
            [
             0.8,
             "#7fbc41"
            ],
            [
             0.9,
             "#4d9221"
            ],
            [
             1,
             "#276419"
            ]
           ]
          },
          "xaxis": {
           "gridcolor": "#283442",
           "linecolor": "#506784",
           "ticks": "",
           "title": {
            "standoff": 15
           },
           "zerolinecolor": "#283442",
           "automargin": true,
           "zerolinewidth": 2
          },
          "yaxis": {
           "gridcolor": "#283442",
           "linecolor": "#506784",
           "ticks": "",
           "title": {
            "standoff": 15
           },
           "zerolinecolor": "#283442",
           "automargin": true,
           "zerolinewidth": 2
          },
          "scene": {
           "xaxis": {
            "backgroundcolor": "rgb(17,17,17)",
            "gridcolor": "#506784",
            "linecolor": "#506784",
            "showbackground": true,
            "ticks": "",
            "zerolinecolor": "#C8D4E3",
            "gridwidth": 2
           },
           "yaxis": {
            "backgroundcolor": "rgb(17,17,17)",
            "gridcolor": "#506784",
            "linecolor": "#506784",
            "showbackground": true,
            "ticks": "",
            "zerolinecolor": "#C8D4E3",
            "gridwidth": 2
           },
           "zaxis": {
            "backgroundcolor": "rgb(17,17,17)",
            "gridcolor": "#506784",
            "linecolor": "#506784",
            "showbackground": true,
            "ticks": "",
            "zerolinecolor": "#C8D4E3",
            "gridwidth": 2
           }
          },
          "shapedefaults": {
           "line": {
            "color": "#f2f5fa"
           }
          },
          "annotationdefaults": {
           "arrowcolor": "#f2f5fa",
           "arrowhead": 0,
           "arrowwidth": 1
          },
          "geo": {
           "bgcolor": "rgb(17,17,17)",
           "landcolor": "rgb(17,17,17)",
           "subunitcolor": "#506784",
           "showland": true,
           "showlakes": true,
           "lakecolor": "rgb(17,17,17)"
          },
          "title": {
           "x": 0.05
          },
          "updatemenudefaults": {
           "bgcolor": "#506784",
           "borderwidth": 0
          },
          "sliderdefaults": {
           "bgcolor": "#C8D4E3",
           "borderwidth": 1,
           "bordercolor": "rgb(17,17,17)",
           "tickwidth": 0
          },
          "mapbox": {
           "style": "dark"
          }
         }
        },
        "xaxis": {
         "anchor": "y",
         "domain": [
          0.0,
          1.0
         ],
         "title": {
          "text": "bin"
         }
        },
        "yaxis": {
         "anchor": "x",
         "domain": [
          0.0,
          1.0
         ],
         "title": {
          "text": "text"
         }
        },
        "legend": {
         "title": {
          "text": "model"
         },
         "tracegroupgap": 0
        },
        "title": {
         "text": "Hate Speech Probability (only hatefull, our probability should be 1)"
        }
       },
       "config": {
        "plotlyServerURL": "https://plot.ly"
       }
      },
      "text/html": "<div>                            <div id=\"680210f7-6cca-4a47-a0c9-26863277bb4d\" class=\"plotly-graph-div\" style=\"height:525px; width:100%;\"></div>            <script type=\"text/javascript\">                require([\"plotly\"], function(Plotly) {                    window.PLOTLYENV=window.PLOTLYENV || {};                                    if (document.getElementById(\"680210f7-6cca-4a47-a0c9-26863277bb4d\")) {                    Plotly.newPlot(                        \"680210f7-6cca-4a47-a0c9-26863277bb4d\",                        [{\"customdata\":[[0],[1],[2],[3],[4],[0],[1],[2],[3],[4],[0],[1],[2],[3],[4],[0],[1],[2],[3],[4],[0],[1],[2],[3],[4],[0],[1],[2],[3],[4],[0],[1],[2],[3],[4],[0],[1],[2],[3],[4],[0],[1],[2],[3],[4],[0],[1],[2],[3],[4]],\"hovertemplate\":\"\\u003cb\\u003e%{hovertext}\\u003c\\u002fb\\u003e\\u003cbr\\u003e\\u003cbr\\u003emodel=mistral-7b-instruct\\u003cbr\\u003ebin=%{x}\\u003cbr\\u003etext=%{y}\\u003cbr\\u003eprompt_id=%{customdata[0]}\\u003cextra\\u003e\\u003c\\u002fextra\\u003e\",\"hovertext\":[\"mistral-7b-instruct\",\"mistral-7b-instruct\",\"mistral-7b-instruct\",\"mistral-7b-instruct\",\"mistral-7b-instruct\",\"mistral-7b-instruct\",\"mistral-7b-instruct\",\"mistral-7b-instruct\",\"mistral-7b-instruct\",\"mistral-7b-instruct\",\"mistral-7b-instruct\",\"mistral-7b-instruct\",\"mistral-7b-instruct\",\"mistral-7b-instruct\",\"mistral-7b-instruct\",\"mistral-7b-instruct\",\"mistral-7b-instruct\",\"mistral-7b-instruct\",\"mistral-7b-instruct\",\"mistral-7b-instruct\",\"mistral-7b-instruct\",\"mistral-7b-instruct\",\"mistral-7b-instruct\",\"mistral-7b-instruct\",\"mistral-7b-instruct\",\"mistral-7b-instruct\",\"mistral-7b-instruct\",\"mistral-7b-instruct\",\"mistral-7b-instruct\",\"mistral-7b-instruct\",\"mistral-7b-instruct\",\"mistral-7b-instruct\",\"mistral-7b-instruct\",\"mistral-7b-instruct\",\"mistral-7b-instruct\",\"mistral-7b-instruct\",\"mistral-7b-instruct\",\"mistral-7b-instruct\",\"mistral-7b-instruct\",\"mistral-7b-instruct\",\"mistral-7b-instruct\",\"mistral-7b-instruct\",\"mistral-7b-instruct\",\"mistral-7b-instruct\",\"mistral-7b-instruct\",\"mistral-7b-instruct\",\"mistral-7b-instruct\",\"mistral-7b-instruct\",\"mistral-7b-instruct\",\"mistral-7b-instruct\"],\"legendgroup\":\"mistral-7b-instruct\",\"marker\":{\"color\":\"#636efa\",\"symbol\":\"circle\"},\"mode\":\"markers\",\"name\":\"mistral-7b-instruct\",\"orientation\":\"v\",\"showlegend\":true,\"x\":[\"(-0.001, 10.0]\",\"(-0.001, 10.0]\",\"(-0.001, 10.0]\",\"(-0.001, 10.0]\",\"(-0.001, 10.0]\",\"(10.0, 20.0]\",\"(10.0, 20.0]\",\"(10.0, 20.0]\",\"(10.0, 20.0]\",\"(10.0, 20.0]\",\"(20.0, 30.0]\",\"(20.0, 30.0]\",\"(20.0, 30.0]\",\"(20.0, 30.0]\",\"(20.0, 30.0]\",\"(30.0, 40.0]\",\"(30.0, 40.0]\",\"(30.0, 40.0]\",\"(30.0, 40.0]\",\"(30.0, 40.0]\",\"(40.0, 50.0]\",\"(40.0, 50.0]\",\"(40.0, 50.0]\",\"(40.0, 50.0]\",\"(40.0, 50.0]\",\"(50.0, 60.0]\",\"(50.0, 60.0]\",\"(50.0, 60.0]\",\"(50.0, 60.0]\",\"(50.0, 60.0]\",\"(60.0, 70.0]\",\"(60.0, 70.0]\",\"(60.0, 70.0]\",\"(60.0, 70.0]\",\"(60.0, 70.0]\",\"(70.0, 80.0]\",\"(70.0, 80.0]\",\"(70.0, 80.0]\",\"(70.0, 80.0]\",\"(70.0, 80.0]\",\"(80.0, 90.0]\",\"(80.0, 90.0]\",\"(80.0, 90.0]\",\"(80.0, 90.0]\",\"(80.0, 90.0]\",\"(90.0, 100.0]\",\"(90.0, 100.0]\",\"(90.0, 100.0]\",\"(90.0, 100.0]\",\"(90.0, 100.0]\"],\"xaxis\":\"x\",\"y\":[36,30,32,33,56,16,22,19,19,21,14,26,17,27,27,19,20,16,20,12,7,17,6,22,13,15,15,18,8,6,13,17,15,17,19,16,31,30,35,35,38,30,32,31,30,55,22,49,20,15],\"yaxis\":\"y\",\"type\":\"scatter\"},{\"customdata\":[[0],[1],[2],[3],[4],[0],[1],[2],[3],[4],[0],[1],[2],[3],[4],[0],[1],[2],[3],[4],[0],[1],[2],[3],[4],[0],[1],[2],[3],[4],[0],[1],[2],[3],[4],[0],[1],[2],[3],[4],[0],[1],[2],[3],[4],[0],[1],[2],[3],[4]],\"hovertemplate\":\"\\u003cb\\u003e%{hovertext}\\u003c\\u002fb\\u003e\\u003cbr\\u003e\\u003cbr\\u003emodel=mixtral-8x7b-instruct\\u003cbr\\u003ebin=%{x}\\u003cbr\\u003etext=%{y}\\u003cbr\\u003eprompt_id=%{customdata[0]}\\u003cextra\\u003e\\u003c\\u002fextra\\u003e\",\"hovertext\":[\"mixtral-8x7b-instruct\",\"mixtral-8x7b-instruct\",\"mixtral-8x7b-instruct\",\"mixtral-8x7b-instruct\",\"mixtral-8x7b-instruct\",\"mixtral-8x7b-instruct\",\"mixtral-8x7b-instruct\",\"mixtral-8x7b-instruct\",\"mixtral-8x7b-instruct\",\"mixtral-8x7b-instruct\",\"mixtral-8x7b-instruct\",\"mixtral-8x7b-instruct\",\"mixtral-8x7b-instruct\",\"mixtral-8x7b-instruct\",\"mixtral-8x7b-instruct\",\"mixtral-8x7b-instruct\",\"mixtral-8x7b-instruct\",\"mixtral-8x7b-instruct\",\"mixtral-8x7b-instruct\",\"mixtral-8x7b-instruct\",\"mixtral-8x7b-instruct\",\"mixtral-8x7b-instruct\",\"mixtral-8x7b-instruct\",\"mixtral-8x7b-instruct\",\"mixtral-8x7b-instruct\",\"mixtral-8x7b-instruct\",\"mixtral-8x7b-instruct\",\"mixtral-8x7b-instruct\",\"mixtral-8x7b-instruct\",\"mixtral-8x7b-instruct\",\"mixtral-8x7b-instruct\",\"mixtral-8x7b-instruct\",\"mixtral-8x7b-instruct\",\"mixtral-8x7b-instruct\",\"mixtral-8x7b-instruct\",\"mixtral-8x7b-instruct\",\"mixtral-8x7b-instruct\",\"mixtral-8x7b-instruct\",\"mixtral-8x7b-instruct\",\"mixtral-8x7b-instruct\",\"mixtral-8x7b-instruct\",\"mixtral-8x7b-instruct\",\"mixtral-8x7b-instruct\",\"mixtral-8x7b-instruct\",\"mixtral-8x7b-instruct\",\"mixtral-8x7b-instruct\",\"mixtral-8x7b-instruct\",\"mixtral-8x7b-instruct\",\"mixtral-8x7b-instruct\",\"mixtral-8x7b-instruct\"],\"legendgroup\":\"mixtral-8x7b-instruct\",\"marker\":{\"color\":\"#EF553B\",\"symbol\":\"circle\"},\"mode\":\"markers\",\"name\":\"mixtral-8x7b-instruct\",\"orientation\":\"v\",\"showlegend\":true,\"x\":[\"(-0.001, 10.0]\",\"(-0.001, 10.0]\",\"(-0.001, 10.0]\",\"(-0.001, 10.0]\",\"(-0.001, 10.0]\",\"(10.0, 20.0]\",\"(10.0, 20.0]\",\"(10.0, 20.0]\",\"(10.0, 20.0]\",\"(10.0, 20.0]\",\"(20.0, 30.0]\",\"(20.0, 30.0]\",\"(20.0, 30.0]\",\"(20.0, 30.0]\",\"(20.0, 30.0]\",\"(30.0, 40.0]\",\"(30.0, 40.0]\",\"(30.0, 40.0]\",\"(30.0, 40.0]\",\"(30.0, 40.0]\",\"(40.0, 50.0]\",\"(40.0, 50.0]\",\"(40.0, 50.0]\",\"(40.0, 50.0]\",\"(40.0, 50.0]\",\"(50.0, 60.0]\",\"(50.0, 60.0]\",\"(50.0, 60.0]\",\"(50.0, 60.0]\",\"(50.0, 60.0]\",\"(60.0, 70.0]\",\"(60.0, 70.0]\",\"(60.0, 70.0]\",\"(60.0, 70.0]\",\"(60.0, 70.0]\",\"(70.0, 80.0]\",\"(70.0, 80.0]\",\"(70.0, 80.0]\",\"(70.0, 80.0]\",\"(70.0, 80.0]\",\"(80.0, 90.0]\",\"(80.0, 90.0]\",\"(80.0, 90.0]\",\"(80.0, 90.0]\",\"(80.0, 90.0]\",\"(90.0, 100.0]\",\"(90.0, 100.0]\",\"(90.0, 100.0]\",\"(90.0, 100.0]\",\"(90.0, 100.0]\"],\"xaxis\":\"x\",\"y\":[15,4,0,0,0,28,42,0,0,0,10,11,0,0,0,7,15,0,0,0,25,9,0,0,0,17,23,0,0,0,27,68,0,0,0,29,24,0,0,0,41,24,0,0,0,9,0,0,0,0],\"yaxis\":\"y\",\"type\":\"scatter\"},{\"customdata\":[[0],[1],[2],[3],[4],[0],[1],[2],[3],[4],[0],[1],[2],[3],[4],[0],[1],[2],[3],[4],[0],[1],[2],[3],[4],[0],[1],[2],[3],[4],[0],[1],[2],[3],[4],[0],[1],[2],[3],[4],[0],[1],[2],[3],[4],[0],[1],[2],[3],[4]],\"hovertemplate\":\"\\u003cb\\u003e%{hovertext}\\u003c\\u002fb\\u003e\\u003cbr\\u003e\\u003cbr\\u003emodel=pplx-70b-chat\\u003cbr\\u003ebin=%{x}\\u003cbr\\u003etext=%{y}\\u003cbr\\u003eprompt_id=%{customdata[0]}\\u003cextra\\u003e\\u003c\\u002fextra\\u003e\",\"hovertext\":[\"pplx-70b-chat\",\"pplx-70b-chat\",\"pplx-70b-chat\",\"pplx-70b-chat\",\"pplx-70b-chat\",\"pplx-70b-chat\",\"pplx-70b-chat\",\"pplx-70b-chat\",\"pplx-70b-chat\",\"pplx-70b-chat\",\"pplx-70b-chat\",\"pplx-70b-chat\",\"pplx-70b-chat\",\"pplx-70b-chat\",\"pplx-70b-chat\",\"pplx-70b-chat\",\"pplx-70b-chat\",\"pplx-70b-chat\",\"pplx-70b-chat\",\"pplx-70b-chat\",\"pplx-70b-chat\",\"pplx-70b-chat\",\"pplx-70b-chat\",\"pplx-70b-chat\",\"pplx-70b-chat\",\"pplx-70b-chat\",\"pplx-70b-chat\",\"pplx-70b-chat\",\"pplx-70b-chat\",\"pplx-70b-chat\",\"pplx-70b-chat\",\"pplx-70b-chat\",\"pplx-70b-chat\",\"pplx-70b-chat\",\"pplx-70b-chat\",\"pplx-70b-chat\",\"pplx-70b-chat\",\"pplx-70b-chat\",\"pplx-70b-chat\",\"pplx-70b-chat\",\"pplx-70b-chat\",\"pplx-70b-chat\",\"pplx-70b-chat\",\"pplx-70b-chat\",\"pplx-70b-chat\",\"pplx-70b-chat\",\"pplx-70b-chat\",\"pplx-70b-chat\",\"pplx-70b-chat\",\"pplx-70b-chat\"],\"legendgroup\":\"pplx-70b-chat\",\"marker\":{\"color\":\"#00cc96\",\"symbol\":\"circle\"},\"mode\":\"markers\",\"name\":\"pplx-70b-chat\",\"orientation\":\"v\",\"showlegend\":true,\"x\":[\"(-0.001, 10.0]\",\"(-0.001, 10.0]\",\"(-0.001, 10.0]\",\"(-0.001, 10.0]\",\"(-0.001, 10.0]\",\"(10.0, 20.0]\",\"(10.0, 20.0]\",\"(10.0, 20.0]\",\"(10.0, 20.0]\",\"(10.0, 20.0]\",\"(20.0, 30.0]\",\"(20.0, 30.0]\",\"(20.0, 30.0]\",\"(20.0, 30.0]\",\"(20.0, 30.0]\",\"(30.0, 40.0]\",\"(30.0, 40.0]\",\"(30.0, 40.0]\",\"(30.0, 40.0]\",\"(30.0, 40.0]\",\"(40.0, 50.0]\",\"(40.0, 50.0]\",\"(40.0, 50.0]\",\"(40.0, 50.0]\",\"(40.0, 50.0]\",\"(50.0, 60.0]\",\"(50.0, 60.0]\",\"(50.0, 60.0]\",\"(50.0, 60.0]\",\"(50.0, 60.0]\",\"(60.0, 70.0]\",\"(60.0, 70.0]\",\"(60.0, 70.0]\",\"(60.0, 70.0]\",\"(60.0, 70.0]\",\"(70.0, 80.0]\",\"(70.0, 80.0]\",\"(70.0, 80.0]\",\"(70.0, 80.0]\",\"(70.0, 80.0]\",\"(80.0, 90.0]\",\"(80.0, 90.0]\",\"(80.0, 90.0]\",\"(80.0, 90.0]\",\"(80.0, 90.0]\",\"(90.0, 100.0]\",\"(90.0, 100.0]\",\"(90.0, 100.0]\",\"(90.0, 100.0]\",\"(90.0, 100.0]\"],\"xaxis\":\"x\",\"y\":[7,0,0,0,0,5,0,0,0,0,13,0,0,0,0,19,0,0,0,0,180,0,0,0,0,10,0,0,0,0,2,0,0,0,0,1,0,0,0,0,1,0,0,0,0,0,0,0,0,0],\"yaxis\":\"y\",\"type\":\"scatter\"},{\"customdata\":[[0],[1],[2],[3],[4],[0],[1],[2],[3],[4],[0],[1],[2],[3],[4],[0],[1],[2],[3],[4],[0],[1],[2],[3],[4],[0],[1],[2],[3],[4],[0],[1],[2],[3],[4],[0],[1],[2],[3],[4],[0],[1],[2],[3],[4],[0],[1],[2],[3],[4]],\"hovertemplate\":\"\\u003cb\\u003e%{hovertext}\\u003c\\u002fb\\u003e\\u003cbr\\u003e\\u003cbr\\u003emodel=pplx-7b-chat\\u003cbr\\u003ebin=%{x}\\u003cbr\\u003etext=%{y}\\u003cbr\\u003eprompt_id=%{customdata[0]}\\u003cextra\\u003e\\u003c\\u002fextra\\u003e\",\"hovertext\":[\"pplx-7b-chat\",\"pplx-7b-chat\",\"pplx-7b-chat\",\"pplx-7b-chat\",\"pplx-7b-chat\",\"pplx-7b-chat\",\"pplx-7b-chat\",\"pplx-7b-chat\",\"pplx-7b-chat\",\"pplx-7b-chat\",\"pplx-7b-chat\",\"pplx-7b-chat\",\"pplx-7b-chat\",\"pplx-7b-chat\",\"pplx-7b-chat\",\"pplx-7b-chat\",\"pplx-7b-chat\",\"pplx-7b-chat\",\"pplx-7b-chat\",\"pplx-7b-chat\",\"pplx-7b-chat\",\"pplx-7b-chat\",\"pplx-7b-chat\",\"pplx-7b-chat\",\"pplx-7b-chat\",\"pplx-7b-chat\",\"pplx-7b-chat\",\"pplx-7b-chat\",\"pplx-7b-chat\",\"pplx-7b-chat\",\"pplx-7b-chat\",\"pplx-7b-chat\",\"pplx-7b-chat\",\"pplx-7b-chat\",\"pplx-7b-chat\",\"pplx-7b-chat\",\"pplx-7b-chat\",\"pplx-7b-chat\",\"pplx-7b-chat\",\"pplx-7b-chat\",\"pplx-7b-chat\",\"pplx-7b-chat\",\"pplx-7b-chat\",\"pplx-7b-chat\",\"pplx-7b-chat\",\"pplx-7b-chat\",\"pplx-7b-chat\",\"pplx-7b-chat\",\"pplx-7b-chat\",\"pplx-7b-chat\"],\"legendgroup\":\"pplx-7b-chat\",\"marker\":{\"color\":\"#ab63fa\",\"symbol\":\"circle\"},\"mode\":\"markers\",\"name\":\"pplx-7b-chat\",\"orientation\":\"v\",\"showlegend\":true,\"x\":[\"(-0.001, 10.0]\",\"(-0.001, 10.0]\",\"(-0.001, 10.0]\",\"(-0.001, 10.0]\",\"(-0.001, 10.0]\",\"(10.0, 20.0]\",\"(10.0, 20.0]\",\"(10.0, 20.0]\",\"(10.0, 20.0]\",\"(10.0, 20.0]\",\"(20.0, 30.0]\",\"(20.0, 30.0]\",\"(20.0, 30.0]\",\"(20.0, 30.0]\",\"(20.0, 30.0]\",\"(30.0, 40.0]\",\"(30.0, 40.0]\",\"(30.0, 40.0]\",\"(30.0, 40.0]\",\"(30.0, 40.0]\",\"(40.0, 50.0]\",\"(40.0, 50.0]\",\"(40.0, 50.0]\",\"(40.0, 50.0]\",\"(40.0, 50.0]\",\"(50.0, 60.0]\",\"(50.0, 60.0]\",\"(50.0, 60.0]\",\"(50.0, 60.0]\",\"(50.0, 60.0]\",\"(60.0, 70.0]\",\"(60.0, 70.0]\",\"(60.0, 70.0]\",\"(60.0, 70.0]\",\"(60.0, 70.0]\",\"(70.0, 80.0]\",\"(70.0, 80.0]\",\"(70.0, 80.0]\",\"(70.0, 80.0]\",\"(70.0, 80.0]\",\"(80.0, 90.0]\",\"(80.0, 90.0]\",\"(80.0, 90.0]\",\"(80.0, 90.0]\",\"(80.0, 90.0]\",\"(90.0, 100.0]\",\"(90.0, 100.0]\",\"(90.0, 100.0]\",\"(90.0, 100.0]\",\"(90.0, 100.0]\"],\"xaxis\":\"x\",\"y\":[13,0,0,0,0,9,0,0,0,0,27,0,0,0,0,17,0,0,0,0,47,0,0,0,0,22,0,0,0,0,14,0,0,0,0,14,0,0,0,0,17,0,0,0,0,15,0,0,0,0],\"yaxis\":\"y\",\"type\":\"scatter\"}],                        {\"template\":{\"data\":{\"histogram2dcontour\":[{\"type\":\"histogram2dcontour\",\"colorbar\":{\"outlinewidth\":0,\"ticks\":\"\"},\"colorscale\":[[0.0,\"#0d0887\"],[0.1111111111111111,\"#46039f\"],[0.2222222222222222,\"#7201a8\"],[0.3333333333333333,\"#9c179e\"],[0.4444444444444444,\"#bd3786\"],[0.5555555555555556,\"#d8576b\"],[0.6666666666666666,\"#ed7953\"],[0.7777777777777778,\"#fb9f3a\"],[0.8888888888888888,\"#fdca26\"],[1.0,\"#f0f921\"]]}],\"choropleth\":[{\"type\":\"choropleth\",\"colorbar\":{\"outlinewidth\":0,\"ticks\":\"\"}}],\"histogram2d\":[{\"type\":\"histogram2d\",\"colorbar\":{\"outlinewidth\":0,\"ticks\":\"\"},\"colorscale\":[[0.0,\"#0d0887\"],[0.1111111111111111,\"#46039f\"],[0.2222222222222222,\"#7201a8\"],[0.3333333333333333,\"#9c179e\"],[0.4444444444444444,\"#bd3786\"],[0.5555555555555556,\"#d8576b\"],[0.6666666666666666,\"#ed7953\"],[0.7777777777777778,\"#fb9f3a\"],[0.8888888888888888,\"#fdca26\"],[1.0,\"#f0f921\"]]}],\"heatmap\":[{\"type\":\"heatmap\",\"colorbar\":{\"outlinewidth\":0,\"ticks\":\"\"},\"colorscale\":[[0.0,\"#0d0887\"],[0.1111111111111111,\"#46039f\"],[0.2222222222222222,\"#7201a8\"],[0.3333333333333333,\"#9c179e\"],[0.4444444444444444,\"#bd3786\"],[0.5555555555555556,\"#d8576b\"],[0.6666666666666666,\"#ed7953\"],[0.7777777777777778,\"#fb9f3a\"],[0.8888888888888888,\"#fdca26\"],[1.0,\"#f0f921\"]]}],\"heatmapgl\":[{\"type\":\"heatmapgl\",\"colorbar\":{\"outlinewidth\":0,\"ticks\":\"\"},\"colorscale\":[[0.0,\"#0d0887\"],[0.1111111111111111,\"#46039f\"],[0.2222222222222222,\"#7201a8\"],[0.3333333333333333,\"#9c179e\"],[0.4444444444444444,\"#bd3786\"],[0.5555555555555556,\"#d8576b\"],[0.6666666666666666,\"#ed7953\"],[0.7777777777777778,\"#fb9f3a\"],[0.8888888888888888,\"#fdca26\"],[1.0,\"#f0f921\"]]}],\"contourcarpet\":[{\"type\":\"contourcarpet\",\"colorbar\":{\"outlinewidth\":0,\"ticks\":\"\"}}],\"contour\":[{\"type\":\"contour\",\"colorbar\":{\"outlinewidth\":0,\"ticks\":\"\"},\"colorscale\":[[0.0,\"#0d0887\"],[0.1111111111111111,\"#46039f\"],[0.2222222222222222,\"#7201a8\"],[0.3333333333333333,\"#9c179e\"],[0.4444444444444444,\"#bd3786\"],[0.5555555555555556,\"#d8576b\"],[0.6666666666666666,\"#ed7953\"],[0.7777777777777778,\"#fb9f3a\"],[0.8888888888888888,\"#fdca26\"],[1.0,\"#f0f921\"]]}],\"surface\":[{\"type\":\"surface\",\"colorbar\":{\"outlinewidth\":0,\"ticks\":\"\"},\"colorscale\":[[0.0,\"#0d0887\"],[0.1111111111111111,\"#46039f\"],[0.2222222222222222,\"#7201a8\"],[0.3333333333333333,\"#9c179e\"],[0.4444444444444444,\"#bd3786\"],[0.5555555555555556,\"#d8576b\"],[0.6666666666666666,\"#ed7953\"],[0.7777777777777778,\"#fb9f3a\"],[0.8888888888888888,\"#fdca26\"],[1.0,\"#f0f921\"]]}],\"mesh3d\":[{\"type\":\"mesh3d\",\"colorbar\":{\"outlinewidth\":0,\"ticks\":\"\"}}],\"scatter\":[{\"marker\":{\"line\":{\"color\":\"#283442\"}},\"type\":\"scatter\"}],\"parcoords\":[{\"type\":\"parcoords\",\"line\":{\"colorbar\":{\"outlinewidth\":0,\"ticks\":\"\"}}}],\"scatterpolargl\":[{\"type\":\"scatterpolargl\",\"marker\":{\"colorbar\":{\"outlinewidth\":0,\"ticks\":\"\"}}}],\"bar\":[{\"error_x\":{\"color\":\"#f2f5fa\"},\"error_y\":{\"color\":\"#f2f5fa\"},\"marker\":{\"line\":{\"color\":\"rgb(17,17,17)\",\"width\":0.5},\"pattern\":{\"fillmode\":\"overlay\",\"size\":10,\"solidity\":0.2}},\"type\":\"bar\"}],\"scattergeo\":[{\"type\":\"scattergeo\",\"marker\":{\"colorbar\":{\"outlinewidth\":0,\"ticks\":\"\"}}}],\"scatterpolar\":[{\"type\":\"scatterpolar\",\"marker\":{\"colorbar\":{\"outlinewidth\":0,\"ticks\":\"\"}}}],\"histogram\":[{\"marker\":{\"pattern\":{\"fillmode\":\"overlay\",\"size\":10,\"solidity\":0.2}},\"type\":\"histogram\"}],\"scattergl\":[{\"marker\":{\"line\":{\"color\":\"#283442\"}},\"type\":\"scattergl\"}],\"scatter3d\":[{\"type\":\"scatter3d\",\"line\":{\"colorbar\":{\"outlinewidth\":0,\"ticks\":\"\"}},\"marker\":{\"colorbar\":{\"outlinewidth\":0,\"ticks\":\"\"}}}],\"scattermapbox\":[{\"type\":\"scattermapbox\",\"marker\":{\"colorbar\":{\"outlinewidth\":0,\"ticks\":\"\"}}}],\"scatterternary\":[{\"type\":\"scatterternary\",\"marker\":{\"colorbar\":{\"outlinewidth\":0,\"ticks\":\"\"}}}],\"scattercarpet\":[{\"type\":\"scattercarpet\",\"marker\":{\"colorbar\":{\"outlinewidth\":0,\"ticks\":\"\"}}}],\"carpet\":[{\"aaxis\":{\"endlinecolor\":\"#A2B1C6\",\"gridcolor\":\"#506784\",\"linecolor\":\"#506784\",\"minorgridcolor\":\"#506784\",\"startlinecolor\":\"#A2B1C6\"},\"baxis\":{\"endlinecolor\":\"#A2B1C6\",\"gridcolor\":\"#506784\",\"linecolor\":\"#506784\",\"minorgridcolor\":\"#506784\",\"startlinecolor\":\"#A2B1C6\"},\"type\":\"carpet\"}],\"table\":[{\"cells\":{\"fill\":{\"color\":\"#506784\"},\"line\":{\"color\":\"rgb(17,17,17)\"}},\"header\":{\"fill\":{\"color\":\"#2a3f5f\"},\"line\":{\"color\":\"rgb(17,17,17)\"}},\"type\":\"table\"}],\"barpolar\":[{\"marker\":{\"line\":{\"color\":\"rgb(17,17,17)\",\"width\":0.5},\"pattern\":{\"fillmode\":\"overlay\",\"size\":10,\"solidity\":0.2}},\"type\":\"barpolar\"}],\"pie\":[{\"automargin\":true,\"type\":\"pie\"}]},\"layout\":{\"autotypenumbers\":\"strict\",\"colorway\":[\"#636efa\",\"#EF553B\",\"#00cc96\",\"#ab63fa\",\"#FFA15A\",\"#19d3f3\",\"#FF6692\",\"#B6E880\",\"#FF97FF\",\"#FECB52\"],\"font\":{\"color\":\"#f2f5fa\"},\"hovermode\":\"closest\",\"hoverlabel\":{\"align\":\"left\"},\"paper_bgcolor\":\"rgb(17,17,17)\",\"plot_bgcolor\":\"rgb(17,17,17)\",\"polar\":{\"bgcolor\":\"rgb(17,17,17)\",\"angularaxis\":{\"gridcolor\":\"#506784\",\"linecolor\":\"#506784\",\"ticks\":\"\"},\"radialaxis\":{\"gridcolor\":\"#506784\",\"linecolor\":\"#506784\",\"ticks\":\"\"}},\"ternary\":{\"bgcolor\":\"rgb(17,17,17)\",\"aaxis\":{\"gridcolor\":\"#506784\",\"linecolor\":\"#506784\",\"ticks\":\"\"},\"baxis\":{\"gridcolor\":\"#506784\",\"linecolor\":\"#506784\",\"ticks\":\"\"},\"caxis\":{\"gridcolor\":\"#506784\",\"linecolor\":\"#506784\",\"ticks\":\"\"}},\"coloraxis\":{\"colorbar\":{\"outlinewidth\":0,\"ticks\":\"\"}},\"colorscale\":{\"sequential\":[[0.0,\"#0d0887\"],[0.1111111111111111,\"#46039f\"],[0.2222222222222222,\"#7201a8\"],[0.3333333333333333,\"#9c179e\"],[0.4444444444444444,\"#bd3786\"],[0.5555555555555556,\"#d8576b\"],[0.6666666666666666,\"#ed7953\"],[0.7777777777777778,\"#fb9f3a\"],[0.8888888888888888,\"#fdca26\"],[1.0,\"#f0f921\"]],\"sequentialminus\":[[0.0,\"#0d0887\"],[0.1111111111111111,\"#46039f\"],[0.2222222222222222,\"#7201a8\"],[0.3333333333333333,\"#9c179e\"],[0.4444444444444444,\"#bd3786\"],[0.5555555555555556,\"#d8576b\"],[0.6666666666666666,\"#ed7953\"],[0.7777777777777778,\"#fb9f3a\"],[0.8888888888888888,\"#fdca26\"],[1.0,\"#f0f921\"]],\"diverging\":[[0,\"#8e0152\"],[0.1,\"#c51b7d\"],[0.2,\"#de77ae\"],[0.3,\"#f1b6da\"],[0.4,\"#fde0ef\"],[0.5,\"#f7f7f7\"],[0.6,\"#e6f5d0\"],[0.7,\"#b8e186\"],[0.8,\"#7fbc41\"],[0.9,\"#4d9221\"],[1,\"#276419\"]]},\"xaxis\":{\"gridcolor\":\"#283442\",\"linecolor\":\"#506784\",\"ticks\":\"\",\"title\":{\"standoff\":15},\"zerolinecolor\":\"#283442\",\"automargin\":true,\"zerolinewidth\":2},\"yaxis\":{\"gridcolor\":\"#283442\",\"linecolor\":\"#506784\",\"ticks\":\"\",\"title\":{\"standoff\":15},\"zerolinecolor\":\"#283442\",\"automargin\":true,\"zerolinewidth\":2},\"scene\":{\"xaxis\":{\"backgroundcolor\":\"rgb(17,17,17)\",\"gridcolor\":\"#506784\",\"linecolor\":\"#506784\",\"showbackground\":true,\"ticks\":\"\",\"zerolinecolor\":\"#C8D4E3\",\"gridwidth\":2},\"yaxis\":{\"backgroundcolor\":\"rgb(17,17,17)\",\"gridcolor\":\"#506784\",\"linecolor\":\"#506784\",\"showbackground\":true,\"ticks\":\"\",\"zerolinecolor\":\"#C8D4E3\",\"gridwidth\":2},\"zaxis\":{\"backgroundcolor\":\"rgb(17,17,17)\",\"gridcolor\":\"#506784\",\"linecolor\":\"#506784\",\"showbackground\":true,\"ticks\":\"\",\"zerolinecolor\":\"#C8D4E3\",\"gridwidth\":2}},\"shapedefaults\":{\"line\":{\"color\":\"#f2f5fa\"}},\"annotationdefaults\":{\"arrowcolor\":\"#f2f5fa\",\"arrowhead\":0,\"arrowwidth\":1},\"geo\":{\"bgcolor\":\"rgb(17,17,17)\",\"landcolor\":\"rgb(17,17,17)\",\"subunitcolor\":\"#506784\",\"showland\":true,\"showlakes\":true,\"lakecolor\":\"rgb(17,17,17)\"},\"title\":{\"x\":0.05},\"updatemenudefaults\":{\"bgcolor\":\"#506784\",\"borderwidth\":0},\"sliderdefaults\":{\"bgcolor\":\"#C8D4E3\",\"borderwidth\":1,\"bordercolor\":\"rgb(17,17,17)\",\"tickwidth\":0},\"mapbox\":{\"style\":\"dark\"}}},\"xaxis\":{\"anchor\":\"y\",\"domain\":[0.0,1.0],\"title\":{\"text\":\"bin\"}},\"yaxis\":{\"anchor\":\"x\",\"domain\":[0.0,1.0],\"title\":{\"text\":\"text\"}},\"legend\":{\"title\":{\"text\":\"model\"},\"tracegroupgap\":0},\"title\":{\"text\":\"Hate Speech Probability (only hatefull, our probability should be 1)\"}},                        {\"responsive\": true}                    ).then(function(){\n                            \nvar gd = document.getElementById('680210f7-6cca-4a47-a0c9-26863277bb4d');\nvar x = new MutationObserver(function (mutations, observer) {{\n        var display = window.getComputedStyle(gd).display;\n        if (!display || display === 'none') {{\n            console.log([gd, 'removed!']);\n            Plotly.purge(gd);\n            observer.disconnect();\n        }}\n}});\n\n// Listen for the removal of the full notebook cells\nvar notebookContainer = gd.closest('#notebook-container');\nif (notebookContainer) {{\n    x.observe(notebookContainer, {childList: true});\n}}\n\n// Listen for the clearing of the current output cell\nvar outputEl = gd.closest('.output');\nif (outputEl) {{\n    x.observe(outputEl, {childList: true});\n}}\n\n                        })                };                });            </script>        </div>"
     },
     "metadata": {},
     "output_type": "display_data"
    }
   ],
   "source": [
    "import numpy as np\n",
    "import plotly.express as px\n",
    "df[\"bin\"] = pd.cut(df['hate_speech_probability']*100, bins=np.arange(0, 110, 10),include_lowest=True)\n",
    "df['bin'] = df[\"bin\"].apply(lambda bin: str(bin))\n",
    "\n",
    "true_df = df.query(\"labeled_hateful\")\n",
    "df_grouped = true_df.groupby([\"bin\", \"model\", \"prompt_id\"]).count().reset_index()\n",
    "fig = px.scatter(df_grouped, x=\"bin\", y=\"text\", color=\"model\", hover_data=\"prompt_id\", hover_name=\"model\", title=\"Hate Speech Probability (only hatefull, our probability should be 1)\")\n",
    "fig.show()"
   ]
  },
  {
   "cell_type": "code",
   "execution_count": 40,
   "metadata": {
    "ExecuteTime": {
     "end_time": "2024-01-10T15:50:27.227306171Z",
     "start_time": "2024-01-10T15:50:27.133058306Z"
    }
   },
   "outputs": [
    {
     "name": "stdout",
     "output_type": "stream",
     "text": [
      "---------- mistral-7b-instruct - 0 -----------\n",
      "Refusals 0\n",
      "ROC AUC Score: 0.8663902242119554\n",
      "Log Loss:      1.5364423370243363\n",
      "Brier Score:   0.17990835117773019\n",
      "---------- mistral-7b-instruct - 1 -----------\n",
      "Refusals 0\n",
      "ROC AUC Score: 0.7974544778892605\n",
      "Log Loss:      1.43790559586025\n",
      "Brier Score:   0.20107241379310345\n",
      "---------- mistral-7b-instruct - 2 -----------\n",
      "Refusals 0\n",
      "ROC AUC Score: 0.835662668280694\n",
      "Log Loss:      1.2815671586254054\n",
      "Brier Score:   0.1900421841541756\n",
      "---------- mistral-7b-instruct - 3 -----------\n",
      "Refusals 0\n",
      "ROC AUC Score: 0.7867479823917829\n",
      "Log Loss:      1.387492181645839\n",
      "Brier Score:   0.20950749464668092\n",
      "---------- mistral-7b-instruct - 4 -----------\n",
      "Refusals 0\n",
      "ROC AUC Score: 0.7981905801054736\n",
      "Log Loss:      2.2914927813506214\n",
      "Brier Score:   0.2304957356076759\n",
      "--------- mixtral-8x7b-instruct - 0 ----------\n",
      "Refusals 0\n",
      "ROC AUC Score: 0.8256066849816851\n",
      "Log Loss:      0.5657028888427675\n",
      "Brier Score:   0.1899998205741627\n",
      "--------- mixtral-8x7b-instruct - 1 ----------\n",
      "Refusals 0\n",
      "ROC AUC Score: 0.7328072390572391\n",
      "Log Loss:      0.7882086648304424\n",
      "Brier Score:   0.22034403669724772\n",
      "------------- pplx-70b-chat - 0 --------------\n",
      "Refusals 0\n",
      "ROC AUC Score: 0.6332743623765296\n",
      "Log Loss:      0.9634745904720525\n",
      "Brier Score:   0.2466670642397447\n",
      "-------------- pplx-7b-chat - 0 --------------\n",
      "Refusals 0\n",
      "ROC AUC Score: 0.7928969581143493\n",
      "Log Loss:      1.0990055176937912\n",
      "Brier Score:   0.2185840039606742\n"
     ]
    }
   ],
   "source": [
    "from sklearn.metrics import roc_auc_score, log_loss, brier_score_loss\n",
    "\n",
    "for model in df[\"model\"].unique():\n",
    "    # Assuming y_true is your array of true labels and y_pred is your array of predicted probabilities\n",
    "    no_nans = df[df[\"hate_speech_probability\"].notna()]\n",
    "    filtered_by_model = no_nans[no_nans[\"model\"]==model]\n",
    "    for prompt_id in filtered_by_model[\"prompt_id\"].unique():\n",
    "        model_prompt_specific = filtered_by_model[filtered_by_model[\"prompt_id\"] == prompt_id]\n",
    "        y_true = model_prompt_specific['labeled_hateful']\n",
    "        y_pred = model_prompt_specific['hate_speech_probability']\n",
    "        \n",
    "        print(f\" {model} - {prompt_id} \".center(46,'-'))\n",
    "        print(f\"Refusals {df[df['hate_speech_probability'].isna()]['hate_speech_probability'].count()}\")\n",
    "        print(f\"ROC AUC Score: {roc_auc_score(y_true, y_pred)}\")\n",
    "        print(f\"Log Loss:      {log_loss(y_true, y_pred)}\")\n",
    "        print(f\"Brier Score:   {brier_score_loss(y_true, y_pred)}\")"
   ]
  },
  {
   "cell_type": "code",
   "execution_count": 41,
   "metadata": {
    "collapsed": false,
    "ExecuteTime": {
     "end_time": "2024-01-10T15:50:27.239341158Z",
     "start_time": "2024-01-10T15:50:27.170079464Z"
    }
   },
   "outputs": [
    {
     "data": {
      "text/plain": "     prompt_id                model  sample_size  \\\n0            0  mistral-7b-instruct          478   \n1            0  mistral-7b-instruct          478   \n2            0  mistral-7b-instruct          478   \n3            0  mistral-7b-instruct          478   \n4            0  mistral-7b-instruct          478   \n..         ...                  ...          ...   \n473          4  mistral-7b-instruct          478   \n474          4  mistral-7b-instruct          478   \n475          4  mistral-7b-instruct          478   \n476          4  mistral-7b-instruct          478   \n477          4  mistral-7b-instruct          478   \n\n                                                  text  \\\n0    So you would refuse even other Nordic whites f...   \n1         Just Google it and you 'll see what I mean .   \n2    During the early punk scene , he was always se...   \n3    DuetschGirlTX, No I live in a tiny ass town wh...   \n4    YouTube - Teacher Attacked for Being White 9 y...   \n..                                                 ...   \n473                                Only scored a 120 .   \n474  The White race is best because when the Creato...   \n475  I tried to sign up there once & they refused t...   \n476  I'm more of a grappler than a striker , I woul...   \n477  More than that I cringe every time I go to han...   \n\n                                                answer  labeled_hateful  \\\n0    { \\n  \"relevant_facts\": [\\n    \"The sentence e...             True   \n1    { \\n  \"relevant_facts\": [\\n    \"The sentence c...            False   \n2    { \\n  \"relevant_facts\": [\\n    \"The person in ...            False   \n3    { \\n  \"relevant_facts\": [\"The speaker is ident...             True   \n4    \\n{ \\n  \"relevant_facts\": [\\n    \"A 9-year-old...            False   \n..                                                 ...              ...   \n473  {\\n\"relevant_word_definitions\": {\\n\"scored\": \"...            False   \n474  \\n{\\n  \"relevant_word_definitions\": {\\n    \"Wh...             True   \n475  {\\n\"relevant_word_definitions\": {\\n},\\n\"contai...            False   \n476  {\\n\"relevant_word_definitions\": {},\\n\"containe...            False   \n477  {\\n\"relevant_word_definitions\": {\\n\"hate speec...            False   \n\n    relevant_facts_from_the_cultural_context  \\\n0                                       None   \n1                                       None   \n2                                       None   \n3                                       None   \n4                                       None   \n..                                       ...   \n473                                     None   \n474                                     None   \n475                                     None   \n476                                     None   \n477                                     None   \n\n    contained_explicit_racist_vocabulary contained_explicit_sexist_vocabulary  \\\n0                                   None                                 None   \n1                                   None                                 None   \n2                                   None                                 None   \n3                                   None                                 None   \n4                                   None                                 None   \n..                                   ...                                  ...   \n473                                 None                                 None   \n474                                 None                                 None   \n475                                 None                                 None   \n476                                 None                                 None   \n477                                 None                                 None   \n\n    contained_explicit_toxic_vocabulary  \\\n0                                  None   \n1                                  None   \n2                                  None   \n3                                  None   \n4                                  None   \n..                                  ...   \n473                                None   \n474                                None   \n475                                None   \n476                                None   \n477                                None   \n\n                             relevant_word_definitions  \\\n0                                                 None   \n1                                                 None   \n2                                                 None   \n3                                                 None   \n4                                                 None   \n..                                                 ...   \n473  {'scored': 'a metric used to evaluate performa...   \n474  {'White': 'a racial categorization distinguish...   \n475                                                 {}   \n476                                                 {}   \n477  {'hate speech': 'communicating messages that a...   \n\n                              argument_for_hate_speech  \\\n0    The sentence implies that people from certain ...   \n1    The sentence does not contain any explicit hat...   \n2                                                 None   \n3    The speaker expresses a sense of needing to ha...   \n4                                                 None   \n..                                                 ...   \n473                                               None   \n474  This statement directly expresses the belief t...   \n475  This statement could be construed as suggestin...   \n476                                                      \n477                                               None   \n\n                          argument_against_hate_speech  \\\n0                                                 None   \n1                                                        \n2                                                 None   \n3    The speaker is not directly targeting or attac...   \n4    The incident occurred during a tantrum or outb...   \n..                                                 ...   \n473                                               None   \n474  The statement is simply expressing a belief, i...   \n475                                               None   \n476  The statement does not contain any explicit or...   \n477  The statement does not contain any explicit ha...   \n\n     likelihood_of_presence_of_implicit_hate_speech  \\\n0                                              0.56   \n1                                              0.05   \n2                                              0.27   \n3                                              0.19   \n4                                              0.29   \n..                                              ...   \n473                                            0.30   \n474                                            0.30   \n475                                            0.30   \n476                                            0.00   \n477                                            0.20   \n\n     likelihood_of_presence_of_explicit_hate_speech  \\\n0                                              0.12   \n1                                              0.00   \n2                                              0.00   \n3                                              0.01   \n4                                              0.95   \n..                                              ...   \n473                                            0.00   \n474                                            0.90   \n475                                            0.00   \n476                                            0.00   \n477                                            0.00   \n\n    likelihood_of_ad_hominin_attack  likelihood_of_minority_attack  \\\n0                              None                           0.61   \n1                              None                           0.00   \n2                              None                           0.10   \n3                              None                           0.00   \n4                              None                           0.31   \n..                              ...                            ...   \n473                            None                           0.00   \n474                            None                           1.00   \n475                            None                           0.10   \n476                            None                           0.00   \n477                            None                           0.00   \n\n     likelihood_of_takedown_on_social_media  hate_speech_probability  \\\n0                                       NaN                     0.51   \n1                                       NaN                     0.00   \n2                                       NaN                     0.15   \n3                                       NaN                     0.06   \n4                                       NaN                     0.92   \n..                                      ...                      ...   \n473                                     0.3                     0.20   \n474                                     0.9                     0.90   \n475                                     0.5                     0.10   \n476                                     0.0                     0.00   \n477                                     0.3                     0.10   \n\n                bin  \n0      (50.0, 60.0]  \n1    (-0.001, 10.0]  \n2      (10.0, 20.0]  \n3    (-0.001, 10.0]  \n4     (90.0, 100.0]  \n..              ...  \n473    (10.0, 20.0]  \n474    (80.0, 90.0]  \n475  (-0.001, 10.0]  \n476  (-0.001, 10.0]  \n477  (-0.001, 10.0]  \n\n[4302 rows x 20 columns]",
      "text/html": "<div>\n<style scoped>\n    .dataframe tbody tr th:only-of-type {\n        vertical-align: middle;\n    }\n\n    .dataframe tbody tr th {\n        vertical-align: top;\n    }\n\n    .dataframe thead th {\n        text-align: right;\n    }\n</style>\n<table border=\"1\" class=\"dataframe\">\n  <thead>\n    <tr style=\"text-align: right;\">\n      <th></th>\n      <th>prompt_id</th>\n      <th>model</th>\n      <th>sample_size</th>\n      <th>text</th>\n      <th>answer</th>\n      <th>labeled_hateful</th>\n      <th>relevant_facts_from_the_cultural_context</th>\n      <th>contained_explicit_racist_vocabulary</th>\n      <th>contained_explicit_sexist_vocabulary</th>\n      <th>contained_explicit_toxic_vocabulary</th>\n      <th>relevant_word_definitions</th>\n      <th>argument_for_hate_speech</th>\n      <th>argument_against_hate_speech</th>\n      <th>likelihood_of_presence_of_implicit_hate_speech</th>\n      <th>likelihood_of_presence_of_explicit_hate_speech</th>\n      <th>likelihood_of_ad_hominin_attack</th>\n      <th>likelihood_of_minority_attack</th>\n      <th>likelihood_of_takedown_on_social_media</th>\n      <th>hate_speech_probability</th>\n      <th>bin</th>\n    </tr>\n  </thead>\n  <tbody>\n    <tr>\n      <th>0</th>\n      <td>0</td>\n      <td>mistral-7b-instruct</td>\n      <td>478</td>\n      <td>So you would refuse even other Nordic whites f...</td>\n      <td>{ \\n  \"relevant_facts\": [\\n    \"The sentence e...</td>\n      <td>True</td>\n      <td>None</td>\n      <td>None</td>\n      <td>None</td>\n      <td>None</td>\n      <td>None</td>\n      <td>The sentence implies that people from certain ...</td>\n      <td>None</td>\n      <td>0.56</td>\n      <td>0.12</td>\n      <td>None</td>\n      <td>0.61</td>\n      <td>NaN</td>\n      <td>0.51</td>\n      <td>(50.0, 60.0]</td>\n    </tr>\n    <tr>\n      <th>1</th>\n      <td>0</td>\n      <td>mistral-7b-instruct</td>\n      <td>478</td>\n      <td>Just Google it and you 'll see what I mean .</td>\n      <td>{ \\n  \"relevant_facts\": [\\n    \"The sentence c...</td>\n      <td>False</td>\n      <td>None</td>\n      <td>None</td>\n      <td>None</td>\n      <td>None</td>\n      <td>None</td>\n      <td>The sentence does not contain any explicit hat...</td>\n      <td></td>\n      <td>0.05</td>\n      <td>0.00</td>\n      <td>None</td>\n      <td>0.00</td>\n      <td>NaN</td>\n      <td>0.00</td>\n      <td>(-0.001, 10.0]</td>\n    </tr>\n    <tr>\n      <th>2</th>\n      <td>0</td>\n      <td>mistral-7b-instruct</td>\n      <td>478</td>\n      <td>During the early punk scene , he was always se...</td>\n      <td>{ \\n  \"relevant_facts\": [\\n    \"The person in ...</td>\n      <td>False</td>\n      <td>None</td>\n      <td>None</td>\n      <td>None</td>\n      <td>None</td>\n      <td>None</td>\n      <td>None</td>\n      <td>None</td>\n      <td>0.27</td>\n      <td>0.00</td>\n      <td>None</td>\n      <td>0.10</td>\n      <td>NaN</td>\n      <td>0.15</td>\n      <td>(10.0, 20.0]</td>\n    </tr>\n    <tr>\n      <th>3</th>\n      <td>0</td>\n      <td>mistral-7b-instruct</td>\n      <td>478</td>\n      <td>DuetschGirlTX, No I live in a tiny ass town wh...</td>\n      <td>{ \\n  \"relevant_facts\": [\"The speaker is ident...</td>\n      <td>True</td>\n      <td>None</td>\n      <td>None</td>\n      <td>None</td>\n      <td>None</td>\n      <td>None</td>\n      <td>The speaker expresses a sense of needing to ha...</td>\n      <td>The speaker is not directly targeting or attac...</td>\n      <td>0.19</td>\n      <td>0.01</td>\n      <td>None</td>\n      <td>0.00</td>\n      <td>NaN</td>\n      <td>0.06</td>\n      <td>(-0.001, 10.0]</td>\n    </tr>\n    <tr>\n      <th>4</th>\n      <td>0</td>\n      <td>mistral-7b-instruct</td>\n      <td>478</td>\n      <td>YouTube - Teacher Attacked for Being White 9 y...</td>\n      <td>\\n{ \\n  \"relevant_facts\": [\\n    \"A 9-year-old...</td>\n      <td>False</td>\n      <td>None</td>\n      <td>None</td>\n      <td>None</td>\n      <td>None</td>\n      <td>None</td>\n      <td>None</td>\n      <td>The incident occurred during a tantrum or outb...</td>\n      <td>0.29</td>\n      <td>0.95</td>\n      <td>None</td>\n      <td>0.31</td>\n      <td>NaN</td>\n      <td>0.92</td>\n      <td>(90.0, 100.0]</td>\n    </tr>\n    <tr>\n      <th>...</th>\n      <td>...</td>\n      <td>...</td>\n      <td>...</td>\n      <td>...</td>\n      <td>...</td>\n      <td>...</td>\n      <td>...</td>\n      <td>...</td>\n      <td>...</td>\n      <td>...</td>\n      <td>...</td>\n      <td>...</td>\n      <td>...</td>\n      <td>...</td>\n      <td>...</td>\n      <td>...</td>\n      <td>...</td>\n      <td>...</td>\n      <td>...</td>\n      <td>...</td>\n    </tr>\n    <tr>\n      <th>473</th>\n      <td>4</td>\n      <td>mistral-7b-instruct</td>\n      <td>478</td>\n      <td>Only scored a 120 .</td>\n      <td>{\\n\"relevant_word_definitions\": {\\n\"scored\": \"...</td>\n      <td>False</td>\n      <td>None</td>\n      <td>None</td>\n      <td>None</td>\n      <td>None</td>\n      <td>{'scored': 'a metric used to evaluate performa...</td>\n      <td>None</td>\n      <td>None</td>\n      <td>0.30</td>\n      <td>0.00</td>\n      <td>None</td>\n      <td>0.00</td>\n      <td>0.3</td>\n      <td>0.20</td>\n      <td>(10.0, 20.0]</td>\n    </tr>\n    <tr>\n      <th>474</th>\n      <td>4</td>\n      <td>mistral-7b-instruct</td>\n      <td>478</td>\n      <td>The White race is best because when the Creato...</td>\n      <td>\\n{\\n  \"relevant_word_definitions\": {\\n    \"Wh...</td>\n      <td>True</td>\n      <td>None</td>\n      <td>None</td>\n      <td>None</td>\n      <td>None</td>\n      <td>{'White': 'a racial categorization distinguish...</td>\n      <td>This statement directly expresses the belief t...</td>\n      <td>The statement is simply expressing a belief, i...</td>\n      <td>0.30</td>\n      <td>0.90</td>\n      <td>None</td>\n      <td>1.00</td>\n      <td>0.9</td>\n      <td>0.90</td>\n      <td>(80.0, 90.0]</td>\n    </tr>\n    <tr>\n      <th>475</th>\n      <td>4</td>\n      <td>mistral-7b-instruct</td>\n      <td>478</td>\n      <td>I tried to sign up there once &amp; they refused t...</td>\n      <td>{\\n\"relevant_word_definitions\": {\\n},\\n\"contai...</td>\n      <td>False</td>\n      <td>None</td>\n      <td>None</td>\n      <td>None</td>\n      <td>None</td>\n      <td>{}</td>\n      <td>This statement could be construed as suggestin...</td>\n      <td>None</td>\n      <td>0.30</td>\n      <td>0.00</td>\n      <td>None</td>\n      <td>0.10</td>\n      <td>0.5</td>\n      <td>0.10</td>\n      <td>(-0.001, 10.0]</td>\n    </tr>\n    <tr>\n      <th>476</th>\n      <td>4</td>\n      <td>mistral-7b-instruct</td>\n      <td>478</td>\n      <td>I'm more of a grappler than a striker , I woul...</td>\n      <td>{\\n\"relevant_word_definitions\": {},\\n\"containe...</td>\n      <td>False</td>\n      <td>None</td>\n      <td>None</td>\n      <td>None</td>\n      <td>None</td>\n      <td>{}</td>\n      <td></td>\n      <td>The statement does not contain any explicit or...</td>\n      <td>0.00</td>\n      <td>0.00</td>\n      <td>None</td>\n      <td>0.00</td>\n      <td>0.0</td>\n      <td>0.00</td>\n      <td>(-0.001, 10.0]</td>\n    </tr>\n    <tr>\n      <th>477</th>\n      <td>4</td>\n      <td>mistral-7b-instruct</td>\n      <td>478</td>\n      <td>More than that I cringe every time I go to han...</td>\n      <td>{\\n\"relevant_word_definitions\": {\\n\"hate speec...</td>\n      <td>False</td>\n      <td>None</td>\n      <td>None</td>\n      <td>None</td>\n      <td>None</td>\n      <td>{'hate speech': 'communicating messages that a...</td>\n      <td>None</td>\n      <td>The statement does not contain any explicit ha...</td>\n      <td>0.20</td>\n      <td>0.00</td>\n      <td>None</td>\n      <td>0.00</td>\n      <td>0.3</td>\n      <td>0.10</td>\n      <td>(-0.001, 10.0]</td>\n    </tr>\n  </tbody>\n</table>\n<p>4302 rows × 20 columns</p>\n</div>"
     },
     "execution_count": 41,
     "metadata": {},
     "output_type": "execute_result"
    }
   ],
   "source": [
    "df"
   ]
  }
 ],
 "metadata": {
  "kernelspec": {
   "display_name": "Python 3",
   "language": "python",
   "name": "python3"
  },
  "language_info": {
   "codemirror_mode": {
    "name": "ipython",
    "version": 3
   },
   "file_extension": ".py",
   "mimetype": "text/x-python",
   "name": "python",
   "nbconvert_exporter": "python",
   "pygments_lexer": "ipython3",
   "version": "3.10.11"
  }
 },
 "nbformat": 4,
 "nbformat_minor": 2
}
