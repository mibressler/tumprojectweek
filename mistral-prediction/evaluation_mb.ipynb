{
 "cells": [
  {
   "cell_type": "code",
   "execution_count": 1,
   "metadata": {
    "collapsed": false
   },
   "outputs": [
    {
     "name": "stdout",
     "output_type": "stream",
     "text": [
      "Defaulting to user installation because normal site-packages is not writeable\n",
      "Requirement already satisfied: scikit-learn in c:\\users\\michi\\appdata\\roaming\\python\\python310\\site-packages (1.2.0)\n",
      "Requirement already satisfied: pandas in c:\\users\\michi\\appdata\\roaming\\python\\python310\\site-packages (2.1.4)\n",
      "Requirement already satisfied: numpy in c:\\users\\michi\\appdata\\roaming\\python\\python310\\site-packages (1.26.3)\n",
      "Requirement already satisfied: plotly in c:\\users\\michi\\appdata\\roaming\\python\\python310\\site-packages (5.18.0)\n",
      "Requirement already satisfied: scipy>=1.3.2 in c:\\users\\michi\\appdata\\roaming\\python\\python310\\site-packages (from scikit-learn) (1.11.4)\n",
      "Requirement already satisfied: joblib>=1.1.1 in c:\\users\\michi\\appdata\\roaming\\python\\python310\\site-packages (from scikit-learn) (1.2.0)\n",
      "Requirement already satisfied: threadpoolctl>=2.0.0 in c:\\users\\michi\\appdata\\roaming\\python\\python310\\site-packages (from scikit-learn) (3.1.0)\n",
      "Requirement already satisfied: python-dateutil>=2.8.2 in c:\\users\\michi\\appdata\\roaming\\python\\python310\\site-packages (from pandas) (2.8.2)\n",
      "Requirement already satisfied: pytz>=2020.1 in c:\\program files\\python310\\lib\\site-packages (from pandas) (2021.3)\n",
      "Requirement already satisfied: tzdata>=2022.1 in c:\\users\\michi\\appdata\\roaming\\python\\python310\\site-packages (from pandas) (2022.4)\n",
      "Requirement already satisfied: tenacity>=6.2.0 in c:\\users\\michi\\appdata\\roaming\\python\\python310\\site-packages (from plotly) (8.2.3)\n",
      "Requirement already satisfied: packaging in c:\\users\\michi\\appdata\\roaming\\python\\python310\\site-packages (from plotly) (23.2)\n",
      "Requirement already satisfied: six>=1.5 in c:\\users\\michi\\appdata\\roaming\\python\\python310\\site-packages (from python-dateutil>=2.8.2->pandas) (1.16.0)\n"
     ]
    }
   ],
   "source": [
    "!pip install scikit-learn pandas numpy plotly"
   ]
  },
  {
   "cell_type": "code",
   "execution_count": 2,
   "metadata": {},
   "outputs": [],
   "source": [
    "import json\n",
    "import pandas as pd\n",
    "import re\n",
    "\n",
    "df = pd.read_pickle('all_runs.pkl')\n",
    "\n",
    "\n",
    "def clean_text(text):\n",
    "    text = text.replace(\"'\", \"\\\"\")\n",
    "    text = re.sub(\"\\\\\\([_\\[\\]{}])\", r\"\\1\", text)\n",
    "    for deletion in [\"```json\", r\"\\n\"]:\n",
    "        text = text.replace(deletion, \"\")\n",
    "    return text\n",
    "\n",
    "\n",
    "df[\"answer\"] = df[\"answer\"].apply(clean_text)\n",
    "\n",
    "\n",
    "def extract_str(json_string: str, key: str):\n",
    "    pattern = f'{key}\"?: (\"[^\"]*\")(?:,|\\n)'\n",
    "    match = re.search(pattern, json_string)\n",
    "    if not match:\n",
    "        return None\n",
    "    return match.group(1).strip().strip('\"') if match else None\n",
    "\n",
    "\n",
    "def extract_float(json_string: str, key: str):\n",
    "    pattern = f'{key}\"?: (.*?)(?:,|\\n)'\n",
    "    match = re.search(pattern, json_string)\n",
    "    if not match:\n",
    "        return None\n",
    "    value = match.group(1).strip()\n",
    "    try:\n",
    "        return float(value)\n",
    "    except Exception:\n",
    "        return None\n",
    "\n",
    "\n",
    "def extract_list(json_string: str, key: str):\n",
    "    pattern = f'{key}\"?: ?(\\[[^\\]]*\\])(?:,|\\n)'\n",
    "    match = re.search(pattern, json_string)\n",
    "    if not match:\n",
    "        return None\n",
    "    value = match.group(1).strip()\n",
    "    try:\n",
    "        return json.loads(value)\n",
    "    except Exception:\n",
    "        return value\n",
    "\n",
    "\n",
    "def extract_dict(json_string: str, key: str):\n",
    "    pattern = key + r'\"?: ?({[^}]*})'\n",
    "    match = re.search(pattern, json_string)\n",
    "    if not match:\n",
    "        return None\n",
    "    value = match.group(1).strip()\n",
    "    try:\n",
    "        return json.loads(value)\n",
    "    except Exception:\n",
    "        return value\n",
    "\n",
    "\n",
    "list_keys = [\n",
    "    \"relevant_facts_from_the_cultural_context\",\n",
    "    \"contained_explicit_racist_vocabulary\",\n",
    "    \"contained_explicit_sexist_vocabulary\",\n",
    "    \"contained_explicit_toxic_vocabulary\",\n",
    "]\n",
    "\n",
    "for key in list_keys:\n",
    "    df[key] = df['answer'].apply(lambda x: extract_list(x, key))\n",
    "\n",
    "dict_keys = [\n",
    "    \"relevant_word_definitions\"\n",
    "]\n",
    "\n",
    "for key in dict_keys:\n",
    "    df[key] = df['answer'].apply(lambda x: extract_dict(x, key))\n",
    "\n",
    "str_keys = [\n",
    "    \"argument_for_hate_speech\",\n",
    "    \"argument_against_hate_speech\",\n",
    "]\n",
    "\n",
    "for key in str_keys:\n",
    "    df[key] = df['answer'].apply(lambda x: extract_str(x, key))\n",
    "\n",
    "float_keys = [\n",
    "    \"likelihood_of_presence_of_implicit_hate_speech\",\n",
    "    \"likelihood_of_presence_of_explicit_hate_speech\",\n",
    "    \"likelihood_of_ad_hominin_attack\",\n",
    "    \"likelihood_of_minority_attack\",\n",
    "    \"likelihood_of_takedown_on_social_media\",\n",
    "    \"hate_speech_probability\",\n",
    "]\n",
    "\n",
    "for key in float_keys:\n",
    "    df[key] = df['answer'].apply(lambda x: extract_float(x, key))"
   ]
  },
  {
   "cell_type": "code",
   "execution_count": 3,
   "metadata": {
    "collapsed": false
   },
   "outputs": [
    {
     "data": {
      "text/html": [
       "<div>\n",
       "<style scoped>\n",
       "    .dataframe tbody tr th:only-of-type {\n",
       "        vertical-align: middle;\n",
       "    }\n",
       "\n",
       "    .dataframe tbody tr th {\n",
       "        vertical-align: top;\n",
       "    }\n",
       "\n",
       "    .dataframe thead th {\n",
       "        text-align: right;\n",
       "    }\n",
       "</style>\n",
       "<table border=\"1\" class=\"dataframe\">\n",
       "  <thead>\n",
       "    <tr style=\"text-align: right;\">\n",
       "      <th></th>\n",
       "      <th>prompt_id</th>\n",
       "      <th>model</th>\n",
       "      <th>sample_size</th>\n",
       "      <th>text</th>\n",
       "      <th>answer</th>\n",
       "      <th>labeled_hateful</th>\n",
       "      <th>relevant_facts_from_the_cultural_context</th>\n",
       "      <th>contained_explicit_racist_vocabulary</th>\n",
       "      <th>contained_explicit_sexist_vocabulary</th>\n",
       "      <th>contained_explicit_toxic_vocabulary</th>\n",
       "      <th>relevant_word_definitions</th>\n",
       "      <th>argument_for_hate_speech</th>\n",
       "      <th>argument_against_hate_speech</th>\n",
       "      <th>likelihood_of_presence_of_implicit_hate_speech</th>\n",
       "      <th>likelihood_of_presence_of_explicit_hate_speech</th>\n",
       "      <th>likelihood_of_ad_hominin_attack</th>\n",
       "      <th>likelihood_of_minority_attack</th>\n",
       "      <th>likelihood_of_takedown_on_social_media</th>\n",
       "      <th>hate_speech_probability</th>\n",
       "    </tr>\n",
       "  </thead>\n",
       "  <tbody>\n",
       "    <tr>\n",
       "      <th>2</th>\n",
       "      <td>0</td>\n",
       "      <td>mixtral-8x7b-instruct</td>\n",
       "      <td>478</td>\n",
       "      <td>I was trying to find out if the Egyptians were...</td>\n",
       "      <td>Here is the analysis of the sentence you provi...</td>\n",
       "      <td>False</td>\n",
       "      <td>None</td>\n",
       "      <td>None</td>\n",
       "      <td>None</td>\n",
       "      <td>None</td>\n",
       "      <td>None</td>\n",
       "      <td>None</td>\n",
       "      <td>None</td>\n",
       "      <td>NaN</td>\n",
       "      <td>NaN</td>\n",
       "      <td>None</td>\n",
       "      <td>NaN</td>\n",
       "      <td>NaN</td>\n",
       "      <td>NaN</td>\n",
       "    </tr>\n",
       "    <tr>\n",
       "      <th>9</th>\n",
       "      <td>0</td>\n",
       "      <td>mixtral-8x7b-instruct</td>\n",
       "      <td>478</td>\n",
       "      <td>I bet they wouldnt have done that crap to a bl...</td>\n",
       "      <td>\\n{\\n  \"relevant_facts\": [\\n    \"The sentence ...</td>\n",
       "      <td>True</td>\n",
       "      <td>None</td>\n",
       "      <td>None</td>\n",
       "      <td>None</td>\n",
       "      <td>None</td>\n",
       "      <td>None</td>\n",
       "      <td>None</td>\n",
       "      <td>None</td>\n",
       "      <td>NaN</td>\n",
       "      <td>NaN</td>\n",
       "      <td>None</td>\n",
       "      <td>NaN</td>\n",
       "      <td>NaN</td>\n",
       "      <td>NaN</td>\n",
       "    </tr>\n",
       "    <tr>\n",
       "      <th>10</th>\n",
       "      <td>0</td>\n",
       "      <td>mixtral-8x7b-instruct</td>\n",
       "      <td>478</td>\n",
       "      <td>Those boys will use the plastic whisks as swor...</td>\n",
       "      <td>\\n{\\n  \"relevant_facts\": [\\n    \"The sentence ...</td>\n",
       "      <td>True</td>\n",
       "      <td>None</td>\n",
       "      <td>None</td>\n",
       "      <td>None</td>\n",
       "      <td>None</td>\n",
       "      <td>None</td>\n",
       "      <td>None</td>\n",
       "      <td>There is no use of explicit hate speech vocabu...</td>\n",
       "      <td>0.67</td>\n",
       "      <td>NaN</td>\n",
       "      <td>None</td>\n",
       "      <td>NaN</td>\n",
       "      <td>NaN</td>\n",
       "      <td>NaN</td>\n",
       "    </tr>\n",
       "    <tr>\n",
       "      <th>11</th>\n",
       "      <td>0</td>\n",
       "      <td>mixtral-8x7b-instruct</td>\n",
       "      <td>478</td>\n",
       "      <td>The majority of them are as stupid as real Neg...</td>\n",
       "      <td>\\n{\\n  \"relevant_facts\": [\\n    \"The sentence ...</td>\n",
       "      <td>True</td>\n",
       "      <td>None</td>\n",
       "      <td>None</td>\n",
       "      <td>None</td>\n",
       "      <td>None</td>\n",
       "      <td>None</td>\n",
       "      <td>The sentence uses a racial slur and makes a de...</td>\n",
       "      <td>There is no immediate call to violence or harm...</td>\n",
       "      <td>0.20</td>\n",
       "      <td>0.9</td>\n",
       "      <td>None</td>\n",
       "      <td>NaN</td>\n",
       "      <td>NaN</td>\n",
       "      <td>NaN</td>\n",
       "    </tr>\n",
       "    <tr>\n",
       "      <th>19</th>\n",
       "      <td>0</td>\n",
       "      <td>mixtral-8x7b-instruct</td>\n",
       "      <td>478</td>\n",
       "      <td>More than that I cringe every time I go to han...</td>\n",
       "      <td>\\n{\\n  \"relevant_facts\": [\\n    \"The statement...</td>\n",
       "      <td>False</td>\n",
       "      <td>None</td>\n",
       "      <td>None</td>\n",
       "      <td>None</td>\n",
       "      <td>None</td>\n",
       "      <td>None</td>\n",
       "      <td></td>\n",
       "      <td>None</td>\n",
       "      <td>NaN</td>\n",
       "      <td>NaN</td>\n",
       "      <td>None</td>\n",
       "      <td>NaN</td>\n",
       "      <td>NaN</td>\n",
       "      <td>NaN</td>\n",
       "    </tr>\n",
       "    <tr>\n",
       "      <th>...</th>\n",
       "      <td>...</td>\n",
       "      <td>...</td>\n",
       "      <td>...</td>\n",
       "      <td>...</td>\n",
       "      <td>...</td>\n",
       "      <td>...</td>\n",
       "      <td>...</td>\n",
       "      <td>...</td>\n",
       "      <td>...</td>\n",
       "      <td>...</td>\n",
       "      <td>...</td>\n",
       "      <td>...</td>\n",
       "      <td>...</td>\n",
       "      <td>...</td>\n",
       "      <td>...</td>\n",
       "      <td>...</td>\n",
       "      <td>...</td>\n",
       "      <td>...</td>\n",
       "      <td>...</td>\n",
       "    </tr>\n",
       "    <tr>\n",
       "      <th>305</th>\n",
       "      <td>3</td>\n",
       "      <td>mistral-7b-instruct</td>\n",
       "      <td>478</td>\n",
       "      <td>This guy seems to get it but otherwise : Sorry...</td>\n",
       "      <td>{\\n\"relevant_facts_from_the_cultural_context\":...</td>\n",
       "      <td>True</td>\n",
       "      <td>[White supremacist forums in the US often use ...</td>\n",
       "      <td>[]</td>\n",
       "      <td>[]</td>\n",
       "      <td>[]</td>\n",
       "      <td>{\\n\"supremacist\": \"A belief that one\"s own rac...</td>\n",
       "      <td>The sentence may not contain any explicit hate...</td>\n",
       "      <td>The sentence does not contain any overtly raci...</td>\n",
       "      <td>0.50</td>\n",
       "      <td>0.1</td>\n",
       "      <td>None</td>\n",
       "      <td>0.05</td>\n",
       "      <td>0.3</td>\n",
       "      <td>NaN</td>\n",
       "    </tr>\n",
       "    <tr>\n",
       "      <th>234</th>\n",
       "      <td>4</td>\n",
       "      <td>mistral-7b-instruct</td>\n",
       "      <td>478</td>\n",
       "      <td>They are beating each other to death everywher...</td>\n",
       "      <td>{\\n  \"relevant_word_definitions\": {\\n    \"they...</td>\n",
       "      <td>True</td>\n",
       "      <td>None</td>\n",
       "      <td>None</td>\n",
       "      <td>None</td>\n",
       "      <td>None</td>\n",
       "      <td>{\\n    \"they\": referring to a group of people,...</td>\n",
       "      <td>This statement suggests a sense of superiority...</td>\n",
       "      <td>The statement does not explicitly use derogato...</td>\n",
       "      <td>0.90</td>\n",
       "      <td>0.6</td>\n",
       "      <td>None</td>\n",
       "      <td>1.00</td>\n",
       "      <td>NaN</td>\n",
       "      <td>NaN</td>\n",
       "    </tr>\n",
       "    <tr>\n",
       "      <th>320</th>\n",
       "      <td>1</td>\n",
       "      <td>fine-tuned-mistral-7b-v0.2-instruct</td>\n",
       "      <td>478</td>\n",
       "      <td>I'm not sure what sort of information you 're ...</td>\n",
       "      <td>{\\n\"relevant_facts_from_the_cultural_context\":...</td>\n",
       "      <td>True</td>\n",
       "      <td>[]</td>\n",
       "      <td>None</td>\n",
       "      <td>None</td>\n",
       "      <td>None</td>\n",
       "      <td>None</td>\n",
       "      <td>None</td>\n",
       "      <td>None</td>\n",
       "      <td>NaN</td>\n",
       "      <td>NaN</td>\n",
       "      <td>None</td>\n",
       "      <td>NaN</td>\n",
       "      <td>NaN</td>\n",
       "      <td>NaN</td>\n",
       "    </tr>\n",
       "    <tr>\n",
       "      <th>320</th>\n",
       "      <td>3</td>\n",
       "      <td>fine-tuned-mistral-7b-v0.2-instruct</td>\n",
       "      <td>478</td>\n",
       "      <td>I'm not sure what sort of information you 're ...</td>\n",
       "      <td>{\\n\"relevant_facts_from_the_cultural_context\":...</td>\n",
       "      <td>True</td>\n",
       "      <td>[]</td>\n",
       "      <td>None</td>\n",
       "      <td>None</td>\n",
       "      <td>None</td>\n",
       "      <td>None</td>\n",
       "      <td>None</td>\n",
       "      <td>None</td>\n",
       "      <td>NaN</td>\n",
       "      <td>NaN</td>\n",
       "      <td>None</td>\n",
       "      <td>NaN</td>\n",
       "      <td>NaN</td>\n",
       "      <td>NaN</td>\n",
       "    </tr>\n",
       "    <tr>\n",
       "      <th>295</th>\n",
       "      <td>4</td>\n",
       "      <td>fine-tuned-mistral-7b-v0.2-instruct</td>\n",
       "      <td>478</td>\n",
       "      <td>you gotta stand up for yourself you cant just ...</td>\n",
       "      <td>\\n{\\n  \"relevant_word_definitions\": {\\n    \"* ...</td>\n",
       "      <td>False</td>\n",
       "      <td>None</td>\n",
       "      <td>None</td>\n",
       "      <td>None</td>\n",
       "      <td>None</td>\n",
       "      <td>None</td>\n",
       "      <td>None</td>\n",
       "      <td>None</td>\n",
       "      <td>NaN</td>\n",
       "      <td>NaN</td>\n",
       "      <td>None</td>\n",
       "      <td>NaN</td>\n",
       "      <td>NaN</td>\n",
       "      <td>NaN</td>\n",
       "    </tr>\n",
       "  </tbody>\n",
       "</table>\n",
       "<p>233 rows × 19 columns</p>\n",
       "</div>"
      ],
      "text/plain": [
       "     prompt_id                                model  sample_size  \\\n",
       "2            0                mixtral-8x7b-instruct          478   \n",
       "9            0                mixtral-8x7b-instruct          478   \n",
       "10           0                mixtral-8x7b-instruct          478   \n",
       "11           0                mixtral-8x7b-instruct          478   \n",
       "19           0                mixtral-8x7b-instruct          478   \n",
       "..         ...                                  ...          ...   \n",
       "305          3                  mistral-7b-instruct          478   \n",
       "234          4                  mistral-7b-instruct          478   \n",
       "320          1  fine-tuned-mistral-7b-v0.2-instruct          478   \n",
       "320          3  fine-tuned-mistral-7b-v0.2-instruct          478   \n",
       "295          4  fine-tuned-mistral-7b-v0.2-instruct          478   \n",
       "\n",
       "                                                  text  \\\n",
       "2    I was trying to find out if the Egyptians were...   \n",
       "9    I bet they wouldnt have done that crap to a bl...   \n",
       "10   Those boys will use the plastic whisks as swor...   \n",
       "11   The majority of them are as stupid as real Neg...   \n",
       "19   More than that I cringe every time I go to han...   \n",
       "..                                                 ...   \n",
       "305  This guy seems to get it but otherwise : Sorry...   \n",
       "234  They are beating each other to death everywher...   \n",
       "320  I'm not sure what sort of information you 're ...   \n",
       "320  I'm not sure what sort of information you 're ...   \n",
       "295  you gotta stand up for yourself you cant just ...   \n",
       "\n",
       "                                                answer  labeled_hateful  \\\n",
       "2    Here is the analysis of the sentence you provi...            False   \n",
       "9    \\n{\\n  \"relevant_facts\": [\\n    \"The sentence ...             True   \n",
       "10   \\n{\\n  \"relevant_facts\": [\\n    \"The sentence ...             True   \n",
       "11   \\n{\\n  \"relevant_facts\": [\\n    \"The sentence ...             True   \n",
       "19   \\n{\\n  \"relevant_facts\": [\\n    \"The statement...            False   \n",
       "..                                                 ...              ...   \n",
       "305  {\\n\"relevant_facts_from_the_cultural_context\":...             True   \n",
       "234  {\\n  \"relevant_word_definitions\": {\\n    \"they...             True   \n",
       "320  {\\n\"relevant_facts_from_the_cultural_context\":...             True   \n",
       "320  {\\n\"relevant_facts_from_the_cultural_context\":...             True   \n",
       "295  \\n{\\n  \"relevant_word_definitions\": {\\n    \"* ...            False   \n",
       "\n",
       "              relevant_facts_from_the_cultural_context  \\\n",
       "2                                                 None   \n",
       "9                                                 None   \n",
       "10                                                None   \n",
       "11                                                None   \n",
       "19                                                None   \n",
       "..                                                 ...   \n",
       "305  [White supremacist forums in the US often use ...   \n",
       "234                                               None   \n",
       "320                                                 []   \n",
       "320                                                 []   \n",
       "295                                               None   \n",
       "\n",
       "    contained_explicit_racist_vocabulary contained_explicit_sexist_vocabulary  \\\n",
       "2                                   None                                 None   \n",
       "9                                   None                                 None   \n",
       "10                                  None                                 None   \n",
       "11                                  None                                 None   \n",
       "19                                  None                                 None   \n",
       "..                                   ...                                  ...   \n",
       "305                                   []                                   []   \n",
       "234                                 None                                 None   \n",
       "320                                 None                                 None   \n",
       "320                                 None                                 None   \n",
       "295                                 None                                 None   \n",
       "\n",
       "    contained_explicit_toxic_vocabulary  \\\n",
       "2                                  None   \n",
       "9                                  None   \n",
       "10                                 None   \n",
       "11                                 None   \n",
       "19                                 None   \n",
       "..                                  ...   \n",
       "305                                  []   \n",
       "234                                None   \n",
       "320                                None   \n",
       "320                                None   \n",
       "295                                None   \n",
       "\n",
       "                             relevant_word_definitions  \\\n",
       "2                                                 None   \n",
       "9                                                 None   \n",
       "10                                                None   \n",
       "11                                                None   \n",
       "19                                                None   \n",
       "..                                                 ...   \n",
       "305  {\\n\"supremacist\": \"A belief that one\"s own rac...   \n",
       "234  {\\n    \"they\": referring to a group of people,...   \n",
       "320                                               None   \n",
       "320                                               None   \n",
       "295                                               None   \n",
       "\n",
       "                              argument_for_hate_speech  \\\n",
       "2                                                 None   \n",
       "9                                                 None   \n",
       "10                                                None   \n",
       "11   The sentence uses a racial slur and makes a de...   \n",
       "19                                                       \n",
       "..                                                 ...   \n",
       "305  The sentence may not contain any explicit hate...   \n",
       "234  This statement suggests a sense of superiority...   \n",
       "320                                               None   \n",
       "320                                               None   \n",
       "295                                               None   \n",
       "\n",
       "                          argument_against_hate_speech  \\\n",
       "2                                                 None   \n",
       "9                                                 None   \n",
       "10   There is no use of explicit hate speech vocabu...   \n",
       "11   There is no immediate call to violence or harm...   \n",
       "19                                                None   \n",
       "..                                                 ...   \n",
       "305  The sentence does not contain any overtly raci...   \n",
       "234  The statement does not explicitly use derogato...   \n",
       "320                                               None   \n",
       "320                                               None   \n",
       "295                                               None   \n",
       "\n",
       "     likelihood_of_presence_of_implicit_hate_speech  \\\n",
       "2                                               NaN   \n",
       "9                                               NaN   \n",
       "10                                             0.67   \n",
       "11                                             0.20   \n",
       "19                                              NaN   \n",
       "..                                              ...   \n",
       "305                                            0.50   \n",
       "234                                            0.90   \n",
       "320                                             NaN   \n",
       "320                                             NaN   \n",
       "295                                             NaN   \n",
       "\n",
       "     likelihood_of_presence_of_explicit_hate_speech  \\\n",
       "2                                               NaN   \n",
       "9                                               NaN   \n",
       "10                                              NaN   \n",
       "11                                              0.9   \n",
       "19                                              NaN   \n",
       "..                                              ...   \n",
       "305                                             0.1   \n",
       "234                                             0.6   \n",
       "320                                             NaN   \n",
       "320                                             NaN   \n",
       "295                                             NaN   \n",
       "\n",
       "    likelihood_of_ad_hominin_attack  likelihood_of_minority_attack  \\\n",
       "2                              None                            NaN   \n",
       "9                              None                            NaN   \n",
       "10                             None                            NaN   \n",
       "11                             None                            NaN   \n",
       "19                             None                            NaN   \n",
       "..                              ...                            ...   \n",
       "305                            None                           0.05   \n",
       "234                            None                           1.00   \n",
       "320                            None                            NaN   \n",
       "320                            None                            NaN   \n",
       "295                            None                            NaN   \n",
       "\n",
       "     likelihood_of_takedown_on_social_media  hate_speech_probability  \n",
       "2                                       NaN                      NaN  \n",
       "9                                       NaN                      NaN  \n",
       "10                                      NaN                      NaN  \n",
       "11                                      NaN                      NaN  \n",
       "19                                      NaN                      NaN  \n",
       "..                                      ...                      ...  \n",
       "305                                     0.3                      NaN  \n",
       "234                                     NaN                      NaN  \n",
       "320                                     NaN                      NaN  \n",
       "320                                     NaN                      NaN  \n",
       "295                                     NaN                      NaN  \n",
       "\n",
       "[233 rows x 19 columns]"
      ]
     },
     "execution_count": 3,
     "metadata": {},
     "output_type": "execute_result"
    }
   ],
   "source": [
    "df[df['answer'].apply(lambda x: \"hate_speech_probability\" not in str(x))]"
   ]
  },
  {
   "cell_type": "code",
   "execution_count": 4,
   "metadata": {},
   "outputs": [
    {
     "name": "stdout",
     "output_type": "stream",
     "text": [
      "Missing values for each column:\n",
      "prompt_id                                            0\n",
      "model                                                0\n",
      "sample_size                                          0\n",
      "text                                                 0\n",
      "answer                                               0\n",
      "labeled_hateful                                      0\n",
      "relevant_facts_from_the_cultural_context          6271\n",
      "contained_explicit_racist_vocabulary              6239\n",
      "contained_explicit_sexist_vocabulary              6692\n",
      "contained_explicit_toxic_vocabulary               6646\n",
      "relevant_word_definitions                         5290\n",
      "argument_for_hate_speech                          2585\n",
      "argument_against_hate_speech                      1859\n",
      "likelihood_of_presence_of_implicit_hate_speech     254\n",
      "likelihood_of_presence_of_explicit_hate_speech     392\n",
      "likelihood_of_ad_hominin_attack                   8604\n",
      "likelihood_of_minority_attack                      241\n",
      "likelihood_of_takedown_on_social_media            3366\n",
      "hate_speech_probability                            319\n",
      "dtype: int64\n"
     ]
    },
    {
     "data": {
      "text/html": [
       "<div>\n",
       "<style scoped>\n",
       "    .dataframe tbody tr th:only-of-type {\n",
       "        vertical-align: middle;\n",
       "    }\n",
       "\n",
       "    .dataframe tbody tr th {\n",
       "        vertical-align: top;\n",
       "    }\n",
       "\n",
       "    .dataframe thead th {\n",
       "        text-align: right;\n",
       "    }\n",
       "</style>\n",
       "<table border=\"1\" class=\"dataframe\">\n",
       "  <thead>\n",
       "    <tr style=\"text-align: right;\">\n",
       "      <th></th>\n",
       "      <th>prompt_id</th>\n",
       "      <th>model</th>\n",
       "      <th>sample_size</th>\n",
       "      <th>text</th>\n",
       "      <th>answer</th>\n",
       "      <th>labeled_hateful</th>\n",
       "      <th>relevant_facts_from_the_cultural_context</th>\n",
       "      <th>contained_explicit_racist_vocabulary</th>\n",
       "      <th>contained_explicit_sexist_vocabulary</th>\n",
       "      <th>contained_explicit_toxic_vocabulary</th>\n",
       "      <th>relevant_word_definitions</th>\n",
       "      <th>argument_for_hate_speech</th>\n",
       "      <th>argument_against_hate_speech</th>\n",
       "      <th>likelihood_of_presence_of_implicit_hate_speech</th>\n",
       "      <th>likelihood_of_presence_of_explicit_hate_speech</th>\n",
       "      <th>likelihood_of_ad_hominin_attack</th>\n",
       "      <th>likelihood_of_minority_attack</th>\n",
       "      <th>likelihood_of_takedown_on_social_media</th>\n",
       "      <th>hate_speech_probability</th>\n",
       "    </tr>\n",
       "  </thead>\n",
       "  <tbody>\n",
       "    <tr>\n",
       "      <th>0</th>\n",
       "      <td>0</td>\n",
       "      <td>mistral-7b-instruct</td>\n",
       "      <td>478</td>\n",
       "      <td>So you would refuse even other Nordic whites f...</td>\n",
       "      <td>{ \\n  \"relevant_facts\": [\\n    \"The sentence e...</td>\n",
       "      <td>True</td>\n",
       "      <td>None</td>\n",
       "      <td>None</td>\n",
       "      <td>None</td>\n",
       "      <td>None</td>\n",
       "      <td>None</td>\n",
       "      <td>The sentence implies that people from certain ...</td>\n",
       "      <td>None</td>\n",
       "      <td>0.56</td>\n",
       "      <td>0.12</td>\n",
       "      <td>None</td>\n",
       "      <td>0.61</td>\n",
       "      <td>NaN</td>\n",
       "      <td>0.51</td>\n",
       "    </tr>\n",
       "    <tr>\n",
       "      <th>1</th>\n",
       "      <td>0</td>\n",
       "      <td>mistral-7b-instruct</td>\n",
       "      <td>478</td>\n",
       "      <td>Just Google it and you 'll see what I mean .</td>\n",
       "      <td>{ \\n  \"relevant_facts\": [\\n    \"The sentence c...</td>\n",
       "      <td>False</td>\n",
       "      <td>None</td>\n",
       "      <td>None</td>\n",
       "      <td>None</td>\n",
       "      <td>None</td>\n",
       "      <td>None</td>\n",
       "      <td>The sentence does not contain any explicit hat...</td>\n",
       "      <td></td>\n",
       "      <td>0.05</td>\n",
       "      <td>0.00</td>\n",
       "      <td>None</td>\n",
       "      <td>0.00</td>\n",
       "      <td>NaN</td>\n",
       "      <td>0.00</td>\n",
       "    </tr>\n",
       "    <tr>\n",
       "      <th>2</th>\n",
       "      <td>0</td>\n",
       "      <td>mistral-7b-instruct</td>\n",
       "      <td>478</td>\n",
       "      <td>During the early punk scene , he was always se...</td>\n",
       "      <td>{ \\n  \"relevant_facts\": [\\n    \"The person in ...</td>\n",
       "      <td>False</td>\n",
       "      <td>None</td>\n",
       "      <td>None</td>\n",
       "      <td>None</td>\n",
       "      <td>None</td>\n",
       "      <td>None</td>\n",
       "      <td>None</td>\n",
       "      <td>None</td>\n",
       "      <td>0.27</td>\n",
       "      <td>0.00</td>\n",
       "      <td>None</td>\n",
       "      <td>0.10</td>\n",
       "      <td>NaN</td>\n",
       "      <td>0.15</td>\n",
       "    </tr>\n",
       "    <tr>\n",
       "      <th>3</th>\n",
       "      <td>0</td>\n",
       "      <td>mistral-7b-instruct</td>\n",
       "      <td>478</td>\n",
       "      <td>DuetschGirlTX, No I live in a tiny ass town wh...</td>\n",
       "      <td>{ \\n  \"relevant_facts\": [\"The speaker is ident...</td>\n",
       "      <td>True</td>\n",
       "      <td>None</td>\n",
       "      <td>None</td>\n",
       "      <td>None</td>\n",
       "      <td>None</td>\n",
       "      <td>None</td>\n",
       "      <td>The speaker expresses a sense of needing to ha...</td>\n",
       "      <td>The speaker is not directly targeting or attac...</td>\n",
       "      <td>0.19</td>\n",
       "      <td>0.01</td>\n",
       "      <td>None</td>\n",
       "      <td>0.00</td>\n",
       "      <td>NaN</td>\n",
       "      <td>0.06</td>\n",
       "    </tr>\n",
       "    <tr>\n",
       "      <th>4</th>\n",
       "      <td>0</td>\n",
       "      <td>mistral-7b-instruct</td>\n",
       "      <td>478</td>\n",
       "      <td>YouTube - Teacher Attacked for Being White 9 y...</td>\n",
       "      <td>\\n{ \\n  \"relevant_facts\": [\\n    \"A 9-year-old...</td>\n",
       "      <td>False</td>\n",
       "      <td>None</td>\n",
       "      <td>None</td>\n",
       "      <td>None</td>\n",
       "      <td>None</td>\n",
       "      <td>None</td>\n",
       "      <td>None</td>\n",
       "      <td>The incident occurred during a tantrum or outb...</td>\n",
       "      <td>0.29</td>\n",
       "      <td>0.95</td>\n",
       "      <td>None</td>\n",
       "      <td>0.31</td>\n",
       "      <td>NaN</td>\n",
       "      <td>0.92</td>\n",
       "    </tr>\n",
       "    <tr>\n",
       "      <th>...</th>\n",
       "      <td>...</td>\n",
       "      <td>...</td>\n",
       "      <td>...</td>\n",
       "      <td>...</td>\n",
       "      <td>...</td>\n",
       "      <td>...</td>\n",
       "      <td>...</td>\n",
       "      <td>...</td>\n",
       "      <td>...</td>\n",
       "      <td>...</td>\n",
       "      <td>...</td>\n",
       "      <td>...</td>\n",
       "      <td>...</td>\n",
       "      <td>...</td>\n",
       "      <td>...</td>\n",
       "      <td>...</td>\n",
       "      <td>...</td>\n",
       "      <td>...</td>\n",
       "      <td>...</td>\n",
       "    </tr>\n",
       "    <tr>\n",
       "      <th>473</th>\n",
       "      <td>4</td>\n",
       "      <td>fine-tuned-mistral-7b-v0.2-instruct</td>\n",
       "      <td>478</td>\n",
       "      <td>I have one word for you ....... MOVE . We chos...</td>\n",
       "      <td>\\n{\\n  \"relevant_word_definitions\": {\\n    \"wh...</td>\n",
       "      <td>False</td>\n",
       "      <td>None</td>\n",
       "      <td>None</td>\n",
       "      <td>None</td>\n",
       "      <td>None</td>\n",
       "      <td>{\\n    \"white\": \"a person having European ance...</td>\n",
       "      <td>The speaker expresses a desire for their child...</td>\n",
       "      <td></td>\n",
       "      <td>0.00</td>\n",
       "      <td>1.00</td>\n",
       "      <td>None</td>\n",
       "      <td>0.00</td>\n",
       "      <td>1.0</td>\n",
       "      <td>1.00</td>\n",
       "    </tr>\n",
       "    <tr>\n",
       "      <th>474</th>\n",
       "      <td>4</td>\n",
       "      <td>fine-tuned-mistral-7b-v0.2-instruct</td>\n",
       "      <td>478</td>\n",
       "      <td>There are only eight people living within a mi...</td>\n",
       "      <td>{\\n\"relevant_word_definitions\": {\\n},\\n\"contai...</td>\n",
       "      <td>False</td>\n",
       "      <td>None</td>\n",
       "      <td>None</td>\n",
       "      <td>None</td>\n",
       "      <td>None</td>\n",
       "      <td>{}</td>\n",
       "      <td>The text does not contain any explicit hate sp...</td>\n",
       "      <td>None</td>\n",
       "      <td>0.00</td>\n",
       "      <td>0.00</td>\n",
       "      <td>None</td>\n",
       "      <td>0.00</td>\n",
       "      <td>0.0</td>\n",
       "      <td>0.00</td>\n",
       "    </tr>\n",
       "    <tr>\n",
       "      <th>475</th>\n",
       "      <td>4</td>\n",
       "      <td>fine-tuned-mistral-7b-v0.2-instruct</td>\n",
       "      <td>478</td>\n",
       "      <td>you just say blacks hate the cold. the only re...</td>\n",
       "      <td>\\n{\\n  \"relevant_word_definitions\": {\\n    \"bl...</td>\n",
       "      <td>True</td>\n",
       "      <td>None</td>\n",
       "      <td>None</td>\n",
       "      <td>None</td>\n",
       "      <td>None</td>\n",
       "      <td>{\\n    \"blacks\": \"a racial group of people ori...</td>\n",
       "      <td>The statement implies that black people are on...</td>\n",
       "      <td>The statement does not contain any explicit th...</td>\n",
       "      <td>1.00</td>\n",
       "      <td>0.00</td>\n",
       "      <td>None</td>\n",
       "      <td>1.00</td>\n",
       "      <td>1.0</td>\n",
       "      <td>1.00</td>\n",
       "    </tr>\n",
       "    <tr>\n",
       "      <th>476</th>\n",
       "      <td>4</td>\n",
       "      <td>fine-tuned-mistral-7b-v0.2-instruct</td>\n",
       "      <td>478</td>\n",
       "      <td>And all those holes below 40,000 feet are fill...</td>\n",
       "      <td>\\n{\\n  \"relevant_word_definitions\": {\\n    \"ho...</td>\n",
       "      <td>False</td>\n",
       "      <td>None</td>\n",
       "      <td>None</td>\n",
       "      <td>None</td>\n",
       "      <td>None</td>\n",
       "      <td>{\\n    \"holes\": \"an empty space or an opening ...</td>\n",
       "      <td>The text does not contain any explicit hate sp...</td>\n",
       "      <td>The text is a statement about the presence of ...</td>\n",
       "      <td>0.00</td>\n",
       "      <td>0.00</td>\n",
       "      <td>None</td>\n",
       "      <td>0.00</td>\n",
       "      <td>0.0</td>\n",
       "      <td>0.00</td>\n",
       "    </tr>\n",
       "    <tr>\n",
       "      <th>477</th>\n",
       "      <td>4</td>\n",
       "      <td>fine-tuned-mistral-7b-v0.2-instruct</td>\n",
       "      <td>478</td>\n",
       "      <td>Now I get it !</td>\n",
       "      <td>{\\n\"relevant_word_definitions\": {},\\n\"containe...</td>\n",
       "      <td>False</td>\n",
       "      <td>None</td>\n",
       "      <td>None</td>\n",
       "      <td>None</td>\n",
       "      <td>None</td>\n",
       "      <td>{}</td>\n",
       "      <td>The text does not contain any explicit hate sp...</td>\n",
       "      <td>The text is a simple statement of understandin...</td>\n",
       "      <td>0.00</td>\n",
       "      <td>0.00</td>\n",
       "      <td>None</td>\n",
       "      <td>0.00</td>\n",
       "      <td>0.0</td>\n",
       "      <td>0.00</td>\n",
       "    </tr>\n",
       "  </tbody>\n",
       "</table>\n",
       "<p>8604 rows × 19 columns</p>\n",
       "</div>"
      ],
      "text/plain": [
       "     prompt_id                                model  sample_size  \\\n",
       "0            0                  mistral-7b-instruct          478   \n",
       "1            0                  mistral-7b-instruct          478   \n",
       "2            0                  mistral-7b-instruct          478   \n",
       "3            0                  mistral-7b-instruct          478   \n",
       "4            0                  mistral-7b-instruct          478   \n",
       "..         ...                                  ...          ...   \n",
       "473          4  fine-tuned-mistral-7b-v0.2-instruct          478   \n",
       "474          4  fine-tuned-mistral-7b-v0.2-instruct          478   \n",
       "475          4  fine-tuned-mistral-7b-v0.2-instruct          478   \n",
       "476          4  fine-tuned-mistral-7b-v0.2-instruct          478   \n",
       "477          4  fine-tuned-mistral-7b-v0.2-instruct          478   \n",
       "\n",
       "                                                  text  \\\n",
       "0    So you would refuse even other Nordic whites f...   \n",
       "1         Just Google it and you 'll see what I mean .   \n",
       "2    During the early punk scene , he was always se...   \n",
       "3    DuetschGirlTX, No I live in a tiny ass town wh...   \n",
       "4    YouTube - Teacher Attacked for Being White 9 y...   \n",
       "..                                                 ...   \n",
       "473  I have one word for you ....... MOVE . We chos...   \n",
       "474  There are only eight people living within a mi...   \n",
       "475  you just say blacks hate the cold. the only re...   \n",
       "476  And all those holes below 40,000 feet are fill...   \n",
       "477                                     Now I get it !   \n",
       "\n",
       "                                                answer  labeled_hateful  \\\n",
       "0    { \\n  \"relevant_facts\": [\\n    \"The sentence e...             True   \n",
       "1    { \\n  \"relevant_facts\": [\\n    \"The sentence c...            False   \n",
       "2    { \\n  \"relevant_facts\": [\\n    \"The person in ...            False   \n",
       "3    { \\n  \"relevant_facts\": [\"The speaker is ident...             True   \n",
       "4    \\n{ \\n  \"relevant_facts\": [\\n    \"A 9-year-old...            False   \n",
       "..                                                 ...              ...   \n",
       "473  \\n{\\n  \"relevant_word_definitions\": {\\n    \"wh...            False   \n",
       "474  {\\n\"relevant_word_definitions\": {\\n},\\n\"contai...            False   \n",
       "475  \\n{\\n  \"relevant_word_definitions\": {\\n    \"bl...             True   \n",
       "476  \\n{\\n  \"relevant_word_definitions\": {\\n    \"ho...            False   \n",
       "477  {\\n\"relevant_word_definitions\": {},\\n\"containe...            False   \n",
       "\n",
       "    relevant_facts_from_the_cultural_context  \\\n",
       "0                                       None   \n",
       "1                                       None   \n",
       "2                                       None   \n",
       "3                                       None   \n",
       "4                                       None   \n",
       "..                                       ...   \n",
       "473                                     None   \n",
       "474                                     None   \n",
       "475                                     None   \n",
       "476                                     None   \n",
       "477                                     None   \n",
       "\n",
       "    contained_explicit_racist_vocabulary contained_explicit_sexist_vocabulary  \\\n",
       "0                                   None                                 None   \n",
       "1                                   None                                 None   \n",
       "2                                   None                                 None   \n",
       "3                                   None                                 None   \n",
       "4                                   None                                 None   \n",
       "..                                   ...                                  ...   \n",
       "473                                 None                                 None   \n",
       "474                                 None                                 None   \n",
       "475                                 None                                 None   \n",
       "476                                 None                                 None   \n",
       "477                                 None                                 None   \n",
       "\n",
       "    contained_explicit_toxic_vocabulary  \\\n",
       "0                                  None   \n",
       "1                                  None   \n",
       "2                                  None   \n",
       "3                                  None   \n",
       "4                                  None   \n",
       "..                                  ...   \n",
       "473                                None   \n",
       "474                                None   \n",
       "475                                None   \n",
       "476                                None   \n",
       "477                                None   \n",
       "\n",
       "                             relevant_word_definitions  \\\n",
       "0                                                 None   \n",
       "1                                                 None   \n",
       "2                                                 None   \n",
       "3                                                 None   \n",
       "4                                                 None   \n",
       "..                                                 ...   \n",
       "473  {\\n    \"white\": \"a person having European ance...   \n",
       "474                                                 {}   \n",
       "475  {\\n    \"blacks\": \"a racial group of people ori...   \n",
       "476  {\\n    \"holes\": \"an empty space or an opening ...   \n",
       "477                                                 {}   \n",
       "\n",
       "                              argument_for_hate_speech  \\\n",
       "0    The sentence implies that people from certain ...   \n",
       "1    The sentence does not contain any explicit hat...   \n",
       "2                                                 None   \n",
       "3    The speaker expresses a sense of needing to ha...   \n",
       "4                                                 None   \n",
       "..                                                 ...   \n",
       "473  The speaker expresses a desire for their child...   \n",
       "474  The text does not contain any explicit hate sp...   \n",
       "475  The statement implies that black people are on...   \n",
       "476  The text does not contain any explicit hate sp...   \n",
       "477  The text does not contain any explicit hate sp...   \n",
       "\n",
       "                          argument_against_hate_speech  \\\n",
       "0                                                 None   \n",
       "1                                                        \n",
       "2                                                 None   \n",
       "3    The speaker is not directly targeting or attac...   \n",
       "4    The incident occurred during a tantrum or outb...   \n",
       "..                                                 ...   \n",
       "473                                                      \n",
       "474                                               None   \n",
       "475  The statement does not contain any explicit th...   \n",
       "476  The text is a statement about the presence of ...   \n",
       "477  The text is a simple statement of understandin...   \n",
       "\n",
       "     likelihood_of_presence_of_implicit_hate_speech  \\\n",
       "0                                              0.56   \n",
       "1                                              0.05   \n",
       "2                                              0.27   \n",
       "3                                              0.19   \n",
       "4                                              0.29   \n",
       "..                                              ...   \n",
       "473                                            0.00   \n",
       "474                                            0.00   \n",
       "475                                            1.00   \n",
       "476                                            0.00   \n",
       "477                                            0.00   \n",
       "\n",
       "     likelihood_of_presence_of_explicit_hate_speech  \\\n",
       "0                                              0.12   \n",
       "1                                              0.00   \n",
       "2                                              0.00   \n",
       "3                                              0.01   \n",
       "4                                              0.95   \n",
       "..                                              ...   \n",
       "473                                            1.00   \n",
       "474                                            0.00   \n",
       "475                                            0.00   \n",
       "476                                            0.00   \n",
       "477                                            0.00   \n",
       "\n",
       "    likelihood_of_ad_hominin_attack  likelihood_of_minority_attack  \\\n",
       "0                              None                           0.61   \n",
       "1                              None                           0.00   \n",
       "2                              None                           0.10   \n",
       "3                              None                           0.00   \n",
       "4                              None                           0.31   \n",
       "..                              ...                            ...   \n",
       "473                            None                           0.00   \n",
       "474                            None                           0.00   \n",
       "475                            None                           1.00   \n",
       "476                            None                           0.00   \n",
       "477                            None                           0.00   \n",
       "\n",
       "     likelihood_of_takedown_on_social_media  hate_speech_probability  \n",
       "0                                       NaN                     0.51  \n",
       "1                                       NaN                     0.00  \n",
       "2                                       NaN                     0.15  \n",
       "3                                       NaN                     0.06  \n",
       "4                                       NaN                     0.92  \n",
       "..                                      ...                      ...  \n",
       "473                                     1.0                     1.00  \n",
       "474                                     0.0                     0.00  \n",
       "475                                     1.0                     1.00  \n",
       "476                                     0.0                     0.00  \n",
       "477                                     0.0                     0.00  \n",
       "\n",
       "[8604 rows x 19 columns]"
      ]
     },
     "execution_count": 4,
     "metadata": {},
     "output_type": "execute_result"
    }
   ],
   "source": [
    "# Check for missing values\n",
    "missing_values = df.isnull().sum()\n",
    "print(\"Missing values for each column:\")\n",
    "print(missing_values)\n",
    "\n",
    "df"
   ]
  },
  {
   "cell_type": "code",
   "execution_count": 5,
   "metadata": {},
   "outputs": [
    {
     "name": "stderr",
     "output_type": "stream",
     "text": [
      "C:\\Users\\michi\\AppData\\Local\\Temp/ipykernel_2052/1381289191.py:7: FutureWarning: The default of observed=False is deprecated and will be changed to True in a future version of pandas. Pass observed=False to retain current behavior or observed=True to adopt the future default and silence this warning.\n",
      "  df_grouped = df.groupby([\"bin\", \"model\", \"prompt_id\", \"labeled_hateful\"]).count().reset_index()\n"
     ]
    },
    {
     "data": {
      "application/vnd.plotly.v1+json": {
       "config": {
        "plotlyServerURL": "https://plot.ly"
       },
       "data": [
        {
         "alignmentgroup": "True",
         "hovertemplate": "<b>%{hovertext}</b><br><br>labeled_hateful=False<br>bin=%{x}<br>text=%{y}<extra></extra>",
         "hovertext": [
          "fine-tuned-mistral-7b-v0.2-instruct",
          "fine-tuned-mistral-7b-v0.2-instruct",
          "fine-tuned-mistral-7b-v0.2-instruct",
          "fine-tuned-mistral-7b-v0.2-instruct",
          "fine-tuned-mistral-7b-v0.2-instruct",
          "fine-tuned-mistral-7b-v0.2-instruct",
          "fine-tuned-mistral-7b-v0.2-instruct",
          "fine-tuned-mistral-7b-v0.2-instruct",
          "fine-tuned-mistral-7b-v0.2-instruct",
          "mistral-7b-instruct",
          "mistral-7b-instruct",
          "mistral-7b-instruct",
          "mistral-7b-instruct",
          "mistral-7b-instruct",
          "mistral-7b-instruct",
          "mistral-7b-instruct",
          "mistral-7b-instruct",
          "mistral-7b-instruct",
          "mixtral-8x7b-instruct",
          "mixtral-8x7b-instruct",
          "mixtral-8x7b-instruct",
          "mixtral-8x7b-instruct",
          "mixtral-8x7b-instruct",
          "mixtral-8x7b-instruct",
          "mixtral-8x7b-instruct",
          "mixtral-8x7b-instruct",
          "mixtral-8x7b-instruct",
          "pplx-70b-chat",
          "pplx-70b-chat",
          "pplx-70b-chat",
          "pplx-70b-chat",
          "pplx-70b-chat",
          "pplx-70b-chat",
          "pplx-70b-chat",
          "pplx-70b-chat",
          "pplx-70b-chat",
          "pplx-7b-chat",
          "pplx-7b-chat",
          "pplx-7b-chat",
          "pplx-7b-chat",
          "pplx-7b-chat",
          "pplx-7b-chat",
          "pplx-7b-chat",
          "pplx-7b-chat",
          "pplx-7b-chat",
          "fine-tuned-mistral-7b-v0.2-instruct",
          "fine-tuned-mistral-7b-v0.2-instruct",
          "fine-tuned-mistral-7b-v0.2-instruct",
          "fine-tuned-mistral-7b-v0.2-instruct",
          "fine-tuned-mistral-7b-v0.2-instruct",
          "fine-tuned-mistral-7b-v0.2-instruct",
          "fine-tuned-mistral-7b-v0.2-instruct",
          "fine-tuned-mistral-7b-v0.2-instruct",
          "fine-tuned-mistral-7b-v0.2-instruct",
          "mistral-7b-instruct",
          "mistral-7b-instruct",
          "mistral-7b-instruct",
          "mistral-7b-instruct",
          "mistral-7b-instruct",
          "mistral-7b-instruct",
          "mistral-7b-instruct",
          "mistral-7b-instruct",
          "mistral-7b-instruct",
          "mixtral-8x7b-instruct",
          "mixtral-8x7b-instruct",
          "mixtral-8x7b-instruct",
          "mixtral-8x7b-instruct",
          "mixtral-8x7b-instruct",
          "mixtral-8x7b-instruct",
          "mixtral-8x7b-instruct",
          "mixtral-8x7b-instruct",
          "mixtral-8x7b-instruct",
          "pplx-70b-chat",
          "pplx-70b-chat",
          "pplx-70b-chat",
          "pplx-70b-chat",
          "pplx-70b-chat",
          "pplx-70b-chat",
          "pplx-70b-chat",
          "pplx-70b-chat",
          "pplx-70b-chat",
          "pplx-7b-chat",
          "pplx-7b-chat",
          "pplx-7b-chat",
          "pplx-7b-chat",
          "pplx-7b-chat",
          "pplx-7b-chat",
          "pplx-7b-chat",
          "pplx-7b-chat",
          "pplx-7b-chat",
          "fine-tuned-mistral-7b-v0.2-instruct",
          "fine-tuned-mistral-7b-v0.2-instruct",
          "fine-tuned-mistral-7b-v0.2-instruct",
          "fine-tuned-mistral-7b-v0.2-instruct",
          "fine-tuned-mistral-7b-v0.2-instruct",
          "fine-tuned-mistral-7b-v0.2-instruct",
          "fine-tuned-mistral-7b-v0.2-instruct",
          "fine-tuned-mistral-7b-v0.2-instruct",
          "fine-tuned-mistral-7b-v0.2-instruct",
          "mistral-7b-instruct",
          "mistral-7b-instruct",
          "mistral-7b-instruct",
          "mistral-7b-instruct",
          "mistral-7b-instruct",
          "mistral-7b-instruct",
          "mistral-7b-instruct",
          "mistral-7b-instruct",
          "mistral-7b-instruct",
          "mixtral-8x7b-instruct",
          "mixtral-8x7b-instruct",
          "mixtral-8x7b-instruct",
          "mixtral-8x7b-instruct",
          "mixtral-8x7b-instruct",
          "mixtral-8x7b-instruct",
          "mixtral-8x7b-instruct",
          "mixtral-8x7b-instruct",
          "mixtral-8x7b-instruct",
          "pplx-70b-chat",
          "pplx-70b-chat",
          "pplx-70b-chat",
          "pplx-70b-chat",
          "pplx-70b-chat",
          "pplx-70b-chat",
          "pplx-70b-chat",
          "pplx-70b-chat",
          "pplx-70b-chat",
          "pplx-7b-chat",
          "pplx-7b-chat",
          "pplx-7b-chat",
          "pplx-7b-chat",
          "pplx-7b-chat",
          "pplx-7b-chat",
          "pplx-7b-chat",
          "pplx-7b-chat",
          "pplx-7b-chat",
          "fine-tuned-mistral-7b-v0.2-instruct",
          "fine-tuned-mistral-7b-v0.2-instruct",
          "fine-tuned-mistral-7b-v0.2-instruct",
          "fine-tuned-mistral-7b-v0.2-instruct",
          "fine-tuned-mistral-7b-v0.2-instruct",
          "fine-tuned-mistral-7b-v0.2-instruct",
          "fine-tuned-mistral-7b-v0.2-instruct",
          "fine-tuned-mistral-7b-v0.2-instruct",
          "fine-tuned-mistral-7b-v0.2-instruct",
          "mistral-7b-instruct",
          "mistral-7b-instruct",
          "mistral-7b-instruct",
          "mistral-7b-instruct",
          "mistral-7b-instruct",
          "mistral-7b-instruct",
          "mistral-7b-instruct",
          "mistral-7b-instruct",
          "mistral-7b-instruct",
          "mixtral-8x7b-instruct",
          "mixtral-8x7b-instruct",
          "mixtral-8x7b-instruct",
          "mixtral-8x7b-instruct",
          "mixtral-8x7b-instruct",
          "mixtral-8x7b-instruct",
          "mixtral-8x7b-instruct",
          "mixtral-8x7b-instruct",
          "mixtral-8x7b-instruct",
          "pplx-70b-chat",
          "pplx-70b-chat",
          "pplx-70b-chat",
          "pplx-70b-chat",
          "pplx-70b-chat",
          "pplx-70b-chat",
          "pplx-70b-chat",
          "pplx-70b-chat",
          "pplx-70b-chat",
          "pplx-7b-chat",
          "pplx-7b-chat",
          "pplx-7b-chat",
          "pplx-7b-chat",
          "pplx-7b-chat",
          "pplx-7b-chat",
          "pplx-7b-chat",
          "pplx-7b-chat",
          "pplx-7b-chat",
          "fine-tuned-mistral-7b-v0.2-instruct",
          "fine-tuned-mistral-7b-v0.2-instruct",
          "fine-tuned-mistral-7b-v0.2-instruct",
          "fine-tuned-mistral-7b-v0.2-instruct",
          "fine-tuned-mistral-7b-v0.2-instruct",
          "fine-tuned-mistral-7b-v0.2-instruct",
          "fine-tuned-mistral-7b-v0.2-instruct",
          "fine-tuned-mistral-7b-v0.2-instruct",
          "fine-tuned-mistral-7b-v0.2-instruct",
          "mistral-7b-instruct",
          "mistral-7b-instruct",
          "mistral-7b-instruct",
          "mistral-7b-instruct",
          "mistral-7b-instruct",
          "mistral-7b-instruct",
          "mistral-7b-instruct",
          "mistral-7b-instruct",
          "mistral-7b-instruct",
          "mixtral-8x7b-instruct",
          "mixtral-8x7b-instruct",
          "mixtral-8x7b-instruct",
          "mixtral-8x7b-instruct",
          "mixtral-8x7b-instruct",
          "mixtral-8x7b-instruct",
          "mixtral-8x7b-instruct",
          "mixtral-8x7b-instruct",
          "mixtral-8x7b-instruct",
          "pplx-70b-chat",
          "pplx-70b-chat",
          "pplx-70b-chat",
          "pplx-70b-chat",
          "pplx-70b-chat",
          "pplx-70b-chat",
          "pplx-70b-chat",
          "pplx-70b-chat",
          "pplx-70b-chat",
          "pplx-7b-chat",
          "pplx-7b-chat",
          "pplx-7b-chat",
          "pplx-7b-chat",
          "pplx-7b-chat",
          "pplx-7b-chat",
          "pplx-7b-chat",
          "pplx-7b-chat",
          "pplx-7b-chat",
          "fine-tuned-mistral-7b-v0.2-instruct",
          "fine-tuned-mistral-7b-v0.2-instruct",
          "fine-tuned-mistral-7b-v0.2-instruct",
          "fine-tuned-mistral-7b-v0.2-instruct",
          "fine-tuned-mistral-7b-v0.2-instruct",
          "fine-tuned-mistral-7b-v0.2-instruct",
          "fine-tuned-mistral-7b-v0.2-instruct",
          "fine-tuned-mistral-7b-v0.2-instruct",
          "fine-tuned-mistral-7b-v0.2-instruct",
          "mistral-7b-instruct",
          "mistral-7b-instruct",
          "mistral-7b-instruct",
          "mistral-7b-instruct",
          "mistral-7b-instruct",
          "mistral-7b-instruct",
          "mistral-7b-instruct",
          "mistral-7b-instruct",
          "mistral-7b-instruct",
          "mixtral-8x7b-instruct",
          "mixtral-8x7b-instruct",
          "mixtral-8x7b-instruct",
          "mixtral-8x7b-instruct",
          "mixtral-8x7b-instruct",
          "mixtral-8x7b-instruct",
          "mixtral-8x7b-instruct",
          "mixtral-8x7b-instruct",
          "mixtral-8x7b-instruct",
          "pplx-70b-chat",
          "pplx-70b-chat",
          "pplx-70b-chat",
          "pplx-70b-chat",
          "pplx-70b-chat",
          "pplx-70b-chat",
          "pplx-70b-chat",
          "pplx-70b-chat",
          "pplx-70b-chat",
          "pplx-7b-chat",
          "pplx-7b-chat",
          "pplx-7b-chat",
          "pplx-7b-chat",
          "pplx-7b-chat",
          "pplx-7b-chat",
          "pplx-7b-chat",
          "pplx-7b-chat",
          "pplx-7b-chat",
          "fine-tuned-mistral-7b-v0.2-instruct",
          "fine-tuned-mistral-7b-v0.2-instruct",
          "fine-tuned-mistral-7b-v0.2-instruct",
          "fine-tuned-mistral-7b-v0.2-instruct",
          "fine-tuned-mistral-7b-v0.2-instruct",
          "fine-tuned-mistral-7b-v0.2-instruct",
          "fine-tuned-mistral-7b-v0.2-instruct",
          "fine-tuned-mistral-7b-v0.2-instruct",
          "fine-tuned-mistral-7b-v0.2-instruct",
          "mistral-7b-instruct",
          "mistral-7b-instruct",
          "mistral-7b-instruct",
          "mistral-7b-instruct",
          "mistral-7b-instruct",
          "mistral-7b-instruct",
          "mistral-7b-instruct",
          "mistral-7b-instruct",
          "mistral-7b-instruct",
          "mixtral-8x7b-instruct",
          "mixtral-8x7b-instruct",
          "mixtral-8x7b-instruct",
          "mixtral-8x7b-instruct",
          "mixtral-8x7b-instruct",
          "mixtral-8x7b-instruct",
          "mixtral-8x7b-instruct",
          "mixtral-8x7b-instruct",
          "mixtral-8x7b-instruct",
          "pplx-70b-chat",
          "pplx-70b-chat",
          "pplx-70b-chat",
          "pplx-70b-chat",
          "pplx-70b-chat",
          "pplx-70b-chat",
          "pplx-70b-chat",
          "pplx-70b-chat",
          "pplx-70b-chat",
          "pplx-7b-chat",
          "pplx-7b-chat",
          "pplx-7b-chat",
          "pplx-7b-chat",
          "pplx-7b-chat",
          "pplx-7b-chat",
          "pplx-7b-chat",
          "pplx-7b-chat",
          "pplx-7b-chat",
          "fine-tuned-mistral-7b-v0.2-instruct",
          "fine-tuned-mistral-7b-v0.2-instruct",
          "fine-tuned-mistral-7b-v0.2-instruct",
          "fine-tuned-mistral-7b-v0.2-instruct",
          "fine-tuned-mistral-7b-v0.2-instruct",
          "fine-tuned-mistral-7b-v0.2-instruct",
          "fine-tuned-mistral-7b-v0.2-instruct",
          "fine-tuned-mistral-7b-v0.2-instruct",
          "fine-tuned-mistral-7b-v0.2-instruct",
          "mistral-7b-instruct",
          "mistral-7b-instruct",
          "mistral-7b-instruct",
          "mistral-7b-instruct",
          "mistral-7b-instruct",
          "mistral-7b-instruct",
          "mistral-7b-instruct",
          "mistral-7b-instruct",
          "mistral-7b-instruct",
          "mixtral-8x7b-instruct",
          "mixtral-8x7b-instruct",
          "mixtral-8x7b-instruct",
          "mixtral-8x7b-instruct",
          "mixtral-8x7b-instruct",
          "mixtral-8x7b-instruct",
          "mixtral-8x7b-instruct",
          "mixtral-8x7b-instruct",
          "mixtral-8x7b-instruct",
          "pplx-70b-chat",
          "pplx-70b-chat",
          "pplx-70b-chat",
          "pplx-70b-chat",
          "pplx-70b-chat",
          "pplx-70b-chat",
          "pplx-70b-chat",
          "pplx-70b-chat",
          "pplx-70b-chat",
          "pplx-7b-chat",
          "pplx-7b-chat",
          "pplx-7b-chat",
          "pplx-7b-chat",
          "pplx-7b-chat",
          "pplx-7b-chat",
          "pplx-7b-chat",
          "pplx-7b-chat",
          "pplx-7b-chat",
          "fine-tuned-mistral-7b-v0.2-instruct",
          "fine-tuned-mistral-7b-v0.2-instruct",
          "fine-tuned-mistral-7b-v0.2-instruct",
          "fine-tuned-mistral-7b-v0.2-instruct",
          "fine-tuned-mistral-7b-v0.2-instruct",
          "fine-tuned-mistral-7b-v0.2-instruct",
          "fine-tuned-mistral-7b-v0.2-instruct",
          "fine-tuned-mistral-7b-v0.2-instruct",
          "fine-tuned-mistral-7b-v0.2-instruct",
          "mistral-7b-instruct",
          "mistral-7b-instruct",
          "mistral-7b-instruct",
          "mistral-7b-instruct",
          "mistral-7b-instruct",
          "mistral-7b-instruct",
          "mistral-7b-instruct",
          "mistral-7b-instruct",
          "mistral-7b-instruct",
          "mixtral-8x7b-instruct",
          "mixtral-8x7b-instruct",
          "mixtral-8x7b-instruct",
          "mixtral-8x7b-instruct",
          "mixtral-8x7b-instruct",
          "mixtral-8x7b-instruct",
          "mixtral-8x7b-instruct",
          "mixtral-8x7b-instruct",
          "mixtral-8x7b-instruct",
          "pplx-70b-chat",
          "pplx-70b-chat",
          "pplx-70b-chat",
          "pplx-70b-chat",
          "pplx-70b-chat",
          "pplx-70b-chat",
          "pplx-70b-chat",
          "pplx-70b-chat",
          "pplx-70b-chat",
          "pplx-7b-chat",
          "pplx-7b-chat",
          "pplx-7b-chat",
          "pplx-7b-chat",
          "pplx-7b-chat",
          "pplx-7b-chat",
          "pplx-7b-chat",
          "pplx-7b-chat",
          "pplx-7b-chat",
          "fine-tuned-mistral-7b-v0.2-instruct",
          "fine-tuned-mistral-7b-v0.2-instruct",
          "fine-tuned-mistral-7b-v0.2-instruct",
          "fine-tuned-mistral-7b-v0.2-instruct",
          "fine-tuned-mistral-7b-v0.2-instruct",
          "fine-tuned-mistral-7b-v0.2-instruct",
          "fine-tuned-mistral-7b-v0.2-instruct",
          "fine-tuned-mistral-7b-v0.2-instruct",
          "fine-tuned-mistral-7b-v0.2-instruct",
          "mistral-7b-instruct",
          "mistral-7b-instruct",
          "mistral-7b-instruct",
          "mistral-7b-instruct",
          "mistral-7b-instruct",
          "mistral-7b-instruct",
          "mistral-7b-instruct",
          "mistral-7b-instruct",
          "mistral-7b-instruct",
          "mixtral-8x7b-instruct",
          "mixtral-8x7b-instruct",
          "mixtral-8x7b-instruct",
          "mixtral-8x7b-instruct",
          "mixtral-8x7b-instruct",
          "mixtral-8x7b-instruct",
          "mixtral-8x7b-instruct",
          "mixtral-8x7b-instruct",
          "mixtral-8x7b-instruct",
          "pplx-70b-chat",
          "pplx-70b-chat",
          "pplx-70b-chat",
          "pplx-70b-chat",
          "pplx-70b-chat",
          "pplx-70b-chat",
          "pplx-70b-chat",
          "pplx-70b-chat",
          "pplx-70b-chat",
          "pplx-7b-chat",
          "pplx-7b-chat",
          "pplx-7b-chat",
          "pplx-7b-chat",
          "pplx-7b-chat",
          "pplx-7b-chat",
          "pplx-7b-chat",
          "pplx-7b-chat",
          "pplx-7b-chat",
          "fine-tuned-mistral-7b-v0.2-instruct",
          "fine-tuned-mistral-7b-v0.2-instruct",
          "fine-tuned-mistral-7b-v0.2-instruct",
          "fine-tuned-mistral-7b-v0.2-instruct",
          "fine-tuned-mistral-7b-v0.2-instruct",
          "fine-tuned-mistral-7b-v0.2-instruct",
          "fine-tuned-mistral-7b-v0.2-instruct",
          "fine-tuned-mistral-7b-v0.2-instruct",
          "fine-tuned-mistral-7b-v0.2-instruct",
          "mistral-7b-instruct",
          "mistral-7b-instruct",
          "mistral-7b-instruct",
          "mistral-7b-instruct",
          "mistral-7b-instruct",
          "mistral-7b-instruct",
          "mistral-7b-instruct",
          "mistral-7b-instruct",
          "mistral-7b-instruct",
          "mixtral-8x7b-instruct",
          "mixtral-8x7b-instruct",
          "mixtral-8x7b-instruct",
          "mixtral-8x7b-instruct",
          "mixtral-8x7b-instruct",
          "mixtral-8x7b-instruct",
          "mixtral-8x7b-instruct",
          "mixtral-8x7b-instruct",
          "mixtral-8x7b-instruct",
          "pplx-70b-chat",
          "pplx-70b-chat",
          "pplx-70b-chat",
          "pplx-70b-chat",
          "pplx-70b-chat",
          "pplx-70b-chat",
          "pplx-70b-chat",
          "pplx-70b-chat",
          "pplx-70b-chat",
          "pplx-7b-chat",
          "pplx-7b-chat",
          "pplx-7b-chat",
          "pplx-7b-chat",
          "pplx-7b-chat",
          "pplx-7b-chat",
          "pplx-7b-chat",
          "pplx-7b-chat",
          "pplx-7b-chat",
          "fine-tuned-mistral-7b-v0.2-instruct",
          "fine-tuned-mistral-7b-v0.2-instruct",
          "fine-tuned-mistral-7b-v0.2-instruct",
          "fine-tuned-mistral-7b-v0.2-instruct",
          "fine-tuned-mistral-7b-v0.2-instruct",
          "fine-tuned-mistral-7b-v0.2-instruct",
          "fine-tuned-mistral-7b-v0.2-instruct",
          "fine-tuned-mistral-7b-v0.2-instruct",
          "fine-tuned-mistral-7b-v0.2-instruct",
          "mistral-7b-instruct",
          "mistral-7b-instruct",
          "mistral-7b-instruct",
          "mistral-7b-instruct",
          "mistral-7b-instruct",
          "mistral-7b-instruct",
          "mistral-7b-instruct",
          "mistral-7b-instruct",
          "mistral-7b-instruct",
          "mixtral-8x7b-instruct",
          "mixtral-8x7b-instruct",
          "mixtral-8x7b-instruct",
          "mixtral-8x7b-instruct",
          "mixtral-8x7b-instruct",
          "mixtral-8x7b-instruct",
          "mixtral-8x7b-instruct",
          "mixtral-8x7b-instruct",
          "mixtral-8x7b-instruct",
          "pplx-70b-chat",
          "pplx-70b-chat",
          "pplx-70b-chat",
          "pplx-70b-chat",
          "pplx-70b-chat",
          "pplx-70b-chat",
          "pplx-70b-chat",
          "pplx-70b-chat",
          "pplx-70b-chat",
          "pplx-7b-chat",
          "pplx-7b-chat",
          "pplx-7b-chat",
          "pplx-7b-chat",
          "pplx-7b-chat",
          "pplx-7b-chat",
          "pplx-7b-chat",
          "pplx-7b-chat",
          "pplx-7b-chat",
          "fine-tuned-mistral-7b-v0.2-instruct",
          "fine-tuned-mistral-7b-v0.2-instruct",
          "fine-tuned-mistral-7b-v0.2-instruct",
          "fine-tuned-mistral-7b-v0.2-instruct",
          "fine-tuned-mistral-7b-v0.2-instruct",
          "fine-tuned-mistral-7b-v0.2-instruct",
          "fine-tuned-mistral-7b-v0.2-instruct",
          "fine-tuned-mistral-7b-v0.2-instruct",
          "fine-tuned-mistral-7b-v0.2-instruct",
          "mistral-7b-instruct",
          "mistral-7b-instruct",
          "mistral-7b-instruct",
          "mistral-7b-instruct",
          "mistral-7b-instruct",
          "mistral-7b-instruct",
          "mistral-7b-instruct",
          "mistral-7b-instruct",
          "mistral-7b-instruct",
          "mixtral-8x7b-instruct",
          "mixtral-8x7b-instruct",
          "mixtral-8x7b-instruct",
          "mixtral-8x7b-instruct",
          "mixtral-8x7b-instruct",
          "mixtral-8x7b-instruct",
          "mixtral-8x7b-instruct",
          "mixtral-8x7b-instruct",
          "mixtral-8x7b-instruct",
          "pplx-70b-chat",
          "pplx-70b-chat",
          "pplx-70b-chat",
          "pplx-70b-chat",
          "pplx-70b-chat",
          "pplx-70b-chat",
          "pplx-70b-chat",
          "pplx-70b-chat",
          "pplx-70b-chat",
          "pplx-7b-chat",
          "pplx-7b-chat",
          "pplx-7b-chat",
          "pplx-7b-chat",
          "pplx-7b-chat",
          "pplx-7b-chat",
          "pplx-7b-chat",
          "pplx-7b-chat",
          "pplx-7b-chat",
          "fine-tuned-mistral-7b-v0.2-instruct",
          "fine-tuned-mistral-7b-v0.2-instruct",
          "fine-tuned-mistral-7b-v0.2-instruct",
          "fine-tuned-mistral-7b-v0.2-instruct",
          "fine-tuned-mistral-7b-v0.2-instruct",
          "fine-tuned-mistral-7b-v0.2-instruct",
          "fine-tuned-mistral-7b-v0.2-instruct",
          "fine-tuned-mistral-7b-v0.2-instruct",
          "fine-tuned-mistral-7b-v0.2-instruct",
          "mistral-7b-instruct",
          "mistral-7b-instruct",
          "mistral-7b-instruct",
          "mistral-7b-instruct",
          "mistral-7b-instruct",
          "mistral-7b-instruct",
          "mistral-7b-instruct",
          "mistral-7b-instruct",
          "mistral-7b-instruct",
          "mixtral-8x7b-instruct",
          "mixtral-8x7b-instruct",
          "mixtral-8x7b-instruct",
          "mixtral-8x7b-instruct",
          "mixtral-8x7b-instruct",
          "mixtral-8x7b-instruct",
          "mixtral-8x7b-instruct",
          "mixtral-8x7b-instruct",
          "mixtral-8x7b-instruct",
          "pplx-70b-chat",
          "pplx-70b-chat",
          "pplx-70b-chat",
          "pplx-70b-chat",
          "pplx-70b-chat",
          "pplx-70b-chat",
          "pplx-70b-chat",
          "pplx-70b-chat",
          "pplx-70b-chat",
          "pplx-7b-chat",
          "pplx-7b-chat",
          "pplx-7b-chat",
          "pplx-7b-chat",
          "pplx-7b-chat",
          "pplx-7b-chat",
          "pplx-7b-chat",
          "pplx-7b-chat",
          "pplx-7b-chat",
          "fine-tuned-mistral-7b-v0.2-instruct",
          "fine-tuned-mistral-7b-v0.2-instruct",
          "fine-tuned-mistral-7b-v0.2-instruct",
          "fine-tuned-mistral-7b-v0.2-instruct",
          "fine-tuned-mistral-7b-v0.2-instruct",
          "fine-tuned-mistral-7b-v0.2-instruct",
          "fine-tuned-mistral-7b-v0.2-instruct",
          "fine-tuned-mistral-7b-v0.2-instruct",
          "fine-tuned-mistral-7b-v0.2-instruct",
          "mistral-7b-instruct",
          "mistral-7b-instruct",
          "mistral-7b-instruct",
          "mistral-7b-instruct",
          "mistral-7b-instruct",
          "mistral-7b-instruct",
          "mistral-7b-instruct",
          "mistral-7b-instruct",
          "mistral-7b-instruct",
          "mixtral-8x7b-instruct",
          "mixtral-8x7b-instruct",
          "mixtral-8x7b-instruct",
          "mixtral-8x7b-instruct",
          "mixtral-8x7b-instruct",
          "mixtral-8x7b-instruct",
          "mixtral-8x7b-instruct",
          "mixtral-8x7b-instruct",
          "mixtral-8x7b-instruct",
          "pplx-70b-chat",
          "pplx-70b-chat",
          "pplx-70b-chat",
          "pplx-70b-chat",
          "pplx-70b-chat",
          "pplx-70b-chat",
          "pplx-70b-chat",
          "pplx-70b-chat",
          "pplx-70b-chat",
          "pplx-7b-chat",
          "pplx-7b-chat",
          "pplx-7b-chat",
          "pplx-7b-chat",
          "pplx-7b-chat",
          "pplx-7b-chat",
          "pplx-7b-chat",
          "pplx-7b-chat",
          "pplx-7b-chat",
          "fine-tuned-mistral-7b-v0.2-instruct",
          "fine-tuned-mistral-7b-v0.2-instruct",
          "fine-tuned-mistral-7b-v0.2-instruct",
          "fine-tuned-mistral-7b-v0.2-instruct",
          "fine-tuned-mistral-7b-v0.2-instruct",
          "fine-tuned-mistral-7b-v0.2-instruct",
          "fine-tuned-mistral-7b-v0.2-instruct",
          "fine-tuned-mistral-7b-v0.2-instruct",
          "fine-tuned-mistral-7b-v0.2-instruct",
          "mistral-7b-instruct",
          "mistral-7b-instruct",
          "mistral-7b-instruct",
          "mistral-7b-instruct",
          "mistral-7b-instruct",
          "mistral-7b-instruct",
          "mistral-7b-instruct",
          "mistral-7b-instruct",
          "mistral-7b-instruct",
          "mixtral-8x7b-instruct",
          "mixtral-8x7b-instruct",
          "mixtral-8x7b-instruct",
          "mixtral-8x7b-instruct",
          "mixtral-8x7b-instruct",
          "mixtral-8x7b-instruct",
          "mixtral-8x7b-instruct",
          "mixtral-8x7b-instruct",
          "mixtral-8x7b-instruct",
          "pplx-70b-chat",
          "pplx-70b-chat",
          "pplx-70b-chat",
          "pplx-70b-chat",
          "pplx-70b-chat",
          "pplx-70b-chat",
          "pplx-70b-chat",
          "pplx-70b-chat",
          "pplx-70b-chat",
          "pplx-7b-chat",
          "pplx-7b-chat",
          "pplx-7b-chat",
          "pplx-7b-chat",
          "pplx-7b-chat",
          "pplx-7b-chat",
          "pplx-7b-chat",
          "pplx-7b-chat",
          "pplx-7b-chat",
          "fine-tuned-mistral-7b-v0.2-instruct",
          "fine-tuned-mistral-7b-v0.2-instruct",
          "fine-tuned-mistral-7b-v0.2-instruct",
          "fine-tuned-mistral-7b-v0.2-instruct",
          "fine-tuned-mistral-7b-v0.2-instruct",
          "fine-tuned-mistral-7b-v0.2-instruct",
          "fine-tuned-mistral-7b-v0.2-instruct",
          "fine-tuned-mistral-7b-v0.2-instruct",
          "fine-tuned-mistral-7b-v0.2-instruct",
          "mistral-7b-instruct",
          "mistral-7b-instruct",
          "mistral-7b-instruct",
          "mistral-7b-instruct",
          "mistral-7b-instruct",
          "mistral-7b-instruct",
          "mistral-7b-instruct",
          "mistral-7b-instruct",
          "mistral-7b-instruct",
          "mixtral-8x7b-instruct",
          "mixtral-8x7b-instruct",
          "mixtral-8x7b-instruct",
          "mixtral-8x7b-instruct",
          "mixtral-8x7b-instruct",
          "mixtral-8x7b-instruct",
          "mixtral-8x7b-instruct",
          "mixtral-8x7b-instruct",
          "mixtral-8x7b-instruct",
          "pplx-70b-chat",
          "pplx-70b-chat",
          "pplx-70b-chat",
          "pplx-70b-chat",
          "pplx-70b-chat",
          "pplx-70b-chat",
          "pplx-70b-chat",
          "pplx-70b-chat",
          "pplx-70b-chat",
          "pplx-7b-chat",
          "pplx-7b-chat",
          "pplx-7b-chat",
          "pplx-7b-chat",
          "pplx-7b-chat",
          "pplx-7b-chat",
          "pplx-7b-chat",
          "pplx-7b-chat",
          "pplx-7b-chat",
          "fine-tuned-mistral-7b-v0.2-instruct",
          "fine-tuned-mistral-7b-v0.2-instruct",
          "fine-tuned-mistral-7b-v0.2-instruct",
          "fine-tuned-mistral-7b-v0.2-instruct",
          "fine-tuned-mistral-7b-v0.2-instruct",
          "fine-tuned-mistral-7b-v0.2-instruct",
          "fine-tuned-mistral-7b-v0.2-instruct",
          "fine-tuned-mistral-7b-v0.2-instruct",
          "fine-tuned-mistral-7b-v0.2-instruct",
          "mistral-7b-instruct",
          "mistral-7b-instruct",
          "mistral-7b-instruct",
          "mistral-7b-instruct",
          "mistral-7b-instruct",
          "mistral-7b-instruct",
          "mistral-7b-instruct",
          "mistral-7b-instruct",
          "mistral-7b-instruct",
          "mixtral-8x7b-instruct",
          "mixtral-8x7b-instruct",
          "mixtral-8x7b-instruct",
          "mixtral-8x7b-instruct",
          "mixtral-8x7b-instruct",
          "mixtral-8x7b-instruct",
          "mixtral-8x7b-instruct",
          "mixtral-8x7b-instruct",
          "mixtral-8x7b-instruct",
          "pplx-70b-chat",
          "pplx-70b-chat",
          "pplx-70b-chat",
          "pplx-70b-chat",
          "pplx-70b-chat",
          "pplx-70b-chat",
          "pplx-70b-chat",
          "pplx-70b-chat",
          "pplx-70b-chat",
          "pplx-7b-chat",
          "pplx-7b-chat",
          "pplx-7b-chat",
          "pplx-7b-chat",
          "pplx-7b-chat",
          "pplx-7b-chat",
          "pplx-7b-chat",
          "pplx-7b-chat",
          "pplx-7b-chat",
          "fine-tuned-mistral-7b-v0.2-instruct",
          "fine-tuned-mistral-7b-v0.2-instruct",
          "fine-tuned-mistral-7b-v0.2-instruct",
          "fine-tuned-mistral-7b-v0.2-instruct",
          "fine-tuned-mistral-7b-v0.2-instruct",
          "fine-tuned-mistral-7b-v0.2-instruct",
          "fine-tuned-mistral-7b-v0.2-instruct",
          "fine-tuned-mistral-7b-v0.2-instruct",
          "fine-tuned-mistral-7b-v0.2-instruct",
          "mistral-7b-instruct",
          "mistral-7b-instruct",
          "mistral-7b-instruct",
          "mistral-7b-instruct",
          "mistral-7b-instruct",
          "mistral-7b-instruct",
          "mistral-7b-instruct",
          "mistral-7b-instruct",
          "mistral-7b-instruct",
          "mixtral-8x7b-instruct",
          "mixtral-8x7b-instruct",
          "mixtral-8x7b-instruct",
          "mixtral-8x7b-instruct",
          "mixtral-8x7b-instruct",
          "mixtral-8x7b-instruct",
          "mixtral-8x7b-instruct",
          "mixtral-8x7b-instruct",
          "mixtral-8x7b-instruct",
          "pplx-70b-chat",
          "pplx-70b-chat",
          "pplx-70b-chat",
          "pplx-70b-chat",
          "pplx-70b-chat",
          "pplx-70b-chat",
          "pplx-70b-chat",
          "pplx-70b-chat",
          "pplx-70b-chat",
          "pplx-7b-chat",
          "pplx-7b-chat",
          "pplx-7b-chat",
          "pplx-7b-chat",
          "pplx-7b-chat",
          "pplx-7b-chat",
          "pplx-7b-chat",
          "pplx-7b-chat",
          "pplx-7b-chat",
          "fine-tuned-mistral-7b-v0.2-instruct",
          "fine-tuned-mistral-7b-v0.2-instruct",
          "fine-tuned-mistral-7b-v0.2-instruct",
          "fine-tuned-mistral-7b-v0.2-instruct",
          "fine-tuned-mistral-7b-v0.2-instruct",
          "fine-tuned-mistral-7b-v0.2-instruct",
          "fine-tuned-mistral-7b-v0.2-instruct",
          "fine-tuned-mistral-7b-v0.2-instruct",
          "fine-tuned-mistral-7b-v0.2-instruct",
          "mistral-7b-instruct",
          "mistral-7b-instruct",
          "mistral-7b-instruct",
          "mistral-7b-instruct",
          "mistral-7b-instruct",
          "mistral-7b-instruct",
          "mistral-7b-instruct",
          "mistral-7b-instruct",
          "mistral-7b-instruct",
          "mixtral-8x7b-instruct",
          "mixtral-8x7b-instruct",
          "mixtral-8x7b-instruct",
          "mixtral-8x7b-instruct",
          "mixtral-8x7b-instruct",
          "mixtral-8x7b-instruct",
          "mixtral-8x7b-instruct",
          "mixtral-8x7b-instruct",
          "mixtral-8x7b-instruct",
          "pplx-70b-chat",
          "pplx-70b-chat",
          "pplx-70b-chat",
          "pplx-70b-chat",
          "pplx-70b-chat",
          "pplx-70b-chat",
          "pplx-70b-chat",
          "pplx-70b-chat",
          "pplx-70b-chat",
          "pplx-7b-chat",
          "pplx-7b-chat",
          "pplx-7b-chat",
          "pplx-7b-chat",
          "pplx-7b-chat",
          "pplx-7b-chat",
          "pplx-7b-chat",
          "pplx-7b-chat",
          "pplx-7b-chat"
         ],
         "legendgroup": "False",
         "marker": {
          "color": "#636efa"
         },
         "name": "False",
         "notched": false,
         "offsetgroup": "False",
         "orientation": "v",
         "showlegend": true,
         "type": "box",
         "x": [
          "(-0.001, 5.0]",
          "(-0.001, 5.0]",
          "(-0.001, 5.0]",
          "(-0.001, 5.0]",
          "(-0.001, 5.0]",
          "(-0.001, 5.0]",
          "(-0.001, 5.0]",
          "(-0.001, 5.0]",
          "(-0.001, 5.0]",
          "(-0.001, 5.0]",
          "(-0.001, 5.0]",
          "(-0.001, 5.0]",
          "(-0.001, 5.0]",
          "(-0.001, 5.0]",
          "(-0.001, 5.0]",
          "(-0.001, 5.0]",
          "(-0.001, 5.0]",
          "(-0.001, 5.0]",
          "(-0.001, 5.0]",
          "(-0.001, 5.0]",
          "(-0.001, 5.0]",
          "(-0.001, 5.0]",
          "(-0.001, 5.0]",
          "(-0.001, 5.0]",
          "(-0.001, 5.0]",
          "(-0.001, 5.0]",
          "(-0.001, 5.0]",
          "(-0.001, 5.0]",
          "(-0.001, 5.0]",
          "(-0.001, 5.0]",
          "(-0.001, 5.0]",
          "(-0.001, 5.0]",
          "(-0.001, 5.0]",
          "(-0.001, 5.0]",
          "(-0.001, 5.0]",
          "(-0.001, 5.0]",
          "(-0.001, 5.0]",
          "(-0.001, 5.0]",
          "(-0.001, 5.0]",
          "(-0.001, 5.0]",
          "(-0.001, 5.0]",
          "(-0.001, 5.0]",
          "(-0.001, 5.0]",
          "(-0.001, 5.0]",
          "(-0.001, 5.0]",
          "(5.0, 10.0]",
          "(5.0, 10.0]",
          "(5.0, 10.0]",
          "(5.0, 10.0]",
          "(5.0, 10.0]",
          "(5.0, 10.0]",
          "(5.0, 10.0]",
          "(5.0, 10.0]",
          "(5.0, 10.0]",
          "(5.0, 10.0]",
          "(5.0, 10.0]",
          "(5.0, 10.0]",
          "(5.0, 10.0]",
          "(5.0, 10.0]",
          "(5.0, 10.0]",
          "(5.0, 10.0]",
          "(5.0, 10.0]",
          "(5.0, 10.0]",
          "(5.0, 10.0]",
          "(5.0, 10.0]",
          "(5.0, 10.0]",
          "(5.0, 10.0]",
          "(5.0, 10.0]",
          "(5.0, 10.0]",
          "(5.0, 10.0]",
          "(5.0, 10.0]",
          "(5.0, 10.0]",
          "(5.0, 10.0]",
          "(5.0, 10.0]",
          "(5.0, 10.0]",
          "(5.0, 10.0]",
          "(5.0, 10.0]",
          "(5.0, 10.0]",
          "(5.0, 10.0]",
          "(5.0, 10.0]",
          "(5.0, 10.0]",
          "(5.0, 10.0]",
          "(5.0, 10.0]",
          "(5.0, 10.0]",
          "(5.0, 10.0]",
          "(5.0, 10.0]",
          "(5.0, 10.0]",
          "(5.0, 10.0]",
          "(5.0, 10.0]",
          "(5.0, 10.0]",
          "(10.0, 15.0]",
          "(10.0, 15.0]",
          "(10.0, 15.0]",
          "(10.0, 15.0]",
          "(10.0, 15.0]",
          "(10.0, 15.0]",
          "(10.0, 15.0]",
          "(10.0, 15.0]",
          "(10.0, 15.0]",
          "(10.0, 15.0]",
          "(10.0, 15.0]",
          "(10.0, 15.0]",
          "(10.0, 15.0]",
          "(10.0, 15.0]",
          "(10.0, 15.0]",
          "(10.0, 15.0]",
          "(10.0, 15.0]",
          "(10.0, 15.0]",
          "(10.0, 15.0]",
          "(10.0, 15.0]",
          "(10.0, 15.0]",
          "(10.0, 15.0]",
          "(10.0, 15.0]",
          "(10.0, 15.0]",
          "(10.0, 15.0]",
          "(10.0, 15.0]",
          "(10.0, 15.0]",
          "(10.0, 15.0]",
          "(10.0, 15.0]",
          "(10.0, 15.0]",
          "(10.0, 15.0]",
          "(10.0, 15.0]",
          "(10.0, 15.0]",
          "(10.0, 15.0]",
          "(10.0, 15.0]",
          "(10.0, 15.0]",
          "(10.0, 15.0]",
          "(10.0, 15.0]",
          "(10.0, 15.0]",
          "(10.0, 15.0]",
          "(10.0, 15.0]",
          "(10.0, 15.0]",
          "(10.0, 15.0]",
          "(10.0, 15.0]",
          "(10.0, 15.0]",
          "(15.0, 20.0]",
          "(15.0, 20.0]",
          "(15.0, 20.0]",
          "(15.0, 20.0]",
          "(15.0, 20.0]",
          "(15.0, 20.0]",
          "(15.0, 20.0]",
          "(15.0, 20.0]",
          "(15.0, 20.0]",
          "(15.0, 20.0]",
          "(15.0, 20.0]",
          "(15.0, 20.0]",
          "(15.0, 20.0]",
          "(15.0, 20.0]",
          "(15.0, 20.0]",
          "(15.0, 20.0]",
          "(15.0, 20.0]",
          "(15.0, 20.0]",
          "(15.0, 20.0]",
          "(15.0, 20.0]",
          "(15.0, 20.0]",
          "(15.0, 20.0]",
          "(15.0, 20.0]",
          "(15.0, 20.0]",
          "(15.0, 20.0]",
          "(15.0, 20.0]",
          "(15.0, 20.0]",
          "(15.0, 20.0]",
          "(15.0, 20.0]",
          "(15.0, 20.0]",
          "(15.0, 20.0]",
          "(15.0, 20.0]",
          "(15.0, 20.0]",
          "(15.0, 20.0]",
          "(15.0, 20.0]",
          "(15.0, 20.0]",
          "(15.0, 20.0]",
          "(15.0, 20.0]",
          "(15.0, 20.0]",
          "(15.0, 20.0]",
          "(15.0, 20.0]",
          "(15.0, 20.0]",
          "(15.0, 20.0]",
          "(15.0, 20.0]",
          "(15.0, 20.0]",
          "(20.0, 25.0]",
          "(20.0, 25.0]",
          "(20.0, 25.0]",
          "(20.0, 25.0]",
          "(20.0, 25.0]",
          "(20.0, 25.0]",
          "(20.0, 25.0]",
          "(20.0, 25.0]",
          "(20.0, 25.0]",
          "(20.0, 25.0]",
          "(20.0, 25.0]",
          "(20.0, 25.0]",
          "(20.0, 25.0]",
          "(20.0, 25.0]",
          "(20.0, 25.0]",
          "(20.0, 25.0]",
          "(20.0, 25.0]",
          "(20.0, 25.0]",
          "(20.0, 25.0]",
          "(20.0, 25.0]",
          "(20.0, 25.0]",
          "(20.0, 25.0]",
          "(20.0, 25.0]",
          "(20.0, 25.0]",
          "(20.0, 25.0]",
          "(20.0, 25.0]",
          "(20.0, 25.0]",
          "(20.0, 25.0]",
          "(20.0, 25.0]",
          "(20.0, 25.0]",
          "(20.0, 25.0]",
          "(20.0, 25.0]",
          "(20.0, 25.0]",
          "(20.0, 25.0]",
          "(20.0, 25.0]",
          "(20.0, 25.0]",
          "(20.0, 25.0]",
          "(20.0, 25.0]",
          "(20.0, 25.0]",
          "(20.0, 25.0]",
          "(20.0, 25.0]",
          "(20.0, 25.0]",
          "(20.0, 25.0]",
          "(20.0, 25.0]",
          "(20.0, 25.0]",
          "(25.0, 30.0]",
          "(25.0, 30.0]",
          "(25.0, 30.0]",
          "(25.0, 30.0]",
          "(25.0, 30.0]",
          "(25.0, 30.0]",
          "(25.0, 30.0]",
          "(25.0, 30.0]",
          "(25.0, 30.0]",
          "(25.0, 30.0]",
          "(25.0, 30.0]",
          "(25.0, 30.0]",
          "(25.0, 30.0]",
          "(25.0, 30.0]",
          "(25.0, 30.0]",
          "(25.0, 30.0]",
          "(25.0, 30.0]",
          "(25.0, 30.0]",
          "(25.0, 30.0]",
          "(25.0, 30.0]",
          "(25.0, 30.0]",
          "(25.0, 30.0]",
          "(25.0, 30.0]",
          "(25.0, 30.0]",
          "(25.0, 30.0]",
          "(25.0, 30.0]",
          "(25.0, 30.0]",
          "(25.0, 30.0]",
          "(25.0, 30.0]",
          "(25.0, 30.0]",
          "(25.0, 30.0]",
          "(25.0, 30.0]",
          "(25.0, 30.0]",
          "(25.0, 30.0]",
          "(25.0, 30.0]",
          "(25.0, 30.0]",
          "(25.0, 30.0]",
          "(25.0, 30.0]",
          "(25.0, 30.0]",
          "(25.0, 30.0]",
          "(25.0, 30.0]",
          "(25.0, 30.0]",
          "(25.0, 30.0]",
          "(25.0, 30.0]",
          "(25.0, 30.0]",
          "(30.0, 35.0]",
          "(30.0, 35.0]",
          "(30.0, 35.0]",
          "(30.0, 35.0]",
          "(30.0, 35.0]",
          "(30.0, 35.0]",
          "(30.0, 35.0]",
          "(30.0, 35.0]",
          "(30.0, 35.0]",
          "(30.0, 35.0]",
          "(30.0, 35.0]",
          "(30.0, 35.0]",
          "(30.0, 35.0]",
          "(30.0, 35.0]",
          "(30.0, 35.0]",
          "(30.0, 35.0]",
          "(30.0, 35.0]",
          "(30.0, 35.0]",
          "(30.0, 35.0]",
          "(30.0, 35.0]",
          "(30.0, 35.0]",
          "(30.0, 35.0]",
          "(30.0, 35.0]",
          "(30.0, 35.0]",
          "(30.0, 35.0]",
          "(30.0, 35.0]",
          "(30.0, 35.0]",
          "(30.0, 35.0]",
          "(30.0, 35.0]",
          "(30.0, 35.0]",
          "(30.0, 35.0]",
          "(30.0, 35.0]",
          "(30.0, 35.0]",
          "(30.0, 35.0]",
          "(30.0, 35.0]",
          "(30.0, 35.0]",
          "(30.0, 35.0]",
          "(30.0, 35.0]",
          "(30.0, 35.0]",
          "(30.0, 35.0]",
          "(30.0, 35.0]",
          "(30.0, 35.0]",
          "(30.0, 35.0]",
          "(30.0, 35.0]",
          "(30.0, 35.0]",
          "(35.0, 40.0]",
          "(35.0, 40.0]",
          "(35.0, 40.0]",
          "(35.0, 40.0]",
          "(35.0, 40.0]",
          "(35.0, 40.0]",
          "(35.0, 40.0]",
          "(35.0, 40.0]",
          "(35.0, 40.0]",
          "(35.0, 40.0]",
          "(35.0, 40.0]",
          "(35.0, 40.0]",
          "(35.0, 40.0]",
          "(35.0, 40.0]",
          "(35.0, 40.0]",
          "(35.0, 40.0]",
          "(35.0, 40.0]",
          "(35.0, 40.0]",
          "(35.0, 40.0]",
          "(35.0, 40.0]",
          "(35.0, 40.0]",
          "(35.0, 40.0]",
          "(35.0, 40.0]",
          "(35.0, 40.0]",
          "(35.0, 40.0]",
          "(35.0, 40.0]",
          "(35.0, 40.0]",
          "(35.0, 40.0]",
          "(35.0, 40.0]",
          "(35.0, 40.0]",
          "(35.0, 40.0]",
          "(35.0, 40.0]",
          "(35.0, 40.0]",
          "(35.0, 40.0]",
          "(35.0, 40.0]",
          "(35.0, 40.0]",
          "(35.0, 40.0]",
          "(35.0, 40.0]",
          "(35.0, 40.0]",
          "(35.0, 40.0]",
          "(35.0, 40.0]",
          "(35.0, 40.0]",
          "(35.0, 40.0]",
          "(35.0, 40.0]",
          "(35.0, 40.0]",
          "(40.0, 45.0]",
          "(40.0, 45.0]",
          "(40.0, 45.0]",
          "(40.0, 45.0]",
          "(40.0, 45.0]",
          "(40.0, 45.0]",
          "(40.0, 45.0]",
          "(40.0, 45.0]",
          "(40.0, 45.0]",
          "(40.0, 45.0]",
          "(40.0, 45.0]",
          "(40.0, 45.0]",
          "(40.0, 45.0]",
          "(40.0, 45.0]",
          "(40.0, 45.0]",
          "(40.0, 45.0]",
          "(40.0, 45.0]",
          "(40.0, 45.0]",
          "(40.0, 45.0]",
          "(40.0, 45.0]",
          "(40.0, 45.0]",
          "(40.0, 45.0]",
          "(40.0, 45.0]",
          "(40.0, 45.0]",
          "(40.0, 45.0]",
          "(40.0, 45.0]",
          "(40.0, 45.0]",
          "(40.0, 45.0]",
          "(40.0, 45.0]",
          "(40.0, 45.0]",
          "(40.0, 45.0]",
          "(40.0, 45.0]",
          "(40.0, 45.0]",
          "(40.0, 45.0]",
          "(40.0, 45.0]",
          "(40.0, 45.0]",
          "(40.0, 45.0]",
          "(40.0, 45.0]",
          "(40.0, 45.0]",
          "(40.0, 45.0]",
          "(40.0, 45.0]",
          "(40.0, 45.0]",
          "(40.0, 45.0]",
          "(40.0, 45.0]",
          "(40.0, 45.0]",
          "(45.0, 50.0]",
          "(45.0, 50.0]",
          "(45.0, 50.0]",
          "(45.0, 50.0]",
          "(45.0, 50.0]",
          "(45.0, 50.0]",
          "(45.0, 50.0]",
          "(45.0, 50.0]",
          "(45.0, 50.0]",
          "(45.0, 50.0]",
          "(45.0, 50.0]",
          "(45.0, 50.0]",
          "(45.0, 50.0]",
          "(45.0, 50.0]",
          "(45.0, 50.0]",
          "(45.0, 50.0]",
          "(45.0, 50.0]",
          "(45.0, 50.0]",
          "(45.0, 50.0]",
          "(45.0, 50.0]",
          "(45.0, 50.0]",
          "(45.0, 50.0]",
          "(45.0, 50.0]",
          "(45.0, 50.0]",
          "(45.0, 50.0]",
          "(45.0, 50.0]",
          "(45.0, 50.0]",
          "(45.0, 50.0]",
          "(45.0, 50.0]",
          "(45.0, 50.0]",
          "(45.0, 50.0]",
          "(45.0, 50.0]",
          "(45.0, 50.0]",
          "(45.0, 50.0]",
          "(45.0, 50.0]",
          "(45.0, 50.0]",
          "(45.0, 50.0]",
          "(45.0, 50.0]",
          "(45.0, 50.0]",
          "(45.0, 50.0]",
          "(45.0, 50.0]",
          "(45.0, 50.0]",
          "(45.0, 50.0]",
          "(45.0, 50.0]",
          "(45.0, 50.0]",
          "(50.0, 55.0]",
          "(50.0, 55.0]",
          "(50.0, 55.0]",
          "(50.0, 55.0]",
          "(50.0, 55.0]",
          "(50.0, 55.0]",
          "(50.0, 55.0]",
          "(50.0, 55.0]",
          "(50.0, 55.0]",
          "(50.0, 55.0]",
          "(50.0, 55.0]",
          "(50.0, 55.0]",
          "(50.0, 55.0]",
          "(50.0, 55.0]",
          "(50.0, 55.0]",
          "(50.0, 55.0]",
          "(50.0, 55.0]",
          "(50.0, 55.0]",
          "(50.0, 55.0]",
          "(50.0, 55.0]",
          "(50.0, 55.0]",
          "(50.0, 55.0]",
          "(50.0, 55.0]",
          "(50.0, 55.0]",
          "(50.0, 55.0]",
          "(50.0, 55.0]",
          "(50.0, 55.0]",
          "(50.0, 55.0]",
          "(50.0, 55.0]",
          "(50.0, 55.0]",
          "(50.0, 55.0]",
          "(50.0, 55.0]",
          "(50.0, 55.0]",
          "(50.0, 55.0]",
          "(50.0, 55.0]",
          "(50.0, 55.0]",
          "(50.0, 55.0]",
          "(50.0, 55.0]",
          "(50.0, 55.0]",
          "(50.0, 55.0]",
          "(50.0, 55.0]",
          "(50.0, 55.0]",
          "(50.0, 55.0]",
          "(50.0, 55.0]",
          "(50.0, 55.0]",
          "(55.0, 60.0]",
          "(55.0, 60.0]",
          "(55.0, 60.0]",
          "(55.0, 60.0]",
          "(55.0, 60.0]",
          "(55.0, 60.0]",
          "(55.0, 60.0]",
          "(55.0, 60.0]",
          "(55.0, 60.0]",
          "(55.0, 60.0]",
          "(55.0, 60.0]",
          "(55.0, 60.0]",
          "(55.0, 60.0]",
          "(55.0, 60.0]",
          "(55.0, 60.0]",
          "(55.0, 60.0]",
          "(55.0, 60.0]",
          "(55.0, 60.0]",
          "(55.0, 60.0]",
          "(55.0, 60.0]",
          "(55.0, 60.0]",
          "(55.0, 60.0]",
          "(55.0, 60.0]",
          "(55.0, 60.0]",
          "(55.0, 60.0]",
          "(55.0, 60.0]",
          "(55.0, 60.0]",
          "(55.0, 60.0]",
          "(55.0, 60.0]",
          "(55.0, 60.0]",
          "(55.0, 60.0]",
          "(55.0, 60.0]",
          "(55.0, 60.0]",
          "(55.0, 60.0]",
          "(55.0, 60.0]",
          "(55.0, 60.0]",
          "(55.0, 60.0]",
          "(55.0, 60.0]",
          "(55.0, 60.0]",
          "(55.0, 60.0]",
          "(55.0, 60.0]",
          "(55.0, 60.0]",
          "(55.0, 60.0]",
          "(55.0, 60.0]",
          "(55.0, 60.0]",
          "(60.0, 65.0]",
          "(60.0, 65.0]",
          "(60.0, 65.0]",
          "(60.0, 65.0]",
          "(60.0, 65.0]",
          "(60.0, 65.0]",
          "(60.0, 65.0]",
          "(60.0, 65.0]",
          "(60.0, 65.0]",
          "(60.0, 65.0]",
          "(60.0, 65.0]",
          "(60.0, 65.0]",
          "(60.0, 65.0]",
          "(60.0, 65.0]",
          "(60.0, 65.0]",
          "(60.0, 65.0]",
          "(60.0, 65.0]",
          "(60.0, 65.0]",
          "(60.0, 65.0]",
          "(60.0, 65.0]",
          "(60.0, 65.0]",
          "(60.0, 65.0]",
          "(60.0, 65.0]",
          "(60.0, 65.0]",
          "(60.0, 65.0]",
          "(60.0, 65.0]",
          "(60.0, 65.0]",
          "(60.0, 65.0]",
          "(60.0, 65.0]",
          "(60.0, 65.0]",
          "(60.0, 65.0]",
          "(60.0, 65.0]",
          "(60.0, 65.0]",
          "(60.0, 65.0]",
          "(60.0, 65.0]",
          "(60.0, 65.0]",
          "(60.0, 65.0]",
          "(60.0, 65.0]",
          "(60.0, 65.0]",
          "(60.0, 65.0]",
          "(60.0, 65.0]",
          "(60.0, 65.0]",
          "(60.0, 65.0]",
          "(60.0, 65.0]",
          "(60.0, 65.0]",
          "(65.0, 70.0]",
          "(65.0, 70.0]",
          "(65.0, 70.0]",
          "(65.0, 70.0]",
          "(65.0, 70.0]",
          "(65.0, 70.0]",
          "(65.0, 70.0]",
          "(65.0, 70.0]",
          "(65.0, 70.0]",
          "(65.0, 70.0]",
          "(65.0, 70.0]",
          "(65.0, 70.0]",
          "(65.0, 70.0]",
          "(65.0, 70.0]",
          "(65.0, 70.0]",
          "(65.0, 70.0]",
          "(65.0, 70.0]",
          "(65.0, 70.0]",
          "(65.0, 70.0]",
          "(65.0, 70.0]",
          "(65.0, 70.0]",
          "(65.0, 70.0]",
          "(65.0, 70.0]",
          "(65.0, 70.0]",
          "(65.0, 70.0]",
          "(65.0, 70.0]",
          "(65.0, 70.0]",
          "(65.0, 70.0]",
          "(65.0, 70.0]",
          "(65.0, 70.0]",
          "(65.0, 70.0]",
          "(65.0, 70.0]",
          "(65.0, 70.0]",
          "(65.0, 70.0]",
          "(65.0, 70.0]",
          "(65.0, 70.0]",
          "(65.0, 70.0]",
          "(65.0, 70.0]",
          "(65.0, 70.0]",
          "(65.0, 70.0]",
          "(65.0, 70.0]",
          "(65.0, 70.0]",
          "(65.0, 70.0]",
          "(65.0, 70.0]",
          "(65.0, 70.0]",
          "(70.0, 75.0]",
          "(70.0, 75.0]",
          "(70.0, 75.0]",
          "(70.0, 75.0]",
          "(70.0, 75.0]",
          "(70.0, 75.0]",
          "(70.0, 75.0]",
          "(70.0, 75.0]",
          "(70.0, 75.0]",
          "(70.0, 75.0]",
          "(70.0, 75.0]",
          "(70.0, 75.0]",
          "(70.0, 75.0]",
          "(70.0, 75.0]",
          "(70.0, 75.0]",
          "(70.0, 75.0]",
          "(70.0, 75.0]",
          "(70.0, 75.0]",
          "(70.0, 75.0]",
          "(70.0, 75.0]",
          "(70.0, 75.0]",
          "(70.0, 75.0]",
          "(70.0, 75.0]",
          "(70.0, 75.0]",
          "(70.0, 75.0]",
          "(70.0, 75.0]",
          "(70.0, 75.0]",
          "(70.0, 75.0]",
          "(70.0, 75.0]",
          "(70.0, 75.0]",
          "(70.0, 75.0]",
          "(70.0, 75.0]",
          "(70.0, 75.0]",
          "(70.0, 75.0]",
          "(70.0, 75.0]",
          "(70.0, 75.0]",
          "(70.0, 75.0]",
          "(70.0, 75.0]",
          "(70.0, 75.0]",
          "(70.0, 75.0]",
          "(70.0, 75.0]",
          "(70.0, 75.0]",
          "(70.0, 75.0]",
          "(70.0, 75.0]",
          "(70.0, 75.0]",
          "(75.0, 80.0]",
          "(75.0, 80.0]",
          "(75.0, 80.0]",
          "(75.0, 80.0]",
          "(75.0, 80.0]",
          "(75.0, 80.0]",
          "(75.0, 80.0]",
          "(75.0, 80.0]",
          "(75.0, 80.0]",
          "(75.0, 80.0]",
          "(75.0, 80.0]",
          "(75.0, 80.0]",
          "(75.0, 80.0]",
          "(75.0, 80.0]",
          "(75.0, 80.0]",
          "(75.0, 80.0]",
          "(75.0, 80.0]",
          "(75.0, 80.0]",
          "(75.0, 80.0]",
          "(75.0, 80.0]",
          "(75.0, 80.0]",
          "(75.0, 80.0]",
          "(75.0, 80.0]",
          "(75.0, 80.0]",
          "(75.0, 80.0]",
          "(75.0, 80.0]",
          "(75.0, 80.0]",
          "(75.0, 80.0]",
          "(75.0, 80.0]",
          "(75.0, 80.0]",
          "(75.0, 80.0]",
          "(75.0, 80.0]",
          "(75.0, 80.0]",
          "(75.0, 80.0]",
          "(75.0, 80.0]",
          "(75.0, 80.0]",
          "(75.0, 80.0]",
          "(75.0, 80.0]",
          "(75.0, 80.0]",
          "(75.0, 80.0]",
          "(75.0, 80.0]",
          "(75.0, 80.0]",
          "(75.0, 80.0]",
          "(75.0, 80.0]",
          "(75.0, 80.0]",
          "(80.0, 85.0]",
          "(80.0, 85.0]",
          "(80.0, 85.0]",
          "(80.0, 85.0]",
          "(80.0, 85.0]",
          "(80.0, 85.0]",
          "(80.0, 85.0]",
          "(80.0, 85.0]",
          "(80.0, 85.0]",
          "(80.0, 85.0]",
          "(80.0, 85.0]",
          "(80.0, 85.0]",
          "(80.0, 85.0]",
          "(80.0, 85.0]",
          "(80.0, 85.0]",
          "(80.0, 85.0]",
          "(80.0, 85.0]",
          "(80.0, 85.0]",
          "(80.0, 85.0]",
          "(80.0, 85.0]",
          "(80.0, 85.0]",
          "(80.0, 85.0]",
          "(80.0, 85.0]",
          "(80.0, 85.0]",
          "(80.0, 85.0]",
          "(80.0, 85.0]",
          "(80.0, 85.0]",
          "(80.0, 85.0]",
          "(80.0, 85.0]",
          "(80.0, 85.0]",
          "(80.0, 85.0]",
          "(80.0, 85.0]",
          "(80.0, 85.0]",
          "(80.0, 85.0]",
          "(80.0, 85.0]",
          "(80.0, 85.0]",
          "(80.0, 85.0]",
          "(80.0, 85.0]",
          "(80.0, 85.0]",
          "(80.0, 85.0]",
          "(80.0, 85.0]",
          "(80.0, 85.0]",
          "(80.0, 85.0]",
          "(80.0, 85.0]",
          "(80.0, 85.0]",
          "(85.0, 90.0]",
          "(85.0, 90.0]",
          "(85.0, 90.0]",
          "(85.0, 90.0]",
          "(85.0, 90.0]",
          "(85.0, 90.0]",
          "(85.0, 90.0]",
          "(85.0, 90.0]",
          "(85.0, 90.0]",
          "(85.0, 90.0]",
          "(85.0, 90.0]",
          "(85.0, 90.0]",
          "(85.0, 90.0]",
          "(85.0, 90.0]",
          "(85.0, 90.0]",
          "(85.0, 90.0]",
          "(85.0, 90.0]",
          "(85.0, 90.0]",
          "(85.0, 90.0]",
          "(85.0, 90.0]",
          "(85.0, 90.0]",
          "(85.0, 90.0]",
          "(85.0, 90.0]",
          "(85.0, 90.0]",
          "(85.0, 90.0]",
          "(85.0, 90.0]",
          "(85.0, 90.0]",
          "(85.0, 90.0]",
          "(85.0, 90.0]",
          "(85.0, 90.0]",
          "(85.0, 90.0]",
          "(85.0, 90.0]",
          "(85.0, 90.0]",
          "(85.0, 90.0]",
          "(85.0, 90.0]",
          "(85.0, 90.0]",
          "(85.0, 90.0]",
          "(85.0, 90.0]",
          "(85.0, 90.0]",
          "(85.0, 90.0]",
          "(85.0, 90.0]",
          "(85.0, 90.0]",
          "(85.0, 90.0]",
          "(85.0, 90.0]",
          "(85.0, 90.0]",
          "(90.0, 95.0]",
          "(90.0, 95.0]",
          "(90.0, 95.0]",
          "(90.0, 95.0]",
          "(90.0, 95.0]",
          "(90.0, 95.0]",
          "(90.0, 95.0]",
          "(90.0, 95.0]",
          "(90.0, 95.0]",
          "(90.0, 95.0]",
          "(90.0, 95.0]",
          "(90.0, 95.0]",
          "(90.0, 95.0]",
          "(90.0, 95.0]",
          "(90.0, 95.0]",
          "(90.0, 95.0]",
          "(90.0, 95.0]",
          "(90.0, 95.0]",
          "(90.0, 95.0]",
          "(90.0, 95.0]",
          "(90.0, 95.0]",
          "(90.0, 95.0]",
          "(90.0, 95.0]",
          "(90.0, 95.0]",
          "(90.0, 95.0]",
          "(90.0, 95.0]",
          "(90.0, 95.0]",
          "(90.0, 95.0]",
          "(90.0, 95.0]",
          "(90.0, 95.0]",
          "(90.0, 95.0]",
          "(90.0, 95.0]",
          "(90.0, 95.0]",
          "(90.0, 95.0]",
          "(90.0, 95.0]",
          "(90.0, 95.0]",
          "(90.0, 95.0]",
          "(90.0, 95.0]",
          "(90.0, 95.0]",
          "(90.0, 95.0]",
          "(90.0, 95.0]",
          "(90.0, 95.0]",
          "(90.0, 95.0]",
          "(90.0, 95.0]",
          "(90.0, 95.0]",
          "(95.0, 100.0]",
          "(95.0, 100.0]",
          "(95.0, 100.0]",
          "(95.0, 100.0]",
          "(95.0, 100.0]",
          "(95.0, 100.0]",
          "(95.0, 100.0]",
          "(95.0, 100.0]",
          "(95.0, 100.0]",
          "(95.0, 100.0]",
          "(95.0, 100.0]",
          "(95.0, 100.0]",
          "(95.0, 100.0]",
          "(95.0, 100.0]",
          "(95.0, 100.0]",
          "(95.0, 100.0]",
          "(95.0, 100.0]",
          "(95.0, 100.0]",
          "(95.0, 100.0]",
          "(95.0, 100.0]",
          "(95.0, 100.0]",
          "(95.0, 100.0]",
          "(95.0, 100.0]",
          "(95.0, 100.0]",
          "(95.0, 100.0]",
          "(95.0, 100.0]",
          "(95.0, 100.0]",
          "(95.0, 100.0]",
          "(95.0, 100.0]",
          "(95.0, 100.0]",
          "(95.0, 100.0]",
          "(95.0, 100.0]",
          "(95.0, 100.0]",
          "(95.0, 100.0]",
          "(95.0, 100.0]",
          "(95.0, 100.0]",
          "(95.0, 100.0]",
          "(95.0, 100.0]",
          "(95.0, 100.0]",
          "(95.0, 100.0]",
          "(95.0, 100.0]",
          "(95.0, 100.0]",
          "(95.0, 100.0]",
          "(95.0, 100.0]",
          "(95.0, 100.0]"
         ],
         "x0": " ",
         "xaxis": "x",
         "y": [
          180,
          163,
          181,
          163,
          184,
          0,
          0,
          0,
          0,
          157,
          80,
          121,
          79,
          116,
          145,
          157,
          147,
          155,
          96,
          4,
          0,
          0,
          0,
          0,
          0,
          0,
          0,
          48,
          0,
          0,
          0,
          0,
          0,
          0,
          0,
          0,
          59,
          0,
          0,
          0,
          0,
          0,
          0,
          0,
          0,
          14,
          20,
          11,
          20,
          19,
          0,
          0,
          0,
          0,
          17,
          41,
          21,
          46,
          52,
          22,
          33,
          24,
          25,
          15,
          35,
          0,
          0,
          0,
          0,
          0,
          0,
          0,
          3,
          0,
          0,
          0,
          0,
          0,
          0,
          0,
          0,
          12,
          0,
          0,
          0,
          0,
          0,
          0,
          0,
          0,
          3,
          0,
          1,
          0,
          0,
          0,
          0,
          0,
          0,
          14,
          0,
          19,
          3,
          0,
          14,
          7,
          11,
          5,
          15,
          34,
          0,
          0,
          0,
          0,
          0,
          0,
          0,
          2,
          0,
          0,
          0,
          0,
          0,
          0,
          0,
          0,
          11,
          0,
          0,
          0,
          0,
          0,
          0,
          0,
          0,
          1,
          2,
          0,
          2,
          2,
          0,
          0,
          0,
          0,
          6,
          25,
          11,
          16,
          16,
          10,
          5,
          8,
          6,
          10,
          48,
          0,
          0,
          0,
          0,
          0,
          0,
          0,
          5,
          0,
          0,
          0,
          0,
          0,
          0,
          0,
          0,
          5,
          0,
          0,
          0,
          0,
          0,
          0,
          0,
          0,
          3,
          0,
          1,
          0,
          0,
          0,
          0,
          0,
          0,
          7,
          1,
          9,
          1,
          0,
          6,
          8,
          7,
          7,
          11,
          3,
          0,
          0,
          0,
          0,
          0,
          0,
          0,
          2,
          0,
          0,
          0,
          0,
          0,
          0,
          0,
          0,
          12,
          0,
          0,
          0,
          0,
          0,
          0,
          0,
          0,
          0,
          7,
          0,
          7,
          9,
          0,
          0,
          0,
          0,
          1,
          29,
          3,
          32,
          17,
          8,
          2,
          7,
          5,
          2,
          5,
          0,
          0,
          0,
          0,
          0,
          0,
          0,
          7,
          0,
          0,
          0,
          0,
          0,
          0,
          0,
          0,
          12,
          0,
          0,
          0,
          0,
          0,
          0,
          0,
          0,
          2,
          0,
          1,
          0,
          0,
          0,
          0,
          0,
          0,
          7,
          2,
          12,
          1,
          0,
          6,
          2,
          6,
          10,
          10,
          5,
          0,
          0,
          0,
          0,
          0,
          0,
          0,
          5,
          0,
          0,
          0,
          0,
          0,
          0,
          0,
          0,
          8,
          0,
          0,
          0,
          0,
          0,
          0,
          0,
          0,
          0,
          6,
          0,
          6,
          1,
          0,
          0,
          0,
          0,
          4,
          24,
          4,
          21,
          6,
          1,
          3,
          5,
          3,
          0,
          13,
          0,
          0,
          0,
          0,
          0,
          0,
          0,
          6,
          0,
          0,
          0,
          0,
          0,
          0,
          0,
          0,
          2,
          0,
          0,
          0,
          0,
          0,
          0,
          0,
          0,
          0,
          0,
          1,
          0,
          0,
          0,
          0,
          0,
          0,
          3,
          0,
          2,
          0,
          0,
          7,
          1,
          3,
          2,
          12,
          1,
          0,
          0,
          0,
          0,
          0,
          0,
          0,
          144,
          0,
          0,
          0,
          0,
          0,
          0,
          0,
          0,
          19,
          0,
          0,
          0,
          0,
          0,
          0,
          0,
          0,
          2,
          2,
          5,
          2,
          3,
          0,
          0,
          0,
          0,
          0,
          12,
          2,
          9,
          5,
          0,
          2,
          2,
          2,
          7,
          7,
          0,
          0,
          0,
          0,
          0,
          0,
          0,
          2,
          0,
          0,
          0,
          0,
          0,
          0,
          0,
          0,
          3,
          0,
          0,
          0,
          0,
          0,
          0,
          0,
          0,
          0,
          0,
          0,
          0,
          0,
          0,
          0,
          0,
          0,
          1,
          0,
          3,
          0,
          0,
          1,
          0,
          0,
          1,
          0,
          0,
          0,
          0,
          0,
          0,
          0,
          0,
          0,
          1,
          0,
          0,
          0,
          0,
          0,
          0,
          0,
          0,
          5,
          0,
          0,
          0,
          0,
          0,
          0,
          0,
          0,
          0,
          1,
          0,
          1,
          2,
          0,
          0,
          0,
          0,
          7,
          3,
          5,
          5,
          4,
          1,
          3,
          7,
          5,
          12,
          12,
          0,
          0,
          0,
          0,
          0,
          0,
          0,
          2,
          0,
          0,
          0,
          0,
          0,
          0,
          0,
          0,
          2,
          0,
          0,
          0,
          0,
          0,
          0,
          0,
          0,
          0,
          0,
          0,
          0,
          0,
          0,
          0,
          0,
          0,
          2,
          1,
          4,
          0,
          0,
          1,
          1,
          0,
          0,
          5,
          0,
          0,
          0,
          0,
          0,
          0,
          0,
          0,
          0,
          0,
          0,
          0,
          0,
          0,
          0,
          0,
          0,
          0,
          0,
          0,
          0,
          0,
          0,
          0,
          0,
          0,
          1,
          4,
          0,
          4,
          1,
          0,
          0,
          0,
          0,
          2,
          6,
          2,
          6,
          4,
          1,
          1,
          2,
          2,
          2,
          32,
          0,
          0,
          0,
          0,
          0,
          0,
          0,
          0,
          0,
          0,
          0,
          0,
          0,
          0,
          0,
          0,
          4,
          0,
          0,
          0,
          0,
          0,
          0,
          0,
          0,
          0,
          0,
          0,
          0,
          0,
          0,
          0,
          0,
          0,
          0,
          0,
          2,
          0,
          0,
          2,
          0,
          1,
          0,
          4,
          3,
          0,
          0,
          0,
          0,
          0,
          0,
          0,
          0,
          0,
          0,
          0,
          0,
          0,
          0,
          0,
          0,
          2,
          0,
          0,
          0,
          0,
          0,
          0,
          0,
          0,
          0,
          2,
          0,
          2,
          1,
          0,
          0,
          0,
          0,
          3,
          7,
          2,
          9,
          6,
          3,
          3,
          1,
          1,
          1,
          5,
          0,
          0,
          0,
          0,
          0,
          0,
          0,
          1,
          0,
          0,
          0,
          0,
          0,
          0,
          0,
          0,
          2,
          0,
          0,
          0,
          0,
          0,
          0,
          0,
          0,
          2,
          0,
          10,
          0,
          0,
          0,
          0,
          0,
          0,
          1,
          0,
          4,
          1,
          0,
          4,
          2,
          2,
          0,
          1,
          0,
          0,
          0,
          0,
          0,
          0,
          0,
          0,
          0,
          0,
          0,
          0,
          0,
          0,
          0,
          0,
          0,
          1,
          0,
          0,
          0,
          0,
          0,
          0,
          0,
          0,
          0,
          1,
          0,
          1,
          0,
          0,
          0,
          0,
          0,
          1,
          1,
          3,
          2,
          5,
          1,
          4,
          0,
          3,
          7,
          8,
          0,
          0,
          0,
          0,
          0,
          0,
          0,
          0,
          0,
          0,
          0,
          0,
          0,
          0,
          0,
          0,
          0,
          0,
          0,
          0,
          0,
          0,
          0,
          0,
          0,
          1,
          0,
          0,
          0,
          0,
          0,
          0,
          0,
          0,
          2,
          0,
          3,
          2,
          0,
          0,
          1,
          1,
          0,
          0,
          0,
          0,
          0,
          0,
          0,
          0,
          0,
          0,
          0,
          0,
          0,
          0,
          0,
          0,
          0,
          0,
          0,
          1,
          0,
          0,
          0,
          0,
          0,
          0,
          0,
          0,
          30,
          30,
          28,
          30,
          15,
          0,
          0,
          0,
          0,
          3,
          2,
          1,
          2,
          4,
          2,
          4,
          2,
          4,
          0,
          1,
          0,
          0,
          0,
          0,
          0,
          0,
          0,
          0,
          0,
          0,
          0,
          0,
          0,
          0,
          0,
          0,
          1,
          0,
          0,
          0,
          0,
          0,
          0,
          0,
          0
         ],
         "y0": " ",
         "yaxis": "y"
        },
        {
         "alignmentgroup": "True",
         "hovertemplate": "<b>%{hovertext}</b><br><br>labeled_hateful=True<br>bin=%{x}<br>text=%{y}<extra></extra>",
         "hovertext": [
          "fine-tuned-mistral-7b-v0.2-instruct",
          "fine-tuned-mistral-7b-v0.2-instruct",
          "fine-tuned-mistral-7b-v0.2-instruct",
          "fine-tuned-mistral-7b-v0.2-instruct",
          "fine-tuned-mistral-7b-v0.2-instruct",
          "fine-tuned-mistral-7b-v0.2-instruct",
          "fine-tuned-mistral-7b-v0.2-instruct",
          "fine-tuned-mistral-7b-v0.2-instruct",
          "fine-tuned-mistral-7b-v0.2-instruct",
          "mistral-7b-instruct",
          "mistral-7b-instruct",
          "mistral-7b-instruct",
          "mistral-7b-instruct",
          "mistral-7b-instruct",
          "mistral-7b-instruct",
          "mistral-7b-instruct",
          "mistral-7b-instruct",
          "mistral-7b-instruct",
          "mixtral-8x7b-instruct",
          "mixtral-8x7b-instruct",
          "mixtral-8x7b-instruct",
          "mixtral-8x7b-instruct",
          "mixtral-8x7b-instruct",
          "mixtral-8x7b-instruct",
          "mixtral-8x7b-instruct",
          "mixtral-8x7b-instruct",
          "mixtral-8x7b-instruct",
          "pplx-70b-chat",
          "pplx-70b-chat",
          "pplx-70b-chat",
          "pplx-70b-chat",
          "pplx-70b-chat",
          "pplx-70b-chat",
          "pplx-70b-chat",
          "pplx-70b-chat",
          "pplx-70b-chat",
          "pplx-7b-chat",
          "pplx-7b-chat",
          "pplx-7b-chat",
          "pplx-7b-chat",
          "pplx-7b-chat",
          "pplx-7b-chat",
          "pplx-7b-chat",
          "pplx-7b-chat",
          "pplx-7b-chat",
          "fine-tuned-mistral-7b-v0.2-instruct",
          "fine-tuned-mistral-7b-v0.2-instruct",
          "fine-tuned-mistral-7b-v0.2-instruct",
          "fine-tuned-mistral-7b-v0.2-instruct",
          "fine-tuned-mistral-7b-v0.2-instruct",
          "fine-tuned-mistral-7b-v0.2-instruct",
          "fine-tuned-mistral-7b-v0.2-instruct",
          "fine-tuned-mistral-7b-v0.2-instruct",
          "fine-tuned-mistral-7b-v0.2-instruct",
          "mistral-7b-instruct",
          "mistral-7b-instruct",
          "mistral-7b-instruct",
          "mistral-7b-instruct",
          "mistral-7b-instruct",
          "mistral-7b-instruct",
          "mistral-7b-instruct",
          "mistral-7b-instruct",
          "mistral-7b-instruct",
          "mixtral-8x7b-instruct",
          "mixtral-8x7b-instruct",
          "mixtral-8x7b-instruct",
          "mixtral-8x7b-instruct",
          "mixtral-8x7b-instruct",
          "mixtral-8x7b-instruct",
          "mixtral-8x7b-instruct",
          "mixtral-8x7b-instruct",
          "mixtral-8x7b-instruct",
          "pplx-70b-chat",
          "pplx-70b-chat",
          "pplx-70b-chat",
          "pplx-70b-chat",
          "pplx-70b-chat",
          "pplx-70b-chat",
          "pplx-70b-chat",
          "pplx-70b-chat",
          "pplx-70b-chat",
          "pplx-7b-chat",
          "pplx-7b-chat",
          "pplx-7b-chat",
          "pplx-7b-chat",
          "pplx-7b-chat",
          "pplx-7b-chat",
          "pplx-7b-chat",
          "pplx-7b-chat",
          "pplx-7b-chat",
          "fine-tuned-mistral-7b-v0.2-instruct",
          "fine-tuned-mistral-7b-v0.2-instruct",
          "fine-tuned-mistral-7b-v0.2-instruct",
          "fine-tuned-mistral-7b-v0.2-instruct",
          "fine-tuned-mistral-7b-v0.2-instruct",
          "fine-tuned-mistral-7b-v0.2-instruct",
          "fine-tuned-mistral-7b-v0.2-instruct",
          "fine-tuned-mistral-7b-v0.2-instruct",
          "fine-tuned-mistral-7b-v0.2-instruct",
          "mistral-7b-instruct",
          "mistral-7b-instruct",
          "mistral-7b-instruct",
          "mistral-7b-instruct",
          "mistral-7b-instruct",
          "mistral-7b-instruct",
          "mistral-7b-instruct",
          "mistral-7b-instruct",
          "mistral-7b-instruct",
          "mixtral-8x7b-instruct",
          "mixtral-8x7b-instruct",
          "mixtral-8x7b-instruct",
          "mixtral-8x7b-instruct",
          "mixtral-8x7b-instruct",
          "mixtral-8x7b-instruct",
          "mixtral-8x7b-instruct",
          "mixtral-8x7b-instruct",
          "mixtral-8x7b-instruct",
          "pplx-70b-chat",
          "pplx-70b-chat",
          "pplx-70b-chat",
          "pplx-70b-chat",
          "pplx-70b-chat",
          "pplx-70b-chat",
          "pplx-70b-chat",
          "pplx-70b-chat",
          "pplx-70b-chat",
          "pplx-7b-chat",
          "pplx-7b-chat",
          "pplx-7b-chat",
          "pplx-7b-chat",
          "pplx-7b-chat",
          "pplx-7b-chat",
          "pplx-7b-chat",
          "pplx-7b-chat",
          "pplx-7b-chat",
          "fine-tuned-mistral-7b-v0.2-instruct",
          "fine-tuned-mistral-7b-v0.2-instruct",
          "fine-tuned-mistral-7b-v0.2-instruct",
          "fine-tuned-mistral-7b-v0.2-instruct",
          "fine-tuned-mistral-7b-v0.2-instruct",
          "fine-tuned-mistral-7b-v0.2-instruct",
          "fine-tuned-mistral-7b-v0.2-instruct",
          "fine-tuned-mistral-7b-v0.2-instruct",
          "fine-tuned-mistral-7b-v0.2-instruct",
          "mistral-7b-instruct",
          "mistral-7b-instruct",
          "mistral-7b-instruct",
          "mistral-7b-instruct",
          "mistral-7b-instruct",
          "mistral-7b-instruct",
          "mistral-7b-instruct",
          "mistral-7b-instruct",
          "mistral-7b-instruct",
          "mixtral-8x7b-instruct",
          "mixtral-8x7b-instruct",
          "mixtral-8x7b-instruct",
          "mixtral-8x7b-instruct",
          "mixtral-8x7b-instruct",
          "mixtral-8x7b-instruct",
          "mixtral-8x7b-instruct",
          "mixtral-8x7b-instruct",
          "mixtral-8x7b-instruct",
          "pplx-70b-chat",
          "pplx-70b-chat",
          "pplx-70b-chat",
          "pplx-70b-chat",
          "pplx-70b-chat",
          "pplx-70b-chat",
          "pplx-70b-chat",
          "pplx-70b-chat",
          "pplx-70b-chat",
          "pplx-7b-chat",
          "pplx-7b-chat",
          "pplx-7b-chat",
          "pplx-7b-chat",
          "pplx-7b-chat",
          "pplx-7b-chat",
          "pplx-7b-chat",
          "pplx-7b-chat",
          "pplx-7b-chat",
          "fine-tuned-mistral-7b-v0.2-instruct",
          "fine-tuned-mistral-7b-v0.2-instruct",
          "fine-tuned-mistral-7b-v0.2-instruct",
          "fine-tuned-mistral-7b-v0.2-instruct",
          "fine-tuned-mistral-7b-v0.2-instruct",
          "fine-tuned-mistral-7b-v0.2-instruct",
          "fine-tuned-mistral-7b-v0.2-instruct",
          "fine-tuned-mistral-7b-v0.2-instruct",
          "fine-tuned-mistral-7b-v0.2-instruct",
          "mistral-7b-instruct",
          "mistral-7b-instruct",
          "mistral-7b-instruct",
          "mistral-7b-instruct",
          "mistral-7b-instruct",
          "mistral-7b-instruct",
          "mistral-7b-instruct",
          "mistral-7b-instruct",
          "mistral-7b-instruct",
          "mixtral-8x7b-instruct",
          "mixtral-8x7b-instruct",
          "mixtral-8x7b-instruct",
          "mixtral-8x7b-instruct",
          "mixtral-8x7b-instruct",
          "mixtral-8x7b-instruct",
          "mixtral-8x7b-instruct",
          "mixtral-8x7b-instruct",
          "mixtral-8x7b-instruct",
          "pplx-70b-chat",
          "pplx-70b-chat",
          "pplx-70b-chat",
          "pplx-70b-chat",
          "pplx-70b-chat",
          "pplx-70b-chat",
          "pplx-70b-chat",
          "pplx-70b-chat",
          "pplx-70b-chat",
          "pplx-7b-chat",
          "pplx-7b-chat",
          "pplx-7b-chat",
          "pplx-7b-chat",
          "pplx-7b-chat",
          "pplx-7b-chat",
          "pplx-7b-chat",
          "pplx-7b-chat",
          "pplx-7b-chat",
          "fine-tuned-mistral-7b-v0.2-instruct",
          "fine-tuned-mistral-7b-v0.2-instruct",
          "fine-tuned-mistral-7b-v0.2-instruct",
          "fine-tuned-mistral-7b-v0.2-instruct",
          "fine-tuned-mistral-7b-v0.2-instruct",
          "fine-tuned-mistral-7b-v0.2-instruct",
          "fine-tuned-mistral-7b-v0.2-instruct",
          "fine-tuned-mistral-7b-v0.2-instruct",
          "fine-tuned-mistral-7b-v0.2-instruct",
          "mistral-7b-instruct",
          "mistral-7b-instruct",
          "mistral-7b-instruct",
          "mistral-7b-instruct",
          "mistral-7b-instruct",
          "mistral-7b-instruct",
          "mistral-7b-instruct",
          "mistral-7b-instruct",
          "mistral-7b-instruct",
          "mixtral-8x7b-instruct",
          "mixtral-8x7b-instruct",
          "mixtral-8x7b-instruct",
          "mixtral-8x7b-instruct",
          "mixtral-8x7b-instruct",
          "mixtral-8x7b-instruct",
          "mixtral-8x7b-instruct",
          "mixtral-8x7b-instruct",
          "mixtral-8x7b-instruct",
          "pplx-70b-chat",
          "pplx-70b-chat",
          "pplx-70b-chat",
          "pplx-70b-chat",
          "pplx-70b-chat",
          "pplx-70b-chat",
          "pplx-70b-chat",
          "pplx-70b-chat",
          "pplx-70b-chat",
          "pplx-7b-chat",
          "pplx-7b-chat",
          "pplx-7b-chat",
          "pplx-7b-chat",
          "pplx-7b-chat",
          "pplx-7b-chat",
          "pplx-7b-chat",
          "pplx-7b-chat",
          "pplx-7b-chat",
          "fine-tuned-mistral-7b-v0.2-instruct",
          "fine-tuned-mistral-7b-v0.2-instruct",
          "fine-tuned-mistral-7b-v0.2-instruct",
          "fine-tuned-mistral-7b-v0.2-instruct",
          "fine-tuned-mistral-7b-v0.2-instruct",
          "fine-tuned-mistral-7b-v0.2-instruct",
          "fine-tuned-mistral-7b-v0.2-instruct",
          "fine-tuned-mistral-7b-v0.2-instruct",
          "fine-tuned-mistral-7b-v0.2-instruct",
          "mistral-7b-instruct",
          "mistral-7b-instruct",
          "mistral-7b-instruct",
          "mistral-7b-instruct",
          "mistral-7b-instruct",
          "mistral-7b-instruct",
          "mistral-7b-instruct",
          "mistral-7b-instruct",
          "mistral-7b-instruct",
          "mixtral-8x7b-instruct",
          "mixtral-8x7b-instruct",
          "mixtral-8x7b-instruct",
          "mixtral-8x7b-instruct",
          "mixtral-8x7b-instruct",
          "mixtral-8x7b-instruct",
          "mixtral-8x7b-instruct",
          "mixtral-8x7b-instruct",
          "mixtral-8x7b-instruct",
          "pplx-70b-chat",
          "pplx-70b-chat",
          "pplx-70b-chat",
          "pplx-70b-chat",
          "pplx-70b-chat",
          "pplx-70b-chat",
          "pplx-70b-chat",
          "pplx-70b-chat",
          "pplx-70b-chat",
          "pplx-7b-chat",
          "pplx-7b-chat",
          "pplx-7b-chat",
          "pplx-7b-chat",
          "pplx-7b-chat",
          "pplx-7b-chat",
          "pplx-7b-chat",
          "pplx-7b-chat",
          "pplx-7b-chat",
          "fine-tuned-mistral-7b-v0.2-instruct",
          "fine-tuned-mistral-7b-v0.2-instruct",
          "fine-tuned-mistral-7b-v0.2-instruct",
          "fine-tuned-mistral-7b-v0.2-instruct",
          "fine-tuned-mistral-7b-v0.2-instruct",
          "fine-tuned-mistral-7b-v0.2-instruct",
          "fine-tuned-mistral-7b-v0.2-instruct",
          "fine-tuned-mistral-7b-v0.2-instruct",
          "fine-tuned-mistral-7b-v0.2-instruct",
          "mistral-7b-instruct",
          "mistral-7b-instruct",
          "mistral-7b-instruct",
          "mistral-7b-instruct",
          "mistral-7b-instruct",
          "mistral-7b-instruct",
          "mistral-7b-instruct",
          "mistral-7b-instruct",
          "mistral-7b-instruct",
          "mixtral-8x7b-instruct",
          "mixtral-8x7b-instruct",
          "mixtral-8x7b-instruct",
          "mixtral-8x7b-instruct",
          "mixtral-8x7b-instruct",
          "mixtral-8x7b-instruct",
          "mixtral-8x7b-instruct",
          "mixtral-8x7b-instruct",
          "mixtral-8x7b-instruct",
          "pplx-70b-chat",
          "pplx-70b-chat",
          "pplx-70b-chat",
          "pplx-70b-chat",
          "pplx-70b-chat",
          "pplx-70b-chat",
          "pplx-70b-chat",
          "pplx-70b-chat",
          "pplx-70b-chat",
          "pplx-7b-chat",
          "pplx-7b-chat",
          "pplx-7b-chat",
          "pplx-7b-chat",
          "pplx-7b-chat",
          "pplx-7b-chat",
          "pplx-7b-chat",
          "pplx-7b-chat",
          "pplx-7b-chat",
          "fine-tuned-mistral-7b-v0.2-instruct",
          "fine-tuned-mistral-7b-v0.2-instruct",
          "fine-tuned-mistral-7b-v0.2-instruct",
          "fine-tuned-mistral-7b-v0.2-instruct",
          "fine-tuned-mistral-7b-v0.2-instruct",
          "fine-tuned-mistral-7b-v0.2-instruct",
          "fine-tuned-mistral-7b-v0.2-instruct",
          "fine-tuned-mistral-7b-v0.2-instruct",
          "fine-tuned-mistral-7b-v0.2-instruct",
          "mistral-7b-instruct",
          "mistral-7b-instruct",
          "mistral-7b-instruct",
          "mistral-7b-instruct",
          "mistral-7b-instruct",
          "mistral-7b-instruct",
          "mistral-7b-instruct",
          "mistral-7b-instruct",
          "mistral-7b-instruct",
          "mixtral-8x7b-instruct",
          "mixtral-8x7b-instruct",
          "mixtral-8x7b-instruct",
          "mixtral-8x7b-instruct",
          "mixtral-8x7b-instruct",
          "mixtral-8x7b-instruct",
          "mixtral-8x7b-instruct",
          "mixtral-8x7b-instruct",
          "mixtral-8x7b-instruct",
          "pplx-70b-chat",
          "pplx-70b-chat",
          "pplx-70b-chat",
          "pplx-70b-chat",
          "pplx-70b-chat",
          "pplx-70b-chat",
          "pplx-70b-chat",
          "pplx-70b-chat",
          "pplx-70b-chat",
          "pplx-7b-chat",
          "pplx-7b-chat",
          "pplx-7b-chat",
          "pplx-7b-chat",
          "pplx-7b-chat",
          "pplx-7b-chat",
          "pplx-7b-chat",
          "pplx-7b-chat",
          "pplx-7b-chat",
          "fine-tuned-mistral-7b-v0.2-instruct",
          "fine-tuned-mistral-7b-v0.2-instruct",
          "fine-tuned-mistral-7b-v0.2-instruct",
          "fine-tuned-mistral-7b-v0.2-instruct",
          "fine-tuned-mistral-7b-v0.2-instruct",
          "fine-tuned-mistral-7b-v0.2-instruct",
          "fine-tuned-mistral-7b-v0.2-instruct",
          "fine-tuned-mistral-7b-v0.2-instruct",
          "fine-tuned-mistral-7b-v0.2-instruct",
          "mistral-7b-instruct",
          "mistral-7b-instruct",
          "mistral-7b-instruct",
          "mistral-7b-instruct",
          "mistral-7b-instruct",
          "mistral-7b-instruct",
          "mistral-7b-instruct",
          "mistral-7b-instruct",
          "mistral-7b-instruct",
          "mixtral-8x7b-instruct",
          "mixtral-8x7b-instruct",
          "mixtral-8x7b-instruct",
          "mixtral-8x7b-instruct",
          "mixtral-8x7b-instruct",
          "mixtral-8x7b-instruct",
          "mixtral-8x7b-instruct",
          "mixtral-8x7b-instruct",
          "mixtral-8x7b-instruct",
          "pplx-70b-chat",
          "pplx-70b-chat",
          "pplx-70b-chat",
          "pplx-70b-chat",
          "pplx-70b-chat",
          "pplx-70b-chat",
          "pplx-70b-chat",
          "pplx-70b-chat",
          "pplx-70b-chat",
          "pplx-7b-chat",
          "pplx-7b-chat",
          "pplx-7b-chat",
          "pplx-7b-chat",
          "pplx-7b-chat",
          "pplx-7b-chat",
          "pplx-7b-chat",
          "pplx-7b-chat",
          "pplx-7b-chat",
          "fine-tuned-mistral-7b-v0.2-instruct",
          "fine-tuned-mistral-7b-v0.2-instruct",
          "fine-tuned-mistral-7b-v0.2-instruct",
          "fine-tuned-mistral-7b-v0.2-instruct",
          "fine-tuned-mistral-7b-v0.2-instruct",
          "fine-tuned-mistral-7b-v0.2-instruct",
          "fine-tuned-mistral-7b-v0.2-instruct",
          "fine-tuned-mistral-7b-v0.2-instruct",
          "fine-tuned-mistral-7b-v0.2-instruct",
          "mistral-7b-instruct",
          "mistral-7b-instruct",
          "mistral-7b-instruct",
          "mistral-7b-instruct",
          "mistral-7b-instruct",
          "mistral-7b-instruct",
          "mistral-7b-instruct",
          "mistral-7b-instruct",
          "mistral-7b-instruct",
          "mixtral-8x7b-instruct",
          "mixtral-8x7b-instruct",
          "mixtral-8x7b-instruct",
          "mixtral-8x7b-instruct",
          "mixtral-8x7b-instruct",
          "mixtral-8x7b-instruct",
          "mixtral-8x7b-instruct",
          "mixtral-8x7b-instruct",
          "mixtral-8x7b-instruct",
          "pplx-70b-chat",
          "pplx-70b-chat",
          "pplx-70b-chat",
          "pplx-70b-chat",
          "pplx-70b-chat",
          "pplx-70b-chat",
          "pplx-70b-chat",
          "pplx-70b-chat",
          "pplx-70b-chat",
          "pplx-7b-chat",
          "pplx-7b-chat",
          "pplx-7b-chat",
          "pplx-7b-chat",
          "pplx-7b-chat",
          "pplx-7b-chat",
          "pplx-7b-chat",
          "pplx-7b-chat",
          "pplx-7b-chat",
          "fine-tuned-mistral-7b-v0.2-instruct",
          "fine-tuned-mistral-7b-v0.2-instruct",
          "fine-tuned-mistral-7b-v0.2-instruct",
          "fine-tuned-mistral-7b-v0.2-instruct",
          "fine-tuned-mistral-7b-v0.2-instruct",
          "fine-tuned-mistral-7b-v0.2-instruct",
          "fine-tuned-mistral-7b-v0.2-instruct",
          "fine-tuned-mistral-7b-v0.2-instruct",
          "fine-tuned-mistral-7b-v0.2-instruct",
          "mistral-7b-instruct",
          "mistral-7b-instruct",
          "mistral-7b-instruct",
          "mistral-7b-instruct",
          "mistral-7b-instruct",
          "mistral-7b-instruct",
          "mistral-7b-instruct",
          "mistral-7b-instruct",
          "mistral-7b-instruct",
          "mixtral-8x7b-instruct",
          "mixtral-8x7b-instruct",
          "mixtral-8x7b-instruct",
          "mixtral-8x7b-instruct",
          "mixtral-8x7b-instruct",
          "mixtral-8x7b-instruct",
          "mixtral-8x7b-instruct",
          "mixtral-8x7b-instruct",
          "mixtral-8x7b-instruct",
          "pplx-70b-chat",
          "pplx-70b-chat",
          "pplx-70b-chat",
          "pplx-70b-chat",
          "pplx-70b-chat",
          "pplx-70b-chat",
          "pplx-70b-chat",
          "pplx-70b-chat",
          "pplx-70b-chat",
          "pplx-7b-chat",
          "pplx-7b-chat",
          "pplx-7b-chat",
          "pplx-7b-chat",
          "pplx-7b-chat",
          "pplx-7b-chat",
          "pplx-7b-chat",
          "pplx-7b-chat",
          "pplx-7b-chat",
          "fine-tuned-mistral-7b-v0.2-instruct",
          "fine-tuned-mistral-7b-v0.2-instruct",
          "fine-tuned-mistral-7b-v0.2-instruct",
          "fine-tuned-mistral-7b-v0.2-instruct",
          "fine-tuned-mistral-7b-v0.2-instruct",
          "fine-tuned-mistral-7b-v0.2-instruct",
          "fine-tuned-mistral-7b-v0.2-instruct",
          "fine-tuned-mistral-7b-v0.2-instruct",
          "fine-tuned-mistral-7b-v0.2-instruct",
          "mistral-7b-instruct",
          "mistral-7b-instruct",
          "mistral-7b-instruct",
          "mistral-7b-instruct",
          "mistral-7b-instruct",
          "mistral-7b-instruct",
          "mistral-7b-instruct",
          "mistral-7b-instruct",
          "mistral-7b-instruct",
          "mixtral-8x7b-instruct",
          "mixtral-8x7b-instruct",
          "mixtral-8x7b-instruct",
          "mixtral-8x7b-instruct",
          "mixtral-8x7b-instruct",
          "mixtral-8x7b-instruct",
          "mixtral-8x7b-instruct",
          "mixtral-8x7b-instruct",
          "mixtral-8x7b-instruct",
          "pplx-70b-chat",
          "pplx-70b-chat",
          "pplx-70b-chat",
          "pplx-70b-chat",
          "pplx-70b-chat",
          "pplx-70b-chat",
          "pplx-70b-chat",
          "pplx-70b-chat",
          "pplx-70b-chat",
          "pplx-7b-chat",
          "pplx-7b-chat",
          "pplx-7b-chat",
          "pplx-7b-chat",
          "pplx-7b-chat",
          "pplx-7b-chat",
          "pplx-7b-chat",
          "pplx-7b-chat",
          "pplx-7b-chat",
          "fine-tuned-mistral-7b-v0.2-instruct",
          "fine-tuned-mistral-7b-v0.2-instruct",
          "fine-tuned-mistral-7b-v0.2-instruct",
          "fine-tuned-mistral-7b-v0.2-instruct",
          "fine-tuned-mistral-7b-v0.2-instruct",
          "fine-tuned-mistral-7b-v0.2-instruct",
          "fine-tuned-mistral-7b-v0.2-instruct",
          "fine-tuned-mistral-7b-v0.2-instruct",
          "fine-tuned-mistral-7b-v0.2-instruct",
          "mistral-7b-instruct",
          "mistral-7b-instruct",
          "mistral-7b-instruct",
          "mistral-7b-instruct",
          "mistral-7b-instruct",
          "mistral-7b-instruct",
          "mistral-7b-instruct",
          "mistral-7b-instruct",
          "mistral-7b-instruct",
          "mixtral-8x7b-instruct",
          "mixtral-8x7b-instruct",
          "mixtral-8x7b-instruct",
          "mixtral-8x7b-instruct",
          "mixtral-8x7b-instruct",
          "mixtral-8x7b-instruct",
          "mixtral-8x7b-instruct",
          "mixtral-8x7b-instruct",
          "mixtral-8x7b-instruct",
          "pplx-70b-chat",
          "pplx-70b-chat",
          "pplx-70b-chat",
          "pplx-70b-chat",
          "pplx-70b-chat",
          "pplx-70b-chat",
          "pplx-70b-chat",
          "pplx-70b-chat",
          "pplx-70b-chat",
          "pplx-7b-chat",
          "pplx-7b-chat",
          "pplx-7b-chat",
          "pplx-7b-chat",
          "pplx-7b-chat",
          "pplx-7b-chat",
          "pplx-7b-chat",
          "pplx-7b-chat",
          "pplx-7b-chat",
          "fine-tuned-mistral-7b-v0.2-instruct",
          "fine-tuned-mistral-7b-v0.2-instruct",
          "fine-tuned-mistral-7b-v0.2-instruct",
          "fine-tuned-mistral-7b-v0.2-instruct",
          "fine-tuned-mistral-7b-v0.2-instruct",
          "fine-tuned-mistral-7b-v0.2-instruct",
          "fine-tuned-mistral-7b-v0.2-instruct",
          "fine-tuned-mistral-7b-v0.2-instruct",
          "fine-tuned-mistral-7b-v0.2-instruct",
          "mistral-7b-instruct",
          "mistral-7b-instruct",
          "mistral-7b-instruct",
          "mistral-7b-instruct",
          "mistral-7b-instruct",
          "mistral-7b-instruct",
          "mistral-7b-instruct",
          "mistral-7b-instruct",
          "mistral-7b-instruct",
          "mixtral-8x7b-instruct",
          "mixtral-8x7b-instruct",
          "mixtral-8x7b-instruct",
          "mixtral-8x7b-instruct",
          "mixtral-8x7b-instruct",
          "mixtral-8x7b-instruct",
          "mixtral-8x7b-instruct",
          "mixtral-8x7b-instruct",
          "mixtral-8x7b-instruct",
          "pplx-70b-chat",
          "pplx-70b-chat",
          "pplx-70b-chat",
          "pplx-70b-chat",
          "pplx-70b-chat",
          "pplx-70b-chat",
          "pplx-70b-chat",
          "pplx-70b-chat",
          "pplx-70b-chat",
          "pplx-7b-chat",
          "pplx-7b-chat",
          "pplx-7b-chat",
          "pplx-7b-chat",
          "pplx-7b-chat",
          "pplx-7b-chat",
          "pplx-7b-chat",
          "pplx-7b-chat",
          "pplx-7b-chat",
          "fine-tuned-mistral-7b-v0.2-instruct",
          "fine-tuned-mistral-7b-v0.2-instruct",
          "fine-tuned-mistral-7b-v0.2-instruct",
          "fine-tuned-mistral-7b-v0.2-instruct",
          "fine-tuned-mistral-7b-v0.2-instruct",
          "fine-tuned-mistral-7b-v0.2-instruct",
          "fine-tuned-mistral-7b-v0.2-instruct",
          "fine-tuned-mistral-7b-v0.2-instruct",
          "fine-tuned-mistral-7b-v0.2-instruct",
          "mistral-7b-instruct",
          "mistral-7b-instruct",
          "mistral-7b-instruct",
          "mistral-7b-instruct",
          "mistral-7b-instruct",
          "mistral-7b-instruct",
          "mistral-7b-instruct",
          "mistral-7b-instruct",
          "mistral-7b-instruct",
          "mixtral-8x7b-instruct",
          "mixtral-8x7b-instruct",
          "mixtral-8x7b-instruct",
          "mixtral-8x7b-instruct",
          "mixtral-8x7b-instruct",
          "mixtral-8x7b-instruct",
          "mixtral-8x7b-instruct",
          "mixtral-8x7b-instruct",
          "mixtral-8x7b-instruct",
          "pplx-70b-chat",
          "pplx-70b-chat",
          "pplx-70b-chat",
          "pplx-70b-chat",
          "pplx-70b-chat",
          "pplx-70b-chat",
          "pplx-70b-chat",
          "pplx-70b-chat",
          "pplx-70b-chat",
          "pplx-7b-chat",
          "pplx-7b-chat",
          "pplx-7b-chat",
          "pplx-7b-chat",
          "pplx-7b-chat",
          "pplx-7b-chat",
          "pplx-7b-chat",
          "pplx-7b-chat",
          "pplx-7b-chat",
          "fine-tuned-mistral-7b-v0.2-instruct",
          "fine-tuned-mistral-7b-v0.2-instruct",
          "fine-tuned-mistral-7b-v0.2-instruct",
          "fine-tuned-mistral-7b-v0.2-instruct",
          "fine-tuned-mistral-7b-v0.2-instruct",
          "fine-tuned-mistral-7b-v0.2-instruct",
          "fine-tuned-mistral-7b-v0.2-instruct",
          "fine-tuned-mistral-7b-v0.2-instruct",
          "fine-tuned-mistral-7b-v0.2-instruct",
          "mistral-7b-instruct",
          "mistral-7b-instruct",
          "mistral-7b-instruct",
          "mistral-7b-instruct",
          "mistral-7b-instruct",
          "mistral-7b-instruct",
          "mistral-7b-instruct",
          "mistral-7b-instruct",
          "mistral-7b-instruct",
          "mixtral-8x7b-instruct",
          "mixtral-8x7b-instruct",
          "mixtral-8x7b-instruct",
          "mixtral-8x7b-instruct",
          "mixtral-8x7b-instruct",
          "mixtral-8x7b-instruct",
          "mixtral-8x7b-instruct",
          "mixtral-8x7b-instruct",
          "mixtral-8x7b-instruct",
          "pplx-70b-chat",
          "pplx-70b-chat",
          "pplx-70b-chat",
          "pplx-70b-chat",
          "pplx-70b-chat",
          "pplx-70b-chat",
          "pplx-70b-chat",
          "pplx-70b-chat",
          "pplx-70b-chat",
          "pplx-7b-chat",
          "pplx-7b-chat",
          "pplx-7b-chat",
          "pplx-7b-chat",
          "pplx-7b-chat",
          "pplx-7b-chat",
          "pplx-7b-chat",
          "pplx-7b-chat",
          "pplx-7b-chat",
          "fine-tuned-mistral-7b-v0.2-instruct",
          "fine-tuned-mistral-7b-v0.2-instruct",
          "fine-tuned-mistral-7b-v0.2-instruct",
          "fine-tuned-mistral-7b-v0.2-instruct",
          "fine-tuned-mistral-7b-v0.2-instruct",
          "fine-tuned-mistral-7b-v0.2-instruct",
          "fine-tuned-mistral-7b-v0.2-instruct",
          "fine-tuned-mistral-7b-v0.2-instruct",
          "fine-tuned-mistral-7b-v0.2-instruct",
          "mistral-7b-instruct",
          "mistral-7b-instruct",
          "mistral-7b-instruct",
          "mistral-7b-instruct",
          "mistral-7b-instruct",
          "mistral-7b-instruct",
          "mistral-7b-instruct",
          "mistral-7b-instruct",
          "mistral-7b-instruct",
          "mixtral-8x7b-instruct",
          "mixtral-8x7b-instruct",
          "mixtral-8x7b-instruct",
          "mixtral-8x7b-instruct",
          "mixtral-8x7b-instruct",
          "mixtral-8x7b-instruct",
          "mixtral-8x7b-instruct",
          "mixtral-8x7b-instruct",
          "mixtral-8x7b-instruct",
          "pplx-70b-chat",
          "pplx-70b-chat",
          "pplx-70b-chat",
          "pplx-70b-chat",
          "pplx-70b-chat",
          "pplx-70b-chat",
          "pplx-70b-chat",
          "pplx-70b-chat",
          "pplx-70b-chat",
          "pplx-7b-chat",
          "pplx-7b-chat",
          "pplx-7b-chat",
          "pplx-7b-chat",
          "pplx-7b-chat",
          "pplx-7b-chat",
          "pplx-7b-chat",
          "pplx-7b-chat",
          "pplx-7b-chat",
          "fine-tuned-mistral-7b-v0.2-instruct",
          "fine-tuned-mistral-7b-v0.2-instruct",
          "fine-tuned-mistral-7b-v0.2-instruct",
          "fine-tuned-mistral-7b-v0.2-instruct",
          "fine-tuned-mistral-7b-v0.2-instruct",
          "fine-tuned-mistral-7b-v0.2-instruct",
          "fine-tuned-mistral-7b-v0.2-instruct",
          "fine-tuned-mistral-7b-v0.2-instruct",
          "fine-tuned-mistral-7b-v0.2-instruct",
          "mistral-7b-instruct",
          "mistral-7b-instruct",
          "mistral-7b-instruct",
          "mistral-7b-instruct",
          "mistral-7b-instruct",
          "mistral-7b-instruct",
          "mistral-7b-instruct",
          "mistral-7b-instruct",
          "mistral-7b-instruct",
          "mixtral-8x7b-instruct",
          "mixtral-8x7b-instruct",
          "mixtral-8x7b-instruct",
          "mixtral-8x7b-instruct",
          "mixtral-8x7b-instruct",
          "mixtral-8x7b-instruct",
          "mixtral-8x7b-instruct",
          "mixtral-8x7b-instruct",
          "mixtral-8x7b-instruct",
          "pplx-70b-chat",
          "pplx-70b-chat",
          "pplx-70b-chat",
          "pplx-70b-chat",
          "pplx-70b-chat",
          "pplx-70b-chat",
          "pplx-70b-chat",
          "pplx-70b-chat",
          "pplx-70b-chat",
          "pplx-7b-chat",
          "pplx-7b-chat",
          "pplx-7b-chat",
          "pplx-7b-chat",
          "pplx-7b-chat",
          "pplx-7b-chat",
          "pplx-7b-chat",
          "pplx-7b-chat",
          "pplx-7b-chat",
          "fine-tuned-mistral-7b-v0.2-instruct",
          "fine-tuned-mistral-7b-v0.2-instruct",
          "fine-tuned-mistral-7b-v0.2-instruct",
          "fine-tuned-mistral-7b-v0.2-instruct",
          "fine-tuned-mistral-7b-v0.2-instruct",
          "fine-tuned-mistral-7b-v0.2-instruct",
          "fine-tuned-mistral-7b-v0.2-instruct",
          "fine-tuned-mistral-7b-v0.2-instruct",
          "fine-tuned-mistral-7b-v0.2-instruct",
          "mistral-7b-instruct",
          "mistral-7b-instruct",
          "mistral-7b-instruct",
          "mistral-7b-instruct",
          "mistral-7b-instruct",
          "mistral-7b-instruct",
          "mistral-7b-instruct",
          "mistral-7b-instruct",
          "mistral-7b-instruct",
          "mixtral-8x7b-instruct",
          "mixtral-8x7b-instruct",
          "mixtral-8x7b-instruct",
          "mixtral-8x7b-instruct",
          "mixtral-8x7b-instruct",
          "mixtral-8x7b-instruct",
          "mixtral-8x7b-instruct",
          "mixtral-8x7b-instruct",
          "mixtral-8x7b-instruct",
          "pplx-70b-chat",
          "pplx-70b-chat",
          "pplx-70b-chat",
          "pplx-70b-chat",
          "pplx-70b-chat",
          "pplx-70b-chat",
          "pplx-70b-chat",
          "pplx-70b-chat",
          "pplx-70b-chat",
          "pplx-7b-chat",
          "pplx-7b-chat",
          "pplx-7b-chat",
          "pplx-7b-chat",
          "pplx-7b-chat",
          "pplx-7b-chat",
          "pplx-7b-chat",
          "pplx-7b-chat",
          "pplx-7b-chat"
         ],
         "legendgroup": "True",
         "marker": {
          "color": "#EF553B"
         },
         "name": "True",
         "notched": false,
         "offsetgroup": "True",
         "orientation": "v",
         "showlegend": true,
         "type": "box",
         "x": [
          "(-0.001, 5.0]",
          "(-0.001, 5.0]",
          "(-0.001, 5.0]",
          "(-0.001, 5.0]",
          "(-0.001, 5.0]",
          "(-0.001, 5.0]",
          "(-0.001, 5.0]",
          "(-0.001, 5.0]",
          "(-0.001, 5.0]",
          "(-0.001, 5.0]",
          "(-0.001, 5.0]",
          "(-0.001, 5.0]",
          "(-0.001, 5.0]",
          "(-0.001, 5.0]",
          "(-0.001, 5.0]",
          "(-0.001, 5.0]",
          "(-0.001, 5.0]",
          "(-0.001, 5.0]",
          "(-0.001, 5.0]",
          "(-0.001, 5.0]",
          "(-0.001, 5.0]",
          "(-0.001, 5.0]",
          "(-0.001, 5.0]",
          "(-0.001, 5.0]",
          "(-0.001, 5.0]",
          "(-0.001, 5.0]",
          "(-0.001, 5.0]",
          "(-0.001, 5.0]",
          "(-0.001, 5.0]",
          "(-0.001, 5.0]",
          "(-0.001, 5.0]",
          "(-0.001, 5.0]",
          "(-0.001, 5.0]",
          "(-0.001, 5.0]",
          "(-0.001, 5.0]",
          "(-0.001, 5.0]",
          "(-0.001, 5.0]",
          "(-0.001, 5.0]",
          "(-0.001, 5.0]",
          "(-0.001, 5.0]",
          "(-0.001, 5.0]",
          "(-0.001, 5.0]",
          "(-0.001, 5.0]",
          "(-0.001, 5.0]",
          "(-0.001, 5.0]",
          "(5.0, 10.0]",
          "(5.0, 10.0]",
          "(5.0, 10.0]",
          "(5.0, 10.0]",
          "(5.0, 10.0]",
          "(5.0, 10.0]",
          "(5.0, 10.0]",
          "(5.0, 10.0]",
          "(5.0, 10.0]",
          "(5.0, 10.0]",
          "(5.0, 10.0]",
          "(5.0, 10.0]",
          "(5.0, 10.0]",
          "(5.0, 10.0]",
          "(5.0, 10.0]",
          "(5.0, 10.0]",
          "(5.0, 10.0]",
          "(5.0, 10.0]",
          "(5.0, 10.0]",
          "(5.0, 10.0]",
          "(5.0, 10.0]",
          "(5.0, 10.0]",
          "(5.0, 10.0]",
          "(5.0, 10.0]",
          "(5.0, 10.0]",
          "(5.0, 10.0]",
          "(5.0, 10.0]",
          "(5.0, 10.0]",
          "(5.0, 10.0]",
          "(5.0, 10.0]",
          "(5.0, 10.0]",
          "(5.0, 10.0]",
          "(5.0, 10.0]",
          "(5.0, 10.0]",
          "(5.0, 10.0]",
          "(5.0, 10.0]",
          "(5.0, 10.0]",
          "(5.0, 10.0]",
          "(5.0, 10.0]",
          "(5.0, 10.0]",
          "(5.0, 10.0]",
          "(5.0, 10.0]",
          "(5.0, 10.0]",
          "(5.0, 10.0]",
          "(5.0, 10.0]",
          "(10.0, 15.0]",
          "(10.0, 15.0]",
          "(10.0, 15.0]",
          "(10.0, 15.0]",
          "(10.0, 15.0]",
          "(10.0, 15.0]",
          "(10.0, 15.0]",
          "(10.0, 15.0]",
          "(10.0, 15.0]",
          "(10.0, 15.0]",
          "(10.0, 15.0]",
          "(10.0, 15.0]",
          "(10.0, 15.0]",
          "(10.0, 15.0]",
          "(10.0, 15.0]",
          "(10.0, 15.0]",
          "(10.0, 15.0]",
          "(10.0, 15.0]",
          "(10.0, 15.0]",
          "(10.0, 15.0]",
          "(10.0, 15.0]",
          "(10.0, 15.0]",
          "(10.0, 15.0]",
          "(10.0, 15.0]",
          "(10.0, 15.0]",
          "(10.0, 15.0]",
          "(10.0, 15.0]",
          "(10.0, 15.0]",
          "(10.0, 15.0]",
          "(10.0, 15.0]",
          "(10.0, 15.0]",
          "(10.0, 15.0]",
          "(10.0, 15.0]",
          "(10.0, 15.0]",
          "(10.0, 15.0]",
          "(10.0, 15.0]",
          "(10.0, 15.0]",
          "(10.0, 15.0]",
          "(10.0, 15.0]",
          "(10.0, 15.0]",
          "(10.0, 15.0]",
          "(10.0, 15.0]",
          "(10.0, 15.0]",
          "(10.0, 15.0]",
          "(10.0, 15.0]",
          "(15.0, 20.0]",
          "(15.0, 20.0]",
          "(15.0, 20.0]",
          "(15.0, 20.0]",
          "(15.0, 20.0]",
          "(15.0, 20.0]",
          "(15.0, 20.0]",
          "(15.0, 20.0]",
          "(15.0, 20.0]",
          "(15.0, 20.0]",
          "(15.0, 20.0]",
          "(15.0, 20.0]",
          "(15.0, 20.0]",
          "(15.0, 20.0]",
          "(15.0, 20.0]",
          "(15.0, 20.0]",
          "(15.0, 20.0]",
          "(15.0, 20.0]",
          "(15.0, 20.0]",
          "(15.0, 20.0]",
          "(15.0, 20.0]",
          "(15.0, 20.0]",
          "(15.0, 20.0]",
          "(15.0, 20.0]",
          "(15.0, 20.0]",
          "(15.0, 20.0]",
          "(15.0, 20.0]",
          "(15.0, 20.0]",
          "(15.0, 20.0]",
          "(15.0, 20.0]",
          "(15.0, 20.0]",
          "(15.0, 20.0]",
          "(15.0, 20.0]",
          "(15.0, 20.0]",
          "(15.0, 20.0]",
          "(15.0, 20.0]",
          "(15.0, 20.0]",
          "(15.0, 20.0]",
          "(15.0, 20.0]",
          "(15.0, 20.0]",
          "(15.0, 20.0]",
          "(15.0, 20.0]",
          "(15.0, 20.0]",
          "(15.0, 20.0]",
          "(15.0, 20.0]",
          "(20.0, 25.0]",
          "(20.0, 25.0]",
          "(20.0, 25.0]",
          "(20.0, 25.0]",
          "(20.0, 25.0]",
          "(20.0, 25.0]",
          "(20.0, 25.0]",
          "(20.0, 25.0]",
          "(20.0, 25.0]",
          "(20.0, 25.0]",
          "(20.0, 25.0]",
          "(20.0, 25.0]",
          "(20.0, 25.0]",
          "(20.0, 25.0]",
          "(20.0, 25.0]",
          "(20.0, 25.0]",
          "(20.0, 25.0]",
          "(20.0, 25.0]",
          "(20.0, 25.0]",
          "(20.0, 25.0]",
          "(20.0, 25.0]",
          "(20.0, 25.0]",
          "(20.0, 25.0]",
          "(20.0, 25.0]",
          "(20.0, 25.0]",
          "(20.0, 25.0]",
          "(20.0, 25.0]",
          "(20.0, 25.0]",
          "(20.0, 25.0]",
          "(20.0, 25.0]",
          "(20.0, 25.0]",
          "(20.0, 25.0]",
          "(20.0, 25.0]",
          "(20.0, 25.0]",
          "(20.0, 25.0]",
          "(20.0, 25.0]",
          "(20.0, 25.0]",
          "(20.0, 25.0]",
          "(20.0, 25.0]",
          "(20.0, 25.0]",
          "(20.0, 25.0]",
          "(20.0, 25.0]",
          "(20.0, 25.0]",
          "(20.0, 25.0]",
          "(20.0, 25.0]",
          "(25.0, 30.0]",
          "(25.0, 30.0]",
          "(25.0, 30.0]",
          "(25.0, 30.0]",
          "(25.0, 30.0]",
          "(25.0, 30.0]",
          "(25.0, 30.0]",
          "(25.0, 30.0]",
          "(25.0, 30.0]",
          "(25.0, 30.0]",
          "(25.0, 30.0]",
          "(25.0, 30.0]",
          "(25.0, 30.0]",
          "(25.0, 30.0]",
          "(25.0, 30.0]",
          "(25.0, 30.0]",
          "(25.0, 30.0]",
          "(25.0, 30.0]",
          "(25.0, 30.0]",
          "(25.0, 30.0]",
          "(25.0, 30.0]",
          "(25.0, 30.0]",
          "(25.0, 30.0]",
          "(25.0, 30.0]",
          "(25.0, 30.0]",
          "(25.0, 30.0]",
          "(25.0, 30.0]",
          "(25.0, 30.0]",
          "(25.0, 30.0]",
          "(25.0, 30.0]",
          "(25.0, 30.0]",
          "(25.0, 30.0]",
          "(25.0, 30.0]",
          "(25.0, 30.0]",
          "(25.0, 30.0]",
          "(25.0, 30.0]",
          "(25.0, 30.0]",
          "(25.0, 30.0]",
          "(25.0, 30.0]",
          "(25.0, 30.0]",
          "(25.0, 30.0]",
          "(25.0, 30.0]",
          "(25.0, 30.0]",
          "(25.0, 30.0]",
          "(25.0, 30.0]",
          "(30.0, 35.0]",
          "(30.0, 35.0]",
          "(30.0, 35.0]",
          "(30.0, 35.0]",
          "(30.0, 35.0]",
          "(30.0, 35.0]",
          "(30.0, 35.0]",
          "(30.0, 35.0]",
          "(30.0, 35.0]",
          "(30.0, 35.0]",
          "(30.0, 35.0]",
          "(30.0, 35.0]",
          "(30.0, 35.0]",
          "(30.0, 35.0]",
          "(30.0, 35.0]",
          "(30.0, 35.0]",
          "(30.0, 35.0]",
          "(30.0, 35.0]",
          "(30.0, 35.0]",
          "(30.0, 35.0]",
          "(30.0, 35.0]",
          "(30.0, 35.0]",
          "(30.0, 35.0]",
          "(30.0, 35.0]",
          "(30.0, 35.0]",
          "(30.0, 35.0]",
          "(30.0, 35.0]",
          "(30.0, 35.0]",
          "(30.0, 35.0]",
          "(30.0, 35.0]",
          "(30.0, 35.0]",
          "(30.0, 35.0]",
          "(30.0, 35.0]",
          "(30.0, 35.0]",
          "(30.0, 35.0]",
          "(30.0, 35.0]",
          "(30.0, 35.0]",
          "(30.0, 35.0]",
          "(30.0, 35.0]",
          "(30.0, 35.0]",
          "(30.0, 35.0]",
          "(30.0, 35.0]",
          "(30.0, 35.0]",
          "(30.0, 35.0]",
          "(30.0, 35.0]",
          "(35.0, 40.0]",
          "(35.0, 40.0]",
          "(35.0, 40.0]",
          "(35.0, 40.0]",
          "(35.0, 40.0]",
          "(35.0, 40.0]",
          "(35.0, 40.0]",
          "(35.0, 40.0]",
          "(35.0, 40.0]",
          "(35.0, 40.0]",
          "(35.0, 40.0]",
          "(35.0, 40.0]",
          "(35.0, 40.0]",
          "(35.0, 40.0]",
          "(35.0, 40.0]",
          "(35.0, 40.0]",
          "(35.0, 40.0]",
          "(35.0, 40.0]",
          "(35.0, 40.0]",
          "(35.0, 40.0]",
          "(35.0, 40.0]",
          "(35.0, 40.0]",
          "(35.0, 40.0]",
          "(35.0, 40.0]",
          "(35.0, 40.0]",
          "(35.0, 40.0]",
          "(35.0, 40.0]",
          "(35.0, 40.0]",
          "(35.0, 40.0]",
          "(35.0, 40.0]",
          "(35.0, 40.0]",
          "(35.0, 40.0]",
          "(35.0, 40.0]",
          "(35.0, 40.0]",
          "(35.0, 40.0]",
          "(35.0, 40.0]",
          "(35.0, 40.0]",
          "(35.0, 40.0]",
          "(35.0, 40.0]",
          "(35.0, 40.0]",
          "(35.0, 40.0]",
          "(35.0, 40.0]",
          "(35.0, 40.0]",
          "(35.0, 40.0]",
          "(35.0, 40.0]",
          "(40.0, 45.0]",
          "(40.0, 45.0]",
          "(40.0, 45.0]",
          "(40.0, 45.0]",
          "(40.0, 45.0]",
          "(40.0, 45.0]",
          "(40.0, 45.0]",
          "(40.0, 45.0]",
          "(40.0, 45.0]",
          "(40.0, 45.0]",
          "(40.0, 45.0]",
          "(40.0, 45.0]",
          "(40.0, 45.0]",
          "(40.0, 45.0]",
          "(40.0, 45.0]",
          "(40.0, 45.0]",
          "(40.0, 45.0]",
          "(40.0, 45.0]",
          "(40.0, 45.0]",
          "(40.0, 45.0]",
          "(40.0, 45.0]",
          "(40.0, 45.0]",
          "(40.0, 45.0]",
          "(40.0, 45.0]",
          "(40.0, 45.0]",
          "(40.0, 45.0]",
          "(40.0, 45.0]",
          "(40.0, 45.0]",
          "(40.0, 45.0]",
          "(40.0, 45.0]",
          "(40.0, 45.0]",
          "(40.0, 45.0]",
          "(40.0, 45.0]",
          "(40.0, 45.0]",
          "(40.0, 45.0]",
          "(40.0, 45.0]",
          "(40.0, 45.0]",
          "(40.0, 45.0]",
          "(40.0, 45.0]",
          "(40.0, 45.0]",
          "(40.0, 45.0]",
          "(40.0, 45.0]",
          "(40.0, 45.0]",
          "(40.0, 45.0]",
          "(40.0, 45.0]",
          "(45.0, 50.0]",
          "(45.0, 50.0]",
          "(45.0, 50.0]",
          "(45.0, 50.0]",
          "(45.0, 50.0]",
          "(45.0, 50.0]",
          "(45.0, 50.0]",
          "(45.0, 50.0]",
          "(45.0, 50.0]",
          "(45.0, 50.0]",
          "(45.0, 50.0]",
          "(45.0, 50.0]",
          "(45.0, 50.0]",
          "(45.0, 50.0]",
          "(45.0, 50.0]",
          "(45.0, 50.0]",
          "(45.0, 50.0]",
          "(45.0, 50.0]",
          "(45.0, 50.0]",
          "(45.0, 50.0]",
          "(45.0, 50.0]",
          "(45.0, 50.0]",
          "(45.0, 50.0]",
          "(45.0, 50.0]",
          "(45.0, 50.0]",
          "(45.0, 50.0]",
          "(45.0, 50.0]",
          "(45.0, 50.0]",
          "(45.0, 50.0]",
          "(45.0, 50.0]",
          "(45.0, 50.0]",
          "(45.0, 50.0]",
          "(45.0, 50.0]",
          "(45.0, 50.0]",
          "(45.0, 50.0]",
          "(45.0, 50.0]",
          "(45.0, 50.0]",
          "(45.0, 50.0]",
          "(45.0, 50.0]",
          "(45.0, 50.0]",
          "(45.0, 50.0]",
          "(45.0, 50.0]",
          "(45.0, 50.0]",
          "(45.0, 50.0]",
          "(45.0, 50.0]",
          "(50.0, 55.0]",
          "(50.0, 55.0]",
          "(50.0, 55.0]",
          "(50.0, 55.0]",
          "(50.0, 55.0]",
          "(50.0, 55.0]",
          "(50.0, 55.0]",
          "(50.0, 55.0]",
          "(50.0, 55.0]",
          "(50.0, 55.0]",
          "(50.0, 55.0]",
          "(50.0, 55.0]",
          "(50.0, 55.0]",
          "(50.0, 55.0]",
          "(50.0, 55.0]",
          "(50.0, 55.0]",
          "(50.0, 55.0]",
          "(50.0, 55.0]",
          "(50.0, 55.0]",
          "(50.0, 55.0]",
          "(50.0, 55.0]",
          "(50.0, 55.0]",
          "(50.0, 55.0]",
          "(50.0, 55.0]",
          "(50.0, 55.0]",
          "(50.0, 55.0]",
          "(50.0, 55.0]",
          "(50.0, 55.0]",
          "(50.0, 55.0]",
          "(50.0, 55.0]",
          "(50.0, 55.0]",
          "(50.0, 55.0]",
          "(50.0, 55.0]",
          "(50.0, 55.0]",
          "(50.0, 55.0]",
          "(50.0, 55.0]",
          "(50.0, 55.0]",
          "(50.0, 55.0]",
          "(50.0, 55.0]",
          "(50.0, 55.0]",
          "(50.0, 55.0]",
          "(50.0, 55.0]",
          "(50.0, 55.0]",
          "(50.0, 55.0]",
          "(50.0, 55.0]",
          "(55.0, 60.0]",
          "(55.0, 60.0]",
          "(55.0, 60.0]",
          "(55.0, 60.0]",
          "(55.0, 60.0]",
          "(55.0, 60.0]",
          "(55.0, 60.0]",
          "(55.0, 60.0]",
          "(55.0, 60.0]",
          "(55.0, 60.0]",
          "(55.0, 60.0]",
          "(55.0, 60.0]",
          "(55.0, 60.0]",
          "(55.0, 60.0]",
          "(55.0, 60.0]",
          "(55.0, 60.0]",
          "(55.0, 60.0]",
          "(55.0, 60.0]",
          "(55.0, 60.0]",
          "(55.0, 60.0]",
          "(55.0, 60.0]",
          "(55.0, 60.0]",
          "(55.0, 60.0]",
          "(55.0, 60.0]",
          "(55.0, 60.0]",
          "(55.0, 60.0]",
          "(55.0, 60.0]",
          "(55.0, 60.0]",
          "(55.0, 60.0]",
          "(55.0, 60.0]",
          "(55.0, 60.0]",
          "(55.0, 60.0]",
          "(55.0, 60.0]",
          "(55.0, 60.0]",
          "(55.0, 60.0]",
          "(55.0, 60.0]",
          "(55.0, 60.0]",
          "(55.0, 60.0]",
          "(55.0, 60.0]",
          "(55.0, 60.0]",
          "(55.0, 60.0]",
          "(55.0, 60.0]",
          "(55.0, 60.0]",
          "(55.0, 60.0]",
          "(55.0, 60.0]",
          "(60.0, 65.0]",
          "(60.0, 65.0]",
          "(60.0, 65.0]",
          "(60.0, 65.0]",
          "(60.0, 65.0]",
          "(60.0, 65.0]",
          "(60.0, 65.0]",
          "(60.0, 65.0]",
          "(60.0, 65.0]",
          "(60.0, 65.0]",
          "(60.0, 65.0]",
          "(60.0, 65.0]",
          "(60.0, 65.0]",
          "(60.0, 65.0]",
          "(60.0, 65.0]",
          "(60.0, 65.0]",
          "(60.0, 65.0]",
          "(60.0, 65.0]",
          "(60.0, 65.0]",
          "(60.0, 65.0]",
          "(60.0, 65.0]",
          "(60.0, 65.0]",
          "(60.0, 65.0]",
          "(60.0, 65.0]",
          "(60.0, 65.0]",
          "(60.0, 65.0]",
          "(60.0, 65.0]",
          "(60.0, 65.0]",
          "(60.0, 65.0]",
          "(60.0, 65.0]",
          "(60.0, 65.0]",
          "(60.0, 65.0]",
          "(60.0, 65.0]",
          "(60.0, 65.0]",
          "(60.0, 65.0]",
          "(60.0, 65.0]",
          "(60.0, 65.0]",
          "(60.0, 65.0]",
          "(60.0, 65.0]",
          "(60.0, 65.0]",
          "(60.0, 65.0]",
          "(60.0, 65.0]",
          "(60.0, 65.0]",
          "(60.0, 65.0]",
          "(60.0, 65.0]",
          "(65.0, 70.0]",
          "(65.0, 70.0]",
          "(65.0, 70.0]",
          "(65.0, 70.0]",
          "(65.0, 70.0]",
          "(65.0, 70.0]",
          "(65.0, 70.0]",
          "(65.0, 70.0]",
          "(65.0, 70.0]",
          "(65.0, 70.0]",
          "(65.0, 70.0]",
          "(65.0, 70.0]",
          "(65.0, 70.0]",
          "(65.0, 70.0]",
          "(65.0, 70.0]",
          "(65.0, 70.0]",
          "(65.0, 70.0]",
          "(65.0, 70.0]",
          "(65.0, 70.0]",
          "(65.0, 70.0]",
          "(65.0, 70.0]",
          "(65.0, 70.0]",
          "(65.0, 70.0]",
          "(65.0, 70.0]",
          "(65.0, 70.0]",
          "(65.0, 70.0]",
          "(65.0, 70.0]",
          "(65.0, 70.0]",
          "(65.0, 70.0]",
          "(65.0, 70.0]",
          "(65.0, 70.0]",
          "(65.0, 70.0]",
          "(65.0, 70.0]",
          "(65.0, 70.0]",
          "(65.0, 70.0]",
          "(65.0, 70.0]",
          "(65.0, 70.0]",
          "(65.0, 70.0]",
          "(65.0, 70.0]",
          "(65.0, 70.0]",
          "(65.0, 70.0]",
          "(65.0, 70.0]",
          "(65.0, 70.0]",
          "(65.0, 70.0]",
          "(65.0, 70.0]",
          "(70.0, 75.0]",
          "(70.0, 75.0]",
          "(70.0, 75.0]",
          "(70.0, 75.0]",
          "(70.0, 75.0]",
          "(70.0, 75.0]",
          "(70.0, 75.0]",
          "(70.0, 75.0]",
          "(70.0, 75.0]",
          "(70.0, 75.0]",
          "(70.0, 75.0]",
          "(70.0, 75.0]",
          "(70.0, 75.0]",
          "(70.0, 75.0]",
          "(70.0, 75.0]",
          "(70.0, 75.0]",
          "(70.0, 75.0]",
          "(70.0, 75.0]",
          "(70.0, 75.0]",
          "(70.0, 75.0]",
          "(70.0, 75.0]",
          "(70.0, 75.0]",
          "(70.0, 75.0]",
          "(70.0, 75.0]",
          "(70.0, 75.0]",
          "(70.0, 75.0]",
          "(70.0, 75.0]",
          "(70.0, 75.0]",
          "(70.0, 75.0]",
          "(70.0, 75.0]",
          "(70.0, 75.0]",
          "(70.0, 75.0]",
          "(70.0, 75.0]",
          "(70.0, 75.0]",
          "(70.0, 75.0]",
          "(70.0, 75.0]",
          "(70.0, 75.0]",
          "(70.0, 75.0]",
          "(70.0, 75.0]",
          "(70.0, 75.0]",
          "(70.0, 75.0]",
          "(70.0, 75.0]",
          "(70.0, 75.0]",
          "(70.0, 75.0]",
          "(70.0, 75.0]",
          "(75.0, 80.0]",
          "(75.0, 80.0]",
          "(75.0, 80.0]",
          "(75.0, 80.0]",
          "(75.0, 80.0]",
          "(75.0, 80.0]",
          "(75.0, 80.0]",
          "(75.0, 80.0]",
          "(75.0, 80.0]",
          "(75.0, 80.0]",
          "(75.0, 80.0]",
          "(75.0, 80.0]",
          "(75.0, 80.0]",
          "(75.0, 80.0]",
          "(75.0, 80.0]",
          "(75.0, 80.0]",
          "(75.0, 80.0]",
          "(75.0, 80.0]",
          "(75.0, 80.0]",
          "(75.0, 80.0]",
          "(75.0, 80.0]",
          "(75.0, 80.0]",
          "(75.0, 80.0]",
          "(75.0, 80.0]",
          "(75.0, 80.0]",
          "(75.0, 80.0]",
          "(75.0, 80.0]",
          "(75.0, 80.0]",
          "(75.0, 80.0]",
          "(75.0, 80.0]",
          "(75.0, 80.0]",
          "(75.0, 80.0]",
          "(75.0, 80.0]",
          "(75.0, 80.0]",
          "(75.0, 80.0]",
          "(75.0, 80.0]",
          "(75.0, 80.0]",
          "(75.0, 80.0]",
          "(75.0, 80.0]",
          "(75.0, 80.0]",
          "(75.0, 80.0]",
          "(75.0, 80.0]",
          "(75.0, 80.0]",
          "(75.0, 80.0]",
          "(75.0, 80.0]",
          "(80.0, 85.0]",
          "(80.0, 85.0]",
          "(80.0, 85.0]",
          "(80.0, 85.0]",
          "(80.0, 85.0]",
          "(80.0, 85.0]",
          "(80.0, 85.0]",
          "(80.0, 85.0]",
          "(80.0, 85.0]",
          "(80.0, 85.0]",
          "(80.0, 85.0]",
          "(80.0, 85.0]",
          "(80.0, 85.0]",
          "(80.0, 85.0]",
          "(80.0, 85.0]",
          "(80.0, 85.0]",
          "(80.0, 85.0]",
          "(80.0, 85.0]",
          "(80.0, 85.0]",
          "(80.0, 85.0]",
          "(80.0, 85.0]",
          "(80.0, 85.0]",
          "(80.0, 85.0]",
          "(80.0, 85.0]",
          "(80.0, 85.0]",
          "(80.0, 85.0]",
          "(80.0, 85.0]",
          "(80.0, 85.0]",
          "(80.0, 85.0]",
          "(80.0, 85.0]",
          "(80.0, 85.0]",
          "(80.0, 85.0]",
          "(80.0, 85.0]",
          "(80.0, 85.0]",
          "(80.0, 85.0]",
          "(80.0, 85.0]",
          "(80.0, 85.0]",
          "(80.0, 85.0]",
          "(80.0, 85.0]",
          "(80.0, 85.0]",
          "(80.0, 85.0]",
          "(80.0, 85.0]",
          "(80.0, 85.0]",
          "(80.0, 85.0]",
          "(80.0, 85.0]",
          "(85.0, 90.0]",
          "(85.0, 90.0]",
          "(85.0, 90.0]",
          "(85.0, 90.0]",
          "(85.0, 90.0]",
          "(85.0, 90.0]",
          "(85.0, 90.0]",
          "(85.0, 90.0]",
          "(85.0, 90.0]",
          "(85.0, 90.0]",
          "(85.0, 90.0]",
          "(85.0, 90.0]",
          "(85.0, 90.0]",
          "(85.0, 90.0]",
          "(85.0, 90.0]",
          "(85.0, 90.0]",
          "(85.0, 90.0]",
          "(85.0, 90.0]",
          "(85.0, 90.0]",
          "(85.0, 90.0]",
          "(85.0, 90.0]",
          "(85.0, 90.0]",
          "(85.0, 90.0]",
          "(85.0, 90.0]",
          "(85.0, 90.0]",
          "(85.0, 90.0]",
          "(85.0, 90.0]",
          "(85.0, 90.0]",
          "(85.0, 90.0]",
          "(85.0, 90.0]",
          "(85.0, 90.0]",
          "(85.0, 90.0]",
          "(85.0, 90.0]",
          "(85.0, 90.0]",
          "(85.0, 90.0]",
          "(85.0, 90.0]",
          "(85.0, 90.0]",
          "(85.0, 90.0]",
          "(85.0, 90.0]",
          "(85.0, 90.0]",
          "(85.0, 90.0]",
          "(85.0, 90.0]",
          "(85.0, 90.0]",
          "(85.0, 90.0]",
          "(85.0, 90.0]",
          "(90.0, 95.0]",
          "(90.0, 95.0]",
          "(90.0, 95.0]",
          "(90.0, 95.0]",
          "(90.0, 95.0]",
          "(90.0, 95.0]",
          "(90.0, 95.0]",
          "(90.0, 95.0]",
          "(90.0, 95.0]",
          "(90.0, 95.0]",
          "(90.0, 95.0]",
          "(90.0, 95.0]",
          "(90.0, 95.0]",
          "(90.0, 95.0]",
          "(90.0, 95.0]",
          "(90.0, 95.0]",
          "(90.0, 95.0]",
          "(90.0, 95.0]",
          "(90.0, 95.0]",
          "(90.0, 95.0]",
          "(90.0, 95.0]",
          "(90.0, 95.0]",
          "(90.0, 95.0]",
          "(90.0, 95.0]",
          "(90.0, 95.0]",
          "(90.0, 95.0]",
          "(90.0, 95.0]",
          "(90.0, 95.0]",
          "(90.0, 95.0]",
          "(90.0, 95.0]",
          "(90.0, 95.0]",
          "(90.0, 95.0]",
          "(90.0, 95.0]",
          "(90.0, 95.0]",
          "(90.0, 95.0]",
          "(90.0, 95.0]",
          "(90.0, 95.0]",
          "(90.0, 95.0]",
          "(90.0, 95.0]",
          "(90.0, 95.0]",
          "(90.0, 95.0]",
          "(90.0, 95.0]",
          "(90.0, 95.0]",
          "(90.0, 95.0]",
          "(90.0, 95.0]",
          "(95.0, 100.0]",
          "(95.0, 100.0]",
          "(95.0, 100.0]",
          "(95.0, 100.0]",
          "(95.0, 100.0]",
          "(95.0, 100.0]",
          "(95.0, 100.0]",
          "(95.0, 100.0]",
          "(95.0, 100.0]",
          "(95.0, 100.0]",
          "(95.0, 100.0]",
          "(95.0, 100.0]",
          "(95.0, 100.0]",
          "(95.0, 100.0]",
          "(95.0, 100.0]",
          "(95.0, 100.0]",
          "(95.0, 100.0]",
          "(95.0, 100.0]",
          "(95.0, 100.0]",
          "(95.0, 100.0]",
          "(95.0, 100.0]",
          "(95.0, 100.0]",
          "(95.0, 100.0]",
          "(95.0, 100.0]",
          "(95.0, 100.0]",
          "(95.0, 100.0]",
          "(95.0, 100.0]",
          "(95.0, 100.0]",
          "(95.0, 100.0]",
          "(95.0, 100.0]",
          "(95.0, 100.0]",
          "(95.0, 100.0]",
          "(95.0, 100.0]",
          "(95.0, 100.0]",
          "(95.0, 100.0]",
          "(95.0, 100.0]",
          "(95.0, 100.0]",
          "(95.0, 100.0]",
          "(95.0, 100.0]",
          "(95.0, 100.0]",
          "(95.0, 100.0]",
          "(95.0, 100.0]",
          "(95.0, 100.0]",
          "(95.0, 100.0]",
          "(95.0, 100.0]"
         ],
         "x0": " ",
         "xaxis": "x",
         "y": [
          26,
          19,
          26,
          19,
          42,
          0,
          0,
          0,
          0,
          24,
          10,
          17,
          10,
          21,
          28,
          21,
          18,
          22,
          8,
          1,
          0,
          0,
          0,
          0,
          0,
          0,
          0,
          5,
          0,
          0,
          0,
          0,
          0,
          0,
          0,
          0,
          11,
          0,
          0,
          0,
          0,
          0,
          0,
          0,
          0,
          8,
          11,
          6,
          11,
          18,
          0,
          0,
          0,
          0,
          12,
          20,
          15,
          23,
          35,
          15,
          23,
          10,
          16,
          7,
          3,
          0,
          0,
          0,
          0,
          0,
          0,
          0,
          2,
          0,
          0,
          0,
          0,
          0,
          0,
          0,
          0,
          2,
          0,
          0,
          0,
          0,
          0,
          0,
          0,
          0,
          2,
          0,
          3,
          0,
          0,
          0,
          0,
          0,
          0,
          12,
          1,
          13,
          0,
          1,
          8,
          8,
          16,
          7,
          11,
          5,
          0,
          0,
          0,
          0,
          0,
          0,
          0,
          1,
          0,
          0,
          0,
          0,
          0,
          0,
          0,
          0,
          2,
          0,
          0,
          0,
          0,
          0,
          0,
          0,
          0,
          0,
          11,
          0,
          11,
          4,
          0,
          0,
          0,
          0,
          4,
          21,
          6,
          19,
          20,
          12,
          8,
          10,
          13,
          17,
          37,
          0,
          0,
          0,
          0,
          0,
          0,
          0,
          4,
          0,
          0,
          0,
          0,
          0,
          0,
          0,
          0,
          7,
          0,
          0,
          0,
          0,
          0,
          0,
          0,
          0,
          7,
          0,
          3,
          0,
          0,
          0,
          0,
          0,
          0,
          10,
          2,
          13,
          1,
          0,
          13,
          4,
          9,
          16,
          3,
          2,
          0,
          0,
          0,
          0,
          0,
          0,
          0,
          2,
          0,
          0,
          0,
          0,
          0,
          0,
          0,
          0,
          14,
          0,
          0,
          0,
          0,
          0,
          0,
          0,
          0,
          2,
          14,
          1,
          14,
          15,
          0,
          0,
          0,
          0,
          4,
          24,
          4,
          26,
          27,
          7,
          8,
          11,
          5,
          7,
          9,
          0,
          0,
          0,
          0,
          0,
          0,
          0,
          11,
          0,
          0,
          0,
          0,
          0,
          0,
          0,
          0,
          13,
          0,
          0,
          0,
          0,
          0,
          0,
          0,
          0,
          9,
          0,
          0,
          0,
          0,
          0,
          0,
          0,
          0,
          9,
          0,
          7,
          0,
          0,
          19,
          5,
          23,
          15,
          5,
          2,
          0,
          0,
          0,
          0,
          0,
          0,
          0,
          2,
          0,
          0,
          0,
          0,
          0,
          0,
          0,
          0,
          10,
          0,
          0,
          0,
          0,
          0,
          0,
          0,
          0,
          0,
          10,
          0,
          10,
          2,
          0,
          0,
          0,
          0,
          10,
          20,
          9,
          20,
          12,
          10,
          3,
          8,
          3,
          2,
          13,
          0,
          0,
          0,
          0,
          0,
          0,
          0,
          17,
          0,
          0,
          0,
          0,
          0,
          0,
          0,
          0,
          7,
          0,
          0,
          0,
          0,
          0,
          0,
          0,
          0,
          2,
          0,
          6,
          0,
          0,
          0,
          0,
          0,
          0,
          6,
          0,
          3,
          0,
          0,
          4,
          2,
          3,
          8,
          14,
          1,
          0,
          0,
          0,
          0,
          0,
          0,
          0,
          166,
          0,
          0,
          0,
          0,
          0,
          0,
          0,
          0,
          28,
          0,
          0,
          0,
          0,
          0,
          0,
          0,
          0,
          3,
          10,
          5,
          10,
          2,
          0,
          0,
          0,
          0,
          1,
          17,
          3,
          22,
          13,
          3,
          3,
          5,
          5,
          11,
          8,
          0,
          0,
          0,
          0,
          0,
          0,
          0,
          14,
          0,
          0,
          0,
          0,
          0,
          0,
          0,
          0,
          19,
          0,
          0,
          0,
          0,
          0,
          0,
          0,
          0,
          0,
          0,
          1,
          0,
          0,
          0,
          0,
          0,
          0,
          7,
          0,
          8,
          0,
          0,
          9,
          4,
          4,
          2,
          2,
          0,
          0,
          0,
          0,
          0,
          0,
          0,
          0,
          1,
          0,
          0,
          0,
          0,
          0,
          0,
          0,
          0,
          9,
          0,
          0,
          0,
          0,
          0,
          0,
          0,
          0,
          1,
          1,
          0,
          1,
          7,
          0,
          0,
          0,
          0,
          8,
          15,
          10,
          8,
          6,
          9,
          12,
          8,
          7,
          15,
          23,
          0,
          0,
          0,
          0,
          0,
          0,
          0,
          9,
          0,
          0,
          0,
          0,
          0,
          0,
          0,
          0,
          13,
          0,
          0,
          0,
          0,
          0,
          0,
          0,
          0,
          0,
          0,
          1,
          0,
          0,
          0,
          0,
          0,
          0,
          11,
          4,
          11,
          2,
          3,
          8,
          7,
          14,
          13,
          12,
          1,
          0,
          0,
          0,
          0,
          0,
          0,
          0,
          1,
          0,
          0,
          0,
          0,
          0,
          0,
          0,
          0,
          7,
          0,
          0,
          0,
          0,
          0,
          0,
          0,
          0,
          0,
          8,
          3,
          8,
          12,
          0,
          0,
          0,
          0,
          2,
          13,
          4,
          15,
          16,
          7,
          5,
          5,
          2,
          15,
          67,
          0,
          0,
          0,
          0,
          0,
          0,
          0,
          1,
          0,
          0,
          0,
          0,
          0,
          0,
          0,
          0,
          7,
          0,
          0,
          0,
          0,
          0,
          0,
          0,
          0,
          0,
          0,
          1,
          0,
          0,
          0,
          0,
          0,
          0,
          7,
          0,
          12,
          1,
          0,
          3,
          6,
          4,
          7,
          16,
          7,
          0,
          0,
          0,
          0,
          0,
          0,
          0,
          1,
          0,
          0,
          0,
          0,
          0,
          0,
          0,
          0,
          4,
          0,
          0,
          0,
          0,
          0,
          0,
          0,
          0,
          1,
          5,
          6,
          5,
          26,
          0,
          0,
          0,
          0,
          9,
          31,
          18,
          34,
          35,
          5,
          17,
          13,
          12,
          13,
          17,
          0,
          0,
          0,
          0,
          0,
          0,
          0,
          0,
          0,
          0,
          0,
          0,
          0,
          0,
          0,
          0,
          10,
          0,
          0,
          0,
          0,
          0,
          0,
          0,
          0,
          14,
          0,
          20,
          0,
          0,
          0,
          0,
          0,
          0,
          19,
          4,
          16,
          4,
          1,
          17,
          24,
          20,
          15,
          12,
          2,
          0,
          0,
          0,
          0,
          0,
          0,
          0,
          0,
          0,
          0,
          0,
          0,
          0,
          0,
          0,
          0,
          9,
          0,
          0,
          0,
          0,
          0,
          0,
          0,
          0,
          1,
          8,
          1,
          8,
          22,
          0,
          0,
          0,
          0,
          19,
          26,
          16,
          27,
          29,
          16,
          16,
          10,
          15,
          29,
          22,
          0,
          0,
          0,
          0,
          0,
          0,
          0,
          1,
          0,
          0,
          0,
          0,
          0,
          0,
          0,
          0,
          8,
          0,
          0,
          0,
          0,
          0,
          0,
          0,
          0,
          16,
          0,
          22,
          0,
          0,
          0,
          0,
          0,
          0,
          18,
          1,
          18,
          1,
          1,
          15,
          11,
          9,
          12,
          7,
          0,
          0,
          0,
          0,
          0,
          0,
          0,
          0,
          0,
          0,
          0,
          0,
          0,
          0,
          0,
          0,
          0,
          4,
          0,
          0,
          0,
          0,
          0,
          0,
          0,
          0,
          147,
          141,
          134,
          141,
          89,
          0,
          0,
          0,
          0,
          37,
          21,
          31,
          19,
          14,
          29,
          51,
          33,
          42,
          2,
          0,
          0,
          0,
          0,
          0,
          0,
          0,
          0,
          0,
          0,
          0,
          0,
          0,
          0,
          0,
          0,
          0,
          11,
          0,
          0,
          0,
          0,
          0,
          0,
          0,
          0
         ],
         "y0": " ",
         "yaxis": "y"
        }
       ],
       "layout": {
        "boxmode": "group",
        "legend": {
         "title": {
          "text": "labeled_hateful"
         },
         "tracegroupgap": 0
        },
        "margin": {
         "t": 60
        },
        "template": {
         "data": {
          "bar": [
           {
            "error_x": {
             "color": "#2a3f5f"
            },
            "error_y": {
             "color": "#2a3f5f"
            },
            "marker": {
             "line": {
              "color": "#E5ECF6",
              "width": 0.5
             },
             "pattern": {
              "fillmode": "overlay",
              "size": 10,
              "solidity": 0.2
             }
            },
            "type": "bar"
           }
          ],
          "barpolar": [
           {
            "marker": {
             "line": {
              "color": "#E5ECF6",
              "width": 0.5
             },
             "pattern": {
              "fillmode": "overlay",
              "size": 10,
              "solidity": 0.2
             }
            },
            "type": "barpolar"
           }
          ],
          "carpet": [
           {
            "aaxis": {
             "endlinecolor": "#2a3f5f",
             "gridcolor": "white",
             "linecolor": "white",
             "minorgridcolor": "white",
             "startlinecolor": "#2a3f5f"
            },
            "baxis": {
             "endlinecolor": "#2a3f5f",
             "gridcolor": "white",
             "linecolor": "white",
             "minorgridcolor": "white",
             "startlinecolor": "#2a3f5f"
            },
            "type": "carpet"
           }
          ],
          "choropleth": [
           {
            "colorbar": {
             "outlinewidth": 0,
             "ticks": ""
            },
            "type": "choropleth"
           }
          ],
          "contour": [
           {
            "colorbar": {
             "outlinewidth": 0,
             "ticks": ""
            },
            "colorscale": [
             [
              0,
              "#0d0887"
             ],
             [
              0.1111111111111111,
              "#46039f"
             ],
             [
              0.2222222222222222,
              "#7201a8"
             ],
             [
              0.3333333333333333,
              "#9c179e"
             ],
             [
              0.4444444444444444,
              "#bd3786"
             ],
             [
              0.5555555555555556,
              "#d8576b"
             ],
             [
              0.6666666666666666,
              "#ed7953"
             ],
             [
              0.7777777777777778,
              "#fb9f3a"
             ],
             [
              0.8888888888888888,
              "#fdca26"
             ],
             [
              1,
              "#f0f921"
             ]
            ],
            "type": "contour"
           }
          ],
          "contourcarpet": [
           {
            "colorbar": {
             "outlinewidth": 0,
             "ticks": ""
            },
            "type": "contourcarpet"
           }
          ],
          "heatmap": [
           {
            "colorbar": {
             "outlinewidth": 0,
             "ticks": ""
            },
            "colorscale": [
             [
              0,
              "#0d0887"
             ],
             [
              0.1111111111111111,
              "#46039f"
             ],
             [
              0.2222222222222222,
              "#7201a8"
             ],
             [
              0.3333333333333333,
              "#9c179e"
             ],
             [
              0.4444444444444444,
              "#bd3786"
             ],
             [
              0.5555555555555556,
              "#d8576b"
             ],
             [
              0.6666666666666666,
              "#ed7953"
             ],
             [
              0.7777777777777778,
              "#fb9f3a"
             ],
             [
              0.8888888888888888,
              "#fdca26"
             ],
             [
              1,
              "#f0f921"
             ]
            ],
            "type": "heatmap"
           }
          ],
          "heatmapgl": [
           {
            "colorbar": {
             "outlinewidth": 0,
             "ticks": ""
            },
            "colorscale": [
             [
              0,
              "#0d0887"
             ],
             [
              0.1111111111111111,
              "#46039f"
             ],
             [
              0.2222222222222222,
              "#7201a8"
             ],
             [
              0.3333333333333333,
              "#9c179e"
             ],
             [
              0.4444444444444444,
              "#bd3786"
             ],
             [
              0.5555555555555556,
              "#d8576b"
             ],
             [
              0.6666666666666666,
              "#ed7953"
             ],
             [
              0.7777777777777778,
              "#fb9f3a"
             ],
             [
              0.8888888888888888,
              "#fdca26"
             ],
             [
              1,
              "#f0f921"
             ]
            ],
            "type": "heatmapgl"
           }
          ],
          "histogram": [
           {
            "marker": {
             "pattern": {
              "fillmode": "overlay",
              "size": 10,
              "solidity": 0.2
             }
            },
            "type": "histogram"
           }
          ],
          "histogram2d": [
           {
            "colorbar": {
             "outlinewidth": 0,
             "ticks": ""
            },
            "colorscale": [
             [
              0,
              "#0d0887"
             ],
             [
              0.1111111111111111,
              "#46039f"
             ],
             [
              0.2222222222222222,
              "#7201a8"
             ],
             [
              0.3333333333333333,
              "#9c179e"
             ],
             [
              0.4444444444444444,
              "#bd3786"
             ],
             [
              0.5555555555555556,
              "#d8576b"
             ],
             [
              0.6666666666666666,
              "#ed7953"
             ],
             [
              0.7777777777777778,
              "#fb9f3a"
             ],
             [
              0.8888888888888888,
              "#fdca26"
             ],
             [
              1,
              "#f0f921"
             ]
            ],
            "type": "histogram2d"
           }
          ],
          "histogram2dcontour": [
           {
            "colorbar": {
             "outlinewidth": 0,
             "ticks": ""
            },
            "colorscale": [
             [
              0,
              "#0d0887"
             ],
             [
              0.1111111111111111,
              "#46039f"
             ],
             [
              0.2222222222222222,
              "#7201a8"
             ],
             [
              0.3333333333333333,
              "#9c179e"
             ],
             [
              0.4444444444444444,
              "#bd3786"
             ],
             [
              0.5555555555555556,
              "#d8576b"
             ],
             [
              0.6666666666666666,
              "#ed7953"
             ],
             [
              0.7777777777777778,
              "#fb9f3a"
             ],
             [
              0.8888888888888888,
              "#fdca26"
             ],
             [
              1,
              "#f0f921"
             ]
            ],
            "type": "histogram2dcontour"
           }
          ],
          "mesh3d": [
           {
            "colorbar": {
             "outlinewidth": 0,
             "ticks": ""
            },
            "type": "mesh3d"
           }
          ],
          "parcoords": [
           {
            "line": {
             "colorbar": {
              "outlinewidth": 0,
              "ticks": ""
             }
            },
            "type": "parcoords"
           }
          ],
          "pie": [
           {
            "automargin": true,
            "type": "pie"
           }
          ],
          "scatter": [
           {
            "fillpattern": {
             "fillmode": "overlay",
             "size": 10,
             "solidity": 0.2
            },
            "type": "scatter"
           }
          ],
          "scatter3d": [
           {
            "line": {
             "colorbar": {
              "outlinewidth": 0,
              "ticks": ""
             }
            },
            "marker": {
             "colorbar": {
              "outlinewidth": 0,
              "ticks": ""
             }
            },
            "type": "scatter3d"
           }
          ],
          "scattercarpet": [
           {
            "marker": {
             "colorbar": {
              "outlinewidth": 0,
              "ticks": ""
             }
            },
            "type": "scattercarpet"
           }
          ],
          "scattergeo": [
           {
            "marker": {
             "colorbar": {
              "outlinewidth": 0,
              "ticks": ""
             }
            },
            "type": "scattergeo"
           }
          ],
          "scattergl": [
           {
            "marker": {
             "colorbar": {
              "outlinewidth": 0,
              "ticks": ""
             }
            },
            "type": "scattergl"
           }
          ],
          "scattermapbox": [
           {
            "marker": {
             "colorbar": {
              "outlinewidth": 0,
              "ticks": ""
             }
            },
            "type": "scattermapbox"
           }
          ],
          "scatterpolar": [
           {
            "marker": {
             "colorbar": {
              "outlinewidth": 0,
              "ticks": ""
             }
            },
            "type": "scatterpolar"
           }
          ],
          "scatterpolargl": [
           {
            "marker": {
             "colorbar": {
              "outlinewidth": 0,
              "ticks": ""
             }
            },
            "type": "scatterpolargl"
           }
          ],
          "scatterternary": [
           {
            "marker": {
             "colorbar": {
              "outlinewidth": 0,
              "ticks": ""
             }
            },
            "type": "scatterternary"
           }
          ],
          "surface": [
           {
            "colorbar": {
             "outlinewidth": 0,
             "ticks": ""
            },
            "colorscale": [
             [
              0,
              "#0d0887"
             ],
             [
              0.1111111111111111,
              "#46039f"
             ],
             [
              0.2222222222222222,
              "#7201a8"
             ],
             [
              0.3333333333333333,
              "#9c179e"
             ],
             [
              0.4444444444444444,
              "#bd3786"
             ],
             [
              0.5555555555555556,
              "#d8576b"
             ],
             [
              0.6666666666666666,
              "#ed7953"
             ],
             [
              0.7777777777777778,
              "#fb9f3a"
             ],
             [
              0.8888888888888888,
              "#fdca26"
             ],
             [
              1,
              "#f0f921"
             ]
            ],
            "type": "surface"
           }
          ],
          "table": [
           {
            "cells": {
             "fill": {
              "color": "#EBF0F8"
             },
             "line": {
              "color": "white"
             }
            },
            "header": {
             "fill": {
              "color": "#C8D4E3"
             },
             "line": {
              "color": "white"
             }
            },
            "type": "table"
           }
          ]
         },
         "layout": {
          "annotationdefaults": {
           "arrowcolor": "#2a3f5f",
           "arrowhead": 0,
           "arrowwidth": 1
          },
          "autotypenumbers": "strict",
          "coloraxis": {
           "colorbar": {
            "outlinewidth": 0,
            "ticks": ""
           }
          },
          "colorscale": {
           "diverging": [
            [
             0,
             "#8e0152"
            ],
            [
             0.1,
             "#c51b7d"
            ],
            [
             0.2,
             "#de77ae"
            ],
            [
             0.3,
             "#f1b6da"
            ],
            [
             0.4,
             "#fde0ef"
            ],
            [
             0.5,
             "#f7f7f7"
            ],
            [
             0.6,
             "#e6f5d0"
            ],
            [
             0.7,
             "#b8e186"
            ],
            [
             0.8,
             "#7fbc41"
            ],
            [
             0.9,
             "#4d9221"
            ],
            [
             1,
             "#276419"
            ]
           ],
           "sequential": [
            [
             0,
             "#0d0887"
            ],
            [
             0.1111111111111111,
             "#46039f"
            ],
            [
             0.2222222222222222,
             "#7201a8"
            ],
            [
             0.3333333333333333,
             "#9c179e"
            ],
            [
             0.4444444444444444,
             "#bd3786"
            ],
            [
             0.5555555555555556,
             "#d8576b"
            ],
            [
             0.6666666666666666,
             "#ed7953"
            ],
            [
             0.7777777777777778,
             "#fb9f3a"
            ],
            [
             0.8888888888888888,
             "#fdca26"
            ],
            [
             1,
             "#f0f921"
            ]
           ],
           "sequentialminus": [
            [
             0,
             "#0d0887"
            ],
            [
             0.1111111111111111,
             "#46039f"
            ],
            [
             0.2222222222222222,
             "#7201a8"
            ],
            [
             0.3333333333333333,
             "#9c179e"
            ],
            [
             0.4444444444444444,
             "#bd3786"
            ],
            [
             0.5555555555555556,
             "#d8576b"
            ],
            [
             0.6666666666666666,
             "#ed7953"
            ],
            [
             0.7777777777777778,
             "#fb9f3a"
            ],
            [
             0.8888888888888888,
             "#fdca26"
            ],
            [
             1,
             "#f0f921"
            ]
           ]
          },
          "colorway": [
           "#636efa",
           "#EF553B",
           "#00cc96",
           "#ab63fa",
           "#FFA15A",
           "#19d3f3",
           "#FF6692",
           "#B6E880",
           "#FF97FF",
           "#FECB52"
          ],
          "font": {
           "color": "#2a3f5f"
          },
          "geo": {
           "bgcolor": "white",
           "lakecolor": "white",
           "landcolor": "#E5ECF6",
           "showlakes": true,
           "showland": true,
           "subunitcolor": "white"
          },
          "hoverlabel": {
           "align": "left"
          },
          "hovermode": "closest",
          "mapbox": {
           "style": "light"
          },
          "paper_bgcolor": "white",
          "plot_bgcolor": "#E5ECF6",
          "polar": {
           "angularaxis": {
            "gridcolor": "white",
            "linecolor": "white",
            "ticks": ""
           },
           "bgcolor": "#E5ECF6",
           "radialaxis": {
            "gridcolor": "white",
            "linecolor": "white",
            "ticks": ""
           }
          },
          "scene": {
           "xaxis": {
            "backgroundcolor": "#E5ECF6",
            "gridcolor": "white",
            "gridwidth": 2,
            "linecolor": "white",
            "showbackground": true,
            "ticks": "",
            "zerolinecolor": "white"
           },
           "yaxis": {
            "backgroundcolor": "#E5ECF6",
            "gridcolor": "white",
            "gridwidth": 2,
            "linecolor": "white",
            "showbackground": true,
            "ticks": "",
            "zerolinecolor": "white"
           },
           "zaxis": {
            "backgroundcolor": "#E5ECF6",
            "gridcolor": "white",
            "gridwidth": 2,
            "linecolor": "white",
            "showbackground": true,
            "ticks": "",
            "zerolinecolor": "white"
           }
          },
          "shapedefaults": {
           "line": {
            "color": "#2a3f5f"
           }
          },
          "ternary": {
           "aaxis": {
            "gridcolor": "white",
            "linecolor": "white",
            "ticks": ""
           },
           "baxis": {
            "gridcolor": "white",
            "linecolor": "white",
            "ticks": ""
           },
           "bgcolor": "#E5ECF6",
           "caxis": {
            "gridcolor": "white",
            "linecolor": "white",
            "ticks": ""
           }
          },
          "title": {
           "x": 0.05
          },
          "xaxis": {
           "automargin": true,
           "gridcolor": "white",
           "linecolor": "white",
           "ticks": "",
           "title": {
            "standoff": 15
           },
           "zerolinecolor": "white",
           "zerolinewidth": 2
          },
          "yaxis": {
           "automargin": true,
           "gridcolor": "white",
           "linecolor": "white",
           "ticks": "",
           "title": {
            "standoff": 15
           },
           "zerolinecolor": "white",
           "zerolinewidth": 2
          }
         }
        },
        "xaxis": {
         "anchor": "y",
         "domain": [
          0,
          1
         ],
         "title": {
          "text": "bin"
         }
        },
        "yaxis": {
         "anchor": "x",
         "domain": [
          0,
          1
         ],
         "title": {
          "text": "text"
         }
        }
       }
      }
     },
     "metadata": {},
     "output_type": "display_data"
    }
   ],
   "source": [
    "import numpy as np\n",
    "import plotly.express as px\n",
    "\n",
    "df[\"bin\"] = pd.cut(df['hate_speech_probability'] * 100, bins=np.arange(0, 105, 5), include_lowest=True)\n",
    "df['bin'] = df[\"bin\"].apply(lambda bin: str(bin))\n",
    "\n",
    "df_grouped = df.groupby([\"bin\", \"model\", \"prompt_id\", \"labeled_hateful\"]).count().reset_index()\n",
    "fig = px.box(df_grouped, x=\"bin\", y=\"text\", color=\"labeled_hateful\", hover_name=\"model\")\n",
    "fig.show()"
   ]
  },
  {
   "cell_type": "code",
   "execution_count": 6,
   "metadata": {
    "collapsed": false
   },
   "outputs": [
    {
     "name": "stderr",
     "output_type": "stream",
     "text": [
      "C:\\Users\\michi\\AppData\\Local\\Temp/ipykernel_2052/888494279.py:8: FutureWarning:\n",
      "\n",
      "The default of observed=False is deprecated and will be changed to True in a future version of pandas. Pass observed=False to retain current behavior or observed=True to adopt the future default and silence this warning.\n",
      "\n"
     ]
    },
    {
     "data": {
      "application/vnd.plotly.v1+json": {
       "config": {
        "plotlyServerURL": "https://plot.ly"
       },
       "data": [
        {
         "customdata": [
          [
           0
          ],
          [
           1
          ],
          [
           2
          ],
          [
           3
          ],
          [
           4
          ],
          [
           5
          ],
          [
           6
          ],
          [
           7
          ],
          [
           8
          ],
          [
           0
          ],
          [
           1
          ],
          [
           2
          ],
          [
           3
          ],
          [
           4
          ],
          [
           5
          ],
          [
           6
          ],
          [
           7
          ],
          [
           8
          ],
          [
           0
          ],
          [
           1
          ],
          [
           2
          ],
          [
           3
          ],
          [
           4
          ],
          [
           5
          ],
          [
           6
          ],
          [
           7
          ],
          [
           8
          ],
          [
           0
          ],
          [
           1
          ],
          [
           2
          ],
          [
           3
          ],
          [
           4
          ],
          [
           5
          ],
          [
           6
          ],
          [
           7
          ],
          [
           8
          ],
          [
           0
          ],
          [
           1
          ],
          [
           2
          ],
          [
           3
          ],
          [
           4
          ],
          [
           5
          ],
          [
           6
          ],
          [
           7
          ],
          [
           8
          ],
          [
           0
          ],
          [
           1
          ],
          [
           2
          ],
          [
           3
          ],
          [
           4
          ],
          [
           5
          ],
          [
           6
          ],
          [
           7
          ],
          [
           8
          ],
          [
           0
          ],
          [
           1
          ],
          [
           2
          ],
          [
           3
          ],
          [
           4
          ],
          [
           5
          ],
          [
           6
          ],
          [
           7
          ],
          [
           8
          ],
          [
           0
          ],
          [
           1
          ],
          [
           2
          ],
          [
           3
          ],
          [
           4
          ],
          [
           5
          ],
          [
           6
          ],
          [
           7
          ],
          [
           8
          ],
          [
           0
          ],
          [
           1
          ],
          [
           2
          ],
          [
           3
          ],
          [
           4
          ],
          [
           5
          ],
          [
           6
          ],
          [
           7
          ],
          [
           8
          ],
          [
           0
          ],
          [
           1
          ],
          [
           2
          ],
          [
           3
          ],
          [
           4
          ],
          [
           5
          ],
          [
           6
          ],
          [
           7
          ],
          [
           8
          ]
         ],
         "hovertemplate": "<b>%{hovertext}</b><br><br>model=fine-tuned-mistral-7b-v0.2-instruct<br>bin=%{x}<br>text=%{y}<br>prompt_id=%{customdata[0]}<extra></extra>",
         "hovertext": [
          "fine-tuned-mistral-7b-v0.2-instruct",
          "fine-tuned-mistral-7b-v0.2-instruct",
          "fine-tuned-mistral-7b-v0.2-instruct",
          "fine-tuned-mistral-7b-v0.2-instruct",
          "fine-tuned-mistral-7b-v0.2-instruct",
          "fine-tuned-mistral-7b-v0.2-instruct",
          "fine-tuned-mistral-7b-v0.2-instruct",
          "fine-tuned-mistral-7b-v0.2-instruct",
          "fine-tuned-mistral-7b-v0.2-instruct",
          "fine-tuned-mistral-7b-v0.2-instruct",
          "fine-tuned-mistral-7b-v0.2-instruct",
          "fine-tuned-mistral-7b-v0.2-instruct",
          "fine-tuned-mistral-7b-v0.2-instruct",
          "fine-tuned-mistral-7b-v0.2-instruct",
          "fine-tuned-mistral-7b-v0.2-instruct",
          "fine-tuned-mistral-7b-v0.2-instruct",
          "fine-tuned-mistral-7b-v0.2-instruct",
          "fine-tuned-mistral-7b-v0.2-instruct",
          "fine-tuned-mistral-7b-v0.2-instruct",
          "fine-tuned-mistral-7b-v0.2-instruct",
          "fine-tuned-mistral-7b-v0.2-instruct",
          "fine-tuned-mistral-7b-v0.2-instruct",
          "fine-tuned-mistral-7b-v0.2-instruct",
          "fine-tuned-mistral-7b-v0.2-instruct",
          "fine-tuned-mistral-7b-v0.2-instruct",
          "fine-tuned-mistral-7b-v0.2-instruct",
          "fine-tuned-mistral-7b-v0.2-instruct",
          "fine-tuned-mistral-7b-v0.2-instruct",
          "fine-tuned-mistral-7b-v0.2-instruct",
          "fine-tuned-mistral-7b-v0.2-instruct",
          "fine-tuned-mistral-7b-v0.2-instruct",
          "fine-tuned-mistral-7b-v0.2-instruct",
          "fine-tuned-mistral-7b-v0.2-instruct",
          "fine-tuned-mistral-7b-v0.2-instruct",
          "fine-tuned-mistral-7b-v0.2-instruct",
          "fine-tuned-mistral-7b-v0.2-instruct",
          "fine-tuned-mistral-7b-v0.2-instruct",
          "fine-tuned-mistral-7b-v0.2-instruct",
          "fine-tuned-mistral-7b-v0.2-instruct",
          "fine-tuned-mistral-7b-v0.2-instruct",
          "fine-tuned-mistral-7b-v0.2-instruct",
          "fine-tuned-mistral-7b-v0.2-instruct",
          "fine-tuned-mistral-7b-v0.2-instruct",
          "fine-tuned-mistral-7b-v0.2-instruct",
          "fine-tuned-mistral-7b-v0.2-instruct",
          "fine-tuned-mistral-7b-v0.2-instruct",
          "fine-tuned-mistral-7b-v0.2-instruct",
          "fine-tuned-mistral-7b-v0.2-instruct",
          "fine-tuned-mistral-7b-v0.2-instruct",
          "fine-tuned-mistral-7b-v0.2-instruct",
          "fine-tuned-mistral-7b-v0.2-instruct",
          "fine-tuned-mistral-7b-v0.2-instruct",
          "fine-tuned-mistral-7b-v0.2-instruct",
          "fine-tuned-mistral-7b-v0.2-instruct",
          "fine-tuned-mistral-7b-v0.2-instruct",
          "fine-tuned-mistral-7b-v0.2-instruct",
          "fine-tuned-mistral-7b-v0.2-instruct",
          "fine-tuned-mistral-7b-v0.2-instruct",
          "fine-tuned-mistral-7b-v0.2-instruct",
          "fine-tuned-mistral-7b-v0.2-instruct",
          "fine-tuned-mistral-7b-v0.2-instruct",
          "fine-tuned-mistral-7b-v0.2-instruct",
          "fine-tuned-mistral-7b-v0.2-instruct",
          "fine-tuned-mistral-7b-v0.2-instruct",
          "fine-tuned-mistral-7b-v0.2-instruct",
          "fine-tuned-mistral-7b-v0.2-instruct",
          "fine-tuned-mistral-7b-v0.2-instruct",
          "fine-tuned-mistral-7b-v0.2-instruct",
          "fine-tuned-mistral-7b-v0.2-instruct",
          "fine-tuned-mistral-7b-v0.2-instruct",
          "fine-tuned-mistral-7b-v0.2-instruct",
          "fine-tuned-mistral-7b-v0.2-instruct",
          "fine-tuned-mistral-7b-v0.2-instruct",
          "fine-tuned-mistral-7b-v0.2-instruct",
          "fine-tuned-mistral-7b-v0.2-instruct",
          "fine-tuned-mistral-7b-v0.2-instruct",
          "fine-tuned-mistral-7b-v0.2-instruct",
          "fine-tuned-mistral-7b-v0.2-instruct",
          "fine-tuned-mistral-7b-v0.2-instruct",
          "fine-tuned-mistral-7b-v0.2-instruct",
          "fine-tuned-mistral-7b-v0.2-instruct",
          "fine-tuned-mistral-7b-v0.2-instruct",
          "fine-tuned-mistral-7b-v0.2-instruct",
          "fine-tuned-mistral-7b-v0.2-instruct",
          "fine-tuned-mistral-7b-v0.2-instruct",
          "fine-tuned-mistral-7b-v0.2-instruct",
          "fine-tuned-mistral-7b-v0.2-instruct",
          "fine-tuned-mistral-7b-v0.2-instruct",
          "fine-tuned-mistral-7b-v0.2-instruct",
          "fine-tuned-mistral-7b-v0.2-instruct"
         ],
         "legendgroup": "fine-tuned-mistral-7b-v0.2-instruct",
         "marker": {
          "color": "#636efa",
          "symbol": "circle"
         },
         "mode": "markers",
         "name": "fine-tuned-mistral-7b-v0.2-instruct",
         "orientation": "v",
         "showlegend": true,
         "type": "scatter",
         "x": [
          "(-0.001, 10.0]",
          "(-0.001, 10.0]",
          "(-0.001, 10.0]",
          "(-0.001, 10.0]",
          "(-0.001, 10.0]",
          "(-0.001, 10.0]",
          "(-0.001, 10.0]",
          "(-0.001, 10.0]",
          "(-0.001, 10.0]",
          "(10.0, 20.0]",
          "(10.0, 20.0]",
          "(10.0, 20.0]",
          "(10.0, 20.0]",
          "(10.0, 20.0]",
          "(10.0, 20.0]",
          "(10.0, 20.0]",
          "(10.0, 20.0]",
          "(10.0, 20.0]",
          "(20.0, 30.0]",
          "(20.0, 30.0]",
          "(20.0, 30.0]",
          "(20.0, 30.0]",
          "(20.0, 30.0]",
          "(20.0, 30.0]",
          "(20.0, 30.0]",
          "(20.0, 30.0]",
          "(20.0, 30.0]",
          "(30.0, 40.0]",
          "(30.0, 40.0]",
          "(30.0, 40.0]",
          "(30.0, 40.0]",
          "(30.0, 40.0]",
          "(30.0, 40.0]",
          "(30.0, 40.0]",
          "(30.0, 40.0]",
          "(30.0, 40.0]",
          "(40.0, 50.0]",
          "(40.0, 50.0]",
          "(40.0, 50.0]",
          "(40.0, 50.0]",
          "(40.0, 50.0]",
          "(40.0, 50.0]",
          "(40.0, 50.0]",
          "(40.0, 50.0]",
          "(40.0, 50.0]",
          "(50.0, 60.0]",
          "(50.0, 60.0]",
          "(50.0, 60.0]",
          "(50.0, 60.0]",
          "(50.0, 60.0]",
          "(50.0, 60.0]",
          "(50.0, 60.0]",
          "(50.0, 60.0]",
          "(50.0, 60.0]",
          "(60.0, 70.0]",
          "(60.0, 70.0]",
          "(60.0, 70.0]",
          "(60.0, 70.0]",
          "(60.0, 70.0]",
          "(60.0, 70.0]",
          "(60.0, 70.0]",
          "(60.0, 70.0]",
          "(60.0, 70.0]",
          "(70.0, 80.0]",
          "(70.0, 80.0]",
          "(70.0, 80.0]",
          "(70.0, 80.0]",
          "(70.0, 80.0]",
          "(70.0, 80.0]",
          "(70.0, 80.0]",
          "(70.0, 80.0]",
          "(70.0, 80.0]",
          "(80.0, 90.0]",
          "(80.0, 90.0]",
          "(80.0, 90.0]",
          "(80.0, 90.0]",
          "(80.0, 90.0]",
          "(80.0, 90.0]",
          "(80.0, 90.0]",
          "(80.0, 90.0]",
          "(80.0, 90.0]",
          "(90.0, 100.0]",
          "(90.0, 100.0]",
          "(90.0, 100.0]",
          "(90.0, 100.0]",
          "(90.0, 100.0]",
          "(90.0, 100.0]",
          "(90.0, 100.0]",
          "(90.0, 100.0]",
          "(90.0, 100.0]"
         ],
         "xaxis": "x",
         "y": [
          194,
          183,
          192,
          183,
          203,
          0,
          0,
          0,
          0,
          4,
          2,
          1,
          2,
          2,
          0,
          0,
          0,
          0,
          3,
          7,
          1,
          7,
          9,
          0,
          0,
          0,
          0,
          2,
          6,
          1,
          6,
          1,
          0,
          0,
          0,
          0,
          2,
          2,
          6,
          2,
          3,
          0,
          0,
          0,
          0,
          0,
          1,
          0,
          1,
          2,
          0,
          0,
          0,
          0,
          1,
          4,
          0,
          4,
          1,
          0,
          0,
          0,
          0,
          0,
          2,
          0,
          2,
          1,
          0,
          0,
          0,
          0,
          2,
          1,
          10,
          1,
          0,
          0,
          0,
          0,
          0,
          31,
          30,
          28,
          30,
          15,
          0,
          0,
          0,
          0
         ],
         "yaxis": "y"
        },
        {
         "customdata": [
          [
           0
          ],
          [
           1
          ],
          [
           2
          ],
          [
           3
          ],
          [
           4
          ],
          [
           5
          ],
          [
           6
          ],
          [
           7
          ],
          [
           8
          ],
          [
           0
          ],
          [
           1
          ],
          [
           2
          ],
          [
           3
          ],
          [
           4
          ],
          [
           5
          ],
          [
           6
          ],
          [
           7
          ],
          [
           8
          ],
          [
           0
          ],
          [
           1
          ],
          [
           2
          ],
          [
           3
          ],
          [
           4
          ],
          [
           5
          ],
          [
           6
          ],
          [
           7
          ],
          [
           8
          ],
          [
           0
          ],
          [
           1
          ],
          [
           2
          ],
          [
           3
          ],
          [
           4
          ],
          [
           5
          ],
          [
           6
          ],
          [
           7
          ],
          [
           8
          ],
          [
           0
          ],
          [
           1
          ],
          [
           2
          ],
          [
           3
          ],
          [
           4
          ],
          [
           5
          ],
          [
           6
          ],
          [
           7
          ],
          [
           8
          ],
          [
           0
          ],
          [
           1
          ],
          [
           2
          ],
          [
           3
          ],
          [
           4
          ],
          [
           5
          ],
          [
           6
          ],
          [
           7
          ],
          [
           8
          ],
          [
           0
          ],
          [
           1
          ],
          [
           2
          ],
          [
           3
          ],
          [
           4
          ],
          [
           5
          ],
          [
           6
          ],
          [
           7
          ],
          [
           8
          ],
          [
           0
          ],
          [
           1
          ],
          [
           2
          ],
          [
           3
          ],
          [
           4
          ],
          [
           5
          ],
          [
           6
          ],
          [
           7
          ],
          [
           8
          ],
          [
           0
          ],
          [
           1
          ],
          [
           2
          ],
          [
           3
          ],
          [
           4
          ],
          [
           5
          ],
          [
           6
          ],
          [
           7
          ],
          [
           8
          ],
          [
           0
          ],
          [
           1
          ],
          [
           2
          ],
          [
           3
          ],
          [
           4
          ],
          [
           5
          ],
          [
           6
          ],
          [
           7
          ],
          [
           8
          ]
         ],
         "hovertemplate": "<b>%{hovertext}</b><br><br>model=mistral-7b-instruct<br>bin=%{x}<br>text=%{y}<br>prompt_id=%{customdata[0]}<extra></extra>",
         "hovertext": [
          "mistral-7b-instruct",
          "mistral-7b-instruct",
          "mistral-7b-instruct",
          "mistral-7b-instruct",
          "mistral-7b-instruct",
          "mistral-7b-instruct",
          "mistral-7b-instruct",
          "mistral-7b-instruct",
          "mistral-7b-instruct",
          "mistral-7b-instruct",
          "mistral-7b-instruct",
          "mistral-7b-instruct",
          "mistral-7b-instruct",
          "mistral-7b-instruct",
          "mistral-7b-instruct",
          "mistral-7b-instruct",
          "mistral-7b-instruct",
          "mistral-7b-instruct",
          "mistral-7b-instruct",
          "mistral-7b-instruct",
          "mistral-7b-instruct",
          "mistral-7b-instruct",
          "mistral-7b-instruct",
          "mistral-7b-instruct",
          "mistral-7b-instruct",
          "mistral-7b-instruct",
          "mistral-7b-instruct",
          "mistral-7b-instruct",
          "mistral-7b-instruct",
          "mistral-7b-instruct",
          "mistral-7b-instruct",
          "mistral-7b-instruct",
          "mistral-7b-instruct",
          "mistral-7b-instruct",
          "mistral-7b-instruct",
          "mistral-7b-instruct",
          "mistral-7b-instruct",
          "mistral-7b-instruct",
          "mistral-7b-instruct",
          "mistral-7b-instruct",
          "mistral-7b-instruct",
          "mistral-7b-instruct",
          "mistral-7b-instruct",
          "mistral-7b-instruct",
          "mistral-7b-instruct",
          "mistral-7b-instruct",
          "mistral-7b-instruct",
          "mistral-7b-instruct",
          "mistral-7b-instruct",
          "mistral-7b-instruct",
          "mistral-7b-instruct",
          "mistral-7b-instruct",
          "mistral-7b-instruct",
          "mistral-7b-instruct",
          "mistral-7b-instruct",
          "mistral-7b-instruct",
          "mistral-7b-instruct",
          "mistral-7b-instruct",
          "mistral-7b-instruct",
          "mistral-7b-instruct",
          "mistral-7b-instruct",
          "mistral-7b-instruct",
          "mistral-7b-instruct",
          "mistral-7b-instruct",
          "mistral-7b-instruct",
          "mistral-7b-instruct",
          "mistral-7b-instruct",
          "mistral-7b-instruct",
          "mistral-7b-instruct",
          "mistral-7b-instruct",
          "mistral-7b-instruct",
          "mistral-7b-instruct",
          "mistral-7b-instruct",
          "mistral-7b-instruct",
          "mistral-7b-instruct",
          "mistral-7b-instruct",
          "mistral-7b-instruct",
          "mistral-7b-instruct",
          "mistral-7b-instruct",
          "mistral-7b-instruct",
          "mistral-7b-instruct",
          "mistral-7b-instruct",
          "mistral-7b-instruct",
          "mistral-7b-instruct",
          "mistral-7b-instruct",
          "mistral-7b-instruct",
          "mistral-7b-instruct",
          "mistral-7b-instruct",
          "mistral-7b-instruct",
          "mistral-7b-instruct"
         ],
         "legendgroup": "mistral-7b-instruct",
         "marker": {
          "color": "#EF553B",
          "symbol": "circle"
         },
         "mode": "markers",
         "name": "mistral-7b-instruct",
         "orientation": "v",
         "showlegend": true,
         "type": "scatter",
         "x": [
          "(-0.001, 10.0]",
          "(-0.001, 10.0]",
          "(-0.001, 10.0]",
          "(-0.001, 10.0]",
          "(-0.001, 10.0]",
          "(-0.001, 10.0]",
          "(-0.001, 10.0]",
          "(-0.001, 10.0]",
          "(-0.001, 10.0]",
          "(10.0, 20.0]",
          "(10.0, 20.0]",
          "(10.0, 20.0]",
          "(10.0, 20.0]",
          "(10.0, 20.0]",
          "(10.0, 20.0]",
          "(10.0, 20.0]",
          "(10.0, 20.0]",
          "(10.0, 20.0]",
          "(20.0, 30.0]",
          "(20.0, 30.0]",
          "(20.0, 30.0]",
          "(20.0, 30.0]",
          "(20.0, 30.0]",
          "(20.0, 30.0]",
          "(20.0, 30.0]",
          "(20.0, 30.0]",
          "(20.0, 30.0]",
          "(30.0, 40.0]",
          "(30.0, 40.0]",
          "(30.0, 40.0]",
          "(30.0, 40.0]",
          "(30.0, 40.0]",
          "(30.0, 40.0]",
          "(30.0, 40.0]",
          "(30.0, 40.0]",
          "(30.0, 40.0]",
          "(40.0, 50.0]",
          "(40.0, 50.0]",
          "(40.0, 50.0]",
          "(40.0, 50.0]",
          "(40.0, 50.0]",
          "(40.0, 50.0]",
          "(40.0, 50.0]",
          "(40.0, 50.0]",
          "(40.0, 50.0]",
          "(50.0, 60.0]",
          "(50.0, 60.0]",
          "(50.0, 60.0]",
          "(50.0, 60.0]",
          "(50.0, 60.0]",
          "(50.0, 60.0]",
          "(50.0, 60.0]",
          "(50.0, 60.0]",
          "(50.0, 60.0]",
          "(60.0, 70.0]",
          "(60.0, 70.0]",
          "(60.0, 70.0]",
          "(60.0, 70.0]",
          "(60.0, 70.0]",
          "(60.0, 70.0]",
          "(60.0, 70.0]",
          "(60.0, 70.0]",
          "(60.0, 70.0]",
          "(70.0, 80.0]",
          "(70.0, 80.0]",
          "(70.0, 80.0]",
          "(70.0, 80.0]",
          "(70.0, 80.0]",
          "(70.0, 80.0]",
          "(70.0, 80.0]",
          "(70.0, 80.0]",
          "(70.0, 80.0]",
          "(80.0, 90.0]",
          "(80.0, 90.0]",
          "(80.0, 90.0]",
          "(80.0, 90.0]",
          "(80.0, 90.0]",
          "(80.0, 90.0]",
          "(80.0, 90.0]",
          "(80.0, 90.0]",
          "(80.0, 90.0]",
          "(90.0, 100.0]",
          "(90.0, 100.0]",
          "(90.0, 100.0]",
          "(90.0, 100.0]",
          "(90.0, 100.0]",
          "(90.0, 100.0]",
          "(90.0, 100.0]",
          "(90.0, 100.0]",
          "(90.0, 100.0]"
         ],
         "xaxis": "x",
         "y": [
          174,
          121,
          142,
          125,
          168,
          167,
          190,
          171,
          180,
          20,
          25,
          30,
          19,
          16,
          24,
          12,
          19,
          11,
          8,
          30,
          12,
          33,
          17,
          14,
          10,
          14,
          12,
          11,
          26,
          16,
          22,
          6,
          7,
          5,
          11,
          13,
          3,
          12,
          4,
          9,
          5,
          7,
          3,
          5,
          4,
          8,
          3,
          8,
          5,
          4,
          2,
          3,
          7,
          6,
          4,
          7,
          6,
          6,
          4,
          2,
          2,
          2,
          2,
          3,
          7,
          4,
          9,
          6,
          5,
          3,
          2,
          1,
          2,
          1,
          7,
          3,
          5,
          5,
          6,
          2,
          3,
          5,
          2,
          4,
          4,
          4,
          2,
          5,
          3,
          4
         ],
         "yaxis": "y"
        },
        {
         "customdata": [
          [
           0
          ],
          [
           1
          ],
          [
           2
          ],
          [
           3
          ],
          [
           4
          ],
          [
           5
          ],
          [
           6
          ],
          [
           7
          ],
          [
           8
          ],
          [
           0
          ],
          [
           1
          ],
          [
           2
          ],
          [
           3
          ],
          [
           4
          ],
          [
           5
          ],
          [
           6
          ],
          [
           7
          ],
          [
           8
          ],
          [
           0
          ],
          [
           1
          ],
          [
           2
          ],
          [
           3
          ],
          [
           4
          ],
          [
           5
          ],
          [
           6
          ],
          [
           7
          ],
          [
           8
          ],
          [
           0
          ],
          [
           1
          ],
          [
           2
          ],
          [
           3
          ],
          [
           4
          ],
          [
           5
          ],
          [
           6
          ],
          [
           7
          ],
          [
           8
          ],
          [
           0
          ],
          [
           1
          ],
          [
           2
          ],
          [
           3
          ],
          [
           4
          ],
          [
           5
          ],
          [
           6
          ],
          [
           7
          ],
          [
           8
          ],
          [
           0
          ],
          [
           1
          ],
          [
           2
          ],
          [
           3
          ],
          [
           4
          ],
          [
           5
          ],
          [
           6
          ],
          [
           7
          ],
          [
           8
          ],
          [
           0
          ],
          [
           1
          ],
          [
           2
          ],
          [
           3
          ],
          [
           4
          ],
          [
           5
          ],
          [
           6
          ],
          [
           7
          ],
          [
           8
          ],
          [
           0
          ],
          [
           1
          ],
          [
           2
          ],
          [
           3
          ],
          [
           4
          ],
          [
           5
          ],
          [
           6
          ],
          [
           7
          ],
          [
           8
          ],
          [
           0
          ],
          [
           1
          ],
          [
           2
          ],
          [
           3
          ],
          [
           4
          ],
          [
           5
          ],
          [
           6
          ],
          [
           7
          ],
          [
           8
          ],
          [
           0
          ],
          [
           1
          ],
          [
           2
          ],
          [
           3
          ],
          [
           4
          ],
          [
           5
          ],
          [
           6
          ],
          [
           7
          ],
          [
           8
          ]
         ],
         "hovertemplate": "<b>%{hovertext}</b><br><br>model=mixtral-8x7b-instruct<br>bin=%{x}<br>text=%{y}<br>prompt_id=%{customdata[0]}<extra></extra>",
         "hovertext": [
          "mixtral-8x7b-instruct",
          "mixtral-8x7b-instruct",
          "mixtral-8x7b-instruct",
          "mixtral-8x7b-instruct",
          "mixtral-8x7b-instruct",
          "mixtral-8x7b-instruct",
          "mixtral-8x7b-instruct",
          "mixtral-8x7b-instruct",
          "mixtral-8x7b-instruct",
          "mixtral-8x7b-instruct",
          "mixtral-8x7b-instruct",
          "mixtral-8x7b-instruct",
          "mixtral-8x7b-instruct",
          "mixtral-8x7b-instruct",
          "mixtral-8x7b-instruct",
          "mixtral-8x7b-instruct",
          "mixtral-8x7b-instruct",
          "mixtral-8x7b-instruct",
          "mixtral-8x7b-instruct",
          "mixtral-8x7b-instruct",
          "mixtral-8x7b-instruct",
          "mixtral-8x7b-instruct",
          "mixtral-8x7b-instruct",
          "mixtral-8x7b-instruct",
          "mixtral-8x7b-instruct",
          "mixtral-8x7b-instruct",
          "mixtral-8x7b-instruct",
          "mixtral-8x7b-instruct",
          "mixtral-8x7b-instruct",
          "mixtral-8x7b-instruct",
          "mixtral-8x7b-instruct",
          "mixtral-8x7b-instruct",
          "mixtral-8x7b-instruct",
          "mixtral-8x7b-instruct",
          "mixtral-8x7b-instruct",
          "mixtral-8x7b-instruct",
          "mixtral-8x7b-instruct",
          "mixtral-8x7b-instruct",
          "mixtral-8x7b-instruct",
          "mixtral-8x7b-instruct",
          "mixtral-8x7b-instruct",
          "mixtral-8x7b-instruct",
          "mixtral-8x7b-instruct",
          "mixtral-8x7b-instruct",
          "mixtral-8x7b-instruct",
          "mixtral-8x7b-instruct",
          "mixtral-8x7b-instruct",
          "mixtral-8x7b-instruct",
          "mixtral-8x7b-instruct",
          "mixtral-8x7b-instruct",
          "mixtral-8x7b-instruct",
          "mixtral-8x7b-instruct",
          "mixtral-8x7b-instruct",
          "mixtral-8x7b-instruct",
          "mixtral-8x7b-instruct",
          "mixtral-8x7b-instruct",
          "mixtral-8x7b-instruct",
          "mixtral-8x7b-instruct",
          "mixtral-8x7b-instruct",
          "mixtral-8x7b-instruct",
          "mixtral-8x7b-instruct",
          "mixtral-8x7b-instruct",
          "mixtral-8x7b-instruct",
          "mixtral-8x7b-instruct",
          "mixtral-8x7b-instruct",
          "mixtral-8x7b-instruct",
          "mixtral-8x7b-instruct",
          "mixtral-8x7b-instruct",
          "mixtral-8x7b-instruct",
          "mixtral-8x7b-instruct",
          "mixtral-8x7b-instruct",
          "mixtral-8x7b-instruct",
          "mixtral-8x7b-instruct",
          "mixtral-8x7b-instruct",
          "mixtral-8x7b-instruct",
          "mixtral-8x7b-instruct",
          "mixtral-8x7b-instruct",
          "mixtral-8x7b-instruct",
          "mixtral-8x7b-instruct",
          "mixtral-8x7b-instruct",
          "mixtral-8x7b-instruct",
          "mixtral-8x7b-instruct",
          "mixtral-8x7b-instruct",
          "mixtral-8x7b-instruct",
          "mixtral-8x7b-instruct",
          "mixtral-8x7b-instruct",
          "mixtral-8x7b-instruct",
          "mixtral-8x7b-instruct",
          "mixtral-8x7b-instruct",
          "mixtral-8x7b-instruct"
         ],
         "legendgroup": "mixtral-8x7b-instruct",
         "marker": {
          "color": "#00cc96",
          "symbol": "circle"
         },
         "mode": "markers",
         "name": "mixtral-8x7b-instruct",
         "orientation": "v",
         "showlegend": true,
         "type": "scatter",
         "x": [
          "(-0.001, 10.0]",
          "(-0.001, 10.0]",
          "(-0.001, 10.0]",
          "(-0.001, 10.0]",
          "(-0.001, 10.0]",
          "(-0.001, 10.0]",
          "(-0.001, 10.0]",
          "(-0.001, 10.0]",
          "(-0.001, 10.0]",
          "(10.0, 20.0]",
          "(10.0, 20.0]",
          "(10.0, 20.0]",
          "(10.0, 20.0]",
          "(10.0, 20.0]",
          "(10.0, 20.0]",
          "(10.0, 20.0]",
          "(10.0, 20.0]",
          "(10.0, 20.0]",
          "(20.0, 30.0]",
          "(20.0, 30.0]",
          "(20.0, 30.0]",
          "(20.0, 30.0]",
          "(20.0, 30.0]",
          "(20.0, 30.0]",
          "(20.0, 30.0]",
          "(20.0, 30.0]",
          "(20.0, 30.0]",
          "(30.0, 40.0]",
          "(30.0, 40.0]",
          "(30.0, 40.0]",
          "(30.0, 40.0]",
          "(30.0, 40.0]",
          "(30.0, 40.0]",
          "(30.0, 40.0]",
          "(30.0, 40.0]",
          "(30.0, 40.0]",
          "(40.0, 50.0]",
          "(40.0, 50.0]",
          "(40.0, 50.0]",
          "(40.0, 50.0]",
          "(40.0, 50.0]",
          "(40.0, 50.0]",
          "(40.0, 50.0]",
          "(40.0, 50.0]",
          "(40.0, 50.0]",
          "(50.0, 60.0]",
          "(50.0, 60.0]",
          "(50.0, 60.0]",
          "(50.0, 60.0]",
          "(50.0, 60.0]",
          "(50.0, 60.0]",
          "(50.0, 60.0]",
          "(50.0, 60.0]",
          "(50.0, 60.0]",
          "(60.0, 70.0]",
          "(60.0, 70.0]",
          "(60.0, 70.0]",
          "(60.0, 70.0]",
          "(60.0, 70.0]",
          "(60.0, 70.0]",
          "(60.0, 70.0]",
          "(60.0, 70.0]",
          "(60.0, 70.0]",
          "(70.0, 80.0]",
          "(70.0, 80.0]",
          "(70.0, 80.0]",
          "(70.0, 80.0]",
          "(70.0, 80.0]",
          "(70.0, 80.0]",
          "(70.0, 80.0]",
          "(70.0, 80.0]",
          "(70.0, 80.0]",
          "(80.0, 90.0]",
          "(80.0, 90.0]",
          "(80.0, 90.0]",
          "(80.0, 90.0]",
          "(80.0, 90.0]",
          "(80.0, 90.0]",
          "(80.0, 90.0]",
          "(80.0, 90.0]",
          "(80.0, 90.0]",
          "(90.0, 100.0]",
          "(90.0, 100.0]",
          "(90.0, 100.0]",
          "(90.0, 100.0]",
          "(90.0, 100.0]",
          "(90.0, 100.0]",
          "(90.0, 100.0]",
          "(90.0, 100.0]",
          "(90.0, 100.0]"
         ],
         "xaxis": "x",
         "y": [
          111,
          39,
          0,
          0,
          0,
          0,
          0,
          0,
          0,
          25,
          82,
          0,
          0,
          0,
          0,
          0,
          0,
          0,
          13,
          8,
          0,
          0,
          0,
          0,
          0,
          0,
          0,
          10,
          18,
          0,
          0,
          0,
          0,
          0,
          0,
          0,
          19,
          8,
          0,
          0,
          0,
          0,
          0,
          0,
          0,
          12,
          12,
          0,
          0,
          0,
          0,
          0,
          0,
          0,
          7,
          32,
          0,
          0,
          0,
          0,
          0,
          0,
          0,
          5,
          8,
          0,
          0,
          0,
          0,
          0,
          0,
          0,
          8,
          8,
          0,
          0,
          0,
          0,
          0,
          0,
          0,
          0,
          1,
          0,
          0,
          0,
          0,
          0,
          0,
          0
         ],
         "yaxis": "y"
        },
        {
         "customdata": [
          [
           0
          ],
          [
           1
          ],
          [
           2
          ],
          [
           3
          ],
          [
           4
          ],
          [
           5
          ],
          [
           6
          ],
          [
           7
          ],
          [
           8
          ],
          [
           0
          ],
          [
           1
          ],
          [
           2
          ],
          [
           3
          ],
          [
           4
          ],
          [
           5
          ],
          [
           6
          ],
          [
           7
          ],
          [
           8
          ],
          [
           0
          ],
          [
           1
          ],
          [
           2
          ],
          [
           3
          ],
          [
           4
          ],
          [
           5
          ],
          [
           6
          ],
          [
           7
          ],
          [
           8
          ],
          [
           0
          ],
          [
           1
          ],
          [
           2
          ],
          [
           3
          ],
          [
           4
          ],
          [
           5
          ],
          [
           6
          ],
          [
           7
          ],
          [
           8
          ],
          [
           0
          ],
          [
           1
          ],
          [
           2
          ],
          [
           3
          ],
          [
           4
          ],
          [
           5
          ],
          [
           6
          ],
          [
           7
          ],
          [
           8
          ],
          [
           0
          ],
          [
           1
          ],
          [
           2
          ],
          [
           3
          ],
          [
           4
          ],
          [
           5
          ],
          [
           6
          ],
          [
           7
          ],
          [
           8
          ],
          [
           0
          ],
          [
           1
          ],
          [
           2
          ],
          [
           3
          ],
          [
           4
          ],
          [
           5
          ],
          [
           6
          ],
          [
           7
          ],
          [
           8
          ],
          [
           0
          ],
          [
           1
          ],
          [
           2
          ],
          [
           3
          ],
          [
           4
          ],
          [
           5
          ],
          [
           6
          ],
          [
           7
          ],
          [
           8
          ],
          [
           0
          ],
          [
           1
          ],
          [
           2
          ],
          [
           3
          ],
          [
           4
          ],
          [
           5
          ],
          [
           6
          ],
          [
           7
          ],
          [
           8
          ],
          [
           0
          ],
          [
           1
          ],
          [
           2
          ],
          [
           3
          ],
          [
           4
          ],
          [
           5
          ],
          [
           6
          ],
          [
           7
          ],
          [
           8
          ]
         ],
         "hovertemplate": "<b>%{hovertext}</b><br><br>model=pplx-70b-chat<br>bin=%{x}<br>text=%{y}<br>prompt_id=%{customdata[0]}<extra></extra>",
         "hovertext": [
          "pplx-70b-chat",
          "pplx-70b-chat",
          "pplx-70b-chat",
          "pplx-70b-chat",
          "pplx-70b-chat",
          "pplx-70b-chat",
          "pplx-70b-chat",
          "pplx-70b-chat",
          "pplx-70b-chat",
          "pplx-70b-chat",
          "pplx-70b-chat",
          "pplx-70b-chat",
          "pplx-70b-chat",
          "pplx-70b-chat",
          "pplx-70b-chat",
          "pplx-70b-chat",
          "pplx-70b-chat",
          "pplx-70b-chat",
          "pplx-70b-chat",
          "pplx-70b-chat",
          "pplx-70b-chat",
          "pplx-70b-chat",
          "pplx-70b-chat",
          "pplx-70b-chat",
          "pplx-70b-chat",
          "pplx-70b-chat",
          "pplx-70b-chat",
          "pplx-70b-chat",
          "pplx-70b-chat",
          "pplx-70b-chat",
          "pplx-70b-chat",
          "pplx-70b-chat",
          "pplx-70b-chat",
          "pplx-70b-chat",
          "pplx-70b-chat",
          "pplx-70b-chat",
          "pplx-70b-chat",
          "pplx-70b-chat",
          "pplx-70b-chat",
          "pplx-70b-chat",
          "pplx-70b-chat",
          "pplx-70b-chat",
          "pplx-70b-chat",
          "pplx-70b-chat",
          "pplx-70b-chat",
          "pplx-70b-chat",
          "pplx-70b-chat",
          "pplx-70b-chat",
          "pplx-70b-chat",
          "pplx-70b-chat",
          "pplx-70b-chat",
          "pplx-70b-chat",
          "pplx-70b-chat",
          "pplx-70b-chat",
          "pplx-70b-chat",
          "pplx-70b-chat",
          "pplx-70b-chat",
          "pplx-70b-chat",
          "pplx-70b-chat",
          "pplx-70b-chat",
          "pplx-70b-chat",
          "pplx-70b-chat",
          "pplx-70b-chat",
          "pplx-70b-chat",
          "pplx-70b-chat",
          "pplx-70b-chat",
          "pplx-70b-chat",
          "pplx-70b-chat",
          "pplx-70b-chat",
          "pplx-70b-chat",
          "pplx-70b-chat",
          "pplx-70b-chat",
          "pplx-70b-chat",
          "pplx-70b-chat",
          "pplx-70b-chat",
          "pplx-70b-chat",
          "pplx-70b-chat",
          "pplx-70b-chat",
          "pplx-70b-chat",
          "pplx-70b-chat",
          "pplx-70b-chat",
          "pplx-70b-chat",
          "pplx-70b-chat",
          "pplx-70b-chat",
          "pplx-70b-chat",
          "pplx-70b-chat",
          "pplx-70b-chat",
          "pplx-70b-chat",
          "pplx-70b-chat",
          "pplx-70b-chat"
         ],
         "legendgroup": "pplx-70b-chat",
         "marker": {
          "color": "#ab63fa",
          "symbol": "circle"
         },
         "mode": "markers",
         "name": "pplx-70b-chat",
         "orientation": "v",
         "showlegend": true,
         "type": "scatter",
         "x": [
          "(-0.001, 10.0]",
          "(-0.001, 10.0]",
          "(-0.001, 10.0]",
          "(-0.001, 10.0]",
          "(-0.001, 10.0]",
          "(-0.001, 10.0]",
          "(-0.001, 10.0]",
          "(-0.001, 10.0]",
          "(-0.001, 10.0]",
          "(10.0, 20.0]",
          "(10.0, 20.0]",
          "(10.0, 20.0]",
          "(10.0, 20.0]",
          "(10.0, 20.0]",
          "(10.0, 20.0]",
          "(10.0, 20.0]",
          "(10.0, 20.0]",
          "(10.0, 20.0]",
          "(20.0, 30.0]",
          "(20.0, 30.0]",
          "(20.0, 30.0]",
          "(20.0, 30.0]",
          "(20.0, 30.0]",
          "(20.0, 30.0]",
          "(20.0, 30.0]",
          "(20.0, 30.0]",
          "(20.0, 30.0]",
          "(30.0, 40.0]",
          "(30.0, 40.0]",
          "(30.0, 40.0]",
          "(30.0, 40.0]",
          "(30.0, 40.0]",
          "(30.0, 40.0]",
          "(30.0, 40.0]",
          "(30.0, 40.0]",
          "(30.0, 40.0]",
          "(40.0, 50.0]",
          "(40.0, 50.0]",
          "(40.0, 50.0]",
          "(40.0, 50.0]",
          "(40.0, 50.0]",
          "(40.0, 50.0]",
          "(40.0, 50.0]",
          "(40.0, 50.0]",
          "(40.0, 50.0]",
          "(50.0, 60.0]",
          "(50.0, 60.0]",
          "(50.0, 60.0]",
          "(50.0, 60.0]",
          "(50.0, 60.0]",
          "(50.0, 60.0]",
          "(50.0, 60.0]",
          "(50.0, 60.0]",
          "(50.0, 60.0]",
          "(60.0, 70.0]",
          "(60.0, 70.0]",
          "(60.0, 70.0]",
          "(60.0, 70.0]",
          "(60.0, 70.0]",
          "(60.0, 70.0]",
          "(60.0, 70.0]",
          "(60.0, 70.0]",
          "(60.0, 70.0]",
          "(70.0, 80.0]",
          "(70.0, 80.0]",
          "(70.0, 80.0]",
          "(70.0, 80.0]",
          "(70.0, 80.0]",
          "(70.0, 80.0]",
          "(70.0, 80.0]",
          "(70.0, 80.0]",
          "(70.0, 80.0]",
          "(80.0, 90.0]",
          "(80.0, 90.0]",
          "(80.0, 90.0]",
          "(80.0, 90.0]",
          "(80.0, 90.0]",
          "(80.0, 90.0]",
          "(80.0, 90.0]",
          "(80.0, 90.0]",
          "(80.0, 90.0]",
          "(90.0, 100.0]",
          "(90.0, 100.0]",
          "(90.0, 100.0]",
          "(90.0, 100.0]",
          "(90.0, 100.0]",
          "(90.0, 100.0]",
          "(90.0, 100.0]",
          "(90.0, 100.0]",
          "(90.0, 100.0]"
         ],
         "xaxis": "x",
         "y": [
          51,
          0,
          0,
          0,
          0,
          0,
          0,
          0,
          0,
          7,
          0,
          0,
          0,
          0,
          0,
          0,
          0,
          0,
          9,
          0,
          0,
          0,
          0,
          0,
          0,
          0,
          0,
          11,
          0,
          0,
          0,
          0,
          0,
          0,
          0,
          0,
          146,
          0,
          0,
          0,
          0,
          0,
          0,
          0,
          0,
          3,
          0,
          0,
          0,
          0,
          0,
          0,
          0,
          0,
          0,
          0,
          0,
          0,
          0,
          0,
          0,
          0,
          0,
          1,
          0,
          0,
          0,
          0,
          0,
          0,
          0,
          0,
          0,
          0,
          0,
          0,
          0,
          0,
          0,
          0,
          0,
          0,
          0,
          0,
          0,
          0,
          0,
          0,
          0,
          0
         ],
         "yaxis": "y"
        },
        {
         "customdata": [
          [
           0
          ],
          [
           1
          ],
          [
           2
          ],
          [
           3
          ],
          [
           4
          ],
          [
           5
          ],
          [
           6
          ],
          [
           7
          ],
          [
           8
          ],
          [
           0
          ],
          [
           1
          ],
          [
           2
          ],
          [
           3
          ],
          [
           4
          ],
          [
           5
          ],
          [
           6
          ],
          [
           7
          ],
          [
           8
          ],
          [
           0
          ],
          [
           1
          ],
          [
           2
          ],
          [
           3
          ],
          [
           4
          ],
          [
           5
          ],
          [
           6
          ],
          [
           7
          ],
          [
           8
          ],
          [
           0
          ],
          [
           1
          ],
          [
           2
          ],
          [
           3
          ],
          [
           4
          ],
          [
           5
          ],
          [
           6
          ],
          [
           7
          ],
          [
           8
          ],
          [
           0
          ],
          [
           1
          ],
          [
           2
          ],
          [
           3
          ],
          [
           4
          ],
          [
           5
          ],
          [
           6
          ],
          [
           7
          ],
          [
           8
          ],
          [
           0
          ],
          [
           1
          ],
          [
           2
          ],
          [
           3
          ],
          [
           4
          ],
          [
           5
          ],
          [
           6
          ],
          [
           7
          ],
          [
           8
          ],
          [
           0
          ],
          [
           1
          ],
          [
           2
          ],
          [
           3
          ],
          [
           4
          ],
          [
           5
          ],
          [
           6
          ],
          [
           7
          ],
          [
           8
          ],
          [
           0
          ],
          [
           1
          ],
          [
           2
          ],
          [
           3
          ],
          [
           4
          ],
          [
           5
          ],
          [
           6
          ],
          [
           7
          ],
          [
           8
          ],
          [
           0
          ],
          [
           1
          ],
          [
           2
          ],
          [
           3
          ],
          [
           4
          ],
          [
           5
          ],
          [
           6
          ],
          [
           7
          ],
          [
           8
          ],
          [
           0
          ],
          [
           1
          ],
          [
           2
          ],
          [
           3
          ],
          [
           4
          ],
          [
           5
          ],
          [
           6
          ],
          [
           7
          ],
          [
           8
          ]
         ],
         "hovertemplate": "<b>%{hovertext}</b><br><br>model=pplx-7b-chat<br>bin=%{x}<br>text=%{y}<br>prompt_id=%{customdata[0]}<extra></extra>",
         "hovertext": [
          "pplx-7b-chat",
          "pplx-7b-chat",
          "pplx-7b-chat",
          "pplx-7b-chat",
          "pplx-7b-chat",
          "pplx-7b-chat",
          "pplx-7b-chat",
          "pplx-7b-chat",
          "pplx-7b-chat",
          "pplx-7b-chat",
          "pplx-7b-chat",
          "pplx-7b-chat",
          "pplx-7b-chat",
          "pplx-7b-chat",
          "pplx-7b-chat",
          "pplx-7b-chat",
          "pplx-7b-chat",
          "pplx-7b-chat",
          "pplx-7b-chat",
          "pplx-7b-chat",
          "pplx-7b-chat",
          "pplx-7b-chat",
          "pplx-7b-chat",
          "pplx-7b-chat",
          "pplx-7b-chat",
          "pplx-7b-chat",
          "pplx-7b-chat",
          "pplx-7b-chat",
          "pplx-7b-chat",
          "pplx-7b-chat",
          "pplx-7b-chat",
          "pplx-7b-chat",
          "pplx-7b-chat",
          "pplx-7b-chat",
          "pplx-7b-chat",
          "pplx-7b-chat",
          "pplx-7b-chat",
          "pplx-7b-chat",
          "pplx-7b-chat",
          "pplx-7b-chat",
          "pplx-7b-chat",
          "pplx-7b-chat",
          "pplx-7b-chat",
          "pplx-7b-chat",
          "pplx-7b-chat",
          "pplx-7b-chat",
          "pplx-7b-chat",
          "pplx-7b-chat",
          "pplx-7b-chat",
          "pplx-7b-chat",
          "pplx-7b-chat",
          "pplx-7b-chat",
          "pplx-7b-chat",
          "pplx-7b-chat",
          "pplx-7b-chat",
          "pplx-7b-chat",
          "pplx-7b-chat",
          "pplx-7b-chat",
          "pplx-7b-chat",
          "pplx-7b-chat",
          "pplx-7b-chat",
          "pplx-7b-chat",
          "pplx-7b-chat",
          "pplx-7b-chat",
          "pplx-7b-chat",
          "pplx-7b-chat",
          "pplx-7b-chat",
          "pplx-7b-chat",
          "pplx-7b-chat",
          "pplx-7b-chat",
          "pplx-7b-chat",
          "pplx-7b-chat",
          "pplx-7b-chat",
          "pplx-7b-chat",
          "pplx-7b-chat",
          "pplx-7b-chat",
          "pplx-7b-chat",
          "pplx-7b-chat",
          "pplx-7b-chat",
          "pplx-7b-chat",
          "pplx-7b-chat",
          "pplx-7b-chat",
          "pplx-7b-chat",
          "pplx-7b-chat",
          "pplx-7b-chat",
          "pplx-7b-chat",
          "pplx-7b-chat",
          "pplx-7b-chat",
          "pplx-7b-chat",
          "pplx-7b-chat"
         ],
         "legendgroup": "pplx-7b-chat",
         "marker": {
          "color": "#FFA15A",
          "symbol": "circle"
         },
         "mode": "markers",
         "name": "pplx-7b-chat",
         "orientation": "v",
         "showlegend": true,
         "type": "scatter",
         "x": [
          "(-0.001, 10.0]",
          "(-0.001, 10.0]",
          "(-0.001, 10.0]",
          "(-0.001, 10.0]",
          "(-0.001, 10.0]",
          "(-0.001, 10.0]",
          "(-0.001, 10.0]",
          "(-0.001, 10.0]",
          "(-0.001, 10.0]",
          "(10.0, 20.0]",
          "(10.0, 20.0]",
          "(10.0, 20.0]",
          "(10.0, 20.0]",
          "(10.0, 20.0]",
          "(10.0, 20.0]",
          "(10.0, 20.0]",
          "(10.0, 20.0]",
          "(10.0, 20.0]",
          "(20.0, 30.0]",
          "(20.0, 30.0]",
          "(20.0, 30.0]",
          "(20.0, 30.0]",
          "(20.0, 30.0]",
          "(20.0, 30.0]",
          "(20.0, 30.0]",
          "(20.0, 30.0]",
          "(20.0, 30.0]",
          "(30.0, 40.0]",
          "(30.0, 40.0]",
          "(30.0, 40.0]",
          "(30.0, 40.0]",
          "(30.0, 40.0]",
          "(30.0, 40.0]",
          "(30.0, 40.0]",
          "(30.0, 40.0]",
          "(30.0, 40.0]",
          "(40.0, 50.0]",
          "(40.0, 50.0]",
          "(40.0, 50.0]",
          "(40.0, 50.0]",
          "(40.0, 50.0]",
          "(40.0, 50.0]",
          "(40.0, 50.0]",
          "(40.0, 50.0]",
          "(40.0, 50.0]",
          "(50.0, 60.0]",
          "(50.0, 60.0]",
          "(50.0, 60.0]",
          "(50.0, 60.0]",
          "(50.0, 60.0]",
          "(50.0, 60.0]",
          "(50.0, 60.0]",
          "(50.0, 60.0]",
          "(50.0, 60.0]",
          "(60.0, 70.0]",
          "(60.0, 70.0]",
          "(60.0, 70.0]",
          "(60.0, 70.0]",
          "(60.0, 70.0]",
          "(60.0, 70.0]",
          "(60.0, 70.0]",
          "(60.0, 70.0]",
          "(60.0, 70.0]",
          "(70.0, 80.0]",
          "(70.0, 80.0]",
          "(70.0, 80.0]",
          "(70.0, 80.0]",
          "(70.0, 80.0]",
          "(70.0, 80.0]",
          "(70.0, 80.0]",
          "(70.0, 80.0]",
          "(70.0, 80.0]",
          "(80.0, 90.0]",
          "(80.0, 90.0]",
          "(80.0, 90.0]",
          "(80.0, 90.0]",
          "(80.0, 90.0]",
          "(80.0, 90.0]",
          "(80.0, 90.0]",
          "(80.0, 90.0]",
          "(80.0, 90.0]",
          "(90.0, 100.0]",
          "(90.0, 100.0]",
          "(90.0, 100.0]",
          "(90.0, 100.0]",
          "(90.0, 100.0]",
          "(90.0, 100.0]",
          "(90.0, 100.0]",
          "(90.0, 100.0]",
          "(90.0, 100.0]"
         ],
         "xaxis": "x",
         "y": [
          71,
          0,
          0,
          0,
          0,
          0,
          0,
          0,
          0,
          16,
          0,
          0,
          0,
          0,
          0,
          0,
          0,
          0,
          24,
          0,
          0,
          0,
          0,
          0,
          0,
          0,
          0,
          10,
          0,
          0,
          0,
          0,
          0,
          0,
          0,
          0,
          22,
          0,
          0,
          0,
          0,
          0,
          0,
          0,
          0,
          7,
          0,
          0,
          0,
          0,
          0,
          0,
          0,
          0,
          4,
          0,
          0,
          0,
          0,
          0,
          0,
          0,
          0,
          4,
          0,
          0,
          0,
          0,
          0,
          0,
          0,
          0,
          1,
          0,
          0,
          0,
          0,
          0,
          0,
          0,
          0,
          2,
          0,
          0,
          0,
          0,
          0,
          0,
          0,
          0
         ],
         "yaxis": "y"
        }
       ],
       "layout": {
        "legend": {
         "title": {
          "text": "model"
         },
         "tracegroupgap": 0
        },
        "template": {
         "data": {
          "bar": [
           {
            "error_x": {
             "color": "#2a3f5f"
            },
            "error_y": {
             "color": "#2a3f5f"
            },
            "marker": {
             "line": {
              "color": "#E5ECF6",
              "width": 0.5
             },
             "pattern": {
              "fillmode": "overlay",
              "size": 10,
              "solidity": 0.2
             }
            },
            "type": "bar"
           }
          ],
          "barpolar": [
           {
            "marker": {
             "line": {
              "color": "#E5ECF6",
              "width": 0.5
             },
             "pattern": {
              "fillmode": "overlay",
              "size": 10,
              "solidity": 0.2
             }
            },
            "type": "barpolar"
           }
          ],
          "carpet": [
           {
            "aaxis": {
             "endlinecolor": "#2a3f5f",
             "gridcolor": "white",
             "linecolor": "white",
             "minorgridcolor": "white",
             "startlinecolor": "#2a3f5f"
            },
            "baxis": {
             "endlinecolor": "#2a3f5f",
             "gridcolor": "white",
             "linecolor": "white",
             "minorgridcolor": "white",
             "startlinecolor": "#2a3f5f"
            },
            "type": "carpet"
           }
          ],
          "choropleth": [
           {
            "colorbar": {
             "outlinewidth": 0,
             "ticks": ""
            },
            "type": "choropleth"
           }
          ],
          "contour": [
           {
            "colorbar": {
             "outlinewidth": 0,
             "ticks": ""
            },
            "colorscale": [
             [
              0,
              "#0d0887"
             ],
             [
              0.1111111111111111,
              "#46039f"
             ],
             [
              0.2222222222222222,
              "#7201a8"
             ],
             [
              0.3333333333333333,
              "#9c179e"
             ],
             [
              0.4444444444444444,
              "#bd3786"
             ],
             [
              0.5555555555555556,
              "#d8576b"
             ],
             [
              0.6666666666666666,
              "#ed7953"
             ],
             [
              0.7777777777777778,
              "#fb9f3a"
             ],
             [
              0.8888888888888888,
              "#fdca26"
             ],
             [
              1,
              "#f0f921"
             ]
            ],
            "type": "contour"
           }
          ],
          "contourcarpet": [
           {
            "colorbar": {
             "outlinewidth": 0,
             "ticks": ""
            },
            "type": "contourcarpet"
           }
          ],
          "heatmap": [
           {
            "colorbar": {
             "outlinewidth": 0,
             "ticks": ""
            },
            "colorscale": [
             [
              0,
              "#0d0887"
             ],
             [
              0.1111111111111111,
              "#46039f"
             ],
             [
              0.2222222222222222,
              "#7201a8"
             ],
             [
              0.3333333333333333,
              "#9c179e"
             ],
             [
              0.4444444444444444,
              "#bd3786"
             ],
             [
              0.5555555555555556,
              "#d8576b"
             ],
             [
              0.6666666666666666,
              "#ed7953"
             ],
             [
              0.7777777777777778,
              "#fb9f3a"
             ],
             [
              0.8888888888888888,
              "#fdca26"
             ],
             [
              1,
              "#f0f921"
             ]
            ],
            "type": "heatmap"
           }
          ],
          "heatmapgl": [
           {
            "colorbar": {
             "outlinewidth": 0,
             "ticks": ""
            },
            "colorscale": [
             [
              0,
              "#0d0887"
             ],
             [
              0.1111111111111111,
              "#46039f"
             ],
             [
              0.2222222222222222,
              "#7201a8"
             ],
             [
              0.3333333333333333,
              "#9c179e"
             ],
             [
              0.4444444444444444,
              "#bd3786"
             ],
             [
              0.5555555555555556,
              "#d8576b"
             ],
             [
              0.6666666666666666,
              "#ed7953"
             ],
             [
              0.7777777777777778,
              "#fb9f3a"
             ],
             [
              0.8888888888888888,
              "#fdca26"
             ],
             [
              1,
              "#f0f921"
             ]
            ],
            "type": "heatmapgl"
           }
          ],
          "histogram": [
           {
            "marker": {
             "pattern": {
              "fillmode": "overlay",
              "size": 10,
              "solidity": 0.2
             }
            },
            "type": "histogram"
           }
          ],
          "histogram2d": [
           {
            "colorbar": {
             "outlinewidth": 0,
             "ticks": ""
            },
            "colorscale": [
             [
              0,
              "#0d0887"
             ],
             [
              0.1111111111111111,
              "#46039f"
             ],
             [
              0.2222222222222222,
              "#7201a8"
             ],
             [
              0.3333333333333333,
              "#9c179e"
             ],
             [
              0.4444444444444444,
              "#bd3786"
             ],
             [
              0.5555555555555556,
              "#d8576b"
             ],
             [
              0.6666666666666666,
              "#ed7953"
             ],
             [
              0.7777777777777778,
              "#fb9f3a"
             ],
             [
              0.8888888888888888,
              "#fdca26"
             ],
             [
              1,
              "#f0f921"
             ]
            ],
            "type": "histogram2d"
           }
          ],
          "histogram2dcontour": [
           {
            "colorbar": {
             "outlinewidth": 0,
             "ticks": ""
            },
            "colorscale": [
             [
              0,
              "#0d0887"
             ],
             [
              0.1111111111111111,
              "#46039f"
             ],
             [
              0.2222222222222222,
              "#7201a8"
             ],
             [
              0.3333333333333333,
              "#9c179e"
             ],
             [
              0.4444444444444444,
              "#bd3786"
             ],
             [
              0.5555555555555556,
              "#d8576b"
             ],
             [
              0.6666666666666666,
              "#ed7953"
             ],
             [
              0.7777777777777778,
              "#fb9f3a"
             ],
             [
              0.8888888888888888,
              "#fdca26"
             ],
             [
              1,
              "#f0f921"
             ]
            ],
            "type": "histogram2dcontour"
           }
          ],
          "mesh3d": [
           {
            "colorbar": {
             "outlinewidth": 0,
             "ticks": ""
            },
            "type": "mesh3d"
           }
          ],
          "parcoords": [
           {
            "line": {
             "colorbar": {
              "outlinewidth": 0,
              "ticks": ""
             }
            },
            "type": "parcoords"
           }
          ],
          "pie": [
           {
            "automargin": true,
            "type": "pie"
           }
          ],
          "scatter": [
           {
            "fillpattern": {
             "fillmode": "overlay",
             "size": 10,
             "solidity": 0.2
            },
            "type": "scatter"
           }
          ],
          "scatter3d": [
           {
            "line": {
             "colorbar": {
              "outlinewidth": 0,
              "ticks": ""
             }
            },
            "marker": {
             "colorbar": {
              "outlinewidth": 0,
              "ticks": ""
             }
            },
            "type": "scatter3d"
           }
          ],
          "scattercarpet": [
           {
            "marker": {
             "colorbar": {
              "outlinewidth": 0,
              "ticks": ""
             }
            },
            "type": "scattercarpet"
           }
          ],
          "scattergeo": [
           {
            "marker": {
             "colorbar": {
              "outlinewidth": 0,
              "ticks": ""
             }
            },
            "type": "scattergeo"
           }
          ],
          "scattergl": [
           {
            "marker": {
             "colorbar": {
              "outlinewidth": 0,
              "ticks": ""
             }
            },
            "type": "scattergl"
           }
          ],
          "scattermapbox": [
           {
            "marker": {
             "colorbar": {
              "outlinewidth": 0,
              "ticks": ""
             }
            },
            "type": "scattermapbox"
           }
          ],
          "scatterpolar": [
           {
            "marker": {
             "colorbar": {
              "outlinewidth": 0,
              "ticks": ""
             }
            },
            "type": "scatterpolar"
           }
          ],
          "scatterpolargl": [
           {
            "marker": {
             "colorbar": {
              "outlinewidth": 0,
              "ticks": ""
             }
            },
            "type": "scatterpolargl"
           }
          ],
          "scatterternary": [
           {
            "marker": {
             "colorbar": {
              "outlinewidth": 0,
              "ticks": ""
             }
            },
            "type": "scatterternary"
           }
          ],
          "surface": [
           {
            "colorbar": {
             "outlinewidth": 0,
             "ticks": ""
            },
            "colorscale": [
             [
              0,
              "#0d0887"
             ],
             [
              0.1111111111111111,
              "#46039f"
             ],
             [
              0.2222222222222222,
              "#7201a8"
             ],
             [
              0.3333333333333333,
              "#9c179e"
             ],
             [
              0.4444444444444444,
              "#bd3786"
             ],
             [
              0.5555555555555556,
              "#d8576b"
             ],
             [
              0.6666666666666666,
              "#ed7953"
             ],
             [
              0.7777777777777778,
              "#fb9f3a"
             ],
             [
              0.8888888888888888,
              "#fdca26"
             ],
             [
              1,
              "#f0f921"
             ]
            ],
            "type": "surface"
           }
          ],
          "table": [
           {
            "cells": {
             "fill": {
              "color": "#EBF0F8"
             },
             "line": {
              "color": "white"
             }
            },
            "header": {
             "fill": {
              "color": "#C8D4E3"
             },
             "line": {
              "color": "white"
             }
            },
            "type": "table"
           }
          ]
         },
         "layout": {
          "annotationdefaults": {
           "arrowcolor": "#2a3f5f",
           "arrowhead": 0,
           "arrowwidth": 1
          },
          "autotypenumbers": "strict",
          "coloraxis": {
           "colorbar": {
            "outlinewidth": 0,
            "ticks": ""
           }
          },
          "colorscale": {
           "diverging": [
            [
             0,
             "#8e0152"
            ],
            [
             0.1,
             "#c51b7d"
            ],
            [
             0.2,
             "#de77ae"
            ],
            [
             0.3,
             "#f1b6da"
            ],
            [
             0.4,
             "#fde0ef"
            ],
            [
             0.5,
             "#f7f7f7"
            ],
            [
             0.6,
             "#e6f5d0"
            ],
            [
             0.7,
             "#b8e186"
            ],
            [
             0.8,
             "#7fbc41"
            ],
            [
             0.9,
             "#4d9221"
            ],
            [
             1,
             "#276419"
            ]
           ],
           "sequential": [
            [
             0,
             "#0d0887"
            ],
            [
             0.1111111111111111,
             "#46039f"
            ],
            [
             0.2222222222222222,
             "#7201a8"
            ],
            [
             0.3333333333333333,
             "#9c179e"
            ],
            [
             0.4444444444444444,
             "#bd3786"
            ],
            [
             0.5555555555555556,
             "#d8576b"
            ],
            [
             0.6666666666666666,
             "#ed7953"
            ],
            [
             0.7777777777777778,
             "#fb9f3a"
            ],
            [
             0.8888888888888888,
             "#fdca26"
            ],
            [
             1,
             "#f0f921"
            ]
           ],
           "sequentialminus": [
            [
             0,
             "#0d0887"
            ],
            [
             0.1111111111111111,
             "#46039f"
            ],
            [
             0.2222222222222222,
             "#7201a8"
            ],
            [
             0.3333333333333333,
             "#9c179e"
            ],
            [
             0.4444444444444444,
             "#bd3786"
            ],
            [
             0.5555555555555556,
             "#d8576b"
            ],
            [
             0.6666666666666666,
             "#ed7953"
            ],
            [
             0.7777777777777778,
             "#fb9f3a"
            ],
            [
             0.8888888888888888,
             "#fdca26"
            ],
            [
             1,
             "#f0f921"
            ]
           ]
          },
          "colorway": [
           "#636efa",
           "#EF553B",
           "#00cc96",
           "#ab63fa",
           "#FFA15A",
           "#19d3f3",
           "#FF6692",
           "#B6E880",
           "#FF97FF",
           "#FECB52"
          ],
          "font": {
           "color": "#2a3f5f"
          },
          "geo": {
           "bgcolor": "white",
           "lakecolor": "white",
           "landcolor": "#E5ECF6",
           "showlakes": true,
           "showland": true,
           "subunitcolor": "white"
          },
          "hoverlabel": {
           "align": "left"
          },
          "hovermode": "closest",
          "mapbox": {
           "style": "light"
          },
          "paper_bgcolor": "white",
          "plot_bgcolor": "#E5ECF6",
          "polar": {
           "angularaxis": {
            "gridcolor": "white",
            "linecolor": "white",
            "ticks": ""
           },
           "bgcolor": "#E5ECF6",
           "radialaxis": {
            "gridcolor": "white",
            "linecolor": "white",
            "ticks": ""
           }
          },
          "scene": {
           "xaxis": {
            "backgroundcolor": "#E5ECF6",
            "gridcolor": "white",
            "gridwidth": 2,
            "linecolor": "white",
            "showbackground": true,
            "ticks": "",
            "zerolinecolor": "white"
           },
           "yaxis": {
            "backgroundcolor": "#E5ECF6",
            "gridcolor": "white",
            "gridwidth": 2,
            "linecolor": "white",
            "showbackground": true,
            "ticks": "",
            "zerolinecolor": "white"
           },
           "zaxis": {
            "backgroundcolor": "#E5ECF6",
            "gridcolor": "white",
            "gridwidth": 2,
            "linecolor": "white",
            "showbackground": true,
            "ticks": "",
            "zerolinecolor": "white"
           }
          },
          "shapedefaults": {
           "line": {
            "color": "#2a3f5f"
           }
          },
          "ternary": {
           "aaxis": {
            "gridcolor": "white",
            "linecolor": "white",
            "ticks": ""
           },
           "baxis": {
            "gridcolor": "white",
            "linecolor": "white",
            "ticks": ""
           },
           "bgcolor": "#E5ECF6",
           "caxis": {
            "gridcolor": "white",
            "linecolor": "white",
            "ticks": ""
           }
          },
          "title": {
           "x": 0.05
          },
          "xaxis": {
           "automargin": true,
           "gridcolor": "white",
           "linecolor": "white",
           "ticks": "",
           "title": {
            "standoff": 15
           },
           "zerolinecolor": "white",
           "zerolinewidth": 2
          },
          "yaxis": {
           "automargin": true,
           "gridcolor": "white",
           "linecolor": "white",
           "ticks": "",
           "title": {
            "standoff": 15
           },
           "zerolinecolor": "white",
           "zerolinewidth": 2
          }
         }
        },
        "title": {
         "text": "Hate Speech Probability (only non-hatefull, our probability should be 0)"
        },
        "xaxis": {
         "anchor": "y",
         "domain": [
          0,
          1
         ],
         "title": {
          "text": "bin"
         }
        },
        "yaxis": {
         "anchor": "x",
         "domain": [
          0,
          1
         ],
         "title": {
          "text": "text"
         }
        }
       }
      }
     },
     "metadata": {},
     "output_type": "display_data"
    }
   ],
   "source": [
    "import numpy as np\n",
    "import plotly.express as px\n",
    "\n",
    "df[\"bin\"] = pd.cut(df['hate_speech_probability'] * 100, bins=np.arange(0, 110, 10), include_lowest=True)\n",
    "df['bin'] = df[\"bin\"].apply(lambda bin: str(bin))\n",
    "\n",
    "true_df = df.query(\"not labeled_hateful\")\n",
    "df_grouped = true_df.groupby([\"bin\", \"model\", \"prompt_id\"]).count().reset_index()\n",
    "fig = px.scatter(df_grouped, x=\"bin\", y=\"text\", color=\"model\", hover_data=\"prompt_id\", hover_name=\"model\",\n",
    "                 title=\"Hate Speech Probability (only non-hatefull, our probability should be 0)\")\n",
    "fig.show()"
   ]
  },
  {
   "cell_type": "code",
   "execution_count": 7,
   "metadata": {
    "collapsed": false
   },
   "outputs": [
    {
     "name": "stderr",
     "output_type": "stream",
     "text": [
      "C:\\Users\\michi\\AppData\\Local\\Temp/ipykernel_2052/439288121.py:8: FutureWarning:\n",
      "\n",
      "The default of observed=False is deprecated and will be changed to True in a future version of pandas. Pass observed=False to retain current behavior or observed=True to adopt the future default and silence this warning.\n",
      "\n"
     ]
    },
    {
     "data": {
      "application/vnd.plotly.v1+json": {
       "config": {
        "plotlyServerURL": "https://plot.ly"
       },
       "data": [
        {
         "customdata": [
          [
           0
          ],
          [
           1
          ],
          [
           2
          ],
          [
           3
          ],
          [
           4
          ],
          [
           5
          ],
          [
           6
          ],
          [
           7
          ],
          [
           8
          ],
          [
           0
          ],
          [
           1
          ],
          [
           2
          ],
          [
           3
          ],
          [
           4
          ],
          [
           5
          ],
          [
           6
          ],
          [
           7
          ],
          [
           8
          ],
          [
           0
          ],
          [
           1
          ],
          [
           2
          ],
          [
           3
          ],
          [
           4
          ],
          [
           5
          ],
          [
           6
          ],
          [
           7
          ],
          [
           8
          ],
          [
           0
          ],
          [
           1
          ],
          [
           2
          ],
          [
           3
          ],
          [
           4
          ],
          [
           5
          ],
          [
           6
          ],
          [
           7
          ],
          [
           8
          ],
          [
           0
          ],
          [
           1
          ],
          [
           2
          ],
          [
           3
          ],
          [
           4
          ],
          [
           5
          ],
          [
           6
          ],
          [
           7
          ],
          [
           8
          ],
          [
           0
          ],
          [
           1
          ],
          [
           2
          ],
          [
           3
          ],
          [
           4
          ],
          [
           5
          ],
          [
           6
          ],
          [
           7
          ],
          [
           8
          ],
          [
           0
          ],
          [
           1
          ],
          [
           2
          ],
          [
           3
          ],
          [
           4
          ],
          [
           5
          ],
          [
           6
          ],
          [
           7
          ],
          [
           8
          ],
          [
           0
          ],
          [
           1
          ],
          [
           2
          ],
          [
           3
          ],
          [
           4
          ],
          [
           5
          ],
          [
           6
          ],
          [
           7
          ],
          [
           8
          ],
          [
           0
          ],
          [
           1
          ],
          [
           2
          ],
          [
           3
          ],
          [
           4
          ],
          [
           5
          ],
          [
           6
          ],
          [
           7
          ],
          [
           8
          ],
          [
           0
          ],
          [
           1
          ],
          [
           2
          ],
          [
           3
          ],
          [
           4
          ],
          [
           5
          ],
          [
           6
          ],
          [
           7
          ],
          [
           8
          ]
         ],
         "hovertemplate": "<b>%{hovertext}</b><br><br>model=fine-tuned-mistral-7b-v0.2-instruct<br>bin=%{x}<br>text=%{y}<br>prompt_id=%{customdata[0]}<extra></extra>",
         "hovertext": [
          "fine-tuned-mistral-7b-v0.2-instruct",
          "fine-tuned-mistral-7b-v0.2-instruct",
          "fine-tuned-mistral-7b-v0.2-instruct",
          "fine-tuned-mistral-7b-v0.2-instruct",
          "fine-tuned-mistral-7b-v0.2-instruct",
          "fine-tuned-mistral-7b-v0.2-instruct",
          "fine-tuned-mistral-7b-v0.2-instruct",
          "fine-tuned-mistral-7b-v0.2-instruct",
          "fine-tuned-mistral-7b-v0.2-instruct",
          "fine-tuned-mistral-7b-v0.2-instruct",
          "fine-tuned-mistral-7b-v0.2-instruct",
          "fine-tuned-mistral-7b-v0.2-instruct",
          "fine-tuned-mistral-7b-v0.2-instruct",
          "fine-tuned-mistral-7b-v0.2-instruct",
          "fine-tuned-mistral-7b-v0.2-instruct",
          "fine-tuned-mistral-7b-v0.2-instruct",
          "fine-tuned-mistral-7b-v0.2-instruct",
          "fine-tuned-mistral-7b-v0.2-instruct",
          "fine-tuned-mistral-7b-v0.2-instruct",
          "fine-tuned-mistral-7b-v0.2-instruct",
          "fine-tuned-mistral-7b-v0.2-instruct",
          "fine-tuned-mistral-7b-v0.2-instruct",
          "fine-tuned-mistral-7b-v0.2-instruct",
          "fine-tuned-mistral-7b-v0.2-instruct",
          "fine-tuned-mistral-7b-v0.2-instruct",
          "fine-tuned-mistral-7b-v0.2-instruct",
          "fine-tuned-mistral-7b-v0.2-instruct",
          "fine-tuned-mistral-7b-v0.2-instruct",
          "fine-tuned-mistral-7b-v0.2-instruct",
          "fine-tuned-mistral-7b-v0.2-instruct",
          "fine-tuned-mistral-7b-v0.2-instruct",
          "fine-tuned-mistral-7b-v0.2-instruct",
          "fine-tuned-mistral-7b-v0.2-instruct",
          "fine-tuned-mistral-7b-v0.2-instruct",
          "fine-tuned-mistral-7b-v0.2-instruct",
          "fine-tuned-mistral-7b-v0.2-instruct",
          "fine-tuned-mistral-7b-v0.2-instruct",
          "fine-tuned-mistral-7b-v0.2-instruct",
          "fine-tuned-mistral-7b-v0.2-instruct",
          "fine-tuned-mistral-7b-v0.2-instruct",
          "fine-tuned-mistral-7b-v0.2-instruct",
          "fine-tuned-mistral-7b-v0.2-instruct",
          "fine-tuned-mistral-7b-v0.2-instruct",
          "fine-tuned-mistral-7b-v0.2-instruct",
          "fine-tuned-mistral-7b-v0.2-instruct",
          "fine-tuned-mistral-7b-v0.2-instruct",
          "fine-tuned-mistral-7b-v0.2-instruct",
          "fine-tuned-mistral-7b-v0.2-instruct",
          "fine-tuned-mistral-7b-v0.2-instruct",
          "fine-tuned-mistral-7b-v0.2-instruct",
          "fine-tuned-mistral-7b-v0.2-instruct",
          "fine-tuned-mistral-7b-v0.2-instruct",
          "fine-tuned-mistral-7b-v0.2-instruct",
          "fine-tuned-mistral-7b-v0.2-instruct",
          "fine-tuned-mistral-7b-v0.2-instruct",
          "fine-tuned-mistral-7b-v0.2-instruct",
          "fine-tuned-mistral-7b-v0.2-instruct",
          "fine-tuned-mistral-7b-v0.2-instruct",
          "fine-tuned-mistral-7b-v0.2-instruct",
          "fine-tuned-mistral-7b-v0.2-instruct",
          "fine-tuned-mistral-7b-v0.2-instruct",
          "fine-tuned-mistral-7b-v0.2-instruct",
          "fine-tuned-mistral-7b-v0.2-instruct",
          "fine-tuned-mistral-7b-v0.2-instruct",
          "fine-tuned-mistral-7b-v0.2-instruct",
          "fine-tuned-mistral-7b-v0.2-instruct",
          "fine-tuned-mistral-7b-v0.2-instruct",
          "fine-tuned-mistral-7b-v0.2-instruct",
          "fine-tuned-mistral-7b-v0.2-instruct",
          "fine-tuned-mistral-7b-v0.2-instruct",
          "fine-tuned-mistral-7b-v0.2-instruct",
          "fine-tuned-mistral-7b-v0.2-instruct",
          "fine-tuned-mistral-7b-v0.2-instruct",
          "fine-tuned-mistral-7b-v0.2-instruct",
          "fine-tuned-mistral-7b-v0.2-instruct",
          "fine-tuned-mistral-7b-v0.2-instruct",
          "fine-tuned-mistral-7b-v0.2-instruct",
          "fine-tuned-mistral-7b-v0.2-instruct",
          "fine-tuned-mistral-7b-v0.2-instruct",
          "fine-tuned-mistral-7b-v0.2-instruct",
          "fine-tuned-mistral-7b-v0.2-instruct",
          "fine-tuned-mistral-7b-v0.2-instruct",
          "fine-tuned-mistral-7b-v0.2-instruct",
          "fine-tuned-mistral-7b-v0.2-instruct",
          "fine-tuned-mistral-7b-v0.2-instruct",
          "fine-tuned-mistral-7b-v0.2-instruct",
          "fine-tuned-mistral-7b-v0.2-instruct",
          "fine-tuned-mistral-7b-v0.2-instruct",
          "fine-tuned-mistral-7b-v0.2-instruct",
          "fine-tuned-mistral-7b-v0.2-instruct"
         ],
         "legendgroup": "fine-tuned-mistral-7b-v0.2-instruct",
         "marker": {
          "color": "#636efa",
          "symbol": "circle"
         },
         "mode": "markers",
         "name": "fine-tuned-mistral-7b-v0.2-instruct",
         "orientation": "v",
         "showlegend": true,
         "type": "scatter",
         "x": [
          "(-0.001, 10.0]",
          "(-0.001, 10.0]",
          "(-0.001, 10.0]",
          "(-0.001, 10.0]",
          "(-0.001, 10.0]",
          "(-0.001, 10.0]",
          "(-0.001, 10.0]",
          "(-0.001, 10.0]",
          "(-0.001, 10.0]",
          "(10.0, 20.0]",
          "(10.0, 20.0]",
          "(10.0, 20.0]",
          "(10.0, 20.0]",
          "(10.0, 20.0]",
          "(10.0, 20.0]",
          "(10.0, 20.0]",
          "(10.0, 20.0]",
          "(10.0, 20.0]",
          "(20.0, 30.0]",
          "(20.0, 30.0]",
          "(20.0, 30.0]",
          "(20.0, 30.0]",
          "(20.0, 30.0]",
          "(20.0, 30.0]",
          "(20.0, 30.0]",
          "(20.0, 30.0]",
          "(20.0, 30.0]",
          "(30.0, 40.0]",
          "(30.0, 40.0]",
          "(30.0, 40.0]",
          "(30.0, 40.0]",
          "(30.0, 40.0]",
          "(30.0, 40.0]",
          "(30.0, 40.0]",
          "(30.0, 40.0]",
          "(30.0, 40.0]",
          "(40.0, 50.0]",
          "(40.0, 50.0]",
          "(40.0, 50.0]",
          "(40.0, 50.0]",
          "(40.0, 50.0]",
          "(40.0, 50.0]",
          "(40.0, 50.0]",
          "(40.0, 50.0]",
          "(40.0, 50.0]",
          "(50.0, 60.0]",
          "(50.0, 60.0]",
          "(50.0, 60.0]",
          "(50.0, 60.0]",
          "(50.0, 60.0]",
          "(50.0, 60.0]",
          "(50.0, 60.0]",
          "(50.0, 60.0]",
          "(50.0, 60.0]",
          "(60.0, 70.0]",
          "(60.0, 70.0]",
          "(60.0, 70.0]",
          "(60.0, 70.0]",
          "(60.0, 70.0]",
          "(60.0, 70.0]",
          "(60.0, 70.0]",
          "(60.0, 70.0]",
          "(60.0, 70.0]",
          "(70.0, 80.0]",
          "(70.0, 80.0]",
          "(70.0, 80.0]",
          "(70.0, 80.0]",
          "(70.0, 80.0]",
          "(70.0, 80.0]",
          "(70.0, 80.0]",
          "(70.0, 80.0]",
          "(70.0, 80.0]",
          "(80.0, 90.0]",
          "(80.0, 90.0]",
          "(80.0, 90.0]",
          "(80.0, 90.0]",
          "(80.0, 90.0]",
          "(80.0, 90.0]",
          "(80.0, 90.0]",
          "(80.0, 90.0]",
          "(80.0, 90.0]",
          "(90.0, 100.0]",
          "(90.0, 100.0]",
          "(90.0, 100.0]",
          "(90.0, 100.0]",
          "(90.0, 100.0]",
          "(90.0, 100.0]",
          "(90.0, 100.0]",
          "(90.0, 100.0]",
          "(90.0, 100.0]"
         ],
         "xaxis": "x",
         "y": [
          34,
          30,
          32,
          30,
          60,
          0,
          0,
          0,
          0,
          2,
          11,
          3,
          11,
          4,
          0,
          0,
          0,
          0,
          9,
          14,
          4,
          14,
          15,
          0,
          0,
          0,
          0,
          9,
          10,
          0,
          10,
          2,
          0,
          0,
          0,
          0,
          5,
          10,
          11,
          10,
          2,
          0,
          0,
          0,
          0,
          1,
          1,
          1,
          1,
          7,
          0,
          0,
          0,
          0,
          0,
          8,
          4,
          8,
          12,
          0,
          0,
          0,
          0,
          1,
          5,
          7,
          5,
          26,
          0,
          0,
          0,
          0,
          15,
          8,
          21,
          8,
          22,
          0,
          0,
          0,
          0,
          163,
          141,
          156,
          141,
          89,
          0,
          0,
          0,
          0
         ],
         "yaxis": "y"
        },
        {
         "customdata": [
          [
           0
          ],
          [
           1
          ],
          [
           2
          ],
          [
           3
          ],
          [
           4
          ],
          [
           5
          ],
          [
           6
          ],
          [
           7
          ],
          [
           8
          ],
          [
           0
          ],
          [
           1
          ],
          [
           2
          ],
          [
           3
          ],
          [
           4
          ],
          [
           5
          ],
          [
           6
          ],
          [
           7
          ],
          [
           8
          ],
          [
           0
          ],
          [
           1
          ],
          [
           2
          ],
          [
           3
          ],
          [
           4
          ],
          [
           5
          ],
          [
           6
          ],
          [
           7
          ],
          [
           8
          ],
          [
           0
          ],
          [
           1
          ],
          [
           2
          ],
          [
           3
          ],
          [
           4
          ],
          [
           5
          ],
          [
           6
          ],
          [
           7
          ],
          [
           8
          ],
          [
           0
          ],
          [
           1
          ],
          [
           2
          ],
          [
           3
          ],
          [
           4
          ],
          [
           5
          ],
          [
           6
          ],
          [
           7
          ],
          [
           8
          ],
          [
           0
          ],
          [
           1
          ],
          [
           2
          ],
          [
           3
          ],
          [
           4
          ],
          [
           5
          ],
          [
           6
          ],
          [
           7
          ],
          [
           8
          ],
          [
           0
          ],
          [
           1
          ],
          [
           2
          ],
          [
           3
          ],
          [
           4
          ],
          [
           5
          ],
          [
           6
          ],
          [
           7
          ],
          [
           8
          ],
          [
           0
          ],
          [
           1
          ],
          [
           2
          ],
          [
           3
          ],
          [
           4
          ],
          [
           5
          ],
          [
           6
          ],
          [
           7
          ],
          [
           8
          ],
          [
           0
          ],
          [
           1
          ],
          [
           2
          ],
          [
           3
          ],
          [
           4
          ],
          [
           5
          ],
          [
           6
          ],
          [
           7
          ],
          [
           8
          ],
          [
           0
          ],
          [
           1
          ],
          [
           2
          ],
          [
           3
          ],
          [
           4
          ],
          [
           5
          ],
          [
           6
          ],
          [
           7
          ],
          [
           8
          ]
         ],
         "hovertemplate": "<b>%{hovertext}</b><br><br>model=mistral-7b-instruct<br>bin=%{x}<br>text=%{y}<br>prompt_id=%{customdata[0]}<extra></extra>",
         "hovertext": [
          "mistral-7b-instruct",
          "mistral-7b-instruct",
          "mistral-7b-instruct",
          "mistral-7b-instruct",
          "mistral-7b-instruct",
          "mistral-7b-instruct",
          "mistral-7b-instruct",
          "mistral-7b-instruct",
          "mistral-7b-instruct",
          "mistral-7b-instruct",
          "mistral-7b-instruct",
          "mistral-7b-instruct",
          "mistral-7b-instruct",
          "mistral-7b-instruct",
          "mistral-7b-instruct",
          "mistral-7b-instruct",
          "mistral-7b-instruct",
          "mistral-7b-instruct",
          "mistral-7b-instruct",
          "mistral-7b-instruct",
          "mistral-7b-instruct",
          "mistral-7b-instruct",
          "mistral-7b-instruct",
          "mistral-7b-instruct",
          "mistral-7b-instruct",
          "mistral-7b-instruct",
          "mistral-7b-instruct",
          "mistral-7b-instruct",
          "mistral-7b-instruct",
          "mistral-7b-instruct",
          "mistral-7b-instruct",
          "mistral-7b-instruct",
          "mistral-7b-instruct",
          "mistral-7b-instruct",
          "mistral-7b-instruct",
          "mistral-7b-instruct",
          "mistral-7b-instruct",
          "mistral-7b-instruct",
          "mistral-7b-instruct",
          "mistral-7b-instruct",
          "mistral-7b-instruct",
          "mistral-7b-instruct",
          "mistral-7b-instruct",
          "mistral-7b-instruct",
          "mistral-7b-instruct",
          "mistral-7b-instruct",
          "mistral-7b-instruct",
          "mistral-7b-instruct",
          "mistral-7b-instruct",
          "mistral-7b-instruct",
          "mistral-7b-instruct",
          "mistral-7b-instruct",
          "mistral-7b-instruct",
          "mistral-7b-instruct",
          "mistral-7b-instruct",
          "mistral-7b-instruct",
          "mistral-7b-instruct",
          "mistral-7b-instruct",
          "mistral-7b-instruct",
          "mistral-7b-instruct",
          "mistral-7b-instruct",
          "mistral-7b-instruct",
          "mistral-7b-instruct",
          "mistral-7b-instruct",
          "mistral-7b-instruct",
          "mistral-7b-instruct",
          "mistral-7b-instruct",
          "mistral-7b-instruct",
          "mistral-7b-instruct",
          "mistral-7b-instruct",
          "mistral-7b-instruct",
          "mistral-7b-instruct",
          "mistral-7b-instruct",
          "mistral-7b-instruct",
          "mistral-7b-instruct",
          "mistral-7b-instruct",
          "mistral-7b-instruct",
          "mistral-7b-instruct",
          "mistral-7b-instruct",
          "mistral-7b-instruct",
          "mistral-7b-instruct",
          "mistral-7b-instruct",
          "mistral-7b-instruct",
          "mistral-7b-instruct",
          "mistral-7b-instruct",
          "mistral-7b-instruct",
          "mistral-7b-instruct",
          "mistral-7b-instruct",
          "mistral-7b-instruct",
          "mistral-7b-instruct"
         ],
         "legendgroup": "mistral-7b-instruct",
         "marker": {
          "color": "#EF553B",
          "symbol": "circle"
         },
         "mode": "markers",
         "name": "mistral-7b-instruct",
         "orientation": "v",
         "showlegend": true,
         "type": "scatter",
         "x": [
          "(-0.001, 10.0]",
          "(-0.001, 10.0]",
          "(-0.001, 10.0]",
          "(-0.001, 10.0]",
          "(-0.001, 10.0]",
          "(-0.001, 10.0]",
          "(-0.001, 10.0]",
          "(-0.001, 10.0]",
          "(-0.001, 10.0]",
          "(10.0, 20.0]",
          "(10.0, 20.0]",
          "(10.0, 20.0]",
          "(10.0, 20.0]",
          "(10.0, 20.0]",
          "(10.0, 20.0]",
          "(10.0, 20.0]",
          "(10.0, 20.0]",
          "(10.0, 20.0]",
          "(20.0, 30.0]",
          "(20.0, 30.0]",
          "(20.0, 30.0]",
          "(20.0, 30.0]",
          "(20.0, 30.0]",
          "(20.0, 30.0]",
          "(20.0, 30.0]",
          "(20.0, 30.0]",
          "(20.0, 30.0]",
          "(30.0, 40.0]",
          "(30.0, 40.0]",
          "(30.0, 40.0]",
          "(30.0, 40.0]",
          "(30.0, 40.0]",
          "(30.0, 40.0]",
          "(30.0, 40.0]",
          "(30.0, 40.0]",
          "(30.0, 40.0]",
          "(40.0, 50.0]",
          "(40.0, 50.0]",
          "(40.0, 50.0]",
          "(40.0, 50.0]",
          "(40.0, 50.0]",
          "(40.0, 50.0]",
          "(40.0, 50.0]",
          "(40.0, 50.0]",
          "(40.0, 50.0]",
          "(50.0, 60.0]",
          "(50.0, 60.0]",
          "(50.0, 60.0]",
          "(50.0, 60.0]",
          "(50.0, 60.0]",
          "(50.0, 60.0]",
          "(50.0, 60.0]",
          "(50.0, 60.0]",
          "(50.0, 60.0]",
          "(60.0, 70.0]",
          "(60.0, 70.0]",
          "(60.0, 70.0]",
          "(60.0, 70.0]",
          "(60.0, 70.0]",
          "(60.0, 70.0]",
          "(60.0, 70.0]",
          "(60.0, 70.0]",
          "(60.0, 70.0]",
          "(70.0, 80.0]",
          "(70.0, 80.0]",
          "(70.0, 80.0]",
          "(70.0, 80.0]",
          "(70.0, 80.0]",
          "(70.0, 80.0]",
          "(70.0, 80.0]",
          "(70.0, 80.0]",
          "(70.0, 80.0]",
          "(80.0, 90.0]",
          "(80.0, 90.0]",
          "(80.0, 90.0]",
          "(80.0, 90.0]",
          "(80.0, 90.0]",
          "(80.0, 90.0]",
          "(80.0, 90.0]",
          "(80.0, 90.0]",
          "(80.0, 90.0]",
          "(90.0, 100.0]",
          "(90.0, 100.0]",
          "(90.0, 100.0]",
          "(90.0, 100.0]",
          "(90.0, 100.0]",
          "(90.0, 100.0]",
          "(90.0, 100.0]",
          "(90.0, 100.0]",
          "(90.0, 100.0]"
         ],
         "xaxis": "x",
         "y": [
          36,
          30,
          32,
          33,
          56,
          43,
          44,
          28,
          38,
          16,
          22,
          19,
          19,
          21,
          20,
          16,
          26,
          20,
          14,
          26,
          17,
          27,
          27,
          20,
          12,
          20,
          21,
          19,
          20,
          16,
          20,
          12,
          29,
          8,
          31,
          18,
          7,
          17,
          6,
          22,
          13,
          7,
          5,
          8,
          13,
          15,
          15,
          18,
          8,
          6,
          18,
          16,
          12,
          9,
          13,
          17,
          15,
          17,
          19,
          15,
          12,
          19,
          15,
          16,
          31,
          30,
          35,
          35,
          8,
          23,
          17,
          19,
          38,
          30,
          32,
          31,
          30,
          33,
          40,
          30,
          30,
          55,
          22,
          49,
          20,
          15,
          44,
          62,
          42,
          54
         ],
         "yaxis": "y"
        },
        {
         "customdata": [
          [
           0
          ],
          [
           1
          ],
          [
           2
          ],
          [
           3
          ],
          [
           4
          ],
          [
           5
          ],
          [
           6
          ],
          [
           7
          ],
          [
           8
          ],
          [
           0
          ],
          [
           1
          ],
          [
           2
          ],
          [
           3
          ],
          [
           4
          ],
          [
           5
          ],
          [
           6
          ],
          [
           7
          ],
          [
           8
          ],
          [
           0
          ],
          [
           1
          ],
          [
           2
          ],
          [
           3
          ],
          [
           4
          ],
          [
           5
          ],
          [
           6
          ],
          [
           7
          ],
          [
           8
          ],
          [
           0
          ],
          [
           1
          ],
          [
           2
          ],
          [
           3
          ],
          [
           4
          ],
          [
           5
          ],
          [
           6
          ],
          [
           7
          ],
          [
           8
          ],
          [
           0
          ],
          [
           1
          ],
          [
           2
          ],
          [
           3
          ],
          [
           4
          ],
          [
           5
          ],
          [
           6
          ],
          [
           7
          ],
          [
           8
          ],
          [
           0
          ],
          [
           1
          ],
          [
           2
          ],
          [
           3
          ],
          [
           4
          ],
          [
           5
          ],
          [
           6
          ],
          [
           7
          ],
          [
           8
          ],
          [
           0
          ],
          [
           1
          ],
          [
           2
          ],
          [
           3
          ],
          [
           4
          ],
          [
           5
          ],
          [
           6
          ],
          [
           7
          ],
          [
           8
          ],
          [
           0
          ],
          [
           1
          ],
          [
           2
          ],
          [
           3
          ],
          [
           4
          ],
          [
           5
          ],
          [
           6
          ],
          [
           7
          ],
          [
           8
          ],
          [
           0
          ],
          [
           1
          ],
          [
           2
          ],
          [
           3
          ],
          [
           4
          ],
          [
           5
          ],
          [
           6
          ],
          [
           7
          ],
          [
           8
          ],
          [
           0
          ],
          [
           1
          ],
          [
           2
          ],
          [
           3
          ],
          [
           4
          ],
          [
           5
          ],
          [
           6
          ],
          [
           7
          ],
          [
           8
          ]
         ],
         "hovertemplate": "<b>%{hovertext}</b><br><br>model=mixtral-8x7b-instruct<br>bin=%{x}<br>text=%{y}<br>prompt_id=%{customdata[0]}<extra></extra>",
         "hovertext": [
          "mixtral-8x7b-instruct",
          "mixtral-8x7b-instruct",
          "mixtral-8x7b-instruct",
          "mixtral-8x7b-instruct",
          "mixtral-8x7b-instruct",
          "mixtral-8x7b-instruct",
          "mixtral-8x7b-instruct",
          "mixtral-8x7b-instruct",
          "mixtral-8x7b-instruct",
          "mixtral-8x7b-instruct",
          "mixtral-8x7b-instruct",
          "mixtral-8x7b-instruct",
          "mixtral-8x7b-instruct",
          "mixtral-8x7b-instruct",
          "mixtral-8x7b-instruct",
          "mixtral-8x7b-instruct",
          "mixtral-8x7b-instruct",
          "mixtral-8x7b-instruct",
          "mixtral-8x7b-instruct",
          "mixtral-8x7b-instruct",
          "mixtral-8x7b-instruct",
          "mixtral-8x7b-instruct",
          "mixtral-8x7b-instruct",
          "mixtral-8x7b-instruct",
          "mixtral-8x7b-instruct",
          "mixtral-8x7b-instruct",
          "mixtral-8x7b-instruct",
          "mixtral-8x7b-instruct",
          "mixtral-8x7b-instruct",
          "mixtral-8x7b-instruct",
          "mixtral-8x7b-instruct",
          "mixtral-8x7b-instruct",
          "mixtral-8x7b-instruct",
          "mixtral-8x7b-instruct",
          "mixtral-8x7b-instruct",
          "mixtral-8x7b-instruct",
          "mixtral-8x7b-instruct",
          "mixtral-8x7b-instruct",
          "mixtral-8x7b-instruct",
          "mixtral-8x7b-instruct",
          "mixtral-8x7b-instruct",
          "mixtral-8x7b-instruct",
          "mixtral-8x7b-instruct",
          "mixtral-8x7b-instruct",
          "mixtral-8x7b-instruct",
          "mixtral-8x7b-instruct",
          "mixtral-8x7b-instruct",
          "mixtral-8x7b-instruct",
          "mixtral-8x7b-instruct",
          "mixtral-8x7b-instruct",
          "mixtral-8x7b-instruct",
          "mixtral-8x7b-instruct",
          "mixtral-8x7b-instruct",
          "mixtral-8x7b-instruct",
          "mixtral-8x7b-instruct",
          "mixtral-8x7b-instruct",
          "mixtral-8x7b-instruct",
          "mixtral-8x7b-instruct",
          "mixtral-8x7b-instruct",
          "mixtral-8x7b-instruct",
          "mixtral-8x7b-instruct",
          "mixtral-8x7b-instruct",
          "mixtral-8x7b-instruct",
          "mixtral-8x7b-instruct",
          "mixtral-8x7b-instruct",
          "mixtral-8x7b-instruct",
          "mixtral-8x7b-instruct",
          "mixtral-8x7b-instruct",
          "mixtral-8x7b-instruct",
          "mixtral-8x7b-instruct",
          "mixtral-8x7b-instruct",
          "mixtral-8x7b-instruct",
          "mixtral-8x7b-instruct",
          "mixtral-8x7b-instruct",
          "mixtral-8x7b-instruct",
          "mixtral-8x7b-instruct",
          "mixtral-8x7b-instruct",
          "mixtral-8x7b-instruct",
          "mixtral-8x7b-instruct",
          "mixtral-8x7b-instruct",
          "mixtral-8x7b-instruct",
          "mixtral-8x7b-instruct",
          "mixtral-8x7b-instruct",
          "mixtral-8x7b-instruct",
          "mixtral-8x7b-instruct",
          "mixtral-8x7b-instruct",
          "mixtral-8x7b-instruct",
          "mixtral-8x7b-instruct",
          "mixtral-8x7b-instruct",
          "mixtral-8x7b-instruct"
         ],
         "legendgroup": "mixtral-8x7b-instruct",
         "marker": {
          "color": "#00cc96",
          "symbol": "circle"
         },
         "mode": "markers",
         "name": "mixtral-8x7b-instruct",
         "orientation": "v",
         "showlegend": true,
         "type": "scatter",
         "x": [
          "(-0.001, 10.0]",
          "(-0.001, 10.0]",
          "(-0.001, 10.0]",
          "(-0.001, 10.0]",
          "(-0.001, 10.0]",
          "(-0.001, 10.0]",
          "(-0.001, 10.0]",
          "(-0.001, 10.0]",
          "(-0.001, 10.0]",
          "(10.0, 20.0]",
          "(10.0, 20.0]",
          "(10.0, 20.0]",
          "(10.0, 20.0]",
          "(10.0, 20.0]",
          "(10.0, 20.0]",
          "(10.0, 20.0]",
          "(10.0, 20.0]",
          "(10.0, 20.0]",
          "(20.0, 30.0]",
          "(20.0, 30.0]",
          "(20.0, 30.0]",
          "(20.0, 30.0]",
          "(20.0, 30.0]",
          "(20.0, 30.0]",
          "(20.0, 30.0]",
          "(20.0, 30.0]",
          "(20.0, 30.0]",
          "(30.0, 40.0]",
          "(30.0, 40.0]",
          "(30.0, 40.0]",
          "(30.0, 40.0]",
          "(30.0, 40.0]",
          "(30.0, 40.0]",
          "(30.0, 40.0]",
          "(30.0, 40.0]",
          "(30.0, 40.0]",
          "(40.0, 50.0]",
          "(40.0, 50.0]",
          "(40.0, 50.0]",
          "(40.0, 50.0]",
          "(40.0, 50.0]",
          "(40.0, 50.0]",
          "(40.0, 50.0]",
          "(40.0, 50.0]",
          "(40.0, 50.0]",
          "(50.0, 60.0]",
          "(50.0, 60.0]",
          "(50.0, 60.0]",
          "(50.0, 60.0]",
          "(50.0, 60.0]",
          "(50.0, 60.0]",
          "(50.0, 60.0]",
          "(50.0, 60.0]",
          "(50.0, 60.0]",
          "(60.0, 70.0]",
          "(60.0, 70.0]",
          "(60.0, 70.0]",
          "(60.0, 70.0]",
          "(60.0, 70.0]",
          "(60.0, 70.0]",
          "(60.0, 70.0]",
          "(60.0, 70.0]",
          "(60.0, 70.0]",
          "(70.0, 80.0]",
          "(70.0, 80.0]",
          "(70.0, 80.0]",
          "(70.0, 80.0]",
          "(70.0, 80.0]",
          "(70.0, 80.0]",
          "(70.0, 80.0]",
          "(70.0, 80.0]",
          "(70.0, 80.0]",
          "(80.0, 90.0]",
          "(80.0, 90.0]",
          "(80.0, 90.0]",
          "(80.0, 90.0]",
          "(80.0, 90.0]",
          "(80.0, 90.0]",
          "(80.0, 90.0]",
          "(80.0, 90.0]",
          "(80.0, 90.0]",
          "(90.0, 100.0]",
          "(90.0, 100.0]",
          "(90.0, 100.0]",
          "(90.0, 100.0]",
          "(90.0, 100.0]",
          "(90.0, 100.0]",
          "(90.0, 100.0]",
          "(90.0, 100.0]",
          "(90.0, 100.0]"
         ],
         "xaxis": "x",
         "y": [
          15,
          4,
          0,
          0,
          0,
          0,
          0,
          0,
          0,
          28,
          42,
          0,
          0,
          0,
          0,
          0,
          0,
          0,
          10,
          11,
          0,
          0,
          0,
          0,
          0,
          0,
          0,
          7,
          15,
          0,
          0,
          0,
          0,
          0,
          0,
          0,
          25,
          9,
          0,
          0,
          0,
          0,
          0,
          0,
          0,
          17,
          23,
          0,
          0,
          0,
          0,
          0,
          0,
          0,
          27,
          68,
          0,
          0,
          0,
          0,
          0,
          0,
          0,
          29,
          24,
          0,
          0,
          0,
          0,
          0,
          0,
          0,
          41,
          24,
          0,
          0,
          0,
          0,
          0,
          0,
          0,
          9,
          0,
          0,
          0,
          0,
          0,
          0,
          0,
          0
         ],
         "yaxis": "y"
        },
        {
         "customdata": [
          [
           0
          ],
          [
           1
          ],
          [
           2
          ],
          [
           3
          ],
          [
           4
          ],
          [
           5
          ],
          [
           6
          ],
          [
           7
          ],
          [
           8
          ],
          [
           0
          ],
          [
           1
          ],
          [
           2
          ],
          [
           3
          ],
          [
           4
          ],
          [
           5
          ],
          [
           6
          ],
          [
           7
          ],
          [
           8
          ],
          [
           0
          ],
          [
           1
          ],
          [
           2
          ],
          [
           3
          ],
          [
           4
          ],
          [
           5
          ],
          [
           6
          ],
          [
           7
          ],
          [
           8
          ],
          [
           0
          ],
          [
           1
          ],
          [
           2
          ],
          [
           3
          ],
          [
           4
          ],
          [
           5
          ],
          [
           6
          ],
          [
           7
          ],
          [
           8
          ],
          [
           0
          ],
          [
           1
          ],
          [
           2
          ],
          [
           3
          ],
          [
           4
          ],
          [
           5
          ],
          [
           6
          ],
          [
           7
          ],
          [
           8
          ],
          [
           0
          ],
          [
           1
          ],
          [
           2
          ],
          [
           3
          ],
          [
           4
          ],
          [
           5
          ],
          [
           6
          ],
          [
           7
          ],
          [
           8
          ],
          [
           0
          ],
          [
           1
          ],
          [
           2
          ],
          [
           3
          ],
          [
           4
          ],
          [
           5
          ],
          [
           6
          ],
          [
           7
          ],
          [
           8
          ],
          [
           0
          ],
          [
           1
          ],
          [
           2
          ],
          [
           3
          ],
          [
           4
          ],
          [
           5
          ],
          [
           6
          ],
          [
           7
          ],
          [
           8
          ],
          [
           0
          ],
          [
           1
          ],
          [
           2
          ],
          [
           3
          ],
          [
           4
          ],
          [
           5
          ],
          [
           6
          ],
          [
           7
          ],
          [
           8
          ],
          [
           0
          ],
          [
           1
          ],
          [
           2
          ],
          [
           3
          ],
          [
           4
          ],
          [
           5
          ],
          [
           6
          ],
          [
           7
          ],
          [
           8
          ]
         ],
         "hovertemplate": "<b>%{hovertext}</b><br><br>model=pplx-70b-chat<br>bin=%{x}<br>text=%{y}<br>prompt_id=%{customdata[0]}<extra></extra>",
         "hovertext": [
          "pplx-70b-chat",
          "pplx-70b-chat",
          "pplx-70b-chat",
          "pplx-70b-chat",
          "pplx-70b-chat",
          "pplx-70b-chat",
          "pplx-70b-chat",
          "pplx-70b-chat",
          "pplx-70b-chat",
          "pplx-70b-chat",
          "pplx-70b-chat",
          "pplx-70b-chat",
          "pplx-70b-chat",
          "pplx-70b-chat",
          "pplx-70b-chat",
          "pplx-70b-chat",
          "pplx-70b-chat",
          "pplx-70b-chat",
          "pplx-70b-chat",
          "pplx-70b-chat",
          "pplx-70b-chat",
          "pplx-70b-chat",
          "pplx-70b-chat",
          "pplx-70b-chat",
          "pplx-70b-chat",
          "pplx-70b-chat",
          "pplx-70b-chat",
          "pplx-70b-chat",
          "pplx-70b-chat",
          "pplx-70b-chat",
          "pplx-70b-chat",
          "pplx-70b-chat",
          "pplx-70b-chat",
          "pplx-70b-chat",
          "pplx-70b-chat",
          "pplx-70b-chat",
          "pplx-70b-chat",
          "pplx-70b-chat",
          "pplx-70b-chat",
          "pplx-70b-chat",
          "pplx-70b-chat",
          "pplx-70b-chat",
          "pplx-70b-chat",
          "pplx-70b-chat",
          "pplx-70b-chat",
          "pplx-70b-chat",
          "pplx-70b-chat",
          "pplx-70b-chat",
          "pplx-70b-chat",
          "pplx-70b-chat",
          "pplx-70b-chat",
          "pplx-70b-chat",
          "pplx-70b-chat",
          "pplx-70b-chat",
          "pplx-70b-chat",
          "pplx-70b-chat",
          "pplx-70b-chat",
          "pplx-70b-chat",
          "pplx-70b-chat",
          "pplx-70b-chat",
          "pplx-70b-chat",
          "pplx-70b-chat",
          "pplx-70b-chat",
          "pplx-70b-chat",
          "pplx-70b-chat",
          "pplx-70b-chat",
          "pplx-70b-chat",
          "pplx-70b-chat",
          "pplx-70b-chat",
          "pplx-70b-chat",
          "pplx-70b-chat",
          "pplx-70b-chat",
          "pplx-70b-chat",
          "pplx-70b-chat",
          "pplx-70b-chat",
          "pplx-70b-chat",
          "pplx-70b-chat",
          "pplx-70b-chat",
          "pplx-70b-chat",
          "pplx-70b-chat",
          "pplx-70b-chat",
          "pplx-70b-chat",
          "pplx-70b-chat",
          "pplx-70b-chat",
          "pplx-70b-chat",
          "pplx-70b-chat",
          "pplx-70b-chat",
          "pplx-70b-chat",
          "pplx-70b-chat",
          "pplx-70b-chat"
         ],
         "legendgroup": "pplx-70b-chat",
         "marker": {
          "color": "#ab63fa",
          "symbol": "circle"
         },
         "mode": "markers",
         "name": "pplx-70b-chat",
         "orientation": "v",
         "showlegend": true,
         "type": "scatter",
         "x": [
          "(-0.001, 10.0]",
          "(-0.001, 10.0]",
          "(-0.001, 10.0]",
          "(-0.001, 10.0]",
          "(-0.001, 10.0]",
          "(-0.001, 10.0]",
          "(-0.001, 10.0]",
          "(-0.001, 10.0]",
          "(-0.001, 10.0]",
          "(10.0, 20.0]",
          "(10.0, 20.0]",
          "(10.0, 20.0]",
          "(10.0, 20.0]",
          "(10.0, 20.0]",
          "(10.0, 20.0]",
          "(10.0, 20.0]",
          "(10.0, 20.0]",
          "(10.0, 20.0]",
          "(20.0, 30.0]",
          "(20.0, 30.0]",
          "(20.0, 30.0]",
          "(20.0, 30.0]",
          "(20.0, 30.0]",
          "(20.0, 30.0]",
          "(20.0, 30.0]",
          "(20.0, 30.0]",
          "(20.0, 30.0]",
          "(30.0, 40.0]",
          "(30.0, 40.0]",
          "(30.0, 40.0]",
          "(30.0, 40.0]",
          "(30.0, 40.0]",
          "(30.0, 40.0]",
          "(30.0, 40.0]",
          "(30.0, 40.0]",
          "(30.0, 40.0]",
          "(40.0, 50.0]",
          "(40.0, 50.0]",
          "(40.0, 50.0]",
          "(40.0, 50.0]",
          "(40.0, 50.0]",
          "(40.0, 50.0]",
          "(40.0, 50.0]",
          "(40.0, 50.0]",
          "(40.0, 50.0]",
          "(50.0, 60.0]",
          "(50.0, 60.0]",
          "(50.0, 60.0]",
          "(50.0, 60.0]",
          "(50.0, 60.0]",
          "(50.0, 60.0]",
          "(50.0, 60.0]",
          "(50.0, 60.0]",
          "(50.0, 60.0]",
          "(60.0, 70.0]",
          "(60.0, 70.0]",
          "(60.0, 70.0]",
          "(60.0, 70.0]",
          "(60.0, 70.0]",
          "(60.0, 70.0]",
          "(60.0, 70.0]",
          "(60.0, 70.0]",
          "(60.0, 70.0]",
          "(70.0, 80.0]",
          "(70.0, 80.0]",
          "(70.0, 80.0]",
          "(70.0, 80.0]",
          "(70.0, 80.0]",
          "(70.0, 80.0]",
          "(70.0, 80.0]",
          "(70.0, 80.0]",
          "(70.0, 80.0]",
          "(80.0, 90.0]",
          "(80.0, 90.0]",
          "(80.0, 90.0]",
          "(80.0, 90.0]",
          "(80.0, 90.0]",
          "(80.0, 90.0]",
          "(80.0, 90.0]",
          "(80.0, 90.0]",
          "(80.0, 90.0]",
          "(90.0, 100.0]",
          "(90.0, 100.0]",
          "(90.0, 100.0]",
          "(90.0, 100.0]",
          "(90.0, 100.0]",
          "(90.0, 100.0]",
          "(90.0, 100.0]",
          "(90.0, 100.0]",
          "(90.0, 100.0]"
         ],
         "xaxis": "x",
         "y": [
          7,
          0,
          0,
          0,
          0,
          0,
          0,
          0,
          0,
          5,
          0,
          0,
          0,
          0,
          0,
          0,
          0,
          0,
          13,
          0,
          0,
          0,
          0,
          0,
          0,
          0,
          0,
          19,
          0,
          0,
          0,
          0,
          0,
          0,
          0,
          0,
          180,
          0,
          0,
          0,
          0,
          0,
          0,
          0,
          0,
          10,
          0,
          0,
          0,
          0,
          0,
          0,
          0,
          0,
          2,
          0,
          0,
          0,
          0,
          0,
          0,
          0,
          0,
          1,
          0,
          0,
          0,
          0,
          0,
          0,
          0,
          0,
          1,
          0,
          0,
          0,
          0,
          0,
          0,
          0,
          0,
          0,
          0,
          0,
          0,
          0,
          0,
          0,
          0,
          0
         ],
         "yaxis": "y"
        },
        {
         "customdata": [
          [
           0
          ],
          [
           1
          ],
          [
           2
          ],
          [
           3
          ],
          [
           4
          ],
          [
           5
          ],
          [
           6
          ],
          [
           7
          ],
          [
           8
          ],
          [
           0
          ],
          [
           1
          ],
          [
           2
          ],
          [
           3
          ],
          [
           4
          ],
          [
           5
          ],
          [
           6
          ],
          [
           7
          ],
          [
           8
          ],
          [
           0
          ],
          [
           1
          ],
          [
           2
          ],
          [
           3
          ],
          [
           4
          ],
          [
           5
          ],
          [
           6
          ],
          [
           7
          ],
          [
           8
          ],
          [
           0
          ],
          [
           1
          ],
          [
           2
          ],
          [
           3
          ],
          [
           4
          ],
          [
           5
          ],
          [
           6
          ],
          [
           7
          ],
          [
           8
          ],
          [
           0
          ],
          [
           1
          ],
          [
           2
          ],
          [
           3
          ],
          [
           4
          ],
          [
           5
          ],
          [
           6
          ],
          [
           7
          ],
          [
           8
          ],
          [
           0
          ],
          [
           1
          ],
          [
           2
          ],
          [
           3
          ],
          [
           4
          ],
          [
           5
          ],
          [
           6
          ],
          [
           7
          ],
          [
           8
          ],
          [
           0
          ],
          [
           1
          ],
          [
           2
          ],
          [
           3
          ],
          [
           4
          ],
          [
           5
          ],
          [
           6
          ],
          [
           7
          ],
          [
           8
          ],
          [
           0
          ],
          [
           1
          ],
          [
           2
          ],
          [
           3
          ],
          [
           4
          ],
          [
           5
          ],
          [
           6
          ],
          [
           7
          ],
          [
           8
          ],
          [
           0
          ],
          [
           1
          ],
          [
           2
          ],
          [
           3
          ],
          [
           4
          ],
          [
           5
          ],
          [
           6
          ],
          [
           7
          ],
          [
           8
          ],
          [
           0
          ],
          [
           1
          ],
          [
           2
          ],
          [
           3
          ],
          [
           4
          ],
          [
           5
          ],
          [
           6
          ],
          [
           7
          ],
          [
           8
          ]
         ],
         "hovertemplate": "<b>%{hovertext}</b><br><br>model=pplx-7b-chat<br>bin=%{x}<br>text=%{y}<br>prompt_id=%{customdata[0]}<extra></extra>",
         "hovertext": [
          "pplx-7b-chat",
          "pplx-7b-chat",
          "pplx-7b-chat",
          "pplx-7b-chat",
          "pplx-7b-chat",
          "pplx-7b-chat",
          "pplx-7b-chat",
          "pplx-7b-chat",
          "pplx-7b-chat",
          "pplx-7b-chat",
          "pplx-7b-chat",
          "pplx-7b-chat",
          "pplx-7b-chat",
          "pplx-7b-chat",
          "pplx-7b-chat",
          "pplx-7b-chat",
          "pplx-7b-chat",
          "pplx-7b-chat",
          "pplx-7b-chat",
          "pplx-7b-chat",
          "pplx-7b-chat",
          "pplx-7b-chat",
          "pplx-7b-chat",
          "pplx-7b-chat",
          "pplx-7b-chat",
          "pplx-7b-chat",
          "pplx-7b-chat",
          "pplx-7b-chat",
          "pplx-7b-chat",
          "pplx-7b-chat",
          "pplx-7b-chat",
          "pplx-7b-chat",
          "pplx-7b-chat",
          "pplx-7b-chat",
          "pplx-7b-chat",
          "pplx-7b-chat",
          "pplx-7b-chat",
          "pplx-7b-chat",
          "pplx-7b-chat",
          "pplx-7b-chat",
          "pplx-7b-chat",
          "pplx-7b-chat",
          "pplx-7b-chat",
          "pplx-7b-chat",
          "pplx-7b-chat",
          "pplx-7b-chat",
          "pplx-7b-chat",
          "pplx-7b-chat",
          "pplx-7b-chat",
          "pplx-7b-chat",
          "pplx-7b-chat",
          "pplx-7b-chat",
          "pplx-7b-chat",
          "pplx-7b-chat",
          "pplx-7b-chat",
          "pplx-7b-chat",
          "pplx-7b-chat",
          "pplx-7b-chat",
          "pplx-7b-chat",
          "pplx-7b-chat",
          "pplx-7b-chat",
          "pplx-7b-chat",
          "pplx-7b-chat",
          "pplx-7b-chat",
          "pplx-7b-chat",
          "pplx-7b-chat",
          "pplx-7b-chat",
          "pplx-7b-chat",
          "pplx-7b-chat",
          "pplx-7b-chat",
          "pplx-7b-chat",
          "pplx-7b-chat",
          "pplx-7b-chat",
          "pplx-7b-chat",
          "pplx-7b-chat",
          "pplx-7b-chat",
          "pplx-7b-chat",
          "pplx-7b-chat",
          "pplx-7b-chat",
          "pplx-7b-chat",
          "pplx-7b-chat",
          "pplx-7b-chat",
          "pplx-7b-chat",
          "pplx-7b-chat",
          "pplx-7b-chat",
          "pplx-7b-chat",
          "pplx-7b-chat",
          "pplx-7b-chat",
          "pplx-7b-chat",
          "pplx-7b-chat"
         ],
         "legendgroup": "pplx-7b-chat",
         "marker": {
          "color": "#FFA15A",
          "symbol": "circle"
         },
         "mode": "markers",
         "name": "pplx-7b-chat",
         "orientation": "v",
         "showlegend": true,
         "type": "scatter",
         "x": [
          "(-0.001, 10.0]",
          "(-0.001, 10.0]",
          "(-0.001, 10.0]",
          "(-0.001, 10.0]",
          "(-0.001, 10.0]",
          "(-0.001, 10.0]",
          "(-0.001, 10.0]",
          "(-0.001, 10.0]",
          "(-0.001, 10.0]",
          "(10.0, 20.0]",
          "(10.0, 20.0]",
          "(10.0, 20.0]",
          "(10.0, 20.0]",
          "(10.0, 20.0]",
          "(10.0, 20.0]",
          "(10.0, 20.0]",
          "(10.0, 20.0]",
          "(10.0, 20.0]",
          "(20.0, 30.0]",
          "(20.0, 30.0]",
          "(20.0, 30.0]",
          "(20.0, 30.0]",
          "(20.0, 30.0]",
          "(20.0, 30.0]",
          "(20.0, 30.0]",
          "(20.0, 30.0]",
          "(20.0, 30.0]",
          "(30.0, 40.0]",
          "(30.0, 40.0]",
          "(30.0, 40.0]",
          "(30.0, 40.0]",
          "(30.0, 40.0]",
          "(30.0, 40.0]",
          "(30.0, 40.0]",
          "(30.0, 40.0]",
          "(30.0, 40.0]",
          "(40.0, 50.0]",
          "(40.0, 50.0]",
          "(40.0, 50.0]",
          "(40.0, 50.0]",
          "(40.0, 50.0]",
          "(40.0, 50.0]",
          "(40.0, 50.0]",
          "(40.0, 50.0]",
          "(40.0, 50.0]",
          "(50.0, 60.0]",
          "(50.0, 60.0]",
          "(50.0, 60.0]",
          "(50.0, 60.0]",
          "(50.0, 60.0]",
          "(50.0, 60.0]",
          "(50.0, 60.0]",
          "(50.0, 60.0]",
          "(50.0, 60.0]",
          "(60.0, 70.0]",
          "(60.0, 70.0]",
          "(60.0, 70.0]",
          "(60.0, 70.0]",
          "(60.0, 70.0]",
          "(60.0, 70.0]",
          "(60.0, 70.0]",
          "(60.0, 70.0]",
          "(60.0, 70.0]",
          "(70.0, 80.0]",
          "(70.0, 80.0]",
          "(70.0, 80.0]",
          "(70.0, 80.0]",
          "(70.0, 80.0]",
          "(70.0, 80.0]",
          "(70.0, 80.0]",
          "(70.0, 80.0]",
          "(70.0, 80.0]",
          "(80.0, 90.0]",
          "(80.0, 90.0]",
          "(80.0, 90.0]",
          "(80.0, 90.0]",
          "(80.0, 90.0]",
          "(80.0, 90.0]",
          "(80.0, 90.0]",
          "(80.0, 90.0]",
          "(80.0, 90.0]",
          "(90.0, 100.0]",
          "(90.0, 100.0]",
          "(90.0, 100.0]",
          "(90.0, 100.0]",
          "(90.0, 100.0]",
          "(90.0, 100.0]",
          "(90.0, 100.0]",
          "(90.0, 100.0]",
          "(90.0, 100.0]"
         ],
         "xaxis": "x",
         "y": [
          13,
          0,
          0,
          0,
          0,
          0,
          0,
          0,
          0,
          9,
          0,
          0,
          0,
          0,
          0,
          0,
          0,
          0,
          27,
          0,
          0,
          0,
          0,
          0,
          0,
          0,
          0,
          17,
          0,
          0,
          0,
          0,
          0,
          0,
          0,
          0,
          47,
          0,
          0,
          0,
          0,
          0,
          0,
          0,
          0,
          22,
          0,
          0,
          0,
          0,
          0,
          0,
          0,
          0,
          14,
          0,
          0,
          0,
          0,
          0,
          0,
          0,
          0,
          14,
          0,
          0,
          0,
          0,
          0,
          0,
          0,
          0,
          17,
          0,
          0,
          0,
          0,
          0,
          0,
          0,
          0,
          15,
          0,
          0,
          0,
          0,
          0,
          0,
          0,
          0
         ],
         "yaxis": "y"
        }
       ],
       "layout": {
        "legend": {
         "title": {
          "text": "model"
         },
         "tracegroupgap": 0
        },
        "template": {
         "data": {
          "bar": [
           {
            "error_x": {
             "color": "#2a3f5f"
            },
            "error_y": {
             "color": "#2a3f5f"
            },
            "marker": {
             "line": {
              "color": "#E5ECF6",
              "width": 0.5
             },
             "pattern": {
              "fillmode": "overlay",
              "size": 10,
              "solidity": 0.2
             }
            },
            "type": "bar"
           }
          ],
          "barpolar": [
           {
            "marker": {
             "line": {
              "color": "#E5ECF6",
              "width": 0.5
             },
             "pattern": {
              "fillmode": "overlay",
              "size": 10,
              "solidity": 0.2
             }
            },
            "type": "barpolar"
           }
          ],
          "carpet": [
           {
            "aaxis": {
             "endlinecolor": "#2a3f5f",
             "gridcolor": "white",
             "linecolor": "white",
             "minorgridcolor": "white",
             "startlinecolor": "#2a3f5f"
            },
            "baxis": {
             "endlinecolor": "#2a3f5f",
             "gridcolor": "white",
             "linecolor": "white",
             "minorgridcolor": "white",
             "startlinecolor": "#2a3f5f"
            },
            "type": "carpet"
           }
          ],
          "choropleth": [
           {
            "colorbar": {
             "outlinewidth": 0,
             "ticks": ""
            },
            "type": "choropleth"
           }
          ],
          "contour": [
           {
            "colorbar": {
             "outlinewidth": 0,
             "ticks": ""
            },
            "colorscale": [
             [
              0,
              "#0d0887"
             ],
             [
              0.1111111111111111,
              "#46039f"
             ],
             [
              0.2222222222222222,
              "#7201a8"
             ],
             [
              0.3333333333333333,
              "#9c179e"
             ],
             [
              0.4444444444444444,
              "#bd3786"
             ],
             [
              0.5555555555555556,
              "#d8576b"
             ],
             [
              0.6666666666666666,
              "#ed7953"
             ],
             [
              0.7777777777777778,
              "#fb9f3a"
             ],
             [
              0.8888888888888888,
              "#fdca26"
             ],
             [
              1,
              "#f0f921"
             ]
            ],
            "type": "contour"
           }
          ],
          "contourcarpet": [
           {
            "colorbar": {
             "outlinewidth": 0,
             "ticks": ""
            },
            "type": "contourcarpet"
           }
          ],
          "heatmap": [
           {
            "colorbar": {
             "outlinewidth": 0,
             "ticks": ""
            },
            "colorscale": [
             [
              0,
              "#0d0887"
             ],
             [
              0.1111111111111111,
              "#46039f"
             ],
             [
              0.2222222222222222,
              "#7201a8"
             ],
             [
              0.3333333333333333,
              "#9c179e"
             ],
             [
              0.4444444444444444,
              "#bd3786"
             ],
             [
              0.5555555555555556,
              "#d8576b"
             ],
             [
              0.6666666666666666,
              "#ed7953"
             ],
             [
              0.7777777777777778,
              "#fb9f3a"
             ],
             [
              0.8888888888888888,
              "#fdca26"
             ],
             [
              1,
              "#f0f921"
             ]
            ],
            "type": "heatmap"
           }
          ],
          "heatmapgl": [
           {
            "colorbar": {
             "outlinewidth": 0,
             "ticks": ""
            },
            "colorscale": [
             [
              0,
              "#0d0887"
             ],
             [
              0.1111111111111111,
              "#46039f"
             ],
             [
              0.2222222222222222,
              "#7201a8"
             ],
             [
              0.3333333333333333,
              "#9c179e"
             ],
             [
              0.4444444444444444,
              "#bd3786"
             ],
             [
              0.5555555555555556,
              "#d8576b"
             ],
             [
              0.6666666666666666,
              "#ed7953"
             ],
             [
              0.7777777777777778,
              "#fb9f3a"
             ],
             [
              0.8888888888888888,
              "#fdca26"
             ],
             [
              1,
              "#f0f921"
             ]
            ],
            "type": "heatmapgl"
           }
          ],
          "histogram": [
           {
            "marker": {
             "pattern": {
              "fillmode": "overlay",
              "size": 10,
              "solidity": 0.2
             }
            },
            "type": "histogram"
           }
          ],
          "histogram2d": [
           {
            "colorbar": {
             "outlinewidth": 0,
             "ticks": ""
            },
            "colorscale": [
             [
              0,
              "#0d0887"
             ],
             [
              0.1111111111111111,
              "#46039f"
             ],
             [
              0.2222222222222222,
              "#7201a8"
             ],
             [
              0.3333333333333333,
              "#9c179e"
             ],
             [
              0.4444444444444444,
              "#bd3786"
             ],
             [
              0.5555555555555556,
              "#d8576b"
             ],
             [
              0.6666666666666666,
              "#ed7953"
             ],
             [
              0.7777777777777778,
              "#fb9f3a"
             ],
             [
              0.8888888888888888,
              "#fdca26"
             ],
             [
              1,
              "#f0f921"
             ]
            ],
            "type": "histogram2d"
           }
          ],
          "histogram2dcontour": [
           {
            "colorbar": {
             "outlinewidth": 0,
             "ticks": ""
            },
            "colorscale": [
             [
              0,
              "#0d0887"
             ],
             [
              0.1111111111111111,
              "#46039f"
             ],
             [
              0.2222222222222222,
              "#7201a8"
             ],
             [
              0.3333333333333333,
              "#9c179e"
             ],
             [
              0.4444444444444444,
              "#bd3786"
             ],
             [
              0.5555555555555556,
              "#d8576b"
             ],
             [
              0.6666666666666666,
              "#ed7953"
             ],
             [
              0.7777777777777778,
              "#fb9f3a"
             ],
             [
              0.8888888888888888,
              "#fdca26"
             ],
             [
              1,
              "#f0f921"
             ]
            ],
            "type": "histogram2dcontour"
           }
          ],
          "mesh3d": [
           {
            "colorbar": {
             "outlinewidth": 0,
             "ticks": ""
            },
            "type": "mesh3d"
           }
          ],
          "parcoords": [
           {
            "line": {
             "colorbar": {
              "outlinewidth": 0,
              "ticks": ""
             }
            },
            "type": "parcoords"
           }
          ],
          "pie": [
           {
            "automargin": true,
            "type": "pie"
           }
          ],
          "scatter": [
           {
            "fillpattern": {
             "fillmode": "overlay",
             "size": 10,
             "solidity": 0.2
            },
            "type": "scatter"
           }
          ],
          "scatter3d": [
           {
            "line": {
             "colorbar": {
              "outlinewidth": 0,
              "ticks": ""
             }
            },
            "marker": {
             "colorbar": {
              "outlinewidth": 0,
              "ticks": ""
             }
            },
            "type": "scatter3d"
           }
          ],
          "scattercarpet": [
           {
            "marker": {
             "colorbar": {
              "outlinewidth": 0,
              "ticks": ""
             }
            },
            "type": "scattercarpet"
           }
          ],
          "scattergeo": [
           {
            "marker": {
             "colorbar": {
              "outlinewidth": 0,
              "ticks": ""
             }
            },
            "type": "scattergeo"
           }
          ],
          "scattergl": [
           {
            "marker": {
             "colorbar": {
              "outlinewidth": 0,
              "ticks": ""
             }
            },
            "type": "scattergl"
           }
          ],
          "scattermapbox": [
           {
            "marker": {
             "colorbar": {
              "outlinewidth": 0,
              "ticks": ""
             }
            },
            "type": "scattermapbox"
           }
          ],
          "scatterpolar": [
           {
            "marker": {
             "colorbar": {
              "outlinewidth": 0,
              "ticks": ""
             }
            },
            "type": "scatterpolar"
           }
          ],
          "scatterpolargl": [
           {
            "marker": {
             "colorbar": {
              "outlinewidth": 0,
              "ticks": ""
             }
            },
            "type": "scatterpolargl"
           }
          ],
          "scatterternary": [
           {
            "marker": {
             "colorbar": {
              "outlinewidth": 0,
              "ticks": ""
             }
            },
            "type": "scatterternary"
           }
          ],
          "surface": [
           {
            "colorbar": {
             "outlinewidth": 0,
             "ticks": ""
            },
            "colorscale": [
             [
              0,
              "#0d0887"
             ],
             [
              0.1111111111111111,
              "#46039f"
             ],
             [
              0.2222222222222222,
              "#7201a8"
             ],
             [
              0.3333333333333333,
              "#9c179e"
             ],
             [
              0.4444444444444444,
              "#bd3786"
             ],
             [
              0.5555555555555556,
              "#d8576b"
             ],
             [
              0.6666666666666666,
              "#ed7953"
             ],
             [
              0.7777777777777778,
              "#fb9f3a"
             ],
             [
              0.8888888888888888,
              "#fdca26"
             ],
             [
              1,
              "#f0f921"
             ]
            ],
            "type": "surface"
           }
          ],
          "table": [
           {
            "cells": {
             "fill": {
              "color": "#EBF0F8"
             },
             "line": {
              "color": "white"
             }
            },
            "header": {
             "fill": {
              "color": "#C8D4E3"
             },
             "line": {
              "color": "white"
             }
            },
            "type": "table"
           }
          ]
         },
         "layout": {
          "annotationdefaults": {
           "arrowcolor": "#2a3f5f",
           "arrowhead": 0,
           "arrowwidth": 1
          },
          "autotypenumbers": "strict",
          "coloraxis": {
           "colorbar": {
            "outlinewidth": 0,
            "ticks": ""
           }
          },
          "colorscale": {
           "diverging": [
            [
             0,
             "#8e0152"
            ],
            [
             0.1,
             "#c51b7d"
            ],
            [
             0.2,
             "#de77ae"
            ],
            [
             0.3,
             "#f1b6da"
            ],
            [
             0.4,
             "#fde0ef"
            ],
            [
             0.5,
             "#f7f7f7"
            ],
            [
             0.6,
             "#e6f5d0"
            ],
            [
             0.7,
             "#b8e186"
            ],
            [
             0.8,
             "#7fbc41"
            ],
            [
             0.9,
             "#4d9221"
            ],
            [
             1,
             "#276419"
            ]
           ],
           "sequential": [
            [
             0,
             "#0d0887"
            ],
            [
             0.1111111111111111,
             "#46039f"
            ],
            [
             0.2222222222222222,
             "#7201a8"
            ],
            [
             0.3333333333333333,
             "#9c179e"
            ],
            [
             0.4444444444444444,
             "#bd3786"
            ],
            [
             0.5555555555555556,
             "#d8576b"
            ],
            [
             0.6666666666666666,
             "#ed7953"
            ],
            [
             0.7777777777777778,
             "#fb9f3a"
            ],
            [
             0.8888888888888888,
             "#fdca26"
            ],
            [
             1,
             "#f0f921"
            ]
           ],
           "sequentialminus": [
            [
             0,
             "#0d0887"
            ],
            [
             0.1111111111111111,
             "#46039f"
            ],
            [
             0.2222222222222222,
             "#7201a8"
            ],
            [
             0.3333333333333333,
             "#9c179e"
            ],
            [
             0.4444444444444444,
             "#bd3786"
            ],
            [
             0.5555555555555556,
             "#d8576b"
            ],
            [
             0.6666666666666666,
             "#ed7953"
            ],
            [
             0.7777777777777778,
             "#fb9f3a"
            ],
            [
             0.8888888888888888,
             "#fdca26"
            ],
            [
             1,
             "#f0f921"
            ]
           ]
          },
          "colorway": [
           "#636efa",
           "#EF553B",
           "#00cc96",
           "#ab63fa",
           "#FFA15A",
           "#19d3f3",
           "#FF6692",
           "#B6E880",
           "#FF97FF",
           "#FECB52"
          ],
          "font": {
           "color": "#2a3f5f"
          },
          "geo": {
           "bgcolor": "white",
           "lakecolor": "white",
           "landcolor": "#E5ECF6",
           "showlakes": true,
           "showland": true,
           "subunitcolor": "white"
          },
          "hoverlabel": {
           "align": "left"
          },
          "hovermode": "closest",
          "mapbox": {
           "style": "light"
          },
          "paper_bgcolor": "white",
          "plot_bgcolor": "#E5ECF6",
          "polar": {
           "angularaxis": {
            "gridcolor": "white",
            "linecolor": "white",
            "ticks": ""
           },
           "bgcolor": "#E5ECF6",
           "radialaxis": {
            "gridcolor": "white",
            "linecolor": "white",
            "ticks": ""
           }
          },
          "scene": {
           "xaxis": {
            "backgroundcolor": "#E5ECF6",
            "gridcolor": "white",
            "gridwidth": 2,
            "linecolor": "white",
            "showbackground": true,
            "ticks": "",
            "zerolinecolor": "white"
           },
           "yaxis": {
            "backgroundcolor": "#E5ECF6",
            "gridcolor": "white",
            "gridwidth": 2,
            "linecolor": "white",
            "showbackground": true,
            "ticks": "",
            "zerolinecolor": "white"
           },
           "zaxis": {
            "backgroundcolor": "#E5ECF6",
            "gridcolor": "white",
            "gridwidth": 2,
            "linecolor": "white",
            "showbackground": true,
            "ticks": "",
            "zerolinecolor": "white"
           }
          },
          "shapedefaults": {
           "line": {
            "color": "#2a3f5f"
           }
          },
          "ternary": {
           "aaxis": {
            "gridcolor": "white",
            "linecolor": "white",
            "ticks": ""
           },
           "baxis": {
            "gridcolor": "white",
            "linecolor": "white",
            "ticks": ""
           },
           "bgcolor": "#E5ECF6",
           "caxis": {
            "gridcolor": "white",
            "linecolor": "white",
            "ticks": ""
           }
          },
          "title": {
           "x": 0.05
          },
          "xaxis": {
           "automargin": true,
           "gridcolor": "white",
           "linecolor": "white",
           "ticks": "",
           "title": {
            "standoff": 15
           },
           "zerolinecolor": "white",
           "zerolinewidth": 2
          },
          "yaxis": {
           "automargin": true,
           "gridcolor": "white",
           "linecolor": "white",
           "ticks": "",
           "title": {
            "standoff": 15
           },
           "zerolinecolor": "white",
           "zerolinewidth": 2
          }
         }
        },
        "title": {
         "text": "Hate Speech Probability (only hatefull, our probability should be 1)"
        },
        "xaxis": {
         "anchor": "y",
         "domain": [
          0,
          1
         ],
         "title": {
          "text": "bin"
         }
        },
        "yaxis": {
         "anchor": "x",
         "domain": [
          0,
          1
         ],
         "title": {
          "text": "text"
         }
        }
       }
      }
     },
     "metadata": {},
     "output_type": "display_data"
    }
   ],
   "source": [
    "import numpy as np\n",
    "import plotly.express as px\n",
    "\n",
    "df[\"bin\"] = pd.cut(df['hate_speech_probability'] * 100, bins=np.arange(0, 110, 10), include_lowest=True)\n",
    "df['bin'] = df[\"bin\"].apply(lambda bin: str(bin))\n",
    "\n",
    "true_df = df.query(\"labeled_hateful\")\n",
    "df_grouped = true_df.groupby([\"bin\", \"model\", \"prompt_id\"]).count().reset_index()\n",
    "fig = px.scatter(df_grouped, x=\"bin\", y=\"text\", color=\"model\", hover_data=\"prompt_id\", hover_name=\"model\",\n",
    "                 title=\"Hate Speech Probability (only hatefull, our probability should be 1)\")\n",
    "fig.show()"
   ]
  },
  {
   "cell_type": "code",
   "execution_count": 8,
   "metadata": {},
   "outputs": [
    {
     "name": "stdout",
     "output_type": "stream",
     "text": [
      "---------- mistral-7b-instruct - 0 -----------\n",
      "---------- mistral-7b-instruct - 1 -----------\n",
      "---------- mistral-7b-instruct - 5 -----------\n",
      "---------- mistral-7b-instruct - 6 -----------\n",
      "---------- mistral-7b-instruct - 7 -----------\n",
      "---------- mistral-7b-instruct - 8 -----------\n",
      "-- fine-tuned-mistral-7b-v0.2-instruct - 0 ---\n",
      "-- fine-tuned-mistral-7b-v0.2-instruct - 1 ---\n"
     ]
    }
   ],
   "source": [
    "from sklearn.metrics import roc_auc_score, log_loss, brier_score_loss, f1_score, accuracy_score\n",
    "\n",
    "metrics = []\n",
    "classified_metrics = []\n",
    "for model in df[\"model\"].unique():\n",
    "    if \"mistral\" not in model:\n",
    "        continue\n",
    "    # Assuming y_true is your array of true labels and y_pred is your array of predicted probabilities\n",
    "    no_nans = df[df[\"hate_speech_probability\"].notna()]\n",
    "    filtered_by_promt = no_nans[no_nans[\"prompt_id\"].apply(lambda prompt_id:not (2<=prompt_id<=4))]\n",
    "    filtered_by_model = filtered_by_promt[filtered_by_promt[\"model\"] == model]\n",
    "    \n",
    "    for prompt_id in filtered_by_model[\"prompt_id\"].unique():\n",
    "        model_prompt_specific = filtered_by_model[filtered_by_model[\"prompt_id\"] == prompt_id]\n",
    "        y_true = model_prompt_specific['labeled_hateful']\n",
    "        y_pred = model_prompt_specific['hate_speech_probability']\n",
    "\n",
    "        print(f\" {model} - {prompt_id} \".center(46, '-'))\n",
    "        metrics.append(\n",
    "            {\"color\": f\"{model} - {prompt_id}\", \"metric\": \"roc_auc_score\", \"value\": roc_auc_score(y_true, y_pred)})\n",
    "        metrics.append({\"color\": f\"{model} - {prompt_id}\", \"metric\": \"log_loss\", \"value\": log_loss(y_true, y_pred)})\n",
    "        metrics.append({\"color\": f\"{model} - {prompt_id}\", \"metric\": \"brier_score_loss\",\n",
    "                        \"value\": brier_score_loss(y_true, y_pred)})\n",
    "\n",
    "        for i in range(100):\n",
    "            cuttoff = i / 100\n",
    "            classification = y_pred.apply(lambda x: x > cuttoff)\n",
    "            classified_metrics.append({\"x\": cuttoff,\n",
    "                                       \"color\": f\"{model} - {prompt_id}\",\n",
    "                                       \"f1\": f1_score(y_true, classification),\n",
    "                                       \"accuracy\": accuracy_score(y_true, classification)})"
   ]
  },
  {
   "cell_type": "code",
   "execution_count": 9,
   "metadata": {
    "collapsed": false
   },
   "outputs": [
    {
     "data": {
      "application/vnd.plotly.v1+json": {
       "config": {
        "plotlyServerURL": "https://plot.ly"
       },
       "data": [
        {
         "alignmentgroup": "True",
         "hovertemplate": "color=%{x}<br>metric=roc_auc_score<br>value=%{y}<extra></extra>",
         "legendgroup": "mistral-7b-instruct - 0",
         "marker": {
          "color": "#636efa",
          "pattern": {
           "shape": ""
          }
         },
         "name": "mistral-7b-instruct - 0",
         "offsetgroup": "mistral-7b-instruct - 0",
         "orientation": "v",
         "showlegend": true,
         "textposition": "auto",
         "type": "bar",
         "x": [
          "mistral-7b-instruct - 0"
         ],
         "xaxis": "x",
         "y": [
          0.8663902242119554
         ],
         "yaxis": "y"
        },
        {
         "alignmentgroup": "True",
         "hovertemplate": "color=%{x}<br>metric=log_loss<br>value=%{y}<extra></extra>",
         "legendgroup": "mistral-7b-instruct - 0",
         "marker": {
          "color": "#636efa",
          "pattern": {
           "shape": ""
          }
         },
         "name": "mistral-7b-instruct - 0",
         "offsetgroup": "mistral-7b-instruct - 0",
         "orientation": "v",
         "showlegend": false,
         "textposition": "auto",
         "type": "bar",
         "x": [
          "mistral-7b-instruct - 0"
         ],
         "xaxis": "x2",
         "y": [
          1.5364423370243363
         ],
         "yaxis": "y2"
        },
        {
         "alignmentgroup": "True",
         "hovertemplate": "color=%{x}<br>metric=brier_score_loss<br>value=%{y}<extra></extra>",
         "legendgroup": "mistral-7b-instruct - 0",
         "marker": {
          "color": "#636efa",
          "pattern": {
           "shape": ""
          }
         },
         "name": "mistral-7b-instruct - 0",
         "offsetgroup": "mistral-7b-instruct - 0",
         "orientation": "v",
         "showlegend": false,
         "textposition": "auto",
         "type": "bar",
         "x": [
          "mistral-7b-instruct - 0"
         ],
         "xaxis": "x3",
         "y": [
          0.17990835117773019
         ],
         "yaxis": "y3"
        },
        {
         "alignmentgroup": "True",
         "hovertemplate": "color=%{x}<br>metric=roc_auc_score<br>value=%{y}<extra></extra>",
         "legendgroup": "mistral-7b-instruct - 1",
         "marker": {
          "color": "#EF553B",
          "pattern": {
           "shape": ""
          }
         },
         "name": "mistral-7b-instruct - 1",
         "offsetgroup": "mistral-7b-instruct - 1",
         "orientation": "v",
         "showlegend": true,
         "textposition": "auto",
         "type": "bar",
         "x": [
          "mistral-7b-instruct - 1"
         ],
         "xaxis": "x",
         "y": [
          0.7974544778892605
         ],
         "yaxis": "y"
        },
        {
         "alignmentgroup": "True",
         "hovertemplate": "color=%{x}<br>metric=log_loss<br>value=%{y}<extra></extra>",
         "legendgroup": "mistral-7b-instruct - 1",
         "marker": {
          "color": "#EF553B",
          "pattern": {
           "shape": ""
          }
         },
         "name": "mistral-7b-instruct - 1",
         "offsetgroup": "mistral-7b-instruct - 1",
         "orientation": "v",
         "showlegend": false,
         "textposition": "auto",
         "type": "bar",
         "x": [
          "mistral-7b-instruct - 1"
         ],
         "xaxis": "x2",
         "y": [
          1.43790559586025
         ],
         "yaxis": "y2"
        },
        {
         "alignmentgroup": "True",
         "hovertemplate": "color=%{x}<br>metric=brier_score_loss<br>value=%{y}<extra></extra>",
         "legendgroup": "mistral-7b-instruct - 1",
         "marker": {
          "color": "#EF553B",
          "pattern": {
           "shape": ""
          }
         },
         "name": "mistral-7b-instruct - 1",
         "offsetgroup": "mistral-7b-instruct - 1",
         "orientation": "v",
         "showlegend": false,
         "textposition": "auto",
         "type": "bar",
         "x": [
          "mistral-7b-instruct - 1"
         ],
         "xaxis": "x3",
         "y": [
          0.20107241379310345
         ],
         "yaxis": "y3"
        },
        {
         "alignmentgroup": "True",
         "hovertemplate": "color=%{x}<br>metric=roc_auc_score<br>value=%{y}<extra></extra>",
         "legendgroup": "mistral-7b-instruct - 5",
         "marker": {
          "color": "#00cc96",
          "pattern": {
           "shape": ""
          }
         },
         "name": "mistral-7b-instruct - 5",
         "offsetgroup": "mistral-7b-instruct - 5",
         "orientation": "v",
         "showlegend": true,
         "textposition": "auto",
         "type": "bar",
         "x": [
          "mistral-7b-instruct - 5"
         ],
         "xaxis": "x",
         "y": [
          0.8394918753927643
         ],
         "yaxis": "y"
        },
        {
         "alignmentgroup": "True",
         "hovertemplate": "color=%{x}<br>metric=log_loss<br>value=%{y}<extra></extra>",
         "legendgroup": "mistral-7b-instruct - 5",
         "marker": {
          "color": "#00cc96",
          "pattern": {
           "shape": ""
          }
         },
         "name": "mistral-7b-instruct - 5",
         "offsetgroup": "mistral-7b-instruct - 5",
         "orientation": "v",
         "showlegend": false,
         "textposition": "auto",
         "type": "bar",
         "x": [
          "mistral-7b-instruct - 5"
         ],
         "xaxis": "x2",
         "y": [
          1.9505076017495877
         ],
         "yaxis": "y2"
        },
        {
         "alignmentgroup": "True",
         "hovertemplate": "color=%{x}<br>metric=brier_score_loss<br>value=%{y}<extra></extra>",
         "legendgroup": "mistral-7b-instruct - 5",
         "marker": {
          "color": "#00cc96",
          "pattern": {
           "shape": ""
          }
         },
         "name": "mistral-7b-instruct - 5",
         "offsetgroup": "mistral-7b-instruct - 5",
         "orientation": "v",
         "showlegend": false,
         "textposition": "auto",
         "type": "bar",
         "x": [
          "mistral-7b-instruct - 5"
         ],
         "xaxis": "x3",
         "y": [
          0.21022542372881356
         ],
         "yaxis": "y3"
        },
        {
         "alignmentgroup": "True",
         "hovertemplate": "color=%{x}<br>metric=roc_auc_score<br>value=%{y}<extra></extra>",
         "legendgroup": "mistral-7b-instruct - 6",
         "marker": {
          "color": "#ab63fa",
          "pattern": {
           "shape": ""
          }
         },
         "name": "mistral-7b-instruct - 6",
         "offsetgroup": "mistral-7b-instruct - 6",
         "orientation": "v",
         "showlegend": true,
         "textposition": "auto",
         "type": "bar",
         "x": [
          "mistral-7b-instruct - 6"
         ],
         "xaxis": "x",
         "y": [
          0.8705653809641011
         ],
         "yaxis": "y"
        },
        {
         "alignmentgroup": "True",
         "hovertemplate": "color=%{x}<br>metric=log_loss<br>value=%{y}<extra></extra>",
         "legendgroup": "mistral-7b-instruct - 6",
         "marker": {
          "color": "#ab63fa",
          "pattern": {
           "shape": ""
          }
         },
         "name": "mistral-7b-instruct - 6",
         "offsetgroup": "mistral-7b-instruct - 6",
         "orientation": "v",
         "showlegend": false,
         "textposition": "auto",
         "type": "bar",
         "x": [
          "mistral-7b-instruct - 6"
         ],
         "xaxis": "x2",
         "y": [
          1.9093504659967537
         ],
         "yaxis": "y2"
        },
        {
         "alignmentgroup": "True",
         "hovertemplate": "color=%{x}<br>metric=brier_score_loss<br>value=%{y}<extra></extra>",
         "legendgroup": "mistral-7b-instruct - 6",
         "marker": {
          "color": "#ab63fa",
          "pattern": {
           "shape": ""
          }
         },
         "name": "mistral-7b-instruct - 6",
         "offsetgroup": "mistral-7b-instruct - 6",
         "orientation": "v",
         "showlegend": false,
         "textposition": "auto",
         "type": "bar",
         "x": [
          "mistral-7b-instruct - 6"
         ],
         "xaxis": "x3",
         "y": [
          0.17530613207547172
         ],
         "yaxis": "y3"
        },
        {
         "alignmentgroup": "True",
         "hovertemplate": "color=%{x}<br>metric=roc_auc_score<br>value=%{y}<extra></extra>",
         "legendgroup": "mistral-7b-instruct - 7",
         "marker": {
          "color": "#FFA15A",
          "pattern": {
           "shape": ""
          }
         },
         "name": "mistral-7b-instruct - 7",
         "offsetgroup": "mistral-7b-instruct - 7",
         "orientation": "v",
         "showlegend": true,
         "textposition": "auto",
         "type": "bar",
         "x": [
          "mistral-7b-instruct - 7"
         ],
         "xaxis": "x",
         "y": [
          0.8651705826725831
         ],
         "yaxis": "y"
        },
        {
         "alignmentgroup": "True",
         "hovertemplate": "color=%{x}<br>metric=log_loss<br>value=%{y}<extra></extra>",
         "legendgroup": "mistral-7b-instruct - 7",
         "marker": {
          "color": "#FFA15A",
          "pattern": {
           "shape": ""
          }
         },
         "name": "mistral-7b-instruct - 7",
         "offsetgroup": "mistral-7b-instruct - 7",
         "orientation": "v",
         "showlegend": false,
         "textposition": "auto",
         "type": "bar",
         "x": [
          "mistral-7b-instruct - 7"
         ],
         "xaxis": "x2",
         "y": [
          1.4744259192177782
         ],
         "yaxis": "y2"
        },
        {
         "alignmentgroup": "True",
         "hovertemplate": "color=%{x}<br>metric=brier_score_loss<br>value=%{y}<extra></extra>",
         "legendgroup": "mistral-7b-instruct - 7",
         "marker": {
          "color": "#FFA15A",
          "pattern": {
           "shape": ""
          }
         },
         "name": "mistral-7b-instruct - 7",
         "offsetgroup": "mistral-7b-instruct - 7",
         "orientation": "v",
         "showlegend": false,
         "textposition": "auto",
         "type": "bar",
         "x": [
          "mistral-7b-instruct - 7"
         ],
         "xaxis": "x3",
         "y": [
          0.18939466950959488
         ],
         "yaxis": "y3"
        },
        {
         "alignmentgroup": "True",
         "hovertemplate": "color=%{x}<br>metric=roc_auc_score<br>value=%{y}<extra></extra>",
         "legendgroup": "mistral-7b-instruct - 8",
         "marker": {
          "color": "#19d3f3",
          "pattern": {
           "shape": ""
          }
         },
         "name": "mistral-7b-instruct - 8",
         "offsetgroup": "mistral-7b-instruct - 8",
         "orientation": "v",
         "showlegend": true,
         "textposition": "auto",
         "type": "bar",
         "x": [
          "mistral-7b-instruct - 8"
         ],
         "xaxis": "x",
         "y": [
          0.8670617893155975
         ],
         "yaxis": "y"
        },
        {
         "alignmentgroup": "True",
         "hovertemplate": "color=%{x}<br>metric=log_loss<br>value=%{y}<extra></extra>",
         "legendgroup": "mistral-7b-instruct - 8",
         "marker": {
          "color": "#19d3f3",
          "pattern": {
           "shape": ""
          }
         },
         "name": "mistral-7b-instruct - 8",
         "offsetgroup": "mistral-7b-instruct - 8",
         "orientation": "v",
         "showlegend": false,
         "textposition": "auto",
         "type": "bar",
         "x": [
          "mistral-7b-instruct - 8"
         ],
         "xaxis": "x2",
         "y": [
          1.6172077009202206
         ],
         "yaxis": "y2"
        },
        {
         "alignmentgroup": "True",
         "hovertemplate": "color=%{x}<br>metric=brier_score_loss<br>value=%{y}<extra></extra>",
         "legendgroup": "mistral-7b-instruct - 8",
         "marker": {
          "color": "#19d3f3",
          "pattern": {
           "shape": ""
          }
         },
         "name": "mistral-7b-instruct - 8",
         "offsetgroup": "mistral-7b-instruct - 8",
         "orientation": "v",
         "showlegend": false,
         "textposition": "auto",
         "type": "bar",
         "x": [
          "mistral-7b-instruct - 8"
         ],
         "xaxis": "x3",
         "y": [
          0.19093911205073996
         ],
         "yaxis": "y3"
        },
        {
         "alignmentgroup": "True",
         "hovertemplate": "color=%{x}<br>metric=roc_auc_score<br>value=%{y}<extra></extra>",
         "legendgroup": "fine-tuned-mistral-7b-v0.2-instruct - 0",
         "marker": {
          "color": "#FF6692",
          "pattern": {
           "shape": ""
          }
         },
         "name": "fine-tuned-mistral-7b-v0.2-instruct - 0",
         "offsetgroup": "fine-tuned-mistral-7b-v0.2-instruct - 0",
         "orientation": "v",
         "showlegend": true,
         "textposition": "auto",
         "type": "bar",
         "x": [
          "fine-tuned-mistral-7b-v0.2-instruct - 0"
         ],
         "xaxis": "x",
         "y": [
          0.8515607219761558
         ],
         "yaxis": "y"
        },
        {
         "alignmentgroup": "True",
         "hovertemplate": "color=%{x}<br>metric=log_loss<br>value=%{y}<extra></extra>",
         "legendgroup": "fine-tuned-mistral-7b-v0.2-instruct - 0",
         "marker": {
          "color": "#FF6692",
          "pattern": {
           "shape": ""
          }
         },
         "name": "fine-tuned-mistral-7b-v0.2-instruct - 0",
         "offsetgroup": "fine-tuned-mistral-7b-v0.2-instruct - 0",
         "orientation": "v",
         "showlegend": false,
         "textposition": "auto",
         "type": "bar",
         "x": [
          "fine-tuned-mistral-7b-v0.2-instruct - 0"
         ],
         "xaxis": "x2",
         "y": [
          4.358823747977129
         ],
         "yaxis": "y2"
        },
        {
         "alignmentgroup": "True",
         "hovertemplate": "color=%{x}<br>metric=brier_score_loss<br>value=%{y}<extra></extra>",
         "legendgroup": "fine-tuned-mistral-7b-v0.2-instruct - 0",
         "marker": {
          "color": "#FF6692",
          "pattern": {
           "shape": ""
          }
         },
         "name": "fine-tuned-mistral-7b-v0.2-instruct - 0",
         "offsetgroup": "fine-tuned-mistral-7b-v0.2-instruct - 0",
         "orientation": "v",
         "showlegend": false,
         "textposition": "auto",
         "type": "bar",
         "x": [
          "fine-tuned-mistral-7b-v0.2-instruct - 0"
         ],
         "xaxis": "x3",
         "y": [
          0.1646713389121339
         ],
         "yaxis": "y3"
        },
        {
         "alignmentgroup": "True",
         "hovertemplate": "color=%{x}<br>metric=roc_auc_score<br>value=%{y}<extra></extra>",
         "legendgroup": "fine-tuned-mistral-7b-v0.2-instruct - 1",
         "marker": {
          "color": "#B6E880",
          "pattern": {
           "shape": ""
          }
         },
         "name": "fine-tuned-mistral-7b-v0.2-instruct - 1",
         "offsetgroup": "fine-tuned-mistral-7b-v0.2-instruct - 1",
         "orientation": "v",
         "showlegend": true,
         "textposition": "auto",
         "type": "bar",
         "x": [
          "fine-tuned-mistral-7b-v0.2-instruct - 1"
         ],
         "xaxis": "x",
         "y": [
          0.8476096320881293
         ],
         "yaxis": "y"
        },
        {
         "alignmentgroup": "True",
         "hovertemplate": "color=%{x}<br>metric=log_loss<br>value=%{y}<extra></extra>",
         "legendgroup": "fine-tuned-mistral-7b-v0.2-instruct - 1",
         "marker": {
          "color": "#B6E880",
          "pattern": {
           "shape": ""
          }
         },
         "name": "fine-tuned-mistral-7b-v0.2-instruct - 1",
         "offsetgroup": "fine-tuned-mistral-7b-v0.2-instruct - 1",
         "orientation": "v",
         "showlegend": false,
         "textposition": "auto",
         "type": "bar",
         "x": [
          "fine-tuned-mistral-7b-v0.2-instruct - 1"
         ],
         "xaxis": "x2",
         "y": [
          3.924788251181882
         ],
         "yaxis": "y2"
        },
        {
         "alignmentgroup": "True",
         "hovertemplate": "color=%{x}<br>metric=brier_score_loss<br>value=%{y}<extra></extra>",
         "legendgroup": "fine-tuned-mistral-7b-v0.2-instruct - 1",
         "marker": {
          "color": "#B6E880",
          "pattern": {
           "shape": ""
          }
         },
         "name": "fine-tuned-mistral-7b-v0.2-instruct - 1",
         "offsetgroup": "fine-tuned-mistral-7b-v0.2-instruct - 1",
         "orientation": "v",
         "showlegend": false,
         "textposition": "auto",
         "type": "bar",
         "x": [
          "fine-tuned-mistral-7b-v0.2-instruct - 1"
         ],
         "xaxis": "x3",
         "y": [
          0.18035714285714285
         ],
         "yaxis": "y3"
        }
       ],
       "layout": {
        "annotations": [
         {
          "font": {},
          "showarrow": false,
          "text": "metric=roc_auc_score",
          "x": 0.15,
          "xanchor": "center",
          "xref": "paper",
          "y": 1,
          "yanchor": "bottom",
          "yref": "paper"
         },
         {
          "font": {},
          "showarrow": false,
          "text": "metric=log_loss",
          "x": 0.49999999999999994,
          "xanchor": "center",
          "xref": "paper",
          "y": 1,
          "yanchor": "bottom",
          "yref": "paper"
         },
         {
          "font": {},
          "showarrow": false,
          "text": "metric=brier_score_loss",
          "x": 0.85,
          "xanchor": "center",
          "xref": "paper",
          "y": 1,
          "yanchor": "bottom",
          "yref": "paper"
         }
        ],
        "barmode": "relative",
        "height": 700,
        "legend": {
         "orientation": "h",
         "title": {
          "text": "color"
         },
         "tracegroupgap": 0,
         "x": 0.5,
         "xanchor": "center",
         "y": -0.5,
         "yanchor": "top"
        },
        "margin": {
         "t": 60
        },
        "template": {
         "data": {
          "bar": [
           {
            "error_x": {
             "color": "#2a3f5f"
            },
            "error_y": {
             "color": "#2a3f5f"
            },
            "marker": {
             "line": {
              "color": "#E5ECF6",
              "width": 0.5
             },
             "pattern": {
              "fillmode": "overlay",
              "size": 10,
              "solidity": 0.2
             }
            },
            "type": "bar"
           }
          ],
          "barpolar": [
           {
            "marker": {
             "line": {
              "color": "#E5ECF6",
              "width": 0.5
             },
             "pattern": {
              "fillmode": "overlay",
              "size": 10,
              "solidity": 0.2
             }
            },
            "type": "barpolar"
           }
          ],
          "carpet": [
           {
            "aaxis": {
             "endlinecolor": "#2a3f5f",
             "gridcolor": "white",
             "linecolor": "white",
             "minorgridcolor": "white",
             "startlinecolor": "#2a3f5f"
            },
            "baxis": {
             "endlinecolor": "#2a3f5f",
             "gridcolor": "white",
             "linecolor": "white",
             "minorgridcolor": "white",
             "startlinecolor": "#2a3f5f"
            },
            "type": "carpet"
           }
          ],
          "choropleth": [
           {
            "colorbar": {
             "outlinewidth": 0,
             "ticks": ""
            },
            "type": "choropleth"
           }
          ],
          "contour": [
           {
            "colorbar": {
             "outlinewidth": 0,
             "ticks": ""
            },
            "colorscale": [
             [
              0,
              "#0d0887"
             ],
             [
              0.1111111111111111,
              "#46039f"
             ],
             [
              0.2222222222222222,
              "#7201a8"
             ],
             [
              0.3333333333333333,
              "#9c179e"
             ],
             [
              0.4444444444444444,
              "#bd3786"
             ],
             [
              0.5555555555555556,
              "#d8576b"
             ],
             [
              0.6666666666666666,
              "#ed7953"
             ],
             [
              0.7777777777777778,
              "#fb9f3a"
             ],
             [
              0.8888888888888888,
              "#fdca26"
             ],
             [
              1,
              "#f0f921"
             ]
            ],
            "type": "contour"
           }
          ],
          "contourcarpet": [
           {
            "colorbar": {
             "outlinewidth": 0,
             "ticks": ""
            },
            "type": "contourcarpet"
           }
          ],
          "heatmap": [
           {
            "colorbar": {
             "outlinewidth": 0,
             "ticks": ""
            },
            "colorscale": [
             [
              0,
              "#0d0887"
             ],
             [
              0.1111111111111111,
              "#46039f"
             ],
             [
              0.2222222222222222,
              "#7201a8"
             ],
             [
              0.3333333333333333,
              "#9c179e"
             ],
             [
              0.4444444444444444,
              "#bd3786"
             ],
             [
              0.5555555555555556,
              "#d8576b"
             ],
             [
              0.6666666666666666,
              "#ed7953"
             ],
             [
              0.7777777777777778,
              "#fb9f3a"
             ],
             [
              0.8888888888888888,
              "#fdca26"
             ],
             [
              1,
              "#f0f921"
             ]
            ],
            "type": "heatmap"
           }
          ],
          "heatmapgl": [
           {
            "colorbar": {
             "outlinewidth": 0,
             "ticks": ""
            },
            "colorscale": [
             [
              0,
              "#0d0887"
             ],
             [
              0.1111111111111111,
              "#46039f"
             ],
             [
              0.2222222222222222,
              "#7201a8"
             ],
             [
              0.3333333333333333,
              "#9c179e"
             ],
             [
              0.4444444444444444,
              "#bd3786"
             ],
             [
              0.5555555555555556,
              "#d8576b"
             ],
             [
              0.6666666666666666,
              "#ed7953"
             ],
             [
              0.7777777777777778,
              "#fb9f3a"
             ],
             [
              0.8888888888888888,
              "#fdca26"
             ],
             [
              1,
              "#f0f921"
             ]
            ],
            "type": "heatmapgl"
           }
          ],
          "histogram": [
           {
            "marker": {
             "pattern": {
              "fillmode": "overlay",
              "size": 10,
              "solidity": 0.2
             }
            },
            "type": "histogram"
           }
          ],
          "histogram2d": [
           {
            "colorbar": {
             "outlinewidth": 0,
             "ticks": ""
            },
            "colorscale": [
             [
              0,
              "#0d0887"
             ],
             [
              0.1111111111111111,
              "#46039f"
             ],
             [
              0.2222222222222222,
              "#7201a8"
             ],
             [
              0.3333333333333333,
              "#9c179e"
             ],
             [
              0.4444444444444444,
              "#bd3786"
             ],
             [
              0.5555555555555556,
              "#d8576b"
             ],
             [
              0.6666666666666666,
              "#ed7953"
             ],
             [
              0.7777777777777778,
              "#fb9f3a"
             ],
             [
              0.8888888888888888,
              "#fdca26"
             ],
             [
              1,
              "#f0f921"
             ]
            ],
            "type": "histogram2d"
           }
          ],
          "histogram2dcontour": [
           {
            "colorbar": {
             "outlinewidth": 0,
             "ticks": ""
            },
            "colorscale": [
             [
              0,
              "#0d0887"
             ],
             [
              0.1111111111111111,
              "#46039f"
             ],
             [
              0.2222222222222222,
              "#7201a8"
             ],
             [
              0.3333333333333333,
              "#9c179e"
             ],
             [
              0.4444444444444444,
              "#bd3786"
             ],
             [
              0.5555555555555556,
              "#d8576b"
             ],
             [
              0.6666666666666666,
              "#ed7953"
             ],
             [
              0.7777777777777778,
              "#fb9f3a"
             ],
             [
              0.8888888888888888,
              "#fdca26"
             ],
             [
              1,
              "#f0f921"
             ]
            ],
            "type": "histogram2dcontour"
           }
          ],
          "mesh3d": [
           {
            "colorbar": {
             "outlinewidth": 0,
             "ticks": ""
            },
            "type": "mesh3d"
           }
          ],
          "parcoords": [
           {
            "line": {
             "colorbar": {
              "outlinewidth": 0,
              "ticks": ""
             }
            },
            "type": "parcoords"
           }
          ],
          "pie": [
           {
            "automargin": true,
            "type": "pie"
           }
          ],
          "scatter": [
           {
            "fillpattern": {
             "fillmode": "overlay",
             "size": 10,
             "solidity": 0.2
            },
            "type": "scatter"
           }
          ],
          "scatter3d": [
           {
            "line": {
             "colorbar": {
              "outlinewidth": 0,
              "ticks": ""
             }
            },
            "marker": {
             "colorbar": {
              "outlinewidth": 0,
              "ticks": ""
             }
            },
            "type": "scatter3d"
           }
          ],
          "scattercarpet": [
           {
            "marker": {
             "colorbar": {
              "outlinewidth": 0,
              "ticks": ""
             }
            },
            "type": "scattercarpet"
           }
          ],
          "scattergeo": [
           {
            "marker": {
             "colorbar": {
              "outlinewidth": 0,
              "ticks": ""
             }
            },
            "type": "scattergeo"
           }
          ],
          "scattergl": [
           {
            "marker": {
             "colorbar": {
              "outlinewidth": 0,
              "ticks": ""
             }
            },
            "type": "scattergl"
           }
          ],
          "scattermapbox": [
           {
            "marker": {
             "colorbar": {
              "outlinewidth": 0,
              "ticks": ""
             }
            },
            "type": "scattermapbox"
           }
          ],
          "scatterpolar": [
           {
            "marker": {
             "colorbar": {
              "outlinewidth": 0,
              "ticks": ""
             }
            },
            "type": "scatterpolar"
           }
          ],
          "scatterpolargl": [
           {
            "marker": {
             "colorbar": {
              "outlinewidth": 0,
              "ticks": ""
             }
            },
            "type": "scatterpolargl"
           }
          ],
          "scatterternary": [
           {
            "marker": {
             "colorbar": {
              "outlinewidth": 0,
              "ticks": ""
             }
            },
            "type": "scatterternary"
           }
          ],
          "surface": [
           {
            "colorbar": {
             "outlinewidth": 0,
             "ticks": ""
            },
            "colorscale": [
             [
              0,
              "#0d0887"
             ],
             [
              0.1111111111111111,
              "#46039f"
             ],
             [
              0.2222222222222222,
              "#7201a8"
             ],
             [
              0.3333333333333333,
              "#9c179e"
             ],
             [
              0.4444444444444444,
              "#bd3786"
             ],
             [
              0.5555555555555556,
              "#d8576b"
             ],
             [
              0.6666666666666666,
              "#ed7953"
             ],
             [
              0.7777777777777778,
              "#fb9f3a"
             ],
             [
              0.8888888888888888,
              "#fdca26"
             ],
             [
              1,
              "#f0f921"
             ]
            ],
            "type": "surface"
           }
          ],
          "table": [
           {
            "cells": {
             "fill": {
              "color": "#EBF0F8"
             },
             "line": {
              "color": "white"
             }
            },
            "header": {
             "fill": {
              "color": "#C8D4E3"
             },
             "line": {
              "color": "white"
             }
            },
            "type": "table"
           }
          ]
         },
         "layout": {
          "annotationdefaults": {
           "arrowcolor": "#2a3f5f",
           "arrowhead": 0,
           "arrowwidth": 1
          },
          "autotypenumbers": "strict",
          "coloraxis": {
           "colorbar": {
            "outlinewidth": 0,
            "ticks": ""
           }
          },
          "colorscale": {
           "diverging": [
            [
             0,
             "#8e0152"
            ],
            [
             0.1,
             "#c51b7d"
            ],
            [
             0.2,
             "#de77ae"
            ],
            [
             0.3,
             "#f1b6da"
            ],
            [
             0.4,
             "#fde0ef"
            ],
            [
             0.5,
             "#f7f7f7"
            ],
            [
             0.6,
             "#e6f5d0"
            ],
            [
             0.7,
             "#b8e186"
            ],
            [
             0.8,
             "#7fbc41"
            ],
            [
             0.9,
             "#4d9221"
            ],
            [
             1,
             "#276419"
            ]
           ],
           "sequential": [
            [
             0,
             "#0d0887"
            ],
            [
             0.1111111111111111,
             "#46039f"
            ],
            [
             0.2222222222222222,
             "#7201a8"
            ],
            [
             0.3333333333333333,
             "#9c179e"
            ],
            [
             0.4444444444444444,
             "#bd3786"
            ],
            [
             0.5555555555555556,
             "#d8576b"
            ],
            [
             0.6666666666666666,
             "#ed7953"
            ],
            [
             0.7777777777777778,
             "#fb9f3a"
            ],
            [
             0.8888888888888888,
             "#fdca26"
            ],
            [
             1,
             "#f0f921"
            ]
           ],
           "sequentialminus": [
            [
             0,
             "#0d0887"
            ],
            [
             0.1111111111111111,
             "#46039f"
            ],
            [
             0.2222222222222222,
             "#7201a8"
            ],
            [
             0.3333333333333333,
             "#9c179e"
            ],
            [
             0.4444444444444444,
             "#bd3786"
            ],
            [
             0.5555555555555556,
             "#d8576b"
            ],
            [
             0.6666666666666666,
             "#ed7953"
            ],
            [
             0.7777777777777778,
             "#fb9f3a"
            ],
            [
             0.8888888888888888,
             "#fdca26"
            ],
            [
             1,
             "#f0f921"
            ]
           ]
          },
          "colorway": [
           "#636efa",
           "#EF553B",
           "#00cc96",
           "#ab63fa",
           "#FFA15A",
           "#19d3f3",
           "#FF6692",
           "#B6E880",
           "#FF97FF",
           "#FECB52"
          ],
          "font": {
           "color": "#2a3f5f"
          },
          "geo": {
           "bgcolor": "white",
           "lakecolor": "white",
           "landcolor": "#E5ECF6",
           "showlakes": true,
           "showland": true,
           "subunitcolor": "white"
          },
          "hoverlabel": {
           "align": "left"
          },
          "hovermode": "closest",
          "mapbox": {
           "style": "light"
          },
          "paper_bgcolor": "white",
          "plot_bgcolor": "#E5ECF6",
          "polar": {
           "angularaxis": {
            "gridcolor": "white",
            "linecolor": "white",
            "ticks": ""
           },
           "bgcolor": "#E5ECF6",
           "radialaxis": {
            "gridcolor": "white",
            "linecolor": "white",
            "ticks": ""
           }
          },
          "scene": {
           "xaxis": {
            "backgroundcolor": "#E5ECF6",
            "gridcolor": "white",
            "gridwidth": 2,
            "linecolor": "white",
            "showbackground": true,
            "ticks": "",
            "zerolinecolor": "white"
           },
           "yaxis": {
            "backgroundcolor": "#E5ECF6",
            "gridcolor": "white",
            "gridwidth": 2,
            "linecolor": "white",
            "showbackground": true,
            "ticks": "",
            "zerolinecolor": "white"
           },
           "zaxis": {
            "backgroundcolor": "#E5ECF6",
            "gridcolor": "white",
            "gridwidth": 2,
            "linecolor": "white",
            "showbackground": true,
            "ticks": "",
            "zerolinecolor": "white"
           }
          },
          "shapedefaults": {
           "line": {
            "color": "#2a3f5f"
           }
          },
          "ternary": {
           "aaxis": {
            "gridcolor": "white",
            "linecolor": "white",
            "ticks": ""
           },
           "baxis": {
            "gridcolor": "white",
            "linecolor": "white",
            "ticks": ""
           },
           "bgcolor": "#E5ECF6",
           "caxis": {
            "gridcolor": "white",
            "linecolor": "white",
            "ticks": ""
           }
          },
          "title": {
           "x": 0.05
          },
          "xaxis": {
           "automargin": true,
           "gridcolor": "white",
           "linecolor": "white",
           "ticks": "",
           "title": {
            "standoff": 15
           },
           "zerolinecolor": "white",
           "zerolinewidth": 2
          },
          "yaxis": {
           "automargin": true,
           "gridcolor": "white",
           "linecolor": "white",
           "ticks": "",
           "title": {
            "standoff": 15
           },
           "zerolinecolor": "white",
           "zerolinewidth": 2
          }
         }
        },
        "width": 800,
        "xaxis": {
         "anchor": "y",
         "categoryarray": [
          "mistral-7b-instruct - 0",
          "mistral-7b-instruct - 1",
          "mistral-7b-instruct - 5",
          "mistral-7b-instruct - 6",
          "mistral-7b-instruct - 7",
          "mistral-7b-instruct - 8",
          "fine-tuned-mistral-7b-v0.2-instruct - 0",
          "fine-tuned-mistral-7b-v0.2-instruct - 1"
         ],
         "categoryorder": "array",
         "domain": [
          0,
          0.3
         ],
         "title": {
          "text": "model - promt variation"
         }
        },
        "xaxis2": {
         "anchor": "y2",
         "categoryarray": [
          "mistral-7b-instruct - 0",
          "mistral-7b-instruct - 1",
          "mistral-7b-instruct - 5",
          "mistral-7b-instruct - 6",
          "mistral-7b-instruct - 7",
          "mistral-7b-instruct - 8",
          "fine-tuned-mistral-7b-v0.2-instruct - 0",
          "fine-tuned-mistral-7b-v0.2-instruct - 1"
         ],
         "categoryorder": "array",
         "domain": [
          0.35,
          0.6499999999999999
         ],
         "matches": "x",
         "title": {
          "text": "model - promt variation"
         }
        },
        "xaxis3": {
         "anchor": "y3",
         "categoryarray": [
          "mistral-7b-instruct - 0",
          "mistral-7b-instruct - 1",
          "mistral-7b-instruct - 5",
          "mistral-7b-instruct - 6",
          "mistral-7b-instruct - 7",
          "mistral-7b-instruct - 8",
          "fine-tuned-mistral-7b-v0.2-instruct - 0",
          "fine-tuned-mistral-7b-v0.2-instruct - 1"
         ],
         "categoryorder": "array",
         "domain": [
          0.7,
          1
         ],
         "matches": "x",
         "title": {
          "text": "model - promt variation"
         }
        },
        "yaxis": {
         "anchor": "x",
         "domain": [
          0,
          1
         ],
         "title": {
          "text": "metric value"
         }
        },
        "yaxis2": {
         "anchor": "x2",
         "domain": [
          0,
          1
         ],
         "matches": "y",
         "showticklabels": false,
         "title": {
          "text": "metric value"
         }
        },
        "yaxis3": {
         "anchor": "x3",
         "domain": [
          0,
          1
         ],
         "matches": "y",
         "showticklabels": false,
         "title": {
          "text": "metric value"
         }
        }
       }
      }
     },
     "metadata": {},
     "output_type": "display_data"
    }
   ],
   "source": [
    "import plotly.graph_objects as go\n",
    "from plotly.subplots import make_subplots\n",
    "\n",
    "fig = px.bar(metrics, x=\"color\", y=\"value\", barmode=\"relative\", color=\"color\",\n",
    "             facet_col=\"metric\", facet_col_spacing=0.05, labels=\"color\", height=700, width=800\n",
    "\n",
    "             )\n",
    "for i in range(1, 4):\n",
    "    fig.update_layout({f\"xaxis{str(i).replace('0', '')}\": dict(title=\"model - promt variation\"),\n",
    "                       f\"yaxis{str(i).replace('0', '')}\": dict(title=\"metric value\")})\n",
    "fig.update_legends()\n",
    "fig.update_layout(\n",
    "    legend=dict(\n",
    "        orientation=\"h\",\n",
    "        yanchor=\"top\",\n",
    "        y=-0.5,\n",
    "        xanchor=\"center\",\n",
    "        x=0.5\n",
    "    ))\n",
    "fig.show()"
   ]
  },
  {
   "cell_type": "code",
   "execution_count": 10,
   "metadata": {
    "collapsed": false
   },
   "outputs": [
    {
     "data": {
      "application/vnd.plotly.v1+json": {
       "config": {
        "plotlyServerURL": "https://plot.ly"
       },
       "data": [
        {
         "legendgroup": "mistral-7b-instruct - 0",
         "legendgrouptitle": {
          "text": "mistral-7b-instruct - 0"
         },
         "marker": {
          "color": "rgb(31, 119, 180)",
          "symbol": "x-thin-open"
         },
         "mode": "markers",
         "name": "f1 score",
         "text": "mistral-7b-instruct - 0",
         "type": "scatter",
         "x": [
          0,
          0.01,
          0.02,
          0.03,
          0.04,
          0.05,
          0.06,
          0.07,
          0.08,
          0.09,
          0.1,
          0.11,
          0.12,
          0.13,
          0.14,
          0.15,
          0.16,
          0.17,
          0.18,
          0.19,
          0.2,
          0.21,
          0.22,
          0.23,
          0.24,
          0.25,
          0.26,
          0.27,
          0.28,
          0.29,
          0.3,
          0.31,
          0.32,
          0.33,
          0.34,
          0.35,
          0.36,
          0.37,
          0.38,
          0.39,
          0.4,
          0.41,
          0.42,
          0.43,
          0.44,
          0.45,
          0.46,
          0.47,
          0.48,
          0.49,
          0.5,
          0.51,
          0.52,
          0.53,
          0.54,
          0.55,
          0.56,
          0.57,
          0.58,
          0.59,
          0.6,
          0.61,
          0.62,
          0.63,
          0.64,
          0.65,
          0.66,
          0.67,
          0.68,
          0.69,
          0.7,
          0.71,
          0.72,
          0.73,
          0.74,
          0.75,
          0.76,
          0.77,
          0.78,
          0.79,
          0.8,
          0.81,
          0.82,
          0.83,
          0.84,
          0.85,
          0.86,
          0.87,
          0.88,
          0.89,
          0.9,
          0.91,
          0.92,
          0.93,
          0.94,
          0.95,
          0.96,
          0.97,
          0.98,
          0.99
         ],
         "xaxis": "x",
         "y": [
          0.7622377622377623,
          0.7664884135472371,
          0.7733812949640287,
          0.776173285198556,
          0.776173285198556,
          0.7961165048543689,
          0.7953216374269005,
          0.7953216374269005,
          0.7953216374269005,
          0.7953216374269005,
          0.794238683127572,
          0.7933884297520661,
          0.7983367983367983,
          0.7983367983367983,
          0.7974947807933194,
          0.7869565217391304,
          0.784313725490196,
          0.7833698030634574,
          0.7850877192982456,
          0.7868131868131869,
          0.7866666666666667,
          0.7785234899328859,
          0.7785234899328859,
          0.7802690582959642,
          0.7792792792792792,
          0.7713625866050807,
          0.7713625866050807,
          0.7713625866050807,
          0.7685185185185185,
          0.7656612529002319,
          0.7616822429906541,
          0.7634660421545667,
          0.7641509433962264,
          0.7582938388625592,
          0.7571428571428572,
          0.7475728155339807,
          0.7445255474452555,
          0.7383863080684596,
          0.7352941176470589,
          0.7321867321867321,
          0.7236180904522613,
          0.7222222222222223,
          0.7222222222222223,
          0.7222222222222223,
          0.7222222222222223,
          0.7095115681233932,
          0.7095115681233932,
          0.7095115681233932,
          0.7061855670103092,
          0.7061855670103092,
          0.7061855670103092,
          0.6945169712793734,
          0.6876640419947506,
          0.6876640419947506,
          0.6842105263157894,
          0.675531914893617,
          0.6773333333333333,
          0.6773333333333333,
          0.6791443850267379,
          0.6791443850267379,
          0.6684931506849315,
          0.6629834254143646,
          0.6480446927374302,
          0.6442577030812325,
          0.6422535211267606,
          0.6306818181818181,
          0.6306818181818181,
          0.6246418338108882,
          0.6246418338108882,
          0.6246418338108882,
          0.6264367816091954,
          0.6184971098265896,
          0.6144927536231883,
          0.6104651162790697,
          0.6064139941690962,
          0.5982404692082111,
          0.5982404692082111,
          0.5982404692082111,
          0.5899705014749262,
          0.5899705014749262,
          0.5653495440729484,
          0.5565749235474006,
          0.5386996904024768,
          0.5295950155763239,
          0.525,
          0.47896440129449847,
          0.4705882352941177,
          0.4655737704918032,
          0.4605263157894736,
          0.45544554455445546,
          0.3806228373702422,
          0.37499999999999994,
          0.3763066202090592,
          0.3706293706293707,
          0.36491228070175435,
          0.275092936802974,
          0.275092936802974,
          0.2686567164179105,
          0.2686567164179105,
          0.26217228464419473
         ],
         "yaxis": "y"
        },
        {
         "legendgroup": "mistral-7b-instruct - 0",
         "legendgrouptitle": {
          "text": "mistral-7b-instruct - 0"
         },
         "marker": {
          "color": "rgb(31, 119, 180)",
          "symbol": "cross-thin-open"
         },
         "mode": "markers",
         "name": "accuracy",
         "text": "mistral-7b-instruct - 0",
         "type": "scatter",
         "x": [
          0,
          0.01,
          0.02,
          0.03,
          0.04,
          0.05,
          0.06,
          0.07,
          0.08,
          0.09,
          0.1,
          0.11,
          0.12,
          0.13,
          0.14,
          0.15,
          0.16,
          0.17,
          0.18,
          0.19,
          0.2,
          0.21,
          0.22,
          0.23,
          0.24,
          0.25,
          0.26,
          0.27,
          0.28,
          0.29,
          0.3,
          0.31,
          0.32,
          0.33,
          0.34,
          0.35,
          0.36,
          0.37,
          0.38,
          0.39,
          0.4,
          0.41,
          0.42,
          0.43,
          0.44,
          0.45,
          0.46,
          0.47,
          0.48,
          0.49,
          0.5,
          0.51,
          0.52,
          0.53,
          0.54,
          0.55,
          0.56,
          0.57,
          0.58,
          0.59,
          0.6,
          0.61,
          0.62,
          0.63,
          0.64,
          0.65,
          0.66,
          0.67,
          0.68,
          0.69,
          0.7,
          0.71,
          0.72,
          0.73,
          0.74,
          0.75,
          0.76,
          0.77,
          0.78,
          0.79,
          0.8,
          0.81,
          0.82,
          0.83,
          0.84,
          0.85,
          0.86,
          0.87,
          0.88,
          0.89,
          0.9,
          0.91,
          0.92,
          0.93,
          0.94,
          0.95,
          0.96,
          0.97,
          0.98,
          0.99
         ],
         "xaxis": "x2",
         "y": [
          0.708779443254818,
          0.7194860813704497,
          0.7301927194860813,
          0.734475374732334,
          0.734475374732334,
          0.7751605995717344,
          0.7751605995717344,
          0.7751605995717344,
          0.7751605995717344,
          0.7751605995717344,
          0.7858672376873662,
          0.7858672376873662,
          0.7922912205567452,
          0.7922912205567452,
          0.7922912205567452,
          0.7901498929336188,
          0.7880085653104925,
          0.7880085653104925,
          0.7901498929336188,
          0.7922912205567452,
          0.7944325481798715,
          0.7880085653104925,
          0.7880085653104925,
          0.7901498929336188,
          0.7901498929336188,
          0.7880085653104925,
          0.7880085653104925,
          0.7880085653104925,
          0.7858672376873662,
          0.7837259100642399,
          0.7815845824411135,
          0.7837259100642399,
          0.7858672376873662,
          0.7815845824411135,
          0.7815845824411135,
          0.7773019271948608,
          0.7751605995717344,
          0.7708779443254818,
          0.7687366167023555,
          0.7665952890792291,
          0.7644539614561028,
          0.7644539614561028,
          0.7644539614561028,
          0.7644539614561028,
          0.7644539614561028,
          0.7580299785867237,
          0.7580299785867237,
          0.7580299785867237,
          0.7558886509635975,
          0.7558886509635975,
          0.7558886509635975,
          0.7494646680942184,
          0.7451820128479657,
          0.7451820128479657,
          0.7430406852248393,
          0.7387580299785867,
          0.7408993576017131,
          0.7408993576017131,
          0.7430406852248393,
          0.7430406852248393,
          0.7408993576017131,
          0.7387580299785867,
          0.7301927194860813,
          0.728051391862955,
          0.728051391862955,
          0.721627408993576,
          0.721627408993576,
          0.7194860813704497,
          0.7194860813704497,
          0.7194860813704497,
          0.721627408993576,
          0.7173447537473233,
          0.715203426124197,
          0.7130620985010707,
          0.7109207708779444,
          0.7066381156316917,
          0.7066381156316917,
          0.7066381156316917,
          0.702355460385439,
          0.702355460385439,
          0.6937901498929336,
          0.6895074946466809,
          0.6809421841541756,
          0.6766595289079229,
          0.6745182012847966,
          0.6552462526766595,
          0.6531049250535332,
          0.6509635974304069,
          0.6488222698072805,
          0.6466809421841542,
          0.6167023554603854,
          0.6145610278372591,
          0.6167023554603854,
          0.6145610278372591,
          0.6124197002141327,
          0.582441113490364,
          0.582441113490364,
          0.5802997858672377,
          0.5802997858672377,
          0.5781584582441114
         ],
         "yaxis": "y2"
        },
        {
         "legendgroup": "mistral-7b-instruct - 1",
         "legendgrouptitle": {
          "text": "mistral-7b-instruct - 1"
         },
         "marker": {
          "color": "rgb(255, 127, 14)",
          "symbol": "x-thin-open"
         },
         "mode": "markers",
         "name": "f1 score",
         "text": "mistral-7b-instruct - 1",
         "type": "scatter",
         "x": [
          0,
          0.01,
          0.02,
          0.03,
          0.04,
          0.05,
          0.06,
          0.07,
          0.08,
          0.09,
          0.1,
          0.11,
          0.12,
          0.13,
          0.14,
          0.15,
          0.16,
          0.17,
          0.18,
          0.19,
          0.2,
          0.21,
          0.22,
          0.23,
          0.24,
          0.25,
          0.26,
          0.27,
          0.28,
          0.29,
          0.3,
          0.31,
          0.32,
          0.33,
          0.34,
          0.35,
          0.36,
          0.37,
          0.38,
          0.39,
          0.4,
          0.41,
          0.42,
          0.43,
          0.44,
          0.45,
          0.46,
          0.47,
          0.48,
          0.49,
          0.5,
          0.51,
          0.52,
          0.53,
          0.54,
          0.55,
          0.56,
          0.57,
          0.58,
          0.59,
          0.6,
          0.61,
          0.62,
          0.63,
          0.64,
          0.65,
          0.66,
          0.67,
          0.68,
          0.69,
          0.7,
          0.71,
          0.72,
          0.73,
          0.74,
          0.75,
          0.76,
          0.77,
          0.78,
          0.79,
          0.8,
          0.81,
          0.82,
          0.83,
          0.84,
          0.85,
          0.86,
          0.87,
          0.88,
          0.89,
          0.9,
          0.91,
          0.92,
          0.93,
          0.94,
          0.95,
          0.96,
          0.97,
          0.98,
          0.99
         ],
         "xaxis": "x",
         "y": [
          0.7248764415156507,
          0.7260726072607262,
          0.7260726072607262,
          0.7260726072607262,
          0.7260726072607262,
          0.728476821192053,
          0.728476821192053,
          0.728476821192053,
          0.728476821192053,
          0.728476821192053,
          0.736648250460405,
          0.736648250460405,
          0.736648250460405,
          0.736648250460405,
          0.736648250460405,
          0.7343173431734316,
          0.7343173431734316,
          0.7343173431734316,
          0.7343173431734316,
          0.7343173431734316,
          0.717741935483871,
          0.717741935483871,
          0.717741935483871,
          0.717741935483871,
          0.717741935483871,
          0.7139959432048681,
          0.7139959432048681,
          0.7139959432048681,
          0.7139959432048681,
          0.7139959432048681,
          0.6909090909090909,
          0.6909090909090909,
          0.6909090909090909,
          0.6909090909090909,
          0.6909090909090909,
          0.6940639269406393,
          0.6940639269406393,
          0.6940639269406393,
          0.6940639269406393,
          0.6940639269406393,
          0.6700507614213198,
          0.6700507614213198,
          0.6700507614213198,
          0.6700507614213198,
          0.6700507614213198,
          0.6700507614213198,
          0.6700507614213198,
          0.6700507614213198,
          0.6700507614213198,
          0.6700507614213198,
          0.6301369863013698,
          0.6301369863013698,
          0.6301369863013698,
          0.6301369863013698,
          0.6301369863013698,
          0.6263736263736265,
          0.6263736263736265,
          0.6263736263736265,
          0.6263736263736265,
          0.6263736263736265,
          0.5763688760806917,
          0.5763688760806917,
          0.5763688760806917,
          0.5763688760806917,
          0.5763688760806917,
          0.5614035087719298,
          0.5614035087719298,
          0.5614035087719298,
          0.5614035087719298,
          0.5614035087719298,
          0.5139318885448917,
          0.5139318885448917,
          0.5139318885448917,
          0.5139318885448917,
          0.5139318885448917,
          0.5139318885448917,
          0.5139318885448917,
          0.5139318885448917,
          0.5139318885448917,
          0.5139318885448917,
          0.3649122807017544,
          0.3649122807017544,
          0.3649122807017544,
          0.3649122807017544,
          0.3649122807017544,
          0.3416370106761566,
          0.3416370106761566,
          0.3416370106761566,
          0.3416370106761566,
          0.3416370106761566,
          0.1732283464566929,
          0.1732283464566929,
          0.1732283464566929,
          0.1732283464566929,
          0.1732283464566929,
          0.1660079051383399,
          0.1660079051383399,
          0.1660079051383399,
          0.1660079051383399,
          0.1660079051383399
         ],
         "yaxis": "y"
        },
        {
         "legendgroup": "mistral-7b-instruct - 1",
         "legendgrouptitle": {
          "text": "mistral-7b-instruct - 1"
         },
         "marker": {
          "color": "rgb(255, 127, 14)",
          "symbol": "cross-thin-open"
         },
         "mode": "markers",
         "name": "accuracy",
         "text": "mistral-7b-instruct - 1",
         "type": "scatter",
         "x": [
          0,
          0.01,
          0.02,
          0.03,
          0.04,
          0.05,
          0.06,
          0.07,
          0.08,
          0.09,
          0.1,
          0.11,
          0.12,
          0.13,
          0.14,
          0.15,
          0.16,
          0.17,
          0.18,
          0.19,
          0.2,
          0.21,
          0.22,
          0.23,
          0.24,
          0.25,
          0.26,
          0.27,
          0.28,
          0.29,
          0.3,
          0.31,
          0.32,
          0.33,
          0.34,
          0.35,
          0.36,
          0.37,
          0.38,
          0.39,
          0.4,
          0.41,
          0.42,
          0.43,
          0.44,
          0.45,
          0.46,
          0.47,
          0.48,
          0.49,
          0.5,
          0.51,
          0.52,
          0.53,
          0.54,
          0.55,
          0.56,
          0.57,
          0.58,
          0.59,
          0.6,
          0.61,
          0.62,
          0.63,
          0.64,
          0.65,
          0.66,
          0.67,
          0.68,
          0.69,
          0.7,
          0.71,
          0.72,
          0.73,
          0.74,
          0.75,
          0.76,
          0.77,
          0.78,
          0.79,
          0.8,
          0.81,
          0.82,
          0.83,
          0.84,
          0.85,
          0.86,
          0.87,
          0.88,
          0.89,
          0.9,
          0.91,
          0.92,
          0.93,
          0.94,
          0.95,
          0.96,
          0.97,
          0.98,
          0.99
         ],
         "xaxis": "x2",
         "y": [
          0.6400862068965517,
          0.6422413793103449,
          0.6422413793103449,
          0.6422413793103449,
          0.6422413793103449,
          0.646551724137931,
          0.646551724137931,
          0.646551724137931,
          0.646551724137931,
          0.646551724137931,
          0.6918103448275862,
          0.6918103448275862,
          0.6918103448275862,
          0.6918103448275862,
          0.6918103448275862,
          0.6896551724137931,
          0.6896551724137931,
          0.6896551724137931,
          0.6896551724137931,
          0.6896551724137931,
          0.6982758620689655,
          0.6982758620689655,
          0.6982758620689655,
          0.6982758620689655,
          0.6982758620689655,
          0.6961206896551724,
          0.6961206896551724,
          0.6961206896551724,
          0.6961206896551724,
          0.6961206896551724,
          0.7068965517241379,
          0.7068965517241379,
          0.7068965517241379,
          0.7068965517241379,
          0.7068965517241379,
          0.7112068965517241,
          0.7112068965517241,
          0.7112068965517241,
          0.7112068965517241,
          0.7112068965517241,
          0.7198275862068966,
          0.7198275862068966,
          0.7198275862068966,
          0.7198275862068966,
          0.7198275862068966,
          0.7198275862068966,
          0.7198275862068966,
          0.7198275862068966,
          0.7198275862068966,
          0.7198275862068966,
          0.709051724137931,
          0.709051724137931,
          0.709051724137931,
          0.709051724137931,
          0.709051724137931,
          0.7068965517241379,
          0.7068965517241379,
          0.7068965517241379,
          0.7068965517241379,
          0.7068965517241379,
          0.6831896551724138,
          0.6831896551724138,
          0.6831896551724138,
          0.6831896551724138,
          0.6831896551724138,
          0.6767241379310345,
          0.6767241379310345,
          0.6767241379310345,
          0.6767241379310345,
          0.6767241379310345,
          0.6616379310344828,
          0.6616379310344828,
          0.6616379310344828,
          0.6616379310344828,
          0.6616379310344828,
          0.6616379310344828,
          0.6616379310344828,
          0.6616379310344828,
          0.6616379310344828,
          0.6616379310344828,
          0.6099137931034483,
          0.6099137931034483,
          0.6099137931034483,
          0.6099137931034483,
          0.6099137931034483,
          0.6012931034482759,
          0.6012931034482759,
          0.6012931034482759,
          0.6012931034482759,
          0.6012931034482759,
          0.5474137931034483,
          0.5474137931034483,
          0.5474137931034483,
          0.5474137931034483,
          0.5474137931034483,
          0.5452586206896551,
          0.5452586206896551,
          0.5452586206896551,
          0.5452586206896551,
          0.5452586206896551
         ],
         "yaxis": "y2"
        },
        {
         "legendgroup": "mistral-7b-instruct - 5",
         "legendgrouptitle": {
          "text": "mistral-7b-instruct - 5"
         },
         "marker": {
          "color": "rgb(44, 160, 44)",
          "symbol": "x-thin-open"
         },
         "mode": "markers",
         "name": "f1 score",
         "text": "mistral-7b-instruct - 5",
         "type": "scatter",
         "x": [
          0,
          0.01,
          0.02,
          0.03,
          0.04,
          0.05,
          0.06,
          0.07,
          0.08,
          0.09,
          0.1,
          0.11,
          0.12,
          0.13,
          0.14,
          0.15,
          0.16,
          0.17,
          0.18,
          0.19,
          0.2,
          0.21,
          0.22,
          0.23,
          0.24,
          0.25,
          0.26,
          0.27,
          0.28,
          0.29,
          0.3,
          0.31,
          0.32,
          0.33,
          0.34,
          0.35,
          0.36,
          0.37,
          0.38,
          0.39,
          0.4,
          0.41,
          0.42,
          0.43,
          0.44,
          0.45,
          0.46,
          0.47,
          0.48,
          0.49,
          0.5,
          0.51,
          0.52,
          0.53,
          0.54,
          0.55,
          0.56,
          0.57,
          0.58,
          0.59,
          0.6,
          0.61,
          0.62,
          0.63,
          0.64,
          0.65,
          0.66,
          0.67,
          0.68,
          0.69,
          0.7,
          0.71,
          0.72,
          0.73,
          0.74,
          0.75,
          0.76,
          0.77,
          0.78,
          0.79,
          0.8,
          0.81,
          0.82,
          0.83,
          0.84,
          0.85,
          0.86,
          0.87,
          0.88,
          0.89,
          0.9,
          0.91,
          0.92,
          0.93,
          0.94,
          0.95,
          0.96,
          0.97,
          0.98,
          0.99
         ],
         "xaxis": "x",
         "y": [
          0.75,
          0.7609075043630017,
          0.761904761904762,
          0.7632508833922261,
          0.7632508833922261,
          0.7798507462686568,
          0.7798507462686568,
          0.7790262172284645,
          0.7767354596622889,
          0.7767354596622889,
          0.7775551102204409,
          0.7797979797979798,
          0.7843942505133472,
          0.7843942505133472,
          0.7860082304526749,
          0.7798742138364779,
          0.7815126050420168,
          0.7728237791932059,
          0.7761194029850746,
          0.7751605995717346,
          0.7648351648351648,
          0.7627494456762751,
          0.76,
          0.7544642857142857,
          0.7488789237668162,
          0.7385321100917431,
          0.7356321839080459,
          0.7407407407407407,
          0.7395348837209302,
          0.7395348837209302,
          0.7315914489311164,
          0.7180722891566265,
          0.7090464547677261,
          0.7107843137254901,
          0.7076167076167076,
          0.6818181818181819,
          0.6784810126582279,
          0.6717557251908397,
          0.6666666666666666,
          0.6666666666666666,
          0.6493506493506493,
          0.6439790575916231,
          0.6456692913385826,
          0.6456692913385826,
          0.6473684210526316,
          0.6470588235294118,
          0.6434316353887399,
          0.6434316353887399,
          0.6434316353887399,
          0.6434316353887399,
          0.6361185983827493,
          0.6304347826086957,
          0.6229508196721312,
          0.6191780821917808,
          0.6038781163434902,
          0.5961002785515319,
          0.5898876404494382,
          0.5859154929577465,
          0.5819209039548023,
          0.5819209039548023,
          0.5698005698005698,
          0.557471264367816,
          0.5533141210374639,
          0.5549132947976879,
          0.5549132947976879,
          0.5380116959064328,
          0.5380116959064328,
          0.533724340175953,
          0.5119047619047619,
          0.5119047619047619,
          0.5089820359281436,
          0.5075528700906345,
          0.5030303030303029,
          0.5030303030303029,
          0.5030303030303029,
          0.49848024316109424,
          0.49848024316109424,
          0.49848024316109424,
          0.49848024316109424,
          0.49848024316109424,
          0.47975077881619943,
          0.4668769716088328,
          0.45714285714285713,
          0.4387096774193548,
          0.4387096774193548,
          0.4,
          0.4,
          0.4,
          0.38383838383838387,
          0.3783783783783784,
          0.3109540636042403,
          0.3049645390070922,
          0.29893238434163705,
          0.29285714285714287,
          0.28673835125448033,
          0.2164179104477612,
          0.2164179104477612,
          0.2105263157894737,
          0.2105263157894737,
          0.20377358490566036
         ],
         "yaxis": "y"
        },
        {
         "legendgroup": "mistral-7b-instruct - 5",
         "legendgrouptitle": {
          "text": "mistral-7b-instruct - 5"
         },
         "marker": {
          "color": "rgb(44, 160, 44)",
          "symbol": "cross-thin-open"
         },
         "mode": "markers",
         "name": "accuracy",
         "text": "mistral-7b-instruct - 5",
         "type": "scatter",
         "x": [
          0,
          0.01,
          0.02,
          0.03,
          0.04,
          0.05,
          0.06,
          0.07,
          0.08,
          0.09,
          0.1,
          0.11,
          0.12,
          0.13,
          0.14,
          0.15,
          0.16,
          0.17,
          0.18,
          0.19,
          0.2,
          0.21,
          0.22,
          0.23,
          0.24,
          0.25,
          0.26,
          0.27,
          0.28,
          0.29,
          0.3,
          0.31,
          0.32,
          0.33,
          0.34,
          0.35,
          0.36,
          0.37,
          0.38,
          0.39,
          0.4,
          0.41,
          0.42,
          0.43,
          0.44,
          0.45,
          0.46,
          0.47,
          0.48,
          0.49,
          0.5,
          0.51,
          0.52,
          0.53,
          0.54,
          0.55,
          0.56,
          0.57,
          0.58,
          0.59,
          0.6,
          0.61,
          0.62,
          0.63,
          0.64,
          0.65,
          0.66,
          0.67,
          0.68,
          0.69,
          0.7,
          0.71,
          0.72,
          0.73,
          0.74,
          0.75,
          0.76,
          0.77,
          0.78,
          0.79,
          0.8,
          0.81,
          0.82,
          0.83,
          0.84,
          0.85,
          0.86,
          0.87,
          0.88,
          0.89,
          0.9,
          0.91,
          0.92,
          0.93,
          0.94,
          0.95,
          0.96,
          0.97,
          0.98,
          0.99
         ],
         "xaxis": "x2",
         "y": [
          0.690677966101695,
          0.7097457627118644,
          0.7139830508474576,
          0.7161016949152542,
          0.7161016949152542,
          0.75,
          0.75,
          0.75,
          0.7478813559322034,
          0.7478813559322034,
          0.7648305084745762,
          0.7690677966101694,
          0.777542372881356,
          0.777542372881356,
          0.7796610169491526,
          0.777542372881356,
          0.7796610169491526,
          0.7733050847457628,
          0.777542372881356,
          0.777542372881356,
          0.7733050847457628,
          0.7733050847457628,
          0.7711864406779662,
          0.7669491525423728,
          0.7627118644067796,
          0.7584745762711864,
          0.7563559322033898,
          0.7627118644067796,
          0.7627118644067796,
          0.7627118644067796,
          0.760593220338983,
          0.7521186440677966,
          0.7478813559322034,
          0.75,
          0.7478813559322034,
          0.7330508474576272,
          0.7309322033898306,
          0.7266949152542372,
          0.7245762711864406,
          0.7245762711864406,
          0.7139830508474576,
          0.711864406779661,
          0.7139830508474576,
          0.7139830508474576,
          0.7161016949152542,
          0.7203389830508474,
          0.7182203389830508,
          0.7182203389830508,
          0.7182203389830508,
          0.7182203389830508,
          0.7139830508474576,
          0.711864406779661,
          0.7076271186440678,
          0.7055084745762712,
          0.6970338983050848,
          0.6927966101694916,
          0.690677966101695,
          0.6885593220338984,
          0.6864406779661016,
          0.6864406779661016,
          0.6800847457627118,
          0.673728813559322,
          0.6716101694915254,
          0.673728813559322,
          0.673728813559322,
          0.6652542372881356,
          0.6652542372881356,
          0.663135593220339,
          0.652542372881356,
          0.652542372881356,
          0.652542372881356,
          0.6546610169491526,
          0.652542372881356,
          0.652542372881356,
          0.652542372881356,
          0.6504237288135594,
          0.6504237288135594,
          0.6504237288135594,
          0.6504237288135594,
          0.6504237288135594,
          0.6461864406779662,
          0.6419491525423728,
          0.6377118644067796,
          0.6313559322033898,
          0.6313559322033898,
          0.6186440677966102,
          0.6186440677966102,
          0.6186440677966102,
          0.6122881355932204,
          0.6101694915254238,
          0.586864406779661,
          0.5847457627118644,
          0.5826271186440678,
          0.5805084745762712,
          0.5783898305084746,
          0.5550847457627118,
          0.5550847457627118,
          0.5550847457627118,
          0.5550847457627118,
          0.5529661016949152
         ],
         "yaxis": "y2"
        },
        {
         "legendgroup": "mistral-7b-instruct - 6",
         "legendgrouptitle": {
          "text": "mistral-7b-instruct - 6"
         },
         "marker": {
          "color": "rgb(214, 39, 40)",
          "symbol": "x-thin-open"
         },
         "mode": "markers",
         "name": "f1 score",
         "text": "mistral-7b-instruct - 6",
         "type": "scatter",
         "x": [
          0,
          0.01,
          0.02,
          0.03,
          0.04,
          0.05,
          0.06,
          0.07,
          0.08,
          0.09,
          0.1,
          0.11,
          0.12,
          0.13,
          0.14,
          0.15,
          0.16,
          0.17,
          0.18,
          0.19,
          0.2,
          0.21,
          0.22,
          0.23,
          0.24,
          0.25,
          0.26,
          0.27,
          0.28,
          0.29,
          0.3,
          0.31,
          0.32,
          0.33,
          0.34,
          0.35,
          0.36,
          0.37,
          0.38,
          0.39,
          0.4,
          0.41,
          0.42,
          0.43,
          0.44,
          0.45,
          0.46,
          0.47,
          0.48,
          0.49,
          0.5,
          0.51,
          0.52,
          0.53,
          0.54,
          0.55,
          0.56,
          0.57,
          0.58,
          0.59,
          0.6,
          0.61,
          0.62,
          0.63,
          0.64,
          0.65,
          0.66,
          0.67,
          0.68,
          0.69,
          0.7,
          0.71,
          0.72,
          0.73,
          0.74,
          0.75,
          0.76,
          0.77,
          0.78,
          0.79,
          0.8,
          0.81,
          0.82,
          0.83,
          0.84,
          0.85,
          0.86,
          0.87,
          0.88,
          0.89,
          0.9,
          0.91,
          0.92,
          0.93,
          0.94,
          0.95,
          0.96,
          0.97,
          0.98,
          0.99
         ],
         "xaxis": "x",
         "y": [
          0.774869109947644,
          0.7914438502673797,
          0.7985611510791366,
          0.8007246376811594,
          0.8007246376811594,
          0.808193668528864,
          0.8059701492537312,
          0.8074766355140187,
          0.8074766355140187,
          0.8074766355140187,
          0.8066528066528067,
          0.8066528066528067,
          0.801670146137787,
          0.803347280334728,
          0.8050314465408804,
          0.7982832618025751,
          0.7982832618025751,
          0.8017241379310344,
          0.8034557235421167,
          0.8034557235421167,
          0.7858719646799117,
          0.7839643652561248,
          0.7829977628635347,
          0.7829977628635347,
          0.7865168539325843,
          0.7891156462585033,
          0.7891156462585033,
          0.7863636363636364,
          0.7853881278538812,
          0.7853881278538812,
          0.7703016241299304,
          0.772093023255814,
          0.7681498829039812,
          0.7681498829039812,
          0.7652582159624413,
          0.759433962264151,
          0.7612293144208039,
          0.7630331753554502,
          0.7600950118764846,
          0.7571428571428572,
          0.7559808612440191,
          0.7529976019184652,
          0.7529976019184652,
          0.7529976019184652,
          0.7529976019184652,
          0.7518072289156625,
          0.7518072289156625,
          0.7518072289156625,
          0.7506053268765134,
          0.7506053268765134,
          0.7463414634146341,
          0.7432762836185818,
          0.7432762836185818,
          0.7432762836185818,
          0.7339901477832512,
          0.7231920199501246,
          0.72,
          0.7167919799498746,
          0.7167919799498746,
          0.7167919799498746,
          0.7007672634271098,
          0.6958762886597937,
          0.6958762886597937,
          0.6925064599483205,
          0.6925064599483205,
          0.6788511749347259,
          0.675392670157068,
          0.6684210526315789,
          0.6701846965699209,
          0.6666666666666667,
          0.663129973474801,
          0.6595744680851064,
          0.656,
          0.656,
          0.6524064171122995,
          0.6415094339622641,
          0.6415094339622641,
          0.6415094339622641,
          0.6415094339622641,
          0.6378378378378378,
          0.5811965811965811,
          0.5787965616045846,
          0.5706051873198849,
          0.5539358600583091,
          0.5539358600583091,
          0.48,
          0.4753086419753087,
          0.46105919003115264,
          0.45625,
          0.44794952681388017,
          0.4065573770491804,
          0.40264026402640263,
          0.3973509933774834,
          0.3973509933774834,
          0.3973509933774834,
          0.34812286689419797,
          0.34812286689419797,
          0.34812286689419797,
          0.34812286689419797,
          0.34812286689419797
         ],
         "yaxis": "y"
        },
        {
         "legendgroup": "mistral-7b-instruct - 6",
         "legendgrouptitle": {
          "text": "mistral-7b-instruct - 6"
         },
         "marker": {
          "color": "rgb(214, 39, 40)",
          "symbol": "cross-thin-open"
         },
         "mode": "markers",
         "name": "accuracy",
         "text": "mistral-7b-instruct - 6",
         "type": "scatter",
         "x": [
          0,
          0.01,
          0.02,
          0.03,
          0.04,
          0.05,
          0.06,
          0.07,
          0.08,
          0.09,
          0.1,
          0.11,
          0.12,
          0.13,
          0.14,
          0.15,
          0.16,
          0.17,
          0.18,
          0.19,
          0.2,
          0.21,
          0.22,
          0.23,
          0.24,
          0.25,
          0.26,
          0.27,
          0.28,
          0.29,
          0.3,
          0.31,
          0.32,
          0.33,
          0.34,
          0.35,
          0.36,
          0.37,
          0.38,
          0.39,
          0.4,
          0.41,
          0.42,
          0.43,
          0.44,
          0.45,
          0.46,
          0.47,
          0.48,
          0.49,
          0.5,
          0.51,
          0.52,
          0.53,
          0.54,
          0.55,
          0.56,
          0.57,
          0.58,
          0.59,
          0.6,
          0.61,
          0.62,
          0.63,
          0.64,
          0.65,
          0.66,
          0.67,
          0.68,
          0.69,
          0.7,
          0.71,
          0.72,
          0.73,
          0.74,
          0.75,
          0.76,
          0.77,
          0.78,
          0.79,
          0.8,
          0.81,
          0.82,
          0.83,
          0.84,
          0.85,
          0.86,
          0.87,
          0.88,
          0.89,
          0.9,
          0.91,
          0.92,
          0.93,
          0.94,
          0.95,
          0.96,
          0.97,
          0.98,
          0.99
         ],
         "xaxis": "x2",
         "y": [
          0.7295597484276729,
          0.7547169811320755,
          0.7651991614255765,
          0.7693920335429769,
          0.7693920335429769,
          0.7840670859538784,
          0.7819706498951782,
          0.7840670859538784,
          0.7840670859538784,
          0.7840670859538784,
          0.8050314465408805,
          0.8050314465408805,
          0.80083857442348,
          0.8029350104821803,
          0.8050314465408805,
          0.8029350104821803,
          0.8029350104821803,
          0.8071278825995807,
          0.8092243186582809,
          0.8092243186582809,
          0.7966457023060797,
          0.7966457023060797,
          0.7966457023060797,
          0.7966457023060797,
          0.80083857442348,
          0.8050314465408805,
          0.8050314465408805,
          0.8029350104821803,
          0.8029350104821803,
          0.8029350104821803,
          0.7924528301886793,
          0.7945492662473794,
          0.7924528301886793,
          0.7924528301886793,
          0.790356394129979,
          0.7861635220125787,
          0.7882599580712788,
          0.790356394129979,
          0.7882599580712788,
          0.7861635220125787,
          0.7861635220125787,
          0.7840670859538784,
          0.7840670859538784,
          0.7840670859538784,
          0.7840670859538784,
          0.7840670859538784,
          0.7840670859538784,
          0.7840670859538784,
          0.7840670859538784,
          0.7840670859538784,
          0.7819706498951782,
          0.779874213836478,
          0.779874213836478,
          0.779874213836478,
          0.7735849056603774,
          0.7672955974842768,
          0.7651991614255765,
          0.7631027253668763,
          0.7631027253668763,
          0.7631027253668763,
          0.7547169811320755,
          0.7526205450733753,
          0.7526205450733753,
          0.750524109014675,
          0.750524109014675,
          0.7421383647798742,
          0.740041928721174,
          0.7358490566037735,
          0.7379454926624738,
          0.7358490566037735,
          0.7337526205450734,
          0.7316561844863732,
          0.7295597484276729,
          0.7295597484276729,
          0.7274633123689728,
          0.7211740041928721,
          0.7211740041928721,
          0.7211740041928721,
          0.7211740041928721,
          0.7190775681341719,
          0.6918238993710691,
          0.6918238993710691,
          0.6876310272536688,
          0.6792452830188679,
          0.6792452830188679,
          0.6457023060796646,
          0.6436058700209644,
          0.6373165618448637,
          0.6352201257861635,
          0.6331236897274634,
          0.6205450733752621,
          0.6205450733752621,
          0.6184486373165619,
          0.6184486373165619,
          0.6184486373165619,
          0.59958071278826,
          0.59958071278826,
          0.59958071278826,
          0.59958071278826,
          0.59958071278826
         ],
         "yaxis": "y2"
        },
        {
         "legendgroup": "mistral-7b-instruct - 7",
         "legendgrouptitle": {
          "text": "mistral-7b-instruct - 7"
         },
         "marker": {
          "color": "rgb(148, 103, 189)",
          "symbol": "x-thin-open"
         },
         "mode": "markers",
         "name": "f1 score",
         "text": "mistral-7b-instruct - 7",
         "type": "scatter",
         "x": [
          0,
          0.01,
          0.02,
          0.03,
          0.04,
          0.05,
          0.06,
          0.07,
          0.08,
          0.09,
          0.1,
          0.11,
          0.12,
          0.13,
          0.14,
          0.15,
          0.16,
          0.17,
          0.18,
          0.19,
          0.2,
          0.21,
          0.22,
          0.23,
          0.24,
          0.25,
          0.26,
          0.27,
          0.28,
          0.29,
          0.3,
          0.31,
          0.32,
          0.33,
          0.34,
          0.35,
          0.36,
          0.37,
          0.38,
          0.39,
          0.4,
          0.41,
          0.42,
          0.43,
          0.44,
          0.45,
          0.46,
          0.47,
          0.48,
          0.49,
          0.5,
          0.51,
          0.52,
          0.53,
          0.54,
          0.55,
          0.56,
          0.57,
          0.58,
          0.59,
          0.6,
          0.61,
          0.62,
          0.63,
          0.64,
          0.65,
          0.66,
          0.67,
          0.68,
          0.69,
          0.7,
          0.71,
          0.72,
          0.73,
          0.74,
          0.75,
          0.76,
          0.77,
          0.78,
          0.79,
          0.8,
          0.81,
          0.82,
          0.83,
          0.84,
          0.85,
          0.86,
          0.87,
          0.88,
          0.89,
          0.9,
          0.91,
          0.92,
          0.93,
          0.94,
          0.95,
          0.96,
          0.97,
          0.98,
          0.99
         ],
         "xaxis": "x",
         "y": [
          0.7538200339558574,
          0.7560137457044672,
          0.7564766839378237,
          0.7577854671280277,
          0.7577854671280277,
          0.8007448789571695,
          0.8037383177570093,
          0.805243445692884,
          0.803001876172608,
          0.803001876172608,
          0.8151093439363817,
          0.8079999999999999,
          0.8072289156626506,
          0.8072289156626506,
          0.8048289738430584,
          0.7941176470588235,
          0.7941176470588235,
          0.7941176470588235,
          0.7974683544303797,
          0.7974683544303797,
          0.7816593886462883,
          0.780701754385965,
          0.781456953642384,
          0.781456953642384,
          0.7849223946784923,
          0.7692307692307692,
          0.7692307692307692,
          0.7636363636363637,
          0.7625570776255709,
          0.7625570776255709,
          0.75,
          0.7488151658767772,
          0.7355769230769231,
          0.7325301204819278,
          0.7281553398058251,
          0.6886075949367089,
          0.6921119592875319,
          0.6854219948849104,
          0.6838046272493573,
          0.6838046272493573,
          0.6701570680628272,
          0.6719160104986877,
          0.6719160104986877,
          0.6684210526315789,
          0.6684210526315789,
          0.6648936170212766,
          0.6648936170212766,
          0.6613333333333334,
          0.6613333333333334,
          0.6648793565683645,
          0.6504065040650406,
          0.6430517711171662,
          0.6393442622950819,
          0.6393442622950819,
          0.6356164383561644,
          0.6388888888888888,
          0.6406685236768802,
          0.6406685236768802,
          0.6348314606741572,
          0.6348314606741572,
          0.6171428571428571,
          0.6091954022988506,
          0.6051873198847262,
          0.6011560693641619,
          0.5971014492753624,
          0.5595238095238095,
          0.5611940298507462,
          0.5611940298507462,
          0.5542168674698795,
          0.5542168674698795,
          0.541033434650456,
          0.541033434650456,
          0.541033434650456,
          0.541033434650456,
          0.5365853658536586,
          0.5246913580246914,
          0.5246913580246914,
          0.5201238390092879,
          0.5109034267912773,
          0.5062499999999999,
          0.4645161290322581,
          0.4444444444444445,
          0.43934426229508194,
          0.43421052631578944,
          0.4186046511627907,
          0.3611111111111111,
          0.3611111111111111,
          0.3554006968641115,
          0.3554006968641115,
          0.34385964912280703,
          0.3021582733812949,
          0.3021582733812949,
          0.296028880866426,
          0.296028880866426,
          0.296028880866426,
          0.2462686567164179,
          0.23970037453183524,
          0.23970037453183524,
          0.23970037453183524,
          0.23970037453183524
         ],
         "yaxis": "y"
        },
        {
         "legendgroup": "mistral-7b-instruct - 7",
         "legendgrouptitle": {
          "text": "mistral-7b-instruct - 7"
         },
         "marker": {
          "color": "rgb(148, 103, 189)",
          "symbol": "cross-thin-open"
         },
         "mode": "markers",
         "name": "accuracy",
         "text": "mistral-7b-instruct - 7",
         "type": "scatter",
         "x": [
          0,
          0.01,
          0.02,
          0.03,
          0.04,
          0.05,
          0.06,
          0.07,
          0.08,
          0.09,
          0.1,
          0.11,
          0.12,
          0.13,
          0.14,
          0.15,
          0.16,
          0.17,
          0.18,
          0.19,
          0.2,
          0.21,
          0.22,
          0.23,
          0.24,
          0.25,
          0.26,
          0.27,
          0.28,
          0.29,
          0.3,
          0.31,
          0.32,
          0.33,
          0.34,
          0.35,
          0.36,
          0.37,
          0.38,
          0.39,
          0.4,
          0.41,
          0.42,
          0.43,
          0.44,
          0.45,
          0.46,
          0.47,
          0.48,
          0.49,
          0.5,
          0.51,
          0.52,
          0.53,
          0.54,
          0.55,
          0.56,
          0.57,
          0.58,
          0.59,
          0.6,
          0.61,
          0.62,
          0.63,
          0.64,
          0.65,
          0.66,
          0.67,
          0.68,
          0.69,
          0.7,
          0.71,
          0.72,
          0.73,
          0.74,
          0.75,
          0.76,
          0.77,
          0.78,
          0.79,
          0.8,
          0.81,
          0.82,
          0.83,
          0.84,
          0.85,
          0.86,
          0.87,
          0.88,
          0.89,
          0.9,
          0.91,
          0.92,
          0.93,
          0.94,
          0.95,
          0.96,
          0.97,
          0.98,
          0.99
         ],
         "xaxis": "x2",
         "y": [
          0.6908315565031983,
          0.697228144989339,
          0.6993603411513859,
          0.7014925373134329,
          0.7014925373134329,
          0.7718550106609808,
          0.7761194029850746,
          0.7782515991471215,
          0.7761194029850746,
          0.7761194029850746,
          0.8017057569296375,
          0.7953091684434968,
          0.7953091684434968,
          0.7953091684434968,
          0.7931769722814499,
          0.7910447761194029,
          0.7910447761194029,
          0.7910447761194029,
          0.7953091684434968,
          0.7953091684434968,
          0.7867803837953091,
          0.7867803837953091,
          0.7889125799573561,
          0.7889125799573561,
          0.7931769722814499,
          0.7825159914712153,
          0.7825159914712153,
          0.7782515991471215,
          0.7782515991471215,
          0.7782515991471215,
          0.7739872068230277,
          0.7739872068230277,
          0.7654584221748401,
          0.7633262260127932,
          0.7611940298507462,
          0.7377398720682303,
          0.7420042643923241,
          0.7377398720682303,
          0.7377398720682303,
          0.7377398720682303,
          0.7313432835820896,
          0.7334754797441365,
          0.7334754797441365,
          0.7313432835820896,
          0.7313432835820896,
          0.7313432835820896,
          0.7313432835820896,
          0.7292110874200426,
          0.7292110874200426,
          0.7334754797441365,
          0.7249466950959488,
          0.720682302771855,
          0.7185501066098081,
          0.7185501066098081,
          0.7164179104477612,
          0.7228144989339019,
          0.7249466950959488,
          0.7249466950959488,
          0.7228144989339019,
          0.7228144989339019,
          0.7142857142857143,
          0.7100213219616205,
          0.7078891257995735,
          0.7057569296375267,
          0.7036247334754797,
          0.6844349680170576,
          0.6865671641791045,
          0.6865671641791045,
          0.6844349680170576,
          0.6844349680170576,
          0.6780383795309168,
          0.6780383795309168,
          0.6780383795309168,
          0.6780383795309168,
          0.67590618336887,
          0.6716417910447762,
          0.6716417910447762,
          0.6695095948827292,
          0.6652452025586354,
          0.6631130063965884,
          0.6460554371002132,
          0.6375266524520256,
          0.6353944562899787,
          0.6332622601279317,
          0.6268656716417911,
          0.6076759061833689,
          0.6076759061833689,
          0.605543710021322,
          0.605543710021322,
          0.6012793176972282,
          0.5863539445628998,
          0.5863539445628998,
          0.5842217484008528,
          0.5842217484008528,
          0.5842217484008528,
          0.5692963752665245,
          0.5671641791044776,
          0.5671641791044776,
          0.5671641791044776,
          0.5671641791044776
         ],
         "yaxis": "y2"
        },
        {
         "legendgroup": "mistral-7b-instruct - 8",
         "legendgrouptitle": {
          "text": "mistral-7b-instruct - 8"
         },
         "marker": {
          "color": "rgb(140, 86, 75)",
          "symbol": "x-thin-open"
         },
         "mode": "markers",
         "name": "f1 score",
         "text": "mistral-7b-instruct - 8",
         "type": "scatter",
         "x": [
          0,
          0.01,
          0.02,
          0.03,
          0.04,
          0.05,
          0.06,
          0.07,
          0.08,
          0.09,
          0.1,
          0.11,
          0.12,
          0.13,
          0.14,
          0.15,
          0.16,
          0.17,
          0.18,
          0.19,
          0.2,
          0.21,
          0.22,
          0.23,
          0.24,
          0.25,
          0.26,
          0.27,
          0.28,
          0.29,
          0.3,
          0.31,
          0.32,
          0.33,
          0.34,
          0.35,
          0.36,
          0.37,
          0.38,
          0.39,
          0.4,
          0.41,
          0.42,
          0.43,
          0.44,
          0.45,
          0.46,
          0.47,
          0.48,
          0.49,
          0.5,
          0.51,
          0.52,
          0.53,
          0.54,
          0.55,
          0.56,
          0.57,
          0.58,
          0.59,
          0.6,
          0.61,
          0.62,
          0.63,
          0.64,
          0.65,
          0.66,
          0.67,
          0.68,
          0.69,
          0.7,
          0.71,
          0.72,
          0.73,
          0.74,
          0.75,
          0.76,
          0.77,
          0.78,
          0.79,
          0.8,
          0.81,
          0.82,
          0.83,
          0.84,
          0.85,
          0.86,
          0.87,
          0.88,
          0.89,
          0.9,
          0.91,
          0.92,
          0.93,
          0.94,
          0.95,
          0.96,
          0.97,
          0.98,
          0.99
         ],
         "xaxis": "x",
         "y": [
          0.7793103448275862,
          0.7824561403508773,
          0.7879858657243817,
          0.7879858657243817,
          0.7879858657243817,
          0.8067542213883677,
          0.8067542213883677,
          0.8082706766917293,
          0.8037735849056604,
          0.8052930056710775,
          0.8089430894308942,
          0.8105906313645621,
          0.8049281314168379,
          0.8049281314168379,
          0.8049281314168379,
          0.8,
          0.799163179916318,
          0.791578947368421,
          0.7898089171974522,
          0.7898089171974522,
          0.7765726681127982,
          0.7665198237885463,
          0.7637969094922737,
          0.7637969094922737,
          0.7610619469026549,
          0.7442922374429224,
          0.7414187643020594,
          0.7414187643020594,
          0.7414187643020594,
          0.7385321100917431,
          0.7383177570093458,
          0.7353629976580796,
          0.7341176470588235,
          0.7358490566037735,
          0.7285714285714285,
          0.7096774193548386,
          0.7096774193548386,
          0.7064676616915423,
          0.7064676616915423,
          0.7064676616915423,
          0.7052896725440807,
          0.6987341772151899,
          0.6987341772151899,
          0.6987341772151899,
          0.6987341772151899,
          0.6821705426356589,
          0.6821705426356589,
          0.6753246753246753,
          0.6753246753246753,
          0.6753246753246753,
          0.6684210526315789,
          0.6649076517150396,
          0.6613756613756614,
          0.6631299734748012,
          0.6631299734748012,
          0.6612903225806451,
          0.6612903225806451,
          0.6612903225806451,
          0.6630727762803234,
          0.6630727762803234,
          0.6465753424657534,
          0.6428571428571428,
          0.6353591160220995,
          0.6239554317548747,
          0.6239554317548747,
          0.596590909090909,
          0.5942857142857143,
          0.5942857142857143,
          0.5902578796561605,
          0.5902578796561605,
          0.5919540229885057,
          0.5878962536023055,
          0.5797101449275363,
          0.5797101449275363,
          0.5797101449275363,
          0.5630498533724341,
          0.5630498533724341,
          0.5630498533724341,
          0.5545722713864306,
          0.5545722713864306,
          0.5121951219512195,
          0.507645259938838,
          0.4938271604938271,
          0.4938271604938271,
          0.4938271604938271,
          0.4408945686900958,
          0.43589743589743596,
          0.4234527687296417,
          0.4183006535947712,
          0.4183006535947712,
          0.3661016949152542,
          0.36054421768707484,
          0.35494880546075086,
          0.33793103448275863,
          0.33793103448275863,
          0.2968197879858657,
          0.2968197879858657,
          0.2907801418439716,
          0.2907801418439716,
          0.2907801418439716
         ],
         "yaxis": "y"
        },
        {
         "legendgroup": "mistral-7b-instruct - 8",
         "legendgrouptitle": {
          "text": "mistral-7b-instruct - 8"
         },
         "marker": {
          "color": "rgb(140, 86, 75)",
          "symbol": "cross-thin-open"
         },
         "mode": "markers",
         "name": "accuracy",
         "text": "mistral-7b-instruct - 8",
         "type": "scatter",
         "x": [
          0,
          0.01,
          0.02,
          0.03,
          0.04,
          0.05,
          0.06,
          0.07,
          0.08,
          0.09,
          0.1,
          0.11,
          0.12,
          0.13,
          0.14,
          0.15,
          0.16,
          0.17,
          0.18,
          0.19,
          0.2,
          0.21,
          0.22,
          0.23,
          0.24,
          0.25,
          0.26,
          0.27,
          0.28,
          0.29,
          0.3,
          0.31,
          0.32,
          0.33,
          0.34,
          0.35,
          0.36,
          0.37,
          0.38,
          0.39,
          0.4,
          0.41,
          0.42,
          0.43,
          0.44,
          0.45,
          0.46,
          0.47,
          0.48,
          0.49,
          0.5,
          0.51,
          0.52,
          0.53,
          0.54,
          0.55,
          0.56,
          0.57,
          0.58,
          0.59,
          0.6,
          0.61,
          0.62,
          0.63,
          0.64,
          0.65,
          0.66,
          0.67,
          0.68,
          0.69,
          0.7,
          0.71,
          0.72,
          0.73,
          0.74,
          0.75,
          0.76,
          0.77,
          0.78,
          0.79,
          0.8,
          0.81,
          0.82,
          0.83,
          0.84,
          0.85,
          0.86,
          0.87,
          0.88,
          0.89,
          0.9,
          0.91,
          0.92,
          0.93,
          0.94,
          0.95,
          0.96,
          0.97,
          0.98,
          0.99
         ],
         "xaxis": "x2",
         "y": [
          0.7293868921775899,
          0.7378435517970402,
          0.7463002114164905,
          0.7463002114164905,
          0.7463002114164905,
          0.7822410147991543,
          0.7822410147991543,
          0.7843551797040169,
          0.7801268498942917,
          0.7822410147991543,
          0.8012684989429175,
          0.8033826638477801,
          0.7991543340380549,
          0.7991543340380549,
          0.7991543340380549,
          0.7970401691331924,
          0.7970401691331924,
          0.7906976744186046,
          0.7906976744186046,
          0.7906976744186046,
          0.7822410147991543,
          0.7758985200845666,
          0.773784355179704,
          0.773784355179704,
          0.7716701902748414,
          0.7632135306553911,
          0.7610993657505285,
          0.7610993657505285,
          0.7610993657505285,
          0.758985200845666,
          0.7632135306553911,
          0.7610993657505285,
          0.7610993657505285,
          0.7632135306553911,
          0.758985200845666,
          0.7526427061310782,
          0.7526427061310782,
          0.7505285412262156,
          0.7505285412262156,
          0.7505285412262156,
          0.7526427061310782,
          0.7484143763213531,
          0.7484143763213531,
          0.7484143763213531,
          0.7484143763213531,
          0.7399577167019028,
          0.7399577167019028,
          0.7357293868921776,
          0.7357293868921776,
          0.7357293868921776,
          0.733615221987315,
          0.7315010570824524,
          0.7293868921775899,
          0.7315010570824524,
          0.7315010570824524,
          0.733615221987315,
          0.733615221987315,
          0.733615221987315,
          0.7357293868921776,
          0.7357293868921776,
          0.7272727272727273,
          0.7251585623678647,
          0.7209302325581395,
          0.7145877378435518,
          0.7145877378435518,
          0.6997885835095138,
          0.6997885835095138,
          0.6997885835095138,
          0.6976744186046512,
          0.6976744186046512,
          0.6997885835095138,
          0.6976744186046512,
          0.693446088794926,
          0.693446088794926,
          0.693446088794926,
          0.6849894291754757,
          0.6849894291754757,
          0.6849894291754757,
          0.6807610993657506,
          0.6807610993657506,
          0.6617336152219874,
          0.6596194503171248,
          0.653276955602537,
          0.653276955602537,
          0.653276955602537,
          0.6300211416490487,
          0.627906976744186,
          0.6257928118393234,
          0.6236786469344608,
          0.6236786469344608,
          0.6046511627906976,
          0.6025369978858351,
          0.6004228329809725,
          0.5940803382663847,
          0.5940803382663847,
          0.5792811839323467,
          0.5792811839323467,
          0.5771670190274841,
          0.5771670190274841,
          0.5771670190274841
         ],
         "yaxis": "y2"
        },
        {
         "legendgroup": "fine-tuned-mistral-7b-v0.2-instruct - 0",
         "legendgrouptitle": {
          "text": "fine-tuned-mistral-7b-v0.2-instruct - 0"
         },
         "marker": {
          "color": "rgb(227, 119, 194)",
          "symbol": "x-thin-open"
         },
         "mode": "markers",
         "name": "f1 score",
         "text": "fine-tuned-mistral-7b-v0.2-instruct - 0",
         "type": "scatter",
         "x": [
          0,
          0.01,
          0.02,
          0.03,
          0.04,
          0.05,
          0.06,
          0.07,
          0.08,
          0.09,
          0.1,
          0.11,
          0.12,
          0.13,
          0.14,
          0.15,
          0.16,
          0.17,
          0.18,
          0.19,
          0.2,
          0.21,
          0.22,
          0.23,
          0.24,
          0.25,
          0.26,
          0.27,
          0.28,
          0.29,
          0.3,
          0.31,
          0.32,
          0.33,
          0.34,
          0.35,
          0.36,
          0.37,
          0.38,
          0.39,
          0.4,
          0.41,
          0.42,
          0.43,
          0.44,
          0.45,
          0.46,
          0.47,
          0.48,
          0.49,
          0.5,
          0.51,
          0.52,
          0.53,
          0.54,
          0.55,
          0.56,
          0.57,
          0.58,
          0.59,
          0.6,
          0.61,
          0.62,
          0.63,
          0.64,
          0.65,
          0.66,
          0.67,
          0.68,
          0.69,
          0.7,
          0.71,
          0.72,
          0.73,
          0.74,
          0.75,
          0.76,
          0.77,
          0.78,
          0.79,
          0.8,
          0.81,
          0.82,
          0.83,
          0.84,
          0.85,
          0.86,
          0.87,
          0.88,
          0.89,
          0.9,
          0.91,
          0.92,
          0.93,
          0.94,
          0.95,
          0.96,
          0.97,
          0.98,
          0.99
         ],
         "xaxis": "x",
         "y": [
          0.8336594911937378,
          0.8336594911937378,
          0.8336594911937378,
          0.8336594911937378,
          0.8336594911937378,
          0.8336594911937378,
          0.8336594911937378,
          0.8352941176470589,
          0.8330058939096269,
          0.8330058939096269,
          0.838445807770961,
          0.838445807770961,
          0.838445807770961,
          0.838445807770961,
          0.8401639344262295,
          0.8388429752066117,
          0.8388429752066117,
          0.8405797101449275,
          0.8405797101449275,
          0.8405797101449275,
          0.8405797101449275,
          0.8405797101449275,
          0.8405797101449275,
          0.8405797101449275,
          0.8375,
          0.8287526427061311,
          0.8287526427061311,
          0.8287526427061311,
          0.8287526427061311,
          0.8287526427061311,
          0.8237791932059448,
          0.8237791932059448,
          0.8237791932059448,
          0.8187633262260127,
          0.8179871520342613,
          0.8043478260869565,
          0.8043478260869565,
          0.8043478260869565,
          0.8043478260869565,
          0.8043478260869565,
          0.8043478260869565,
          0.8043478260869565,
          0.7991266375545851,
          0.7991266375545851,
          0.7991266375545851,
          0.7991266375545851,
          0.7991266375545851,
          0.7991266375545851,
          0.7991266375545851,
          0.7991266375545851,
          0.794701986754967,
          0.794701986754967,
          0.794701986754967,
          0.794701986754967,
          0.794701986754967,
          0.794701986754967,
          0.794701986754967,
          0.794701986754967,
          0.794701986754967,
          0.794701986754967,
          0.7920353982300886,
          0.7920353982300886,
          0.7920353982300886,
          0.7920353982300886,
          0.7920353982300886,
          0.7920353982300886,
          0.7920353982300886,
          0.7937915742793792,
          0.7937915742793792,
          0.7937915742793792,
          0.7937915742793792,
          0.7937915742793792,
          0.7937915742793792,
          0.7937915742793792,
          0.7937915742793792,
          0.7937915742793792,
          0.7937915742793792,
          0.7937915742793792,
          0.7937915742793792,
          0.7937915742793792,
          0.7911111111111111,
          0.7911111111111111,
          0.7911111111111111,
          0.7911111111111111,
          0.7911111111111111,
          0.7557603686635945,
          0.7557603686635945,
          0.7557603686635945,
          0.7557603686635945,
          0.7528868360277137,
          0.7528868360277137,
          0.7528868360277137,
          0.7528868360277137,
          0.7528868360277137,
          0.7528868360277137,
          0.7067307692307692,
          0.7067307692307692,
          0.7067307692307692,
          0.7067307692307692,
          0.7067307692307692
         ],
         "yaxis": "y"
        },
        {
         "legendgroup": "fine-tuned-mistral-7b-v0.2-instruct - 0",
         "legendgrouptitle": {
          "text": "fine-tuned-mistral-7b-v0.2-instruct - 0"
         },
         "marker": {
          "color": "rgb(227, 119, 194)",
          "symbol": "cross-thin-open"
         },
         "mode": "markers",
         "name": "accuracy",
         "text": "fine-tuned-mistral-7b-v0.2-instruct - 0",
         "type": "scatter",
         "x": [
          0,
          0.01,
          0.02,
          0.03,
          0.04,
          0.05,
          0.06,
          0.07,
          0.08,
          0.09,
          0.1,
          0.11,
          0.12,
          0.13,
          0.14,
          0.15,
          0.16,
          0.17,
          0.18,
          0.19,
          0.2,
          0.21,
          0.22,
          0.23,
          0.24,
          0.25,
          0.26,
          0.27,
          0.28,
          0.29,
          0.3,
          0.31,
          0.32,
          0.33,
          0.34,
          0.35,
          0.36,
          0.37,
          0.38,
          0.39,
          0.4,
          0.41,
          0.42,
          0.43,
          0.44,
          0.45,
          0.46,
          0.47,
          0.48,
          0.49,
          0.5,
          0.51,
          0.52,
          0.53,
          0.54,
          0.55,
          0.56,
          0.57,
          0.58,
          0.59,
          0.6,
          0.61,
          0.62,
          0.63,
          0.64,
          0.65,
          0.66,
          0.67,
          0.68,
          0.69,
          0.7,
          0.71,
          0.72,
          0.73,
          0.74,
          0.75,
          0.76,
          0.77,
          0.78,
          0.79,
          0.8,
          0.81,
          0.82,
          0.83,
          0.84,
          0.85,
          0.86,
          0.87,
          0.88,
          0.89,
          0.9,
          0.91,
          0.92,
          0.93,
          0.94,
          0.95,
          0.96,
          0.97,
          0.98,
          0.99
         ],
         "xaxis": "x2",
         "y": [
          0.8221757322175732,
          0.8221757322175732,
          0.8221757322175732,
          0.8221757322175732,
          0.8221757322175732,
          0.8221757322175732,
          0.8221757322175732,
          0.8242677824267782,
          0.8221757322175732,
          0.8221757322175732,
          0.8347280334728033,
          0.8347280334728033,
          0.8347280334728033,
          0.8347280334728033,
          0.8368200836820083,
          0.8368200836820083,
          0.8368200836820083,
          0.8389121338912134,
          0.8389121338912134,
          0.8389121338912134,
          0.8389121338912134,
          0.8389121338912134,
          0.8389121338912134,
          0.8389121338912134,
          0.8368200836820083,
          0.8305439330543933,
          0.8305439330543933,
          0.8305439330543933,
          0.8305439330543933,
          0.8305439330543933,
          0.8263598326359832,
          0.8263598326359832,
          0.8263598326359832,
          0.8221757322175732,
          0.8221757322175732,
          0.8117154811715481,
          0.8117154811715481,
          0.8117154811715481,
          0.8117154811715481,
          0.8117154811715481,
          0.8117154811715481,
          0.8117154811715481,
          0.8075313807531381,
          0.8075313807531381,
          0.8075313807531381,
          0.8075313807531381,
          0.8075313807531381,
          0.8075313807531381,
          0.8075313807531381,
          0.8075313807531381,
          0.805439330543933,
          0.805439330543933,
          0.805439330543933,
          0.805439330543933,
          0.805439330543933,
          0.805439330543933,
          0.805439330543933,
          0.805439330543933,
          0.805439330543933,
          0.805439330543933,
          0.803347280334728,
          0.803347280334728,
          0.803347280334728,
          0.803347280334728,
          0.803347280334728,
          0.803347280334728,
          0.803347280334728,
          0.805439330543933,
          0.805439330543933,
          0.805439330543933,
          0.805439330543933,
          0.805439330543933,
          0.805439330543933,
          0.805439330543933,
          0.805439330543933,
          0.805439330543933,
          0.805439330543933,
          0.805439330543933,
          0.805439330543933,
          0.805439330543933,
          0.803347280334728,
          0.803347280334728,
          0.803347280334728,
          0.803347280334728,
          0.803347280334728,
          0.7782426778242678,
          0.7782426778242678,
          0.7782426778242678,
          0.7782426778242678,
          0.7761506276150628,
          0.7761506276150628,
          0.7761506276150628,
          0.7761506276150628,
          0.7761506276150628,
          0.7761506276150628,
          0.7447698744769874,
          0.7447698744769874,
          0.7447698744769874,
          0.7447698744769874,
          0.7447698744769874
         ],
         "yaxis": "y2"
        },
        {
         "legendgroup": "fine-tuned-mistral-7b-v0.2-instruct - 1",
         "legendgrouptitle": {
          "text": "fine-tuned-mistral-7b-v0.2-instruct - 1"
         },
         "marker": {
          "color": "rgb(127, 127, 127)",
          "symbol": "x-thin-open"
         },
         "mode": "markers",
         "name": "f1 score",
         "text": "fine-tuned-mistral-7b-v0.2-instruct - 1",
         "type": "scatter",
         "x": [
          0,
          0.01,
          0.02,
          0.03,
          0.04,
          0.05,
          0.06,
          0.07,
          0.08,
          0.09,
          0.1,
          0.11,
          0.12,
          0.13,
          0.14,
          0.15,
          0.16,
          0.17,
          0.18,
          0.19,
          0.2,
          0.21,
          0.22,
          0.23,
          0.24,
          0.25,
          0.26,
          0.27,
          0.28,
          0.29,
          0.3,
          0.31,
          0.32,
          0.33,
          0.34,
          0.35,
          0.36,
          0.37,
          0.38,
          0.39,
          0.4,
          0.41,
          0.42,
          0.43,
          0.44,
          0.45,
          0.46,
          0.47,
          0.48,
          0.49,
          0.5,
          0.51,
          0.52,
          0.53,
          0.54,
          0.55,
          0.56,
          0.57,
          0.58,
          0.59,
          0.6,
          0.61,
          0.62,
          0.63,
          0.64,
          0.65,
          0.66,
          0.67,
          0.68,
          0.69,
          0.7,
          0.71,
          0.72,
          0.73,
          0.74,
          0.75,
          0.76,
          0.77,
          0.78,
          0.79,
          0.8,
          0.81,
          0.82,
          0.83,
          0.84,
          0.85,
          0.86,
          0.87,
          0.88,
          0.89,
          0.9,
          0.91,
          0.92,
          0.93,
          0.94,
          0.95,
          0.96,
          0.97,
          0.98,
          0.99
         ],
         "xaxis": "x",
         "y": [
          0.8233082706766917,
          0.8233082706766917,
          0.8233082706766917,
          0.8233082706766917,
          0.8233082706766917,
          0.8233082706766917,
          0.8233082706766917,
          0.8233082706766917,
          0.8233082706766917,
          0.8233082706766917,
          0.8303393213572854,
          0.8303393213572854,
          0.8303393213572854,
          0.8303393213572854,
          0.8303393213572854,
          0.8303393213572854,
          0.8303393213572854,
          0.8303393213572854,
          0.8303393213572854,
          0.8303393213572854,
          0.8073770491803279,
          0.8073770491803279,
          0.8073770491803279,
          0.8073770491803279,
          0.8073770491803279,
          0.8073770491803279,
          0.8073770491803279,
          0.8073770491803279,
          0.8073770491803279,
          0.8073770491803279,
          0.7837259100642399,
          0.7837259100642399,
          0.7837259100642399,
          0.7837259100642399,
          0.7837259100642399,
          0.7837259100642399,
          0.7837259100642399,
          0.7837259100642399,
          0.7837259100642399,
          0.7837259100642399,
          0.7671840354767183,
          0.7671840354767183,
          0.7671840354767183,
          0.7671840354767183,
          0.7671840354767183,
          0.7671840354767183,
          0.7671840354767183,
          0.7671840354767183,
          0.7671840354767183,
          0.7671840354767183,
          0.7425968109339408,
          0.7425968109339408,
          0.7425968109339408,
          0.7425968109339408,
          0.7425968109339408,
          0.7425968109339408,
          0.7425968109339408,
          0.7425968109339408,
          0.7425968109339408,
          0.7425968109339408,
          0.7414187643020594,
          0.7414187643020594,
          0.7414187643020594,
          0.7414187643020594,
          0.7414187643020594,
          0.7414187643020594,
          0.7414187643020594,
          0.7414187643020594,
          0.7414187643020594,
          0.7414187643020594,
          0.7247058823529411,
          0.7247058823529411,
          0.7247058823529411,
          0.7247058823529411,
          0.7247058823529411,
          0.7247058823529411,
          0.7247058823529411,
          0.7247058823529411,
          0.7247058823529411,
          0.7247058823529411,
          0.7129186602870813,
          0.7129186602870813,
          0.7129186602870813,
          0.7129186602870813,
          0.7129186602870813,
          0.7129186602870813,
          0.7129186602870813,
          0.7129186602870813,
          0.7129186602870813,
          0.7129186602870813,
          0.6894865525672371,
          0.6894865525672371,
          0.6894865525672371,
          0.6894865525672371,
          0.6894865525672371,
          0.6894865525672371,
          0.6894865525672371,
          0.6894865525672371,
          0.6894865525672371,
          0.6894865525672371
         ],
         "yaxis": "y"
        },
        {
         "legendgroup": "fine-tuned-mistral-7b-v0.2-instruct - 1",
         "legendgrouptitle": {
          "text": "fine-tuned-mistral-7b-v0.2-instruct - 1"
         },
         "marker": {
          "color": "rgb(127, 127, 127)",
          "symbol": "cross-thin-open"
         },
         "mode": "markers",
         "name": "accuracy",
         "text": "fine-tuned-mistral-7b-v0.2-instruct - 1",
         "type": "scatter",
         "x": [
          0,
          0.01,
          0.02,
          0.03,
          0.04,
          0.05,
          0.06,
          0.07,
          0.08,
          0.09,
          0.1,
          0.11,
          0.12,
          0.13,
          0.14,
          0.15,
          0.16,
          0.17,
          0.18,
          0.19,
          0.2,
          0.21,
          0.22,
          0.23,
          0.24,
          0.25,
          0.26,
          0.27,
          0.28,
          0.29,
          0.3,
          0.31,
          0.32,
          0.33,
          0.34,
          0.35,
          0.36,
          0.37,
          0.38,
          0.39,
          0.4,
          0.41,
          0.42,
          0.43,
          0.44,
          0.45,
          0.46,
          0.47,
          0.48,
          0.49,
          0.5,
          0.51,
          0.52,
          0.53,
          0.54,
          0.55,
          0.56,
          0.57,
          0.58,
          0.59,
          0.6,
          0.61,
          0.62,
          0.63,
          0.64,
          0.65,
          0.66,
          0.67,
          0.68,
          0.69,
          0.7,
          0.71,
          0.72,
          0.73,
          0.74,
          0.75,
          0.76,
          0.77,
          0.78,
          0.79,
          0.8,
          0.81,
          0.82,
          0.83,
          0.84,
          0.85,
          0.86,
          0.87,
          0.88,
          0.89,
          0.9,
          0.91,
          0.92,
          0.93,
          0.94,
          0.95,
          0.96,
          0.97,
          0.98,
          0.99
         ],
         "xaxis": "x2",
         "y": [
          0.8025210084033614,
          0.8025210084033614,
          0.8025210084033614,
          0.8025210084033614,
          0.8025210084033614,
          0.8025210084033614,
          0.8025210084033614,
          0.8025210084033614,
          0.8025210084033614,
          0.8025210084033614,
          0.8214285714285714,
          0.8214285714285714,
          0.8214285714285714,
          0.8214285714285714,
          0.8214285714285714,
          0.8214285714285714,
          0.8214285714285714,
          0.8214285714285714,
          0.8214285714285714,
          0.8214285714285714,
          0.8025210084033614,
          0.8025210084033614,
          0.8025210084033614,
          0.8025210084033614,
          0.8025210084033614,
          0.8025210084033614,
          0.8025210084033614,
          0.8025210084033614,
          0.8025210084033614,
          0.8025210084033614,
          0.7878151260504201,
          0.7878151260504201,
          0.7878151260504201,
          0.7878151260504201,
          0.7878151260504201,
          0.7878151260504201,
          0.7878151260504201,
          0.7878151260504201,
          0.7878151260504201,
          0.7878151260504201,
          0.7794117647058824,
          0.7794117647058824,
          0.7794117647058824,
          0.7794117647058824,
          0.7794117647058824,
          0.7794117647058824,
          0.7794117647058824,
          0.7794117647058824,
          0.7794117647058824,
          0.7794117647058824,
          0.7626050420168067,
          0.7626050420168067,
          0.7626050420168067,
          0.7626050420168067,
          0.7626050420168067,
          0.7626050420168067,
          0.7626050420168067,
          0.7626050420168067,
          0.7626050420168067,
          0.7626050420168067,
          0.7626050420168067,
          0.7626050420168067,
          0.7626050420168067,
          0.7626050420168067,
          0.7626050420168067,
          0.7626050420168067,
          0.7626050420168067,
          0.7626050420168067,
          0.7626050420168067,
          0.7626050420168067,
          0.7542016806722689,
          0.7542016806722689,
          0.7542016806722689,
          0.7542016806722689,
          0.7542016806722689,
          0.7542016806722689,
          0.7542016806722689,
          0.7542016806722689,
          0.7542016806722689,
          0.7542016806722689,
          0.7478991596638656,
          0.7478991596638656,
          0.7478991596638656,
          0.7478991596638656,
          0.7478991596638656,
          0.7478991596638656,
          0.7478991596638656,
          0.7478991596638656,
          0.7478991596638656,
          0.7478991596638656,
          0.7331932773109243,
          0.7331932773109243,
          0.7331932773109243,
          0.7331932773109243,
          0.7331932773109243,
          0.7331932773109243,
          0.7331932773109243,
          0.7331932773109243,
          0.7331932773109243,
          0.7331932773109243
         ],
         "yaxis": "y2"
        }
       ],
       "layout": {
        "annotations": [
         {
          "font": {
           "size": 16
          },
          "showarrow": false,
          "text": "F1 scores",
          "x": 0.225,
          "xanchor": "center",
          "xref": "paper",
          "y": 1,
          "yanchor": "bottom",
          "yref": "paper"
         },
         {
          "font": {
           "size": 16
          },
          "showarrow": false,
          "text": "Accuracy scores",
          "x": 0.775,
          "xanchor": "center",
          "xref": "paper",
          "y": 1,
          "yanchor": "bottom",
          "yref": "paper"
         }
        ],
        "template": {
         "data": {
          "bar": [
           {
            "error_x": {
             "color": "#2a3f5f"
            },
            "error_y": {
             "color": "#2a3f5f"
            },
            "marker": {
             "line": {
              "color": "#E5ECF6",
              "width": 0.5
             },
             "pattern": {
              "fillmode": "overlay",
              "size": 10,
              "solidity": 0.2
             }
            },
            "type": "bar"
           }
          ],
          "barpolar": [
           {
            "marker": {
             "line": {
              "color": "#E5ECF6",
              "width": 0.5
             },
             "pattern": {
              "fillmode": "overlay",
              "size": 10,
              "solidity": 0.2
             }
            },
            "type": "barpolar"
           }
          ],
          "carpet": [
           {
            "aaxis": {
             "endlinecolor": "#2a3f5f",
             "gridcolor": "white",
             "linecolor": "white",
             "minorgridcolor": "white",
             "startlinecolor": "#2a3f5f"
            },
            "baxis": {
             "endlinecolor": "#2a3f5f",
             "gridcolor": "white",
             "linecolor": "white",
             "minorgridcolor": "white",
             "startlinecolor": "#2a3f5f"
            },
            "type": "carpet"
           }
          ],
          "choropleth": [
           {
            "colorbar": {
             "outlinewidth": 0,
             "ticks": ""
            },
            "type": "choropleth"
           }
          ],
          "contour": [
           {
            "colorbar": {
             "outlinewidth": 0,
             "ticks": ""
            },
            "colorscale": [
             [
              0,
              "#0d0887"
             ],
             [
              0.1111111111111111,
              "#46039f"
             ],
             [
              0.2222222222222222,
              "#7201a8"
             ],
             [
              0.3333333333333333,
              "#9c179e"
             ],
             [
              0.4444444444444444,
              "#bd3786"
             ],
             [
              0.5555555555555556,
              "#d8576b"
             ],
             [
              0.6666666666666666,
              "#ed7953"
             ],
             [
              0.7777777777777778,
              "#fb9f3a"
             ],
             [
              0.8888888888888888,
              "#fdca26"
             ],
             [
              1,
              "#f0f921"
             ]
            ],
            "type": "contour"
           }
          ],
          "contourcarpet": [
           {
            "colorbar": {
             "outlinewidth": 0,
             "ticks": ""
            },
            "type": "contourcarpet"
           }
          ],
          "heatmap": [
           {
            "colorbar": {
             "outlinewidth": 0,
             "ticks": ""
            },
            "colorscale": [
             [
              0,
              "#0d0887"
             ],
             [
              0.1111111111111111,
              "#46039f"
             ],
             [
              0.2222222222222222,
              "#7201a8"
             ],
             [
              0.3333333333333333,
              "#9c179e"
             ],
             [
              0.4444444444444444,
              "#bd3786"
             ],
             [
              0.5555555555555556,
              "#d8576b"
             ],
             [
              0.6666666666666666,
              "#ed7953"
             ],
             [
              0.7777777777777778,
              "#fb9f3a"
             ],
             [
              0.8888888888888888,
              "#fdca26"
             ],
             [
              1,
              "#f0f921"
             ]
            ],
            "type": "heatmap"
           }
          ],
          "heatmapgl": [
           {
            "colorbar": {
             "outlinewidth": 0,
             "ticks": ""
            },
            "colorscale": [
             [
              0,
              "#0d0887"
             ],
             [
              0.1111111111111111,
              "#46039f"
             ],
             [
              0.2222222222222222,
              "#7201a8"
             ],
             [
              0.3333333333333333,
              "#9c179e"
             ],
             [
              0.4444444444444444,
              "#bd3786"
             ],
             [
              0.5555555555555556,
              "#d8576b"
             ],
             [
              0.6666666666666666,
              "#ed7953"
             ],
             [
              0.7777777777777778,
              "#fb9f3a"
             ],
             [
              0.8888888888888888,
              "#fdca26"
             ],
             [
              1,
              "#f0f921"
             ]
            ],
            "type": "heatmapgl"
           }
          ],
          "histogram": [
           {
            "marker": {
             "pattern": {
              "fillmode": "overlay",
              "size": 10,
              "solidity": 0.2
             }
            },
            "type": "histogram"
           }
          ],
          "histogram2d": [
           {
            "colorbar": {
             "outlinewidth": 0,
             "ticks": ""
            },
            "colorscale": [
             [
              0,
              "#0d0887"
             ],
             [
              0.1111111111111111,
              "#46039f"
             ],
             [
              0.2222222222222222,
              "#7201a8"
             ],
             [
              0.3333333333333333,
              "#9c179e"
             ],
             [
              0.4444444444444444,
              "#bd3786"
             ],
             [
              0.5555555555555556,
              "#d8576b"
             ],
             [
              0.6666666666666666,
              "#ed7953"
             ],
             [
              0.7777777777777778,
              "#fb9f3a"
             ],
             [
              0.8888888888888888,
              "#fdca26"
             ],
             [
              1,
              "#f0f921"
             ]
            ],
            "type": "histogram2d"
           }
          ],
          "histogram2dcontour": [
           {
            "colorbar": {
             "outlinewidth": 0,
             "ticks": ""
            },
            "colorscale": [
             [
              0,
              "#0d0887"
             ],
             [
              0.1111111111111111,
              "#46039f"
             ],
             [
              0.2222222222222222,
              "#7201a8"
             ],
             [
              0.3333333333333333,
              "#9c179e"
             ],
             [
              0.4444444444444444,
              "#bd3786"
             ],
             [
              0.5555555555555556,
              "#d8576b"
             ],
             [
              0.6666666666666666,
              "#ed7953"
             ],
             [
              0.7777777777777778,
              "#fb9f3a"
             ],
             [
              0.8888888888888888,
              "#fdca26"
             ],
             [
              1,
              "#f0f921"
             ]
            ],
            "type": "histogram2dcontour"
           }
          ],
          "mesh3d": [
           {
            "colorbar": {
             "outlinewidth": 0,
             "ticks": ""
            },
            "type": "mesh3d"
           }
          ],
          "parcoords": [
           {
            "line": {
             "colorbar": {
              "outlinewidth": 0,
              "ticks": ""
             }
            },
            "type": "parcoords"
           }
          ],
          "pie": [
           {
            "automargin": true,
            "type": "pie"
           }
          ],
          "scatter": [
           {
            "fillpattern": {
             "fillmode": "overlay",
             "size": 10,
             "solidity": 0.2
            },
            "type": "scatter"
           }
          ],
          "scatter3d": [
           {
            "line": {
             "colorbar": {
              "outlinewidth": 0,
              "ticks": ""
             }
            },
            "marker": {
             "colorbar": {
              "outlinewidth": 0,
              "ticks": ""
             }
            },
            "type": "scatter3d"
           }
          ],
          "scattercarpet": [
           {
            "marker": {
             "colorbar": {
              "outlinewidth": 0,
              "ticks": ""
             }
            },
            "type": "scattercarpet"
           }
          ],
          "scattergeo": [
           {
            "marker": {
             "colorbar": {
              "outlinewidth": 0,
              "ticks": ""
             }
            },
            "type": "scattergeo"
           }
          ],
          "scattergl": [
           {
            "marker": {
             "colorbar": {
              "outlinewidth": 0,
              "ticks": ""
             }
            },
            "type": "scattergl"
           }
          ],
          "scattermapbox": [
           {
            "marker": {
             "colorbar": {
              "outlinewidth": 0,
              "ticks": ""
             }
            },
            "type": "scattermapbox"
           }
          ],
          "scatterpolar": [
           {
            "marker": {
             "colorbar": {
              "outlinewidth": 0,
              "ticks": ""
             }
            },
            "type": "scatterpolar"
           }
          ],
          "scatterpolargl": [
           {
            "marker": {
             "colorbar": {
              "outlinewidth": 0,
              "ticks": ""
             }
            },
            "type": "scatterpolargl"
           }
          ],
          "scatterternary": [
           {
            "marker": {
             "colorbar": {
              "outlinewidth": 0,
              "ticks": ""
             }
            },
            "type": "scatterternary"
           }
          ],
          "surface": [
           {
            "colorbar": {
             "outlinewidth": 0,
             "ticks": ""
            },
            "colorscale": [
             [
              0,
              "#0d0887"
             ],
             [
              0.1111111111111111,
              "#46039f"
             ],
             [
              0.2222222222222222,
              "#7201a8"
             ],
             [
              0.3333333333333333,
              "#9c179e"
             ],
             [
              0.4444444444444444,
              "#bd3786"
             ],
             [
              0.5555555555555556,
              "#d8576b"
             ],
             [
              0.6666666666666666,
              "#ed7953"
             ],
             [
              0.7777777777777778,
              "#fb9f3a"
             ],
             [
              0.8888888888888888,
              "#fdca26"
             ],
             [
              1,
              "#f0f921"
             ]
            ],
            "type": "surface"
           }
          ],
          "table": [
           {
            "cells": {
             "fill": {
              "color": "#EBF0F8"
             },
             "line": {
              "color": "white"
             }
            },
            "header": {
             "fill": {
              "color": "#C8D4E3"
             },
             "line": {
              "color": "white"
             }
            },
            "type": "table"
           }
          ]
         },
         "layout": {
          "annotationdefaults": {
           "arrowcolor": "#2a3f5f",
           "arrowhead": 0,
           "arrowwidth": 1
          },
          "autotypenumbers": "strict",
          "coloraxis": {
           "colorbar": {
            "outlinewidth": 0,
            "ticks": ""
           }
          },
          "colorscale": {
           "diverging": [
            [
             0,
             "#8e0152"
            ],
            [
             0.1,
             "#c51b7d"
            ],
            [
             0.2,
             "#de77ae"
            ],
            [
             0.3,
             "#f1b6da"
            ],
            [
             0.4,
             "#fde0ef"
            ],
            [
             0.5,
             "#f7f7f7"
            ],
            [
             0.6,
             "#e6f5d0"
            ],
            [
             0.7,
             "#b8e186"
            ],
            [
             0.8,
             "#7fbc41"
            ],
            [
             0.9,
             "#4d9221"
            ],
            [
             1,
             "#276419"
            ]
           ],
           "sequential": [
            [
             0,
             "#0d0887"
            ],
            [
             0.1111111111111111,
             "#46039f"
            ],
            [
             0.2222222222222222,
             "#7201a8"
            ],
            [
             0.3333333333333333,
             "#9c179e"
            ],
            [
             0.4444444444444444,
             "#bd3786"
            ],
            [
             0.5555555555555556,
             "#d8576b"
            ],
            [
             0.6666666666666666,
             "#ed7953"
            ],
            [
             0.7777777777777778,
             "#fb9f3a"
            ],
            [
             0.8888888888888888,
             "#fdca26"
            ],
            [
             1,
             "#f0f921"
            ]
           ],
           "sequentialminus": [
            [
             0,
             "#0d0887"
            ],
            [
             0.1111111111111111,
             "#46039f"
            ],
            [
             0.2222222222222222,
             "#7201a8"
            ],
            [
             0.3333333333333333,
             "#9c179e"
            ],
            [
             0.4444444444444444,
             "#bd3786"
            ],
            [
             0.5555555555555556,
             "#d8576b"
            ],
            [
             0.6666666666666666,
             "#ed7953"
            ],
            [
             0.7777777777777778,
             "#fb9f3a"
            ],
            [
             0.8888888888888888,
             "#fdca26"
            ],
            [
             1,
             "#f0f921"
            ]
           ]
          },
          "colorway": [
           "#636efa",
           "#EF553B",
           "#00cc96",
           "#ab63fa",
           "#FFA15A",
           "#19d3f3",
           "#FF6692",
           "#B6E880",
           "#FF97FF",
           "#FECB52"
          ],
          "font": {
           "color": "#2a3f5f"
          },
          "geo": {
           "bgcolor": "white",
           "lakecolor": "white",
           "landcolor": "#E5ECF6",
           "showlakes": true,
           "showland": true,
           "subunitcolor": "white"
          },
          "hoverlabel": {
           "align": "left"
          },
          "hovermode": "closest",
          "mapbox": {
           "style": "light"
          },
          "paper_bgcolor": "white",
          "plot_bgcolor": "#E5ECF6",
          "polar": {
           "angularaxis": {
            "gridcolor": "white",
            "linecolor": "white",
            "ticks": ""
           },
           "bgcolor": "#E5ECF6",
           "radialaxis": {
            "gridcolor": "white",
            "linecolor": "white",
            "ticks": ""
           }
          },
          "scene": {
           "xaxis": {
            "backgroundcolor": "#E5ECF6",
            "gridcolor": "white",
            "gridwidth": 2,
            "linecolor": "white",
            "showbackground": true,
            "ticks": "",
            "zerolinecolor": "white"
           },
           "yaxis": {
            "backgroundcolor": "#E5ECF6",
            "gridcolor": "white",
            "gridwidth": 2,
            "linecolor": "white",
            "showbackground": true,
            "ticks": "",
            "zerolinecolor": "white"
           },
           "zaxis": {
            "backgroundcolor": "#E5ECF6",
            "gridcolor": "white",
            "gridwidth": 2,
            "linecolor": "white",
            "showbackground": true,
            "ticks": "",
            "zerolinecolor": "white"
           }
          },
          "shapedefaults": {
           "line": {
            "color": "#2a3f5f"
           }
          },
          "ternary": {
           "aaxis": {
            "gridcolor": "white",
            "linecolor": "white",
            "ticks": ""
           },
           "baxis": {
            "gridcolor": "white",
            "linecolor": "white",
            "ticks": ""
           },
           "bgcolor": "#E5ECF6",
           "caxis": {
            "gridcolor": "white",
            "linecolor": "white",
            "ticks": ""
           }
          },
          "title": {
           "x": 0.05
          },
          "xaxis": {
           "automargin": true,
           "gridcolor": "white",
           "linecolor": "white",
           "ticks": "",
           "title": {
            "standoff": 15
           },
           "zerolinecolor": "white",
           "zerolinewidth": 2
          },
          "yaxis": {
           "automargin": true,
           "gridcolor": "white",
           "linecolor": "white",
           "ticks": "",
           "title": {
            "standoff": 15
           },
           "zerolinecolor": "white",
           "zerolinewidth": 2
          }
         }
        },
        "xaxis": {
         "anchor": "y",
         "domain": [
          0,
          0.45
         ],
         "title": {
          "text": "by cutoff"
         }
        },
        "xaxis2": {
         "anchor": "y2",
         "domain": [
          0.55,
          1
         ],
         "title": {
          "text": "by cutoff"
         }
        },
        "yaxis": {
         "anchor": "x",
         "domain": [
          0,
          1
         ],
         "title": {
          "text": "f1 score"
         }
        },
        "yaxis2": {
         "anchor": "x2",
         "domain": [
          0,
          1
         ],
         "title": {
          "text": "accuracy score"
         }
        }
       }
      }
     },
     "metadata": {},
     "output_type": "display_data"
    }
   ],
   "source": [
    "import plotly\n",
    "\n",
    "classified_stats = pd.DataFrame(classified_metrics)\n",
    "fig = make_subplots(rows=1, cols=2, subplot_titles=(\"F1 scores\", \"Accuracy scores\"))\n",
    "\n",
    "for i, label in enumerate(classified_stats[\"color\"].unique()):\n",
    "    filtered = classified_stats[classified_stats['color'] == label]\n",
    "    color = plotly.colors.DEFAULT_PLOTLY_COLORS[i]\n",
    "    fig.add_trace(\n",
    "        go.Scatter(x=filtered[\"x\"], y=filtered[\"f1\"], text=label, legendgroup=label, legendgrouptitle=dict(text=label),\n",
    "                   mode='markers', name=\"f1 score\", marker=go.scatter.Marker(color=color, symbol=\"x-thin-open\")),\n",
    "        row=1, col=1)\n",
    "    fig.add_trace(\n",
    "        go.Scatter(x=filtered[\"x\"], y=filtered[\"accuracy\"], legendgroup=label, legendgrouptitle=dict(text=label),\n",
    "                   text=label, mode='markers', name=\"accuracy\",\n",
    "                   marker=go.scatter.Marker(color=color, symbol=\"cross-thin-open\")),\n",
    "        row=1, col=2)\n",
    "\n",
    "fig.update_layout(xaxis=dict(title=\"by cutoff\"), xaxis2=dict(title=\"by cutoff\"), yaxis=dict(title=\"f1 score\"),\n",
    "                  yaxis2=dict(title=\"accuracy score\"))\n",
    "fig.show()"
   ]
  },
  {
   "cell_type": "code",
   "execution_count": 62,
   "metadata": {},
   "outputs": [
    {
     "name": "stdout",
     "output_type": "stream",
     "text": [
      "52\n",
      "20\n",
      "He got what he deserved .\n"
     ]
    },
    {
     "data": {
      "text/html": [
       "<div>\n",
       "<style scoped>\n",
       "    .dataframe tbody tr th:only-of-type {\n",
       "        vertical-align: middle;\n",
       "    }\n",
       "\n",
       "    .dataframe tbody tr th {\n",
       "        vertical-align: top;\n",
       "    }\n",
       "\n",
       "    .dataframe thead th {\n",
       "        text-align: right;\n",
       "    }\n",
       "</style>\n",
       "<table border=\"1\" class=\"dataframe\">\n",
       "  <thead>\n",
       "    <tr style=\"text-align: right;\">\n",
       "      <th></th>\n",
       "      <th>prompt_id</th>\n",
       "      <th>model</th>\n",
       "      <th>hate_speech_probability</th>\n",
       "      <th>labeled_hateful</th>\n",
       "      <th>text</th>\n",
       "    </tr>\n",
       "  </thead>\n",
       "  <tbody>\n",
       "    <tr>\n",
       "      <th>89</th>\n",
       "      <td>6</td>\n",
       "      <td>mistral-7b-instruct</td>\n",
       "      <td>0.10</td>\n",
       "      <td>True</td>\n",
       "      <td>He got what he deserved .</td>\n",
       "    </tr>\n",
       "    <tr>\n",
       "      <th>295</th>\n",
       "      <td>6</td>\n",
       "      <td>mistral-7b-instruct</td>\n",
       "      <td>0.05</td>\n",
       "      <td>True</td>\n",
       "      <td>Hell to have a teacher like this .</td>\n",
       "    </tr>\n",
       "    <tr>\n",
       "      <th>438</th>\n",
       "      <td>6</td>\n",
       "      <td>mistral-7b-instruct</td>\n",
       "      <td>0.00</td>\n",
       "      <td>True</td>\n",
       "      <td>They probably stole a bunch of stuff .</td>\n",
       "    </tr>\n",
       "    <tr>\n",
       "      <th>172</th>\n",
       "      <td>6</td>\n",
       "      <td>mistral-7b-instruct</td>\n",
       "      <td>0.00</td>\n",
       "      <td>True</td>\n",
       "      <td>Maybe spread some HATE and intolerance ?</td>\n",
       "    </tr>\n",
       "    <tr>\n",
       "      <th>56</th>\n",
       "      <td>6</td>\n",
       "      <td>mistral-7b-instruct</td>\n",
       "      <td>0.10</td>\n",
       "      <td>True</td>\n",
       "      <td>If we do n't act soon they will bread us out .</td>\n",
       "    </tr>\n",
       "    <tr>\n",
       "      <th>423</th>\n",
       "      <td>6</td>\n",
       "      <td>mistral-7b-instruct</td>\n",
       "      <td>0.00</td>\n",
       "      <td>True</td>\n",
       "      <td>To hell with what this creature thinks anyway .</td>\n",
       "    </tr>\n",
       "    <tr>\n",
       "      <th>29</th>\n",
       "      <td>6</td>\n",
       "      <td>mistral-7b-instruct</td>\n",
       "      <td>0.03</td>\n",
       "      <td>True</td>\n",
       "      <td>That 's to assume the gay ones are n't abusive .</td>\n",
       "    </tr>\n",
       "    <tr>\n",
       "      <th>443</th>\n",
       "      <td>6</td>\n",
       "      <td>mistral-7b-instruct</td>\n",
       "      <td>0.00</td>\n",
       "      <td>True</td>\n",
       "      <td>Its simple , they want to create white guilt , .</td>\n",
       "    </tr>\n",
       "    <tr>\n",
       "      <th>473</th>\n",
       "      <td>6</td>\n",
       "      <td>mistral-7b-instruct</td>\n",
       "      <td>0.10</td>\n",
       "      <td>True</td>\n",
       "      <td>But as for them adopting kids , the answer is NO .</td>\n",
       "    </tr>\n",
       "    <tr>\n",
       "      <th>199</th>\n",
       "      <td>6</td>\n",
       "      <td>mistral-7b-instruct</td>\n",
       "      <td>0.10</td>\n",
       "      <td>True</td>\n",
       "      <td>If that stopped the worthless thing would starve !</td>\n",
       "    </tr>\n",
       "    <tr>\n",
       "      <th>458</th>\n",
       "      <td>6</td>\n",
       "      <td>mistral-7b-instruct</td>\n",
       "      <td>0.15</td>\n",
       "      <td>True</td>\n",
       "      <td>Like I said before I 'd bet 90 % + have Liberal parents .</td>\n",
       "    </tr>\n",
       "    <tr>\n",
       "      <th>470</th>\n",
       "      <td>6</td>\n",
       "      <td>mistral-7b-instruct</td>\n",
       "      <td>0.00</td>\n",
       "      <td>True</td>\n",
       "      <td>Most of these videos belong on the Animal Planet tv channel .</td>\n",
       "    </tr>\n",
       "    <tr>\n",
       "      <th>446</th>\n",
       "      <td>6</td>\n",
       "      <td>mistral-7b-instruct</td>\n",
       "      <td>0.15</td>\n",
       "      <td>True</td>\n",
       "      <td>some times Whites are forced to live around a lot of blacks .</td>\n",
       "    </tr>\n",
       "    <tr>\n",
       "      <th>11</th>\n",
       "      <td>6</td>\n",
       "      <td>mistral-7b-instruct</td>\n",
       "      <td>0.10</td>\n",
       "      <td>True</td>\n",
       "      <td>YouTube - Brussels on 9/11 : For a free Europe , against Islamization</td>\n",
       "    </tr>\n",
       "    <tr>\n",
       "      <th>414</th>\n",
       "      <td>6</td>\n",
       "      <td>mistral-7b-instruct</td>\n",
       "      <td>0.00</td>\n",
       "      <td>True</td>\n",
       "      <td>I considered it being `` ethnically cleansed '' from my childhood home</td>\n",
       "    </tr>\n",
       "    <tr>\n",
       "      <th>472</th>\n",
       "      <td>6</td>\n",
       "      <td>mistral-7b-instruct</td>\n",
       "      <td>0.12</td>\n",
       "      <td>True</td>\n",
       "      <td>They will kill there own just as fast as they would kill there enemy .</td>\n",
       "    </tr>\n",
       "    <tr>\n",
       "      <th>256</th>\n",
       "      <td>6</td>\n",
       "      <td>mistral-7b-instruct</td>\n",
       "      <td>0.00</td>\n",
       "      <td>True</td>\n",
       "      <td>This guy seems to get it but otherwise : Sorry jigs , you 're on your own</td>\n",
       "    </tr>\n",
       "    <tr>\n",
       "      <th>428</th>\n",
       "      <td>6</td>\n",
       "      <td>mistral-7b-instruct</td>\n",
       "      <td>0.00</td>\n",
       "      <td>True</td>\n",
       "      <td>How much longer are we going to wait for them to take care of themselves ?</td>\n",
       "    </tr>\n",
       "    <tr>\n",
       "      <th>225</th>\n",
       "      <td>6</td>\n",
       "      <td>mistral-7b-instruct</td>\n",
       "      <td>0.00</td>\n",
       "      <td>True</td>\n",
       "      <td>I went outside and the niglet 's mom told me my daughter had hit her first .</td>\n",
       "    </tr>\n",
       "    <tr>\n",
       "      <th>243</th>\n",
       "      <td>6</td>\n",
       "      <td>mistral-7b-instruct</td>\n",
       "      <td>0.00</td>\n",
       "      <td>True</td>\n",
       "      <td>Its only a matter of time until we become a hell hole like Sweden or the UK .</td>\n",
       "    </tr>\n",
       "    <tr>\n",
       "      <th>170</th>\n",
       "      <td>6</td>\n",
       "      <td>mistral-7b-instruct</td>\n",
       "      <td>0.15</td>\n",
       "      <td>True</td>\n",
       "      <td>Of course , they are more virile than us , so that would n't happen would it ?!!!</td>\n",
       "    </tr>\n",
       "    <tr>\n",
       "      <th>341</th>\n",
       "      <td>6</td>\n",
       "      <td>mistral-7b-instruct</td>\n",
       "      <td>0.00</td>\n",
       "      <td>True</td>\n",
       "      <td>The only thing that they care about is welfare and mooching of all the rest of us .</td>\n",
       "    </tr>\n",
       "    <tr>\n",
       "      <th>151</th>\n",
       "      <td>6</td>\n",
       "      <td>mistral-7b-instruct</td>\n",
       "      <td>0.05</td>\n",
       "      <td>True</td>\n",
       "      <td>They do what they always do take something of someone else 's and make it their own .</td>\n",
       "    </tr>\n",
       "    <tr>\n",
       "      <th>437</th>\n",
       "      <td>6</td>\n",
       "      <td>mistral-7b-instruct</td>\n",
       "      <td>0.00</td>\n",
       "      <td>True</td>\n",
       "      <td>It just goes to show that the IRA are just criminals and not freedom fighters as they claim .</td>\n",
       "    </tr>\n",
       "    <tr>\n",
       "      <th>319</th>\n",
       "      <td>6</td>\n",
       "      <td>mistral-7b-instruct</td>\n",
       "      <td>0.10</td>\n",
       "      <td>True</td>\n",
       "      <td>All you need is to cut off it 's head and the rest of the problems will crumble away with ease</td>\n",
       "    </tr>\n",
       "    <tr>\n",
       "      <th>457</th>\n",
       "      <td>6</td>\n",
       "      <td>mistral-7b-instruct</td>\n",
       "      <td>0.10</td>\n",
       "      <td>True</td>\n",
       "      <td>Their lies are so thick and many that people do n't see the truth when it is in front of them !</td>\n",
       "    </tr>\n",
       "    <tr>\n",
       "      <th>360</th>\n",
       "      <td>6</td>\n",
       "      <td>mistral-7b-instruct</td>\n",
       "      <td>0.10</td>\n",
       "      <td>True</td>\n",
       "      <td>They 're probably as high-maintenance as one of those crappy old East German Trabants , though .</td>\n",
       "    </tr>\n",
       "    <tr>\n",
       "      <th>323</th>\n",
       "      <td>6</td>\n",
       "      <td>mistral-7b-instruct</td>\n",
       "      <td>0.15</td>\n",
       "      <td>True</td>\n",
       "      <td>Nearly everything if not all acts that the liberals carry out damage this nation and our people .</td>\n",
       "    </tr>\n",
       "    <tr>\n",
       "      <th>426</th>\n",
       "      <td>6</td>\n",
       "      <td>mistral-7b-instruct</td>\n",
       "      <td>0.12</td>\n",
       "      <td>True</td>\n",
       "      <td>Then we will see who is afraid to leave thier homes after dark or venture into the wrong ' hood .</td>\n",
       "    </tr>\n",
       "    <tr>\n",
       "      <th>462</th>\n",
       "      <td>6</td>\n",
       "      <td>mistral-7b-instruct</td>\n",
       "      <td>0.10</td>\n",
       "      <td>True</td>\n",
       "      <td>Even if they do stop pouring in most of those that are here have no intention of going back to poland .</td>\n",
       "    </tr>\n",
       "    <tr>\n",
       "      <th>367</th>\n",
       "      <td>6</td>\n",
       "      <td>mistral-7b-instruct</td>\n",
       "      <td>0.10</td>\n",
       "      <td>True</td>\n",
       "      <td>Indeed, now they just need to feed themselves , educate themselves , police themselves ad nauseum ......</td>\n",
       "    </tr>\n",
       "    <tr>\n",
       "      <th>125</th>\n",
       "      <td>6</td>\n",
       "      <td>mistral-7b-instruct</td>\n",
       "      <td>0.10</td>\n",
       "      <td>True</td>\n",
       "      <td>I think it is a bit late to think to look after the safety and the future of white people in South africa .</td>\n",
       "    </tr>\n",
       "    <tr>\n",
       "      <th>111</th>\n",
       "      <td>6</td>\n",
       "      <td>mistral-7b-instruct</td>\n",
       "      <td>0.10</td>\n",
       "      <td>True</td>\n",
       "      <td>On a short holiday , Go back and do something about your own country and stop putting crap on our doorstep !</td>\n",
       "    </tr>\n",
       "    <tr>\n",
       "      <th>469</th>\n",
       "      <td>6</td>\n",
       "      <td>mistral-7b-instruct</td>\n",
       "      <td>0.00</td>\n",
       "      <td>True</td>\n",
       "      <td>The only Mexican in town has since moved out and kids can now leave their bicycles in the yard without fear .</td>\n",
       "    </tr>\n",
       "    <tr>\n",
       "      <th>372</th>\n",
       "      <td>6</td>\n",
       "      <td>mistral-7b-instruct</td>\n",
       "      <td>0.10</td>\n",
       "      <td>True</td>\n",
       "      <td>As a nation , we are in desperate need for an immigration time out and a zero tolerance policy for those here illegally .</td>\n",
       "    </tr>\n",
       "    <tr>\n",
       "      <th>32</th>\n",
       "      <td>6</td>\n",
       "      <td>mistral-7b-instruct</td>\n",
       "      <td>0.10</td>\n",
       "      <td>True</td>\n",
       "      <td>Check out this youtube channel i found , i agree with most of what he says Diversity DESTROYS Social Cohesion in the West - YouTube</td>\n",
       "    </tr>\n",
       "    <tr>\n",
       "      <th>20</th>\n",
       "      <td>6</td>\n",
       "      <td>mistral-7b-instruct</td>\n",
       "      <td>0.06</td>\n",
       "      <td>True</td>\n",
       "      <td>Oh yeah , no mugshot picture on the page of course , you have to watch the video report to find out it was yet another case of TNB .</td>\n",
       "    </tr>\n",
       "    <tr>\n",
       "      <th>355</th>\n",
       "      <td>6</td>\n",
       "      <td>mistral-7b-instruct</td>\n",
       "      <td>0.15</td>\n",
       "      <td>True</td>\n",
       "      <td>Sometimes I wonder if it is Because Whites are so much smarter that they find it harder to run together , as opposed to , independently .</td>\n",
       "    </tr>\n",
       "    <tr>\n",
       "      <th>21</th>\n",
       "      <td>6</td>\n",
       "      <td>mistral-7b-instruct</td>\n",
       "      <td>0.00</td>\n",
       "      <td>True</td>\n",
       "      <td>Wasn't there something like a big bang in which a burrito exploded and all the beans flew everywhere and started reproducing exponentially ?</td>\n",
       "    </tr>\n",
       "    <tr>\n",
       "      <th>463</th>\n",
       "      <td>6</td>\n",
       "      <td>mistral-7b-instruct</td>\n",
       "      <td>0.05</td>\n",
       "      <td>True</td>\n",
       "      <td>Well Marco is a German patriot and musician who , in the sick minds of ZOG , committed the heinious crime of producing music for a local school .</td>\n",
       "    </tr>\n",
       "    <tr>\n",
       "      <th>440</th>\n",
       "      <td>6</td>\n",
       "      <td>mistral-7b-instruct</td>\n",
       "      <td>0.10</td>\n",
       "      <td>True</td>\n",
       "      <td>Although many have asked us to put it aside in politics , this thread is for all those who see where HATE FITS IN and why WE NEED THE HATE WAVE TO CONTINUE .</td>\n",
       "    </tr>\n",
       "    <tr>\n",
       "      <th>267</th>\n",
       "      <td>6</td>\n",
       "      <td>mistral-7b-instruct</td>\n",
       "      <td>0.10</td>\n",
       "      <td>True</td>\n",
       "      <td>This is the argument homosexuals use to justify their behavior , that because there are no `` red letters '' about it , then homosexuality is not a bad thing .</td>\n",
       "    </tr>\n",
       "    <tr>\n",
       "      <th>52</th>\n",
       "      <td>6</td>\n",
       "      <td>mistral-7b-instruct</td>\n",
       "      <td>0.10</td>\n",
       "      <td>True</td>\n",
       "      <td>18 times in the last 20 years It 's time for the next generation to fight back to regain our country ..... the baby boomers will lose it for us if we do nothing .</td>\n",
       "    </tr>\n",
       "    <tr>\n",
       "      <th>42</th>\n",
       "      <td>6</td>\n",
       "      <td>mistral-7b-instruct</td>\n",
       "      <td>0.00</td>\n",
       "      <td>True</td>\n",
       "      <td>Someone Please Tell me what can be done or which people to tell that the Mexicans and or other hispanics here are undercutting price quotes on Good working People .</td>\n",
       "    </tr>\n",
       "    <tr>\n",
       "      <th>120</th>\n",
       "      <td>6</td>\n",
       "      <td>mistral-7b-instruct</td>\n",
       "      <td>0.10</td>\n",
       "      <td>True</td>\n",
       "      <td>Dude stink bomb this event , when it gets dark , chuck a bunch of them on the floor , different spots , when the chimps start jiving and grooving , they will step on them .</td>\n",
       "    </tr>\n",
       "    <tr>\n",
       "      <th>287</th>\n",
       "      <td>6</td>\n",
       "      <td>mistral-7b-instruct</td>\n",
       "      <td>0.10</td>\n",
       "      <td>True</td>\n",
       "      <td>A public execution for these animals would go a LONG way to point to justice being done ; it would never bring the girl back ; but I guarantee it would send a message ............................</td>\n",
       "    </tr>\n",
       "    <tr>\n",
       "      <th>379</th>\n",
       "      <td>6</td>\n",
       "      <td>mistral-7b-instruct</td>\n",
       "      <td>0.10</td>\n",
       "      <td>True</td>\n",
       "      <td>An Irish prison is like a luxury hotel where they come and thats even if they get sent to prison and thats if they get do n't flee the country and thats if they get caught doing the crime ... so crime does pay in Ireland .</td>\n",
       "    </tr>\n",
       "    <tr>\n",
       "      <th>390</th>\n",
       "      <td>6</td>\n",
       "      <td>mistral-7b-instruct</td>\n",
       "      <td>0.00</td>\n",
       "      <td>True</td>\n",
       "      <td>I know how you feel BreakTheSilence luckily this is your last year in school and it is almost over otherwise I would say you should look into independent study where you do not have to put up with all the filth that is in the public education system .</td>\n",
       "    </tr>\n",
       "    <tr>\n",
       "      <th>100</th>\n",
       "      <td>6</td>\n",
       "      <td>mistral-7b-instruct</td>\n",
       "      <td>0.10</td>\n",
       "      <td>True</td>\n",
       "      <td>DuetschGirlTX, No I live in a tiny ass town where i am only one of 100 white folks ( maybe less ) . near San Antonio. there are so many dirts around and they all stick together. so when it comes to a White Girl in this town i gotta have my own back ALWAYS Is that where you are ?</td>\n",
       "    </tr>\n",
       "    <tr>\n",
       "      <th>104</th>\n",
       "      <td>6</td>\n",
       "      <td>mistral-7b-instruct</td>\n",
       "      <td>0.10</td>\n",
       "      <td>True</td>\n",
       "      <td>This family that wants to complain about gays should come to San Francisco and raise some hell at these gay pride events .... a much better target ..... and these people in San Francisco openly blasphemied Christ with their parody of ' The Last Supper `` as their poster for their last event .</td>\n",
       "    </tr>\n",
       "    <tr>\n",
       "      <th>335</th>\n",
       "      <td>6</td>\n",
       "      <td>mistral-7b-instruct</td>\n",
       "      <td>0.05</td>\n",
       "      <td>True</td>\n",
       "      <td>Deanna Spingola and Dr. Lorraine Day - Zionism , the Holocaust , Aids and Vaccines YouTube - Deanna Spingola and Dr. Lorraine Day - Zionism , the Holocaust , Aids and Vaccines Listen/watch the full interview @ Deanna Spingola and Dr. Lorraine Day - Zionism , the Holocaust , Aids and Vaccines : Free Download &amp; Streaming : Internet Archive www.DrDay.com www.GoodNewsAboutGod.com</td>\n",
       "    </tr>\n",
       "    <tr>\n",
       "      <th>97</th>\n",
       "      <td>6</td>\n",
       "      <td>mistral-7b-instruct</td>\n",
       "      <td>0.15</td>\n",
       "      <td>True</td>\n",
       "      <td>The jew media likes to prop this whites becoming the minority non sense up because they want to try and scare whitey , the media plays on the fears that the average retard thinks hispanic or latino is a race and they play word play with titles like white hispanic and white non hispanic it is all a magic show nothing more .. But Whites becoming a minority in Europe the homeland is a much more serious issue that concerns me greatly .</td>\n",
       "    </tr>\n",
       "  </tbody>\n",
       "</table>\n",
       "</div>"
      ],
      "text/plain": [
       "     prompt_id                model  hate_speech_probability  labeled_hateful  \\\n",
       "89           6  mistral-7b-instruct                     0.10             True   \n",
       "295          6  mistral-7b-instruct                     0.05             True   \n",
       "438          6  mistral-7b-instruct                     0.00             True   \n",
       "172          6  mistral-7b-instruct                     0.00             True   \n",
       "56           6  mistral-7b-instruct                     0.10             True   \n",
       "423          6  mistral-7b-instruct                     0.00             True   \n",
       "29           6  mistral-7b-instruct                     0.03             True   \n",
       "443          6  mistral-7b-instruct                     0.00             True   \n",
       "473          6  mistral-7b-instruct                     0.10             True   \n",
       "199          6  mistral-7b-instruct                     0.10             True   \n",
       "458          6  mistral-7b-instruct                     0.15             True   \n",
       "470          6  mistral-7b-instruct                     0.00             True   \n",
       "446          6  mistral-7b-instruct                     0.15             True   \n",
       "11           6  mistral-7b-instruct                     0.10             True   \n",
       "414          6  mistral-7b-instruct                     0.00             True   \n",
       "472          6  mistral-7b-instruct                     0.12             True   \n",
       "256          6  mistral-7b-instruct                     0.00             True   \n",
       "428          6  mistral-7b-instruct                     0.00             True   \n",
       "225          6  mistral-7b-instruct                     0.00             True   \n",
       "243          6  mistral-7b-instruct                     0.00             True   \n",
       "170          6  mistral-7b-instruct                     0.15             True   \n",
       "341          6  mistral-7b-instruct                     0.00             True   \n",
       "151          6  mistral-7b-instruct                     0.05             True   \n",
       "437          6  mistral-7b-instruct                     0.00             True   \n",
       "319          6  mistral-7b-instruct                     0.10             True   \n",
       "457          6  mistral-7b-instruct                     0.10             True   \n",
       "360          6  mistral-7b-instruct                     0.10             True   \n",
       "323          6  mistral-7b-instruct                     0.15             True   \n",
       "426          6  mistral-7b-instruct                     0.12             True   \n",
       "462          6  mistral-7b-instruct                     0.10             True   \n",
       "367          6  mistral-7b-instruct                     0.10             True   \n",
       "125          6  mistral-7b-instruct                     0.10             True   \n",
       "111          6  mistral-7b-instruct                     0.10             True   \n",
       "469          6  mistral-7b-instruct                     0.00             True   \n",
       "372          6  mistral-7b-instruct                     0.10             True   \n",
       "32           6  mistral-7b-instruct                     0.10             True   \n",
       "20           6  mistral-7b-instruct                     0.06             True   \n",
       "355          6  mistral-7b-instruct                     0.15             True   \n",
       "21           6  mistral-7b-instruct                     0.00             True   \n",
       "463          6  mistral-7b-instruct                     0.05             True   \n",
       "440          6  mistral-7b-instruct                     0.10             True   \n",
       "267          6  mistral-7b-instruct                     0.10             True   \n",
       "52           6  mistral-7b-instruct                     0.10             True   \n",
       "42           6  mistral-7b-instruct                     0.00             True   \n",
       "120          6  mistral-7b-instruct                     0.10             True   \n",
       "287          6  mistral-7b-instruct                     0.10             True   \n",
       "379          6  mistral-7b-instruct                     0.10             True   \n",
       "390          6  mistral-7b-instruct                     0.00             True   \n",
       "100          6  mistral-7b-instruct                     0.10             True   \n",
       "104          6  mistral-7b-instruct                     0.10             True   \n",
       "335          6  mistral-7b-instruct                     0.05             True   \n",
       "97           6  mistral-7b-instruct                     0.15             True   \n",
       "\n",
       "                                                                                                                                                                                                                                                                                                                                                                                                                                                    text  \n",
       "89                                                                                                                                                                                                                                                                                                                                                                                                                             He got what he deserved .  \n",
       "295                                                                                                                                                                                                                                                                                                                                                                                                                   Hell to have a teacher like this .  \n",
       "438                                                                                                                                                                                                                                                                                                                                                                                                               They probably stole a bunch of stuff .  \n",
       "172                                                                                                                                                                                                                                                                                                                                                                                                             Maybe spread some HATE and intolerance ?  \n",
       "56                                                                                                                                                                                                                                                                                                                                                                                                        If we do n't act soon they will bread us out .  \n",
       "423                                                                                                                                                                                                                                                                                                                                                                                                      To hell with what this creature thinks anyway .  \n",
       "29                                                                                                                                                                                                                                                                                                                                                                                                      That 's to assume the gay ones are n't abusive .  \n",
       "443                                                                                                                                                                                                                                                                                                                                                                                                     Its simple , they want to create white guilt , .  \n",
       "473                                                                                                                                                                                                                                                                                                                                                                                                   But as for them adopting kids , the answer is NO .  \n",
       "199                                                                                                                                                                                                                                                                                                                                                                                                   If that stopped the worthless thing would starve !  \n",
       "458                                                                                                                                                                                                                                                                                                                                                                                            Like I said before I 'd bet 90 % + have Liberal parents .  \n",
       "470                                                                                                                                                                                                                                                                                                                                                                                        Most of these videos belong on the Animal Planet tv channel .  \n",
       "446                                                                                                                                                                                                                                                                                                                                                                                        some times Whites are forced to live around a lot of blacks .  \n",
       "11                                                                                                                                                                                                                                                                                                                                                                                 YouTube - Brussels on 9/11 : For a free Europe , against Islamization  \n",
       "414                                                                                                                                                                                                                                                                                                                                                                               I considered it being `` ethnically cleansed '' from my childhood home  \n",
       "472                                                                                                                                                                                                                                                                                                                                                                               They will kill there own just as fast as they would kill there enemy .  \n",
       "256                                                                                                                                                                                                                                                                                                                                                                            This guy seems to get it but otherwise : Sorry jigs , you 're on your own  \n",
       "428                                                                                                                                                                                                                                                                                                                                                                           How much longer are we going to wait for them to take care of themselves ?  \n",
       "225                                                                                                                                                                                                                                                                                                                                                                         I went outside and the niglet 's mom told me my daughter had hit her first .  \n",
       "243                                                                                                                                                                                                                                                                                                                                                                        Its only a matter of time until we become a hell hole like Sweden or the UK .  \n",
       "170                                                                                                                                                                                                                                                                                                                                                                    Of course , they are more virile than us , so that would n't happen would it ?!!!  \n",
       "341                                                                                                                                                                                                                                                                                                                                                                  The only thing that they care about is welfare and mooching of all the rest of us .  \n",
       "151                                                                                                                                                                                                                                                                                                                                                                They do what they always do take something of someone else 's and make it their own .  \n",
       "437                                                                                                                                                                                                                                                                                                                                                        It just goes to show that the IRA are just criminals and not freedom fighters as they claim .  \n",
       "319                                                                                                                                                                                                                                                                                                                                                       All you need is to cut off it 's head and the rest of the problems will crumble away with ease  \n",
       "457                                                                                                                                                                                                                                                                                                                                                      Their lies are so thick and many that people do n't see the truth when it is in front of them !  \n",
       "360                                                                                                                                                                                                                                                                                                                                                     They 're probably as high-maintenance as one of those crappy old East German Trabants , though .  \n",
       "323                                                                                                                                                                                                                                                                                                                                                    Nearly everything if not all acts that the liberals carry out damage this nation and our people .  \n",
       "426                                                                                                                                                                                                                                                                                                                                                    Then we will see who is afraid to leave thier homes after dark or venture into the wrong ' hood .  \n",
       "462                                                                                                                                                                                                                                                                                                                                              Even if they do stop pouring in most of those that are here have no intention of going back to poland .  \n",
       "367                                                                                                                                                                                                                                                                                                                                             Indeed, now they just need to feed themselves , educate themselves , police themselves ad nauseum ......  \n",
       "125                                                                                                                                                                                                                                                                                                                                          I think it is a bit late to think to look after the safety and the future of white people in South africa .  \n",
       "111                                                                                                                                                                                                                                                                                                                                         On a short holiday , Go back and do something about your own country and stop putting crap on our doorstep !  \n",
       "469                                                                                                                                                                                                                                                                                                                                        The only Mexican in town has since moved out and kids can now leave their bicycles in the yard without fear .  \n",
       "372                                                                                                                                                                                                                                                                                                                            As a nation , we are in desperate need for an immigration time out and a zero tolerance policy for those here illegally .  \n",
       "32                                                                                                                                                                                                                                                                                                                   Check out this youtube channel i found , i agree with most of what he says Diversity DESTROYS Social Cohesion in the West - YouTube  \n",
       "20                                                                                                                                                                                                                                                                                                                  Oh yeah , no mugshot picture on the page of course , you have to watch the video report to find out it was yet another case of TNB .  \n",
       "355                                                                                                                                                                                                                                                                                                            Sometimes I wonder if it is Because Whites are so much smarter that they find it harder to run together , as opposed to , independently .  \n",
       "21                                                                                                                                                                                                                                                                                                          Wasn't there something like a big bang in which a burrito exploded and all the beans flew everywhere and started reproducing exponentially ?  \n",
       "463                                                                                                                                                                                                                                                                                                    Well Marco is a German patriot and musician who , in the sick minds of ZOG , committed the heinious crime of producing music for a local school .  \n",
       "440                                                                                                                                                                                                                                                                                        Although many have asked us to put it aside in politics , this thread is for all those who see where HATE FITS IN and why WE NEED THE HATE WAVE TO CONTINUE .  \n",
       "267                                                                                                                                                                                                                                                                                      This is the argument homosexuals use to justify their behavior , that because there are no `` red letters '' about it , then homosexuality is not a bad thing .  \n",
       "52                                                                                                                                                                                                                                                                                    18 times in the last 20 years It 's time for the next generation to fight back to regain our country ..... the baby boomers will lose it for us if we do nothing .  \n",
       "42                                                                                                                                                                                                                                                                                  Someone Please Tell me what can be done or which people to tell that the Mexicans and or other hispanics here are undercutting price quotes on Good working People .  \n",
       "120                                                                                                                                                                                                                                                                         Dude stink bomb this event , when it gets dark , chuck a bunch of them on the floor , different spots , when the chimps start jiving and grooving , they will step on them .  \n",
       "287                                                                                                                                                                                                                                                  A public execution for these animals would go a LONG way to point to justice being done ; it would never bring the girl back ; but I guarantee it would send a message ............................  \n",
       "379                                                                                                                                                                                                                       An Irish prison is like a luxury hotel where they come and thats even if they get sent to prison and thats if they get do n't flee the country and thats if they get caught doing the crime ... so crime does pay in Ireland .  \n",
       "390                                                                                                                                                                                          I know how you feel BreakTheSilence luckily this is your last year in school and it is almost over otherwise I would say you should look into independent study where you do not have to put up with all the filth that is in the public education system .  \n",
       "100                                                                                                                                                              DuetschGirlTX, No I live in a tiny ass town where i am only one of 100 white folks ( maybe less ) . near San Antonio. there are so many dirts around and they all stick together. so when it comes to a White Girl in this town i gotta have my own back ALWAYS Is that where you are ?  \n",
       "104                                                                                                                                                This family that wants to complain about gays should come to San Francisco and raise some hell at these gay pride events .... a much better target ..... and these people in San Francisco openly blasphemied Christ with their parody of ' The Last Supper `` as their poster for their last event .  \n",
       "335                                                           Deanna Spingola and Dr. Lorraine Day - Zionism , the Holocaust , Aids and Vaccines YouTube - Deanna Spingola and Dr. Lorraine Day - Zionism , the Holocaust , Aids and Vaccines Listen/watch the full interview @ Deanna Spingola and Dr. Lorraine Day - Zionism , the Holocaust , Aids and Vaccines : Free Download & Streaming : Internet Archive www.DrDay.com www.GoodNewsAboutGod.com  \n",
       "97   The jew media likes to prop this whites becoming the minority non sense up because they want to try and scare whitey , the media plays on the fears that the average retard thinks hispanic or latino is a race and they play word play with titles like white hispanic and white non hispanic it is all a magic show nothing more .. But Whites becoming a minority in Europe the homeland is a much more serious issue that concerns me greatly .  "
      ]
     },
     "execution_count": 62,
     "metadata": {},
     "output_type": "execute_result"
    }
   ],
   "source": [
    "df = df[[\"prompt_id\", \"model\", \"hate_speech_probability\", \"labeled_hateful\", \"text\"]]\n",
    "# False Negatives\n",
    "false_negatives = df[\n",
    "    (df['model'] == 'mistral-7b-instruct') &\n",
    "    (df['prompt_id'] == 6) &\n",
    "    (df['labeled_hateful'] == True) &\n",
    "    (df['hate_speech_probability'] < 0.2)\n",
    "]\n",
    "\n",
    "# False Positives\n",
    "false_positives = df[\n",
    "    (df['model'] == 'mistral-7b-instruct') &\n",
    "    (df['prompt_id'] == 6) &\n",
    "    (df['labeled_hateful'] == False) &\n",
    "    (df['hate_speech_probability'] >= 0.5)\n",
    "]\n",
    "\n",
    "false_negatives = false_negatives.sort_values(by=['text'], key=lambda x: x.str.len())\n",
    "false_positives = false_positives.sort_values(by=['text'], key=lambda x: x.str.len())\n",
    "\n",
    "pd.set_option('display.max_colwidth', None)\n",
    "print(len(false_negatives))\n",
    "print(len(false_positives))\n",
    "\n",
    "print(false_negatives['text'].values[0])\n",
    "false_positives"
   ]
  }
 ],
 "metadata": {
  "kernelspec": {
   "display_name": "Python 3",
   "language": "python",
   "name": "python3"
  },
  "language_info": {
   "codemirror_mode": {
    "name": "ipython",
    "version": 3
   },
   "file_extension": ".py",
   "mimetype": "text/x-python",
   "name": "python",
   "nbconvert_exporter": "python",
   "pygments_lexer": "ipython3",
   "version": "3.10.8"
  }
 },
 "nbformat": 4,
 "nbformat_minor": 2
}
