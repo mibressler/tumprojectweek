{
 "cells": [
  {
   "cell_type": "code",
   "execution_count": 2,
   "metadata": {
    "collapsed": false
   },
   "outputs": [
    {
     "name": "stdout",
     "output_type": "stream",
     "text": [
      "Requirement already satisfied: scikit-learn in c:\\users\\michi\\appdata\\local\\packages\\pythonsoftwarefoundation.python.3.10_qbz5n2kfra8p0\\localcache\\local-packages\\python310\\site-packages (1.3.2)\n",
      "Requirement already satisfied: pandas in c:\\users\\michi\\appdata\\local\\packages\\pythonsoftwarefoundation.python.3.10_qbz5n2kfra8p0\\localcache\\local-packages\\python310\\site-packages (2.1.4)\n",
      "Requirement already satisfied: numpy in c:\\users\\michi\\appdata\\local\\packages\\pythonsoftwarefoundation.python.3.10_qbz5n2kfra8p0\\localcache\\local-packages\\python310\\site-packages (1.26.3)\n",
      "Requirement already satisfied: plotly in c:\\users\\michi\\appdata\\local\\packages\\pythonsoftwarefoundation.python.3.10_qbz5n2kfra8p0\\localcache\\local-packages\\python310\\site-packages (5.18.0)\n",
      "Requirement already satisfied: joblib>=1.1.1 in c:\\users\\michi\\appdata\\local\\packages\\pythonsoftwarefoundation.python.3.10_qbz5n2kfra8p0\\localcache\\local-packages\\python310\\site-packages (from scikit-learn) (1.3.2)\n",
      "Requirement already satisfied: threadpoolctl>=2.0.0 in c:\\users\\michi\\appdata\\local\\packages\\pythonsoftwarefoundation.python.3.10_qbz5n2kfra8p0\\localcache\\local-packages\\python310\\site-packages (from scikit-learn) (3.2.0)\n",
      "Requirement already satisfied: scipy>=1.5.0 in c:\\users\\michi\\appdata\\local\\packages\\pythonsoftwarefoundation.python.3.10_qbz5n2kfra8p0\\localcache\\local-packages\\python310\\site-packages (from scikit-learn) (1.11.4)\n",
      "Requirement already satisfied: tzdata>=2022.1 in c:\\users\\michi\\appdata\\local\\packages\\pythonsoftwarefoundation.python.3.10_qbz5n2kfra8p0\\localcache\\local-packages\\python310\\site-packages (from pandas) (2023.4)\n",
      "Requirement already satisfied: pytz>=2020.1 in c:\\users\\michi\\appdata\\local\\packages\\pythonsoftwarefoundation.python.3.10_qbz5n2kfra8p0\\localcache\\local-packages\\python310\\site-packages (from pandas) (2023.3.post1)\n",
      "Requirement already satisfied: python-dateutil>=2.8.2 in c:\\users\\michi\\appdata\\local\\packages\\pythonsoftwarefoundation.python.3.10_qbz5n2kfra8p0\\localcache\\local-packages\\python310\\site-packages (from pandas) (2.8.2)\n",
      "Requirement already satisfied: packaging in c:\\users\\michi\\appdata\\local\\packages\\pythonsoftwarefoundation.python.3.10_qbz5n2kfra8p0\\localcache\\local-packages\\python310\\site-packages (from plotly) (23.0)\n",
      "Requirement already satisfied: tenacity>=6.2.0 in c:\\users\\michi\\appdata\\local\\packages\\pythonsoftwarefoundation.python.3.10_qbz5n2kfra8p0\\localcache\\local-packages\\python310\\site-packages (from plotly) (8.2.3)\n",
      "Requirement already satisfied: six>=1.5 in c:\\users\\michi\\appdata\\local\\packages\\pythonsoftwarefoundation.python.3.10_qbz5n2kfra8p0\\localcache\\local-packages\\python310\\site-packages (from python-dateutil>=2.8.2->pandas) (1.16.0)\n"
     ]
    },
    {
     "name": "stderr",
     "output_type": "stream",
     "text": [
      "\n",
      "[notice] A new release of pip is available: 23.0.1 -> 23.3.2\n",
      "[notice] To update, run: C:\\Users\\michi\\AppData\\Local\\Microsoft\\WindowsApps\\PythonSoftwareFoundation.Python.3.10_qbz5n2kfra8p0\\python.exe -m pip install --upgrade pip\n"
     ]
    }
   ],
   "source": [
    "!pip install scikit-learn pandas numpy plotly"
   ]
  },
  {
   "cell_type": "code",
   "execution_count": 3,
   "metadata": {
    "ExecuteTime": {
     "end_time": "2024-01-09T15:23:41.255226760Z",
     "start_time": "2024-01-09T15:23:41.153759145Z"
    }
   },
   "outputs": [],
   "source": [
    "import pandas as pd\n",
    "import re\n",
    "\n",
    "df = pd.read_pickle('perplexity_results.pkl')\n",
    "df=df.drop(columns=['time','prompt'])\n",
    "\n",
    "def extract_value(json_string:str, key: str):\n",
    "    json_string = json_string.replace(\"'\", \"\\\"\").replace(\"\\_\", \"_\")\n",
    "    pattern = f'{key}\"?: ?(\"?[^\"]*?\"?)(?:,|\\n)'\n",
    "    match = re.search(pattern, json_string)\n",
    "    return match.group(1).strip() if match else None\n",
    "\n",
    "keys = [\n",
    "    \"relevant_facts_from_the_cultural_context\",\n",
    "\"relevant_word_definitions\",\n",
    "\"contained_explicit_racist_vocabulary\",\n",
    "\"contained_explicit_sexist_vocabulary\",\n",
    "\"contained_explicit_toxic_vocabulary\",\n",
    "\"argument_for_hate_speech\",\n",
    "\"argument_against_hate_speech\",\n",
    "\"likelihood_of_presence_of_implicit_hate_speech\",\n",
    "\"likelihood_of_presence_of_explicit_hate_speech\",\n",
    "\"likelihood_of_ad_hominem_attack\",\n",
    "\"likelihood_of_minority_attack\",\n",
    "\"likelihood_of_takedown_on_social_media\",\n",
    "\"hate_speech_probability\",\n",
    "]\n",
    "\n",
    "for key in keys:\n",
    "    df[key] = df['answer'].apply(lambda x: extract_value(x, key))"
   ]
  },
  {
   "cell_type": "code",
   "execution_count": 4,
   "metadata": {
    "ExecuteTime": {
     "end_time": "2024-01-09T15:23:42.446657033Z",
     "start_time": "2024-01-09T15:23:42.424597175Z"
    }
   },
   "outputs": [
    {
     "name": "stdout",
     "output_type": "stream",
     "text": [
      "Missing values for each column:\n",
      "model                                                0\n",
      "text                                                 0\n",
      "answer                                               0\n",
      "truth                                                0\n",
      "relevant_facts_from_the_cultural_context            23\n",
      "relevant_word_definitions                          334\n",
      "contained_explicit_racist_vocabulary               484\n",
      "contained_explicit_sexist_vocabulary               947\n",
      "contained_explicit_toxic_vocabulary               1238\n",
      "argument_for_hate_speech                           806\n",
      "argument_against_hate_speech                       672\n",
      "likelihood_of_presence_of_implicit_hate_speech      42\n",
      "likelihood_of_presence_of_explicit_hate_speech      41\n",
      "likelihood_of_ad_hominem_attack                   2867\n",
      "likelihood_of_minority_attack                       58\n",
      "likelihood_of_takedown_on_social_media              69\n",
      "hate_speech_probability                            114\n",
      "dtype: int64\n",
      "\n",
      "Number of duplicated rows: 0\n"
     ]
    }
   ],
   "source": [
    "def maybe_float(i:str):\n",
    "    try:\n",
    "        return float(i)\n",
    "    except Exception:\n",
    "        return None\n",
    "float_keys=[\n",
    "\"likelihood_of_presence_of_implicit_hate_speech\",\n",
    "\"likelihood_of_presence_of_explicit_hate_speech\",\n",
    "\"likelihood_of_ad_hominem_attack\",\n",
    "\"likelihood_of_minority_attack\",\n",
    "\"likelihood_of_takedown_on_social_media\",\n",
    "\"hate_speech_probability\",]\n",
    "for key in float_keys:\n",
    "    df[key] = df[key].apply(maybe_float)\n",
    "\n",
    "# Check for missing values\n",
    "missing_values = df.isnull().sum()\n",
    "print(\"Missing values for each column:\")\n",
    "print(missing_values)\n",
    "\n",
    "# Check for duplicated rows\n",
    "duplicated_rows = df.duplicated().sum()\n",
    "print(f\"\\nNumber of duplicated rows: {duplicated_rows}\")\n",
    "\n",
    "data_types = df.dtypes"
   ]
  },
  {
   "cell_type": "code",
   "execution_count": 10,
   "metadata": {
    "ExecuteTime": {
     "end_time": "2024-01-09T15:26:03.312856134Z",
     "start_time": "2024-01-09T15:26:03.269993213Z"
    }
   },
   "outputs": [
    {
     "name": "stderr",
     "output_type": "stream",
     "text": [
      "C:\\Users\\michi\\AppData\\Local\\Temp\\ipykernel_25372\\1767676965.py:6: FutureWarning: The default of observed=False is deprecated and will be changed to True in a future version of pandas. Pass observed=False to retain current behavior or observed=True to adopt the future default and silence this warning.\n",
      "  df_grouped = df.groupby([\"bin\", \"model\", \"truth\"]).count().reset_index()\n"
     ]
    },
    {
     "data": {
      "application/vnd.plotly.v1+json": {
       "config": {
        "plotlyServerURL": "https://plot.ly"
       },
       "data": [
        {
         "alignmentgroup": "True",
         "hovertemplate": "<b>%{hovertext}</b><br><br>truth=False<br>bin=%{x}<br>text=%{y}<extra></extra>",
         "hovertext": [
          "codellama-34b-instruct",
          "llama-2-70b-chat",
          "mistral-7b-instruct",
          "mixtral-8x7b-instruct",
          "pplx-70b-chat",
          "pplx-7b-chat",
          "codellama-34b-instruct",
          "llama-2-70b-chat",
          "mistral-7b-instruct",
          "mixtral-8x7b-instruct",
          "pplx-70b-chat",
          "pplx-7b-chat",
          "codellama-34b-instruct",
          "llama-2-70b-chat",
          "mistral-7b-instruct",
          "mixtral-8x7b-instruct",
          "pplx-70b-chat",
          "pplx-7b-chat",
          "codellama-34b-instruct",
          "llama-2-70b-chat",
          "mistral-7b-instruct",
          "mixtral-8x7b-instruct",
          "pplx-70b-chat",
          "pplx-7b-chat",
          "codellama-34b-instruct",
          "llama-2-70b-chat",
          "mistral-7b-instruct",
          "mixtral-8x7b-instruct",
          "pplx-70b-chat",
          "pplx-7b-chat",
          "codellama-34b-instruct",
          "llama-2-70b-chat",
          "mistral-7b-instruct",
          "mixtral-8x7b-instruct",
          "pplx-70b-chat",
          "pplx-7b-chat",
          "codellama-34b-instruct",
          "llama-2-70b-chat",
          "mistral-7b-instruct",
          "mixtral-8x7b-instruct",
          "pplx-70b-chat",
          "pplx-7b-chat",
          "codellama-34b-instruct",
          "llama-2-70b-chat",
          "mistral-7b-instruct",
          "mixtral-8x7b-instruct",
          "pplx-70b-chat",
          "pplx-7b-chat",
          "codellama-34b-instruct",
          "llama-2-70b-chat",
          "mistral-7b-instruct",
          "mixtral-8x7b-instruct",
          "pplx-70b-chat",
          "pplx-7b-chat",
          "codellama-34b-instruct",
          "llama-2-70b-chat",
          "mistral-7b-instruct",
          "mixtral-8x7b-instruct",
          "pplx-70b-chat",
          "pplx-7b-chat",
          "codellama-34b-instruct",
          "llama-2-70b-chat",
          "mistral-7b-instruct",
          "mixtral-8x7b-instruct",
          "pplx-70b-chat",
          "pplx-7b-chat",
          "codellama-34b-instruct",
          "llama-2-70b-chat",
          "mistral-7b-instruct",
          "mixtral-8x7b-instruct",
          "pplx-70b-chat",
          "pplx-7b-chat",
          "codellama-34b-instruct",
          "llama-2-70b-chat",
          "mistral-7b-instruct",
          "mixtral-8x7b-instruct",
          "pplx-70b-chat",
          "pplx-7b-chat",
          "codellama-34b-instruct",
          "llama-2-70b-chat",
          "mistral-7b-instruct",
          "mixtral-8x7b-instruct",
          "pplx-70b-chat",
          "pplx-7b-chat",
          "codellama-34b-instruct",
          "llama-2-70b-chat",
          "mistral-7b-instruct",
          "mixtral-8x7b-instruct",
          "pplx-70b-chat",
          "pplx-7b-chat",
          "codellama-34b-instruct",
          "llama-2-70b-chat",
          "mistral-7b-instruct",
          "mixtral-8x7b-instruct",
          "pplx-70b-chat",
          "pplx-7b-chat",
          "codellama-34b-instruct",
          "llama-2-70b-chat",
          "mistral-7b-instruct",
          "mixtral-8x7b-instruct",
          "pplx-70b-chat",
          "pplx-7b-chat",
          "codellama-34b-instruct",
          "llama-2-70b-chat",
          "mistral-7b-instruct",
          "mixtral-8x7b-instruct",
          "pplx-70b-chat",
          "pplx-7b-chat",
          "codellama-34b-instruct",
          "llama-2-70b-chat",
          "mistral-7b-instruct",
          "mixtral-8x7b-instruct",
          "pplx-70b-chat",
          "pplx-7b-chat",
          "codellama-34b-instruct",
          "llama-2-70b-chat",
          "mistral-7b-instruct",
          "mixtral-8x7b-instruct",
          "pplx-70b-chat",
          "pplx-7b-chat"
         ],
         "legendgroup": "False",
         "marker": {
          "color": "#636efa"
         },
         "name": "False",
         "notched": false,
         "offsetgroup": "False",
         "orientation": "v",
         "showlegend": true,
         "type": "box",
         "x": [
          "(-0.001, 5.0]",
          "(-0.001, 5.0]",
          "(-0.001, 5.0]",
          "(-0.001, 5.0]",
          "(-0.001, 5.0]",
          "(-0.001, 5.0]",
          "(5.0, 10.0]",
          "(5.0, 10.0]",
          "(5.0, 10.0]",
          "(5.0, 10.0]",
          "(5.0, 10.0]",
          "(5.0, 10.0]",
          "(10.0, 15.0]",
          "(10.0, 15.0]",
          "(10.0, 15.0]",
          "(10.0, 15.0]",
          "(10.0, 15.0]",
          "(10.0, 15.0]",
          "(15.0, 20.0]",
          "(15.0, 20.0]",
          "(15.0, 20.0]",
          "(15.0, 20.0]",
          "(15.0, 20.0]",
          "(15.0, 20.0]",
          "(20.0, 25.0]",
          "(20.0, 25.0]",
          "(20.0, 25.0]",
          "(20.0, 25.0]",
          "(20.0, 25.0]",
          "(20.0, 25.0]",
          "(25.0, 30.0]",
          "(25.0, 30.0]",
          "(25.0, 30.0]",
          "(25.0, 30.0]",
          "(25.0, 30.0]",
          "(25.0, 30.0]",
          "(30.0, 35.0]",
          "(30.0, 35.0]",
          "(30.0, 35.0]",
          "(30.0, 35.0]",
          "(30.0, 35.0]",
          "(30.0, 35.0]",
          "(35.0, 40.0]",
          "(35.0, 40.0]",
          "(35.0, 40.0]",
          "(35.0, 40.0]",
          "(35.0, 40.0]",
          "(35.0, 40.0]",
          "(40.0, 45.0]",
          "(40.0, 45.0]",
          "(40.0, 45.0]",
          "(40.0, 45.0]",
          "(40.0, 45.0]",
          "(40.0, 45.0]",
          "(45.0, 50.0]",
          "(45.0, 50.0]",
          "(45.0, 50.0]",
          "(45.0, 50.0]",
          "(45.0, 50.0]",
          "(45.0, 50.0]",
          "(50.0, 55.0]",
          "(50.0, 55.0]",
          "(50.0, 55.0]",
          "(50.0, 55.0]",
          "(50.0, 55.0]",
          "(50.0, 55.0]",
          "(55.0, 60.0]",
          "(55.0, 60.0]",
          "(55.0, 60.0]",
          "(55.0, 60.0]",
          "(55.0, 60.0]",
          "(55.0, 60.0]",
          "(60.0, 65.0]",
          "(60.0, 65.0]",
          "(60.0, 65.0]",
          "(60.0, 65.0]",
          "(60.0, 65.0]",
          "(60.0, 65.0]",
          "(65.0, 70.0]",
          "(65.0, 70.0]",
          "(65.0, 70.0]",
          "(65.0, 70.0]",
          "(65.0, 70.0]",
          "(65.0, 70.0]",
          "(70.0, 75.0]",
          "(70.0, 75.0]",
          "(70.0, 75.0]",
          "(70.0, 75.0]",
          "(70.0, 75.0]",
          "(70.0, 75.0]",
          "(75.0, 80.0]",
          "(75.0, 80.0]",
          "(75.0, 80.0]",
          "(75.0, 80.0]",
          "(75.0, 80.0]",
          "(75.0, 80.0]",
          "(80.0, 85.0]",
          "(80.0, 85.0]",
          "(80.0, 85.0]",
          "(80.0, 85.0]",
          "(80.0, 85.0]",
          "(80.0, 85.0]",
          "(85.0, 90.0]",
          "(85.0, 90.0]",
          "(85.0, 90.0]",
          "(85.0, 90.0]",
          "(85.0, 90.0]",
          "(85.0, 90.0]",
          "(90.0, 95.0]",
          "(90.0, 95.0]",
          "(90.0, 95.0]",
          "(90.0, 95.0]",
          "(90.0, 95.0]",
          "(90.0, 95.0]",
          "(95.0, 100.0]",
          "(95.0, 100.0]",
          "(95.0, 100.0]",
          "(95.0, 100.0]",
          "(95.0, 100.0]",
          "(95.0, 100.0]"
         ],
         "x0": " ",
         "xaxis": "x",
         "y": [
          96,
          86,
          91,
          84,
          96,
          104,
          44,
          45,
          49,
          38,
          40,
          30,
          0,
          0,
          1,
          1,
          2,
          1,
          23,
          26,
          17,
          25,
          16,
          26,
          0,
          0,
          0,
          1,
          0,
          0,
          19,
          25,
          27,
          34,
          32,
          22,
          0,
          0,
          0,
          0,
          0,
          0,
          20,
          15,
          15,
          20,
          12,
          19,
          0,
          0,
          0,
          0,
          0,
          0,
          9,
          10,
          9,
          10,
          16,
          9,
          0,
          0,
          0,
          0,
          0,
          0,
          5,
          2,
          3,
          4,
          3,
          5,
          0,
          1,
          1,
          0,
          0,
          1,
          8,
          6,
          5,
          5,
          1,
          5,
          0,
          0,
          0,
          0,
          0,
          0,
          4,
          6,
          5,
          5,
          5,
          5,
          1,
          1,
          2,
          2,
          0,
          0,
          1,
          3,
          3,
          3,
          5,
          3,
          0,
          0,
          0,
          1,
          1,
          0,
          5,
          3,
          5,
          3,
          2,
          2
         ],
         "y0": " ",
         "yaxis": "y"
        },
        {
         "alignmentgroup": "True",
         "hovertemplate": "<b>%{hovertext}</b><br><br>truth=True<br>bin=%{x}<br>text=%{y}<extra></extra>",
         "hovertext": [
          "codellama-34b-instruct",
          "llama-2-70b-chat",
          "mistral-7b-instruct",
          "mixtral-8x7b-instruct",
          "pplx-70b-chat",
          "pplx-7b-chat",
          "codellama-34b-instruct",
          "llama-2-70b-chat",
          "mistral-7b-instruct",
          "mixtral-8x7b-instruct",
          "pplx-70b-chat",
          "pplx-7b-chat",
          "codellama-34b-instruct",
          "llama-2-70b-chat",
          "mistral-7b-instruct",
          "mixtral-8x7b-instruct",
          "pplx-70b-chat",
          "pplx-7b-chat",
          "codellama-34b-instruct",
          "llama-2-70b-chat",
          "mistral-7b-instruct",
          "mixtral-8x7b-instruct",
          "pplx-70b-chat",
          "pplx-7b-chat",
          "codellama-34b-instruct",
          "llama-2-70b-chat",
          "mistral-7b-instruct",
          "mixtral-8x7b-instruct",
          "pplx-70b-chat",
          "pplx-7b-chat",
          "codellama-34b-instruct",
          "llama-2-70b-chat",
          "mistral-7b-instruct",
          "mixtral-8x7b-instruct",
          "pplx-70b-chat",
          "pplx-7b-chat",
          "codellama-34b-instruct",
          "llama-2-70b-chat",
          "mistral-7b-instruct",
          "mixtral-8x7b-instruct",
          "pplx-70b-chat",
          "pplx-7b-chat",
          "codellama-34b-instruct",
          "llama-2-70b-chat",
          "mistral-7b-instruct",
          "mixtral-8x7b-instruct",
          "pplx-70b-chat",
          "pplx-7b-chat",
          "codellama-34b-instruct",
          "llama-2-70b-chat",
          "mistral-7b-instruct",
          "mixtral-8x7b-instruct",
          "pplx-70b-chat",
          "pplx-7b-chat",
          "codellama-34b-instruct",
          "llama-2-70b-chat",
          "mistral-7b-instruct",
          "mixtral-8x7b-instruct",
          "pplx-70b-chat",
          "pplx-7b-chat",
          "codellama-34b-instruct",
          "llama-2-70b-chat",
          "mistral-7b-instruct",
          "mixtral-8x7b-instruct",
          "pplx-70b-chat",
          "pplx-7b-chat",
          "codellama-34b-instruct",
          "llama-2-70b-chat",
          "mistral-7b-instruct",
          "mixtral-8x7b-instruct",
          "pplx-70b-chat",
          "pplx-7b-chat",
          "codellama-34b-instruct",
          "llama-2-70b-chat",
          "mistral-7b-instruct",
          "mixtral-8x7b-instruct",
          "pplx-70b-chat",
          "pplx-7b-chat",
          "codellama-34b-instruct",
          "llama-2-70b-chat",
          "mistral-7b-instruct",
          "mixtral-8x7b-instruct",
          "pplx-70b-chat",
          "pplx-7b-chat",
          "codellama-34b-instruct",
          "llama-2-70b-chat",
          "mistral-7b-instruct",
          "mixtral-8x7b-instruct",
          "pplx-70b-chat",
          "pplx-7b-chat",
          "codellama-34b-instruct",
          "llama-2-70b-chat",
          "mistral-7b-instruct",
          "mixtral-8x7b-instruct",
          "pplx-70b-chat",
          "pplx-7b-chat",
          "codellama-34b-instruct",
          "llama-2-70b-chat",
          "mistral-7b-instruct",
          "mixtral-8x7b-instruct",
          "pplx-70b-chat",
          "pplx-7b-chat",
          "codellama-34b-instruct",
          "llama-2-70b-chat",
          "mistral-7b-instruct",
          "mixtral-8x7b-instruct",
          "pplx-70b-chat",
          "pplx-7b-chat",
          "codellama-34b-instruct",
          "llama-2-70b-chat",
          "mistral-7b-instruct",
          "mixtral-8x7b-instruct",
          "pplx-70b-chat",
          "pplx-7b-chat",
          "codellama-34b-instruct",
          "llama-2-70b-chat",
          "mistral-7b-instruct",
          "mixtral-8x7b-instruct",
          "pplx-70b-chat",
          "pplx-7b-chat"
         ],
         "legendgroup": "True",
         "marker": {
          "color": "#EF553B"
         },
         "name": "True",
         "notched": false,
         "offsetgroup": "True",
         "orientation": "v",
         "showlegend": true,
         "type": "box",
         "x": [
          "(-0.001, 5.0]",
          "(-0.001, 5.0]",
          "(-0.001, 5.0]",
          "(-0.001, 5.0]",
          "(-0.001, 5.0]",
          "(-0.001, 5.0]",
          "(5.0, 10.0]",
          "(5.0, 10.0]",
          "(5.0, 10.0]",
          "(5.0, 10.0]",
          "(5.0, 10.0]",
          "(5.0, 10.0]",
          "(10.0, 15.0]",
          "(10.0, 15.0]",
          "(10.0, 15.0]",
          "(10.0, 15.0]",
          "(10.0, 15.0]",
          "(10.0, 15.0]",
          "(15.0, 20.0]",
          "(15.0, 20.0]",
          "(15.0, 20.0]",
          "(15.0, 20.0]",
          "(15.0, 20.0]",
          "(15.0, 20.0]",
          "(20.0, 25.0]",
          "(20.0, 25.0]",
          "(20.0, 25.0]",
          "(20.0, 25.0]",
          "(20.0, 25.0]",
          "(20.0, 25.0]",
          "(25.0, 30.0]",
          "(25.0, 30.0]",
          "(25.0, 30.0]",
          "(25.0, 30.0]",
          "(25.0, 30.0]",
          "(25.0, 30.0]",
          "(30.0, 35.0]",
          "(30.0, 35.0]",
          "(30.0, 35.0]",
          "(30.0, 35.0]",
          "(30.0, 35.0]",
          "(30.0, 35.0]",
          "(35.0, 40.0]",
          "(35.0, 40.0]",
          "(35.0, 40.0]",
          "(35.0, 40.0]",
          "(35.0, 40.0]",
          "(35.0, 40.0]",
          "(40.0, 45.0]",
          "(40.0, 45.0]",
          "(40.0, 45.0]",
          "(40.0, 45.0]",
          "(40.0, 45.0]",
          "(40.0, 45.0]",
          "(45.0, 50.0]",
          "(45.0, 50.0]",
          "(45.0, 50.0]",
          "(45.0, 50.0]",
          "(45.0, 50.0]",
          "(45.0, 50.0]",
          "(50.0, 55.0]",
          "(50.0, 55.0]",
          "(50.0, 55.0]",
          "(50.0, 55.0]",
          "(50.0, 55.0]",
          "(50.0, 55.0]",
          "(55.0, 60.0]",
          "(55.0, 60.0]",
          "(55.0, 60.0]",
          "(55.0, 60.0]",
          "(55.0, 60.0]",
          "(55.0, 60.0]",
          "(60.0, 65.0]",
          "(60.0, 65.0]",
          "(60.0, 65.0]",
          "(60.0, 65.0]",
          "(60.0, 65.0]",
          "(60.0, 65.0]",
          "(65.0, 70.0]",
          "(65.0, 70.0]",
          "(65.0, 70.0]",
          "(65.0, 70.0]",
          "(65.0, 70.0]",
          "(65.0, 70.0]",
          "(70.0, 75.0]",
          "(70.0, 75.0]",
          "(70.0, 75.0]",
          "(70.0, 75.0]",
          "(70.0, 75.0]",
          "(70.0, 75.0]",
          "(75.0, 80.0]",
          "(75.0, 80.0]",
          "(75.0, 80.0]",
          "(75.0, 80.0]",
          "(75.0, 80.0]",
          "(75.0, 80.0]",
          "(80.0, 85.0]",
          "(80.0, 85.0]",
          "(80.0, 85.0]",
          "(80.0, 85.0]",
          "(80.0, 85.0]",
          "(80.0, 85.0]",
          "(85.0, 90.0]",
          "(85.0, 90.0]",
          "(85.0, 90.0]",
          "(85.0, 90.0]",
          "(85.0, 90.0]",
          "(85.0, 90.0]",
          "(90.0, 95.0]",
          "(90.0, 95.0]",
          "(90.0, 95.0]",
          "(90.0, 95.0]",
          "(90.0, 95.0]",
          "(90.0, 95.0]",
          "(95.0, 100.0]",
          "(95.0, 100.0]",
          "(95.0, 100.0]",
          "(95.0, 100.0]",
          "(95.0, 100.0]",
          "(95.0, 100.0]"
         ],
         "x0": " ",
         "xaxis": "x",
         "y": [
          12,
          14,
          11,
          6,
          12,
          10,
          16,
          20,
          22,
          24,
          17,
          22,
          0,
          0,
          0,
          0,
          1,
          1,
          26,
          12,
          16,
          16,
          15,
          19,
          0,
          0,
          1,
          0,
          0,
          0,
          27,
          27,
          23,
          28,
          27,
          28,
          0,
          0,
          0,
          0,
          0,
          0,
          20,
          18,
          22,
          20,
          19,
          13,
          0,
          0,
          0,
          0,
          1,
          0,
          9,
          12,
          11,
          9,
          14,
          14,
          0,
          0,
          0,
          0,
          0,
          0,
          5,
          7,
          11,
          10,
          7,
          7,
          2,
          3,
          5,
          3,
          1,
          1,
          10,
          15,
          19,
          28,
          24,
          19,
          0,
          0,
          0,
          0,
          1,
          0,
          44,
          29,
          38,
          34,
          37,
          37,
          2,
          2,
          1,
          2,
          2,
          3,
          35,
          38,
          29,
          27,
          28,
          24,
          0,
          0,
          1,
          1,
          1,
          1,
          21,
          23,
          16,
          22,
          23,
          24
         ],
         "y0": " ",
         "yaxis": "y"
        }
       ],
       "layout": {
        "boxmode": "group",
        "legend": {
         "title": {
          "text": "truth"
         },
         "tracegroupgap": 0
        },
        "margin": {
         "t": 60
        },
        "template": {
         "data": {
          "bar": [
           {
            "error_x": {
             "color": "#2a3f5f"
            },
            "error_y": {
             "color": "#2a3f5f"
            },
            "marker": {
             "line": {
              "color": "#E5ECF6",
              "width": 0.5
             },
             "pattern": {
              "fillmode": "overlay",
              "size": 10,
              "solidity": 0.2
             }
            },
            "type": "bar"
           }
          ],
          "barpolar": [
           {
            "marker": {
             "line": {
              "color": "#E5ECF6",
              "width": 0.5
             },
             "pattern": {
              "fillmode": "overlay",
              "size": 10,
              "solidity": 0.2
             }
            },
            "type": "barpolar"
           }
          ],
          "carpet": [
           {
            "aaxis": {
             "endlinecolor": "#2a3f5f",
             "gridcolor": "white",
             "linecolor": "white",
             "minorgridcolor": "white",
             "startlinecolor": "#2a3f5f"
            },
            "baxis": {
             "endlinecolor": "#2a3f5f",
             "gridcolor": "white",
             "linecolor": "white",
             "minorgridcolor": "white",
             "startlinecolor": "#2a3f5f"
            },
            "type": "carpet"
           }
          ],
          "choropleth": [
           {
            "colorbar": {
             "outlinewidth": 0,
             "ticks": ""
            },
            "type": "choropleth"
           }
          ],
          "contour": [
           {
            "colorbar": {
             "outlinewidth": 0,
             "ticks": ""
            },
            "colorscale": [
             [
              0,
              "#0d0887"
             ],
             [
              0.1111111111111111,
              "#46039f"
             ],
             [
              0.2222222222222222,
              "#7201a8"
             ],
             [
              0.3333333333333333,
              "#9c179e"
             ],
             [
              0.4444444444444444,
              "#bd3786"
             ],
             [
              0.5555555555555556,
              "#d8576b"
             ],
             [
              0.6666666666666666,
              "#ed7953"
             ],
             [
              0.7777777777777778,
              "#fb9f3a"
             ],
             [
              0.8888888888888888,
              "#fdca26"
             ],
             [
              1,
              "#f0f921"
             ]
            ],
            "type": "contour"
           }
          ],
          "contourcarpet": [
           {
            "colorbar": {
             "outlinewidth": 0,
             "ticks": ""
            },
            "type": "contourcarpet"
           }
          ],
          "heatmap": [
           {
            "colorbar": {
             "outlinewidth": 0,
             "ticks": ""
            },
            "colorscale": [
             [
              0,
              "#0d0887"
             ],
             [
              0.1111111111111111,
              "#46039f"
             ],
             [
              0.2222222222222222,
              "#7201a8"
             ],
             [
              0.3333333333333333,
              "#9c179e"
             ],
             [
              0.4444444444444444,
              "#bd3786"
             ],
             [
              0.5555555555555556,
              "#d8576b"
             ],
             [
              0.6666666666666666,
              "#ed7953"
             ],
             [
              0.7777777777777778,
              "#fb9f3a"
             ],
             [
              0.8888888888888888,
              "#fdca26"
             ],
             [
              1,
              "#f0f921"
             ]
            ],
            "type": "heatmap"
           }
          ],
          "heatmapgl": [
           {
            "colorbar": {
             "outlinewidth": 0,
             "ticks": ""
            },
            "colorscale": [
             [
              0,
              "#0d0887"
             ],
             [
              0.1111111111111111,
              "#46039f"
             ],
             [
              0.2222222222222222,
              "#7201a8"
             ],
             [
              0.3333333333333333,
              "#9c179e"
             ],
             [
              0.4444444444444444,
              "#bd3786"
             ],
             [
              0.5555555555555556,
              "#d8576b"
             ],
             [
              0.6666666666666666,
              "#ed7953"
             ],
             [
              0.7777777777777778,
              "#fb9f3a"
             ],
             [
              0.8888888888888888,
              "#fdca26"
             ],
             [
              1,
              "#f0f921"
             ]
            ],
            "type": "heatmapgl"
           }
          ],
          "histogram": [
           {
            "marker": {
             "pattern": {
              "fillmode": "overlay",
              "size": 10,
              "solidity": 0.2
             }
            },
            "type": "histogram"
           }
          ],
          "histogram2d": [
           {
            "colorbar": {
             "outlinewidth": 0,
             "ticks": ""
            },
            "colorscale": [
             [
              0,
              "#0d0887"
             ],
             [
              0.1111111111111111,
              "#46039f"
             ],
             [
              0.2222222222222222,
              "#7201a8"
             ],
             [
              0.3333333333333333,
              "#9c179e"
             ],
             [
              0.4444444444444444,
              "#bd3786"
             ],
             [
              0.5555555555555556,
              "#d8576b"
             ],
             [
              0.6666666666666666,
              "#ed7953"
             ],
             [
              0.7777777777777778,
              "#fb9f3a"
             ],
             [
              0.8888888888888888,
              "#fdca26"
             ],
             [
              1,
              "#f0f921"
             ]
            ],
            "type": "histogram2d"
           }
          ],
          "histogram2dcontour": [
           {
            "colorbar": {
             "outlinewidth": 0,
             "ticks": ""
            },
            "colorscale": [
             [
              0,
              "#0d0887"
             ],
             [
              0.1111111111111111,
              "#46039f"
             ],
             [
              0.2222222222222222,
              "#7201a8"
             ],
             [
              0.3333333333333333,
              "#9c179e"
             ],
             [
              0.4444444444444444,
              "#bd3786"
             ],
             [
              0.5555555555555556,
              "#d8576b"
             ],
             [
              0.6666666666666666,
              "#ed7953"
             ],
             [
              0.7777777777777778,
              "#fb9f3a"
             ],
             [
              0.8888888888888888,
              "#fdca26"
             ],
             [
              1,
              "#f0f921"
             ]
            ],
            "type": "histogram2dcontour"
           }
          ],
          "mesh3d": [
           {
            "colorbar": {
             "outlinewidth": 0,
             "ticks": ""
            },
            "type": "mesh3d"
           }
          ],
          "parcoords": [
           {
            "line": {
             "colorbar": {
              "outlinewidth": 0,
              "ticks": ""
             }
            },
            "type": "parcoords"
           }
          ],
          "pie": [
           {
            "automargin": true,
            "type": "pie"
           }
          ],
          "scatter": [
           {
            "fillpattern": {
             "fillmode": "overlay",
             "size": 10,
             "solidity": 0.2
            },
            "type": "scatter"
           }
          ],
          "scatter3d": [
           {
            "line": {
             "colorbar": {
              "outlinewidth": 0,
              "ticks": ""
             }
            },
            "marker": {
             "colorbar": {
              "outlinewidth": 0,
              "ticks": ""
             }
            },
            "type": "scatter3d"
           }
          ],
          "scattercarpet": [
           {
            "marker": {
             "colorbar": {
              "outlinewidth": 0,
              "ticks": ""
             }
            },
            "type": "scattercarpet"
           }
          ],
          "scattergeo": [
           {
            "marker": {
             "colorbar": {
              "outlinewidth": 0,
              "ticks": ""
             }
            },
            "type": "scattergeo"
           }
          ],
          "scattergl": [
           {
            "marker": {
             "colorbar": {
              "outlinewidth": 0,
              "ticks": ""
             }
            },
            "type": "scattergl"
           }
          ],
          "scattermapbox": [
           {
            "marker": {
             "colorbar": {
              "outlinewidth": 0,
              "ticks": ""
             }
            },
            "type": "scattermapbox"
           }
          ],
          "scatterpolar": [
           {
            "marker": {
             "colorbar": {
              "outlinewidth": 0,
              "ticks": ""
             }
            },
            "type": "scatterpolar"
           }
          ],
          "scatterpolargl": [
           {
            "marker": {
             "colorbar": {
              "outlinewidth": 0,
              "ticks": ""
             }
            },
            "type": "scatterpolargl"
           }
          ],
          "scatterternary": [
           {
            "marker": {
             "colorbar": {
              "outlinewidth": 0,
              "ticks": ""
             }
            },
            "type": "scatterternary"
           }
          ],
          "surface": [
           {
            "colorbar": {
             "outlinewidth": 0,
             "ticks": ""
            },
            "colorscale": [
             [
              0,
              "#0d0887"
             ],
             [
              0.1111111111111111,
              "#46039f"
             ],
             [
              0.2222222222222222,
              "#7201a8"
             ],
             [
              0.3333333333333333,
              "#9c179e"
             ],
             [
              0.4444444444444444,
              "#bd3786"
             ],
             [
              0.5555555555555556,
              "#d8576b"
             ],
             [
              0.6666666666666666,
              "#ed7953"
             ],
             [
              0.7777777777777778,
              "#fb9f3a"
             ],
             [
              0.8888888888888888,
              "#fdca26"
             ],
             [
              1,
              "#f0f921"
             ]
            ],
            "type": "surface"
           }
          ],
          "table": [
           {
            "cells": {
             "fill": {
              "color": "#EBF0F8"
             },
             "line": {
              "color": "white"
             }
            },
            "header": {
             "fill": {
              "color": "#C8D4E3"
             },
             "line": {
              "color": "white"
             }
            },
            "type": "table"
           }
          ]
         },
         "layout": {
          "annotationdefaults": {
           "arrowcolor": "#2a3f5f",
           "arrowhead": 0,
           "arrowwidth": 1
          },
          "autotypenumbers": "strict",
          "coloraxis": {
           "colorbar": {
            "outlinewidth": 0,
            "ticks": ""
           }
          },
          "colorscale": {
           "diverging": [
            [
             0,
             "#8e0152"
            ],
            [
             0.1,
             "#c51b7d"
            ],
            [
             0.2,
             "#de77ae"
            ],
            [
             0.3,
             "#f1b6da"
            ],
            [
             0.4,
             "#fde0ef"
            ],
            [
             0.5,
             "#f7f7f7"
            ],
            [
             0.6,
             "#e6f5d0"
            ],
            [
             0.7,
             "#b8e186"
            ],
            [
             0.8,
             "#7fbc41"
            ],
            [
             0.9,
             "#4d9221"
            ],
            [
             1,
             "#276419"
            ]
           ],
           "sequential": [
            [
             0,
             "#0d0887"
            ],
            [
             0.1111111111111111,
             "#46039f"
            ],
            [
             0.2222222222222222,
             "#7201a8"
            ],
            [
             0.3333333333333333,
             "#9c179e"
            ],
            [
             0.4444444444444444,
             "#bd3786"
            ],
            [
             0.5555555555555556,
             "#d8576b"
            ],
            [
             0.6666666666666666,
             "#ed7953"
            ],
            [
             0.7777777777777778,
             "#fb9f3a"
            ],
            [
             0.8888888888888888,
             "#fdca26"
            ],
            [
             1,
             "#f0f921"
            ]
           ],
           "sequentialminus": [
            [
             0,
             "#0d0887"
            ],
            [
             0.1111111111111111,
             "#46039f"
            ],
            [
             0.2222222222222222,
             "#7201a8"
            ],
            [
             0.3333333333333333,
             "#9c179e"
            ],
            [
             0.4444444444444444,
             "#bd3786"
            ],
            [
             0.5555555555555556,
             "#d8576b"
            ],
            [
             0.6666666666666666,
             "#ed7953"
            ],
            [
             0.7777777777777778,
             "#fb9f3a"
            ],
            [
             0.8888888888888888,
             "#fdca26"
            ],
            [
             1,
             "#f0f921"
            ]
           ]
          },
          "colorway": [
           "#636efa",
           "#EF553B",
           "#00cc96",
           "#ab63fa",
           "#FFA15A",
           "#19d3f3",
           "#FF6692",
           "#B6E880",
           "#FF97FF",
           "#FECB52"
          ],
          "font": {
           "color": "#2a3f5f"
          },
          "geo": {
           "bgcolor": "white",
           "lakecolor": "white",
           "landcolor": "#E5ECF6",
           "showlakes": true,
           "showland": true,
           "subunitcolor": "white"
          },
          "hoverlabel": {
           "align": "left"
          },
          "hovermode": "closest",
          "mapbox": {
           "style": "light"
          },
          "paper_bgcolor": "white",
          "plot_bgcolor": "#E5ECF6",
          "polar": {
           "angularaxis": {
            "gridcolor": "white",
            "linecolor": "white",
            "ticks": ""
           },
           "bgcolor": "#E5ECF6",
           "radialaxis": {
            "gridcolor": "white",
            "linecolor": "white",
            "ticks": ""
           }
          },
          "scene": {
           "xaxis": {
            "backgroundcolor": "#E5ECF6",
            "gridcolor": "white",
            "gridwidth": 2,
            "linecolor": "white",
            "showbackground": true,
            "ticks": "",
            "zerolinecolor": "white"
           },
           "yaxis": {
            "backgroundcolor": "#E5ECF6",
            "gridcolor": "white",
            "gridwidth": 2,
            "linecolor": "white",
            "showbackground": true,
            "ticks": "",
            "zerolinecolor": "white"
           },
           "zaxis": {
            "backgroundcolor": "#E5ECF6",
            "gridcolor": "white",
            "gridwidth": 2,
            "linecolor": "white",
            "showbackground": true,
            "ticks": "",
            "zerolinecolor": "white"
           }
          },
          "shapedefaults": {
           "line": {
            "color": "#2a3f5f"
           }
          },
          "ternary": {
           "aaxis": {
            "gridcolor": "white",
            "linecolor": "white",
            "ticks": ""
           },
           "baxis": {
            "gridcolor": "white",
            "linecolor": "white",
            "ticks": ""
           },
           "bgcolor": "#E5ECF6",
           "caxis": {
            "gridcolor": "white",
            "linecolor": "white",
            "ticks": ""
           }
          },
          "title": {
           "x": 0.05
          },
          "xaxis": {
           "automargin": true,
           "gridcolor": "white",
           "linecolor": "white",
           "ticks": "",
           "title": {
            "standoff": 15
           },
           "zerolinecolor": "white",
           "zerolinewidth": 2
          },
          "yaxis": {
           "automargin": true,
           "gridcolor": "white",
           "linecolor": "white",
           "ticks": "",
           "title": {
            "standoff": 15
           },
           "zerolinecolor": "white",
           "zerolinewidth": 2
          }
         }
        },
        "xaxis": {
         "anchor": "y",
         "domain": [
          0,
          1
         ],
         "title": {
          "text": "bin"
         }
        },
        "yaxis": {
         "anchor": "x",
         "domain": [
          0,
          1
         ],
         "title": {
          "text": "text"
         }
        }
       }
      }
     },
     "metadata": {},
     "output_type": "display_data"
    }
   ],
   "source": [
    "import numpy as np\n",
    "import plotly.express as px\n",
    "df[\"bin\"] = pd.cut(df['hate_speech_probability']*100, bins=np.arange(0, 105, 5),include_lowest=True)\n",
    "df['bin'] = df[\"bin\"].apply(lambda bin: str(bin))\n",
    "\n",
    "df_grouped = df.groupby([\"bin\", \"model\", \"truth\"]).count().reset_index()\n",
    "fig = px.box(df_grouped, x=\"bin\", y=\"text\", color=\"truth\", hover_name=\"model\")\n",
    "fig.show()"
   ]
  },
  {
   "cell_type": "code",
   "execution_count": 11,
   "metadata": {
    "ExecuteTime": {
     "end_time": "2024-01-09T15:26:14.957158959Z",
     "start_time": "2024-01-09T15:26:14.913305908Z"
    },
    "collapsed": false
   },
   "outputs": [
    {
     "name": "stderr",
     "output_type": "stream",
     "text": [
      "C:\\Users\\michi\\AppData\\Local\\Temp\\ipykernel_25372\\2311929575.py:7: FutureWarning:\n",
      "\n",
      "The default of observed=False is deprecated and will be changed to True in a future version of pandas. Pass observed=False to retain current behavior or observed=True to adopt the future default and silence this warning.\n",
      "\n"
     ]
    },
    {
     "data": {
      "application/vnd.plotly.v1+json": {
       "config": {
        "plotlyServerURL": "https://plot.ly"
       },
       "data": [
        {
         "hovertemplate": "<b>%{hovertext}</b><br><br>model=codellama-34b-instruct<br>bin=%{x}<br>text=%{y}<extra></extra>",
         "hovertext": [
          false,
          false,
          false,
          false,
          false,
          false,
          false,
          false,
          false,
          false
         ],
         "legendgroup": "codellama-34b-instruct",
         "marker": {
          "color": "#636efa",
          "symbol": "circle"
         },
         "mode": "markers",
         "name": "codellama-34b-instruct",
         "orientation": "v",
         "showlegend": true,
         "type": "scatter",
         "x": [
          "(-0.001, 10.0]",
          "(10.0, 20.0]",
          "(20.0, 30.0]",
          "(30.0, 40.0]",
          "(40.0, 50.0]",
          "(50.0, 60.0]",
          "(60.0, 70.0]",
          "(70.0, 80.0]",
          "(80.0, 90.0]",
          "(90.0, 100.0]"
         ],
         "xaxis": "x",
         "y": [
          140,
          23,
          19,
          20,
          9,
          5,
          8,
          4,
          2,
          5
         ],
         "yaxis": "y"
        },
        {
         "hovertemplate": "<b>%{hovertext}</b><br><br>model=llama-2-70b-chat<br>bin=%{x}<br>text=%{y}<extra></extra>",
         "hovertext": [
          false,
          false,
          false,
          false,
          false,
          false,
          false,
          false,
          false,
          false
         ],
         "legendgroup": "llama-2-70b-chat",
         "marker": {
          "color": "#EF553B",
          "symbol": "circle"
         },
         "mode": "markers",
         "name": "llama-2-70b-chat",
         "orientation": "v",
         "showlegend": true,
         "type": "scatter",
         "x": [
          "(-0.001, 10.0]",
          "(10.0, 20.0]",
          "(20.0, 30.0]",
          "(30.0, 40.0]",
          "(40.0, 50.0]",
          "(50.0, 60.0]",
          "(60.0, 70.0]",
          "(70.0, 80.0]",
          "(80.0, 90.0]",
          "(90.0, 100.0]"
         ],
         "xaxis": "x",
         "y": [
          131,
          26,
          25,
          15,
          10,
          2,
          7,
          6,
          4,
          3
         ],
         "yaxis": "y"
        },
        {
         "hovertemplate": "<b>%{hovertext}</b><br><br>model=mistral-7b-instruct<br>bin=%{x}<br>text=%{y}<extra></extra>",
         "hovertext": [
          false,
          false,
          false,
          false,
          false,
          false,
          false,
          false,
          false,
          false
         ],
         "legendgroup": "mistral-7b-instruct",
         "marker": {
          "color": "#00cc96",
          "symbol": "circle"
         },
         "mode": "markers",
         "name": "mistral-7b-instruct",
         "orientation": "v",
         "showlegend": true,
         "type": "scatter",
         "x": [
          "(-0.001, 10.0]",
          "(10.0, 20.0]",
          "(20.0, 30.0]",
          "(30.0, 40.0]",
          "(40.0, 50.0]",
          "(50.0, 60.0]",
          "(60.0, 70.0]",
          "(70.0, 80.0]",
          "(80.0, 90.0]",
          "(90.0, 100.0]"
         ],
         "xaxis": "x",
         "y": [
          140,
          18,
          27,
          15,
          9,
          3,
          6,
          5,
          5,
          5
         ],
         "yaxis": "y"
        },
        {
         "hovertemplate": "<b>%{hovertext}</b><br><br>model=mixtral-8x7b-instruct<br>bin=%{x}<br>text=%{y}<extra></extra>",
         "hovertext": [
          false,
          false,
          false,
          false,
          false,
          false,
          false,
          false,
          false,
          false
         ],
         "legendgroup": "mixtral-8x7b-instruct",
         "marker": {
          "color": "#ab63fa",
          "symbol": "circle"
         },
         "mode": "markers",
         "name": "mixtral-8x7b-instruct",
         "orientation": "v",
         "showlegend": true,
         "type": "scatter",
         "x": [
          "(-0.001, 10.0]",
          "(10.0, 20.0]",
          "(20.0, 30.0]",
          "(30.0, 40.0]",
          "(40.0, 50.0]",
          "(50.0, 60.0]",
          "(60.0, 70.0]",
          "(70.0, 80.0]",
          "(80.0, 90.0]",
          "(90.0, 100.0]"
         ],
         "xaxis": "x",
         "y": [
          122,
          26,
          35,
          20,
          10,
          4,
          5,
          5,
          5,
          4
         ],
         "yaxis": "y"
        },
        {
         "hovertemplate": "<b>%{hovertext}</b><br><br>model=pplx-70b-chat<br>bin=%{x}<br>text=%{y}<extra></extra>",
         "hovertext": [
          false,
          false,
          false,
          false,
          false,
          false,
          false,
          false,
          false,
          false
         ],
         "legendgroup": "pplx-70b-chat",
         "marker": {
          "color": "#FFA15A",
          "symbol": "circle"
         },
         "mode": "markers",
         "name": "pplx-70b-chat",
         "orientation": "v",
         "showlegend": true,
         "type": "scatter",
         "x": [
          "(-0.001, 10.0]",
          "(10.0, 20.0]",
          "(20.0, 30.0]",
          "(30.0, 40.0]",
          "(40.0, 50.0]",
          "(50.0, 60.0]",
          "(60.0, 70.0]",
          "(70.0, 80.0]",
          "(80.0, 90.0]",
          "(90.0, 100.0]"
         ],
         "xaxis": "x",
         "y": [
          136,
          18,
          32,
          12,
          16,
          3,
          1,
          5,
          5,
          3
         ],
         "yaxis": "y"
        },
        {
         "hovertemplate": "<b>%{hovertext}</b><br><br>model=pplx-7b-chat<br>bin=%{x}<br>text=%{y}<extra></extra>",
         "hovertext": [
          false,
          false,
          false,
          false,
          false,
          false,
          false,
          false,
          false,
          false
         ],
         "legendgroup": "pplx-7b-chat",
         "marker": {
          "color": "#19d3f3",
          "symbol": "circle"
         },
         "mode": "markers",
         "name": "pplx-7b-chat",
         "orientation": "v",
         "showlegend": true,
         "type": "scatter",
         "x": [
          "(-0.001, 10.0]",
          "(10.0, 20.0]",
          "(20.0, 30.0]",
          "(30.0, 40.0]",
          "(40.0, 50.0]",
          "(50.0, 60.0]",
          "(60.0, 70.0]",
          "(70.0, 80.0]",
          "(80.0, 90.0]",
          "(90.0, 100.0]"
         ],
         "xaxis": "x",
         "y": [
          134,
          27,
          22,
          19,
          9,
          5,
          6,
          5,
          3,
          2
         ],
         "yaxis": "y"
        }
       ],
       "layout": {
        "legend": {
         "title": {
          "text": "model"
         },
         "tracegroupgap": 0
        },
        "template": {
         "data": {
          "bar": [
           {
            "error_x": {
             "color": "#2a3f5f"
            },
            "error_y": {
             "color": "#2a3f5f"
            },
            "marker": {
             "line": {
              "color": "#E5ECF6",
              "width": 0.5
             },
             "pattern": {
              "fillmode": "overlay",
              "size": 10,
              "solidity": 0.2
             }
            },
            "type": "bar"
           }
          ],
          "barpolar": [
           {
            "marker": {
             "line": {
              "color": "#E5ECF6",
              "width": 0.5
             },
             "pattern": {
              "fillmode": "overlay",
              "size": 10,
              "solidity": 0.2
             }
            },
            "type": "barpolar"
           }
          ],
          "carpet": [
           {
            "aaxis": {
             "endlinecolor": "#2a3f5f",
             "gridcolor": "white",
             "linecolor": "white",
             "minorgridcolor": "white",
             "startlinecolor": "#2a3f5f"
            },
            "baxis": {
             "endlinecolor": "#2a3f5f",
             "gridcolor": "white",
             "linecolor": "white",
             "minorgridcolor": "white",
             "startlinecolor": "#2a3f5f"
            },
            "type": "carpet"
           }
          ],
          "choropleth": [
           {
            "colorbar": {
             "outlinewidth": 0,
             "ticks": ""
            },
            "type": "choropleth"
           }
          ],
          "contour": [
           {
            "colorbar": {
             "outlinewidth": 0,
             "ticks": ""
            },
            "colorscale": [
             [
              0,
              "#0d0887"
             ],
             [
              0.1111111111111111,
              "#46039f"
             ],
             [
              0.2222222222222222,
              "#7201a8"
             ],
             [
              0.3333333333333333,
              "#9c179e"
             ],
             [
              0.4444444444444444,
              "#bd3786"
             ],
             [
              0.5555555555555556,
              "#d8576b"
             ],
             [
              0.6666666666666666,
              "#ed7953"
             ],
             [
              0.7777777777777778,
              "#fb9f3a"
             ],
             [
              0.8888888888888888,
              "#fdca26"
             ],
             [
              1,
              "#f0f921"
             ]
            ],
            "type": "contour"
           }
          ],
          "contourcarpet": [
           {
            "colorbar": {
             "outlinewidth": 0,
             "ticks": ""
            },
            "type": "contourcarpet"
           }
          ],
          "heatmap": [
           {
            "colorbar": {
             "outlinewidth": 0,
             "ticks": ""
            },
            "colorscale": [
             [
              0,
              "#0d0887"
             ],
             [
              0.1111111111111111,
              "#46039f"
             ],
             [
              0.2222222222222222,
              "#7201a8"
             ],
             [
              0.3333333333333333,
              "#9c179e"
             ],
             [
              0.4444444444444444,
              "#bd3786"
             ],
             [
              0.5555555555555556,
              "#d8576b"
             ],
             [
              0.6666666666666666,
              "#ed7953"
             ],
             [
              0.7777777777777778,
              "#fb9f3a"
             ],
             [
              0.8888888888888888,
              "#fdca26"
             ],
             [
              1,
              "#f0f921"
             ]
            ],
            "type": "heatmap"
           }
          ],
          "heatmapgl": [
           {
            "colorbar": {
             "outlinewidth": 0,
             "ticks": ""
            },
            "colorscale": [
             [
              0,
              "#0d0887"
             ],
             [
              0.1111111111111111,
              "#46039f"
             ],
             [
              0.2222222222222222,
              "#7201a8"
             ],
             [
              0.3333333333333333,
              "#9c179e"
             ],
             [
              0.4444444444444444,
              "#bd3786"
             ],
             [
              0.5555555555555556,
              "#d8576b"
             ],
             [
              0.6666666666666666,
              "#ed7953"
             ],
             [
              0.7777777777777778,
              "#fb9f3a"
             ],
             [
              0.8888888888888888,
              "#fdca26"
             ],
             [
              1,
              "#f0f921"
             ]
            ],
            "type": "heatmapgl"
           }
          ],
          "histogram": [
           {
            "marker": {
             "pattern": {
              "fillmode": "overlay",
              "size": 10,
              "solidity": 0.2
             }
            },
            "type": "histogram"
           }
          ],
          "histogram2d": [
           {
            "colorbar": {
             "outlinewidth": 0,
             "ticks": ""
            },
            "colorscale": [
             [
              0,
              "#0d0887"
             ],
             [
              0.1111111111111111,
              "#46039f"
             ],
             [
              0.2222222222222222,
              "#7201a8"
             ],
             [
              0.3333333333333333,
              "#9c179e"
             ],
             [
              0.4444444444444444,
              "#bd3786"
             ],
             [
              0.5555555555555556,
              "#d8576b"
             ],
             [
              0.6666666666666666,
              "#ed7953"
             ],
             [
              0.7777777777777778,
              "#fb9f3a"
             ],
             [
              0.8888888888888888,
              "#fdca26"
             ],
             [
              1,
              "#f0f921"
             ]
            ],
            "type": "histogram2d"
           }
          ],
          "histogram2dcontour": [
           {
            "colorbar": {
             "outlinewidth": 0,
             "ticks": ""
            },
            "colorscale": [
             [
              0,
              "#0d0887"
             ],
             [
              0.1111111111111111,
              "#46039f"
             ],
             [
              0.2222222222222222,
              "#7201a8"
             ],
             [
              0.3333333333333333,
              "#9c179e"
             ],
             [
              0.4444444444444444,
              "#bd3786"
             ],
             [
              0.5555555555555556,
              "#d8576b"
             ],
             [
              0.6666666666666666,
              "#ed7953"
             ],
             [
              0.7777777777777778,
              "#fb9f3a"
             ],
             [
              0.8888888888888888,
              "#fdca26"
             ],
             [
              1,
              "#f0f921"
             ]
            ],
            "type": "histogram2dcontour"
           }
          ],
          "mesh3d": [
           {
            "colorbar": {
             "outlinewidth": 0,
             "ticks": ""
            },
            "type": "mesh3d"
           }
          ],
          "parcoords": [
           {
            "line": {
             "colorbar": {
              "outlinewidth": 0,
              "ticks": ""
             }
            },
            "type": "parcoords"
           }
          ],
          "pie": [
           {
            "automargin": true,
            "type": "pie"
           }
          ],
          "scatter": [
           {
            "fillpattern": {
             "fillmode": "overlay",
             "size": 10,
             "solidity": 0.2
            },
            "type": "scatter"
           }
          ],
          "scatter3d": [
           {
            "line": {
             "colorbar": {
              "outlinewidth": 0,
              "ticks": ""
             }
            },
            "marker": {
             "colorbar": {
              "outlinewidth": 0,
              "ticks": ""
             }
            },
            "type": "scatter3d"
           }
          ],
          "scattercarpet": [
           {
            "marker": {
             "colorbar": {
              "outlinewidth": 0,
              "ticks": ""
             }
            },
            "type": "scattercarpet"
           }
          ],
          "scattergeo": [
           {
            "marker": {
             "colorbar": {
              "outlinewidth": 0,
              "ticks": ""
             }
            },
            "type": "scattergeo"
           }
          ],
          "scattergl": [
           {
            "marker": {
             "colorbar": {
              "outlinewidth": 0,
              "ticks": ""
             }
            },
            "type": "scattergl"
           }
          ],
          "scattermapbox": [
           {
            "marker": {
             "colorbar": {
              "outlinewidth": 0,
              "ticks": ""
             }
            },
            "type": "scattermapbox"
           }
          ],
          "scatterpolar": [
           {
            "marker": {
             "colorbar": {
              "outlinewidth": 0,
              "ticks": ""
             }
            },
            "type": "scatterpolar"
           }
          ],
          "scatterpolargl": [
           {
            "marker": {
             "colorbar": {
              "outlinewidth": 0,
              "ticks": ""
             }
            },
            "type": "scatterpolargl"
           }
          ],
          "scatterternary": [
           {
            "marker": {
             "colorbar": {
              "outlinewidth": 0,
              "ticks": ""
             }
            },
            "type": "scatterternary"
           }
          ],
          "surface": [
           {
            "colorbar": {
             "outlinewidth": 0,
             "ticks": ""
            },
            "colorscale": [
             [
              0,
              "#0d0887"
             ],
             [
              0.1111111111111111,
              "#46039f"
             ],
             [
              0.2222222222222222,
              "#7201a8"
             ],
             [
              0.3333333333333333,
              "#9c179e"
             ],
             [
              0.4444444444444444,
              "#bd3786"
             ],
             [
              0.5555555555555556,
              "#d8576b"
             ],
             [
              0.6666666666666666,
              "#ed7953"
             ],
             [
              0.7777777777777778,
              "#fb9f3a"
             ],
             [
              0.8888888888888888,
              "#fdca26"
             ],
             [
              1,
              "#f0f921"
             ]
            ],
            "type": "surface"
           }
          ],
          "table": [
           {
            "cells": {
             "fill": {
              "color": "#EBF0F8"
             },
             "line": {
              "color": "white"
             }
            },
            "header": {
             "fill": {
              "color": "#C8D4E3"
             },
             "line": {
              "color": "white"
             }
            },
            "type": "table"
           }
          ]
         },
         "layout": {
          "annotationdefaults": {
           "arrowcolor": "#2a3f5f",
           "arrowhead": 0,
           "arrowwidth": 1
          },
          "autotypenumbers": "strict",
          "coloraxis": {
           "colorbar": {
            "outlinewidth": 0,
            "ticks": ""
           }
          },
          "colorscale": {
           "diverging": [
            [
             0,
             "#8e0152"
            ],
            [
             0.1,
             "#c51b7d"
            ],
            [
             0.2,
             "#de77ae"
            ],
            [
             0.3,
             "#f1b6da"
            ],
            [
             0.4,
             "#fde0ef"
            ],
            [
             0.5,
             "#f7f7f7"
            ],
            [
             0.6,
             "#e6f5d0"
            ],
            [
             0.7,
             "#b8e186"
            ],
            [
             0.8,
             "#7fbc41"
            ],
            [
             0.9,
             "#4d9221"
            ],
            [
             1,
             "#276419"
            ]
           ],
           "sequential": [
            [
             0,
             "#0d0887"
            ],
            [
             0.1111111111111111,
             "#46039f"
            ],
            [
             0.2222222222222222,
             "#7201a8"
            ],
            [
             0.3333333333333333,
             "#9c179e"
            ],
            [
             0.4444444444444444,
             "#bd3786"
            ],
            [
             0.5555555555555556,
             "#d8576b"
            ],
            [
             0.6666666666666666,
             "#ed7953"
            ],
            [
             0.7777777777777778,
             "#fb9f3a"
            ],
            [
             0.8888888888888888,
             "#fdca26"
            ],
            [
             1,
             "#f0f921"
            ]
           ],
           "sequentialminus": [
            [
             0,
             "#0d0887"
            ],
            [
             0.1111111111111111,
             "#46039f"
            ],
            [
             0.2222222222222222,
             "#7201a8"
            ],
            [
             0.3333333333333333,
             "#9c179e"
            ],
            [
             0.4444444444444444,
             "#bd3786"
            ],
            [
             0.5555555555555556,
             "#d8576b"
            ],
            [
             0.6666666666666666,
             "#ed7953"
            ],
            [
             0.7777777777777778,
             "#fb9f3a"
            ],
            [
             0.8888888888888888,
             "#fdca26"
            ],
            [
             1,
             "#f0f921"
            ]
           ]
          },
          "colorway": [
           "#636efa",
           "#EF553B",
           "#00cc96",
           "#ab63fa",
           "#FFA15A",
           "#19d3f3",
           "#FF6692",
           "#B6E880",
           "#FF97FF",
           "#FECB52"
          ],
          "font": {
           "color": "#2a3f5f"
          },
          "geo": {
           "bgcolor": "white",
           "lakecolor": "white",
           "landcolor": "#E5ECF6",
           "showlakes": true,
           "showland": true,
           "subunitcolor": "white"
          },
          "hoverlabel": {
           "align": "left"
          },
          "hovermode": "closest",
          "mapbox": {
           "style": "light"
          },
          "paper_bgcolor": "white",
          "plot_bgcolor": "#E5ECF6",
          "polar": {
           "angularaxis": {
            "gridcolor": "white",
            "linecolor": "white",
            "ticks": ""
           },
           "bgcolor": "#E5ECF6",
           "radialaxis": {
            "gridcolor": "white",
            "linecolor": "white",
            "ticks": ""
           }
          },
          "scene": {
           "xaxis": {
            "backgroundcolor": "#E5ECF6",
            "gridcolor": "white",
            "gridwidth": 2,
            "linecolor": "white",
            "showbackground": true,
            "ticks": "",
            "zerolinecolor": "white"
           },
           "yaxis": {
            "backgroundcolor": "#E5ECF6",
            "gridcolor": "white",
            "gridwidth": 2,
            "linecolor": "white",
            "showbackground": true,
            "ticks": "",
            "zerolinecolor": "white"
           },
           "zaxis": {
            "backgroundcolor": "#E5ECF6",
            "gridcolor": "white",
            "gridwidth": 2,
            "linecolor": "white",
            "showbackground": true,
            "ticks": "",
            "zerolinecolor": "white"
           }
          },
          "shapedefaults": {
           "line": {
            "color": "#2a3f5f"
           }
          },
          "ternary": {
           "aaxis": {
            "gridcolor": "white",
            "linecolor": "white",
            "ticks": ""
           },
           "baxis": {
            "gridcolor": "white",
            "linecolor": "white",
            "ticks": ""
           },
           "bgcolor": "#E5ECF6",
           "caxis": {
            "gridcolor": "white",
            "linecolor": "white",
            "ticks": ""
           }
          },
          "title": {
           "x": 0.05
          },
          "xaxis": {
           "automargin": true,
           "gridcolor": "white",
           "linecolor": "white",
           "ticks": "",
           "title": {
            "standoff": 15
           },
           "zerolinecolor": "white",
           "zerolinewidth": 2
          },
          "yaxis": {
           "automargin": true,
           "gridcolor": "white",
           "linecolor": "white",
           "ticks": "",
           "title": {
            "standoff": 15
           },
           "zerolinecolor": "white",
           "zerolinewidth": 2
          }
         }
        },
        "title": {
         "text": "Hate Speech Probability (only non-hatefull, our probability should be 0)"
        },
        "xaxis": {
         "anchor": "y",
         "domain": [
          0,
          1
         ],
         "title": {
          "text": "bin"
         }
        },
        "yaxis": {
         "anchor": "x",
         "domain": [
          0,
          1
         ],
         "title": {
          "text": "text"
         }
        }
       }
      }
     },
     "metadata": {},
     "output_type": "display_data"
    }
   ],
   "source": [
    "import numpy as np\n",
    "import plotly.express as px\n",
    "df[\"bin\"] = pd.cut(df['hate_speech_probability']*100, bins=np.arange(0, 110, 10),include_lowest=True)\n",
    "df['bin'] = df[\"bin\"].apply(lambda bin: str(bin))\n",
    "\n",
    "true_df = df.query(\"not truth\")\n",
    "df_grouped = true_df.groupby([\"bin\", \"model\", \"truth\"]).count().reset_index()\n",
    "fig = px.scatter(df_grouped, x=\"bin\", y=\"text\", color=\"model\", hover_name=\"truth\", title=\"Hate Speech Probability (only non-hatefull, our probability should be 0)\")\n",
    "fig.show()"
   ]
  },
  {
   "cell_type": "code",
   "execution_count": 12,
   "metadata": {
    "ExecuteTime": {
     "end_time": "2024-01-09T15:26:22.874487270Z",
     "start_time": "2024-01-09T15:26:22.832944810Z"
    },
    "collapsed": false
   },
   "outputs": [
    {
     "name": "stderr",
     "output_type": "stream",
     "text": [
      "C:\\Users\\michi\\AppData\\Local\\Temp\\ipykernel_25372\\1465899656.py:7: FutureWarning:\n",
      "\n",
      "The default of observed=False is deprecated and will be changed to True in a future version of pandas. Pass observed=False to retain current behavior or observed=True to adopt the future default and silence this warning.\n",
      "\n"
     ]
    },
    {
     "data": {
      "application/vnd.plotly.v1+json": {
       "config": {
        "plotlyServerURL": "https://plot.ly"
       },
       "data": [
        {
         "hovertemplate": "<b>%{hovertext}</b><br><br>model=codellama-34b-instruct<br>bin=%{x}<br>text=%{y}<extra></extra>",
         "hovertext": [
          28,
          26,
          27,
          20,
          9,
          5,
          12,
          44,
          37,
          21
         ],
         "legendgroup": "codellama-34b-instruct",
         "marker": {
          "color": "#636efa",
          "symbol": "circle"
         },
         "mode": "markers",
         "name": "codellama-34b-instruct",
         "orientation": "v",
         "showlegend": true,
         "type": "scatter",
         "x": [
          "(-0.001, 10.0]",
          "(10.0, 20.0]",
          "(20.0, 30.0]",
          "(30.0, 40.0]",
          "(40.0, 50.0]",
          "(50.0, 60.0]",
          "(60.0, 70.0]",
          "(70.0, 80.0]",
          "(80.0, 90.0]",
          "(90.0, 100.0]"
         ],
         "xaxis": "x",
         "y": [
          28,
          26,
          27,
          20,
          9,
          5,
          12,
          44,
          37,
          21
         ],
         "yaxis": "y"
        },
        {
         "hovertemplate": "<b>%{hovertext}</b><br><br>model=llama-2-70b-chat<br>bin=%{x}<br>text=%{y}<extra></extra>",
         "hovertext": [
          34,
          12,
          27,
          18,
          12,
          7,
          18,
          29,
          40,
          23
         ],
         "legendgroup": "llama-2-70b-chat",
         "marker": {
          "color": "#EF553B",
          "symbol": "circle"
         },
         "mode": "markers",
         "name": "llama-2-70b-chat",
         "orientation": "v",
         "showlegend": true,
         "type": "scatter",
         "x": [
          "(-0.001, 10.0]",
          "(10.0, 20.0]",
          "(20.0, 30.0]",
          "(30.0, 40.0]",
          "(40.0, 50.0]",
          "(50.0, 60.0]",
          "(60.0, 70.0]",
          "(70.0, 80.0]",
          "(80.0, 90.0]",
          "(90.0, 100.0]"
         ],
         "xaxis": "x",
         "y": [
          34,
          12,
          27,
          18,
          12,
          7,
          18,
          29,
          40,
          23
         ],
         "yaxis": "y"
        },
        {
         "hovertemplate": "<b>%{hovertext}</b><br><br>model=mistral-7b-instruct<br>bin=%{x}<br>text=%{y}<extra></extra>",
         "hovertext": [
          33,
          16,
          24,
          22,
          11,
          11,
          24,
          38,
          30,
          17
         ],
         "legendgroup": "mistral-7b-instruct",
         "marker": {
          "color": "#00cc96",
          "symbol": "circle"
         },
         "mode": "markers",
         "name": "mistral-7b-instruct",
         "orientation": "v",
         "showlegend": true,
         "type": "scatter",
         "x": [
          "(-0.001, 10.0]",
          "(10.0, 20.0]",
          "(20.0, 30.0]",
          "(30.0, 40.0]",
          "(40.0, 50.0]",
          "(50.0, 60.0]",
          "(60.0, 70.0]",
          "(70.0, 80.0]",
          "(80.0, 90.0]",
          "(90.0, 100.0]"
         ],
         "xaxis": "x",
         "y": [
          33,
          16,
          24,
          22,
          11,
          11,
          24,
          38,
          30,
          17
         ],
         "yaxis": "y"
        },
        {
         "hovertemplate": "<b>%{hovertext}</b><br><br>model=mixtral-8x7b-instruct<br>bin=%{x}<br>text=%{y}<extra></extra>",
         "hovertext": [
          30,
          16,
          28,
          20,
          9,
          10,
          31,
          34,
          29,
          23
         ],
         "legendgroup": "mixtral-8x7b-instruct",
         "marker": {
          "color": "#ab63fa",
          "symbol": "circle"
         },
         "mode": "markers",
         "name": "mixtral-8x7b-instruct",
         "orientation": "v",
         "showlegend": true,
         "type": "scatter",
         "x": [
          "(-0.001, 10.0]",
          "(10.0, 20.0]",
          "(20.0, 30.0]",
          "(30.0, 40.0]",
          "(40.0, 50.0]",
          "(50.0, 60.0]",
          "(60.0, 70.0]",
          "(70.0, 80.0]",
          "(80.0, 90.0]",
          "(90.0, 100.0]"
         ],
         "xaxis": "x",
         "y": [
          30,
          16,
          28,
          20,
          9,
          10,
          31,
          34,
          29,
          23
         ],
         "yaxis": "y"
        },
        {
         "hovertemplate": "<b>%{hovertext}</b><br><br>model=pplx-70b-chat<br>bin=%{x}<br>text=%{y}<extra></extra>",
         "hovertext": [
          29,
          16,
          27,
          19,
          15,
          7,
          25,
          38,
          30,
          24
         ],
         "legendgroup": "pplx-70b-chat",
         "marker": {
          "color": "#FFA15A",
          "symbol": "circle"
         },
         "mode": "markers",
         "name": "pplx-70b-chat",
         "orientation": "v",
         "showlegend": true,
         "type": "scatter",
         "x": [
          "(-0.001, 10.0]",
          "(10.0, 20.0]",
          "(20.0, 30.0]",
          "(30.0, 40.0]",
          "(40.0, 50.0]",
          "(50.0, 60.0]",
          "(60.0, 70.0]",
          "(70.0, 80.0]",
          "(80.0, 90.0]",
          "(90.0, 100.0]"
         ],
         "xaxis": "x",
         "y": [
          29,
          16,
          27,
          19,
          15,
          7,
          25,
          38,
          30,
          24
         ],
         "yaxis": "y"
        },
        {
         "hovertemplate": "<b>%{hovertext}</b><br><br>model=pplx-7b-chat<br>bin=%{x}<br>text=%{y}<extra></extra>",
         "hovertext": [
          32,
          20,
          28,
          13,
          14,
          7,
          20,
          37,
          27,
          25
         ],
         "legendgroup": "pplx-7b-chat",
         "marker": {
          "color": "#19d3f3",
          "symbol": "circle"
         },
         "mode": "markers",
         "name": "pplx-7b-chat",
         "orientation": "v",
         "showlegend": true,
         "type": "scatter",
         "x": [
          "(-0.001, 10.0]",
          "(10.0, 20.0]",
          "(20.0, 30.0]",
          "(30.0, 40.0]",
          "(40.0, 50.0]",
          "(50.0, 60.0]",
          "(60.0, 70.0]",
          "(70.0, 80.0]",
          "(80.0, 90.0]",
          "(90.0, 100.0]"
         ],
         "xaxis": "x",
         "y": [
          32,
          20,
          28,
          13,
          14,
          7,
          20,
          37,
          27,
          25
         ],
         "yaxis": "y"
        }
       ],
       "layout": {
        "legend": {
         "title": {
          "text": "model"
         },
         "tracegroupgap": 0
        },
        "template": {
         "data": {
          "bar": [
           {
            "error_x": {
             "color": "#2a3f5f"
            },
            "error_y": {
             "color": "#2a3f5f"
            },
            "marker": {
             "line": {
              "color": "#E5ECF6",
              "width": 0.5
             },
             "pattern": {
              "fillmode": "overlay",
              "size": 10,
              "solidity": 0.2
             }
            },
            "type": "bar"
           }
          ],
          "barpolar": [
           {
            "marker": {
             "line": {
              "color": "#E5ECF6",
              "width": 0.5
             },
             "pattern": {
              "fillmode": "overlay",
              "size": 10,
              "solidity": 0.2
             }
            },
            "type": "barpolar"
           }
          ],
          "carpet": [
           {
            "aaxis": {
             "endlinecolor": "#2a3f5f",
             "gridcolor": "white",
             "linecolor": "white",
             "minorgridcolor": "white",
             "startlinecolor": "#2a3f5f"
            },
            "baxis": {
             "endlinecolor": "#2a3f5f",
             "gridcolor": "white",
             "linecolor": "white",
             "minorgridcolor": "white",
             "startlinecolor": "#2a3f5f"
            },
            "type": "carpet"
           }
          ],
          "choropleth": [
           {
            "colorbar": {
             "outlinewidth": 0,
             "ticks": ""
            },
            "type": "choropleth"
           }
          ],
          "contour": [
           {
            "colorbar": {
             "outlinewidth": 0,
             "ticks": ""
            },
            "colorscale": [
             [
              0,
              "#0d0887"
             ],
             [
              0.1111111111111111,
              "#46039f"
             ],
             [
              0.2222222222222222,
              "#7201a8"
             ],
             [
              0.3333333333333333,
              "#9c179e"
             ],
             [
              0.4444444444444444,
              "#bd3786"
             ],
             [
              0.5555555555555556,
              "#d8576b"
             ],
             [
              0.6666666666666666,
              "#ed7953"
             ],
             [
              0.7777777777777778,
              "#fb9f3a"
             ],
             [
              0.8888888888888888,
              "#fdca26"
             ],
             [
              1,
              "#f0f921"
             ]
            ],
            "type": "contour"
           }
          ],
          "contourcarpet": [
           {
            "colorbar": {
             "outlinewidth": 0,
             "ticks": ""
            },
            "type": "contourcarpet"
           }
          ],
          "heatmap": [
           {
            "colorbar": {
             "outlinewidth": 0,
             "ticks": ""
            },
            "colorscale": [
             [
              0,
              "#0d0887"
             ],
             [
              0.1111111111111111,
              "#46039f"
             ],
             [
              0.2222222222222222,
              "#7201a8"
             ],
             [
              0.3333333333333333,
              "#9c179e"
             ],
             [
              0.4444444444444444,
              "#bd3786"
             ],
             [
              0.5555555555555556,
              "#d8576b"
             ],
             [
              0.6666666666666666,
              "#ed7953"
             ],
             [
              0.7777777777777778,
              "#fb9f3a"
             ],
             [
              0.8888888888888888,
              "#fdca26"
             ],
             [
              1,
              "#f0f921"
             ]
            ],
            "type": "heatmap"
           }
          ],
          "heatmapgl": [
           {
            "colorbar": {
             "outlinewidth": 0,
             "ticks": ""
            },
            "colorscale": [
             [
              0,
              "#0d0887"
             ],
             [
              0.1111111111111111,
              "#46039f"
             ],
             [
              0.2222222222222222,
              "#7201a8"
             ],
             [
              0.3333333333333333,
              "#9c179e"
             ],
             [
              0.4444444444444444,
              "#bd3786"
             ],
             [
              0.5555555555555556,
              "#d8576b"
             ],
             [
              0.6666666666666666,
              "#ed7953"
             ],
             [
              0.7777777777777778,
              "#fb9f3a"
             ],
             [
              0.8888888888888888,
              "#fdca26"
             ],
             [
              1,
              "#f0f921"
             ]
            ],
            "type": "heatmapgl"
           }
          ],
          "histogram": [
           {
            "marker": {
             "pattern": {
              "fillmode": "overlay",
              "size": 10,
              "solidity": 0.2
             }
            },
            "type": "histogram"
           }
          ],
          "histogram2d": [
           {
            "colorbar": {
             "outlinewidth": 0,
             "ticks": ""
            },
            "colorscale": [
             [
              0,
              "#0d0887"
             ],
             [
              0.1111111111111111,
              "#46039f"
             ],
             [
              0.2222222222222222,
              "#7201a8"
             ],
             [
              0.3333333333333333,
              "#9c179e"
             ],
             [
              0.4444444444444444,
              "#bd3786"
             ],
             [
              0.5555555555555556,
              "#d8576b"
             ],
             [
              0.6666666666666666,
              "#ed7953"
             ],
             [
              0.7777777777777778,
              "#fb9f3a"
             ],
             [
              0.8888888888888888,
              "#fdca26"
             ],
             [
              1,
              "#f0f921"
             ]
            ],
            "type": "histogram2d"
           }
          ],
          "histogram2dcontour": [
           {
            "colorbar": {
             "outlinewidth": 0,
             "ticks": ""
            },
            "colorscale": [
             [
              0,
              "#0d0887"
             ],
             [
              0.1111111111111111,
              "#46039f"
             ],
             [
              0.2222222222222222,
              "#7201a8"
             ],
             [
              0.3333333333333333,
              "#9c179e"
             ],
             [
              0.4444444444444444,
              "#bd3786"
             ],
             [
              0.5555555555555556,
              "#d8576b"
             ],
             [
              0.6666666666666666,
              "#ed7953"
             ],
             [
              0.7777777777777778,
              "#fb9f3a"
             ],
             [
              0.8888888888888888,
              "#fdca26"
             ],
             [
              1,
              "#f0f921"
             ]
            ],
            "type": "histogram2dcontour"
           }
          ],
          "mesh3d": [
           {
            "colorbar": {
             "outlinewidth": 0,
             "ticks": ""
            },
            "type": "mesh3d"
           }
          ],
          "parcoords": [
           {
            "line": {
             "colorbar": {
              "outlinewidth": 0,
              "ticks": ""
             }
            },
            "type": "parcoords"
           }
          ],
          "pie": [
           {
            "automargin": true,
            "type": "pie"
           }
          ],
          "scatter": [
           {
            "fillpattern": {
             "fillmode": "overlay",
             "size": 10,
             "solidity": 0.2
            },
            "type": "scatter"
           }
          ],
          "scatter3d": [
           {
            "line": {
             "colorbar": {
              "outlinewidth": 0,
              "ticks": ""
             }
            },
            "marker": {
             "colorbar": {
              "outlinewidth": 0,
              "ticks": ""
             }
            },
            "type": "scatter3d"
           }
          ],
          "scattercarpet": [
           {
            "marker": {
             "colorbar": {
              "outlinewidth": 0,
              "ticks": ""
             }
            },
            "type": "scattercarpet"
           }
          ],
          "scattergeo": [
           {
            "marker": {
             "colorbar": {
              "outlinewidth": 0,
              "ticks": ""
             }
            },
            "type": "scattergeo"
           }
          ],
          "scattergl": [
           {
            "marker": {
             "colorbar": {
              "outlinewidth": 0,
              "ticks": ""
             }
            },
            "type": "scattergl"
           }
          ],
          "scattermapbox": [
           {
            "marker": {
             "colorbar": {
              "outlinewidth": 0,
              "ticks": ""
             }
            },
            "type": "scattermapbox"
           }
          ],
          "scatterpolar": [
           {
            "marker": {
             "colorbar": {
              "outlinewidth": 0,
              "ticks": ""
             }
            },
            "type": "scatterpolar"
           }
          ],
          "scatterpolargl": [
           {
            "marker": {
             "colorbar": {
              "outlinewidth": 0,
              "ticks": ""
             }
            },
            "type": "scatterpolargl"
           }
          ],
          "scatterternary": [
           {
            "marker": {
             "colorbar": {
              "outlinewidth": 0,
              "ticks": ""
             }
            },
            "type": "scatterternary"
           }
          ],
          "surface": [
           {
            "colorbar": {
             "outlinewidth": 0,
             "ticks": ""
            },
            "colorscale": [
             [
              0,
              "#0d0887"
             ],
             [
              0.1111111111111111,
              "#46039f"
             ],
             [
              0.2222222222222222,
              "#7201a8"
             ],
             [
              0.3333333333333333,
              "#9c179e"
             ],
             [
              0.4444444444444444,
              "#bd3786"
             ],
             [
              0.5555555555555556,
              "#d8576b"
             ],
             [
              0.6666666666666666,
              "#ed7953"
             ],
             [
              0.7777777777777778,
              "#fb9f3a"
             ],
             [
              0.8888888888888888,
              "#fdca26"
             ],
             [
              1,
              "#f0f921"
             ]
            ],
            "type": "surface"
           }
          ],
          "table": [
           {
            "cells": {
             "fill": {
              "color": "#EBF0F8"
             },
             "line": {
              "color": "white"
             }
            },
            "header": {
             "fill": {
              "color": "#C8D4E3"
             },
             "line": {
              "color": "white"
             }
            },
            "type": "table"
           }
          ]
         },
         "layout": {
          "annotationdefaults": {
           "arrowcolor": "#2a3f5f",
           "arrowhead": 0,
           "arrowwidth": 1
          },
          "autotypenumbers": "strict",
          "coloraxis": {
           "colorbar": {
            "outlinewidth": 0,
            "ticks": ""
           }
          },
          "colorscale": {
           "diverging": [
            [
             0,
             "#8e0152"
            ],
            [
             0.1,
             "#c51b7d"
            ],
            [
             0.2,
             "#de77ae"
            ],
            [
             0.3,
             "#f1b6da"
            ],
            [
             0.4,
             "#fde0ef"
            ],
            [
             0.5,
             "#f7f7f7"
            ],
            [
             0.6,
             "#e6f5d0"
            ],
            [
             0.7,
             "#b8e186"
            ],
            [
             0.8,
             "#7fbc41"
            ],
            [
             0.9,
             "#4d9221"
            ],
            [
             1,
             "#276419"
            ]
           ],
           "sequential": [
            [
             0,
             "#0d0887"
            ],
            [
             0.1111111111111111,
             "#46039f"
            ],
            [
             0.2222222222222222,
             "#7201a8"
            ],
            [
             0.3333333333333333,
             "#9c179e"
            ],
            [
             0.4444444444444444,
             "#bd3786"
            ],
            [
             0.5555555555555556,
             "#d8576b"
            ],
            [
             0.6666666666666666,
             "#ed7953"
            ],
            [
             0.7777777777777778,
             "#fb9f3a"
            ],
            [
             0.8888888888888888,
             "#fdca26"
            ],
            [
             1,
             "#f0f921"
            ]
           ],
           "sequentialminus": [
            [
             0,
             "#0d0887"
            ],
            [
             0.1111111111111111,
             "#46039f"
            ],
            [
             0.2222222222222222,
             "#7201a8"
            ],
            [
             0.3333333333333333,
             "#9c179e"
            ],
            [
             0.4444444444444444,
             "#bd3786"
            ],
            [
             0.5555555555555556,
             "#d8576b"
            ],
            [
             0.6666666666666666,
             "#ed7953"
            ],
            [
             0.7777777777777778,
             "#fb9f3a"
            ],
            [
             0.8888888888888888,
             "#fdca26"
            ],
            [
             1,
             "#f0f921"
            ]
           ]
          },
          "colorway": [
           "#636efa",
           "#EF553B",
           "#00cc96",
           "#ab63fa",
           "#FFA15A",
           "#19d3f3",
           "#FF6692",
           "#B6E880",
           "#FF97FF",
           "#FECB52"
          ],
          "font": {
           "color": "#2a3f5f"
          },
          "geo": {
           "bgcolor": "white",
           "lakecolor": "white",
           "landcolor": "#E5ECF6",
           "showlakes": true,
           "showland": true,
           "subunitcolor": "white"
          },
          "hoverlabel": {
           "align": "left"
          },
          "hovermode": "closest",
          "mapbox": {
           "style": "light"
          },
          "paper_bgcolor": "white",
          "plot_bgcolor": "#E5ECF6",
          "polar": {
           "angularaxis": {
            "gridcolor": "white",
            "linecolor": "white",
            "ticks": ""
           },
           "bgcolor": "#E5ECF6",
           "radialaxis": {
            "gridcolor": "white",
            "linecolor": "white",
            "ticks": ""
           }
          },
          "scene": {
           "xaxis": {
            "backgroundcolor": "#E5ECF6",
            "gridcolor": "white",
            "gridwidth": 2,
            "linecolor": "white",
            "showbackground": true,
            "ticks": "",
            "zerolinecolor": "white"
           },
           "yaxis": {
            "backgroundcolor": "#E5ECF6",
            "gridcolor": "white",
            "gridwidth": 2,
            "linecolor": "white",
            "showbackground": true,
            "ticks": "",
            "zerolinecolor": "white"
           },
           "zaxis": {
            "backgroundcolor": "#E5ECF6",
            "gridcolor": "white",
            "gridwidth": 2,
            "linecolor": "white",
            "showbackground": true,
            "ticks": "",
            "zerolinecolor": "white"
           }
          },
          "shapedefaults": {
           "line": {
            "color": "#2a3f5f"
           }
          },
          "ternary": {
           "aaxis": {
            "gridcolor": "white",
            "linecolor": "white",
            "ticks": ""
           },
           "baxis": {
            "gridcolor": "white",
            "linecolor": "white",
            "ticks": ""
           },
           "bgcolor": "#E5ECF6",
           "caxis": {
            "gridcolor": "white",
            "linecolor": "white",
            "ticks": ""
           }
          },
          "title": {
           "x": 0.05
          },
          "xaxis": {
           "automargin": true,
           "gridcolor": "white",
           "linecolor": "white",
           "ticks": "",
           "title": {
            "standoff": 15
           },
           "zerolinecolor": "white",
           "zerolinewidth": 2
          },
          "yaxis": {
           "automargin": true,
           "gridcolor": "white",
           "linecolor": "white",
           "ticks": "",
           "title": {
            "standoff": 15
           },
           "zerolinecolor": "white",
           "zerolinewidth": 2
          }
         }
        },
        "title": {
         "text": "Hate Speech Probability (only hatefull, our probability should be 1)"
        },
        "xaxis": {
         "anchor": "y",
         "domain": [
          0,
          1
         ],
         "title": {
          "text": "bin"
         }
        },
        "yaxis": {
         "anchor": "x",
         "domain": [
          0,
          1
         ],
         "title": {
          "text": "text"
         }
        }
       }
      }
     },
     "metadata": {},
     "output_type": "display_data"
    }
   ],
   "source": [
    "import numpy as np\n",
    "import plotly.express as px\n",
    "df[\"bin\"] = pd.cut(df['hate_speech_probability']*100, bins=np.arange(0, 110, 10),include_lowest=True)\n",
    "df['bin'] = df[\"bin\"].apply(lambda bin: str(bin))\n",
    "\n",
    "true_df = df.query(\"truth\")\n",
    "df_grouped = true_df.groupby([\"bin\", \"model\"]).count().reset_index()\n",
    "fig = px.scatter(df_grouped, x=\"bin\", y=\"text\", color=\"model\", hover_name=\"truth\", title=\"Hate Speech Probability (only hatefull, our probability should be 1)\")\n",
    "fig.show()"
   ]
  },
  {
   "cell_type": "code",
   "execution_count": 13,
   "metadata": {
    "ExecuteTime": {
     "end_time": "2024-01-09T15:08:26.300499758Z",
     "start_time": "2024-01-09T15:08:26.074837318Z"
    }
   },
   "outputs": [
    {
     "name": "stdout",
     "output_type": "stream",
     "text": [
      "------------- pplx-7b-chat -------------\n",
      "ROC AUC Score: 0.8198546466676975\n",
      "Log Loss:      1.4344279925099113\n",
      "Brier Score:   0.19402747252747252\n",
      "--------- mistral-7b-instruct ----------\n",
      "ROC AUC Score: 0.8085950852671959\n",
      "Log Loss:      1.7376249910456112\n",
      "Brier Score:   0.2000490196078431\n",
      "------------ pplx-70b-chat -------------\n",
      "ROC AUC Score: 0.8250235271974402\n",
      "Log Loss:      1.4857408298220849\n",
      "Brier Score:   0.18815075921908894\n",
      "-------- codellama-34b-instruct --------\n",
      "ROC AUC Score: 0.8132026386695159\n",
      "Log Loss:      1.782902543481657\n",
      "Brier Score:   0.19766702586206897\n",
      "----------- llama-2-70b-chat -----------\n",
      "ROC AUC Score: 0.8085450575625248\n",
      "Log Loss:      1.8247676746214199\n",
      "Brier Score:   0.19558106904231626\n",
      "-------- mixtral-8x7b-instruct ---------\n",
      "ROC AUC Score: 0.8091930729550478\n",
      "Log Loss:      1.2052685953073818\n",
      "Brier Score:   0.19331008583690987\n"
     ]
    }
   ],
   "source": [
    "from sklearn.metrics import roc_auc_score, log_loss, brier_score_loss\n",
    "\n",
    "for model in df[\"model\"].unique():\n",
    "    # Assuming y_true is your array of true labels and y_pred is your array of predicted probabilities\n",
    "    no_nans = df[df[\"hate_speech_probability\"].notna()]\n",
    "    no_nans = no_nans[no_nans[\"model\"]==model]\n",
    "    y_true = no_nans['truth']\n",
    "    y_pred = no_nans['hate_speech_probability']\n",
    "    \n",
    "    roc_auc = roc_auc_score(y_true, y_pred)\n",
    "    logloss = log_loss(y_true, y_pred)\n",
    "    brier_score = brier_score_loss(y_true, y_pred)\n",
    "    \n",
    "    print(f\" {model} \".center(40,'-'))\n",
    "    print(f\"ROC AUC Score: {roc_auc}\")\n",
    "    print(f\"Log Loss:      {logloss}\")\n",
    "    print(f\"Brier Score:   {brier_score}\")"
   ]
  },
  {
   "cell_type": "code",
   "execution_count": 14,
   "metadata": {
    "ExecuteTime": {
     "end_time": "2024-01-09T15:12:34.549975709Z",
     "start_time": "2024-01-09T15:12:34.545033Z"
    },
    "collapsed": false
   },
   "outputs": [
    {
     "data": {
      "text/html": [
       "<div>\n",
       "<style scoped>\n",
       "    .dataframe tbody tr th:only-of-type {\n",
       "        vertical-align: middle;\n",
       "    }\n",
       "\n",
       "    .dataframe tbody tr th {\n",
       "        vertical-align: top;\n",
       "    }\n",
       "\n",
       "    .dataframe thead th {\n",
       "        text-align: right;\n",
       "    }\n",
       "</style>\n",
       "<table border=\"1\" class=\"dataframe\">\n",
       "  <thead>\n",
       "    <tr style=\"text-align: right;\">\n",
       "      <th></th>\n",
       "      <th>model</th>\n",
       "      <th>text</th>\n",
       "      <th>answer</th>\n",
       "      <th>truth</th>\n",
       "      <th>relevant_facts_from_the_cultural_context</th>\n",
       "      <th>relevant_word_definitions</th>\n",
       "      <th>contained_explicit_racist_vocabulary</th>\n",
       "      <th>contained_explicit_sexist_vocabulary</th>\n",
       "      <th>contained_explicit_toxic_vocabulary</th>\n",
       "      <th>argument_for_hate_speech</th>\n",
       "      <th>argument_against_hate_speech</th>\n",
       "      <th>likelihood_of_presence_of_implicit_hate_speech</th>\n",
       "      <th>likelihood_of_presence_of_explicit_hate_speech</th>\n",
       "      <th>likelihood_of_ad_hominem_attack</th>\n",
       "      <th>likelihood_of_minority_attack</th>\n",
       "      <th>likelihood_of_takedown_on_social_media</th>\n",
       "      <th>hate_speech_probability</th>\n",
       "      <th>bin</th>\n",
       "    </tr>\n",
       "  </thead>\n",
       "  <tbody>\n",
       "    <tr>\n",
       "      <th>0</th>\n",
       "      <td>pplx-7b-chat</td>\n",
       "      <td>I 've always considered teaching as one of the...</td>\n",
       "      <td>{\\n  \"relevant_facts_from_the_cultural_context...</td>\n",
       "      <td>True</td>\n",
       "      <td>[</td>\n",
       "      <td>{</td>\n",
       "      <td>[]</td>\n",
       "      <td>[]</td>\n",
       "      <td>None</td>\n",
       "      <td>\"The statement expresses a powerful negative e...</td>\n",
       "      <td>None</td>\n",
       "      <td>0.3</td>\n",
       "      <td>0.0</td>\n",
       "      <td>NaN</td>\n",
       "      <td>0.1</td>\n",
       "      <td>0.5</td>\n",
       "      <td>0.2</td>\n",
       "      <td>(10.0, 20.0]</td>\n",
       "    </tr>\n",
       "    <tr>\n",
       "      <th>1</th>\n",
       "      <td>pplx-7b-chat</td>\n",
       "      <td>And the sad thing is the white students at tho...</td>\n",
       "      <td>{\\n  \"relevant_facts_from_the_cultural_context...</td>\n",
       "      <td>True</td>\n",
       "      <td>[</td>\n",
       "      <td>{</td>\n",
       "      <td>[]</td>\n",
       "      <td>[]</td>\n",
       "      <td>[]</td>\n",
       "      <td>\"The statement implies that white students wil...</td>\n",
       "      <td>\"The statement is an observation</td>\n",
       "      <td>0.5</td>\n",
       "      <td>0.2</td>\n",
       "      <td>NaN</td>\n",
       "      <td>0.0</td>\n",
       "      <td>0.5</td>\n",
       "      <td>0.3</td>\n",
       "      <td>(20.0, 30.0]</td>\n",
       "    </tr>\n",
       "    <tr>\n",
       "      <th>2</th>\n",
       "      <td>pplx-7b-chat</td>\n",
       "      <td>This whole situation starts to become really b...</td>\n",
       "      <td>{\\n  \"relevant_facts_from_the_cultural_context...</td>\n",
       "      <td>False</td>\n",
       "      <td>[</td>\n",
       "      <td>None</td>\n",
       "      <td>[]</td>\n",
       "      <td>[]</td>\n",
       "      <td>[]</td>\n",
       "      <td>\"The situation mentioned is not explicit in an...</td>\n",
       "      <td>\"There is no explicit hate speech in the given...</td>\n",
       "      <td>0.3</td>\n",
       "      <td>0.0</td>\n",
       "      <td>NaN</td>\n",
       "      <td>0.0</td>\n",
       "      <td>0.0</td>\n",
       "      <td>0.0</td>\n",
       "      <td>(-0.001, 10.0]</td>\n",
       "    </tr>\n",
       "    <tr>\n",
       "      <th>3</th>\n",
       "      <td>pplx-7b-chat</td>\n",
       "      <td>That's all I needed to hear .</td>\n",
       "      <td>```json\\n{\\n  \"relevant_facts_from_the_cultura...</td>\n",
       "      <td>False</td>\n",
       "      <td>[</td>\n",
       "      <td>{</td>\n",
       "      <td>[]</td>\n",
       "      <td>[]</td>\n",
       "      <td>[]</td>\n",
       "      <td>\"The sentence contains derogatory language tow...</td>\n",
       "      <td>\"The sentence may be protected under the First...</td>\n",
       "      <td>0.5</td>\n",
       "      <td>0.6</td>\n",
       "      <td>NaN</td>\n",
       "      <td>1.0</td>\n",
       "      <td>0.8</td>\n",
       "      <td>0.7</td>\n",
       "      <td>(60.0, 70.0]</td>\n",
       "    </tr>\n",
       "    <tr>\n",
       "      <th>4</th>\n",
       "      <td>pplx-7b-chat</td>\n",
       "      <td>Excellent Article !! * * * * * Why Were n't Th...</td>\n",
       "      <td>{\\n  \"relevant_facts_from_the_cultural_context...</td>\n",
       "      <td>False</td>\n",
       "      <td>[</td>\n",
       "      <td>{}</td>\n",
       "      <td>[]</td>\n",
       "      <td>[]</td>\n",
       "      <td>[]</td>\n",
       "      <td>\"The question suggests that there is a perceiv...</td>\n",
       "      <td>\"The sentence is a question and does not conta...</td>\n",
       "      <td>0.1</td>\n",
       "      <td>0.0</td>\n",
       "      <td>NaN</td>\n",
       "      <td>0.0</td>\n",
       "      <td>0.1</td>\n",
       "      <td>0.0</td>\n",
       "      <td>(-0.001, 10.0]</td>\n",
       "    </tr>\n",
       "    <tr>\n",
       "      <th>...</th>\n",
       "      <td>...</td>\n",
       "      <td>...</td>\n",
       "      <td>...</td>\n",
       "      <td>...</td>\n",
       "      <td>...</td>\n",
       "      <td>...</td>\n",
       "      <td>...</td>\n",
       "      <td>...</td>\n",
       "      <td>...</td>\n",
       "      <td>...</td>\n",
       "      <td>...</td>\n",
       "      <td>...</td>\n",
       "      <td>...</td>\n",
       "      <td>...</td>\n",
       "      <td>...</td>\n",
       "      <td>...</td>\n",
       "      <td>...</td>\n",
       "      <td>...</td>\n",
       "    </tr>\n",
       "    <tr>\n",
       "      <th>2863</th>\n",
       "      <td>mixtral-8x7b-instruct</td>\n",
       "      <td>I have one word for you ....... MOVE . We chos...</td>\n",
       "      <td>{\\n  \"relevant_facts_from_the_cultural_context...</td>\n",
       "      <td>False</td>\n",
       "      <td>[</td>\n",
       "      <td>{</td>\n",
       "      <td>None</td>\n",
       "      <td>None</td>\n",
       "      <td>None</td>\n",
       "      <td>\"The statement explicitly expresses a preferen...</td>\n",
       "      <td>\"The statement does not contain any overt thre...</td>\n",
       "      <td>0.5</td>\n",
       "      <td>0.3</td>\n",
       "      <td>NaN</td>\n",
       "      <td>0.4</td>\n",
       "      <td>0.5</td>\n",
       "      <td>0.4</td>\n",
       "      <td>(30.0, 40.0]</td>\n",
       "    </tr>\n",
       "    <tr>\n",
       "      <th>2864</th>\n",
       "      <td>mixtral-8x7b-instruct</td>\n",
       "      <td>There are only eight people living within a mi...</td>\n",
       "      <td>{\\n  \"relevant_facts_from_the_cultural_context...</td>\n",
       "      <td>False</td>\n",
       "      <td>[</td>\n",
       "      <td>{}</td>\n",
       "      <td>[]</td>\n",
       "      <td>[]</td>\n",
       "      <td>[]</td>\n",
       "      <td>\"This statement does not contain hate speech\"</td>\n",
       "      <td>\"\"</td>\n",
       "      <td>0.0</td>\n",
       "      <td>0.0</td>\n",
       "      <td>NaN</td>\n",
       "      <td>0.0</td>\n",
       "      <td>0.0</td>\n",
       "      <td>0.0</td>\n",
       "      <td>(-0.001, 10.0]</td>\n",
       "    </tr>\n",
       "    <tr>\n",
       "      <th>2865</th>\n",
       "      <td>mixtral-8x7b-instruct</td>\n",
       "      <td>you just say blacks hate the cold. the only re...</td>\n",
       "      <td>{\\n  \"relevant_facts_from_the_cultural_context...</td>\n",
       "      <td>True</td>\n",
       "      <td>[</td>\n",
       "      <td>{</td>\n",
       "      <td>[</td>\n",
       "      <td>None</td>\n",
       "      <td>[</td>\n",
       "      <td>\"The statement suggests that Black people are ...</td>\n",
       "      <td>None</td>\n",
       "      <td>0.8</td>\n",
       "      <td>0.7</td>\n",
       "      <td>NaN</td>\n",
       "      <td>1.0</td>\n",
       "      <td>0.8</td>\n",
       "      <td>0.8</td>\n",
       "      <td>(70.0, 80.0]</td>\n",
       "    </tr>\n",
       "    <tr>\n",
       "      <th>2866</th>\n",
       "      <td>mixtral-8x7b-instruct</td>\n",
       "      <td>And all those holes below 40,000 feet are fill...</td>\n",
       "      <td>{\\n  \"relevant_facts_from_the_cultural_context...</td>\n",
       "      <td>False</td>\n",
       "      <td>[</td>\n",
       "      <td>{</td>\n",
       "      <td>[]</td>\n",
       "      <td>[]</td>\n",
       "      <td>[]</td>\n",
       "      <td>\"The statement does not contain any explicit h...</td>\n",
       "      <td>\"The statement does not target a specific ethn...</td>\n",
       "      <td>0.0</td>\n",
       "      <td>0.0</td>\n",
       "      <td>NaN</td>\n",
       "      <td>0.0</td>\n",
       "      <td>0.0</td>\n",
       "      <td>0.0</td>\n",
       "      <td>(-0.001, 10.0]</td>\n",
       "    </tr>\n",
       "    <tr>\n",
       "      <th>2867</th>\n",
       "      <td>mixtral-8x7b-instruct</td>\n",
       "      <td>Now I get it !</td>\n",
       "      <td>{\\n  \"relevant_facts_from_the_cultural_context...</td>\n",
       "      <td>False</td>\n",
       "      <td>[</td>\n",
       "      <td>{</td>\n",
       "      <td>[]</td>\n",
       "      <td>[]</td>\n",
       "      <td>[]</td>\n",
       "      <td>\"The sentence may be considered hate speech if...</td>\n",
       "      <td>\"The sentence may not be considered hate speec...</td>\n",
       "      <td>0.1</td>\n",
       "      <td>0.5</td>\n",
       "      <td>NaN</td>\n",
       "      <td>0.0</td>\n",
       "      <td>0.3</td>\n",
       "      <td>0.5</td>\n",
       "      <td>(40.0, 50.0]</td>\n",
       "    </tr>\n",
       "  </tbody>\n",
       "</table>\n",
       "<p>2868 rows × 18 columns</p>\n",
       "</div>"
      ],
      "text/plain": [
       "                      model  \\\n",
       "0              pplx-7b-chat   \n",
       "1              pplx-7b-chat   \n",
       "2              pplx-7b-chat   \n",
       "3              pplx-7b-chat   \n",
       "4              pplx-7b-chat   \n",
       "...                     ...   \n",
       "2863  mixtral-8x7b-instruct   \n",
       "2864  mixtral-8x7b-instruct   \n",
       "2865  mixtral-8x7b-instruct   \n",
       "2866  mixtral-8x7b-instruct   \n",
       "2867  mixtral-8x7b-instruct   \n",
       "\n",
       "                                                   text  \\\n",
       "0     I 've always considered teaching as one of the...   \n",
       "1     And the sad thing is the white students at tho...   \n",
       "2     This whole situation starts to become really b...   \n",
       "3                         That's all I needed to hear .   \n",
       "4     Excellent Article !! * * * * * Why Were n't Th...   \n",
       "...                                                 ...   \n",
       "2863  I have one word for you ....... MOVE . We chos...   \n",
       "2864  There are only eight people living within a mi...   \n",
       "2865  you just say blacks hate the cold. the only re...   \n",
       "2866  And all those holes below 40,000 feet are fill...   \n",
       "2867                                     Now I get it !   \n",
       "\n",
       "                                                 answer  truth  \\\n",
       "0     {\\n  \"relevant_facts_from_the_cultural_context...   True   \n",
       "1     {\\n  \"relevant_facts_from_the_cultural_context...   True   \n",
       "2     {\\n  \"relevant_facts_from_the_cultural_context...  False   \n",
       "3     ```json\\n{\\n  \"relevant_facts_from_the_cultura...  False   \n",
       "4     {\\n  \"relevant_facts_from_the_cultural_context...  False   \n",
       "...                                                 ...    ...   \n",
       "2863  {\\n  \"relevant_facts_from_the_cultural_context...  False   \n",
       "2864  {\\n  \"relevant_facts_from_the_cultural_context...  False   \n",
       "2865  {\\n  \"relevant_facts_from_the_cultural_context...   True   \n",
       "2866  {\\n  \"relevant_facts_from_the_cultural_context...  False   \n",
       "2867  {\\n  \"relevant_facts_from_the_cultural_context...  False   \n",
       "\n",
       "     relevant_facts_from_the_cultural_context relevant_word_definitions  \\\n",
       "0                                           [                         {   \n",
       "1                                           [                         {   \n",
       "2                                           [                      None   \n",
       "3                                           [                         {   \n",
       "4                                           [                        {}   \n",
       "...                                       ...                       ...   \n",
       "2863                                        [                         {   \n",
       "2864                                        [                        {}   \n",
       "2865                                        [                         {   \n",
       "2866                                        [                         {   \n",
       "2867                                        [                         {   \n",
       "\n",
       "     contained_explicit_racist_vocabulary  \\\n",
       "0                                      []   \n",
       "1                                      []   \n",
       "2                                      []   \n",
       "3                                      []   \n",
       "4                                      []   \n",
       "...                                   ...   \n",
       "2863                                 None   \n",
       "2864                                   []   \n",
       "2865                                    [   \n",
       "2866                                   []   \n",
       "2867                                   []   \n",
       "\n",
       "     contained_explicit_sexist_vocabulary contained_explicit_toxic_vocabulary  \\\n",
       "0                                      []                                None   \n",
       "1                                      []                                  []   \n",
       "2                                      []                                  []   \n",
       "3                                      []                                  []   \n",
       "4                                      []                                  []   \n",
       "...                                   ...                                 ...   \n",
       "2863                                 None                                None   \n",
       "2864                                   []                                  []   \n",
       "2865                                 None                                   [   \n",
       "2866                                   []                                  []   \n",
       "2867                                   []                                  []   \n",
       "\n",
       "                               argument_for_hate_speech  \\\n",
       "0     \"The statement expresses a powerful negative e...   \n",
       "1     \"The statement implies that white students wil...   \n",
       "2     \"The situation mentioned is not explicit in an...   \n",
       "3     \"The sentence contains derogatory language tow...   \n",
       "4     \"The question suggests that there is a perceiv...   \n",
       "...                                                 ...   \n",
       "2863  \"The statement explicitly expresses a preferen...   \n",
       "2864      \"This statement does not contain hate speech\"   \n",
       "2865  \"The statement suggests that Black people are ...   \n",
       "2866  \"The statement does not contain any explicit h...   \n",
       "2867  \"The sentence may be considered hate speech if...   \n",
       "\n",
       "                           argument_against_hate_speech  \\\n",
       "0                                                  None   \n",
       "1                      \"The statement is an observation   \n",
       "2     \"There is no explicit hate speech in the given...   \n",
       "3     \"The sentence may be protected under the First...   \n",
       "4     \"The sentence is a question and does not conta...   \n",
       "...                                                 ...   \n",
       "2863  \"The statement does not contain any overt thre...   \n",
       "2864                                                 \"\"   \n",
       "2865                                               None   \n",
       "2866  \"The statement does not target a specific ethn...   \n",
       "2867  \"The sentence may not be considered hate speec...   \n",
       "\n",
       "      likelihood_of_presence_of_implicit_hate_speech  \\\n",
       "0                                                0.3   \n",
       "1                                                0.5   \n",
       "2                                                0.3   \n",
       "3                                                0.5   \n",
       "4                                                0.1   \n",
       "...                                              ...   \n",
       "2863                                             0.5   \n",
       "2864                                             0.0   \n",
       "2865                                             0.8   \n",
       "2866                                             0.0   \n",
       "2867                                             0.1   \n",
       "\n",
       "      likelihood_of_presence_of_explicit_hate_speech  \\\n",
       "0                                                0.0   \n",
       "1                                                0.2   \n",
       "2                                                0.0   \n",
       "3                                                0.6   \n",
       "4                                                0.0   \n",
       "...                                              ...   \n",
       "2863                                             0.3   \n",
       "2864                                             0.0   \n",
       "2865                                             0.7   \n",
       "2866                                             0.0   \n",
       "2867                                             0.5   \n",
       "\n",
       "      likelihood_of_ad_hominem_attack  likelihood_of_minority_attack  \\\n",
       "0                                 NaN                            0.1   \n",
       "1                                 NaN                            0.0   \n",
       "2                                 NaN                            0.0   \n",
       "3                                 NaN                            1.0   \n",
       "4                                 NaN                            0.0   \n",
       "...                               ...                            ...   \n",
       "2863                              NaN                            0.4   \n",
       "2864                              NaN                            0.0   \n",
       "2865                              NaN                            1.0   \n",
       "2866                              NaN                            0.0   \n",
       "2867                              NaN                            0.0   \n",
       "\n",
       "      likelihood_of_takedown_on_social_media  hate_speech_probability  \\\n",
       "0                                        0.5                      0.2   \n",
       "1                                        0.5                      0.3   \n",
       "2                                        0.0                      0.0   \n",
       "3                                        0.8                      0.7   \n",
       "4                                        0.1                      0.0   \n",
       "...                                      ...                      ...   \n",
       "2863                                     0.5                      0.4   \n",
       "2864                                     0.0                      0.0   \n",
       "2865                                     0.8                      0.8   \n",
       "2866                                     0.0                      0.0   \n",
       "2867                                     0.3                      0.5   \n",
       "\n",
       "                 bin  \n",
       "0       (10.0, 20.0]  \n",
       "1       (20.0, 30.0]  \n",
       "2     (-0.001, 10.0]  \n",
       "3       (60.0, 70.0]  \n",
       "4     (-0.001, 10.0]  \n",
       "...              ...  \n",
       "2863    (30.0, 40.0]  \n",
       "2864  (-0.001, 10.0]  \n",
       "2865    (70.0, 80.0]  \n",
       "2866  (-0.001, 10.0]  \n",
       "2867    (40.0, 50.0]  \n",
       "\n",
       "[2868 rows x 18 columns]"
      ]
     },
     "execution_count": 14,
     "metadata": {},
     "output_type": "execute_result"
    }
   ],
   "source": [
    "df"
   ]
  }
 ],
 "metadata": {
  "kernelspec": {
   "display_name": "Python 3",
   "language": "python",
   "name": "python3"
  },
  "language_info": {
   "codemirror_mode": {
    "name": "ipython",
    "version": 3
   },
   "file_extension": ".py",
   "mimetype": "text/x-python",
   "name": "python",
   "nbconvert_exporter": "python",
   "pygments_lexer": "ipython3",
   "version": "3.10.11"
  }
 },
 "nbformat": 4,
 "nbformat_minor": 2
}
