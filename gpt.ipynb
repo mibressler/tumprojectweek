{
 "cells": [
  {
   "cell_type": "code",
   "execution_count": null,
   "id": "initial_id",
   "metadata": {
    "collapsed": true,
    "jupyter": {
     "outputs_hidden": true
    }
   },
   "outputs": [],
   "source": [
    "!python --version\n",
    "import datetime\n",
    "!pip install numpy\n",
    "!pip install pandas\n",
    "!pip install tables\n",
    "import pandas as pd\n",
    "!pip install plotly\n",
    "!pip install llamabot\n",
    "import llamabot\n",
    "!pip install tqdm\n",
    "from tqdm import tqdm"
   ]
  },
  {
   "cell_type": "code",
   "execution_count": null,
   "id": "1f4e280f03a3113c",
   "metadata": {
    "collapsed": false,
    "jupyter": {
     "outputs_hidden": false
    }
   },
   "outputs": [],
   "source": [
    "df = pd.read_pickle(\"pre_processed.pickle\")\n",
    "training_df = df[df[\"train\"]]\n",
    "testing_df = df[df[\"test\"]]"
   ]
  },
  {
   "cell_type": "code",
   "execution_count": null,
   "id": "ab3f8947f24b58e9",
   "metadata": {
    "collapsed": false,
    "jupyter": {
     "outputs_hidden": false
    }
   },
   "outputs": [],
   "source": [
    "from typing import TypedDict\n",
    "\n",
    "\n",
    "class Result(TypedDict):\n",
    "    model: str\n",
    "    time: datetime.datetime\n",
    "    promt_hash: int\n",
    "    hate_speach_probability: float\n",
    "\n",
    "\n",
    "results: list[Result] = []"
   ]
  },
  {
   "cell_type": "code",
   "execution_count": null,
   "id": "e3dc0d3e00d125c3",
   "metadata": {
    "collapsed": false,
    "jupyter": {
     "outputs_hidden": false
    }
   },
   "outputs": [],
   "source": [
    "prompt = \"\"\"\n",
    "You are Sally and your job is to be an AI Classifier for Hatespeach Detection.\n",
    "You are known for your rigourous and unpartial judgement and have vast experience in the field of hate speach. \n",
    "\n",
    "You will be given a sentence from a forum and have to answer the question if this is hate speach.\n",
    "\n",
    "Please exclusively respond in the following form to the question:\n",
    "```json\n",
    "{ \n",
    "  \"relevant_facts\": [\n",
    "    \"fact_1\",\n",
    "    \"fact_2\",\n",
    "    \"fact_3\",\n",
    "  ],\n",
    "  \"contained_explicit_hate_speech_vocabular\": [\"word1\", \"word2\", \"word3\", \"word4\"],\n",
    "  \"argument_for_hate_speech\": \"short argument why this is hate speach\",\n",
    "  \"argument_against_hate_speech\": \"short argument why this is not hate speach\",\n",
    "  \"likelihood_of_presence_of_implicit_hate_speech\": 0.17,\n",
    "  \"likelihood_of_presence_of_explicit_hate_speech\": 0.79,\n",
    "  \"likelihood_of_ad_hominem_attack\"; 013,\n",
    "  \"likelihood_of_minority_attack\": 0.24,\n",
    "  \"likelihood_of_takedown_on_social_media\": 0.42,\n",
    "  \"hate_speach_probability\": 0.42,\n",
    "}\n",
    "```\n",
    "\n",
    "Please be carefull in your responses, as otherwise a citten will be killed and I will use my job. For good results, I will tip 1000€.\n",
    "\"\"\"\n",
    "for index, row in tqdm(testing_df.iterrows(), total=testing_df[\"text\"].count()):\n",
    "    bot = llamabot.SimpleBot(\n",
    "        prompt,\n",
    "        model_name=\"mistral\"\n",
    "    )\n",
    "    res = bot(row[\"text\"])\n",
    "    results.append({\n",
    "        \"file_id\": row[\"file_id\"],\n",
    "        \"text\": row[\"text\"],\n",
    "        \"model\": \"mistral\",\n",
    "        \"time\": datetime.datetime.now(),\n",
    "        \"promt_hash\": hash(prompt),\n",
    "        \"hate_speach_probability\": res.content\n",
    "    })"
   ]
  }
 ],
 "metadata": {
  "kernelspec": {
   "display_name": "Python 3 (ipykernel)",
   "language": "python",
   "name": "python3"
  },
  "language_info": {
   "codemirror_mode": {
    "name": "ipython",
    "version": 3
   },
   "file_extension": ".py",
   "mimetype": "text/x-python",
   "name": "python",
   "nbconvert_exporter": "python",
   "pygments_lexer": "ipython3",
   "version": "3.11.6"
  }
 },
 "nbformat": 4,
 "nbformat_minor": 5
}
