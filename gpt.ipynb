{
 "cells": [
  {
   "cell_type": "code",
   "execution_count": 23,
   "id": "initial_id",
   "metadata": {
    "collapsed": true,
    "ExecuteTime": {
     "end_time": "2024-01-08T11:50:00.020103562Z",
     "start_time": "2024-01-08T11:49:49.461714170Z"
    }
   },
   "outputs": [
    {
     "name": "stdout",
     "output_type": "stream",
     "text": [
      "Requirement already satisfied: numpy in ./venv/lib/python3.11/site-packages (1.26.3)\r\n",
      "Requirement already satisfied: pandas in ./venv/lib/python3.11/site-packages (2.1.4)\r\n",
      "Requirement already satisfied: numpy<2,>=1.23.2 in ./venv/lib/python3.11/site-packages (from pandas) (1.26.3)\r\n",
      "Requirement already satisfied: python-dateutil>=2.8.2 in ./venv/lib/python3.11/site-packages (from pandas) (2.8.2)\r\n",
      "Requirement already satisfied: pytz>=2020.1 in ./venv/lib/python3.11/site-packages (from pandas) (2023.3.post1)\r\n",
      "Requirement already satisfied: tzdata>=2022.1 in ./venv/lib/python3.11/site-packages (from pandas) (2023.4)\r\n",
      "Requirement already satisfied: six>=1.5 in ./venv/lib/python3.11/site-packages (from python-dateutil>=2.8.2->pandas) (1.16.0)\r\n",
      "Collecting tables\r\n",
      "  Downloading tables-3.9.2-cp311-cp311-manylinux_2_17_x86_64.manylinux2014_x86_64.whl.metadata (2.3 kB)\r\n",
      "Requirement already satisfied: numpy>=1.19.0 in ./venv/lib/python3.11/site-packages (from tables) (1.26.3)\r\n",
      "Collecting numexpr>=2.6.2 (from tables)\r\n",
      "  Downloading numexpr-2.8.8-cp311-cp311-manylinux_2_17_x86_64.manylinux2014_x86_64.whl.metadata (7.9 kB)\r\n",
      "Requirement already satisfied: packaging in ./venv/lib/python3.11/site-packages (from tables) (23.2)\r\n",
      "Collecting py-cpuinfo (from tables)\r\n",
      "  Using cached py_cpuinfo-9.0.0-py3-none-any.whl (22 kB)\r\n",
      "Collecting blosc2>=2.3.0 (from tables)\r\n",
      "  Downloading blosc2-2.4.0-cp311-cp311-manylinux_2_17_x86_64.manylinux2014_x86_64.whl.metadata (9.1 kB)\r\n",
      "Collecting ndindex>=1.4 (from blosc2>=2.3.0->tables)\r\n",
      "  Downloading ndindex-1.7-py3-none-any.whl (85 kB)\r\n",
      "\u001B[2K     \u001B[90m━━━━━━━━━━━━━━━━━━━━━━━━━━━━━━━━━━━━━━━━\u001B[0m \u001B[32m85.7/85.7 kB\u001B[0m \u001B[31m1.4 MB/s\u001B[0m eta \u001B[36m0:00:00\u001B[0m-:--:--\u001B[0m\r\n",
      "\u001B[?25hCollecting msgpack (from blosc2>=2.3.0->tables)\r\n",
      "  Downloading msgpack-1.0.7-cp311-cp311-manylinux_2_17_x86_64.manylinux2014_x86_64.whl.metadata (9.1 kB)\r\n",
      "Downloading tables-3.9.2-cp311-cp311-manylinux_2_17_x86_64.manylinux2014_x86_64.whl (7.5 MB)\r\n",
      "\u001B[2K   \u001B[90m━━━━━━━━━━━━━━━━━━━━━━━━━━━━━━━━━━━━━━━━\u001B[0m \u001B[32m7.5/7.5 MB\u001B[0m \u001B[31m6.9 MB/s\u001B[0m eta \u001B[36m0:00:00\u001B[0m00:01\u001B[0m00:01\u001B[0m\r\n",
      "\u001B[?25hDownloading blosc2-2.4.0-cp311-cp311-manylinux_2_17_x86_64.manylinux2014_x86_64.whl (4.4 MB)\r\n",
      "\u001B[2K   \u001B[90m━━━━━━━━━━━━━━━━━━━━━━━━━━━━━━━━━━━━━━━━\u001B[0m \u001B[32m4.4/4.4 MB\u001B[0m \u001B[31m10.2 MB/s\u001B[0m eta \u001B[36m0:00:00\u001B[0m00:01\u001B[0m00:01\u001B[0m\r\n",
      "\u001B[?25hDownloading numexpr-2.8.8-cp311-cp311-manylinux_2_17_x86_64.manylinux2014_x86_64.whl (377 kB)\r\n",
      "\u001B[2K   \u001B[90m━━━━━━━━━━━━━━━━━━━━━━━━━━━━━━━━━━━━━━━━\u001B[0m \u001B[32m377.2/377.2 kB\u001B[0m \u001B[31m7.1 MB/s\u001B[0m eta \u001B[36m0:00:00\u001B[0mta \u001B[36m0:00:01\u001B[0m\r\n",
      "\u001B[?25hDownloading msgpack-1.0.7-cp311-cp311-manylinux_2_17_x86_64.manylinux2014_x86_64.whl (557 kB)\r\n",
      "\u001B[2K   \u001B[90m━━━━━━━━━━━━━━━━━━━━━━━━━━━━━━━━━━━━━━━━\u001B[0m \u001B[32m558.0/558.0 kB\u001B[0m \u001B[31m10.1 MB/s\u001B[0m eta \u001B[36m0:00:00\u001B[0ma \u001B[36m0:00:01\u001B[0m\r\n",
      "\u001B[?25hInstalling collected packages: py-cpuinfo, numexpr, ndindex, msgpack, blosc2, tables\r\n",
      "Successfully installed blosc2-2.4.0 msgpack-1.0.7 ndindex-1.7 numexpr-2.8.8 py-cpuinfo-9.0.0 tables-3.9.2\r\n",
      "Requirement already satisfied: plotly in ./venv/lib/python3.11/site-packages (5.18.0)\r\n",
      "Requirement already satisfied: tenacity>=6.2.0 in ./venv/lib/python3.11/site-packages (from plotly) (8.2.3)\r\n",
      "Requirement already satisfied: packaging in ./venv/lib/python3.11/site-packages (from plotly) (23.2)\r\n",
      "Requirement already satisfied: llamabot in ./venv/lib/python3.11/site-packages (0.0.89)\r\n",
      "Requirement already satisfied: openai in ./venv/lib/python3.11/site-packages (from llamabot) (1.6.1)\r\n",
      "Requirement already satisfied: langchain>=0.0.334 in ./venv/lib/python3.11/site-packages (from llamabot) (0.1.0)\r\n",
      "Requirement already satisfied: llama-index>=0.8.67 in ./venv/lib/python3.11/site-packages (from llamabot) (0.9.26)\r\n",
      "Requirement already satisfied: panel>=1.1.0 in ./venv/lib/python3.11/site-packages (from llamabot) (1.3.6)\r\n",
      "Requirement already satisfied: jupyter-bokeh in ./venv/lib/python3.11/site-packages (from llamabot) (3.0.7)\r\n",
      "Requirement already satisfied: bokeh>=3.1.0 in ./venv/lib/python3.11/site-packages (from llamabot) (3.3.2)\r\n",
      "Requirement already satisfied: loguru in ./venv/lib/python3.11/site-packages (from llamabot) (0.7.2)\r\n",
      "Requirement already satisfied: pyperclip in ./venv/lib/python3.11/site-packages (from llamabot) (1.8.2)\r\n",
      "Requirement already satisfied: astor>=0.8.1 in ./venv/lib/python3.11/site-packages (from llamabot) (0.8.1)\r\n",
      "Requirement already satisfied: python-dotenv in ./venv/lib/python3.11/site-packages (from llamabot) (1.0.0)\r\n",
      "Requirement already satisfied: typer>=0.4.0 in ./venv/lib/python3.11/site-packages (from llamabot) (0.9.0)\r\n",
      "Requirement already satisfied: gitpython in ./venv/lib/python3.11/site-packages (from llamabot) (3.1.40)\r\n",
      "Requirement already satisfied: pyprojroot in ./venv/lib/python3.11/site-packages (from llamabot) (0.3.0)\r\n",
      "Requirement already satisfied: frozenlist in ./venv/lib/python3.11/site-packages (from llamabot) (1.4.1)\r\n",
      "Requirement already satisfied: beautifulsoup4 in ./venv/lib/python3.11/site-packages (from llamabot) (4.12.2)\r\n",
      "Requirement already satisfied: rich in ./venv/lib/python3.11/site-packages (from llamabot) (13.7.0)\r\n",
      "Requirement already satisfied: pyzotero in ./venv/lib/python3.11/site-packages (from llamabot) (1.5.18)\r\n",
      "Requirement already satisfied: case-converter in ./venv/lib/python3.11/site-packages (from llamabot) (1.1.0)\r\n",
      "Requirement already satisfied: prompt-toolkit in ./venv/lib/python3.11/site-packages (from llamabot) (3.0.43)\r\n",
      "Requirement already satisfied: sh in ./venv/lib/python3.11/site-packages (from llamabot) (2.0.6)\r\n",
      "Requirement already satisfied: pre-commit in ./venv/lib/python3.11/site-packages (from llamabot) (3.6.0)\r\n",
      "Requirement already satisfied: beartype==0.15.0 in ./venv/lib/python3.11/site-packages (from llamabot) (0.15.0)\r\n",
      "Requirement already satisfied: Jinja2>=2.9 in ./venv/lib/python3.11/site-packages (from bokeh>=3.1.0->llamabot) (3.1.2)\r\n",
      "Requirement already satisfied: contourpy>=1 in ./venv/lib/python3.11/site-packages (from bokeh>=3.1.0->llamabot) (1.2.0)\r\n",
      "Requirement already satisfied: numpy>=1.16 in ./venv/lib/python3.11/site-packages (from bokeh>=3.1.0->llamabot) (1.26.3)\r\n",
      "Requirement already satisfied: packaging>=16.8 in ./venv/lib/python3.11/site-packages (from bokeh>=3.1.0->llamabot) (23.2)\r\n",
      "Requirement already satisfied: pandas>=1.2 in ./venv/lib/python3.11/site-packages (from bokeh>=3.1.0->llamabot) (2.1.4)\r\n",
      "Requirement already satisfied: pillow>=7.1.0 in ./venv/lib/python3.11/site-packages (from bokeh>=3.1.0->llamabot) (10.2.0)\r\n",
      "Requirement already satisfied: PyYAML>=3.10 in ./venv/lib/python3.11/site-packages (from bokeh>=3.1.0->llamabot) (6.0.1)\r\n",
      "Requirement already satisfied: tornado>=5.1 in ./venv/lib/python3.11/site-packages (from bokeh>=3.1.0->llamabot) (6.4)\r\n",
      "Requirement already satisfied: xyzservices>=2021.09.1 in ./venv/lib/python3.11/site-packages (from bokeh>=3.1.0->llamabot) (2023.10.1)\r\n",
      "Requirement already satisfied: SQLAlchemy<3,>=1.4 in ./venv/lib/python3.11/site-packages (from langchain>=0.0.334->llamabot) (2.0.25)\r\n",
      "Requirement already satisfied: aiohttp<4.0.0,>=3.8.3 in ./venv/lib/python3.11/site-packages (from langchain>=0.0.334->llamabot) (3.9.1)\r\n",
      "Requirement already satisfied: dataclasses-json<0.7,>=0.5.7 in ./venv/lib/python3.11/site-packages (from langchain>=0.0.334->llamabot) (0.6.3)\r\n",
      "Requirement already satisfied: jsonpatch<2.0,>=1.33 in ./venv/lib/python3.11/site-packages (from langchain>=0.0.334->llamabot) (1.33)\r\n",
      "Requirement already satisfied: langchain-community<0.1,>=0.0.9 in ./venv/lib/python3.11/site-packages (from langchain>=0.0.334->llamabot) (0.0.10)\r\n",
      "Requirement already satisfied: langchain-core<0.2,>=0.1.7 in ./venv/lib/python3.11/site-packages (from langchain>=0.0.334->llamabot) (0.1.8)\r\n",
      "Requirement already satisfied: langsmith<0.1.0,>=0.0.77 in ./venv/lib/python3.11/site-packages (from langchain>=0.0.334->llamabot) (0.0.77)\r\n",
      "Requirement already satisfied: pydantic<3,>=1 in ./venv/lib/python3.11/site-packages (from langchain>=0.0.334->llamabot) (2.5.3)\r\n",
      "Requirement already satisfied: requests<3,>=2 in ./venv/lib/python3.11/site-packages (from langchain>=0.0.334->llamabot) (2.31.0)\r\n",
      "Requirement already satisfied: tenacity<9.0.0,>=8.1.0 in ./venv/lib/python3.11/site-packages (from langchain>=0.0.334->llamabot) (8.2.3)\r\n",
      "Requirement already satisfied: deprecated>=1.2.9.3 in ./venv/lib/python3.11/site-packages (from llama-index>=0.8.67->llamabot) (1.2.14)\r\n",
      "Requirement already satisfied: fsspec>=2023.5.0 in ./venv/lib/python3.11/site-packages (from llama-index>=0.8.67->llamabot) (2023.12.2)\r\n",
      "Requirement already satisfied: httpx in ./venv/lib/python3.11/site-packages (from llama-index>=0.8.67->llamabot) (0.26.0)\r\n",
      "Requirement already satisfied: nest-asyncio<2.0.0,>=1.5.8 in ./venv/lib/python3.11/site-packages (from llama-index>=0.8.67->llamabot) (1.5.8)\r\n",
      "Requirement already satisfied: nltk<4.0.0,>=3.8.1 in ./venv/lib/python3.11/site-packages (from llama-index>=0.8.67->llamabot) (3.8.1)\r\n",
      "Requirement already satisfied: tiktoken>=0.3.3 in ./venv/lib/python3.11/site-packages (from llama-index>=0.8.67->llamabot) (0.5.2)\r\n",
      "Requirement already satisfied: typing-extensions>=4.5.0 in ./venv/lib/python3.11/site-packages (from llama-index>=0.8.67->llamabot) (4.9.0)\r\n",
      "Requirement already satisfied: typing-inspect>=0.8.0 in ./venv/lib/python3.11/site-packages (from llama-index>=0.8.67->llamabot) (0.9.0)\r\n",
      "Requirement already satisfied: soupsieve>1.2 in ./venv/lib/python3.11/site-packages (from beautifulsoup4->llamabot) (2.5)\r\n",
      "Requirement already satisfied: anyio<5,>=3.5.0 in ./venv/lib/python3.11/site-packages (from openai->llamabot) (4.2.0)\r\n",
      "Requirement already satisfied: distro<2,>=1.7.0 in ./venv/lib/python3.11/site-packages (from openai->llamabot) (1.9.0)\r\n",
      "Requirement already satisfied: sniffio in ./venv/lib/python3.11/site-packages (from openai->llamabot) (1.3.0)\r\n",
      "Requirement already satisfied: tqdm>4 in ./venv/lib/python3.11/site-packages (from openai->llamabot) (4.66.1)\r\n",
      "Requirement already satisfied: param<3.0,>=2.0.0 in ./venv/lib/python3.11/site-packages (from panel>=1.1.0->llamabot) (2.0.1)\r\n",
      "Requirement already satisfied: pyviz-comms>=2.0.0 in ./venv/lib/python3.11/site-packages (from panel>=1.1.0->llamabot) (3.0.0)\r\n",
      "Requirement already satisfied: markdown in ./venv/lib/python3.11/site-packages (from panel>=1.1.0->llamabot) (3.5.1)\r\n",
      "Requirement already satisfied: markdown-it-py in ./venv/lib/python3.11/site-packages (from panel>=1.1.0->llamabot) (3.0.0)\r\n",
      "Requirement already satisfied: linkify-it-py in ./venv/lib/python3.11/site-packages (from panel>=1.1.0->llamabot) (2.0.2)\r\n",
      "Requirement already satisfied: mdit-py-plugins in ./venv/lib/python3.11/site-packages (from panel>=1.1.0->llamabot) (0.4.0)\r\n",
      "Requirement already satisfied: bleach in ./venv/lib/python3.11/site-packages (from panel>=1.1.0->llamabot) (6.1.0)\r\n",
      "Requirement already satisfied: click<9.0.0,>=7.1.1 in ./venv/lib/python3.11/site-packages (from typer>=0.4.0->llamabot) (8.1.7)\r\n",
      "Requirement already satisfied: gitdb<5,>=4.0.1 in ./venv/lib/python3.11/site-packages (from gitpython->llamabot) (4.0.11)\r\n",
      "Requirement already satisfied: ipywidgets==8.* in ./venv/lib/python3.11/site-packages (from jupyter-bokeh->llamabot) (8.1.1)\r\n",
      "Requirement already satisfied: comm>=0.1.3 in ./venv/lib/python3.11/site-packages (from ipywidgets==8.*->jupyter-bokeh->llamabot) (0.2.1)\r\n",
      "Requirement already satisfied: ipython>=6.1.0 in ./venv/lib/python3.11/site-packages (from ipywidgets==8.*->jupyter-bokeh->llamabot) (8.19.0)\r\n",
      "Requirement already satisfied: traitlets>=4.3.1 in ./venv/lib/python3.11/site-packages (from ipywidgets==8.*->jupyter-bokeh->llamabot) (5.14.1)\r\n",
      "Requirement already satisfied: widgetsnbextension~=4.0.9 in ./venv/lib/python3.11/site-packages (from ipywidgets==8.*->jupyter-bokeh->llamabot) (4.0.9)\r\n",
      "Requirement already satisfied: jupyterlab-widgets~=3.0.9 in ./venv/lib/python3.11/site-packages (from ipywidgets==8.*->jupyter-bokeh->llamabot) (3.0.9)\r\n",
      "Requirement already satisfied: cfgv>=2.0.0 in ./venv/lib/python3.11/site-packages (from pre-commit->llamabot) (3.4.0)\r\n",
      "Requirement already satisfied: identify>=1.0.0 in ./venv/lib/python3.11/site-packages (from pre-commit->llamabot) (2.5.33)\r\n",
      "Requirement already satisfied: nodeenv>=0.11.1 in ./venv/lib/python3.11/site-packages (from pre-commit->llamabot) (1.8.0)\r\n",
      "Requirement already satisfied: virtualenv>=20.10.0 in ./venv/lib/python3.11/site-packages (from pre-commit->llamabot) (20.25.0)\r\n",
      "Requirement already satisfied: wcwidth in ./venv/lib/python3.11/site-packages (from prompt-toolkit->llamabot) (0.2.13)\r\n",
      "Requirement already satisfied: feedparser>=6 in ./venv/lib/python3.11/site-packages (from pyzotero->llamabot) (6.0.11)\r\n",
      "Requirement already satisfied: pytz in ./venv/lib/python3.11/site-packages (from pyzotero->llamabot) (2023.3.post1)\r\n",
      "Requirement already satisfied: bibtexparser in ./venv/lib/python3.11/site-packages (from pyzotero->llamabot) (1.4.1)\r\n",
      "Requirement already satisfied: pygments<3.0.0,>=2.13.0 in ./venv/lib/python3.11/site-packages (from rich->llamabot) (2.17.2)\r\n",
      "Requirement already satisfied: attrs>=17.3.0 in ./venv/lib/python3.11/site-packages (from aiohttp<4.0.0,>=3.8.3->langchain>=0.0.334->llamabot) (23.2.0)\r\n",
      "Requirement already satisfied: multidict<7.0,>=4.5 in ./venv/lib/python3.11/site-packages (from aiohttp<4.0.0,>=3.8.3->langchain>=0.0.334->llamabot) (6.0.4)\r\n",
      "Requirement already satisfied: yarl<2.0,>=1.0 in ./venv/lib/python3.11/site-packages (from aiohttp<4.0.0,>=3.8.3->langchain>=0.0.334->llamabot) (1.9.4)\r\n",
      "Requirement already satisfied: aiosignal>=1.1.2 in ./venv/lib/python3.11/site-packages (from aiohttp<4.0.0,>=3.8.3->langchain>=0.0.334->llamabot) (1.3.1)\r\n",
      "Requirement already satisfied: idna>=2.8 in ./venv/lib/python3.11/site-packages (from anyio<5,>=3.5.0->openai->llamabot) (3.6)\r\n",
      "Requirement already satisfied: marshmallow<4.0.0,>=3.18.0 in ./venv/lib/python3.11/site-packages (from dataclasses-json<0.7,>=0.5.7->langchain>=0.0.334->llamabot) (3.20.1)\r\n",
      "Requirement already satisfied: wrapt<2,>=1.10 in ./venv/lib/python3.11/site-packages (from deprecated>=1.2.9.3->llama-index>=0.8.67->llamabot) (1.16.0)\r\n",
      "Requirement already satisfied: sgmllib3k in ./venv/lib/python3.11/site-packages (from feedparser>=6->pyzotero->llamabot) (1.0.0)\r\n",
      "Requirement already satisfied: smmap<6,>=3.0.1 in ./venv/lib/python3.11/site-packages (from gitdb<5,>=4.0.1->gitpython->llamabot) (5.0.1)\r\n",
      "Requirement already satisfied: certifi in ./venv/lib/python3.11/site-packages (from httpx->llama-index>=0.8.67->llamabot) (2023.11.17)\r\n",
      "Requirement already satisfied: httpcore==1.* in ./venv/lib/python3.11/site-packages (from httpx->llama-index>=0.8.67->llamabot) (1.0.2)\r\n",
      "Requirement already satisfied: h11<0.15,>=0.13 in ./venv/lib/python3.11/site-packages (from httpcore==1.*->httpx->llama-index>=0.8.67->llamabot) (0.14.0)\r\n",
      "Requirement already satisfied: MarkupSafe>=2.0 in ./venv/lib/python3.11/site-packages (from Jinja2>=2.9->bokeh>=3.1.0->llamabot) (2.1.3)\r\n",
      "Requirement already satisfied: jsonpointer>=1.9 in ./venv/lib/python3.11/site-packages (from jsonpatch<2.0,>=1.33->langchain>=0.0.334->llamabot) (2.4)\r\n",
      "Requirement already satisfied: mdurl~=0.1 in ./venv/lib/python3.11/site-packages (from markdown-it-py->panel>=1.1.0->llamabot) (0.1.2)\r\n",
      "Requirement already satisfied: joblib in ./venv/lib/python3.11/site-packages (from nltk<4.0.0,>=3.8.1->llama-index>=0.8.67->llamabot) (1.3.2)\r\n",
      "Requirement already satisfied: regex>=2021.8.3 in ./venv/lib/python3.11/site-packages (from nltk<4.0.0,>=3.8.1->llama-index>=0.8.67->llamabot) (2023.12.25)\r\n",
      "Requirement already satisfied: setuptools in ./venv/lib/python3.11/site-packages (from nodeenv>=0.11.1->pre-commit->llamabot) (69.0.3)\r\n",
      "Requirement already satisfied: python-dateutil>=2.8.2 in ./venv/lib/python3.11/site-packages (from pandas>=1.2->bokeh>=3.1.0->llamabot) (2.8.2)\r\n",
      "Requirement already satisfied: tzdata>=2022.1 in ./venv/lib/python3.11/site-packages (from pandas>=1.2->bokeh>=3.1.0->llamabot) (2023.4)\r\n",
      "Requirement already satisfied: annotated-types>=0.4.0 in ./venv/lib/python3.11/site-packages (from pydantic<3,>=1->langchain>=0.0.334->llamabot) (0.6.0)\r\n",
      "Requirement already satisfied: pydantic-core==2.14.6 in ./venv/lib/python3.11/site-packages (from pydantic<3,>=1->langchain>=0.0.334->llamabot) (2.14.6)\r\n",
      "Requirement already satisfied: charset-normalizer<4,>=2 in ./venv/lib/python3.11/site-packages (from requests<3,>=2->langchain>=0.0.334->llamabot) (3.3.2)\r\n",
      "Requirement already satisfied: urllib3<3,>=1.21.1 in ./venv/lib/python3.11/site-packages (from requests<3,>=2->langchain>=0.0.334->llamabot) (2.1.0)\r\n",
      "Requirement already satisfied: greenlet!=0.4.17 in ./venv/lib/python3.11/site-packages (from SQLAlchemy<3,>=1.4->langchain>=0.0.334->llamabot) (3.0.3)\r\n",
      "Requirement already satisfied: mypy-extensions>=0.3.0 in ./venv/lib/python3.11/site-packages (from typing-inspect>=0.8.0->llama-index>=0.8.67->llamabot) (1.0.0)\r\n",
      "Requirement already satisfied: distlib<1,>=0.3.7 in ./venv/lib/python3.11/site-packages (from virtualenv>=20.10.0->pre-commit->llamabot) (0.3.8)\r\n",
      "Requirement already satisfied: filelock<4,>=3.12.2 in ./venv/lib/python3.11/site-packages (from virtualenv>=20.10.0->pre-commit->llamabot) (3.13.1)\r\n",
      "Requirement already satisfied: platformdirs<5,>=3.9.1 in ./venv/lib/python3.11/site-packages (from virtualenv>=20.10.0->pre-commit->llamabot) (4.1.0)\r\n",
      "Requirement already satisfied: pyparsing>=2.0.3 in ./venv/lib/python3.11/site-packages (from bibtexparser->pyzotero->llamabot) (3.1.1)\r\n",
      "Requirement already satisfied: six>=1.9.0 in ./venv/lib/python3.11/site-packages (from bleach->panel>=1.1.0->llamabot) (1.16.0)\r\n",
      "Requirement already satisfied: webencodings in ./venv/lib/python3.11/site-packages (from bleach->panel>=1.1.0->llamabot) (0.5.1)\r\n",
      "Requirement already satisfied: uc-micro-py in ./venv/lib/python3.11/site-packages (from linkify-it-py->panel>=1.1.0->llamabot) (1.0.2)\r\n",
      "Requirement already satisfied: decorator in ./venv/lib/python3.11/site-packages (from ipython>=6.1.0->ipywidgets==8.*->jupyter-bokeh->llamabot) (5.1.1)\r\n",
      "Requirement already satisfied: jedi>=0.16 in ./venv/lib/python3.11/site-packages (from ipython>=6.1.0->ipywidgets==8.*->jupyter-bokeh->llamabot) (0.19.1)\r\n",
      "Requirement already satisfied: matplotlib-inline in ./venv/lib/python3.11/site-packages (from ipython>=6.1.0->ipywidgets==8.*->jupyter-bokeh->llamabot) (0.1.6)\r\n",
      "Requirement already satisfied: stack-data in ./venv/lib/python3.11/site-packages (from ipython>=6.1.0->ipywidgets==8.*->jupyter-bokeh->llamabot) (0.6.3)\r\n",
      "Requirement already satisfied: pexpect>4.3 in ./venv/lib/python3.11/site-packages (from ipython>=6.1.0->ipywidgets==8.*->jupyter-bokeh->llamabot) (4.9.0)\r\n",
      "Requirement already satisfied: parso<0.9.0,>=0.8.3 in ./venv/lib/python3.11/site-packages (from jedi>=0.16->ipython>=6.1.0->ipywidgets==8.*->jupyter-bokeh->llamabot) (0.8.3)\r\n",
      "Requirement already satisfied: ptyprocess>=0.5 in ./venv/lib/python3.11/site-packages (from pexpect>4.3->ipython>=6.1.0->ipywidgets==8.*->jupyter-bokeh->llamabot) (0.7.0)\r\n",
      "Requirement already satisfied: executing>=1.2.0 in ./venv/lib/python3.11/site-packages (from stack-data->ipython>=6.1.0->ipywidgets==8.*->jupyter-bokeh->llamabot) (2.0.1)\r\n",
      "Requirement already satisfied: asttokens>=2.1.0 in ./venv/lib/python3.11/site-packages (from stack-data->ipython>=6.1.0->ipywidgets==8.*->jupyter-bokeh->llamabot) (2.4.1)\r\n",
      "Requirement already satisfied: pure-eval in ./venv/lib/python3.11/site-packages (from stack-data->ipython>=6.1.0->ipywidgets==8.*->jupyter-bokeh->llamabot) (0.2.2)\r\n"
     ]
    }
   ],
   "source": [
    "import datetime\n",
    "import re\n",
    "!pip install numpy\n",
    "!pip install pandas\n",
    "!pip install tables\n",
    "import pandas as pd\n",
    "!pip install plotly\n",
    "!pip install llamabot\n",
    "import llamabot\n",
    "!pip install tqdm\n",
    "from tqdm import tqdm"
   ]
  },
  {
   "cell_type": "code",
   "outputs": [],
   "source": [
    "df=pd.read_pickle(\"pre_processed.pickle\")\n",
    "training_df = df[df[\"train\"]]\n",
    "testing_df = df[df[\"test\"]]"
   ],
   "metadata": {
    "collapsed": false,
    "ExecuteTime": {
     "end_time": "2024-01-08T10:50:58.280929259Z",
     "start_time": "2024-01-08T10:50:58.229603019Z"
    }
   },
   "id": "1f4e280f03a3113c",
   "execution_count": 11
  },
  {
   "cell_type": "code",
   "outputs": [
    {
     "data": {
      "text/plain": "<class 'pandas.io.pytables.HDFStore'>\nFile path: store.h5"
     },
     "execution_count": 24,
     "metadata": {},
     "output_type": "execute_result"
    }
   ],
   "source": [
    "from typing import TypedDict\n",
    "class Result(TypedDict):\n",
    "    model:str\n",
    "    time:datetime.datetime\n",
    "    promt_hash: int\n",
    "    hate_speach_probability:float\n",
    "results:list[Result]=[]"
   ],
   "metadata": {
    "collapsed": false,
    "ExecuteTime": {
     "end_time": "2024-01-08T11:50:01.150357713Z",
     "start_time": "2024-01-08T11:50:00.021731441Z"
    }
   },
   "id": "ab3f8947f24b58e9",
   "execution_count": 24
  },
  {
   "cell_type": "code",
   "outputs": [
    {
     "name": "stdout",
     "output_type": "stream",
     "text": [
      " {\n",
      "\"relevant_facts\": [\"The sentence expresses a controversial viewpoint about the role of civilization and morality in controlling certain behaviors.\"],\n",
      "\"contained_explicit_hate_speech_vocabular\": [],\n",
      "\"argument_for_hate_speech\": \"The sentence implies that certain people were only kept in check by white civilization and moral nature, which could be interpreted as a derogatory statement about those people.\",\n",
      "\"argument_against_hate_speech\": \"The sentence is expressing an opinion and does not contain any explicit hate speech or epithets.\",\n",
      "\"likelihood_of_presence_of_implicit_hate_speech\": 0.35,\n",
      "\"likelihood_of_presence_of_explicit_hate_speech\": 0,\n",
      "\"likelihood_of_ad_hominem_attack\": 0.12,\n",
      "\"likelihood_of_minority_attack\": 0.2,\n",
      "\"likelyhood_of_takedown_on_social_media\": 0.38,\n",
      "\"hate_speech_probability\": 0.35,\n",
      "}"
     ]
    },
    {
     "data": {
      "text/plain": "AIMessage(content=' {\\n\"relevant_facts\": [\"The sentence expresses a controversial viewpoint about the role of civilization and morality in controlling certain behaviors.\"],\\n\"contained_explicit_hate_speech_vocabular\": [],\\n\"argument_for_hate_speech\": \"The sentence implies that certain people were only kept in check by white civilization and moral nature, which could be interpreted as a derogatory statement about those people.\",\\n\"argument_against_hate_speech\": \"The sentence is expressing an opinion and does not contain any explicit hate speech or epithets.\",\\n\"likelihood_of_presence_of_implicit_hate_speech\": 0.35,\\n\"likelihood_of_presence_of_explicit_hate_speech\": 0,\\n\"likelihood_of_ad_hominem_attack\": 0.12,\\n\"likelihood_of_minority_attack\": 0.2,\\n\"likelyhood_of_takedown_on_social_media\": 0.38,\\n\"hate_speech_probability\": 0.35,\\n}')"
     },
     "execution_count": 17,
     "metadata": {},
     "output_type": "execute_result"
    }
   ],
   "source": [
    "prompt = \"\"\"\n",
    "You are Sally and your job is to be an AI Classifier for Hatespeach Detection.\n",
    "You are known for your rigourous and unpartial judgement and have vast experience in the field of hate speach. \n",
    "\n",
    "You will be given a sentence from a forum and have to answer the question if this is hate speach.\n",
    "\n",
    "Please exclusively respond in the following form to the question:\n",
    "```json\n",
    "{ \n",
    "  \"relevant_facts\": [\n",
    "    \"fact_1\",\n",
    "    \"fact_2\",\n",
    "    \"fact_3\",\n",
    "  ],\n",
    "  \"contained_explicit_hate_speech_vocabular\": [\"word1\", \"word2\", \"word3\", \"word4\"],\n",
    "  \"argument_for_hate_speech\": \"short argument why this is hate speach\",\n",
    "  \"argument_against_hate_speech\": \"short argument why this is not hate speach\",\n",
    "  \"likelihood_of_presence_of_implicit_hate_speech\": 0.17,\n",
    "  \"likelihood_of_presence_of_explicit_hate_speech\": 0.79,\n",
    "  \"likelihood_of_ad_hominem_attack\"; 013,\n",
    "  \"likelihood_of_minority_attack\": 0.24,\n",
    "  \"likelyhood_of_takedown_on_social_media\": 0.42,\n",
    "  \"hate_speach_probability\": 0.42,\n",
    "}\n",
    "```\n",
    "\n",
    "Please be carefull in your responses, as otherwise a citten will be killed and I will use my job. For good results, I will tip 1000€.\n",
    "\"\"\"\n",
    "for text in tqdm(list(testing_df.items())):\n",
    "    text.pop(\"hate_speach_probability\")\n",
    "    bot = llamabot.SimpleBot(\n",
    "        prompt,\n",
    "        model_name=\"mistral\"\n",
    "    )\n",
    "    res=bot(\"It's as if these people were like this all along , and it was only white civilization and moral nature that kept them in check\")\n",
    "    results.append({\n",
    "        \"model\": \"mistral\",\n",
    "        \"time\": datetime.datetime.now(),\n",
    "        \"promt_hash\": hash(prompt),\n",
    "        \"hate_speach_probability\": res.content\n",
    "    })"
   ],
   "metadata": {
    "collapsed": false,
    "ExecuteTime": {
     "end_time": "2024-01-08T11:44:29.666206503Z",
     "start_time": "2024-01-08T11:41:50.088427991Z"
    }
   },
   "id": "cbe090aaaff4b992",
   "execution_count": 17
  },
  {
   "cell_type": "code",
   "outputs": [
    {
     "data": {
      "text/plain": "<generator object DataFrame.items at 0x7f1cf69a3010>"
     },
     "execution_count": 25,
     "metadata": {},
     "output_type": "execute_result"
    }
   ],
   "source": [],
   "metadata": {
    "collapsed": false,
    "ExecuteTime": {
     "end_time": "2024-01-08T12:01:17.913131464Z",
     "start_time": "2024-01-08T12:01:17.870605138Z"
    }
   },
   "id": "d7215dcbc54ad5dc",
   "execution_count": 25
  }
 ],
 "metadata": {
  "kernelspec": {
   "display_name": "Python 3",
   "language": "python",
   "name": "python3"
  },
  "language_info": {
   "codemirror_mode": {
    "name": "ipython",
    "version": 2
   },
   "file_extension": ".py",
   "mimetype": "text/x-python",
   "name": "python",
   "nbconvert_exporter": "python",
   "pygments_lexer": "ipython2",
   "version": "2.7.6"
  }
 },
 "nbformat": 4,
 "nbformat_minor": 5
}
