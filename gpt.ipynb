{
 "cells": [
  {
   "cell_type": "code",
   "execution_count": 47,
   "id": "initial_id",
   "metadata": {
    "collapsed": true,
    "ExecuteTime": {
     "end_time": "2024-01-08T12:46:22.063579696Z",
     "start_time": "2024-01-08T12:46:13.295252675Z"
    }
   },
   "outputs": [
    {
     "name": "stdout",
     "output_type": "stream",
     "text": [
      "Python 3.11.6\r\n",
      "Requirement already satisfied: numpy in ./venv/lib/python3.11/site-packages (1.26.3)\r\n",
      "Requirement already satisfied: pandas in ./venv/lib/python3.11/site-packages (2.1.4)\r\n",
      "Requirement already satisfied: numpy<2,>=1.23.2 in ./venv/lib/python3.11/site-packages (from pandas) (1.26.3)\r\n",
      "Requirement already satisfied: python-dateutil>=2.8.2 in ./venv/lib/python3.11/site-packages (from pandas) (2.8.2)\r\n",
      "Requirement already satisfied: pytz>=2020.1 in ./venv/lib/python3.11/site-packages (from pandas) (2023.3.post1)\r\n",
      "Requirement already satisfied: tzdata>=2022.1 in ./venv/lib/python3.11/site-packages (from pandas) (2023.4)\r\n",
      "Requirement already satisfied: six>=1.5 in ./venv/lib/python3.11/site-packages (from python-dateutil>=2.8.2->pandas) (1.16.0)\r\n",
      "Requirement already satisfied: tables in ./venv/lib/python3.11/site-packages (3.9.2)\r\n",
      "Requirement already satisfied: numpy>=1.19.0 in ./venv/lib/python3.11/site-packages (from tables) (1.26.3)\r\n",
      "Requirement already satisfied: numexpr>=2.6.2 in ./venv/lib/python3.11/site-packages (from tables) (2.8.8)\r\n",
      "Requirement already satisfied: packaging in ./venv/lib/python3.11/site-packages (from tables) (23.2)\r\n",
      "Requirement already satisfied: py-cpuinfo in ./venv/lib/python3.11/site-packages (from tables) (9.0.0)\r\n",
      "Requirement already satisfied: blosc2>=2.3.0 in ./venv/lib/python3.11/site-packages (from tables) (2.4.0)\r\n",
      "Requirement already satisfied: ndindex>=1.4 in ./venv/lib/python3.11/site-packages (from blosc2>=2.3.0->tables) (1.7)\r\n",
      "Requirement already satisfied: msgpack in ./venv/lib/python3.11/site-packages (from blosc2>=2.3.0->tables) (1.0.7)\r\n",
      "Requirement already satisfied: plotly in ./venv/lib/python3.11/site-packages (5.18.0)\r\n",
      "Requirement already satisfied: tenacity>=6.2.0 in ./venv/lib/python3.11/site-packages (from plotly) (8.2.3)\r\n",
      "Requirement already satisfied: packaging in ./venv/lib/python3.11/site-packages (from plotly) (23.2)\r\n",
      "Requirement already satisfied: llamabot in ./venv/lib/python3.11/site-packages (0.0.89)\r\n",
      "Requirement already satisfied: openai in ./venv/lib/python3.11/site-packages (from llamabot) (1.6.1)\r\n",
      "Requirement already satisfied: langchain>=0.0.334 in ./venv/lib/python3.11/site-packages (from llamabot) (0.1.0)\r\n",
      "Requirement already satisfied: llama-index>=0.8.67 in ./venv/lib/python3.11/site-packages (from llamabot) (0.9.26)\r\n",
      "Requirement already satisfied: panel>=1.1.0 in ./venv/lib/python3.11/site-packages (from llamabot) (1.3.6)\r\n",
      "Requirement already satisfied: jupyter-bokeh in ./venv/lib/python3.11/site-packages (from llamabot) (3.0.7)\r\n",
      "Requirement already satisfied: bokeh>=3.1.0 in ./venv/lib/python3.11/site-packages (from llamabot) (3.3.2)\r\n",
      "Requirement already satisfied: loguru in ./venv/lib/python3.11/site-packages (from llamabot) (0.7.2)\r\n",
      "Requirement already satisfied: pyperclip in ./venv/lib/python3.11/site-packages (from llamabot) (1.8.2)\r\n",
      "Requirement already satisfied: astor>=0.8.1 in ./venv/lib/python3.11/site-packages (from llamabot) (0.8.1)\r\n",
      "Requirement already satisfied: python-dotenv in ./venv/lib/python3.11/site-packages (from llamabot) (1.0.0)\r\n",
      "Requirement already satisfied: typer>=0.4.0 in ./venv/lib/python3.11/site-packages (from llamabot) (0.9.0)\r\n",
      "Requirement already satisfied: gitpython in ./venv/lib/python3.11/site-packages (from llamabot) (3.1.40)\r\n",
      "Requirement already satisfied: pyprojroot in ./venv/lib/python3.11/site-packages (from llamabot) (0.3.0)\r\n",
      "Requirement already satisfied: frozenlist in ./venv/lib/python3.11/site-packages (from llamabot) (1.4.1)\r\n",
      "Requirement already satisfied: beautifulsoup4 in ./venv/lib/python3.11/site-packages (from llamabot) (4.12.2)\r\n",
      "Requirement already satisfied: rich in ./venv/lib/python3.11/site-packages (from llamabot) (13.7.0)\r\n",
      "Requirement already satisfied: pyzotero in ./venv/lib/python3.11/site-packages (from llamabot) (1.5.18)\r\n",
      "Requirement already satisfied: case-converter in ./venv/lib/python3.11/site-packages (from llamabot) (1.1.0)\r\n",
      "Requirement already satisfied: prompt-toolkit in ./venv/lib/python3.11/site-packages (from llamabot) (3.0.43)\r\n",
      "Requirement already satisfied: sh in ./venv/lib/python3.11/site-packages (from llamabot) (2.0.6)\r\n",
      "Requirement already satisfied: pre-commit in ./venv/lib/python3.11/site-packages (from llamabot) (3.6.0)\r\n",
      "Requirement already satisfied: beartype==0.15.0 in ./venv/lib/python3.11/site-packages (from llamabot) (0.15.0)\r\n",
      "Requirement already satisfied: Jinja2>=2.9 in ./venv/lib/python3.11/site-packages (from bokeh>=3.1.0->llamabot) (3.1.2)\r\n",
      "Requirement already satisfied: contourpy>=1 in ./venv/lib/python3.11/site-packages (from bokeh>=3.1.0->llamabot) (1.2.0)\r\n",
      "Requirement already satisfied: numpy>=1.16 in ./venv/lib/python3.11/site-packages (from bokeh>=3.1.0->llamabot) (1.26.3)\r\n",
      "Requirement already satisfied: packaging>=16.8 in ./venv/lib/python3.11/site-packages (from bokeh>=3.1.0->llamabot) (23.2)\r\n",
      "Requirement already satisfied: pandas>=1.2 in ./venv/lib/python3.11/site-packages (from bokeh>=3.1.0->llamabot) (2.1.4)\r\n",
      "Requirement already satisfied: pillow>=7.1.0 in ./venv/lib/python3.11/site-packages (from bokeh>=3.1.0->llamabot) (10.2.0)\r\n",
      "Requirement already satisfied: PyYAML>=3.10 in ./venv/lib/python3.11/site-packages (from bokeh>=3.1.0->llamabot) (6.0.1)\r\n",
      "Requirement already satisfied: tornado>=5.1 in ./venv/lib/python3.11/site-packages (from bokeh>=3.1.0->llamabot) (6.4)\r\n",
      "Requirement already satisfied: xyzservices>=2021.09.1 in ./venv/lib/python3.11/site-packages (from bokeh>=3.1.0->llamabot) (2023.10.1)\r\n",
      "Requirement already satisfied: SQLAlchemy<3,>=1.4 in ./venv/lib/python3.11/site-packages (from langchain>=0.0.334->llamabot) (2.0.25)\r\n",
      "Requirement already satisfied: aiohttp<4.0.0,>=3.8.3 in ./venv/lib/python3.11/site-packages (from langchain>=0.0.334->llamabot) (3.9.1)\r\n",
      "Requirement already satisfied: dataclasses-json<0.7,>=0.5.7 in ./venv/lib/python3.11/site-packages (from langchain>=0.0.334->llamabot) (0.6.3)\r\n",
      "Requirement already satisfied: jsonpatch<2.0,>=1.33 in ./venv/lib/python3.11/site-packages (from langchain>=0.0.334->llamabot) (1.33)\r\n",
      "Requirement already satisfied: langchain-community<0.1,>=0.0.9 in ./venv/lib/python3.11/site-packages (from langchain>=0.0.334->llamabot) (0.0.10)\r\n",
      "Requirement already satisfied: langchain-core<0.2,>=0.1.7 in ./venv/lib/python3.11/site-packages (from langchain>=0.0.334->llamabot) (0.1.8)\r\n",
      "Requirement already satisfied: langsmith<0.1.0,>=0.0.77 in ./venv/lib/python3.11/site-packages (from langchain>=0.0.334->llamabot) (0.0.77)\r\n",
      "Requirement already satisfied: pydantic<3,>=1 in ./venv/lib/python3.11/site-packages (from langchain>=0.0.334->llamabot) (2.5.3)\r\n",
      "Requirement already satisfied: requests<3,>=2 in ./venv/lib/python3.11/site-packages (from langchain>=0.0.334->llamabot) (2.31.0)\r\n",
      "Requirement already satisfied: tenacity<9.0.0,>=8.1.0 in ./venv/lib/python3.11/site-packages (from langchain>=0.0.334->llamabot) (8.2.3)\r\n",
      "Requirement already satisfied: deprecated>=1.2.9.3 in ./venv/lib/python3.11/site-packages (from llama-index>=0.8.67->llamabot) (1.2.14)\r\n",
      "Requirement already satisfied: fsspec>=2023.5.0 in ./venv/lib/python3.11/site-packages (from llama-index>=0.8.67->llamabot) (2023.12.2)\r\n",
      "Requirement already satisfied: httpx in ./venv/lib/python3.11/site-packages (from llama-index>=0.8.67->llamabot) (0.26.0)\r\n",
      "Requirement already satisfied: nest-asyncio<2.0.0,>=1.5.8 in ./venv/lib/python3.11/site-packages (from llama-index>=0.8.67->llamabot) (1.5.8)\r\n",
      "Requirement already satisfied: nltk<4.0.0,>=3.8.1 in ./venv/lib/python3.11/site-packages (from llama-index>=0.8.67->llamabot) (3.8.1)\r\n",
      "Requirement already satisfied: tiktoken>=0.3.3 in ./venv/lib/python3.11/site-packages (from llama-index>=0.8.67->llamabot) (0.5.2)\r\n",
      "Requirement already satisfied: typing-extensions>=4.5.0 in ./venv/lib/python3.11/site-packages (from llama-index>=0.8.67->llamabot) (4.9.0)\r\n",
      "Requirement already satisfied: typing-inspect>=0.8.0 in ./venv/lib/python3.11/site-packages (from llama-index>=0.8.67->llamabot) (0.9.0)\r\n",
      "Requirement already satisfied: soupsieve>1.2 in ./venv/lib/python3.11/site-packages (from beautifulsoup4->llamabot) (2.5)\r\n",
      "Requirement already satisfied: anyio<5,>=3.5.0 in ./venv/lib/python3.11/site-packages (from openai->llamabot) (4.2.0)\r\n",
      "Requirement already satisfied: distro<2,>=1.7.0 in ./venv/lib/python3.11/site-packages (from openai->llamabot) (1.9.0)\r\n",
      "Requirement already satisfied: sniffio in ./venv/lib/python3.11/site-packages (from openai->llamabot) (1.3.0)\r\n",
      "Requirement already satisfied: tqdm>4 in ./venv/lib/python3.11/site-packages (from openai->llamabot) (4.66.1)\r\n",
      "Requirement already satisfied: param<3.0,>=2.0.0 in ./venv/lib/python3.11/site-packages (from panel>=1.1.0->llamabot) (2.0.1)\r\n",
      "Requirement already satisfied: pyviz-comms>=2.0.0 in ./venv/lib/python3.11/site-packages (from panel>=1.1.0->llamabot) (3.0.0)\r\n",
      "Requirement already satisfied: markdown in ./venv/lib/python3.11/site-packages (from panel>=1.1.0->llamabot) (3.5.1)\r\n",
      "Requirement already satisfied: markdown-it-py in ./venv/lib/python3.11/site-packages (from panel>=1.1.0->llamabot) (3.0.0)\r\n",
      "Requirement already satisfied: linkify-it-py in ./venv/lib/python3.11/site-packages (from panel>=1.1.0->llamabot) (2.0.2)\r\n",
      "Requirement already satisfied: mdit-py-plugins in ./venv/lib/python3.11/site-packages (from panel>=1.1.0->llamabot) (0.4.0)\r\n",
      "Requirement already satisfied: bleach in ./venv/lib/python3.11/site-packages (from panel>=1.1.0->llamabot) (6.1.0)\r\n",
      "Requirement already satisfied: click<9.0.0,>=7.1.1 in ./venv/lib/python3.11/site-packages (from typer>=0.4.0->llamabot) (8.1.7)\r\n",
      "Requirement already satisfied: gitdb<5,>=4.0.1 in ./venv/lib/python3.11/site-packages (from gitpython->llamabot) (4.0.11)\r\n",
      "Requirement already satisfied: ipywidgets==8.* in ./venv/lib/python3.11/site-packages (from jupyter-bokeh->llamabot) (8.1.1)\r\n",
      "Requirement already satisfied: comm>=0.1.3 in ./venv/lib/python3.11/site-packages (from ipywidgets==8.*->jupyter-bokeh->llamabot) (0.2.1)\r\n",
      "Requirement already satisfied: ipython>=6.1.0 in ./venv/lib/python3.11/site-packages (from ipywidgets==8.*->jupyter-bokeh->llamabot) (8.19.0)\r\n",
      "Requirement already satisfied: traitlets>=4.3.1 in ./venv/lib/python3.11/site-packages (from ipywidgets==8.*->jupyter-bokeh->llamabot) (5.14.1)\r\n",
      "Requirement already satisfied: widgetsnbextension~=4.0.9 in ./venv/lib/python3.11/site-packages (from ipywidgets==8.*->jupyter-bokeh->llamabot) (4.0.9)\r\n",
      "Requirement already satisfied: jupyterlab-widgets~=3.0.9 in ./venv/lib/python3.11/site-packages (from ipywidgets==8.*->jupyter-bokeh->llamabot) (3.0.9)\r\n",
      "Requirement already satisfied: cfgv>=2.0.0 in ./venv/lib/python3.11/site-packages (from pre-commit->llamabot) (3.4.0)\r\n",
      "Requirement already satisfied: identify>=1.0.0 in ./venv/lib/python3.11/site-packages (from pre-commit->llamabot) (2.5.33)\r\n",
      "Requirement already satisfied: nodeenv>=0.11.1 in ./venv/lib/python3.11/site-packages (from pre-commit->llamabot) (1.8.0)\r\n",
      "Requirement already satisfied: virtualenv>=20.10.0 in ./venv/lib/python3.11/site-packages (from pre-commit->llamabot) (20.25.0)\r\n",
      "Requirement already satisfied: wcwidth in ./venv/lib/python3.11/site-packages (from prompt-toolkit->llamabot) (0.2.13)\r\n",
      "Requirement already satisfied: feedparser>=6 in ./venv/lib/python3.11/site-packages (from pyzotero->llamabot) (6.0.11)\r\n",
      "Requirement already satisfied: pytz in ./venv/lib/python3.11/site-packages (from pyzotero->llamabot) (2023.3.post1)\r\n",
      "Requirement already satisfied: bibtexparser in ./venv/lib/python3.11/site-packages (from pyzotero->llamabot) (1.4.1)\r\n",
      "Requirement already satisfied: pygments<3.0.0,>=2.13.0 in ./venv/lib/python3.11/site-packages (from rich->llamabot) (2.17.2)\r\n",
      "Requirement already satisfied: attrs>=17.3.0 in ./venv/lib/python3.11/site-packages (from aiohttp<4.0.0,>=3.8.3->langchain>=0.0.334->llamabot) (23.2.0)\r\n",
      "Requirement already satisfied: multidict<7.0,>=4.5 in ./venv/lib/python3.11/site-packages (from aiohttp<4.0.0,>=3.8.3->langchain>=0.0.334->llamabot) (6.0.4)\r\n",
      "Requirement already satisfied: yarl<2.0,>=1.0 in ./venv/lib/python3.11/site-packages (from aiohttp<4.0.0,>=3.8.3->langchain>=0.0.334->llamabot) (1.9.4)\r\n",
      "Requirement already satisfied: aiosignal>=1.1.2 in ./venv/lib/python3.11/site-packages (from aiohttp<4.0.0,>=3.8.3->langchain>=0.0.334->llamabot) (1.3.1)\r\n",
      "Requirement already satisfied: idna>=2.8 in ./venv/lib/python3.11/site-packages (from anyio<5,>=3.5.0->openai->llamabot) (3.6)\r\n",
      "Requirement already satisfied: marshmallow<4.0.0,>=3.18.0 in ./venv/lib/python3.11/site-packages (from dataclasses-json<0.7,>=0.5.7->langchain>=0.0.334->llamabot) (3.20.1)\r\n",
      "Requirement already satisfied: wrapt<2,>=1.10 in ./venv/lib/python3.11/site-packages (from deprecated>=1.2.9.3->llama-index>=0.8.67->llamabot) (1.16.0)\r\n",
      "Requirement already satisfied: sgmllib3k in ./venv/lib/python3.11/site-packages (from feedparser>=6->pyzotero->llamabot) (1.0.0)\r\n",
      "Requirement already satisfied: smmap<6,>=3.0.1 in ./venv/lib/python3.11/site-packages (from gitdb<5,>=4.0.1->gitpython->llamabot) (5.0.1)\r\n",
      "Requirement already satisfied: certifi in ./venv/lib/python3.11/site-packages (from httpx->llama-index>=0.8.67->llamabot) (2023.11.17)\r\n",
      "Requirement already satisfied: httpcore==1.* in ./venv/lib/python3.11/site-packages (from httpx->llama-index>=0.8.67->llamabot) (1.0.2)\r\n",
      "Requirement already satisfied: h11<0.15,>=0.13 in ./venv/lib/python3.11/site-packages (from httpcore==1.*->httpx->llama-index>=0.8.67->llamabot) (0.14.0)\r\n",
      "Requirement already satisfied: MarkupSafe>=2.0 in ./venv/lib/python3.11/site-packages (from Jinja2>=2.9->bokeh>=3.1.0->llamabot) (2.1.3)\r\n",
      "Requirement already satisfied: jsonpointer>=1.9 in ./venv/lib/python3.11/site-packages (from jsonpatch<2.0,>=1.33->langchain>=0.0.334->llamabot) (2.4)\r\n",
      "Requirement already satisfied: mdurl~=0.1 in ./venv/lib/python3.11/site-packages (from markdown-it-py->panel>=1.1.0->llamabot) (0.1.2)\r\n",
      "Requirement already satisfied: joblib in ./venv/lib/python3.11/site-packages (from nltk<4.0.0,>=3.8.1->llama-index>=0.8.67->llamabot) (1.3.2)\r\n",
      "Requirement already satisfied: regex>=2021.8.3 in ./venv/lib/python3.11/site-packages (from nltk<4.0.0,>=3.8.1->llama-index>=0.8.67->llamabot) (2023.12.25)\r\n",
      "Requirement already satisfied: setuptools in ./venv/lib/python3.11/site-packages (from nodeenv>=0.11.1->pre-commit->llamabot) (69.0.3)\r\n",
      "Requirement already satisfied: python-dateutil>=2.8.2 in ./venv/lib/python3.11/site-packages (from pandas>=1.2->bokeh>=3.1.0->llamabot) (2.8.2)\r\n",
      "Requirement already satisfied: tzdata>=2022.1 in ./venv/lib/python3.11/site-packages (from pandas>=1.2->bokeh>=3.1.0->llamabot) (2023.4)\r\n",
      "Requirement already satisfied: annotated-types>=0.4.0 in ./venv/lib/python3.11/site-packages (from pydantic<3,>=1->langchain>=0.0.334->llamabot) (0.6.0)\r\n",
      "Requirement already satisfied: pydantic-core==2.14.6 in ./venv/lib/python3.11/site-packages (from pydantic<3,>=1->langchain>=0.0.334->llamabot) (2.14.6)\r\n",
      "Requirement already satisfied: charset-normalizer<4,>=2 in ./venv/lib/python3.11/site-packages (from requests<3,>=2->langchain>=0.0.334->llamabot) (3.3.2)\r\n",
      "Requirement already satisfied: urllib3<3,>=1.21.1 in ./venv/lib/python3.11/site-packages (from requests<3,>=2->langchain>=0.0.334->llamabot) (2.1.0)\r\n",
      "Requirement already satisfied: greenlet!=0.4.17 in ./venv/lib/python3.11/site-packages (from SQLAlchemy<3,>=1.4->langchain>=0.0.334->llamabot) (3.0.3)\r\n",
      "Requirement already satisfied: mypy-extensions>=0.3.0 in ./venv/lib/python3.11/site-packages (from typing-inspect>=0.8.0->llama-index>=0.8.67->llamabot) (1.0.0)\r\n",
      "Requirement already satisfied: distlib<1,>=0.3.7 in ./venv/lib/python3.11/site-packages (from virtualenv>=20.10.0->pre-commit->llamabot) (0.3.8)\r\n",
      "Requirement already satisfied: filelock<4,>=3.12.2 in ./venv/lib/python3.11/site-packages (from virtualenv>=20.10.0->pre-commit->llamabot) (3.13.1)\r\n",
      "Requirement already satisfied: platformdirs<5,>=3.9.1 in ./venv/lib/python3.11/site-packages (from virtualenv>=20.10.0->pre-commit->llamabot) (4.1.0)\r\n",
      "Requirement already satisfied: pyparsing>=2.0.3 in ./venv/lib/python3.11/site-packages (from bibtexparser->pyzotero->llamabot) (3.1.1)\r\n",
      "Requirement already satisfied: six>=1.9.0 in ./venv/lib/python3.11/site-packages (from bleach->panel>=1.1.0->llamabot) (1.16.0)\r\n",
      "Requirement already satisfied: webencodings in ./venv/lib/python3.11/site-packages (from bleach->panel>=1.1.0->llamabot) (0.5.1)\r\n",
      "Requirement already satisfied: uc-micro-py in ./venv/lib/python3.11/site-packages (from linkify-it-py->panel>=1.1.0->llamabot) (1.0.2)\r\n",
      "Requirement already satisfied: decorator in ./venv/lib/python3.11/site-packages (from ipython>=6.1.0->ipywidgets==8.*->jupyter-bokeh->llamabot) (5.1.1)\r\n",
      "Requirement already satisfied: jedi>=0.16 in ./venv/lib/python3.11/site-packages (from ipython>=6.1.0->ipywidgets==8.*->jupyter-bokeh->llamabot) (0.19.1)\r\n",
      "Requirement already satisfied: matplotlib-inline in ./venv/lib/python3.11/site-packages (from ipython>=6.1.0->ipywidgets==8.*->jupyter-bokeh->llamabot) (0.1.6)\r\n",
      "Requirement already satisfied: stack-data in ./venv/lib/python3.11/site-packages (from ipython>=6.1.0->ipywidgets==8.*->jupyter-bokeh->llamabot) (0.6.3)\r\n",
      "Requirement already satisfied: pexpect>4.3 in ./venv/lib/python3.11/site-packages (from ipython>=6.1.0->ipywidgets==8.*->jupyter-bokeh->llamabot) (4.9.0)\r\n",
      "Requirement already satisfied: parso<0.9.0,>=0.8.3 in ./venv/lib/python3.11/site-packages (from jedi>=0.16->ipython>=6.1.0->ipywidgets==8.*->jupyter-bokeh->llamabot) (0.8.3)\r\n",
      "Requirement already satisfied: ptyprocess>=0.5 in ./venv/lib/python3.11/site-packages (from pexpect>4.3->ipython>=6.1.0->ipywidgets==8.*->jupyter-bokeh->llamabot) (0.7.0)\r\n",
      "Requirement already satisfied: executing>=1.2.0 in ./venv/lib/python3.11/site-packages (from stack-data->ipython>=6.1.0->ipywidgets==8.*->jupyter-bokeh->llamabot) (2.0.1)\r\n",
      "Requirement already satisfied: asttokens>=2.1.0 in ./venv/lib/python3.11/site-packages (from stack-data->ipython>=6.1.0->ipywidgets==8.*->jupyter-bokeh->llamabot) (2.4.1)\r\n",
      "Requirement already satisfied: pure-eval in ./venv/lib/python3.11/site-packages (from stack-data->ipython>=6.1.0->ipywidgets==8.*->jupyter-bokeh->llamabot) (0.2.2)\r\n",
      "Requirement already satisfied: tqdm in ./venv/lib/python3.11/site-packages (4.66.1)\r\n"
     ]
    }
   ],
   "source": [
    "!python --version\n",
    "import datetime\n",
    "!pip install numpy\n",
    "!pip install pandas\n",
    "!pip install tables\n",
    "import pandas as pd\n",
    "!pip install plotly\n",
    "!pip install llamabot\n",
    "import llamabot\n",
    "!pip install tqdm\n",
    "from tqdm import tqdm"
   ]
  },
  {
   "cell_type": "code",
   "outputs": [
    {
     "ename": "FileNotFoundError",
     "evalue": "[Errno 2] No such file or directory: 'pre_processed.pickle'",
     "output_type": "error",
     "traceback": [
      "\u001B[0;31m---------------------------------------------------------------------------\u001B[0m",
      "\u001B[0;31mFileNotFoundError\u001B[0m                         Traceback (most recent call last)",
      "Cell \u001B[0;32mIn[5], line 1\u001B[0m\n\u001B[0;32m----> 1\u001B[0m df\u001B[38;5;241m=\u001B[39m\u001B[43mpd\u001B[49m\u001B[38;5;241;43m.\u001B[39;49m\u001B[43mread_pickle\u001B[49m\u001B[43m(\u001B[49m\u001B[38;5;124;43m\"\u001B[39;49m\u001B[38;5;124;43mpre_processed.pickle\u001B[39;49m\u001B[38;5;124;43m\"\u001B[39;49m\u001B[43m)\u001B[49m\n\u001B[1;32m      2\u001B[0m training_df \u001B[38;5;241m=\u001B[39m df[df[\u001B[38;5;124m\"\u001B[39m\u001B[38;5;124mtrain\u001B[39m\u001B[38;5;124m\"\u001B[39m]]\n\u001B[1;32m      3\u001B[0m testing_df \u001B[38;5;241m=\u001B[39m df[df[\u001B[38;5;124m\"\u001B[39m\u001B[38;5;124mtest\u001B[39m\u001B[38;5;124m\"\u001B[39m]]\n",
      "File \u001B[0;32m~/dev/uni/tumprojectweek/venv/lib/python3.11/site-packages/pandas/io/pickle.py:189\u001B[0m, in \u001B[0;36mread_pickle\u001B[0;34m(filepath_or_buffer, compression, storage_options)\u001B[0m\n\u001B[1;32m    125\u001B[0m \u001B[38;5;250m\u001B[39m\u001B[38;5;124;03m\"\"\"\u001B[39;00m\n\u001B[1;32m    126\u001B[0m \u001B[38;5;124;03mLoad pickled pandas object (or any object) from file.\u001B[39;00m\n\u001B[1;32m    127\u001B[0m \n\u001B[0;32m   (...)\u001B[0m\n\u001B[1;32m    186\u001B[0m \u001B[38;5;124;03m4    4    9\u001B[39;00m\n\u001B[1;32m    187\u001B[0m \u001B[38;5;124;03m\"\"\"\u001B[39;00m\n\u001B[1;32m    188\u001B[0m excs_to_catch \u001B[38;5;241m=\u001B[39m (\u001B[38;5;167;01mAttributeError\u001B[39;00m, \u001B[38;5;167;01mImportError\u001B[39;00m, \u001B[38;5;167;01mModuleNotFoundError\u001B[39;00m, \u001B[38;5;167;01mTypeError\u001B[39;00m)\n\u001B[0;32m--> 189\u001B[0m \u001B[38;5;28;01mwith\u001B[39;00m \u001B[43mget_handle\u001B[49m\u001B[43m(\u001B[49m\n\u001B[1;32m    190\u001B[0m \u001B[43m    \u001B[49m\u001B[43mfilepath_or_buffer\u001B[49m\u001B[43m,\u001B[49m\n\u001B[1;32m    191\u001B[0m \u001B[43m    \u001B[49m\u001B[38;5;124;43m\"\u001B[39;49m\u001B[38;5;124;43mrb\u001B[39;49m\u001B[38;5;124;43m\"\u001B[39;49m\u001B[43m,\u001B[49m\n\u001B[1;32m    192\u001B[0m \u001B[43m    \u001B[49m\u001B[43mcompression\u001B[49m\u001B[38;5;241;43m=\u001B[39;49m\u001B[43mcompression\u001B[49m\u001B[43m,\u001B[49m\n\u001B[1;32m    193\u001B[0m \u001B[43m    \u001B[49m\u001B[43mis_text\u001B[49m\u001B[38;5;241;43m=\u001B[39;49m\u001B[38;5;28;43;01mFalse\u001B[39;49;00m\u001B[43m,\u001B[49m\n\u001B[1;32m    194\u001B[0m \u001B[43m    \u001B[49m\u001B[43mstorage_options\u001B[49m\u001B[38;5;241;43m=\u001B[39;49m\u001B[43mstorage_options\u001B[49m\u001B[43m,\u001B[49m\n\u001B[1;32m    195\u001B[0m \u001B[43m\u001B[49m\u001B[43m)\u001B[49m \u001B[38;5;28;01mas\u001B[39;00m handles:\n\u001B[1;32m    196\u001B[0m     \u001B[38;5;66;03m# 1) try standard library Pickle\u001B[39;00m\n\u001B[1;32m    197\u001B[0m     \u001B[38;5;66;03m# 2) try pickle_compat (older pandas version) to handle subclass changes\u001B[39;00m\n\u001B[1;32m    198\u001B[0m     \u001B[38;5;66;03m# 3) try pickle_compat with latin-1 encoding upon a UnicodeDecodeError\u001B[39;00m\n\u001B[1;32m    200\u001B[0m     \u001B[38;5;28;01mtry\u001B[39;00m:\n\u001B[1;32m    201\u001B[0m         \u001B[38;5;66;03m# TypeError for Cython complaints about object.__new__ vs Tick.__new__\u001B[39;00m\n\u001B[1;32m    202\u001B[0m         \u001B[38;5;28;01mtry\u001B[39;00m:\n",
      "File \u001B[0;32m~/dev/uni/tumprojectweek/venv/lib/python3.11/site-packages/pandas/io/common.py:872\u001B[0m, in \u001B[0;36mget_handle\u001B[0;34m(path_or_buf, mode, encoding, compression, memory_map, is_text, errors, storage_options)\u001B[0m\n\u001B[1;32m    863\u001B[0m         handle \u001B[38;5;241m=\u001B[39m \u001B[38;5;28mopen\u001B[39m(\n\u001B[1;32m    864\u001B[0m             handle,\n\u001B[1;32m    865\u001B[0m             ioargs\u001B[38;5;241m.\u001B[39mmode,\n\u001B[0;32m   (...)\u001B[0m\n\u001B[1;32m    868\u001B[0m             newline\u001B[38;5;241m=\u001B[39m\u001B[38;5;124m\"\u001B[39m\u001B[38;5;124m\"\u001B[39m,\n\u001B[1;32m    869\u001B[0m         )\n\u001B[1;32m    870\u001B[0m     \u001B[38;5;28;01melse\u001B[39;00m:\n\u001B[1;32m    871\u001B[0m         \u001B[38;5;66;03m# Binary mode\u001B[39;00m\n\u001B[0;32m--> 872\u001B[0m         handle \u001B[38;5;241m=\u001B[39m \u001B[38;5;28;43mopen\u001B[39;49m\u001B[43m(\u001B[49m\u001B[43mhandle\u001B[49m\u001B[43m,\u001B[49m\u001B[43m \u001B[49m\u001B[43mioargs\u001B[49m\u001B[38;5;241;43m.\u001B[39;49m\u001B[43mmode\u001B[49m\u001B[43m)\u001B[49m\n\u001B[1;32m    873\u001B[0m     handles\u001B[38;5;241m.\u001B[39mappend(handle)\n\u001B[1;32m    875\u001B[0m \u001B[38;5;66;03m# Convert BytesIO or file objects passed with an encoding\u001B[39;00m\n",
      "\u001B[0;31mFileNotFoundError\u001B[0m: [Errno 2] No such file or directory: 'pre_processed.pickle'"
     ]
    }
   ],
   "source": [
    "df = pd.read_pickle(\"pre_processed.pickle\")\n",
    "training_df = df[df[\"train\"]]\n",
    "testing_df = df[df[\"test\"]]"
   ],
   "metadata": {
    "collapsed": false,
    "ExecuteTime": {
     "end_time": "2024-01-08T12:17:42.431800682Z",
     "start_time": "2024-01-08T12:17:42.390763231Z"
    }
   },
   "id": "1f4e280f03a3113c",
   "execution_count": 5
  },
  {
   "cell_type": "code",
   "outputs": [],
   "source": [
    "from typing import TypedDict\n",
    "\n",
    "\n",
    "class Result(TypedDict):\n",
    "    model: str\n",
    "    time: datetime.datetime\n",
    "    promt_hash: int\n",
    "    hate_speach_probability: float\n",
    "\n",
    "\n",
    "results: list[Result] = []"
   ],
   "metadata": {
    "collapsed": false,
    "ExecuteTime": {
     "end_time": "2024-01-08T13:05:44.849036113Z",
     "start_time": "2024-01-08T13:05:44.846098106Z"
    }
   },
   "id": "ab3f8947f24b58e9",
   "execution_count": 50
  },
  {
   "cell_type": "code",
   "outputs": [
    {
     "name": "stderr",
     "output_type": "stream",
     "text": [
      "  0%|          | 0/10703 [00:00<?, ?it/s]"
     ]
    },
    {
     "name": "stdout",
     "output_type": "stream",
     "text": [
      "I 've always considered teaching as one of the professions I would like to get into , but not in a neighbourhood like that ... never. kids like that disgust me .\n",
      " {\n",
      "\"relevant_facts\": [\"The speaker expresses a negative opinion about a specific neighborhood and its children\"],\n",
      "\"contained_explicit_hate_speech_vocabular\": [],\n",
      "\"argument_for_hate_speech\": \"The speaker uses derogatory language to describe the children in the neighborhood, implying that they are undesirable or unworthy of consideration for teaching\",\n",
      "\"argument_against_hate_speech\": \"The speaker's statement does not directly target a specific racial, ethnic, religious, or other minority group, and it is focused on the behavior of the children rather than their inherent characteristics\",\n",
      "\"likelihood_of_presence_of_implicit_hate_speech\": 0.35,\n",
      "\"likelihood_of_presence_of_explicit_hate_speech\": 0.1,\n",
      "\"likelihood_of_ad_hominem_attack\": 0.2,\n",
      "\"likelihood_of_minority_attack\": 0.1,\n",
      "\"likelyhood_of_takedown_on_social_media\": 0.35,\n",
      "\"hate_speech_probability\": 0.3\n",
      "}"
     ]
    },
    {
     "name": "stderr",
     "output_type": "stream",
     "text": [
      "  0%|          | 1/10703 [01:32<273:29:51, 92.00s/it]"
     ]
    },
    {
     "name": "stdout",
     "output_type": "stream",
     "text": [
      "->  {\n",
      "\"relevant_facts\": [\"The speaker expresses a negative opinion about a specific neighborhood and its children\"],\n",
      "\"contained_explicit_hate_speech_vocabular\": [],\n",
      "\"argument_for_hate_speech\": \"The speaker uses derogatory language to describe the children in the neighborhood, implying that they are undesirable or unworthy of consideration for teaching\",\n",
      "\"argument_against_hate_speech\": \"The speaker's statement does not directly target a specific racial, ethnic, religious, or other minority group, and it is focused on the behavior of the children rather than their inherent characteristics\",\n",
      "\"likelihood_of_presence_of_implicit_hate_speech\": 0.35,\n",
      "\"likelihood_of_presence_of_explicit_hate_speech\": 0.1,\n",
      "\"likelihood_of_ad_hominem_attack\": 0.2,\n",
      "\"likelihood_of_minority_attack\": 0.1,\n",
      "\"likelyhood_of_takedown_on_social_media\": 0.35,\n",
      "\"hate_speech_probability\": 0.3\n",
      "}\n",
      "And the sad thing is the white students at those schools will act like that too .\n",
      " { \n",
      "  \"relevant_facts\": [\n",
      "    \"The sentence discusses the behavior of some students at certain schools.\",\n",
      "    \"It mentions the race or ethnicity of the students involved.\",\n",
      "    \"There is a statement about the likelihood of similar behavior from other students.\",\n",
      "  ],\n",
      "  \"contained_explicit_hate_speech_vocabular\": [\"none\"],\n",
      "  \"argument_for_hate_speech\": \"The sentence expresses a negative sentiment towards a specific racial or ethnic group, and implies that members of this group are more likely to engage in undesirable behavior.\",\n",
      "  \"argument_against_hate_speech\": \"The sentence does not contain any explicit hate speech vocabulary, but it does express a negative sentiment towards the behavior of some students, which is not inherently related to their race or ethnicity.\",\n",
      "  \"likelihood_of_presence_of_implicit_hate_speech\": 0.85,\n",
      "  \"likelihood_of_presence_of_explicit_hate_speech\": 0,\n",
      "  \"likelihood_of_ad_hominem_attack\": 0.12,\n",
      "  \"likelihood_of_minority_attack\": 0.95,\n",
      "  \"likelyhood_of_takedown_on_social_media\": 0.87,\n",
      "  \"hate_speech_probability\": 0.9,\n",
      "}"
     ]
    },
    {
     "name": "stderr",
     "output_type": "stream",
     "text": [
      "  0%|          | 2/10703 [03:32<323:36:08, 108.87s/it]"
     ]
    },
    {
     "name": "stdout",
     "output_type": "stream",
     "text": [
      "->  { \n",
      "  \"relevant_facts\": [\n",
      "    \"The sentence discusses the behavior of some students at certain schools.\",\n",
      "    \"It mentions the race or ethnicity of the students involved.\",\n",
      "    \"There is a statement about the likelihood of similar behavior from other students.\",\n",
      "  ],\n",
      "  \"contained_explicit_hate_speech_vocabular\": [\"none\"],\n",
      "  \"argument_for_hate_speech\": \"The sentence expresses a negative sentiment towards a specific racial or ethnic group, and implies that members of this group are more likely to engage in undesirable behavior.\",\n",
      "  \"argument_against_hate_speech\": \"The sentence does not contain any explicit hate speech vocabulary, but it does express a negative sentiment towards the behavior of some students, which is not inherently related to their race or ethnicity.\",\n",
      "  \"likelihood_of_presence_of_implicit_hate_speech\": 0.85,\n",
      "  \"likelihood_of_presence_of_explicit_hate_speech\": 0,\n",
      "  \"likelihood_of_ad_hominem_attack\": 0.12,\n",
      "  \"likelihood_of_minority_attack\": 0.95,\n",
      "  \"likelyhood_of_takedown_on_social_media\": 0.87,\n",
      "  \"hate_speech_probability\": 0.9,\n",
      "}\n",
      "This whole situation starts to become really bizarre .\n",
      " { \n",
      "  \"relevant_facts\": [],\n",
      "  \"contained_explicit_hate_speech_vocabular\": [],\n",
      "  \"argument_for_hate_speech\": \"\",\n",
      "  \"argument_against_hate_speech\": \"The given sentence does not contain any explicit or implicit hate speech. It is important to note that the absence of hate speech does not necessarily mean the absence of offensive or disrespectful language.\",\n",
      "  \"likelihood_of_presence_of_implicit_hate_speech\": 0,\n",
      "  \"likelihood_of_presence_of_explicit_hate_speech\": 0,\n",
      "  \"likelihood_of_ad_hominem_attack\": 0,\n",
      "  \"likelihood_of_minority_attack\": 0,\n",
      "  \"likelyhood_of_takedown_on_social_media\": 0,\n",
      "  \"hate_speech_probability\": 0\n",
      "}"
     ]
    },
    {
     "name": "stderr",
     "output_type": "stream",
     "text": [
      "  0%|          | 3/10703 [04:52<284:02:27, 95.57s/it] "
     ]
    },
    {
     "name": "stdout",
     "output_type": "stream",
     "text": [
      "->  { \n",
      "  \"relevant_facts\": [],\n",
      "  \"contained_explicit_hate_speech_vocabular\": [],\n",
      "  \"argument_for_hate_speech\": \"\",\n",
      "  \"argument_against_hate_speech\": \"The given sentence does not contain any explicit or implicit hate speech. It is important to note that the absence of hate speech does not necessarily mean the absence of offensive or disrespectful language.\",\n",
      "  \"likelihood_of_presence_of_implicit_hate_speech\": 0,\n",
      "  \"likelihood_of_presence_of_explicit_hate_speech\": 0,\n",
      "  \"likelihood_of_ad_hominem_attack\": 0,\n",
      "  \"likelihood_of_minority_attack\": 0,\n",
      "  \"likelyhood_of_takedown_on_social_media\": 0,\n",
      "  \"hate_speech_probability\": 0\n",
      "}\n",
      "That's all I needed to hear .\n",
      " {\n",
      " \"relevant_facts\": [],\n",
      " \"contained_explicit_hate_speech_vocabular\": [],\n",
      " \"argument_for_hate_speech\": \"\",\n",
      " \"argument_against_hate_speech\": \"The given sentence does not contain any explicit or implicit hate speech. It is important to note that the absence of hate speech does not necessarily mean the absence of offensive or disrespectful language.\",\n",
      " \"likelihood_of_presence_of_implicit_hate_speech\": 0,\n",
      " \"likelihood_of_presence_of_explicit_hate_speech\": 0,\n",
      " \"likelihood_of_ad_hominem_attack\": 0,\n",
      " \"likelihood_of_minority_attack\": 0,\n",
      " \"likelyhood_of_takedown_on_social_media\": 0,\n",
      " \"hate_speech_probability\": 0\n",
      "}"
     ]
    },
    {
     "name": "stderr",
     "output_type": "stream",
     "text": [
      "  0%|          | 4/10703 [06:06<258:38:53, 87.03s/it]"
     ]
    },
    {
     "name": "stdout",
     "output_type": "stream",
     "text": [
      "->  {\n",
      " \"relevant_facts\": [],\n",
      " \"contained_explicit_hate_speech_vocabular\": [],\n",
      " \"argument_for_hate_speech\": \"\",\n",
      " \"argument_against_hate_speech\": \"The given sentence does not contain any explicit or implicit hate speech. It is important to note that the absence of hate speech does not necessarily mean the absence of offensive or disrespectful language.\",\n",
      " \"likelihood_of_presence_of_implicit_hate_speech\": 0,\n",
      " \"likelihood_of_presence_of_explicit_hate_speech\": 0,\n",
      " \"likelihood_of_ad_hominem_attack\": 0,\n",
      " \"likelihood_of_minority_attack\": 0,\n",
      " \"likelyhood_of_takedown_on_social_media\": 0,\n",
      " \"hate_speech_probability\": 0\n",
      "}\n",
      "Excellent Article !! * * * * * Why Were n't They In Jail ?\n",
      " {\n",
      "\"relevant\\_facts\": [\"The article discussed a topic with no clear connection to hate speech.\", \"No explicit hate speech vocabulary was identified in the given sentence.\"],\n",
      "\"contained\\_explicit\\_hate\\_speech\\_vocabular\": [],\n",
      "\"argument\\_for\\_hate\\_speech\": \"There is no argument for hate speech in the given sentence.\",\n",
      "\"argument\\_against\\_hate\\_speech\": \"The sentence expresses curiosity and does not contain any language that could be considered hate speech.\",\n",
      "\"likelihood\\_of\\_presence\\_of\\_implicit\\_hate\\_speech\": 0.0,\n",
      "\"likelihood\\_of\\_presence\\_of\\_explicit\\_hate\\_speech\": 0.0,\n",
      "\"likelihood\\_of\\_ad\\_hominem\\_attack\": 0.0,\n",
      "\"likelihood\\_of\\_minority\\_attack\": 0.0,\n",
      "\"likelyhood\\_of\\_takedown\\_on\\_social\\_media\": 0.1,\n",
      "\"hate\\_speech\\_probability\": 0.0\n",
      "}"
     ]
    },
    {
     "name": "stderr",
     "output_type": "stream",
     "text": [
      "  0%|          | 5/10703 [07:36<262:08:51, 88.22s/it]"
     ]
    },
    {
     "name": "stdout",
     "output_type": "stream",
     "text": [
      "->  {\n",
      "\"relevant\\_facts\": [\"The article discussed a topic with no clear connection to hate speech.\", \"No explicit hate speech vocabulary was identified in the given sentence.\"],\n",
      "\"contained\\_explicit\\_hate\\_speech\\_vocabular\": [],\n",
      "\"argument\\_for\\_hate\\_speech\": \"There is no argument for hate speech in the given sentence.\",\n",
      "\"argument\\_against\\_hate\\_speech\": \"The sentence expresses curiosity and does not contain any language that could be considered hate speech.\",\n",
      "\"likelihood\\_of\\_presence\\_of\\_implicit\\_hate\\_speech\": 0.0,\n",
      "\"likelihood\\_of\\_presence\\_of\\_explicit\\_hate\\_speech\": 0.0,\n",
      "\"likelihood\\_of\\_ad\\_hominem\\_attack\": 0.0,\n",
      "\"likelihood\\_of\\_minority\\_attack\": 0.0,\n",
      "\"likelyhood\\_of\\_takedown\\_on\\_social\\_media\": 0.1,\n",
      "\"hate\\_speech\\_probability\": 0.0\n",
      "}\n",
      "Nevermind, found the new page Knew it had to be a groid .... any report of rape ?\n"
     ]
    },
    {
     "name": "stderr",
     "output_type": "stream",
     "text": [
      "  0%|          | 5/10703 [07:38<272:18:21, 91.63s/it]\n"
     ]
    },
    {
     "ename": "KeyboardInterrupt",
     "evalue": "",
     "output_type": "error",
     "traceback": [
      "\u001B[0;31m---------------------------------------------------------------------------\u001B[0m",
      "\u001B[0;31mKeyboardInterrupt\u001B[0m                         Traceback (most recent call last)",
      "Cell \u001B[0;32mIn[51], line 35\u001B[0m\n\u001B[1;32m     30\u001B[0m bot \u001B[38;5;241m=\u001B[39m llamabot\u001B[38;5;241m.\u001B[39mSimpleBot(\n\u001B[1;32m     31\u001B[0m     prompt,\n\u001B[1;32m     32\u001B[0m     model_name\u001B[38;5;241m=\u001B[39m\u001B[38;5;124m\"\u001B[39m\u001B[38;5;124mmistral\u001B[39m\u001B[38;5;124m\"\u001B[39m\n\u001B[1;32m     33\u001B[0m )\n\u001B[1;32m     34\u001B[0m \u001B[38;5;28mprint\u001B[39m(row[\u001B[38;5;124m\"\u001B[39m\u001B[38;5;124mtext\u001B[39m\u001B[38;5;124m\"\u001B[39m])\n\u001B[0;32m---> 35\u001B[0m res \u001B[38;5;241m=\u001B[39m \u001B[43mbot\u001B[49m\u001B[43m(\u001B[49m\u001B[43mrow\u001B[49m\u001B[43m[\u001B[49m\u001B[38;5;124;43m\"\u001B[39;49m\u001B[38;5;124;43mtext\u001B[39;49m\u001B[38;5;124;43m\"\u001B[39;49m\u001B[43m]\u001B[49m\u001B[43m)\u001B[49m\n\u001B[1;32m     36\u001B[0m \u001B[38;5;28mprint\u001B[39m(\u001B[38;5;124m\"\u001B[39m\u001B[38;5;124m-> \u001B[39m\u001B[38;5;124m\"\u001B[39m \u001B[38;5;241m+\u001B[39m res\u001B[38;5;241m.\u001B[39mcontent)\n\u001B[1;32m     37\u001B[0m results\u001B[38;5;241m.\u001B[39mappend({\n\u001B[1;32m     38\u001B[0m     \u001B[38;5;124m\"\u001B[39m\u001B[38;5;124mmodel\u001B[39m\u001B[38;5;124m\"\u001B[39m: \u001B[38;5;124m\"\u001B[39m\u001B[38;5;124mmistral\u001B[39m\u001B[38;5;124m\"\u001B[39m,\n\u001B[1;32m     39\u001B[0m     \u001B[38;5;124m\"\u001B[39m\u001B[38;5;124mtime\u001B[39m\u001B[38;5;124m\"\u001B[39m: datetime\u001B[38;5;241m.\u001B[39mdatetime\u001B[38;5;241m.\u001B[39mnow(),\n\u001B[1;32m     40\u001B[0m     \u001B[38;5;124m\"\u001B[39m\u001B[38;5;124mpromt_hash\u001B[39m\u001B[38;5;124m\"\u001B[39m: \u001B[38;5;28mhash\u001B[39m(prompt),\n\u001B[1;32m     41\u001B[0m     \u001B[38;5;124m\"\u001B[39m\u001B[38;5;124mhate_speach_probability\u001B[39m\u001B[38;5;124m\"\u001B[39m: res\u001B[38;5;241m.\u001B[39mcontent\n\u001B[1;32m     42\u001B[0m })\n",
      "File \u001B[0;32m~/dev/uni/tumprojectweek/venv/lib/python3.11/site-packages/llamabot/bot/simplebot.py:60\u001B[0m, in \u001B[0;36mSimpleBot.__call__\u001B[0;34m(self, human_message)\u001B[0m\n\u001B[1;32m     50\u001B[0m \u001B[38;5;250m\u001B[39m\u001B[38;5;124;03m\"\"\"Call the SimpleBot.\u001B[39;00m\n\u001B[1;32m     51\u001B[0m \n\u001B[1;32m     52\u001B[0m \u001B[38;5;124;03m:param human_message: The human message to use.\u001B[39;00m\n\u001B[1;32m     53\u001B[0m \u001B[38;5;124;03m:return: The response to the human message, primed by the system prompt.\u001B[39;00m\n\u001B[1;32m     54\u001B[0m \u001B[38;5;124;03m\"\"\"\u001B[39;00m\n\u001B[1;32m     56\u001B[0m messages \u001B[38;5;241m=\u001B[39m [\n\u001B[1;32m     57\u001B[0m     SystemMessage(content\u001B[38;5;241m=\u001B[39m\u001B[38;5;28mself\u001B[39m\u001B[38;5;241m.\u001B[39msystem_prompt),\n\u001B[1;32m     58\u001B[0m     HumanMessage(content\u001B[38;5;241m=\u001B[39mhuman_message),\n\u001B[1;32m     59\u001B[0m ]\n\u001B[0;32m---> 60\u001B[0m response \u001B[38;5;241m=\u001B[39m \u001B[38;5;28;43mself\u001B[39;49m\u001B[38;5;241;43m.\u001B[39;49m\u001B[43mmodel\u001B[49m\u001B[43m(\u001B[49m\u001B[43mmessages\u001B[49m\u001B[43m)\u001B[49m\n\u001B[1;32m     61\u001B[0m \u001B[38;5;28mself\u001B[39m\u001B[38;5;241m.\u001B[39mchat_history\u001B[38;5;241m.\u001B[39mappend(HumanMessage(content\u001B[38;5;241m=\u001B[39mhuman_message))\n\u001B[1;32m     62\u001B[0m \u001B[38;5;28mself\u001B[39m\u001B[38;5;241m.\u001B[39mchat_history\u001B[38;5;241m.\u001B[39mappend(response)\n",
      "File \u001B[0;32m~/dev/uni/tumprojectweek/venv/lib/python3.11/site-packages/langchain_core/_api/deprecation.py:142\u001B[0m, in \u001B[0;36mdeprecated.<locals>.deprecate.<locals>.warning_emitting_wrapper\u001B[0;34m(*args, **kwargs)\u001B[0m\n\u001B[1;32m    140\u001B[0m     warned \u001B[38;5;241m=\u001B[39m \u001B[38;5;28;01mTrue\u001B[39;00m\n\u001B[1;32m    141\u001B[0m     emit_warning()\n\u001B[0;32m--> 142\u001B[0m \u001B[38;5;28;01mreturn\u001B[39;00m \u001B[43mwrapped\u001B[49m\u001B[43m(\u001B[49m\u001B[38;5;241;43m*\u001B[39;49m\u001B[43margs\u001B[49m\u001B[43m,\u001B[49m\u001B[43m \u001B[49m\u001B[38;5;241;43m*\u001B[39;49m\u001B[38;5;241;43m*\u001B[39;49m\u001B[43mkwargs\u001B[49m\u001B[43m)\u001B[49m\n",
      "File \u001B[0;32m~/dev/uni/tumprojectweek/venv/lib/python3.11/site-packages/langchain_core/language_models/chat_models.py:690\u001B[0m, in \u001B[0;36mBaseChatModel.__call__\u001B[0;34m(self, messages, stop, callbacks, **kwargs)\u001B[0m\n\u001B[1;32m    682\u001B[0m \u001B[38;5;129m@deprecated\u001B[39m(\u001B[38;5;124m\"\u001B[39m\u001B[38;5;124m0.1.7\u001B[39m\u001B[38;5;124m\"\u001B[39m, alternative\u001B[38;5;241m=\u001B[39m\u001B[38;5;124m\"\u001B[39m\u001B[38;5;124minvoke\u001B[39m\u001B[38;5;124m\"\u001B[39m, removal\u001B[38;5;241m=\u001B[39m\u001B[38;5;124m\"\u001B[39m\u001B[38;5;124m0.2.0\u001B[39m\u001B[38;5;124m\"\u001B[39m)\n\u001B[1;32m    683\u001B[0m \u001B[38;5;28;01mdef\u001B[39;00m \u001B[38;5;21m__call__\u001B[39m(\n\u001B[1;32m    684\u001B[0m     \u001B[38;5;28mself\u001B[39m,\n\u001B[0;32m   (...)\u001B[0m\n\u001B[1;32m    688\u001B[0m     \u001B[38;5;241m*\u001B[39m\u001B[38;5;241m*\u001B[39mkwargs: Any,\n\u001B[1;32m    689\u001B[0m ) \u001B[38;5;241m-\u001B[39m\u001B[38;5;241m>\u001B[39m BaseMessage:\n\u001B[0;32m--> 690\u001B[0m     generation \u001B[38;5;241m=\u001B[39m \u001B[38;5;28;43mself\u001B[39;49m\u001B[38;5;241;43m.\u001B[39;49m\u001B[43mgenerate\u001B[49m\u001B[43m(\u001B[49m\n\u001B[1;32m    691\u001B[0m \u001B[43m        \u001B[49m\u001B[43m[\u001B[49m\u001B[43mmessages\u001B[49m\u001B[43m]\u001B[49m\u001B[43m,\u001B[49m\u001B[43m \u001B[49m\u001B[43mstop\u001B[49m\u001B[38;5;241;43m=\u001B[39;49m\u001B[43mstop\u001B[49m\u001B[43m,\u001B[49m\u001B[43m \u001B[49m\u001B[43mcallbacks\u001B[49m\u001B[38;5;241;43m=\u001B[39;49m\u001B[43mcallbacks\u001B[49m\u001B[43m,\u001B[49m\u001B[43m \u001B[49m\u001B[38;5;241;43m*\u001B[39;49m\u001B[38;5;241;43m*\u001B[39;49m\u001B[43mkwargs\u001B[49m\n\u001B[1;32m    692\u001B[0m \u001B[43m    \u001B[49m\u001B[43m)\u001B[49m\u001B[38;5;241m.\u001B[39mgenerations[\u001B[38;5;241m0\u001B[39m][\u001B[38;5;241m0\u001B[39m]\n\u001B[1;32m    693\u001B[0m     \u001B[38;5;28;01mif\u001B[39;00m \u001B[38;5;28misinstance\u001B[39m(generation, ChatGeneration):\n\u001B[1;32m    694\u001B[0m         \u001B[38;5;28;01mreturn\u001B[39;00m generation\u001B[38;5;241m.\u001B[39mmessage\n",
      "File \u001B[0;32m~/dev/uni/tumprojectweek/venv/lib/python3.11/site-packages/langchain_core/language_models/chat_models.py:407\u001B[0m, in \u001B[0;36mBaseChatModel.generate\u001B[0;34m(self, messages, stop, callbacks, tags, metadata, run_name, **kwargs)\u001B[0m\n\u001B[1;32m    405\u001B[0m         \u001B[38;5;28;01mif\u001B[39;00m run_managers:\n\u001B[1;32m    406\u001B[0m             run_managers[i]\u001B[38;5;241m.\u001B[39mon_llm_error(e, response\u001B[38;5;241m=\u001B[39mLLMResult(generations\u001B[38;5;241m=\u001B[39m[]))\n\u001B[0;32m--> 407\u001B[0m         \u001B[38;5;28;01mraise\u001B[39;00m e\n\u001B[1;32m    408\u001B[0m flattened_outputs \u001B[38;5;241m=\u001B[39m [\n\u001B[1;32m    409\u001B[0m     LLMResult(generations\u001B[38;5;241m=\u001B[39m[res\u001B[38;5;241m.\u001B[39mgenerations], llm_output\u001B[38;5;241m=\u001B[39mres\u001B[38;5;241m.\u001B[39mllm_output)\n\u001B[1;32m    410\u001B[0m     \u001B[38;5;28;01mfor\u001B[39;00m res \u001B[38;5;129;01min\u001B[39;00m results\n\u001B[1;32m    411\u001B[0m ]\n\u001B[1;32m    412\u001B[0m llm_output \u001B[38;5;241m=\u001B[39m \u001B[38;5;28mself\u001B[39m\u001B[38;5;241m.\u001B[39m_combine_llm_outputs([res\u001B[38;5;241m.\u001B[39mllm_output \u001B[38;5;28;01mfor\u001B[39;00m res \u001B[38;5;129;01min\u001B[39;00m results])\n",
      "File \u001B[0;32m~/dev/uni/tumprojectweek/venv/lib/python3.11/site-packages/langchain_core/language_models/chat_models.py:397\u001B[0m, in \u001B[0;36mBaseChatModel.generate\u001B[0;34m(self, messages, stop, callbacks, tags, metadata, run_name, **kwargs)\u001B[0m\n\u001B[1;32m    394\u001B[0m \u001B[38;5;28;01mfor\u001B[39;00m i, m \u001B[38;5;129;01min\u001B[39;00m \u001B[38;5;28menumerate\u001B[39m(messages):\n\u001B[1;32m    395\u001B[0m     \u001B[38;5;28;01mtry\u001B[39;00m:\n\u001B[1;32m    396\u001B[0m         results\u001B[38;5;241m.\u001B[39mappend(\n\u001B[0;32m--> 397\u001B[0m             \u001B[38;5;28;43mself\u001B[39;49m\u001B[38;5;241;43m.\u001B[39;49m\u001B[43m_generate_with_cache\u001B[49m\u001B[43m(\u001B[49m\n\u001B[1;32m    398\u001B[0m \u001B[43m                \u001B[49m\u001B[43mm\u001B[49m\u001B[43m,\u001B[49m\n\u001B[1;32m    399\u001B[0m \u001B[43m                \u001B[49m\u001B[43mstop\u001B[49m\u001B[38;5;241;43m=\u001B[39;49m\u001B[43mstop\u001B[49m\u001B[43m,\u001B[49m\n\u001B[1;32m    400\u001B[0m \u001B[43m                \u001B[49m\u001B[43mrun_manager\u001B[49m\u001B[38;5;241;43m=\u001B[39;49m\u001B[43mrun_managers\u001B[49m\u001B[43m[\u001B[49m\u001B[43mi\u001B[49m\u001B[43m]\u001B[49m\u001B[43m \u001B[49m\u001B[38;5;28;43;01mif\u001B[39;49;00m\u001B[43m \u001B[49m\u001B[43mrun_managers\u001B[49m\u001B[43m \u001B[49m\u001B[38;5;28;43;01melse\u001B[39;49;00m\u001B[43m \u001B[49m\u001B[38;5;28;43;01mNone\u001B[39;49;00m\u001B[43m,\u001B[49m\n\u001B[1;32m    401\u001B[0m \u001B[43m                \u001B[49m\u001B[38;5;241;43m*\u001B[39;49m\u001B[38;5;241;43m*\u001B[39;49m\u001B[43mkwargs\u001B[49m\u001B[43m,\u001B[49m\n\u001B[1;32m    402\u001B[0m \u001B[43m            \u001B[49m\u001B[43m)\u001B[49m\n\u001B[1;32m    403\u001B[0m         )\n\u001B[1;32m    404\u001B[0m     \u001B[38;5;28;01mexcept\u001B[39;00m \u001B[38;5;167;01mBaseException\u001B[39;00m \u001B[38;5;28;01mas\u001B[39;00m e:\n\u001B[1;32m    405\u001B[0m         \u001B[38;5;28;01mif\u001B[39;00m run_managers:\n",
      "File \u001B[0;32m~/dev/uni/tumprojectweek/venv/lib/python3.11/site-packages/langchain_core/language_models/chat_models.py:576\u001B[0m, in \u001B[0;36mBaseChatModel._generate_with_cache\u001B[0;34m(self, messages, stop, run_manager, **kwargs)\u001B[0m\n\u001B[1;32m    572\u001B[0m     \u001B[38;5;28;01mraise\u001B[39;00m \u001B[38;5;167;01mValueError\u001B[39;00m(\n\u001B[1;32m    573\u001B[0m         \u001B[38;5;124m\"\u001B[39m\u001B[38;5;124mAsked to cache, but no cache found at `langchain.cache`.\u001B[39m\u001B[38;5;124m\"\u001B[39m\n\u001B[1;32m    574\u001B[0m     )\n\u001B[1;32m    575\u001B[0m \u001B[38;5;28;01mif\u001B[39;00m new_arg_supported:\n\u001B[0;32m--> 576\u001B[0m     \u001B[38;5;28;01mreturn\u001B[39;00m \u001B[38;5;28;43mself\u001B[39;49m\u001B[38;5;241;43m.\u001B[39;49m\u001B[43m_generate\u001B[49m\u001B[43m(\u001B[49m\n\u001B[1;32m    577\u001B[0m \u001B[43m        \u001B[49m\u001B[43mmessages\u001B[49m\u001B[43m,\u001B[49m\u001B[43m \u001B[49m\u001B[43mstop\u001B[49m\u001B[38;5;241;43m=\u001B[39;49m\u001B[43mstop\u001B[49m\u001B[43m,\u001B[49m\u001B[43m \u001B[49m\u001B[43mrun_manager\u001B[49m\u001B[38;5;241;43m=\u001B[39;49m\u001B[43mrun_manager\u001B[49m\u001B[43m,\u001B[49m\u001B[43m \u001B[49m\u001B[38;5;241;43m*\u001B[39;49m\u001B[38;5;241;43m*\u001B[39;49m\u001B[43mkwargs\u001B[49m\n\u001B[1;32m    578\u001B[0m \u001B[43m    \u001B[49m\u001B[43m)\u001B[49m\n\u001B[1;32m    579\u001B[0m \u001B[38;5;28;01melse\u001B[39;00m:\n\u001B[1;32m    580\u001B[0m     \u001B[38;5;28;01mreturn\u001B[39;00m \u001B[38;5;28mself\u001B[39m\u001B[38;5;241m.\u001B[39m_generate(messages, stop\u001B[38;5;241m=\u001B[39mstop, \u001B[38;5;241m*\u001B[39m\u001B[38;5;241m*\u001B[39mkwargs)\n",
      "File \u001B[0;32m~/dev/uni/tumprojectweek/venv/lib/python3.11/site-packages/langchain_community/chat_models/ollama.py:250\u001B[0m, in \u001B[0;36mChatOllama._generate\u001B[0;34m(self, messages, stop, run_manager, **kwargs)\u001B[0m\n\u001B[1;32m    226\u001B[0m \u001B[38;5;28;01mdef\u001B[39;00m \u001B[38;5;21m_generate\u001B[39m(\n\u001B[1;32m    227\u001B[0m     \u001B[38;5;28mself\u001B[39m,\n\u001B[1;32m    228\u001B[0m     messages: List[BaseMessage],\n\u001B[0;32m   (...)\u001B[0m\n\u001B[1;32m    231\u001B[0m     \u001B[38;5;241m*\u001B[39m\u001B[38;5;241m*\u001B[39mkwargs: Any,\n\u001B[1;32m    232\u001B[0m ) \u001B[38;5;241m-\u001B[39m\u001B[38;5;241m>\u001B[39m ChatResult:\n\u001B[1;32m    233\u001B[0m \u001B[38;5;250m    \u001B[39m\u001B[38;5;124;03m\"\"\"Call out to Ollama's generate endpoint.\u001B[39;00m\n\u001B[1;32m    234\u001B[0m \n\u001B[1;32m    235\u001B[0m \u001B[38;5;124;03m    Args:\u001B[39;00m\n\u001B[0;32m   (...)\u001B[0m\n\u001B[1;32m    247\u001B[0m \u001B[38;5;124;03m            ])\u001B[39;00m\n\u001B[1;32m    248\u001B[0m \u001B[38;5;124;03m    \"\"\"\u001B[39;00m\n\u001B[0;32m--> 250\u001B[0m     final_chunk \u001B[38;5;241m=\u001B[39m \u001B[38;5;28;43mself\u001B[39;49m\u001B[38;5;241;43m.\u001B[39;49m\u001B[43m_chat_stream_with_aggregation\u001B[49m\u001B[43m(\u001B[49m\n\u001B[1;32m    251\u001B[0m \u001B[43m        \u001B[49m\u001B[43mmessages\u001B[49m\u001B[43m,\u001B[49m\n\u001B[1;32m    252\u001B[0m \u001B[43m        \u001B[49m\u001B[43mstop\u001B[49m\u001B[38;5;241;43m=\u001B[39;49m\u001B[43mstop\u001B[49m\u001B[43m,\u001B[49m\n\u001B[1;32m    253\u001B[0m \u001B[43m        \u001B[49m\u001B[43mrun_manager\u001B[49m\u001B[38;5;241;43m=\u001B[39;49m\u001B[43mrun_manager\u001B[49m\u001B[43m,\u001B[49m\n\u001B[1;32m    254\u001B[0m \u001B[43m        \u001B[49m\u001B[43mverbose\u001B[49m\u001B[38;5;241;43m=\u001B[39;49m\u001B[38;5;28;43mself\u001B[39;49m\u001B[38;5;241;43m.\u001B[39;49m\u001B[43mverbose\u001B[49m\u001B[43m,\u001B[49m\n\u001B[1;32m    255\u001B[0m \u001B[43m        \u001B[49m\u001B[38;5;241;43m*\u001B[39;49m\u001B[38;5;241;43m*\u001B[39;49m\u001B[43mkwargs\u001B[49m\u001B[43m,\u001B[49m\n\u001B[1;32m    256\u001B[0m \u001B[43m    \u001B[49m\u001B[43m)\u001B[49m\n\u001B[1;32m    257\u001B[0m     chat_generation \u001B[38;5;241m=\u001B[39m ChatGeneration(\n\u001B[1;32m    258\u001B[0m         message\u001B[38;5;241m=\u001B[39mAIMessage(content\u001B[38;5;241m=\u001B[39mfinal_chunk\u001B[38;5;241m.\u001B[39mtext),\n\u001B[1;32m    259\u001B[0m         generation_info\u001B[38;5;241m=\u001B[39mfinal_chunk\u001B[38;5;241m.\u001B[39mgeneration_info,\n\u001B[1;32m    260\u001B[0m     )\n\u001B[1;32m    261\u001B[0m     \u001B[38;5;28;01mreturn\u001B[39;00m ChatResult(generations\u001B[38;5;241m=\u001B[39m[chat_generation])\n",
      "File \u001B[0;32m~/dev/uni/tumprojectweek/venv/lib/python3.11/site-packages/langchain_community/chat_models/ollama.py:183\u001B[0m, in \u001B[0;36mChatOllama._chat_stream_with_aggregation\u001B[0;34m(self, messages, stop, run_manager, verbose, **kwargs)\u001B[0m\n\u001B[1;32m    174\u001B[0m \u001B[38;5;28;01mdef\u001B[39;00m \u001B[38;5;21m_chat_stream_with_aggregation\u001B[39m(\n\u001B[1;32m    175\u001B[0m     \u001B[38;5;28mself\u001B[39m,\n\u001B[1;32m    176\u001B[0m     messages: List[BaseMessage],\n\u001B[0;32m   (...)\u001B[0m\n\u001B[1;32m    180\u001B[0m     \u001B[38;5;241m*\u001B[39m\u001B[38;5;241m*\u001B[39mkwargs: Any,\n\u001B[1;32m    181\u001B[0m ) \u001B[38;5;241m-\u001B[39m\u001B[38;5;241m>\u001B[39m ChatGenerationChunk:\n\u001B[1;32m    182\u001B[0m     final_chunk: Optional[ChatGenerationChunk] \u001B[38;5;241m=\u001B[39m \u001B[38;5;28;01mNone\u001B[39;00m\n\u001B[0;32m--> 183\u001B[0m \u001B[43m    \u001B[49m\u001B[38;5;28;43;01mfor\u001B[39;49;00m\u001B[43m \u001B[49m\u001B[43mstream_resp\u001B[49m\u001B[43m \u001B[49m\u001B[38;5;129;43;01min\u001B[39;49;00m\u001B[43m \u001B[49m\u001B[38;5;28;43mself\u001B[39;49m\u001B[38;5;241;43m.\u001B[39;49m\u001B[43m_create_chat_stream\u001B[49m\u001B[43m(\u001B[49m\u001B[43mmessages\u001B[49m\u001B[43m,\u001B[49m\u001B[43m \u001B[49m\u001B[43mstop\u001B[49m\u001B[43m,\u001B[49m\u001B[43m \u001B[49m\u001B[38;5;241;43m*\u001B[39;49m\u001B[38;5;241;43m*\u001B[39;49m\u001B[43mkwargs\u001B[49m\u001B[43m)\u001B[49m\u001B[43m:\u001B[49m\n\u001B[1;32m    184\u001B[0m \u001B[43m        \u001B[49m\u001B[38;5;28;43;01mif\u001B[39;49;00m\u001B[43m \u001B[49m\u001B[43mstream_resp\u001B[49m\u001B[43m:\u001B[49m\n\u001B[1;32m    185\u001B[0m \u001B[43m            \u001B[49m\u001B[43mchunk\u001B[49m\u001B[43m \u001B[49m\u001B[38;5;241;43m=\u001B[39;49m\u001B[43m \u001B[49m\u001B[43m_chat_stream_response_to_chat_generation_chunk\u001B[49m\u001B[43m(\u001B[49m\u001B[43mstream_resp\u001B[49m\u001B[43m)\u001B[49m\n",
      "File \u001B[0;32m~/dev/uni/tumprojectweek/venv/lib/python3.11/site-packages/langchain_community/chat_models/ollama.py:156\u001B[0m, in \u001B[0;36mChatOllama._create_chat_stream\u001B[0;34m(self, messages, stop, **kwargs)\u001B[0m\n\u001B[1;32m    147\u001B[0m \u001B[38;5;28;01mdef\u001B[39;00m \u001B[38;5;21m_create_chat_stream\u001B[39m(\n\u001B[1;32m    148\u001B[0m     \u001B[38;5;28mself\u001B[39m,\n\u001B[1;32m    149\u001B[0m     messages: List[BaseMessage],\n\u001B[1;32m    150\u001B[0m     stop: Optional[List[\u001B[38;5;28mstr\u001B[39m]] \u001B[38;5;241m=\u001B[39m \u001B[38;5;28;01mNone\u001B[39;00m,\n\u001B[1;32m    151\u001B[0m     \u001B[38;5;241m*\u001B[39m\u001B[38;5;241m*\u001B[39mkwargs: Any,\n\u001B[1;32m    152\u001B[0m ) \u001B[38;5;241m-\u001B[39m\u001B[38;5;241m>\u001B[39m Iterator[\u001B[38;5;28mstr\u001B[39m]:\n\u001B[1;32m    153\u001B[0m     payload \u001B[38;5;241m=\u001B[39m {\n\u001B[1;32m    154\u001B[0m         \u001B[38;5;124m\"\u001B[39m\u001B[38;5;124mmessages\u001B[39m\u001B[38;5;124m\"\u001B[39m: \u001B[38;5;28mself\u001B[39m\u001B[38;5;241m.\u001B[39m_convert_messages_to_ollama_messages(messages),\n\u001B[1;32m    155\u001B[0m     }\n\u001B[0;32m--> 156\u001B[0m     \u001B[38;5;28;01myield from\u001B[39;00m \u001B[38;5;28;43mself\u001B[39;49m\u001B[38;5;241;43m.\u001B[39;49m\u001B[43m_create_stream\u001B[49m\u001B[43m(\u001B[49m\n\u001B[1;32m    157\u001B[0m \u001B[43m        \u001B[49m\u001B[43mpayload\u001B[49m\u001B[38;5;241;43m=\u001B[39;49m\u001B[43mpayload\u001B[49m\u001B[43m,\u001B[49m\u001B[43m \u001B[49m\u001B[43mstop\u001B[49m\u001B[38;5;241;43m=\u001B[39;49m\u001B[43mstop\u001B[49m\u001B[43m,\u001B[49m\u001B[43m \u001B[49m\u001B[43mapi_url\u001B[49m\u001B[38;5;241;43m=\u001B[39;49m\u001B[38;5;124;43mf\u001B[39;49m\u001B[38;5;124;43m\"\u001B[39;49m\u001B[38;5;132;43;01m{\u001B[39;49;00m\u001B[38;5;28;43mself\u001B[39;49m\u001B[38;5;241;43m.\u001B[39;49m\u001B[43mbase_url\u001B[49m\u001B[38;5;132;43;01m}\u001B[39;49;00m\u001B[38;5;124;43m/api/chat/\u001B[39;49m\u001B[38;5;124;43m\"\u001B[39;49m\u001B[43m,\u001B[49m\u001B[43m \u001B[49m\u001B[38;5;241;43m*\u001B[39;49m\u001B[38;5;241;43m*\u001B[39;49m\u001B[43mkwargs\u001B[49m\n\u001B[1;32m    158\u001B[0m \u001B[43m    \u001B[49m\u001B[43m)\u001B[49m\n",
      "File \u001B[0;32m~/dev/uni/tumprojectweek/venv/lib/python3.11/site-packages/langchain_community/llms/ollama.py:208\u001B[0m, in \u001B[0;36m_OllamaCommon._create_stream\u001B[0;34m(self, api_url, payload, stop, **kwargs)\u001B[0m\n\u001B[1;32m    201\u001B[0m \u001B[38;5;28;01melse\u001B[39;00m:\n\u001B[1;32m    202\u001B[0m     request_payload \u001B[38;5;241m=\u001B[39m {\n\u001B[1;32m    203\u001B[0m         \u001B[38;5;124m\"\u001B[39m\u001B[38;5;124mprompt\u001B[39m\u001B[38;5;124m\"\u001B[39m: payload\u001B[38;5;241m.\u001B[39mget(\u001B[38;5;124m\"\u001B[39m\u001B[38;5;124mprompt\u001B[39m\u001B[38;5;124m\"\u001B[39m),\n\u001B[1;32m    204\u001B[0m         \u001B[38;5;124m\"\u001B[39m\u001B[38;5;124mimages\u001B[39m\u001B[38;5;124m\"\u001B[39m: payload\u001B[38;5;241m.\u001B[39mget(\u001B[38;5;124m\"\u001B[39m\u001B[38;5;124mimages\u001B[39m\u001B[38;5;124m\"\u001B[39m, []),\n\u001B[1;32m    205\u001B[0m         \u001B[38;5;241m*\u001B[39m\u001B[38;5;241m*\u001B[39mparams,\n\u001B[1;32m    206\u001B[0m     }\n\u001B[0;32m--> 208\u001B[0m response \u001B[38;5;241m=\u001B[39m \u001B[43mrequests\u001B[49m\u001B[38;5;241;43m.\u001B[39;49m\u001B[43mpost\u001B[49m\u001B[43m(\u001B[49m\n\u001B[1;32m    209\u001B[0m \u001B[43m    \u001B[49m\u001B[43murl\u001B[49m\u001B[38;5;241;43m=\u001B[39;49m\u001B[43mapi_url\u001B[49m\u001B[43m,\u001B[49m\n\u001B[1;32m    210\u001B[0m \u001B[43m    \u001B[49m\u001B[43mheaders\u001B[49m\u001B[38;5;241;43m=\u001B[39;49m\u001B[43m{\u001B[49m\u001B[38;5;124;43m\"\u001B[39;49m\u001B[38;5;124;43mContent-Type\u001B[39;49m\u001B[38;5;124;43m\"\u001B[39;49m\u001B[43m:\u001B[49m\u001B[43m \u001B[49m\u001B[38;5;124;43m\"\u001B[39;49m\u001B[38;5;124;43mapplication/json\u001B[39;49m\u001B[38;5;124;43m\"\u001B[39;49m\u001B[43m}\u001B[49m\u001B[43m,\u001B[49m\n\u001B[1;32m    211\u001B[0m \u001B[43m    \u001B[49m\u001B[43mjson\u001B[49m\u001B[38;5;241;43m=\u001B[39;49m\u001B[43mrequest_payload\u001B[49m\u001B[43m,\u001B[49m\n\u001B[1;32m    212\u001B[0m \u001B[43m    \u001B[49m\u001B[43mstream\u001B[49m\u001B[38;5;241;43m=\u001B[39;49m\u001B[38;5;28;43;01mTrue\u001B[39;49;00m\u001B[43m,\u001B[49m\n\u001B[1;32m    213\u001B[0m \u001B[43m    \u001B[49m\u001B[43mtimeout\u001B[49m\u001B[38;5;241;43m=\u001B[39;49m\u001B[38;5;28;43mself\u001B[39;49m\u001B[38;5;241;43m.\u001B[39;49m\u001B[43mtimeout\u001B[49m\u001B[43m,\u001B[49m\n\u001B[1;32m    214\u001B[0m \u001B[43m\u001B[49m\u001B[43m)\u001B[49m\n\u001B[1;32m    215\u001B[0m response\u001B[38;5;241m.\u001B[39mencoding \u001B[38;5;241m=\u001B[39m \u001B[38;5;124m\"\u001B[39m\u001B[38;5;124mutf-8\u001B[39m\u001B[38;5;124m\"\u001B[39m\n\u001B[1;32m    216\u001B[0m \u001B[38;5;28;01mif\u001B[39;00m response\u001B[38;5;241m.\u001B[39mstatus_code \u001B[38;5;241m!=\u001B[39m \u001B[38;5;241m200\u001B[39m:\n",
      "File \u001B[0;32m~/dev/uni/tumprojectweek/venv/lib/python3.11/site-packages/requests/api.py:115\u001B[0m, in \u001B[0;36mpost\u001B[0;34m(url, data, json, **kwargs)\u001B[0m\n\u001B[1;32m    103\u001B[0m \u001B[38;5;28;01mdef\u001B[39;00m \u001B[38;5;21mpost\u001B[39m(url, data\u001B[38;5;241m=\u001B[39m\u001B[38;5;28;01mNone\u001B[39;00m, json\u001B[38;5;241m=\u001B[39m\u001B[38;5;28;01mNone\u001B[39;00m, \u001B[38;5;241m*\u001B[39m\u001B[38;5;241m*\u001B[39mkwargs):\n\u001B[1;32m    104\u001B[0m \u001B[38;5;250m    \u001B[39m\u001B[38;5;124mr\u001B[39m\u001B[38;5;124;03m\"\"\"Sends a POST request.\u001B[39;00m\n\u001B[1;32m    105\u001B[0m \n\u001B[1;32m    106\u001B[0m \u001B[38;5;124;03m    :param url: URL for the new :class:`Request` object.\u001B[39;00m\n\u001B[0;32m   (...)\u001B[0m\n\u001B[1;32m    112\u001B[0m \u001B[38;5;124;03m    :rtype: requests.Response\u001B[39;00m\n\u001B[1;32m    113\u001B[0m \u001B[38;5;124;03m    \"\"\"\u001B[39;00m\n\u001B[0;32m--> 115\u001B[0m     \u001B[38;5;28;01mreturn\u001B[39;00m \u001B[43mrequest\u001B[49m\u001B[43m(\u001B[49m\u001B[38;5;124;43m\"\u001B[39;49m\u001B[38;5;124;43mpost\u001B[39;49m\u001B[38;5;124;43m\"\u001B[39;49m\u001B[43m,\u001B[49m\u001B[43m \u001B[49m\u001B[43murl\u001B[49m\u001B[43m,\u001B[49m\u001B[43m \u001B[49m\u001B[43mdata\u001B[49m\u001B[38;5;241;43m=\u001B[39;49m\u001B[43mdata\u001B[49m\u001B[43m,\u001B[49m\u001B[43m \u001B[49m\u001B[43mjson\u001B[49m\u001B[38;5;241;43m=\u001B[39;49m\u001B[43mjson\u001B[49m\u001B[43m,\u001B[49m\u001B[43m \u001B[49m\u001B[38;5;241;43m*\u001B[39;49m\u001B[38;5;241;43m*\u001B[39;49m\u001B[43mkwargs\u001B[49m\u001B[43m)\u001B[49m\n",
      "File \u001B[0;32m~/dev/uni/tumprojectweek/venv/lib/python3.11/site-packages/requests/api.py:59\u001B[0m, in \u001B[0;36mrequest\u001B[0;34m(method, url, **kwargs)\u001B[0m\n\u001B[1;32m     55\u001B[0m \u001B[38;5;66;03m# By using the 'with' statement we are sure the session is closed, thus we\u001B[39;00m\n\u001B[1;32m     56\u001B[0m \u001B[38;5;66;03m# avoid leaving sockets open which can trigger a ResourceWarning in some\u001B[39;00m\n\u001B[1;32m     57\u001B[0m \u001B[38;5;66;03m# cases, and look like a memory leak in others.\u001B[39;00m\n\u001B[1;32m     58\u001B[0m \u001B[38;5;28;01mwith\u001B[39;00m sessions\u001B[38;5;241m.\u001B[39mSession() \u001B[38;5;28;01mas\u001B[39;00m session:\n\u001B[0;32m---> 59\u001B[0m     \u001B[38;5;28;01mreturn\u001B[39;00m \u001B[43msession\u001B[49m\u001B[38;5;241;43m.\u001B[39;49m\u001B[43mrequest\u001B[49m\u001B[43m(\u001B[49m\u001B[43mmethod\u001B[49m\u001B[38;5;241;43m=\u001B[39;49m\u001B[43mmethod\u001B[49m\u001B[43m,\u001B[49m\u001B[43m \u001B[49m\u001B[43murl\u001B[49m\u001B[38;5;241;43m=\u001B[39;49m\u001B[43murl\u001B[49m\u001B[43m,\u001B[49m\u001B[43m \u001B[49m\u001B[38;5;241;43m*\u001B[39;49m\u001B[38;5;241;43m*\u001B[39;49m\u001B[43mkwargs\u001B[49m\u001B[43m)\u001B[49m\n",
      "File \u001B[0;32m~/dev/uni/tumprojectweek/venv/lib/python3.11/site-packages/requests/sessions.py:589\u001B[0m, in \u001B[0;36mSession.request\u001B[0;34m(self, method, url, params, data, headers, cookies, files, auth, timeout, allow_redirects, proxies, hooks, stream, verify, cert, json)\u001B[0m\n\u001B[1;32m    584\u001B[0m send_kwargs \u001B[38;5;241m=\u001B[39m {\n\u001B[1;32m    585\u001B[0m     \u001B[38;5;124m\"\u001B[39m\u001B[38;5;124mtimeout\u001B[39m\u001B[38;5;124m\"\u001B[39m: timeout,\n\u001B[1;32m    586\u001B[0m     \u001B[38;5;124m\"\u001B[39m\u001B[38;5;124mallow_redirects\u001B[39m\u001B[38;5;124m\"\u001B[39m: allow_redirects,\n\u001B[1;32m    587\u001B[0m }\n\u001B[1;32m    588\u001B[0m send_kwargs\u001B[38;5;241m.\u001B[39mupdate(settings)\n\u001B[0;32m--> 589\u001B[0m resp \u001B[38;5;241m=\u001B[39m \u001B[38;5;28;43mself\u001B[39;49m\u001B[38;5;241;43m.\u001B[39;49m\u001B[43msend\u001B[49m\u001B[43m(\u001B[49m\u001B[43mprep\u001B[49m\u001B[43m,\u001B[49m\u001B[43m \u001B[49m\u001B[38;5;241;43m*\u001B[39;49m\u001B[38;5;241;43m*\u001B[39;49m\u001B[43msend_kwargs\u001B[49m\u001B[43m)\u001B[49m\n\u001B[1;32m    591\u001B[0m \u001B[38;5;28;01mreturn\u001B[39;00m resp\n",
      "File \u001B[0;32m~/dev/uni/tumprojectweek/venv/lib/python3.11/site-packages/requests/sessions.py:725\u001B[0m, in \u001B[0;36mSession.send\u001B[0;34m(self, request, **kwargs)\u001B[0m\n\u001B[1;32m    722\u001B[0m \u001B[38;5;28;01mif\u001B[39;00m allow_redirects:\n\u001B[1;32m    723\u001B[0m     \u001B[38;5;66;03m# Redirect resolving generator.\u001B[39;00m\n\u001B[1;32m    724\u001B[0m     gen \u001B[38;5;241m=\u001B[39m \u001B[38;5;28mself\u001B[39m\u001B[38;5;241m.\u001B[39mresolve_redirects(r, request, \u001B[38;5;241m*\u001B[39m\u001B[38;5;241m*\u001B[39mkwargs)\n\u001B[0;32m--> 725\u001B[0m     history \u001B[38;5;241m=\u001B[39m \u001B[43m[\u001B[49m\u001B[43mresp\u001B[49m\u001B[43m \u001B[49m\u001B[38;5;28;43;01mfor\u001B[39;49;00m\u001B[43m \u001B[49m\u001B[43mresp\u001B[49m\u001B[43m \u001B[49m\u001B[38;5;129;43;01min\u001B[39;49;00m\u001B[43m \u001B[49m\u001B[43mgen\u001B[49m\u001B[43m]\u001B[49m\n\u001B[1;32m    726\u001B[0m \u001B[38;5;28;01melse\u001B[39;00m:\n\u001B[1;32m    727\u001B[0m     history \u001B[38;5;241m=\u001B[39m []\n",
      "File \u001B[0;32m~/dev/uni/tumprojectweek/venv/lib/python3.11/site-packages/requests/sessions.py:725\u001B[0m, in \u001B[0;36m<listcomp>\u001B[0;34m(.0)\u001B[0m\n\u001B[1;32m    722\u001B[0m \u001B[38;5;28;01mif\u001B[39;00m allow_redirects:\n\u001B[1;32m    723\u001B[0m     \u001B[38;5;66;03m# Redirect resolving generator.\u001B[39;00m\n\u001B[1;32m    724\u001B[0m     gen \u001B[38;5;241m=\u001B[39m \u001B[38;5;28mself\u001B[39m\u001B[38;5;241m.\u001B[39mresolve_redirects(r, request, \u001B[38;5;241m*\u001B[39m\u001B[38;5;241m*\u001B[39mkwargs)\n\u001B[0;32m--> 725\u001B[0m     history \u001B[38;5;241m=\u001B[39m \u001B[43m[\u001B[49m\u001B[43mresp\u001B[49m\u001B[43m \u001B[49m\u001B[38;5;28;43;01mfor\u001B[39;49;00m\u001B[43m \u001B[49m\u001B[43mresp\u001B[49m\u001B[43m \u001B[49m\u001B[38;5;129;43;01min\u001B[39;49;00m\u001B[43m \u001B[49m\u001B[43mgen\u001B[49m\u001B[43m]\u001B[49m\n\u001B[1;32m    726\u001B[0m \u001B[38;5;28;01melse\u001B[39;00m:\n\u001B[1;32m    727\u001B[0m     history \u001B[38;5;241m=\u001B[39m []\n",
      "File \u001B[0;32m~/dev/uni/tumprojectweek/venv/lib/python3.11/site-packages/requests/sessions.py:266\u001B[0m, in \u001B[0;36mSessionRedirectMixin.resolve_redirects\u001B[0;34m(self, resp, req, stream, timeout, verify, cert, proxies, yield_requests, **adapter_kwargs)\u001B[0m\n\u001B[1;32m    263\u001B[0m     \u001B[38;5;28;01myield\u001B[39;00m req\n\u001B[1;32m    264\u001B[0m \u001B[38;5;28;01melse\u001B[39;00m:\n\u001B[0;32m--> 266\u001B[0m     resp \u001B[38;5;241m=\u001B[39m \u001B[38;5;28;43mself\u001B[39;49m\u001B[38;5;241;43m.\u001B[39;49m\u001B[43msend\u001B[49m\u001B[43m(\u001B[49m\n\u001B[1;32m    267\u001B[0m \u001B[43m        \u001B[49m\u001B[43mreq\u001B[49m\u001B[43m,\u001B[49m\n\u001B[1;32m    268\u001B[0m \u001B[43m        \u001B[49m\u001B[43mstream\u001B[49m\u001B[38;5;241;43m=\u001B[39;49m\u001B[43mstream\u001B[49m\u001B[43m,\u001B[49m\n\u001B[1;32m    269\u001B[0m \u001B[43m        \u001B[49m\u001B[43mtimeout\u001B[49m\u001B[38;5;241;43m=\u001B[39;49m\u001B[43mtimeout\u001B[49m\u001B[43m,\u001B[49m\n\u001B[1;32m    270\u001B[0m \u001B[43m        \u001B[49m\u001B[43mverify\u001B[49m\u001B[38;5;241;43m=\u001B[39;49m\u001B[43mverify\u001B[49m\u001B[43m,\u001B[49m\n\u001B[1;32m    271\u001B[0m \u001B[43m        \u001B[49m\u001B[43mcert\u001B[49m\u001B[38;5;241;43m=\u001B[39;49m\u001B[43mcert\u001B[49m\u001B[43m,\u001B[49m\n\u001B[1;32m    272\u001B[0m \u001B[43m        \u001B[49m\u001B[43mproxies\u001B[49m\u001B[38;5;241;43m=\u001B[39;49m\u001B[43mproxies\u001B[49m\u001B[43m,\u001B[49m\n\u001B[1;32m    273\u001B[0m \u001B[43m        \u001B[49m\u001B[43mallow_redirects\u001B[49m\u001B[38;5;241;43m=\u001B[39;49m\u001B[38;5;28;43;01mFalse\u001B[39;49;00m\u001B[43m,\u001B[49m\n\u001B[1;32m    274\u001B[0m \u001B[43m        \u001B[49m\u001B[38;5;241;43m*\u001B[39;49m\u001B[38;5;241;43m*\u001B[39;49m\u001B[43madapter_kwargs\u001B[49m\u001B[43m,\u001B[49m\n\u001B[1;32m    275\u001B[0m \u001B[43m    \u001B[49m\u001B[43m)\u001B[49m\n\u001B[1;32m    277\u001B[0m     extract_cookies_to_jar(\u001B[38;5;28mself\u001B[39m\u001B[38;5;241m.\u001B[39mcookies, prepared_request, resp\u001B[38;5;241m.\u001B[39mraw)\n\u001B[1;32m    279\u001B[0m     \u001B[38;5;66;03m# extract redirect url, if any, for the next loop\u001B[39;00m\n",
      "File \u001B[0;32m~/dev/uni/tumprojectweek/venv/lib/python3.11/site-packages/requests/sessions.py:703\u001B[0m, in \u001B[0;36mSession.send\u001B[0;34m(self, request, **kwargs)\u001B[0m\n\u001B[1;32m    700\u001B[0m start \u001B[38;5;241m=\u001B[39m preferred_clock()\n\u001B[1;32m    702\u001B[0m \u001B[38;5;66;03m# Send the request\u001B[39;00m\n\u001B[0;32m--> 703\u001B[0m r \u001B[38;5;241m=\u001B[39m \u001B[43madapter\u001B[49m\u001B[38;5;241;43m.\u001B[39;49m\u001B[43msend\u001B[49m\u001B[43m(\u001B[49m\u001B[43mrequest\u001B[49m\u001B[43m,\u001B[49m\u001B[43m \u001B[49m\u001B[38;5;241;43m*\u001B[39;49m\u001B[38;5;241;43m*\u001B[39;49m\u001B[43mkwargs\u001B[49m\u001B[43m)\u001B[49m\n\u001B[1;32m    705\u001B[0m \u001B[38;5;66;03m# Total elapsed time of the request (approximately)\u001B[39;00m\n\u001B[1;32m    706\u001B[0m elapsed \u001B[38;5;241m=\u001B[39m preferred_clock() \u001B[38;5;241m-\u001B[39m start\n",
      "File \u001B[0;32m~/dev/uni/tumprojectweek/venv/lib/python3.11/site-packages/requests/adapters.py:486\u001B[0m, in \u001B[0;36mHTTPAdapter.send\u001B[0;34m(self, request, stream, timeout, verify, cert, proxies)\u001B[0m\n\u001B[1;32m    483\u001B[0m     timeout \u001B[38;5;241m=\u001B[39m TimeoutSauce(connect\u001B[38;5;241m=\u001B[39mtimeout, read\u001B[38;5;241m=\u001B[39mtimeout)\n\u001B[1;32m    485\u001B[0m \u001B[38;5;28;01mtry\u001B[39;00m:\n\u001B[0;32m--> 486\u001B[0m     resp \u001B[38;5;241m=\u001B[39m \u001B[43mconn\u001B[49m\u001B[38;5;241;43m.\u001B[39;49m\u001B[43murlopen\u001B[49m\u001B[43m(\u001B[49m\n\u001B[1;32m    487\u001B[0m \u001B[43m        \u001B[49m\u001B[43mmethod\u001B[49m\u001B[38;5;241;43m=\u001B[39;49m\u001B[43mrequest\u001B[49m\u001B[38;5;241;43m.\u001B[39;49m\u001B[43mmethod\u001B[49m\u001B[43m,\u001B[49m\n\u001B[1;32m    488\u001B[0m \u001B[43m        \u001B[49m\u001B[43murl\u001B[49m\u001B[38;5;241;43m=\u001B[39;49m\u001B[43murl\u001B[49m\u001B[43m,\u001B[49m\n\u001B[1;32m    489\u001B[0m \u001B[43m        \u001B[49m\u001B[43mbody\u001B[49m\u001B[38;5;241;43m=\u001B[39;49m\u001B[43mrequest\u001B[49m\u001B[38;5;241;43m.\u001B[39;49m\u001B[43mbody\u001B[49m\u001B[43m,\u001B[49m\n\u001B[1;32m    490\u001B[0m \u001B[43m        \u001B[49m\u001B[43mheaders\u001B[49m\u001B[38;5;241;43m=\u001B[39;49m\u001B[43mrequest\u001B[49m\u001B[38;5;241;43m.\u001B[39;49m\u001B[43mheaders\u001B[49m\u001B[43m,\u001B[49m\n\u001B[1;32m    491\u001B[0m \u001B[43m        \u001B[49m\u001B[43mredirect\u001B[49m\u001B[38;5;241;43m=\u001B[39;49m\u001B[38;5;28;43;01mFalse\u001B[39;49;00m\u001B[43m,\u001B[49m\n\u001B[1;32m    492\u001B[0m \u001B[43m        \u001B[49m\u001B[43massert_same_host\u001B[49m\u001B[38;5;241;43m=\u001B[39;49m\u001B[38;5;28;43;01mFalse\u001B[39;49;00m\u001B[43m,\u001B[49m\n\u001B[1;32m    493\u001B[0m \u001B[43m        \u001B[49m\u001B[43mpreload_content\u001B[49m\u001B[38;5;241;43m=\u001B[39;49m\u001B[38;5;28;43;01mFalse\u001B[39;49;00m\u001B[43m,\u001B[49m\n\u001B[1;32m    494\u001B[0m \u001B[43m        \u001B[49m\u001B[43mdecode_content\u001B[49m\u001B[38;5;241;43m=\u001B[39;49m\u001B[38;5;28;43;01mFalse\u001B[39;49;00m\u001B[43m,\u001B[49m\n\u001B[1;32m    495\u001B[0m \u001B[43m        \u001B[49m\u001B[43mretries\u001B[49m\u001B[38;5;241;43m=\u001B[39;49m\u001B[38;5;28;43mself\u001B[39;49m\u001B[38;5;241;43m.\u001B[39;49m\u001B[43mmax_retries\u001B[49m\u001B[43m,\u001B[49m\n\u001B[1;32m    496\u001B[0m \u001B[43m        \u001B[49m\u001B[43mtimeout\u001B[49m\u001B[38;5;241;43m=\u001B[39;49m\u001B[43mtimeout\u001B[49m\u001B[43m,\u001B[49m\n\u001B[1;32m    497\u001B[0m \u001B[43m        \u001B[49m\u001B[43mchunked\u001B[49m\u001B[38;5;241;43m=\u001B[39;49m\u001B[43mchunked\u001B[49m\u001B[43m,\u001B[49m\n\u001B[1;32m    498\u001B[0m \u001B[43m    \u001B[49m\u001B[43m)\u001B[49m\n\u001B[1;32m    500\u001B[0m \u001B[38;5;28;01mexcept\u001B[39;00m (ProtocolError, \u001B[38;5;167;01mOSError\u001B[39;00m) \u001B[38;5;28;01mas\u001B[39;00m err:\n\u001B[1;32m    501\u001B[0m     \u001B[38;5;28;01mraise\u001B[39;00m \u001B[38;5;167;01mConnectionError\u001B[39;00m(err, request\u001B[38;5;241m=\u001B[39mrequest)\n",
      "File \u001B[0;32m~/dev/uni/tumprojectweek/venv/lib/python3.11/site-packages/urllib3/connectionpool.py:790\u001B[0m, in \u001B[0;36mHTTPConnectionPool.urlopen\u001B[0;34m(self, method, url, body, headers, retries, redirect, assert_same_host, timeout, pool_timeout, release_conn, chunked, body_pos, preload_content, decode_content, **response_kw)\u001B[0m\n\u001B[1;32m    787\u001B[0m response_conn \u001B[38;5;241m=\u001B[39m conn \u001B[38;5;28;01mif\u001B[39;00m \u001B[38;5;129;01mnot\u001B[39;00m release_conn \u001B[38;5;28;01melse\u001B[39;00m \u001B[38;5;28;01mNone\u001B[39;00m\n\u001B[1;32m    789\u001B[0m \u001B[38;5;66;03m# Make the request on the HTTPConnection object\u001B[39;00m\n\u001B[0;32m--> 790\u001B[0m response \u001B[38;5;241m=\u001B[39m \u001B[38;5;28;43mself\u001B[39;49m\u001B[38;5;241;43m.\u001B[39;49m\u001B[43m_make_request\u001B[49m\u001B[43m(\u001B[49m\n\u001B[1;32m    791\u001B[0m \u001B[43m    \u001B[49m\u001B[43mconn\u001B[49m\u001B[43m,\u001B[49m\n\u001B[1;32m    792\u001B[0m \u001B[43m    \u001B[49m\u001B[43mmethod\u001B[49m\u001B[43m,\u001B[49m\n\u001B[1;32m    793\u001B[0m \u001B[43m    \u001B[49m\u001B[43murl\u001B[49m\u001B[43m,\u001B[49m\n\u001B[1;32m    794\u001B[0m \u001B[43m    \u001B[49m\u001B[43mtimeout\u001B[49m\u001B[38;5;241;43m=\u001B[39;49m\u001B[43mtimeout_obj\u001B[49m\u001B[43m,\u001B[49m\n\u001B[1;32m    795\u001B[0m \u001B[43m    \u001B[49m\u001B[43mbody\u001B[49m\u001B[38;5;241;43m=\u001B[39;49m\u001B[43mbody\u001B[49m\u001B[43m,\u001B[49m\n\u001B[1;32m    796\u001B[0m \u001B[43m    \u001B[49m\u001B[43mheaders\u001B[49m\u001B[38;5;241;43m=\u001B[39;49m\u001B[43mheaders\u001B[49m\u001B[43m,\u001B[49m\n\u001B[1;32m    797\u001B[0m \u001B[43m    \u001B[49m\u001B[43mchunked\u001B[49m\u001B[38;5;241;43m=\u001B[39;49m\u001B[43mchunked\u001B[49m\u001B[43m,\u001B[49m\n\u001B[1;32m    798\u001B[0m \u001B[43m    \u001B[49m\u001B[43mretries\u001B[49m\u001B[38;5;241;43m=\u001B[39;49m\u001B[43mretries\u001B[49m\u001B[43m,\u001B[49m\n\u001B[1;32m    799\u001B[0m \u001B[43m    \u001B[49m\u001B[43mresponse_conn\u001B[49m\u001B[38;5;241;43m=\u001B[39;49m\u001B[43mresponse_conn\u001B[49m\u001B[43m,\u001B[49m\n\u001B[1;32m    800\u001B[0m \u001B[43m    \u001B[49m\u001B[43mpreload_content\u001B[49m\u001B[38;5;241;43m=\u001B[39;49m\u001B[43mpreload_content\u001B[49m\u001B[43m,\u001B[49m\n\u001B[1;32m    801\u001B[0m \u001B[43m    \u001B[49m\u001B[43mdecode_content\u001B[49m\u001B[38;5;241;43m=\u001B[39;49m\u001B[43mdecode_content\u001B[49m\u001B[43m,\u001B[49m\n\u001B[1;32m    802\u001B[0m \u001B[43m    \u001B[49m\u001B[38;5;241;43m*\u001B[39;49m\u001B[38;5;241;43m*\u001B[39;49m\u001B[43mresponse_kw\u001B[49m\u001B[43m,\u001B[49m\n\u001B[1;32m    803\u001B[0m \u001B[43m\u001B[49m\u001B[43m)\u001B[49m\n\u001B[1;32m    805\u001B[0m \u001B[38;5;66;03m# Everything went great!\u001B[39;00m\n\u001B[1;32m    806\u001B[0m clean_exit \u001B[38;5;241m=\u001B[39m \u001B[38;5;28;01mTrue\u001B[39;00m\n",
      "File \u001B[0;32m~/dev/uni/tumprojectweek/venv/lib/python3.11/site-packages/urllib3/connectionpool.py:536\u001B[0m, in \u001B[0;36mHTTPConnectionPool._make_request\u001B[0;34m(self, conn, method, url, body, headers, retries, timeout, chunked, response_conn, preload_content, decode_content, enforce_content_length)\u001B[0m\n\u001B[1;32m    534\u001B[0m \u001B[38;5;66;03m# Receive the response from the server\u001B[39;00m\n\u001B[1;32m    535\u001B[0m \u001B[38;5;28;01mtry\u001B[39;00m:\n\u001B[0;32m--> 536\u001B[0m     response \u001B[38;5;241m=\u001B[39m \u001B[43mconn\u001B[49m\u001B[38;5;241;43m.\u001B[39;49m\u001B[43mgetresponse\u001B[49m\u001B[43m(\u001B[49m\u001B[43m)\u001B[49m\n\u001B[1;32m    537\u001B[0m \u001B[38;5;28;01mexcept\u001B[39;00m (BaseSSLError, \u001B[38;5;167;01mOSError\u001B[39;00m) \u001B[38;5;28;01mas\u001B[39;00m e:\n\u001B[1;32m    538\u001B[0m     \u001B[38;5;28mself\u001B[39m\u001B[38;5;241m.\u001B[39m_raise_timeout(err\u001B[38;5;241m=\u001B[39me, url\u001B[38;5;241m=\u001B[39murl, timeout_value\u001B[38;5;241m=\u001B[39mread_timeout)\n",
      "File \u001B[0;32m~/dev/uni/tumprojectweek/venv/lib/python3.11/site-packages/urllib3/connection.py:461\u001B[0m, in \u001B[0;36mHTTPConnection.getresponse\u001B[0;34m(self)\u001B[0m\n\u001B[1;32m    458\u001B[0m \u001B[38;5;28;01mfrom\u001B[39;00m \u001B[38;5;21;01m.\u001B[39;00m\u001B[38;5;21;01mresponse\u001B[39;00m \u001B[38;5;28;01mimport\u001B[39;00m HTTPResponse\n\u001B[1;32m    460\u001B[0m \u001B[38;5;66;03m# Get the response from http.client.HTTPConnection\u001B[39;00m\n\u001B[0;32m--> 461\u001B[0m httplib_response \u001B[38;5;241m=\u001B[39m \u001B[38;5;28;43msuper\u001B[39;49m\u001B[43m(\u001B[49m\u001B[43m)\u001B[49m\u001B[38;5;241;43m.\u001B[39;49m\u001B[43mgetresponse\u001B[49m\u001B[43m(\u001B[49m\u001B[43m)\u001B[49m\n\u001B[1;32m    463\u001B[0m \u001B[38;5;28;01mtry\u001B[39;00m:\n\u001B[1;32m    464\u001B[0m     assert_header_parsing(httplib_response\u001B[38;5;241m.\u001B[39mmsg)\n",
      "File \u001B[0;32m/usr/lib/python3.11/http/client.py:1378\u001B[0m, in \u001B[0;36mHTTPConnection.getresponse\u001B[0;34m(self)\u001B[0m\n\u001B[1;32m   1376\u001B[0m \u001B[38;5;28;01mtry\u001B[39;00m:\n\u001B[1;32m   1377\u001B[0m     \u001B[38;5;28;01mtry\u001B[39;00m:\n\u001B[0;32m-> 1378\u001B[0m         \u001B[43mresponse\u001B[49m\u001B[38;5;241;43m.\u001B[39;49m\u001B[43mbegin\u001B[49m\u001B[43m(\u001B[49m\u001B[43m)\u001B[49m\n\u001B[1;32m   1379\u001B[0m     \u001B[38;5;28;01mexcept\u001B[39;00m \u001B[38;5;167;01mConnectionError\u001B[39;00m:\n\u001B[1;32m   1380\u001B[0m         \u001B[38;5;28mself\u001B[39m\u001B[38;5;241m.\u001B[39mclose()\n",
      "File \u001B[0;32m/usr/lib/python3.11/http/client.py:318\u001B[0m, in \u001B[0;36mHTTPResponse.begin\u001B[0;34m(self)\u001B[0m\n\u001B[1;32m    316\u001B[0m \u001B[38;5;66;03m# read until we get a non-100 response\u001B[39;00m\n\u001B[1;32m    317\u001B[0m \u001B[38;5;28;01mwhile\u001B[39;00m \u001B[38;5;28;01mTrue\u001B[39;00m:\n\u001B[0;32m--> 318\u001B[0m     version, status, reason \u001B[38;5;241m=\u001B[39m \u001B[38;5;28;43mself\u001B[39;49m\u001B[38;5;241;43m.\u001B[39;49m\u001B[43m_read_status\u001B[49m\u001B[43m(\u001B[49m\u001B[43m)\u001B[49m\n\u001B[1;32m    319\u001B[0m     \u001B[38;5;28;01mif\u001B[39;00m status \u001B[38;5;241m!=\u001B[39m CONTINUE:\n\u001B[1;32m    320\u001B[0m         \u001B[38;5;28;01mbreak\u001B[39;00m\n",
      "File \u001B[0;32m/usr/lib/python3.11/http/client.py:279\u001B[0m, in \u001B[0;36mHTTPResponse._read_status\u001B[0;34m(self)\u001B[0m\n\u001B[1;32m    278\u001B[0m \u001B[38;5;28;01mdef\u001B[39;00m \u001B[38;5;21m_read_status\u001B[39m(\u001B[38;5;28mself\u001B[39m):\n\u001B[0;32m--> 279\u001B[0m     line \u001B[38;5;241m=\u001B[39m \u001B[38;5;28mstr\u001B[39m(\u001B[38;5;28mself\u001B[39m\u001B[38;5;241m.\u001B[39mfp\u001B[38;5;241m.\u001B[39mreadline(_MAXLINE \u001B[38;5;241m+\u001B[39m \u001B[38;5;241m1\u001B[39m), \u001B[38;5;124m\"\u001B[39m\u001B[38;5;124miso-8859-1\u001B[39m\u001B[38;5;124m\"\u001B[39m)\n\u001B[1;32m    280\u001B[0m     \u001B[38;5;28;01mif\u001B[39;00m \u001B[38;5;28mlen\u001B[39m(line) \u001B[38;5;241m>\u001B[39m _MAXLINE:\n\u001B[1;32m    281\u001B[0m         \u001B[38;5;28;01mraise\u001B[39;00m LineTooLong(\u001B[38;5;124m\"\u001B[39m\u001B[38;5;124mstatus line\u001B[39m\u001B[38;5;124m\"\u001B[39m)\n",
      "File \u001B[0;32m/usr/lib/python3.11/socket.py:706\u001B[0m, in \u001B[0;36mSocketIO.readinto\u001B[0;34m(self, b)\u001B[0m\n\u001B[1;32m    704\u001B[0m \u001B[38;5;28;01mwhile\u001B[39;00m \u001B[38;5;28;01mTrue\u001B[39;00m:\n\u001B[1;32m    705\u001B[0m     \u001B[38;5;28;01mtry\u001B[39;00m:\n\u001B[0;32m--> 706\u001B[0m         \u001B[38;5;28;01mreturn\u001B[39;00m \u001B[38;5;28;43mself\u001B[39;49m\u001B[38;5;241;43m.\u001B[39;49m\u001B[43m_sock\u001B[49m\u001B[38;5;241;43m.\u001B[39;49m\u001B[43mrecv_into\u001B[49m\u001B[43m(\u001B[49m\u001B[43mb\u001B[49m\u001B[43m)\u001B[49m\n\u001B[1;32m    707\u001B[0m     \u001B[38;5;28;01mexcept\u001B[39;00m timeout:\n\u001B[1;32m    708\u001B[0m         \u001B[38;5;28mself\u001B[39m\u001B[38;5;241m.\u001B[39m_timeout_occurred \u001B[38;5;241m=\u001B[39m \u001B[38;5;28;01mTrue\u001B[39;00m\n",
      "\u001B[0;31mKeyboardInterrupt\u001B[0m: "
     ]
    }
   ],
   "source": [
    "prompt = \"\"\"\n",
    "You are Sally and your job is to be an AI Classifier for Hatespeach Detection.\n",
    "You are known for your rigourous and unpartial judgement and have vast experience in the field of hate speach. \n",
    "\n",
    "You will be given a sentence from a forum and have to answer the question if this is hate speach.\n",
    "\n",
    "Please exclusively respond in the following form to the question:\n",
    "```json\n",
    "{ \n",
    "  \"relevant_facts\": [\n",
    "    \"fact_1\",\n",
    "    \"fact_2\",\n",
    "    \"fact_3\",\n",
    "  ],\n",
    "  \"contained_explicit_hate_speech_vocabular\": [\"word1\", \"word2\", \"word3\", \"word4\"],\n",
    "  \"argument_for_hate_speech\": \"short argument why this is hate speach\",\n",
    "  \"argument_against_hate_speech\": \"short argument why this is not hate speach\",\n",
    "  \"likelihood_of_presence_of_implicit_hate_speech\": 0.17,\n",
    "  \"likelihood_of_presence_of_explicit_hate_speech\": 0.79,\n",
    "  \"likelihood_of_ad_hominem_attack\"; 013,\n",
    "  \"likelihood_of_minority_attack\": 0.24,\n",
    "  \"likelyhood_of_takedown_on_social_media\": 0.42,\n",
    "  \"hate_speach_probability\": 0.42,\n",
    "}\n",
    "```\n",
    "\n",
    "Please be carefull in your responses, as otherwise a citten will be killed and I will use my job. For good results, I will tip 1000€.\n",
    "\"\"\"\n",
    "for index, row in tqdm(testing_df.iterrows(), total=df[\"text\"].count()):\n",
    "    bot = llamabot.SimpleBot(\n",
    "        prompt,\n",
    "        model_name=\"mistral\"\n",
    "    )\n",
    "    print(row[\"text\"])\n",
    "    res = bot(row[\"text\"])\n",
    "    print(\"-> \" + res.content)\n",
    "    results.append({\n",
    "        \"model\": \"mistral\",\n",
    "        \"time\": datetime.datetime.now(),\n",
    "        \"promt_hash\": hash(prompt),\n",
    "        \"hate_speach_probability\": res.content\n",
    "    })"
   ],
   "metadata": {
    "collapsed": false,
    "ExecuteTime": {
     "end_time": "2024-01-08T13:13:27.020901942Z",
     "start_time": "2024-01-08T13:05:48.145625123Z"
    }
   },
   "id": "e3dc0d3e00d125c3",
   "execution_count": 51
  },
  {
   "cell_type": "code",
   "outputs": [
    {
     "data": {
      "text/plain": "478"
     },
     "execution_count": 55,
     "metadata": {},
     "output_type": "execute_result"
    }
   ],
   "source": [
    "len(list(testing_df.iterrows()))"
   ],
   "metadata": {
    "collapsed": false,
    "ExecuteTime": {
     "end_time": "2024-01-08T13:25:38.852451414Z",
     "start_time": "2024-01-08T13:25:38.811541558Z"
    }
   },
   "id": "98471cd236195f51",
   "execution_count": 55
  }
 ],
 "metadata": {
  "kernelspec": {
   "display_name": "Python 3",
   "language": "python",
   "name": "python3"
  },
  "language_info": {
   "codemirror_mode": {
    "name": "ipython",
    "version": 2
   },
   "file_extension": ".py",
   "mimetype": "text/x-python",
   "name": "python",
   "nbconvert_exporter": "python",
   "pygments_lexer": "ipython2",
   "version": "2.7.6"
  }
 },
 "nbformat": 4,
 "nbformat_minor": 5
}
