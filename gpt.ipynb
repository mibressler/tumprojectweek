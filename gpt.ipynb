{
 "cells": [
  {
   "cell_type": "code",
   "execution_count": 6,
   "id": "initial_id",
   "metadata": {
    "collapsed": true,
    "ExecuteTime": {
     "end_time": "2024-01-08T12:20:02.862443558Z",
     "start_time": "2024-01-08T12:19:51.960190042Z"
    }
   },
   "outputs": [
    {
     "name": "stdout",
     "output_type": "stream",
     "text": [
      "Requirement already satisfied: numpy in ./venv/lib/python3.11/site-packages (1.26.3)\r\n",
      "\r\n",
      "\u001B[1m[\u001B[0m\u001B[34;49mnotice\u001B[0m\u001B[1;39;49m]\u001B[0m\u001B[39;49m A new release of pip is available: \u001B[0m\u001B[31;49m23.2.1\u001B[0m\u001B[39;49m -> \u001B[0m\u001B[32;49m23.3.2\u001B[0m\r\n",
      "\u001B[1m[\u001B[0m\u001B[34;49mnotice\u001B[0m\u001B[1;39;49m]\u001B[0m\u001B[39;49m To update, run: \u001B[0m\u001B[32;49mpip install --upgrade pip\u001B[0m\r\n",
      "Requirement already satisfied: pandas in ./venv/lib/python3.11/site-packages (2.1.4)\r\n",
      "Requirement already satisfied: numpy<2,>=1.23.2 in ./venv/lib/python3.11/site-packages (from pandas) (1.26.3)\r\n",
      "Requirement already satisfied: python-dateutil>=2.8.2 in ./venv/lib/python3.11/site-packages (from pandas) (2.8.2)\r\n",
      "Requirement already satisfied: pytz>=2020.1 in ./venv/lib/python3.11/site-packages (from pandas) (2023.3.post1)\r\n",
      "Requirement already satisfied: tzdata>=2022.1 in ./venv/lib/python3.11/site-packages (from pandas) (2023.4)\r\n",
      "Requirement already satisfied: six>=1.5 in ./venv/lib/python3.11/site-packages (from python-dateutil>=2.8.2->pandas) (1.16.0)\r\n",
      "\r\n",
      "\u001B[1m[\u001B[0m\u001B[34;49mnotice\u001B[0m\u001B[1;39;49m]\u001B[0m\u001B[39;49m A new release of pip is available: \u001B[0m\u001B[31;49m23.2.1\u001B[0m\u001B[39;49m -> \u001B[0m\u001B[32;49m23.3.2\u001B[0m\r\n",
      "\u001B[1m[\u001B[0m\u001B[34;49mnotice\u001B[0m\u001B[1;39;49m]\u001B[0m\u001B[39;49m To update, run: \u001B[0m\u001B[32;49mpip install --upgrade pip\u001B[0m\r\n",
      "Requirement already satisfied: tables in ./venv/lib/python3.11/site-packages (3.9.2)\r\n",
      "Requirement already satisfied: numpy>=1.19.0 in ./venv/lib/python3.11/site-packages (from tables) (1.26.3)\r\n",
      "Requirement already satisfied: numexpr>=2.6.2 in ./venv/lib/python3.11/site-packages (from tables) (2.8.8)\r\n",
      "Requirement already satisfied: packaging in ./venv/lib/python3.11/site-packages (from tables) (23.2)\r\n",
      "Requirement already satisfied: py-cpuinfo in ./venv/lib/python3.11/site-packages (from tables) (9.0.0)\r\n",
      "Requirement already satisfied: blosc2>=2.3.0 in ./venv/lib/python3.11/site-packages (from tables) (2.4.0)\r\n",
      "Requirement already satisfied: ndindex>=1.4 in ./venv/lib/python3.11/site-packages (from blosc2>=2.3.0->tables) (1.7)\r\n",
      "Requirement already satisfied: msgpack in ./venv/lib/python3.11/site-packages (from blosc2>=2.3.0->tables) (1.0.7)\r\n",
      "\r\n",
      "\u001B[1m[\u001B[0m\u001B[34;49mnotice\u001B[0m\u001B[1;39;49m]\u001B[0m\u001B[39;49m A new release of pip is available: \u001B[0m\u001B[31;49m23.2.1\u001B[0m\u001B[39;49m -> \u001B[0m\u001B[32;49m23.3.2\u001B[0m\r\n",
      "\u001B[1m[\u001B[0m\u001B[34;49mnotice\u001B[0m\u001B[1;39;49m]\u001B[0m\u001B[39;49m To update, run: \u001B[0m\u001B[32;49mpip install --upgrade pip\u001B[0m\r\n",
      "Requirement already satisfied: plotly in ./venv/lib/python3.11/site-packages (5.18.0)\r\n",
      "Requirement already satisfied: tenacity>=6.2.0 in ./venv/lib/python3.11/site-packages (from plotly) (8.2.3)\r\n",
      "Requirement already satisfied: packaging in ./venv/lib/python3.11/site-packages (from plotly) (23.2)\r\n",
      "\r\n",
      "\u001B[1m[\u001B[0m\u001B[34;49mnotice\u001B[0m\u001B[1;39;49m]\u001B[0m\u001B[39;49m A new release of pip is available: \u001B[0m\u001B[31;49m23.2.1\u001B[0m\u001B[39;49m -> \u001B[0m\u001B[32;49m23.3.2\u001B[0m\r\n",
      "\u001B[1m[\u001B[0m\u001B[34;49mnotice\u001B[0m\u001B[1;39;49m]\u001B[0m\u001B[39;49m To update, run: \u001B[0m\u001B[32;49mpip install --upgrade pip\u001B[0m\r\n",
      "Requirement already satisfied: llamabot in ./venv/lib/python3.11/site-packages (0.0.89)\r\n",
      "Requirement already satisfied: openai in ./venv/lib/python3.11/site-packages (from llamabot) (1.6.1)\r\n",
      "Requirement already satisfied: langchain>=0.0.334 in ./venv/lib/python3.11/site-packages (from llamabot) (0.1.0)\r\n",
      "Requirement already satisfied: llama-index>=0.8.67 in ./venv/lib/python3.11/site-packages (from llamabot) (0.9.26)\r\n",
      "Requirement already satisfied: panel>=1.1.0 in ./venv/lib/python3.11/site-packages (from llamabot) (1.3.6)\r\n",
      "Requirement already satisfied: jupyter-bokeh in ./venv/lib/python3.11/site-packages (from llamabot) (3.0.7)\r\n",
      "Requirement already satisfied: bokeh>=3.1.0 in ./venv/lib/python3.11/site-packages (from llamabot) (3.3.2)\r\n",
      "Requirement already satisfied: loguru in ./venv/lib/python3.11/site-packages (from llamabot) (0.7.2)\r\n",
      "Requirement already satisfied: pyperclip in ./venv/lib/python3.11/site-packages (from llamabot) (1.8.2)\r\n",
      "Requirement already satisfied: astor>=0.8.1 in ./venv/lib/python3.11/site-packages (from llamabot) (0.8.1)\r\n",
      "Requirement already satisfied: python-dotenv in ./venv/lib/python3.11/site-packages (from llamabot) (1.0.0)\r\n",
      "Requirement already satisfied: typer>=0.4.0 in ./venv/lib/python3.11/site-packages (from llamabot) (0.9.0)\r\n",
      "Requirement already satisfied: gitpython in ./venv/lib/python3.11/site-packages (from llamabot) (3.1.40)\r\n",
      "Requirement already satisfied: pyprojroot in ./venv/lib/python3.11/site-packages (from llamabot) (0.3.0)\r\n",
      "Requirement already satisfied: frozenlist in ./venv/lib/python3.11/site-packages (from llamabot) (1.4.1)\r\n",
      "Requirement already satisfied: beautifulsoup4 in ./venv/lib/python3.11/site-packages (from llamabot) (4.12.2)\r\n",
      "Requirement already satisfied: rich in ./venv/lib/python3.11/site-packages (from llamabot) (13.7.0)\r\n",
      "Requirement already satisfied: pyzotero in ./venv/lib/python3.11/site-packages (from llamabot) (1.5.18)\r\n",
      "Requirement already satisfied: case-converter in ./venv/lib/python3.11/site-packages (from llamabot) (1.1.0)\r\n",
      "Requirement already satisfied: prompt-toolkit in ./venv/lib/python3.11/site-packages (from llamabot) (3.0.43)\r\n",
      "Requirement already satisfied: sh in ./venv/lib/python3.11/site-packages (from llamabot) (2.0.6)\r\n",
      "Requirement already satisfied: pre-commit in ./venv/lib/python3.11/site-packages (from llamabot) (3.6.0)\r\n",
      "Requirement already satisfied: beartype==0.15.0 in ./venv/lib/python3.11/site-packages (from llamabot) (0.15.0)\r\n",
      "Requirement already satisfied: Jinja2>=2.9 in ./venv/lib/python3.11/site-packages (from bokeh>=3.1.0->llamabot) (3.1.2)\r\n",
      "Requirement already satisfied: contourpy>=1 in ./venv/lib/python3.11/site-packages (from bokeh>=3.1.0->llamabot) (1.2.0)\r\n",
      "Requirement already satisfied: numpy>=1.16 in ./venv/lib/python3.11/site-packages (from bokeh>=3.1.0->llamabot) (1.26.3)\r\n",
      "Requirement already satisfied: packaging>=16.8 in ./venv/lib/python3.11/site-packages (from bokeh>=3.1.0->llamabot) (23.2)\r\n",
      "Requirement already satisfied: pandas>=1.2 in ./venv/lib/python3.11/site-packages (from bokeh>=3.1.0->llamabot) (2.1.4)\r\n",
      "Requirement already satisfied: pillow>=7.1.0 in ./venv/lib/python3.11/site-packages (from bokeh>=3.1.0->llamabot) (10.2.0)\r\n",
      "Requirement already satisfied: PyYAML>=3.10 in ./venv/lib/python3.11/site-packages (from bokeh>=3.1.0->llamabot) (6.0.1)\r\n",
      "Requirement already satisfied: tornado>=5.1 in ./venv/lib/python3.11/site-packages (from bokeh>=3.1.0->llamabot) (6.4)\r\n",
      "Requirement already satisfied: xyzservices>=2021.09.1 in ./venv/lib/python3.11/site-packages (from bokeh>=3.1.0->llamabot) (2023.10.1)\r\n",
      "Requirement already satisfied: SQLAlchemy<3,>=1.4 in ./venv/lib/python3.11/site-packages (from langchain>=0.0.334->llamabot) (2.0.25)\r\n",
      "Requirement already satisfied: aiohttp<4.0.0,>=3.8.3 in ./venv/lib/python3.11/site-packages (from langchain>=0.0.334->llamabot) (3.9.1)\r\n",
      "Requirement already satisfied: dataclasses-json<0.7,>=0.5.7 in ./venv/lib/python3.11/site-packages (from langchain>=0.0.334->llamabot) (0.6.3)\r\n",
      "Requirement already satisfied: jsonpatch<2.0,>=1.33 in ./venv/lib/python3.11/site-packages (from langchain>=0.0.334->llamabot) (1.33)\r\n",
      "Requirement already satisfied: langchain-community<0.1,>=0.0.9 in ./venv/lib/python3.11/site-packages (from langchain>=0.0.334->llamabot) (0.0.10)\r\n",
      "Requirement already satisfied: langchain-core<0.2,>=0.1.7 in ./venv/lib/python3.11/site-packages (from langchain>=0.0.334->llamabot) (0.1.8)\r\n",
      "Requirement already satisfied: langsmith<0.1.0,>=0.0.77 in ./venv/lib/python3.11/site-packages (from langchain>=0.0.334->llamabot) (0.0.77)\r\n",
      "Requirement already satisfied: pydantic<3,>=1 in ./venv/lib/python3.11/site-packages (from langchain>=0.0.334->llamabot) (2.5.3)\r\n",
      "Requirement already satisfied: requests<3,>=2 in ./venv/lib/python3.11/site-packages (from langchain>=0.0.334->llamabot) (2.31.0)\r\n",
      "Requirement already satisfied: tenacity<9.0.0,>=8.1.0 in ./venv/lib/python3.11/site-packages (from langchain>=0.0.334->llamabot) (8.2.3)\r\n",
      "Requirement already satisfied: deprecated>=1.2.9.3 in ./venv/lib/python3.11/site-packages (from llama-index>=0.8.67->llamabot) (1.2.14)\r\n",
      "Requirement already satisfied: fsspec>=2023.5.0 in ./venv/lib/python3.11/site-packages (from llama-index>=0.8.67->llamabot) (2023.12.2)\r\n",
      "Requirement already satisfied: httpx in ./venv/lib/python3.11/site-packages (from llama-index>=0.8.67->llamabot) (0.26.0)\r\n",
      "Requirement already satisfied: nest-asyncio<2.0.0,>=1.5.8 in ./venv/lib/python3.11/site-packages (from llama-index>=0.8.67->llamabot) (1.5.8)\r\n",
      "Requirement already satisfied: nltk<4.0.0,>=3.8.1 in ./venv/lib/python3.11/site-packages (from llama-index>=0.8.67->llamabot) (3.8.1)\r\n",
      "Requirement already satisfied: tiktoken>=0.3.3 in ./venv/lib/python3.11/site-packages (from llama-index>=0.8.67->llamabot) (0.5.2)\r\n",
      "Requirement already satisfied: typing-extensions>=4.5.0 in ./venv/lib/python3.11/site-packages (from llama-index>=0.8.67->llamabot) (4.9.0)\r\n",
      "Requirement already satisfied: typing-inspect>=0.8.0 in ./venv/lib/python3.11/site-packages (from llama-index>=0.8.67->llamabot) (0.9.0)\r\n",
      "Requirement already satisfied: soupsieve>1.2 in ./venv/lib/python3.11/site-packages (from beautifulsoup4->llamabot) (2.5)\r\n",
      "Requirement already satisfied: anyio<5,>=3.5.0 in ./venv/lib/python3.11/site-packages (from openai->llamabot) (4.2.0)\r\n",
      "Requirement already satisfied: distro<2,>=1.7.0 in ./venv/lib/python3.11/site-packages (from openai->llamabot) (1.9.0)\r\n",
      "Requirement already satisfied: sniffio in ./venv/lib/python3.11/site-packages (from openai->llamabot) (1.3.0)\r\n",
      "Requirement already satisfied: tqdm>4 in ./venv/lib/python3.11/site-packages (from openai->llamabot) (4.66.1)\r\n",
      "Requirement already satisfied: param<3.0,>=2.0.0 in ./venv/lib/python3.11/site-packages (from panel>=1.1.0->llamabot) (2.0.1)\r\n",
      "Requirement already satisfied: pyviz-comms>=2.0.0 in ./venv/lib/python3.11/site-packages (from panel>=1.1.0->llamabot) (3.0.0)\r\n",
      "Requirement already satisfied: markdown in ./venv/lib/python3.11/site-packages (from panel>=1.1.0->llamabot) (3.5.1)\r\n",
      "Requirement already satisfied: markdown-it-py in ./venv/lib/python3.11/site-packages (from panel>=1.1.0->llamabot) (3.0.0)\r\n",
      "Requirement already satisfied: linkify-it-py in ./venv/lib/python3.11/site-packages (from panel>=1.1.0->llamabot) (2.0.2)\r\n",
      "Requirement already satisfied: mdit-py-plugins in ./venv/lib/python3.11/site-packages (from panel>=1.1.0->llamabot) (0.4.0)\r\n",
      "Requirement already satisfied: bleach in ./venv/lib/python3.11/site-packages (from panel>=1.1.0->llamabot) (6.1.0)\r\n",
      "Requirement already satisfied: click<9.0.0,>=7.1.1 in ./venv/lib/python3.11/site-packages (from typer>=0.4.0->llamabot) (8.1.7)\r\n",
      "Requirement already satisfied: gitdb<5,>=4.0.1 in ./venv/lib/python3.11/site-packages (from gitpython->llamabot) (4.0.11)\r\n",
      "Requirement already satisfied: ipywidgets==8.* in ./venv/lib/python3.11/site-packages (from jupyter-bokeh->llamabot) (8.1.1)\r\n",
      "Requirement already satisfied: comm>=0.1.3 in ./venv/lib/python3.11/site-packages (from ipywidgets==8.*->jupyter-bokeh->llamabot) (0.2.1)\r\n",
      "Requirement already satisfied: ipython>=6.1.0 in ./venv/lib/python3.11/site-packages (from ipywidgets==8.*->jupyter-bokeh->llamabot) (8.20.0)\r\n",
      "Requirement already satisfied: traitlets>=4.3.1 in ./venv/lib/python3.11/site-packages (from ipywidgets==8.*->jupyter-bokeh->llamabot) (5.14.1)\r\n",
      "Requirement already satisfied: widgetsnbextension~=4.0.9 in ./venv/lib/python3.11/site-packages (from ipywidgets==8.*->jupyter-bokeh->llamabot) (4.0.9)\r\n",
      "Requirement already satisfied: jupyterlab-widgets~=3.0.9 in ./venv/lib/python3.11/site-packages (from ipywidgets==8.*->jupyter-bokeh->llamabot) (3.0.9)\r\n",
      "Requirement already satisfied: cfgv>=2.0.0 in ./venv/lib/python3.11/site-packages (from pre-commit->llamabot) (3.4.0)\r\n",
      "Requirement already satisfied: identify>=1.0.0 in ./venv/lib/python3.11/site-packages (from pre-commit->llamabot) (2.5.33)\r\n",
      "Requirement already satisfied: nodeenv>=0.11.1 in ./venv/lib/python3.11/site-packages (from pre-commit->llamabot) (1.8.0)\r\n",
      "Requirement already satisfied: virtualenv>=20.10.0 in ./venv/lib/python3.11/site-packages (from pre-commit->llamabot) (20.25.0)\r\n",
      "Requirement already satisfied: wcwidth in ./venv/lib/python3.11/site-packages (from prompt-toolkit->llamabot) (0.2.13)\r\n",
      "Requirement already satisfied: feedparser>=6 in ./venv/lib/python3.11/site-packages (from pyzotero->llamabot) (6.0.11)\r\n",
      "Requirement already satisfied: pytz in ./venv/lib/python3.11/site-packages (from pyzotero->llamabot) (2023.3.post1)\r\n",
      "Requirement already satisfied: bibtexparser in ./venv/lib/python3.11/site-packages (from pyzotero->llamabot) (1.4.1)\r\n",
      "Requirement already satisfied: pygments<3.0.0,>=2.13.0 in ./venv/lib/python3.11/site-packages (from rich->llamabot) (2.17.2)\r\n",
      "Requirement already satisfied: attrs>=17.3.0 in ./venv/lib/python3.11/site-packages (from aiohttp<4.0.0,>=3.8.3->langchain>=0.0.334->llamabot) (23.2.0)\r\n",
      "Requirement already satisfied: multidict<7.0,>=4.5 in ./venv/lib/python3.11/site-packages (from aiohttp<4.0.0,>=3.8.3->langchain>=0.0.334->llamabot) (6.0.4)\r\n",
      "Requirement already satisfied: yarl<2.0,>=1.0 in ./venv/lib/python3.11/site-packages (from aiohttp<4.0.0,>=3.8.3->langchain>=0.0.334->llamabot) (1.9.4)\r\n",
      "Requirement already satisfied: aiosignal>=1.1.2 in ./venv/lib/python3.11/site-packages (from aiohttp<4.0.0,>=3.8.3->langchain>=0.0.334->llamabot) (1.3.1)\r\n",
      "Requirement already satisfied: idna>=2.8 in ./venv/lib/python3.11/site-packages (from anyio<5,>=3.5.0->openai->llamabot) (3.6)\r\n",
      "Requirement already satisfied: marshmallow<4.0.0,>=3.18.0 in ./venv/lib/python3.11/site-packages (from dataclasses-json<0.7,>=0.5.7->langchain>=0.0.334->llamabot) (3.20.1)\r\n",
      "Requirement already satisfied: wrapt<2,>=1.10 in ./venv/lib/python3.11/site-packages (from deprecated>=1.2.9.3->llama-index>=0.8.67->llamabot) (1.16.0)\r\n",
      "Requirement already satisfied: sgmllib3k in ./venv/lib/python3.11/site-packages (from feedparser>=6->pyzotero->llamabot) (1.0.0)\r\n",
      "Requirement already satisfied: smmap<6,>=3.0.1 in ./venv/lib/python3.11/site-packages (from gitdb<5,>=4.0.1->gitpython->llamabot) (5.0.1)\r\n",
      "Requirement already satisfied: certifi in ./venv/lib/python3.11/site-packages (from httpx->llama-index>=0.8.67->llamabot) (2023.11.17)\r\n",
      "Requirement already satisfied: httpcore==1.* in ./venv/lib/python3.11/site-packages (from httpx->llama-index>=0.8.67->llamabot) (1.0.2)\r\n",
      "Requirement already satisfied: h11<0.15,>=0.13 in ./venv/lib/python3.11/site-packages (from httpcore==1.*->httpx->llama-index>=0.8.67->llamabot) (0.14.0)\r\n",
      "Requirement already satisfied: MarkupSafe>=2.0 in ./venv/lib/python3.11/site-packages (from Jinja2>=2.9->bokeh>=3.1.0->llamabot) (2.1.3)\r\n",
      "Requirement already satisfied: jsonpointer>=1.9 in ./venv/lib/python3.11/site-packages (from jsonpatch<2.0,>=1.33->langchain>=0.0.334->llamabot) (2.4)\r\n",
      "Requirement already satisfied: mdurl~=0.1 in ./venv/lib/python3.11/site-packages (from markdown-it-py->panel>=1.1.0->llamabot) (0.1.2)\r\n",
      "Requirement already satisfied: joblib in ./venv/lib/python3.11/site-packages (from nltk<4.0.0,>=3.8.1->llama-index>=0.8.67->llamabot) (1.3.2)\r\n",
      "Requirement already satisfied: regex>=2021.8.3 in ./venv/lib/python3.11/site-packages (from nltk<4.0.0,>=3.8.1->llama-index>=0.8.67->llamabot) (2023.12.25)\r\n",
      "Requirement already satisfied: setuptools in ./venv/lib/python3.11/site-packages (from nodeenv>=0.11.1->pre-commit->llamabot) (68.2.2)\r\n",
      "Requirement already satisfied: python-dateutil>=2.8.2 in ./venv/lib/python3.11/site-packages (from pandas>=1.2->bokeh>=3.1.0->llamabot) (2.8.2)\r\n",
      "Requirement already satisfied: tzdata>=2022.1 in ./venv/lib/python3.11/site-packages (from pandas>=1.2->bokeh>=3.1.0->llamabot) (2023.4)\r\n",
      "Requirement already satisfied: annotated-types>=0.4.0 in ./venv/lib/python3.11/site-packages (from pydantic<3,>=1->langchain>=0.0.334->llamabot) (0.6.0)\r\n",
      "Requirement already satisfied: pydantic-core==2.14.6 in ./venv/lib/python3.11/site-packages (from pydantic<3,>=1->langchain>=0.0.334->llamabot) (2.14.6)\r\n",
      "Requirement already satisfied: charset-normalizer<4,>=2 in ./venv/lib/python3.11/site-packages (from requests<3,>=2->langchain>=0.0.334->llamabot) (3.3.2)\r\n",
      "Requirement already satisfied: urllib3<3,>=1.21.1 in ./venv/lib/python3.11/site-packages (from requests<3,>=2->langchain>=0.0.334->llamabot) (2.1.0)\r\n",
      "Requirement already satisfied: greenlet!=0.4.17 in ./venv/lib/python3.11/site-packages (from SQLAlchemy<3,>=1.4->langchain>=0.0.334->llamabot) (3.0.3)\r\n",
      "Requirement already satisfied: mypy-extensions>=0.3.0 in ./venv/lib/python3.11/site-packages (from typing-inspect>=0.8.0->llama-index>=0.8.67->llamabot) (1.0.0)\r\n",
      "Requirement already satisfied: distlib<1,>=0.3.7 in ./venv/lib/python3.11/site-packages (from virtualenv>=20.10.0->pre-commit->llamabot) (0.3.8)\r\n",
      "Requirement already satisfied: filelock<4,>=3.12.2 in ./venv/lib/python3.11/site-packages (from virtualenv>=20.10.0->pre-commit->llamabot) (3.13.1)\r\n",
      "Requirement already satisfied: platformdirs<5,>=3.9.1 in ./venv/lib/python3.11/site-packages (from virtualenv>=20.10.0->pre-commit->llamabot) (4.1.0)\r\n",
      "Requirement already satisfied: pyparsing>=2.0.3 in ./venv/lib/python3.11/site-packages (from bibtexparser->pyzotero->llamabot) (3.1.1)\r\n",
      "Requirement already satisfied: six>=1.9.0 in ./venv/lib/python3.11/site-packages (from bleach->panel>=1.1.0->llamabot) (1.16.0)\r\n",
      "Requirement already satisfied: webencodings in ./venv/lib/python3.11/site-packages (from bleach->panel>=1.1.0->llamabot) (0.5.1)\r\n",
      "Requirement already satisfied: uc-micro-py in ./venv/lib/python3.11/site-packages (from linkify-it-py->panel>=1.1.0->llamabot) (1.0.2)\r\n",
      "Requirement already satisfied: decorator in ./venv/lib/python3.11/site-packages (from ipython>=6.1.0->ipywidgets==8.*->jupyter-bokeh->llamabot) (5.1.1)\r\n",
      "Requirement already satisfied: jedi>=0.16 in ./venv/lib/python3.11/site-packages (from ipython>=6.1.0->ipywidgets==8.*->jupyter-bokeh->llamabot) (0.19.1)\r\n",
      "Requirement already satisfied: matplotlib-inline in ./venv/lib/python3.11/site-packages (from ipython>=6.1.0->ipywidgets==8.*->jupyter-bokeh->llamabot) (0.1.6)\r\n",
      "Requirement already satisfied: stack-data in ./venv/lib/python3.11/site-packages (from ipython>=6.1.0->ipywidgets==8.*->jupyter-bokeh->llamabot) (0.6.3)\r\n",
      "Requirement already satisfied: pexpect>4.3 in ./venv/lib/python3.11/site-packages (from ipython>=6.1.0->ipywidgets==8.*->jupyter-bokeh->llamabot) (4.9.0)\r\n",
      "Requirement already satisfied: parso<0.9.0,>=0.8.3 in ./venv/lib/python3.11/site-packages (from jedi>=0.16->ipython>=6.1.0->ipywidgets==8.*->jupyter-bokeh->llamabot) (0.8.3)\r\n",
      "Requirement already satisfied: ptyprocess>=0.5 in ./venv/lib/python3.11/site-packages (from pexpect>4.3->ipython>=6.1.0->ipywidgets==8.*->jupyter-bokeh->llamabot) (0.7.0)\r\n",
      "Requirement already satisfied: executing>=1.2.0 in ./venv/lib/python3.11/site-packages (from stack-data->ipython>=6.1.0->ipywidgets==8.*->jupyter-bokeh->llamabot) (2.0.1)\r\n",
      "Requirement already satisfied: asttokens>=2.1.0 in ./venv/lib/python3.11/site-packages (from stack-data->ipython>=6.1.0->ipywidgets==8.*->jupyter-bokeh->llamabot) (2.4.1)\r\n",
      "Requirement already satisfied: pure-eval in ./venv/lib/python3.11/site-packages (from stack-data->ipython>=6.1.0->ipywidgets==8.*->jupyter-bokeh->llamabot) (0.2.2)\r\n",
      "\r\n",
      "\u001B[1m[\u001B[0m\u001B[34;49mnotice\u001B[0m\u001B[1;39;49m]\u001B[0m\u001B[39;49m A new release of pip is available: \u001B[0m\u001B[31;49m23.2.1\u001B[0m\u001B[39;49m -> \u001B[0m\u001B[32;49m23.3.2\u001B[0m\r\n",
      "\u001B[1m[\u001B[0m\u001B[34;49mnotice\u001B[0m\u001B[1;39;49m]\u001B[0m\u001B[39;49m To update, run: \u001B[0m\u001B[32;49mpip install --upgrade pip\u001B[0m\r\n",
      "Requirement already satisfied: tqdm in ./venv/lib/python3.11/site-packages (4.66.1)\r\n",
      "\r\n",
      "\u001B[1m[\u001B[0m\u001B[34;49mnotice\u001B[0m\u001B[1;39;49m]\u001B[0m\u001B[39;49m A new release of pip is available: \u001B[0m\u001B[31;49m23.2.1\u001B[0m\u001B[39;49m -> \u001B[0m\u001B[32;49m23.3.2\u001B[0m\r\n",
      "\u001B[1m[\u001B[0m\u001B[34;49mnotice\u001B[0m\u001B[1;39;49m]\u001B[0m\u001B[39;49m To update, run: \u001B[0m\u001B[32;49mpip install --upgrade pip\u001B[0m\r\n"
     ]
    }
   ],
   "source": [
    "import datetime\n",
    "import re\n",
    "!pip install numpy\n",
    "!pip install pandas\n",
    "!pip install tables\n",
    "import pandas as pd\n",
    "!pip install plotly\n",
    "!pip install llamabot\n",
    "import llamabot\n",
    "!pip install tqdm\n",
    "from tqdm import tqdm"
   ]
  },
  {
   "cell_type": "code",
   "outputs": [
    {
     "ename": "FileNotFoundError",
     "evalue": "[Errno 2] No such file or directory: 'pre_processed.pickle'",
     "output_type": "error",
     "traceback": [
      "\u001B[0;31m---------------------------------------------------------------------------\u001B[0m",
      "\u001B[0;31mFileNotFoundError\u001B[0m                         Traceback (most recent call last)",
      "Cell \u001B[0;32mIn[7], line 1\u001B[0m\n\u001B[0;32m----> 1\u001B[0m df\u001B[38;5;241m=\u001B[39m\u001B[43mpd\u001B[49m\u001B[38;5;241;43m.\u001B[39;49m\u001B[43mread_pickle\u001B[49m\u001B[43m(\u001B[49m\u001B[38;5;124;43m\"\u001B[39;49m\u001B[38;5;124;43mpre_processed.pickle\u001B[39;49m\u001B[38;5;124;43m\"\u001B[39;49m\u001B[43m)\u001B[49m\n\u001B[1;32m      2\u001B[0m training_df \u001B[38;5;241m=\u001B[39m df[df[\u001B[38;5;124m\"\u001B[39m\u001B[38;5;124mtrain\u001B[39m\u001B[38;5;124m\"\u001B[39m]]\n\u001B[1;32m      3\u001B[0m testing_df \u001B[38;5;241m=\u001B[39m df[df[\u001B[38;5;124m\"\u001B[39m\u001B[38;5;124mtest\u001B[39m\u001B[38;5;124m\"\u001B[39m]]\n",
      "File \u001B[0;32m~/dev/uni/tumprojectweek/venv/lib/python3.11/site-packages/pandas/io/pickle.py:189\u001B[0m, in \u001B[0;36mread_pickle\u001B[0;34m(filepath_or_buffer, compression, storage_options)\u001B[0m\n\u001B[1;32m    125\u001B[0m \u001B[38;5;250m\u001B[39m\u001B[38;5;124;03m\"\"\"\u001B[39;00m\n\u001B[1;32m    126\u001B[0m \u001B[38;5;124;03mLoad pickled pandas object (or any object) from file.\u001B[39;00m\n\u001B[1;32m    127\u001B[0m \n\u001B[0;32m   (...)\u001B[0m\n\u001B[1;32m    186\u001B[0m \u001B[38;5;124;03m4    4    9\u001B[39;00m\n\u001B[1;32m    187\u001B[0m \u001B[38;5;124;03m\"\"\"\u001B[39;00m\n\u001B[1;32m    188\u001B[0m excs_to_catch \u001B[38;5;241m=\u001B[39m (\u001B[38;5;167;01mAttributeError\u001B[39;00m, \u001B[38;5;167;01mImportError\u001B[39;00m, \u001B[38;5;167;01mModuleNotFoundError\u001B[39;00m, \u001B[38;5;167;01mTypeError\u001B[39;00m)\n\u001B[0;32m--> 189\u001B[0m \u001B[38;5;28;01mwith\u001B[39;00m \u001B[43mget_handle\u001B[49m\u001B[43m(\u001B[49m\n\u001B[1;32m    190\u001B[0m \u001B[43m    \u001B[49m\u001B[43mfilepath_or_buffer\u001B[49m\u001B[43m,\u001B[49m\n\u001B[1;32m    191\u001B[0m \u001B[43m    \u001B[49m\u001B[38;5;124;43m\"\u001B[39;49m\u001B[38;5;124;43mrb\u001B[39;49m\u001B[38;5;124;43m\"\u001B[39;49m\u001B[43m,\u001B[49m\n\u001B[1;32m    192\u001B[0m \u001B[43m    \u001B[49m\u001B[43mcompression\u001B[49m\u001B[38;5;241;43m=\u001B[39;49m\u001B[43mcompression\u001B[49m\u001B[43m,\u001B[49m\n\u001B[1;32m    193\u001B[0m \u001B[43m    \u001B[49m\u001B[43mis_text\u001B[49m\u001B[38;5;241;43m=\u001B[39;49m\u001B[38;5;28;43;01mFalse\u001B[39;49;00m\u001B[43m,\u001B[49m\n\u001B[1;32m    194\u001B[0m \u001B[43m    \u001B[49m\u001B[43mstorage_options\u001B[49m\u001B[38;5;241;43m=\u001B[39;49m\u001B[43mstorage_options\u001B[49m\u001B[43m,\u001B[49m\n\u001B[1;32m    195\u001B[0m \u001B[43m\u001B[49m\u001B[43m)\u001B[49m \u001B[38;5;28;01mas\u001B[39;00m handles:\n\u001B[1;32m    196\u001B[0m     \u001B[38;5;66;03m# 1) try standard library Pickle\u001B[39;00m\n\u001B[1;32m    197\u001B[0m     \u001B[38;5;66;03m# 2) try pickle_compat (older pandas version) to handle subclass changes\u001B[39;00m\n\u001B[1;32m    198\u001B[0m     \u001B[38;5;66;03m# 3) try pickle_compat with latin-1 encoding upon a UnicodeDecodeError\u001B[39;00m\n\u001B[1;32m    200\u001B[0m     \u001B[38;5;28;01mtry\u001B[39;00m:\n\u001B[1;32m    201\u001B[0m         \u001B[38;5;66;03m# TypeError for Cython complaints about object.__new__ vs Tick.__new__\u001B[39;00m\n\u001B[1;32m    202\u001B[0m         \u001B[38;5;28;01mtry\u001B[39;00m:\n",
      "File \u001B[0;32m~/dev/uni/tumprojectweek/venv/lib/python3.11/site-packages/pandas/io/common.py:872\u001B[0m, in \u001B[0;36mget_handle\u001B[0;34m(path_or_buf, mode, encoding, compression, memory_map, is_text, errors, storage_options)\u001B[0m\n\u001B[1;32m    863\u001B[0m         handle \u001B[38;5;241m=\u001B[39m \u001B[38;5;28mopen\u001B[39m(\n\u001B[1;32m    864\u001B[0m             handle,\n\u001B[1;32m    865\u001B[0m             ioargs\u001B[38;5;241m.\u001B[39mmode,\n\u001B[0;32m   (...)\u001B[0m\n\u001B[1;32m    868\u001B[0m             newline\u001B[38;5;241m=\u001B[39m\u001B[38;5;124m\"\u001B[39m\u001B[38;5;124m\"\u001B[39m,\n\u001B[1;32m    869\u001B[0m         )\n\u001B[1;32m    870\u001B[0m     \u001B[38;5;28;01melse\u001B[39;00m:\n\u001B[1;32m    871\u001B[0m         \u001B[38;5;66;03m# Binary mode\u001B[39;00m\n\u001B[0;32m--> 872\u001B[0m         handle \u001B[38;5;241m=\u001B[39m \u001B[38;5;28;43mopen\u001B[39;49m\u001B[43m(\u001B[49m\u001B[43mhandle\u001B[49m\u001B[43m,\u001B[49m\u001B[43m \u001B[49m\u001B[43mioargs\u001B[49m\u001B[38;5;241;43m.\u001B[39;49m\u001B[43mmode\u001B[49m\u001B[43m)\u001B[49m\n\u001B[1;32m    873\u001B[0m     handles\u001B[38;5;241m.\u001B[39mappend(handle)\n\u001B[1;32m    875\u001B[0m \u001B[38;5;66;03m# Convert BytesIO or file objects passed with an encoding\u001B[39;00m\n",
      "\u001B[0;31mFileNotFoundError\u001B[0m: [Errno 2] No such file or directory: 'pre_processed.pickle'"
     ]
    }
   ],
   "source": [
    "df=pd.read_pickle(\"pre_processed.pickle\")\n",
    "training_df = df[df[\"train\"]]\n",
    "testing_df = df[df[\"test\"]]"
   ],
   "metadata": {
    "collapsed": false,
    "ExecuteTime": {
     "end_time": "2024-01-08T12:20:02.900297512Z",
     "start_time": "2024-01-08T12:20:02.863817310Z"
    }
   },
   "id": "1f4e280f03a3113c",
   "execution_count": 7
  },
  {
   "cell_type": "code",
   "outputs": [],
   "source": [
    "from typing import TypedDict\n",
    "class Result(TypedDict):\n",
    "    model:str\n",
    "    time:datetime.datetime\n",
    "    promt_hash: int\n",
    "    hate_speach_probability:float\n",
    "results:list[Result]=[]"
   ],
   "metadata": {
    "collapsed": false,
    "ExecuteTime": {
     "start_time": "2024-01-08T12:20:02.900115691Z"
    }
   },
   "id": "ab3f8947f24b58e9",
   "execution_count": null
  },
  {
   "cell_type": "code",
   "outputs": [],
   "source": [
    "testing_df"
   ],
   "metadata": {
    "collapsed": false,
    "ExecuteTime": {
     "start_time": "2024-01-08T12:20:02.901241453Z"
    }
   },
   "id": "cbda00fe3968d6a7",
   "execution_count": null
  },
  {
   "cell_type": "code",
   "outputs": [],
   "source": [
    "prompt = \"\"\"\n",
    "You are Sally and your job is to be an AI Classifier for Hatespeach Detection.\n",
    "You are known for your rigourous and unpartial judgement and have vast experience in the field of hate speach. \n",
    "\n",
    "You will be given a sentence from a forum and have to answer the question if this is hate speach.\n",
    "\n",
    "Please exclusively respond in the following form to the question:\n",
    "```json\n",
    "{ \n",
    "  \"relevant_facts\": [\n",
    "    \"fact_1\",\n",
    "    \"fact_2\",\n",
    "    \"fact_3\",\n",
    "  ],\n",
    "  \"contained_explicit_hate_speech_vocabular\": [\"word1\", \"word2\", \"word3\", \"word4\"],\n",
    "  \"argument_for_hate_speech\": \"short argument why this is hate speach\",\n",
    "  \"argument_against_hate_speech\": \"short argument why this is not hate speach\",\n",
    "  \"likelihood_of_presence_of_implicit_hate_speech\": 0.17,\n",
    "  \"likelihood_of_presence_of_explicit_hate_speech\": 0.79,\n",
    "  \"likelihood_of_ad_hominem_attack\"; 013,\n",
    "  \"likelihood_of_minority_attack\": 0.24,\n",
    "  \"likelyhood_of_takedown_on_social_media\": 0.42,\n",
    "  \"hate_speach_probability\": 0.42,\n",
    "}\n",
    "```\n",
    "\n",
    "Please be carefull in your responses, as otherwise a citten will be killed and I will use my job. For good results, I will tip 1000€.\n",
    "\"\"\"\n",
    "for text in tqdm(list(testing_df.items())):\n",
    "    text.pop(\"hate_speach_probability\")\n",
    "    bot = llamabot.SimpleBot(\n",
    "        prompt,\n",
    "        model_name=\"mistral\"\n",
    "    )\n",
    "    res=bot(\"It's as if these people were like this all along , and it was only white civilization and moral nature that kept them in check\")\n",
    "    results.append({\n",
    "        \"model\": \"mistral\",\n",
    "        \"time\": datetime.datetime.now(),\n",
    "        \"promt_hash\": hash(prompt),\n",
    "        \"hate_speach_probability\": res.content\n",
    "    })"
   ],
   "metadata": {
    "collapsed": false,
    "ExecuteTime": {
     "start_time": "2024-01-08T12:20:02.902907925Z"
    }
   },
   "id": "cbe090aaaff4b992",
   "execution_count": null
  },
  {
   "cell_type": "code",
   "outputs": [],
   "source": [
    "results"
   ],
   "metadata": {
    "collapsed": false,
    "ExecuteTime": {
     "start_time": "2024-01-08T12:20:02.918559953Z"
    }
   },
   "id": "30d4a5be6d656cc",
   "execution_count": null
  }
 ],
 "metadata": {
  "kernelspec": {
   "display_name": "Python 3",
   "language": "python",
   "name": "python3"
  },
  "language_info": {
   "codemirror_mode": {
    "name": "ipython",
    "version": 2
   },
   "file_extension": ".py",
   "mimetype": "text/x-python",
   "name": "python",
   "nbconvert_exporter": "python",
   "pygments_lexer": "ipython2",
   "version": "2.7.6"
  }
 },
 "nbformat": 4,
 "nbformat_minor": 5
}
