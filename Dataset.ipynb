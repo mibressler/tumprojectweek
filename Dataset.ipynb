{
 "cells": [
  {
   "cell_type": "markdown",
   "id": "e3534428",
   "metadata": {},
   "source": [
    "# Dataset"
   ]
  },
  {
   "cell_type": "markdown",
   "id": "6f74a97c",
   "metadata": {},
   "source": [
    "In the context of our project, we will utilize two datasets containing instances of hate speech. The first dataset (easy) consists of **textual data** sourced from a white supremacist forum. In contrast, the second dataset (difficult) comprises **images and textual content**, focusing on harmful memes. Students are free to choose which dataset to employ for task completion."
   ]
  },
  {
   "cell_type": "markdown",
   "id": "0b6a0229",
   "metadata": {},
   "source": [
    "## 1. Hate Speech Dataset from a White Supremacy Forum"
   ]
  },
  {
   "cell_type": "markdown",
   "id": "5cae2a98",
   "metadata": {},
   "source": [
    "This dataset comprises text extracted from the white supremacist forum Stormfront. A random selection of forum posts from several sub-forums was taken, and these posts were subsequently divided into sentences. Following specific annotation guidelines, these sentences have been manually labeled to indicate whether they contain hate speech or not. \n",
    "\n",
    "**Target:** Train a detector to classify which texts are harmful or unharmful.\n",
    "\n",
    "Students can refer to [the original paper](https://aclanthology.org/W18-5102.pdf) for further details and instructions. The dataset is available [here](https://github.com/Vicomtech/hate-speech-dataset). "
   ]
  },
  {
   "cell_type": "markdown",
   "id": "f06f6473",
   "metadata": {},
   "source": [
    "## 2. Harmful Memes"
   ]
  },
  {
   "cell_type": "markdown",
   "id": "a15a1c68",
   "metadata": {},
   "source": [
    "Among the various modes of communication in social media, the utilization of internet memes has emerged as a potent means for conveying political, psychological, and socio-cultural perspectives. Although memes typically exhibit humor, recent years have witnessed a proliferation of harmful memes targeting diverse social entities. This dataset comprises 3,544 memes related to COVID-19. Each meme underwent a rigorous two-stage annotation process. In the first stage, memes were categorized as very harmful, somewhat harmful, or not harmful. In the second stage, annotations were further extended to specify the target(s) to which each harmful meme is directed: individuals, organizations, communities, or society/general public/others. \n",
    "\n",
    "**Target:** Train a detector to classify which texts are harmful, somewhat harmful or not harmful. Furthermore, students should further categorize the target type to which each harmful meme is directed: individual, organization, community, or society.\n",
    "\n",
    "Students can refer to [the original paper](https://arxiv.org/pdf/2110.00413.pdf) for further details and instructions. The dataset is available [here](https://github.com/di-dimitrov/mmf/blob/master/data/datasets/memes/defaults/annotations/train.jsonl). "
   ]
  }
 ],
 "metadata": {
  "kernelspec": {
   "display_name": "Python 3 (ipykernel)",
   "language": "python",
   "name": "python3"
  },
  "language_info": {
   "codemirror_mode": {
    "name": "ipython",
    "version": 3
   },
   "file_extension": ".py",
   "mimetype": "text/x-python",
   "name": "python",
   "nbconvert_exporter": "python",
   "pygments_lexer": "ipython3",
   "version": "3.9.13"
  }
 },
 "nbformat": 4,
 "nbformat_minor": 5
}
